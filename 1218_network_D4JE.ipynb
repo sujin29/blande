{
 "cells": [
  {
   "cell_type": "code",
   "execution_count": 1,
   "metadata": {},
   "outputs": [],
   "source": [
    "import pandas as pd\n",
    "import numpy as np\n",
    "import re\n",
    "import networkx as nx\n",
    "import matplotlib.pyplot as plt"
   ]
  },
  {
   "cell_type": "code",
   "execution_count": 2,
   "metadata": {},
   "outputs": [],
   "source": [
    "# 한글 폰트 문제 해결\n",
    "import platform\n",
    "\n",
    "from matplotlib import font_manager, rc\n",
    "# plt.rcParams['axes.unicode_minus'] = False\n",
    "\n",
    "if platform.system() == 'Darwin':\n",
    "    rc('font', family='AppleGothic')\n",
    "elif platform.system() == 'Windows':\n",
    "    path = \"c:/Windows/Fonts/malgun.ttf\"\n",
    "    font_name = font_manager.FontProperties(fname=path).get_name()\n",
    "    rc('font', family=font_name)\n",
    "else:\n",
    "    print('Unknown system... sorry~~~~') "
   ]
  },
  {
   "cell_type": "code",
   "execution_count": 3,
   "metadata": {},
   "outputs": [],
   "source": [
    "# DJE = pd.read_csv('./magazine/final/DJE_adfn_2.csv', encoding = 'utf-8', sep = '|')"
   ]
  },
  {
   "cell_type": "code",
   "execution_count": 110,
   "metadata": {},
   "outputs": [],
   "source": [
    "# DJE['ADFN_2'] = DJE['ADFN_2'].str.replace('[', '').str.replace(']', '').str.replace(\"'\", \"\").str.split(', ')"
   ]
  },
  {
   "cell_type": "code",
   "execution_count": 111,
   "metadata": {},
   "outputs": [],
   "source": [
    "# DJE['ADFN_2']"
   ]
  },
  {
   "cell_type": "markdown",
   "metadata": {},
   "source": [
    "### 5"
   ]
  },
  {
   "cell_type": "code",
   "execution_count": 112,
   "metadata": {},
   "outputs": [],
   "source": [
    "# D5JE = pd.read_csv('./magazine/final/D5JE_adfn_2.csv', encoding = 'utf-8', sep = '|')"
   ]
  },
  {
   "cell_type": "code",
   "execution_count": 113,
   "metadata": {},
   "outputs": [],
   "source": [
    "# D5JE['ADFN_2'] = D5JE['ADFN_2'].str.replace('[', '').str.replace(']', '').str.replace(\"'\", \"\").str.split(', ')"
   ]
  },
  {
   "cell_type": "code",
   "execution_count": 114,
   "metadata": {},
   "outputs": [
    {
     "data": {
      "text/plain": [
       "0      [빈티지, 패션, 좋, 느, 좋, 당시, 사랑, 사랑, 나의, 물건, 새롭, 사랑,...\n",
       "1      [DIOR, 론, DIOR, TALK, 예술, 문화, 사회, 아우르, 주제, 화두,...\n",
       "2      [나이, DIOR, 소문, 나이키, DIOR, COLLABORATION, 드러내, ...\n",
       "3      [자유, 분방, 보헤미안, 마음, 훔치, 이브, 인기, DIOR, 반, 다나, 스타...\n",
       "4      [세계, 무대, 서, 코리아, 모델, 이름, 김설희, 신호탄, 런던, 밀, 리아, ...\n",
       "                             ...                        \n",
       "698    [서로, 팬임, 인증, 두, 스타, BLACKPINK, 세레나, 고메즈, 함께한, ...\n",
       "699    [내셔널, 아이스크림, 데이, 기념, BLACKPINK, 귀여운, 포스팅, 제니, ...\n",
       "700    [한국, 신진, 디자이너, 하이, 패션, 브랜드, 섭렵, 블핑, BLACKPINK,...\n",
       "701    [BLACKPINK, 로제, 리사, 지수, 솔로, 곡, 발매, 된다, 오는, 첫, ...\n",
       "702    [K, 팝, 그룹, 최초, BLACKPINK, 뚜두뚜두, DDU, DU, DDU, ...\n",
       "Name: ADFN_2, Length: 703, dtype: object"
      ]
     },
     "execution_count": 114,
     "metadata": {},
     "output_type": "execute_result"
    }
   ],
   "source": [
    "# D5JE['ADFN_2']"
   ]
  },
  {
   "cell_type": "markdown",
   "metadata": {},
   "source": [
    "### 4"
   ]
  },
  {
   "cell_type": "code",
   "execution_count": 40,
   "metadata": {},
   "outputs": [],
   "source": [
    "D4JE = pd.read_csv('./magazine/final/D4JE_adfn_2.csv', encoding = 'utf-8', sep = '|')"
   ]
  },
  {
   "cell_type": "code",
   "execution_count": 41,
   "metadata": {},
   "outputs": [],
   "source": [
    "D4JE['ADFN_2'] = D4JE['ADFN_2'].str.replace('[', '').str.replace(']', '').str.replace(\"'\", \"\").str.split(', ')"
   ]
  },
  {
   "cell_type": "code",
   "execution_count": 42,
   "metadata": {},
   "outputs": [
    {
     "data": {
      "text/plain": [
       "0      [빈티지, 패션, 좋, 느, 좋, 당시, 사랑, 사랑, 나의, 물건, 새롭, 사랑,...\n",
       "1      [실크, 슬리브리스, 블랙, 와이드, 팬츠, 김, 룡, HOMME, 블랙, 부츠, ...\n",
       "2            [슈트, 스니커즈, 목걸이, 팔찌, 반지, DIOR, 맨, DIOR, MEN]\n",
       "3      [성희, 니트, 원피스, 베네, BOTTEGA, VENETA, 윤, 민, 니트, 엠...\n",
       "4      [예쁘, 여자, 궁금해하, 곳, 세포, 라가, 한국, 상륙, 첫날, 포라, 곳곳, ...\n",
       "                             ...                        \n",
       "786    [서로, 팬임, 인증, 두, 스타, BLACKPINK, 세레나, 고메즈, 함께한, ...\n",
       "787    [내셔널, 아이스크림, 데이, 기념, BLACKPINK, 귀엽다, 포스팅, 제니, ...\n",
       "788    [한국, 신진, 디자이너, 하이, 패션, 브랜드, 섭렵, 블핑, BLACKPINK,...\n",
       "789    [BLACKPINK, 로제, 리사, 지수, 솔로, 곡, 발매, 된다, 오는, 첫, ...\n",
       "790    [K, 팝, 그룹, 최초, BLACKPINK, 뚜두뚜두, DDU, DU, DDU, ...\n",
       "Name: ADFN_2, Length: 791, dtype: object"
      ]
     },
     "execution_count": 42,
     "metadata": {},
     "output_type": "execute_result"
    }
   ],
   "source": [
    "D4JE['ADFN_2']"
   ]
  },
  {
   "cell_type": "code",
   "execution_count": null,
   "metadata": {},
   "outputs": [],
   "source": []
  },
  {
   "cell_type": "code",
   "execution_count": null,
   "metadata": {},
   "outputs": [],
   "source": []
  },
  {
   "cell_type": "markdown",
   "metadata": {},
   "source": [
    "### top50 리스트 생성"
   ]
  },
  {
   "cell_type": "code",
   "execution_count": 43,
   "metadata": {},
   "outputs": [],
   "source": [
    "top500 = pd.read_csv('./D4JE_top500.csv', sep='|', encoding = 'utf-8')"
   ]
  },
  {
   "cell_type": "code",
   "execution_count": 44,
   "metadata": {},
   "outputs": [
    {
     "data": {
      "text/html": [
       "<div>\n",
       "<style scoped>\n",
       "    .dataframe tbody tr th:only-of-type {\n",
       "        vertical-align: middle;\n",
       "    }\n",
       "\n",
       "    .dataframe tbody tr th {\n",
       "        vertical-align: top;\n",
       "    }\n",
       "\n",
       "    .dataframe thead th {\n",
       "        text-align: right;\n",
       "    }\n",
       "</style>\n",
       "<table border=\"1\" class=\"dataframe\">\n",
       "  <thead>\n",
       "    <tr style=\"text-align: right;\">\n",
       "      <th></th>\n",
       "      <th>word</th>\n",
       "      <th>count</th>\n",
       "    </tr>\n",
       "  </thead>\n",
       "  <tbody>\n",
       "    <tr>\n",
       "      <th>0</th>\n",
       "      <td>제니</td>\n",
       "      <td>9276</td>\n",
       "    </tr>\n",
       "    <tr>\n",
       "      <th>1</th>\n",
       "      <td>귀엽다</td>\n",
       "      <td>2241</td>\n",
       "    </tr>\n",
       "    <tr>\n",
       "      <th>2</th>\n",
       "      <td>예쁘다</td>\n",
       "      <td>1817</td>\n",
       "    </tr>\n",
       "    <tr>\n",
       "      <th>3</th>\n",
       "      <td>DIOR</td>\n",
       "      <td>1227</td>\n",
       "    </tr>\n",
       "    <tr>\n",
       "      <th>4</th>\n",
       "      <td>사랑</td>\n",
       "      <td>854</td>\n",
       "    </tr>\n",
       "    <tr>\n",
       "      <th>...</th>\n",
       "      <td>...</td>\n",
       "      <td>...</td>\n",
       "    </tr>\n",
       "    <tr>\n",
       "      <th>495</th>\n",
       "      <td>꿈</td>\n",
       "      <td>40</td>\n",
       "    </tr>\n",
       "    <tr>\n",
       "      <th>496</th>\n",
       "      <td>심플</td>\n",
       "      <td>40</td>\n",
       "    </tr>\n",
       "    <tr>\n",
       "      <th>497</th>\n",
       "      <td>다리</td>\n",
       "      <td>40</td>\n",
       "    </tr>\n",
       "    <tr>\n",
       "      <th>498</th>\n",
       "      <td>오후</td>\n",
       "      <td>40</td>\n",
       "    </tr>\n",
       "    <tr>\n",
       "      <th>499</th>\n",
       "      <td>축하</td>\n",
       "      <td>40</td>\n",
       "    </tr>\n",
       "  </tbody>\n",
       "</table>\n",
       "<p>500 rows × 2 columns</p>\n",
       "</div>"
      ],
      "text/plain": [
       "     word  count\n",
       "0      제니   9276\n",
       "1     귀엽다   2241\n",
       "2     예쁘다   1817\n",
       "3    DIOR   1227\n",
       "4      사랑    854\n",
       "..    ...    ...\n",
       "495     꿈     40\n",
       "496    심플     40\n",
       "497    다리     40\n",
       "498    오후     40\n",
       "499    축하     40\n",
       "\n",
       "[500 rows x 2 columns]"
      ]
     },
     "execution_count": 44,
     "metadata": {},
     "output_type": "execute_result"
    }
   ],
   "source": [
    "top500"
   ]
  },
  {
   "cell_type": "code",
   "execution_count": 45,
   "metadata": {},
   "outputs": [
    {
     "name": "stdout",
     "output_type": "stream",
     "text": [
      "30\n",
      "['제니', '귀엽다', '예쁘다', 'DIOR', '사랑', '얼굴', '패션', '무대', '노래', '매력', '옷', '잘', '아이돌', '스타일', '최고', nan, '컬렉션', '젠득', '룩', '여자', '컬러', '느낌', '팬', 'CHANEL', '실력', '영어', '눈', '드레스', '브랜드', '앞머리']\n"
     ]
    }
   ],
   "source": [
    "top30 = []\n",
    "for i in range(30):\n",
    "    top30.append(top500.loc[i, 'word'])\n",
    "    \n",
    "print(len(top30))\n",
    "print(top30)"
   ]
  },
  {
   "cell_type": "code",
   "execution_count": 46,
   "metadata": {},
   "outputs": [
    {
     "name": "stdout",
     "output_type": "stream",
     "text": [
      "50\n",
      "['제니', '귀엽다', '예쁘다', 'DIOR', '사랑', '얼굴', '패션', '무대', '노래', '매력', '옷', '잘', '아이돌', '스타일', '최고', nan, '컬렉션', '젠득', '룩', '여자', '컬러', '느낌', '팬', 'CHANEL', '실력', '영어', '눈', '드레스', '브랜드', '앞머리', '예능', '랩', '모습', '춤', '블랙', '백', '티', '목소리', '분위기', '쇼', '표정', '고급', '여성', '의상', '공주', '멤버', '모델', '디자이너', '발음', '장식']\n"
     ]
    }
   ],
   "source": [
    "top50 = []\n",
    "for i in range(50):\n",
    "    top50.append(top500.loc[i, 'word'])\n",
    "    \n",
    "print(len(top50))\n",
    "print(top50)"
   ]
  },
  {
   "cell_type": "markdown",
   "metadata": {},
   "source": [
    "### top100"
   ]
  },
  {
   "cell_type": "code",
   "execution_count": 47,
   "metadata": {},
   "outputs": [
    {
     "name": "stdout",
     "output_type": "stream",
     "text": [
      "100\n",
      "['제니', '귀엽다', '예쁘다', 'DIOR', '사랑', '얼굴', '패션', '무대', '노래', '매력', '옷', '잘', '아이돌', '스타일', '최고', nan, '컬렉션', '젠득', '룩', '여자', '컬러', '느낌', '팬', 'CHANEL', '실력', '영어', '눈', '드레스', '브랜드', '앞머리', '예능', '랩', '모습', '춤', '블랙', '백', '티', '목소리', '분위기', '쇼', '표정', '고급', '여성', '의상', '공주', '멤버', '모델', '디자이너', '발음', '장식', '연예인', '자체', '라이브', '한국', '치마', '사랑스럽다', '포인트', '세상', '팬츠', '재킷', '입덕', '레드', '인간', '제일', '좋다', '라인', '스타', 'DESIGN', '아이템', '썸네일', '시즌', '애기', '스타일링', '연출', '레전드', '외모', '좋겠다', '화이트', '쿠마', '완성', '파리', '선택', '마음', '매치', '인기', '가수', '메이크업', '솔로', '나도', '봄', '그룹', '세계', '멋있다', '하우스', '이미지', 'MARIA', '남자', '소화', '디렉터', '웃기']\n"
     ]
    }
   ],
   "source": [
    "top100 = []\n",
    "for i in range(100):\n",
    "    top100.append(top500.loc[i, 'word'])\n",
    "    \n",
    "print(len(top100))\n",
    "print(top100)"
   ]
  },
  {
   "cell_type": "code",
   "execution_count": 48,
   "metadata": {},
   "outputs": [
    {
     "name": "stdout",
     "output_type": "stream",
     "text": [
      "200\n",
      "['제니', '귀엽다', '예쁘다', 'DIOR', '사랑', '얼굴', '패션', '무대', '노래', '매력', '옷', '잘', '아이돌', '스타일', '최고', nan, '컬렉션', '젠득', '룩', '여자', '컬러', '느낌', '팬', 'CHANEL', '실력', '영어', '눈', '드레스', '브랜드', '앞머리', '예능', '랩', '모습', '춤', '블랙', '백', '티', '목소리', '분위기', '쇼', '표정', '고급', '여성', '의상', '공주', '멤버', '모델', '디자이너', '발음', '장식', '연예인', '자체', '라이브', '한국', '치마', '사랑스럽다', '포인트', '세상', '팬츠', '재킷', '입덕', '레드', '인간', '제일', '좋다', '라인', '스타', 'DESIGN', '아이템', '썸네일', '시즌', '애기', '스타일링', '연출', '레전드', '외모', '좋겠다', '화이트', '쿠마', '완성', '파리', '선택', '마음', '매치', '인기', '가수', '메이크업', '솔로', '나도', '봄', '그룹', '세계', '멋있다', '하우스', '이미지', 'MARIA', '남자', '소화', '디렉터', '웃기', '탑', '대', '코디', '착용', 'YG', '데뷔', '스커트', '한번', '제발', '활동', '고양이', '많은', '공개', '패턴', '진', '몸매', '가장', '데님', '미쳤다', '블링크', '누가', '소재', '시크', '미국', '톱', '아티스트', '곱창', '사실', '영화', '입술', '한편', '영감', '까', '타팬', '살', '관심', '손', '볼', '심장', '앤', '티셔츠', '컴백', '성격', '마지막', '순간', '작품', '핑크', 'LADY', '보러', '울', '하이틴', '밴드', 'CHRISTIAN', '젠', '니트', '하루', '소리', '검색', '걸그룹', '코트', '좋아요', 'CREATIVE', '입고', '끝', '화보', '집', '키', '와이지', '좋아데', '어깨', '가방', '참석', '강아지', '미친', '찰떡', '음악', '여름', '빛', '셔츠', 'u', '유행', '남', '젤', '기분', '애교', '카리스마', '미모', 'HOMME', '톤', '선글라스', '한국인', '트와이스', '트렌드', '점', '트', '입', '큰', '웨어', '노트', '몸']\n"
     ]
    }
   ],
   "source": [
    "top200 = []\n",
    "for i in range(200):\n",
    "    top200.append(top500.loc[i, 'word'])\n",
    "    \n",
    "print(len(top200))\n",
    "print(top200)"
   ]
  },
  {
   "cell_type": "code",
   "execution_count": 49,
   "metadata": {},
   "outputs": [
    {
     "name": "stdout",
     "output_type": "stream",
     "text": [
      "300\n",
      "['제니', '귀엽다', '예쁘다', 'DIOR', '사랑', '얼굴', '패션', '무대', '노래', '매력', '옷', '잘', '아이돌', '스타일', '최고', nan, '컬렉션', '젠득', '룩', '여자', '컬러', '느낌', '팬', 'CHANEL', '실력', '영어', '눈', '드레스', '브랜드', '앞머리', '예능', '랩', '모습', '춤', '블랙', '백', '티', '목소리', '분위기', '쇼', '표정', '고급', '여성', '의상', '공주', '멤버', '모델', '디자이너', '발음', '장식', '연예인', '자체', '라이브', '한국', '치마', '사랑스럽다', '포인트', '세상', '팬츠', '재킷', '입덕', '레드', '인간', '제일', '좋다', '라인', '스타', 'DESIGN', '아이템', '썸네일', '시즌', '애기', '스타일링', '연출', '레전드', '외모', '좋겠다', '화이트', '쿠마', '완성', '파리', '선택', '마음', '매치', '인기', '가수', '메이크업', '솔로', '나도', '봄', '그룹', '세계', '멋있다', '하우스', '이미지', 'MARIA', '남자', '소화', '디렉터', '웃기', '탑', '대', '코디', '착용', 'YG', '데뷔', '스커트', '한번', '제발', '활동', '고양이', '많은', '공개', '패턴', '진', '몸매', '가장', '데님', '미쳤다', '블링크', '누가', '소재', '시크', '미국', '톱', '아티스트', '곱창', '사실', '영화', '입술', '한편', '영감', '까', '타팬', '살', '관심', '손', '볼', '심장', '앤', '티셔츠', '컴백', '성격', '마지막', '순간', '작품', '핑크', 'LADY', '보러', '울', '하이틴', '밴드', 'CHRISTIAN', '젠', '니트', '하루', '소리', '검색', '걸그룹', '코트', '좋아요', 'CREATIVE', '입고', '끝', '화보', '집', '키', '와이지', '좋아데', '어깨', '가방', '참석', '강아지', '미친', '찰떡', '음악', '여름', '빛', '셔츠', 'u', '유행', '남', '젤', '기분', '애교', '카리스마', '미모', 'HOMME', '톤', '선글라스', '한국인', '트와이스', '트렌드', '점', '트', '입', '큰', '웨어', '노트', '몸', '어쩜', 'yg', '양갈래', '프랑스', '미니', '감', '짱', '바지', '액세서리', '시몬스', '곡', '어울리는', '무드', '슈트', '의미', '클래식', '비주얼', '명', '아름다운', '썸넬', 'JONES', '얼', '사용', '뮤비', '모음', '스니커즈', '원피스', 'KIM', '올해', '기여', '감사합니다', '드', '길이', '본', '차이', '응원', '입은', 'SADDLE', '곳', '이후', '실제', '기억', '공항', '꼭', '시작', '회수', '시선', '실루엣', '부', '촬영', '엄마', '남성복', '보기', '만', '미', '슈즈', '프린트', '리스트', '해석', '회사', '명품', '막', '볼때', '비', '콘서트', '새', '글', '호', 'COUTURE', '활용', '선', '달', '니', '논란', '수가', '헐', '다해', '말투', '제목', '해외', '있는데', '없어', '해주세요', '친구', '파', '끼', '알았는데', '해야', '보이는', '보니', '볼살', '자꾸', '시절', '허리', '머', '웃음', '됨', '아주', '척', '땐']\n"
     ]
    }
   ],
   "source": [
    "top300 = []\n",
    "for i in range(300):\n",
    "    top300.append(top500.loc[i, 'word'])\n",
    "    \n",
    "print(len(top300))\n",
    "print(top300)"
   ]
  },
  {
   "cell_type": "code",
   "execution_count": 50,
   "metadata": {},
   "outputs": [
    {
     "name": "stdout",
     "output_type": "stream",
     "text": [
      "500\n",
      "['제니', '귀엽다', '예쁘다', 'DIOR', '사랑', '얼굴', '패션', '무대', '노래', '매력', '옷', '잘', '아이돌', '스타일', '최고', nan, '컬렉션', '젠득', '룩', '여자', '컬러', '느낌', '팬', 'CHANEL', '실력', '영어', '눈', '드레스', '브랜드', '앞머리', '예능', '랩', '모습', '춤', '블랙', '백', '티', '목소리', '분위기', '쇼', '표정', '고급', '여성', '의상', '공주', '멤버', '모델', '디자이너', '발음', '장식', '연예인', '자체', '라이브', '한국', '치마', '사랑스럽다', '포인트', '세상', '팬츠', '재킷', '입덕', '레드', '인간', '제일', '좋다', '라인', '스타', 'DESIGN', '아이템', '썸네일', '시즌', '애기', '스타일링', '연출', '레전드', '외모', '좋겠다', '화이트', '쿠마', '완성', '파리', '선택', '마음', '매치', '인기', '가수', '메이크업', '솔로', '나도', '봄', '그룹']\n"
     ]
    }
   ],
   "source": [
    "t500 = []\n",
    "for i in range(500):\n",
    "    t500.append(top500.loc[i, 'word'])\n",
    "    \n",
    "print(len(t500))\n",
    "print(t500[:91])"
   ]
  },
  {
   "cell_type": "markdown",
   "metadata": {},
   "source": [
    "### top50만 남기기"
   ]
  },
  {
   "cell_type": "code",
   "execution_count": 51,
   "metadata": {},
   "outputs": [
    {
     "data": {
      "text/plain": [
       "791"
      ]
     },
     "execution_count": 51,
     "metadata": {},
     "output_type": "execute_result"
    }
   ],
   "source": [
    "len(D4JE)"
   ]
  },
  {
   "cell_type": "code",
   "execution_count": 52,
   "metadata": {},
   "outputs": [],
   "source": [
    "top30_word = []\n",
    "for i in range(len(D4JE)):\n",
    "    w=[]\n",
    "    for word in D4JE.loc[i, 'ADFN_2']:\n",
    "        if word in top30:\n",
    "            w.append(word)\n",
    "    top30_word.append(w)"
   ]
  },
  {
   "cell_type": "code",
   "execution_count": 53,
   "metadata": {},
   "outputs": [],
   "source": [
    "top50_word = []\n",
    "for i in range(len(D4JE)):\n",
    "    w=[]\n",
    "    for word in D4JE.loc[i, 'ADFN_2']:\n",
    "        if word in top50:\n",
    "            w.append(word)\n",
    "    top50_word.append(w)"
   ]
  },
  {
   "cell_type": "code",
   "execution_count": 54,
   "metadata": {},
   "outputs": [],
   "source": [
    "top100_word = []\n",
    "for i in range(len(D4JE)):\n",
    "    w=[]\n",
    "    for word in D4JE.loc[i, 'ADFN_2']:\n",
    "        if word in top100:\n",
    "            w.append(word)\n",
    "    top100_word.append(w)"
   ]
  },
  {
   "cell_type": "code",
   "execution_count": 55,
   "metadata": {},
   "outputs": [],
   "source": [
    "top200_word = []\n",
    "for i in range(len(D4JE)):\n",
    "    w=[]\n",
    "    for word in D4JE.loc[i, 'ADFN_2']:\n",
    "        if word in top200:\n",
    "            w.append(word)\n",
    "    top200_word.append(w)"
   ]
  },
  {
   "cell_type": "code",
   "execution_count": 56,
   "metadata": {},
   "outputs": [],
   "source": [
    "top300_word = []\n",
    "for i in range(len(D4JE)):\n",
    "    w=[]\n",
    "    for word in D4JE.loc[i, 'ADFN_2']:\n",
    "        if word in top300:\n",
    "            w.append(word)\n",
    "    top300_word.append(w)"
   ]
  },
  {
   "cell_type": "code",
   "execution_count": 57,
   "metadata": {},
   "outputs": [],
   "source": [
    "top500_word = []\n",
    "for i in range(len(D4JE)):\n",
    "    w=[]\n",
    "    for word in D4JE.loc[i, 'ADFN_2']:\n",
    "        if word in t500:\n",
    "            w.append(word)\n",
    "    top500_word.append(w)"
   ]
  },
  {
   "cell_type": "markdown",
   "metadata": {},
   "source": [
    "### 전체"
   ]
  },
  {
   "cell_type": "code",
   "execution_count": 58,
   "metadata": {},
   "outputs": [
    {
     "data": {
      "text/html": [
       "<div>\n",
       "<style scoped>\n",
       "    .dataframe tbody tr th:only-of-type {\n",
       "        vertical-align: middle;\n",
       "    }\n",
       "\n",
       "    .dataframe tbody tr th {\n",
       "        vertical-align: top;\n",
       "    }\n",
       "\n",
       "    .dataframe thead th {\n",
       "        text-align: right;\n",
       "    }\n",
       "</style>\n",
       "<table border=\"1\" class=\"dataframe\">\n",
       "  <thead>\n",
       "    <tr style=\"text-align: right;\">\n",
       "      <th></th>\n",
       "      <th>magazine</th>\n",
       "      <th>brand</th>\n",
       "      <th>title</th>\n",
       "      <th>word</th>\n",
       "      <th>ADFN</th>\n",
       "      <th>ADFN_2</th>\n",
       "    </tr>\n",
       "  </thead>\n",
       "  <tbody>\n",
       "    <tr>\n",
       "      <th>0</th>\n",
       "      <td>A</td>\n",
       "      <td>D</td>\n",
       "      <td>빈티지 쇼핑의 시대</td>\n",
       "      <td>['그러니 빈티지 패션은, 어쩌면 나도 좋고 너도 좋은 일이다. 당시 사랑했던, 지...</td>\n",
       "      <td>['빈티지', '패션', '좋', '느', '좋', '당시', '사랑', '사랑',...</td>\n",
       "      <td>[빈티지, 패션, 좋, 느, 좋, 당시, 사랑, 사랑, 나의, 물건, 새롭, 사랑,...</td>\n",
       "    </tr>\n",
       "    <tr>\n",
       "      <th>1</th>\n",
       "      <td>A</td>\n",
       "      <td>D</td>\n",
       "      <td>DON’T CATEGORIZE ME / 유태오</td>\n",
       "      <td>['실크 슬리브리스와 블랙 와이드 팬츠는 김서룡 옴므. 블랙 부츠는 보테가 베네타....</td>\n",
       "      <td>['실크', '슬리브리스', '블랙', '와이드', '팬츠', '김', '룡', '...</td>\n",
       "      <td>[실크, 슬리브리스, 블랙, 와이드, 팬츠, 김, 룡, HOMME, 블랙, 부츠, ...</td>\n",
       "    </tr>\n",
       "    <tr>\n",
       "      <th>2</th>\n",
       "      <td>A</td>\n",
       "      <td>D</td>\n",
       "      <td>SOMETHING GOOD / 최강희, 이상엽</td>\n",
       "      <td>['슈트와 스니커즈, 목걸이, 팔찌, 반지 모두 디올 맨(Dior Men).']</td>\n",
       "      <td>['슈트', '스니커즈', '목걸이', '팔찌', '반지', 'DIOR', '맨',...</td>\n",
       "      <td>[슈트, 스니커즈, 목걸이, 팔찌, 반지, DIOR, 맨, DIOR, MEN]</td>\n",
       "    </tr>\n",
       "    <tr>\n",
       "      <th>3</th>\n",
       "      <td>A</td>\n",
       "      <td>D</td>\n",
       "      <td>다른 세계에서 / 고성희, 윤현민</td>\n",
       "      <td>['고성희가 입은 니트 원피스는 보테가 베네타(Bottega Veneta). 윤현민...</td>\n",
       "      <td>['성희', '니트', '원피스', '베네', 'BOTTEGA', 'VENETA',...</td>\n",
       "      <td>[성희, 니트, 원피스, 베네, BOTTEGA, VENETA, 윤, 민, 니트, 엠...</td>\n",
       "    </tr>\n",
       "    <tr>\n",
       "      <th>4</th>\n",
       "      <td>A</td>\n",
       "      <td>D</td>\n",
       "      <td>10CM 코앞에서 본 실물 실화? 에디터가 직접 만나 폰카로 찍은 셀럽 근접샷 베스트는?</td>\n",
       "      <td>[\"예뻐지고 싶은 모든 여자들이 궁금해하는 곳이죠! 세포라가 드디어 한국에 상륙했어...</td>\n",
       "      <td>['예쁘', '여자', '궁금해하', '곳', '세포', '라가', '한국', '상...</td>\n",
       "      <td>[예쁘, 여자, 궁금해하, 곳, 세포, 라가, 한국, 상륙, 첫날, 포라, 곳곳, ...</td>\n",
       "    </tr>\n",
       "    <tr>\n",
       "      <th>...</th>\n",
       "      <td>...</td>\n",
       "      <td>...</td>\n",
       "      <td>...</td>\n",
       "      <td>...</td>\n",
       "      <td>...</td>\n",
       "      <td>...</td>\n",
       "    </tr>\n",
       "    <tr>\n",
       "      <th>786</th>\n",
       "      <td>W</td>\n",
       "      <td>Je</td>\n",
       "      <td>블랙핑크X세레나 고메즈 영상통화, 협업 티징</td>\n",
       "      <td>서로의 팬임을 인증한 두 스타, 8월 28일 BLACKPINK와 세레나 고메즈가 함...</td>\n",
       "      <td>['서로', '팬임', '인증', '두', '스타', 'BLACKPINK', '세레...</td>\n",
       "      <td>[서로, 팬임, 인증, 두, 스타, BLACKPINK, 세레나, 고메즈, 함께한, ...</td>\n",
       "    </tr>\n",
       "    <tr>\n",
       "      <th>787</th>\n",
       "      <td>W</td>\n",
       "      <td>Je</td>\n",
       "      <td>블랙핑크가 아이스크림 셀카를 올린 이유는?</td>\n",
       "      <td>내셔널 아이스크림 데이’를 기념한 BLACKPINK의 귀여운 포스팅., 제니와 리사...</td>\n",
       "      <td>['내셔널', '아이스크림', '데이', '기념', 'BLACKPINK', '귀여운...</td>\n",
       "      <td>[내셔널, 아이스크림, 데이, 기념, BLACKPINK, 귀엽다, 포스팅, 제니, ...</td>\n",
       "    </tr>\n",
       "    <tr>\n",
       "      <th>788</th>\n",
       "      <td>W</td>\n",
       "      <td>Je</td>\n",
       "      <td>블랙핑크 컴백! 남다른 패션 스타일링</td>\n",
       "      <td>한국 신진 디자이너부터 하이 패션 브랜드까지 섭렵한 블핑, 6월 26일 드디어 BL...</td>\n",
       "      <td>['한국', '신진', '디자이너', '하이', '패션', '브랜드', '섭렵', ...</td>\n",
       "      <td>[한국, 신진, 디자이너, 하이, 패션, 브랜드, 섭렵, 블핑, BLACKPINK,...</td>\n",
       "    </tr>\n",
       "    <tr>\n",
       "      <th>789</th>\n",
       "      <td>W</td>\n",
       "      <td>Je</td>\n",
       "      <td>블랙핑크 로제, 리사, 지수 솔로곡 공개한다</td>\n",
       "      <td>BLACKPINK 로제, 리사, 지수의 솔로곡이 발매된다., , 오는 9월 첫 정규...</td>\n",
       "      <td>['BLACKPINK', '로제', '리사', '지수', '솔로', '곡', '발매...</td>\n",
       "      <td>[BLACKPINK, 로제, 리사, 지수, 솔로, 곡, 발매, 된다, 오는, 첫, ...</td>\n",
       "    </tr>\n",
       "    <tr>\n",
       "      <th>790</th>\n",
       "      <td>W</td>\n",
       "      <td>Je</td>\n",
       "      <td>K팝 그룹 최초, 11억뷰 퀸 블랙핑크</td>\n",
       "      <td>K팝 그룹 최초! BLACKPINK &lt;뚜두뚜두(DDU-DU DDU-DU)&gt; 뮤직비디...</td>\n",
       "      <td>['K', '팝', '그룹', '최초', 'BLACKPINK', '뚜', '두', ...</td>\n",
       "      <td>[K, 팝, 그룹, 최초, BLACKPINK, 뚜두뚜두, DDU, DU, DDU, ...</td>\n",
       "    </tr>\n",
       "  </tbody>\n",
       "</table>\n",
       "<p>791 rows × 6 columns</p>\n",
       "</div>"
      ],
      "text/plain": [
       "    magazine brand                                              title  \\\n",
       "0          A     D                                         빈티지 쇼핑의 시대   \n",
       "1          A     D                          DON’T CATEGORIZE ME / 유태오   \n",
       "2          A     D                          SOMETHING GOOD / 최강희, 이상엽   \n",
       "3          A     D                                 다른 세계에서 / 고성희, 윤현민   \n",
       "4          A     D  10CM 코앞에서 본 실물 실화? 에디터가 직접 만나 폰카로 찍은 셀럽 근접샷 베스트는?   \n",
       "..       ...   ...                                                ...   \n",
       "786        W    Je                           블랙핑크X세레나 고메즈 영상통화, 협업 티징   \n",
       "787        W    Je                            블랙핑크가 아이스크림 셀카를 올린 이유는?   \n",
       "788        W    Je                               블랙핑크 컴백! 남다른 패션 스타일링   \n",
       "789        W    Je                           블랙핑크 로제, 리사, 지수 솔로곡 공개한다   \n",
       "790        W    Je                              K팝 그룹 최초, 11억뷰 퀸 블랙핑크   \n",
       "\n",
       "                                                  word  \\\n",
       "0    ['그러니 빈티지 패션은, 어쩌면 나도 좋고 너도 좋은 일이다. 당시 사랑했던, 지...   \n",
       "1    ['실크 슬리브리스와 블랙 와이드 팬츠는 김서룡 옴므. 블랙 부츠는 보테가 베네타....   \n",
       "2         ['슈트와 스니커즈, 목걸이, 팔찌, 반지 모두 디올 맨(Dior Men).']   \n",
       "3    ['고성희가 입은 니트 원피스는 보테가 베네타(Bottega Veneta). 윤현민...   \n",
       "4    [\"예뻐지고 싶은 모든 여자들이 궁금해하는 곳이죠! 세포라가 드디어 한국에 상륙했어...   \n",
       "..                                                 ...   \n",
       "786  서로의 팬임을 인증한 두 스타, 8월 28일 BLACKPINK와 세레나 고메즈가 함...   \n",
       "787  내셔널 아이스크림 데이’를 기념한 BLACKPINK의 귀여운 포스팅., 제니와 리사...   \n",
       "788  한국 신진 디자이너부터 하이 패션 브랜드까지 섭렵한 블핑, 6월 26일 드디어 BL...   \n",
       "789  BLACKPINK 로제, 리사, 지수의 솔로곡이 발매된다., , 오는 9월 첫 정규...   \n",
       "790  K팝 그룹 최초! BLACKPINK <뚜두뚜두(DDU-DU DDU-DU)> 뮤직비디...   \n",
       "\n",
       "                                                  ADFN  \\\n",
       "0    ['빈티지', '패션', '좋', '느', '좋', '당시', '사랑', '사랑',...   \n",
       "1    ['실크', '슬리브리스', '블랙', '와이드', '팬츠', '김', '룡', '...   \n",
       "2    ['슈트', '스니커즈', '목걸이', '팔찌', '반지', 'DIOR', '맨',...   \n",
       "3    ['성희', '니트', '원피스', '베네', 'BOTTEGA', 'VENETA',...   \n",
       "4    ['예쁘', '여자', '궁금해하', '곳', '세포', '라가', '한국', '상...   \n",
       "..                                                 ...   \n",
       "786  ['서로', '팬임', '인증', '두', '스타', 'BLACKPINK', '세레...   \n",
       "787  ['내셔널', '아이스크림', '데이', '기념', 'BLACKPINK', '귀여운...   \n",
       "788  ['한국', '신진', '디자이너', '하이', '패션', '브랜드', '섭렵', ...   \n",
       "789  ['BLACKPINK', '로제', '리사', '지수', '솔로', '곡', '발매...   \n",
       "790  ['K', '팝', '그룹', '최초', 'BLACKPINK', '뚜', '두', ...   \n",
       "\n",
       "                                                ADFN_2  \n",
       "0    [빈티지, 패션, 좋, 느, 좋, 당시, 사랑, 사랑, 나의, 물건, 새롭, 사랑,...  \n",
       "1    [실크, 슬리브리스, 블랙, 와이드, 팬츠, 김, 룡, HOMME, 블랙, 부츠, ...  \n",
       "2          [슈트, 스니커즈, 목걸이, 팔찌, 반지, DIOR, 맨, DIOR, MEN]  \n",
       "3    [성희, 니트, 원피스, 베네, BOTTEGA, VENETA, 윤, 민, 니트, 엠...  \n",
       "4    [예쁘, 여자, 궁금해하, 곳, 세포, 라가, 한국, 상륙, 첫날, 포라, 곳곳, ...  \n",
       "..                                                 ...  \n",
       "786  [서로, 팬임, 인증, 두, 스타, BLACKPINK, 세레나, 고메즈, 함께한, ...  \n",
       "787  [내셔널, 아이스크림, 데이, 기념, BLACKPINK, 귀엽다, 포스팅, 제니, ...  \n",
       "788  [한국, 신진, 디자이너, 하이, 패션, 브랜드, 섭렵, 블핑, BLACKPINK,...  \n",
       "789  [BLACKPINK, 로제, 리사, 지수, 솔로, 곡, 발매, 된다, 오는, 첫, ...  \n",
       "790  [K, 팝, 그룹, 최초, BLACKPINK, 뚜두뚜두, DDU, DU, DDU, ...  \n",
       "\n",
       "[791 rows x 6 columns]"
      ]
     },
     "execution_count": 58,
     "metadata": {},
     "output_type": "execute_result"
    }
   ],
   "source": [
    "D4JE"
   ]
  },
  {
   "cell_type": "markdown",
   "metadata": {},
   "source": [
    "### item 남기기"
   ]
  },
  {
   "cell_type": "code",
   "execution_count": 59,
   "metadata": {},
   "outputs": [],
   "source": [
    "item = ['백', '드레스', '재킷', '주얼리', '옷', '슈즈', '스커트', '링', '팬츠', '가방', '슈트', '향수', '의상', '데님', '액세서리', '톱',\n",
    "'셔츠', '모자', '수트', '스니커즈', '니트', '시계', '워치', '핸드백', '벨트', '선글라스', '목걸이', '티셔츠', '쇼츠', '샌들',\n",
    " '귀고리', '워치', '코트', '부츠', '케이프']"
   ]
  },
  {
   "cell_type": "code",
   "execution_count": 60,
   "metadata": {},
   "outputs": [],
   "source": [
    "# item_word = []\n",
    "# for i in range(len(mag_je)):\n",
    "#     w=[]\n",
    "#     for word in mag_je.loc[i, 'ADFN']:\n",
    "#         if word in item:\n",
    "#             w.append(word)\n",
    "#     item_word.append(w)"
   ]
  },
  {
   "cell_type": "markdown",
   "metadata": {},
   "source": [
    "### top100이면서 item이 아닌 것"
   ]
  },
  {
   "cell_type": "code",
   "execution_count": 61,
   "metadata": {},
   "outputs": [],
   "source": [
    "# top100_not_item_word = []\n",
    "# for i in range(len(tot_je)):\n",
    "#     w=[]\n",
    "#     for word in tot_je.loc[i, 'ADFN']:\n",
    "#         if word in top100:\n",
    "#             if word not in item:\n",
    "#                 w.append(word)\n",
    "#     top100_not_item_word.append(w)"
   ]
  },
  {
   "cell_type": "code",
   "execution_count": 62,
   "metadata": {},
   "outputs": [],
   "source": [
    "# len(top100_not_item_word)"
   ]
  },
  {
   "cell_type": "code",
   "execution_count": 63,
   "metadata": {},
   "outputs": [],
   "source": [
    "# top100_not_item_word[1]"
   ]
  },
  {
   "cell_type": "code",
   "execution_count": 64,
   "metadata": {},
   "outputs": [],
   "source": [
    "# top50_word"
   ]
  },
  {
   "cell_type": "code",
   "execution_count": 65,
   "metadata": {
    "scrolled": true
   },
   "outputs": [
    {
     "data": {
      "text/plain": [
       "791"
      ]
     },
     "execution_count": 65,
     "metadata": {},
     "output_type": "execute_result"
    }
   ],
   "source": [
    "len(top50_word)"
   ]
  },
  {
   "cell_type": "markdown",
   "metadata": {},
   "source": [
    "### 텍스트 한줄씩 읽어와 dataset에 기록"
   ]
  },
  {
   "cell_type": "markdown",
   "metadata": {},
   "source": [
    "### 어프라이어리(Apriori) 알고리즘을 적용하여 연관규칙 분석 수행"
   ]
  },
  {
   "cell_type": "code",
   "execution_count": 66,
   "metadata": {},
   "outputs": [],
   "source": [
    "# 어프라이어리(Apriori)\n",
    "from apyori import apriori"
   ]
  },
  {
   "cell_type": "code",
   "execution_count": 67,
   "metadata": {},
   "outputs": [
    {
     "data": {
      "text/plain": [
       "['패션', '사랑', '사랑', '사랑', '패션', '옷', '컬렉션', 'DIOR']"
      ]
     },
     "execution_count": 67,
     "metadata": {},
     "output_type": "execute_result"
    }
   ],
   "source": [
    "top30_word[0]"
   ]
  },
  {
   "cell_type": "code",
   "execution_count": 77,
   "metadata": {},
   "outputs": [
    {
     "data": {
      "text/html": [
       "<div>\n",
       "<style scoped>\n",
       "    .dataframe tbody tr th:only-of-type {\n",
       "        vertical-align: middle;\n",
       "    }\n",
       "\n",
       "    .dataframe tbody tr th {\n",
       "        vertical-align: top;\n",
       "    }\n",
       "\n",
       "    .dataframe thead th {\n",
       "        text-align: right;\n",
       "    }\n",
       "</style>\n",
       "<table border=\"1\" class=\"dataframe\">\n",
       "  <thead>\n",
       "    <tr style=\"text-align: right;\">\n",
       "      <th></th>\n",
       "      <th>items</th>\n",
       "      <th>support</th>\n",
       "      <th>ordered_statistics</th>\n",
       "      <th>length</th>\n",
       "    </tr>\n",
       "  </thead>\n",
       "  <tbody>\n",
       "    <tr>\n",
       "      <th>41</th>\n",
       "      <td>(DIOR, 컬렉션)</td>\n",
       "      <td>0.170670</td>\n",
       "      <td>[((), (DIOR, 컬렉션), 0.1706700379266751, 1.0), (...</td>\n",
       "      <td>2</td>\n",
       "    </tr>\n",
       "    <tr>\n",
       "      <th>42</th>\n",
       "      <td>(DIOR, 패션)</td>\n",
       "      <td>0.164349</td>\n",
       "      <td>[((), (DIOR, 패션), 0.16434892541087232, 1.0), (...</td>\n",
       "      <td>2</td>\n",
       "    </tr>\n",
       "    <tr>\n",
       "      <th>46</th>\n",
       "      <td>(스타일, 제니)</td>\n",
       "      <td>0.140329</td>\n",
       "      <td>[((), (스타일, 제니), 0.14032869785082175, 1.0), ((...</td>\n",
       "      <td>2</td>\n",
       "    </tr>\n",
       "    <tr>\n",
       "      <th>47</th>\n",
       "      <td>(패션, 제니)</td>\n",
       "      <td>0.134008</td>\n",
       "      <td>[((), (패션, 제니), 0.13400758533501897, 1.0), ((제...</td>\n",
       "      <td>2</td>\n",
       "    </tr>\n",
       "    <tr>\n",
       "      <th>39</th>\n",
       "      <td>(DIOR, 브랜드)</td>\n",
       "      <td>0.126422</td>\n",
       "      <td>[((), (DIOR, 브랜드), 0.1264222503160556, 1.0), (...</td>\n",
       "      <td>2</td>\n",
       "    </tr>\n",
       "    <tr>\n",
       "      <th>44</th>\n",
       "      <td>(매력, 제니)</td>\n",
       "      <td>0.117573</td>\n",
       "      <td>[((), (매력, 제니), 0.11757269279393173, 1.0), ((매...</td>\n",
       "      <td>2</td>\n",
       "    </tr>\n",
       "    <tr>\n",
       "      <th>37</th>\n",
       "      <td>(드레스, DIOR)</td>\n",
       "      <td>0.116308</td>\n",
       "      <td>[((), (드레스, DIOR), 0.11630847029077118, 1.0), ...</td>\n",
       "      <td>2</td>\n",
       "    </tr>\n",
       "    <tr>\n",
       "      <th>38</th>\n",
       "      <td>(룩, DIOR)</td>\n",
       "      <td>0.112516</td>\n",
       "      <td>[((), (룩, DIOR), 0.1125158027812895, 1.0), ((D...</td>\n",
       "      <td>2</td>\n",
       "    </tr>\n",
       "    <tr>\n",
       "      <th>36</th>\n",
       "      <td>(CHANEL, 제니)</td>\n",
       "      <td>0.111252</td>\n",
       "      <td>[((), (CHANEL, 제니), 0.11125158027812895, 1.0),...</td>\n",
       "      <td>2</td>\n",
       "    </tr>\n",
       "    <tr>\n",
       "      <th>43</th>\n",
       "      <td>(룩, 제니)</td>\n",
       "      <td>0.106195</td>\n",
       "      <td>[((), (룩, 제니), 0.10619469026548672, 1.0), ((룩)...</td>\n",
       "      <td>2</td>\n",
       "    </tr>\n",
       "  </tbody>\n",
       "</table>\n",
       "</div>"
      ],
      "text/plain": [
       "           items   support                                 ordered_statistics  \\\n",
       "41   (DIOR, 컬렉션)  0.170670  [((), (DIOR, 컬렉션), 0.1706700379266751, 1.0), (...   \n",
       "42    (DIOR, 패션)  0.164349  [((), (DIOR, 패션), 0.16434892541087232, 1.0), (...   \n",
       "46     (스타일, 제니)  0.140329  [((), (스타일, 제니), 0.14032869785082175, 1.0), ((...   \n",
       "47      (패션, 제니)  0.134008  [((), (패션, 제니), 0.13400758533501897, 1.0), ((제...   \n",
       "39   (DIOR, 브랜드)  0.126422  [((), (DIOR, 브랜드), 0.1264222503160556, 1.0), (...   \n",
       "44      (매력, 제니)  0.117573  [((), (매력, 제니), 0.11757269279393173, 1.0), ((매...   \n",
       "37   (드레스, DIOR)  0.116308  [((), (드레스, DIOR), 0.11630847029077118, 1.0), ...   \n",
       "38     (룩, DIOR)  0.112516  [((), (룩, DIOR), 0.1125158027812895, 1.0), ((D...   \n",
       "36  (CHANEL, 제니)  0.111252  [((), (CHANEL, 제니), 0.11125158027812895, 1.0),...   \n",
       "43       (룩, 제니)  0.106195  [((), (룩, 제니), 0.10619469026548672, 1.0), ((룩)...   \n",
       "\n",
       "    length  \n",
       "41       2  \n",
       "42       2  \n",
       "46       2  \n",
       "47       2  \n",
       "39       2  \n",
       "44       2  \n",
       "37       2  \n",
       "38       2  \n",
       "36       2  \n",
       "43       2  "
      ]
     },
     "execution_count": 77,
     "metadata": {},
     "output_type": "execute_result"
    }
   ],
   "source": [
    "###### 지지도(support) : P(A∩B)\n",
    "result = list(apriori(top500_word, min_support = 0.1))\n",
    "df = pd.DataFrame(result)\n",
    "df['length'] = df['items'].apply(lambda x:len(x))\n",
    "df = df[(df['length'] == 2) \n",
    "        & (df['support'] >= 0.01)].sort_values(by='support', ascending = False)\n",
    "df.head(10)"
   ]
  },
  {
   "cell_type": "code",
   "execution_count": 78,
   "metadata": {},
   "outputs": [],
   "source": [
    "idx = []\n",
    "for i in df.index:\n",
    "    if '제니' in df.loc[i, 'items']:\n",
    "        idx.append(i)"
   ]
  },
  {
   "cell_type": "code",
   "execution_count": 79,
   "metadata": {},
   "outputs": [
    {
     "data": {
      "text/html": [
       "<div>\n",
       "<style scoped>\n",
       "    .dataframe tbody tr th:only-of-type {\n",
       "        vertical-align: middle;\n",
       "    }\n",
       "\n",
       "    .dataframe tbody tr th {\n",
       "        vertical-align: top;\n",
       "    }\n",
       "\n",
       "    .dataframe thead th {\n",
       "        text-align: right;\n",
       "    }\n",
       "</style>\n",
       "<table border=\"1\" class=\"dataframe\">\n",
       "  <thead>\n",
       "    <tr style=\"text-align: right;\">\n",
       "      <th></th>\n",
       "      <th>items</th>\n",
       "      <th>support</th>\n",
       "      <th>ordered_statistics</th>\n",
       "      <th>length</th>\n",
       "    </tr>\n",
       "  </thead>\n",
       "  <tbody>\n",
       "    <tr>\n",
       "      <th>46</th>\n",
       "      <td>(스타일, 제니)</td>\n",
       "      <td>0.140329</td>\n",
       "      <td>[((), (스타일, 제니), 0.14032869785082175, 1.0), ((...</td>\n",
       "      <td>2</td>\n",
       "    </tr>\n",
       "    <tr>\n",
       "      <th>47</th>\n",
       "      <td>(패션, 제니)</td>\n",
       "      <td>0.134008</td>\n",
       "      <td>[((), (패션, 제니), 0.13400758533501897, 1.0), ((제...</td>\n",
       "      <td>2</td>\n",
       "    </tr>\n",
       "    <tr>\n",
       "      <th>44</th>\n",
       "      <td>(매력, 제니)</td>\n",
       "      <td>0.117573</td>\n",
       "      <td>[((), (매력, 제니), 0.11757269279393173, 1.0), ((매...</td>\n",
       "      <td>2</td>\n",
       "    </tr>\n",
       "    <tr>\n",
       "      <th>36</th>\n",
       "      <td>(CHANEL, 제니)</td>\n",
       "      <td>0.111252</td>\n",
       "      <td>[((), (CHANEL, 제니), 0.11125158027812895, 1.0),...</td>\n",
       "      <td>2</td>\n",
       "    </tr>\n",
       "    <tr>\n",
       "      <th>43</th>\n",
       "      <td>(룩, 제니)</td>\n",
       "      <td>0.106195</td>\n",
       "      <td>[((), (룩, 제니), 0.10619469026548672, 1.0), ((룩)...</td>\n",
       "      <td>2</td>\n",
       "    </tr>\n",
       "  </tbody>\n",
       "</table>\n",
       "</div>"
      ],
      "text/plain": [
       "           items   support                                 ordered_statistics  \\\n",
       "46     (스타일, 제니)  0.140329  [((), (스타일, 제니), 0.14032869785082175, 1.0), ((...   \n",
       "47      (패션, 제니)  0.134008  [((), (패션, 제니), 0.13400758533501897, 1.0), ((제...   \n",
       "44      (매력, 제니)  0.117573  [((), (매력, 제니), 0.11757269279393173, 1.0), ((매...   \n",
       "36  (CHANEL, 제니)  0.111252  [((), (CHANEL, 제니), 0.11125158027812895, 1.0),...   \n",
       "43       (룩, 제니)  0.106195  [((), (룩, 제니), 0.10619469026548672, 1.0), ((룩)...   \n",
       "\n",
       "    length  \n",
       "46       2  \n",
       "47       2  \n",
       "44       2  \n",
       "36       2  \n",
       "43       2  "
      ]
     },
     "execution_count": 79,
     "metadata": {},
     "output_type": "execute_result"
    }
   ],
   "source": [
    "df.loc[idx]"
   ]
  },
  {
   "cell_type": "code",
   "execution_count": 80,
   "metadata": {},
   "outputs": [],
   "source": [
    "jenny_items = df.loc[idx, 'items']"
   ]
  },
  {
   "cell_type": "code",
   "execution_count": 81,
   "metadata": {},
   "outputs": [
    {
     "name": "stdout",
     "output_type": "stream",
     "text": [
      "스타일\n",
      "제니\n",
      "패션\n",
      "제니\n",
      "매력\n",
      "제니\n",
      "CHANEL\n",
      "제니\n",
      "룩\n",
      "제니\n"
     ]
    }
   ],
   "source": [
    "for word in jenny_items:\n",
    "    for item in word:\n",
    "        print(item)"
   ]
  },
  {
   "cell_type": "markdown",
   "metadata": {},
   "source": [
    "### networkx 그래프 정의"
   ]
  },
  {
   "cell_type": "code",
   "execution_count": 82,
   "metadata": {},
   "outputs": [],
   "source": [
    "G = nx.Graph()\n",
    "ar = (df['items']); G.add_edges_from(ar)"
   ]
  },
  {
   "cell_type": "code",
   "execution_count": 83,
   "metadata": {},
   "outputs": [],
   "source": [
    "# 페이지 랭크\n",
    "pr = nx.pagerank(G)\n",
    "nsize = np.array([v for v in pr.values()])\n",
    "nsize = 2000 * (nsize - min(nsize)) / (max(nsize) - min(nsize))"
   ]
  },
  {
   "cell_type": "code",
   "execution_count": 84,
   "metadata": {},
   "outputs": [],
   "source": [
    "pos = nx.spring_layout(G)"
   ]
  },
  {
   "cell_type": "code",
   "execution_count": 85,
   "metadata": {},
   "outputs": [
    {
     "data": {
      "image/png": "[encoded data removed]",
      "text/plain": [
       "<Figure size 864x1152 with 1 Axes>"
      ]
     },
     "metadata": {},
     "output_type": "display_data"
    }
   ],
   "source": [
    "plt.figure(figsize = (12, 16)) ; plt.axis('off')\n",
    "nx.draw_networkx(G, font_family = 'Malgun Gothic', font_size = 16,\n",
    "                pos = pos, node_color = list(pr.values()), node_size = nsize,\n",
    "                alpha=0.7, edge_color='.5', cmap = plt.cm.RdPu,\n",
    "                font_color = 'white', font_weight = 'bold')\n",
    "\n",
    "plt.savefig('./final_img/nt_D4JE_top500_mins1.png', bbox_inches = 'tight', transparent = True)\n",
    "plt.show()\n"
   ]
  },
  {
   "cell_type": "code",
   "execution_count": null,
   "metadata": {},
   "outputs": [],
   "source": []
  },
  {
   "cell_type": "code",
   "execution_count": null,
   "metadata": {},
   "outputs": [],
   "source": []
  },
  {
   "cell_type": "code",
   "execution_count": null,
   "metadata": {},
   "outputs": [],
   "source": []
  },
  {
   "cell_type": "code",
   "execution_count": null,
   "metadata": {},
   "outputs": [],
   "source": []
  },
  {
   "cell_type": "code",
   "execution_count": null,
   "metadata": {},
   "outputs": [],
   "source": []
  },
  {
   "cell_type": "code",
   "execution_count": null,
   "metadata": {},
   "outputs": [],
   "source": []
  },
  {
   "cell_type": "code",
   "execution_count": null,
   "metadata": {},
   "outputs": [],
   "source": []
  },
  {
   "cell_type": "code",
   "execution_count": null,
   "metadata": {},
   "outputs": [],
   "source": []
  },
  {
   "cell_type": "code",
   "execution_count": null,
   "metadata": {},
   "outputs": [],
   "source": []
  },
  {
   "cell_type": "code",
   "execution_count": null,
   "metadata": {},
   "outputs": [],
   "source": []
  },
  {
   "cell_type": "code",
   "execution_count": null,
   "metadata": {},
   "outputs": [],
   "source": []
  },
  {
   "cell_type": "code",
   "execution_count": null,
   "metadata": {},
   "outputs": [],
   "source": []
  },
  {
   "cell_type": "code",
   "execution_count": null,
   "metadata": {},
   "outputs": [],
   "source": []
  },
  {
   "cell_type": "code",
   "execution_count": null,
   "metadata": {},
   "outputs": [],
   "source": []
  },
  {
   "cell_type": "code",
   "execution_count": null,
   "metadata": {},
   "outputs": [],
   "source": []
  },
  {
   "cell_type": "code",
   "execution_count": null,
   "metadata": {},
   "outputs": [],
   "source": []
  },
  {
   "cell_type": "code",
   "execution_count": null,
   "metadata": {},
   "outputs": [],
   "source": []
  },
  {
   "cell_type": "code",
   "execution_count": null,
   "metadata": {},
   "outputs": [],
   "source": []
  },
  {
   "cell_type": "code",
   "execution_count": null,
   "metadata": {},
   "outputs": [],
   "source": []
  },
  {
   "cell_type": "code",
   "execution_count": null,
   "metadata": {},
   "outputs": [],
   "source": []
  },
  {
   "cell_type": "code",
   "execution_count": null,
   "metadata": {},
   "outputs": [],
   "source": []
  },
  {
   "cell_type": "code",
   "execution_count": null,
   "metadata": {},
   "outputs": [],
   "source": []
  },
  {
   "cell_type": "code",
   "execution_count": null,
   "metadata": {},
   "outputs": [],
   "source": []
  },
  {
   "cell_type": "code",
   "execution_count": null,
   "metadata": {},
   "outputs": [],
   "source": []
  },
  {
   "cell_type": "code",
   "execution_count": null,
   "metadata": {},
   "outputs": [],
   "source": []
  }
 ],
 "metadata": {
  "kernelspec": {
   "display_name": "Python 3",
   "language": "python",
   "name": "python3"
  },
  "language_info": {
   "codemirror_mode": {
    "name": "ipython",
    "version": 3
   },
   "file_extension": ".py",
   "mimetype": "text/x-python",
   "name": "python",
   "nbconvert_exporter": "python",
   "pygments_lexer": "ipython3",
   "version": "3.7.6"
  }
 },
 "nbformat": 4,
 "nbformat_minor": 4
}
