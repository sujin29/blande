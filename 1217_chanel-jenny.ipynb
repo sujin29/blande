{
 "cells": [
  {
   "cell_type": "code",
   "execution_count": 6,
   "metadata": {},
   "outputs": [],
   "source": [
    "import pandas as pd\n",
    "import numpy as np\n",
    "import re\n",
    "import networkx as nx\n",
    "import matplotlib.pyplot as plt"
   ]
  },
  {
   "cell_type": "code",
   "execution_count": 7,
   "metadata": {},
   "outputs": [],
   "source": [
    "from collections import Counter"
   ]
  },
  {
   "cell_type": "markdown",
   "metadata": {},
   "source": [
    "## 샤넬"
   ]
  },
  {
   "cell_type": "code",
   "execution_count": 8,
   "metadata": {},
   "outputs": [],
   "source": [
    "mag_ch = pd.read_csv('./magazine/final/magazine_ch_stickword.csv', sep ='|', encoding = 'utf-8')"
   ]
  },
  {
   "cell_type": "code",
   "execution_count": 9,
   "metadata": {},
   "outputs": [],
   "source": [
    "mag_ch['word'] = mag_ch['word_chanel']"
   ]
  },
  {
   "cell_type": "code",
   "execution_count": 10,
   "metadata": {},
   "outputs": [],
   "source": [
    "mag_CH = mag_ch[['magazine', 'brand', 'title', 'word', 'ADFN', 'ADFN_2']]"
   ]
  },
  {
   "cell_type": "markdown",
   "metadata": {},
   "source": [
    "## 제니"
   ]
  },
  {
   "cell_type": "markdown",
   "metadata": {},
   "source": [
    "### 제니 (유튜브 + 매거진)"
   ]
  },
  {
   "cell_type": "code",
   "execution_count": 11,
   "metadata": {},
   "outputs": [],
   "source": [
    "tot_je = pd.read_csv('./magazine/final/video_jenny_adfn_2.csv', encoding = 'utf-8', sep = '|')"
   ]
  },
  {
   "cell_type": "code",
   "execution_count": 12,
   "metadata": {},
   "outputs": [],
   "source": [
    "tot_je['word'] = tot_je['word_jenny']"
   ]
  },
  {
   "cell_type": "code",
   "execution_count": 13,
   "metadata": {},
   "outputs": [],
   "source": [
    "tot_JE = tot_je[['magazine', 'brand', 'title', 'word', 'ADFN', 'ADFN_2']]"
   ]
  },
  {
   "cell_type": "code",
   "execution_count": 14,
   "metadata": {},
   "outputs": [
    {
     "data": {
      "text/plain": [
       "351"
      ]
     },
     "execution_count": 14,
     "metadata": {},
     "output_type": "execute_result"
    }
   ],
   "source": [
    "len(tot_JE)"
   ]
  },
  {
   "cell_type": "markdown",
   "metadata": {},
   "source": [
    "### 샤넬 + 제니"
   ]
  },
  {
   "cell_type": "code",
   "execution_count": 15,
   "metadata": {},
   "outputs": [],
   "source": [
    "CHJE = pd.concat([mag_CH, tot_JE])"
   ]
  },
  {
   "cell_type": "code",
   "execution_count": 16,
   "metadata": {},
   "outputs": [],
   "source": [
    "CHJE.reset_index(drop = True, inplace = True)"
   ]
  },
  {
   "cell_type": "code",
   "execution_count": 17,
   "metadata": {},
   "outputs": [],
   "source": [
    "CHJE.to_csv('./magazine/final/CHJE.csv', sep = '|', encoding = 'utf-8', index = False)"
   ]
  },
  {
   "cell_type": "code",
   "execution_count": 18,
   "metadata": {},
   "outputs": [
    {
     "data": {
      "text/plain": [
       "1801"
      ]
     },
     "execution_count": 18,
     "metadata": {},
     "output_type": "execute_result"
    }
   ],
   "source": [
    "len(CHJE)"
   ]
  },
  {
   "cell_type": "markdown",
   "metadata": {},
   "source": [
    "## stopword 추가"
   ]
  },
  {
   "cell_type": "code",
   "execution_count": 19,
   "metadata": {},
   "outputs": [],
   "source": [
    "sw_df = pd.read_csv('stopwords.csv', header=None)"
   ]
  },
  {
   "cell_type": "code",
   "execution_count": 20,
   "metadata": {},
   "outputs": [],
   "source": [
    "sw_df.columns = ['stopword']"
   ]
  },
  {
   "cell_type": "code",
   "execution_count": 21,
   "metadata": {},
   "outputs": [],
   "source": [
    "stop_words = []\n",
    "for sw in sw_df['stopword']:\n",
    "    stop_words.append(sw)"
   ]
  },
  {
   "cell_type": "code",
   "execution_count": 22,
   "metadata": {},
   "outputs": [
    {
     "name": "stdout",
     "output_type": "stream",
     "text": [
      "675\n",
      "<class 'list'>\n"
     ]
    }
   ],
   "source": [
    "print(len(stop_words))\n",
    "print(type(stop_words))"
   ]
  },
  {
   "cell_type": "code",
   "execution_count": 23,
   "metadata": {},
   "outputs": [
    {
     "data": {
      "text/plain": [
       "['둘', '셋', '넷', '다섯', '여섯', '일곱', '여덟', '아홉', '령', '영']"
      ]
     },
     "execution_count": 23,
     "metadata": {},
     "output_type": "execute_result"
    }
   ],
   "source": [
    "stop_words[-10:]"
   ]
  },
  {
   "cell_type": "code",
   "execution_count": 24,
   "metadata": {},
   "outputs": [],
   "source": [
    "add_0 = ['진짜', '존나', '보고', '그냥', '카이', '이광수', '광수', '런닝맨', '❤️', '없는', '유재석', '❤', '♥', '있고', '거', \n",
    "         '내', '더', '개', '사람', '영상', '광고', '언니', '말', '뭐', '수', '생각',\n",
    "        '있는', '정말', '같은', '같음', '듯', '♡', '완전', '같아', '정도', '지금', '역시', '뭔가', '입니다', '때문', '아니라',\n",
    "         '함', '같은데', '해', '하는', '할', '넘', '한', '안', '했다', '보면', '데', '하고', '하면', '게', '해서', '봐도', \n",
    "         '한다', '된', '건', '요', '움', '임', '애', '하는거', '해도', '보는', '이제', '했는데', '하는데', '하는게', '같아요', \n",
    "         '합니다', '하지', '하게', '되는', 'I', '는', '난', '서', '도', '줄', '위', '분', '알', '은', '두', '번', '뒤',\n",
    "         '이건', '없다', '있어요', '아니고', '있어',\n",
    "        '계속', '원래', '뭘', '못', '후', '이름', '속', '욕', '옆', '하네', '아님', '그런', '된다', '있음',\n",
    "        '같', '돼', 'you', '제품', '표현', 'n', '봤는데', '건가', '나오는', '가지', '저런', '보이', '고',\n",
    "        '중', '사진', '댓글', '부분', '진심', '그녀', '보', '날', '겁나', '요즘', '앞', '워', '이유', '솔직히', '하며', '통해',\n",
    "        '모든', '항상', '전', '기자', '다시', '오늘', '↑', '이자', '대해']\n",
    "for w in add_0:\n",
    "    stop_words.append(w)"
   ]
  },
  {
   "cell_type": "code",
   "execution_count": 25,
   "metadata": {},
   "outputs": [],
   "source": [
    "add_1 = ['BLACKPINK', '리사', '지수', '로제']\n",
    "for w in add_1:\n",
    "    stop_words.append(w)"
   ]
  },
  {
   "cell_type": "code",
   "execution_count": 26,
   "metadata": {},
   "outputs": [
    {
     "data": {
      "text/plain": [
       "825"
      ]
     },
     "execution_count": 26,
     "metadata": {},
     "output_type": "execute_result"
    }
   ],
   "source": [
    "len(stop_words)"
   ]
  },
  {
   "cell_type": "code",
   "execution_count": null,
   "metadata": {},
   "outputs": [],
   "source": []
  },
  {
   "cell_type": "code",
   "execution_count": 27,
   "metadata": {},
   "outputs": [],
   "source": [
    "CHJE['ADFN_2'] = CHJE['ADFN_2'].str.replace('[', '').str.replace(']', '').str.replace('\"', '').str.replace(\"'\", \"\").str.split(', ')"
   ]
  },
  {
   "cell_type": "code",
   "execution_count": 28,
   "metadata": {},
   "outputs": [],
   "source": [
    "noun_adj_list = []\n",
    "for i in range(len(CHJE)):\n",
    "    for word in CHJE.loc[i, 'ADFN_2']:\n",
    "        if word not in stop_words:\n",
    "            noun_adj_list.append(word)"
   ]
  },
  {
   "cell_type": "code",
   "execution_count": 29,
   "metadata": {},
   "outputs": [
    {
     "name": "stdout",
     "output_type": "stream",
     "text": [
      "[('제니', 9423), ('CHANEL', 5757), ('귀엽다', 2144), ('예쁘다', 1820), ('브랜드', 1012), ('사랑', 1008), ('KARL', 882), ('모델', 794), ('쇼', 769), ('스타일', 768), ('장식', 748), ('얼굴', 746), ('백', 723), ('옷', 685), ('매력', 684), ('드레스', 681), ('컬러', 673), ('룩', 645), ('무대', 642), ('블랙', 564), ('파리', 563), ('여성', 555), ('노래', 518), ('재킷', 494), ('트위드', 492), ('디자이너', 484), ('디자인', 478), ('COUTURE', 440), ('주얼리', 439), ('아이템', 434), ('코코', 427), ('화이트', 423), ('새로운', 414), ('눈', 411), ('세계', 408), ('잘', 408), ('여자', 407), ('처음', 400), ('느낌', 399), ('아이돌', 395), ('시작', 388), ('하우스', 381), ('걸', 365), ('다양한', 346), ('GABRIELLE', 344), ('공방', 339), ('영화', 338), ('팬', 323), ('젠득', 322), ('럭셔리', 318), ('팬츠', 316), ('완성', 316), ('의상', 316), ('영감', 310), ('분위기', 309), ('머리', 309), ('크루즈', 309), ('많은', 297), ('실력', 294), ('VIRGINIE', 293), ('봄', 287), ('스커트', 285), ('착용', 281), ('프랑스', 280), ('최고', 276), ('디렉터', 275), ('좋은', 274), ('영어', 274), ('한국', 273), ('헤어', 271), ('스타일링', 269), ('슈즈', 269), ('골드', 268), ('가방', 267), ('첫', 262), ('링', 259), ('핑크', 256), ('여름', 255), ('패션', 255), ('클래식', 254), ('라인', 251), ('슈트', 249), ('사용', 246), ('세상', 245), ('가죽', 243), ('패턴', 243), ('코트', 241), ('레드', 241), ('앞머리', 241), ('패션쇼', 240), ('순간', 240), ('HAUTE', 240), ('공개', 239), ('포인트', 234), ('런웨이', 234), ('부츠', 228), ('선택', 227), ('랩', 226), ('자체', 224), ('데님', 222), ('활동', 222), ('시대', 220), ('미국', 219), ('스타', 217), ('워치', 215), ('팔레', 212), ('로고', 212), ('예능', 210), ('향수', 209), ('대표', 208), ('볼', 208), ('작업', 203), ('톱', 201), ('목소리', 201), ('춤', 201), ('가을', 200), ('이미지', 200), ('액세서리', 199), ('마지막', 199), ('모습', 198), ('겨울', 194), ('마음', 192), ('크리에이티브', 192), ('인간', 191), ('그룹', 191), ('표정', 191), ('손', 190), ('멤버', 190), ('공주', 189), ('미니', 188), ('메이크업', 188), ('점', 188), ('자리', 186), ('하이', 186), ('고급', 186), ('트렌드', 184), ('이후', 183), ('배우', 182), ('인기', 182), ('체인', 181), ('촬영', 181), ('세', 179), ('퍼렐', 179), ('발음', 177), ('상징', 176), ('실루엣', 176), ('라이브', 176), ('제작', 175), ('니트', 175), ('향', 175), ('진행', 174), ('스', 173), ('책', 173), ('연예인', 173), ('있었다', 171), ('빛', 171), ('명품', 170), ('트', 170), ('현재', 169), ('캠페인', 169), ('참석', 169), ('J', 169), ('뉴욕', 169), ('남자', 169), ('다이아몬드', 168), ('무드', 167), ('칼', 167), ('판매', 166), ('재', 166), ('사이즈', 165), ('패션계', 164), ('예정', 164), ('살', 163), ('채', 163), ('치마', 163), ('셔츠', 160), ('방식', 160), ('키', 160), ('좋다', 159), ('약', 159), ('티', 158), ('의미', 157), ('아주', 157), ('매장', 157), ('펜디', 156), ('화려한', 156), ('활용', 155), ('화보', 155), ('관심', 153), ('자수', 153), ('남성', 153), ('가수', 152), ('제일', 151), ('어깨', 150), ('데뷔', 150), ('프라다', 149), ('강조', 149), ('시크', 149), ('입덕', 149), ('선글라스', 147)]\n"
     ]
    }
   ],
   "source": [
    "word = Counter(noun_adj_list)\n",
    "print(word.most_common(200))"
   ]
  },
  {
   "cell_type": "code",
   "execution_count": 30,
   "metadata": {},
   "outputs": [],
   "source": [
    "count = Counter(noun_adj_list)"
   ]
  },
  {
   "cell_type": "code",
   "execution_count": 31,
   "metadata": {},
   "outputs": [
    {
     "name": "stdout",
     "output_type": "stream",
     "text": [
      "('제니', 9423)\n",
      "('CHANEL', 5757)\n",
      "('귀엽다', 2144)\n",
      "('예쁘다', 1820)\n",
      "('브랜드', 1012)\n",
      "('사랑', 1008)\n",
      "('KARL', 882)\n",
      "('모델', 794)\n",
      "('쇼', 769)\n",
      "('스타일', 768)\n",
      "('장식', 748)\n",
      "('얼굴', 746)\n",
      "('백', 723)\n",
      "('옷', 685)\n",
      "('매력', 684)\n",
      "('드레스', 681)\n",
      "('컬러', 673)\n",
      "('룩', 645)\n",
      "('무대', 642)\n",
      "('블랙', 564)\n",
      "('파리', 563)\n",
      "('여성', 555)\n",
      "('노래', 518)\n",
      "('재킷', 494)\n",
      "('트위드', 492)\n",
      "('디자이너', 484)\n",
      "('디자인', 478)\n",
      "('COUTURE', 440)\n",
      "('주얼리', 439)\n",
      "('아이템', 434)\n",
      "('코코', 427)\n",
      "('화이트', 423)\n",
      "('새로운', 414)\n",
      "('눈', 411)\n",
      "('세계', 408)\n",
      "('잘', 408)\n",
      "('여자', 407)\n",
      "('처음', 400)\n",
      "('느낌', 399)\n",
      "('아이돌', 395)\n",
      "('시작', 388)\n",
      "('하우스', 381)\n",
      "('걸', 365)\n",
      "('다양한', 346)\n",
      "('GABRIELLE', 344)\n",
      "('공방', 339)\n",
      "('영화', 338)\n",
      "('팬', 323)\n",
      "('젠득', 322)\n",
      "('럭셔리', 318)\n",
      "('팬츠', 316)\n",
      "('완성', 316)\n",
      "('의상', 316)\n",
      "('영감', 310)\n",
      "('분위기', 309)\n",
      "('머리', 309)\n",
      "('크루즈', 309)\n",
      "('많은', 297)\n",
      "('실력', 294)\n",
      "('VIRGINIE', 293)\n",
      "('봄', 287)\n",
      "('스커트', 285)\n",
      "('착용', 281)\n",
      "('프랑스', 280)\n",
      "('최고', 276)\n",
      "('디렉터', 275)\n",
      "('좋은', 274)\n",
      "('영어', 274)\n",
      "('한국', 273)\n",
      "('헤어', 271)\n",
      "('스타일링', 269)\n",
      "('슈즈', 269)\n",
      "('골드', 268)\n",
      "('가방', 267)\n",
      "('첫', 262)\n",
      "('링', 259)\n",
      "('핑크', 256)\n",
      "('여름', 255)\n",
      "('패션', 255)\n",
      "('클래식', 254)\n",
      "('라인', 251)\n",
      "('슈트', 249)\n",
      "('사용', 246)\n",
      "('세상', 245)\n",
      "('가죽', 243)\n",
      "('패턴', 243)\n",
      "('코트', 241)\n",
      "('레드', 241)\n",
      "('앞머리', 241)\n",
      "('패션쇼', 240)\n",
      "('순간', 240)\n",
      "('HAUTE', 240)\n",
      "('공개', 239)\n",
      "('포인트', 234)\n",
      "('런웨이', 234)\n",
      "('부츠', 228)\n",
      "('선택', 227)\n",
      "('랩', 226)\n",
      "('자체', 224)\n",
      "('데님', 222)\n",
      "('활동', 222)\n",
      "('시대', 220)\n",
      "('미국', 219)\n",
      "('스타', 217)\n",
      "('워치', 215)\n",
      "('팔레', 212)\n",
      "('로고', 212)\n",
      "('예능', 210)\n",
      "('향수', 209)\n",
      "('대표', 208)\n",
      "('볼', 208)\n",
      "('작업', 203)\n",
      "('톱', 201)\n",
      "('목소리', 201)\n",
      "('춤', 201)\n",
      "('가을', 200)\n",
      "('이미지', 200)\n",
      "('액세서리', 199)\n",
      "('마지막', 199)\n",
      "('모습', 198)\n",
      "('겨울', 194)\n",
      "('마음', 192)\n",
      "('크리에이티브', 192)\n",
      "('인간', 191)\n",
      "('그룹', 191)\n",
      "('표정', 191)\n",
      "('손', 190)\n",
      "('멤버', 190)\n",
      "('공주', 189)\n",
      "('미니', 188)\n",
      "('메이크업', 188)\n",
      "('점', 188)\n",
      "('자리', 186)\n",
      "('하이', 186)\n",
      "('고급', 186)\n",
      "('트렌드', 184)\n",
      "('이후', 183)\n",
      "('배우', 182)\n",
      "('인기', 182)\n",
      "('체인', 181)\n",
      "('촬영', 181)\n",
      "('세', 179)\n",
      "('퍼렐', 179)\n",
      "('발음', 177)\n",
      "('상징', 176)\n",
      "('실루엣', 176)\n",
      "('라이브', 176)\n",
      "('제작', 175)\n",
      "('니트', 175)\n",
      "('향', 175)\n",
      "('진행', 174)\n",
      "('스', 173)\n",
      "('책', 173)\n",
      "('연예인', 173)\n",
      "('있었다', 171)\n",
      "('빛', 171)\n",
      "('명품', 170)\n",
      "('트', 170)\n",
      "('현재', 169)\n",
      "('캠페인', 169)\n",
      "('참석', 169)\n",
      "('J', 169)\n",
      "('뉴욕', 169)\n",
      "('남자', 169)\n",
      "('다이아몬드', 168)\n",
      "('무드', 167)\n",
      "('칼', 167)\n",
      "('판매', 166)\n",
      "('재', 166)\n",
      "('사이즈', 165)\n",
      "('패션계', 164)\n",
      "('예정', 164)\n",
      "('살', 163)\n",
      "('채', 163)\n",
      "('치마', 163)\n",
      "('셔츠', 160)\n",
      "('방식', 160)\n",
      "('키', 160)\n",
      "('좋다', 159)\n",
      "('약', 159)\n",
      "('티', 158)\n",
      "('의미', 157)\n",
      "('아주', 157)\n",
      "('매장', 157)\n",
      "('펜디', 156)\n",
      "('화려한', 156)\n",
      "('활용', 155)\n",
      "('화보', 155)\n",
      "('관심', 153)\n",
      "('자수', 153)\n",
      "('남성', 153)\n",
      "('가수', 152)\n",
      "('제일', 151)\n",
      "('어깨', 150)\n",
      "('데뷔', 150)\n",
      "('프라다', 149)\n",
      "('강조', 149)\n",
      "('시크', 149)\n",
      "('입덕', 149)\n",
      "('선글라스', 147)\n",
      "('더욱', 147)\n",
      "('앤', 145)\n",
      "('스니커즈', 145)\n",
      "('서울', 145)\n",
      "('동시', 144)\n",
      "('감', 143)\n",
      "('이야기', 143)\n",
      "('소화', 143)\n",
      "('가브리엘', 142)\n",
      "('크러쉬', 142)\n",
      "('늘', 141)\n",
      "('존재', 141)\n",
      "('비', 141)\n",
      "('꽃', 141)\n",
      "('여러', 141)\n",
      "('형태', 140)\n",
      "('기억', 140)\n",
      "('외모', 140)\n",
      "('온', 140)\n",
      "('울', 139)\n",
      "('SAINT', 139)\n",
      "('LAURENT', 139)\n",
      "('명', 138)\n",
      "('유행', 138)\n",
      "('뿐', 138)\n",
      "('집', 138)\n",
      "('친구', 137)\n",
      "('연상', 137)\n",
      "('티셔츠', 136)\n",
      "('사이', 136)\n",
      "('작품', 136)\n",
      "('모양', 135)\n",
      "('영국', 135)\n",
      "('미', 134)\n",
      "('모자', 134)\n",
      "('아티스트', 134)\n",
      "('수트', 133)\n",
      "('썸네일', 133)\n",
      "('아닌', 132)\n",
      "('탑', 132)\n",
      "('진주', 131)\n",
      "('프린트', 131)\n",
      "('버버리', 131)\n",
      "('여행', 131)\n",
      "('음악', 131)\n",
      "('특별한', 131)\n",
      "('발표', 130)\n",
      "('적', 130)\n",
      "('뷰티', 130)\n",
      "('행사', 130)\n",
      "('애기', 130)\n",
      "('디테일', 129)\n",
      "('코드', 129)\n",
      "('부', 129)\n",
      "('레전드', 129)\n",
      "('인터뷰', 128)\n",
      "('연출', 128)\n",
      "('만', 127)\n",
      "('몸', 127)\n",
      "('기분', 127)\n",
      "('아름다', 126)\n",
      "('진', 125)\n",
      "('한번', 125)\n",
      "('시선', 124)\n",
      "('톤', 124)\n",
      "('직접', 124)\n",
      "('웨어', 124)\n",
      "('솔로', 124)\n",
      "('탄생', 123)\n",
      "('쿠마', 123)\n",
      "('보기', 122)\n",
      "('올해', 122)\n",
      "('전시', 122)\n",
      "('완벽한', 121)\n",
      "('밴드', 121)\n",
      "('작은', 121)\n",
      "('블루', 121)\n",
      "('고양이', 121)\n",
      "('공간', 121)\n",
      "('그대로', 121)\n",
      "('장인', 121)\n",
      "('막', 120)\n",
      "('리본', 120)\n",
      "('인상', 120)\n",
      "('아이콘', 120)\n",
      "('달', 120)\n",
      "('끝', 119)\n",
      "('주인공', 119)\n",
      "('르', 119)\n",
      "('삶', 119)\n",
      "('매치', 119)\n",
      "('새', 118)\n",
      "('코', 118)\n",
      "('벨트', 118)\n",
      "('아름다운', 118)\n",
      "('체크', 117)\n",
      "('목걸이', 117)\n",
      "('좋아하는', 117)\n",
      "('힘', 117)\n",
      "('있을', 117)\n",
      "('실제', 116)\n",
      "('파티', 116)\n",
      "('로서', 116)\n",
      "('현지', 116)\n",
      "('인스타그램', 115)\n",
      "('시계', 115)\n",
      "('꼭', 115)\n",
      "('얼', 115)\n",
      "('핸드백', 115)\n",
      "('보그', 115)\n",
      "('크리스', 114)\n",
      "('리얼', 114)\n",
      "('거리', 114)\n",
      "('지난해', 114)\n",
      "('누가', 114)\n",
      "('도시', 114)\n",
      "('멋있다', 114)\n",
      "('나도', 114)\n",
      "('에르메스', 113)\n",
      "('CELINE', 113)\n",
      "('우아한', 113)\n",
      "('리', 113)\n",
      "('최초', 113)\n",
      "('엄마', 112)\n",
      "('해석', 112)\n",
      "('좋겠다', 112)\n",
      "('먼저', 111)\n",
      "('아니다', 111)\n",
      "('오픈', 110)\n",
      "('색', 110)\n",
      "('레이스', 110)\n",
      "('발렌시아', 110)\n",
      "('프리', 109)\n",
      "('눈길', 109)\n",
      "('빈티지', 108)\n",
      "('리스트', 108)\n",
      "('소리', 108)\n",
      "('웃기', 108)\n",
      "('베', 107)\n",
      "('롱', 107)\n",
      "('길이', 107)\n",
      "('초', 106)\n",
      "('설명', 106)\n",
      "('젤', 106)\n",
      "('에디터', 105)\n",
      "('변화', 105)\n",
      "('마무리', 105)\n",
      "('YG', 105)\n",
      "('코디', 105)\n",
      "('대', 105)\n",
      "('일이', 104)\n",
      "('준비', 104)\n",
      "('인생', 104)\n",
      "('발', 104)\n",
      "('실크', 104)\n",
      "('피날레', 104)\n",
      "('바이', 104)\n",
      "('스토어', 104)\n",
      "('넘치는', 104)\n",
      "('변신', 104)\n",
      "('시절', 103)\n",
      "('패션위크', 103)\n",
      "('하루', 103)\n",
      "('스튜디오', 103)\n",
      "('스트랩', 103)\n",
      "('개성', 103)\n",
      "('디', 103)\n",
      "('딸', 103)\n",
      "('협업', 103)\n",
      "('일상', 103)\n",
      "('선', 103)\n",
      "('몸매', 103)\n",
      "('온라인', 102)\n",
      "('퀸', 102)\n",
      "('뮤즈', 102)\n",
      "('허리', 102)\n",
      "('비롯', 102)\n",
      "('예술', 102)\n",
      "('젠', 102)\n",
      "('법', 101)\n",
      "('미래', 101)\n",
      "('호', 101)\n",
      "('출시', 101)\n",
      "('공식', 101)\n",
      "('과거', 101)\n",
      "('회사', 101)\n",
      "('개인', 100)\n",
      "('루이', 100)\n",
      "('스키', 100)\n",
      "('피부', 100)\n",
      "('전체', 100)\n",
      "('스트리트', 100)\n",
      "('제발', 100)\n",
      "('모티프', 99)\n",
      "('쇼츠', 99)\n",
      "('THE', 99)\n",
      "('비통', 98)\n",
      "('역사', 98)\n",
      "('있다는', 98)\n",
      "('원피스', 98)\n",
      "('아래', 98)\n",
      "('바', 98)\n",
      "('성격', 98)\n",
      "('출신', 98)\n",
      "('대박', 98)\n",
      "('조합', 97)\n",
      "('심플', 97)\n",
      "('감각', 97)\n",
      "('배', 97)\n",
      "('심장', 97)\n",
      "('루이비통', 97)\n",
      "('차', 96)\n",
      "('슬릿', 96)\n",
      "('모던', 96)\n",
      "('요소', 96)\n",
      "('PVC', 96)\n",
      "('방법', 96)\n",
      "('고객', 96)\n",
      "('레', 96)\n",
      "('바지', 95)\n",
      "('곱창', 95)\n",
      "('기도', 95)\n",
      "('시도', 95)\n",
      "('FW', 95)\n",
      "('포함', 95)\n",
      "('미쳤다', 95)\n",
      "('가장', 95)\n",
      "('퀼팅', 94)\n",
      "('입술', 94)\n",
      "('만큼', 94)\n",
      "('노트', 94)\n",
      "('카리스마', 94)\n",
      "('블링크', 94)\n",
      "('메탈', 93)\n",
      "('세기', 93)\n",
      "('카디건', 93)\n",
      "('창조', 93)\n",
      "('화인', 92)\n",
      "('주얼', 92)\n",
      "('평소', 92)\n",
      "('계단', 92)\n",
      "('있습니다', 92)\n",
      "('오버', 91)\n",
      "('상상', 91)\n",
      "('현장', 91)\n",
      "('제공', 91)\n",
      "('나이', 91)\n",
      "('글', 91)\n",
      "('준', 91)\n",
      "('파워', 91)\n",
      "('집중', 91)\n",
      "('리아', 91)\n",
      "('해외', 90)\n",
      "('유명한', 90)\n",
      "('선물', 90)\n",
      "('화제', 90)\n",
      "('좋아요', 90)\n",
      "('문화', 90)\n",
      "('층', 90)\n",
      "('컴백', 90)\n",
      "('타팬', 90)\n",
      "('아이린', 89)\n",
      "('국내', 89)\n",
      "('인', 88)\n",
      "('일부', 88)\n",
      "('샌들', 88)\n",
      "('블라우스', 88)\n",
      "('캐', 88)\n",
      "('소녀', 88)\n",
      "('라면', 88)\n",
      "('남', 88)\n",
      "('용', 88)\n",
      "('더한', 87)\n",
      "('간', 87)\n",
      "('베이지', 87)\n",
      "('더블', 87)\n",
      "('글로벌', 87)\n",
      "('M', 86)\n",
      "('자연', 86)\n",
      "('꿈', 86)\n",
      "('장', 86)\n",
      "('불어', 86)\n",
      "('션', 86)\n",
      "('강렬한', 86)\n",
      "('바자', 86)\n",
      "('짧은', 85)\n",
      "('복', 85)\n",
      "('아이코닉', 85)\n",
      "('K', 85)\n",
      "('델', 85)\n",
      "('유명', 85)\n",
      "('보러', 85)\n",
      "('가치', 84)\n",
      "('특유', 84)\n",
      "('소개', 84)\n",
      "('발렌티노', 84)\n",
      "('서로', 84)\n",
      "('장면', 84)\n",
      "('있으며', 84)\n",
      "('무늬', 83)\n"
     ]
    }
   ],
   "source": [
    "word_list = count.most_common(500)\n",
    "for v in word_list:\n",
    "    print(v)"
   ]
  },
  {
   "cell_type": "code",
   "execution_count": 32,
   "metadata": {},
   "outputs": [],
   "source": [
    "top500 = pd.DataFrame(word_list)"
   ]
  },
  {
   "cell_type": "code",
   "execution_count": 33,
   "metadata": {},
   "outputs": [],
   "source": [
    "top500.columns = ['word', 'count']"
   ]
  },
  {
   "cell_type": "code",
   "execution_count": 34,
   "metadata": {},
   "outputs": [],
   "source": [
    "top500.to_csv('./CHJE_top500.csv', sep='|', encoding = 'utf-8', index = False)"
   ]
  },
  {
   "cell_type": "markdown",
   "metadata": {},
   "source": [
    "## 워드클라우드 만들기"
   ]
  },
  {
   "cell_type": "code",
   "execution_count": 59,
   "metadata": {},
   "outputs": [],
   "source": [
    "import matplotlib.pyplot as plt"
   ]
  },
  {
   "cell_type": "code",
   "execution_count": 60,
   "metadata": {},
   "outputs": [
    {
     "name": "stdout",
     "output_type": "stream",
     "text": [
      "Malgun Gothic C:\\WINDOWS\\Fonts\\malgun.ttf\n",
      "Yu Gothic C:\\WINDOWS\\Fonts\\YuGothB.ttc\n",
      "HYGothic-Extra C:\\WINDOWS\\Fonts\\H2GTRE.TTF\n",
      "Franklin Gothic Medium C:\\WINDOWS\\Fonts\\framdit.ttf\n",
      "Malgun Gothic C:\\Windows\\Fonts\\malgunbd.ttf\n",
      "Yu Gothic C:\\Windows\\Fonts\\YuGothL.ttc\n",
      "Century Gothic C:\\Windows\\Fonts\\GOTHIC.TTF\n",
      "Yu Gothic C:\\Windows\\Fonts\\YuGothM.ttc\n",
      "Yu Gothic C:\\WINDOWS\\Fonts\\YuGothR.ttc\n",
      "MS Gothic C:\\WINDOWS\\Fonts\\msgothic.ttc\n",
      "HYGothic-Medium C:\\WINDOWS\\Fonts\\H2GTRM.TTF\n",
      "Malgun Gothic C:\\WINDOWS\\Fonts\\malgunsl.ttf\n",
      "Century Gothic C:\\Windows\\Fonts\\GOTHICI.TTF\n",
      "Century Gothic C:\\WINDOWS\\Fonts\\GOTHICBI.TTF\n",
      "Century Gothic C:\\Windows\\Fonts\\GOTHICB.TTF\n",
      "Franklin Gothic Medium C:\\WINDOWS\\Fonts\\framd.ttf\n"
     ]
    }
   ],
   "source": [
    "import matplotlib.font_manager as fm\n",
    "\n",
    "# 이용 가능한 폰트 중 '고딕'만 선별\n",
    "for font in fm.fontManager.ttflist:\n",
    "    if 'Gothic' in font.name:\n",
    "        print(font.name, font.fname)"
   ]
  },
  {
   "cell_type": "code",
   "execution_count": 61,
   "metadata": {},
   "outputs": [],
   "source": [
    "font_path = 'C:\\WINDOWS\\Fonts\\malgun.ttf'"
   ]
  },
  {
   "cell_type": "markdown",
   "metadata": {},
   "source": [
    "### 워드클라우드 그리기"
   ]
  },
  {
   "cell_type": "code",
   "execution_count": 62,
   "metadata": {},
   "outputs": [],
   "source": [
    "from wordcloud import WordCloud"
   ]
  },
  {
   "cell_type": "code",
   "execution_count": 63,
   "metadata": {},
   "outputs": [],
   "source": [
    "wc = WordCloud(font_path=font_path, background_color=\"white\", width=600, height=400)"
   ]
  },
  {
   "cell_type": "code",
   "execution_count": 64,
   "metadata": {},
   "outputs": [
    {
     "data": {
      "image/png": "[encoded data removed]",
      "text/plain": [
       "<Figure size 432x288 with 1 Axes>"
      ]
     },
     "metadata": {
      "needs_background": "light"
     },
     "output_type": "display_data"
    },
    {
     "data": {
      "text/plain": [
       "<wordcloud.wordcloud.WordCloud at 0x1b63182ee88>"
      ]
     },
     "execution_count": 64,
     "metadata": {},
     "output_type": "execute_result"
    }
   ],
   "source": [
    "wc.generate_from_frequencies(dict(word_list))\n",
    "\n",
    "plt.imshow(wc) \n",
    "plt.axis('off') \n",
    "plt.show()\n",
    "\n",
    "\n",
    "wc.to_file('CHJE_total.png')"
   ]
  },
  {
   "cell_type": "code",
   "execution_count": 71,
   "metadata": {},
   "outputs": [],
   "source": [
    "CHJE.to_csv('./magazine/final/CHJE_adfn_2.csv', sep='|', encoding = 'utf-8', index = False)"
   ]
  },
  {
   "cell_type": "code",
   "execution_count": null,
   "metadata": {},
   "outputs": [],
   "source": []
  },
  {
   "cell_type": "code",
   "execution_count": null,
   "metadata": {},
   "outputs": [],
   "source": []
  },
  {
   "cell_type": "code",
   "execution_count": null,
   "metadata": {},
   "outputs": [],
   "source": []
  }
 ],
 "metadata": {
  "kernelspec": {
   "display_name": "Python 3",
   "language": "python",
   "name": "python3"
  },
  "language_info": {
   "codemirror_mode": {
    "name": "ipython",
    "version": 3
   },
   "file_extension": ".py",
   "mimetype": "text/x-python",
   "name": "python",
   "nbconvert_exporter": "python",
   "pygments_lexer": "ipython3",
   "version": "3.7.6"
  }
 },
 "nbformat": 4,
 "nbformat_minor": 4
}
