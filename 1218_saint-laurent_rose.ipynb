{
 "cells": [
  {
   "cell_type": "code",
   "execution_count": 501,
   "metadata": {},
   "outputs": [],
   "source": [
    "import pandas as pd\n",
    "import numpy as np\n",
    "import re\n",
    "import networkx as nx\n",
    "import matplotlib.pyplot as plt"
   ]
  },
  {
   "cell_type": "code",
   "execution_count": 502,
   "metadata": {},
   "outputs": [],
   "source": [
    "from collections import Counter"
   ]
  },
  {
   "cell_type": "markdown",
   "metadata": {},
   "source": [
    "## 생로랑"
   ]
  },
  {
   "cell_type": "code",
   "execution_count": 503,
   "metadata": {},
   "outputs": [],
   "source": [
    "mag_s = pd.read_csv('./magazine/final/magazine_s_stickword.csv', sep ='|', encoding = 'utf-8')"
   ]
  },
  {
   "cell_type": "code",
   "execution_count": 504,
   "metadata": {},
   "outputs": [
    {
     "data": {
      "text/html": [
       "<div>\n",
       "<style scoped>\n",
       "    .dataframe tbody tr th:only-of-type {\n",
       "        vertical-align: middle;\n",
       "    }\n",
       "\n",
       "    .dataframe tbody tr th {\n",
       "        vertical-align: top;\n",
       "    }\n",
       "\n",
       "    .dataframe thead th {\n",
       "        text-align: right;\n",
       "    }\n",
       "</style>\n",
       "<table border=\"1\" class=\"dataframe\">\n",
       "  <thead>\n",
       "    <tr style=\"text-align: right;\">\n",
       "      <th></th>\n",
       "      <th>magazine</th>\n",
       "      <th>brand</th>\n",
       "      <th>title</th>\n",
       "      <th>link</th>\n",
       "      <th>date</th>\n",
       "      <th>word_laurent</th>\n",
       "      <th>ADFN</th>\n",
       "      <th>ADFN_2</th>\n",
       "    </tr>\n",
       "  </thead>\n",
       "  <tbody>\n",
       "    <tr>\n",
       "      <th>0</th>\n",
       "      <td>A</td>\n",
       "      <td>YSL</td>\n",
       "      <td>깊게 뿌리내리기 위하여, 수영</td>\n",
       "      <td>http://www.allurekorea.com/2020/11/20/%ea%b9%8...</td>\n",
       "      <td>2020-11-20</td>\n",
       "      <td>['빨간 더블 브레스티드 코트, 타이츠, 라텍스 소재 보디슈트와 사이하이 부츠는 모...</td>\n",
       "      <td>['빨갛', '더블', '코트', '타이츠', '라텍스', '소재', '보디', '...</td>\n",
       "      <td>['빨갛', '더블', '코트', '타이츠', '라텍스', '소재', '보디', '...</td>\n",
       "    </tr>\n",
       "    <tr>\n",
       "      <th>1</th>\n",
       "      <td>A</td>\n",
       "      <td>YSL</td>\n",
       "      <td>코트 체크</td>\n",
       "      <td>http://www.allurekorea.com/2020/11/10/%ec%bd%9...</td>\n",
       "      <td>2020-10-26</td>\n",
       "      <td>['클래식한 캐멀 컬러 코트는 1백78만원, 우영미(Wooyoungmi). 버건디 ...</td>\n",
       "      <td>['클래식', '컬러', '코트', '우영', 'WOOYOUNGMI', '버건디',...</td>\n",
       "      <td>['클래식', '컬러', '코트', '우영', 'WOOYOUNGMI', '버건디',...</td>\n",
       "    </tr>\n",
       "    <tr>\n",
       "      <th>2</th>\n",
       "      <td>A</td>\n",
       "      <td>YSL</td>\n",
       "      <td>데님이여 영원하라</td>\n",
       "      <td>http://www.allurekorea.com/2020/11/06/%eb%8d%b...</td>\n",
       "      <td>2020-10-26</td>\n",
       "      <td>['  짙은 그레이 컬러의 데님 팬츠는 95만5천원, 생로랑 바이 안토니 바카렐로(...</td>\n",
       "      <td>['짙', '그레이', '컬러', '데님', '팬츠', 'LAURENT', 'ANT...</td>\n",
       "      <td>['짙', '그레이', '컬러', '데님', '팬츠', 'LAURENT', 'ANT...</td>\n",
       "    </tr>\n",
       "    <tr>\n",
       "      <th>3</th>\n",
       "      <td>A</td>\n",
       "      <td>YSL</td>\n",
       "      <td>안경 하세요?!</td>\n",
       "      <td>http://www.allurekorea.com/2020/10/29/%ec%95%8...</td>\n",
       "      <td>2020-10-23</td>\n",
       "      <td>['  YSL 모노그램을 새긴 블랙 에나멜 안경다리의 둥근 금테 안경은 40만원대,...</td>\n",
       "      <td>['YSL', '모노그램', '새기', '블랙', '에나멜', '안경', '다리',...</td>\n",
       "      <td>['YSL', '모노그램', '새기', '블랙', '에나멜', '안경', '다리',...</td>\n",
       "    </tr>\n",
       "    <tr>\n",
       "      <th>4</th>\n",
       "      <td>A</td>\n",
       "      <td>YSL</td>\n",
       "      <td>가을의 정석, 트렌치 코트 입는 법 8가지</td>\n",
       "      <td>http://www.allurekorea.com/2020/10/11/%ea%b0%8...</td>\n",
       "      <td>2020-09-27</td>\n",
       "      <td>['컬러블록 트렌치코트는 가격미정, 르쥬(Leje). 컵케이크 프린트 티셔츠는 27...</td>\n",
       "      <td>['컬러', '블록', '트렌치', '코트', 'LEJE', '컵', '케이크', ...</td>\n",
       "      <td>['컬러', '블록', '트렌치', '코트', 'LEJE', '컵', '케이크', ...</td>\n",
       "    </tr>\n",
       "    <tr>\n",
       "      <th>...</th>\n",
       "      <td>...</td>\n",
       "      <td>...</td>\n",
       "      <td>...</td>\n",
       "      <td>...</td>\n",
       "      <td>...</td>\n",
       "      <td>...</td>\n",
       "      <td>...</td>\n",
       "      <td>...</td>\n",
       "    </tr>\n",
       "    <tr>\n",
       "      <th>1269</th>\n",
       "      <td>W</td>\n",
       "      <td>YSL</td>\n",
       "      <td>어깨로말해요</td>\n",
       "      <td>http://www.wkorea.com/2016/09/05/%ec%96%b4%ea%...</td>\n",
       "      <td>2016-09-05</td>\n",
       "      <td>[\"'어깨 좀 쓴다 하는 여인들이 모두 모였다. 이 현상은 특히 젊은 디자이너들의 ...</td>\n",
       "      <td>['어깨', '여인', '모이', '현상', '젊', '디자이너', '의상', '드...</td>\n",
       "      <td>['어깨', '여인', '모이', '현상', '젊', '디자이너', '의상', '드...</td>\n",
       "    </tr>\n",
       "    <tr>\n",
       "      <th>1270</th>\n",
       "      <td>W</td>\n",
       "      <td>YSL</td>\n",
       "      <td>W해시태그</td>\n",
       "      <td>http://www.wkorea.com/2016/09/02/w%ed%95%b4%ec...</td>\n",
       "      <td>2016-09-02</td>\n",
       "      <td>['#W뷰티콕  (뷰티 디렉터 송시은)\\\\n조회 2,023회\\\\n너무나 뜨거운 여름...</td>\n",
       "      <td>['W', '뷰티', '콕', '뷰티', '디렉터', '송', '시은', '조회',...</td>\n",
       "      <td>['W', '뷰티', '콕', '뷰티', '디렉터', '송', '시은', '조회',...</td>\n",
       "    </tr>\n",
       "    <tr>\n",
       "      <th>1271</th>\n",
       "      <td>W</td>\n",
       "      <td>YSL</td>\n",
       "      <td>따로 또 같이</td>\n",
       "      <td>http://www.wkorea.com/2016/09/02/%eb%94%b0%eb%...</td>\n",
       "      <td>2016-09-02</td>\n",
       "      <td>['중성적인 스타일링을 위해선 실루엣을 활용하는 방법에 주목해야 한다. 생로랑 남성...</td>\n",
       "      <td>['중', '성적', '스타일링', '서', '실루엣', '활용', '방법', '주...</td>\n",
       "      <td>['중', '성적', '스타일링', '서', '실루엣', '활용', '방법', '주...</td>\n",
       "    </tr>\n",
       "    <tr>\n",
       "      <th>1272</th>\n",
       "      <td>W</td>\n",
       "      <td>YSL</td>\n",
       "      <td>두려움 없는 반란</td>\n",
       "      <td>http://www.wkorea.com/2016/09/01/%eb%91%90%eb%...</td>\n",
       "      <td>2016-09-01</td>\n",
       "      <td>['이러한 맥락은 오늘날 브랜드의 모델 캐스팅에도 그대로 적용된다. 일례로 유명한 ...</td>\n",
       "      <td>['맥락', '오늘날', '브랜드', '모델', '캐스팅', '적용', '일례', ...</td>\n",
       "      <td>['맥락', '오늘날', '브랜드', '모델', '캐스팅', '적용', '일례', ...</td>\n",
       "    </tr>\n",
       "    <tr>\n",
       "      <th>1273</th>\n",
       "      <td>W</td>\n",
       "      <td>YSL</td>\n",
       "      <td>너도 나도 베트멍</td>\n",
       "      <td>http://www.wkorea.com/2016/09/01/%eb%84%88%eb%...</td>\n",
       "      <td>2016-09-01</td>\n",
       "      <td>['셀린 디옹\\\\n나이 만48세\\\\n직업 세계적인 디바\\\\n평소 스타일 얼마 전까진...</td>\n",
       "      <td>['세', '나이', '직업', '세계적', '평소', '스타일', '클래식', '...</td>\n",
       "      <td>['세', '나이', '직업', '세계적', '평소', '스타일', '클래식', '...</td>\n",
       "    </tr>\n",
       "  </tbody>\n",
       "</table>\n",
       "<p>1274 rows × 8 columns</p>\n",
       "</div>"
      ],
      "text/plain": [
       "     magazine brand                    title  \\\n",
       "0           A   YSL         깊게 뿌리내리기 위하여, 수영   \n",
       "1           A   YSL                    코트 체크   \n",
       "2           A   YSL                데님이여 영원하라   \n",
       "3           A   YSL                 안경 하세요?!   \n",
       "4           A   YSL  가을의 정석, 트렌치 코트 입는 법 8가지   \n",
       "...       ...   ...                      ...   \n",
       "1269        W   YSL                   어깨로말해요   \n",
       "1270        W   YSL                    W해시태그   \n",
       "1271        W   YSL                  따로 또 같이   \n",
       "1272        W   YSL                두려움 없는 반란   \n",
       "1273        W   YSL                너도 나도 베트멍   \n",
       "\n",
       "                                                   link        date  \\\n",
       "0     http://www.allurekorea.com/2020/11/20/%ea%b9%8...  2020-11-20   \n",
       "1     http://www.allurekorea.com/2020/11/10/%ec%bd%9...  2020-10-26   \n",
       "2     http://www.allurekorea.com/2020/11/06/%eb%8d%b...  2020-10-26   \n",
       "3     http://www.allurekorea.com/2020/10/29/%ec%95%8...  2020-10-23   \n",
       "4     http://www.allurekorea.com/2020/10/11/%ea%b0%8...  2020-09-27   \n",
       "...                                                 ...         ...   \n",
       "1269  http://www.wkorea.com/2016/09/05/%ec%96%b4%ea%...  2016-09-05   \n",
       "1270  http://www.wkorea.com/2016/09/02/w%ed%95%b4%ec...  2016-09-02   \n",
       "1271  http://www.wkorea.com/2016/09/02/%eb%94%b0%eb%...  2016-09-02   \n",
       "1272  http://www.wkorea.com/2016/09/01/%eb%91%90%eb%...  2016-09-01   \n",
       "1273  http://www.wkorea.com/2016/09/01/%eb%84%88%eb%...  2016-09-01   \n",
       "\n",
       "                                           word_laurent  \\\n",
       "0     ['빨간 더블 브레스티드 코트, 타이츠, 라텍스 소재 보디슈트와 사이하이 부츠는 모...   \n",
       "1     ['클래식한 캐멀 컬러 코트는 1백78만원, 우영미(Wooyoungmi). 버건디 ...   \n",
       "2     ['  짙은 그레이 컬러의 데님 팬츠는 95만5천원, 생로랑 바이 안토니 바카렐로(...   \n",
       "3     ['  YSL 모노그램을 새긴 블랙 에나멜 안경다리의 둥근 금테 안경은 40만원대,...   \n",
       "4     ['컬러블록 트렌치코트는 가격미정, 르쥬(Leje). 컵케이크 프린트 티셔츠는 27...   \n",
       "...                                                 ...   \n",
       "1269  [\"'어깨 좀 쓴다 하는 여인들이 모두 모였다. 이 현상은 특히 젊은 디자이너들의 ...   \n",
       "1270  ['#W뷰티콕  (뷰티 디렉터 송시은)\\\\n조회 2,023회\\\\n너무나 뜨거운 여름...   \n",
       "1271  ['중성적인 스타일링을 위해선 실루엣을 활용하는 방법에 주목해야 한다. 생로랑 남성...   \n",
       "1272  ['이러한 맥락은 오늘날 브랜드의 모델 캐스팅에도 그대로 적용된다. 일례로 유명한 ...   \n",
       "1273  ['셀린 디옹\\\\n나이 만48세\\\\n직업 세계적인 디바\\\\n평소 스타일 얼마 전까진...   \n",
       "\n",
       "                                                   ADFN  \\\n",
       "0     ['빨갛', '더블', '코트', '타이츠', '라텍스', '소재', '보디', '...   \n",
       "1     ['클래식', '컬러', '코트', '우영', 'WOOYOUNGMI', '버건디',...   \n",
       "2     ['짙', '그레이', '컬러', '데님', '팬츠', 'LAURENT', 'ANT...   \n",
       "3     ['YSL', '모노그램', '새기', '블랙', '에나멜', '안경', '다리',...   \n",
       "4     ['컬러', '블록', '트렌치', '코트', 'LEJE', '컵', '케이크', ...   \n",
       "...                                                 ...   \n",
       "1269  ['어깨', '여인', '모이', '현상', '젊', '디자이너', '의상', '드...   \n",
       "1270  ['W', '뷰티', '콕', '뷰티', '디렉터', '송', '시은', '조회',...   \n",
       "1271  ['중', '성적', '스타일링', '서', '실루엣', '활용', '방법', '주...   \n",
       "1272  ['맥락', '오늘날', '브랜드', '모델', '캐스팅', '적용', '일례', ...   \n",
       "1273  ['세', '나이', '직업', '세계적', '평소', '스타일', '클래식', '...   \n",
       "\n",
       "                                                 ADFN_2  \n",
       "0     ['빨갛', '더블', '코트', '타이츠', '라텍스', '소재', '보디', '...  \n",
       "1     ['클래식', '컬러', '코트', '우영', 'WOOYOUNGMI', '버건디',...  \n",
       "2     ['짙', '그레이', '컬러', '데님', '팬츠', 'LAURENT', 'ANT...  \n",
       "3     ['YSL', '모노그램', '새기', '블랙', '에나멜', '안경', '다리',...  \n",
       "4     ['컬러', '블록', '트렌치', '코트', 'LEJE', '컵', '케이크', ...  \n",
       "...                                                 ...  \n",
       "1269  ['어깨', '여인', '모이', '현상', '젊', '디자이너', '의상', '드...  \n",
       "1270  ['W', '뷰티', '콕', '뷰티', '디렉터', '송', '시은', '조회',...  \n",
       "1271  ['중', '성적', '스타일링', '서', '실루엣', '활용', '방법', '주...  \n",
       "1272  ['맥락', '오늘날', '브랜드', '모델', '캐스팅', '적용', '일례', ...  \n",
       "1273  ['세', '나이', '직업', '세계적', '평소', '스타일', '클래식', '...  \n",
       "\n",
       "[1274 rows x 8 columns]"
      ]
     },
     "execution_count": 504,
     "metadata": {},
     "output_type": "execute_result"
    }
   ],
   "source": [
    "mag_s"
   ]
  },
  {
   "cell_type": "code",
   "execution_count": 505,
   "metadata": {},
   "outputs": [],
   "source": [
    "mag_s['word'] = mag_s['word_laurent']"
   ]
  },
  {
   "cell_type": "code",
   "execution_count": 506,
   "metadata": {},
   "outputs": [],
   "source": [
    "mag_S = mag_s[['magazine', 'brand', 'title', 'word', 'ADFN', 'ADFN_2']]"
   ]
  },
  {
   "cell_type": "code",
   "execution_count": 507,
   "metadata": {},
   "outputs": [
    {
     "data": {
      "text/plain": [
       "1274"
      ]
     },
     "execution_count": 507,
     "metadata": {},
     "output_type": "execute_result"
    }
   ],
   "source": [
    "len(mag_S)"
   ]
  },
  {
   "cell_type": "markdown",
   "metadata": {},
   "source": [
    "### 6"
   ]
  },
  {
   "cell_type": "code",
   "execution_count": 508,
   "metadata": {},
   "outputs": [],
   "source": [
    "idx6 = []\n",
    "for i in range(len(mag_S)):\n",
    "    if i % 6 == 0 :\n",
    "        idx6.append(i)"
   ]
  },
  {
   "cell_type": "code",
   "execution_count": 509,
   "metadata": {},
   "outputs": [],
   "source": [
    "mag_S6 = mag_S.loc[idx6]"
   ]
  },
  {
   "cell_type": "code",
   "execution_count": 510,
   "metadata": {},
   "outputs": [],
   "source": [
    "mag_S6.reset_index(drop = True, inplace = True)"
   ]
  },
  {
   "cell_type": "code",
   "execution_count": 511,
   "metadata": {},
   "outputs": [
    {
     "data": {
      "text/plain": [
       "213"
      ]
     },
     "execution_count": 511,
     "metadata": {},
     "output_type": "execute_result"
    }
   ],
   "source": [
    "len(mag_S6)"
   ]
  },
  {
   "cell_type": "markdown",
   "metadata": {},
   "source": [
    "### 8"
   ]
  },
  {
   "cell_type": "code",
   "execution_count": 512,
   "metadata": {},
   "outputs": [],
   "source": [
    "idx8 = []\n",
    "for i in range(len(mag_S)):\n",
    "    if i % 8 == 0 :\n",
    "        idx8.append(i)"
   ]
  },
  {
   "cell_type": "code",
   "execution_count": 513,
   "metadata": {},
   "outputs": [],
   "source": [
    "mag_S8 = mag_S.loc[idx8]"
   ]
  },
  {
   "cell_type": "code",
   "execution_count": 514,
   "metadata": {},
   "outputs": [],
   "source": [
    "mag_S8.reset_index(drop = True, inplace = True)"
   ]
  },
  {
   "cell_type": "code",
   "execution_count": 515,
   "metadata": {},
   "outputs": [
    {
     "data": {
      "text/plain": [
       "160"
      ]
     },
     "execution_count": 515,
     "metadata": {},
     "output_type": "execute_result"
    }
   ],
   "source": [
    "len(mag_S8)"
   ]
  },
  {
   "cell_type": "markdown",
   "metadata": {},
   "source": [
    "## 로제"
   ]
  },
  {
   "cell_type": "markdown",
   "metadata": {},
   "source": [
    "### 로제 (유튜브 + 매거진)"
   ]
  },
  {
   "cell_type": "code",
   "execution_count": 516,
   "metadata": {},
   "outputs": [],
   "source": [
    "tot_ro = pd.read_csv('./tot_rose_adfn_2.csv', encoding = 'utf-8', sep = '|')"
   ]
  },
  {
   "cell_type": "code",
   "execution_count": 517,
   "metadata": {},
   "outputs": [],
   "source": [
    "tot_ro['word'] = tot_ro['word_rose']"
   ]
  },
  {
   "cell_type": "code",
   "execution_count": 518,
   "metadata": {},
   "outputs": [],
   "source": [
    "tot_R = tot_ro[['magazine', 'brand', 'title', 'word', 'ADFN', 'ADFN_2']]"
   ]
  },
  {
   "cell_type": "code",
   "execution_count": 519,
   "metadata": {},
   "outputs": [
    {
     "data": {
      "text/plain": [
       "140"
      ]
     },
     "execution_count": 519,
     "metadata": {},
     "output_type": "execute_result"
    }
   ],
   "source": [
    "len(tot_R)"
   ]
  },
  {
   "cell_type": "markdown",
   "metadata": {},
   "source": [
    "### 생로랑 + 로제"
   ]
  },
  {
   "cell_type": "code",
   "execution_count": 520,
   "metadata": {},
   "outputs": [],
   "source": [
    "S6R = pd.concat([mag_S6, tot_R])"
   ]
  },
  {
   "cell_type": "code",
   "execution_count": 521,
   "metadata": {},
   "outputs": [],
   "source": [
    "S6R.reset_index(drop = True, inplace = True)"
   ]
  },
  {
   "cell_type": "code",
   "execution_count": 522,
   "metadata": {},
   "outputs": [],
   "source": [
    "S6R.to_csv('./magazine/final/S6R.csv', sep = '|', encoding = 'utf-8', index = False)"
   ]
  },
  {
   "cell_type": "code",
   "execution_count": 523,
   "metadata": {},
   "outputs": [
    {
     "data": {
      "text/plain": [
       "353"
      ]
     },
     "execution_count": 523,
     "metadata": {},
     "output_type": "execute_result"
    }
   ],
   "source": [
    "len(S6R)"
   ]
  },
  {
   "cell_type": "code",
   "execution_count": null,
   "metadata": {},
   "outputs": [],
   "source": []
  },
  {
   "cell_type": "code",
   "execution_count": 524,
   "metadata": {},
   "outputs": [],
   "source": [
    "# for word in mag_jenny['word_jenny']:\n",
    "#     if '걸' in word:\n",
    "#         print(word)\n",
    "#         print('-'*50)"
   ]
  },
  {
   "cell_type": "code",
   "execution_count": 525,
   "metadata": {},
   "outputs": [
    {
     "name": "stdout",
     "output_type": "stream",
     "text": [
      "['영어', '자막', '추가', '되었습니다', '즐겁게', '감상', '부탁드려요', 'English', 'subtitles', 'have', 'been', 'added', 'Please', 'have', 'fun', '사기', '캐릭', '천진난만', '순수한', '소녀', '카메라', '서면', '프로', '쌉', '프로', 'She', 'just', 'phenomenal', 'that', 'innocent', 'laugh', 'switched', 'badass', 'with', 'camera', 'on', '로제', '전설', '미모', '실화', '인생', '행복하다', '살아야지', 'BLACKPINK', '사랑', '없으면', '살겠다', '고맙다', '고마워', '수고', '했어', '힘들지', '않았으면', '로제', '예쁘다', '수많은', '오해', '거짓', '루머', '질투', '맘', '상하', '걸어가는', '멋진', '찐가수가', '되길', '바', '멀리', '애정', '싸랑', '챙', '이를', '사랑', '로제', '볼때', '할말을', '잃게', '만드는구나', '매력', '끝', '도대체', '우아하고', '귀엽다', '하네', '서른', '넘은', '여잔', '갑자기', '늦덕', '입성', '며칠', '째', '친구', '빠져나오고', '있음', 'The', 'Most', 'Expensive', 'KPOP', 'Photo', 'Shoot', 'Of', 'All', 'Time', 'Artist', '로제', 'BLACKPINK', '로제', '로제', '로제', 'behind', '로제', 'scene', 'No', 'matter', 'how', 'long', 'takes', 'will', 'wait', 'for', 'Chaeyoung', 'no', 'matter', 'how', 'long', 'whether', 'be', 'year', 'or', 'even', 'will', 'never', 'leave', 'even', 'when', 'leave', 'BLACKPINK', 'll', 'support', 'even', 'more', 'than', 'do', 'now', 'show', 'that', 'people', 'love', 'have', 'fans', 'not', 'just', 'because', 'BLACKPINK', 'but', 'because', 'people', 'love', 'admire', 'your', 'personality', 'nature', 'dancing', 'rapping', 'voice', 'm', 'forever', 'thankful', 'for', 'introducing', 'me', 'world', 'pop', 'first', 'listened', 'BLACKPINK', 'Kill', 'This', 'Love', 'didn', 'like', 'beginning', 'was', 'about', 'close', 'tab', 'but', 'then', 'heard', 'your', 'voice', 'fell', 'in', 'love', 'with', 'your', 'acting', 'your', 'looks', 'your', 'expressions', 'but', 'most', 'importantly', 'your', 'voice', 'Then', 'came', 'love', 'all', 'Rosie', 'equally', 'but', 'never', 'forgot', 'that', 'moment', 're', 'my', 'ultimate', 'bias', 'Rosie', 'And', 'will', 'always', 'be', 'Keep', 'on', 'shining', 'don', 'forget', 'aim', 'for', 'moon', 'because', 'll', 'always', 'land', 'among', 'stars', 'with', 'us', 'supporting', 'P', 'S', 'm', 'starting', 'make', 'fan', 'vids', 'about', 'Chaeyoung', 'Stage', 'name', '로제', 'please', 'check', 'out', 'sub', 'if', 'want', 'D', 'On', 'my', 'about', 'page', 'have', 'details', 'on', 'how', 'increase', 'Rosie', 'brand', 'rep', 'on', 'my', 'about', 'page', 'BLACKPINK', '로제', '귀염둥이', '새벽', '힘들었을텐데', '웃으며', '최선', 'The', 'Flower', 'Scene', 'Looks', 'Like', 'She', 'Is', 'In', 'HER', 'PREPARATIONS', 'FOR', 'Her', 'WEDDING', 'THAT', 'BLACKPINK', '로제', '로제', '더블유', '커버', '라서', '버전', '별로', 'The', 'most', 'beautiful', 'model', 'musician', 'pet', 'mom', 'artist', 'have', 'ever', 'seen', '로제', '로제', '로제', '로제', '사랑', '이쁠수가', '있지', '로제', '좋아하고', '동시', '귀엽다', '재밌을', '화려하면서도', '동시', '귀엽다', 'She', 'cutest', 'most', 'humble', 'person', 'ever', '로제', '로제', '로제', '사랑스러워', '낀', '목걸이', '비싼거여서', '뒤', '경호원', '있었다고', '했던것', '맞나', '인스타', '맞을수도', '아닐수도', '십', '억대', '했다고', '로제', '꽃길', '걷자', '이뿌다', '로제', '스모키', '길게', '빼주', '섹쉬', '예쁘네요', '헤메', '해주시', '로제', '이쁘게', '꾸며', '주세요', '부탁', '로제', '예쁘다', '하루하루', '빛', '로제', '다양한', '머리스타일', '해주어', '어울리는', '머리색', '없어', '로제', '빠지면', '빠져나올', '매력', '있음', '수록', '음악', '명반', '로제', '음색', '극락', '즐겁게', '감상', '하셨나요', '영어', '자막', '추가', '될', '예정', '이니', '기다려주세요', 'Did', 'enjoy', 'watching', 'English', 'subtitles', 'will', 'be', 'added', 'please', 'wait', '귀엽다', '예쁘다', '서나', '사랑받는', '건강하자', '챙', '로제', '미쳐', '마', '이럽', '로제', '예쁘다', '고급', '지고', '예쁘다', '짜리', '왔다', '로제', '로제', '핑크색머리', '예쁘다', '어울려요', 'Beautiful', '로제', 'BLACKPINK', '로제', '로제', '로제', '사랑', '로제', '사랑스러워', '로제', '예쁘다', '예쁘다', '챙', '아름다워', '뭘', '입어도', '스타일리시', '챙', 'LAURENT', '예쁘다', '고급', '지고', '기여', 'A', 'whole', 'set', 'band', 'instrument', 'for', '로제', 'musician', 'but', 'a', 'jewelry', 'photoshoot', 'tho', '로제', '로제', '로제', 'BLACKPINK', '로제', '완벽해요', 'BLACKPINK', '음악', 'Lovesick', 'Girls', '나왔어요', '들어주세요', '예쁘다', '언니', '오로라', '정령', '수국', '요정', '밤', '여신', '예쁘다', 'BLACKPINK', '원픽', 'A', 'very', 'sweeeeett', 'person', 'as', 'always', '이쁘어', '귀엽다', '사랑', '목걸이', '로제', '귀엽다', '목', '짜리', '목걸이', '로제', '목걸이', '인생', '활력소', '로제', 'BEST', 'GIRL', 'BLACKPINK', '로제', '로제', 'stunning', 'queen', 'she', 'professional', '로제', 'BLACKPINK', '로제', 'High', 'Fashion', 'Model', 'BLACKPINK', '로제', '로제', '로제', '공', '쥬', 'BLACKPINK', '로제', '로제', 'Thank', 'TiffanyAndCo', '로제', '로제', 'ALWAYS', 'WITH', '로제', 'BLACKPINK', '로제', '로제', '로제', '연', '하라', '결혼', '라면', '로제', 'The', 'Way', 'She', 'Is', 'So', 'BLACKPINK', '로제', '로제', '말랐다', '로제', '사랑', '예쁘다', 'KBLACKPINK', '로제', '로제', '아아', '아아', '아아', '언니', '예쁘다', '요요', '요요', 'KBLACKPINK', '로제', '로제', '로제', '로제', 'BLACKPINK', '로제', 'she', 'beautiful', 'Bubbly', 'BLACKPINK', '로제', '로제', '나무', '예쁘다', 'elegance', 'expensive', '로제', 'x', 'TiffanyAndCoBLACKPINK', '로제', '로제', '로제', 'BLACKPINK', '로제', '로제', '여신', '여신', '女神', '아따', '한국어', '찾기', '어렵네', 'Ros', 'ê', 'prettiest', 'musician', '로제', '로제', 'BLACKPINK', '유튭십', '들아', '프리미엄', '쓰는데', '한국어', '안보', '여서', '해지', '하기전에', '얼른', '기능', '만들어라', 'Cool', 'GirlBLACKPINK', '로제', '로제', '로제', '로제', 'BLACKPINK', '로제', '로제', 'u', 'u', 'u', '로제', 'u', 'u', 'u', 'fBLACKPINK', '로제', '로제', 'u', 'u', 'u', '로제', 'u', 'u', 'u', 'fBLACKPINK', '로제', '로제', 'u', 'u', 'u', '로제', 'u', 'u', 'u', 'fBLACKPINK', '로제', '로제', 'u', 'u', 'u', '로제', '로제', '로제', 'pretty', '로제', '로제', '아늬', '한국인', '없늬', '로제', '무대', '밑', '매력', '궁금하다고', '영상', '보여줄거', '귀엽지', '내용', '좋았는데', '비하인드', '영상', '사랑', '더블유', '챙', '예쁘다', '아구', '예쁘다', '한국어', '보고싶다', '로제', '예쁘다', '아아', '앍', '소중해', '로제', '기다리고', '있을게', '사랑', '애애', '로제', '화보', '레전드', '사랑스러워도', 'behind', '로제', 'scene', 'gorgeous', 'é', 'BLACKPINK', '로제', '로제', 'u', '로제', 'u', 'fBLACKPINK', '로제', '로제', 'u', '로제', '나오게', '예쁘구나', '말랐다', '로제', '귀엽다', '아니냐구', '로제', '́', 'look', 'hot', '로제', '로제', '무', '예쁘다', 'They', 'did', 'all', 'this', 'am', 'look', 'how', 'perfect', 'she', 'looks', '여신', 'queen', 'ros', 'é', 'beautiful', '로제', '로제', 'BLACKPINK', '로제', '로제', '로제', '로제', '찍', '멋있는거야', '챙', '둥이', '로제', '귀요미', 'What', 'should', 'do', 'smile', 'like', 'a', 'proud', 'mom', '로제', '로제', '로제', 'behind', '로제', 'scene', 'BLACKPINK', '로제', '매우', '아름다운', '로제', '사랑', '로제', 'BEST', 'GIRL', '로제', '로제', 'BLACKPINK', '로제', 'behind', '로제', 'scene', 'She', 'definition', 'Music', 'behind', '로제', 'scene', 'BLACKPINK', '로제', '로제', 'rsm', 'Elegant', 'Timeless', 'Beauty', 'behind', '로제', 'scene', 'BLACKPINK', '로제', '로제', '로제', 'High', 'Fashion', 'Model', 'behind', '로제', 'scene', 'BLACKPINK', '로제', '로제', '로제', '미쳤어', '챙', '미모', '늘', '역대', '늘', '놀라자나', 'BLACKPINK', '로제', '로제', 'u', '로제', 'BLACKPINK', '로제', '로제', 'u', '로제', 'BLACKPINK', '로제', '로제', 'u', '로제', 'BLACKPINK', '로제', '로제', 'u', '로제', 'BLACKPINK', '로제', '로제', 'u', '로제', 'BLACKPINK', '로제', '로제', 'u', '로제', 'BLACKPINK', '로제', '로제', 'u', '로제', 'BLACKPINK', '로제', '로제', 'u', '로제', 'BLACKPINK', '로제', '로제', 'u', '로제', 'u', 'u', 'u', 'fBLACKPINK', '로제', '로제', 'u', '로제', '로제', '귀엽다', '로제', 'SOLO', 'BEST', 'GIRL', '로제', 'AN', 'ANGEL', '로제', 'GLOBAL', 'AMBASSADOR', '로제', 'HUMAN', 'LUXURY', '로제', 'PRETTY', '로제', 'BEST', 'SOLO', '로제', 'MISSSAINTLAURENT', '로제', 'CUTE', '로제', 'LEAD', 'DANCER', '로제', 'MAIN', 'VOCALIST', '로제', 'BEAUTIFULBLACKPINK', '로제', '로제', '로제', 'BLACKPINK', '로제', '로제', '로제', '로제', '로제', '로제', '로제', '로제', '로제', '로제', '로제', '로제', '로제', '로제', '로제', '로제', '로제', '로제', '로제', '로제', '로제', '로제', '로제', '티파니', '앤코', '찰떡', 'LAURENT', '찰떡', '알았더니', '헤메', '스타', '완벽해', '아치', '눈썹', '티파니', '앤코', '했으면', '어울려', '로제', 'SOLO', 'BEST', 'BEST', 'BODY', 'AN', 'ANGEL', 'GLOBAL', 'HUMAN', 'MISSSAINTLAURENT', '로제', 'PERFECT', 'QUEEN', 'LEAD', 'MAIN', 'BEST', 'BEAUTIFUL', '로제', '로제', '로제', '로제', '로제', '로제', '로제', '로제', '로제', '로제', '로제', '로제', '로제', '로제', '로제', '로제', '로제', '로제', '로제', '로제', '로제', '로제', '로제', '로제', 'BLACKPINK', '로제', '로제', 'BLACKPINK', '彩英', 'ロゼ', '로제', 'ANNEPARK', 'PARKCHAEYOUNG', '로제', 'BLINK', '로제', 'YouMadeIt', 'BLACKPINK', '로제', '로제', '로제', '사랑스러워라', 'The', 'Way', 'WANT', 'TREAT', 'Her', 'Like', 'This', 'BLACKPINK', '로제', '로제', '로제', 'behind', '로제', 'scene', 'can', 'watch', 'this', 'video', 'a', 'hundred', 'times', '로제', 'PRETTY', 'PRETTY', '로제', '로제', 'BLACKPINK', 'BLACKPINK', 'Is', 'she', 'even', 'real', 'THIS', 'IS', 'NOT', '로제', 'THIS', 'IS', 'ANGEL', 'ANGELS', 'É', '로제', '로제', 'BLACKPINK', 'BLACKPINK', 'The', 'most', 'beautiful', 'girl', 'ive', 'ever', 'seen', 'in', 'my', 'life', '로제', '로제', 'BLACKPINK', 'BLACKPINK', 'After', 'all', 'this', 'time', 'YES', '로제', 'DESERVES', 'ALL', 'OF', 'IT', '로제', '로제', 'BLACKPINK', 'BLACKPINK', 'The', 'most', 'beautiful', 'angel', '로제', 'we', 'love', '로제', '로제', 'BLACKPINK', 'BLACKPINK', 'HUMAN', 'LUXURY', '로제', '로제', 'BLACKPINK', '로제', 'OUR', 'MUSICIAN', '로제', 'BLACKPINK', '로제', '로제', 'When', '로제', 'Karma', 'Is', 'Always', 'The', 'BEST', 'BLACKPINK', '로제', '로제', '로제', 'behind', '로제', 'scene', '예쁘다', '웃는', '매우', '예쁘다', '좋아한다', '๑╹っ╹๑', 'Bubbly', 'BLACKPINK', '로제', '로제', '로제', 'behind', '로제', 'scene', '로제', 'SOLO', 'BEST', 'GIRL', '로제', 'AN', 'ANGEL', '로제', 'GLOBAL', 'AMBASSADOR', '로제', 'HUMAN', 'LUXURY', '로제', 'PRETTY', '로제', 'MAIN', 'VOCALIST', '로제', 'MISSSAINTLAURENT', '로제', 'CUTE', '로제', 'LEAD', 'DANCER', '로제', 'MAIN', 'VOCALIST', '로제', 'BEAUTIFULBLACKPINK', '로제', '로제', '로제', 'BLACKPINK', '로제', '로제', '로제', '로제', '로제', '로제', '로제', '로제', '로제', '로제', '로제', '로제', '로제', '로제', '로제', '로제', '로제', '로제', '로제', '로제', '로제', '로제']\n",
      "--------------------------------------------------\n"
     ]
    }
   ],
   "source": [
    "for word in S6R['ADFN_2']:\n",
    "    if \"elegance\" in word:\n",
    "        print(word)\n",
    "        print('-'*50)"
   ]
  },
  {
   "cell_type": "code",
   "execution_count": 526,
   "metadata": {},
   "outputs": [],
   "source": [
    "# love\n",
    "S6R['ADFN_2'] = S6R['ADFN_2'].str.replace(\"love\", \"사랑\")\n",
    "# 걸그룹\n",
    "S6R['ADFN_2'] = S6R['ADFN_2'].str.replace(\"'원', '탑'\", \"원탑\")"
   ]
  },
  {
   "cell_type": "code",
   "execution_count": 527,
   "metadata": {},
   "outputs": [],
   "source": [
    "# 로제\n",
    "S6R['ADFN_2'] = S6R['ADFN_2'].str.replace(\"朴彩英哭戏\", \"로제\")\n",
    "S6R['ADFN_2'] = S6R['ADFN_2'].str.replace(\"朴彩瑛\", \"로제\")\n",
    "S6R['ADFN_2'] = S6R['ADFN_2'].str.replace(\"PARKCHAEYOUNG\", \"로제\")"
   ]
  },
  {
   "cell_type": "code",
   "execution_count": 528,
   "metadata": {},
   "outputs": [],
   "source": [
    "# 인간\n",
    "S6R['ADFN_2'] = S6R['ADFN_2'].str.replace(\"HUMAN\", \"인간\")\n",
    "# 생로랑\n",
    "S6R['ADFN_2'] = S6R['ADFN_2'].str.replace(\"MISSSAINTLAURENT\", \"'인간', 'LAURENT'\")"
   ]
  },
  {
   "cell_type": "code",
   "execution_count": 529,
   "metadata": {},
   "outputs": [],
   "source": [
    "# 귀엽다\n",
    "S6R['ADFN_2'] = S6R['ADFN_2'].str.replace(\"'귀엽'\", \"귀엽다\")\n",
    "# 귀엽다\n",
    "S6R['ADFN_2'] = S6R['ADFN_2'].str.replace(\"'귀여운'\", \"귀엽다\")"
   ]
  },
  {
   "cell_type": "code",
   "execution_count": 530,
   "metadata": {},
   "outputs": [],
   "source": [
    "S6R['ADFN_2'] = S6R['ADFN_2'].str.replace(\"♡\", \"\")"
   ]
  },
  {
   "cell_type": "code",
   "execution_count": 531,
   "metadata": {},
   "outputs": [],
   "source": [
    "# 하이틴\n",
    "S6R['ADFN_2'] = S6R['ADFN_2'].str.replace(\"'하이', '틴'\", \"하이틴\")"
   ]
  },
  {
   "cell_type": "code",
   "execution_count": 532,
   "metadata": {},
   "outputs": [],
   "source": [
    "# 프리티\n",
    "S6R['ADFN_2'] = S6R['ADFN_2'].str.replace(\"'프리', '티'\", \"프리티\")\n",
    "S6R['ADFN_2'] = S6R['ADFN_2'].str.replace(\"'푸리', '티'\", \"프리티\")\n",
    "\n",
    "# 프리티\n",
    "S6R['ADFN_2'] = S6R['ADFN_2'].str.replace(\"'스포', '티'\", \"스포티\")"
   ]
  },
  {
   "cell_type": "code",
   "execution_count": 533,
   "metadata": {},
   "outputs": [],
   "source": [
    "# 비주얼\n",
    "S6R['ADFN_2'] = S6R['ADFN_2'].str.replace(\"'비주'\", \"비주얼\")"
   ]
  },
  {
   "cell_type": "code",
   "execution_count": 534,
   "metadata": {},
   "outputs": [],
   "source": [
    "# 퀸\n",
    "S6R['ADFN_2'] = S6R['ADFN_2'].str.replace(\"'QUINN'\", \"퀸\")\n",
    "# 퀸\n",
    "S6R['ADFN_2'] = S6R['ADFN_2'].str.replace(\"'QUEEN'\", \"퀸\")\n"
   ]
  },
  {
   "cell_type": "code",
   "execution_count": 535,
   "metadata": {},
   "outputs": [],
   "source": [
    "# 로랑\n",
    "S6R['ADFN_2'] = S6R['ADFN_2'].str.replace(\"'YSL'\", \"LAURENT\")"
   ]
  },
  {
   "cell_type": "code",
   "execution_count": 536,
   "metadata": {},
   "outputs": [],
   "source": [
    "# love\n",
    "S6R['ADFN_2'] = S6R['ADFN_2'].str.replace(\"elegance\", \"우아\")"
   ]
  },
  {
   "cell_type": "code",
   "execution_count": null,
   "metadata": {},
   "outputs": [],
   "source": []
  },
  {
   "cell_type": "markdown",
   "metadata": {},
   "source": [
    "## stopword 추가"
   ]
  },
  {
   "cell_type": "code",
   "execution_count": 537,
   "metadata": {},
   "outputs": [],
   "source": [
    "sw_df = pd.read_csv('stopwords.csv', header=None)"
   ]
  },
  {
   "cell_type": "code",
   "execution_count": 538,
   "metadata": {},
   "outputs": [],
   "source": [
    "sw_df.columns = ['stopword']"
   ]
  },
  {
   "cell_type": "code",
   "execution_count": 539,
   "metadata": {},
   "outputs": [],
   "source": [
    "stop_words = []\n",
    "for sw in sw_df['stopword']:\n",
    "    stop_words.append(sw)"
   ]
  },
  {
   "cell_type": "code",
   "execution_count": 540,
   "metadata": {},
   "outputs": [
    {
     "name": "stdout",
     "output_type": "stream",
     "text": [
      "675\n",
      "<class 'list'>\n"
     ]
    }
   ],
   "source": [
    "print(len(stop_words))\n",
    "print(type(stop_words))"
   ]
  },
  {
   "cell_type": "code",
   "execution_count": 541,
   "metadata": {},
   "outputs": [
    {
     "data": {
      "text/plain": [
       "['둘', '셋', '넷', '다섯', '여섯', '일곱', '여덟', '아홉', '령', '영']"
      ]
     },
     "execution_count": 541,
     "metadata": {},
     "output_type": "execute_result"
    }
   ],
   "source": [
    "stop_words[-10:]"
   ]
  },
  {
   "cell_type": "code",
   "execution_count": 542,
   "metadata": {},
   "outputs": [],
   "source": [
    "add_0 = ['진짜', '존나', '보고', '그냥', '카이', '이광수', '광수', '런닝맨', '❤️', '없는', '유재석', '❤', '♥', '♡', '♡','♡',\n",
    "         '있고', '거', \n",
    "         '내', '더', '개', '사람', '영상', '광고', '언니', '말', '뭐', '수', '생각', '아는', \n",
    "        '있는', '정말', '같은', '같음', '듯', '♡', '완전', '같아', '정도', '지금', '역시', '뭔가', '입니다', '때문', '아니라',\n",
    "         '함', '같은데', '해', '하는', '할', '넘', '한', '안', '했다', '보면', '데', '하고', '하면', '게', '해서', '봐도', \n",
    "         '한다', '된', '건', '요', '움', '임', '애', '하는거', '해도', '보는', '이제', '했는데', '하는데', '하는게', '같아요', \n",
    "         '합니다', '하지', '하게', '되는', 'I', '는', '난', '서', '도', '줄', '위', '분', '알', '은', '두', '번', '뒤',\n",
    "         '이건', '없다', '있어요', '아니고', '있어', \n",
    "        '계속', '원래', '뭘', '못', '후', '이름', '속', '욕', '옆', '하네', '아님', '그런', '된다', '있음',\n",
    "        '같', '돼', 'you', '제품', '표현', 'n', '봤는데', '건가', '나오는', '가지', '저런', '보이', '고',\n",
    "        '중', '사진', '댓글', '부분', '진심', '그녀', '보', '날', '겁나', '요즘', '앞', '워', '이유', '솔직히', '하며', '통해',\n",
    "        '모든', '항상', '전', '기자', '다시', '오늘', '↑', '이자', '대해',\n",
    "        '링', '한편', '️⃣',\n",
    "        '람쥐', '아닌가', '도민준', '없네', '이수근', '아이유', 'our', '젠', '였다면', '올해', '미우', 'The', 'my', '이란',\n",
    "        '그게', '같고', '아니다', '아닌데', '있지',  '만큼', '백예린', '같네', 'we', '있게', '덕분', '있어서', '든', '썸넬',\n",
    "        '라서', '여서', '라면', '인지', 'a','와중', '하자', '이후', '해야', '예전', '막',\n",
    "        '없어', '왜케', 'You', 'THE', 'your', 'u', 'AN', '수가',\n",
    "        'MUCH', 'FORTIFFANYANDCO', 'TIFFANYANDCO', 'ahh', 'her', 'knew', '않고', '보니']\n",
    "for w in add_0:\n",
    "    stop_words.append(w)"
   ]
  },
  {
   "cell_type": "code",
   "execution_count": 543,
   "metadata": {},
   "outputs": [],
   "source": [
    "add_1 = ['BLACKPINK', '제니', '지수', '리사']\n",
    "for w in add_1:\n",
    "    stop_words.append(w)"
   ]
  },
  {
   "cell_type": "code",
   "execution_count": 544,
   "metadata": {},
   "outputs": [
    {
     "data": {
      "text/plain": [
       "887"
      ]
     },
     "execution_count": 544,
     "metadata": {},
     "output_type": "execute_result"
    }
   ],
   "source": [
    "len(stop_words)"
   ]
  },
  {
   "cell_type": "code",
   "execution_count": null,
   "metadata": {},
   "outputs": [],
   "source": []
  },
  {
   "cell_type": "code",
   "execution_count": 545,
   "metadata": {},
   "outputs": [],
   "source": [
    "S6R['ADFN_2'] = S6R['ADFN_2'].str.replace('[', '').str.replace(']', '').str.replace('\"', '').str.replace(\"'\", \"\").str.split(', ')"
   ]
  },
  {
   "cell_type": "code",
   "execution_count": 546,
   "metadata": {},
   "outputs": [],
   "source": [
    "noun_adj_list = []\n",
    "for i in range(len(S6R)):\n",
    "    for word in S6R.loc[i, 'ADFN_2']:\n",
    "        if word not in stop_words:\n",
    "            noun_adj_list.append(word)"
   ]
  },
  {
   "cell_type": "code",
   "execution_count": 547,
   "metadata": {},
   "outputs": [
    {
     "name": "stdout",
     "output_type": "stream",
     "text": [
      "[('로제', 9279), ('예쁘다', 1383), ('귀엽다', 1064), ('사랑', 798), ('노래', 697), ('목소리', 635), ('LAURENT', 614), ('음색', 481), ('솔로', 401), ('음악', 311), ('챙', 311), ('무대', 301), ('BEST', 296), ('머리', 253), ('춤', 251), ('매력', 248), ('느낌', 217), ('레전드', 213), ('아이돌', 209), ('패션', 193), ('처음', 178), ('금발', 178), ('직캠', 175), ('코첼라', 173), ('머리카락', 167), ('여자', 156), ('인간', 154), ('바람', 150), ('스타일', 148), ('최고', 148), ('브랜드', 138), ('영어', 138), ('여신', 138), ('공주', 128), ('창법', 124), ('입덕', 117), ('몸매', 115), ('춤선', 115), ('가수', 110), ('분위기', 107), ('컬렉션', 106), ('모델', 103), ('한국', 95), ('쇼', 94), ('드레스', 90), ('', 90), ('찰떡', 86), ('스타', 86), ('퀸', 85), ('디자이너', 84), ('실력', 84), ('대박', 83), ('ANTHONY', 78), ('발음', 78), ('여성', 77), ('짱', 76), ('컬러', 75), ('블랙', 72), ('라이브', 72), ('애교', 71), ('파리', 70), ('하우스', 70), ('봄', 68), ('보컬', 67), ('멋있다', 66), ('BLINK', 65), ('왕', 64), ('미모', 64), ('소리', 64), ('천사', 63), ('신', 62), ('요정', 62), ('시작', 62), ('명품', 61), ('헤어', 61), ('핑크', 59), ('허리', 58), ('순간', 58), ('심장', 58), ('표정', 58), ('고급', 57), ('인기', 57), ('다리', 57), ('재킷', 55), ('사기', 55), ('소재', 54), ('원', 54), ('팬츠', 53), ('디자인', 52), ('사랑스럽다', 52), ('HEDI', 51), ('세계', 51), ('시즌', 51), ('말투', 50), ('커버', 50), ('최애', 49), ('누나', 49), ('집', 48), ('제만', 48), ('걸그룹', 48), ('애기', 48), ('가사', 47), ('소름', 47), ('셔츠', 46), ('힘', 46), ('버전', 46), ('화보', 46), ('노력', 46), ('한국인', 46), ('독보', 46), ('눈치', 45), ('좋', 45), ('톱', 45), ('시크', 45), ('남자', 45), ('완벽', 45), ('존재', 45), ('포인트', 45), ('활동', 45), ('한국어', 45), ('남', 44), ('친구', 44), ('ANGEL', 44), ('GLOBAL', 44), ('코디', 44), ('없음', 44), ('라인', 43), ('디렉터', 43), ('까', 43), ('꼭', 43), ('미쳤어', 43), ('아아', 43), ('If', 43), ('탑', 42), ('관심', 42), ('로지', 42), ('이지', 42), ('물', 42), ('기분', 42), ('연예인', 42), ('LOVE', 42), ('장식', 41), ('리본', 41), ('특유', 41), ('외모', 41), ('인스타', 41), ('BODY', 41), ('PERFECT', 41), ('BEAUTIFUL', 41), ('웃기', 41), ('first', 41), ('강냉이', 41), ('소화', 40), ('풀', 40), ('아티스트', 40), ('끝', 40), ('형', 40), ('주황', 40), ('사랑스러워', 40), ('복면', 40), ('ROSIE', 40), ('간', 39), ('빛', 39), ('성', 39), ('온', 39), ('성격', 39), ('재능', 39), ('부를', 39), ('깡패', 39), ('sight', 39), ('영화', 38), ('COUTURE', 38), ('목', 38), ('음원', 38), ('보기', 38), ('장', 38), ('볼때', 38), ('곳', 37), ('로고', 37), ('손', 37), ('비주얼', 37), ('눈빛', 37), ('스커트', 37), ('매일', 37), ('있으면', 37), ('메인보컬', 37), ('말랐다', 37), ('가죽', 36), ('기대', 36), ('점', 36), ('톤', 36), ('먹고', 36), ('부르고', 36), ('SOLO', 36), ('for', 36), ('어울리는', 36), ('샤키라', 36), ('갚아', 36), ('색', 35), ('얘기', 35)]\n"
     ]
    }
   ],
   "source": [
    "word = Counter(noun_adj_list)\n",
    "print(word.most_common(200))"
   ]
  },
  {
   "cell_type": "code",
   "execution_count": null,
   "metadata": {},
   "outputs": [],
   "source": []
  },
  {
   "cell_type": "code",
   "execution_count": 548,
   "metadata": {},
   "outputs": [],
   "source": [
    "count = Counter(noun_adj_list)"
   ]
  },
  {
   "cell_type": "code",
   "execution_count": 549,
   "metadata": {},
   "outputs": [
    {
     "name": "stdout",
     "output_type": "stream",
     "text": [
      "('로제', 9279)\n",
      "('예쁘다', 1383)\n",
      "('귀엽다', 1064)\n",
      "('사랑', 798)\n",
      "('노래', 697)\n",
      "('목소리', 635)\n",
      "('LAURENT', 614)\n",
      "('음색', 481)\n",
      "('솔로', 401)\n",
      "('음악', 311)\n",
      "('챙', 311)\n",
      "('무대', 301)\n",
      "('BEST', 296)\n",
      "('머리', 253)\n",
      "('춤', 251)\n",
      "('매력', 248)\n",
      "('느낌', 217)\n",
      "('레전드', 213)\n",
      "('아이돌', 209)\n",
      "('패션', 193)\n",
      "('처음', 178)\n",
      "('금발', 178)\n",
      "('직캠', 175)\n",
      "('코첼라', 173)\n",
      "('머리카락', 167)\n",
      "('여자', 156)\n",
      "('인간', 154)\n",
      "('바람', 150)\n",
      "('스타일', 148)\n",
      "('최고', 148)\n",
      "('브랜드', 138)\n",
      "('영어', 138)\n",
      "('여신', 138)\n",
      "('공주', 128)\n",
      "('창법', 124)\n",
      "('입덕', 117)\n",
      "('몸매', 115)\n",
      "('춤선', 115)\n",
      "('가수', 110)\n",
      "('분위기', 107)\n",
      "('컬렉션', 106)\n",
      "('모델', 103)\n",
      "('한국', 95)\n",
      "('쇼', 94)\n",
      "('드레스', 90)\n",
      "('', 90)\n",
      "('찰떡', 86)\n",
      "('스타', 86)\n",
      "('퀸', 85)\n",
      "('디자이너', 84)\n",
      "('실력', 84)\n",
      "('대박', 83)\n",
      "('ANTHONY', 78)\n",
      "('발음', 78)\n",
      "('여성', 77)\n",
      "('짱', 76)\n",
      "('컬러', 75)\n",
      "('블랙', 72)\n",
      "('라이브', 72)\n",
      "('애교', 71)\n",
      "('파리', 70)\n",
      "('하우스', 70)\n",
      "('봄', 68)\n",
      "('보컬', 67)\n",
      "('멋있다', 66)\n",
      "('BLINK', 65)\n",
      "('왕', 64)\n",
      "('미모', 64)\n",
      "('소리', 64)\n",
      "('천사', 63)\n",
      "('신', 62)\n",
      "('요정', 62)\n",
      "('시작', 62)\n",
      "('명품', 61)\n",
      "('헤어', 61)\n",
      "('핑크', 59)\n",
      "('허리', 58)\n",
      "('순간', 58)\n",
      "('심장', 58)\n",
      "('표정', 58)\n",
      "('고급', 57)\n",
      "('인기', 57)\n",
      "('다리', 57)\n",
      "('재킷', 55)\n",
      "('사기', 55)\n",
      "('소재', 54)\n",
      "('원', 54)\n",
      "('팬츠', 53)\n",
      "('디자인', 52)\n",
      "('사랑스럽다', 52)\n",
      "('HEDI', 51)\n",
      "('세계', 51)\n",
      "('시즌', 51)\n",
      "('말투', 50)\n",
      "('커버', 50)\n",
      "('최애', 49)\n",
      "('누나', 49)\n",
      "('집', 48)\n",
      "('제만', 48)\n",
      "('걸그룹', 48)\n",
      "('애기', 48)\n",
      "('가사', 47)\n",
      "('소름', 47)\n",
      "('셔츠', 46)\n",
      "('힘', 46)\n",
      "('버전', 46)\n",
      "('화보', 46)\n",
      "('노력', 46)\n",
      "('한국인', 46)\n",
      "('독보', 46)\n",
      "('눈치', 45)\n",
      "('좋', 45)\n",
      "('톱', 45)\n",
      "('시크', 45)\n",
      "('남자', 45)\n",
      "('완벽', 45)\n",
      "('존재', 45)\n",
      "('포인트', 45)\n",
      "('활동', 45)\n",
      "('한국어', 45)\n",
      "('남', 44)\n",
      "('친구', 44)\n",
      "('ANGEL', 44)\n",
      "('GLOBAL', 44)\n",
      "('코디', 44)\n",
      "('없음', 44)\n",
      "('라인', 43)\n",
      "('디렉터', 43)\n",
      "('까', 43)\n",
      "('꼭', 43)\n",
      "('미쳤어', 43)\n",
      "('아아', 43)\n",
      "('If', 43)\n",
      "('탑', 42)\n",
      "('관심', 42)\n",
      "('로지', 42)\n",
      "('이지', 42)\n",
      "('물', 42)\n",
      "('기분', 42)\n",
      "('연예인', 42)\n",
      "('LOVE', 42)\n",
      "('장식', 41)\n",
      "('리본', 41)\n",
      "('특유', 41)\n",
      "('외모', 41)\n",
      "('인스타', 41)\n",
      "('BODY', 41)\n",
      "('PERFECT', 41)\n",
      "('BEAUTIFUL', 41)\n",
      "('웃기', 41)\n",
      "('first', 41)\n",
      "('강냉이', 41)\n",
      "('소화', 40)\n",
      "('풀', 40)\n",
      "('아티스트', 40)\n",
      "('끝', 40)\n",
      "('형', 40)\n",
      "('주황', 40)\n",
      "('사랑스러워', 40)\n",
      "('복면', 40)\n",
      "('ROSIE', 40)\n",
      "('간', 39)\n",
      "('빛', 39)\n",
      "('성', 39)\n",
      "('온', 39)\n",
      "('성격', 39)\n",
      "('재능', 39)\n",
      "('부를', 39)\n",
      "('깡패', 39)\n",
      "('sight', 39)\n",
      "('영화', 38)\n",
      "('COUTURE', 38)\n",
      "('목', 38)\n",
      "('음원', 38)\n",
      "('보기', 38)\n",
      "('장', 38)\n",
      "('볼때', 38)\n",
      "('곳', 37)\n",
      "('로고', 37)\n",
      "('손', 37)\n",
      "('비주얼', 37)\n",
      "('눈빛', 37)\n",
      "('스커트', 37)\n",
      "('매일', 37)\n",
      "('있으면', 37)\n",
      "('메인보컬', 37)\n",
      "('말랐다', 37)\n",
      "('가죽', 36)\n",
      "('기대', 36)\n",
      "('점', 36)\n",
      "('톤', 36)\n",
      "('먹고', 36)\n",
      "('부르고', 36)\n",
      "('SOLO', 36)\n",
      "('for', 36)\n",
      "('어울리는', 36)\n",
      "('샤키라', 36)\n",
      "('갚아', 36)\n",
      "('색', 35)\n",
      "('얘기', 35)\n",
      "('반', 35)\n",
      "('호주', 35)\n",
      "('제목', 35)\n",
      "('티', 35)\n",
      "('사복', 35)\n",
      "('감사해요', 35)\n",
      "('어쩜', 35)\n",
      "('진', 34)\n",
      "('패턴', 34)\n",
      "('검색', 34)\n",
      "('걱정', 34)\n",
      "('세', 34)\n",
      "('중독', 34)\n",
      "('팝', 34)\n",
      "('in', 34)\n",
      "('연습', 34)\n",
      "('바', 34)\n",
      "('양갈래', 34)\n",
      "('be', 34)\n",
      "('인어공주', 34)\n",
      "('코', 34)\n",
      "('자꾸', 34)\n",
      "('기적', 34)\n",
      "('착하고', 34)\n",
      "('슈트', 33)\n",
      "('이미지', 33)\n",
      "('원피스', 33)\n",
      "('감', 33)\n",
      "('드', 33)\n",
      "('뷰티', 33)\n",
      "('방송', 33)\n",
      "('위해', 33)\n",
      "('팝송', 33)\n",
      "('보임', 33)\n",
      "('천재', 33)\n",
      "('평소', 32)\n",
      "('가을', 32)\n",
      "('올', 32)\n",
      "('기억', 32)\n",
      "('메이크업', 32)\n",
      "('미국', 32)\n",
      "('프로', 32)\n",
      "('차이', 32)\n",
      "('늘', 32)\n",
      "('힐링', 32)\n",
      "('째', 32)\n",
      "('척', 32)\n",
      "('시', 32)\n",
      "('this', 32)\n",
      "('헐', 32)\n",
      "('좋아서', 32)\n",
      "('돌려', 32)\n",
      "('미쳐', 32)\n",
      "('바라봐', 32)\n",
      "('인생', 31)\n",
      "('CREATIVE', 31)\n",
      "('소녀', 31)\n",
      "('완성', 31)\n",
      "('단', 31)\n",
      "('될', 31)\n",
      "('갑자기', 31)\n",
      "('인성', 31)\n",
      "('짜', 31)\n",
      "('캠페인', 30)\n",
      "('클래식', 30)\n",
      "('작업', 30)\n",
      "('피부', 30)\n",
      "('콘서트', 30)\n",
      "('개성', 30)\n",
      "('파트', 30)\n",
      "('제라', 30)\n",
      "('장미', 30)\n",
      "('역대', 30)\n",
      "('알았는데', 30)\n",
      "('티비', 30)\n",
      "('새', 29)\n",
      "('공연', 29)\n",
      "('양', 29)\n",
      "('스', 29)\n",
      "('칭찬', 29)\n",
      "('뿐', 29)\n",
      "('휘파람', 29)\n",
      "('최고다', 29)\n",
      "('나이', 28)\n",
      "('돈', 28)\n",
      "('옷', 28)\n",
      "('가방', 28)\n",
      "('자리', 28)\n",
      "('선택', 28)\n",
      "('여름', 28)\n",
      "('베스트', 28)\n",
      "('글', 28)\n",
      "('거리', 28)\n",
      "('집중', 28)\n",
      "('의미', 28)\n",
      "('카디건', 28)\n",
      "('자란', 28)\n",
      "('준비', 28)\n",
      "('따', 28)\n",
      "('기여', 28)\n",
      "('하이틴', 28)\n",
      "('잘추고', 28)\n",
      "('입어도', 28)\n",
      "('코트', 27)\n",
      "('사용', 27)\n",
      "('새롭', 27)\n",
      "('달', 27)\n",
      "('작품', 27)\n",
      "('트', 27)\n",
      "('파워', 27)\n",
      "('시절', 27)\n",
      "('웃음', 27)\n",
      "('약', 27)\n",
      "('메인', 27)\n",
      "('무', 27)\n",
      "('매우', 27)\n",
      "('자주', 27)\n",
      "('댄스', 27)\n",
      "('all', 27)\n",
      "('어울려', 27)\n",
      "('i', 27)\n",
      "('m', 27)\n",
      "('별로', 27)\n",
      "('가요', 27)\n",
      "('널', 27)\n",
      "('없는데', 27)\n",
      "('제다', 27)\n",
      "('갠', 27)\n",
      "('평생', 26)\n",
      "('치', 26)\n",
      "('레드', 26)\n",
      "('상상', 26)\n",
      "('시대', 26)\n",
      "('해외', 26)\n",
      "('본인', 26)\n",
      "('주인공', 26)\n",
      "('절', 26)\n",
      "('보여', 26)\n",
      "('입고', 26)\n",
      "('나온', 26)\n",
      "('먹는', 26)\n",
      "('아주', 26)\n",
      "('모르는', 26)\n",
      "('와우', 26)\n",
      "('쳐', 26)\n",
      "('부럽다', 26)\n",
      "('멋있어', 26)\n",
      "('나중', 26)\n",
      "('어떡해', 26)\n",
      "('먹', 25)\n",
      "('열', 25)\n",
      "('화이트', 25)\n",
      "('인형', 25)\n",
      "('미니', 25)\n",
      "('영감', 25)\n",
      "('파', 25)\n",
      "('나라', 25)\n",
      "('서로', 25)\n",
      "('쿠션', 25)\n",
      "('글로벌', 25)\n",
      "('짐', 25)\n",
      "('팀', 25)\n",
      "('관리', 25)\n",
      "('받고', 25)\n",
      "('살짝', 25)\n",
      "('음', 25)\n",
      "('중간', 25)\n",
      "('땐', 25)\n",
      "('그거', 25)\n",
      "('있었는데', 25)\n",
      "('찐', 25)\n",
      "('yg', 25)\n",
      "('같아서', 25)\n",
      "('용', 25)\n",
      "('넌', 25)\n",
      "('발성', 25)\n",
      "('아무', 25)\n",
      "('옴', 25)\n",
      "('치마', 25)\n",
      "('가창력', 25)\n",
      "('갭', 25)\n",
      "('사랑스럽고', 25)\n",
      "('부츠', 24)\n",
      "('현재', 24)\n",
      "('럭셔리', 24)\n",
      "('뉴욕', 24)\n",
      "('가족', 24)\n",
      "('활용', 24)\n",
      "('감정', 24)\n",
      "('프랑스', 24)\n",
      "('블루', 24)\n",
      "('이야기', 24)\n",
      "('주위', 24)\n",
      "('마른', 24)\n",
      "('댓', 24)\n",
      "('되고', 24)\n",
      "('벌써', 24)\n",
      "('미소', 24)\n",
      "('귀염', 24)\n",
      "('편집', 24)\n",
      "('always', 24)\n",
      "('이쁘게', 24)\n",
      "('자막', 24)\n",
      "('불러', 24)\n",
      "('고마워', 24)\n",
      "('일부러', 24)\n",
      "('했으면', 24)\n",
      "('타팬', 24)\n",
      "('흑화', 24)\n",
      "('숙주', 24)\n",
      "('ng', 24)\n",
      "('방식', 23)\n",
      "('데님', 23)\n",
      "('취향', 23)\n",
      "('멀', 23)\n",
      "('M', 23)\n",
      "('기록', 23)\n",
      "('섹시', 23)\n",
      "('배우', 23)\n",
      "('자연', 23)\n",
      "('머', 23)\n",
      "('길이', 23)\n",
      "('대체', 23)\n",
      "('기도', 23)\n",
      "('캐릭터', 23)\n",
      "('카메라', 23)\n",
      "('매출', 23)\n",
      "('써', 23)\n",
      "('실제', 23)\n",
      "('like', 23)\n",
      "('눈물', 23)\n",
      "('나올', 23)\n",
      "('들을', 23)\n",
      "('완벽한', 23)\n",
      "('공', 23)\n",
      "('들으면', 23)\n",
      "('가끔', 23)\n",
      "('없고', 23)\n",
      "('많아서', 23)\n",
      "('오지', 23)\n",
      "('외국', 23)\n",
      "('볼수록', 23)\n",
      "('나오면', 23)\n",
      "('마', 23)\n",
      "('안정', 23)\n",
      "('발라드', 23)\n",
      "('하이', 22)\n",
      "('기간', 22)\n",
      "('티셔츠', 22)\n",
      "('아이템', 22)\n",
      "('벨벳', 22)\n",
      "('뮤직비디오', 22)\n",
      "('맨', 22)\n",
      "('갈', 22)\n",
      "('딸', 22)\n",
      "('비율', 22)\n",
      "('행복', 22)\n",
      "('인정', 22)\n",
      "('순', 22)\n",
      "('별', 22)\n",
      "('that', 22)\n",
      "('갈수록', 22)\n",
      "('갑니다', 22)\n",
      "('가격', 22)\n",
      "('만든', 22)\n",
      "('화이팅', 22)\n",
      "('들어도', 22)\n",
      "('타', 22)\n",
      "('해줘', 22)\n",
      "('맘', 22)\n",
      "('장난', 22)\n",
      "('다해', 22)\n",
      "('c', 22)\n",
      "('골드', 21)\n",
      "('다이어트', 21)\n",
      "('몸', 21)\n",
      "('무드', 21)\n",
      "('스키', 21)\n",
      "('배', 21)\n",
      "('그룹', 21)\n",
      "('생활', 21)\n",
      "('발', 21)\n",
      "('누', 21)\n",
      "('큐', 21)\n",
      "('숱', 21)\n",
      "('예정', 21)\n",
      "('아버지', 21)\n",
      "('랩', 21)\n",
      "('필요', 21)\n",
      "('먼저', 21)\n",
      "('é', 21)\n",
      "('아시', 21)\n",
      "('아름다운', 21)\n",
      "('유니크', 21)\n",
      "('This', 21)\n",
      "('댄서', 21)\n",
      "('re', 21)\n",
      "('And', 21)\n",
      "('can', 21)\n",
      "('So', 21)\n"
     ]
    }
   ],
   "source": [
    "word_list = count.most_common(500)\n",
    "for v in word_list:\n",
    "    print(v)"
   ]
  },
  {
   "cell_type": "code",
   "execution_count": null,
   "metadata": {},
   "outputs": [],
   "source": []
  },
  {
   "cell_type": "code",
   "execution_count": null,
   "metadata": {},
   "outputs": [],
   "source": []
  },
  {
   "cell_type": "code",
   "execution_count": 550,
   "metadata": {},
   "outputs": [],
   "source": [
    "top500 = pd.DataFrame(word_list)"
   ]
  },
  {
   "cell_type": "code",
   "execution_count": 551,
   "metadata": {},
   "outputs": [],
   "source": [
    "top500.columns = ['word', 'count']"
   ]
  },
  {
   "cell_type": "code",
   "execution_count": 552,
   "metadata": {},
   "outputs": [],
   "source": [
    "top500.to_csv('./S6R_top500.csv', sep='|', encoding = 'utf-8', index = False)"
   ]
  },
  {
   "cell_type": "markdown",
   "metadata": {},
   "source": [
    "## 워드클라우드 만들기"
   ]
  },
  {
   "cell_type": "code",
   "execution_count": 553,
   "metadata": {},
   "outputs": [],
   "source": [
    "import matplotlib.pyplot as plt"
   ]
  },
  {
   "cell_type": "code",
   "execution_count": 554,
   "metadata": {},
   "outputs": [
    {
     "name": "stdout",
     "output_type": "stream",
     "text": [
      "Malgun Gothic C:\\WINDOWS\\Fonts\\malgun.ttf\n",
      "Yu Gothic C:\\WINDOWS\\Fonts\\YuGothB.ttc\n",
      "HYGothic-Extra C:\\WINDOWS\\Fonts\\H2GTRE.TTF\n",
      "Franklin Gothic Medium C:\\WINDOWS\\Fonts\\framdit.ttf\n",
      "Malgun Gothic C:\\Windows\\Fonts\\malgunbd.ttf\n",
      "Yu Gothic C:\\Windows\\Fonts\\YuGothL.ttc\n",
      "Century Gothic C:\\Windows\\Fonts\\GOTHIC.TTF\n",
      "Yu Gothic C:\\Windows\\Fonts\\YuGothM.ttc\n",
      "Yu Gothic C:\\WINDOWS\\Fonts\\YuGothR.ttc\n",
      "MS Gothic C:\\WINDOWS\\Fonts\\msgothic.ttc\n",
      "HYGothic-Medium C:\\WINDOWS\\Fonts\\H2GTRM.TTF\n",
      "Malgun Gothic C:\\WINDOWS\\Fonts\\malgunsl.ttf\n",
      "Century Gothic C:\\Windows\\Fonts\\GOTHICI.TTF\n",
      "Century Gothic C:\\WINDOWS\\Fonts\\GOTHICBI.TTF\n",
      "Century Gothic C:\\Windows\\Fonts\\GOTHICB.TTF\n",
      "Franklin Gothic Medium C:\\WINDOWS\\Fonts\\framd.ttf\n"
     ]
    }
   ],
   "source": [
    "import matplotlib.font_manager as fm\n",
    "\n",
    "# 이용 가능한 폰트 중 '고딕'만 선별\n",
    "for font in fm.fontManager.ttflist:\n",
    "    if 'Gothic' in font.name:\n",
    "        print(font.name, font.fname)"
   ]
  },
  {
   "cell_type": "code",
   "execution_count": 555,
   "metadata": {},
   "outputs": [],
   "source": [
    "font_path = 'C:\\WINDOWS\\Fonts\\malgun.ttf'"
   ]
  },
  {
   "cell_type": "markdown",
   "metadata": {},
   "source": [
    "### 워드클라우드 그리기"
   ]
  },
  {
   "cell_type": "code",
   "execution_count": 556,
   "metadata": {},
   "outputs": [],
   "source": [
    "from wordcloud import WordCloud"
   ]
  },
  {
   "cell_type": "code",
   "execution_count": 557,
   "metadata": {},
   "outputs": [],
   "source": [
    "wc = WordCloud(font_path=font_path, background_color=\"white\", width=600, height=400)"
   ]
  },
  {
   "cell_type": "code",
   "execution_count": 558,
   "metadata": {},
   "outputs": [
    {
     "data": {
      "image/png": "[encoded data removed]",
      "text/plain": [
       "<Figure size 432x288 with 1 Axes>"
      ]
     },
     "metadata": {
      "needs_background": "light"
     },
     "output_type": "display_data"
    },
    {
     "data": {
      "text/plain": [
       "<wordcloud.wordcloud.WordCloud at 0x1c3c3518c88>"
      ]
     },
     "execution_count": 558,
     "metadata": {},
     "output_type": "execute_result"
    }
   ],
   "source": [
    "wc.generate_from_frequencies(dict(word_list))\n",
    "\n",
    "plt.imshow(wc) \n",
    "plt.axis('off') \n",
    "plt.show()\n",
    "\n",
    "\n",
    "wc.to_file('wc_S6R.png')"
   ]
  },
  {
   "cell_type": "code",
   "execution_count": 559,
   "metadata": {},
   "outputs": [],
   "source": [
    "S8R.to_csv('./magazine/final/S8R_adfn_2.csv', sep='|', encoding = 'utf-8', index = False)"
   ]
  },
  {
   "cell_type": "code",
   "execution_count": 560,
   "metadata": {},
   "outputs": [],
   "source": [
    "S6R.to_csv('./magazine/final/S6R_adfn_2.csv', sep='|', encoding = 'utf-8', index = False)"
   ]
  },
  {
   "cell_type": "code",
   "execution_count": null,
   "metadata": {},
   "outputs": [],
   "source": []
  },
  {
   "cell_type": "code",
   "execution_count": null,
   "metadata": {},
   "outputs": [],
   "source": []
  }
 ],
 "metadata": {
  "kernelspec": {
   "display_name": "Python 3",
   "language": "python",
   "name": "python3"
  },
  "language_info": {
   "codemirror_mode": {
    "name": "ipython",
    "version": 3
   },
   "file_extension": ".py",
   "mimetype": "text/x-python",
   "name": "python",
   "nbconvert_exporter": "python",
   "pygments_lexer": "ipython3",
   "version": "3.7.6"
  }
 },
 "nbformat": 4,
 "nbformat_minor": 4
}
