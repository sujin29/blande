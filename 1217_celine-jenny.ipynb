{
 "cells": [
  {
   "cell_type": "code",
   "execution_count": 2,
   "metadata": {},
   "outputs": [],
   "source": [
    "import pandas as pd\n",
    "import numpy as np\n",
    "import re\n",
    "import networkx as nx\n",
    "import matplotlib.pyplot as plt"
   ]
  },
  {
   "cell_type": "code",
   "execution_count": 3,
   "metadata": {},
   "outputs": [],
   "source": [
    "from collections import Counter"
   ]
  },
  {
   "cell_type": "markdown",
   "metadata": {},
   "source": [
    "## 셀린느"
   ]
  },
  {
   "cell_type": "code",
   "execution_count": 40,
   "metadata": {},
   "outputs": [],
   "source": [
    "mag_ce = pd.read_csv('./magazine/final/magazine_ce_stickword.csv', sep ='|', encoding = 'utf-8')"
   ]
  },
  {
   "cell_type": "code",
   "execution_count": 41,
   "metadata": {},
   "outputs": [
    {
     "data": {
      "text/html": [
       "<div>\n",
       "<style scoped>\n",
       "    .dataframe tbody tr th:only-of-type {\n",
       "        vertical-align: middle;\n",
       "    }\n",
       "\n",
       "    .dataframe tbody tr th {\n",
       "        vertical-align: top;\n",
       "    }\n",
       "\n",
       "    .dataframe thead th {\n",
       "        text-align: right;\n",
       "    }\n",
       "</style>\n",
       "<table border=\"1\" class=\"dataframe\">\n",
       "  <thead>\n",
       "    <tr style=\"text-align: right;\">\n",
       "      <th></th>\n",
       "      <th>magazine</th>\n",
       "      <th>brand</th>\n",
       "      <th>title</th>\n",
       "      <th>link</th>\n",
       "      <th>date</th>\n",
       "      <th>word_celine</th>\n",
       "      <th>ADFN</th>\n",
       "      <th>ADFN_2</th>\n",
       "    </tr>\n",
       "  </thead>\n",
       "  <tbody>\n",
       "    <tr>\n",
       "      <th>0</th>\n",
       "      <td>A</td>\n",
       "      <td>Ce</td>\n",
       "      <td>코트 체크</td>\n",
       "      <td>http://www.allurekorea.com/2020/11/10/%ec%bd%9...</td>\n",
       "      <td>2020-11-10</td>\n",
       "      <td>골드 잠금 장식으로 포인트를 준 케이프 체크 코트는 1백9만원, 산드로(SANDRO...</td>\n",
       "      <td>['골드', '장식', '포인트', '준', '케이프', '체크', '코트', '백...</td>\n",
       "      <td>['골드', '장식', '포인트', '준', '케이프', '체크', '코트', '백...</td>\n",
       "    </tr>\n",
       "    <tr>\n",
       "      <th>1</th>\n",
       "      <td>A</td>\n",
       "      <td>Ce</td>\n",
       "      <td>데님이여 영원하라</td>\n",
       "      <td>http://www.allurekorea.com/2020/11/06/%eb%8d%b...</td>\n",
       "      <td>2020-11-06</td>\n",
       "      <td>빈티지한 주름과 워싱이 특징인 데님 팬츠는 가격미정, CELINE(CELINE).</td>\n",
       "      <td>['빈티', '한', '주름', '워싱', '특징', '데님', '팬츠', 'CEL...</td>\n",
       "      <td>['빈티지', '한', '주름', '워싱', '특징', '데님', '팬츠', 'CE...</td>\n",
       "    </tr>\n",
       "    <tr>\n",
       "      <th>2</th>\n",
       "      <td>A</td>\n",
       "      <td>Ce</td>\n",
       "      <td>남자 백’까지 갖고 싶어</td>\n",
       "      <td>http://www.allurekorea.com/2020/11/04/%eb%82%a...</td>\n",
       "      <td>2020-11-04</td>\n",
       "      <td>1970년대 에스닉한 분위기가 물씬 풍기는 CELINE의 방패 모양 숄더백.</td>\n",
       "      <td>['대', '에스', '닉', '분위기', '물씬', 'CELINE', '방패', ...</td>\n",
       "      <td>['대', 에스닉, '분위기', '물씬', 'CELINE', '방패', '모양', ...</td>\n",
       "    </tr>\n",
       "    <tr>\n",
       "      <th>3</th>\n",
       "      <td>A</td>\n",
       "      <td>Ce</td>\n",
       "      <td>예림-예리</td>\n",
       "      <td>http://www.allurekorea.com/2020/11/03/%ec%98%8...</td>\n",
       "      <td>2020-11-03</td>\n",
       "      <td>재킷, 셔츠, 슈즈는 CELINE(CELINE), 블랙 스커트는 렉토, 이어링은 스...</td>\n",
       "      <td>['재킷', '셔츠', '슈즈', 'CELINE', 'CELINE', '블랙', '...</td>\n",
       "      <td>['재킷', '셔츠', '슈즈', 'CELINE', 'CELINE', '블랙', '...</td>\n",
       "    </tr>\n",
       "    <tr>\n",
       "      <th>4</th>\n",
       "      <td>A</td>\n",
       "      <td>Ce</td>\n",
       "      <td>GOOD TIME, 헨리</td>\n",
       "      <td>http://www.allurekorea.com/2020/10/26/good-tim...</td>\n",
       "      <td>2020-10-26</td>\n",
       "      <td>재킷, 셔츠, 네크리스는 모두 CELINE(CELINE), 팬츠는 다잉브리드, 슈즈...</td>\n",
       "      <td>['재킷', '셔츠', '크리스', 'CELINE', 'CELINE', '팬츠', ...</td>\n",
       "      <td>['재킷', '셔츠', '크리스', 'CELINE', 'CELINE', '팬츠', ...</td>\n",
       "    </tr>\n",
       "    <tr>\n",
       "      <th>...</th>\n",
       "      <td>...</td>\n",
       "      <td>...</td>\n",
       "      <td>...</td>\n",
       "      <td>...</td>\n",
       "      <td>...</td>\n",
       "      <td>...</td>\n",
       "      <td>...</td>\n",
       "      <td>...</td>\n",
       "    </tr>\n",
       "    <tr>\n",
       "      <th>759</th>\n",
       "      <td>W</td>\n",
       "      <td>Ce</td>\n",
       "      <td>G의 역습</td>\n",
       "      <td>http://www.wkorea.com/2016/11/15/g%ec%9d%98-%e...</td>\n",
       "      <td>2016-11-15</td>\n",
       "      <td>마야 셀리아 샐리(MAYA CELIA SALLY)N2017 S/S CELINE의 쇼...</td>\n",
       "      <td>['마야', '셀', '리아', 'Maya', 'Celia', 'Sally', 'S...</td>\n",
       "      <td>['마야', '셀', '리아', 'Maya', 'Celia', 'Sally', SS...</td>\n",
       "    </tr>\n",
       "    <tr>\n",
       "      <th>760</th>\n",
       "      <td>W</td>\n",
       "      <td>Ce</td>\n",
       "      <td>잊지 마 2</td>\n",
       "      <td>http://www.wkorea.com/2016/09/28/%ec%9e%8a%ec%...</td>\n",
       "      <td>2016-09-28</td>\n",
       "      <td>코리아 파워, 록(ROKH)N지난해 S/S에 파리에서 데뷔한 32세 한국 디자이너 ...</td>\n",
       "      <td>['코리아', '파워', '록', 'Rokh', '지난해', 'S', 'S', '파...</td>\n",
       "      <td>['코리아', '파워', '록', 'Rokh', '지난해', SS, '파리', '데...</td>\n",
       "    </tr>\n",
       "    <tr>\n",
       "      <th>761</th>\n",
       "      <td>W</td>\n",
       "      <td>Ce</td>\n",
       "      <td>사고 말겠어!</td>\n",
       "      <td>http://www.wkorea.com/2016/09/21/%ec%82%ac%ea%...</td>\n",
       "      <td>2016-09-21</td>\n",
       "      <td>패션 에디터 김신N가을이 다가오니 괜스레 감상적이 된다. 정제된 보헤미안 감성과 함...</td>\n",
       "      <td>['패션', '에디터', '김신', '가을', '괜스레', '감상', '정제', '...</td>\n",
       "      <td>['패션', '에디터', '김신', '가을', '괜스레', '감상', '정제', '...</td>\n",
       "    </tr>\n",
       "    <tr>\n",
       "      <th>762</th>\n",
       "      <td>W</td>\n",
       "      <td>Ce</td>\n",
       "      <td>남다르게</td>\n",
       "      <td>http://www.wkorea.com/2016/09/08/%eb%82%a8%eb%...</td>\n",
       "      <td>2016-09-08</td>\n",
       "      <td>허리에 가방N주머니인 듯 아닌 듯, 벨트인 듯 아닌 듯 허리 가방’에 새로운 생명을...</td>\n",
       "      <td>['허리', '가방', '주머니', '듯', '아닌', '듯', '벨트', '듯',...</td>\n",
       "      <td>['허리', '가방', '주머니', '듯', '아닌', '듯', '벨트', '듯',...</td>\n",
       "    </tr>\n",
       "    <tr>\n",
       "      <th>763</th>\n",
       "      <td>W</td>\n",
       "      <td>Ce</td>\n",
       "      <td>너도 나도 베트멍</td>\n",
       "      <td>http://www.wkorea.com/2016/09/01/%eb%84%88%eb%...</td>\n",
       "      <td>2016-09-01</td>\n",
       "      <td>CELINE 디옹N나이 만48세N직업 세계적인 디바N평소 스타일 얼마 전까진 클래식...</td>\n",
       "      <td>['CELINE', '디옹', '나이', '만', '세', '직업', '세계', '...</td>\n",
       "      <td>['CELINE', '디옹', '나이', '만', '세', '직업', '세계', '...</td>\n",
       "    </tr>\n",
       "  </tbody>\n",
       "</table>\n",
       "<p>764 rows × 8 columns</p>\n",
       "</div>"
      ],
      "text/plain": [
       "    magazine brand          title  \\\n",
       "0          A    Ce          코트 체크   \n",
       "1          A    Ce      데님이여 영원하라   \n",
       "2          A    Ce  남자 백’까지 갖고 싶어   \n",
       "3          A    Ce          예림-예리   \n",
       "4          A    Ce  GOOD TIME, 헨리   \n",
       "..       ...   ...            ...   \n",
       "759        W    Ce          G의 역습   \n",
       "760        W    Ce         잊지 마 2   \n",
       "761        W    Ce        사고 말겠어!   \n",
       "762        W    Ce           남다르게   \n",
       "763        W    Ce      너도 나도 베트멍   \n",
       "\n",
       "                                                  link        date  \\\n",
       "0    http://www.allurekorea.com/2020/11/10/%ec%bd%9...  2020-11-10   \n",
       "1    http://www.allurekorea.com/2020/11/06/%eb%8d%b...  2020-11-06   \n",
       "2    http://www.allurekorea.com/2020/11/04/%eb%82%a...  2020-11-04   \n",
       "3    http://www.allurekorea.com/2020/11/03/%ec%98%8...  2020-11-03   \n",
       "4    http://www.allurekorea.com/2020/10/26/good-tim...  2020-10-26   \n",
       "..                                                 ...         ...   \n",
       "759  http://www.wkorea.com/2016/11/15/g%ec%9d%98-%e...  2016-11-15   \n",
       "760  http://www.wkorea.com/2016/09/28/%ec%9e%8a%ec%...  2016-09-28   \n",
       "761  http://www.wkorea.com/2016/09/21/%ec%82%ac%ea%...  2016-09-21   \n",
       "762  http://www.wkorea.com/2016/09/08/%eb%82%a8%eb%...  2016-09-08   \n",
       "763  http://www.wkorea.com/2016/09/01/%eb%84%88%eb%...  2016-09-01   \n",
       "\n",
       "                                           word_celine  \\\n",
       "0    골드 잠금 장식으로 포인트를 준 케이프 체크 코트는 1백9만원, 산드로(SANDRO...   \n",
       "1        빈티지한 주름과 워싱이 특징인 데님 팬츠는 가격미정, CELINE(CELINE).   \n",
       "2           1970년대 에스닉한 분위기가 물씬 풍기는 CELINE의 방패 모양 숄더백.   \n",
       "3    재킷, 셔츠, 슈즈는 CELINE(CELINE), 블랙 스커트는 렉토, 이어링은 스...   \n",
       "4    재킷, 셔츠, 네크리스는 모두 CELINE(CELINE), 팬츠는 다잉브리드, 슈즈...   \n",
       "..                                                 ...   \n",
       "759  마야 셀리아 샐리(MAYA CELIA SALLY)N2017 S/S CELINE의 쇼...   \n",
       "760  코리아 파워, 록(ROKH)N지난해 S/S에 파리에서 데뷔한 32세 한국 디자이너 ...   \n",
       "761  패션 에디터 김신N가을이 다가오니 괜스레 감상적이 된다. 정제된 보헤미안 감성과 함...   \n",
       "762  허리에 가방N주머니인 듯 아닌 듯, 벨트인 듯 아닌 듯 허리 가방’에 새로운 생명을...   \n",
       "763  CELINE 디옹N나이 만48세N직업 세계적인 디바N평소 스타일 얼마 전까진 클래식...   \n",
       "\n",
       "                                                  ADFN  \\\n",
       "0    ['골드', '장식', '포인트', '준', '케이프', '체크', '코트', '백...   \n",
       "1    ['빈티', '한', '주름', '워싱', '특징', '데님', '팬츠', 'CEL...   \n",
       "2    ['대', '에스', '닉', '분위기', '물씬', 'CELINE', '방패', ...   \n",
       "3    ['재킷', '셔츠', '슈즈', 'CELINE', 'CELINE', '블랙', '...   \n",
       "4    ['재킷', '셔츠', '크리스', 'CELINE', 'CELINE', '팬츠', ...   \n",
       "..                                                 ...   \n",
       "759  ['마야', '셀', '리아', 'Maya', 'Celia', 'Sally', 'S...   \n",
       "760  ['코리아', '파워', '록', 'Rokh', '지난해', 'S', 'S', '파...   \n",
       "761  ['패션', '에디터', '김신', '가을', '괜스레', '감상', '정제', '...   \n",
       "762  ['허리', '가방', '주머니', '듯', '아닌', '듯', '벨트', '듯',...   \n",
       "763  ['CELINE', '디옹', '나이', '만', '세', '직업', '세계', '...   \n",
       "\n",
       "                                                ADFN_2  \n",
       "0    ['골드', '장식', '포인트', '준', '케이프', '체크', '코트', '백...  \n",
       "1    ['빈티지', '한', '주름', '워싱', '특징', '데님', '팬츠', 'CE...  \n",
       "2    ['대', 에스닉, '분위기', '물씬', 'CELINE', '방패', '모양', ...  \n",
       "3    ['재킷', '셔츠', '슈즈', 'CELINE', 'CELINE', '블랙', '...  \n",
       "4    ['재킷', '셔츠', '크리스', 'CELINE', 'CELINE', '팬츠', ...  \n",
       "..                                                 ...  \n",
       "759  ['마야', '셀', '리아', 'Maya', 'Celia', 'Sally', SS...  \n",
       "760  ['코리아', '파워', '록', 'Rokh', '지난해', SS, '파리', '데...  \n",
       "761  ['패션', '에디터', '김신', '가을', '괜스레', '감상', '정제', '...  \n",
       "762  ['허리', '가방', '주머니', '듯', '아닌', '듯', '벨트', '듯',...  \n",
       "763  ['CELINE', '디옹', '나이', '만', '세', '직업', '세계', '...  \n",
       "\n",
       "[764 rows x 8 columns]"
      ]
     },
     "execution_count": 41,
     "metadata": {},
     "output_type": "execute_result"
    }
   ],
   "source": [
    "mag_ce"
   ]
  },
  {
   "cell_type": "code",
   "execution_count": 42,
   "metadata": {},
   "outputs": [],
   "source": [
    "mag_ce['word'] = mag_ce['word_celine']"
   ]
  },
  {
   "cell_type": "code",
   "execution_count": 43,
   "metadata": {},
   "outputs": [],
   "source": [
    "mag_CE = mag_ce[['magazine', 'brand', 'title', 'word', 'ADFN', 'ADFN_2']]"
   ]
  },
  {
   "cell_type": "markdown",
   "metadata": {},
   "source": [
    "## 제니"
   ]
  },
  {
   "cell_type": "markdown",
   "metadata": {},
   "source": [
    "### 제니 (유튜브 + 매거진)"
   ]
  },
  {
   "cell_type": "code",
   "execution_count": 44,
   "metadata": {},
   "outputs": [],
   "source": [
    "tot_je = pd.read_csv('./magazine/final/video_jenny_adfn_2.csv', encoding = 'utf-8', sep = '|')"
   ]
  },
  {
   "cell_type": "code",
   "execution_count": 45,
   "metadata": {},
   "outputs": [],
   "source": [
    "tot_je['word'] = tot_je['word_jenny']"
   ]
  },
  {
   "cell_type": "code",
   "execution_count": 46,
   "metadata": {},
   "outputs": [],
   "source": [
    "tot_JE = tot_je[['magazine', 'brand', 'title', 'word', 'ADFN', 'ADFN_2']]"
   ]
  },
  {
   "cell_type": "code",
   "execution_count": 47,
   "metadata": {},
   "outputs": [
    {
     "data": {
      "text/plain": [
       "351"
      ]
     },
     "execution_count": 47,
     "metadata": {},
     "output_type": "execute_result"
    }
   ],
   "source": [
    "len(tot_JE)"
   ]
  },
  {
   "cell_type": "markdown",
   "metadata": {},
   "source": [
    "### 셀린느 + 제니"
   ]
  },
  {
   "cell_type": "code",
   "execution_count": 48,
   "metadata": {},
   "outputs": [],
   "source": [
    "CEJE = pd.concat([mag_CE, tot_JE])"
   ]
  },
  {
   "cell_type": "code",
   "execution_count": 49,
   "metadata": {},
   "outputs": [],
   "source": [
    "CEJE.reset_index(drop = True, inplace = True)"
   ]
  },
  {
   "cell_type": "code",
   "execution_count": 50,
   "metadata": {},
   "outputs": [],
   "source": [
    "CEJE.to_csv('./magazine/final/CEJE.csv', sep = '|', encoding = 'utf-8', index = False)"
   ]
  },
  {
   "cell_type": "code",
   "execution_count": 51,
   "metadata": {},
   "outputs": [
    {
     "data": {
      "text/plain": [
       "1115"
      ]
     },
     "execution_count": 51,
     "metadata": {},
     "output_type": "execute_result"
    }
   ],
   "source": [
    "len(CEJE)"
   ]
  },
  {
   "cell_type": "markdown",
   "metadata": {},
   "source": [
    "## stopword 추가"
   ]
  },
  {
   "cell_type": "code",
   "execution_count": 52,
   "metadata": {},
   "outputs": [],
   "source": [
    "sw_df = pd.read_csv('stopwords.csv', header=None)"
   ]
  },
  {
   "cell_type": "code",
   "execution_count": 53,
   "metadata": {},
   "outputs": [],
   "source": [
    "sw_df.columns = ['stopword']"
   ]
  },
  {
   "cell_type": "code",
   "execution_count": 54,
   "metadata": {},
   "outputs": [],
   "source": [
    "stop_words = []\n",
    "for sw in sw_df['stopword']:\n",
    "    stop_words.append(sw)"
   ]
  },
  {
   "cell_type": "code",
   "execution_count": 55,
   "metadata": {},
   "outputs": [
    {
     "name": "stdout",
     "output_type": "stream",
     "text": [
      "675\n",
      "<class 'list'>\n"
     ]
    }
   ],
   "source": [
    "print(len(stop_words))\n",
    "print(type(stop_words))"
   ]
  },
  {
   "cell_type": "code",
   "execution_count": 56,
   "metadata": {},
   "outputs": [
    {
     "data": {
      "text/plain": [
       "['둘', '셋', '넷', '다섯', '여섯', '일곱', '여덟', '아홉', '령', '영']"
      ]
     },
     "execution_count": 56,
     "metadata": {},
     "output_type": "execute_result"
    }
   ],
   "source": [
    "stop_words[-10:]"
   ]
  },
  {
   "cell_type": "code",
   "execution_count": 57,
   "metadata": {},
   "outputs": [],
   "source": [
    "add_0 = ['진짜', '존나', '보고', '그냥', '카이', '이광수', '광수', '런닝맨', '❤️', '없는', '유재석', '❤', '♥', '있고', '거', \n",
    "         '내', '더', '개', '사람', '영상', '광고', '언니', '말', '뭐', '수', '생각',\n",
    "        '있는', '정말', '같은', '같음', '듯', '♡', '완전', '같아', '정도', '지금', '역시', '뭔가', '입니다', '때문', '아니라',\n",
    "         '함', '같은데', '해', '하는', '할', '넘', '한', '안', '했다', '보면', '데', '하고', '하면', '게', '해서', '봐도', \n",
    "         '한다', '된', '건', '요', '움', '임', '애', '하는거', '해도', '보는', '이제', '했는데', '하는데', '하는게', '같아요', \n",
    "         '합니다', '하지', '하게', '되는', 'I', '는', '난', '서', '도', '줄', '위', '분', '알', '은', '두', '번', '뒤',\n",
    "         '이건', '없다', '있어요', '아니고', '있어',\n",
    "        '계속', '원래', '뭘', '못', '후', '이름', '속', '욕', '옆', '하네', '아님', '그런', '된다', '있음',\n",
    "        '같', '돼', 'you', '제품', '표현', 'n', '봤는데', '건가', '나오는', '가지', '저런', '보이', '고',\n",
    "        '중', '사진', '댓글', '부분', '진심', '그녀', '보', '날', '겁나', '요즘', '앞', '워', '이유', '솔직히', '하며', '통해',\n",
    "        '모든', '항상', '전', '기자', '다시', '오늘', '↑', '이자', '대해']\n",
    "for w in add_0:\n",
    "    stop_words.append(w)"
   ]
  },
  {
   "cell_type": "code",
   "execution_count": 58,
   "metadata": {},
   "outputs": [],
   "source": [
    "add_1 = ['BLACKPINK', '리사', '지수', '로제']\n",
    "for w in add_1:\n",
    "    stop_words.append(w)"
   ]
  },
  {
   "cell_type": "code",
   "execution_count": 59,
   "metadata": {},
   "outputs": [
    {
     "data": {
      "text/plain": [
       "825"
      ]
     },
     "execution_count": 59,
     "metadata": {},
     "output_type": "execute_result"
    }
   ],
   "source": [
    "len(stop_words)"
   ]
  },
  {
   "cell_type": "code",
   "execution_count": null,
   "metadata": {},
   "outputs": [],
   "source": []
  },
  {
   "cell_type": "code",
   "execution_count": 60,
   "metadata": {},
   "outputs": [],
   "source": [
    "CEJE['ADFN_2'] = CEJE['ADFN_2'].str.replace('[', '').str.replace(']', '').str.replace('\"', '').str.replace(\"'\", \"\").str.split(', ')"
   ]
  },
  {
   "cell_type": "code",
   "execution_count": 61,
   "metadata": {},
   "outputs": [],
   "source": [
    "noun_adj_list = []\n",
    "for i in range(len(CEJE)):\n",
    "    for word in CEJE.loc[i, 'ADFN_2']:\n",
    "        if word not in stop_words:\n",
    "            noun_adj_list.append(word)"
   ]
  },
  {
   "cell_type": "code",
   "execution_count": 62,
   "metadata": {},
   "outputs": [
    {
     "name": "stdout",
     "output_type": "stream",
     "text": [
      "[('제니', 9281), ('귀엽다', 2144), ('예쁘다', 1819), ('CELINE', 1749), ('사랑', 879), ('얼굴', 705), ('패션', 690), ('브랜드', 599), ('컬렉션', 581), ('옷', 562), ('스타일', 557), ('매력', 535), ('SLIMANE', 516), ('HEDI', 510), ('룩', 509), ('무대', 492), ('노래', 488), ('컬러', 479), ('CHANEL', 412), ('잘', 408), ('시즌', 390), ('아이돌', 385), ('디자이너', 375), ('백', 362), ('여자', 343), ('팬', 335), ('느낌', 333), ('여성', 330), ('가장', 322), ('젠득', 321), ('드레스', 318), ('눈', 310), ('팬츠', 301), ('쇼', 301), ('디자인', 297), ('대', 292), ('매치', 292), ('실력', 288), ('걸', 283), ('재킷', 280), ('모습', 275), ('남성', 274), ('영어', 272), ('장식', 271), ('머리', 263), ('아이템', 261), ('블랙', 257), ('지난', 253), ('처음', 253), ('모델', 249), ('앞머리', 245), ('연출', 238), ('코트', 237), ('새로운', 236), ('파리', 236), ('PHILO', 232), ('헤어', 225), ('PHOEBE', 224), ('좋은', 222), ('분위기', 219), ('최고', 216), ('디렉터', 216), ('예능', 211), ('랩', 210), ('첫', 208), ('봄', 202), ('시작', 201), ('그룹', 199), ('스타일링', 197), ('춤', 197), ('LAURENT', 195), ('포인트', 194), ('자체', 193), ('SAINT', 192), ('표정', 192), ('복', 189), ('목소리', 185), ('완성', 184), ('멤버', 184), ('소재', 181), ('공주', 181), ('화이트', 180), ('라인', 179), ('위해', 176), ('많은', 176), ('발음', 176), ('고급', 173), ('연예인', 171), ('의상', 170), ('셔츠', 169), ('치마', 169), ('세상', 169), ('한국', 169), ('라이브', 166), ('스커트', 160), ('트렌드', 160), ('좋다', 160), ('대한', 156), ('DIOR', 155), ('마음', 154), ('레드', 152), ('이미지', 152), ('다양한', 150), ('최근', 150), ('데뷔', 150), ('데님', 149), ('로고', 149), ('선택', 149), ('입덕', 149), ('패턴', 148), ('스타', 147), ('인간', 147), ('세계', 144), ('크리에이티브', 144), ('여름', 144), ('클래식', 143), ('무드', 143), ('영국', 143), ('제일', 143), ('볼', 141), ('티', 140), ('시대', 138), ('영화', 138), ('실루엣', 138), ('가죽', 136), ('런웨이', 136), ('메이크업', 136), ('부츠', 134), ('버버리', 134), ('썸네일', 133), ('남자', 132), ('가방', 131), ('애기', 131), ('시크', 130), ('레전드', 130), ('LVMH', 129), ('인기', 128), ('감', 128), ('키', 127), ('살', 126), ('공개', 125), ('액세서리', 125), ('외모', 124), ('활동', 123), ('톱', 122), ('쿠마', 122), ('트', 120), ('소화', 120), ('영감', 117), ('마지막', 117), ('미니', 117), ('가수', 117), ('솔로', 117), ('니트', 116), ('럭셔리', 115), ('선글라스', 115), ('손', 115), ('집', 115), ('멋있다', 114), ('나도', 114), ('어깨', 113), ('링', 112), ('몸', 112), ('미국', 110), ('매장', 109), ('변화', 107), ('길이', 107), ('사이즈', 107), ('세', 107), ('웃기', 107), ('앤', 106), ('구찌', 105), ('존재', 105), ('한번', 105), ('좋겠다', 105), ('만', 104), ('비', 104), ('핑크', 104), ('있을', 104), ('누가', 104), ('코디', 104), ('명품', 103), ('프린트', 103), ('패션계', 103), ('유행', 103), ('끝', 103), ('슈즈', 102), ('막', 102), ('드', 102), ('YG', 102), ('순간', 101), ('재', 101), ('활용', 101), ('명', 101), ('탑', 101), ('제발', 100), ('스', 99), ('좋아하는', 98), ('수트', 98), ('진', 97)]\n"
     ]
    }
   ],
   "source": [
    "word = Counter(noun_adj_list)\n",
    "print(word.most_common(200))"
   ]
  },
  {
   "cell_type": "code",
   "execution_count": 63,
   "metadata": {},
   "outputs": [],
   "source": [
    "count = Counter(noun_adj_list)"
   ]
  },
  {
   "cell_type": "code",
   "execution_count": 64,
   "metadata": {},
   "outputs": [
    {
     "name": "stdout",
     "output_type": "stream",
     "text": [
      "('제니', 9281)\n",
      "('귀엽다', 2144)\n",
      "('예쁘다', 1819)\n",
      "('CELINE', 1749)\n",
      "('사랑', 879)\n",
      "('얼굴', 705)\n",
      "('패션', 690)\n",
      "('브랜드', 599)\n",
      "('컬렉션', 581)\n",
      "('옷', 562)\n",
      "('스타일', 557)\n",
      "('매력', 535)\n",
      "('SLIMANE', 516)\n",
      "('HEDI', 510)\n",
      "('룩', 509)\n",
      "('무대', 492)\n",
      "('노래', 488)\n",
      "('컬러', 479)\n",
      "('CHANEL', 412)\n",
      "('잘', 408)\n",
      "('시즌', 390)\n",
      "('아이돌', 385)\n",
      "('디자이너', 375)\n",
      "('백', 362)\n",
      "('여자', 343)\n",
      "('팬', 335)\n",
      "('느낌', 333)\n",
      "('여성', 330)\n",
      "('가장', 322)\n",
      "('젠득', 321)\n",
      "('드레스', 318)\n",
      "('눈', 310)\n",
      "('팬츠', 301)\n",
      "('쇼', 301)\n",
      "('디자인', 297)\n",
      "('대', 292)\n",
      "('매치', 292)\n",
      "('실력', 288)\n",
      "('걸', 283)\n",
      "('재킷', 280)\n",
      "('모습', 275)\n",
      "('남성', 274)\n",
      "('영어', 272)\n",
      "('장식', 271)\n",
      "('머리', 263)\n",
      "('아이템', 261)\n",
      "('블랙', 257)\n",
      "('지난', 253)\n",
      "('처음', 253)\n",
      "('모델', 249)\n",
      "('앞머리', 245)\n",
      "('연출', 238)\n",
      "('코트', 237)\n",
      "('새로운', 236)\n",
      "('파리', 236)\n",
      "('PHILO', 232)\n",
      "('헤어', 225)\n",
      "('PHOEBE', 224)\n",
      "('좋은', 222)\n",
      "('분위기', 219)\n",
      "('최고', 216)\n",
      "('디렉터', 216)\n",
      "('예능', 211)\n",
      "('랩', 210)\n",
      "('첫', 208)\n",
      "('봄', 202)\n",
      "('시작', 201)\n",
      "('그룹', 199)\n",
      "('스타일링', 197)\n",
      "('춤', 197)\n",
      "('LAURENT', 195)\n",
      "('포인트', 194)\n",
      "('자체', 193)\n",
      "('SAINT', 192)\n",
      "('표정', 192)\n",
      "('복', 189)\n",
      "('목소리', 185)\n",
      "('완성', 184)\n",
      "('멤버', 184)\n",
      "('소재', 181)\n",
      "('공주', 181)\n",
      "('화이트', 180)\n",
      "('라인', 179)\n",
      "('위해', 176)\n",
      "('많은', 176)\n",
      "('발음', 176)\n",
      "('고급', 173)\n",
      "('연예인', 171)\n",
      "('의상', 170)\n",
      "('셔츠', 169)\n",
      "('치마', 169)\n",
      "('세상', 169)\n",
      "('한국', 169)\n",
      "('라이브', 166)\n",
      "('스커트', 160)\n",
      "('트렌드', 160)\n",
      "('좋다', 160)\n",
      "('대한', 156)\n",
      "('DIOR', 155)\n",
      "('마음', 154)\n",
      "('레드', 152)\n",
      "('이미지', 152)\n",
      "('다양한', 150)\n",
      "('최근', 150)\n",
      "('데뷔', 150)\n",
      "('데님', 149)\n",
      "('로고', 149)\n",
      "('선택', 149)\n",
      "('입덕', 149)\n",
      "('패턴', 148)\n",
      "('스타', 147)\n",
      "('인간', 147)\n",
      "('세계', 144)\n",
      "('크리에이티브', 144)\n",
      "('여름', 144)\n",
      "('클래식', 143)\n",
      "('무드', 143)\n",
      "('영국', 143)\n",
      "('제일', 143)\n",
      "('볼', 141)\n",
      "('티', 140)\n",
      "('시대', 138)\n",
      "('영화', 138)\n",
      "('실루엣', 138)\n",
      "('가죽', 136)\n",
      "('런웨이', 136)\n",
      "('메이크업', 136)\n",
      "('부츠', 134)\n",
      "('버버리', 134)\n",
      "('썸네일', 133)\n",
      "('남자', 132)\n",
      "('가방', 131)\n",
      "('애기', 131)\n",
      "('시크', 130)\n",
      "('레전드', 130)\n",
      "('LVMH', 129)\n",
      "('인기', 128)\n",
      "('감', 128)\n",
      "('키', 127)\n",
      "('살', 126)\n",
      "('공개', 125)\n",
      "('액세서리', 125)\n",
      "('외모', 124)\n",
      "('활동', 123)\n",
      "('톱', 122)\n",
      "('쿠마', 122)\n",
      "('트', 120)\n",
      "('소화', 120)\n",
      "('영감', 117)\n",
      "('마지막', 117)\n",
      "('미니', 117)\n",
      "('가수', 117)\n",
      "('솔로', 117)\n",
      "('니트', 116)\n",
      "('럭셔리', 115)\n",
      "('선글라스', 115)\n",
      "('손', 115)\n",
      "('집', 115)\n",
      "('멋있다', 114)\n",
      "('나도', 114)\n",
      "('어깨', 113)\n",
      "('링', 112)\n",
      "('몸', 112)\n",
      "('미국', 110)\n",
      "('매장', 109)\n",
      "('변화', 107)\n",
      "('길이', 107)\n",
      "('사이즈', 107)\n",
      "('세', 107)\n",
      "('웃기', 107)\n",
      "('앤', 106)\n",
      "('구찌', 105)\n",
      "('존재', 105)\n",
      "('한번', 105)\n",
      "('좋겠다', 105)\n",
      "('만', 104)\n",
      "('비', 104)\n",
      "('핑크', 104)\n",
      "('있을', 104)\n",
      "('누가', 104)\n",
      "('코디', 104)\n",
      "('명품', 103)\n",
      "('프린트', 103)\n",
      "('패션계', 103)\n",
      "('유행', 103)\n",
      "('끝', 103)\n",
      "('슈즈', 102)\n",
      "('막', 102)\n",
      "('드', 102)\n",
      "('YG', 102)\n",
      "('순간', 101)\n",
      "('재', 101)\n",
      "('활용', 101)\n",
      "('명', 101)\n",
      "('탑', 101)\n",
      "('제발', 100)\n",
      "('스', 99)\n",
      "('좋아하는', 98)\n",
      "('수트', 98)\n",
      "('진', 97)\n",
      "('더욱', 97)\n",
      "('점', 97)\n",
      "('톤', 97)\n",
      "('리', 97)\n",
      "('고양이', 97)\n",
      "('관심', 96)\n",
      "('하우스', 96)\n",
      "('컴백', 96)\n",
      "('대표', 96)\n",
      "('대박', 96)\n",
      "('미쳤다', 96)\n",
      "('시절', 95)\n",
      "('아주', 95)\n",
      "('엄마', 95)\n",
      "('리스트', 94)\n",
      "('발렌시아', 94)\n",
      "('착용', 94)\n",
      "('블링크', 94)\n",
      "('성격', 93)\n",
      "('슈트', 93)\n",
      "('화보', 93)\n",
      "('동시', 93)\n",
      "('젠', 93)\n",
      "('음악', 92)\n",
      "('밴드', 92)\n",
      "('바이', 91)\n",
      "('아닌', 91)\n",
      "('꼭', 91)\n",
      "('곱창', 91)\n",
      "('기억', 90)\n",
      "('리본', 90)\n",
      "('온', 90)\n",
      "('에디', 90)\n",
      "('촬영', 90)\n",
      "('타팬', 90)\n",
      "('사용', 89)\n",
      "('지방시', 89)\n",
      "('가을', 89)\n",
      "('기분', 89)\n",
      "('보기', 89)\n",
      "('몸매', 89)\n",
      "('체크', 88)\n",
      "('빛', 88)\n",
      "('SS', 88)\n",
      "('현재', 88)\n",
      "('런던', 88)\n",
      "('입술', 88)\n",
      "('심장', 87)\n",
      "('바', 87)\n",
      "('패션쇼', 87)\n",
      "('패션위크', 86)\n",
      "('울', 86)\n",
      "('하루', 85)\n",
      "('인스타그램', 85)\n",
      "('채', 85)\n",
      "('짧은', 85)\n",
      "('좋아요', 85)\n",
      "('소리', 85)\n",
      "('보러', 85)\n",
      "('원피스', 84)\n",
      "('시선', 84)\n",
      "('겨울', 84)\n",
      "('이후', 84)\n",
      "('스니커즈', 84)\n",
      "('미', 83)\n",
      "('걸그룹', 83)\n",
      "('하이틴', 83)\n",
      "('캠페인', 82)\n",
      "('프랑스', 82)\n",
      "('진행', 82)\n",
      "('피스', 81)\n",
      "('터', 81)\n",
      "('카리스마', 81)\n",
      "('강조', 80)\n",
      "('오버', 80)\n",
      "('강아지', 79)\n",
      "('한국인', 79)\n",
      "('성복', 79)\n",
      "('찰떡', 79)\n",
      "('와이지', 79)\n",
      "('코', 78)\n",
      "('의미', 78)\n",
      "('뿐', 78)\n",
      "('개인', 78)\n",
      "('미친', 78)\n",
      "('입고', 78)\n",
      "('베스트', 77)\n",
      "('얼', 77)\n",
      "('좋고', 77)\n",
      "('향수', 77)\n",
      "('by', 76)\n",
      "('실제', 76)\n",
      "('미모', 76)\n",
      "('곡', 76)\n",
      "('u', 76)\n",
      "('프라다', 75)\n",
      "('스트리트', 75)\n",
      "('새', 75)\n",
      "('완벽한', 75)\n",
      "('빈티지', 74)\n",
      "('효과', 74)\n",
      "('먼저', 74)\n",
      "('벨트', 74)\n",
      "('곳', 74)\n",
      "('아티스트', 74)\n",
      "('직접', 74)\n",
      "('바지', 74)\n",
      "('전체', 74)\n",
      "('애교', 74)\n",
      "('트와이스', 74)\n",
      "('에디터', 73)\n",
      "('특유', 73)\n",
      "('힘', 73)\n",
      "('블라우스', 73)\n",
      "('입', 73)\n",
      "('귀엽', 73)\n",
      "('큰', 73)\n",
      "('친구', 72)\n",
      "('시도', 72)\n",
      "('어쩜', 72)\n",
      "('법', 71)\n",
      "('허리', 71)\n",
      "('티셔츠', 71)\n",
      "('적', 71)\n",
      "('매출', 71)\n",
      "('까', 71)\n",
      "('yg', 71)\n",
      "('양갈래', 71)\n",
      "('그대로', 70)\n",
      "('남', 70)\n",
      "('옴므', 70)\n",
      "('노트', 70)\n",
      "('짱', 70)\n",
      "('세대', 69)\n",
      "('하이', 69)\n",
      "('땐', 69)\n",
      "('뉴욕', 69)\n",
      "('감각', 69)\n",
      "('반', 69)\n",
      "('달', 69)\n",
      "('파워', 69)\n",
      "('조합', 69)\n",
      "('해외', 69)\n",
      "('어울리는', 69)\n",
      "('회사', 68)\n",
      "('거리', 68)\n",
      "('여러', 68)\n",
      "('FW', 68)\n",
      "('차이', 68)\n",
      "('젤', 68)\n",
      "('사실', 68)\n",
      "('썸넬', 68)\n",
      "('늘', 67)\n",
      "('트렌치코트', 67)\n",
      "('있었다', 67)\n",
      "('방식', 67)\n",
      "('음', 67)\n",
      "('배', 67)\n",
      "('논란', 67)\n",
      "('기여', 67)\n",
      "('골드', 66)\n",
      "('케이프', 66)\n",
      "('선', 66)\n",
      "('해석', 66)\n",
      "('만큼', 66)\n",
      "('감성', 66)\n",
      "('강렬한', 66)\n",
      "('팀', 66)\n",
      "('작업', 66)\n",
      "('부', 66)\n",
      "('뮤비', 66)\n",
      "('모음', 66)\n",
      "('발', 65)\n",
      "('화려한', 65)\n",
      "('있는데', 65)\n",
      "('작은', 65)\n",
      "('사랑스럽다', 65)\n",
      "('인터뷰', 65)\n",
      "('아니다', 65)\n",
      "('니', 65)\n",
      "('돈', 65)\n",
      "('감사합니다', 65)\n",
      "('자리', 64)\n",
      "('딸', 64)\n",
      "('수가', 64)\n",
      "('입은', 64)\n",
      "('웨어', 63)\n",
      "('일상', 63)\n",
      "('올해', 63)\n",
      "('자연', 63)\n",
      "('글', 63)\n",
      "('인', 63)\n",
      "('말투', 63)\n",
      "('앨범', 63)\n",
      "('머', 63)\n",
      "('검색', 63)\n",
      "('제목', 63)\n",
      "('응원', 63)\n",
      "('회수', 63)\n",
      "('없어', 62)\n",
      "('눈길', 62)\n",
      "('과감', 62)\n",
      "('평소', 62)\n",
      "('예정', 62)\n",
      "('소녀', 62)\n",
      "('아래', 62)\n",
      "('벨벳', 61)\n",
      "('얘기', 61)\n",
      "('발표', 61)\n",
      "('인상', 61)\n",
      "('살짝', 61)\n",
      "('집중', 61)\n",
      "('피부', 61)\n",
      "('볼때', 61)\n",
      "('좋은데', 61)\n",
      "('콘서트', 61)\n",
      "('사랑스러운', 60)\n",
      "('참석', 60)\n",
      "('본인', 60)\n",
      "('유튜브', 60)\n",
      "('사이', 60)\n",
      "('풀', 60)\n",
      "('호', 60)\n",
      "('끼', 60)\n",
      "('공항', 60)\n",
      "('다해', 60)\n",
      "('일이', 59)\n",
      "('이야기', 59)\n",
      "('디', 59)\n",
      "('상품', 59)\n",
      "('헐', 59)\n",
      "('해주세요', 59)\n",
      "('본', 59)\n",
      "('있다는', 58)\n",
      "('퀸', 58)\n",
      "('아닌데', 58)\n",
      "('라면', 58)\n",
      "('취향', 58)\n",
      "('불어', 58)\n",
      "('이해', 58)\n",
      "('알았는데', 58)\n",
      "('해야', 58)\n",
      "('보이는', 58)\n",
      "('보니', 58)\n",
      "('볼살', 58)\n",
      "('자꾸', 58)\n",
      "('모양', 57)\n",
      "('귀', 57)\n",
      "('무늬', 57)\n",
      "('스트라이프', 57)\n",
      "('카디건', 57)\n",
      "('마무리', 57)\n",
      "('센스', 57)\n",
      "('노력', 57)\n",
      "('비교', 57)\n",
      "('개성', 57)\n",
      "('됨', 57)\n",
      "('척', 57)\n",
      "('문제', 56)\n",
      "('있게', 56)\n",
      "('블루', 56)\n",
      "('쇼핑', 56)\n",
      "('제대로', 56)\n",
      "('초', 56)\n",
      "('인성', 56)\n",
      "('별로', 56)\n",
      "('lo', 56)\n",
      "('부럽다', 56)\n",
      "('준', 55)\n",
      "('차', 55)\n",
      "('방법', 55)\n",
      "('매우', 55)\n",
      "('기도', 55)\n",
      "('마', 55)\n",
      "('웃음', 55)\n",
      "('한편', 55)\n",
      "('일본어', 55)\n",
      "('코첼라', 55)\n",
      "('스카프', 54)\n",
      "('공식', 54)\n",
      "('세련된', 54)\n",
      "('모던', 54)\n",
      "('멋', 54)\n",
      "('변신', 54)\n",
      "('피비', 54)\n",
      "('없을', 54)\n",
      "('향', 54)\n",
      "('문화', 54)\n",
      "('지난해', 54)\n",
      "('화장', 54)\n",
      "('♡♡', 54)\n",
      "('왜케', 54)\n",
      "('얘', 54)\n",
      "('몇번', 54)\n",
      "('형태', 53)\n",
      "('무', 53)\n",
      "('참고', 53)\n",
      "('끌로', 53)\n",
      "('심플', 53)\n",
      "('주얼리', 53)\n"
     ]
    }
   ],
   "source": [
    "word_list = count.most_common(500)\n",
    "for v in word_list:\n",
    "    print(v)"
   ]
  },
  {
   "cell_type": "code",
   "execution_count": 65,
   "metadata": {},
   "outputs": [],
   "source": [
    "top500 = pd.DataFrame(word_list)"
   ]
  },
  {
   "cell_type": "code",
   "execution_count": 66,
   "metadata": {},
   "outputs": [],
   "source": [
    "top500.columns = ['word', 'count']"
   ]
  },
  {
   "cell_type": "code",
   "execution_count": 67,
   "metadata": {},
   "outputs": [],
   "source": [
    "top500.to_csv('./CEJE_top500.csv', sep='|', encoding = 'utf-8', index = False)"
   ]
  },
  {
   "cell_type": "markdown",
   "metadata": {},
   "source": [
    "## 워드클라우드 만들기"
   ]
  },
  {
   "cell_type": "code",
   "execution_count": 68,
   "metadata": {},
   "outputs": [],
   "source": [
    "import matplotlib.pyplot as plt"
   ]
  },
  {
   "cell_type": "code",
   "execution_count": 69,
   "metadata": {},
   "outputs": [
    {
     "name": "stdout",
     "output_type": "stream",
     "text": [
      "Malgun Gothic C:\\WINDOWS\\Fonts\\malgun.ttf\n",
      "Yu Gothic C:\\WINDOWS\\Fonts\\YuGothB.ttc\n",
      "HYGothic-Extra C:\\WINDOWS\\Fonts\\H2GTRE.TTF\n",
      "Franklin Gothic Medium C:\\WINDOWS\\Fonts\\framdit.ttf\n",
      "Malgun Gothic C:\\Windows\\Fonts\\malgunbd.ttf\n",
      "Yu Gothic C:\\Windows\\Fonts\\YuGothL.ttc\n",
      "Century Gothic C:\\Windows\\Fonts\\GOTHIC.TTF\n",
      "Yu Gothic C:\\Windows\\Fonts\\YuGothM.ttc\n",
      "Yu Gothic C:\\WINDOWS\\Fonts\\YuGothR.ttc\n",
      "MS Gothic C:\\WINDOWS\\Fonts\\msgothic.ttc\n",
      "HYGothic-Medium C:\\WINDOWS\\Fonts\\H2GTRM.TTF\n",
      "Malgun Gothic C:\\WINDOWS\\Fonts\\malgunsl.ttf\n",
      "Century Gothic C:\\Windows\\Fonts\\GOTHICI.TTF\n",
      "Century Gothic C:\\WINDOWS\\Fonts\\GOTHICBI.TTF\n",
      "Century Gothic C:\\Windows\\Fonts\\GOTHICB.TTF\n",
      "Franklin Gothic Medium C:\\WINDOWS\\Fonts\\framd.ttf\n"
     ]
    }
   ],
   "source": [
    "import matplotlib.font_manager as fm\n",
    "\n",
    "# 이용 가능한 폰트 중 '고딕'만 선별\n",
    "for font in fm.fontManager.ttflist:\n",
    "    if 'Gothic' in font.name:\n",
    "        print(font.name, font.fname)"
   ]
  },
  {
   "cell_type": "code",
   "execution_count": 70,
   "metadata": {},
   "outputs": [],
   "source": [
    "font_path = 'C:\\WINDOWS\\Fonts\\malgun.ttf'"
   ]
  },
  {
   "cell_type": "markdown",
   "metadata": {},
   "source": [
    "### 워드클라우드 그리기"
   ]
  },
  {
   "cell_type": "code",
   "execution_count": 71,
   "metadata": {},
   "outputs": [],
   "source": [
    "from wordcloud import WordCloud"
   ]
  },
  {
   "cell_type": "code",
   "execution_count": 72,
   "metadata": {},
   "outputs": [],
   "source": [
    "wc = WordCloud(font_path=font_path, background_color=\"white\", width=600, height=400)"
   ]
  },
  {
   "cell_type": "code",
   "execution_count": 73,
   "metadata": {},
   "outputs": [
    {
     "data": {
      "image/png": "[encoded data removed]",
      "text/plain": [
       "<Figure size 432x288 with 1 Axes>"
      ]
     },
     "metadata": {
      "needs_background": "light"
     },
     "output_type": "display_data"
    },
    {
     "data": {
      "text/plain": [
       "<wordcloud.wordcloud.WordCloud at 0x175140a7188>"
      ]
     },
     "execution_count": 73,
     "metadata": {},
     "output_type": "execute_result"
    }
   ],
   "source": [
    "wc.generate_from_frequencies(dict(word_list))\n",
    "\n",
    "plt.imshow(wc) \n",
    "plt.axis('off') \n",
    "plt.show()\n",
    "\n",
    "\n",
    "wc.to_file('CEJE.png')"
   ]
  },
  {
   "cell_type": "code",
   "execution_count": 74,
   "metadata": {},
   "outputs": [],
   "source": [
    "CEJE.to_csv('./magazine/final/CEJE_adfn_2.csv', sep='|', encoding = 'utf-8', index = False)"
   ]
  },
  {
   "cell_type": "code",
   "execution_count": null,
   "metadata": {},
   "outputs": [],
   "source": []
  },
  {
   "cell_type": "code",
   "execution_count": null,
   "metadata": {},
   "outputs": [],
   "source": []
  },
  {
   "cell_type": "code",
   "execution_count": null,
   "metadata": {},
   "outputs": [],
   "source": []
  }
 ],
 "metadata": {
  "kernelspec": {
   "display_name": "Python 3",
   "language": "python",
   "name": "python3"
  },
  "language_info": {
   "codemirror_mode": {
    "name": "ipython",
    "version": 3
   },
   "file_extension": ".py",
   "mimetype": "text/x-python",
   "name": "python",
   "nbconvert_exporter": "python",
   "pygments_lexer": "ipython3",
   "version": "3.7.6"
  }
 },
 "nbformat": 4,
 "nbformat_minor": 4
}
