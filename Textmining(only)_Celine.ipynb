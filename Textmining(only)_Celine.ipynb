{
 "cells": [
  {
   "cell_type": "code",
   "execution_count": 1,
   "metadata": {},
   "outputs": [],
   "source": [
    "import pandas as pd\n",
    "import numpy as np"
   ]
  },
  {
   "cell_type": "code",
   "execution_count": 2,
   "metadata": {},
   "outputs": [],
   "source": [
    "from collections import Counter"
   ]
  },
  {
   "cell_type": "code",
   "execution_count": 3,
   "metadata": {},
   "outputs": [],
   "source": [
    "a_ce_dw = pd.read_csv('./magazine/final/a_ce_dw.csv', sep = '|', encoding = 'utf-8')\n",
    "b_ce_dw = pd.read_csv('./magazine/final/b_ce_dw.csv', sep = '|', encoding = 'utf-8')\n",
    "c_ce_dw = pd.read_csv('./magazine/final/c_ce_dw.csv', sep = '|', encoding = 'utf-8')\n",
    "e_ce_dw = pd.read_csv('./magazine/final/e_ce_dw.csv', sep = '|', encoding = 'utf-8')\n",
    "fb_ce_dw = pd.read_csv('./magazine/final/fb_ce_dw.csv', sep = '|', encoding = 'utf-8')\n",
    "fn_ce_dw = pd.read_csv('./magazine/final/fn_ce_dw.csv', sep = '|', encoding = 'utf-8')\n",
    "m_ce_dw = pd.read_csv('./magazine/final/m_ce_dw.csv', sep = '|', encoding = 'utf-8')\n",
    "v_ce_dw = pd.read_csv('./magazine/final/v_ce_dw.csv', sep = '|', encoding = 'utf-8')\n",
    "w_ce_dw = pd.read_csv('./magazine/final/w_ce_dw.csv', sep = '|', encoding = 'utf-8')"
   ]
  },
  {
   "cell_type": "markdown",
   "metadata": {},
   "source": [
    "## list(article_list) 생성 후 append"
   ]
  },
  {
   "cell_type": "code",
   "execution_count": 4,
   "metadata": {},
   "outputs": [],
   "source": [
    "contents_list = []"
   ]
  },
  {
   "cell_type": "code",
   "execution_count": 5,
   "metadata": {},
   "outputs": [],
   "source": [
    "magazines_ce_dw = [a_ce_dw, b_ce_dw, c_ce_dw, e_ce_dw, fb_ce_dw, fn_ce_dw, m_ce_dw, v_ce_dw, w_ce_dw]"
   ]
  },
  {
   "cell_type": "code",
   "execution_count": 6,
   "metadata": {},
   "outputs": [
    {
     "data": {
      "text/html": [
       "<div>\n",
       "<style scoped>\n",
       "    .dataframe tbody tr th:only-of-type {\n",
       "        vertical-align: middle;\n",
       "    }\n",
       "\n",
       "    .dataframe tbody tr th {\n",
       "        vertical-align: top;\n",
       "    }\n",
       "\n",
       "    .dataframe thead th {\n",
       "        text-align: right;\n",
       "    }\n",
       "</style>\n",
       "<table border=\"1\" class=\"dataframe\">\n",
       "  <thead>\n",
       "    <tr style=\"text-align: right;\">\n",
       "      <th></th>\n",
       "      <th>magazine</th>\n",
       "      <th>brand</th>\n",
       "      <th>category</th>\n",
       "      <th>title</th>\n",
       "      <th>link</th>\n",
       "      <th>date</th>\n",
       "      <th>contents</th>\n",
       "      <th>title_brand</th>\n",
       "      <th>check</th>\n",
       "      <th>why</th>\n",
       "      <th>word_celine</th>\n",
       "    </tr>\n",
       "  </thead>\n",
       "  <tbody>\n",
       "    <tr>\n",
       "      <th>0</th>\n",
       "      <td>A</td>\n",
       "      <td>Ce</td>\n",
       "      <td>FASHION</td>\n",
       "      <td>코트 체크</td>\n",
       "      <td>http://www.allurekorea.com/2020/11/10/%ec%bd%9...</td>\n",
       "      <td>2020-11-10</td>\n",
       "      <td>['겨울이 오기 전 기억해야 할 코트의 면면.', '90’S STANDARD', '...</td>\n",
       "      <td>0</td>\n",
       "      <td>0</td>\n",
       "      <td>-</td>\n",
       "      <td>['골드 잠금 장식으로 포인트를 준 케이프 체크 코트는 1백9만원, 산드로(Sand...</td>\n",
       "    </tr>\n",
       "    <tr>\n",
       "      <th>1</th>\n",
       "      <td>A</td>\n",
       "      <td>Ce</td>\n",
       "      <td>FASHION</td>\n",
       "      <td>데님이여 영원하라</td>\n",
       "      <td>http://www.allurekorea.com/2020/11/06/%eb%8d%b...</td>\n",
       "      <td>2020-11-06</td>\n",
       "      <td>['데님 팬츠를 선택할 때 가장 중요한 것은 자신의 체형에 맞는 핏을 고르는 것이다...</td>\n",
       "      <td>0</td>\n",
       "      <td>0</td>\n",
       "      <td>-</td>\n",
       "      <td>['  빈티지한 주름과 워싱이 특징인 데님 팬츠는 가격미정, 셀린느(Celine).']</td>\n",
       "    </tr>\n",
       "    <tr>\n",
       "      <th>2</th>\n",
       "      <td>A</td>\n",
       "      <td>Ce</td>\n",
       "      <td>FASHION</td>\n",
       "      <td>남자 백’까지 갖고 싶어</td>\n",
       "      <td>http://www.allurekorea.com/2020/11/04/%eb%82%a...</td>\n",
       "      <td>2020-11-04</td>\n",
       "      <td>['때로는 단정하게, 때로는 위트 있게 제 할 일을 다 하는. 그래서 더 넘보게 되...</td>\n",
       "      <td>0</td>\n",
       "      <td>0</td>\n",
       "      <td>-</td>\n",
       "      <td>['  1970년대 에스닉한 분위기가 물씬 풍기는 셀린느의 방패 모양 숄더백.']</td>\n",
       "    </tr>\n",
       "    <tr>\n",
       "      <th>3</th>\n",
       "      <td>A</td>\n",
       "      <td>Ce</td>\n",
       "      <td>CELEBRITY</td>\n",
       "      <td>예림-예리</td>\n",
       "      <td>http://www.allurekorea.com/2020/11/03/%ec%98%8...</td>\n",
       "      <td>2020-11-03</td>\n",
       "      <td>['어디에도 휘둘리지 않은 채 영향 바깥에서 명랑하게 씩 웃고 마는 하나뿐인 나, ...</td>\n",
       "      <td>0</td>\n",
       "      <td>0</td>\n",
       "      <td>-</td>\n",
       "      <td>['재킷, 셔츠, 슈즈는 셀린느(Celine), 블랙 스커트는 렉토, 이어링은 스타...</td>\n",
       "    </tr>\n",
       "    <tr>\n",
       "      <th>4</th>\n",
       "      <td>A</td>\n",
       "      <td>Ce</td>\n",
       "      <td>CELEBRITY</td>\n",
       "      <td>GOOD TIME, 헨리</td>\n",
       "      <td>http://www.allurekorea.com/2020/10/26/good-tim...</td>\n",
       "      <td>2020-10-26</td>\n",
       "      <td>['헨리는 자꾸 모든 게 다 괜찮다고 말했다. 그 말이 진심인지 아닌지 확인할 길 ...</td>\n",
       "      <td>0</td>\n",
       "      <td>0</td>\n",
       "      <td>-</td>\n",
       "      <td>['재킷, 셔츠, 네크리스는 모두 셀린느(Celine), 팬츠는 다잉브리드, 슈즈는...</td>\n",
       "    </tr>\n",
       "    <tr>\n",
       "      <th>...</th>\n",
       "      <td>...</td>\n",
       "      <td>...</td>\n",
       "      <td>...</td>\n",
       "      <td>...</td>\n",
       "      <td>...</td>\n",
       "      <td>...</td>\n",
       "      <td>...</td>\n",
       "      <td>...</td>\n",
       "      <td>...</td>\n",
       "      <td>...</td>\n",
       "      <td>...</td>\n",
       "    </tr>\n",
       "    <tr>\n",
       "      <th>85</th>\n",
       "      <td>A</td>\n",
       "      <td>Ce</td>\n",
       "      <td>FEATURE</td>\n",
       "      <td>미니 보습 크림 성분 사전</td>\n",
       "      <td>http://www.allurekorea.com/2018/01/07/%eb%af%b...</td>\n",
       "      <td>2018-01-07</td>\n",
       "      <td>['전문가들은 보습 제품만은 반드시 성분을 확인해야 한다고 강조한다. 내 보습 크림...</td>\n",
       "      <td>0</td>\n",
       "      <td>0</td>\n",
       "      <td>-</td>\n",
       "      <td>['페트롤라툼 석유에서 얻은 탄화수소의 반고형 물로 피부를 매끄럽게 하고 유분을 공...</td>\n",
       "    </tr>\n",
       "    <tr>\n",
       "      <th>86</th>\n",
       "      <td>A</td>\n",
       "      <td>Ce</td>\n",
       "      <td>FASHION</td>\n",
       "      <td>SOCK-LIKE BOOTS</td>\n",
       "      <td>http://www.allurekorea.com/2017/10/09/%ec%82%a...</td>\n",
       "      <td>2017-10-09</td>\n",
       "      <td>['길바닥을 순식간에 런웨이로 만들어버리는 특별한 아이템이 있다. 섹슈얼리티와 스포...</td>\n",
       "      <td>0</td>\n",
       "      <td>0</td>\n",
       "      <td>-</td>\n",
       "      <td>['  1 이번 시즌 박시한 코트에 삭 부츠보다 패셔너블하게 어울리는 아이템은 없다...</td>\n",
       "    </tr>\n",
       "    <tr>\n",
       "      <th>87</th>\n",
       "      <td>A</td>\n",
       "      <td>Ce</td>\n",
       "      <td>FASHION</td>\n",
       "      <td>인플루언서의 여행지 스타일링 노하우 &lt;1&gt;</td>\n",
       "      <td>http://www.allurekorea.com/2017/06/14/%ec%9d%b...</td>\n",
       "      <td>2017-06-14</td>\n",
       "      <td>['설렘과 낭만이 가득한 여행지에서도 스타일은 중요하다. 여행을 사랑하고 자신만의 ...</td>\n",
       "      <td>0</td>\n",
       "      <td>0</td>\n",
       "      <td>-</td>\n",
       "      <td>['    티셔츠는 세인트 제임스. 팬츠는 유니클로 U(Uniqlo U). 샌들은 ...</td>\n",
       "    </tr>\n",
       "    <tr>\n",
       "      <th>88</th>\n",
       "      <td>A</td>\n",
       "      <td>Ce</td>\n",
       "      <td>FASHION</td>\n",
       "      <td>흰색은 다 옳다</td>\n",
       "      <td>http://www.allurekorea.com/2017/04/29/70903/</td>\n",
       "      <td>2017-04-29</td>\n",
       "      <td>['이번 봄/여름 시즌, 검정과 흰색 중에 하나를 선택해야 한다면 당연히 흰색이다....</td>\n",
       "      <td>0</td>\n",
       "      <td>0</td>\n",
       "      <td>-</td>\n",
       "      <td>['셔츠를 디자인하는 나에게 화이트 컬러는 완벽한 색이다. 이번 시즌에는 셀린느, ...</td>\n",
       "    </tr>\n",
       "    <tr>\n",
       "      <th>89</th>\n",
       "      <td>A</td>\n",
       "      <td>Ce</td>\n",
       "      <td>FEATURE</td>\n",
       "      <td>사랑을 쓴다 &lt;1&gt;</td>\n",
       "      <td>http://www.allurekorea.com/2017/02/13/%ec%9e%a...</td>\n",
       "      <td>2017-02-13</td>\n",
       "      <td>['노래는 사랑의 기승전결을 말한다. 사랑의 감정은 보편적일지라도, 그 안에는 서로...</td>\n",
       "      <td>0</td>\n",
       "      <td>0</td>\n",
       "      <td>-</td>\n",
       "      <td>['(+)사랑에 빠진 사람을 위한 플레이리스트 영화 &lt;미드나잇 인 파리&gt;와 &lt;카페 ...</td>\n",
       "    </tr>\n",
       "  </tbody>\n",
       "</table>\n",
       "<p>90 rows × 11 columns</p>\n",
       "</div>"
      ],
      "text/plain": [
       "   magazine brand   category                    title  \\\n",
       "0         A    Ce    FASHION                    코트 체크   \n",
       "1         A    Ce    FASHION                데님이여 영원하라   \n",
       "2         A    Ce    FASHION            남자 백’까지 갖고 싶어   \n",
       "3         A    Ce  CELEBRITY                    예림-예리   \n",
       "4         A    Ce  CELEBRITY            GOOD TIME, 헨리   \n",
       "..      ...   ...        ...                      ...   \n",
       "85        A    Ce    FEATURE           미니 보습 크림 성분 사전   \n",
       "86        A    Ce    FASHION          SOCK-LIKE BOOTS   \n",
       "87        A    Ce    FASHION  인플루언서의 여행지 스타일링 노하우 <1>   \n",
       "88        A    Ce    FASHION                 흰색은 다 옳다   \n",
       "89        A    Ce    FEATURE               사랑을 쓴다 <1>   \n",
       "\n",
       "                                                 link        date  \\\n",
       "0   http://www.allurekorea.com/2020/11/10/%ec%bd%9...  2020-11-10   \n",
       "1   http://www.allurekorea.com/2020/11/06/%eb%8d%b...  2020-11-06   \n",
       "2   http://www.allurekorea.com/2020/11/04/%eb%82%a...  2020-11-04   \n",
       "3   http://www.allurekorea.com/2020/11/03/%ec%98%8...  2020-11-03   \n",
       "4   http://www.allurekorea.com/2020/10/26/good-tim...  2020-10-26   \n",
       "..                                                ...         ...   \n",
       "85  http://www.allurekorea.com/2018/01/07/%eb%af%b...  2018-01-07   \n",
       "86  http://www.allurekorea.com/2017/10/09/%ec%82%a...  2017-10-09   \n",
       "87  http://www.allurekorea.com/2017/06/14/%ec%9d%b...  2017-06-14   \n",
       "88       http://www.allurekorea.com/2017/04/29/70903/  2017-04-29   \n",
       "89  http://www.allurekorea.com/2017/02/13/%ec%9e%a...  2017-02-13   \n",
       "\n",
       "                                             contents  title_brand  check why  \\\n",
       "0   ['겨울이 오기 전 기억해야 할 코트의 면면.', '90’S STANDARD', '...            0      0   -   \n",
       "1   ['데님 팬츠를 선택할 때 가장 중요한 것은 자신의 체형에 맞는 핏을 고르는 것이다...            0      0   -   \n",
       "2   ['때로는 단정하게, 때로는 위트 있게 제 할 일을 다 하는. 그래서 더 넘보게 되...            0      0   -   \n",
       "3   ['어디에도 휘둘리지 않은 채 영향 바깥에서 명랑하게 씩 웃고 마는 하나뿐인 나, ...            0      0   -   \n",
       "4   ['헨리는 자꾸 모든 게 다 괜찮다고 말했다. 그 말이 진심인지 아닌지 확인할 길 ...            0      0   -   \n",
       "..                                                ...          ...    ...  ..   \n",
       "85  ['전문가들은 보습 제품만은 반드시 성분을 확인해야 한다고 강조한다. 내 보습 크림...            0      0   -   \n",
       "86  ['길바닥을 순식간에 런웨이로 만들어버리는 특별한 아이템이 있다. 섹슈얼리티와 스포...            0      0   -   \n",
       "87  ['설렘과 낭만이 가득한 여행지에서도 스타일은 중요하다. 여행을 사랑하고 자신만의 ...            0      0   -   \n",
       "88  ['이번 봄/여름 시즌, 검정과 흰색 중에 하나를 선택해야 한다면 당연히 흰색이다....            0      0   -   \n",
       "89  ['노래는 사랑의 기승전결을 말한다. 사랑의 감정은 보편적일지라도, 그 안에는 서로...            0      0   -   \n",
       "\n",
       "                                          word_celine  \n",
       "0   ['골드 잠금 장식으로 포인트를 준 케이프 체크 코트는 1백9만원, 산드로(Sand...  \n",
       "1    ['  빈티지한 주름과 워싱이 특징인 데님 팬츠는 가격미정, 셀린느(Celine).']  \n",
       "2       ['  1970년대 에스닉한 분위기가 물씬 풍기는 셀린느의 방패 모양 숄더백.']  \n",
       "3   ['재킷, 셔츠, 슈즈는 셀린느(Celine), 블랙 스커트는 렉토, 이어링은 스타...  \n",
       "4   ['재킷, 셔츠, 네크리스는 모두 셀린느(Celine), 팬츠는 다잉브리드, 슈즈는...  \n",
       "..                                                ...  \n",
       "85  ['페트롤라툼 석유에서 얻은 탄화수소의 반고형 물로 피부를 매끄럽게 하고 유분을 공...  \n",
       "86  ['  1 이번 시즌 박시한 코트에 삭 부츠보다 패셔너블하게 어울리는 아이템은 없다...  \n",
       "87  ['    티셔츠는 세인트 제임스. 팬츠는 유니클로 U(Uniqlo U). 샌들은 ...  \n",
       "88  ['셔츠를 디자인하는 나에게 화이트 컬러는 완벽한 색이다. 이번 시즌에는 셀린느, ...  \n",
       "89  ['(+)사랑에 빠진 사람을 위한 플레이리스트 영화 <미드나잇 인 파리>와 <카페 ...  \n",
       "\n",
       "[90 rows x 11 columns]"
      ]
     },
     "execution_count": 6,
     "metadata": {},
     "output_type": "execute_result"
    }
   ],
   "source": [
    "a_ce_dw"
   ]
  },
  {
   "cell_type": "code",
   "execution_count": 7,
   "metadata": {},
   "outputs": [],
   "source": [
    "magazine_list = []\n",
    "article_list = []\n",
    "for magazine in magazines_ce_dw:\n",
    "    articles = magazine['word_celine']\n",
    "    for article in articles:\n",
    "        article_list.append(article)"
   ]
  },
  {
   "cell_type": "code",
   "execution_count": 8,
   "metadata": {},
   "outputs": [
    {
     "data": {
      "text/plain": [
       "877"
      ]
     },
     "execution_count": 8,
     "metadata": {},
     "output_type": "execute_result"
    }
   ],
   "source": [
    "len(article_list)"
   ]
  },
  {
   "cell_type": "code",
   "execution_count": null,
   "metadata": {},
   "outputs": [],
   "source": []
  },
  {
   "cell_type": "markdown",
   "metadata": {},
   "source": [
    "## 트위터 패키지 안에 konlpy 모듈 호출"
   ]
  },
  {
   "cell_type": "code",
   "execution_count": 9,
   "metadata": {},
   "outputs": [],
   "source": [
    "from konlpy.tag import Twitter"
   ]
  },
  {
   "cell_type": "code",
   "execution_count": 10,
   "metadata": {},
   "outputs": [
    {
     "name": "stderr",
     "output_type": "stream",
     "text": [
      "C:\\Users\\wnsgo\\anaconda3\\lib\\site-packages\\konlpy\\tag\\_okt.py:16: UserWarning: \"Twitter\" has changed to \"Okt\" since KoNLPy v0.4.5.\n",
      "  warn('\"Twitter\" has changed to \"Okt\" since KoNLPy v0.4.5.')\n"
     ]
    }
   ],
   "source": [
    "twitter = Twitter()"
   ]
  },
  {
   "cell_type": "markdown",
   "metadata": {},
   "source": [
    "### 각 문장별로 형태소 구분하기"
   ]
  },
  {
   "cell_type": "code",
   "execution_count": 11,
   "metadata": {},
   "outputs": [
    {
     "name": "stdout",
     "output_type": "stream",
     "text": [
      "877\n"
     ]
    }
   ],
   "source": [
    "sentences_tag = []\n",
    "\n",
    "for sentence in article_list:\n",
    "    morph = twitter.pos(sentence)\n",
    "    sentences_tag.append(morph)\n",
    "    \n",
    "    \n",
    "\n",
    "print(len(sentences_tag))\n"
   ]
  },
  {
   "cell_type": "code",
   "execution_count": 12,
   "metadata": {},
   "outputs": [
    {
     "data": {
      "text/plain": [
       "[(\"['\", 'Punctuation'),\n",
       " ('골드', 'Noun'),\n",
       " ('잠금', 'Verb'),\n",
       " ('장식', 'Noun'),\n",
       " ('으로', 'Josa'),\n",
       " ('포인트', 'Noun'),\n",
       " ('를', 'Josa'),\n",
       " ('준', 'Noun'),\n",
       " ('케이프', 'Noun'),\n",
       " ('체크', 'Noun'),\n",
       " ('코트', 'Noun'),\n",
       " ('는', 'Josa'),\n",
       " ('1', 'Number'),\n",
       " ('백', 'Noun'),\n",
       " ('9만원', 'Number'),\n",
       " (',', 'Punctuation'),\n",
       " ('산드로', 'Noun'),\n",
       " ('(', 'Punctuation'),\n",
       " ('Sandro', 'Alpha'),\n",
       " (').', 'Punctuation'),\n",
       " ('데님', 'Noun'),\n",
       " ('팬츠', 'Noun'),\n",
       " ('는', 'Josa'),\n",
       " ('가격', 'Noun'),\n",
       " ('미정', 'Noun'),\n",
       " (',', 'Punctuation'),\n",
       " ('리바이스', 'Noun'),\n",
       " ('(', 'Punctuation'),\n",
       " ('Levi', 'Alpha'),\n",
       " ('’', 'Punctuation'),\n",
       " ('s', 'Alpha'),\n",
       " (').', 'Punctuation'),\n",
       " ('그레이', 'Noun'),\n",
       " ('컬러', 'Noun'),\n",
       " ('니트', 'Noun'),\n",
       " ('톱', 'Noun'),\n",
       " ('은', 'Josa'),\n",
       " ('13만', 'Number'),\n",
       " ('2천원', 'Number'),\n",
       " (',', 'Punctuation'),\n",
       " ('르누이', 'Noun'),\n",
       " ('(', 'Punctuation'),\n",
       " ('Le', 'Alpha'),\n",
       " ('Nuee', 'Alpha'),\n",
       " (').', 'Punctuation'),\n",
       " ('라이딩', 'Noun'),\n",
       " ('부츠', 'Noun'),\n",
       " ('는', 'Josa'),\n",
       " ('2', 'Number'),\n",
       " ('백', 'Noun'),\n",
       " ('26만원', 'Number'),\n",
       " (',', 'Punctuation'),\n",
       " ('발렌티노', 'Noun'),\n",
       " ('가라', 'Noun'),\n",
       " ('바니', 'Noun'),\n",
       " ('.', 'Punctuation'),\n",
       " ('줄무늬', 'Noun'),\n",
       " ('포인트', 'Noun'),\n",
       " ('비니', 'Noun'),\n",
       " ('는', 'Josa'),\n",
       " ('8만', 'Number'),\n",
       " ('5천원', 'Number'),\n",
       " (',', 'Punctuation'),\n",
       " ('프레드', 'Noun'),\n",
       " ('페리', 'Noun'),\n",
       " ('(', 'Punctuation'),\n",
       " ('Fred', 'Alpha'),\n",
       " ('Perry', 'Alpha'),\n",
       " (').', 'Punctuation'),\n",
       " ('로고', 'Noun'),\n",
       " ('패턴', 'Noun'),\n",
       " ('백', 'Noun'),\n",
       " ('은', 'Josa'),\n",
       " ('가격', 'Noun'),\n",
       " ('미정', 'Noun'),\n",
       " (',', 'Punctuation'),\n",
       " ('셀린느', 'Noun'),\n",
       " (\".',\", 'Punctuation'),\n",
       " (\"'\", 'Punctuation'),\n",
       " ('벨벳', 'Noun'),\n",
       " ('소재', 'Noun'),\n",
       " ('의', 'Josa'),\n",
       " ('후드', 'Noun'),\n",
       " ('코트', 'Noun'),\n",
       " (',', 'Punctuation'),\n",
       " ('레이스', 'Noun'),\n",
       " ('아플리', 'Adjective'),\n",
       " ('케', 'Noun'),\n",
       " ('디테일', 'Noun'),\n",
       " ('톱', 'Noun'),\n",
       " (',', 'Punctuation'),\n",
       " ('자', 'Noun'),\n",
       " ('카드', 'Noun'),\n",
       " ('소재', 'Noun'),\n",
       " ('스커트', 'Noun'),\n",
       " (',', 'Punctuation'),\n",
       " ('원', 'Modifier'),\n",
       " ('석', 'Noun'),\n",
       " ('네', 'Determiner'),\n",
       " ('크리스', 'Noun'),\n",
       " ('는', 'Josa'),\n",
       " ('모두', 'Noun'),\n",
       " ('가격', 'Noun'),\n",
       " ('미정', 'Noun'),\n",
       " (',', 'Punctuation'),\n",
       " ('셀린느', 'Noun'),\n",
       " ('(', 'Punctuation'),\n",
       " ('Celine', 'Alpha'),\n",
       " (').', 'Punctuation'),\n",
       " ('반', 'Modifier'),\n",
       " ('무테', 'Noun'),\n",
       " ('안경', 'Noun'),\n",
       " ('은', 'Josa'),\n",
       " ('33만원', 'Number'),\n",
       " (',', 'Punctuation'),\n",
       " ('젠틀', 'Noun'),\n",
       " ('몬스터', 'Noun'),\n",
       " ('(', 'Punctuation'),\n",
       " ('Gentle', 'Alpha'),\n",
       " ('Monster', 'Alpha'),\n",
       " (').', 'Punctuation'),\n",
       " ('앵', 'Adverb'),\n",
       " ('클', 'Verb'),\n",
       " ('부츠', 'Noun'),\n",
       " ('는', 'Josa'),\n",
       " ('가격', 'Noun'),\n",
       " ('미정', 'Noun'),\n",
       " (',', 'Punctuation'),\n",
       " ('폴로', 'Noun'),\n",
       " ('랄프', 'Noun'),\n",
       " ('로렌', 'Noun'),\n",
       " ('(', 'Punctuation'),\n",
       " ('Polo', 'Alpha'),\n",
       " ('Ralph', 'Alpha'),\n",
       " ('Lauren', 'Alpha'),\n",
       " (\").']\", 'Punctuation')]"
      ]
     },
     "execution_count": 12,
     "metadata": {},
     "output_type": "execute_result"
    }
   ],
   "source": [
    "sentences_tag[0]"
   ]
  },
  {
   "cell_type": "markdown",
   "metadata": {},
   "source": [
    "### 1. 명사 혹은 형용사인 품사만 선별해 리스트에 담기"
   ]
  },
  {
   "cell_type": "code",
   "execution_count": 13,
   "metadata": {},
   "outputs": [],
   "source": [
    "noun_adj_list= []\n",
    "for sentence1 in sentences_tag:\n",
    "    for word, tag in sentence1:\n",
    "        if tag in ['Noun', 'Adjective']:\n",
    "            noun_adj_list.append(word)"
   ]
  },
  {
   "cell_type": "code",
   "execution_count": 14,
   "metadata": {},
   "outputs": [
    {
     "data": {
      "text/plain": [
       "85704"
      ]
     },
     "execution_count": 14,
     "metadata": {},
     "output_type": "execute_result"
    }
   ],
   "source": [
    "len(noun_adj_list)"
   ]
  },
  {
   "cell_type": "code",
   "execution_count": 15,
   "metadata": {},
   "outputs": [
    {
     "data": {
      "text/plain": [
       "['골드',\n",
       " '장식',\n",
       " '포인트',\n",
       " '준',\n",
       " '케이프',\n",
       " '체크',\n",
       " '코트',\n",
       " '백',\n",
       " '산드로',\n",
       " '데님',\n",
       " '팬츠',\n",
       " '가격',\n",
       " '미정',\n",
       " '리바이스',\n",
       " '그레이',\n",
       " '컬러',\n",
       " '니트',\n",
       " '톱',\n",
       " '르누이',\n",
       " '라이딩']"
      ]
     },
     "execution_count": 15,
     "metadata": {},
     "output_type": "execute_result"
    }
   ],
   "source": [
    "noun_adj_list[:20]"
   ]
  },
  {
   "cell_type": "code",
   "execution_count": 16,
   "metadata": {},
   "outputs": [
    {
     "data": {
      "text/plain": [
       "['골드', '장식', '포인트', '준', '케이프', '체크', '코트', '백', '산드로', '데님']"
      ]
     },
     "execution_count": 16,
     "metadata": {},
     "output_type": "execute_result"
    }
   ],
   "source": [
    "noun_adj_list[:10]"
   ]
  },
  {
   "cell_type": "markdown",
   "metadata": {},
   "source": [
    "### 선별된 품사별 빈도수 계산 & 상위 빈도 10위까지 출력"
   ]
  },
  {
   "cell_type": "code",
   "execution_count": 17,
   "metadata": {
    "scrolled": true
   },
   "outputs": [
    {
     "name": "stdout",
     "output_type": "stream",
     "text": [
      "[('셀린느', 1156), ('것', 929), ('그', 623), ('셀린', 589), ('에디', 566), ('컬렉션', 549), ('수', 547), ('브랜드', 523), ('패션', 478), ('있다', 449), ('등', 415), ('있는', 415), ('이', 402), ('룩', 371), ('시즌', 353), ('의', 352), ('디자이너', 348), ('스타일', 313), ('이번', 313), ('여성', 311), ('백', 307), ('드레스', 304), ('컬러', 296), ('피비', 285), ('남성', 273), ('쇼', 270), ('디자인', 255), ('말', 242), ('가장', 239), ('장식', 234), ('팬츠', 232), ('더', 229), ('지난', 228), ('파리', 222), ('재킷', 219), ('디렉터', 217), ('코트', 211), ('그녀', 211), ('새로운', 206), ('위', 202), ('때', 201), ('슬리', 200), ('슬리먼', 199), ('옷', 198), ('아이템', 193), ('자신', 186), ('같은', 184), ('매치', 183), ('가격', 182), ('사진', 180), ('등장', 177), ('를', 176), ('모델', 176), ('복', 172), ('생', 168), ('로', 164), ('일', 163), ('로랑', 160), ('첫', 159), ('소재', 158), ('나', 154), ('미정', 147), ('역시', 146), ('크리에이티브', 145), ('가죽', 144), ('듯', 144), ('시작', 143), ('디올', 143), ('전', 142), ('스타', 142), ('셔츠', 140), ('로고', 139), ('블랙', 137), ('위해', 137), ('하나', 133), ('스커트', 132), ('버버리', 131), ('런웨이', 130), ('트렌드', 129), ('모두', 128), ('영국', 128), ('시대', 127), ('필로', 126), ('실루엣', 125), ('때문', 124), ('통해', 124), ('주목', 122), ('봄', 122), ('우리', 120), ('중', 119), ('대한', 118), ('파일', 118), ('부츠', 117), ('샤넬', 116), ('사람', 116), ('영화', 116), ('연출', 115), ('클래식', 114), ('다양한', 114), ('건', 113), ('매력', 113), ('속', 111), ('드', 111), ('여름', 111), ('화이트', 110), ('모든', 109), ('럭셔리', 108), ('또', 108), ('최근', 108), ('다른', 107), ('제품', 105), ('구찌', 104), ('스', 104), ('내', 104), ('라인', 102), ('생각', 101), ('완성', 101), ('매장', 101), ('입', 101), ('데님', 100), ('세계', 100), ('프린트', 100), ('영감', 100), ('가방', 99), ('패션계', 99), ('그룹', 98), ('세', 98), ('링', 97), ('사랑', 96), ('무드', 96), ('사이즈', 93), ('없는', 92), ('변화', 92), ('발렌시아', 92), ('눈', 92), ('지금', 91), ('수트', 91), ('슈즈', 90), ('슬', 90), ('액세서리', 90), ('패션위크', 90), ('데뷔', 90), ('리먼', 89), ('티', 89), ('일링', 88), ('광고', 88), ('두', 88), ('패턴', 87), ('안', 87), ('지방시', 87), ('패션쇼', 87), ('바이', 86), ('가지', 86), ('또한', 86), ('시간', 85), ('데', 85), ('하우스', 85), ('재', 84), ('바로', 84), ('선택', 83), ('후', 82), ('피스', 81), ('많은', 81), ('런던', 80), ('정도', 79), ('디온', 79), ('가을', 79), ('성복', 79), ('모습', 78), ('감', 78), ('이미지', 78), ('슈트', 77), ('미니', 77), ('사실', 77), ('시절', 76), ('겨울', 76), ('트', 76), ('캠페인', 76), ('빈티', 75), ('존재', 75), ('프랑스', 74), ('대표', 74), ('이름', 73), ('프라다', 73), ('동시', 72), ('분위기', 71), ('옴므', 70), ('포인트', 69), ('선글라스', 69), ('스트리트', 69), ('베스트', 69), ('뒤', 69), ('느낌', 68), ('다시', 68), ('어떤', 68), ('고', 68), ('공개', 68), ('케이프', 67), ('아니라', 67), ('현재', 67)]\n"
     ]
    }
   ],
   "source": [
    "word = Counter(noun_adj_list)\n",
    "print(word.most_common(200))"
   ]
  },
  {
   "cell_type": "code",
   "execution_count": 18,
   "metadata": {},
   "outputs": [],
   "source": [
    "# 한 글자인 단어는 제외\n",
    "\n",
    "for i, v in enumerate(noun_adj_list):\n",
    "    if len(v)<2:\n",
    "        noun_adj_list.pop(i)"
   ]
  },
  {
   "cell_type": "code",
   "execution_count": 19,
   "metadata": {},
   "outputs": [],
   "source": [
    "count = Counter(noun_adj_list)"
   ]
  },
  {
   "cell_type": "code",
   "execution_count": 20,
   "metadata": {},
   "outputs": [
    {
     "name": "stdout",
     "output_type": "stream",
     "text": [
      "('셀린느', 1156)\n",
      "('셀린', 589)\n",
      "('에디', 566)\n",
      "('컬렉션', 549)\n",
      "('브랜드', 523)\n",
      "('패션', 478)\n",
      "('있다', 449)\n",
      "('있는', 415)\n",
      "('시즌', 353)\n",
      "('디자이너', 348)\n",
      "('스타일', 313)\n",
      "('이번', 313)\n",
      "('여성', 311)\n",
      "('드레스', 304)\n",
      "('컬러', 296)\n",
      "('피비', 285)\n",
      "('남성', 273)\n",
      "('디자인', 255)\n",
      "('가장', 239)\n",
      "('장식', 234)\n",
      "('팬츠', 232)\n",
      "('지난', 228)\n",
      "('파리', 222)\n",
      "('재킷', 219)\n",
      "('디렉터', 217)\n",
      "('코트', 211)\n",
      "('그녀', 211)\n",
      "('새로운', 206)\n",
      "('슬리', 200)\n",
      "('슬리먼', 199)\n",
      "('아이템', 193)\n",
      "('자신', 186)\n",
      "('같은', 184)\n",
      "('매치', 183)\n",
      "('가격', 182)\n",
      "('사진', 180)\n",
      "('등장', 177)\n",
      "('모델', 176)\n",
      "('로랑', 160)\n",
      "('소재', 158)\n",
      "('미정', 147)\n",
      "('역시', 146)\n",
      "('크리에이티브', 145)\n",
      "('가죽', 144)\n",
      "('시작', 143)\n",
      "('디올', 143)\n",
      "('스타', 142)\n",
      "('셔츠', 140)\n",
      "('로고', 139)\n",
      "('블랙', 137)\n",
      "('위해', 137)\n",
      "('하나', 133)\n",
      "('스커트', 132)\n",
      "('버버리', 131)\n",
      "('런웨이', 130)\n",
      "('트렌드', 129)\n",
      "('모두', 128)\n",
      "('영국', 128)\n",
      "('시대', 127)\n",
      "('필로', 126)\n",
      "('실루엣', 125)\n",
      "('때문', 124)\n",
      "('통해', 124)\n",
      "('주목', 122)\n",
      "('우리', 120)\n",
      "('대한', 118)\n",
      "('파일', 118)\n",
      "('부츠', 117)\n",
      "('수', 117)\n",
      "('것', 117)\n",
      "('샤넬', 116)\n",
      "('사람', 116)\n",
      "('영화', 116)\n",
      "('연출', 115)\n",
      "('클래식', 114)\n",
      "('다양한', 114)\n",
      "('매력', 113)\n",
      "('여름', 111)\n",
      "('화이트', 110)\n",
      "('모든', 109)\n",
      "('럭셔리', 108)\n",
      "('최근', 108)\n",
      "('다른', 107)\n",
      "('제품', 105)\n",
      "('구찌', 104)\n",
      "('라인', 102)\n",
      "('생각', 101)\n",
      "('완성', 101)\n",
      "('매장', 101)\n",
      "('데님', 100)\n",
      "('세계', 100)\n",
      "('프린트', 100)\n",
      "('영감', 100)\n",
      "('가방', 99)\n",
      "('패션계', 99)\n",
      "('그룹', 98)\n",
      "('사랑', 96)\n",
      "('무드', 96)\n",
      "('사이즈', 93)\n",
      "('없는', 92)\n",
      "('변화', 92)\n",
      "('발렌시아', 92)\n",
      "('그', 92)\n",
      "('지금', 91)\n",
      "('수트', 91)\n",
      "('슈즈', 90)\n",
      "('액세서리', 90)\n",
      "('패션위크', 90)\n",
      "('데뷔', 90)\n",
      "('리먼', 89)\n",
      "('일링', 88)\n",
      "('광고', 88)\n",
      "('패턴', 87)\n",
      "('지방시', 87)\n",
      "('패션쇼', 87)\n",
      "('바이', 86)\n",
      "('가지', 86)\n",
      "('또한', 86)\n",
      "('시간', 85)\n",
      "('하우스', 85)\n",
      "('바로', 84)\n",
      "('선택', 83)\n",
      "('피스', 81)\n",
      "('많은', 81)\n",
      "('런던', 80)\n",
      "('정도', 79)\n",
      "('디온', 79)\n",
      "('가을', 79)\n",
      "('성복', 79)\n",
      "('이', 78)\n",
      "('모습', 78)\n",
      "('이미지', 78)\n",
      "('슈트', 77)\n",
      "('미니', 77)\n",
      "('사실', 77)\n",
      "('시절', 76)\n",
      "('겨울', 76)\n",
      "('캠페인', 76)\n",
      "('빈티', 75)\n",
      "('존재', 75)\n",
      "('프랑스', 74)\n",
      "('대표', 74)\n",
      "('이름', 73)\n",
      "('프라다', 73)\n",
      "('동시', 72)\n",
      "('분위기', 71)\n",
      "('옴므', 70)\n",
      "('포인트', 69)\n",
      "('선글라스', 69)\n",
      "('스트리트', 69)\n",
      "('베스트', 69)\n",
      "('느낌', 68)\n",
      "('다시', 68)\n",
      "('어떤', 68)\n",
      "('공개', 68)\n",
      "('케이프', 67)\n",
      "('아니라', 67)\n",
      "('현재', 67)\n",
      "('표현', 66)\n",
      "('매출', 66)\n",
      "('벨트', 65)\n",
      "('있었다', 65)\n",
      "('에디터', 64)\n",
      "('오버', 64)\n",
      "('활용', 64)\n",
      "('무엇', 64)\n",
      "('스니커즈', 64)\n",
      "('니트', 63)\n",
      "('리스트', 63)\n",
      "('없다', 63)\n",
      "('뉴욕', 63)\n",
      "('트렌치코트', 62)\n",
      "('향수', 62)\n",
      "('의상', 61)\n",
      "('감독', 61)\n",
      "('한편', 60)\n",
      "('레드', 59)\n",
      "('처음', 59)\n",
      "('대해', 58)\n",
      "('사용', 58)\n",
      "('웨어', 58)\n",
      "('있을', 58)\n",
      "('더', 58)\n",
      "('방식', 58)\n",
      "('진행', 58)\n",
      "('세대', 57)\n",
      "('더욱', 57)\n",
      "('당시', 57)\n",
      "('지난해', 57)\n",
      "('인스타그램', 56)\n",
      "('테일러', 56)\n",
      "('의', 56)\n",
      "('골드', 55)\n",
      "('체크', 55)\n",
      "('발표', 55)\n",
      "('이후', 55)\n",
      "('리본', 55)\n",
      "('올해', 54)\n",
      "('끌로', 54)\n",
      "('예정', 54)\n"
     ]
    }
   ],
   "source": [
    "word_list = count.most_common(200)\n",
    "for v in word_list:\n",
    "    print(v)"
   ]
  },
  {
   "cell_type": "markdown",
   "metadata": {},
   "source": [
    "### 2. 명사만 선별해 리스트에 담기"
   ]
  },
  {
   "cell_type": "code",
   "execution_count": 21,
   "metadata": {},
   "outputs": [],
   "source": [
    "noun= []\n",
    "for sentence1 in sentences_tag:\n",
    "    for word, tag in sentence1:\n",
    "        if tag in ['Noun']:\n",
    "            noun.append(word)"
   ]
  },
  {
   "cell_type": "code",
   "execution_count": 22,
   "metadata": {},
   "outputs": [],
   "source": [
    "for i, v in enumerate(noun):\n",
    "    if len(v)<2:\n",
    "        noun.pop(i)"
   ]
  },
  {
   "cell_type": "code",
   "execution_count": 23,
   "metadata": {},
   "outputs": [],
   "source": [
    "counts = Counter(noun)"
   ]
  },
  {
   "cell_type": "markdown",
   "metadata": {},
   "source": [
    "### 3. 명사만 선별해 아티클 별로 리스트에 담기"
   ]
  },
  {
   "cell_type": "code",
   "execution_count": 24,
   "metadata": {},
   "outputs": [
    {
     "name": "stdout",
     "output_type": "stream",
     "text": [
      "877\n"
     ]
    }
   ],
   "source": [
    "noun_article= []\n",
    "for sentence1 in sentences_tag:\n",
    "    art_noun = []\n",
    "    for word, tag in sentence1:\n",
    "        if tag in ['Noun']:\n",
    "            art_noun.append(word)\n",
    "    noun_article.append(art_noun)\n",
    "\n",
    "print(len(noun_article))"
   ]
  },
  {
   "cell_type": "code",
   "execution_count": 25,
   "metadata": {},
   "outputs": [
    {
     "data": {
      "text/plain": [
       "877"
      ]
     },
     "execution_count": 25,
     "metadata": {},
     "output_type": "execute_result"
    }
   ],
   "source": [
    "len(article_list)"
   ]
  },
  {
   "cell_type": "code",
   "execution_count": 26,
   "metadata": {},
   "outputs": [],
   "source": [
    "noun_df = pd.DataFrame({\n",
    "    'article':article_list,\n",
    "    'noun':noun_article\n",
    "})"
   ]
  },
  {
   "cell_type": "code",
   "execution_count": 27,
   "metadata": {},
   "outputs": [],
   "source": [
    "w_list = noun_df['noun']"
   ]
  },
  {
   "cell_type": "code",
   "execution_count": 28,
   "metadata": {},
   "outputs": [],
   "source": [
    "for i in range(len(w_list)):\n",
    "    for idx, v in enumerate(w_list[i]):\n",
    "        if len(v)<2:\n",
    "            w_list[i].pop(idx)"
   ]
  },
  {
   "cell_type": "code",
   "execution_count": 29,
   "metadata": {},
   "outputs": [
    {
     "data": {
      "text/plain": [
       "['골드',\n",
       " '장식',\n",
       " '포인트',\n",
       " '케이프',\n",
       " '체크',\n",
       " '코트',\n",
       " '산드로',\n",
       " '데님',\n",
       " '팬츠',\n",
       " '가격',\n",
       " '미정',\n",
       " '리바이스',\n",
       " '그레이',\n",
       " '컬러',\n",
       " '니트',\n",
       " '르누이',\n",
       " '라이딩',\n",
       " '부츠',\n",
       " '발렌티노',\n",
       " '가라',\n",
       " '바니',\n",
       " '줄무늬',\n",
       " '포인트',\n",
       " '비니',\n",
       " '프레드',\n",
       " '페리',\n",
       " '로고',\n",
       " '패턴',\n",
       " '가격',\n",
       " '미정',\n",
       " '셀린느',\n",
       " '벨벳',\n",
       " '소재',\n",
       " '후드',\n",
       " '코트',\n",
       " '레이스',\n",
       " '디테일',\n",
       " '자',\n",
       " '카드',\n",
       " '소재',\n",
       " '스커트',\n",
       " '크리스',\n",
       " '모두',\n",
       " '가격',\n",
       " '미정',\n",
       " '셀린느',\n",
       " '무테',\n",
       " '안경',\n",
       " '젠틀',\n",
       " '몬스터',\n",
       " '부츠',\n",
       " '가격',\n",
       " '미정',\n",
       " '폴로',\n",
       " '랄프',\n",
       " '로렌']"
      ]
     },
     "execution_count": 29,
     "metadata": {},
     "output_type": "execute_result"
    }
   ],
   "source": [
    "w_list[0]"
   ]
  },
  {
   "cell_type": "code",
   "execution_count": 30,
   "metadata": {},
   "outputs": [],
   "source": [
    "noun_df.to_csv('noun_celine.csv', sep = '|', index = False, encoding = 'utf-8')"
   ]
  },
  {
   "cell_type": "code",
   "execution_count": 31,
   "metadata": {},
   "outputs": [
    {
     "data": {
      "text/plain": [
       "0      [골드, 장식, 포인트, 케이프, 체크, 코트, 산드로, 데님, 팬츠, 가격, 미정...\n",
       "1                  [빈티, 주름, 워싱, 특징, 데님, 팬츠, 가격, 미정, 셀린느]\n",
       "2                        [에스, 분위기, 물씬, 셀린느, 방패, 모양, 숄더백]\n",
       "3      [재킷, 셔츠, 슈즈, 셀린느, 블랙, 스커트, 렉토, 이어링, 스타일, 리스트, ...\n",
       "4            [재킷, 셔츠, 크리스, 모두, 셀린느, 팬츠, 다잉브, 리드, 슈즈, 던힐]\n",
       "                             ...                        \n",
       "872    [코리아, 파워, 지난해, 파리, 데뷔, 한국, 디자이너, 황록, 정보, 마틴, 마...\n",
       "873    [패션, 에디터, 김신, 가을, 괜스레, 감상, 정제, 보헤미안, 감성, 국적, 무...\n",
       "874                                                   []\n",
       "875    [허리, 가방, 주머니, 듯, 벨트, 듯, 허리, 가방, 생명, 불어, 셀린, 피비...\n",
       "876    [셀린, 디옹, 나이, 세, 직업, 세계, 디바, 평소, 스타일, 얼마, 클래식, ...\n",
       "Name: noun, Length: 877, dtype: object"
      ]
     },
     "execution_count": 31,
     "metadata": {},
     "output_type": "execute_result"
    }
   ],
   "source": [
    "noun_df['noun']"
   ]
  },
  {
   "cell_type": "markdown",
   "metadata": {},
   "source": [
    "### 명사빈도 카운트"
   ]
  },
  {
   "cell_type": "code",
   "execution_count": 32,
   "metadata": {},
   "outputs": [
    {
     "name": "stdout",
     "output_type": "stream",
     "text": [
      "('셀린느', 1156)\n",
      "('셀린', 589)\n",
      "('에디', 566)\n",
      "('컬렉션', 549)\n",
      "('브랜드', 523)\n",
      "('패션', 478)\n",
      "('시즌', 353)\n",
      "('디자이너', 348)\n",
      "('스타일', 313)\n",
      "('이번', 313)\n",
      "('여성', 311)\n",
      "('드레스', 304)\n",
      "('컬러', 296)\n",
      "('피비', 285)\n",
      "('남성', 273)\n",
      "('디자인', 255)\n",
      "('가장', 239)\n",
      "('장식', 234)\n",
      "('팬츠', 232)\n",
      "('지난', 228)\n",
      "('파리', 222)\n",
      "('재킷', 219)\n",
      "('디렉터', 217)\n",
      "('코트', 211)\n",
      "('그녀', 211)\n",
      "('슬리', 200)\n",
      "('슬리먼', 199)\n",
      "('아이템', 193)\n",
      "('자신', 186)\n",
      "('매치', 183)\n",
      "('가격', 182)\n",
      "('사진', 180)\n",
      "('등장', 177)\n",
      "('모델', 176)\n",
      "('것', 175)\n",
      "('로랑', 160)\n",
      "('소재', 158)\n",
      "('미정', 147)\n",
      "('역시', 146)\n",
      "('크리에이티브', 145)\n",
      "('가죽', 144)\n",
      "('시작', 143)\n",
      "('디올', 143)\n",
      "('스타', 142)\n",
      "('셔츠', 140)\n",
      "('로고', 139)\n",
      "('블랙', 137)\n",
      "('위해', 137)\n",
      "('하나', 133)\n",
      "('스커트', 132)\n",
      "('버버리', 131)\n",
      "('런웨이', 130)\n",
      "('트렌드', 129)\n",
      "('모두', 128)\n",
      "('영국', 128)\n",
      "('시대', 127)\n",
      "('필로', 126)\n",
      "('실루엣', 125)\n",
      "('때문', 124)\n",
      "('통해', 124)\n",
      "('주목', 122)\n",
      "('수', 121)\n",
      "('우리', 120)\n",
      "('대한', 118)\n",
      "('파일', 118)\n",
      "('부츠', 117)\n",
      "('샤넬', 116)\n",
      "('사람', 116)\n",
      "('영화', 116)\n",
      "('연출', 115)\n",
      "('클래식', 114)\n",
      "('매력', 113)\n",
      "('여름', 111)\n",
      "('그', 110)\n",
      "('화이트', 110)\n",
      "('모든', 109)\n",
      "('럭셔리', 108)\n",
      "('최근', 108)\n",
      "('다른', 107)\n",
      "('제품', 105)\n",
      "('구찌', 104)\n",
      "('라인', 102)\n",
      "('생각', 101)\n",
      "('완성', 101)\n",
      "('매장', 101)\n",
      "('데님', 100)\n",
      "('세계', 100)\n",
      "('프린트', 100)\n",
      "('영감', 100)\n",
      "('가방', 99)\n",
      "('패션계', 99)\n",
      "('그룹', 98)\n",
      "('사랑', 96)\n",
      "('무드', 96)\n",
      "('사이즈', 93)\n",
      "('변화', 92)\n",
      "('발렌시아', 92)\n",
      "('지금', 91)\n",
      "('이', 91)\n",
      "('수트', 91)\n",
      "('슈즈', 90)\n",
      "('액세서리', 90)\n",
      "('패션위크', 90)\n",
      "('데뷔', 90)\n",
      "('리먼', 89)\n",
      "('일링', 88)\n",
      "('광고', 88)\n",
      "('패턴', 87)\n",
      "('지방시', 87)\n",
      "('패션쇼', 87)\n",
      "('바이', 86)\n",
      "('가지', 86)\n",
      "('또한', 86)\n",
      "('시간', 85)\n",
      "('하우스', 85)\n",
      "('바로', 84)\n",
      "('선택', 83)\n",
      "('피스', 81)\n",
      "('런던', 80)\n",
      "('정도', 79)\n",
      "('디온', 79)\n",
      "('가을', 79)\n",
      "('성복', 79)\n",
      "('모습', 78)\n",
      "('이미지', 78)\n",
      "('슈트', 77)\n",
      "('미니', 77)\n",
      "('사실', 77)\n",
      "('시절', 76)\n",
      "('겨울', 76)\n",
      "('캠페인', 76)\n",
      "('빈티', 75)\n",
      "('존재', 75)\n",
      "('프랑스', 74)\n",
      "('대표', 74)\n",
      "('이름', 73)\n",
      "('프라다', 73)\n",
      "('동시', 72)\n",
      "('분위기', 71)\n",
      "('옴므', 70)\n",
      "('포인트', 69)\n",
      "('선글라스', 69)\n",
      "('스트리트', 69)\n",
      "('베스트', 69)\n",
      "('느낌', 68)\n",
      "('다시', 68)\n",
      "('공개', 68)\n",
      "('케이프', 67)\n",
      "('현재', 67)\n",
      "('표현', 66)\n",
      "('매출', 66)\n",
      "('벨트', 65)\n",
      "('에디터', 64)\n",
      "('오버', 64)\n",
      "('활용', 64)\n",
      "('무엇', 64)\n",
      "('스니커즈', 64)\n",
      "('니트', 63)\n",
      "('리스트', 63)\n",
      "('뉴욕', 63)\n",
      "('트렌치코트', 62)\n",
      "('향수', 62)\n",
      "('의상', 61)\n",
      "('감독', 61)\n",
      "('한편', 60)\n",
      "('레드', 59)\n",
      "('처음', 59)\n",
      "('대해', 58)\n",
      "('사용', 58)\n",
      "('웨어', 58)\n",
      "('더', 58)\n",
      "('말', 58)\n",
      "('방식', 58)\n",
      "('진행', 58)\n",
      "('세대', 57)\n",
      "('더욱', 57)\n",
      "('당시', 57)\n",
      "('의', 57)\n",
      "('지난해', 57)\n",
      "('인스타그램', 56)\n",
      "('룩', 56)\n",
      "('테일러', 56)\n",
      "('골드', 55)\n",
      "('체크', 55)\n",
      "('발표', 55)\n",
      "('이후', 55)\n",
      "('리본', 55)\n",
      "('올해', 54)\n",
      "('끌로', 54)\n",
      "('예정', 54)\n",
      "('발렌티노', 53)\n",
      "('이유', 53)\n",
      "('메종', 53)\n",
      "('블라우스', 52)\n",
      "('시도', 52)\n",
      "('이상', 52)\n",
      "('길이', 51)\n",
      "('스카프', 51)\n",
      "('촬영', 51)\n",
      "('때', 51)\n"
     ]
    }
   ],
   "source": [
    "noun_list = counts.most_common(200)\n",
    "for v in noun_list:\n",
    "    print(v)"
   ]
  },
  {
   "cell_type": "markdown",
   "metadata": {},
   "source": [
    "## 워드클라우드 만들기"
   ]
  },
  {
   "cell_type": "code",
   "execution_count": 33,
   "metadata": {},
   "outputs": [],
   "source": [
    "\n",
    "import matplotlib.pyplot as plt"
   ]
  },
  {
   "cell_type": "markdown",
   "metadata": {},
   "source": [
    "### 패키지 설치 및 폰트 어쩌구"
   ]
  },
  {
   "cell_type": "code",
   "execution_count": 34,
   "metadata": {},
   "outputs": [
    {
     "name": "stdout",
     "output_type": "stream",
     "text": [
      "Malgun Gothic C:\\WINDOWS\\Fonts\\malgun.ttf\n",
      "Yu Gothic C:\\WINDOWS\\Fonts\\YuGothB.ttc\n",
      "HYGothic-Extra C:\\WINDOWS\\Fonts\\H2GTRE.TTF\n",
      "Franklin Gothic Medium C:\\WINDOWS\\Fonts\\framdit.ttf\n",
      "Malgun Gothic C:\\Windows\\Fonts\\malgunbd.ttf\n",
      "Yu Gothic C:\\Windows\\Fonts\\YuGothL.ttc\n",
      "Century Gothic C:\\Windows\\Fonts\\GOTHIC.TTF\n",
      "Yu Gothic C:\\Windows\\Fonts\\YuGothM.ttc\n",
      "Yu Gothic C:\\WINDOWS\\Fonts\\YuGothR.ttc\n",
      "MS Gothic C:\\WINDOWS\\Fonts\\msgothic.ttc\n",
      "HYGothic-Medium C:\\WINDOWS\\Fonts\\H2GTRM.TTF\n",
      "Malgun Gothic C:\\WINDOWS\\Fonts\\malgunsl.ttf\n",
      "Century Gothic C:\\Windows\\Fonts\\GOTHICI.TTF\n",
      "Century Gothic C:\\WINDOWS\\Fonts\\GOTHICBI.TTF\n",
      "Century Gothic C:\\Windows\\Fonts\\GOTHICB.TTF\n",
      "Franklin Gothic Medium C:\\WINDOWS\\Fonts\\framd.ttf\n"
     ]
    }
   ],
   "source": [
    "import matplotlib.font_manager as fm\n",
    "\n",
    "# 이용 가능한 폰트 중 '고딕'만 선별\n",
    "for font in fm.fontManager.ttflist:\n",
    "    if 'Gothic' in font.name:\n",
    "        print(font.name, font.fname)"
   ]
  },
  {
   "cell_type": "code",
   "execution_count": 35,
   "metadata": {},
   "outputs": [],
   "source": [
    "font_path = 'C:\\WINDOWS\\Fonts\\malgun.ttf'"
   ]
  },
  {
   "cell_type": "markdown",
   "metadata": {},
   "source": [
    "### wordcloud 그리기"
   ]
  },
  {
   "cell_type": "code",
   "execution_count": 36,
   "metadata": {},
   "outputs": [],
   "source": [
    "from wordcloud import WordCloud"
   ]
  },
  {
   "cell_type": "code",
   "execution_count": 37,
   "metadata": {},
   "outputs": [],
   "source": [
    "wc = WordCloud(font_path=font_path, background_color=\"white\", width=600, height=400)"
   ]
  },
  {
   "cell_type": "code",
   "execution_count": 38,
   "metadata": {},
   "outputs": [
    {
     "data": {
      "text/plain": [
       "<wordcloud.wordcloud.WordCloud at 0x14cae0f5bc8>"
      ]
     },
     "execution_count": 38,
     "metadata": {},
     "output_type": "execute_result"
    }
   ],
   "source": [
    "wc.generate_from_frequencies(dict(word_list))\n",
    "wc.to_file('wordcloud_adj_noun_celine.png')"
   ]
  },
  {
   "cell_type": "code",
   "execution_count": 39,
   "metadata": {},
   "outputs": [
    {
     "data": {
      "text/plain": [
       "<wordcloud.wordcloud.WordCloud at 0x14cae0f5bc8>"
      ]
     },
     "execution_count": 39,
     "metadata": {},
     "output_type": "execute_result"
    }
   ],
   "source": [
    "wc.generate_from_frequencies(dict(noun_list))\n",
    "wc.to_file('wordcloud_noun_celine.png')"
   ]
  },
  {
   "cell_type": "code",
   "execution_count": null,
   "metadata": {},
   "outputs": [],
   "source": []
  },
  {
   "cell_type": "code",
   "execution_count": null,
   "metadata": {},
   "outputs": [],
   "source": []
  },
  {
   "cell_type": "code",
   "execution_count": null,
   "metadata": {},
   "outputs": [],
   "source": []
  },
  {
   "cell_type": "code",
   "execution_count": null,
   "metadata": {},
   "outputs": [],
   "source": []
  },
  {
   "cell_type": "code",
   "execution_count": null,
   "metadata": {},
   "outputs": [],
   "source": []
  },
  {
   "cell_type": "code",
   "execution_count": null,
   "metadata": {},
   "outputs": [],
   "source": []
  },
  {
   "cell_type": "code",
   "execution_count": null,
   "metadata": {},
   "outputs": [],
   "source": []
  },
  {
   "cell_type": "code",
   "execution_count": null,
   "metadata": {},
   "outputs": [],
   "source": []
  },
  {
   "cell_type": "code",
   "execution_count": null,
   "metadata": {},
   "outputs": [],
   "source": []
  },
  {
   "cell_type": "code",
   "execution_count": null,
   "metadata": {},
   "outputs": [],
   "source": []
  },
  {
   "cell_type": "code",
   "execution_count": null,
   "metadata": {},
   "outputs": [],
   "source": []
  }
 ],
 "metadata": {
  "kernelspec": {
   "display_name": "Python 3",
   "language": "python",
   "name": "python3"
  },
  "language_info": {
   "codemirror_mode": {
    "name": "ipython",
    "version": 3
   },
   "file_extension": ".py",
   "mimetype": "text/x-python",
   "name": "python",
   "nbconvert_exporter": "python",
   "pygments_lexer": "ipython3",
   "version": "3.7.6"
  }
 },
 "nbformat": 4,
 "nbformat_minor": 2
}
