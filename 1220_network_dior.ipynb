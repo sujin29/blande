{
 "cells": [
  {
   "cell_type": "code",
   "execution_count": 1,
   "metadata": {},
   "outputs": [],
   "source": [
    "import pandas as pd\n",
    "import numpy as np\n",
    "import re\n",
    "import networkx as nx\n",
    "import matplotlib.pyplot as plt"
   ]
  },
  {
   "cell_type": "code",
   "execution_count": 2,
   "metadata": {},
   "outputs": [],
   "source": [
    "# 한글 폰트 문제 해결\n",
    "import platform\n",
    "\n",
    "from matplotlib import font_manager, rc\n",
    "# plt.rcParams['axes.unicode_minus'] = False\n",
    "\n",
    "if platform.system() == 'Darwin':\n",
    "    rc('font', family='AppleGothic')\n",
    "elif platform.system() == 'Windows':\n",
    "    path = \"c:/Windows/Fonts/malgun.ttf\"\n",
    "    font_name = font_manager.FontProperties(fname=path).get_name()\n",
    "    rc('font', family=font_name)\n",
    "else:\n",
    "    print('Unknown system... sorry~~~~') "
   ]
  },
  {
   "cell_type": "code",
   "execution_count": 26,
   "metadata": {},
   "outputs": [],
   "source": [
    "mag_d = pd.read_csv('./magazine/final/magazine_d_stickword.csv', encoding = 'utf-8', sep ='|')"
   ]
  },
  {
   "cell_type": "code",
   "execution_count": 27,
   "metadata": {},
   "outputs": [],
   "source": [
    "mag_d['ADFN'] = mag_d['ADFN'].str.replace('[', '').str.replace(']', '').str.replace(\"'\", \"\").str.split(', ')"
   ]
  },
  {
   "cell_type": "code",
   "execution_count": 28,
   "metadata": {},
   "outputs": [
    {
     "data": {
      "text/plain": [
       "0    [빈티지, 패션, 좋, 느, 좋, 당시, 사랑, 사랑, 나의, 물건, 새롭, 사랑,...\n",
       "1    [요즘, 주식, 친구, 과의, 대화, 빼놓, 주제, 코로나, 겪, 늘어나, 불안감,...\n",
       "2    [나이, 조, 덜, 시리즈, 역대, 급, 평가, 에어, DIOR, 부르, 값, 한정...\n",
       "3                    [DIOR, LADY, DIOR, DIOR, 아무르, 미니]\n",
       "4    [실크, 슬리브리스, 블랙, 와이드, 팬츠, 김, 룡, HOMME, 블랙, 부츠, ...\n",
       "Name: ADFN, dtype: object"
      ]
     },
     "execution_count": 28,
     "metadata": {},
     "output_type": "execute_result"
    }
   ],
   "source": [
    "mag_d['ADFN'].head()"
   ]
  },
  {
   "cell_type": "markdown",
   "metadata": {},
   "source": [
    "### top50 리스트 생성"
   ]
  },
  {
   "cell_type": "code",
   "execution_count": 31,
   "metadata": {},
   "outputs": [],
   "source": [
    "top500 = pd.read_csv('./magazine/final/d_ADFN_rank_dropword.csv', sep='|', encoding = 'utf-8')"
   ]
  },
  {
   "cell_type": "code",
   "execution_count": 32,
   "metadata": {},
   "outputs": [
    {
     "data": {
      "text/html": [
       "<div>\n",
       "<style scoped>\n",
       "    .dataframe tbody tr th:only-of-type {\n",
       "        vertical-align: middle;\n",
       "    }\n",
       "\n",
       "    .dataframe tbody tr th {\n",
       "        vertical-align: top;\n",
       "    }\n",
       "\n",
       "    .dataframe thead th {\n",
       "        text-align: right;\n",
       "    }\n",
       "</style>\n",
       "<table border=\"1\" class=\"dataframe\">\n",
       "  <thead>\n",
       "    <tr style=\"text-align: right;\">\n",
       "      <th></th>\n",
       "      <th>word</th>\n",
       "      <th>count</th>\n",
       "    </tr>\n",
       "  </thead>\n",
       "  <tbody>\n",
       "    <tr>\n",
       "      <th>0</th>\n",
       "      <td>DIOR</td>\n",
       "      <td>4896</td>\n",
       "    </tr>\n",
       "    <tr>\n",
       "      <th>1</th>\n",
       "      <td>컬렉션</td>\n",
       "      <td>1265</td>\n",
       "    </tr>\n",
       "    <tr>\n",
       "      <th>2</th>\n",
       "      <td>패션</td>\n",
       "      <td>1236</td>\n",
       "    </tr>\n",
       "    <tr>\n",
       "      <th>3</th>\n",
       "      <td>브랜드</td>\n",
       "      <td>753</td>\n",
       "    </tr>\n",
       "    <tr>\n",
       "      <th>4</th>\n",
       "      <td>드레스</td>\n",
       "      <td>728</td>\n",
       "    </tr>\n",
       "    <tr>\n",
       "      <th>...</th>\n",
       "      <td>...</td>\n",
       "      <td>...</td>\n",
       "    </tr>\n",
       "    <tr>\n",
       "      <th>495</th>\n",
       "      <td>심플</td>\n",
       "      <td>56</td>\n",
       "    </tr>\n",
       "    <tr>\n",
       "      <th>496</th>\n",
       "      <td>느껴지</td>\n",
       "      <td>56</td>\n",
       "    </tr>\n",
       "    <tr>\n",
       "      <th>497</th>\n",
       "      <td>달리</td>\n",
       "      <td>56</td>\n",
       "    </tr>\n",
       "    <tr>\n",
       "      <th>498</th>\n",
       "      <td>화려</td>\n",
       "      <td>56</td>\n",
       "    </tr>\n",
       "    <tr>\n",
       "      <th>499</th>\n",
       "      <td>작가</td>\n",
       "      <td>56</td>\n",
       "    </tr>\n",
       "  </tbody>\n",
       "</table>\n",
       "<p>500 rows × 2 columns</p>\n",
       "</div>"
      ],
      "text/plain": [
       "     word  count\n",
       "0    DIOR   4896\n",
       "1     컬렉션   1265\n",
       "2      패션   1236\n",
       "3     브랜드    753\n",
       "4     드레스    728\n",
       "..    ...    ...\n",
       "495    심플     56\n",
       "496   느껴지     56\n",
       "497    달리     56\n",
       "498    화려     56\n",
       "499    작가     56\n",
       "\n",
       "[500 rows x 2 columns]"
      ]
     },
     "execution_count": 32,
     "metadata": {},
     "output_type": "execute_result"
    }
   ],
   "source": [
    "top500"
   ]
  },
  {
   "cell_type": "code",
   "execution_count": 33,
   "metadata": {},
   "outputs": [
    {
     "name": "stdout",
     "output_type": "stream",
     "text": [
      "50\n",
      "['DIOR', '컬렉션', '패션', '브랜드', '드레스', '쇼', '디자이너', '여성', '룩', '장식', '하우스', 'MARIA', '컬러', 'DESIGN', '백', '티', '모델', '디렉터', '스타일', '파리', '시즌', 'CHRISTIAN', '재킷', '소재', 'LADY', 'COUTURE', '영감', '작품', 'CREATIVE', '블랙', '팬츠', 'HOMME', '영화', '화이트', '스커트', '새롭', '옷', '세계', '프랑스', 'JONES', '아이템', '배우', 'LAURENT', 'KIM', '남성복', '코트', '완성', '라인', '로고', '럭셔리']\n"
     ]
    }
   ],
   "source": [
    "top50 = []\n",
    "for i in range(50):\n",
    "    top50.append(top500.loc[i, 'word'])\n",
    "    \n",
    "print(len(top50))\n",
    "print(top50)"
   ]
  },
  {
   "cell_type": "markdown",
   "metadata": {},
   "source": [
    "### top100"
   ]
  },
  {
   "cell_type": "code",
   "execution_count": 34,
   "metadata": {},
   "outputs": [
    {
     "name": "stdout",
     "output_type": "stream",
     "text": [
      "100\n",
      "['DIOR', '컬렉션', '패션', '브랜드', '드레스', '쇼', '디자이너', '여성', '룩', '장식', '하우스', 'MARIA', '컬러', 'DESIGN', '백', '티', '모델', '디렉터', '스타일', '파리', '시즌', 'CHRISTIAN', '재킷', '소재', 'LADY', 'COUTURE', '영감', '작품', 'CREATIVE', '블랙', '팬츠', 'HOMME', '영화', '화이트', '스커트', '새롭', '옷', '세계', '프랑스', 'JONES', '아이템', '배우', 'LAURENT', 'KIM', '남성복', '코트', '완성', '라인', '로고', '럭셔리', '슈트', '아티스트', '패턴', '사랑', '열리', '좋', '가죽', '선택', '봄', '셔츠', '여름', '새', 'SADDLE', '데님', '미국', '프린트', '작업', '의상', '가방', '런웨이', '웨어', '협업', '무대', '유명', '처음', '전시', '뷰티', '제작', '슈즈', '티셔츠', '앤', '착용', '아트', 'JEWERLY', '시몬스', '따르', '실루엣', '크루즈', '패션쇼', '푸', '엘', '패션계', '루', '위크', '꽃', '장', 'LVMH', '커', nan, '이미지']\n"
     ]
    }
   ],
   "source": [
    "top100 = []\n",
    "for i in range(100):\n",
    "    top100.append(top500.loc[i, 'word'])\n",
    "    \n",
    "print(len(top100))\n",
    "print(top100)"
   ]
  },
  {
   "cell_type": "code",
   "execution_count": 35,
   "metadata": {},
   "outputs": [
    {
     "name": "stdout",
     "output_type": "stream",
     "text": [
      "500\n",
      "['DIOR', '컬렉션', '패션', '브랜드', '드레스', '쇼', '디자이너', '여성', '룩', '장식', '하우스', 'MARIA', '컬러', 'DESIGN', '백', '티', '모델', '디렉터', '스타일', '파리', '시즌', 'CHRISTIAN', '재킷', '소재', 'LADY', 'COUTURE', '영감', '작품', 'CREATIVE', '블랙', '팬츠', 'HOMME', '영화', '화이트', '스커트', '새롭', '옷', '세계', '프랑스', 'JONES', '아이템', '배우', 'LAURENT', 'KIM', '남성복', '코트', '완성', '라인', '로고', '럭셔리', '슈트', '아티스트', '패턴', '사랑', '열리', '좋', '가죽', '선택', '봄', '셔츠', '여름', '새', 'SADDLE', '데님', '미국', '프린트', '작업', '의상', '가방', '런웨이', '웨어', '협업', '무대', '유명', '처음', '전시', '뷰티', '제작', '슈즈', '티셔츠', '앤', '착용', '아트', 'JEWERLY', '시몬스', '따르', '실루엣', '크루즈', '패션쇼', '푸', '엘', '패션계', '루', '위크', '꽃', '장', 'LVMH', '커', nan, '이미지', '그룹', '핑크', '비통', '연기', '여자', '가을', '해석', 'VALENTINO', '다이', '골드', '라프', '느낌', '스타', '메', '패', '통', '담', '영국', '한편', '시대', '눈', '순간', '촬영', '데뷔', '트렌드', '이비', '당시', '백은', '자리', '방식', '그렇', '레드', '참석', '돋보이', '올해', '끌', '점', '캠페인', '주목', '파', '뉴욕', '공개', '클래식', '매장', '남성', '얻', 'COM', '반', '스트리트', '블', '분위기', '아름답', '겨울', '찾', '자연', '메이크업', '세', '시절', '미니', '드러내', '이후', '꾸뛰', '런', '부츠', '모자', '의미', '크리스', '사실', '액세서리', '미우', '이야기', '자수', '진행', '사용', '예정', '소', '향수', '좋아하', '하이', '벨', '다르', '즈', 'CALVIN', 'KLEIN', '중요', '뉴', '부', '로즈', 'INSTAGRAM', '슬', '탄생', '마음', '한국', '만나', '출신', '맞', '포인트', '대표', 'W', '지방시', '플', '니트', '아몬드', '무슈', '드', '형태', '차', '조', '스니커즈', '출시', '밝히', '톱', '일하', '현지', '이렇', '링', '인기', '빈티지', 'CELINE', '특별', 'BALENCIAGA', '벨트', '모르', '사이', '치루이', '젊', 'EDITOR', '아름다움', '그리', '무드', '페', '김', '즐기', '마지막', '블루', '스타일링', '장인', '이루', '느끼', '목걸이', '포', '매력', '린', '쓰', '기억', '지난해', 'HEDI', 'SLIMANE', '이끌', '올리', '걸', '귀고리', '연상', '세대', '예술', '가능', '약', 'F', '적인', '트', '색', '스틱', '수트', '길', '강조', '존재', '이르', '모으', '역할', '프', '오르', '립', '힐', '스트랩', '유행', '완벽', '역사', '사이즈', '프리', '넘치', '남', 'JOHN', '포함', '문화', '자유', '반지', '변화', 'MAISON', 'FASHIONN', '높', '필요', '스텔라', 'GALLIANO', '감독', '관심', '활동', '멀', '체크', 'SPORTY', '페미니스트', '발', '선글라스', '얼', '얼굴', '마르', '힘', '몸', '이어지', '곳', '지니', '스키', '폴', '상징', '행사', '어울리', '맡', '특징', '떠나', '리스트', '까', '런던', '톤', '활용', '피스', '원', '캐릭터', '터', '프로젝트', 'ARCHIVE', '살', '오트', '손', '과거', '버버리', '동시', '구성', '모양', '화제', '지', '버전', '친구', '발표', '실크', '스킨', '알리', '거리', '준비', '우', '시선', '공간', '진', '현재', '세계적', '하다', '마라', '세상', '투', '마크', '미스', '레이스', '콜라', '맨', '추', '해지', '디테일', '작', '웨이', '매력적', '오뜨', '처', '도시', '선', '이탈리아', '중국', '루이', '보내', '메시지', '전하', '인물', '여성복', '정원', '신', 'HERMES', '정신', '담기', '벌', '찍', 'YVES', '토', '감', '모티프', '최고', '셀', '영향', '열', '미래', '베스트', '셜', '피터', '일본', '갈', '장미', '시스', '케어', '레이션', '스', '캡', '집중', '남자', '판매', '원하', '렌', '달', '빠지', '오픈', '힘들', '꿈', '유재', '온라인', '생기', '요소', '데이', '업', '스포츠', 'THE', '서울', 'INFLUENCER', '최초', '가운', '글로벌', 'VERSACE', '어깨', '메탈', '글', '집', '오브', 'HAUTE', '콜', '경험', '특유', '러', '빛', '스카프', '미디어', '드라마', '모던', '고객', '잡', '맞추', '렉', '눈길', '파티', 'BOUTIQUE', '덕분', '제공', '디지털', '자체', '원피스', '이전', '향하', '맥', '브릭', '쉽', '고민', '주인공', '펜', '깊', '부드럽', '기대', '빅', '딕트', '아프리카', '관객', '쉬', 'A', '시도', '변신', '기념', 'HADID', '떠오르', '덜', '팬', '캐주얼', '간', 'BELLA', '가치', '멋지', '삶', '편안', '소비자', '과정', '엠', '퀸', 'ALEXANDER', '들어가', '심플', '느껴지', '달리', '화려', '작가']\n"
     ]
    }
   ],
   "source": [
    "t500 = []\n",
    "for i in range(500):\n",
    "    t500.append(top500.loc[i, 'word'])\n",
    "    \n",
    "print(len(t500))\n",
    "print(t500)"
   ]
  },
  {
   "cell_type": "markdown",
   "metadata": {},
   "source": [
    "### top50만 남기기"
   ]
  },
  {
   "cell_type": "code",
   "execution_count": 36,
   "metadata": {},
   "outputs": [
    {
     "data": {
      "text/plain": [
       "1759"
      ]
     },
     "execution_count": 36,
     "metadata": {},
     "output_type": "execute_result"
    }
   ],
   "source": [
    "len(mag_d)"
   ]
  },
  {
   "cell_type": "code",
   "execution_count": 37,
   "metadata": {},
   "outputs": [],
   "source": [
    "top50_word = []\n",
    "for i in range(len(mag_d)):\n",
    "    w=[]\n",
    "    for word in mag_d.loc[i, 'ADFN']:\n",
    "        if word in top50:\n",
    "            w.append(word)\n",
    "    top50_word.append(w)"
   ]
  },
  {
   "cell_type": "code",
   "execution_count": 38,
   "metadata": {},
   "outputs": [],
   "source": [
    "top100_word = []\n",
    "for i in range(len(mag_d)):\n",
    "    w=[]\n",
    "    for word in mag_d.loc[i, 'ADFN']:\n",
    "        if word in top100:\n",
    "            w.append(word)\n",
    "    top100_word.append(w)"
   ]
  },
  {
   "cell_type": "code",
   "execution_count": 39,
   "metadata": {},
   "outputs": [],
   "source": [
    "top500_word = []\n",
    "for i in range(len(mag_d)):\n",
    "    w=[]\n",
    "    for word in mag_d.loc[i, 'ADFN']:\n",
    "        if word in t500:\n",
    "            w.append(word)\n",
    "    top500_word.append(w)"
   ]
  },
  {
   "cell_type": "code",
   "execution_count": 40,
   "metadata": {},
   "outputs": [
    {
     "data": {
      "text/html": [
       "<div>\n",
       "<style scoped>\n",
       "    .dataframe tbody tr th:only-of-type {\n",
       "        vertical-align: middle;\n",
       "    }\n",
       "\n",
       "    .dataframe tbody tr th {\n",
       "        vertical-align: top;\n",
       "    }\n",
       "\n",
       "    .dataframe thead th {\n",
       "        text-align: right;\n",
       "    }\n",
       "</style>\n",
       "<table border=\"1\" class=\"dataframe\">\n",
       "  <thead>\n",
       "    <tr style=\"text-align: right;\">\n",
       "      <th></th>\n",
       "      <th>word</th>\n",
       "      <th>count</th>\n",
       "    </tr>\n",
       "  </thead>\n",
       "  <tbody>\n",
       "    <tr>\n",
       "      <th>0</th>\n",
       "      <td>DIOR</td>\n",
       "      <td>4896</td>\n",
       "    </tr>\n",
       "    <tr>\n",
       "      <th>1</th>\n",
       "      <td>컬렉션</td>\n",
       "      <td>1265</td>\n",
       "    </tr>\n",
       "    <tr>\n",
       "      <th>2</th>\n",
       "      <td>패션</td>\n",
       "      <td>1236</td>\n",
       "    </tr>\n",
       "    <tr>\n",
       "      <th>3</th>\n",
       "      <td>브랜드</td>\n",
       "      <td>753</td>\n",
       "    </tr>\n",
       "    <tr>\n",
       "      <th>4</th>\n",
       "      <td>드레스</td>\n",
       "      <td>728</td>\n",
       "    </tr>\n",
       "    <tr>\n",
       "      <th>...</th>\n",
       "      <td>...</td>\n",
       "      <td>...</td>\n",
       "    </tr>\n",
       "    <tr>\n",
       "      <th>495</th>\n",
       "      <td>심플</td>\n",
       "      <td>56</td>\n",
       "    </tr>\n",
       "    <tr>\n",
       "      <th>496</th>\n",
       "      <td>느껴지</td>\n",
       "      <td>56</td>\n",
       "    </tr>\n",
       "    <tr>\n",
       "      <th>497</th>\n",
       "      <td>달리</td>\n",
       "      <td>56</td>\n",
       "    </tr>\n",
       "    <tr>\n",
       "      <th>498</th>\n",
       "      <td>화려</td>\n",
       "      <td>56</td>\n",
       "    </tr>\n",
       "    <tr>\n",
       "      <th>499</th>\n",
       "      <td>작가</td>\n",
       "      <td>56</td>\n",
       "    </tr>\n",
       "  </tbody>\n",
       "</table>\n",
       "<p>500 rows × 2 columns</p>\n",
       "</div>"
      ],
      "text/plain": [
       "     word  count\n",
       "0    DIOR   4896\n",
       "1     컬렉션   1265\n",
       "2      패션   1236\n",
       "3     브랜드    753\n",
       "4     드레스    728\n",
       "..    ...    ...\n",
       "495    심플     56\n",
       "496   느껴지     56\n",
       "497    달리     56\n",
       "498    화려     56\n",
       "499    작가     56\n",
       "\n",
       "[500 rows x 2 columns]"
      ]
     },
     "execution_count": 40,
     "metadata": {},
     "output_type": "execute_result"
    }
   ],
   "source": [
    "top500"
   ]
  },
  {
   "cell_type": "markdown",
   "metadata": {},
   "source": [
    "### item 남기기"
   ]
  },
  {
   "cell_type": "code",
   "execution_count": 41,
   "metadata": {},
   "outputs": [],
   "source": [
    "item = ['백', '드레스', '재킷', '주얼리', '옷', '슈즈', '스커트', '링', '팬츠', '가방', '슈트', '향수', '의상', '데님', '액세서리', '톱',\n",
    "'셔츠', '모자', '수트', '스니커즈', '니트', '시계', '워치', '핸드백', '벨트', '선글라스', '목걸이', '티셔츠', '쇼츠', '샌들',\n",
    " '귀고리', '워치', '코트', '부츠', '케이프']"
   ]
  },
  {
   "cell_type": "code",
   "execution_count": 42,
   "metadata": {},
   "outputs": [],
   "source": [
    "# item_word = []\n",
    "# for i in range(len(mag_ch)):\n",
    "#     w=[]\n",
    "#     for word in mag_ch.loc[i, 'ADFN']:\n",
    "#         if word in item:\n",
    "#             w.append(word)\n",
    "#     item_word.append(w)"
   ]
  },
  {
   "cell_type": "markdown",
   "metadata": {},
   "source": [
    "### top100이면서 item이 아닌 것"
   ]
  },
  {
   "cell_type": "code",
   "execution_count": 43,
   "metadata": {},
   "outputs": [],
   "source": [
    "# top100_not_item_word = []\n",
    "# for i in range(len(mag_ch)):\n",
    "#     w=[]\n",
    "#     for word in mag_ch.loc[i, 'ADFN']:\n",
    "#         if word in top100:\n",
    "#             if word not in item:\n",
    "#                 w.append(word)\n",
    "#     top100_not_item_word.append(w)"
   ]
  },
  {
   "cell_type": "code",
   "execution_count": 44,
   "metadata": {},
   "outputs": [],
   "source": [
    "# len(top100_not_item_word)"
   ]
  },
  {
   "cell_type": "code",
   "execution_count": 45,
   "metadata": {},
   "outputs": [],
   "source": [
    "# top100_not_item_word[1]"
   ]
  },
  {
   "cell_type": "markdown",
   "metadata": {},
   "source": [
    "### top100이면서 common이 아닌 것"
   ]
  },
  {
   "cell_type": "code",
   "execution_count": 46,
   "metadata": {},
   "outputs": [],
   "source": [
    "common = ['브랜드',\n",
    " '쇼',\n",
    " '모델',\n",
    " '장식',\n",
    " '드레스',\n",
    " '파리',\n",
    " '여성',\n",
    " '스타일',\n",
    " '컬러',\n",
    " '디자이너',\n",
    " '블랙',\n",
    " '재킷',\n",
    " '아이템',\n",
    " '옷',\n",
    " '디렉터',\n",
    " '팬츠']\n"
   ]
  },
  {
   "cell_type": "code",
   "execution_count": 47,
   "metadata": {},
   "outputs": [],
   "source": [
    "# top100_not_common_word = []\n",
    "# for i in range(len(mag_ch)):\n",
    "#     w=[]\n",
    "#     for word in mag_ch.loc[i, 'ADFN']:\n",
    "#         if word in top100:\n",
    "#             if word not in common:\n",
    "#                 w.append(word)\n",
    "#     top100_not_common_word.append(w)"
   ]
  },
  {
   "cell_type": "markdown",
   "metadata": {},
   "source": [
    "### top100이면서 common/item이 아닌 것"
   ]
  },
  {
   "cell_type": "code",
   "execution_count": 48,
   "metadata": {},
   "outputs": [],
   "source": [
    "# top100_not_common_item_word = []\n",
    "# for i in range(len(mag_ch)):\n",
    "#     w=[]\n",
    "#     for word in mag_ch.loc[i, 'ADFN']:\n",
    "#         if word in top100:\n",
    "#             if word not in common:\n",
    "#                 if word not in item:\n",
    "#                     w.append(word)\n",
    "#     top100_not_common_item_word.append(w)"
   ]
  },
  {
   "cell_type": "code",
   "execution_count": null,
   "metadata": {},
   "outputs": [],
   "source": []
  },
  {
   "cell_type": "code",
   "execution_count": null,
   "metadata": {},
   "outputs": [],
   "source": []
  },
  {
   "cell_type": "code",
   "execution_count": 49,
   "metadata": {
    "scrolled": true
   },
   "outputs": [
    {
     "data": {
      "text/plain": [
       "1759"
      ]
     },
     "execution_count": 49,
     "metadata": {},
     "output_type": "execute_result"
    }
   ],
   "source": [
    "len(top50_word)"
   ]
  },
  {
   "cell_type": "code",
   "execution_count": 50,
   "metadata": {},
   "outputs": [
    {
     "data": {
      "text/plain": [
       "[['패션',\n",
       "  '새롭',\n",
       "  '패션',\n",
       "  '옷',\n",
       "  '컬렉션',\n",
       "  '재킷',\n",
       "  '재킷',\n",
       "  '재킷',\n",
       "  '라인',\n",
       "  '팬츠',\n",
       "  '라인',\n",
       "  'DIOR',\n",
       "  '라인'],\n",
       " ['새롭',\n",
       "  '세계',\n",
       "  '세계',\n",
       "  'DIOR',\n",
       "  '패션',\n",
       "  '브랜드',\n",
       "  '브랜드',\n",
       "  '시즌',\n",
       "  '브랜드',\n",
       "  'DIOR',\n",
       "  '브랜드',\n",
       "  '패션',\n",
       "  '브랜드',\n",
       "  '럭셔리',\n",
       "  '브랜드',\n",
       "  '럭셔리',\n",
       "  '브랜드',\n",
       "  '브랜드'],\n",
       " ['DIOR', '패션', '하우스', '브랜드', 'DIOR', '작품', 'DIOR', '화이트', '컬러', 'DIOR'],\n",
       " ['DIOR', 'LADY', 'DIOR', 'DIOR'],\n",
       " ['블랙', '팬츠', 'HOMME', '블랙', 'DIOR', 'DIOR']]"
      ]
     },
     "execution_count": 50,
     "metadata": {},
     "output_type": "execute_result"
    }
   ],
   "source": [
    "top50_word[:5]"
   ]
  },
  {
   "cell_type": "markdown",
   "metadata": {},
   "source": [
    "### 텍스트 한줄씩 읽어와 dataset에 기록"
   ]
  },
  {
   "cell_type": "markdown",
   "metadata": {},
   "source": [
    "### 어프라이어리(Apriori) 알고리즘을 적용하여 연관규칙 분석 수행"
   ]
  },
  {
   "cell_type": "code",
   "execution_count": 51,
   "metadata": {},
   "outputs": [],
   "source": [
    "# 어프라이어리(Apriori)\n",
    "from apyori import apriori"
   ]
  },
  {
   "cell_type": "code",
   "execution_count": 52,
   "metadata": {},
   "outputs": [
    {
     "data": {
      "text/plain": [
       "['패션',\n",
       " '새롭',\n",
       " '패션',\n",
       " '옷',\n",
       " '컬렉션',\n",
       " '재킷',\n",
       " '재킷',\n",
       " '재킷',\n",
       " '라인',\n",
       " '팬츠',\n",
       " '라인',\n",
       " 'DIOR',\n",
       " '라인']"
      ]
     },
     "execution_count": 52,
     "metadata": {},
     "output_type": "execute_result"
    }
   ],
   "source": [
    "top50_word[0]"
   ]
  },
  {
   "cell_type": "code",
   "execution_count": 59,
   "metadata": {},
   "outputs": [
    {
     "data": {
      "text/html": [
       "<div>\n",
       "<style scoped>\n",
       "    .dataframe tbody tr th:only-of-type {\n",
       "        vertical-align: middle;\n",
       "    }\n",
       "\n",
       "    .dataframe tbody tr th {\n",
       "        vertical-align: top;\n",
       "    }\n",
       "\n",
       "    .dataframe thead th {\n",
       "        text-align: right;\n",
       "    }\n",
       "</style>\n",
       "<table border=\"1\" class=\"dataframe\">\n",
       "  <thead>\n",
       "    <tr style=\"text-align: right;\">\n",
       "      <th></th>\n",
       "      <th>items</th>\n",
       "      <th>support</th>\n",
       "      <th>ordered_statistics</th>\n",
       "      <th>length</th>\n",
       "    </tr>\n",
       "  </thead>\n",
       "  <tbody>\n",
       "    <tr>\n",
       "      <th>92</th>\n",
       "      <td>(DIOR, 컬렉션)</td>\n",
       "      <td>0.311541</td>\n",
       "      <td>[((), (DIOR, 컬렉션), 0.3115406480955088, 1.0), (...</td>\n",
       "      <td>2</td>\n",
       "    </tr>\n",
       "    <tr>\n",
       "      <th>96</th>\n",
       "      <td>(DIOR, 패션)</td>\n",
       "      <td>0.290506</td>\n",
       "      <td>[((), (DIOR, 패션), 0.2905059693007391, 1.0), ((...</td>\n",
       "      <td>2</td>\n",
       "    </tr>\n",
       "    <tr>\n",
       "      <th>68</th>\n",
       "      <td>(DIOR, 브랜드)</td>\n",
       "      <td>0.224559</td>\n",
       "      <td>[((), (DIOR, 브랜드), 0.2245594087549744, 1.0), (...</td>\n",
       "      <td>2</td>\n",
       "    </tr>\n",
       "    <tr>\n",
       "      <th>60</th>\n",
       "      <td>(DIOR, 드레스)</td>\n",
       "      <td>0.189881</td>\n",
       "      <td>[((), (DIOR, 드레스), 0.18988061398521888, 1.0), ...</td>\n",
       "      <td>2</td>\n",
       "    </tr>\n",
       "    <tr>\n",
       "      <th>65</th>\n",
       "      <td>(DIOR, 룩)</td>\n",
       "      <td>0.186470</td>\n",
       "      <td>[((), (DIOR, 룩), 0.18646958499147243, 1.0), ((...</td>\n",
       "      <td>2</td>\n",
       "    </tr>\n",
       "    <tr>\n",
       "      <th>94</th>\n",
       "      <td>(DIOR, 티)</td>\n",
       "      <td>0.181922</td>\n",
       "      <td>[((), (DIOR, 티), 0.18192154633314384, 1.0), ((...</td>\n",
       "      <td>2</td>\n",
       "    </tr>\n",
       "    <tr>\n",
       "      <th>77</th>\n",
       "      <td>(DIOR, 쇼)</td>\n",
       "      <td>0.175668</td>\n",
       "      <td>[((), (DIOR, 쇼), 0.17566799317794202, 1.0), ((...</td>\n",
       "      <td>2</td>\n",
       "    </tr>\n",
       "    <tr>\n",
       "      <th>62</th>\n",
       "      <td>(DIOR, 디자이너)</td>\n",
       "      <td>0.173962</td>\n",
       "      <td>[((), (DIOR, 디자이너), 0.1739624786810688, 1.0), ...</td>\n",
       "      <td>2</td>\n",
       "    </tr>\n",
       "    <tr>\n",
       "      <th>89</th>\n",
       "      <td>(장식, DIOR)</td>\n",
       "      <td>0.171120</td>\n",
       "      <td>[((), (장식, DIOR), 0.17111995451961343, 1.0), (...</td>\n",
       "      <td>2</td>\n",
       "    </tr>\n",
       "    <tr>\n",
       "      <th>61</th>\n",
       "      <td>(DIOR, 디렉터)</td>\n",
       "      <td>0.162024</td>\n",
       "      <td>[((), (DIOR, 디렉터), 0.16202387720295622, 1.0), ...</td>\n",
       "      <td>2</td>\n",
       "    </tr>\n",
       "  </tbody>\n",
       "</table>\n",
       "</div>"
      ],
      "text/plain": [
       "           items   support                                 ordered_statistics  \\\n",
       "92   (DIOR, 컬렉션)  0.311541  [((), (DIOR, 컬렉션), 0.3115406480955088, 1.0), (...   \n",
       "96    (DIOR, 패션)  0.290506  [((), (DIOR, 패션), 0.2905059693007391, 1.0), ((...   \n",
       "68   (DIOR, 브랜드)  0.224559  [((), (DIOR, 브랜드), 0.2245594087549744, 1.0), (...   \n",
       "60   (DIOR, 드레스)  0.189881  [((), (DIOR, 드레스), 0.18988061398521888, 1.0), ...   \n",
       "65     (DIOR, 룩)  0.186470  [((), (DIOR, 룩), 0.18646958499147243, 1.0), ((...   \n",
       "94     (DIOR, 티)  0.181922  [((), (DIOR, 티), 0.18192154633314384, 1.0), ((...   \n",
       "77     (DIOR, 쇼)  0.175668  [((), (DIOR, 쇼), 0.17566799317794202, 1.0), ((...   \n",
       "62  (DIOR, 디자이너)  0.173962  [((), (DIOR, 디자이너), 0.1739624786810688, 1.0), ...   \n",
       "89    (장식, DIOR)  0.171120  [((), (장식, DIOR), 0.17111995451961343, 1.0), (...   \n",
       "61   (DIOR, 디렉터)  0.162024  [((), (DIOR, 디렉터), 0.16202387720295622, 1.0), ...   \n",
       "\n",
       "    length  \n",
       "92       2  \n",
       "96       2  \n",
       "68       2  \n",
       "60       2  \n",
       "65       2  \n",
       "94       2  \n",
       "77       2  \n",
       "62       2  \n",
       "89       2  \n",
       "61       2  "
      ]
     },
     "execution_count": 59,
     "metadata": {},
     "output_type": "execute_result"
    }
   ],
   "source": [
    "# 지지도(support) : P(A∩B)\n",
    "result = list(apriori(top500_word, min_support = 0.07))\n",
    "df = pd.DataFrame(result)\n",
    "df['length'] = df['items'].apply(lambda x:len(x))\n",
    "df = df[(df['length'] == 2) \n",
    "        & (df['support'] >= 0.01)].sort_values(by='support', ascending = False)\n",
    "df.head(10)"
   ]
  },
  {
   "cell_type": "markdown",
   "metadata": {},
   "source": [
    "### networkx 그래프 정의"
   ]
  },
  {
   "cell_type": "code",
   "execution_count": 60,
   "metadata": {},
   "outputs": [],
   "source": [
    "G = nx.Graph()\n",
    "ar = (df['items']); G.add_edges_from(ar)"
   ]
  },
  {
   "cell_type": "code",
   "execution_count": 61,
   "metadata": {},
   "outputs": [],
   "source": [
    "# 페이지 랭크\n",
    "pr = nx.pagerank(G)\n",
    "nsize = np.array([v for v in pr.values()])\n",
    "nsize = 2000 * (nsize - min(nsize)) / (max(nsize) - min(nsize))"
   ]
  },
  {
   "cell_type": "code",
   "execution_count": 62,
   "metadata": {},
   "outputs": [],
   "source": [
    "pos = nx.spring_layout(G)"
   ]
  },
  {
   "cell_type": "code",
   "execution_count": 63,
   "metadata": {},
   "outputs": [
    {
     "data": {
      "image/png": "[encoded data removed]",
      "text/plain": [
       "<Figure size 1152x864 with 1 Axes>"
      ]
     },
     "metadata": {},
     "output_type": "display_data"
    }
   ],
   "source": [
    "plt.figure(figsize = (16, 12)) ; plt.axis('off')\n",
    "nx.draw_networkx(G, font_family = 'Malgun Gothic', font_size = 16,\n",
    "                pos = pos, node_color = list(pr.values()), node_size = nsize,\n",
    "                alpha=0.7, edge_color='.5', cmap = plt.cm.RdPu,\n",
    "                font_color = 'white', font_weight = 'bold')\n",
    "\n",
    "plt.savefig('./final_img/nt_dior_top500_min07-w.png', bbox_inches = 'tight', transparent = True)\n",
    "plt.show()\n"
   ]
  },
  {
   "cell_type": "code",
   "execution_count": 64,
   "metadata": {},
   "outputs": [
    {
     "data": {
      "text/plain": [
       "['첫', '처음', '공개', '작업', '이후', '펜디', '판매', '작품', '드', '예정', '시대']"
      ]
     },
     "execution_count": 64,
     "metadata": {},
     "output_type": "execute_result"
    }
   ],
   "source": [
    "['첫', '처음', '공개', '작업', '이후', '펜디', '판매', '작품', '드', '예정', '시대']"
   ]
  },
  {
   "cell_type": "code",
   "execution_count": null,
   "metadata": {},
   "outputs": [],
   "source": []
  },
  {
   "cell_type": "code",
   "execution_count": null,
   "metadata": {},
   "outputs": [],
   "source": []
  },
  {
   "cell_type": "code",
   "execution_count": null,
   "metadata": {},
   "outputs": [],
   "source": []
  },
  {
   "cell_type": "code",
   "execution_count": null,
   "metadata": {},
   "outputs": [],
   "source": []
  },
  {
   "cell_type": "code",
   "execution_count": null,
   "metadata": {},
   "outputs": [],
   "source": []
  },
  {
   "cell_type": "code",
   "execution_count": null,
   "metadata": {},
   "outputs": [],
   "source": []
  },
  {
   "cell_type": "code",
   "execution_count": null,
   "metadata": {},
   "outputs": [],
   "source": []
  },
  {
   "cell_type": "code",
   "execution_count": null,
   "metadata": {},
   "outputs": [],
   "source": []
  },
  {
   "cell_type": "code",
   "execution_count": null,
   "metadata": {},
   "outputs": [],
   "source": []
  },
  {
   "cell_type": "code",
   "execution_count": null,
   "metadata": {},
   "outputs": [],
   "source": []
  },
  {
   "cell_type": "code",
   "execution_count": null,
   "metadata": {},
   "outputs": [],
   "source": []
  },
  {
   "cell_type": "code",
   "execution_count": null,
   "metadata": {},
   "outputs": [],
   "source": []
  },
  {
   "cell_type": "code",
   "execution_count": null,
   "metadata": {},
   "outputs": [],
   "source": []
  },
  {
   "cell_type": "code",
   "execution_count": null,
   "metadata": {},
   "outputs": [],
   "source": []
  },
  {
   "cell_type": "code",
   "execution_count": null,
   "metadata": {},
   "outputs": [],
   "source": []
  },
  {
   "cell_type": "code",
   "execution_count": null,
   "metadata": {},
   "outputs": [],
   "source": []
  },
  {
   "cell_type": "code",
   "execution_count": null,
   "metadata": {},
   "outputs": [],
   "source": []
  },
  {
   "cell_type": "code",
   "execution_count": null,
   "metadata": {},
   "outputs": [],
   "source": []
  },
  {
   "cell_type": "code",
   "execution_count": null,
   "metadata": {},
   "outputs": [],
   "source": []
  },
  {
   "cell_type": "code",
   "execution_count": null,
   "metadata": {},
   "outputs": [],
   "source": []
  },
  {
   "cell_type": "code",
   "execution_count": null,
   "metadata": {},
   "outputs": [],
   "source": []
  },
  {
   "cell_type": "code",
   "execution_count": null,
   "metadata": {},
   "outputs": [],
   "source": []
  },
  {
   "cell_type": "code",
   "execution_count": null,
   "metadata": {},
   "outputs": [],
   "source": []
  },
  {
   "cell_type": "code",
   "execution_count": null,
   "metadata": {},
   "outputs": [],
   "source": []
  },
  {
   "cell_type": "code",
   "execution_count": null,
   "metadata": {},
   "outputs": [],
   "source": []
  }
 ],
 "metadata": {
  "kernelspec": {
   "display_name": "Python 3",
   "language": "python",
   "name": "python3"
  },
  "language_info": {
   "codemirror_mode": {
    "name": "ipython",
    "version": 3
   },
   "file_extension": ".py",
   "mimetype": "text/x-python",
   "name": "python",
   "nbconvert_exporter": "python",
   "pygments_lexer": "ipython3",
   "version": "3.7.6"
  }
 },
 "nbformat": 4,
 "nbformat_minor": 4
}
