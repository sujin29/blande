{
 "cells": [
  {
   "cell_type": "code",
   "execution_count": 1,
   "metadata": {},
   "outputs": [],
   "source": [
    "import pandas as pd\n",
    "import numpy as np\n",
    "import re\n",
    "import networkx as nx\n",
    "import matplotlib.pyplot as plt"
   ]
  },
  {
   "cell_type": "code",
   "execution_count": 2,
   "metadata": {},
   "outputs": [],
   "source": [
    "from collections import Counter"
   ]
  },
  {
   "cell_type": "markdown",
   "metadata": {},
   "source": [
    "## 셀린느"
   ]
  },
  {
   "cell_type": "code",
   "execution_count": 3,
   "metadata": {},
   "outputs": [],
   "source": [
    "mag_ce = pd.read_csv('./magazine/final/magazine_ce_stickword.csv', sep ='|', encoding = 'utf-8')"
   ]
  },
  {
   "cell_type": "code",
   "execution_count": 4,
   "metadata": {},
   "outputs": [
    {
     "data": {
      "text/html": [
       "<div>\n",
       "<style scoped>\n",
       "    .dataframe tbody tr th:only-of-type {\n",
       "        vertical-align: middle;\n",
       "    }\n",
       "\n",
       "    .dataframe tbody tr th {\n",
       "        vertical-align: top;\n",
       "    }\n",
       "\n",
       "    .dataframe thead th {\n",
       "        text-align: right;\n",
       "    }\n",
       "</style>\n",
       "<table border=\"1\" class=\"dataframe\">\n",
       "  <thead>\n",
       "    <tr style=\"text-align: right;\">\n",
       "      <th></th>\n",
       "      <th>magazine</th>\n",
       "      <th>brand</th>\n",
       "      <th>title</th>\n",
       "      <th>link</th>\n",
       "      <th>date</th>\n",
       "      <th>word_celine</th>\n",
       "      <th>ADFN</th>\n",
       "      <th>ADFN_2</th>\n",
       "    </tr>\n",
       "  </thead>\n",
       "  <tbody>\n",
       "    <tr>\n",
       "      <th>0</th>\n",
       "      <td>A</td>\n",
       "      <td>Ce</td>\n",
       "      <td>코트 체크</td>\n",
       "      <td>http://www.allurekorea.com/2020/11/10/%ec%bd%9...</td>\n",
       "      <td>2020-11-10</td>\n",
       "      <td>골드 잠금 장식으로 포인트를 준 케이프 체크 코트는 1백9만원, 산드로(SANDRO...</td>\n",
       "      <td>['골드', '장식', '포인트', '준', '케이프', '체크', '코트', '백...</td>\n",
       "      <td>['골드', '장식', '포인트', '준', '케이프', '체크', '코트', '백...</td>\n",
       "    </tr>\n",
       "    <tr>\n",
       "      <th>1</th>\n",
       "      <td>A</td>\n",
       "      <td>Ce</td>\n",
       "      <td>데님이여 영원하라</td>\n",
       "      <td>http://www.allurekorea.com/2020/11/06/%eb%8d%b...</td>\n",
       "      <td>2020-11-06</td>\n",
       "      <td>빈티지한 주름과 워싱이 특징인 데님 팬츠는 가격미정, CELINE(CELINE).</td>\n",
       "      <td>['빈티', '한', '주름', '워싱', '특징', '데님', '팬츠', 'CEL...</td>\n",
       "      <td>['빈티지', '한', '주름', '워싱', '특징', '데님', '팬츠', 'CE...</td>\n",
       "    </tr>\n",
       "    <tr>\n",
       "      <th>2</th>\n",
       "      <td>A</td>\n",
       "      <td>Ce</td>\n",
       "      <td>남자 백’까지 갖고 싶어</td>\n",
       "      <td>http://www.allurekorea.com/2020/11/04/%eb%82%a...</td>\n",
       "      <td>2020-11-04</td>\n",
       "      <td>1970년대 에스닉한 분위기가 물씬 풍기는 CELINE의 방패 모양 숄더백.</td>\n",
       "      <td>['대', '에스', '닉', '분위기', '물씬', 'CELINE', '방패', ...</td>\n",
       "      <td>['대', 에스닉, '분위기', '물씬', 'CELINE', '방패', '모양', ...</td>\n",
       "    </tr>\n",
       "    <tr>\n",
       "      <th>3</th>\n",
       "      <td>A</td>\n",
       "      <td>Ce</td>\n",
       "      <td>예림-예리</td>\n",
       "      <td>http://www.allurekorea.com/2020/11/03/%ec%98%8...</td>\n",
       "      <td>2020-11-03</td>\n",
       "      <td>재킷, 셔츠, 슈즈는 CELINE(CELINE), 블랙 스커트는 렉토, 이어링은 스...</td>\n",
       "      <td>['재킷', '셔츠', '슈즈', 'CELINE', 'CELINE', '블랙', '...</td>\n",
       "      <td>['재킷', '셔츠', '슈즈', 'CELINE', 'CELINE', '블랙', '...</td>\n",
       "    </tr>\n",
       "    <tr>\n",
       "      <th>4</th>\n",
       "      <td>A</td>\n",
       "      <td>Ce</td>\n",
       "      <td>GOOD TIME, 헨리</td>\n",
       "      <td>http://www.allurekorea.com/2020/10/26/good-tim...</td>\n",
       "      <td>2020-10-26</td>\n",
       "      <td>재킷, 셔츠, 네크리스는 모두 CELINE(CELINE), 팬츠는 다잉브리드, 슈즈...</td>\n",
       "      <td>['재킷', '셔츠', '크리스', 'CELINE', 'CELINE', '팬츠', ...</td>\n",
       "      <td>['재킷', '셔츠', '크리스', 'CELINE', 'CELINE', '팬츠', ...</td>\n",
       "    </tr>\n",
       "    <tr>\n",
       "      <th>...</th>\n",
       "      <td>...</td>\n",
       "      <td>...</td>\n",
       "      <td>...</td>\n",
       "      <td>...</td>\n",
       "      <td>...</td>\n",
       "      <td>...</td>\n",
       "      <td>...</td>\n",
       "      <td>...</td>\n",
       "    </tr>\n",
       "    <tr>\n",
       "      <th>759</th>\n",
       "      <td>W</td>\n",
       "      <td>Ce</td>\n",
       "      <td>G의 역습</td>\n",
       "      <td>http://www.wkorea.com/2016/11/15/g%ec%9d%98-%e...</td>\n",
       "      <td>2016-11-15</td>\n",
       "      <td>마야 셀리아 샐리(MAYA CELIA SALLY)N2017 S/S CELINE의 쇼...</td>\n",
       "      <td>['마야', '셀', '리아', 'Maya', 'Celia', 'Sally', 'S...</td>\n",
       "      <td>['마야', '셀', '리아', 'Maya', 'Celia', 'Sally', SS...</td>\n",
       "    </tr>\n",
       "    <tr>\n",
       "      <th>760</th>\n",
       "      <td>W</td>\n",
       "      <td>Ce</td>\n",
       "      <td>잊지 마 2</td>\n",
       "      <td>http://www.wkorea.com/2016/09/28/%ec%9e%8a%ec%...</td>\n",
       "      <td>2016-09-28</td>\n",
       "      <td>코리아 파워, 록(ROKH)N지난해 S/S에 파리에서 데뷔한 32세 한국 디자이너 ...</td>\n",
       "      <td>['코리아', '파워', '록', 'Rokh', '지난해', 'S', 'S', '파...</td>\n",
       "      <td>['코리아', '파워', '록', 'Rokh', '지난해', SS, '파리', '데...</td>\n",
       "    </tr>\n",
       "    <tr>\n",
       "      <th>761</th>\n",
       "      <td>W</td>\n",
       "      <td>Ce</td>\n",
       "      <td>사고 말겠어!</td>\n",
       "      <td>http://www.wkorea.com/2016/09/21/%ec%82%ac%ea%...</td>\n",
       "      <td>2016-09-21</td>\n",
       "      <td>패션 에디터 김신N가을이 다가오니 괜스레 감상적이 된다. 정제된 보헤미안 감성과 함...</td>\n",
       "      <td>['패션', '에디터', '김신', '가을', '괜스레', '감상', '정제', '...</td>\n",
       "      <td>['패션', '에디터', '김신', '가을', '괜스레', '감상', '정제', '...</td>\n",
       "    </tr>\n",
       "    <tr>\n",
       "      <th>762</th>\n",
       "      <td>W</td>\n",
       "      <td>Ce</td>\n",
       "      <td>남다르게</td>\n",
       "      <td>http://www.wkorea.com/2016/09/08/%eb%82%a8%eb%...</td>\n",
       "      <td>2016-09-08</td>\n",
       "      <td>허리에 가방N주머니인 듯 아닌 듯, 벨트인 듯 아닌 듯 허리 가방’에 새로운 생명을...</td>\n",
       "      <td>['허리', '가방', '주머니', '듯', '아닌', '듯', '벨트', '듯',...</td>\n",
       "      <td>['허리', '가방', '주머니', '듯', '아닌', '듯', '벨트', '듯',...</td>\n",
       "    </tr>\n",
       "    <tr>\n",
       "      <th>763</th>\n",
       "      <td>W</td>\n",
       "      <td>Ce</td>\n",
       "      <td>너도 나도 베트멍</td>\n",
       "      <td>http://www.wkorea.com/2016/09/01/%eb%84%88%eb%...</td>\n",
       "      <td>2016-09-01</td>\n",
       "      <td>CELINE 디옹N나이 만48세N직업 세계적인 디바N평소 스타일 얼마 전까진 클래식...</td>\n",
       "      <td>['CELINE', '디옹', '나이', '만', '세', '직업', '세계', '...</td>\n",
       "      <td>['CELINE', '디옹', '나이', '만', '세', '직업', '세계', '...</td>\n",
       "    </tr>\n",
       "  </tbody>\n",
       "</table>\n",
       "<p>764 rows × 8 columns</p>\n",
       "</div>"
      ],
      "text/plain": [
       "    magazine brand          title  \\\n",
       "0          A    Ce          코트 체크   \n",
       "1          A    Ce      데님이여 영원하라   \n",
       "2          A    Ce  남자 백’까지 갖고 싶어   \n",
       "3          A    Ce          예림-예리   \n",
       "4          A    Ce  GOOD TIME, 헨리   \n",
       "..       ...   ...            ...   \n",
       "759        W    Ce          G의 역습   \n",
       "760        W    Ce         잊지 마 2   \n",
       "761        W    Ce        사고 말겠어!   \n",
       "762        W    Ce           남다르게   \n",
       "763        W    Ce      너도 나도 베트멍   \n",
       "\n",
       "                                                  link        date  \\\n",
       "0    http://www.allurekorea.com/2020/11/10/%ec%bd%9...  2020-11-10   \n",
       "1    http://www.allurekorea.com/2020/11/06/%eb%8d%b...  2020-11-06   \n",
       "2    http://www.allurekorea.com/2020/11/04/%eb%82%a...  2020-11-04   \n",
       "3    http://www.allurekorea.com/2020/11/03/%ec%98%8...  2020-11-03   \n",
       "4    http://www.allurekorea.com/2020/10/26/good-tim...  2020-10-26   \n",
       "..                                                 ...         ...   \n",
       "759  http://www.wkorea.com/2016/11/15/g%ec%9d%98-%e...  2016-11-15   \n",
       "760  http://www.wkorea.com/2016/09/28/%ec%9e%8a%ec%...  2016-09-28   \n",
       "761  http://www.wkorea.com/2016/09/21/%ec%82%ac%ea%...  2016-09-21   \n",
       "762  http://www.wkorea.com/2016/09/08/%eb%82%a8%eb%...  2016-09-08   \n",
       "763  http://www.wkorea.com/2016/09/01/%eb%84%88%eb%...  2016-09-01   \n",
       "\n",
       "                                           word_celine  \\\n",
       "0    골드 잠금 장식으로 포인트를 준 케이프 체크 코트는 1백9만원, 산드로(SANDRO...   \n",
       "1        빈티지한 주름과 워싱이 특징인 데님 팬츠는 가격미정, CELINE(CELINE).   \n",
       "2           1970년대 에스닉한 분위기가 물씬 풍기는 CELINE의 방패 모양 숄더백.   \n",
       "3    재킷, 셔츠, 슈즈는 CELINE(CELINE), 블랙 스커트는 렉토, 이어링은 스...   \n",
       "4    재킷, 셔츠, 네크리스는 모두 CELINE(CELINE), 팬츠는 다잉브리드, 슈즈...   \n",
       "..                                                 ...   \n",
       "759  마야 셀리아 샐리(MAYA CELIA SALLY)N2017 S/S CELINE의 쇼...   \n",
       "760  코리아 파워, 록(ROKH)N지난해 S/S에 파리에서 데뷔한 32세 한국 디자이너 ...   \n",
       "761  패션 에디터 김신N가을이 다가오니 괜스레 감상적이 된다. 정제된 보헤미안 감성과 함...   \n",
       "762  허리에 가방N주머니인 듯 아닌 듯, 벨트인 듯 아닌 듯 허리 가방’에 새로운 생명을...   \n",
       "763  CELINE 디옹N나이 만48세N직업 세계적인 디바N평소 스타일 얼마 전까진 클래식...   \n",
       "\n",
       "                                                  ADFN  \\\n",
       "0    ['골드', '장식', '포인트', '준', '케이프', '체크', '코트', '백...   \n",
       "1    ['빈티', '한', '주름', '워싱', '특징', '데님', '팬츠', 'CEL...   \n",
       "2    ['대', '에스', '닉', '분위기', '물씬', 'CELINE', '방패', ...   \n",
       "3    ['재킷', '셔츠', '슈즈', 'CELINE', 'CELINE', '블랙', '...   \n",
       "4    ['재킷', '셔츠', '크리스', 'CELINE', 'CELINE', '팬츠', ...   \n",
       "..                                                 ...   \n",
       "759  ['마야', '셀', '리아', 'Maya', 'Celia', 'Sally', 'S...   \n",
       "760  ['코리아', '파워', '록', 'Rokh', '지난해', 'S', 'S', '파...   \n",
       "761  ['패션', '에디터', '김신', '가을', '괜스레', '감상', '정제', '...   \n",
       "762  ['허리', '가방', '주머니', '듯', '아닌', '듯', '벨트', '듯',...   \n",
       "763  ['CELINE', '디옹', '나이', '만', '세', '직업', '세계', '...   \n",
       "\n",
       "                                                ADFN_2  \n",
       "0    ['골드', '장식', '포인트', '준', '케이프', '체크', '코트', '백...  \n",
       "1    ['빈티지', '한', '주름', '워싱', '특징', '데님', '팬츠', 'CE...  \n",
       "2    ['대', 에스닉, '분위기', '물씬', 'CELINE', '방패', '모양', ...  \n",
       "3    ['재킷', '셔츠', '슈즈', 'CELINE', 'CELINE', '블랙', '...  \n",
       "4    ['재킷', '셔츠', '크리스', 'CELINE', 'CELINE', '팬츠', ...  \n",
       "..                                                 ...  \n",
       "759  ['마야', '셀', '리아', 'Maya', 'Celia', 'Sally', SS...  \n",
       "760  ['코리아', '파워', '록', 'Rokh', '지난해', SS, '파리', '데...  \n",
       "761  ['패션', '에디터', '김신', '가을', '괜스레', '감상', '정제', '...  \n",
       "762  ['허리', '가방', '주머니', '듯', '아닌', '듯', '벨트', '듯',...  \n",
       "763  ['CELINE', '디옹', '나이', '만', '세', '직업', '세계', '...  \n",
       "\n",
       "[764 rows x 8 columns]"
      ]
     },
     "execution_count": 4,
     "metadata": {},
     "output_type": "execute_result"
    }
   ],
   "source": [
    "mag_ce"
   ]
  },
  {
   "cell_type": "code",
   "execution_count": 5,
   "metadata": {},
   "outputs": [],
   "source": [
    "mag_ce['word'] = mag_ce['word_celine']"
   ]
  },
  {
   "cell_type": "code",
   "execution_count": 6,
   "metadata": {},
   "outputs": [],
   "source": [
    "mag_CE = mag_ce[['magazine', 'brand', 'title', 'word', 'ADFN', 'ADFN_2']]"
   ]
  },
  {
   "cell_type": "code",
   "execution_count": 7,
   "metadata": {},
   "outputs": [
    {
     "data": {
      "text/plain": [
       "764"
      ]
     },
     "execution_count": 7,
     "metadata": {},
     "output_type": "execute_result"
    }
   ],
   "source": [
    "len(mag_CE)"
   ]
  },
  {
   "cell_type": "code",
   "execution_count": null,
   "metadata": {},
   "outputs": [],
   "source": []
  },
  {
   "cell_type": "code",
   "execution_count": 8,
   "metadata": {},
   "outputs": [],
   "source": [
    "idx4 = []\n",
    "for i in range(len(mag_CE)):\n",
    "    if i % 4 == 0 :\n",
    "        idx4.append(i)"
   ]
  },
  {
   "cell_type": "code",
   "execution_count": 9,
   "metadata": {},
   "outputs": [],
   "source": [
    "mag_CE4 = mag_CE.loc[idx4]"
   ]
  },
  {
   "cell_type": "code",
   "execution_count": 10,
   "metadata": {},
   "outputs": [],
   "source": [
    "mag_CE4.reset_index(drop = True, inplace = True)"
   ]
  },
  {
   "cell_type": "code",
   "execution_count": 11,
   "metadata": {},
   "outputs": [
    {
     "data": {
      "text/plain": [
       "191"
      ]
     },
     "execution_count": 11,
     "metadata": {},
     "output_type": "execute_result"
    }
   ],
   "source": [
    "len(mag_CE4)"
   ]
  },
  {
   "cell_type": "markdown",
   "metadata": {},
   "source": [
    "## 제니"
   ]
  },
  {
   "cell_type": "markdown",
   "metadata": {},
   "source": [
    "### 제니 (유튜브 + 매거진)"
   ]
  },
  {
   "cell_type": "code",
   "execution_count": 12,
   "metadata": {},
   "outputs": [],
   "source": [
    "tot_jI = pd.read_csv('./magazine/final/video_jisu_adfn_2.csv', encoding = 'utf-8', sep = '|')"
   ]
  },
  {
   "cell_type": "code",
   "execution_count": 13,
   "metadata": {},
   "outputs": [],
   "source": [
    "tot_jI['word'] = tot_jI['word_jisu']"
   ]
  },
  {
   "cell_type": "code",
   "execution_count": 14,
   "metadata": {},
   "outputs": [],
   "source": [
    "tot_JI = tot_jI[['magazine', 'brand', 'title', 'word', 'ADFN', 'ADFN_2']]"
   ]
  },
  {
   "cell_type": "code",
   "execution_count": 15,
   "metadata": {},
   "outputs": [
    {
     "data": {
      "text/plain": [
       "158"
      ]
     },
     "execution_count": 15,
     "metadata": {},
     "output_type": "execute_result"
    }
   ],
   "source": [
    "len(tot_JI)"
   ]
  },
  {
   "cell_type": "markdown",
   "metadata": {},
   "source": [
    "### 셀린느 + 제니"
   ]
  },
  {
   "cell_type": "code",
   "execution_count": 16,
   "metadata": {},
   "outputs": [],
   "source": [
    "CE4JI = pd.concat([mag_CE4, tot_JI])"
   ]
  },
  {
   "cell_type": "code",
   "execution_count": 17,
   "metadata": {},
   "outputs": [],
   "source": [
    "CE4JI.reset_index(drop = True, inplace = True)"
   ]
  },
  {
   "cell_type": "code",
   "execution_count": 18,
   "metadata": {},
   "outputs": [],
   "source": [
    "CE4JI.to_csv('./magazine/final/CE4JI.csv', sep = '|', encoding = 'utf-8', index = False)"
   ]
  },
  {
   "cell_type": "code",
   "execution_count": 19,
   "metadata": {},
   "outputs": [
    {
     "data": {
      "text/plain": [
       "349"
      ]
     },
     "execution_count": 19,
     "metadata": {},
     "output_type": "execute_result"
    }
   ],
   "source": [
    "len(CE4JI)"
   ]
  },
  {
   "cell_type": "markdown",
   "metadata": {},
   "source": [
    "## stopword 추가"
   ]
  },
  {
   "cell_type": "code",
   "execution_count": 20,
   "metadata": {},
   "outputs": [],
   "source": [
    "sw_df = pd.read_csv('stopwords.csv', header=None)"
   ]
  },
  {
   "cell_type": "code",
   "execution_count": 21,
   "metadata": {},
   "outputs": [],
   "source": [
    "sw_df.columns = ['stopword']"
   ]
  },
  {
   "cell_type": "code",
   "execution_count": 22,
   "metadata": {},
   "outputs": [],
   "source": [
    "stop_words = []\n",
    "for sw in sw_df['stopword']:\n",
    "    stop_words.append(sw)"
   ]
  },
  {
   "cell_type": "code",
   "execution_count": 23,
   "metadata": {},
   "outputs": [
    {
     "name": "stdout",
     "output_type": "stream",
     "text": [
      "675\n",
      "<class 'list'>\n"
     ]
    }
   ],
   "source": [
    "print(len(stop_words))\n",
    "print(type(stop_words))"
   ]
  },
  {
   "cell_type": "code",
   "execution_count": 24,
   "metadata": {},
   "outputs": [
    {
     "data": {
      "text/plain": [
       "['둘', '셋', '넷', '다섯', '여섯', '일곱', '여덟', '아홉', '령', '영']"
      ]
     },
     "execution_count": 24,
     "metadata": {},
     "output_type": "execute_result"
    }
   ],
   "source": [
    "stop_words[-10:]"
   ]
  },
  {
   "cell_type": "code",
   "execution_count": 25,
   "metadata": {},
   "outputs": [],
   "source": [
    "add_0 = ['진짜', '존나', '보고', '그냥', '카이', '이광수', '광수', '런닝맨', '❤️', '없는', '유재석', '❤', '♥', '있고', '거', \n",
    "         '내', '더', '개', '사람', '영상', '광고', '언니', '말', '뭐', '수', '생각',\n",
    "        '있는', '정말', '같은', '같음', '듯', '♡', '완전', '같아', '정도', '지금', '역시', '뭔가', '입니다', '때문', '아니라',\n",
    "         '함', '같은데', '해', '하는', '할', '넘', '한', '안', '했다', '보면', '데', '하고', '하면', '게', '해서', '봐도', \n",
    "         '한다', '된', '건', '요', '움', '임', '애', '하는거', '해도', '보는', '이제', '했는데', '하는데', '하는게', '같아요', \n",
    "         '합니다', '하지', '하게', '되는', 'I', '는', '난', '서', '도', '줄', '위', '분', '알', '은', '두', '번', '뒤',\n",
    "         '이건', '없다', '있어요', '아니고', '있어',\n",
    "        '계속', '원래', '뭘', '못', '후', '이름', '속', '욕', '옆', '하네', '아님', '그런', '된다', '있음',\n",
    "        '같', '돼', 'you', '제품', '표현', 'n', '봤는데', '건가', '나오는', '가지', '저런', '보이', '고',\n",
    "        '중', '사진', '댓글', '부분', '진심', '그녀', '보', '날', '겁나', '요즘', '앞', '워', '이유', '솔직히', '하며', '통해',\n",
    "        '모든', '항상', '전', '기자', '다시', '오늘', '↑', '이자', '대해', '걸', '처음', '머리', '헤어', '고민', '뿐']\n",
    "for w in add_0:\n",
    "    stop_words.append(w)"
   ]
  },
  {
   "cell_type": "code",
   "execution_count": 26,
   "metadata": {},
   "outputs": [],
   "source": [
    "add_1 = ['BLACKPINK', '리사', '제니', '로제']\n",
    "for w in add_1:\n",
    "    stop_words.append(w)"
   ]
  },
  {
   "cell_type": "code",
   "execution_count": 27,
   "metadata": {},
   "outputs": [
    {
     "data": {
      "text/plain": [
       "831"
      ]
     },
     "execution_count": 27,
     "metadata": {},
     "output_type": "execute_result"
    }
   ],
   "source": [
    "len(stop_words)"
   ]
  },
  {
   "cell_type": "code",
   "execution_count": null,
   "metadata": {},
   "outputs": [],
   "source": []
  },
  {
   "cell_type": "code",
   "execution_count": 28,
   "metadata": {},
   "outputs": [],
   "source": [
    "CE4JI['ADFN_2'] = CE4JI['ADFN_2'].str.replace('[', '').str.replace(']', '').str.replace('\"', '').str.replace(\"'\", \"\").str.split(', ')"
   ]
  },
  {
   "cell_type": "code",
   "execution_count": 29,
   "metadata": {},
   "outputs": [],
   "source": [
    "noun_adj_list = []\n",
    "for i in range(len(CE4JI)):\n",
    "    for word in CE4JI.loc[i, 'ADFN_2']:\n",
    "        if word not in stop_words:\n",
    "            noun_adj_list.append(word)"
   ]
  },
  {
   "cell_type": "code",
   "execution_count": 30,
   "metadata": {},
   "outputs": [
    {
     "name": "stdout",
     "output_type": "stream",
     "text": [
      "[('지수', 4233), ('예쁘다', 1889), ('귀엽다', 740), ('얼굴', 523), ('CELINE', 462), ('사랑', 453), ('노래', 390), ('DIOR', 305), ('매력', 289), ('목소리', 239), ('음악', 239), ('패션', 216), ('브랜드', 208), ('스타일', 207), ('춤', 165), ('컬렉션', 163), ('아이돌', 162), ('실력', 149), ('SLIMANE', 148), ('HEDI', 147), ('최고', 143), ('라이브', 131), ('성격', 126), ('디자이너', 125), ('음색', 124), ('드레스', 114), ('여자', 114), ('메이크업', 114), ('사랑스럽다', 113), ('팬츠', 110), ('블랙', 110), ('여신', 108), ('새로운', 107), ('디자인', 106), ('여성', 106), ('분위기', 102), ('배우', 101), ('외모', 101), ('컬러', 97), ('시즌', 96), ('비주얼', 96), ('세계', 93), ('지난', 92), ('재킷', 91), ('남성', 90), ('매치', 90), ('룩', 89), ('이미지', 87), ('아름다운', 87), ('쇼', 86), ('영국', 86), ('모델', 83), ('완성', 82), ('백', 81), ('핑크', 81), ('무대', 81), ('아이템', 75), ('옷', 73), ('라인', 72), ('PHOEBE', 71), ('PHILO', 71), ('디렉터', 71), ('팬', 71), ('장식', 70), ('셔츠', 70), ('LAURENT', 69), ('가장', 69), ('솔로', 68), ('SAINT', 66), ('레전드', 66), ('느낌', 65), ('스타', 65), ('CHANEL', 64), ('화이트', 64), ('걸그룹', 64), ('노력', 63), ('데님', 62), ('톱', 62), ('스커트', 62), ('복', 62), ('레드', 61), ('코트', 59), ('하우스', 57), ('자연', 57), ('친구', 57), ('크리에이티브', 56), ('가수', 56), ('입덕', 56), ('시대', 55), ('마음', 55), ('반전', 55), ('드라마', 55), ('다양한', 54), ('파리', 54), ('카디건', 53), ('보컬', 53), ('여름', 52), ('인기', 51), ('부츠', 50), ('웃음', 50), ('클래식', 49), ('볼', 49), ('빛', 49), ('BLINK', 49), ('대한', 48), ('변화', 48), ('버버리', 48), ('뷰티', 48), ('천재', 48), ('연예인', 48), ('벨트', 47), ('매장', 47), ('인형', 47), ('니트', 46), ('시크', 46), ('찰떡', 46), ('런웨이', 45), ('화보', 44), ('연기', 44), ('대', 43), ('취향', 43), ('천사', 43), ('티셔츠', 42), ('가을', 42), ('아티스트', 42), ('인스타그램', 41), ('도전', 41), ('립', 41), ('세대', 41), ('소녀', 41), ('입술', 41), ('멋있다', 41), ('벨벳', 40), ('실루엣', 40), ('첫', 40), ('미소', 40), ('겨울', 39), ('리스트', 39), ('피부', 39), ('코디', 39), ('로고', 38), ('이야기', 38), ('액세서리', 38), ('프로', 38), ('앨범', 38), ('말투', 38), ('활동', 37), ('게임', 37), ('최근', 37), ('리', 37), ('현재', 37), ('실물', 37), ('시작', 36), ('반응', 36), ('재', 36), ('관심', 36), ('한국', 36), ('스카프', 35), ('어깨', 35), ('시절', 35), ('엄마', 35), ('해외', 35), ('선글라스', 34), ('인터뷰', 34), ('에디', 34), ('힘', 34), ('가죽', 34), ('경험', 34), ('럭셔리', 34), ('세', 34), ('미국', 34), ('고급', 34), ('by', 33), ('기도', 33), ('영감', 33), ('수트', 33), ('영화', 33), ('파워', 33), ('봄', 33), ('작업', 33), ('비즈', 33), ('패션쇼', 33), ('볼살', 33), ('골드', 32), ('포인트', 32), ('있을', 32), ('변신', 32), ('발표', 32), ('트렌드', 32), ('공주', 32), ('작은', 32), ('주인공', 32), ('리본', 31), ('구찌', 31), ('꽃', 31), ('꿈', 31), ('스', 31), ('주얼리', 31), ('담당', 31), ('점', 31)]\n"
     ]
    }
   ],
   "source": [
    "word = Counter(noun_adj_list)\n",
    "print(word.most_common(200))"
   ]
  },
  {
   "cell_type": "code",
   "execution_count": 31,
   "metadata": {},
   "outputs": [],
   "source": [
    "count = Counter(noun_adj_list)"
   ]
  },
  {
   "cell_type": "code",
   "execution_count": 32,
   "metadata": {},
   "outputs": [
    {
     "name": "stdout",
     "output_type": "stream",
     "text": [
      "('지수', 4233)\n",
      "('예쁘다', 1889)\n",
      "('귀엽다', 740)\n",
      "('얼굴', 523)\n",
      "('CELINE', 462)\n",
      "('사랑', 453)\n",
      "('노래', 390)\n",
      "('DIOR', 305)\n",
      "('매력', 289)\n",
      "('목소리', 239)\n",
      "('음악', 239)\n",
      "('패션', 216)\n",
      "('브랜드', 208)\n",
      "('스타일', 207)\n",
      "('춤', 165)\n",
      "('컬렉션', 163)\n",
      "('아이돌', 162)\n",
      "('실력', 149)\n",
      "('SLIMANE', 148)\n",
      "('HEDI', 147)\n",
      "('최고', 143)\n",
      "('라이브', 131)\n",
      "('성격', 126)\n",
      "('디자이너', 125)\n",
      "('음색', 124)\n",
      "('드레스', 114)\n",
      "('여자', 114)\n",
      "('메이크업', 114)\n",
      "('사랑스럽다', 113)\n",
      "('팬츠', 110)\n",
      "('블랙', 110)\n",
      "('여신', 108)\n",
      "('새로운', 107)\n",
      "('디자인', 106)\n",
      "('여성', 106)\n",
      "('분위기', 102)\n",
      "('배우', 101)\n",
      "('외모', 101)\n",
      "('컬러', 97)\n",
      "('시즌', 96)\n",
      "('비주얼', 96)\n",
      "('세계', 93)\n",
      "('지난', 92)\n",
      "('재킷', 91)\n",
      "('남성', 90)\n",
      "('매치', 90)\n",
      "('룩', 89)\n",
      "('이미지', 87)\n",
      "('아름다운', 87)\n",
      "('쇼', 86)\n",
      "('영국', 86)\n",
      "('모델', 83)\n",
      "('완성', 82)\n",
      "('백', 81)\n",
      "('핑크', 81)\n",
      "('무대', 81)\n",
      "('아이템', 75)\n",
      "('옷', 73)\n",
      "('라인', 72)\n",
      "('PHOEBE', 71)\n",
      "('PHILO', 71)\n",
      "('디렉터', 71)\n",
      "('팬', 71)\n",
      "('장식', 70)\n",
      "('셔츠', 70)\n",
      "('LAURENT', 69)\n",
      "('가장', 69)\n",
      "('솔로', 68)\n",
      "('SAINT', 66)\n",
      "('레전드', 66)\n",
      "('느낌', 65)\n",
      "('스타', 65)\n",
      "('CHANEL', 64)\n",
      "('화이트', 64)\n",
      "('걸그룹', 64)\n",
      "('노력', 63)\n",
      "('데님', 62)\n",
      "('톱', 62)\n",
      "('스커트', 62)\n",
      "('복', 62)\n",
      "('레드', 61)\n",
      "('코트', 59)\n",
      "('하우스', 57)\n",
      "('자연', 57)\n",
      "('친구', 57)\n",
      "('크리에이티브', 56)\n",
      "('가수', 56)\n",
      "('입덕', 56)\n",
      "('시대', 55)\n",
      "('마음', 55)\n",
      "('반전', 55)\n",
      "('드라마', 55)\n",
      "('다양한', 54)\n",
      "('파리', 54)\n",
      "('카디건', 53)\n",
      "('보컬', 53)\n",
      "('여름', 52)\n",
      "('인기', 51)\n",
      "('부츠', 50)\n",
      "('웃음', 50)\n",
      "('클래식', 49)\n",
      "('볼', 49)\n",
      "('빛', 49)\n",
      "('BLINK', 49)\n",
      "('대한', 48)\n",
      "('변화', 48)\n",
      "('버버리', 48)\n",
      "('뷰티', 48)\n",
      "('천재', 48)\n",
      "('연예인', 48)\n",
      "('벨트', 47)\n",
      "('매장', 47)\n",
      "('인형', 47)\n",
      "('니트', 46)\n",
      "('시크', 46)\n",
      "('찰떡', 46)\n",
      "('런웨이', 45)\n",
      "('화보', 44)\n",
      "('연기', 44)\n",
      "('대', 43)\n",
      "('취향', 43)\n",
      "('천사', 43)\n",
      "('티셔츠', 42)\n",
      "('가을', 42)\n",
      "('아티스트', 42)\n",
      "('인스타그램', 41)\n",
      "('도전', 41)\n",
      "('립', 41)\n",
      "('세대', 41)\n",
      "('소녀', 41)\n",
      "('입술', 41)\n",
      "('멋있다', 41)\n",
      "('벨벳', 40)\n",
      "('실루엣', 40)\n",
      "('첫', 40)\n",
      "('미소', 40)\n",
      "('겨울', 39)\n",
      "('리스트', 39)\n",
      "('피부', 39)\n",
      "('코디', 39)\n",
      "('로고', 38)\n",
      "('이야기', 38)\n",
      "('액세서리', 38)\n",
      "('프로', 38)\n",
      "('앨범', 38)\n",
      "('말투', 38)\n",
      "('활동', 37)\n",
      "('게임', 37)\n",
      "('최근', 37)\n",
      "('리', 37)\n",
      "('현재', 37)\n",
      "('실물', 37)\n",
      "('시작', 36)\n",
      "('반응', 36)\n",
      "('재', 36)\n",
      "('관심', 36)\n",
      "('한국', 36)\n",
      "('스카프', 35)\n",
      "('어깨', 35)\n",
      "('시절', 35)\n",
      "('엄마', 35)\n",
      "('해외', 35)\n",
      "('선글라스', 34)\n",
      "('인터뷰', 34)\n",
      "('에디', 34)\n",
      "('힘', 34)\n",
      "('가죽', 34)\n",
      "('경험', 34)\n",
      "('럭셔리', 34)\n",
      "('세', 34)\n",
      "('미국', 34)\n",
      "('고급', 34)\n",
      "('by', 33)\n",
      "('기도', 33)\n",
      "('영감', 33)\n",
      "('수트', 33)\n",
      "('영화', 33)\n",
      "('파워', 33)\n",
      "('봄', 33)\n",
      "('작업', 33)\n",
      "('비즈', 33)\n",
      "('패션쇼', 33)\n",
      "('볼살', 33)\n",
      "('골드', 32)\n",
      "('포인트', 32)\n",
      "('있을', 32)\n",
      "('변신', 32)\n",
      "('발표', 32)\n",
      "('트렌드', 32)\n",
      "('공주', 32)\n",
      "('작은', 32)\n",
      "('주인공', 32)\n",
      "('리본', 31)\n",
      "('구찌', 31)\n",
      "('꽃', 31)\n",
      "('꿈', 31)\n",
      "('스', 31)\n",
      "('주얼리', 31)\n",
      "('담당', 31)\n",
      "('점', 31)\n",
      "('기대', 31)\n",
      "('화장', 31)\n",
      "('연출', 30)\n",
      "('뉴욕', 30)\n",
      "('위해', 30)\n",
      "('패션계', 30)\n",
      "('중요한', 30)\n",
      "('의미', 30)\n",
      "('사이즈', 30)\n",
      "('베스트', 30)\n",
      "('높은', 30)\n",
      "('런던', 30)\n",
      "('나이', 30)\n",
      "('EU', 30)\n",
      "('최애', 30)\n",
      "('소재', 29)\n",
      "('방법', 29)\n",
      "('인상', 29)\n",
      "('LVMH', 29)\n",
      "('코', 29)\n",
      "('감각', 29)\n",
      "('넘치는', 29)\n",
      "('데뷔', 29)\n",
      "('시선', 29)\n",
      "('카리스마', 29)\n",
      "('초', 29)\n",
      "('몸매', 29)\n",
      "('브렉', 29)\n",
      "('시트', 29)\n",
      "('개성', 29)\n",
      "('행복', 29)\n",
      "('디테일', 28)\n",
      "('바이', 28)\n",
      "('블루', 28)\n",
      "('강조', 28)\n",
      "('몸', 28)\n",
      "('터', 28)\n",
      "('저음', 28)\n",
      "('좋겠다', 28)\n",
      "('프린트', 27)\n",
      "('블라우스', 27)\n",
      "('채', 27)\n",
      "('링', 27)\n",
      "('완벽한', 27)\n",
      "('테일러', 27)\n",
      "('개인', 27)\n",
      "('기록', 27)\n",
      "('사이', 27)\n",
      "('집', 27)\n",
      "('글로벌', 27)\n",
      "('진행', 27)\n",
      "('공식', 27)\n",
      "('티', 27)\n",
      "('숄더', 27)\n",
      "('조합', 27)\n",
      "('애교', 27)\n",
      "('원피스', 26)\n",
      "('방식', 26)\n",
      "('스스로', 26)\n",
      "('동시', 26)\n",
      "('치', 26)\n",
      "('집중', 26)\n",
      "('전체', 26)\n",
      "('법', 26)\n",
      "('재능', 26)\n",
      "('FW', 26)\n",
      "('상큼', 26)\n",
      "('대중', 26)\n",
      "('채널', 26)\n",
      "('스트리트', 25)\n",
      "('톤', 25)\n",
      "('특유', 25)\n",
      "('자랑', 25)\n",
      "('향', 25)\n",
      "('살', 25)\n",
      "('진주', 25)\n",
      "('심플', 25)\n",
      "('드', 25)\n",
      "('추천', 25)\n",
      "('결정', 25)\n",
      "('네일', 25)\n",
      "('예정', 25)\n",
      "('레더', 25)\n",
      "('댄스', 25)\n",
      "('포니테일', 25)\n",
      "('인성', 25)\n",
      "('착하다', 25)\n",
      "('패턴', 24)\n",
      "('허리', 24)\n",
      "('눈', 24)\n",
      "('사용', 24)\n",
      "('과감', 24)\n",
      "('글', 24)\n",
      "('먼저', 24)\n",
      "('도시', 24)\n",
      "('코로나', 24)\n",
      "('결과', 24)\n",
      "('소개', 24)\n",
      "('곳', 24)\n",
      "('그림', 24)\n",
      "('오프', 24)\n",
      "('롱', 24)\n",
      "('명', 24)\n",
      "('브라운', 24)\n",
      "('부럽다', 24)\n",
      "('이어링', 23)\n",
      "('지방시', 23)\n",
      "('캠페인', 23)\n",
      "('빅', 23)\n",
      "('재미', 23)\n",
      "('꼭', 23)\n",
      "('소화', 23)\n",
      "('작', 23)\n",
      "('거나', 23)\n",
      "('팀', 23)\n",
      "('시장', 23)\n",
      "('아래', 23)\n",
      "('착용', 23)\n",
      "('감성', 23)\n",
      "('문제', 23)\n",
      "('새', 23)\n",
      "('성복', 23)\n",
      "('유지', 23)\n",
      "('포에버', 23)\n",
      "('슈즈', 22)\n",
      "('가방', 22)\n",
      "('프라다', 22)\n",
      "('실크', 22)\n",
      "('선택', 22)\n",
      "('과정', 22)\n",
      "('전혀', 22)\n",
      "('발음', 22)\n",
      "('독특한', 22)\n",
      "('세련된', 22)\n",
      "('옴므', 22)\n",
      "('충분히', 22)\n",
      "('에디터', 22)\n",
      "('컴백', 22)\n",
      "('일상', 22)\n",
      "('버전', 22)\n",
      "('대체', 22)\n",
      "('기분', 22)\n",
      "('화제', 22)\n",
      "('스웨터', 22)\n",
      "('영향', 22)\n",
      "('자신감', 22)\n",
      "('거리', 22)\n",
      "('디지털', 22)\n",
      "('답', 22)\n",
      "('교복', 22)\n",
      "('단어', 22)\n",
      "('악', 22)\n",
      "('국내', 22)\n",
      "('워치', 22)\n",
      "('열', 22)\n",
      "('명품', 22)\n",
      "('유럽', 22)\n",
      "('가요', 22)\n",
      "('보라색', 22)\n",
      "('스키', 21)\n",
      "('모습', 21)\n",
      "('트렌치코트', 21)\n",
      "('모양', 21)\n",
      "('무드', 21)\n",
      "('참고', 21)\n",
      "('북', 21)\n",
      "('삶', 21)\n",
      "('생기', 21)\n",
      "('갑자기', 21)\n",
      "('미래', 21)\n",
      "('화', 21)\n",
      "('피스', 21)\n",
      "('믹스', 21)\n",
      "('역할', 21)\n",
      "('이용', 21)\n",
      "('제작', 21)\n",
      "('있죠', 21)\n",
      "('긍정', 21)\n",
      "('세상', 21)\n",
      "('프로그램', 21)\n",
      "('독보', 21)\n",
      "('착', 21)\n",
      "('선물', 21)\n",
      "('강아지', 21)\n",
      "('슬기', 21)\n",
      "('웃는', 21)\n",
      "('초딩', 21)\n",
      "('유행', 20)\n",
      "('시도', 20)\n",
      "('다리', 20)\n",
      "('아닐까', 20)\n",
      "('매일', 20)\n",
      "('마지막', 20)\n",
      "('상황', 20)\n",
      "('블', 20)\n",
      "('특징', 20)\n",
      "('마무리', 20)\n",
      "('출신', 20)\n",
      "('화려한', 20)\n",
      "('문', 20)\n",
      "('길', 20)\n",
      "('굉장히', 20)\n",
      "('원', 20)\n",
      "('의상', 20)\n",
      "('장미', 20)\n",
      "('있을까', 20)\n",
      "('용', 20)\n",
      "('부', 20)\n",
      "('센스', 20)\n",
      "('아이콘', 20)\n",
      "('파', 20)\n",
      "('걱정', 20)\n",
      "('있다고', 20)\n",
      "('하트', 20)\n",
      "('크', 20)\n",
      "('완벽', 20)\n",
      "('다해', 20)\n",
      "('밥', 20)\n",
      "('쉬는', 20)\n",
      "('고음', 20)\n",
      "('크리스', 19)\n",
      "('커다란', 19)\n",
      "('매우', 19)\n",
      "('없을', 19)\n",
      "('반', 19)\n",
      "('크게', 19)\n",
      "('회사', 19)\n",
      "('특별한', 19)\n",
      "('필요', 19)\n",
      "('옷장', 19)\n",
      "('요소', 19)\n",
      "('바', 19)\n",
      "('위로', 19)\n",
      "('정신', 19)\n",
      "('약', 19)\n",
      "('대부분', 19)\n",
      "('콘셉트', 19)\n",
      "('문화', 19)\n",
      "('자리', 19)\n",
      "('뜻', 19)\n",
      "('비교', 19)\n",
      "('패션위크', 19)\n",
      "('기존', 19)\n",
      "('해결', 19)\n",
      "('전형', 19)\n",
      "('크롭트', 19)\n",
      "('운동', 19)\n",
      "('지난해', 19)\n",
      "('오픈', 19)\n",
      "('질문', 19)\n",
      "('휘파람', 19)\n",
      "('안무', 19)\n",
      "('주변', 19)\n",
      "('샤인', 19)\n",
      "('공감', 19)\n",
      "('어울림', 19)\n",
      "('우아', 19)\n",
      "('악플', 19)\n",
      "('준', 18)\n",
      "('스트라이프', 18)\n",
      "('오버', 18)\n",
      "('볼륨', 18)\n",
      "('꽤', 18)\n",
      "('존', 18)\n",
      "('퀸', 18)\n",
      "('살짝', 18)\n",
      "('성향', 18)\n",
      "('그동안', 18)\n",
      "('소셜', 18)\n",
      "('비율', 18)\n",
      "('아이디어', 18)\n",
      "('하니', 18)\n",
      "('상', 18)\n",
      "('장', 18)\n",
      "('음', 18)\n",
      "('티시', 18)\n",
      "('현', 18)\n",
      "('설명', 18)\n",
      "('가치', 18)\n",
      "('있으니', 18)\n",
      "('모던', 18)\n",
      "('해석', 18)\n",
      "('반대', 18)\n",
      "('소매', 18)\n",
      "('스타일링', 18)\n",
      "('있었다', 18)\n",
      "('새롭게', 18)\n",
      "('향수', 18)\n",
      "('최초', 18)\n",
      "('여행', 18)\n",
      "('목걸이', 18)\n",
      "('이전', 18)\n",
      "('팩', 18)\n",
      "('이기', 18)\n",
      "('축하', 18)\n",
      "('아마', 18)\n",
      "('마다', 18)\n",
      "('SNS', 18)\n",
      "(',', 18)\n",
      "('랩', 18)\n"
     ]
    }
   ],
   "source": [
    "word_list = count.most_common(500)\n",
    "for v in word_list:\n",
    "    print(v)"
   ]
  },
  {
   "cell_type": "code",
   "execution_count": 33,
   "metadata": {},
   "outputs": [],
   "source": [
    "top500 = pd.DataFrame(word_list)"
   ]
  },
  {
   "cell_type": "code",
   "execution_count": 34,
   "metadata": {},
   "outputs": [],
   "source": [
    "top500.columns = ['word', 'count']"
   ]
  },
  {
   "cell_type": "code",
   "execution_count": 35,
   "metadata": {},
   "outputs": [],
   "source": [
    "top500.to_csv('./CE4JI_top500.csv', sep='|', encoding = 'utf-8', index = False)"
   ]
  },
  {
   "cell_type": "markdown",
   "metadata": {},
   "source": [
    "## 워드클라우드 만들기"
   ]
  },
  {
   "cell_type": "code",
   "execution_count": 36,
   "metadata": {},
   "outputs": [],
   "source": [
    "import matplotlib.pyplot as plt"
   ]
  },
  {
   "cell_type": "code",
   "execution_count": 37,
   "metadata": {},
   "outputs": [
    {
     "name": "stdout",
     "output_type": "stream",
     "text": [
      "Malgun Gothic C:\\WINDOWS\\Fonts\\malgun.ttf\n",
      "Yu Gothic C:\\WINDOWS\\Fonts\\YuGothB.ttc\n",
      "HYGothic-Extra C:\\WINDOWS\\Fonts\\H2GTRE.TTF\n",
      "Franklin Gothic Medium C:\\WINDOWS\\Fonts\\framdit.ttf\n",
      "Malgun Gothic C:\\Windows\\Fonts\\malgunbd.ttf\n",
      "Yu Gothic C:\\Windows\\Fonts\\YuGothL.ttc\n",
      "Century Gothic C:\\Windows\\Fonts\\GOTHIC.TTF\n",
      "Yu Gothic C:\\Windows\\Fonts\\YuGothM.ttc\n",
      "Yu Gothic C:\\WINDOWS\\Fonts\\YuGothR.ttc\n",
      "MS Gothic C:\\WINDOWS\\Fonts\\msgothic.ttc\n",
      "HYGothic-Medium C:\\WINDOWS\\Fonts\\H2GTRM.TTF\n",
      "Malgun Gothic C:\\WINDOWS\\Fonts\\malgunsl.ttf\n",
      "Century Gothic C:\\Windows\\Fonts\\GOTHICI.TTF\n",
      "Century Gothic C:\\WINDOWS\\Fonts\\GOTHICBI.TTF\n",
      "Century Gothic C:\\Windows\\Fonts\\GOTHICB.TTF\n",
      "Franklin Gothic Medium C:\\WINDOWS\\Fonts\\framd.ttf\n"
     ]
    }
   ],
   "source": [
    "import matplotlib.font_manager as fm\n",
    "\n",
    "# 이용 가능한 폰트 중 '고딕'만 선별\n",
    "for font in fm.fontManager.ttflist:\n",
    "    if 'Gothic' in font.name:\n",
    "        print(font.name, font.fname)"
   ]
  },
  {
   "cell_type": "code",
   "execution_count": 38,
   "metadata": {},
   "outputs": [],
   "source": [
    "font_path = 'C:\\WINDOWS\\Fonts\\malgun.ttf'"
   ]
  },
  {
   "cell_type": "markdown",
   "metadata": {},
   "source": [
    "### 워드클라우드 그리기"
   ]
  },
  {
   "cell_type": "code",
   "execution_count": 39,
   "metadata": {},
   "outputs": [],
   "source": [
    "from wordcloud import WordCloud"
   ]
  },
  {
   "cell_type": "code",
   "execution_count": 40,
   "metadata": {},
   "outputs": [],
   "source": [
    "wc = WordCloud(font_path=font_path, background_color=\"white\", width=600, height=400)"
   ]
  },
  {
   "cell_type": "code",
   "execution_count": 41,
   "metadata": {},
   "outputs": [
    {
     "data": {
      "image/png": "[encoded data removed]",
      "text/plain": [
       "<Figure size 432x288 with 1 Axes>"
      ]
     },
     "metadata": {
      "needs_background": "light"
     },
     "output_type": "display_data"
    },
    {
     "data": {
      "text/plain": [
       "<wordcloud.wordcloud.WordCloud at 0x28df32a3188>"
      ]
     },
     "execution_count": 41,
     "metadata": {},
     "output_type": "execute_result"
    }
   ],
   "source": [
    "wc.generate_from_frequencies(dict(word_list))\n",
    "\n",
    "plt.imshow(wc) \n",
    "plt.axis('off') \n",
    "plt.show()\n",
    "\n",
    "\n",
    "wc.to_file('CE4JI.png')"
   ]
  },
  {
   "cell_type": "code",
   "execution_count": 42,
   "metadata": {},
   "outputs": [],
   "source": [
    "CE4JI.to_csv('./magazine/final/CE4JI_adfn_2.csv', sep='|', encoding = 'utf-8', index = False)"
   ]
  },
  {
   "cell_type": "code",
   "execution_count": null,
   "metadata": {},
   "outputs": [],
   "source": []
  },
  {
   "cell_type": "code",
   "execution_count": null,
   "metadata": {},
   "outputs": [],
   "source": []
  },
  {
   "cell_type": "code",
   "execution_count": null,
   "metadata": {},
   "outputs": [],
   "source": []
  }
 ],
 "metadata": {
  "kernelspec": {
   "display_name": "Python 3",
   "language": "python",
   "name": "python3"
  },
  "language_info": {
   "codemirror_mode": {
    "name": "ipython",
    "version": 3
   },
   "file_extension": ".py",
   "mimetype": "text/x-python",
   "name": "python",
   "nbconvert_exporter": "python",
   "pygments_lexer": "ipython3",
   "version": "3.7.6"
  }
 },
 "nbformat": 4,
 "nbformat_minor": 4
}
