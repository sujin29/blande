{
 "cells": [
  {
   "cell_type": "code",
   "execution_count": 1,
   "metadata": {},
   "outputs": [],
   "source": [
    "import pandas as pd\n",
    "import numpy as np"
   ]
  },
  {
   "cell_type": "code",
   "execution_count": 2,
   "metadata": {},
   "outputs": [],
   "source": [
    "from collections import Counter"
   ]
  },
  {
   "cell_type": "code",
   "execution_count": 3,
   "metadata": {},
   "outputs": [],
   "source": [
    "a_ce_dw = pd.read_csv('./magazine/final/a_ce_dw.csv', sep = '|', encoding = 'utf-8')\n",
    "b_ce_dw = pd.read_csv('./magazine/final/b_ce_dw.csv', sep = '|', encoding = 'utf-8')\n",
    "c_ce_dw = pd.read_csv('./magazine/final/c_ce_dw.csv', sep = '|', encoding = 'utf-8')\n",
    "e_ce_dw = pd.read_csv('./magazine/final/e_ce_dw.csv', sep = '|', encoding = 'utf-8')\n",
    "fb_ce_dw = pd.read_csv('./magazine/final/fb_ce_dw.csv', sep = '|', encoding = 'utf-8')\n",
    "fn_ce_dw = pd.read_csv('./magazine/final/fn_ce_dw.csv', sep = '|', encoding = 'utf-8')\n",
    "m_ce_dw = pd.read_csv('./magazine/final/m_ce_dw.csv', sep = '|', encoding = 'utf-8')\n",
    "v_ce_dw = pd.read_csv('./magazine/final/v_ce_dw.csv', sep = '|', encoding = 'utf-8')\n",
    "w_ce_dw = pd.read_csv('./magazine/final/w_ce_dw.csv', sep = '|', encoding = 'utf-8')"
   ]
  },
  {
   "cell_type": "code",
   "execution_count": 4,
   "metadata": {},
   "outputs": [],
   "source": [
    "ce_dw = pd.concat([a_ce_dw, b_ce_dw, c_ce_dw, e_ce_dw, fb_ce_dw, fn_ce_dw, m_ce_dw, v_ce_dw, w_ce_dw])"
   ]
  },
  {
   "cell_type": "code",
   "execution_count": 5,
   "metadata": {},
   "outputs": [],
   "source": [
    "ce_dw.reset_index(drop=True, inplace = True)"
   ]
  },
  {
   "cell_type": "code",
   "execution_count": 6,
   "metadata": {},
   "outputs": [
    {
     "data": {
      "text/plain": [
       "764"
      ]
     },
     "execution_count": 6,
     "metadata": {},
     "output_type": "execute_result"
    }
   ],
   "source": [
    "len(ce_dw)"
   ]
  },
  {
   "cell_type": "code",
   "execution_count": 7,
   "metadata": {
    "scrolled": true
   },
   "outputs": [],
   "source": [
    "ce_dw.loc[89, 'contents'] = ce_dw.loc[89, 'contents'].replace('💍', '')"
   ]
  },
  {
   "cell_type": "code",
   "execution_count": 8,
   "metadata": {},
   "outputs": [],
   "source": [
    "ce_dw['word_celine'] = ce_dw['word_celine'].str.replace('[', '').str.replace(']', '').str.replace('\\\\', '').str.replace('\"', '').str.replace(\"'\", \"\").str.replace('「', '').str.replace('」', '').str.replace('”', '')"
   ]
  },
  {
   "cell_type": "code",
   "execution_count": 9,
   "metadata": {},
   "outputs": [],
   "source": [
    "ce_dw.to_csv('ce_dwr.csv', encoding = 'utf-8', index = False, sep ='|')"
   ]
  },
  {
   "cell_type": "markdown",
   "metadata": {},
   "source": [
    "## list(article_list) 생성 후 append"
   ]
  },
  {
   "cell_type": "code",
   "execution_count": 10,
   "metadata": {},
   "outputs": [],
   "source": [
    "articles = ce_dw['word_celine']"
   ]
  },
  {
   "cell_type": "code",
   "execution_count": 11,
   "metadata": {},
   "outputs": [],
   "source": [
    "magazine_list = []\n",
    "article_list = []\n",
    "\n",
    "for article in articles:\n",
    "    article_list.append(article)"
   ]
  },
  {
   "cell_type": "code",
   "execution_count": 12,
   "metadata": {},
   "outputs": [
    {
     "data": {
      "text/plain": [
       "764"
      ]
     },
     "execution_count": 12,
     "metadata": {},
     "output_type": "execute_result"
    }
   ],
   "source": [
    "len(article_list)"
   ]
  },
  {
   "cell_type": "code",
   "execution_count": 13,
   "metadata": {},
   "outputs": [],
   "source": [
    "article_list[89] = article_list[89].replace('💍', '')"
   ]
  },
  {
   "cell_type": "markdown",
   "metadata": {},
   "source": [
    "## konlpy 패키지 안에 Kkma 모듈 호출"
   ]
  },
  {
   "cell_type": "code",
   "execution_count": 1,
   "metadata": {},
   "outputs": [],
   "source": [
    "from konlpy.tag import Kkma"
   ]
  },
  {
   "cell_type": "code",
   "execution_count": null,
   "metadata": {},
   "outputs": [],
   "source": [
    "kkma = Kkma()"
   ]
  },
  {
   "cell_type": "markdown",
   "metadata": {},
   "source": [
    "### 각 문장별로 형태소 구분하기"
   ]
  },
  {
   "cell_type": "code",
   "execution_count": null,
   "metadata": {},
   "outputs": [],
   "source": [
    "sentences_tag = []\n",
    "\n",
    "for i in range(10):\n",
    "    morph = kkma.pos(article_list[i])\n",
    "    sentences_tag.append(morph)\n",
    "    print(i, end = ' ')\n",
    "    \n",
    "    \n",
    "\n",
    "print(len(sentences_tag))\n"
   ]
  },
  {
   "cell_type": "code",
   "execution_count": null,
   "metadata": {},
   "outputs": [],
   "source": [
    "sentences_tag[0]"
   ]
  },
  {
   "cell_type": "code",
   "execution_count": null,
   "metadata": {},
   "outputs": [],
   "source": []
  },
  {
   "cell_type": "markdown",
   "metadata": {},
   "source": [
    "### 1. 명사 혹은 형용사인 품사만 선별해 리스트에 담기"
   ]
  },
  {
   "cell_type": "code",
   "execution_count": 13,
   "metadata": {},
   "outputs": [],
   "source": [
    "noun_adj_list= []\n",
    "for sentence1 in sentences_tag:\n",
    "    for word, tag in sentence1:\n",
    "        if tag in ['Noun', 'Adjective']:\n",
    "            noun_adj_list.append(word)"
   ]
  },
  {
   "cell_type": "code",
   "execution_count": 14,
   "metadata": {},
   "outputs": [
    {
     "data": {
      "text/plain": [
       "68493"
      ]
     },
     "execution_count": 14,
     "metadata": {},
     "output_type": "execute_result"
    }
   ],
   "source": [
    "len(noun_adj_list)"
   ]
  },
  {
   "cell_type": "code",
   "execution_count": 15,
   "metadata": {},
   "outputs": [
    {
     "data": {
      "text/plain": [
       "['골드',\n",
       " '장식',\n",
       " '포인트',\n",
       " '준',\n",
       " '케이프',\n",
       " '체크',\n",
       " '코트',\n",
       " '백',\n",
       " '산드로',\n",
       " '데님',\n",
       " '팬츠',\n",
       " '가격',\n",
       " '미정',\n",
       " '리바이스',\n",
       " '그레이',\n",
       " '컬러',\n",
       " '니트',\n",
       " '톱',\n",
       " '르누이',\n",
       " '라이딩']"
      ]
     },
     "execution_count": 15,
     "metadata": {},
     "output_type": "execute_result"
    }
   ],
   "source": [
    "noun_adj_list[:20]"
   ]
  },
  {
   "cell_type": "code",
   "execution_count": 16,
   "metadata": {},
   "outputs": [
    {
     "data": {
      "text/plain": [
       "['골드', '장식', '포인트', '준', '케이프', '체크', '코트', '백', '산드로', '데님']"
      ]
     },
     "execution_count": 16,
     "metadata": {},
     "output_type": "execute_result"
    }
   ],
   "source": [
    "noun_adj_list[:10]"
   ]
  },
  {
   "cell_type": "markdown",
   "metadata": {},
   "source": [
    "### 선별된 품사별 빈도수 계산 & 상위 빈도 10위까지 출력"
   ]
  },
  {
   "cell_type": "code",
   "execution_count": 17,
   "metadata": {
    "scrolled": true
   },
   "outputs": [
    {
     "name": "stdout",
     "output_type": "stream",
     "text": [
      "[('셀린느', 1157), ('것', 750), ('에디', 560), ('그', 471), ('셀린', 471), ('컬렉션', 465), ('브랜드', 450), ('수', 419), ('있다', 365), ('등', 359), ('패션', 353), ('이', 318), ('있는', 316), ('디자이너', 302), ('룩', 300), ('시즌', 289), ('피비', 283), ('이번', 276), ('백', 263), ('의', 263), ('남성', 254), ('스타일', 244), ('컬러', 230), ('여성', 215), ('디자인', 212), ('팬츠', 204), ('지난', 203), ('디렉터', 202), ('슬리', 200), ('슬리먼', 198), ('드레스', 196), ('쇼', 196), ('말', 186), ('재킷', 184), ('가격', 180), ('더', 179), ('장식', 176), ('새로운', 176), ('파리', 174), ('가장', 171), ('때', 168), ('복', 165), ('생', 161), ('아이템', 156), ('로랑', 153), ('미정', 147), ('옷', 147), ('같은', 146), ('위', 146), ('코트', 144), ('매치', 143), ('를', 140), ('사진', 139), ('일', 137), ('첫', 137), ('크리에이티브', 137), ('그녀', 135), ('로', 134), ('자신', 133), ('가죽', 133), ('로고', 128), ('등장', 126), ('필로', 126), ('역시', 124), ('모델', 123), ('소재', 122), ('디올', 122), ('영국', 121), ('위해', 119), ('블랙', 118), ('스타', 118), ('봄', 118), ('모두', 117), ('셔츠', 116), ('나', 116), ('전', 115), ('듯', 115), ('파일', 115), ('시작', 112), ('버버리', 112), ('스커트', 111), ('실루엣', 107), ('부츠', 105), ('때문', 105), ('럭셔리', 104), ('런웨이', 104), ('여름', 102), ('시대', 101), ('가방', 100), ('연출', 100), ('클래식', 97), ('다양한', 96), ('제품', 96), ('매장', 95), ('하나', 94), ('매력', 94), ('트렌드', 94), ('그룹', 93), ('데님', 92), ('통해', 92), ('화이트', 91), ('샤넬', 90), ('대한', 89), ('라인', 89), ('드', 89), ('구찌', 87), ('주목', 87), ('눈', 87), ('입', 87), ('건', 86), ('바이', 86), ('슬', 86), ('다른', 85), ('내', 85), ('리먼', 85), ('또', 84), ('변화', 83), ('발렌시아', 83), ('모든', 83), ('링', 82), ('사람', 82), ('세계', 81), ('중', 81), ('지방시', 80), ('패션계', 80), ('스', 79), ('최근', 79), ('패션쇼', 79), ('데뷔', 78), ('지금', 77), ('우리', 77), ('프린트', 77), ('패턴', 76), ('슈즈', 76), ('완성', 76), ('영감', 76), ('무드', 76), ('성복', 76), ('생각', 75), ('슈트', 75), ('속', 75), ('세', 75), ('액세서리', 75), ('재', 74), ('캠페인', 74), ('없는', 72), ('정도', 72), ('후', 72), ('일링', 72), ('이미지', 72), ('많은', 72), ('패션위크', 71), ('옴므', 70), ('두', 69), ('피부', 69), ('또한', 68), ('바로', 68), ('하우스', 68), ('사이즈', 67), ('가을', 67), ('미니', 67), ('프랑스', 67), ('시간', 66), ('데', 66), ('사실', 66), ('티', 66), ('수트', 66), ('매출', 66), ('분위기', 65), ('선글라스', 65), ('런던', 65), ('빈티', 64), ('겨울', 64), ('선택', 64), ('안', 63), ('시절', 63), ('느낌', 62), ('감', 62), ('동시', 62), ('가지', 61), ('고', 60), ('광고', 59), ('현재', 59), ('포인트', 58), ('사랑', 58), ('뒤', 58), ('대표', 58), ('케이프', 57), ('스트리트', 57), ('아니라', 57), ('존재', 56), ('리', 56), ('은', 56), ('향수', 56), ('어떤', 55), ('점', 54), ('베스트', 54), ('스니커즈', 54), ('니트', 53), ('세대', 53)]\n"
     ]
    }
   ],
   "source": [
    "word = Counter(noun_adj_list)\n",
    "print(word.most_common(200))"
   ]
  },
  {
   "cell_type": "code",
   "execution_count": 18,
   "metadata": {},
   "outputs": [],
   "source": [
    "# 한 글자인 단어는 제외\n",
    "\n",
    "for i, v in enumerate(noun_adj_list):\n",
    "    if len(v)<2:\n",
    "        noun_adj_list.pop(i)"
   ]
  },
  {
   "cell_type": "code",
   "execution_count": 19,
   "metadata": {},
   "outputs": [],
   "source": [
    "count = Counter(noun_adj_list)"
   ]
  },
  {
   "cell_type": "code",
   "execution_count": 20,
   "metadata": {},
   "outputs": [
    {
     "name": "stdout",
     "output_type": "stream",
     "text": [
      "('셀린느', 1157)\n",
      "('에디', 560)\n",
      "('셀린', 471)\n",
      "('컬렉션', 465)\n",
      "('브랜드', 450)\n",
      "('있다', 365)\n",
      "('패션', 353)\n",
      "('있는', 316)\n",
      "('디자이너', 302)\n",
      "('시즌', 289)\n",
      "('피비', 283)\n",
      "('이번', 276)\n",
      "('남성', 254)\n",
      "('스타일', 244)\n",
      "('컬러', 230)\n",
      "('여성', 215)\n",
      "('디자인', 212)\n",
      "('팬츠', 204)\n",
      "('지난', 203)\n",
      "('디렉터', 202)\n",
      "('슬리', 200)\n",
      "('슬리먼', 198)\n",
      "('드레스', 196)\n",
      "('재킷', 184)\n",
      "('가격', 180)\n",
      "('장식', 176)\n",
      "('새로운', 176)\n",
      "('파리', 174)\n",
      "('가장', 171)\n",
      "('아이템', 156)\n",
      "('로랑', 153)\n",
      "('미정', 147)\n",
      "('같은', 146)\n",
      "('코트', 144)\n",
      "('매치', 143)\n",
      "('사진', 139)\n",
      "('크리에이티브', 137)\n",
      "('그녀', 135)\n",
      "('자신', 133)\n",
      "('가죽', 133)\n",
      "('로고', 128)\n",
      "('등장', 126)\n",
      "('필로', 126)\n",
      "('역시', 124)\n",
      "('모델', 123)\n",
      "('소재', 122)\n",
      "('디올', 122)\n",
      "('영국', 121)\n",
      "('위해', 119)\n",
      "('블랙', 118)\n",
      "('스타', 118)\n",
      "('모두', 117)\n",
      "('셔츠', 116)\n",
      "('파일', 115)\n",
      "('시작', 112)\n",
      "('버버리', 112)\n",
      "('스커트', 111)\n",
      "('실루엣', 107)\n",
      "('부츠', 105)\n",
      "('때문', 105)\n",
      "('럭셔리', 104)\n",
      "('런웨이', 104)\n",
      "('여름', 102)\n",
      "('시대', 101)\n",
      "('가방', 100)\n",
      "('연출', 100)\n",
      "('클래식', 97)\n",
      "('다양한', 96)\n",
      "('제품', 96)\n",
      "('매장', 95)\n",
      "('하나', 94)\n",
      "('매력', 94)\n",
      "('트렌드', 94)\n",
      "('수', 93)\n",
      "('것', 93)\n",
      "('그룹', 93)\n",
      "('데님', 92)\n",
      "('통해', 92)\n",
      "('화이트', 91)\n",
      "('샤넬', 90)\n",
      "('대한', 89)\n",
      "('라인', 89)\n",
      "('구찌', 87)\n",
      "('주목', 87)\n",
      "('바이', 86)\n",
      "('다른', 85)\n",
      "('리먼', 85)\n",
      "('변화', 83)\n",
      "('발렌시아', 83)\n",
      "('모든', 83)\n",
      "('사람', 82)\n",
      "('세계', 81)\n",
      "('지방시', 80)\n",
      "('패션계', 80)\n",
      "('최근', 79)\n",
      "('패션쇼', 79)\n",
      "('데뷔', 78)\n",
      "('지금', 77)\n",
      "('우리', 77)\n",
      "('프린트', 77)\n",
      "('패턴', 76)\n",
      "('슈즈', 76)\n",
      "('완성', 76)\n",
      "('영감', 76)\n",
      "('무드', 76)\n",
      "('성복', 76)\n",
      "('생각', 75)\n",
      "('슈트', 75)\n",
      "('액세서리', 75)\n",
      "('캠페인', 74)\n",
      "('없는', 72)\n",
      "('정도', 72)\n",
      "('일링', 72)\n",
      "('이미지', 72)\n",
      "('많은', 72)\n",
      "('패션위크', 71)\n",
      "('옴므', 70)\n",
      "('피부', 69)\n",
      "('또한', 68)\n",
      "('바로', 68)\n",
      "('하우스', 68)\n",
      "('사이즈', 67)\n",
      "('가을', 67)\n",
      "('미니', 67)\n",
      "('프랑스', 67)\n",
      "('시간', 66)\n",
      "('사실', 66)\n",
      "('수트', 66)\n",
      "('매출', 66)\n",
      "('분위기', 65)\n",
      "('선글라스', 65)\n",
      "('런던', 65)\n",
      "('빈티', 64)\n",
      "('겨울', 64)\n",
      "('선택', 64)\n",
      "('시절', 63)\n",
      "('그', 63)\n",
      "('느낌', 62)\n",
      "('동시', 62)\n",
      "('가지', 61)\n",
      "('이', 59)\n",
      "('광고', 59)\n",
      "('현재', 59)\n",
      "('포인트', 58)\n",
      "('사랑', 58)\n",
      "('대표', 58)\n",
      "('케이프', 57)\n",
      "('스트리트', 57)\n",
      "('아니라', 57)\n",
      "('존재', 56)\n",
      "('향수', 56)\n",
      "('어떤', 55)\n",
      "('베스트', 54)\n",
      "('스니커즈', 54)\n",
      "('니트', 53)\n",
      "('세대', 53)\n",
      "('모습', 53)\n",
      "('활용', 53)\n",
      "('끌로', 53)\n",
      "('사용', 52)\n",
      "('공개', 52)\n",
      "('벨트', 51)\n",
      "('트렌치코트', 51)\n",
      "('프라다', 51)\n",
      "('리본', 51)\n",
      "('영화', 51)\n",
      "('다시', 51)\n",
      "('처음', 51)\n",
      "('한편', 51)\n",
      "('진행', 51)\n",
      "('골드', 50)\n",
      "('대해', 50)\n",
      "('명품', 50)\n",
      "('더욱', 50)\n",
      "('오버', 50)\n",
      "('뉴욕', 50)\n",
      "('이후', 50)\n",
      "('없다', 49)\n",
      "('효과', 49)\n",
      "('발표', 49)\n",
      "('이름', 48)\n",
      "('웨어', 48)\n",
      "('당시', 47)\n",
      "('더', 47)\n",
      "('방식', 47)\n",
      "('체크', 46)\n",
      "('에디터', 46)\n",
      "('메종', 46)\n",
      "('테일러', 46)\n",
      "('있을', 46)\n",
      "('지난해', 46)\n",
      "('무늬', 45)\n",
      "('인스타그램', 45)\n",
      "('블라우스', 45)\n",
      "('말', 45)\n",
      "('시도', 45)\n",
      "('아티스', 45)\n",
      "('펜디', 44)\n",
      "('길이', 44)\n",
      "('시크', 44)\n"
     ]
    }
   ],
   "source": [
    "word_list = count.most_common(200)\n",
    "for v in word_list:\n",
    "    print(v)"
   ]
  },
  {
   "cell_type": "markdown",
   "metadata": {},
   "source": [
    "### 2. 명사만 선별해 리스트에 담기"
   ]
  },
  {
   "cell_type": "code",
   "execution_count": 21,
   "metadata": {},
   "outputs": [],
   "source": [
    "noun= []\n",
    "for sentence1 in sentences_tag:\n",
    "    for word, tag in sentence1:\n",
    "        if tag in ['Noun']:\n",
    "            noun.append(word)"
   ]
  },
  {
   "cell_type": "code",
   "execution_count": 22,
   "metadata": {},
   "outputs": [],
   "source": [
    "for i, v in enumerate(noun):\n",
    "    if len(v)<2:\n",
    "        noun.pop(i)"
   ]
  },
  {
   "cell_type": "code",
   "execution_count": 23,
   "metadata": {},
   "outputs": [],
   "source": [
    "counts = Counter(noun)"
   ]
  },
  {
   "cell_type": "markdown",
   "metadata": {},
   "source": [
    "### 3. 명사만 선별해 아티클 별로 리스트에 담기"
   ]
  },
  {
   "cell_type": "code",
   "execution_count": 24,
   "metadata": {},
   "outputs": [
    {
     "name": "stdout",
     "output_type": "stream",
     "text": [
      "826\n"
     ]
    }
   ],
   "source": [
    "noun_article= []\n",
    "for sentence1 in sentences_tag:\n",
    "    art_noun = []\n",
    "    for word, tag in sentence1:\n",
    "        if tag in ['Noun']:\n",
    "            art_noun.append(word)\n",
    "    noun_article.append(art_noun)\n",
    "\n",
    "print(len(noun_article))"
   ]
  },
  {
   "cell_type": "code",
   "execution_count": 25,
   "metadata": {},
   "outputs": [
    {
     "data": {
      "text/plain": [
       "826"
      ]
     },
     "execution_count": 25,
     "metadata": {},
     "output_type": "execute_result"
    }
   ],
   "source": [
    "len(article_list)"
   ]
  },
  {
   "cell_type": "code",
   "execution_count": 26,
   "metadata": {},
   "outputs": [],
   "source": [
    "noun_df = pd.DataFrame({\n",
    "    'article':article_list,\n",
    "    'noun':noun_article\n",
    "})"
   ]
  },
  {
   "cell_type": "code",
   "execution_count": 27,
   "metadata": {},
   "outputs": [],
   "source": [
    "w_list = noun_df['noun']"
   ]
  },
  {
   "cell_type": "code",
   "execution_count": 28,
   "metadata": {},
   "outputs": [],
   "source": [
    "for i in range(len(w_list)):\n",
    "    for idx, v in enumerate(w_list[i]):\n",
    "        if len(v)<2:\n",
    "            w_list[i].pop(idx)"
   ]
  },
  {
   "cell_type": "code",
   "execution_count": 29,
   "metadata": {},
   "outputs": [
    {
     "data": {
      "text/plain": [
       "['골드',\n",
       " '장식',\n",
       " '포인트',\n",
       " '케이프',\n",
       " '체크',\n",
       " '코트',\n",
       " '산드로',\n",
       " '데님',\n",
       " '팬츠',\n",
       " '가격',\n",
       " '미정',\n",
       " '리바이스',\n",
       " '그레이',\n",
       " '컬러',\n",
       " '니트',\n",
       " '르누이',\n",
       " '라이딩',\n",
       " '부츠',\n",
       " '발렌티노',\n",
       " '가라',\n",
       " '바니',\n",
       " '줄무늬',\n",
       " '포인트',\n",
       " '비니',\n",
       " '프레드',\n",
       " '페리',\n",
       " '로고',\n",
       " '패턴',\n",
       " '가격',\n",
       " '미정',\n",
       " '셀린느',\n",
       " '벨벳',\n",
       " '소재',\n",
       " '후드',\n",
       " '코트',\n",
       " '레이스',\n",
       " '디테일',\n",
       " '자',\n",
       " '카드',\n",
       " '소재',\n",
       " '스커트',\n",
       " '크리스',\n",
       " '모두',\n",
       " '가격',\n",
       " '미정',\n",
       " '셀린느',\n",
       " '무테',\n",
       " '안경',\n",
       " '젠틀',\n",
       " '몬스터',\n",
       " '부츠',\n",
       " '가격',\n",
       " '미정',\n",
       " '폴로',\n",
       " '랄프',\n",
       " '로렌']"
      ]
     },
     "execution_count": 29,
     "metadata": {},
     "output_type": "execute_result"
    }
   ],
   "source": [
    "w_list[0]"
   ]
  },
  {
   "cell_type": "code",
   "execution_count": 30,
   "metadata": {},
   "outputs": [],
   "source": [
    "noun_df.to_csv('noun_celine.csv', sep = '|', index = False, encoding = 'utf-8')"
   ]
  },
  {
   "cell_type": "code",
   "execution_count": 31,
   "metadata": {},
   "outputs": [
    {
     "data": {
      "text/plain": [
       "0      [골드, 장식, 포인트, 케이프, 체크, 코트, 산드로, 데님, 팬츠, 가격, 미정...\n",
       "1                  [빈티, 주름, 워싱, 특징, 데님, 팬츠, 가격, 미정, 셀린느]\n",
       "2                        [에스, 분위기, 물씬, 셀린느, 방패, 모양, 숄더백]\n",
       "3      [재킷, 셔츠, 슈즈, 셀린느, 블랙, 스커트, 렉토, 이어링, 스타일, 리스트, ...\n",
       "4            [재킷, 셔츠, 크리스, 모두, 셀린느, 팬츠, 다잉브, 리드, 슈즈, 던힐]\n",
       "5                                     [셀린느, 나노, 벨트, 백만원]\n",
       "6      [요즘, 주식, 친구, 대화, 주제가, 코로나, 불안감, 지금, 시기, 기회, 수도...\n",
       "7      [컬러, 블록, 부츠, 가격, 미정, 샤넬, 와인, 하이, 부츠, 가격, 미정, 셀...\n",
       "8      [격자, 무늬, 트렌치코트, 와이드, 팬츠, 가격, 미정, 지방시, 밤색, 터틀넥,...\n",
       "9      [민트, 후드, 가격, 미정, 크롬, 하츠, 안경, 셀린느, 바이, 플라워, 프린트...\n",
       "10         [프린지, 장식, 메탈, 소재, 트라이엄프, 장식, 로퍼, 가격, 미정, 셀린느]\n",
       "11     [다정, 성격, 때문, 주변, 사람, 모임, 사회, 운동, 가형, 사교, 모임, 장...\n",
       "12     [논리, 책임감, 성격, 질서, 중시, 조직, 확률, 컬러, 디자인, 클래식, 보수...\n",
       "13     [히피, 펑크, 글램, 바람, 세기말, 절제, 디자인, 추구, 미니멀리즘, 테크노,...\n",
       "14     [빈티, 체크, 무늬, 재킷, 가격, 미정, 셀린느, 비비드, 핑크, 컬러, 셔츠,...\n",
       "15     [격자, 무늬, 가장, 모습, 변주, 복합, 패턴, 이번, 시즌, 셀린느, 케이프,...\n",
       "16     [화이트, 슬리브, 리스, 스트라이프, 오버, 팬츠, 모두, 셀린느, 화이트, 블루...\n",
       "17     [쉬, 다이어트, 평생, 장거리, 수영, 선수, 가지, 시시, 부터, 예약, 신의,...\n",
       "18     [화이트, 슈트, 재킷, 블랙, 플립플랍, 스타일, 리스트, 소장품, 슬리브, 리스...\n",
       "19     [보타이, 오버, 슈트, 버뮤다, 쇼츠, 이번, 시즌, 데님, 여지, 레트로, 존재...\n",
       "20     [파란색, 뿔테, 틴티드, 선글라스, 셀린느, 바이, 분홍색, 트렌치코트, 메종, ...\n",
       "21     [빈티, 대한, 첫, 기억, 종로, 광장시장, 냄새, 비지, 고등학생, 브랜드, 구...\n",
       "22     [사회, 거리, 두기, 장기, 스타일, 유지, 를, 만족, 홈웨어, 인기, 슬리브,...\n",
       "23               [고딕체, 로고, 티셔츠, 가격, 미정, 셀린느, 바이, 에디, 리먼]\n",
       "24     [언제, 룩, 테일러, 스타일, 베스트, 활용, 무채색, 베스트, 매일, 재킷, 대...\n",
       "25     [체인, 프린트, 주름, 장식, 원피스, 벨트, 하이, 부츠, 모두, 가격, 미정,...\n",
       "26     [피터, 일상, 워킹, 우먼, 뉴욕, 브랜드, 커팅, 모던, 컬러, 매치, 무장, ...\n",
       "27            [홀스빗, 장식, 레더, 벨트, 가격, 미정, 셀린느, 바이, 에디, 리먼]\n",
       "28     [가장, 후회, 쇼핑, 경험, 피비, 파일, 셀린느, 피스, 그녀, 브랜드, 당시,...\n",
       "29     [베이지색, 케이프, 코트, 터틀넥, 니트, 데님, 팬츠, 벨트, 가격, 미정, 모...\n",
       "                             ...                        \n",
       "796    [세계, 명품, 시장, 절반, 이상, 차지, 프랑스, 그룹, 루이, 비통, 셀린, ...\n",
       "797                               [보디, 실루엣, 셀린, 실크, 원피스]\n",
       "798    [순백, 변신, 무죄, 화이트, 독보, 한여름, 밤, 컬러, 일렁일, 가장, 여름,...\n",
       "799                                                   []\n",
       "800                                                   []\n",
       "801                                                   []\n",
       "802                                                   []\n",
       "803    [셀린, 공식, 인스타그램, 사다리, 강아지, 사진, 업로드, 매장, 오픈, 뷰티,...\n",
       "804                                                   []\n",
       "805                                                   []\n",
       "806    [내내, 런웨이, 의상, 모조리, 옷장, 정도, 셀린, 컬렉션, 유난, 피비, 파일...\n",
       "807                  [셀린느, 청담, 플래그, 스토어, 서울시, 강남구, 압구정로]\n",
       "808                                                   []\n",
       "809    [모든, 의문, 이번, 시즌, 프라다, 로부터, 시작, 프라다, 여사, 깃털, 장식...\n",
       "810    [셀린, 아티스, 동시, 대적, 감각, 영감, 때론, 열정, 때론, 지적, 때론, ...\n",
       "811    [셀린, 아티스, 동시, 대적, 감각, 영감, 때론, 열정, 때론, 지적, 때론, ...\n",
       "812    [셀린, 아티스, 동시, 대적, 감각, 영감, 때론, 열정, 때론, 지적, 때론, ...\n",
       "813    [셀린, 아티스, 동시, 대적, 감각, 영감, 순간, 명의, 한국, 사진가, 포착,...\n",
       "814    [백, 시즌, 전만, 해도, 오버, 사이즈, 세상, 모든, 근심, 지고, 사람, 이...\n",
       "815    [플라워, 시스루, 드레스, 셀린, 스프링, 컬렉션, 룩북, 마주, 무늬, 드레스,...\n",
       "816    [사옥, 오픈, 외국, 디자이너, 그, 브랜드, 콘셉트, 공존, 스토어, 재미, 정...\n",
       "817                                                   []\n",
       "818                                                   []\n",
       "819    [극적, 볼륨, 부피, 줄, 미니, 방식, 실루엣, 연출, 케이프, 셀린, 코트, ...\n",
       "820    [노멀, 시티, 최근, 리조트, 컬렉션, 여름, 가을, 겨울, 레디, 웨어, 컬렉션...\n",
       "821    [마야, 리아, 셀린, 패스, 모델, 워킹, 복판, 보고, 여자, 로망, 셀린, 곳...\n",
       "822    [코리아, 파워, 지난해, 파리, 데뷔, 한국, 디자이너, 황록, 정보, 마틴, 마...\n",
       "823    [패션, 에디터, 김신, 가을, 괜스레, 감상, 정제, 보헤미안, 감성, 국적, 무...\n",
       "824                                                   []\n",
       "825    [허리, 가방, 주머니, 듯, 벨트, 듯, 허리, 가방, 생명, 불어, 셀린, 피비...\n",
       "Name: noun, Length: 826, dtype: object"
      ]
     },
     "execution_count": 31,
     "metadata": {},
     "output_type": "execute_result"
    }
   ],
   "source": [
    "noun_df['noun']"
   ]
  },
  {
   "cell_type": "code",
   "execution_count": 32,
   "metadata": {},
   "outputs": [
    {
     "data": {
      "text/html": [
       "<div>\n",
       "<style scoped>\n",
       "    .dataframe tbody tr th:only-of-type {\n",
       "        vertical-align: middle;\n",
       "    }\n",
       "\n",
       "    .dataframe tbody tr th {\n",
       "        vertical-align: top;\n",
       "    }\n",
       "\n",
       "    .dataframe thead th {\n",
       "        text-align: right;\n",
       "    }\n",
       "</style>\n",
       "<table border=\"1\" class=\"dataframe\">\n",
       "  <thead>\n",
       "    <tr style=\"text-align: right;\">\n",
       "      <th></th>\n",
       "      <th>article</th>\n",
       "      <th>noun</th>\n",
       "    </tr>\n",
       "  </thead>\n",
       "  <tbody>\n",
       "  </tbody>\n",
       "</table>\n",
       "</div>"
      ],
      "text/plain": [
       "Empty DataFrame\n",
       "Columns: [article, noun]\n",
       "Index: []"
      ]
     },
     "execution_count": 32,
     "metadata": {},
     "output_type": "execute_result"
    }
   ],
   "source": [
    "noun_df.loc[860:865]"
   ]
  },
  {
   "cell_type": "markdown",
   "metadata": {},
   "source": [
    "### 명사빈도 카운트"
   ]
  },
  {
   "cell_type": "code",
   "execution_count": 33,
   "metadata": {},
   "outputs": [
    {
     "name": "stdout",
     "output_type": "stream",
     "text": [
      "('셀린느', 1157)\n",
      "('에디', 560)\n",
      "('셀린', 471)\n",
      "('컬렉션', 465)\n",
      "('브랜드', 450)\n",
      "('패션', 353)\n",
      "('디자이너', 302)\n",
      "('시즌', 289)\n",
      "('피비', 283)\n",
      "('이번', 276)\n",
      "('남성', 254)\n",
      "('스타일', 244)\n",
      "('컬러', 230)\n",
      "('여성', 215)\n",
      "('디자인', 212)\n",
      "('팬츠', 204)\n",
      "('지난', 203)\n",
      "('디렉터', 202)\n",
      "('슬리', 200)\n",
      "('슬리먼', 198)\n",
      "('드레스', 196)\n",
      "('재킷', 184)\n",
      "('가격', 180)\n",
      "('장식', 176)\n",
      "('파리', 174)\n",
      "('가장', 171)\n",
      "('아이템', 156)\n",
      "('로랑', 153)\n",
      "('미정', 147)\n",
      "('코트', 144)\n",
      "('매치', 143)\n",
      "('것', 142)\n",
      "('사진', 139)\n",
      "('크리에이티브', 137)\n",
      "('그녀', 135)\n",
      "('자신', 133)\n",
      "('가죽', 133)\n",
      "('로고', 128)\n",
      "('등장', 126)\n",
      "('필로', 126)\n",
      "('역시', 124)\n",
      "('모델', 123)\n",
      "('소재', 122)\n",
      "('디올', 122)\n",
      "('영국', 121)\n",
      "('위해', 119)\n",
      "('블랙', 118)\n",
      "('스타', 118)\n",
      "('모두', 117)\n",
      "('셔츠', 116)\n",
      "('파일', 115)\n",
      "('시작', 112)\n",
      "('버버리', 112)\n",
      "('스커트', 111)\n",
      "('실루엣', 107)\n",
      "('부츠', 105)\n",
      "('때문', 105)\n",
      "('럭셔리', 104)\n",
      "('런웨이', 104)\n",
      "('여름', 102)\n",
      "('시대', 101)\n",
      "('가방', 100)\n",
      "('연출', 100)\n",
      "('클래식', 97)\n",
      "('수', 97)\n",
      "('제품', 96)\n",
      "('매장', 95)\n",
      "('하나', 94)\n",
      "('매력', 94)\n",
      "('트렌드', 94)\n",
      "('그룹', 93)\n",
      "('데님', 92)\n",
      "('통해', 92)\n",
      "('화이트', 91)\n",
      "('샤넬', 90)\n",
      "('대한', 89)\n",
      "('라인', 89)\n",
      "('구찌', 87)\n",
      "('주목', 87)\n",
      "('바이', 86)\n",
      "('다른', 85)\n",
      "('리먼', 85)\n",
      "('변화', 83)\n",
      "('발렌시아', 83)\n",
      "('모든', 83)\n",
      "('사람', 82)\n",
      "('세계', 81)\n",
      "('그', 81)\n",
      "('지방시', 80)\n",
      "('패션계', 80)\n",
      "('최근', 79)\n",
      "('패션쇼', 79)\n",
      "('데뷔', 78)\n",
      "('지금', 77)\n",
      "('우리', 77)\n",
      "('프린트', 77)\n",
      "('패턴', 76)\n",
      "('슈즈', 76)\n",
      "('완성', 76)\n",
      "('영감', 76)\n",
      "('무드', 76)\n",
      "('성복', 76)\n",
      "('생각', 75)\n",
      "('슈트', 75)\n",
      "('액세서리', 75)\n",
      "('캠페인', 74)\n",
      "('정도', 72)\n",
      "('일링', 72)\n",
      "('이미지', 72)\n",
      "('이', 71)\n",
      "('패션위크', 71)\n",
      "('옴므', 70)\n",
      "('피부', 69)\n",
      "('또한', 68)\n",
      "('바로', 68)\n",
      "('하우스', 68)\n",
      "('사이즈', 67)\n",
      "('가을', 67)\n",
      "('미니', 67)\n",
      "('프랑스', 67)\n",
      "('시간', 66)\n",
      "('사실', 66)\n",
      "('수트', 66)\n",
      "('매출', 66)\n",
      "('분위기', 65)\n",
      "('선글라스', 65)\n",
      "('런던', 65)\n",
      "('빈티', 64)\n",
      "('겨울', 64)\n",
      "('선택', 64)\n",
      "('시절', 63)\n",
      "('느낌', 62)\n",
      "('동시', 62)\n",
      "('가지', 61)\n",
      "('광고', 59)\n",
      "('현재', 59)\n",
      "('포인트', 58)\n",
      "('사랑', 58)\n",
      "('대표', 58)\n",
      "('케이프', 57)\n",
      "('스트리트', 57)\n",
      "('존재', 56)\n",
      "('향수', 56)\n",
      "('베스트', 54)\n",
      "('스니커즈', 54)\n",
      "('니트', 53)\n",
      "('세대', 53)\n",
      "('모습', 53)\n",
      "('활용', 53)\n",
      "('끌로', 53)\n",
      "('사용', 52)\n",
      "('공개', 52)\n",
      "('벨트', 51)\n",
      "('트렌치코트', 51)\n",
      "('프라다', 51)\n",
      "('리본', 51)\n",
      "('영화', 51)\n",
      "('다시', 51)\n",
      "('말', 51)\n",
      "('처음', 51)\n",
      "('한편', 51)\n",
      "('진행', 51)\n",
      "('골드', 50)\n",
      "('대해', 50)\n",
      "('명품', 50)\n",
      "('더욱', 50)\n",
      "('오버', 50)\n",
      "('뉴욕', 50)\n",
      "('이후', 50)\n",
      "('효과', 49)\n",
      "('발표', 49)\n",
      "('이름', 48)\n",
      "('웨어', 48)\n",
      "('더', 48)\n",
      "('당시', 47)\n",
      "('방식', 47)\n",
      "('체크', 46)\n",
      "('에디터', 46)\n",
      "('메종', 46)\n",
      "('룩', 46)\n",
      "('테일러', 46)\n",
      "('지난해', 46)\n",
      "('무늬', 45)\n",
      "('인스타그램', 45)\n",
      "('블라우스', 45)\n",
      "('시도', 45)\n",
      "('아티스', 45)\n",
      "('펜디', 44)\n",
      "('길이', 44)\n",
      "('시크', 44)\n",
      "('무엇', 44)\n",
      "('예정', 44)\n",
      "('이상', 44)\n",
      "('스카프', 43)\n",
      "('스키', 43)\n",
      "('피스', 43)\n",
      "('루이비통', 43)\n",
      "('루이', 42)\n",
      "('백', 42)\n",
      "('스텔라', 42)\n"
     ]
    }
   ],
   "source": [
    "noun_list = counts.most_common(200)\n",
    "for v in noun_list:\n",
    "    print(v)"
   ]
  },
  {
   "cell_type": "markdown",
   "metadata": {},
   "source": [
    "## 워드클라우드 만들기"
   ]
  },
  {
   "cell_type": "code",
   "execution_count": 34,
   "metadata": {},
   "outputs": [],
   "source": [
    "\n",
    "import matplotlib.pyplot as plt"
   ]
  },
  {
   "cell_type": "markdown",
   "metadata": {},
   "source": [
    "### 패키지 설치 및 폰트 어쩌구"
   ]
  },
  {
   "cell_type": "code",
   "execution_count": 35,
   "metadata": {},
   "outputs": [
    {
     "name": "stdout",
     "output_type": "stream",
     "text": [
      "Copperplate Gothic Bold C:\\Windows\\Fonts\\COPRGTB.TTF\n",
      "Showcard Gothic C:\\Windows\\Fonts\\SHOWG.TTF\n",
      "Century Gothic c:\\windows\\fonts\\gothicb.ttf\n",
      "Franklin Gothic Medium C:\\Windows\\Fonts\\framd.ttf\n",
      "Franklin Gothic Demi c:\\windows\\fonts\\fradm.ttf\n",
      "Franklin Gothic Book c:\\windows\\fonts\\frabkit.ttf\n",
      "Franklin Gothic Demi C:\\Windows\\Fonts\\FRADMIT.TTF\n",
      "Century Gothic c:\\windows\\fonts\\gothic.ttf\n",
      "Franklin Gothic Book C:\\Windows\\Fonts\\FRABKIT.TTF\n",
      "Century Gothic c:\\windows\\fonts\\gothicbi.ttf\n",
      "Franklin Gothic Medium C:\\Windows\\Fonts\\framdit.ttf\n",
      "Franklin Gothic Demi C:\\Windows\\Fonts\\FRADM.TTF\n",
      "HYGothic-Extra c:\\windows\\fonts\\h2gtre.ttf\n",
      "Franklin Gothic Heavy c:\\windows\\fonts\\frahvit.ttf\n",
      "Franklin Gothic Demi Cond c:\\windows\\fonts\\fradmcn.ttf\n",
      "Malgun Gothic c:\\windows\\fonts\\malgunbd.ttf\n",
      "Showcard Gothic c:\\windows\\fonts\\showg.ttf\n",
      "Franklin Gothic Medium Cond c:\\windows\\fonts\\framdcn.ttf\n",
      "Franklin Gothic Heavy C:\\Windows\\Fonts\\FRAHV.TTF\n",
      "Malgun Gothic c:\\windows\\fonts\\malgun.ttf\n",
      "Century Gothic c:\\windows\\fonts\\gothici.ttf\n",
      "Century Gothic C:\\Windows\\Fonts\\GOTHICBI.TTF\n",
      "HYGothic-Medium c:\\windows\\fonts\\h2gtrm.ttf\n",
      "Franklin Gothic Demi Cond C:\\Windows\\Fonts\\FRADMCN.TTF\n",
      "HYGothic-Extra C:\\Windows\\Fonts\\H2GTRE.TTF\n",
      "Copperplate Gothic Light C:\\Windows\\Fonts\\COPRGTL.TTF\n",
      "Copperplate Gothic Light c:\\windows\\fonts\\coprgtl.ttf\n",
      "Malgun Gothic C:\\Windows\\Fonts\\malgunsl.ttf\n",
      "HYGothic-Medium C:\\Windows\\Fonts\\H2GTRM.TTF\n",
      "Franklin Gothic Book C:\\Windows\\Fonts\\FRABK.TTF\n",
      "Copperplate Gothic Bold c:\\windows\\fonts\\coprgtb.ttf\n",
      "Franklin Gothic Heavy c:\\windows\\fonts\\frahv.ttf\n",
      "Franklin Gothic Book c:\\windows\\fonts\\frabk.ttf\n",
      "Franklin Gothic Demi c:\\windows\\fonts\\fradmit.ttf\n",
      "Century Gothic C:\\Windows\\Fonts\\GOTHIC.TTF\n",
      "Century Gothic C:\\Windows\\Fonts\\GOTHICI.TTF\n",
      "Century Gothic C:\\Windows\\Fonts\\GOTHICB.TTF\n",
      "Franklin Gothic Medium Cond C:\\Windows\\Fonts\\FRAMDCN.TTF\n",
      "Franklin Gothic Heavy C:\\Windows\\Fonts\\FRAHVIT.TTF\n"
     ]
    }
   ],
   "source": [
    "import matplotlib.font_manager as fm\n",
    "\n",
    "# 이용 가능한 폰트 중 '고딕'만 선별\n",
    "for font in fm.fontManager.ttflist:\n",
    "    if 'Gothic' in font.name:\n",
    "        print(font.name, font.fname)"
   ]
  },
  {
   "cell_type": "code",
   "execution_count": 36,
   "metadata": {},
   "outputs": [],
   "source": [
    "font_path = 'C:\\WINDOWS\\Fonts\\malgun.ttf'"
   ]
  },
  {
   "cell_type": "markdown",
   "metadata": {},
   "source": [
    "### wordcloud 그리기"
   ]
  },
  {
   "cell_type": "code",
   "execution_count": 37,
   "metadata": {},
   "outputs": [],
   "source": [
    "from wordcloud import WordCloud"
   ]
  },
  {
   "cell_type": "code",
   "execution_count": 38,
   "metadata": {},
   "outputs": [],
   "source": [
    "wc = WordCloud(font_path=font_path, background_color=\"white\", width=600, height=400)"
   ]
  },
  {
   "cell_type": "code",
   "execution_count": 44,
   "metadata": {},
   "outputs": [
    {
     "data": {
      "image/png": "[encoded data removed]",
      "text/plain": [
       "<Figure size 432x288 with 1 Axes>"
      ]
     },
     "metadata": {},
     "output_type": "display_data"
    },
    {
     "data": {
      "text/plain": [
       "<wordcloud.wordcloud.WordCloud at 0x18cc7718cf8>"
      ]
     },
     "execution_count": 44,
     "metadata": {},
     "output_type": "execute_result"
    }
   ],
   "source": [
    "wc.generate_from_frequencies(dict(word_list))\n",
    "\n",
    "plt.imshow(wc) \n",
    "plt.axis('off') \n",
    "plt.show()\n",
    "\n",
    "\n",
    "wc.to_file('twitter_adj_noun_celine.png')"
   ]
  },
  {
   "cell_type": "code",
   "execution_count": 45,
   "metadata": {},
   "outputs": [
    {
     "data": {
      "text/plain": [
       "<wordcloud.wordcloud.WordCloud at 0x18cc7718cf8>"
      ]
     },
     "execution_count": 45,
     "metadata": {},
     "output_type": "execute_result"
    }
   ],
   "source": [
    "wc.generate_from_frequencies(dict(noun_list))\n",
    "wc.to_file('twitter_noun_celine.png')"
   ]
  },
  {
   "cell_type": "code",
   "execution_count": null,
   "metadata": {},
   "outputs": [],
   "source": []
  },
  {
   "cell_type": "code",
   "execution_count": null,
   "metadata": {},
   "outputs": [],
   "source": []
  },
  {
   "cell_type": "code",
   "execution_count": null,
   "metadata": {},
   "outputs": [],
   "source": []
  },
  {
   "cell_type": "code",
   "execution_count": null,
   "metadata": {},
   "outputs": [],
   "source": []
  },
  {
   "cell_type": "code",
   "execution_count": null,
   "metadata": {},
   "outputs": [],
   "source": []
  },
  {
   "cell_type": "code",
   "execution_count": null,
   "metadata": {},
   "outputs": [],
   "source": []
  },
  {
   "cell_type": "code",
   "execution_count": null,
   "metadata": {},
   "outputs": [],
   "source": []
  },
  {
   "cell_type": "code",
   "execution_count": null,
   "metadata": {},
   "outputs": [],
   "source": []
  },
  {
   "cell_type": "code",
   "execution_count": null,
   "metadata": {},
   "outputs": [],
   "source": []
  },
  {
   "cell_type": "code",
   "execution_count": null,
   "metadata": {},
   "outputs": [],
   "source": []
  },
  {
   "cell_type": "code",
   "execution_count": null,
   "metadata": {},
   "outputs": [],
   "source": []
  }
 ],
 "metadata": {
  "kernelspec": {
   "display_name": "Python 3",
   "language": "python",
   "name": "python3"
  },
  "language_info": {
   "codemirror_mode": {
    "name": "ipython",
    "version": 3
   },
   "file_extension": ".py",
   "mimetype": "text/x-python",
   "name": "python",
   "nbconvert_exporter": "python",
   "pygments_lexer": "ipython3",
   "version": "3.7.6"
  }
 },
 "nbformat": 4,
 "nbformat_minor": 2
}
