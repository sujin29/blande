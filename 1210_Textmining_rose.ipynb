{
 "cells": [
  {
   "cell_type": "code",
   "execution_count": 1,
   "metadata": {},
   "outputs": [],
   "source": [
    "import pandas as pd\n",
    "import numpy as np"
   ]
  },
  {
   "cell_type": "code",
   "execution_count": 2,
   "metadata": {},
   "outputs": [],
   "source": [
    "from collections import Counter"
   ]
  },
  {
   "cell_type": "code",
   "execution_count": 3,
   "metadata": {},
   "outputs": [],
   "source": [
    "elle_rose = pd.read_csv('./blackpink/elle_R.csv', sep='|', encoding = 'utf-8')\n",
    "cosmo_rose = pd.read_csv('./blackpink/cosmo_R.csv', sep='|', encoding = 'utf-8')\n",
    "marie_rose = pd.read_csv('./blackpink/marie_R.csv', sep='|', encoding = 'utf-8')"
   ]
  },
  {
   "cell_type": "code",
   "execution_count": null,
   "metadata": {},
   "outputs": [],
   "source": []
  },
  {
   "cell_type": "markdown",
   "metadata": {},
   "source": [
    "## 전처리"
   ]
  },
  {
   "cell_type": "markdown",
   "metadata": {},
   "source": [
    "### 기호 삭제"
   ]
  },
  {
   "cell_type": "code",
   "execution_count": 4,
   "metadata": {},
   "outputs": [],
   "source": [
    "# ce_dw['word_celine'] = ce_dw['word_celine'].str.replace('[', '').str.replace(']', '').str.replace('\\\\', '').str.replace('\"', '').str.replace(\"'\", \"\").str.replace('「', '').str.replace('」', '').str.replace('”', '').str.replace('‘', '').str.replace('“', '')"
   ]
  },
  {
   "cell_type": "markdown",
   "metadata": {},
   "source": [
    "### 디자이너나 브랜드명 replace"
   ]
  },
  {
   "cell_type": "code",
   "execution_count": null,
   "metadata": {},
   "outputs": [],
   "source": []
  },
  {
   "cell_type": "code",
   "execution_count": null,
   "metadata": {},
   "outputs": [],
   "source": []
  },
  {
   "cell_type": "code",
   "execution_count": null,
   "metadata": {},
   "outputs": [],
   "source": []
  },
  {
   "cell_type": "markdown",
   "metadata": {},
   "source": [
    "## list(article_list) 생성 후 append"
   ]
  },
  {
   "cell_type": "code",
   "execution_count": 5,
   "metadata": {},
   "outputs": [],
   "source": [
    "contents_list = []"
   ]
  },
  {
   "cell_type": "code",
   "execution_count": 6,
   "metadata": {},
   "outputs": [],
   "source": [
    "mag_rose = [elle_rose, cosmo_rose, marie_rose]"
   ]
  },
  {
   "cell_type": "code",
   "execution_count": 7,
   "metadata": {},
   "outputs": [],
   "source": [
    "magazine_list = []\n",
    "article_list = []\n",
    "for magazine in mag_rose:\n",
    "    articles = magazine['word_rose']\n",
    "    for article in articles:\n",
    "        article_list.append(article)"
   ]
  },
  {
   "cell_type": "code",
   "execution_count": 8,
   "metadata": {},
   "outputs": [
    {
     "data": {
      "text/plain": [
       "56"
      ]
     },
     "execution_count": 8,
     "metadata": {},
     "output_type": "execute_result"
    }
   ],
   "source": [
    "len(article_list)"
   ]
  },
  {
   "cell_type": "markdown",
   "metadata": {},
   "source": [
    "### 브랜드 및 디자이너 이름 대체"
   ]
  },
  {
   "cell_type": "code",
   "execution_count": null,
   "metadata": {},
   "outputs": [],
   "source": []
  },
  {
   "cell_type": "code",
   "execution_count": null,
   "metadata": {},
   "outputs": [],
   "source": []
  },
  {
   "cell_type": "code",
   "execution_count": null,
   "metadata": {},
   "outputs": [],
   "source": []
  },
  {
   "cell_type": "code",
   "execution_count": null,
   "metadata": {},
   "outputs": [],
   "source": []
  },
  {
   "cell_type": "code",
   "execution_count": null,
   "metadata": {},
   "outputs": [],
   "source": []
  },
  {
   "cell_type": "code",
   "execution_count": null,
   "metadata": {},
   "outputs": [],
   "source": []
  },
  {
   "cell_type": "markdown",
   "metadata": {},
   "source": [
    "## 트위터 패키지 안에 konlpy 모듈 호출"
   ]
  },
  {
   "cell_type": "code",
   "execution_count": 9,
   "metadata": {},
   "outputs": [],
   "source": [
    "from konlpy.tag import Twitter"
   ]
  },
  {
   "cell_type": "code",
   "execution_count": 10,
   "metadata": {},
   "outputs": [
    {
     "name": "stderr",
     "output_type": "stream",
     "text": [
      "C:\\Users\\wnsgo\\anaconda3\\lib\\site-packages\\konlpy\\tag\\_okt.py:16: UserWarning: \"Twitter\" has changed to \"Okt\" since KoNLPy v0.4.5.\n",
      "  warn('\"Twitter\" has changed to \"Okt\" since KoNLPy v0.4.5.')\n"
     ]
    }
   ],
   "source": [
    "twitter = Twitter()"
   ]
  },
  {
   "cell_type": "markdown",
   "metadata": {},
   "source": [
    "### 각 문장별로 형태소 구분하기"
   ]
  },
  {
   "cell_type": "code",
   "execution_count": 11,
   "metadata": {},
   "outputs": [
    {
     "name": "stdout",
     "output_type": "stream",
     "text": [
      "56\n"
     ]
    }
   ],
   "source": [
    "sentences_tag = []\n",
    "\n",
    "for sentence in article_list:\n",
    "    morph = twitter.pos(sentence)\n",
    "    sentences_tag.append(morph)\n",
    "    \n",
    "    \n",
    "\n",
    "print(len(sentences_tag))\n"
   ]
  },
  {
   "cell_type": "code",
   "execution_count": 12,
   "metadata": {},
   "outputs": [
    {
     "data": {
      "text/plain": [
       "[(\"['\\\\',\", 'Punctuation'),\n",
       " ('\"', 'Punctuation'),\n",
       " ('로제', 'Noun'),\n",
       " ('가', 'Josa'),\n",
       " ('‘', 'Foreign'),\n",
       " ('꾸안', 'Verb'),\n",
       " ('꾸', 'Verb'),\n",
       " (\"\\\\'\", 'Punctuation'),\n",
       " ('데', 'Noun'),\n",
       " ('일리', 'Noun'),\n",
       " ('룩', 'Noun'),\n",
       " ('으로', 'Josa'),\n",
       " ('고른', 'Verb'),\n",
       " ('슈즈', 'Noun'),\n",
       " ('는', 'Josa'),\n",
       " ('어그', 'Noun'),\n",
       " ('슬리퍼', 'Noun'),\n",
       " ('입니다', 'Adjective'),\n",
       " ('.', 'Punctuation'),\n",
       " ('발등', 'Noun'),\n",
       " ('을', 'Josa'),\n",
       " ('넓게', 'Adjective'),\n",
       " ('덮은', 'Verb'),\n",
       " ('시어', 'Noun'),\n",
       " ('링', 'Noun'),\n",
       " ('디테', 'Noun'),\n",
       " ('일이', 'Noun'),\n",
       " ('귀여운', 'Adjective'),\n",
       " ('인상', 'Noun'),\n",
       " ('을', 'Josa'),\n",
       " ('풍기는데요', 'Verb'),\n",
       " (',', 'Punctuation'),\n",
       " ('그녀', 'Noun'),\n",
       " ('는', 'Josa'),\n",
       " ('블랙', 'Noun'),\n",
       " (',', 'Punctuation'),\n",
       " ('네이비', 'Noun'),\n",
       " ('처럼', 'Josa'),\n",
       " ('톤', 'Noun'),\n",
       " ('다운', 'Noun'),\n",
       " ('된', 'Verb'),\n",
       " ('룩', 'Noun'),\n",
       " ('과', 'Josa'),\n",
       " ('매치', 'Noun'),\n",
       " ('하고', 'Josa'),\n",
       " ('슈즈', 'Noun'),\n",
       " ('의', 'Josa'),\n",
       " ('컬러', 'Noun'),\n",
       " ('와', 'Josa'),\n",
       " ('비슷한', 'Adjective'),\n",
       " ('크로스', 'Noun'),\n",
       " ('보디', 'Noun'),\n",
       " ('백', 'Noun'),\n",
       " ('을', 'Josa'),\n",
       " ('짧게', 'Adjective'),\n",
       " ('메', 'Noun'),\n",
       " ('포인트', 'Noun'),\n",
       " ('있는', 'Adjective'),\n",
       " ('아웃', 'Noun'),\n",
       " ('핏', 'Noun'),\n",
       " ('을', 'Josa'),\n",
       " ('즐겼습니다', 'Verb'),\n",
       " ('.\",', 'Punctuation'),\n",
       " (\"\\\\'']\", 'Punctuation')]"
      ]
     },
     "execution_count": 12,
     "metadata": {},
     "output_type": "execute_result"
    }
   ],
   "source": [
    "sentences_tag[0]"
   ]
  },
  {
   "cell_type": "code",
   "execution_count": 13,
   "metadata": {},
   "outputs": [
    {
     "data": {
      "text/plain": [
       "{'Adjective': '형용사',\n",
       " 'Adverb': '부사',\n",
       " 'Alpha': '알파벳',\n",
       " 'Conjunction': '접속사',\n",
       " 'Determiner': '관형사',\n",
       " 'Eomi': '어미',\n",
       " 'Exclamation': '감탄사',\n",
       " 'Foreign': '외국어, 한자 및 기타기호',\n",
       " 'Hashtag': '트위터 해쉬태그',\n",
       " 'Josa': '조사',\n",
       " 'KoreanParticle': '(ex: ㅋㅋ)',\n",
       " 'Noun': '명사',\n",
       " 'Number': '숫자',\n",
       " 'PreEomi': '선어말어미',\n",
       " 'Punctuation': '구두점',\n",
       " 'ScreenName': '트위터 아이디',\n",
       " 'Suffix': '접미사',\n",
       " 'Unknown': '미등록어',\n",
       " 'Verb': '동사'}"
      ]
     },
     "execution_count": 13,
     "metadata": {},
     "output_type": "execute_result"
    }
   ],
   "source": [
    "twitter.tagset"
   ]
  },
  {
   "cell_type": "code",
   "execution_count": 14,
   "metadata": {},
   "outputs": [],
   "source": [
    "verb_list = []\n",
    "for sentence1 in sentences_tag:\n",
    "    for word, tag in sentence1:\n",
    "        if tag in ['Verb']:\n",
    "            verb_list.append(word)"
   ]
  },
  {
   "cell_type": "code",
   "execution_count": 15,
   "metadata": {},
   "outputs": [
    {
     "data": {
      "text/plain": [
       "['꾸안',\n",
       " '꾸',\n",
       " '고른',\n",
       " '덮은',\n",
       " '풍기는데요',\n",
       " '된',\n",
       " '즐겼습니다',\n",
       " '배우는',\n",
       " '쓰는',\n",
       " '넘겨',\n",
       " '온전히',\n",
       " '드러내기',\n",
       " '덮어',\n",
       " '쓰면',\n",
       " '감춰',\n",
       " '보일',\n",
       " '빠진',\n",
       " '묶어',\n",
       " '빼내',\n",
       " '주는']"
      ]
     },
     "execution_count": 15,
     "metadata": {},
     "output_type": "execute_result"
    }
   ],
   "source": [
    "verb_list[:20]"
   ]
  },
  {
   "cell_type": "markdown",
   "metadata": {},
   "source": [
    "### 1. 명사, 형용사, 관형사, 알파벳, 외국어 품사만 선별해 리스트에 담기"
   ]
  },
  {
   "cell_type": "code",
   "execution_count": 16,
   "metadata": {},
   "outputs": [],
   "source": [
    "noun_adj_list= []\n",
    "for sentence1 in sentences_tag:\n",
    "    for word, tag in sentence1:\n",
    "        if tag in ['Noun', 'Adjective', 'Alpha', 'Determiner', 'Foreign']:\n",
    "            noun_adj_list.append(word)"
   ]
  },
  {
   "cell_type": "code",
   "execution_count": 17,
   "metadata": {},
   "outputs": [
    {
     "data": {
      "text/plain": [
       "5381"
      ]
     },
     "execution_count": 17,
     "metadata": {},
     "output_type": "execute_result"
    }
   ],
   "source": [
    "len(noun_adj_list)"
   ]
  },
  {
   "cell_type": "code",
   "execution_count": 18,
   "metadata": {},
   "outputs": [
    {
     "data": {
      "text/plain": [
       "['로제',\n",
       " '‘',\n",
       " '데',\n",
       " '일리',\n",
       " '룩',\n",
       " '슈즈',\n",
       " '어그',\n",
       " '슬리퍼',\n",
       " '입니다',\n",
       " '발등',\n",
       " '넓게',\n",
       " '시어',\n",
       " '링',\n",
       " '디테',\n",
       " '일이',\n",
       " '귀여운',\n",
       " '인상',\n",
       " '그녀',\n",
       " '블랙',\n",
       " '네이비']"
      ]
     },
     "execution_count": 18,
     "metadata": {},
     "output_type": "execute_result"
    }
   ],
   "source": [
    "noun_adj_list[:20]"
   ]
  },
  {
   "cell_type": "code",
   "execution_count": 19,
   "metadata": {},
   "outputs": [
    {
     "data": {
      "text/plain": [
       "['로제', '‘', '데', '일리', '룩', '슈즈', '어그', '슬리퍼', '입니다', '발등']"
      ]
     },
     "execution_count": 19,
     "metadata": {},
     "output_type": "execute_result"
    }
   ],
   "source": [
    "noun_adj_list[:10]"
   ]
  },
  {
   "cell_type": "markdown",
   "metadata": {},
   "source": [
    "### 선별된 품사별 빈도수 계산 & 상위 빈도 10위까지 출력"
   ]
  },
  {
   "cell_type": "code",
   "execution_count": 20,
   "metadata": {
    "scrolled": true
   },
   "outputs": [
    {
     "name": "stdout",
     "output_type": "stream",
     "text": [
      "[('로제', 95), ('‘', 83), ('것', 77), ('블랙', 76), ('핑크', 60), ('수', 49), ('리사', 40), ('제니', 39), ('때', 39), ('생각', 36), ('지수', 34), ('모습', 32), ('그', 31), ('있는', 29), ('더', 25), ('전', 25), ('걸', 25), ('사람', 25), ('제', 23), ('같아요', 23), ('스타일', 22), ('위', 22), ('로', 21), ('음악', 21), ('헤어', 20), ('같은', 20), ('톱', 20), ('말', 20), ('무대', 20), ('그녀', 19), ('있어요', 19), ('어떤', 19), ('게', 19), ('가장', 19), ('이', 18), ('“', 18), ('”', 18), ('컬러', 17), ('모두', 17), ('커버', 17), ('자신', 16), ('룩', 15), ('멤버', 15), ('정말', 15), ('데뷔', 15), ('저희', 15), ('요', 15), ('엘르', 14), ('〉', 14), ('팬', 14), ('〈', 13), ('저', 13), ('시간', 13), ('매치', 12), ('의', 12), ('요즘', 12), ('마음', 12), ('부츠', 12), ('스커트', 12), ('영상', 11), ('다른', 11), ('곡', 11), ('레더', 11), ('있을', 10), ('거', 10), ('듯', 10), ('중', 10), ('생', 10), ('뮤직비디오', 10), ('차트', 10), ('칭찬', 10), ('좋은', 10), ('건', 10), ('스스로', 10), ('시작', 10), ('해', 10), ('연습', 10), ('항상', 10), ('사진', 10), ('있다', 10), ('「', 10), ('」', 10), ('각자', 10), ('스타', 10), ('언니', 10), ('패턴', 10), ('라인', 9), ('분위기', 9), ('로랑', 9), ('등', 9), ('화보', 9), ('오늘', 9), ('촬영', 9), ('K', 9), ('노래', 9), ('사랑', 9), ('안', 9), ('사실', 9), ('장식', 9), ('드레스', 9), ('좀', 9), ('포인트', 8), ('얼굴', 8), ('기억', 8), ('준비', 8), ('컴백', 8), ('지금', 8), ('한국', 8), ('제의', 8), ('인터뷰', 8), ('매력', 8), ('세계', 8), ('웃음', 8), ('때문', 8), ('재킷', 8), ('하하', 8), ('일이', 7), ('여기', 7), ('도전', 7), ('모델', 7), ('베스트', 7), ('하나', 7), ('Saint', 7), ('Laurent', 7), ('이번', 7), ('기분', 7), ('처음', 7), ('가수', 7), ('좋아하는', 7), ('얼마', 7), ('그룹', 7), ('힘', 7), ('인스타그램', 7), ('공연', 7), ('선물', 7), ('내', 7), ('많은', 7), ('아티스트', 7), ('좋겠어요', 7), ('가지', 7), ('n', 7), ('속', 7), ('클래식', 7), ('데님', 7), ('팬츠', 7), ('이제', 7), ('운동', 7), ('뒤', 6), ('두', 6), ('뷰티', 6), ('시도', 6), ('연출', 6), ('부분', 6), ('첫', 6), ('네', 6), ('뷰', 6), ('표현', 6), ('이런', 6), ('있다는', 6), ('평소', 6), ('로서', 6), ('팝', 6), ('또', 6), ('앞', 6), ('연습생', 6), ('은', 6), ('개', 6), ('모든', 6), ('향', 6), ('나', 6), ('당신', 6), ('노력', 6), ('음식', 6), ('꿈', 6), ('블루', 6), ('새로운', 6), ('통해', 6), ('별', 6), ('카디건', 6), ('by', 6), ('Anthony', 6), ('Vaccarello', 6), ('편이', 6), ('YG', 6), ('데', 5), ('입니다', 5), ('백', 5), ('옆', 5), ('색', 5), ('완성', 5), ('리스트', 5), ('얼', 5), ('메이크업', 5), ('여러', 5), ('점', 5), ('니트', 5), ('안토니', 5), ('주인공', 5), ('순간', 5), ('the', 5)]\n"
     ]
    }
   ],
   "source": [
    "word = Counter(noun_adj_list)\n",
    "print(word.most_common(200))"
   ]
  },
  {
   "cell_type": "code",
   "execution_count": 21,
   "metadata": {},
   "outputs": [],
   "source": [
    "# # 한 글자인 단어는 제외\n",
    "\n",
    "# for i, v in enumerate(noun_adj_list):\n",
    "#     if len(v)<2:\n",
    "#         noun_adj_list.pop(i)"
   ]
  },
  {
   "cell_type": "code",
   "execution_count": 22,
   "metadata": {},
   "outputs": [],
   "source": [
    "count = Counter(noun_adj_list)"
   ]
  },
  {
   "cell_type": "code",
   "execution_count": 23,
   "metadata": {},
   "outputs": [
    {
     "name": "stdout",
     "output_type": "stream",
     "text": [
      "('로제', 95)\n",
      "('‘', 83)\n",
      "('것', 77)\n",
      "('블랙', 76)\n",
      "('핑크', 60)\n",
      "('수', 49)\n",
      "('리사', 40)\n",
      "('제니', 39)\n",
      "('때', 39)\n",
      "('생각', 36)\n",
      "('지수', 34)\n",
      "('모습', 32)\n",
      "('그', 31)\n",
      "('있는', 29)\n",
      "('더', 25)\n",
      "('전', 25)\n",
      "('걸', 25)\n",
      "('사람', 25)\n",
      "('제', 23)\n",
      "('같아요', 23)\n",
      "('스타일', 22)\n",
      "('위', 22)\n",
      "('로', 21)\n",
      "('음악', 21)\n",
      "('헤어', 20)\n",
      "('같은', 20)\n",
      "('톱', 20)\n",
      "('말', 20)\n",
      "('무대', 20)\n",
      "('그녀', 19)\n",
      "('있어요', 19)\n",
      "('어떤', 19)\n",
      "('게', 19)\n",
      "('가장', 19)\n",
      "('이', 18)\n",
      "('“', 18)\n",
      "('”', 18)\n",
      "('컬러', 17)\n",
      "('모두', 17)\n",
      "('커버', 17)\n",
      "('자신', 16)\n",
      "('룩', 15)\n",
      "('멤버', 15)\n",
      "('정말', 15)\n",
      "('데뷔', 15)\n",
      "('저희', 15)\n",
      "('요', 15)\n",
      "('엘르', 14)\n",
      "('〉', 14)\n",
      "('팬', 14)\n",
      "('〈', 13)\n",
      "('저', 13)\n",
      "('시간', 13)\n",
      "('매치', 12)\n",
      "('의', 12)\n",
      "('요즘', 12)\n",
      "('마음', 12)\n",
      "('부츠', 12)\n",
      "('스커트', 12)\n",
      "('영상', 11)\n",
      "('다른', 11)\n",
      "('곡', 11)\n",
      "('레더', 11)\n",
      "('있을', 10)\n",
      "('거', 10)\n",
      "('듯', 10)\n",
      "('중', 10)\n",
      "('생', 10)\n",
      "('뮤직비디오', 10)\n",
      "('차트', 10)\n",
      "('칭찬', 10)\n",
      "('좋은', 10)\n",
      "('건', 10)\n",
      "('스스로', 10)\n",
      "('시작', 10)\n",
      "('해', 10)\n",
      "('연습', 10)\n",
      "('항상', 10)\n",
      "('사진', 10)\n",
      "('있다', 10)\n",
      "('「', 10)\n",
      "('」', 10)\n",
      "('각자', 10)\n",
      "('스타', 10)\n",
      "('언니', 10)\n",
      "('패턴', 10)\n",
      "('라인', 9)\n",
      "('분위기', 9)\n",
      "('로랑', 9)\n",
      "('등', 9)\n",
      "('화보', 9)\n",
      "('오늘', 9)\n",
      "('촬영', 9)\n",
      "('K', 9)\n",
      "('노래', 9)\n",
      "('사랑', 9)\n",
      "('안', 9)\n",
      "('사실', 9)\n",
      "('장식', 9)\n",
      "('드레스', 9)\n",
      "('좀', 9)\n",
      "('포인트', 8)\n",
      "('얼굴', 8)\n",
      "('기억', 8)\n",
      "('준비', 8)\n",
      "('컴백', 8)\n",
      "('지금', 8)\n",
      "('한국', 8)\n",
      "('제의', 8)\n",
      "('인터뷰', 8)\n",
      "('매력', 8)\n",
      "('세계', 8)\n",
      "('웃음', 8)\n",
      "('때문', 8)\n",
      "('재킷', 8)\n",
      "('하하', 8)\n",
      "('일이', 7)\n",
      "('여기', 7)\n",
      "('도전', 7)\n",
      "('모델', 7)\n",
      "('베스트', 7)\n",
      "('하나', 7)\n",
      "('Saint', 7)\n",
      "('Laurent', 7)\n",
      "('이번', 7)\n",
      "('기분', 7)\n",
      "('처음', 7)\n",
      "('가수', 7)\n",
      "('좋아하는', 7)\n",
      "('얼마', 7)\n",
      "('그룹', 7)\n",
      "('힘', 7)\n",
      "('인스타그램', 7)\n",
      "('공연', 7)\n",
      "('선물', 7)\n",
      "('내', 7)\n",
      "('많은', 7)\n",
      "('아티스트', 7)\n",
      "('좋겠어요', 7)\n",
      "('가지', 7)\n",
      "('n', 7)\n",
      "('속', 7)\n",
      "('클래식', 7)\n",
      "('데님', 7)\n",
      "('팬츠', 7)\n",
      "('이제', 7)\n",
      "('운동', 7)\n",
      "('뒤', 6)\n",
      "('두', 6)\n",
      "('뷰티', 6)\n",
      "('시도', 6)\n",
      "('연출', 6)\n",
      "('부분', 6)\n",
      "('첫', 6)\n",
      "('네', 6)\n",
      "('뷰', 6)\n",
      "('표현', 6)\n",
      "('이런', 6)\n",
      "('있다는', 6)\n",
      "('평소', 6)\n",
      "('로서', 6)\n",
      "('팝', 6)\n",
      "('또', 6)\n",
      "('앞', 6)\n",
      "('연습생', 6)\n",
      "('은', 6)\n",
      "('개', 6)\n",
      "('모든', 6)\n",
      "('향', 6)\n",
      "('나', 6)\n",
      "('당신', 6)\n",
      "('노력', 6)\n",
      "('음식', 6)\n",
      "('꿈', 6)\n",
      "('블루', 6)\n",
      "('새로운', 6)\n",
      "('통해', 6)\n",
      "('별', 6)\n",
      "('카디건', 6)\n",
      "('by', 6)\n",
      "('Anthony', 6)\n",
      "('Vaccarello', 6)\n",
      "('편이', 6)\n",
      "('YG', 6)\n",
      "('데', 5)\n",
      "('입니다', 5)\n",
      "('백', 5)\n",
      "('옆', 5)\n",
      "('색', 5)\n",
      "('완성', 5)\n",
      "('리스트', 5)\n",
      "('얼', 5)\n",
      "('메이크업', 5)\n",
      "('여러', 5)\n",
      "('점', 5)\n",
      "('니트', 5)\n",
      "('안토니', 5)\n",
      "('주인공', 5)\n",
      "('순간', 5)\n",
      "('the', 5)\n"
     ]
    }
   ],
   "source": [
    "word_list = count.most_common(200)\n",
    "for v in word_list:\n",
    "    print(v)"
   ]
  },
  {
   "cell_type": "markdown",
   "metadata": {},
   "source": [
    "## 워드클라우드 만들기"
   ]
  },
  {
   "cell_type": "code",
   "execution_count": 24,
   "metadata": {},
   "outputs": [],
   "source": [
    "\n",
    "import matplotlib.pyplot as plt"
   ]
  },
  {
   "cell_type": "markdown",
   "metadata": {},
   "source": [
    "### 패키지 설치 및 폰트 어쩌구"
   ]
  },
  {
   "cell_type": "code",
   "execution_count": 25,
   "metadata": {},
   "outputs": [
    {
     "name": "stdout",
     "output_type": "stream",
     "text": [
      "Malgun Gothic C:\\WINDOWS\\Fonts\\malgun.ttf\n",
      "Yu Gothic C:\\WINDOWS\\Fonts\\YuGothB.ttc\n",
      "HYGothic-Extra C:\\WINDOWS\\Fonts\\H2GTRE.TTF\n",
      "Franklin Gothic Medium C:\\WINDOWS\\Fonts\\framdit.ttf\n",
      "Malgun Gothic C:\\Windows\\Fonts\\malgunbd.ttf\n",
      "Yu Gothic C:\\Windows\\Fonts\\YuGothL.ttc\n",
      "Century Gothic C:\\Windows\\Fonts\\GOTHIC.TTF\n",
      "Yu Gothic C:\\Windows\\Fonts\\YuGothM.ttc\n",
      "Yu Gothic C:\\WINDOWS\\Fonts\\YuGothR.ttc\n",
      "MS Gothic C:\\WINDOWS\\Fonts\\msgothic.ttc\n",
      "HYGothic-Medium C:\\WINDOWS\\Fonts\\H2GTRM.TTF\n",
      "Malgun Gothic C:\\WINDOWS\\Fonts\\malgunsl.ttf\n",
      "Century Gothic C:\\Windows\\Fonts\\GOTHICI.TTF\n",
      "Century Gothic C:\\WINDOWS\\Fonts\\GOTHICBI.TTF\n",
      "Century Gothic C:\\Windows\\Fonts\\GOTHICB.TTF\n",
      "Franklin Gothic Medium C:\\WINDOWS\\Fonts\\framd.ttf\n"
     ]
    }
   ],
   "source": [
    "import matplotlib.font_manager as fm\n",
    "\n",
    "# 이용 가능한 폰트 중 '고딕'만 선별\n",
    "for font in fm.fontManager.ttflist:\n",
    "    if 'Gothic' in font.name:\n",
    "        print(font.name, font.fname)"
   ]
  },
  {
   "cell_type": "code",
   "execution_count": 26,
   "metadata": {},
   "outputs": [],
   "source": [
    "font_path = 'C:\\WINDOWS\\Fonts\\malgun.ttf'"
   ]
  },
  {
   "cell_type": "markdown",
   "metadata": {},
   "source": [
    "### wordcloud 그리기"
   ]
  },
  {
   "cell_type": "code",
   "execution_count": 27,
   "metadata": {},
   "outputs": [],
   "source": [
    "from wordcloud import WordCloud"
   ]
  },
  {
   "cell_type": "code",
   "execution_count": 28,
   "metadata": {},
   "outputs": [],
   "source": [
    "wc = WordCloud(font_path=font_path, background_color=\"white\", width=600, height=400)"
   ]
  },
  {
   "cell_type": "code",
   "execution_count": 30,
   "metadata": {},
   "outputs": [
    {
     "data": {
      "image/png": "[encoded data removed]",
      "text/plain": [
       "<Figure size 432x288 with 1 Axes>"
      ]
     },
     "metadata": {
      "needs_background": "light"
     },
     "output_type": "display_data"
    },
    {
     "data": {
      "text/plain": [
       "<wordcloud.wordcloud.WordCloud at 0x2c7705d6408>"
      ]
     },
     "execution_count": 30,
     "metadata": {},
     "output_type": "execute_result"
    }
   ],
   "source": [
    "wc.generate_from_frequencies(dict(word_list))\n",
    "\n",
    "plt.imshow(wc) \n",
    "plt.axis('off') \n",
    "plt.show()\n",
    "\n",
    "\n",
    "wc.to_file('rose_adj_twitter.png')"
   ]
  },
  {
   "cell_type": "code",
   "execution_count": null,
   "metadata": {},
   "outputs": [],
   "source": []
  },
  {
   "cell_type": "code",
   "execution_count": null,
   "metadata": {},
   "outputs": [],
   "source": []
  },
  {
   "cell_type": "code",
   "execution_count": null,
   "metadata": {},
   "outputs": [],
   "source": []
  },
  {
   "cell_type": "code",
   "execution_count": null,
   "metadata": {},
   "outputs": [],
   "source": []
  },
  {
   "cell_type": "code",
   "execution_count": null,
   "metadata": {},
   "outputs": [],
   "source": []
  },
  {
   "cell_type": "code",
   "execution_count": null,
   "metadata": {},
   "outputs": [],
   "source": []
  },
  {
   "cell_type": "code",
   "execution_count": null,
   "metadata": {},
   "outputs": [],
   "source": []
  },
  {
   "cell_type": "code",
   "execution_count": null,
   "metadata": {},
   "outputs": [],
   "source": []
  },
  {
   "cell_type": "code",
   "execution_count": null,
   "metadata": {},
   "outputs": [],
   "source": []
  },
  {
   "cell_type": "code",
   "execution_count": null,
   "metadata": {},
   "outputs": [],
   "source": []
  },
  {
   "cell_type": "code",
   "execution_count": null,
   "metadata": {},
   "outputs": [],
   "source": []
  }
 ],
 "metadata": {
  "kernelspec": {
   "display_name": "Python 3",
   "language": "python",
   "name": "python3"
  },
  "language_info": {
   "codemirror_mode": {
    "name": "ipython",
    "version": 3
   },
   "file_extension": ".py",
   "mimetype": "text/x-python",
   "name": "python",
   "nbconvert_exporter": "python",
   "pygments_lexer": "ipython3",
   "version": "3.7.6"
  }
 },
 "nbformat": 4,
 "nbformat_minor": 2
}
