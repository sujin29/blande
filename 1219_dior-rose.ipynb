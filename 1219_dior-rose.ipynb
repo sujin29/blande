{
 "cells": [
  {
   "cell_type": "code",
   "execution_count": 191,
   "metadata": {},
   "outputs": [],
   "source": [
    "import pandas as pd\n",
    "import numpy as np\n",
    "import re\n",
    "import networkx as nx\n",
    "import matplotlib.pyplot as plt"
   ]
  },
  {
   "cell_type": "code",
   "execution_count": 192,
   "metadata": {},
   "outputs": [],
   "source": [
    "from collections import Counter"
   ]
  },
  {
   "cell_type": "markdown",
   "metadata": {},
   "source": [
    "## 디올"
   ]
  },
  {
   "cell_type": "code",
   "execution_count": 193,
   "metadata": {},
   "outputs": [],
   "source": [
    "mag_d = pd.read_csv('./magazine/final/magazine_d_stickword.csv', sep ='|', encoding = 'utf-8')"
   ]
  },
  {
   "cell_type": "code",
   "execution_count": 194,
   "metadata": {},
   "outputs": [
    {
     "data": {
      "text/html": [
       "<div>\n",
       "<style scoped>\n",
       "    .dataframe tbody tr th:only-of-type {\n",
       "        vertical-align: middle;\n",
       "    }\n",
       "\n",
       "    .dataframe tbody tr th {\n",
       "        vertical-align: top;\n",
       "    }\n",
       "\n",
       "    .dataframe thead th {\n",
       "        text-align: right;\n",
       "    }\n",
       "</style>\n",
       "<table border=\"1\" class=\"dataframe\">\n",
       "  <thead>\n",
       "    <tr style=\"text-align: right;\">\n",
       "      <th></th>\n",
       "      <th>magazine</th>\n",
       "      <th>brand</th>\n",
       "      <th>title</th>\n",
       "      <th>link</th>\n",
       "      <th>date</th>\n",
       "      <th>word_dior</th>\n",
       "      <th>ADFN</th>\n",
       "      <th>ADFN_2</th>\n",
       "    </tr>\n",
       "  </thead>\n",
       "  <tbody>\n",
       "    <tr>\n",
       "      <th>0</th>\n",
       "      <td>A</td>\n",
       "      <td>D</td>\n",
       "      <td>빈티지 쇼핑의 시대</td>\n",
       "      <td>http://www.allurekorea.com/2020/10/27/%eb%b9%8...</td>\n",
       "      <td>2020-10-27</td>\n",
       "      <td>['그러니 빈티지 패션은, 어쩌면 나도 좋고 너도 좋은 일이다. 당시 사랑했던, 지...</td>\n",
       "      <td>['빈티지', '패션', '좋', '느', '좋', '당시', '사랑', '사랑',...</td>\n",
       "      <td>['빈티지', '패션', '좋', '느', '좋', '당시', '사랑', '사랑',...</td>\n",
       "    </tr>\n",
       "    <tr>\n",
       "      <th>1</th>\n",
       "      <td>A</td>\n",
       "      <td>D</td>\n",
       "      <td>주식을 시작한 패션 에디터의 이야기, 나는 주주다</td>\n",
       "      <td>http://www.allurekorea.com/2020/10/16/%ec%a3%b...</td>\n",
       "      <td>2020-10-16</td>\n",
       "      <td>['  요즘 들어 주식은 친구들과의 대화에서 빼놓을 수 없는 주제가 되었다. 코로나...</td>\n",
       "      <td>['요즘', '주식', '친구', '과의', '대화', '빼놓', '주제', '코로...</td>\n",
       "      <td>['요즘', '주식', '친구', '과의', '대화', '빼놓', '주제', '코로...</td>\n",
       "    </tr>\n",
       "    <tr>\n",
       "      <th>2</th>\n",
       "      <td>A</td>\n",
       "      <td>D</td>\n",
       "      <td>거리로 나온 하이패션 슈즈들 4</td>\n",
       "      <td>http://www.allurekorea.com/2020/09/16/%eb%a6%a...</td>\n",
       "      <td>2020-09-16</td>\n",
       "      <td>[\"['나이키의 조던 시리즈들 중에서도 역대급으로 평가받는 ‘에어 디올’은 부르는 ...</td>\n",
       "      <td>['나이', '조', '덜', '시리즈', '역대', '급', '평가', '에어',...</td>\n",
       "      <td>['나이', '조', '덜', '시리즈', '역대', '급', '평가', '에어',...</td>\n",
       "    </tr>\n",
       "    <tr>\n",
       "      <th>3</th>\n",
       "      <td>A</td>\n",
       "      <td>D</td>\n",
       "      <td>차정원부터 아이린까지. 옷 잘입는 셀럽들의 사복 패션에 등장한 뉴 백은 무엇?</td>\n",
       "      <td>http://www.allurekorea.com/2020/08/13/%ec%b0%a...</td>\n",
       "      <td>2020-08-13</td>\n",
       "      <td>['디올 레이디 디올 디올아무르 미니백 5백만원대']</td>\n",
       "      <td>['DIOR', 'LADY', 'DIOR', 'DIOR', '아무르', '미니']</td>\n",
       "      <td>['DIOR', 'LADY', 'DIOR', 'DIOR', '아무르', '미니']</td>\n",
       "    </tr>\n",
       "    <tr>\n",
       "      <th>4</th>\n",
       "      <td>A</td>\n",
       "      <td>D</td>\n",
       "      <td>DON’T CATEGORIZE ME / 유태오</td>\n",
       "      <td>http://www.allurekorea.com/2020/05/28/dont-cat...</td>\n",
       "      <td>2020-05-28</td>\n",
       "      <td>['실크 슬리브리스와 블랙 와이드 팬츠는 김서룡 옴므. 블랙 부츠는 보테가 베네타....</td>\n",
       "      <td>['실크', '슬리브리스', '블랙', '와이드', '팬츠', '김', '룡', '...</td>\n",
       "      <td>['실크', '슬리브리스', '블랙', '와이드', '팬츠', '김', '룡', '...</td>\n",
       "    </tr>\n",
       "    <tr>\n",
       "      <th>...</th>\n",
       "      <td>...</td>\n",
       "      <td>...</td>\n",
       "      <td>...</td>\n",
       "      <td>...</td>\n",
       "      <td>...</td>\n",
       "      <td>...</td>\n",
       "      <td>...</td>\n",
       "      <td>...</td>\n",
       "    </tr>\n",
       "    <tr>\n",
       "      <th>1754</th>\n",
       "      <td>W</td>\n",
       "      <td>D</td>\n",
       "      <td>가을의 하이킹</td>\n",
       "      <td>http://www.wkorea.com/2016/09/05/%ea%b0%80%ec%...</td>\n",
       "      <td>2016-09-05</td>\n",
       "      <td>['6. 주얼 장식과 앙증맞은 리본이 반전의 매력을 더하는 부츠는 디올 제품. 1백...</td>\n",
       "      <td>['얼', '장식', '앙증맞', '리본', '반전', '매력', '부츠', 'DI...</td>\n",
       "      <td>['얼', '장식', '앙증맞', '리본', '반전', '매력', '부츠', 'DI...</td>\n",
       "    </tr>\n",
       "    <tr>\n",
       "      <th>1755</th>\n",
       "      <td>W</td>\n",
       "      <td>D</td>\n",
       "      <td>W해시태그</td>\n",
       "      <td>http://www.wkorea.com/2016/09/02/w%ed%95%b4%ec...</td>\n",
       "      <td>2016-09-02</td>\n",
       "      <td>['#W뷰티콕  (뷰티 디렉터 송시은)\\\\n조회 2,023회\\\\n너무나 뜨거운 여름...</td>\n",
       "      <td>['W', '뷰티', '콕', '뷰티', '디렉터', '송', '시은', '조회',...</td>\n",
       "      <td>['W', '뷰티', '콕', '뷰티', '디렉터', '송', '시은', '조회',...</td>\n",
       "    </tr>\n",
       "    <tr>\n",
       "      <th>1756</th>\n",
       "      <td>W</td>\n",
       "      <td>D</td>\n",
       "      <td>마법의 색</td>\n",
       "      <td>http://www.wkorea.com/2016/09/02/%eb%a7%88%eb%...</td>\n",
       "      <td>2016-09-02</td>\n",
       "      <td>[\"'크리스찬 디올에게 초록은 곧 ‘자연’을, 빨강은 ‘생명’을, 분홍은 ‘감미로움...</td>\n",
       "      <td>['CHRISTIAN', 'DIOR', '초록', '자연', '빨강', '생명', ...</td>\n",
       "      <td>['CHRISTIAN', 'DIOR', '초록', '자연', '빨강', '생명', ...</td>\n",
       "    </tr>\n",
       "    <tr>\n",
       "      <th>1757</th>\n",
       "      <td>W</td>\n",
       "      <td>D</td>\n",
       "      <td>따로 또 같이</td>\n",
       "      <td>http://www.wkorea.com/2016/09/02/%eb%94%b0%eb%...</td>\n",
       "      <td>2016-09-02</td>\n",
       "      <td>['자수 장식 슈트, 실크 셔츠에 리본 타이를 연출한 구찌, 남성다운 검정 테일러드...</td>\n",
       "      <td>['자수', '장식', '슈트', '실크', '셔츠', '리본', '타이', '남성...</td>\n",
       "      <td>['자수', '장식', '슈트', '실크', '셔츠', '리본', '타이', '남성...</td>\n",
       "    </tr>\n",
       "    <tr>\n",
       "      <th>1758</th>\n",
       "      <td>W</td>\n",
       "      <td>D</td>\n",
       "      <td>너도 나도 베트멍</td>\n",
       "      <td>http://www.wkorea.com/2016/09/01/%eb%84%88%eb%...</td>\n",
       "      <td>2016-09-01</td>\n",
       "      <td>['리하나\\\\n나이 만28세\\\\n직업 가수, 디자이너, 패셔니스타, 배드 걸\\\\n평...</td>\n",
       "      <td>['나이', '직업', '가수', '디자이너', '패', '니스', '배드', '걸...</td>\n",
       "      <td>['나이', '직업', '가수', '디자이너', '패', '니스', '배드', '걸...</td>\n",
       "    </tr>\n",
       "  </tbody>\n",
       "</table>\n",
       "<p>1759 rows × 8 columns</p>\n",
       "</div>"
      ],
      "text/plain": [
       "     magazine brand                                        title  \\\n",
       "0           A     D                                   빈티지 쇼핑의 시대   \n",
       "1           A     D                  주식을 시작한 패션 에디터의 이야기, 나는 주주다   \n",
       "2           A     D                            거리로 나온 하이패션 슈즈들 4   \n",
       "3           A     D  차정원부터 아이린까지. 옷 잘입는 셀럽들의 사복 패션에 등장한 뉴 백은 무엇?   \n",
       "4           A     D                    DON’T CATEGORIZE ME / 유태오   \n",
       "...       ...   ...                                          ...   \n",
       "1754        W     D                                      가을의 하이킹   \n",
       "1755        W     D                                        W해시태그   \n",
       "1756        W     D                                        마법의 색   \n",
       "1757        W     D                                      따로 또 같이   \n",
       "1758        W     D                                    너도 나도 베트멍   \n",
       "\n",
       "                                                   link        date  \\\n",
       "0     http://www.allurekorea.com/2020/10/27/%eb%b9%8...  2020-10-27   \n",
       "1     http://www.allurekorea.com/2020/10/16/%ec%a3%b...  2020-10-16   \n",
       "2     http://www.allurekorea.com/2020/09/16/%eb%a6%a...  2020-09-16   \n",
       "3     http://www.allurekorea.com/2020/08/13/%ec%b0%a...  2020-08-13   \n",
       "4     http://www.allurekorea.com/2020/05/28/dont-cat...  2020-05-28   \n",
       "...                                                 ...         ...   \n",
       "1754  http://www.wkorea.com/2016/09/05/%ea%b0%80%ec%...  2016-09-05   \n",
       "1755  http://www.wkorea.com/2016/09/02/w%ed%95%b4%ec...  2016-09-02   \n",
       "1756  http://www.wkorea.com/2016/09/02/%eb%a7%88%eb%...  2016-09-02   \n",
       "1757  http://www.wkorea.com/2016/09/02/%eb%94%b0%eb%...  2016-09-02   \n",
       "1758  http://www.wkorea.com/2016/09/01/%eb%84%88%eb%...  2016-09-01   \n",
       "\n",
       "                                              word_dior  \\\n",
       "0     ['그러니 빈티지 패션은, 어쩌면 나도 좋고 너도 좋은 일이다. 당시 사랑했던, 지...   \n",
       "1     ['  요즘 들어 주식은 친구들과의 대화에서 빼놓을 수 없는 주제가 되었다. 코로나...   \n",
       "2     [\"['나이키의 조던 시리즈들 중에서도 역대급으로 평가받는 ‘에어 디올’은 부르는 ...   \n",
       "3                         ['디올 레이디 디올 디올아무르 미니백 5백만원대']   \n",
       "4     ['실크 슬리브리스와 블랙 와이드 팬츠는 김서룡 옴므. 블랙 부츠는 보테가 베네타....   \n",
       "...                                                 ...   \n",
       "1754  ['6. 주얼 장식과 앙증맞은 리본이 반전의 매력을 더하는 부츠는 디올 제품. 1백...   \n",
       "1755  ['#W뷰티콕  (뷰티 디렉터 송시은)\\\\n조회 2,023회\\\\n너무나 뜨거운 여름...   \n",
       "1756  [\"'크리스찬 디올에게 초록은 곧 ‘자연’을, 빨강은 ‘생명’을, 분홍은 ‘감미로움...   \n",
       "1757  ['자수 장식 슈트, 실크 셔츠에 리본 타이를 연출한 구찌, 남성다운 검정 테일러드...   \n",
       "1758  ['리하나\\\\n나이 만28세\\\\n직업 가수, 디자이너, 패셔니스타, 배드 걸\\\\n평...   \n",
       "\n",
       "                                                   ADFN  \\\n",
       "0     ['빈티지', '패션', '좋', '느', '좋', '당시', '사랑', '사랑',...   \n",
       "1     ['요즘', '주식', '친구', '과의', '대화', '빼놓', '주제', '코로...   \n",
       "2     ['나이', '조', '덜', '시리즈', '역대', '급', '평가', '에어',...   \n",
       "3         ['DIOR', 'LADY', 'DIOR', 'DIOR', '아무르', '미니']   \n",
       "4     ['실크', '슬리브리스', '블랙', '와이드', '팬츠', '김', '룡', '...   \n",
       "...                                                 ...   \n",
       "1754  ['얼', '장식', '앙증맞', '리본', '반전', '매력', '부츠', 'DI...   \n",
       "1755  ['W', '뷰티', '콕', '뷰티', '디렉터', '송', '시은', '조회',...   \n",
       "1756  ['CHRISTIAN', 'DIOR', '초록', '자연', '빨강', '생명', ...   \n",
       "1757  ['자수', '장식', '슈트', '실크', '셔츠', '리본', '타이', '남성...   \n",
       "1758  ['나이', '직업', '가수', '디자이너', '패', '니스', '배드', '걸...   \n",
       "\n",
       "                                                 ADFN_2  \n",
       "0     ['빈티지', '패션', '좋', '느', '좋', '당시', '사랑', '사랑',...  \n",
       "1     ['요즘', '주식', '친구', '과의', '대화', '빼놓', '주제', '코로...  \n",
       "2     ['나이', '조', '덜', '시리즈', '역대', '급', '평가', '에어',...  \n",
       "3         ['DIOR', 'LADY', 'DIOR', 'DIOR', '아무르', '미니']  \n",
       "4     ['실크', '슬리브리스', '블랙', '와이드', '팬츠', '김', '룡', '...  \n",
       "...                                                 ...  \n",
       "1754  ['얼', '장식', '앙증맞', '리본', '반전', '매력', '부츠', 'DI...  \n",
       "1755  ['W', '뷰티', '콕', '뷰티', '디렉터', '송', '시은', '조회',...  \n",
       "1756  ['CHRISTIAN', 'DIOR', '초록', '자연', '빨강', '생명', ...  \n",
       "1757  ['자수', '장식', '슈트', '실크', '셔츠', '리본', '타이', '남성...  \n",
       "1758  ['나이', '직업', '가수', '디자이너', '패', '니스', '배드', '걸...  \n",
       "\n",
       "[1759 rows x 8 columns]"
      ]
     },
     "execution_count": 194,
     "metadata": {},
     "output_type": "execute_result"
    }
   ],
   "source": [
    "mag_d"
   ]
  },
  {
   "cell_type": "code",
   "execution_count": 195,
   "metadata": {},
   "outputs": [],
   "source": [
    "mag_d['word'] = mag_d['word_dior']"
   ]
  },
  {
   "cell_type": "code",
   "execution_count": 196,
   "metadata": {},
   "outputs": [],
   "source": [
    "mag_D = mag_d[['magazine', 'brand', 'title', 'word', 'ADFN', 'ADFN_2']]"
   ]
  },
  {
   "cell_type": "code",
   "execution_count": 197,
   "metadata": {},
   "outputs": [
    {
     "data": {
      "text/plain": [
       "1759"
      ]
     },
     "execution_count": 197,
     "metadata": {},
     "output_type": "execute_result"
    }
   ],
   "source": [
    "len(mag_D)"
   ]
  },
  {
   "cell_type": "markdown",
   "metadata": {},
   "source": [
    "### 5"
   ]
  },
  {
   "cell_type": "code",
   "execution_count": 198,
   "metadata": {},
   "outputs": [],
   "source": [
    "idx5 = []\n",
    "for i in range(len(mag_D)):\n",
    "    if i % 5 == 0 :\n",
    "        idx5.append(i)"
   ]
  },
  {
   "cell_type": "code",
   "execution_count": 199,
   "metadata": {},
   "outputs": [],
   "source": [
    "mag_D5 = mag_D.loc[idx5]"
   ]
  },
  {
   "cell_type": "code",
   "execution_count": 200,
   "metadata": {},
   "outputs": [],
   "source": [
    "mag_D5.reset_index(drop = True, inplace = True)"
   ]
  },
  {
   "cell_type": "code",
   "execution_count": 201,
   "metadata": {},
   "outputs": [
    {
     "data": {
      "text/plain": [
       "352"
      ]
     },
     "execution_count": 201,
     "metadata": {},
     "output_type": "execute_result"
    }
   ],
   "source": [
    "len(mag_D5)"
   ]
  },
  {
   "cell_type": "markdown",
   "metadata": {},
   "source": [
    "### 6"
   ]
  },
  {
   "cell_type": "code",
   "execution_count": 202,
   "metadata": {},
   "outputs": [],
   "source": [
    "idx6 = []\n",
    "for i in range(len(mag_D)):\n",
    "    if i % 6 == 0 :\n",
    "        idx6.append(i)"
   ]
  },
  {
   "cell_type": "code",
   "execution_count": 203,
   "metadata": {},
   "outputs": [],
   "source": [
    "mag_D6 = mag_D.loc[idx6]"
   ]
  },
  {
   "cell_type": "code",
   "execution_count": 204,
   "metadata": {},
   "outputs": [],
   "source": [
    "mag_D6.reset_index(drop = True, inplace = True)"
   ]
  },
  {
   "cell_type": "code",
   "execution_count": 205,
   "metadata": {},
   "outputs": [
    {
     "data": {
      "text/plain": [
       "294"
      ]
     },
     "execution_count": 205,
     "metadata": {},
     "output_type": "execute_result"
    }
   ],
   "source": [
    "len(mag_D6)"
   ]
  },
  {
   "cell_type": "markdown",
   "metadata": {},
   "source": [
    "### 8"
   ]
  },
  {
   "cell_type": "code",
   "execution_count": 354,
   "metadata": {},
   "outputs": [],
   "source": [
    "idx8 = []\n",
    "for i in range(len(mag_D)):\n",
    "    if i % 8 == 0 :\n",
    "        idx8.append(i)"
   ]
  },
  {
   "cell_type": "code",
   "execution_count": 358,
   "metadata": {},
   "outputs": [],
   "source": [
    "mag_D8 = mag_D.loc[idx8]"
   ]
  },
  {
   "cell_type": "code",
   "execution_count": 359,
   "metadata": {},
   "outputs": [],
   "source": [
    "mag_D8.reset_index(drop = True, inplace = True)"
   ]
  },
  {
   "cell_type": "code",
   "execution_count": 360,
   "metadata": {},
   "outputs": [
    {
     "data": {
      "text/plain": [
       "220"
      ]
     },
     "execution_count": 360,
     "metadata": {},
     "output_type": "execute_result"
    }
   ],
   "source": [
    "len(mag_D8)"
   ]
  },
  {
   "cell_type": "markdown",
   "metadata": {},
   "source": [
    "### 9"
   ]
  },
  {
   "cell_type": "code",
   "execution_count": 409,
   "metadata": {},
   "outputs": [],
   "source": [
    "idx9 = []\n",
    "for i in range(len(mag_D)):\n",
    "    if i % 9 == 0 :\n",
    "        idx9.append(i)"
   ]
  },
  {
   "cell_type": "code",
   "execution_count": 410,
   "metadata": {},
   "outputs": [],
   "source": [
    "mag_D9 = mag_D.loc[idx9]"
   ]
  },
  {
   "cell_type": "code",
   "execution_count": 411,
   "metadata": {},
   "outputs": [],
   "source": [
    "mag_D9.reset_index(drop = True, inplace = True)"
   ]
  },
  {
   "cell_type": "code",
   "execution_count": 412,
   "metadata": {},
   "outputs": [
    {
     "data": {
      "text/plain": [
       "196"
      ]
     },
     "execution_count": 412,
     "metadata": {},
     "output_type": "execute_result"
    }
   ],
   "source": [
    "len(mag_D9)"
   ]
  },
  {
   "cell_type": "markdown",
   "metadata": {},
   "source": [
    "## 로제"
   ]
  },
  {
   "cell_type": "markdown",
   "metadata": {},
   "source": [
    "### 로제 (유튜브 + 매거진)"
   ]
  },
  {
   "cell_type": "code",
   "execution_count": 206,
   "metadata": {},
   "outputs": [],
   "source": [
    "tot_r = pd.read_csv('./tot_rose_adfn_2.csv', encoding = 'utf-8', sep = '|')"
   ]
  },
  {
   "cell_type": "code",
   "execution_count": 207,
   "metadata": {},
   "outputs": [],
   "source": [
    "tot_r['word'] = tot_r['word_rose']"
   ]
  },
  {
   "cell_type": "code",
   "execution_count": 208,
   "metadata": {},
   "outputs": [],
   "source": [
    "tot_R = tot_r[['magazine', 'brand', 'title', 'word', 'ADFN', 'ADFN_2']]"
   ]
  },
  {
   "cell_type": "code",
   "execution_count": 209,
   "metadata": {},
   "outputs": [
    {
     "data": {
      "text/plain": [
       "140"
      ]
     },
     "execution_count": 209,
     "metadata": {},
     "output_type": "execute_result"
    }
   ],
   "source": [
    "len(tot_R)"
   ]
  },
  {
   "cell_type": "markdown",
   "metadata": {},
   "source": [
    "### 디올 + 로제"
   ]
  },
  {
   "cell_type": "code",
   "execution_count": 432,
   "metadata": {},
   "outputs": [],
   "source": [
    "D9R = pd.concat([mag_D9, tot_R])"
   ]
  },
  {
   "cell_type": "code",
   "execution_count": 433,
   "metadata": {},
   "outputs": [],
   "source": [
    "D9R.reset_index(drop = True, inplace = True)"
   ]
  },
  {
   "cell_type": "code",
   "execution_count": 434,
   "metadata": {},
   "outputs": [],
   "source": [
    "D9R.to_csv('./magazine/final/D9R.csv', sep = '|', encoding = 'utf-8', index = False)"
   ]
  },
  {
   "cell_type": "code",
   "execution_count": 435,
   "metadata": {},
   "outputs": [
    {
     "data": {
      "text/plain": [
       "336"
      ]
     },
     "execution_count": 435,
     "metadata": {},
     "output_type": "execute_result"
    }
   ],
   "source": [
    "len(D9R)"
   ]
  },
  {
   "cell_type": "code",
   "execution_count": null,
   "metadata": {},
   "outputs": [],
   "source": []
  },
  {
   "cell_type": "code",
   "execution_count": 450,
   "metadata": {},
   "outputs": [],
   "source": [
    "for word in D8R['ADFN_2']:\n",
    "    if \"朴彩瑛\" in word:\n",
    "        print(word)\n",
    "        print('-'*50)"
   ]
  },
  {
   "cell_type": "code",
   "execution_count": 437,
   "metadata": {},
   "outputs": [],
   "source": [
    "# 우아\n",
    "D9R['ADFN_2'] = D9R['ADFN_2'].str.replace(\"elegance\", \"우아\")\n",
    "D9R['ADFN_2'] = D9R['ADFN_2'].str.replace(\"'우아하고'\", \"우아\")\n",
    "D9R['ADFN_2'] = D9R['ADFN_2'].str.replace(\"'우아한\", \"우아\")"
   ]
  },
  {
   "cell_type": "code",
   "execution_count": 438,
   "metadata": {},
   "outputs": [],
   "source": [
    "# 귀엽다\n",
    "D9R['ADFN_2'] = D9R['ADFN_2'].str.replace(\"'귀엽'\", \"귀엽다\")\n",
    "# 귀엽다\n",
    "D9R['ADFN_2'] = D9R['ADFN_2'].str.replace(\"'귀여운'\", \"귀엽다\")"
   ]
  },
  {
   "cell_type": "code",
   "execution_count": 439,
   "metadata": {},
   "outputs": [],
   "source": [
    "# 하이틴\n",
    "D9R['ADFN_2'] = D9R['ADFN_2'].str.replace(\"'하이', '틴'\", \"하이틴\")"
   ]
  },
  {
   "cell_type": "code",
   "execution_count": 440,
   "metadata": {},
   "outputs": [],
   "source": [
    "# 프리티\n",
    "D9R['ADFN_2'] = D9R['ADFN_2'].str.replace(\"'프리', '티'\", \"프리티\")\n",
    "D9R['ADFN_2'] = D9R['ADFN_2'].str.replace(\"'푸리', '티'\", \"프리티\")\n",
    "\n",
    "# 프리티\n",
    "D9R['ADFN_2'] = D9R['ADFN_2'].str.replace(\"'스포', '티'\", \"스포티\")"
   ]
  },
  {
   "cell_type": "code",
   "execution_count": 441,
   "metadata": {},
   "outputs": [],
   "source": [
    "# 비주얼\n",
    "D9R['ADFN_2'] = D9R['ADFN_2'].str.replace(\"'비주'\", \"비주얼\")"
   ]
  },
  {
   "cell_type": "code",
   "execution_count": 442,
   "metadata": {},
   "outputs": [],
   "source": [
    "# 퀸\n",
    "D9R['ADFN_2'] = D9R['ADFN_2'].str.replace(\"'QUINN'\", \"퀸\")\n",
    "# 퀸\n",
    "D9R['ADFN_2'] = D9R['ADFN_2'].str.replace(\"'QUEEN'\", \"퀸\")\n"
   ]
  },
  {
   "cell_type": "code",
   "execution_count": 443,
   "metadata": {},
   "outputs": [],
   "source": [
    "# 최고\n",
    "D9R['ADFN_2'] = D9R['ADFN_2'].str.replace(\"'BEST'\", \"최고\")\n",
    "# 최고\n",
    "D9R['ADFN_2'] = D9R['ADFN_2'].str.replace(\"'최고다'\", \"최고\")\n",
    "D9R['ADFN_2'] = D9R['ADFN_2'].str.replace(\"'원', '탑'\", \"원탑\")"
   ]
  },
  {
   "cell_type": "code",
   "execution_count": 444,
   "metadata": {},
   "outputs": [],
   "source": [
    "# 인간\n",
    "D9R['ADFN_2'] = D9R['ADFN_2'].str.replace(\"'MISSSAINTLAURENT'\", \"'인간', 'LAURENT'\")\n",
    "# 인간\n",
    "D9R['ADFN_2'] = D9R['ADFN_2'].str.replace(\"'HUMAN'\", \"'인간'\")"
   ]
  },
  {
   "cell_type": "code",
   "execution_count": 445,
   "metadata": {},
   "outputs": [],
   "source": [
    "# 디자인\n",
    "D9R['ADFN_2'] = D9R['ADFN_2'].str.replace(\"'DESIGN'\", \"디자인\")\n",
    "# 이모지\n",
    "D9R['ADFN_2'] = D9R['ADFN_2'].str.replace(\"'♡'\", \"\")\n",
    "# 인플루언서\n",
    "D9R['ADFN_2'] = D9R['ADFN_2'].str.replace(\"'INFLUENCER'\", \"인플루언서\")\n",
    "D9R['ADFN_2'] = D9R['ADFN_2'].str.replace(\"'CREATIVE'\", \"크리에이티브\")\n",
    "\n",
    "# 드\n",
    "D9R['ADFN_2'] = D9R['ADFN_2'].str.replace(\"'데이즈', '드'\", \"데이즈드\")\n",
    "D9R['ADFN_2'] = D9R['ADFN_2'].str.replace(\"'레이어', '드'\", \"레이어드\")\n",
    "# 로제\n",
    "D9R['ADFN_2'] = D9R['ADFN_2'].str.replace(\"朴彩英哭戏\", \"로제\")\n",
    "D9R['ADFN_2'] = D9R['ADFN_2'].str.replace(\"朴彩瑛\", \"로제\")\n",
    "D9R['ADFN_2'] = D9R['ADFN_2'].str.replace(\"PARKCHAEYOUNG\", \"로제\")"
   ]
  },
  {
   "cell_type": "code",
   "execution_count": 446,
   "metadata": {},
   "outputs": [],
   "source": [
    "# 최고\n",
    "D9R['ADFN_2'] = D9R['ADFN_2'].str.replace(\"'YSL'\", \"LAURENT\")"
   ]
  },
  {
   "cell_type": "code",
   "execution_count": 447,
   "metadata": {},
   "outputs": [],
   "source": [
    "# 최고\n",
    "D9R['ADFN_2'] = D9R['ADFN_2'].str.replace(\"'LOVE'\", \"사랑\")"
   ]
  },
  {
   "cell_type": "code",
   "execution_count": 448,
   "metadata": {},
   "outputs": [],
   "source": [
    "# 새롭\n",
    "D9R['ADFN_2'] = D9R['ADFN_2'].str.replace(\"'새롭'\", \"새로운\")"
   ]
  },
  {
   "cell_type": "code",
   "execution_count": 449,
   "metadata": {},
   "outputs": [],
   "source": [
    "# 존재감\n",
    "D9R['ADFN_2'] = D9R['ADFN_2'].str.replace(\"'존재', '감'\", \"존재감\")\n",
    "D9R['ADFN_2'] = D9R['ADFN_2'].str.replace(\"'볼륨', '감'\", \"볼륨감\")"
   ]
  },
  {
   "cell_type": "code",
   "execution_count": null,
   "metadata": {},
   "outputs": [],
   "source": []
  },
  {
   "cell_type": "code",
   "execution_count": 250,
   "metadata": {},
   "outputs": [],
   "source": []
  },
  {
   "cell_type": "code",
   "execution_count": null,
   "metadata": {},
   "outputs": [],
   "source": []
  },
  {
   "cell_type": "code",
   "execution_count": null,
   "metadata": {},
   "outputs": [],
   "source": []
  },
  {
   "cell_type": "code",
   "execution_count": null,
   "metadata": {},
   "outputs": [],
   "source": []
  },
  {
   "cell_type": "markdown",
   "metadata": {},
   "source": [
    "## stopword 추가"
   ]
  },
  {
   "cell_type": "code",
   "execution_count": 451,
   "metadata": {},
   "outputs": [],
   "source": [
    "sw_df = pd.read_csv('stopwords.csv', header=None)"
   ]
  },
  {
   "cell_type": "code",
   "execution_count": 452,
   "metadata": {},
   "outputs": [],
   "source": [
    "sw_df.columns = ['stopword']"
   ]
  },
  {
   "cell_type": "code",
   "execution_count": 453,
   "metadata": {},
   "outputs": [],
   "source": [
    "stop_words = []\n",
    "for sw in sw_df['stopword']:\n",
    "    stop_words.append(sw)"
   ]
  },
  {
   "cell_type": "code",
   "execution_count": 454,
   "metadata": {},
   "outputs": [
    {
     "name": "stdout",
     "output_type": "stream",
     "text": [
      "675\n",
      "<class 'list'>\n"
     ]
    }
   ],
   "source": [
    "print(len(stop_words))\n",
    "print(type(stop_words))"
   ]
  },
  {
   "cell_type": "code",
   "execution_count": 455,
   "metadata": {},
   "outputs": [
    {
     "data": {
      "text/plain": [
       "['둘', '셋', '넷', '다섯', '여섯', '일곱', '여덟', '아홉', '령', '영']"
      ]
     },
     "execution_count": 455,
     "metadata": {},
     "output_type": "execute_result"
    }
   ],
   "source": [
    "stop_words[-10:]"
   ]
  },
  {
   "cell_type": "code",
   "execution_count": 456,
   "metadata": {},
   "outputs": [],
   "source": [
    "add_0 = ['진짜', '존나', '보고', '그냥', '카이', '이광수', '광수', '런닝맨', '❤️', '없는', '유재석', '❤', '♥', '♡', '♡','♡',\n",
    "         '있고', '거', \n",
    "         '내', '더', '개', '사람', '영상', '광고', '언니', '말', '뭐', '수', '생각', '아는', \n",
    "        '있는', '정말', '같은', '같음', '듯', '♡', '완전', '같아', '정도', '지금', '역시', '뭔가', '입니다', '때문', '아니라',\n",
    "         '함', '같은데', '해', '하는', '할', '넘', '한', '안', '했다', '보면', '데', '하고', '하면', '게', '해서', '봐도', \n",
    "         '한다', '된', '건', '요', '움', '임', '애', '하는거', '해도', '보는', '이제', '했는데', '하는데', '하는게', '같아요', \n",
    "         '합니다', '하지', '하게', '되는', 'I', '는', '난', '서', '도', '줄', '위', '분', '알', '은', '두', '번', '뒤',\n",
    "         '이건', '없다', '있어요', '아니고', '있어', \n",
    "        '계속', '원래', '뭘', '못', '후', '이름', '속', '욕', '옆', '하네', '아님', '그런', '된다', '있음',\n",
    "        '같', '돼', 'you', '제품', '표현', 'n', '봤는데', '건가', '나오는', '가지', '저런', '보이', '고',\n",
    "        '중', '사진', '댓글', '부분', '진심', '그녀', '보', '날', '겁나', '요즘', '앞', '워', '이유', '솔직히', '하며', '통해',\n",
    "        '모든', '항상', '전', '기자', '다시', '오늘', '↑', '이자', '대해',\n",
    "        '링', '한편', '️⃣',\n",
    "        '람쥐', '아닌가', '도민준', '없네', '이수근', '아이유', 'our', '젠', '였다면', '올해', '미우', 'The', 'my', '이란',\n",
    "        '그게', '같고', '아니다', '아닌데', '있지',  '만큼', '백예린', '같네', 'we', '있게', '덕분', '있어서', '든', '썸넬',\n",
    "        '라서', '여서', '라면', '인지', 'a','와중', '하자', '이후', '해야', '예전', '막',\n",
    "        '없어', '왜케', 'You', 'THE', 'your', 'u', 'AN', '수가',\n",
    "        'MUCH', 'FORTIFFANYANDCO', 'TIFFANYANDCO', 'ahh', 'her', 'knew', '않고', '보니', '없음',\n",
    "        '옴', '같아서', '있었는데', '그거', '땐', '음', '받고' ,'드러내', '어떡해', '나중', '와우', '아주', '나온', '보여',\n",
    "         '없는데', 'i', 'm', 'all', '편집',  '글', '알았는데', 'this', '위해', '보임', '헐', '짜', 'A', 'be']\n",
    "for w in add_0:\n",
    "    stop_words.append(w)"
   ]
  },
  {
   "cell_type": "code",
   "execution_count": 457,
   "metadata": {},
   "outputs": [],
   "source": [
    "add_1 = ['BLACKPINK', '리사', '지수', '제니']\n",
    "for w in add_1:\n",
    "    stop_words.append(w)"
   ]
  },
  {
   "cell_type": "code",
   "execution_count": 458,
   "metadata": {},
   "outputs": [],
   "source": [
    "add_2 = []\n",
    "for w in add_1:\n",
    "    stop_words.append(w)"
   ]
  },
  {
   "cell_type": "code",
   "execution_count": 459,
   "metadata": {},
   "outputs": [
    {
     "data": {
      "text/plain": [
       "920"
      ]
     },
     "execution_count": 459,
     "metadata": {},
     "output_type": "execute_result"
    }
   ],
   "source": [
    "len(stop_words)"
   ]
  },
  {
   "cell_type": "code",
   "execution_count": null,
   "metadata": {},
   "outputs": [],
   "source": []
  },
  {
   "cell_type": "code",
   "execution_count": 460,
   "metadata": {},
   "outputs": [],
   "source": [
    "D9R['ADFN_2'] = D9R['ADFN_2'].str.replace('[', '').str.replace(']', '').str.replace('\"', '').str.replace(\"'\", \"\").str.split(', ')"
   ]
  },
  {
   "cell_type": "code",
   "execution_count": 461,
   "metadata": {},
   "outputs": [],
   "source": [
    "noun_adj_list = []\n",
    "for i in range(len(D9R)):\n",
    "    for word in D9R.loc[i, 'ADFN_2']:\n",
    "        if word not in stop_words:\n",
    "            noun_adj_list.append(word)"
   ]
  },
  {
   "cell_type": "code",
   "execution_count": 462,
   "metadata": {},
   "outputs": [
    {
     "name": "stdout",
     "output_type": "stream",
     "text": [
      "[('로제', 9279), ('예쁘다', 1383), ('귀엽다', 1067), ('사랑', 739), ('노래', 700), ('목소리', 639), ('DIOR', 524), ('음색', 481), ('최고', 467), ('솔로', 399), ('음악', 314), ('무대', 313), ('챙', 311), ('머리', 257), ('춤', 257), ('패션', 249), ('매력', 244), ('느낌', 234), ('LAURENT', 226), ('레전드', 213), ('아이돌', 209), ('처음', 178), ('금발', 177), ('직캠', 175), ('코첼라', 173), ('머리카락', 169), ('여자', 167), ('인간', 165), ('바람', 150), ('영어', 139), ('컬렉션', 138), ('여신', 138), ('공주', 131), ('스타일', 130), ('쇼', 127), ('브랜드', 125), ('창법', 124), ('드레스', 123), ('입덕', 117), ('love', 116), ('춤선', 115), ('영화', 114), ('몸매', 113), ('컬러', 109), ('한국', 107), ('가수', 107), ('여성', 101), ('분위기', 101), ('모델', 99), ('티', 94), ('퀸', 93), ('연기', 85), ('디자이너', 85), ('찰떡', 84), ('실력', 83), ('대박', 83), ('배우', 81), ('스타', 81), ('블랙', 79), ('발음', 78), ('봄', 77), ('백', 76), ('짱', 76), ('명품', 75), ('라이브', 75), ('룩', 74), ('하우스', 71), ('애교', 71), ('작품', 70), ('재킷', 68), ('세계', 67), ('소리', 66), ('멋있다', 66), ('보컬', 66), ('BLINK', 65), ('라인', 64), ('장', 64), ('디자인', 64), ('요정', 64), ('천사', 64), ('시즌', 63), ('헤어', 63), ('MARIA', 63), ('미모', 63), ('시작', 62), ('원', 61), ('힘', 60), ('인기', 60), ('핑크', 60), ('좋', 59), ('팬츠', 59), ('노력', 59), ('허리', 59), ('심장', 58), ('영감', 58), ('왕', 58), ('표정', 58), ('순간', 57), ('파리', 57), ('웃음', 56), ('집', 56), ('신', 55), ('장식', 55), ('다리', 55), ('패턴', 54), ('사기', 54), ('포인트', 53), ('고급', 52), ('버전', 52), ('사랑스럽다', 52), ('소재', 51), ('아티스트', 51), ('기분', 50), ('최애', 49), ('누나', 49), ('말투', 49), ('셔츠', 48), ('한국인', 48), ('제만', 48), ('걸그룹', 48), ('애기', 48), ('활동', 47), ('소름', 47), ('특유', 46), ('까', 46), ('세', 46), ('감독', 46), ('독보', 46), ('완성', 45), ('친구', 45), ('점', 45), ('스커트', 45), ('한국어', 45), ('관심', 44), ('얘기', 44), ('물', 44), ('남자', 44), ('남', 44), ('ANGEL', 44), ('GLOBAL', 44), ('코디', 44), ('눈치', 44), ('새로운', 43), ('디렉터', 43), ('이지', 43), ('화이트', 43), ('연예인', 43), ('외모', 43), ('가사', 43), ('커버', 43), ('형', 43), ('꼭', 43), ('미쳤어', 43), ('아아', 43), ('If', 43), ('성격', 42), ('소화', 42), ('코트', 42), ('로지', 42), ('캐릭터', 41), ('비주얼', 41), ('인스타', 41), ('BODY', 41), ('PERFECT', 41), ('BEAUTIFUL', 41), ('웃기', 41), ('first', 41), ('강냉이', 41), ('존재', 40), ('풀', 40), ('클래식', 40), ('성', 40), ('재능', 40), ('주황', 40), ('사랑스러워', 40), ('복면', 40), ('ROSIE', 40), ('가방', 39), ('촬영', 39), ('선택', 39), ('완벽', 39), ('끝', 39), ('부를', 39), ('깡패', 39), ('sight', 39), ('자연', 38), ('작업', 38), ('매일', 38), ('COUTURE', 38), ('목', 38), ('탑', 38), ('리본', 38), ('음원', 38), ('보기', 38), ('볼때', 38), ('힘들', 37), ('톱', 37), ('손', 37), ('CHRISTIAN', 37), ('준비', 37)]\n"
     ]
    }
   ],
   "source": [
    "word = Counter(noun_adj_list)\n",
    "print(word.most_common(200))"
   ]
  },
  {
   "cell_type": "code",
   "execution_count": 463,
   "metadata": {},
   "outputs": [],
   "source": [
    "count = Counter(noun_adj_list)"
   ]
  },
  {
   "cell_type": "code",
   "execution_count": 464,
   "metadata": {},
   "outputs": [
    {
     "name": "stdout",
     "output_type": "stream",
     "text": [
      "('로제', 9279)\n",
      "('예쁘다', 1383)\n",
      "('귀엽다', 1067)\n",
      "('사랑', 739)\n",
      "('노래', 700)\n",
      "('목소리', 639)\n",
      "('DIOR', 524)\n",
      "('음색', 481)\n",
      "('최고', 467)\n",
      "('솔로', 399)\n",
      "('음악', 314)\n",
      "('무대', 313)\n",
      "('챙', 311)\n",
      "('머리', 257)\n",
      "('춤', 257)\n",
      "('패션', 249)\n",
      "('매력', 244)\n",
      "('느낌', 234)\n",
      "('LAURENT', 226)\n",
      "('레전드', 213)\n",
      "('아이돌', 209)\n",
      "('처음', 178)\n",
      "('금발', 177)\n",
      "('직캠', 175)\n",
      "('코첼라', 173)\n",
      "('머리카락', 169)\n",
      "('여자', 167)\n",
      "('인간', 165)\n",
      "('바람', 150)\n",
      "('영어', 139)\n",
      "('컬렉션', 138)\n",
      "('여신', 138)\n",
      "('공주', 131)\n",
      "('스타일', 130)\n",
      "('쇼', 127)\n",
      "('브랜드', 125)\n",
      "('창법', 124)\n",
      "('드레스', 123)\n",
      "('입덕', 117)\n",
      "('love', 116)\n",
      "('춤선', 115)\n",
      "('영화', 114)\n",
      "('몸매', 113)\n",
      "('컬러', 109)\n",
      "('한국', 107)\n",
      "('가수', 107)\n",
      "('여성', 101)\n",
      "('분위기', 101)\n",
      "('모델', 99)\n",
      "('티', 94)\n",
      "('퀸', 93)\n",
      "('연기', 85)\n",
      "('디자이너', 85)\n",
      "('찰떡', 84)\n",
      "('실력', 83)\n",
      "('대박', 83)\n",
      "('배우', 81)\n",
      "('스타', 81)\n",
      "('블랙', 79)\n",
      "('발음', 78)\n",
      "('봄', 77)\n",
      "('백', 76)\n",
      "('짱', 76)\n",
      "('명품', 75)\n",
      "('라이브', 75)\n",
      "('룩', 74)\n",
      "('하우스', 71)\n",
      "('애교', 71)\n",
      "('작품', 70)\n",
      "('재킷', 68)\n",
      "('세계', 67)\n",
      "('소리', 66)\n",
      "('멋있다', 66)\n",
      "('보컬', 66)\n",
      "('BLINK', 65)\n",
      "('라인', 64)\n",
      "('장', 64)\n",
      "('디자인', 64)\n",
      "('요정', 64)\n",
      "('천사', 64)\n",
      "('시즌', 63)\n",
      "('헤어', 63)\n",
      "('MARIA', 63)\n",
      "('미모', 63)\n",
      "('시작', 62)\n",
      "('원', 61)\n",
      "('힘', 60)\n",
      "('인기', 60)\n",
      "('핑크', 60)\n",
      "('좋', 59)\n",
      "('팬츠', 59)\n",
      "('노력', 59)\n",
      "('허리', 59)\n",
      "('심장', 58)\n",
      "('영감', 58)\n",
      "('왕', 58)\n",
      "('표정', 58)\n",
      "('순간', 57)\n",
      "('파리', 57)\n",
      "('웃음', 56)\n",
      "('집', 56)\n",
      "('신', 55)\n",
      "('장식', 55)\n",
      "('다리', 55)\n",
      "('패턴', 54)\n",
      "('사기', 54)\n",
      "('포인트', 53)\n",
      "('고급', 52)\n",
      "('버전', 52)\n",
      "('사랑스럽다', 52)\n",
      "('소재', 51)\n",
      "('아티스트', 51)\n",
      "('기분', 50)\n",
      "('최애', 49)\n",
      "('누나', 49)\n",
      "('말투', 49)\n",
      "('셔츠', 48)\n",
      "('한국인', 48)\n",
      "('제만', 48)\n",
      "('걸그룹', 48)\n",
      "('애기', 48)\n",
      "('활동', 47)\n",
      "('소름', 47)\n",
      "('특유', 46)\n",
      "('까', 46)\n",
      "('세', 46)\n",
      "('감독', 46)\n",
      "('독보', 46)\n",
      "('완성', 45)\n",
      "('친구', 45)\n",
      "('점', 45)\n",
      "('스커트', 45)\n",
      "('한국어', 45)\n",
      "('관심', 44)\n",
      "('얘기', 44)\n",
      "('물', 44)\n",
      "('남자', 44)\n",
      "('남', 44)\n",
      "('ANGEL', 44)\n",
      "('GLOBAL', 44)\n",
      "('코디', 44)\n",
      "('눈치', 44)\n",
      "('새로운', 43)\n",
      "('디렉터', 43)\n",
      "('이지', 43)\n",
      "('화이트', 43)\n",
      "('연예인', 43)\n",
      "('외모', 43)\n",
      "('가사', 43)\n",
      "('커버', 43)\n",
      "('형', 43)\n",
      "('꼭', 43)\n",
      "('미쳤어', 43)\n",
      "('아아', 43)\n",
      "('If', 43)\n",
      "('성격', 42)\n",
      "('소화', 42)\n",
      "('코트', 42)\n",
      "('로지', 42)\n",
      "('캐릭터', 41)\n",
      "('비주얼', 41)\n",
      "('인스타', 41)\n",
      "('BODY', 41)\n",
      "('PERFECT', 41)\n",
      "('BEAUTIFUL', 41)\n",
      "('웃기', 41)\n",
      "('first', 41)\n",
      "('강냉이', 41)\n",
      "('존재', 40)\n",
      "('풀', 40)\n",
      "('클래식', 40)\n",
      "('성', 40)\n",
      "('재능', 40)\n",
      "('주황', 40)\n",
      "('사랑스러워', 40)\n",
      "('복면', 40)\n",
      "('ROSIE', 40)\n",
      "('가방', 39)\n",
      "('촬영', 39)\n",
      "('선택', 39)\n",
      "('완벽', 39)\n",
      "('끝', 39)\n",
      "('부를', 39)\n",
      "('깡패', 39)\n",
      "('sight', 39)\n",
      "('자연', 38)\n",
      "('작업', 38)\n",
      "('매일', 38)\n",
      "('COUTURE', 38)\n",
      "('목', 38)\n",
      "('탑', 38)\n",
      "('리본', 38)\n",
      "('음원', 38)\n",
      "('보기', 38)\n",
      "('볼때', 38)\n",
      "('힘들', 37)\n",
      "('톱', 37)\n",
      "('손', 37)\n",
      "('CHRISTIAN', 37)\n",
      "('준비', 37)\n",
      "('천재', 37)\n",
      "('미국', 37)\n",
      "('드라마', 37)\n",
      "('인생', 37)\n",
      "('차이', 37)\n",
      "('연습', 37)\n",
      "('있으면', 37)\n",
      "('메인보컬', 37)\n",
      "('말랐다', 37)\n",
      "('걱정', 36)\n",
      "('마음', 36)\n",
      "('이야기', 36)\n",
      "('커', 36)\n",
      "('기대', 36)\n",
      "('여름', 36)\n",
      "('화보', 36)\n",
      "('먹고', 36)\n",
      "('부르고', 36)\n",
      "('SOLO', 36)\n",
      "('for', 36)\n",
      "('어울리는', 36)\n",
      "('샤키라', 36)\n",
      "('갚아', 36)\n",
      "('크리에이티브', 35)\n",
      "('기억', 35)\n",
      "('시크', 35)\n",
      "('진', 35)\n",
      "('색', 35)\n",
      "('제목', 35)\n",
      "('눈빛', 35)\n",
      "('사복', 35)\n",
      "('감사해요', 35)\n",
      "('어쩜', 35)\n",
      "('단', 34)\n",
      "('LADY', 34)\n",
      "('이미지', 34)\n",
      "('해외', 34)\n",
      "('공연', 34)\n",
      "('메인', 34)\n",
      "('반', 34)\n",
      "('방송', 34)\n",
      "('in', 34)\n",
      "('바', 34)\n",
      "('호주', 34)\n",
      "('양갈래', 34)\n",
      "('인어공주', 34)\n",
      "('코', 34)\n",
      "('자꾸', 34)\n",
      "('기적', 34)\n",
      "('착하고', 34)\n",
      "('옷', 33)\n",
      "('출연', 33)\n",
      "('거리', 33)\n",
      "('돈', 33)\n",
      "('식', 33)\n",
      "('사이', 33)\n",
      "('톤', 33)\n",
      "('개성', 33)\n",
      "('째', 33)\n",
      "('중독', 33)\n",
      "('온', 33)\n",
      "('팝송', 33)\n",
      "('시절', 32)\n",
      "('치', 32)\n",
      "('집중', 32)\n",
      "('메이크업', 32)\n",
      "('필요', 32)\n",
      "('가요', 32)\n",
      "('따', 32)\n",
      "('검색', 32)\n",
      "('별', 32)\n",
      "('소녀', 32)\n",
      "('빛', 32)\n",
      "('무', 32)\n",
      "('칭찬', 32)\n",
      "('장미', 32)\n",
      "('늘', 32)\n",
      "('힐링', 32)\n",
      "('척', 32)\n",
      "('시', 32)\n",
      "('좋아서', 32)\n",
      "('돌려', 32)\n",
      "('미쳐', 32)\n",
      "('바라봐', 32)\n",
      "('찾', 31)\n",
      "('취향', 31)\n",
      "('앤', 31)\n",
      "('차', 31)\n",
      "('프로', 31)\n",
      "('원피스', 31)\n",
      "('될', 31)\n",
      "('갑자기', 31)\n",
      "('♡♡', 31)\n",
      "('인성', 31)\n",
      "('새', 30)\n",
      "('건강', 30)\n",
      "('파', 30)\n",
      "('프린트', 30)\n",
      "('런웨이', 30)\n",
      "('인물', 30)\n",
      "('예술', 30)\n",
      "('팝', 30)\n",
      "('치마', 30)\n",
      "('양', 30)\n",
      "('제라', 30)\n",
      "('역대', 30)\n",
      "('티비', 30)\n",
      "('기여', 29)\n",
      "('시대', 29)\n",
      "('나이', 29)\n",
      "('열', 29)\n",
      "('실루엣', 29)\n",
      "('로고', 29)\n",
      "('역할', 29)\n",
      "('티셔츠', 29)\n",
      "('널', 29)\n",
      "('평소', 29)\n",
      "('본인', 29)\n",
      "('댄스', 29)\n",
      "('콘서트', 29)\n",
      "('뿐', 29)\n",
      "('휘파람', 29)\n",
      "('캡', 28)\n",
      "('관리', 28)\n",
      "('꽃', 28)\n",
      "('의미', 28)\n",
      "('사이즈', 28)\n",
      "('트', 28)\n",
      "('투', 28)\n",
      "('대표', 28)\n",
      "('스', 28)\n",
      "('패션쇼', 28)\n",
      "('간', 28)\n",
      "('달', 28)\n",
      "('파트', 28)\n",
      "('하이틴', 28)\n",
      "('잘추고', 28)\n",
      "('입어도', 28)\n",
      "('패', 27)\n",
      "('고민', 27)\n",
      "('블루', 27)\n",
      "('관객', 27)\n",
      "('결혼', 27)\n",
      "('나라', 27)\n",
      "('연극', 27)\n",
      "('중간', 27)\n",
      "('카메라', 27)\n",
      "('입고', 27)\n",
      "('매우', 27)\n",
      "('카디건', 27)\n",
      "('자주', 27)\n",
      "('어울려', 27)\n",
      "('별로', 27)\n",
      "('제다', 27)\n",
      "('갠', 27)\n",
      "('추', 26)\n",
      "('갈', 26)\n",
      "('운동', 26)\n",
      "('기도', 26)\n",
      "('찍', 26)\n",
      "('골프', 26)\n",
      "('맨', 26)\n",
      "('의상', 26)\n",
      "('골드', 26)\n",
      "('평생', 26)\n",
      "('먹는', 26)\n",
      "('자란', 26)\n",
      "('모르는', 26)\n",
      "('쳐', 26)\n",
      "('부럽다', 26)\n",
      "('멋있어', 26)\n",
      "('사용', 25)\n",
      "('제작', 25)\n",
      "('뷰티', 25)\n",
      "('에너지', 25)\n",
      "('사실', 25)\n",
      "('공', 25)\n",
      "('먹', 25)\n",
      "('행복', 25)\n",
      "('발', 25)\n",
      "('활용', 25)\n",
      "('누', 25)\n",
      "('우', 25)\n",
      "('정보', 25)\n",
      "('미소', 25)\n",
      "('이해', 25)\n",
      "('답', 25)\n",
      "('자막', 25)\n",
      "('인형', 25)\n",
      "('짐', 25)\n",
      "('살짝', 25)\n",
      "('찐', 25)\n",
      "('yg', 25)\n",
      "('용', 25)\n",
      "('넌', 25)\n",
      "('발성', 25)\n",
      "('아무', 25)\n",
      "('가창력', 25)\n",
      "('갭', 25)\n",
      "('사랑스럽고', 25)\n",
      "('드', 24)\n",
      "('길', 24)\n",
      "('징', 24)\n",
      "('행동', 24)\n",
      "('쓰', 24)\n",
      "('시도', 24)\n",
      "('미니', 24)\n",
      "('대체', 24)\n",
      "('김', 24)\n",
      "('약', 24)\n",
      "('가죽', 24)\n",
      "('다르', 24)\n",
      "('목걸이', 24)\n",
      "('컨셉', 24)\n",
      "('감', 24)\n",
      "('남성', 24)\n",
      "('실제', 24)\n",
      "('감정', 24)\n",
      "('아버지', 24)\n",
      "('선', 24)\n",
      "('가을', 24)\n",
      "('메', 24)\n",
      "('서로', 24)\n",
      "('이태', 24)\n",
      "('공부', 24)\n",
      "('눈물', 24)\n",
      "('댓', 24)\n",
      "('되고', 24)\n",
      "('벌써', 24)\n",
      "('귀염', 24)\n",
      "('always', 24)\n",
      "('이쁘게', 24)\n",
      "('절', 24)\n",
      "('불러', 24)\n",
      "('고마워', 24)\n",
      "('일부러', 24)\n",
      "('했으면', 24)\n",
      "('타팬', 24)\n",
      "('흑화', 24)\n",
      "('숙주', 24)\n",
      "('ng', 24)\n",
      "('글로벌', 23)\n",
      "('하이', 23)\n",
      "('푸', 23)\n",
      "('생기', 23)\n",
      "('담', 23)\n",
      "('자리', 23)\n",
      "('비율', 23)\n",
      "('곳', 23)\n",
      "('웨어', 23)\n",
      "('힐', 23)\n",
      "('장면', 23)\n",
      "('참석', 23)\n",
      "('다이', 23)\n",
      "('진행', 23)\n",
      "('우아', 23)\n",
      "('감성', 23)\n",
      "('W', 23)\n",
      "('박', 23)\n",
      "('벨벳', 23)\n",
      "('편', 23)\n",
      "('팀', 23)\n",
      "('눈길', 23)\n",
      "('주인공', 23)\n",
      "('부', 23)\n",
      "('주위', 23)\n",
      "('들어가', 23)\n",
      "('서커스', 23)\n",
      "('맘', 23)\n",
      "('선배', 23)\n",
      "('상상', 23)\n",
      "('like', 23)\n",
      "('올', 23)\n",
      "('나올', 23)\n",
      "('들을', 23)\n",
      "('완벽한', 23)\n",
      "('들으면', 23)\n",
      "('가끔', 23)\n",
      "('없고', 23)\n",
      "('많아서', 23)\n",
      "('마른', 23)\n",
      "('♡♡♡', 23)\n",
      "('오지', 23)\n",
      "('외국', 23)\n",
      "('볼수록', 23)\n",
      "('나오면', 23)\n",
      "('마', 23)\n",
      "('안정', 23)\n",
      "('피부', 23)\n",
      "('발라드', 23)\n",
      "('빈티지', 22)\n",
      "('맞', 22)\n",
      "('아름다움', 22)\n",
      "('쉬', 22)\n",
      "('순', 22)\n",
      "('뉴', 22)\n",
      "('프랑스', 22)\n",
      "('열리', 22)\n",
      "('파워', 22)\n",
      "('민', 22)\n"
     ]
    }
   ],
   "source": [
    "word_list = count.most_common(500)\n",
    "for v in word_list:\n",
    "    print(v)"
   ]
  },
  {
   "cell_type": "code",
   "execution_count": null,
   "metadata": {},
   "outputs": [],
   "source": []
  },
  {
   "cell_type": "code",
   "execution_count": null,
   "metadata": {},
   "outputs": [],
   "source": []
  },
  {
   "cell_type": "code",
   "execution_count": 465,
   "metadata": {},
   "outputs": [],
   "source": [
    "top500 = pd.DataFrame(word_list)"
   ]
  },
  {
   "cell_type": "code",
   "execution_count": 466,
   "metadata": {},
   "outputs": [],
   "source": [
    "top500.columns = ['word', 'count']"
   ]
  },
  {
   "cell_type": "code",
   "execution_count": 467,
   "metadata": {},
   "outputs": [],
   "source": [
    "top500.to_csv('./D9R_top500.csv', sep='|', encoding = 'utf-8', index = False)"
   ]
  },
  {
   "cell_type": "markdown",
   "metadata": {},
   "source": [
    "## 워드클라우드 만들기"
   ]
  },
  {
   "cell_type": "code",
   "execution_count": 468,
   "metadata": {},
   "outputs": [],
   "source": [
    "import matplotlib.pyplot as plt"
   ]
  },
  {
   "cell_type": "code",
   "execution_count": 469,
   "metadata": {},
   "outputs": [
    {
     "name": "stdout",
     "output_type": "stream",
     "text": [
      "Malgun Gothic C:\\WINDOWS\\Fonts\\malgun.ttf\n",
      "Yu Gothic C:\\WINDOWS\\Fonts\\YuGothB.ttc\n",
      "HYGothic-Extra C:\\WINDOWS\\Fonts\\H2GTRE.TTF\n",
      "Franklin Gothic Medium C:\\WINDOWS\\Fonts\\framdit.ttf\n",
      "Malgun Gothic C:\\Windows\\Fonts\\malgunbd.ttf\n",
      "Yu Gothic C:\\Windows\\Fonts\\YuGothL.ttc\n",
      "Century Gothic C:\\Windows\\Fonts\\GOTHIC.TTF\n",
      "Yu Gothic C:\\Windows\\Fonts\\YuGothM.ttc\n",
      "Yu Gothic C:\\WINDOWS\\Fonts\\YuGothR.ttc\n",
      "MS Gothic C:\\WINDOWS\\Fonts\\msgothic.ttc\n",
      "HYGothic-Medium C:\\WINDOWS\\Fonts\\H2GTRM.TTF\n",
      "Malgun Gothic C:\\WINDOWS\\Fonts\\malgunsl.ttf\n",
      "Century Gothic C:\\Windows\\Fonts\\GOTHICI.TTF\n",
      "Century Gothic C:\\WINDOWS\\Fonts\\GOTHICBI.TTF\n",
      "Century Gothic C:\\Windows\\Fonts\\GOTHICB.TTF\n",
      "Franklin Gothic Medium C:\\WINDOWS\\Fonts\\framd.ttf\n"
     ]
    }
   ],
   "source": [
    "import matplotlib.font_manager as fm\n",
    "\n",
    "# 이용 가능한 폰트 중 '고딕'만 선별\n",
    "for font in fm.fontManager.ttflist:\n",
    "    if 'Gothic' in font.name:\n",
    "        print(font.name, font.fname)"
   ]
  },
  {
   "cell_type": "code",
   "execution_count": 470,
   "metadata": {},
   "outputs": [],
   "source": [
    "font_path = 'C:\\WINDOWS\\Fonts\\malgun.ttf'"
   ]
  },
  {
   "cell_type": "markdown",
   "metadata": {},
   "source": [
    "### 워드클라우드 그리기"
   ]
  },
  {
   "cell_type": "code",
   "execution_count": 471,
   "metadata": {},
   "outputs": [],
   "source": [
    "from wordcloud import WordCloud"
   ]
  },
  {
   "cell_type": "code",
   "execution_count": 472,
   "metadata": {},
   "outputs": [],
   "source": [
    "wc = WordCloud(font_path=font_path, background_color=\"white\", width=600, height=400)"
   ]
  },
  {
   "cell_type": "code",
   "execution_count": 473,
   "metadata": {},
   "outputs": [
    {
     "data": {
      "image/png": "[encoded data removed]",
      "text/plain": [
       "<Figure size 432x288 with 1 Axes>"
      ]
     },
     "metadata": {
      "needs_background": "light"
     },
     "output_type": "display_data"
    },
    {
     "data": {
      "text/plain": [
       "<wordcloud.wordcloud.WordCloud at 0x1dac4434708>"
      ]
     },
     "execution_count": 473,
     "metadata": {},
     "output_type": "execute_result"
    }
   ],
   "source": [
    "wc.generate_from_frequencies(dict(word_list))\n",
    "\n",
    "plt.imshow(wc) \n",
    "plt.axis('off') \n",
    "plt.show()\n",
    "\n",
    "\n",
    "wc.to_file('wc_D9R_top500.png')"
   ]
  },
  {
   "cell_type": "code",
   "execution_count": 474,
   "metadata": {},
   "outputs": [],
   "source": [
    "D9R.to_csv('./magazine/final/D9R_adfn_2.csv', sep='|', encoding = 'utf-8', index = False)"
   ]
  },
  {
   "cell_type": "code",
   "execution_count": 408,
   "metadata": {},
   "outputs": [],
   "source": [
    "D8R.to_csv('./magazine/final/D8R_adfn_2.csv', sep='|', encoding = 'utf-8', index = False)"
   ]
  },
  {
   "cell_type": "code",
   "execution_count": null,
   "metadata": {},
   "outputs": [],
   "source": []
  }
 ],
 "metadata": {
  "kernelspec": {
   "display_name": "Python 3",
   "language": "python",
   "name": "python3"
  },
  "language_info": {
   "codemirror_mode": {
    "name": "ipython",
    "version": 3
   },
   "file_extension": ".py",
   "mimetype": "text/x-python",
   "name": "python",
   "nbconvert_exporter": "python",
   "pygments_lexer": "ipython3",
   "version": "3.7.6"
  }
 },
 "nbformat": 4,
 "nbformat_minor": 4
}
