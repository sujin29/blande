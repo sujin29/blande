{
 "cells": [
  {
   "cell_type": "code",
   "execution_count": 22,
   "metadata": {},
   "outputs": [],
   "source": [
    "import pandas as pd\n",
    "import numpy as np"
   ]
  },
  {
   "cell_type": "code",
   "execution_count": 23,
   "metadata": {},
   "outputs": [],
   "source": [
    "from collections import Counter"
   ]
  },
  {
   "cell_type": "code",
   "execution_count": 24,
   "metadata": {},
   "outputs": [],
   "source": [
    "a_lisa = pd.read_csv('./blackpink/Allure_L.csv', sep = '|', encoding = 'utf-8')\n",
    "b_lisa = pd.read_csv('./blackpink/Bazaar_L.csv', sep = '|', encoding = 'utf-8')\n",
    "c_lisa = pd.read_csv('./blackpink/cosmo_L.csv', sep='|', encoding = 'utf-8')\n",
    "e_lisa = pd.read_csv('./blackpink/elle_L.csv', sep='|', encoding = 'utf-8')\n",
    "fb_lisa = pd.read_csv('./blackpink/FB_L.csv', sep='|', encoding = 'utf-8')\n",
    "fn_lisa = pd.read_csv('./blackpink/fashionn_L.csv', sep='|', encoding = 'utf-8')\n",
    "m_lisa = pd.read_csv('./blackpink/marie_L.csv', sep='|', encoding = 'utf-8')\n",
    "v_lisa = pd.read_csv('./blackpink/V_L.csv', sep='|', encoding = 'utf-8')\n",
    "w_lisa = pd.read_csv('./blackpink/w_L.csv', sep='|', encoding = 'utf-8')"
   ]
  },
  {
   "cell_type": "code",
   "execution_count": 27,
   "metadata": {},
   "outputs": [
    {
     "data": {
      "text/html": [
       "<div>\n",
       "<style scoped>\n",
       "    .dataframe tbody tr th:only-of-type {\n",
       "        vertical-align: middle;\n",
       "    }\n",
       "\n",
       "    .dataframe tbody tr th {\n",
       "        vertical-align: top;\n",
       "    }\n",
       "\n",
       "    .dataframe thead th {\n",
       "        text-align: right;\n",
       "    }\n",
       "</style>\n",
       "<table border=\"1\" class=\"dataframe\">\n",
       "  <thead>\n",
       "    <tr style=\"text-align: right;\">\n",
       "      <th></th>\n",
       "      <th>magazine</th>\n",
       "      <th>brand</th>\n",
       "      <th>category</th>\n",
       "      <th>title</th>\n",
       "      <th>link</th>\n",
       "      <th>date</th>\n",
       "      <th>contents</th>\n",
       "      <th>title_brand</th>\n",
       "    </tr>\n",
       "  </thead>\n",
       "  <tbody>\n",
       "    <tr>\n",
       "      <th>0</th>\n",
       "      <td>Allure</td>\n",
       "      <td>L</td>\n",
       "      <td>CELEBRITY</td>\n",
       "      <td>블랙핑크 리사, 매일 아침 옷을 고르는 기준은? 화보 촬영 비하인드 &amp; QNA 인터뷰</td>\n",
       "      <td>http://www.allurekorea.com/2020/06/02/132119/</td>\n",
       "      <td>2020/06/02/</td>\n",
       "      <td>['얼루어 커버화보 촬영장에서 만난 블랙핑크 리사', '“안녕하세요 얼루어, 리사입...</td>\n",
       "      <td>1</td>\n",
       "    </tr>\n",
       "    <tr>\n",
       "      <th>1</th>\n",
       "      <td>Allure</td>\n",
       "      <td>L</td>\n",
       "      <td>CELEBRITY</td>\n",
       "      <td>LISA LOVES / 블랙핑크 리사</td>\n",
       "      <td>http://www.allurekorea.com/2020/05/26/lisa-lov...</td>\n",
       "      <td>2020/05/26/</td>\n",
       "      <td>['자기 자신을 온전히 사랑할 줄 아는 리사가 한꺼번에 웃을 때, 덩달아 웃었다.'...</td>\n",
       "      <td>1</td>\n",
       "    </tr>\n",
       "    <tr>\n",
       "      <th>2</th>\n",
       "      <td>Allure</td>\n",
       "      <td>L</td>\n",
       "      <td>BEAUTY</td>\n",
       "      <td>3억뷰 돌파 블랙핑크 뮤비 메이크업의 비밀은? 담당 메이크업 아티스트 직접 등판!</td>\n",
       "      <td>http://www.allurekorea.com/2020/07/19/3%ec%96%...</td>\n",
       "      <td>2020/07/19/</td>\n",
       "      <td>['Q. 가장 마음에 들었던 메이크업 룩은?', '리사씨가 골목에서 등장하는 단독 ...</td>\n",
       "      <td>0</td>\n",
       "    </tr>\n",
       "  </tbody>\n",
       "</table>\n",
       "</div>"
      ],
      "text/plain": [
       "  magazine brand   category                                            title  \\\n",
       "0   Allure     L  CELEBRITY  블랙핑크 리사, 매일 아침 옷을 고르는 기준은? 화보 촬영 비하인드 & QNA 인터뷰   \n",
       "1   Allure     L  CELEBRITY                             LISA LOVES / 블랙핑크 리사   \n",
       "2   Allure     L     BEAUTY    3억뷰 돌파 블랙핑크 뮤비 메이크업의 비밀은? 담당 메이크업 아티스트 직접 등판!   \n",
       "\n",
       "                                                link         date  \\\n",
       "0      http://www.allurekorea.com/2020/06/02/132119/  2020/06/02/   \n",
       "1  http://www.allurekorea.com/2020/05/26/lisa-lov...  2020/05/26/   \n",
       "2  http://www.allurekorea.com/2020/07/19/3%ec%96%...  2020/07/19/   \n",
       "\n",
       "                                            contents  title_brand  \n",
       "0  ['얼루어 커버화보 촬영장에서 만난 블랙핑크 리사', '“안녕하세요 얼루어, 리사입...            1  \n",
       "1  ['자기 자신을 온전히 사랑할 줄 아는 리사가 한꺼번에 웃을 때, 덩달아 웃었다.'...            1  \n",
       "2  ['Q. 가장 마음에 들었던 메이크업 룩은?', '리사씨가 골목에서 등장하는 단독 ...            0  "
      ]
     },
     "execution_count": 27,
     "metadata": {},
     "output_type": "execute_result"
    }
   ],
   "source": [
    "a_lisa"
   ]
  },
  {
   "cell_type": "code",
   "execution_count": 33,
   "metadata": {},
   "outputs": [],
   "source": [
    "a_lisa['word_lisa'] = a_lisa['contents']"
   ]
  },
  {
   "cell_type": "code",
   "execution_count": 49,
   "metadata": {},
   "outputs": [],
   "source": [
    "b_lisa.rename(columns={'word_jenny':'word_lisa'}, inplace = True)"
   ]
  },
  {
   "cell_type": "code",
   "execution_count": 51,
   "metadata": {},
   "outputs": [
    {
     "data": {
      "text/html": [
       "<div>\n",
       "<style scoped>\n",
       "    .dataframe tbody tr th:only-of-type {\n",
       "        vertical-align: middle;\n",
       "    }\n",
       "\n",
       "    .dataframe tbody tr th {\n",
       "        vertical-align: top;\n",
       "    }\n",
       "\n",
       "    .dataframe thead th {\n",
       "        text-align: right;\n",
       "    }\n",
       "</style>\n",
       "<table border=\"1\" class=\"dataframe\">\n",
       "  <thead>\n",
       "    <tr style=\"text-align: right;\">\n",
       "      <th></th>\n",
       "      <th>magazine</th>\n",
       "      <th>brand</th>\n",
       "      <th>category</th>\n",
       "      <th>title</th>\n",
       "      <th>link</th>\n",
       "      <th>date</th>\n",
       "      <th>contents</th>\n",
       "      <th>title_brand</th>\n",
       "      <th>check</th>\n",
       "      <th>word_lisa</th>\n",
       "    </tr>\n",
       "  </thead>\n",
       "  <tbody>\n",
       "    <tr>\n",
       "      <th>0</th>\n",
       "      <td>FB</td>\n",
       "      <td>L</td>\n",
       "      <td>Today's News</td>\n",
       "      <td>셀린느, 블랙핑크 리사 글로벌 앰배서더로 발탁</td>\n",
       "      <td>https://www.fashionbiz.co.kr/article/view.asp?...</td>\n",
       "      <td>2020/09/23</td>\n",
       "      <td>신세계인터내셔날(대표 장재영)에서 국내 수입·유통하는 셀린느가 블랙핑크 멤버 리사를...</td>\n",
       "      <td>1</td>\n",
       "      <td>1</td>\n",
       "      <td>[\"신세계인터내셔날(대표 장재영)에서 국내 수입·유통하는 셀린느가 블랙핑크 멤버 리...</td>\n",
       "    </tr>\n",
       "    <tr>\n",
       "      <th>1</th>\n",
       "      <td>FB</td>\n",
       "      <td>L</td>\n",
       "      <td>Today's News</td>\n",
       "      <td>불가리, 브랜드 앰배서더에 블랙핑크 리사 발탁</td>\n",
       "      <td>https://www.fashionbiz.co.kr/article/view.asp?...</td>\n",
       "      <td>2020/07/24</td>\n",
       "      <td>불가리코리아(대표 이정학)의 이탈리아 럭셔리 브랜드 불가리가 걸그룹 블랙핑크의 멤버...</td>\n",
       "      <td>1</td>\n",
       "      <td>1</td>\n",
       "      <td>['불가리코리아(대표 이정학)의 이탈리아 럭셔리 브랜드 불가리가 걸그룹 블랙핑크의 ...</td>\n",
       "    </tr>\n",
       "    <tr>\n",
       "      <th>2</th>\n",
       "      <td>FB</td>\n",
       "      <td>L</td>\n",
       "      <td>Today's News</td>\n",
       "      <td>핸드백'베리사', '림킴 &amp; 릴체리'와 콜라보레이션 컬렉션 출시</td>\n",
       "      <td>https://www.fashionbiz.co.kr/article/view.asp?...</td>\n",
       "      <td>2020/06/24</td>\n",
       "      <td>(사진 : 림킴 X 베리사의 VR티져영상)\\n\\n고감도 하이엔드 감성의 핸드백 브랜...</td>\n",
       "      <td>1</td>\n",
       "      <td>1</td>\n",
       "      <td>[\"(사진 : 림킴 X 베리사의 VR티져영상)\\n\\n고감도 하이엔드 감성의 핸드백 ...</td>\n",
       "    </tr>\n",
       "    <tr>\n",
       "      <th>3</th>\n",
       "      <td>FB</td>\n",
       "      <td>L</td>\n",
       "      <td>Today's News</td>\n",
       "      <td>글로벌 최초 VR로 감상하는 베리사(belysa)의 새로운 동화</td>\n",
       "      <td>https://www.fashionbiz.co.kr/article/view.asp?...</td>\n",
       "      <td>2020/04/03</td>\n",
       "      <td>신예 컨템포러리 핸드백 브랜드 베리사(belysa)는 어른들을 위한 동화를 가방으로...</td>\n",
       "      <td>1</td>\n",
       "      <td>1</td>\n",
       "      <td>[\"신예 컨템포러리 핸드백 브랜드 베리사(belysa)는 어른들을 위한 동화를 가방...</td>\n",
       "    </tr>\n",
       "    <tr>\n",
       "      <th>4</th>\n",
       "      <td>FB</td>\n",
       "      <td>L</td>\n",
       "      <td>Today's News</td>\n",
       "      <td>파리 쇼룸을 사로잡은 '베리사'</td>\n",
       "      <td>https://www.fashionbiz.co.kr/article/view.asp?...</td>\n",
       "      <td>2019/12/13</td>\n",
       "      <td>지난 9월 23일부터 10월 2일 약 열흘간의 파리 패션 위크 20SS 컬렉션 기간...</td>\n",
       "      <td>1</td>\n",
       "      <td>1</td>\n",
       "      <td>['지난 9월 23일부터 10월 2일 약 열흘간의 파리 패션 위크 20SS 컬렉션 ...</td>\n",
       "    </tr>\n",
       "    <tr>\n",
       "      <th>5</th>\n",
       "      <td>FB</td>\n",
       "      <td>L</td>\n",
       "      <td>Today's News</td>\n",
       "      <td>삼성물산+YG 노나곤, 론칭 4주년 한정판 선봬</td>\n",
       "      <td>https://www.fashionbiz.co.kr/article/view.asp?...</td>\n",
       "      <td>2018/09/10</td>\n",
       "      <td>삼성물산 패션부문과 YG 엔터테인먼트가 공동 설립한 네추럴나인(대표 양민석)이 선보...</td>\n",
       "      <td>0</td>\n",
       "      <td>0</td>\n",
       "      <td>['또한 노나곤은 메인 모델 블랙핑크 ‘리사’가 상품 기획 단계에서부터 참여해 화제...</td>\n",
       "    </tr>\n",
       "    <tr>\n",
       "      <th>6</th>\n",
       "      <td>FB</td>\n",
       "      <td>L</td>\n",
       "      <td>Today's News</td>\n",
       "      <td>YG 뷰티 문샷, 뮤즈 '리사'와 동남아시아 시장 공략</td>\n",
       "      <td>https://www.fashionbiz.co.kr/article/view.asp?...</td>\n",
       "      <td>2018/08/14</td>\n",
       "      <td>YG플러스(대표 양민석)의 코스메틱 브랜드 문샷이 블랙핑크 리사와 함께 동남아시아 ...</td>\n",
       "      <td>1</td>\n",
       "      <td>1</td>\n",
       "      <td>['YG플러스(대표 양민석)의 코스메틱 브랜드 문샷이 블랙핑크 리사와 함께 동남아시...</td>\n",
       "    </tr>\n",
       "    <tr>\n",
       "      <th>7</th>\n",
       "      <td>FB</td>\n",
       "      <td>L</td>\n",
       "      <td>Today's News</td>\n",
       "      <td>노나곤, 블핑 리사 모델로 올 F/W ‘모즈룩’ 선봬</td>\n",
       "      <td>https://www.fashionbiz.co.kr/article/view.asp?...</td>\n",
       "      <td>2018/06/28</td>\n",
       "      <td>삼성물산패션(상품총괄 박철규)과 YG엔터테인먼트의 합작법인 네추럴나인(대표 양민석)...</td>\n",
       "      <td>1</td>\n",
       "      <td>1</td>\n",
       "      <td>[\"삼성물산패션(상품총괄 박철규)과 YG엔터테인먼트의 합작법인 네추럴나인(대표 양민...</td>\n",
       "    </tr>\n",
       "    <tr>\n",
       "      <th>8</th>\n",
       "      <td>FB</td>\n",
       "      <td>L</td>\n",
       "      <td>Today's News</td>\n",
       "      <td>문샷, 마이크로 쿠션 등 신상품 출시 3일만에 품절</td>\n",
       "      <td>https://www.fashionbiz.co.kr/article/view.asp?...</td>\n",
       "      <td>2018/06/27</td>\n",
       "      <td>YG플러스(대표 양민석)의 뷰티 문샷이 신상품 컬렉션을 출시한지 3일만에 모두 완판...</td>\n",
       "      <td>0</td>\n",
       "      <td>0</td>\n",
       "      <td>['문샷은 글로벌 모델이기도 한 가수 블랙핑크의 멤버 리사의 비주얼을 공개하면서 시...</td>\n",
       "    </tr>\n",
       "    <tr>\n",
       "      <th>9</th>\n",
       "      <td>FB</td>\n",
       "      <td>L</td>\n",
       "      <td>Today's News</td>\n",
       "      <td>YG 뷰티 문샷, 여름 신상품 '리사룩' 이슈</td>\n",
       "      <td>https://www.fashionbiz.co.kr/article/view.asp?...</td>\n",
       "      <td>2018/06/25</td>\n",
       "      <td>YG플러스(대표 양민석)의 뷰티 브랜드 문샷이 여름 시즌을 맞아 ‘리사룩’을 선보인...</td>\n",
       "      <td>1</td>\n",
       "      <td>1</td>\n",
       "      <td>['YG플러스(대표 양민석)의 뷰티 브랜드 문샷이 여름 시즌을 맞아 ‘리사룩’을 선...</td>\n",
       "    </tr>\n",
       "    <tr>\n",
       "      <th>10</th>\n",
       "      <td>FB</td>\n",
       "      <td>L</td>\n",
       "      <td>Today's News</td>\n",
       "      <td>삼성+YG 「노나곤」 ‘블핑’ 리사와 콜래보 이슈</td>\n",
       "      <td>https://www.fashionbiz.co.kr/article/view.asp?...</td>\n",
       "      <td>2018/02/02</td>\n",
       "      <td>삼성물산(패션총괄 박철규)이 YG엔터테인먼트와 손잡고 론칭한 네추럴나인(대표 양민석...</td>\n",
       "      <td>1</td>\n",
       "      <td>1</td>\n",
       "      <td>[\"삼성물산(패션총괄 박철규)이 YG엔터테인먼트와 손잡고 론칭한 네추럴나인(대표 양...</td>\n",
       "    </tr>\n",
       "  </tbody>\n",
       "</table>\n",
       "</div>"
      ],
      "text/plain": [
       "   magazine brand      category                                title  \\\n",
       "0        FB     L  Today's News            셀린느, 블랙핑크 리사 글로벌 앰배서더로 발탁   \n",
       "1        FB     L  Today's News            불가리, 브랜드 앰배서더에 블랙핑크 리사 발탁   \n",
       "2        FB     L  Today's News  핸드백'베리사', '림킴 & 릴체리'와 콜라보레이션 컬렉션 출시   \n",
       "3        FB     L  Today's News  글로벌 최초 VR로 감상하는 베리사(belysa)의 새로운 동화   \n",
       "4        FB     L  Today's News                    파리 쇼룸을 사로잡은 '베리사'   \n",
       "5        FB     L  Today's News           삼성물산+YG 노나곤, 론칭 4주년 한정판 선봬   \n",
       "6        FB     L  Today's News       YG 뷰티 문샷, 뮤즈 '리사'와 동남아시아 시장 공략   \n",
       "7        FB     L  Today's News        노나곤, 블핑 리사 모델로 올 F/W ‘모즈룩’ 선봬   \n",
       "8        FB     L  Today's News         문샷, 마이크로 쿠션 등 신상품 출시 3일만에 품절   \n",
       "9        FB     L  Today's News            YG 뷰티 문샷, 여름 신상품 '리사룩' 이슈   \n",
       "10       FB     L  Today's News          삼성+YG 「노나곤」 ‘블핑’ 리사와 콜래보 이슈   \n",
       "\n",
       "                                                 link        date  \\\n",
       "0   https://www.fashionbiz.co.kr/article/view.asp?...  2020/09/23   \n",
       "1   https://www.fashionbiz.co.kr/article/view.asp?...  2020/07/24   \n",
       "2   https://www.fashionbiz.co.kr/article/view.asp?...  2020/06/24   \n",
       "3   https://www.fashionbiz.co.kr/article/view.asp?...  2020/04/03   \n",
       "4   https://www.fashionbiz.co.kr/article/view.asp?...  2019/12/13   \n",
       "5   https://www.fashionbiz.co.kr/article/view.asp?...  2018/09/10   \n",
       "6   https://www.fashionbiz.co.kr/article/view.asp?...  2018/08/14   \n",
       "7   https://www.fashionbiz.co.kr/article/view.asp?...  2018/06/28   \n",
       "8   https://www.fashionbiz.co.kr/article/view.asp?...  2018/06/27   \n",
       "9   https://www.fashionbiz.co.kr/article/view.asp?...  2018/06/25   \n",
       "10  https://www.fashionbiz.co.kr/article/view.asp?...  2018/02/02   \n",
       "\n",
       "                                             contents  title_brand  check  \\\n",
       "0   신세계인터내셔날(대표 장재영)에서 국내 수입·유통하는 셀린느가 블랙핑크 멤버 리사를...            1      1   \n",
       "1   불가리코리아(대표 이정학)의 이탈리아 럭셔리 브랜드 불가리가 걸그룹 블랙핑크의 멤버...            1      1   \n",
       "2   (사진 : 림킴 X 베리사의 VR티져영상)\\n\\n고감도 하이엔드 감성의 핸드백 브랜...            1      1   \n",
       "3   신예 컨템포러리 핸드백 브랜드 베리사(belysa)는 어른들을 위한 동화를 가방으로...            1      1   \n",
       "4   지난 9월 23일부터 10월 2일 약 열흘간의 파리 패션 위크 20SS 컬렉션 기간...            1      1   \n",
       "5   삼성물산 패션부문과 YG 엔터테인먼트가 공동 설립한 네추럴나인(대표 양민석)이 선보...            0      0   \n",
       "6   YG플러스(대표 양민석)의 코스메틱 브랜드 문샷이 블랙핑크 리사와 함께 동남아시아 ...            1      1   \n",
       "7   삼성물산패션(상품총괄 박철규)과 YG엔터테인먼트의 합작법인 네추럴나인(대표 양민석)...            1      1   \n",
       "8   YG플러스(대표 양민석)의 뷰티 문샷이 신상품 컬렉션을 출시한지 3일만에 모두 완판...            0      0   \n",
       "9   YG플러스(대표 양민석)의 뷰티 브랜드 문샷이 여름 시즌을 맞아 ‘리사룩’을 선보인...            1      1   \n",
       "10  삼성물산(패션총괄 박철규)이 YG엔터테인먼트와 손잡고 론칭한 네추럴나인(대표 양민석...            1      1   \n",
       "\n",
       "                                            word_lisa  \n",
       "0   [\"신세계인터내셔날(대표 장재영)에서 국내 수입·유통하는 셀린느가 블랙핑크 멤버 리...  \n",
       "1   ['불가리코리아(대표 이정학)의 이탈리아 럭셔리 브랜드 불가리가 걸그룹 블랙핑크의 ...  \n",
       "2   [\"(사진 : 림킴 X 베리사의 VR티져영상)\\n\\n고감도 하이엔드 감성의 핸드백 ...  \n",
       "3   [\"신예 컨템포러리 핸드백 브랜드 베리사(belysa)는 어른들을 위한 동화를 가방...  \n",
       "4   ['지난 9월 23일부터 10월 2일 약 열흘간의 파리 패션 위크 20SS 컬렉션 ...  \n",
       "5   ['또한 노나곤은 메인 모델 블랙핑크 ‘리사’가 상품 기획 단계에서부터 참여해 화제...  \n",
       "6   ['YG플러스(대표 양민석)의 코스메틱 브랜드 문샷이 블랙핑크 리사와 함께 동남아시...  \n",
       "7   [\"삼성물산패션(상품총괄 박철규)과 YG엔터테인먼트의 합작법인 네추럴나인(대표 양민...  \n",
       "8   ['문샷은 글로벌 모델이기도 한 가수 블랙핑크의 멤버 리사의 비주얼을 공개하면서 시...  \n",
       "9   ['YG플러스(대표 양민석)의 뷰티 브랜드 문샷이 여름 시즌을 맞아 ‘리사룩’을 선...  \n",
       "10  [\"삼성물산(패션총괄 박철규)이 YG엔터테인먼트와 손잡고 론칭한 네추럴나인(대표 양...  "
      ]
     },
     "execution_count": 51,
     "metadata": {},
     "output_type": "execute_result"
    }
   ],
   "source": [
    "fb_lisa"
   ]
  },
  {
   "cell_type": "code",
   "execution_count": 52,
   "metadata": {
    "scrolled": true
   },
   "outputs": [],
   "source": [
    "fn_lisa['magazine']='FN'"
   ]
  },
  {
   "cell_type": "code",
   "execution_count": 36,
   "metadata": {},
   "outputs": [
    {
     "data": {
      "text/plain": [
       "29"
      ]
     },
     "execution_count": 36,
     "metadata": {},
     "output_type": "execute_result"
    }
   ],
   "source": [
    "word_lisa = []\n",
    "for i in range(len(fn_lisa)):\n",
    "    cont = []\n",
    "    if fn_lisa.loc[i, 'title_brand'] == 1:\n",
    "        cont.append(fn_lisa.loc[i, 'contents'])\n",
    "    else:\n",
    "        for content in fn_lisa.loc[i, 'contents'].split(\"', \\'\"):\n",
    "#             print(content)\n",
    "#             print('-'*50)\n",
    "            if '제니' in content:\n",
    "                cont.append(content)\n",
    "    word_lisa.append(cont)\n",
    "\n",
    "len(word_lisa)"
   ]
  },
  {
   "cell_type": "code",
   "execution_count": 38,
   "metadata": {},
   "outputs": [],
   "source": [
    "fn_lisa['word_lisa'] = word_lisa"
   ]
  },
  {
   "cell_type": "code",
   "execution_count": 42,
   "metadata": {
    "scrolled": true
   },
   "outputs": [
    {
     "data": {
      "text/html": [
       "<div>\n",
       "<style scoped>\n",
       "    .dataframe tbody tr th:only-of-type {\n",
       "        vertical-align: middle;\n",
       "    }\n",
       "\n",
       "    .dataframe tbody tr th {\n",
       "        vertical-align: top;\n",
       "    }\n",
       "\n",
       "    .dataframe thead th {\n",
       "        text-align: right;\n",
       "    }\n",
       "</style>\n",
       "<table border=\"1\" class=\"dataframe\">\n",
       "  <thead>\n",
       "    <tr style=\"text-align: right;\">\n",
       "      <th></th>\n",
       "      <th>brand</th>\n",
       "      <th>magazine</th>\n",
       "      <th>category</th>\n",
       "      <th>title</th>\n",
       "      <th>date</th>\n",
       "      <th>link</th>\n",
       "      <th>title_brand</th>\n",
       "      <th>contents</th>\n",
       "    </tr>\n",
       "  </thead>\n",
       "  <tbody>\n",
       "    <tr>\n",
       "      <th>0</th>\n",
       "      <td>L</td>\n",
       "      <td>W</td>\n",
       "      <td>BEAUTY, 뉴스</td>\n",
       "      <td>리사, 맥 ‘글로벌’ 모델 등극!</td>\n",
       "      <td>2020-10-20</td>\n",
       "      <td>http://www.wkorea.com/2020/10/20/%eb%a6%ac%ec%...</td>\n",
       "      <td>1</td>\n",
       "      <td>['블랙핑크 리사가 메이크업 브랜드 맥의 ‘글로벌’ 앰배서더로 낙점됐다는 소식! 이...</td>\n",
       "    </tr>\n",
       "    <tr>\n",
       "      <th>1</th>\n",
       "      <td>L</td>\n",
       "      <td>W</td>\n",
       "      <td>WHAT'S NEW</td>\n",
       "      <td>셀린느 글로벌 엠버서더가 된 블랙핑크 리사</td>\n",
       "      <td>2020-09-22</td>\n",
       "      <td>http://www.wkorea.com/2020/09/22/%ec%85%80%eb%...</td>\n",
       "      <td>1</td>\n",
       "      <td>['공식적으로 에디 슬리먼 패밀리가 된 그녀!', '블랙핑크 리사가 2020 가을/...</td>\n",
       "    </tr>\n",
       "    <tr>\n",
       "      <th>2</th>\n",
       "      <td>L</td>\n",
       "      <td>W</td>\n",
       "      <td>W HOT ISSUE</td>\n",
       "      <td>블랙핑크 리사, 10억원 사기 피해 당한 사정은?</td>\n",
       "      <td>2020-06-02</td>\n",
       "      <td>http://www.wkorea.com/2020/06/02/%eb%b8%94%eb%...</td>\n",
       "      <td>1</td>\n",
       "      <td>[' YG엔터테인먼트가 그룹 블랙핑크 리사가 전 매니저로부터 10억원의 사기를 당한...</td>\n",
       "    </tr>\n",
       "    <tr>\n",
       "      <th>3</th>\n",
       "      <td>L</td>\n",
       "      <td>W</td>\n",
       "      <td>W HOT ISSUE</td>\n",
       "      <td>블랙핑크 로제, 리사, 지수 솔로곡 공개한다</td>\n",
       "      <td>2020-06-01</td>\n",
       "      <td>http://www.wkorea.com/2020/06/01/%eb%b8%94%eb%...</td>\n",
       "      <td>1</td>\n",
       "      <td>['블랙핑크 로제, 리사, 지수의 솔로곡이 발매된다.', '', '오는 9월 첫 정...</td>\n",
       "    </tr>\n",
       "    <tr>\n",
       "      <th>4</th>\n",
       "      <td>L</td>\n",
       "      <td>W</td>\n",
       "      <td>FEATURE, 피플</td>\n",
       "      <td>리사의 가장 사적인 순간들</td>\n",
       "      <td>2020-03-13</td>\n",
       "      <td>http://www.wkorea.com/2020/03/13/%eb%a6%ac%ec%...</td>\n",
       "      <td>1</td>\n",
       "      <td>['리사가 직접 촬영한 사진들이 포토북으로 발매된다.', ' ', '평소 사진 촬영...</td>\n",
       "    </tr>\n",
       "    <tr>\n",
       "      <th>5</th>\n",
       "      <td>L</td>\n",
       "      <td>W</td>\n",
       "      <td>FASHION, 뉴스</td>\n",
       "      <td>밀라노로 떠난 리사</td>\n",
       "      <td>2020-02-18</td>\n",
       "      <td>http://www.wkorea.com/2020/02/18/%eb%b0%80%eb%...</td>\n",
       "      <td>1</td>\n",
       "      <td>['밀란 패션위크 참석차 출국한 리사의 공항 룩.', '블랙핑크 리사가 오늘 2월 ...</td>\n",
       "    </tr>\n",
       "    <tr>\n",
       "      <th>6</th>\n",
       "      <td>L</td>\n",
       "      <td>W</td>\n",
       "      <td>FASHION, FEATURE</td>\n",
       "      <td>리사의 새로운 행보</td>\n",
       "      <td>2020-02-13</td>\n",
       "      <td>http://www.wkorea.com/2020/02/13/%eb%a6%ac%ec%...</td>\n",
       "      <td>1</td>\n",
       "      <td>['', '', '리사의 패션 브랜드가 탄생할 것으로 보인다.  YG엔터테인먼트가 ...</td>\n",
       "    </tr>\n",
       "    <tr>\n",
       "      <th>7</th>\n",
       "      <td>L</td>\n",
       "      <td>W</td>\n",
       "      <td>W HOT ISSUE</td>\n",
       "      <td>블랙핑크X세레나 고메즈 영상통화, 협업 티징</td>\n",
       "      <td>2020-08-24</td>\n",
       "      <td>http://www.wkorea.com/2020/08/24/%eb%b8%94%eb%...</td>\n",
       "      <td>1</td>\n",
       "      <td>['서로의 팬임을 인증한 두 스타', '8월 28일 블랙핑크와 세레나 고메즈가 함께...</td>\n",
       "    </tr>\n",
       "    <tr>\n",
       "      <th>8</th>\n",
       "      <td>L</td>\n",
       "      <td>W</td>\n",
       "      <td>W HOT ISSUE</td>\n",
       "      <td>블랙핑크가 아이스크림 셀카를 올린 이유는?</td>\n",
       "      <td>2020-07-20</td>\n",
       "      <td>http://www.wkorea.com/2020/07/20/%eb%b8%94%eb%...</td>\n",
       "      <td>1</td>\n",
       "      <td>['‘내셔널 아이스크림 데이’를 기념한 블랙핑크의 귀여운 포스팅.', '제니와 리사...</td>\n",
       "    </tr>\n",
       "    <tr>\n",
       "      <th>9</th>\n",
       "      <td>L</td>\n",
       "      <td>W</td>\n",
       "      <td>FASHION, 뉴스</td>\n",
       "      <td>블랙핑크 컴백! 남다른 패션 스타일링</td>\n",
       "      <td>2020-06-26</td>\n",
       "      <td>http://www.wkorea.com/2020/06/26/%eb%b8%94%eb%...</td>\n",
       "      <td>1</td>\n",
       "      <td>['한국 신진 디자이너부터 하이 패션 브랜드까지 섭렵한 블핑', '6월 26일 드디...</td>\n",
       "    </tr>\n",
       "  </tbody>\n",
       "</table>\n",
       "</div>"
      ],
      "text/plain": [
       "  brand magazine          category                        title        date  \\\n",
       "0     L        W        BEAUTY, 뉴스           리사, 맥 ‘글로벌’ 모델 등극!  2020-10-20   \n",
       "1     L        W        WHAT'S NEW      셀린느 글로벌 엠버서더가 된 블랙핑크 리사  2020-09-22   \n",
       "2     L        W       W HOT ISSUE  블랙핑크 리사, 10억원 사기 피해 당한 사정은?  2020-06-02   \n",
       "3     L        W       W HOT ISSUE     블랙핑크 로제, 리사, 지수 솔로곡 공개한다  2020-06-01   \n",
       "4     L        W       FEATURE, 피플               리사의 가장 사적인 순간들  2020-03-13   \n",
       "5     L        W       FASHION, 뉴스                   밀라노로 떠난 리사  2020-02-18   \n",
       "6     L        W  FASHION, FEATURE                   리사의 새로운 행보  2020-02-13   \n",
       "7     L        W       W HOT ISSUE     블랙핑크X세레나 고메즈 영상통화, 협업 티징  2020-08-24   \n",
       "8     L        W       W HOT ISSUE      블랙핑크가 아이스크림 셀카를 올린 이유는?  2020-07-20   \n",
       "9     L        W       FASHION, 뉴스         블랙핑크 컴백! 남다른 패션 스타일링  2020-06-26   \n",
       "\n",
       "                                                link  title_brand  \\\n",
       "0  http://www.wkorea.com/2020/10/20/%eb%a6%ac%ec%...            1   \n",
       "1  http://www.wkorea.com/2020/09/22/%ec%85%80%eb%...            1   \n",
       "2  http://www.wkorea.com/2020/06/02/%eb%b8%94%eb%...            1   \n",
       "3  http://www.wkorea.com/2020/06/01/%eb%b8%94%eb%...            1   \n",
       "4  http://www.wkorea.com/2020/03/13/%eb%a6%ac%ec%...            1   \n",
       "5  http://www.wkorea.com/2020/02/18/%eb%b0%80%eb%...            1   \n",
       "6  http://www.wkorea.com/2020/02/13/%eb%a6%ac%ec%...            1   \n",
       "7  http://www.wkorea.com/2020/08/24/%eb%b8%94%eb%...            1   \n",
       "8  http://www.wkorea.com/2020/07/20/%eb%b8%94%eb%...            1   \n",
       "9  http://www.wkorea.com/2020/06/26/%eb%b8%94%eb%...            1   \n",
       "\n",
       "                                            contents  \n",
       "0  ['블랙핑크 리사가 메이크업 브랜드 맥의 ‘글로벌’ 앰배서더로 낙점됐다는 소식! 이...  \n",
       "1  ['공식적으로 에디 슬리먼 패밀리가 된 그녀!', '블랙핑크 리사가 2020 가을/...  \n",
       "2  [' YG엔터테인먼트가 그룹 블랙핑크 리사가 전 매니저로부터 10억원의 사기를 당한...  \n",
       "3  ['블랙핑크 로제, 리사, 지수의 솔로곡이 발매된다.', '', '오는 9월 첫 정...  \n",
       "4  ['리사가 직접 촬영한 사진들이 포토북으로 발매된다.', ' ', '평소 사진 촬영...  \n",
       "5  ['밀란 패션위크 참석차 출국한 리사의 공항 룩.', '블랙핑크 리사가 오늘 2월 ...  \n",
       "6  ['', '', '리사의 패션 브랜드가 탄생할 것으로 보인다.  YG엔터테인먼트가 ...  \n",
       "7  ['서로의 팬임을 인증한 두 스타', '8월 28일 블랙핑크와 세레나 고메즈가 함께...  \n",
       "8  ['‘내셔널 아이스크림 데이’를 기념한 블랙핑크의 귀여운 포스팅.', '제니와 리사...  \n",
       "9  ['한국 신진 디자이너부터 하이 패션 브랜드까지 섭렵한 블핑', '6월 26일 드디...  "
      ]
     },
     "execution_count": 42,
     "metadata": {},
     "output_type": "execute_result"
    }
   ],
   "source": [
    "w_lisa"
   ]
  },
  {
   "cell_type": "code",
   "execution_count": 43,
   "metadata": {},
   "outputs": [
    {
     "data": {
      "text/plain": [
       "10"
      ]
     },
     "execution_count": 43,
     "metadata": {},
     "output_type": "execute_result"
    }
   ],
   "source": [
    "word_lisa = []\n",
    "for i in range(len(w_lisa)):\n",
    "    cont = []\n",
    "    if w_lisa.loc[i, 'title_brand'] == 1:\n",
    "        cont.append(w_lisa.loc[i, 'contents'])\n",
    "    else:\n",
    "        for content in w_lisa.loc[i, 'contents'].split(\"', '\"):\n",
    "#             print(content)\n",
    "#             print('-'*50)\n",
    "            if '리사' in content:\n",
    "                cont.append(content)\n",
    "    word_lisa.append(cont)\n",
    "\n",
    "len(word_lisa)"
   ]
  },
  {
   "cell_type": "code",
   "execution_count": 44,
   "metadata": {},
   "outputs": [],
   "source": [
    "w_lisa['word_lisa'] = word_lisa"
   ]
  },
  {
   "cell_type": "markdown",
   "metadata": {},
   "source": [
    "### 컬럼 정렬"
   ]
  },
  {
   "cell_type": "code",
   "execution_count": 53,
   "metadata": {},
   "outputs": [],
   "source": [
    "a_lisa = a_lisa[['magazine', 'brand', 'category', 'title', 'link', 'date', 'contents', 'title_brand', 'word_lisa']]\n",
    "b_lisa = b_lisa[['magazine', 'brand', 'category', 'title', 'link', 'date', 'contents', 'title_brand', 'word_lisa']]\n",
    "c_lisa = c_lisa[['magazine', 'brand', 'category', 'title', 'link', 'date', 'contents', 'title_brand', 'word_lisa']]\n",
    "e_lisa = e_lisa[['magazine', 'brand', 'category', 'title', 'link', 'date', 'contents', 'title_brand', 'word_lisa']]\n",
    "fb_lisa = fn_lisa[['magazine', 'brand', 'category', 'title', 'link', 'date', 'contents', 'title_brand', 'word_lisa']]\n",
    "fn_lisa = fn_lisa[['magazine', 'brand', 'category', 'title', 'link', 'date', 'contents', 'title_brand', 'word_lisa']]\n",
    "m_lisa = m_lisa[['magazine', 'brand', 'category', 'title', 'link', 'date', 'contents', 'title_brand', 'word_lisa']]\n",
    "v_lisa = v_lisa[['magazine', 'brand', 'category', 'title', 'link', 'date', 'contents', 'title_brand', 'word_lisa']]\n",
    "w_lisa = w_lisa[['magazine', 'brand', 'category', 'title', 'link', 'date', 'contents', 'title_brand', 'word_lisa']]"
   ]
  },
  {
   "cell_type": "markdown",
   "metadata": {},
   "source": [
    "### 합치기 pd.concat"
   ]
  },
  {
   "cell_type": "code",
   "execution_count": 54,
   "metadata": {},
   "outputs": [],
   "source": [
    "mag_lisa = pd.concat([a_lisa, b_lisa, c_lisa, e_lisa, fb_lisa, fn_lisa, m_lisa, v_lisa, w_lisa])"
   ]
  },
  {
   "cell_type": "code",
   "execution_count": 55,
   "metadata": {},
   "outputs": [],
   "source": [
    "mag_lisa.reset_index(drop=True, inplace = True)"
   ]
  },
  {
   "cell_type": "code",
   "execution_count": 56,
   "metadata": {},
   "outputs": [
    {
     "data": {
      "text/plain": [
       "158"
      ]
     },
     "execution_count": 56,
     "metadata": {},
     "output_type": "execute_result"
    }
   ],
   "source": [
    "len(mag_lisa)"
   ]
  },
  {
   "cell_type": "code",
   "execution_count": 57,
   "metadata": {},
   "outputs": [
    {
     "data": {
      "text/html": [
       "<div>\n",
       "<style scoped>\n",
       "    .dataframe tbody tr th:only-of-type {\n",
       "        vertical-align: middle;\n",
       "    }\n",
       "\n",
       "    .dataframe tbody tr th {\n",
       "        vertical-align: top;\n",
       "    }\n",
       "\n",
       "    .dataframe thead th {\n",
       "        text-align: right;\n",
       "    }\n",
       "</style>\n",
       "<table border=\"1\" class=\"dataframe\">\n",
       "  <thead>\n",
       "    <tr style=\"text-align: right;\">\n",
       "      <th></th>\n",
       "      <th>magazine</th>\n",
       "      <th>brand</th>\n",
       "      <th>category</th>\n",
       "      <th>title</th>\n",
       "      <th>link</th>\n",
       "      <th>date</th>\n",
       "      <th>contents</th>\n",
       "      <th>title_brand</th>\n",
       "      <th>word_lisa</th>\n",
       "    </tr>\n",
       "  </thead>\n",
       "  <tbody>\n",
       "  </tbody>\n",
       "</table>\n",
       "</div>"
      ],
      "text/plain": [
       "Empty DataFrame\n",
       "Columns: [magazine, brand, category, title, link, date, contents, title_brand, word_lisa]\n",
       "Index: []"
      ]
     },
     "execution_count": 57,
     "metadata": {},
     "output_type": "execute_result"
    }
   ],
   "source": [
    "mag_lisa[mag_lisa['word_lisa'].isnull()]"
   ]
  },
  {
   "cell_type": "code",
   "execution_count": 58,
   "metadata": {},
   "outputs": [],
   "source": [
    "mag_lisa.to_csv('./blackpink/mag_lisa.csv', sep='|', encoding = 'utf-8', index = False)"
   ]
  },
  {
   "cell_type": "code",
   "execution_count": 59,
   "metadata": {},
   "outputs": [],
   "source": [
    "mag_lisa = pd.read_csv('./blackpink/mag_lisa.csv', sep='|', encoding = 'utf-8')"
   ]
  },
  {
   "cell_type": "markdown",
   "metadata": {},
   "source": [
    "## 전처리"
   ]
  },
  {
   "cell_type": "markdown",
   "metadata": {},
   "source": [
    "### 기호 삭제"
   ]
  },
  {
   "cell_type": "code",
   "execution_count": 60,
   "metadata": {},
   "outputs": [],
   "source": [
    "mag_lisa['word_lisa'] = mag_lisa['word_lisa'].str.replace('[', '').str.replace(']', '').str.replace('\\\\', '').str.replace('\"', '').str.replace(\"'\", \"\").str.replace('「', '').str.replace('」', '').str.replace('”', '').str.replace('‘', '').str.replace('“', '')"
   ]
  },
  {
   "cell_type": "code",
   "execution_count": 61,
   "metadata": {},
   "outputs": [
    {
     "data": {
      "text/plain": [
       "'얼루어 커버화보 촬영장에서 만난 블랙핑크 리사, 안녕하세요 얼루어, 리사입니다 반가워요., 어디에서도 볼 수 없었던 비하인드 컷부터 심쿵 아이콘텍트, 그리고 그녀가 직접 고른 열 가지 키워드까지 모아봤습니다.'"
      ]
     },
     "execution_count": 61,
     "metadata": {},
     "output_type": "execute_result"
    }
   ],
   "source": [
    "mag_lisa['word_lisa'][0]"
   ]
  },
  {
   "cell_type": "markdown",
   "metadata": {},
   "source": [
    "## 디자이너나 브랜드명 replace"
   ]
  },
  {
   "cell_type": "markdown",
   "metadata": {},
   "source": [
    "### 블랙핑크 BLACKPINK"
   ]
  },
  {
   "cell_type": "code",
   "execution_count": 66,
   "metadata": {
    "scrolled": true
   },
   "outputs": [],
   "source": [
    "for word in mag_lisa['word_lisa']:\n",
    "    if '블랙핑크' in word:\n",
    "        print(word)\n",
    "        print('-'*50)"
   ]
  },
  {
   "cell_type": "code",
   "execution_count": 65,
   "metadata": {},
   "outputs": [],
   "source": [
    "mag_lisa['word_lisa'] = mag_lisa['word_lisa'].str.replace('블랙핑크', 'BLACKPINK')"
   ]
  },
  {
   "cell_type": "markdown",
   "metadata": {},
   "source": [
    "### 샤넬"
   ]
  },
  {
   "cell_type": "code",
   "execution_count": 67,
   "metadata": {},
   "outputs": [
    {
     "name": "stdout",
     "output_type": "stream",
     "text": [
      "협찬 태그는 이렇게, 리사!,  셀린의 뮤즈인 리사., 그녀는 노란 니트 톱에 연청 스커트를 입고 다양한 포즈를 취한 사진을 SNS에 업로드했다., 미니 백을 들고 있는 그녀의 모습만큼이나 눈길을 끈 건 바로 협찬 두 글자만 적힌 해시태그.,  정직하게 표기한 모습이 귀여움을 자아내기까지 한다.\n",
      "--------------------------------------------------\n",
      "감상 포인트 언뜻 단순한 듯한 비트 속에서 인도 전통악기 시타르가 깔리고 랩, 멜로디, 특히 하우 유 라이크댓’이란 외침이 반복적으로 들리다 뚝 끊긴다. 〈빌보드〉는 후크가 너무나 즉각적이어서 매력에 빠지지 않을 수 없다.고 평론. 팔색조 같은 멤버 한 명, 한 명의 치명적 유혹 속에 허우적거리다 보면 어느덧 하우 유 라이크 댓?을 흥얼거리게 되고 절대 잊혀지지 않는다. 패션 면에선 이제 인간 OO’가 아닌 디자이너 브랜드가 따라오는 스타일 아이콘이 됐다. 제니는 샤넬, 지수는 디올 뷰티, 리사는 셀린느, 로제는 생로랑의 앰배서더. 미국 NBC 〈지미 팰런 쇼〉에서는 한복에서 영감을 얻은 의상을 입어 K-스타일’ 전파에도 공헌., 여덕’이 유독 많은 레드벨벳에서도 막강 팬덤을 자랑하는 아이린과 슬기가 첫 유닛 듀오로 출범. 세계에서 비명이 터져 나온 웅장한 공개였다. 6일 발매한 첫 미니앨범 몬스터(Monster)는 직후 국내 음반 차트 올킬, 동명 타이틀곡 역시 음원 차트 1위, 아이튠즈 앨범 차트 45개 지역 1위, 중국 QQ뮤직 및 쿠거우뮤직 디지털 앨범 차트 1위에 오르는 기염을 토했다., \n",
      "--------------------------------------------------\n",
      " 2 n리사가 선택한 가방은 셀린느의 카바스 미니 트리옹프 백. 기존의 모던한 로고 장식을 골드 자수로 대체해 빈티지한 감성을 더했어요. 트렌디한 미니 사이즈 백은 간단한 소지품만 넣고 다니기에도 제격!\n",
      "--------------------------------------------------\n",
      " BLACKPINK 리사 ,  BLACKPINK 리사 , 시크함이 물씬 풍기는 리사의 초이스는 셀린의 트리옴프 백. 블랙 셔츠와 극명한 대비를 이루는 레드 컬러를 선택해 룩에 활기를 불어넣었군요.\n",
      "--------------------------------------------------\n",
      " 리사 ,  리사 , 리사는 강렬한 레드 컬러가 인상적인 셀린의 트리옹프 백을 선택했어요. 에디 슬리먼의 손에서 재탄생한 셀린의 로고 잠금장치가 매끈한 바디와 만나 치명적인 매력을 뽐내고 있어요. 40여 가지의 컬러와 다양한 소재로 만나볼 수 있는 셀린의 트리옹프 백은 약 3백만원대.\n",
      "--------------------------------------------------\n",
      "셀린 프런트로에서 포착된 BLACKPINK의 리사. 화려한 비즈 재킷과 캐주얼한 데님을 과감하게 믹스매치해 차세대 패셔니스타로서의 면모를 거침없이 드러냈다. 포인트 아이템으로 연출한 레드 컬러 백처럼, 강렬한 채도의 액세서리는 룩에 활력을 불어넣는다.\n",
      "--------------------------------------------------\n",
      ", , , , , , , , , , , , , , , , , , , , , , , , , , , , , , , Visual Director GEE EUN (@geeeunonly), , , 패션 & 뮤직 아이콘 리사가 셀린느의 완벽한 뮤즈가 되어 2020 S/S 셀린느 맨즈 컬렉션에 참석했. 셀린느의 19 F/W 컬렉션 룩과 함께 더없이 근사한 리사의 모습, 지금 바로 만나보시길!, , , , , , , Photographer LEE JUN KYOUNG (@leeeejunkyoung), Film Director LEE JUN KYOUNG, Film Editor LEE TAE KYUNG (@tkay_xy), Cinematographer LEE SO JUNG (@zojng), Hair PARK SEMI (@ssem0919), Make-up LEE MYUNG SUN (@maeng666), Styling PARK MIN HEE\n",
      "--------------------------------------------------\n",
      ", , , BLACKPINK 리사가 22일 명품 브랜드 셀린느(CELINE)의 글로벌 앰배서더로 선정, 한류 스타의 파워를 과시했다., , 셀린느 측은 리사는 세계적으로 인정받는 BLACKPINK의 멤버로서 다재다능한 아티스트라며 크리에이티브 디렉터 에디 슬리먼이 프랑스 파리에서 촬영한 리사의 사진을 여러 장 공개했다., , 그동안 리사는 에디 슬리먼 초대로 파리 컬렉션에 참석하는 등 끈끈한 유대관계를 이어왔다., , 에디 슬리먼은 셀린느를 맡은 이후 처음 만든 백을 리사에게 선물했을 정도로 둘의 우정은 돈독한 것으로 알려졌다., , 에디 슬리먼이 직접 촬영한 4장의 흑백 사진 속 리사는 시크한 가죽 재킷과 클래식한 트위드 재킷으로 시크한 파리지엔룩을 연출하며 특유의 매력을 뽐냈다. 셀린느의 크리에이티브 디렉터 에디 슬리먼은 사진작가로 꾸준히 활동을 이어온 정상급 패션 디자이너 중 한 명이다., , 한편 럭셔리 주얼리 브랜드 불가리에 이어 셀린느의 앰배서더로 선정된 리사가 속한 그룹 BLACKPINK는 오는 10월 2일 데뷔 4년 만의 첫 정규 앨범 THE ALBUM(디 앨범)을 발매한다., , , , , , , , ,  패션엔 권승주 기자, fashionn@fashionn.com, , \n",
      "--------------------------------------------------\n",
      ", , , BLACKPINK 리사가 22일 명품 브랜드 셀린느(CELINE)의 글로벌 앰배서더로 선정, 한류 스타의 파워를 과시했다., , 셀린느 측은 리사는 세계적으로 인정받는 BLACKPINK의 멤버로서 다재다능한 아티스트라며 크리에이티브 디렉터 에디 슬리먼이 프랑스 파리에서 촬영한 리사의 사진을 여러 장 공개했다., , 그동안 리사는 에디 슬리먼 초대로 파리 컬렉션에 참석하는 등 끈끈한 유대관계를 이어왔다., , 에디 슬리먼은 셀린느를 맡은 이후 처음 만든 백을 리사에게 선물했을 정도로 둘의 우정은 돈독한 것으로 알려졌다., , 에디 슬리먼이 직접 촬영한 4장의 흑백 사진 속 리사는 시크한 가죽 재킷과 클래식한 트위드 재킷으로 시크한 파리지엔룩을 연출하며 특유의 매력을 뽐냈다. 셀린느의 크리에이티브 디렉터 에디 슬리먼은 사진작가로 꾸준히 활동을 이어온 정상급 패션 디자이너 중 한 명이다., , 한편 럭셔리 주얼리 브랜드 불가리에 이어 셀린느의 앰배서더로 선정된 리사가 속한 그룹 BLACKPINK는 오는 10월 2일 데뷔 4년 만의 첫 정규 앨범 THE ALBUM(디 앨범)을 발매한다., , , , , , , , ,  패션엔 권승주 기자, fashionn@fashionn.com, , \n",
      "--------------------------------------------------\n",
      "UNE FILLE CELINE- LISA, 셀린느(CELINE)와 지속적인 유대 관계를 형성해온 리사(LISA)가 이번 FW20 시즌부터 공식적으로 셀린느 글로벌 앰배서더로 선정되었다. 아래 그녀와의 단독 인터뷰를 공개한다., CELINE: LISA, 나에게 있어 셀린느는 특별한 의미를 지닌 브랜드이며, 에디는 놀라운 디자이너이자 포토그래퍼이다. 셀린느와 에디는 언제나 나에게 새로운 영감을 준다. 에디와 함께 셀린느의 첫 번째 엠버서더로 작업할 수 있어 영광스럽고 기쁘다., CELINE 인터뷰: LISA, 1: 셀린느 옷을 입을 때 어떤 감정이 드나요?, 리사: 무엇보다도 셀린느의 옷은 정말 편하다. 사이즈 조절이나 수선이 거의 필요 없을 정도로 잘 맞는다! 사실, 가끔 나에게 맞춤 제작한 것 같은 핏의 옷을 입을 때면 마치 셀린느 런웨이를 걷는 듯한 느낌도 든다., 2: 셀린느에서 특별히 선호하는 핏이나 실루엣이 있는지. 있다면 그 이유는?, 리사: 나에게는 무릎 길이의 플레어 스커트와 부츠 컷 데님, 그리고 리본 카라 셔츠가 셀린느의 시그니처 아이템이다. 특히 청바지의 경우, 다리를 더욱 길어 보이게 해주는 것 같아 자주 착용하는 편이다. 플레어 스커트는 옷장 속에 꼭 간직해야 할, 유행을 타지 않고 꾸준히 사랑받는 클래식 아이템이다. 리본 카라 셔츠는 그 중 제일 좋아하는 아이템이다. 굉장히 다양한 방식의 스타일링이 가능하다. 리본을 푸르면 시크함을 유지하면서도 전체적인 스타일을 바꿀 수 있다., 3: 셀린느의 앰배서더로 선정되었는데 이는 어떤 의미가 있는지., 리사: 셀린느의 첫 앰배서더가 된다는 건 정말 큰 의미가 있다. 에디 슬리먼(Hedi Slimane) 과 함께 이렇게 특별한 뜻 깊은 파트너십의 일원으로 참여하게 되어서 매우 기쁠 따름이다. 그와 셀린느는 늘 영감의 원천이었고, 나는 내가 셀린느에서 느꼈던 그 감정들을 돌려줄 수 있었으면 한다. , 4: 셀린느를 언제 처음 알았는지, 첫 번째 셀린느 패션쇼는 언제인지. 제일 처음으로 구매한 셀린느 아이템은?, 리사: 15살일 때, 패션에 푹 빠진 사촌을 통해 셀린느라는 브랜드를 처음 접했다. 내가 구입한 첫 셀린느 아이템은 벨트백’이다. 지금까지도 가장 소중하게 생각하는 아이템 중 하나이기도 하고, BLACKPINK의 데뷔 무대 공연에 들고 갔던게 아직도 기억이 난다. 나의 첫 번째 셀린느 패션쇼는 2020년 봄, 파리에서 열린 셀린느 맨즈웨어 컬렉션이다., 5: 에디 슬리먼(Hedi Slimane)의 패션 디자인과 관련하여 가장 매력적인 혹은 독특한 점은., 리사: 에디의 디자인은 언뜻 보면 심플해 보일 수 있지만, 자세히 살펴보면 매우 기발하고 다이내믹하다. 그의 옷을 입을 때면 별도의 액세서리를 거의 걸치지 않는 편이다. 그 룩 자체로도 매우 강한 인상을 주기 때문이다. 에디의 창의성은 우아함과 카리스마를 동시에 구현한다. 그의 디자인은 하이패션이면서도 동시에 웨어러블함으로써 일상복의 경계를 자유롭게 넘나든다., 6: 에디 슬리먼(Hedi Slimane)의 사진에서 가장 매력적이고 독특하다고 생각하는 부분은., 리사: 특히 에디의 흑백 초상화를 좋아한다. 그의 사진들은 굉장히 리드미컬하다. 그가 그려내는 이미지는 로큰롤 음악을 상징하는 것 같다. 로큰롤이 다분히 시각적인 매체라면, 에디의 사진은 그러한 시각적 형상화의 결정체이다. 그의 피사체는 생생하고 역동적인 느낌을 자아낸다. 그의 작품의 그러한 점을 정말 좋아한다., 7: 개인적인 스타일이 있는지. 자신만의 스타일 규칙’이라든지., 리사: 요즘 편안한 의상과 스타일에 푹 빠졌다. 예를 들어, 오버사이즈 자켓과 함께 티셔츠, 청바지와 미니 사이즈 가방을 매치해서 자주 입는다. 최근에는 조끼 위해 셀린느 자켓을 입었는데, 레이어링이 굉장히 클래식하면서도 조금은 색다른 분위기를 자아냈다. 이것이 바로 내가 셀린느를 좋아하는 또다른 이유이다. 에디의 피스들은 어떻게 믹스매치 하는지에 따라 완전히 다른 룩, 하지만 늘 새롭고 스타일리쉬한 아웃핏을 연출할 수 있다., 8: 셀린느의 가장 최근 컬레션에서 가장 마음에 드는 3가지 아이템은 무엇이며, 그 이유는., 리사: 나는 항상 맥시한 길이감의 의 퍼코트를 원했다. 이번 FW시즌에 입어볼 생각이다., 리사: 사실, 아직까지는 한 번도 화려한 컬러로 된 레이어드 스타일의 플레어 스커트를 입어본 적이 없는 것 같다. 앞으로 몇 달 안에 꼭 입어보고 싶은 아이템 중 하나이다., , 리사: 이 드레스의 러플 디테일과 반짝거리는 글리터 텍스터를 정말 좋아한다. BLACKPINK How You Like That 뮤직 비디오 촬영 때 이 룩을 입을 정도로 이 드레스의 모든 것이 마음에 든다. 10점 만점에 10점!, 9: 셀린느의 가방 중에서 가장 좋아하는 아이템들을 꼽자면 어떤 것인지. 그 이유는?, 리사: 튼튼하면서도 클래식한 시크함을 자아내는 이 가방이 좋다. 얼마 전, 셀린느에서 이 가방에 나의 이니셜을 새겨 선물로 주었다. 너무나도 친절한 셀린느에게 감사하다., 리사: 이 가방은 정말, 정말 시크하다. 뱀가죽과 골드 하드웨어의 조합이라니. 더 이상의 설명이 필요없을 것 같다., 10: 패션쇼는 종종 무슨 일이든 일어날 수 있다는 느낌이 들만큼 강렬한 에너지를 자아낸다. 작년에 파리에서 열린 패션쇼에 갔을 때, 기억에 남는 순간이 있는지., 리사: 조명이 빠르게 켜지면서 모델들이 음악의 비트에 맞춰 걸어 나올 때가 기억이 난다. 쇼에 너무 몰입하다 나머지 사진 찍는 것도 잊어버릴 정도였다. 어떤 순간에는 직접 그 런웨이에 선 듯한 느낌마저 들었다. 마치 무대에서 공연할 때와 같은 전율을 느꼈다. 그만큼 작년 셀린느의 쇼는 강렬한 인상을 남겼다. 정말로, 잊을 수 없는 경험이었다., 11: 파리에서 가장 좋아하는 것은 어떤 것인지. 파리에 본인만 아는 휴양지, 혹은 파리에 머무를 때 주기적으로 하는 것이 있는지., 리사: 사진 찍는 것을 정말 좋아한다. 그리고 그런 내게 파리는 세계에서 그림같이 아름다운 도시 중 하나이다. 특히 필름 카메라를 들고 트로카데로 공원(Trocadéro)과 튈르리 정원 (Tuileries Gardens)을 거니는 것을 좋아한다. 몽테뉴 거리(Avenue Montaigne)도  파리에서 제가 가장 좋아하는 장소 중 하나이다. 그곳에 갈 때면 셀린느 부티크도 빠짐없이 방문한다!,  \n",
      "--------------------------------------------------\n",
      "BLACKPINK 리사, BLACKPINK 리사는 베스트 아이템 활용의 정석을 보여줍니다. 셀린의 베스트에 플리츠 스커트와 니삭스를 더해 요즘 여자 아이돌이 푹 빠진 1990년대 하이틴 패션에 초점을 맞췄죠. 무엇보다 그녀처럼 재킷과 베스트는 몸에 딱 맞는 디자인이어야 한다는 사실, 잊지 마세요!\n",
      "--------------------------------------------------\n",
      "이제 K-팝 아이돌은 패션쇼장에서 빼놓을 수 없는 볼거리가 되었다. 밀라노와 파리는 어디든 한국에서 온 아이돌 스타가 등장하기만 하면, 거리는 마비되고 관객들은 비명 소리에 귀가 멀 지경이다. 이번 시즌은 유난히 한국 아이돌 스타의 전쟁이 될 듯하다. 이미 샤넬과 셀린의 손님으로 유명한 BLACKPINK의 제니와 리사는 파리 방문을 예고했다. 여기에 지수와 로제 역시 모 브랜드의 초대로 패션 수도를 찾을 예정. 구찌의 카이, 프라다의 선미는 밀라노를 찾을 예정이다. 이 외에도 아직 밝힐 수 없는 아이돌 그룹 역시 파리에 상륙할 것이라는 소문이 돌고 있다. 여기에 <보그>와 함께 뉴욕의 코치 쇼장을 찾을 예정인 라이언’도 빼놓을 수 없는 한국 스타. 그야말로 K-팝 아이돌의 전성시대가 하이패션계에 펼쳐졌다.\n",
      "--------------------------------------------------\n",
      "공식적으로 에디 슬리먼 패밀리가 된 그녀!, BLACKPINK 리사가 2020 가을/겨울 시즌부터 셀린느의 공식 글로벌 엠버서더가 되었다. 그동안 리사는 셀린느의 크리에이티브 디렉터 에디 슬리먼 초대로 파리 쇼에 참석하는 등 브랜드과 끈끈한 유대관계를 이어왔다. 에디 슬리먼이 셀린느를 맡은 이후 처음 만든 백을 리사에게 선물했을 정도로 둘의 우정은 꽤 오래전부터 시작됐다. 더욱 단단해진 둘의 관계로 리사 그리고 셀린느가 함께 보여줄 패셔너블한 모먼트를 기대해 본다.\n",
      "--------------------------------------------------\n"
     ]
    }
   ],
   "source": [
    "for word in mag_lisa['word_lisa']:\n",
    "    if '셀린' in word:\n",
    "        print(word)\n",
    "        print('-'*50)"
   ]
  },
  {
   "cell_type": "code",
   "execution_count": 68,
   "metadata": {},
   "outputs": [],
   "source": [
    "mag_lisa['word_lisa'] = mag_lisa['word_lisa'].str.replace('샤넬', 'CHANEL')"
   ]
  },
  {
   "cell_type": "code",
   "execution_count": 69,
   "metadata": {},
   "outputs": [],
   "source": [
    "# 디올\n",
    "mag_lisa['word_lisa'] = mag_lisa['word_lisa'].str.replace('디올', 'DIOR')"
   ]
  },
  {
   "cell_type": "code",
   "execution_count": 70,
   "metadata": {},
   "outputs": [],
   "source": [
    "# 셀린느\n",
    "mag_lisa['word_lisa'] = mag_lisa['word_lisa'].str.replace('셀린느', 'CELINE')\n"
   ]
  },
  {
   "cell_type": "code",
   "execution_count": 71,
   "metadata": {},
   "outputs": [],
   "source": [
    "# 셀린\n",
    "mag_lisa['word_lisa'] = mag_lisa['word_lisa'].str.replace('셀린', 'CELINE')"
   ]
  },
  {
   "cell_type": "code",
   "execution_count": 72,
   "metadata": {},
   "outputs": [],
   "source": [
    "# 생로랑\n",
    "mag_lisa['word_lisa'] = mag_lisa['word_lisa'].str.replace('생 로랑', 'SAINTLAURENT')\n",
    "mag_lisa['word_lisa'] = mag_lisa['word_lisa'].str.replace('생로랑', 'SAINTLAURENT')"
   ]
  },
  {
   "cell_type": "code",
   "execution_count": null,
   "metadata": {},
   "outputs": [],
   "source": []
  },
  {
   "cell_type": "code",
   "execution_count": null,
   "metadata": {},
   "outputs": [],
   "source": []
  },
  {
   "cell_type": "code",
   "execution_count": null,
   "metadata": {},
   "outputs": [],
   "source": []
  },
  {
   "cell_type": "markdown",
   "metadata": {},
   "source": [
    "## list(article_list) 생성 후 append"
   ]
  },
  {
   "cell_type": "code",
   "execution_count": 73,
   "metadata": {},
   "outputs": [],
   "source": [
    "contents_list = []"
   ]
  },
  {
   "cell_type": "code",
   "execution_count": 74,
   "metadata": {},
   "outputs": [],
   "source": [
    "article_list = []\n",
    "for word in mag_lisa['word_lisa']:\n",
    "    article_list.append(word)"
   ]
  },
  {
   "cell_type": "code",
   "execution_count": 75,
   "metadata": {},
   "outputs": [
    {
     "data": {
      "text/plain": [
       "158"
      ]
     },
     "execution_count": 75,
     "metadata": {},
     "output_type": "execute_result"
    }
   ],
   "source": [
    "len(article_list)"
   ]
  },
  {
   "cell_type": "markdown",
   "metadata": {},
   "source": [
    "## 트위터 패키지 안에 konlpy 모듈 호출"
   ]
  },
  {
   "cell_type": "code",
   "execution_count": 76,
   "metadata": {},
   "outputs": [],
   "source": [
    "from konlpy.tag import Twitter"
   ]
  },
  {
   "cell_type": "code",
   "execution_count": 77,
   "metadata": {},
   "outputs": [
    {
     "name": "stderr",
     "output_type": "stream",
     "text": [
      "C:\\Users\\wnsgo\\anaconda3\\lib\\site-packages\\konlpy\\tag\\_okt.py:16: UserWarning: \"Twitter\" has changed to \"Okt\" since KoNLPy v0.4.5.\n",
      "  warn('\"Twitter\" has changed to \"Okt\" since KoNLPy v0.4.5.')\n"
     ]
    }
   ],
   "source": [
    "twitter = Twitter()"
   ]
  },
  {
   "cell_type": "markdown",
   "metadata": {},
   "source": [
    "### 각 문장별로 형태소 구분하기"
   ]
  },
  {
   "cell_type": "code",
   "execution_count": 78,
   "metadata": {},
   "outputs": [
    {
     "name": "stdout",
     "output_type": "stream",
     "text": [
      "158\n"
     ]
    }
   ],
   "source": [
    "sentences_tag = []\n",
    "\n",
    "for sentence in article_list:\n",
    "    morph = twitter.pos(sentence)\n",
    "    sentences_tag.append(morph)\n",
    "    \n",
    "    \n",
    "\n",
    "print(len(sentences_tag))\n"
   ]
  },
  {
   "cell_type": "code",
   "execution_count": 196,
   "metadata": {},
   "outputs": [
    {
     "data": {
      "text/plain": [
       "[('시어', 'Noun'),\n",
       " ('한', 'Josa'),\n",
       " ('소재', 'Noun'),\n",
       " ('의', 'Josa'),\n",
       " ('아가', 'Noun'),\n",
       " ('일', 'Noun'),\n",
       " ('패턴', 'Noun'),\n",
       " ('블라우스', 'Noun'),\n",
       " ('에', 'Josa'),\n",
       " ('레터', 'Noun'),\n",
       " ('링', 'Noun'),\n",
       " ('장식', 'Noun'),\n",
       " ('톱', 'Noun'),\n",
       " ('과', 'Josa'),\n",
       " ('펑키', 'Noun'),\n",
       " ('한', 'Josa'),\n",
       " ('무드', 'Noun'),\n",
       " ('의', 'Josa'),\n",
       " ('액세서리', 'Noun'),\n",
       " ('를', 'Josa'),\n",
       " ('레이어', 'Noun'),\n",
       " ('드해', 'Noun'),\n",
       " ('개성', 'Noun'),\n",
       " ('을', 'Josa'),\n",
       " ('더한', 'Adjective'),\n",
       " ('리사', 'Noun'),\n",
       " ('.', 'Punctuation')]"
      ]
     },
     "execution_count": 196,
     "metadata": {},
     "output_type": "execute_result"
    }
   ],
   "source": [
    "sentences_tag[0]"
   ]
  },
  {
   "cell_type": "code",
   "execution_count": 79,
   "metadata": {},
   "outputs": [
    {
     "data": {
      "text/plain": [
       "{'Adjective': '형용사',\n",
       " 'Adverb': '부사',\n",
       " 'Alpha': '알파벳',\n",
       " 'Conjunction': '접속사',\n",
       " 'Determiner': '관형사',\n",
       " 'Eomi': '어미',\n",
       " 'Exclamation': '감탄사',\n",
       " 'Foreign': '외국어, 한자 및 기타기호',\n",
       " 'Hashtag': '트위터 해쉬태그',\n",
       " 'Josa': '조사',\n",
       " 'KoreanParticle': '(ex: ㅋㅋ)',\n",
       " 'Noun': '명사',\n",
       " 'Number': '숫자',\n",
       " 'PreEomi': '선어말어미',\n",
       " 'Punctuation': '구두점',\n",
       " 'ScreenName': '트위터 아이디',\n",
       " 'Suffix': '접미사',\n",
       " 'Unknown': '미등록어',\n",
       " 'Verb': '동사'}"
      ]
     },
     "execution_count": 79,
     "metadata": {},
     "output_type": "execute_result"
    }
   ],
   "source": [
    "twitter.tagset"
   ]
  },
  {
   "cell_type": "markdown",
   "metadata": {},
   "source": [
    "### stopword 추가"
   ]
  },
  {
   "cell_type": "code",
   "execution_count": 80,
   "metadata": {},
   "outputs": [],
   "source": [
    "sw_df = pd.read_csv('stopwords.csv', header=None)"
   ]
  },
  {
   "cell_type": "code",
   "execution_count": 81,
   "metadata": {},
   "outputs": [],
   "source": [
    "sw_df.columns = ['stopword']"
   ]
  },
  {
   "cell_type": "code",
   "execution_count": 82,
   "metadata": {},
   "outputs": [],
   "source": [
    "stop_words = []\n",
    "for sw in sw_df['stopword']:\n",
    "    stop_words.append(sw)"
   ]
  },
  {
   "cell_type": "code",
   "execution_count": 252,
   "metadata": {},
   "outputs": [
    {
     "name": "stdout",
     "output_type": "stream",
     "text": [
      "675\n",
      "<class 'list'>\n"
     ]
    }
   ],
   "source": [
    "print(len(stop_words))\n",
    "print(type(stop_words))"
   ]
  },
  {
   "cell_type": "code",
   "execution_count": 83,
   "metadata": {},
   "outputs": [
    {
     "data": {
      "text/plain": [
       "['둘', '셋', '넷', '다섯', '여섯', '일곱', '여덟', '아홉', '령', '영']"
      ]
     },
     "execution_count": 83,
     "metadata": {},
     "output_type": "execute_result"
    }
   ],
   "source": [
    "stop_words[-10:]"
   ]
  },
  {
   "cell_type": "code",
   "execution_count": 84,
   "metadata": {},
   "outputs": [],
   "source": [
    "add_0 = ['것', '수', '때', '의', '있는', '더', '그', 'I', '위', '전', \n",
    "         '이', '같은', '제', '〉', 'a', 'to', '〈', '것', '속', '↑']\n",
    "for w in add_0:\n",
    "    stop_words.append(w)"
   ]
  },
  {
   "cell_type": "markdown",
   "metadata": {},
   "source": [
    "### 1. 명사, 형용사, 관형사, 알파벳, 외국어 품사만 선별해 리스트에 담기"
   ]
  },
  {
   "cell_type": "code",
   "execution_count": 85,
   "metadata": {},
   "outputs": [],
   "source": [
    "noun_adj_list= []\n",
    "for sentence1 in sentences_tag:\n",
    "    for word, tag in sentence1:\n",
    "        if tag in ['Noun', 'Adjective', 'Alpha', 'Determiner', 'Foreign']:\n",
    "            if not word in stop_words:\n",
    "                noun_adj_list.append(word)"
   ]
  },
  {
   "cell_type": "code",
   "execution_count": 86,
   "metadata": {},
   "outputs": [
    {
     "data": {
      "text/plain": [
       "14137"
      ]
     },
     "execution_count": 86,
     "metadata": {},
     "output_type": "execute_result"
    }
   ],
   "source": [
    "len(noun_adj_list)"
   ]
  },
  {
   "cell_type": "code",
   "execution_count": 87,
   "metadata": {},
   "outputs": [
    {
     "data": {
      "text/plain": [
       "['얼루어',\n",
       " '커버',\n",
       " '화보',\n",
       " '촬영장',\n",
       " '만난',\n",
       " 'BLACKPINK',\n",
       " '리사',\n",
       " '안녕하세요',\n",
       " '얼루어',\n",
       " '리사',\n",
       " '입니다',\n",
       " '반가워요',\n",
       " '볼',\n",
       " '없었던',\n",
       " '비하인드',\n",
       " '컷',\n",
       " '심쿵',\n",
       " '아이콘',\n",
       " '텍트',\n",
       " '그녀']"
      ]
     },
     "execution_count": 87,
     "metadata": {},
     "output_type": "execute_result"
    }
   ],
   "source": [
    "noun_adj_list[:20]"
   ]
  },
  {
   "cell_type": "code",
   "execution_count": 88,
   "metadata": {},
   "outputs": [
    {
     "data": {
      "text/plain": [
       "['얼루어', '커버', '화보', '촬영장', '만난', 'BLACKPINK', '리사', '안녕하세요', '얼루어', '리사']"
      ]
     },
     "execution_count": 88,
     "metadata": {},
     "output_type": "execute_result"
    }
   ],
   "source": [
    "noun_adj_list[:10]"
   ]
  },
  {
   "cell_type": "code",
   "execution_count": 100,
   "metadata": {},
   "outputs": [],
   "source": [
    "ADFN_list= []\n",
    "for sentence1 in sentences_tag:\n",
    "    words = []\n",
    "    for word, tag in sentence1:\n",
    "        if tag in ['Adjective', 'Determiner','Foreign','Noun', 'Alpha']:\n",
    "            if word not in stop_words:\n",
    "                words.append(word)\n",
    "    ADFN_list.append(words)"
   ]
  },
  {
   "cell_type": "code",
   "execution_count": 101,
   "metadata": {},
   "outputs": [
    {
     "data": {
      "text/plain": [
       "158"
      ]
     },
     "execution_count": 101,
     "metadata": {},
     "output_type": "execute_result"
    }
   ],
   "source": [
    "len(ADFN_list)"
   ]
  },
  {
   "cell_type": "code",
   "execution_count": 103,
   "metadata": {
    "scrolled": true
   },
   "outputs": [
    {
     "data": {
      "text/plain": [
       "['얼루어',\n",
       " '커버',\n",
       " '화보',\n",
       " '촬영장',\n",
       " '만난',\n",
       " 'BLACKPINK',\n",
       " '리사',\n",
       " '안녕하세요',\n",
       " '얼루어',\n",
       " '리사',\n",
       " '입니다',\n",
       " '반가워요',\n",
       " '볼',\n",
       " '없었던',\n",
       " '비하인드',\n",
       " '컷',\n",
       " '심쿵',\n",
       " '아이콘',\n",
       " '텍트',\n",
       " '그녀',\n",
       " '직접',\n",
       " '열',\n",
       " '가지',\n",
       " '키',\n",
       " '워드']"
      ]
     },
     "execution_count": 103,
     "metadata": {},
     "output_type": "execute_result"
    }
   ],
   "source": [
    "ADFN_list[0]"
   ]
  },
  {
   "cell_type": "code",
   "execution_count": 104,
   "metadata": {},
   "outputs": [],
   "source": [
    "mag_lisa['ADFN'] = ADFN_list"
   ]
  },
  {
   "cell_type": "code",
   "execution_count": null,
   "metadata": {},
   "outputs": [],
   "source": []
  },
  {
   "cell_type": "markdown",
   "metadata": {},
   "source": [
    "### 선별된 품사별 빈도수 계산 & 상위 빈도 10위까지 출력"
   ]
  },
  {
   "cell_type": "code",
   "execution_count": 89,
   "metadata": {
    "scrolled": true
   },
   "outputs": [
    {
     "name": "stdout",
     "output_type": "stream",
     "text": [
      "[('리사', 460), ('BLACKPINK', 285), ('패션', 133), ('사진', 119), ('컬러', 83), ('지수', 82), ('제니', 81), ('블랙', 81), ('로제', 78), ('룩', 75), ('기자', 70), ('컬렉션', 67), ('브랜드', 63), ('멤버', 62), ('CELINE', 62), ('스타', 55), ('참석', 55), ('매력', 52), ('프라다', 52), ('매치', 50), ('통해', 50), ('속', 48), ('한편', 47), ('무대', 46), ('재킷', 46), ('화보', 44), ('걸', 44), ('공개', 44), ('모습', 42), ('포인트', 42), ('티셔츠', 41), ('아이템', 41), ('↑', 40), ('가장', 39), ('완성', 39), ('모델', 38), ('팬츠', 38), ('스타일', 36), ('톱', 35), ('데님', 35), ('말', 33), ('스커트', 33), ('YG', 33), ('레드', 32), ('연출', 32), ('W', 32), ('그룹', 32), ('출국', 32), ('정말', 31), ('날', 31), ('촬영', 31), ('여름', 30), ('영상', 30), ('시크', 30), ('곤', 30), ('그녀', 29), ('노', 29), ('일링', 28), ('F', 28), ('파리', 28), ('팬', 27), ('백', 27), ('부츠', 27), ('에디', 27), ('봄', 25), ('있어요', 25), ('분위기', 25), ('메이크업', 25), ('장식', 25), ('지난', 25), ('코', 25), ('걸그룹', 25), ('앨범', 24), ('마이클', 24), ('어스', 24), ('원피스', 24), ('공항', 24), ('다양한', 23), ('중', 23), ('지금', 23), ('요', 23), ('니트', 23), ('미니', 23), ('강렬한', 23), ('시즌', 23), ('데뷔', 23), ('사람', 22), ('해', 22), ('표현', 22), ('한국', 22), ('골드', 22), ('마무리', 22), ('클래식', 22), ('공식', 22), ('엔터테인먼트', 22), ('이민지', 22), ('인천', 22), ('국제공항', 22), ('없는', 21), ('사랑스러운', 21), ('두', 21), ('패턴', 21), ('느낌', 21), ('점', 21), ('예정', 21), ('카디건', 21), ('차', 21), ('거', 20), ('세계', 20), ('생각', 20), ('시선', 20), ('라인', 20), ('첫', 20), ('드레스', 20), ('캐', 20), ('주얼', 20), ('최수영', 20), ('건', 19), ('같아요', 19), ('게', 19), ('좋아하는', 19), ('화이트', 19), ('디자이너', 19), ('음악', 19), ('얼', 19), ('대표', 19), ('여성', 19), ('활용', 19), ('아이콘', 18), ('감각', 18), ('얼굴', 18), ('K', 18), ('듯', 18), ('선택', 18), ('최근', 18), ('시작', 18), ('콘서트', 18), ('집중', 18), ('크롭트', 18), ('가방', 18), ('해외', 18), ('세인트', 18), ('사랑', 17), ('좋은', 17), ('투어', 17), ('방콕', 17), ('태국', 17), ('입술', 17), ('디자인', 17), ('쇼', 17), ('S', 17), ('and', 17), ('레더', 17), ('캠페인', 17), ('오전', 17), ('리지', 17), ('널스', 17), ('요즘', 16), ('카메라', 16), ('역시', 16), ('화려한', 16), ('헤어', 16), ('불가리', 16), ('소재', 16), ('레이어', 16), ('활동', 16), ('하이', 16), ('후디', 16), ('착용', 16), ('입니다', 15), ('안', 15), ('소화', 15), ('셔츠', 15), ('아이돌', 15), ('스니커즈', 15), ('화제', 15), ('후', 15), ('스타일리시', 15), ('비주', 15), ('아디다스', 15), ('대한', 14), ('핑크', 14), ('비즈', 14), ('미국', 14), ('주얼리', 14), ('무드', 14), ('the', 14), ('더욱', 14), ('자리', 14), ('뉴욕', 14), ('서로', 14), ('코트', 14), ('직접', 13), ('가지', 13), ('기억', 13), ('꿈', 13), ('많은', 13), ('내', 13), ('체인', 13), ('in', 13)]\n"
     ]
    }
   ],
   "source": [
    "word = Counter(noun_adj_list)\n",
    "print(word.most_common(200))"
   ]
  },
  {
   "cell_type": "code",
   "execution_count": 90,
   "metadata": {},
   "outputs": [],
   "source": [
    "# # 한 글자인 단어는 제외\n",
    "\n",
    "# for i, v in enumerate(noun_adj_list):\n",
    "#     if len(v)<2:\n",
    "#         noun_adj_list.pop(i)"
   ]
  },
  {
   "cell_type": "code",
   "execution_count": 91,
   "metadata": {},
   "outputs": [],
   "source": [
    "count = Counter(noun_adj_list)"
   ]
  },
  {
   "cell_type": "code",
   "execution_count": 92,
   "metadata": {},
   "outputs": [
    {
     "name": "stdout",
     "output_type": "stream",
     "text": [
      "('리사', 460)\n",
      "('BLACKPINK', 285)\n",
      "('패션', 133)\n",
      "('사진', 119)\n",
      "('컬러', 83)\n",
      "('지수', 82)\n",
      "('제니', 81)\n",
      "('블랙', 81)\n",
      "('로제', 78)\n",
      "('룩', 75)\n",
      "('기자', 70)\n",
      "('컬렉션', 67)\n",
      "('브랜드', 63)\n",
      "('멤버', 62)\n",
      "('CELINE', 62)\n",
      "('스타', 55)\n",
      "('참석', 55)\n",
      "('매력', 52)\n",
      "('프라다', 52)\n",
      "('매치', 50)\n",
      "('통해', 50)\n",
      "('속', 48)\n",
      "('한편', 47)\n",
      "('무대', 46)\n",
      "('재킷', 46)\n",
      "('화보', 44)\n",
      "('걸', 44)\n",
      "('공개', 44)\n",
      "('모습', 42)\n",
      "('포인트', 42)\n",
      "('티셔츠', 41)\n",
      "('아이템', 41)\n",
      "('↑', 40)\n",
      "('가장', 39)\n",
      "('완성', 39)\n",
      "('모델', 38)\n",
      "('팬츠', 38)\n",
      "('스타일', 36)\n",
      "('톱', 35)\n",
      "('데님', 35)\n",
      "('말', 33)\n",
      "('스커트', 33)\n",
      "('YG', 33)\n",
      "('레드', 32)\n",
      "('연출', 32)\n",
      "('W', 32)\n",
      "('그룹', 32)\n",
      "('출국', 32)\n",
      "('정말', 31)\n",
      "('날', 31)\n",
      "('촬영', 31)\n",
      "('여름', 30)\n",
      "('영상', 30)\n",
      "('시크', 30)\n",
      "('곤', 30)\n",
      "('그녀', 29)\n",
      "('노', 29)\n",
      "('일링', 28)\n",
      "('F', 28)\n",
      "('파리', 28)\n",
      "('팬', 27)\n",
      "('백', 27)\n",
      "('부츠', 27)\n",
      "('에디', 27)\n",
      "('봄', 25)\n",
      "('있어요', 25)\n",
      "('분위기', 25)\n",
      "('메이크업', 25)\n",
      "('장식', 25)\n",
      "('지난', 25)\n",
      "('코', 25)\n",
      "('걸그룹', 25)\n",
      "('앨범', 24)\n",
      "('마이클', 24)\n",
      "('어스', 24)\n",
      "('원피스', 24)\n",
      "('공항', 24)\n",
      "('다양한', 23)\n",
      "('중', 23)\n",
      "('지금', 23)\n",
      "('요', 23)\n",
      "('니트', 23)\n",
      "('미니', 23)\n",
      "('강렬한', 23)\n",
      "('시즌', 23)\n",
      "('데뷔', 23)\n",
      "('사람', 22)\n",
      "('해', 22)\n",
      "('표현', 22)\n",
      "('한국', 22)\n",
      "('골드', 22)\n",
      "('마무리', 22)\n",
      "('클래식', 22)\n",
      "('공식', 22)\n",
      "('엔터테인먼트', 22)\n",
      "('이민지', 22)\n",
      "('인천', 22)\n",
      "('국제공항', 22)\n",
      "('없는', 21)\n",
      "('사랑스러운', 21)\n",
      "('두', 21)\n",
      "('패턴', 21)\n",
      "('느낌', 21)\n",
      "('점', 21)\n",
      "('예정', 21)\n",
      "('카디건', 21)\n",
      "('차', 21)\n",
      "('거', 20)\n",
      "('세계', 20)\n",
      "('생각', 20)\n",
      "('시선', 20)\n",
      "('라인', 20)\n",
      "('첫', 20)\n",
      "('드레스', 20)\n",
      "('캐', 20)\n",
      "('주얼', 20)\n",
      "('최수영', 20)\n",
      "('건', 19)\n",
      "('같아요', 19)\n",
      "('게', 19)\n",
      "('좋아하는', 19)\n",
      "('화이트', 19)\n",
      "('디자이너', 19)\n",
      "('음악', 19)\n",
      "('얼', 19)\n",
      "('대표', 19)\n",
      "('여성', 19)\n",
      "('활용', 19)\n",
      "('아이콘', 18)\n",
      "('감각', 18)\n",
      "('얼굴', 18)\n",
      "('K', 18)\n",
      "('듯', 18)\n",
      "('선택', 18)\n",
      "('최근', 18)\n",
      "('시작', 18)\n",
      "('콘서트', 18)\n",
      "('집중', 18)\n",
      "('크롭트', 18)\n",
      "('가방', 18)\n",
      "('해외', 18)\n",
      "('세인트', 18)\n",
      "('사랑', 17)\n",
      "('좋은', 17)\n",
      "('투어', 17)\n",
      "('방콕', 17)\n",
      "('태국', 17)\n",
      "('입술', 17)\n",
      "('디자인', 17)\n",
      "('쇼', 17)\n",
      "('S', 17)\n",
      "('and', 17)\n",
      "('레더', 17)\n",
      "('캠페인', 17)\n",
      "('오전', 17)\n",
      "('리지', 17)\n",
      "('널스', 17)\n",
      "('요즘', 16)\n",
      "('카메라', 16)\n",
      "('역시', 16)\n",
      "('화려한', 16)\n",
      "('헤어', 16)\n",
      "('불가리', 16)\n",
      "('소재', 16)\n",
      "('레이어', 16)\n",
      "('활동', 16)\n",
      "('하이', 16)\n",
      "('후디', 16)\n",
      "('착용', 16)\n",
      "('입니다', 15)\n",
      "('안', 15)\n",
      "('소화', 15)\n",
      "('셔츠', 15)\n",
      "('아이돌', 15)\n",
      "('스니커즈', 15)\n",
      "('화제', 15)\n",
      "('후', 15)\n",
      "('스타일리시', 15)\n",
      "('비주', 15)\n",
      "('아디다스', 15)\n",
      "('대한', 14)\n",
      "('핑크', 14)\n",
      "('비즈', 14)\n",
      "('미국', 14)\n",
      "('주얼리', 14)\n",
      "('무드', 14)\n",
      "('the', 14)\n",
      "('더욱', 14)\n",
      "('자리', 14)\n",
      "('뉴욕', 14)\n",
      "('서로', 14)\n",
      "('코트', 14)\n",
      "('직접', 13)\n",
      "('가지', 13)\n",
      "('기억', 13)\n",
      "('꿈', 13)\n",
      "('많은', 13)\n",
      "('내', 13)\n",
      "('체인', 13)\n",
      "('in', 13)\n"
     ]
    }
   ],
   "source": [
    "word_list = count.most_common(200)\n",
    "for v in word_list:\n",
    "    print(v)"
   ]
  },
  {
   "cell_type": "code",
   "execution_count": null,
   "metadata": {},
   "outputs": [],
   "source": []
  },
  {
   "cell_type": "markdown",
   "metadata": {},
   "source": [
    "## 워드클라우드 만들기"
   ]
  },
  {
   "cell_type": "code",
   "execution_count": 93,
   "metadata": {},
   "outputs": [],
   "source": [
    "\n",
    "import matplotlib.pyplot as plt"
   ]
  },
  {
   "cell_type": "markdown",
   "metadata": {},
   "source": [
    "### 패키지 설치 및 폰트 어쩌구"
   ]
  },
  {
   "cell_type": "code",
   "execution_count": 94,
   "metadata": {},
   "outputs": [
    {
     "name": "stdout",
     "output_type": "stream",
     "text": [
      "Malgun Gothic C:\\WINDOWS\\Fonts\\malgun.ttf\n",
      "Yu Gothic C:\\WINDOWS\\Fonts\\YuGothB.ttc\n",
      "HYGothic-Extra C:\\WINDOWS\\Fonts\\H2GTRE.TTF\n",
      "Franklin Gothic Medium C:\\WINDOWS\\Fonts\\framdit.ttf\n",
      "Malgun Gothic C:\\Windows\\Fonts\\malgunbd.ttf\n",
      "Yu Gothic C:\\Windows\\Fonts\\YuGothL.ttc\n",
      "Century Gothic C:\\Windows\\Fonts\\GOTHIC.TTF\n",
      "Yu Gothic C:\\Windows\\Fonts\\YuGothM.ttc\n",
      "Yu Gothic C:\\WINDOWS\\Fonts\\YuGothR.ttc\n",
      "MS Gothic C:\\WINDOWS\\Fonts\\msgothic.ttc\n",
      "HYGothic-Medium C:\\WINDOWS\\Fonts\\H2GTRM.TTF\n",
      "Malgun Gothic C:\\WINDOWS\\Fonts\\malgunsl.ttf\n",
      "Century Gothic C:\\Windows\\Fonts\\GOTHICI.TTF\n",
      "Century Gothic C:\\WINDOWS\\Fonts\\GOTHICBI.TTF\n",
      "Century Gothic C:\\Windows\\Fonts\\GOTHICB.TTF\n",
      "Franklin Gothic Medium C:\\WINDOWS\\Fonts\\framd.ttf\n"
     ]
    }
   ],
   "source": [
    "import matplotlib.font_manager as fm\n",
    "\n",
    "# 이용 가능한 폰트 중 '고딕'만 선별\n",
    "for font in fm.fontManager.ttflist:\n",
    "    if 'Gothic' in font.name:\n",
    "        print(font.name, font.fname)"
   ]
  },
  {
   "cell_type": "code",
   "execution_count": 95,
   "metadata": {},
   "outputs": [],
   "source": [
    "font_path = 'C:\\WINDOWS\\Fonts\\malgun.ttf'"
   ]
  },
  {
   "cell_type": "markdown",
   "metadata": {},
   "source": [
    "### wordcloud 그리기"
   ]
  },
  {
   "cell_type": "code",
   "execution_count": 96,
   "metadata": {},
   "outputs": [],
   "source": [
    "from wordcloud import WordCloud"
   ]
  },
  {
   "cell_type": "code",
   "execution_count": 97,
   "metadata": {},
   "outputs": [],
   "source": [
    "wc = WordCloud(font_path=font_path, background_color=\"white\", width=600, height=400)"
   ]
  },
  {
   "cell_type": "code",
   "execution_count": 98,
   "metadata": {},
   "outputs": [
    {
     "data": {
      "image/png": "[encoded data removed]",
      "text/plain": [
       "<Figure size 432x288 with 1 Axes>"
      ]
     },
     "metadata": {
      "needs_background": "light"
     },
     "output_type": "display_data"
    },
    {
     "data": {
      "text/plain": [
       "<wordcloud.wordcloud.WordCloud at 0x236a64f02c8>"
      ]
     },
     "execution_count": 98,
     "metadata": {},
     "output_type": "execute_result"
    }
   ],
   "source": [
    "wc.generate_from_frequencies(dict(word_list))\n",
    "\n",
    "plt.imshow(wc) \n",
    "plt.axis('off') \n",
    "plt.show()\n",
    "\n",
    "\n",
    "wc.to_file('lisa_adj_twitter.png')"
   ]
  },
  {
   "cell_type": "code",
   "execution_count": null,
   "metadata": {},
   "outputs": [],
   "source": []
  },
  {
   "cell_type": "code",
   "execution_count": 105,
   "metadata": {},
   "outputs": [],
   "source": [
    "mag_LCE = mag_lisa[['magazine', 'brand', 'title', 'link', 'date', 'word_lisa', 'ADFN']]"
   ]
  },
  {
   "cell_type": "code",
   "execution_count": 106,
   "metadata": {},
   "outputs": [],
   "source": [
    "mag_LCE.to_csv('./magazine/final/mag_LCE.csv', sep = '|', encoding = 'utf-8', index = False)"
   ]
  },
  {
   "cell_type": "code",
   "execution_count": null,
   "metadata": {},
   "outputs": [],
   "source": []
  },
  {
   "cell_type": "code",
   "execution_count": null,
   "metadata": {},
   "outputs": [],
   "source": []
  },
  {
   "cell_type": "code",
   "execution_count": null,
   "metadata": {},
   "outputs": [],
   "source": []
  },
  {
   "cell_type": "code",
   "execution_count": null,
   "metadata": {},
   "outputs": [],
   "source": []
  },
  {
   "cell_type": "code",
   "execution_count": null,
   "metadata": {},
   "outputs": [],
   "source": []
  },
  {
   "cell_type": "code",
   "execution_count": null,
   "metadata": {},
   "outputs": [],
   "source": []
  },
  {
   "cell_type": "code",
   "execution_count": null,
   "metadata": {},
   "outputs": [],
   "source": []
  },
  {
   "cell_type": "code",
   "execution_count": null,
   "metadata": {},
   "outputs": [],
   "source": []
  }
 ],
 "metadata": {
  "kernelspec": {
   "display_name": "Python 3",
   "language": "python",
   "name": "python3"
  },
  "language_info": {
   "codemirror_mode": {
    "name": "ipython",
    "version": 3
   },
   "file_extension": ".py",
   "mimetype": "text/x-python",
   "name": "python",
   "nbconvert_exporter": "python",
   "pygments_lexer": "ipython3",
   "version": "3.7.6"
  }
 },
 "nbformat": 4,
 "nbformat_minor": 2
}
