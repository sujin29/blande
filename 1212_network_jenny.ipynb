{
 "cells": [
  {
   "cell_type": "code",
   "execution_count": 1,
   "metadata": {},
   "outputs": [],
   "source": [
    "import pandas as pd\n",
    "import numpy as np\n",
    "import re\n",
    "import networkx as nx\n",
    "import matplotlib.pyplot as plt"
   ]
  },
  {
   "cell_type": "code",
   "execution_count": 2,
   "metadata": {},
   "outputs": [],
   "source": [
    "# 한글 폰트 문제 해결\n",
    "import platform\n",
    "\n",
    "from matplotlib import font_manager, rc\n",
    "# plt.rcParams['axes.unicode_minus'] = False\n",
    "\n",
    "if platform.system() == 'Darwin':\n",
    "    rc('font', family='AppleGothic')\n",
    "elif platform.system() == 'Windows':\n",
    "    path = \"c:/Windows/Fonts/malgun.ttf\"\n",
    "    font_name = font_manager.FontProperties(fname=path).get_name()\n",
    "    rc('font', family=font_name)\n",
    "else:\n",
    "    print('Unknown system... sorry~~~~') "
   ]
  },
  {
   "cell_type": "code",
   "execution_count": 3,
   "metadata": {},
   "outputs": [],
   "source": [
    "mag_je = pd.read_csv('./magazine/final/mag_JECH.csv', encoding = 'utf-8', sep = '|')"
   ]
  },
  {
   "cell_type": "code",
   "execution_count": 4,
   "metadata": {},
   "outputs": [],
   "source": [
    "mag_je['ADFN'] = mag_je['ADFN'].str.replace('[', '').str.replace(']', '').str.replace(\"'\", \"\").str.split(', ')"
   ]
  },
  {
   "cell_type": "markdown",
   "metadata": {},
   "source": [
    "### top50 리스트 생성"
   ]
  },
  {
   "cell_type": "code",
   "execution_count": 5,
   "metadata": {},
   "outputs": [],
   "source": [
    "top200 = pd.read_csv('./magazine/final/jennytop200.csv', sep='|', encoding = 'utf-8')"
   ]
  },
  {
   "cell_type": "code",
   "execution_count": 6,
   "metadata": {},
   "outputs": [
    {
     "data": {
      "text/html": [
       "<div>\n",
       "<style scoped>\n",
       "    .dataframe tbody tr th:only-of-type {\n",
       "        vertical-align: middle;\n",
       "    }\n",
       "\n",
       "    .dataframe tbody tr th {\n",
       "        vertical-align: top;\n",
       "    }\n",
       "\n",
       "    .dataframe thead th {\n",
       "        text-align: right;\n",
       "    }\n",
       "</style>\n",
       "<table border=\"1\" class=\"dataframe\">\n",
       "  <thead>\n",
       "    <tr style=\"text-align: right;\">\n",
       "      <th></th>\n",
       "      <th>word</th>\n",
       "      <th>count</th>\n",
       "    </tr>\n",
       "  </thead>\n",
       "  <tbody>\n",
       "    <tr>\n",
       "      <th>0</th>\n",
       "      <td>제니</td>\n",
       "      <td>748</td>\n",
       "    </tr>\n",
       "    <tr>\n",
       "      <th>1</th>\n",
       "      <td>BLACKPINK</td>\n",
       "      <td>327</td>\n",
       "    </tr>\n",
       "    <tr>\n",
       "      <th>2</th>\n",
       "      <td>스타일</td>\n",
       "      <td>197</td>\n",
       "    </tr>\n",
       "    <tr>\n",
       "      <th>3</th>\n",
       "      <td>패션</td>\n",
       "      <td>192</td>\n",
       "    </tr>\n",
       "    <tr>\n",
       "      <th>4</th>\n",
       "      <td>컬러</td>\n",
       "      <td>187</td>\n",
       "    </tr>\n",
       "    <tr>\n",
       "      <th>...</th>\n",
       "      <td>...</td>\n",
       "      <td>...</td>\n",
       "    </tr>\n",
       "    <tr>\n",
       "      <th>195</th>\n",
       "      <td>지난</td>\n",
       "      <td>22</td>\n",
       "    </tr>\n",
       "    <tr>\n",
       "      <th>196</th>\n",
       "      <td>국제공항</td>\n",
       "      <td>22</td>\n",
       "    </tr>\n",
       "    <tr>\n",
       "      <th>197</th>\n",
       "      <td>뒤</td>\n",
       "      <td>21</td>\n",
       "    </tr>\n",
       "    <tr>\n",
       "      <th>198</th>\n",
       "      <td>준</td>\n",
       "      <td>21</td>\n",
       "    </tr>\n",
       "    <tr>\n",
       "      <th>199</th>\n",
       "      <td>사용</td>\n",
       "      <td>21</td>\n",
       "    </tr>\n",
       "  </tbody>\n",
       "</table>\n",
       "<p>200 rows × 2 columns</p>\n",
       "</div>"
      ],
      "text/plain": [
       "          word  count\n",
       "0           제니    748\n",
       "1    BLACKPINK    327\n",
       "2          스타일    197\n",
       "3           패션    192\n",
       "4           컬러    187\n",
       "..         ...    ...\n",
       "195         지난     22\n",
       "196       국제공항     22\n",
       "197          뒤     21\n",
       "198          준     21\n",
       "199         사용     21\n",
       "\n",
       "[200 rows x 2 columns]"
      ]
     },
     "execution_count": 6,
     "metadata": {},
     "output_type": "execute_result"
    }
   ],
   "source": [
    "top200"
   ]
  },
  {
   "cell_type": "code",
   "execution_count": 7,
   "metadata": {},
   "outputs": [
    {
     "name": "stdout",
     "output_type": "stream",
     "text": [
      "50\n",
      "['제니', 'BLACKPINK', '스타일', '패션', '컬러', 'CHANEL', '룩', '헤어', '스타', '연출', '사진', '블랙', '매치', '포인트', '모습', '일링', '리사', '브랜드', '지수', '완성', '앞머리', '팬츠', '매력', '그녀', '로제', '메이크업', '아이템', '화이트', '입술', '기자', '분위기', '재킷', '걸', '톱', '머리', '패턴', '대', '착용', '생각', '말', '레드', '화보', '선택', '제품', '전', '얼굴', '공개', '통해', '눈', '니트']\n"
     ]
    }
   ],
   "source": [
    "top50 = []\n",
    "for i in range(50):\n",
    "    top50.append(top200.loc[i, 'word'])\n",
    "    \n",
    "print(len(top50))\n",
    "print(top50)"
   ]
  },
  {
   "cell_type": "markdown",
   "metadata": {},
   "source": [
    "### top100"
   ]
  },
  {
   "cell_type": "code",
   "execution_count": 8,
   "metadata": {},
   "outputs": [
    {
     "name": "stdout",
     "output_type": "stream",
     "text": [
      "100\n",
      "['제니', 'BLACKPINK', '스타일', '패션', '컬러', 'CHANEL', '룩', '헤어', '스타', '연출', '사진', '블랙', '매치', '포인트', '모습', '일링', '리사', '브랜드', '지수', '완성', '앞머리', '팬츠', '매력', '그녀', '로제', '메이크업', '아이템', '화이트', '입술', '기자', '분위기', '재킷', '걸', '톱', '머리', '패턴', '대', '착용', '생각', '말', '레드', '화보', '선택', '제품', '전', '얼굴', '공개', '통해', '눈', '니트', '가장', '데님', '카디건', '멤버', '핑크', '선글라스', '무드', '무대', '백', '공항', '밴드', '디자인', '느낌', '장식', '라인', '사람', '한편', '컬렉션', '지금', '드레스', '시작', '두', '액세서리', '미니', '그룹', '팬', '트', '소화', '립', '↑', '부분', '활용', '티셔츠', '앨범', '날', '첫', '시크', '티', '호', '참석', '투어']\n"
     ]
    }
   ],
   "source": [
    "top100 = []\n",
    "for i in range(100):\n",
    "    top100.append(top200.loc[i, 'word'])\n",
    "    \n",
    "print(len(top100))\n",
    "print(top100[:91])"
   ]
  },
  {
   "cell_type": "markdown",
   "metadata": {},
   "source": [
    "### top50만 남기기"
   ]
  },
  {
   "cell_type": "code",
   "execution_count": 10,
   "metadata": {},
   "outputs": [
    {
     "data": {
      "text/plain": [
       "297"
      ]
     },
     "execution_count": 10,
     "metadata": {},
     "output_type": "execute_result"
    }
   ],
   "source": [
    "len(mag_je)"
   ]
  },
  {
   "cell_type": "code",
   "execution_count": 11,
   "metadata": {},
   "outputs": [],
   "source": [
    "top50_word = []\n",
    "for i in range(len(mag_je)):\n",
    "    w=[]\n",
    "    for word in mag_je.loc[i, 'ADFN']:\n",
    "        if word in top50:\n",
    "            w.append(word)\n",
    "    top50_word.append(w)"
   ]
  },
  {
   "cell_type": "code",
   "execution_count": 12,
   "metadata": {},
   "outputs": [],
   "source": [
    "top100_word = []\n",
    "for i in range(len(mag_je)):\n",
    "    w=[]\n",
    "    for word in mag_je.loc[i, 'ADFN']:\n",
    "        if word in top100:\n",
    "            w.append(word)\n",
    "    top100_word.append(w)"
   ]
  },
  {
   "cell_type": "markdown",
   "metadata": {},
   "source": [
    "### item 남기기"
   ]
  },
  {
   "cell_type": "code",
   "execution_count": 13,
   "metadata": {},
   "outputs": [],
   "source": [
    "item = ['백', '드레스', '재킷', '주얼리', '옷', '슈즈', '스커트', '링', '팬츠', '가방', '슈트', '향수', '의상', '데님', '액세서리', '톱',\n",
    "'셔츠', '모자', '수트', '스니커즈', '니트', '시계', '워치', '핸드백', '벨트', '선글라스', '목걸이', '티셔츠', '쇼츠', '샌들',\n",
    " '귀고리', '워치', '코트', '부츠', '케이프']"
   ]
  },
  {
   "cell_type": "code",
   "execution_count": 14,
   "metadata": {},
   "outputs": [],
   "source": [
    "item_word = []\n",
    "for i in range(len(mag_je)):\n",
    "    w=[]\n",
    "    for word in mag_je.loc[i, 'ADFN']:\n",
    "        if word in item:\n",
    "            w.append(word)\n",
    "    item_word.append(w)"
   ]
  },
  {
   "cell_type": "markdown",
   "metadata": {},
   "source": [
    "### top100이면서 item이 아닌 것"
   ]
  },
  {
   "cell_type": "code",
   "execution_count": 15,
   "metadata": {},
   "outputs": [],
   "source": [
    "top100_not_item_word = []\n",
    "for i in range(len(mag_je)):\n",
    "    w=[]\n",
    "    for word in mag_je.loc[i, 'ADFN']:\n",
    "        if word in top100:\n",
    "            if word not in item:\n",
    "                w.append(word)\n",
    "    top100_not_item_word.append(w)"
   ]
  },
  {
   "cell_type": "code",
   "execution_count": 16,
   "metadata": {},
   "outputs": [
    {
     "data": {
      "text/plain": [
       "297"
      ]
     },
     "execution_count": 16,
     "metadata": {},
     "output_type": "execute_result"
    }
   ],
   "source": [
    "len(top100_not_item_word)"
   ]
  },
  {
   "cell_type": "code",
   "execution_count": 172,
   "metadata": {},
   "outputs": [
    {
     "data": {
      "text/plain": [
       "['디자이너',\n",
       " '가을',\n",
       " '겨울',\n",
       " '스타일링',\n",
       " '모델',\n",
       " 'CHANEL',\n",
       " '클래식',\n",
       " '룩',\n",
       " 'CHANEL',\n",
       " '여성',\n",
       " 'CHANEL',\n",
       " '가브리엘',\n",
       " '디자인',\n",
       " '디자인',\n",
       " '사랑',\n",
       " '사랑',\n",
       " '사랑',\n",
       " '라인',\n",
       " '라인',\n",
       " '클래식',\n",
       " '라인',\n",
       " 'CHANEL']"
      ]
     },
     "execution_count": 172,
     "metadata": {},
     "output_type": "execute_result"
    }
   ],
   "source": [
    "top100_not_item_word[1]"
   ]
  },
  {
   "cell_type": "code",
   "execution_count": null,
   "metadata": {},
   "outputs": [],
   "source": []
  },
  {
   "cell_type": "code",
   "execution_count": null,
   "metadata": {},
   "outputs": [],
   "source": []
  },
  {
   "cell_type": "code",
   "execution_count": 125,
   "metadata": {
    "scrolled": true
   },
   "outputs": [
    {
     "data": {
      "text/plain": [
       "1450"
      ]
     },
     "execution_count": 125,
     "metadata": {},
     "output_type": "execute_result"
    }
   ],
   "source": [
    "len(top50_word)"
   ]
  },
  {
   "cell_type": "code",
   "execution_count": 126,
   "metadata": {},
   "outputs": [
    {
     "data": {
      "text/plain": [
       "[['CHANEL', 'CHANEL'],\n",
       " ['디자이너',\n",
       "  '가방',\n",
       "  '모델',\n",
       "  '옷',\n",
       "  'CHANEL',\n",
       "  '클래식',\n",
       "  '백',\n",
       "  '팬츠',\n",
       "  '가방',\n",
       "  'CHANEL',\n",
       "  '여성',\n",
       "  'CHANEL',\n",
       "  '디자인',\n",
       "  '디자인',\n",
       "  '새로운',\n",
       "  '옷',\n",
       "  '재킷',\n",
       "  '재킷',\n",
       "  '재킷',\n",
       "  '팬츠',\n",
       "  '가방',\n",
       "  '백',\n",
       "  '백',\n",
       "  '클래식',\n",
       "  'CHANEL',\n",
       "  '백'],\n",
       " ['CHANEL'],\n",
       " ['브랜드',\n",
       "  'CHANEL',\n",
       "  '브랜드',\n",
       "  '새로운',\n",
       "  '브랜드',\n",
       "  '럭셔리',\n",
       "  '브랜드',\n",
       "  '럭셔리',\n",
       "  '브랜드',\n",
       "  '브랜드',\n",
       "  'CHANEL'],\n",
       " ['컬러', 'CHANEL', 'CHANEL']]"
      ]
     },
     "execution_count": 126,
     "metadata": {},
     "output_type": "execute_result"
    }
   ],
   "source": [
    "top50_word[:5]"
   ]
  },
  {
   "cell_type": "markdown",
   "metadata": {},
   "source": [
    "### 텍스트 한줄씩 읽어와 dataset에 기록"
   ]
  },
  {
   "cell_type": "markdown",
   "metadata": {},
   "source": [
    "### 어프라이어리(Apriori) 알고리즘을 적용하여 연관규칙 분석 수행"
   ]
  },
  {
   "cell_type": "code",
   "execution_count": 19,
   "metadata": {},
   "outputs": [],
   "source": [
    "# 어프라이어리(Apriori)\n",
    "from apyori import apriori"
   ]
  },
  {
   "cell_type": "code",
   "execution_count": 17,
   "metadata": {},
   "outputs": [
    {
     "data": {
      "text/plain": [
       "['BLACKPINK',\n",
       " '제니',\n",
       " '메이크업',\n",
       " '룩',\n",
       " '스타',\n",
       " '눈',\n",
       " '앞머리',\n",
       " '메이크업',\n",
       " '눈',\n",
       " '메이크업',\n",
       " '메이크업',\n",
       " '대',\n",
       " '대',\n",
       " '스타',\n",
       " '메이크업',\n",
       " '메이크업',\n",
       " '포인트',\n",
       " '메이크업',\n",
       " '스타일',\n",
       " '블랙',\n",
       " '눈',\n",
       " '앞머리',\n",
       " '메이크업',\n",
       " '눈',\n",
       " '앞머리',\n",
       " '포인트',\n",
       " '메이크업',\n",
       " '전',\n",
       " '메이크업',\n",
       " '눈',\n",
       " '앞머리',\n",
       " '포인트',\n",
       " '생각',\n",
       " 'BLACKPINK',\n",
       " '제니',\n",
       " '눈',\n",
       " '앞머리',\n",
       " '포인트',\n",
       " 'BLACKPINK',\n",
       " '메이크업',\n",
       " '눈',\n",
       " '앞머리',\n",
       " '포인트',\n",
       " '눈',\n",
       " '얼굴',\n",
       " '포인트',\n",
       " '눈',\n",
       " '앞머리',\n",
       " '눈',\n",
       " '완성',\n",
       " '메이크업',\n",
       " '눈',\n",
       " '앞머리',\n",
       " '룩',\n",
       " '눈',\n",
       " '눈',\n",
       " '앞머리',\n",
       " '레드',\n",
       " '컬러',\n",
       " '포인트',\n",
       " '연출',\n",
       " '눈',\n",
       " '눈',\n",
       " '앞머리',\n",
       " '눈',\n",
       " '컬러',\n",
       " '포인트',\n",
       " '연출',\n",
       " '컬러',\n",
       " '연출',\n",
       " '룩',\n",
       " '완성',\n",
       " '메이크업',\n",
       " '포인트',\n",
       " '메이크업',\n",
       " '눈',\n",
       " '포인트',\n",
       " '매력',\n",
       " 'BLACKPINK',\n",
       " '제니',\n",
       " '메이크업',\n",
       " '룩',\n",
       " '눈',\n",
       " '생각',\n",
       " '눈',\n",
       " '앞머리',\n",
       " '포인트',\n",
       " '분위기',\n",
       " '눈',\n",
       " '눈',\n",
       " '메이크업',\n",
       " '생각',\n",
       " '포인트',\n",
       " '얼굴',\n",
       " '포인트',\n",
       " '생각',\n",
       " '메이크업',\n",
       " '포인트',\n",
       " '말',\n",
       " '메이크업',\n",
       " '룩',\n",
       " '메이크업',\n",
       " '톱',\n",
       " '메이크업']"
      ]
     },
     "execution_count": 17,
     "metadata": {},
     "output_type": "execute_result"
    }
   ],
   "source": [
    "top50_word[0]"
   ]
  },
  {
   "cell_type": "code",
   "execution_count": null,
   "metadata": {},
   "outputs": [],
   "source": [
    "# 지지도(support) : P(A∩B)\n",
    "result = list(apriori(top50_word, min_support = 0.01))\n",
    "df = pd.DataFrame(result)\n",
    "df['length'] = df['items'].apply(lambda x:len(x))\n",
    "df = df[(df['length'] == 2) \n",
    "        & (df['support'] >= 0.01)].sort_values(by='support', ascending = False)\n",
    "df.head(10)"
   ]
  },
  {
   "cell_type": "markdown",
   "metadata": {},
   "source": [
    "### networkx 그래프 정의"
   ]
  },
  {
   "cell_type": "code",
   "execution_count": null,
   "metadata": {},
   "outputs": [],
   "source": [
    "G = nx.Graph()\n",
    "ar = (df['items']); G.add_edges_from(ar)"
   ]
  },
  {
   "cell_type": "code",
   "execution_count": null,
   "metadata": {},
   "outputs": [],
   "source": [
    "# 페이지 랭크\n",
    "pr = nx.pagerank(G)\n",
    "nsize = np.array([v for v in pr.values()])\n",
    "nsize = 2000 * (nsize - min(nsize)) / (max(nsize) - min(nsize))"
   ]
  },
  {
   "cell_type": "code",
   "execution_count": null,
   "metadata": {},
   "outputs": [],
   "source": [
    "pos = nx.spring_layout(G)"
   ]
  },
  {
   "cell_type": "code",
   "execution_count": null,
   "metadata": {},
   "outputs": [],
   "source": [
    "plt.figure(figsize = (16, 12)) ; plt.axis('off')\n",
    "nx.draw_networkx(G, font_family = 'Malgun Gothic', font_size = 16,\n",
    "                pos = pos, node_color = list(pr.values()), node_size = nsize,\n",
    "                alpha=0.7, edge_color='.5', cmap = plt.cm.YlGn)\n",
    "plt.show()\n",
    "plt.savefig('./jenny_in_top100.png', bbox_inches = 'tight')"
   ]
  },
  {
   "cell_type": "code",
   "execution_count": 102,
   "metadata": {},
   "outputs": [],
   "source": [
    "# ['첫', '처음', '공개', '작업', '이후', '펜디', '판매', '작품', '드', '예정', '시대']"
   ]
  },
  {
   "cell_type": "code",
   "execution_count": null,
   "metadata": {},
   "outputs": [],
   "source": []
  },
  {
   "cell_type": "code",
   "execution_count": null,
   "metadata": {},
   "outputs": [],
   "source": []
  },
  {
   "cell_type": "code",
   "execution_count": null,
   "metadata": {},
   "outputs": [],
   "source": []
  },
  {
   "cell_type": "code",
   "execution_count": null,
   "metadata": {},
   "outputs": [],
   "source": []
  },
  {
   "cell_type": "code",
   "execution_count": null,
   "metadata": {},
   "outputs": [],
   "source": []
  },
  {
   "cell_type": "code",
   "execution_count": null,
   "metadata": {},
   "outputs": [],
   "source": []
  },
  {
   "cell_type": "code",
   "execution_count": null,
   "metadata": {},
   "outputs": [],
   "source": []
  },
  {
   "cell_type": "code",
   "execution_count": null,
   "metadata": {},
   "outputs": [],
   "source": []
  },
  {
   "cell_type": "code",
   "execution_count": null,
   "metadata": {},
   "outputs": [],
   "source": []
  },
  {
   "cell_type": "code",
   "execution_count": null,
   "metadata": {},
   "outputs": [],
   "source": []
  },
  {
   "cell_type": "code",
   "execution_count": null,
   "metadata": {},
   "outputs": [],
   "source": []
  },
  {
   "cell_type": "code",
   "execution_count": null,
   "metadata": {},
   "outputs": [],
   "source": []
  },
  {
   "cell_type": "code",
   "execution_count": null,
   "metadata": {},
   "outputs": [],
   "source": []
  },
  {
   "cell_type": "code",
   "execution_count": null,
   "metadata": {},
   "outputs": [],
   "source": []
  },
  {
   "cell_type": "code",
   "execution_count": null,
   "metadata": {},
   "outputs": [],
   "source": []
  },
  {
   "cell_type": "code",
   "execution_count": null,
   "metadata": {},
   "outputs": [],
   "source": []
  },
  {
   "cell_type": "code",
   "execution_count": null,
   "metadata": {},
   "outputs": [],
   "source": []
  },
  {
   "cell_type": "code",
   "execution_count": null,
   "metadata": {},
   "outputs": [],
   "source": []
  },
  {
   "cell_type": "code",
   "execution_count": null,
   "metadata": {},
   "outputs": [],
   "source": []
  },
  {
   "cell_type": "code",
   "execution_count": null,
   "metadata": {},
   "outputs": [],
   "source": []
  },
  {
   "cell_type": "code",
   "execution_count": null,
   "metadata": {},
   "outputs": [],
   "source": []
  },
  {
   "cell_type": "code",
   "execution_count": null,
   "metadata": {},
   "outputs": [],
   "source": []
  },
  {
   "cell_type": "code",
   "execution_count": null,
   "metadata": {},
   "outputs": [],
   "source": []
  },
  {
   "cell_type": "code",
   "execution_count": null,
   "metadata": {},
   "outputs": [],
   "source": []
  },
  {
   "cell_type": "code",
   "execution_count": null,
   "metadata": {},
   "outputs": [],
   "source": []
  }
 ],
 "metadata": {
  "kernelspec": {
   "display_name": "Python 3",
   "language": "python",
   "name": "python3"
  },
  "language_info": {
   "codemirror_mode": {
    "name": "ipython",
    "version": 3
   },
   "file_extension": ".py",
   "mimetype": "text/x-python",
   "name": "python",
   "nbconvert_exporter": "python",
   "pygments_lexer": "ipython3",
   "version": "3.7.6"
  }
 },
 "nbformat": 4,
 "nbformat_minor": 4
}
