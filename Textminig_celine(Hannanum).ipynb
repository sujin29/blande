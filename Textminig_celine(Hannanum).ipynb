{
 "cells": [
  {
   "cell_type": "code",
   "execution_count": 1,
   "metadata": {},
   "outputs": [],
   "source": [
    "import pandas as pd\n",
    "import numpy as np"
   ]
  },
  {
   "cell_type": "code",
   "execution_count": 2,
   "metadata": {},
   "outputs": [],
   "source": [
    "from collections import Counter"
   ]
  },
  {
   "cell_type": "code",
   "execution_count": 3,
   "metadata": {},
   "outputs": [],
   "source": [
    "a_ce_dw = pd.read_csv('./magazine/final/a_ce_dw.csv', sep = '|', encoding = 'utf-8')\n",
    "b_ce_dw = pd.read_csv('./magazine/final/b_ce_dw.csv', sep = '|', encoding = 'utf-8')\n",
    "c_ce_dw = pd.read_csv('./magazine/final/c_ce_dw.csv', sep = '|', encoding = 'utf-8')\n",
    "e_ce_dw = pd.read_csv('./magazine/final/e_ce_dw.csv', sep = '|', encoding = 'utf-8')\n",
    "fb_ce_dw = pd.read_csv('./magazine/final/fb_ce_dw.csv', sep = '|', encoding = 'utf-8')\n",
    "fn_ce_dw = pd.read_csv('./magazine/final/fn_ce_dw.csv', sep = '|', encoding = 'utf-8')\n",
    "m_ce_dw = pd.read_csv('./magazine/final/m_ce_dw.csv', sep = '|', encoding = 'utf-8')\n",
    "v_ce_dw = pd.read_csv('./magazine/final/v_ce_dw.csv', sep = '|', encoding = 'utf-8')\n",
    "w_ce_dw = pd.read_csv('./magazine/final/w_ce_dw.csv', sep = '|', encoding = 'utf-8')"
   ]
  },
  {
   "cell_type": "code",
   "execution_count": 4,
   "metadata": {},
   "outputs": [],
   "source": [
    "ce_dw = pd.concat([a_ce_dw, b_ce_dw, c_ce_dw, e_ce_dw, fb_ce_dw, fn_ce_dw, m_ce_dw, v_ce_dw, w_ce_dw])"
   ]
  },
  {
   "cell_type": "code",
   "execution_count": 5,
   "metadata": {},
   "outputs": [],
   "source": [
    "ce_dw.reset_index(drop=True, inplace = True)"
   ]
  },
  {
   "cell_type": "markdown",
   "metadata": {},
   "source": [
    "# 전처리"
   ]
  },
  {
   "cell_type": "markdown",
   "metadata": {},
   "source": [
    "### 기호 삭제"
   ]
  },
  {
   "cell_type": "code",
   "execution_count": 112,
   "metadata": {},
   "outputs": [],
   "source": [
    "ce_dw['word_celine'] = ce_dw['word_celine'].str.replace('[', '').str.replace(']', '').str.replace('\\\\', '').str.replace('\"', '').str.replace(\"'\", \"\").str.replace('「', '').str.replace('」', '')"
   ]
  },
  {
   "cell_type": "markdown",
   "metadata": {},
   "source": [
    "## 브랜드 및 디자이너 이름 대체"
   ]
  },
  {
   "cell_type": "markdown",
   "metadata": {},
   "source": [
    "### 에디 슬리먼, 에디 슬리만 -> 'HEDI-SLIMANE'으로 변경\n",
    "에디슬리먼, 에디슬리만, 에디 슬리먼, 에디 슬리만"
   ]
  },
  {
   "cell_type": "code",
   "execution_count": 590,
   "metadata": {},
   "outputs": [],
   "source": [
    "for word in ce_dw['word_celine']:\n",
    "    if 'HEDI-SLIMANEe' in word:\n",
    "        print(word)\n",
    "        print('-'*50)"
   ]
  },
  {
   "cell_type": "code",
   "execution_count": 142,
   "metadata": {},
   "outputs": [],
   "source": [
    "ce_dw['word_celine'] = ce_dw['word_celine'].str.replace('에디슬리먼', '에디-슬리먼').str.replace('에디 슬리먼', '에디-슬리먼').str.replace('에디슬리만', '에디-슬리먼').str.replace('에디 슬리만', '에디-슬리먼')"
   ]
  },
  {
   "cell_type": "code",
   "execution_count": 441,
   "metadata": {},
   "outputs": [],
   "source": [
    "ce_dw['word_celine'] = ce_dw['word_celine'].str.replace('에디-슬리먼', 'HEDI-SLIMANE')"
   ]
  },
  {
   "cell_type": "code",
   "execution_count": 134,
   "metadata": {
    "scrolled": false
   },
   "outputs": [
    {
     "data": {
      "text/plain": [
       "'HEDI SLIMANE'"
      ]
     },
     "execution_count": 134,
     "metadata": {},
     "output_type": "execute_result"
    }
   ],
   "source": [
    "'Hedi Slimane'.upper()"
   ]
  },
  {
   "cell_type": "code",
   "execution_count": 496,
   "metadata": {},
   "outputs": [],
   "source": [
    "ce_dw['word_celine'] = ce_dw['word_celine'].str.replace('Hedi Sliman', 'HEDI-SLIMANE')"
   ]
  },
  {
   "cell_type": "code",
   "execution_count": 498,
   "metadata": {},
   "outputs": [],
   "source": [
    "ce_dw['word_celine'] = ce_dw['word_celine'].str.replace('HediSlimane', 'HEDI-SLIMANE')"
   ]
  },
  {
   "cell_type": "code",
   "execution_count": 589,
   "metadata": {},
   "outputs": [],
   "source": [
    "ce_dw['word_celine'] = ce_dw['word_celine'].str.replace('HEDI-SLIMANEe', 'HEDI-SLIMANE')"
   ]
  },
  {
   "cell_type": "markdown",
   "metadata": {},
   "source": [
    "### 셀린, 셀린느, Celine, celine -> CELINE"
   ]
  },
  {
   "cell_type": "code",
   "execution_count": 561,
   "metadata": {},
   "outputs": [],
   "source": [
    "for word in ce_dw['word_celine']:\n",
    "    if 'Celine' in word:\n",
    "        print(word)\n",
    "        print('-'*50)"
   ]
  },
  {
   "cell_type": "code",
   "execution_count": 146,
   "metadata": {},
   "outputs": [],
   "source": [
    "ce_dw['word_celine'] = ce_dw['word_celine'].str.replace('celine', 'CELINE').str.replace('Celine', 'CELINE').str.replace('셀린', 'CELINE').str.replace('셀린느', 'CELINE')"
   ]
  },
  {
   "cell_type": "code",
   "execution_count": 149,
   "metadata": {},
   "outputs": [],
   "source": [
    "ce_dw['word_celine'] = ce_dw['word_celine'].str.replace('CELINE느', 'CELINE')"
   ]
  },
  {
   "cell_type": "markdown",
   "metadata": {},
   "source": [
    "### 피비 파일로, 피비 필로 -> Phoebe-Philo"
   ]
  },
  {
   "cell_type": "code",
   "execution_count": 508,
   "metadata": {},
   "outputs": [],
   "source": [
    "for word in ce_dw['word_celine']:\n",
    "    if 'Phoebe Philo' in word:\n",
    "        print(word)\n",
    "        print('-'*50)"
   ]
  },
  {
   "cell_type": "code",
   "execution_count": 226,
   "metadata": {},
   "outputs": [],
   "source": [
    "ce_dw['word_celine'] = ce_dw['word_celine'].str.replace('피비 파일로', '피비-파일로').str.replace('피비 필로', '피비-파일로')"
   ]
  },
  {
   "cell_type": "code",
   "execution_count": 270,
   "metadata": {},
   "outputs": [],
   "source": [
    "ce_dw['word_celine'] = ce_dw['word_celine'].str.replace('피비필로', '피비-파일로')"
   ]
  },
  {
   "cell_type": "code",
   "execution_count": 271,
   "metadata": {},
   "outputs": [],
   "source": [
    "ce_dw['word_celine'] = ce_dw['word_celine'].str.replace('피비', '피비-파일로')"
   ]
  },
  {
   "cell_type": "code",
   "execution_count": 273,
   "metadata": {},
   "outputs": [],
   "source": [
    "ce_dw['word_celine'] = ce_dw['word_celine'].str.replace('피비-파일로-파일로', '피비-파일로')"
   ]
  },
  {
   "cell_type": "code",
   "execution_count": 318,
   "metadata": {},
   "outputs": [],
   "source": [
    "ce_dw['word_celine'] = ce_dw['word_celine'].str.replace('피비-파일로' ,'Phoebe-Philo')"
   ]
  },
  {
   "cell_type": "code",
   "execution_count": 502,
   "metadata": {},
   "outputs": [],
   "source": [
    "ce_dw['word_celine'] = ce_dw['word_celine'].str.replace('Phoebe-Philo' ,'PHOEBE-PHILO')"
   ]
  },
  {
   "cell_type": "code",
   "execution_count": 507,
   "metadata": {},
   "outputs": [],
   "source": [
    "ce_dw['word_celine'] = ce_dw['word_celine'].str.replace('Phoebe Philo' ,'PHOEBE-PHILO')"
   ]
  },
  {
   "cell_type": "code",
   "execution_count": 501,
   "metadata": {},
   "outputs": [
    {
     "data": {
      "text/plain": [
       "'PHOEBE-PHILO'"
      ]
     },
     "execution_count": 501,
     "metadata": {},
     "output_type": "execute_result"
    }
   ],
   "source": [
    "'Phoebe-Philo'.upper()"
   ]
  },
  {
   "cell_type": "markdown",
   "metadata": {},
   "source": [
    "### 오뜨 -> 오트\n",
    "오뜨 -> 오트  \n",
    "꾸띄르 -> 꾸뛰르   \n",
    "쿠띄르 -> 쿠뛰르  \n",
    "쿠틔르 -> 쿠튀르  "
   ]
  },
  {
   "cell_type": "code",
   "execution_count": 587,
   "metadata": {},
   "outputs": [
    {
     "name": "stdout",
     "output_type": "stream",
     "text": [
      " 하지만 정작 현실에서 바비는 나의 패션 스타일에 단 1퍼센트의 영감도 주지 못했다. 예나 지금이나 리본 달린 블라우스, 러플 장식의 드레스, 벌룬 스커트와 같은 소위 ‘공주풍’ 옷들은 내 옷장 어느 한편도 차지한 적 없을 만큼 철저하게 외면당해왔으니 말이다.(물론 최근 바비들은 드레스를 넘어 꽤나 과감한 패션도 선보인다.) 그러던 중 이에 대해 어떤 깨달음을 느낀 순간이 찾아왔다. 바로 얼마 전 파리에서 열린 2019 S/S 빅터 앤 롤프 오트-꾸뛰르 쇼를 눈앞에서 목도하게 된 것. “I’m Not Shy. I Just Don’t Like You” 등과 같은 강렬한 메시지와 상반된 동화 같은 무드, 튤 소재를 아낌없이 사용한 거대한 실루엣의 쿠튀르 드레스들은 오프닝부터 피날레까지 한시도 눈을 뗄 수 없게 만들었다. 쉴 새 없이 쏟아져 나오는 오색빛깔 돌 드레스를 보니 자연스레 미소가 피어올랐다. 이건 CELINE이나 질 샌더 쇼를 보고 느끼는 충족감과는 전혀 다른 감정이었다. 내가 ‘입고’ 싶은 옷이 아닌, 내가 ‘보고’ 싶은 옷을 볼 때 느끼는 행복감이 존재했던 것이다.\n",
      "--------------------------------------------------\n",
      " 문화 역전 현상은 패션계에서 가장 노골적으로 목격된다. 기존에 하이엔드로 분류되던 브랜드들이 투박한 길거리의 미감을 차용하기 시작한 것이다. “우아함이란 게 과연 아직도 유효한가(I don’t think elegance is relevant).”라고 말한 뎀나 바잘리아의 베트멍부터 우아한 모노그램 패턴 위에 푸투라(Futura) 서체의 로고를 올려 전 세계를 발칵 뒤집어놓은 킴 존스의 ‘루이 비통 × 수프림’에 이르기까지, 확연히 다른 감성이 패션계를 잠식하고 있다. 이제 돈 많은 이들도 정교한 장인의 쿠튀르만을 고집하지 않는다. 집에 계시던 할머니가 냅다 잘라버렸다는 케이블 타이를 매단 채 버질 아블로를 입는다. 대학 교수들도 빗물로 트럭 방수천을 씻어 만든 프라이탁을 애호한다. 부자답게, 교수답게? 흑백의 극단으로 양립하는 것처럼 촌스러운 게 없다. 세련된 이들은 이 색도 저 색도 아닌 ‘오프 화이트(Off-White)’를 자처한다. 산업유와 특수유 따위를 취급하는 성수동 대신상사의 옥색 파사드가 버버리의 새 로고 패턴으로 빼곡히 덮였다. 지방시에서 거처를 옮긴 리카르도 티시와 로고를 만든 그래픽 디자이너 피터 사빌의 서프라이징이자 캠페인이다. CELINE으로 이사온 에디 슬리메인은 로고 중 ‘E’의 악상(accent) 표기부터 빼버렸다. 그리곤 다원주의(!)의 아이콘 레이디 가가에게 그의 첫 CELINE 백을 쥐어주었다. 패션계의 귀추는 오늘을 사는 우리가 ‘문화’를 재정의하기에 앞서 가장 먼저 주목해야 할 챕터다. \n",
      "--------------------------------------------------\n",
      "흔히 이야기하는 ‘멋 내지 않은 듯한 멋’이 지배적인 패션 필드에서 로맨틱 룩은 다소 불편한 시선을 감수해야 하는 스타일에 속했다. 자연스러운 태도와 거리가 먼, 작위적인 인상을 남기기 때문. 하지만 이번 시즌, 디자이너들은 이런 편견을 깨고 로맨틱 터치를 과감하게 활용한 스타일로 시선을 사로잡았다. HEDI-SLIMANE은 자신의 첫 번째 CELINE 무대를 선보이며 과장되게 부풀린 리본이 달린 미니드레스 룩을 앞세웠고, 마크 제이콥스는 바비인형에게 입힐 뻔한 리드미컬한 러플 장식의 미니드레스로 쿠튀르적 터치를 남겼으며, 발렌티노는 퍼프 소매를 뽐내며 우아하게 걷는 여인들의 드레스 행렬을 선사했다. 그뿐만 아니라 미우미우 소녀들은 머리와 의상 위에 리본 장식을 달고 나와 걸리시 룩의 매력에 흠뻑 빠지게 만들었다. 이 중 당신의 마음속에 잠자고 있는 소녀 감성을 자극하는 스타일은 무엇인가? 디자이너들이 선보인 로맨틱 패션 월드가 동화 속 공주님 드레스처럼 화려하게 펼쳐졌다.\n",
      "--------------------------------------------------\n",
      "FEATHER COUTURE정시 시작이라는 룰을 깨고 1시간 30분이나 지연된 마크 제이콥스 컬렉션. 원성이 쏟아졌지만 기다림의 시간을 보상받듯 런웨이에는 패션 판타지가 펼쳐졌다. 맥시멀리즘에 빠진 그는 80년대 이브 생 로랑을 추억하며 패션의 화려한 면모가 담긴 자리를 선사했다. 그중, 우아하게 흩날리던 페더 룩은 공작새가 날개를 펼친 것처럼 시선을 사로잡는 요소. 무대 뒤로 점점 사라지던 쿠튀르 터치가 살아나는 순간이었다. “나는 쿠튀르라는 꿈을 현실에 실현시키고 싶었다”고 말한 피에르파올로 피촐리 역시 발렌티노 여인들을 위해 페더를 적극 활용했다. 드레스뿐 아니라 백과 슈즈 위에서 페더가 우아한 기품을 남기며 흩날린 것. 로에베, 구찌, CELINE도 그 매력에 푹 빠졌으니 몽환적인 페더가 전하는 아름다움을 느껴 보길.\n",
      "--------------------------------------------------\n",
      ", PHOEBE-PHILO의 후임으로 HEDI-SLIMANE이 낙점됐다, , PHOEBE-PHILO의 후임으로 HEDI-SLIMANE이 낙점됐다. 1월 21일, CELINE의 인스타그램은 HEDI-SLIMANE을 CELINE의 이미지 디렉터이자 아티스틱 디렉터, 크리에이티브 디렉터로 임명했다고 공식적으로 알렸다. HEDI-SLIMANE이 쓰게 될 감투만 세 개. 비즈니스를 제외하고 사실상 브랜드의 모든 방향성을 정하는데 개입할 거란 이야기다. 평소 의상을 디자인하는 데에서 그치지 않고 사진가로도 활발하게 활동하는 그가 CELINE의 광고 캠페인을 위해 직접 카메라를 들 가능성도 높고, 음악에도 흥미가 깊은 그가 생 로랑에서 그랬던 것처럼 또 다른 뮤직 캠페인을 가지고 나올지도 모르는 일., HEDI-SLIMANE의 선출을 처음으로 보도한 패션 뉴스 매체 WWD는 HEDI-SLIMANE의 합류 소식과 함께 CELINE의 새로운 사업 확장 계획도 함께 밝혔다. CELINE이 남성복과 쿠튀르, 향수 라인을 더 추가한다는 것., HEDI-SLIMANE은 지난 2000년부터 2007년까지 디올 옴므를, 2012년부터 2016년까지 생 로랑의 수장으로 있었다. PHOEBE-PHILO에게 확고한 여성 팬층이 있다면 HEDI-SLIMANE에게는 지고지순한 남성 지지자들이 존재한다는 것이다. CELINE이 속해있는 LVMH 그룹은 이러한 기존 남성 고객을 적극적으로 유치하겠다는 계획으로 보인다., 오는 2월 1일, CELINE의 지휘자로서 첫 출근을 앞두고 있는 HEDI-SLIMANE. 그의 새 여성복과 남성복 컬렉션은 오는 9월 파리 패션 위크에서 베일을 벗을 예정이다., 에디터 강민지, 사진 인스타그램(@CELINE), 디자인 오주희\n",
      "--------------------------------------------------\n",
      "지난 1월 21일, 워싱턴 DC를 비롯해 시카고, 뉴욕, 덴버, 보스턴 등 미국 전역은 물론 런던, 호주, 도쿄 등 전 세계 700여 개가 넘는 도시에서 대규모 핑크 물결이 일어났다. 여성을 상징하는 핑크 비니를 쓴 엄청난 인파는 반트럼프를 외치는 ‘우먼스 마치(Women’s March)’ 행진이었던 것! 워싱턴 DC에서만 무려 50만 명이 넘게 모인 행렬은 여성의 인권 신장을 위해 거리로 나와 목소리를 높이기 시작했다. 단순히 여성만이 아닌 남녀노소 할 것 없이 저마다의 생각을 적은 팻말과 함께! 이곳에는 시민뿐 아니라 내로라하는 슈퍼스타들까지 동참했다. 마돈나는 작업복 팬츠와 워커, ‘자신을 표현해라’고 적힌 슬로건 티셔츠를 입고 연설대에 올랐고, 그녀의 딸 루데스 레온도 엄마의 연설을 들으며 행진에 참가했으며, 지지와 벨라 하디드 자매는 양손을 꼭 붙잡고 ‘우먼스 마치’ 행렬에 앞장섰다. 이들뿐 아니라 클레이 모레츠는 평화시위 전부터 자신의 인스타그램에 노골적인 반트럼프 이미지를 포스팅하며 일찌감치 ‘우먼스 마치’를 지지했고, 스칼렛 요한슨은 짧은 쇼트커트로 변신, 여장부의 이미지로 등장해 목소리를 높였으며, 엠마 와슨은 거리에 나선 시민들의 시위 현장을 인스타그램에 포스팅하며 그 어느 때보다 적극적으로 여성인권 신장에 동참했다. 수많은 스타들이 자신의 방식대로 ‘우먼스 마치’에 참여했지만 그중에 특히 눈에 띈 여성은 만삭의 몸으로 나온 내털리 포트먼. 그녀는 “여성이 바로 주체적인 리더가 되어야 합니다. 여성 권리와 소외된 약자들의 보호를 위해 앞장서야 합니다”라고 힘 있게 주장했다. 그녀의 연설 뿐 아니라 당시 입었던 티셔츠 또한 빅 이슈가 됐다. ‘우리는 모두 페미니스트가 돼야 합니다(We Should All Be Feminists)’란 슬로건이 커다랗게 적힌 화이트 티셔츠는 라프 시몬스의 후임으로 디올 하우스 역사상 첫 번째 여성 크리에이티브 디렉터가 된 마리아 그라치아 치우리(Maria Grazia Chiuri)가 2017 S/S 디올 데뷔 컬렉션에서 선보인 것. 데뷔 무대는 여성성과 남성성의 교집합을 절묘하게 접목시켜 한결 힘 있게 완성됐고, 이를 통해 패션계 우먼 파워를 입증했다. 그리고 그녀의 티셔츠는 마치 여성운동 캠페인처럼 삽시간에 퍼져 나갔다. 내털리 포트먼의 모습이 디올 인스타그램에 포스팅된 이후, 리한나를 필두로 마리아 그라치아 치우리, 키아라 페라그니, 루스 벨과 메이 벨 자매, 아미송, 디올 쿠튀르 무대에 오른 모델들이 뒤를 이었다. 뿐만 아니라 스트리트 신에서도 쉽게 찾아볼 수 있었다. 또 한 명의 새로운 여성 디렉터로 부각된 이가 있으니 그녀는 바로 14년간 앨버 엘버즈가 이끈 랑방을 이어받은 부크라 자라(Bouchra Jarrar). 1996년 니콜라 제스키에르와 함께 발렌시아가에서 경력을 쌓은 후, 2010년 자신의 브랜드를 론칭하며 이름을 알린 그녀가 2016년 랑방에 합류했다. 전임자였던 앨버 특유의 볼륨을 강조한 여성스러운 스타일과 아이코닉한 일러스트레이션을 자신만의 남성성 짙은 파워플함으로 단숨에 제압하고 뉴 랑방 시대를 선포했다. 아직 단 한 번의 컬렉션을 발표한 터라 단정하긴 어렵지만 한층 모던해진 것은 사실이다. 이제 곧 선보일 F/W 컬렉션부터 신랄한 평가가 기다리고 있지만. 두 명의 슈퍼스타급 여성 디렉터의 탄생으로 하이패션계에는 다시 한 번 여성 파워가 입증되고 있다. 사실 패션 영역의 강력한 힘을 지닌 주인은 여자 아닌가! 비록 이번 F/W 시즌을 끝으로 잠시 패션계를 떠날 예정인 끌로에의 클레어 웨이트 켈러를 비롯해 여자들의 마음을 가장 잘 아는 디자이너로 손꼽히는 스텔라 맥카트니, CELINE의 PHOEBE-PHILO까지 하이패션을 선도하는 이들도 여성 디렉터임에 주목할 필요가 있다. “끌로에는 새로운 디자이너가 누구인지를 알고 싶게 만드는 브랜드 중 하나였어요. 정확히 말하면 ‘여성들이 원하는 것’을 캐치해 언니처럼 옷장을 채워주는 역할이죠. 휴식을 포기할 만큼 충분히 매력적이었어요.” 클레어 웨이트 컬러가 출산 휴가를 마다하고 끌로에에 합류했을때 한 말이다. 동시대 여자가 만드는 여자의 옷. 제아무리 천재적인 남자 디자이너라 해도 여자의 마음을 꿰뚫어보지 못한다면 결국 한계에 부딪힐 수밖에 없다.\n",
      "--------------------------------------------------\n",
      "신세계인터내셔날(대표 차정호)의 프랑스 명품 브랜드 CELINE(CELINE)가 새 크리에이티브 디렉터 HEDI-SLIMANE(HEDI-SLIMANEe)의 데뷔 컬렉션을 공개했다.rnrn2019년 S/S 컬렉션은 1950~70년대 후반의 프랑스 문화와 트렌드, 음악 장르에서 영감을 받았다. 특히 HEDI-SLIMANE이 감명 깊게 듣던 1970년대 뉴웨이브 장르 음악을 세련되고 선명한 실루엣으로 풀어냈다.  rnrn총 96개의 다양한 착장으로 선보인 CELINE의 컬렉션은 계절과 남녀의 성(性) 구분을 초월한 콘셉트로 선보였다. 특히 이번 시즌 CELINE는 블랙을 메인 색상으로 잡고 다양한 변주를 시도했다. 짧은 기장의 리틀 블랙 드레스부터 블랙 슈트, 블랙 가죽 재킷까지 전반적인 색상을 모두 블랙으로 통일했다. 여기에 골드와 화이트, 실버 등의 밝은 컬러를 살짝 가미해 지루하지 않은 리듬감을 불어넣었다.rnrn또한 여성성과 남성성을 극도로 부각시킨 제품들로 상반된 무드를 연출했다. 프랑스 감성의 에이-라인 드레스나 짧은 기장의 미니 마이크로 드레스는 메탈 비즈와 시퀸(반짝이) 장식을 더해 여성성을 강조했다. 남성성을 부각한 직각 형태의 재킷, 턱시도 재킷 등과 함께 매치해 독특한 분위기를 연출했다.rnrnCELINE의 패션쇼에서 선보였던 특별한 제품들도 국내에 소개한다. 파리의 CELINE 아틀리에에서 장인들에 의해 한 땀 한 땀 수작업으로 제작한 ‘쿠튀르 라인’ 상품은 CELINE의 기성복과 함께 코디가 가능하도록 디자인 된 쇼피스(show piece, 대표작)다.rnrn이 외에도  다양한 스타일의 가죽 재킷, CELINE 특유의 고급스러운 재단을 경험해볼 수 있는 중성적인 느낌, 재킷과 팬츠, 여러 디자인의 드레스도 선보인다.rnrn신세계인터내셔날 CELINE 담당자는 “이번 컬렉션을 통해 기존 CELINE의 이미지와는 또 다른 1960~70년대 프랑스 젊은이들의 자유분방하면서도 화려하고 고급스러운 패션과 문화를 느껴볼 수 있을 것”이라면서 “의류에 앞서 지난해 말 먼저 선보였던 신규 핸드백 컬렉션이 기대 이상의 호응을 얻고 있는 만큼 이번 2019 S/S 컬렉션 또한 좋은 반응이 기대된다”고 말했다.rnrnHEDI-SLIMANE의 세련된 감성이 느껴지는 CELINE의 2019년 봄∙여름 컬렉션은 이달 25일부터 전국 CELINE 백화점 매장 및 CELINE 청담 플래그십스토어에서 만나볼 수 있다.rnrnrnrnrnrnrnrnrnrnrnrnrnrn＜저작권자 ⓒ Fashionbiz , 무단전재 및 재배포 금지＞rn기사목록rn이전\n",
      "--------------------------------------------------\n",
      "스타 디자이너 HEDI-SLIMANE(49세)이 LVMH그룹에 속한 브랜드 CELINE의 남성복 라인과 향수 론칭까지 책임지며 야심찬 출발을 시작했다. 지난 2월부터 CELINE로 출근하기 시작한 HEDI-SLIMANE은 현재 광고 캠페인과 매장 콘셉트 등 브랜드 이미지와 아티스틱 크리에이션 디렉터로 전체적인 컬렉션과 액세서리, 가죽상품 등 모든 라인을 손보고 있다.rnrn그의 영입으로 CELINE는 스타일에 전반적인 변화를 겪게 될 것으로 보인다. 특히 남성복 라인에 각별한 재능을 보였던 그는 남성복 컬렉션 뿐 아니라 향수 쿠튀르 라인까지 새롭게 론칭하기 위해 작업에 들어갔다.rnrnrn그동안 패션계는 HEDI-SLIMANE이 샤넬 옴므를 론칭할 것이라고 기대했다. 하지만 결과적으로 그것은 CELINE에서 이루어지게 됐다. 지난 2016년 4월 생로랑을 떠난지 2년 가까운 시점에 HEDI-SLIMANE은 그가 몸 담았던 케링그룹을 떠나 라이벌이자 자신의 친정인 LVMH그룹에 다시 조인하게 된 것.rnrn지난해 12월 말 퇴사를 선언한 PHOEBE-PHILO의 후임으로 CELINE를 이끌어가게 됐다. 지난 10여년간 모던하면서도 세련된 브리티시 터치로 CELINE를 부활시킨 영국 출신 디자이너 PHOEBE-PHILO에 이어 그가 어떤 디자인세계를 펼쳐나갈지 관심이 모인다.rnrn사실 그와의 조인 발표는 PHOEBE-PHILO의 퇴사 소식이 알려진지 불과 한 달도 안돼 이뤄진 것이라 LVMH그룹이 시간 낭비를 하지 않는다는 것을 제대로 증명했다. 그러면서도, 여성 레디투웨어, 액세서리 뿐 아니라 특히 베스트셀링 백으로 엄청난 매출 바람을 일으키며 CELINE의 성공을 실질적으로 이끌어온 디렉터 PHOEBE-PHILO의 후임 이슈가 민감한 사안임에도 불구하고 이같이 스피디한 결정은 의외라는 평가다.rnrn지난 2000년대 초반 록큰롤적인 에스테틱과 몸에 붙는 슬림한 컷으로 스트리트 패션에 큰 영감이 됐던 슬리먼은 2000년~ 2007년까지 LVMH그룹의 디오르 옴므 디렉션을 맡아 일하기 전까지는 패션계에 그다지 알려지지 않았다. 하지만 디오르 옴므에서 특유의 슬림한 테일러드 수트와 안드로지너스(양성적) 룩으로 유명세를 타며 스타 디자이너로 급부상했다. 그는 지난 2012년부터 2016년까지 케링 그룹의 생로랑 아티스틱 디렉터로 일했으며 생로랑과 결별 이후 로스앤젤레스에 거주하며 프랑스 출신의 디자이너이자 포토그래퍼로 활동해왔다.rnrn무엇보다 CELINE는 남성복의 성공적인 론칭을 위해 LVMH가 넓은 팬층과 매출까지 아우를 수 있는 HEDI-SLIMANE을 전략적으로 낙점하면서 새로운 챕터를 맞이하게 됐다. “베르나르 아르노(LVMH 회장)를 다시 만나서 매우 기뻤고 메종 CELINE를 위해 총체적인 프로젝트를 시작하기로 했다.”고 HEDI-SLIMANE은 밝혔다. “패션과 쿠튀르 아틀리에 세계로 돌아오게 돼 기쁘고 기대된다.”rnrnHEDI-SLIMANE이 진행하게 되는 첫 컬렉션 패션쇼는 오는 9월에 열리는 파리 패션위크 기간에 2019 S/S 남성과 여성 컬렉션이다. HEDI-SLIMANE은 현재 거주하는 LA와 파리를 오가며 컬렉션을 진행하고 당장 남성복 디자이너 충원은 하지 않고 현재 파리 크리에이티브 스튜디오 팀이 남녀 컬렉션과 샘플링을 진행하게 된다고 밝혔다.rnrn또한 한 소식통은 “파리에 가능한 빨리 HEDI-SLIMANE이 디자인한 남성복 전용 부티크를 오픈할 것이다”라고 전하며 그가 이미 자신이 디렉팅한 라인을 선보일 플래그십 스토아 오프닝을 위해 몇몇 부티크를 방문했고 염두에 두고 있다고 말했다.rnrn한편 베르나르 아르노는 HEDI-SLIMANE을 “우리 시대의 가장 재능있는 디자이너”라며 “나는 그가 디오르 옴므를 론칭, 디렉팅할 때부터 존중하고 그에 감탄했다. 그의 영입은 LVMH그룹이 메종 CELINE를 위해 가진 원대한 계획을 더욱 강화시킬 것이다.”라고 추켜세웠다.rnrn“나는 HEDI-SLIMANE이 우리의 가장 상징적인 프렌치 메종 중 하나인 CELINE에 그만의 유니크한 미적, 예술적 감각과 국제적이고 글로벌한 비전을 불러넣을 것을 확신한다.”고 아르노 회장은 덧붙였다. 1945년 CELINE 비피아나가 설립한 CELINE는 프렌치 쿠튀르 메종으로 1996년에 LVMH그룹에 속하게 됐으며 세브린 메를(Séverine Merle)이 경영을 맡고 140여개 매장을 거느리고 있다.rnrn한편 CELINE는 PHOEBE-PHILO 영입 이후 지난 2009년부터 매출이 4배로 뛰어 현재 10억유로(약1조 3000억원) 에 이르며 쿨한 룩의 대명사 HEDI-SLIMANE의 영입으로 앞으로 5년내에 매출이 두배 성장할 것을 기대하고 있다고 베르나르 아르노 회장의 측근은 전했다. CELINE의 첫 향수는 앞으로 1년~1년반 후에 론칭할 것으로 예상된다. 또한 레디투웨어와는 차별화된 수공예 패션인 쿠튀르 라인 개발과 함께 이루어질 예정이다. 현재 오트-꾸뛰르 조건은 법적으로 보호되고 인정된 라벨로 현재14개 메종이 있다.rnrn생로랑에 새로운 활력을 불어넣으며 브랜드를 부활시켰던 HEDI-SLIMANE은 여러 브랜드들의 카피 대상이었던 특유의 샤프한 실루엣, 그런지하면서도 블링한 록 스타일로 젊은 고객들을 유혹하며 엄청난 매출 상승을 이뤄냈다. 지난 2011년 3억 5,300만유로(약 4,589억원)였던 생로랑 매출은 2015년 9억 7,400만유로(약 1조 2,662억원)로 급성장했다. 하지만 2016년 그가 생로랑을 떠날 때 마찰이 있었고 케링 측은 구체적인 이유를 밝히지 않았지만 HEDI-SLIMANE이 이후 법원에 비경쟁 조항(non-competition clause)을 이유로 회사측에 1300만 유로(약 169억원)를 청구하기도 했다.rnrn패션계의 총아로 튀니지 출신의 부친과 이탈리아 출신의 모친 사이에 태어난 그는 미스테리함을 즐기며 미디어 노출을 조심하는 스타일이다. 한편 그의 팬으로 알려진 샤넬의 전설적인 디렉터 칼 라거펠드가 슬리먼이 진행한 디오르 옴므의 슬림 수트를 입기 위해 40킬로를 감량한 것은 패션계의 유명한 일화다.rnrn하지만 10여년 넘게 이어온 슬림 팬츠 유행이 지나면서 여성과 남성 모두 과거와는 착장 방식이 많이 달라졌고 오늘날 라지한 볼륨감과 스포츠웨어가 옷장의 주를 이루는 터라 포토, 음악 등에 다재 다능한 록 에스테틱의 이 멀티 플레이어가 얼마나 지난 10여년간 PHOEBE-PHILO가 굳건히 다져 놓은 미니멀하고 타임리스한 CELINE 스타일에 잘 적응(?)할지는 아직 미지수다. 물론 어떤 경우라도 HEDI-SLIMANE이 CELINE의 미래를 위해 그만의 비전을 투여한 급진적이고 360도 조율된 총체적 프로젝트를 진행할 것이라는 사실에는 의심의 여지가 없을 것 같다.rnrn＜저작권자 ⓒ Fashionbiz , 무단전재 및 재배포 금지＞rn기사목록rn이전\n",
      "--------------------------------------------------\n",
      "지난해 CELINE의 새로운 수장으로 합류하며 전세계 이목을 집중시킨 스타 디자이너 HEDI-SLIMANE의 첫 의류 제품이 국내에 공개된다., 신세계인터내셔날(대표 차정호)의 프랑스 명품 브랜드 CELINE(CELINE)는 이달 25일 신규 크리에이티브 디렉터 HEDI-SLIMANE(HEDI-SLIMANEe)의 첫 브랜드 데뷔작인 2019년 봄∙여름 컬렉션을 출시한다., 이번 컬렉션은 1950년대부터 70년대 후반의 프랑스 문화와 트렌드, 음악 장르에서 영감을 얻어 제작됐다. 특히 HEDI-SLIMANE이 감명 깊게 듣던 70년대의 뉴웨이브 장르의 음악들은 세련되고 선명한 실루엣으로 이번 컬렉션에 반영됐다., 총 96개의 다양한 착장으로 선보인 CELINE의 컬렉션은 계절과 남녀의 성(性) 구분을 초월한 컨셉으로 선보였다., 특히 이번 시즌 CELINE는 블랙을 메인 색상으로 잡고 다양한 변주를 시도했다. 짧은 기장의 리틀 블랙 드레스부터 블랙 슈트, 블랙 가죽 재킷까지 전반적인 색상을 모두 블랙으로 통일시켰으며, 여기에 골드와 화이트, 실버 등의 밝은 컬러를 살짝 가미해 지루하지 않은 리듬감을 불어넣었다., 또한 여성성과 남성성을 극도로 부각시킨 제품들로 상반된 무드를 연출했다. 프랑스 감성의 에이-라인 드레스나 짧은 기장의 미니 마이크로 드레스에는 메탈 비즈와 시퀸(반짝이) 장식을 더해 여성성을 극대화했으며, 남성성을 강조한 직각 형태의 재킷, 턱시도 재킷 등과 함께 매치해 독특한 분위기를 연출했다., CELINE의 패션쇼에서 선보였던 특별한 제품들도 국내에 소개된다. 파리의 CELINE 아틀리에에서 장인들에 의해 수작업으로 제작된 ‘쿠튀르 라인’의 제품들은 CELINE의 기성복과 함께 자유롭게 코디가 가능하도록 디자인 된 쇼피스(show piece, 대표작)다., 이 중 골드 체인, 비즈, 메탈 장식이 돋보이는 뷔스티에 드레스나 시퀸 랩 드레스는 자수 장식이 모두 수공예로 제작되기 때문에 드레스 하나 당 제작 기간이 12일 이상 소요되는 특별한 제품으로 한정 판매될 예정이다., 신세계인터내셔날 CELINE 관계자는 “이번 컬렉션을 통해 기존 CELINE의 이미지와는 또 다른 60~70년대 프랑스 젊은이들의 자유분방하면서도 화려하고 고급스러운 패션과 문화를 느껴볼 수 있을 것”이라며 “의류에 앞서 지난해 말 먼저 선보였던 신규 핸드백 컬렉션이 기대 이상의 호응을 얻고 있는 만큼 이번 2019년 S/S 컬렉션 또한 좋은 반응이 기대된다”고 말했다., 패션엔 류숙희 기자nfashionn@fashionn.com\n",
      "--------------------------------------------------\n",
      "뭐든지 자기 방식을 고집하고, 해석해버리는 이 매력 넘치는 남자를 어찌할까. CELINE의 새로운 수장이 된 HEDI-SLIMANE이 호기롭게 선보인 ‘CELINE의 남자들’은 이렇게 경쾌하고 강렬하다. 다만 그가 애정하는 와일드 프린트를 다루는 방식은 좀 더 섬세해졌다. 쿠튀르적 터치로 손맛이 느껴지는 반짝이는 레오퍼드 코트를 만들고, 단정한 플래드 패턴 머플러와 함께 노란 지브라 프린트 코트를 입는 방식을 제안한다. 요즘처럼 스트리트 패션이 판을 치는 시대엔 그가 추구하는 록 스피릿이 깃든 와일드한 룩마저 클래식해 보인다. 역동적인 스트리트 패션의 뿌리와 테일러링의 기품을 두루 느끼며 진정한 스트리트의 쿨함을 노래할 수 있다.  – 패션 에디터 박연경\n",
      "--------------------------------------------------\n",
      "HEDI-SLIMANE은 2019 S/S 시즌 여성복 쇼에서 전임자와의 연결 고리를 싹둑 잘라내며 컴백했고, 지난 1월 2019 F/W 컬렉션으로 CELINE의 남성복을 정식 론칭하며 새로운 에디의 남자를 정의했다. 클래식을 장착한 슬림의 제왕. 그의 메시지는 여전히 명료하다. 그의 새로운 슈트는 파리지앵 시크를 표방하지만, 외관은 영국의 테디 보이 룩을 상징적으로 보여준다. 그의 피 속에 흐르는 브리티시 록 스피릿은 숨길 수 없었던 것. 에디의 남자들은 클래식한 타이 대신 슬림 타이를, 어깨는 크고 허리는 꼭 맞는 긴 드레이프 재킷을, 시가렛 팬츠와 옥스퍼드나 솔이 두꺼운 클리퍼를 신고 양말을 매치하며, 럭셔리한 캐멀 코트와 쿠튀르적인 터치의 레오퍼드 코트를 입는다. 그가 사랑하는 모델들은 여전히 마르고 부러질 것 같은 비주얼이지만 단정한 옷으로 싹 갈아입었다.\n",
      "--------------------------------------------------\n",
      "지난 9월, 그러니까 2019 S/S 시즌을 선보인 패션위크는 여러모로 화제였다. CELINE으로 컴백하는 HEDI-SLIMANE과 지방시를 떠난 리카르도 티시의 버버리 데뷔 쇼가 특히 그랬다. 현대의 패션 역사를 선도해온 두 브랜드가 같은 시즌, 새 디자이너의 데뷔 쇼를 앞두고 있었다. 먼저 시험대에 오를 티시의 데뷔 쇼를 두고 런던의 공기는 긴장감마저 감돈 가운데 살짝 들떴다. 영국을 대표하는, 영국과 동일시되는 브랜드의 새 출발. 고급 부티크가 들어선 메이 페어 지역에는 버버리의 새로운 TB 모노그램으로 래핑한 블랙캡이 종종 목격됐다. 이는 라프 시몬스가 부임한 캘빈 클라인의 로고를 리디자인한 바 있는 유명 그래픽 디자이너 피터 사빌과 티시의 협업으로 탄생한 것이었다. 브랜드 창립자 토머스 버버리(Thomas Burberry)의 이니셜을 조합한 옅은 갈색 과 주홍색 모노그램은 블랙캡뿐 아니라 서울 청담 플래그십 스토어, 상하이 타이핑 호수의 테디베어 벌룬, 뉴욕 선셋 비치의 파라솔을 점령하며, 새로운 버버리의 탄생을 전 세계에 알렸다. 먼저 선임된 버버리의 새 CEO 마르코 고베티는 5년에 걸쳐 대대적으로 브랜드를 리포지셔닝할 계획임을 발표했 다. 지방시와 PHOEBE-PHILO의 CELINE을 걸쳐 버버리에 안착한 그는 이미 업계가 인정하는 베테랑. 리카르도 티시의 무명 시절, 그의 이름을 딴 레이블만 보고 지방시 여성복과 쿠튀르 디자이너 자리에 추천한 고베티는 다시 티시에게 손을 내밀었다. 두 이탈리아 남자가 다시 조우했다는 소식으로도 버버리는 순 이익이 2.4% 소폭 상승했다. 티시는 지방시의 매출을 6배나 늘린 전력이 있 었다. 모두가 변화에 기대를 걸 것이 분명했다.\n",
      "--------------------------------------------------\n",
      "다음 시즌, CELINE에 부임할 HEDI-SLIMANE이 CELINE의 새로운 남성 컬렉션과 쿠튀르 컬렉션을 어떠한 애티튜드로 탈바꿈시킬지 사뭇 기대되는 이유도 이러한 젠더 플레이에 신선한 충격을 가하리라는 기대 때문일 것이다. 과거 여성들로 하여금 그가 만든 디올 옴므 팬츠 슈트를 탐하게 하고, 생로랑 여성 쇼에선 쇼트 헤어의 여성 모델에게 바이커 재킷이나 턱시도 재킷을 입힌 채 등장시켜 남성과 여성의 경계를 매혹적으로 해체한 주인공이니까. 뉴욕에서 주목받는 신진 브랜드인 바하 이스트가 남성과 여성 모두 함께 입을 수 있는 옷을 키워드로, 하나의 아이템을 상황에 따라 자유롭게 연출할 수 있는 트랜스포머 스타일의 유니섹스 아이템을 선보인 것도 이 시대 젊은 세대의 요구를 반영한 것이리라.\n",
      "--------------------------------------------------\n",
      "모든 의문은 이번 S/S 시즌의 프라다로부터 시작되었다. 미우치아 프라다 여사가 내놓은 경쾌한 깃털 장식의 슈즈와 소뚜와 목걸이. 그걸 본 순간 관능적인 재즈 시대의 댄서가 떠올랐다. 그런데 그 면면을 자세히 살펴보니 반전의 매력이 숨어 있는 게 아닌가. 바로 샌들의 뒷면에는 벨크로 장식의 러버 소재 밴드가 있고, 목걸이는 가벼운 플라스틱 소재였던 것. ‘모양새는 더없이 우아하게, 반면 소재는 더없이 실용적으로’라는 웨어러블 쿠튀르의 가치가 떠올랐다. 이처럼 ‘쿠튀르 터치는 더하되 매일 착용이 가능한 소재로 기능성을 더한다’는 명제는 가장 동시대적인 모던 럭셔리의 핵심이다. 지난해 여름, 베트멍이 쿠튀르 기간을 틈타 S/S 시즌 레디투웨어 쇼를 하며 환기시킨 쿠튀르의 의미를 되짚어보자. 각 분야의 레전드라고 불릴 만한 클래식 브랜드들과의 대대적인 협업을 통해 그 장인 정신과 테크닉은 갖추되, 오늘날 스트리트 문화를 즐기는 젊은이들이 열광할 만한 시대 정신이 깃든 디자인을 선보이는 것임을 선언하지 않았나. 젊은이들은 뎀나의 선택을 열렬한 환호로 응답했고 말이다. 나아가 S/S 시즌 런웨이에서 주얼 단추 장식의 후디 룩을 선보인 구찌, 여성스럽고 정제된 드레스에 캐주얼한 스니커즈를 매치한 CELINE, 퍼 소재의 풍성한 비치 가운에 러버 소재 슬리퍼를 매치한 미우미우에 이르기까지… ‘실용성과 럭셔리의 절묘한 앙상블’을 연출한 디자이너들 덕에 이번 시즌, 우린 ‘참을 수 없는 럭셔리의 가벼움’을 즐길 수 있으리라.\n",
      "--------------------------------------------------\n"
     ]
    }
   ],
   "source": [
    "for word in ce_dw['word_celine']:\n",
    "    if '쿠튀르' in word:\n",
    "        print(word)\n",
    "        print('-'*50)"
   ]
  },
  {
   "cell_type": "code",
   "execution_count": 569,
   "metadata": {},
   "outputs": [],
   "source": [
    "# ce_dw['word_celine'] = ce_dw['word_celine'].str.replace('오뜨' ,'오트')"
   ]
  },
  {
   "cell_type": "code",
   "execution_count": 574,
   "metadata": {},
   "outputs": [],
   "source": [
    "# ce_dw['word_celine'] = ce_dw['word_celine'].str.replace('오트꾸띄르' ,'오트-꾸뛰르')"
   ]
  },
  {
   "cell_type": "code",
   "execution_count": 576,
   "metadata": {},
   "outputs": [],
   "source": [
    "# ce_dw['word_celine'] = ce_dw['word_celine'].str.replace('오트 꾸띄르' ,'오트-꾸뛰르')"
   ]
  },
  {
   "cell_type": "code",
   "execution_count": 578,
   "metadata": {},
   "outputs": [],
   "source": [
    "# ce_dw['word_celine'] = ce_dw['word_celine'].str.replace('오트 꾸뛰르' ,'오트-꾸뛰르')"
   ]
  },
  {
   "cell_type": "code",
   "execution_count": 580,
   "metadata": {},
   "outputs": [],
   "source": [
    "# ce_dw['word_celine'] = ce_dw['word_celine'].str.replace('오트 쿠튀르' ,'오트-꾸뛰르')"
   ]
  },
  {
   "cell_type": "code",
   "execution_count": 585,
   "metadata": {},
   "outputs": [],
   "source": [
    "# ce_dw['word_celine'] = ce_dw['word_celine'].str.replace('오트쿠튀르' ,'오트-꾸뛰르')"
   ]
  },
  {
   "cell_type": "code",
   "execution_count": 593,
   "metadata": {},
   "outputs": [],
   "source": [
    "# ce_dw['word_celine'] = ce_dw['word_celine'].str.replace('오트쿠튀르' ,'오트-꾸뛰르')"
   ]
  },
  {
   "cell_type": "code",
   "execution_count": 594,
   "metadata": {},
   "outputs": [],
   "source": [
    "ce_dw['word_celine'] = ce_dw['word_celine'].str.replace('오트-꾸뛰르' ,'HAUTE-COUTURE')"
   ]
  },
  {
   "cell_type": "code",
   "execution_count": 591,
   "metadata": {},
   "outputs": [
    {
     "data": {
      "text/plain": [
       "'HAUTE-COUTURE'"
      ]
     },
     "execution_count": 591,
     "metadata": {},
     "output_type": "execute_result"
    }
   ],
   "source": [
    "'Haute-Couture'.upper()"
   ]
  },
  {
   "cell_type": "code",
   "execution_count": null,
   "metadata": {},
   "outputs": [],
   "source": []
  },
  {
   "cell_type": "markdown",
   "metadata": {},
   "source": [
    "### stopwords"
   ]
  },
  {
   "cell_type": "code",
   "execution_count": 595,
   "metadata": {},
   "outputs": [],
   "source": [
    "from nltk.corpus import stopwords \n",
    "from nltk.tokenize import word_tokenize "
   ]
  },
  {
   "cell_type": "code",
   "execution_count": 596,
   "metadata": {},
   "outputs": [],
   "source": [
    "sw_df = pd.read_csv('stopword.txt', header=None)"
   ]
  },
  {
   "cell_type": "code",
   "execution_count": 597,
   "metadata": {},
   "outputs": [],
   "source": [
    "sw_df.columns = ['stopword']"
   ]
  },
  {
   "cell_type": "code",
   "execution_count": 598,
   "metadata": {},
   "outputs": [],
   "source": [
    "stop_words = []\n",
    "for sw in sw_df['stopword']:\n",
    "    stop_words.append(sw)"
   ]
  },
  {
   "cell_type": "code",
   "execution_count": 599,
   "metadata": {},
   "outputs": [
    {
     "data": {
      "text/plain": [
       "['아', '휴', '아이구', '아이쿠', '아이고', '어', '나', '우리', '저희', '따라']"
      ]
     },
     "execution_count": 599,
     "metadata": {},
     "output_type": "execute_result"
    }
   ],
   "source": [
    "stop_words[:10]"
   ]
  },
  {
   "cell_type": "code",
   "execution_count": null,
   "metadata": {},
   "outputs": [],
   "source": []
  },
  {
   "cell_type": "markdown",
   "metadata": {},
   "source": [
    "## list 생성 후 append"
   ]
  },
  {
   "cell_type": "code",
   "execution_count": 600,
   "metadata": {},
   "outputs": [],
   "source": [
    "contents_list = []"
   ]
  },
  {
   "cell_type": "code",
   "execution_count": 601,
   "metadata": {},
   "outputs": [
    {
     "data": {
      "text/plain": [
       "826"
      ]
     },
     "execution_count": 601,
     "metadata": {},
     "output_type": "execute_result"
    }
   ],
   "source": [
    "len(ce_dw)"
   ]
  },
  {
   "cell_type": "code",
   "execution_count": 602,
   "metadata": {},
   "outputs": [],
   "source": [
    "# ce_dw['word_celine']"
   ]
  },
  {
   "cell_type": "code",
   "execution_count": 603,
   "metadata": {},
   "outputs": [],
   "source": [
    "magazine_list = []\n",
    "article_list = []\n",
    "for word in ce_dw['word_celine']:\n",
    "    article_list.append(word)"
   ]
  },
  {
   "cell_type": "code",
   "execution_count": 604,
   "metadata": {},
   "outputs": [
    {
     "data": {
      "text/plain": [
       "826"
      ]
     },
     "execution_count": 604,
     "metadata": {},
     "output_type": "execute_result"
    }
   ],
   "source": [
    "len(article_list)"
   ]
  },
  {
   "cell_type": "code",
   "execution_count": 605,
   "metadata": {},
   "outputs": [
    {
     "data": {
      "text/plain": [
       "' 두세 개의 가방을 한 번에 믹스하는 백 레이어링의 시너지 효과는 실로 대단하다. 개인적으로 이번 시즌 위시 리스트 중 하나인 CELINE의 PVC 백을 실제로 접한 뒤 백 레이어링 효과에 더욱 확신을 가지게 되었다.(사실 이 PVC 백은 지갑을 사면 ‘덤’으로 주는 용도이긴 하나 역으로 이 백이 인기가 더 좋다.) 촬영장에 홀로 덩그러니 놓인 PVC 백을 보고 있자니 아무리 CELINE이라 한들, 팥 빠진 찐빵 같다란 생각이 들었으니. PVC 백 특유의 ‘칩함’은 CELINE이 쇼에서 제안했던 ‘속에 담긴 지갑, 함께 쥐어진 클래식한 토트백’에 의해 시너지 효과를 이끌어내며 드라마틱한 존재감을 발휘한 것이다. 이런 백 레이어링 방식은 이번 시즌 CELINE 우먼만의 세련된 감각을 발휘하는 용도로 적극 활용되었다.,  이 트렌드에 힘을 실어주는 또 다른 대표적인 디자이너는 칼 라거펠트. 동일한 체인 백을 양쪽에 크로스로 메거나(2014 S/S 샤넬), 토트백 위에 미니 백을 참처럼 다는(2015 S/S 펜디) 등 그는 이미 여러 시즌에 걸쳐 백 레이어링을 다양하게 제안한 바 있다. 특히 이번 시즌엔 PVC 군단과 함께 흥미로운 백 레이어링 팁이 런웨이 내내 이어지기도. 체인 백과 PVC 쇼퍼 백을 한 손에 겹쳐 들거나, 크로스로 연출한 체인 백과 패딩 백, 로고가 담긴 클러치를 팔에 끼고 빅 토트백은 손에 드는 등 스포티하거나 캐주얼한 가방들이 샤넬을 대표하는 체인 백과 함께 덩달아 신분 상승하는 효과를 가지고 왔다. CELINE과 샤넬에서 보여준 이질적인 무드의 백과 백의 과감한 믹스 매치는 그 자체만으로 룩에 파워풀함과 위트를 더해주는 역할을 한다.(브랜드에겐 분명 상업적인 효과도 있을 테고.) 로에베, 구찌, 카르벤, 마크 제이콥스 등 수많은 쇼들 역시 이를 뒷받침한다.'"
      ]
     },
     "execution_count": 605,
     "metadata": {},
     "output_type": "execute_result"
    }
   ],
   "source": [
    "article_list[120]"
   ]
  },
  {
   "cell_type": "markdown",
   "metadata": {},
   "source": [
    "### 기호 삭제"
   ]
  },
  {
   "cell_type": "code",
   "execution_count": 606,
   "metadata": {},
   "outputs": [],
   "source": [
    "# import re\n",
    "\n",
    "# for article in article_list:\n",
    "#     article_list2 = re.sub('[^\\w\\s]', '', article)\n",
    "\n",
    "# # article_list[100].replace(' \\', '')"
   ]
  },
  {
   "cell_type": "code",
   "execution_count": 607,
   "metadata": {},
   "outputs": [
    {
     "data": {
      "text/plain": [
       "'마지막 왕실 일정을 수행하기 위해 잠시 영국으로 돌아온 메건 마클이 지난 6일(현지 시간) 영국 동부 다겐햄에 있는 로버트 클락 어퍼 스쿨을 전격 방문, 시크한 커리어 우먼룩을 선보여 주목을 받았다., 이날 700여 명의 학생들과 네 인생의 여자를 지키라는 주제의 토론을 진행한 메건 마클은 앞으로 왕실 일원이 아닌 여성 인권과 기후 변화 운동에 앞장서는 여성 활동가 이미지에 맞게 블랙 팬츠와 크림색 재킷을 착용했다., 특히 메건 마클은 나비 리본 탑 핸들로 마무리한 한국의 전통 보자기를 닮은 레지나 표(Rejina Pyo) 클러치 백을  매치해 눈길을 끌었다., ↑사진 = 메건 마클이 착용한 표지영 디자이너의 레지나 표 클러치백, 레지나 표는 한국 출신 표지영 디자이너가 전개하는 여성복 브랜드로 런던을 기반으로 활동하고 있다.표지영 디자이너는 삼성패션디자인펀드 제13회, 14회 2년연속 수상자로 선정된 바 있으며 지난해 런던 2019 패션 어워즈에서 여성복 신인상을 수상하면서 세계 패션계의 주목을 받고 있다., 표지영 디자이너는 홍익대학교 섬유미술패션디자인과를 졸업하고 국내 패션 회사에서 근무하다 지난 2007년 영국 센트럴 세인트 마틴에서 여성복 석사 과정을 마쳤다. CELINE, 록산다 등에서 거리어를 쌓았으며 지난 2014 F/W시즌 ‘레지나 표(Rejina Pyo)’를 런칭했다.'"
      ]
     },
     "execution_count": 607,
     "metadata": {},
     "output_type": "execute_result"
    }
   ],
   "source": [
    "article_list[400].replace('\"', '').replace(\"'\", \"\").replace('[', '').replace(']', '').replace('\\\\', '')"
   ]
  },
  {
   "cell_type": "markdown",
   "metadata": {},
   "source": [
    "## Hannanum\n"
   ]
  },
  {
   "cell_type": "code",
   "execution_count": 608,
   "metadata": {},
   "outputs": [],
   "source": [
    "from konlpy.tag import Hannanum"
   ]
  },
  {
   "cell_type": "code",
   "execution_count": 609,
   "metadata": {},
   "outputs": [],
   "source": [
    "hannanum = Hannanum()"
   ]
  },
  {
   "cell_type": "markdown",
   "metadata": {},
   "source": [
    "### 각 문장별로 형태소 구분하기"
   ]
  },
  {
   "cell_type": "code",
   "execution_count": 610,
   "metadata": {},
   "outputs": [
    {
     "name": "stdout",
     "output_type": "stream",
     "text": [
      "826\n"
     ]
    }
   ],
   "source": [
    "sentences_tag = []\n",
    "\n",
    "for sentence in article_list:\n",
    "    morph = hannanum.pos(sentence)\n",
    "    sentences_tag.append(morph)\n",
    "    \n",
    "    \n",
    "\n",
    "print(len(sentences_tag))\n"
   ]
  },
  {
   "cell_type": "code",
   "execution_count": 611,
   "metadata": {},
   "outputs": [
    {
     "data": {
      "text/plain": [
       "[('슈퍼사이즈', 'N'),\n",
       " ('리본', 'N'),\n",
       " ('의', 'J'),\n",
       " ('등장', 'N'),\n",
       " ('!', 'S'),\n",
       " ('이번', 'N'),\n",
       " ('시즌', 'N'),\n",
       " ('여성', 'N'),\n",
       " ('의', 'J'),\n",
       " ('특권', 'N'),\n",
       " ('이', 'J'),\n",
       " ('자', 'E'),\n",
       " ('사랑', 'N'),\n",
       " ('스럽', 'X'),\n",
       " ('음', 'E'),\n",
       " ('의', 'J'),\n",
       " ('대명사', 'N'),\n",
       " ('이', 'J'),\n",
       " ('ㄴ', 'E'),\n",
       " ('리본', 'N'),\n",
       " ('장식', 'N'),\n",
       " ('이', 'J'),\n",
       " ('런웨이', 'N'),\n",
       " ('를', 'J'),\n",
       " ('로맨틱', 'N'),\n",
       " ('하', 'X'),\n",
       " ('게', 'E'),\n",
       " ('채우', 'P'),\n",
       " ('어', 'E'),\n",
       " ('나', 'P'),\n",
       " ('아', 'E'),\n",
       " ('가', 'P'),\n",
       " ('아다', 'E'),\n",
       " ('.', 'S'),\n",
       " ('CELINE', 'F'),\n",
       " ('의', 'J'),\n",
       " ('오프닝', 'N'),\n",
       " ('을', 'J'),\n",
       " ('장식', 'N'),\n",
       " ('하', 'X'),\n",
       " ('ㄴ', 'E'),\n",
       " ('도트', 'N'),\n",
       " ('패턴', 'N'),\n",
       " ('의', 'J'),\n",
       " ('보', 'N'),\n",
       " ('원피스', 'N'),\n",
       " ('부터', 'J'),\n",
       " ('발렌티노,', 'N'),\n",
       " ('미우', 'N'),\n",
       " ('미우,', 'N'),\n",
       " ('에르뎀,', 'N'),\n",
       " ('모스키노,', 'N'),\n",
       " ('에밀리아', 'N'),\n",
       " ('윅스테드', 'N'),\n",
       " ('를', 'J'),\n",
       " ('대표적', 'N'),\n",
       " ('으로', 'J'),\n",
       " ('꼽', 'P'),\n",
       " ('을', 'E'),\n",
       " ('수', 'N'),\n",
       " ('있', 'P'),\n",
       " ('다', 'E'),\n",
       " ('.', 'S'),\n",
       " ('단', 'M'),\n",
       " (',', 'S'),\n",
       " ('그저', 'M'),\n",
       " ('사랑', 'N'),\n",
       " ('스럽', 'X'),\n",
       " ('게', 'E'),\n",
       " ('리본', 'N'),\n",
       " ('을', 'J'),\n",
       " ('즐기기보단', 'N'),\n",
       " ('과장', 'N'),\n",
       " ('되', 'X'),\n",
       " ('ㄴ', 'E'),\n",
       " ('크', 'P'),\n",
       " ('기', 'E'),\n",
       " ('를', 'J'),\n",
       " ('택하', 'P'),\n",
       " ('어', 'E'),\n",
       " ('파워풀하', 'N'),\n",
       " ('이', 'J'),\n",
       " ('게', 'E'),\n",
       " ('연출', 'N'),\n",
       " ('하', 'X'),\n",
       " ('는', 'E'),\n",
       " ('것', 'N'),\n",
       " ('이', 'J'),\n",
       " ('포인트', 'N'),\n",
       " ('이', 'J'),\n",
       " ('다', 'E'),\n",
       " ('.', 'S')]"
      ]
     },
     "execution_count": 611,
     "metadata": {},
     "output_type": "execute_result"
    }
   ],
   "source": [
    "sentences_tag[110]"
   ]
  },
  {
   "cell_type": "markdown",
   "metadata": {},
   "source": [
    "## 한나눔 태그 집합\n",
    "기호 `S`  \n",
    "외국어 `F`  \n",
    "체언 `N`  \n",
    "용언 `P`\n",
    "> 동사 `PV`\n",
    "형용사 `PA`\n",
    "보조용언 `PX`\n",
    "\n",
    "수식언 `M`  \n",
    ">관형사 `MM`\n",
    "부사 `MA`\n",
    "\n",
    "..."
   ]
  },
  {
   "cell_type": "code",
   "execution_count": 612,
   "metadata": {},
   "outputs": [
    {
     "data": {
      "text/plain": [
       "{'E': '어미',\n",
       " 'EC': '연결 어미',\n",
       " 'EF': '종결 어미',\n",
       " 'EP': '선어말어미',\n",
       " 'ET': '전성 어미',\n",
       " 'F': '외국어',\n",
       " 'I': '독립언',\n",
       " 'II': '감탄사',\n",
       " 'J': '관계언',\n",
       " 'JC': '격조사',\n",
       " 'JP': '서술격 조사',\n",
       " 'JX': '보조사',\n",
       " 'M': '수식언',\n",
       " 'MA': '부사',\n",
       " 'MM': '관형사',\n",
       " 'N': '체언',\n",
       " 'NB': '의존명사',\n",
       " 'NC': '보통명사',\n",
       " 'NN': '수사',\n",
       " 'NP': '대명사',\n",
       " 'NQ': '고유명사',\n",
       " 'P': '용언',\n",
       " 'PA': '형용사',\n",
       " 'PV': '동사',\n",
       " 'PX': '보조 용언',\n",
       " 'S': '기호',\n",
       " 'X': '접사',\n",
       " 'XP': '접두사',\n",
       " 'XS': '접미사'}"
      ]
     },
     "execution_count": 612,
     "metadata": {},
     "output_type": "execute_result"
    }
   ],
   "source": [
    "hannanum.tagset"
   ]
  },
  {
   "cell_type": "markdown",
   "metadata": {},
   "source": [
    "### stop_words 추가"
   ]
  },
  {
   "cell_type": "code",
   "execution_count": 613,
   "metadata": {},
   "outputs": [
    {
     "data": {
      "text/plain": [
       "'아'"
      ]
     },
     "execution_count": 613,
     "metadata": {},
     "output_type": "execute_result"
    }
   ],
   "source": [
    "stop_words[0]"
   ]
  },
  {
   "cell_type": "code",
   "execution_count": null,
   "metadata": {},
   "outputs": [],
   "source": []
  },
  {
   "cell_type": "markdown",
   "metadata": {},
   "source": [
    "### 1. 명사(N), 용언(P), 수식언(M)인 품사만 선별해 리스트에 담기"
   ]
  },
  {
   "cell_type": "code",
   "execution_count": 614,
   "metadata": {},
   "outputs": [],
   "source": [
    "NPM_list= []\n",
    "for sentence1 in sentences_tag:\n",
    "    for word, tag in sentence1:\n",
    "        if word not in stop_words:\n",
    "            if tag in ['N','P','M','F']:\n",
    "                NPM_list.append(word)"
   ]
  },
  {
   "cell_type": "code",
   "execution_count": 615,
   "metadata": {},
   "outputs": [
    {
     "data": {
      "text/plain": [
       "70667"
      ]
     },
     "execution_count": 615,
     "metadata": {},
     "output_type": "execute_result"
    }
   ],
   "source": [
    "len(NPM_list)"
   ]
  },
  {
   "cell_type": "code",
   "execution_count": 616,
   "metadata": {},
   "outputs": [
    {
     "data": {
      "text/plain": [
       "['부츠', '가격미정', '폴', '랄프', '로렌(Polo', 'Ralph', 'Lauren', '빈티지한', '주름', '워싱']"
      ]
     },
     "execution_count": 616,
     "metadata": {},
     "output_type": "execute_result"
    }
   ],
   "source": [
    "NPM_list[60:70]"
   ]
  },
  {
   "cell_type": "markdown",
   "metadata": {},
   "source": [
    "### 선별된 품사별 빈도수 계산 & 상위 빈도 10위까지 출력"
   ]
  },
  {
   "cell_type": "code",
   "execution_count": 617,
   "metadata": {
    "scrolled": true
   },
   "outputs": [
    {
     "name": "stdout",
     "output_type": "stream",
     "text": [
      "[('CELINE', 1639), ('있', 1114), ('지', 556), ('SLIMANE', 503), ('HEDI', 498), ('보', 475), ('수', 458), ('컬렉션', 399), ('브랜드', 397), ('룩', 333), ('선보이', 319), ('패션', 304), ('말', 299), ('되', 285), ('주', 281), ('시즌', 280), ('PHILO', 265), ('PHOEBE', 262), ('않', 246), ('입', 233), ('디자이너', 226), ('백', 221), ('새롭', 217), ('컬러', 216), ('없', 212), ('보이', 211), ('내', 211), ('같', 209), ('만들', 209), ('지나', 206), ('디렉터', 199), ('스타일', 194), ('위하', 183), ('디자인', 182), ('재킷', 180), ('드레스', 180), ('팬츠', 173), ('쇼', 173), ('가장', 171), ('받', 166), ('생', 165), ('남성복', 164), ('장식', 160), ('좋', 145), ('아이템', 145), ('파리', 144), ('옷', 141), ('코트', 137), ('더', 137), ('크리에이티브', 136), ('많', 135), ('크', 134), ('여성', 133), ('매치', 131), ('S', 130), ('로랑', 129), ('싶', 128), ('그녀', 127), ('느끼', 126), ('첫', 124), ('등장', 123), ('로고', 122), ('소재', 122), ('역시', 122), ('가격미정', 120), ('LVMH', 119), ('거', 119), ('가죽', 117), ('두', 117), ('바', 116), ('더하', 115), ('시작', 111), ('전', 110), ('실루엣', 107), ('통하', 104), ('영국', 103), ('셔츠', 102), ('때문', 102), ('리', 99), ('대', 97), ('럭셔리', 97), ('듯', 96), ('블랙', 95), ('연출', 95), ('버버리', 94), ('특히', 94), ('여름', 94), ('중', 93), ('한', 92), ('대하', 92), ('가방', 91), ('런웨이', 91), ('매장', 90), ('후', 89), ('2019', 89), ('스커트', 87), ('그룹', 86), ('디올', 85), ('모델', 85), ('주목', 84), ('트렌드', 84), ('모든', 83), ('데님', 81), ('사랑', 81), ('변화', 80), ('rnrn', 80), ('무드', 79), ('부츠', 78), ('”', 78), ('속', 78), ('패션쇼', 78), ('지방시', 77), ('프린트', 77), ('패션계', 77), ('사람', 76), ('제품', 76), ('돌', 76), ('패턴', 75), ('데', 75), ('찾', 74), ('화이트', 74), ('최근', 73), ('캠페인', 73), ('지금', 72), ('시대', 72), ('생각', 72), ('길', 72), ('남성', 72), ('n', 71), ('액세서리', 71), ('정도', 70), ('완성', 70), ('이끌', 69), ('영감', 69), ('디자이너들', 69), ('다르', 68), ('여성복', 67), ('눈', 66), ('피부', 66), ('따르', 65), ('이미지', 65), ('에디', 65), ('패션위크', 65), ('분위기', 64), ('슈즈', 64), ('안', 64), ('번', 64), ('선글라스', 64), ('다양한', 64), ('즐기', 63), ('여성들', 62), ('by', 61), ('알', 60), ('시절', 60), ('잇', 60), ('선택', 60), ('매출', 60), ('가격', 59), ('구찌', 59), ('샤넬', 59), ('광고', 59), ('세계', 58), ('포인트', 57), ('클래식한', 57), ('라인', 57), ('위', 57), ('매력', 57), ('수트', 57), ('프랑스', 57), ('스타일링', 56), ('겨울', 56), ('사진', 56), ('하우스', 55), ('현재', 55), ('화', 54), ('스타', 54), ('옴므', 54), ('모습', 53), ('슈트', 53), ('떠나', 53), ('향수', 53), ('니트', 52), ('사용', 52), ('신', 52), ('뜨', 52), ('라', 52), ('진행', 52), ('런던', 52), ('베스트', 51), ('만나', 51), ('다양', 51), ('한편', 51), ('영입', 51), ('잘', 50), ('얻', 50), ('다시', 50), ('이후', 50), ('처음', 50), ('공개', 50), ('골드', 49)]\n"
     ]
    }
   ],
   "source": [
    "word_list = Counter(NPM_list)\n",
    "print(word_list.most_common(200))"
   ]
  },
  {
   "cell_type": "code",
   "execution_count": 618,
   "metadata": {},
   "outputs": [],
   "source": [
    "# 한 글자인 단어는 제외\n",
    "\n",
    "for i, v in enumerate(NPM_list):\n",
    "    if len(v)<2:\n",
    "        NPM_list.pop(i)"
   ]
  },
  {
   "cell_type": "code",
   "execution_count": 619,
   "metadata": {},
   "outputs": [],
   "source": [
    "count = Counter(NPM_list)"
   ]
  },
  {
   "cell_type": "code",
   "execution_count": 620,
   "metadata": {
    "scrolled": true
   },
   "outputs": [],
   "source": [
    "word_list = count.most_common(200)\n",
    "# for v in word_list:\n",
    "#     print(v)"
   ]
  },
  {
   "cell_type": "markdown",
   "metadata": {},
   "source": [
    "### 2. 명사만 선별해 리스트에 담기"
   ]
  },
  {
   "cell_type": "code",
   "execution_count": 621,
   "metadata": {},
   "outputs": [],
   "source": [
    "noun= []\n",
    "for sentence1 in sentences_tag:\n",
    "    for word, tag in sentence1:\n",
    "        if word not in stop_words:\n",
    "            if tag in ['N', 'F']:\n",
    "                noun.append(word)"
   ]
  },
  {
   "cell_type": "code",
   "execution_count": 622,
   "metadata": {},
   "outputs": [],
   "source": [
    "for i, v in enumerate(noun):\n",
    "    if len(v)<2:\n",
    "        noun.pop(i)"
   ]
  },
  {
   "cell_type": "code",
   "execution_count": 623,
   "metadata": {},
   "outputs": [],
   "source": [
    "counts = Counter(noun)"
   ]
  },
  {
   "cell_type": "markdown",
   "metadata": {},
   "source": [
    "### 3. 명사만 선별해 아티클 별로 리스트에 담기"
   ]
  },
  {
   "cell_type": "code",
   "execution_count": 624,
   "metadata": {},
   "outputs": [
    {
     "name": "stdout",
     "output_type": "stream",
     "text": [
      "826\n"
     ]
    }
   ],
   "source": [
    "noun_article= []\n",
    "for sentence1 in sentences_tag:\n",
    "    art_noun = []\n",
    "    for word, tag in sentence1:\n",
    "        if word not in stop_words:\n",
    "            if tag in ['N', 'F']:\n",
    "                art_noun.append(word)\n",
    "    noun_article.append(art_noun)\n",
    "\n",
    "print(len(noun_article))"
   ]
  },
  {
   "cell_type": "code",
   "execution_count": 625,
   "metadata": {},
   "outputs": [
    {
     "data": {
      "text/plain": [
       "826"
      ]
     },
     "execution_count": 625,
     "metadata": {},
     "output_type": "execute_result"
    }
   ],
   "source": [
    "len(article_list)"
   ]
  },
  {
   "cell_type": "code",
   "execution_count": 626,
   "metadata": {},
   "outputs": [],
   "source": [
    "noun_df = pd.DataFrame({\n",
    "    'article':article_list,\n",
    "    'noun':noun_article\n",
    "})"
   ]
  },
  {
   "cell_type": "code",
   "execution_count": 627,
   "metadata": {},
   "outputs": [],
   "source": [
    "w_list = noun_df['noun']"
   ]
  },
  {
   "cell_type": "code",
   "execution_count": 628,
   "metadata": {},
   "outputs": [],
   "source": [
    "for i in range(len(w_list)):\n",
    "    for idx, v in enumerate(w_list[i]):\n",
    "        if len(v)<2:\n",
    "            w_list[i].pop(idx)"
   ]
  },
  {
   "cell_type": "code",
   "execution_count": 629,
   "metadata": {},
   "outputs": [
    {
     "data": {
      "text/plain": [
       "['골드',\n",
       " '장식',\n",
       " '포인트',\n",
       " '케이프',\n",
       " '체크',\n",
       " '코트',\n",
       " '1백9만원',\n",
       " '산드로(Sandro)',\n",
       " '데님',\n",
       " '팬츠',\n",
       " '가격미정',\n",
       " '리바이스(Levi’s)',\n",
       " '그레이',\n",
       " '컬러',\n",
       " '니트',\n",
       " '13만2천원',\n",
       " '르누이(Le',\n",
       " 'Nuee',\n",
       " '라이딩',\n",
       " '부츠',\n",
       " '2백26만원',\n",
       " '발렌티노',\n",
       " '가라바',\n",
       " '줄무늬',\n",
       " '포인트',\n",
       " '8만5천원',\n",
       " '프레드',\n",
       " '페리(Fred',\n",
       " 'Perry',\n",
       " '로고',\n",
       " '패턴',\n",
       " '가격미정',\n",
       " 'CELINE',\n",
       " '벨벳',\n",
       " '소재',\n",
       " '후드',\n",
       " '코트',\n",
       " '레이스',\n",
       " '아플리케',\n",
       " '디테일',\n",
       " '자카드',\n",
       " '소재',\n",
       " '스커트',\n",
       " '원석',\n",
       " '네크리스',\n",
       " '가격미정',\n",
       " 'CELINE',\n",
       " 'CELINE',\n",
       " '반무테',\n",
       " '안경',\n",
       " '33만원',\n",
       " '젠틀몬스터(Gentle',\n",
       " 'Monster',\n",
       " '앵클',\n",
       " '부츠',\n",
       " '가격미정',\n",
       " '랄프',\n",
       " '로렌(Polo',\n",
       " 'Ralph',\n",
       " 'Lauren']"
      ]
     },
     "execution_count": 629,
     "metadata": {},
     "output_type": "execute_result"
    }
   ],
   "source": [
    "w_list[0]"
   ]
  },
  {
   "cell_type": "code",
   "execution_count": 630,
   "metadata": {},
   "outputs": [],
   "source": [
    "noun_df.to_csv('noun_celine_Hannanum.csv', sep = '|', index = False, encoding = 'utf-8')"
   ]
  },
  {
   "cell_type": "code",
   "execution_count": 631,
   "metadata": {},
   "outputs": [
    {
     "data": {
      "text/html": [
       "<div>\n",
       "<style scoped>\n",
       "    .dataframe tbody tr th:only-of-type {\n",
       "        vertical-align: middle;\n",
       "    }\n",
       "\n",
       "    .dataframe tbody tr th {\n",
       "        vertical-align: top;\n",
       "    }\n",
       "\n",
       "    .dataframe thead th {\n",
       "        text-align: right;\n",
       "    }\n",
       "</style>\n",
       "<table border=\"1\" class=\"dataframe\">\n",
       "  <thead>\n",
       "    <tr style=\"text-align: right;\">\n",
       "      <th></th>\n",
       "      <th>article</th>\n",
       "      <th>noun</th>\n",
       "    </tr>\n",
       "  </thead>\n",
       "  <tbody>\n",
       "    <tr>\n",
       "      <th>0</th>\n",
       "      <td>골드 잠금 장식으로 포인트를 준 케이프 체크 코트는 1백9만원, 산드로(Sandro...</td>\n",
       "      <td>[골드, 장식, 포인트, 케이프, 체크, 코트, 1백9만원, 산드로(Sandro),...</td>\n",
       "    </tr>\n",
       "    <tr>\n",
       "      <th>1</th>\n",
       "      <td>빈티지한 주름과 워싱이 특징인 데님 팬츠는 가격미정, CELINE(CELINE).</td>\n",
       "      <td>[빈티지한, 주름, 워싱, 특징, 데님, 팬츠, 가격미정, CELINE, CELINE]</td>\n",
       "    </tr>\n",
       "    <tr>\n",
       "      <th>2</th>\n",
       "      <td>1970년대 에스닉한 분위기가 물씬 풍기는 CELINE의 방패 모양 숄더백.</td>\n",
       "      <td>[1970년대, 에스닉한, 분위기, CELINE, 방패, 모양, 숄더백]</td>\n",
       "    </tr>\n",
       "    <tr>\n",
       "      <th>3</th>\n",
       "      <td>재킷, 셔츠, 슈즈는 CELINE(CELINE), 블랙 스커트는 렉토, 이어링은 스...</td>\n",
       "      <td>[재킷, 셔츠, 슈즈, CELINE, CELINE, 블랙, 스커트, 렉토,, 이어링...</td>\n",
       "    </tr>\n",
       "    <tr>\n",
       "      <th>4</th>\n",
       "      <td>재킷, 셔츠, 네크리스는 모두 CELINE(CELINE), 팬츠는 다잉브리드, 슈즈...</td>\n",
       "      <td>[재킷, 셔츠, 네크리스, CELINE, CELINE, 팬츠, 다잉브리드,, 슈즈,...</td>\n",
       "    </tr>\n",
       "    <tr>\n",
       "      <th>5</th>\n",
       "      <td>CELINE, 나노 벨트백 1백만원대</td>\n",
       "      <td>[CELINE, 나노, 벨트백, 1백만원]</td>\n",
       "    </tr>\n",
       "    <tr>\n",
       "      <th>6</th>\n",
       "      <td>요즘 들어 주식은 친구들과의 대화에서 빼놓을 수 없는 주제가 되었다. 코로나19...</td>\n",
       "      <td>[주식, 친구들, 대화, 주제, 코로나19, 불안감, 기회, 강조, 주식, 시작, ...</td>\n",
       "    </tr>\n",
       "    <tr>\n",
       "      <th>7</th>\n",
       "      <td>컬러블록이 조화로운 부츠는 가격미정, 샤넬(Chanel). 와인색 니하이 부츠는...</td>\n",
       "      <td>[컬러블록, 조화로운, 부츠, 가격미정, 샤넬(Chanel), 와인색, 니하, 부츠...</td>\n",
       "    </tr>\n",
       "    <tr>\n",
       "      <th>8</th>\n",
       "      <td>격자무늬 트렌치코트는 4백26만5천원, 와이드 팬츠는 가격미정, 지방시. 밤색 터틀...</td>\n",
       "      <td>[격자무늬, 트렌치코트, 4백26만5천원, 와이드, 팬츠, 가격미정, 지방시, 밤색...</td>\n",
       "    </tr>\n",
       "    <tr>\n",
       "      <th>9</th>\n",
       "      <td>민트색 후드 톱은 가격미정, 크롬하츠(Chrome Hearts). 안경은 52만원,...</td>\n",
       "      <td>[민트색, 후드, 가격미정, 크롬하츠(Chrome, Hearts, 안경, 52만원,...</td>\n",
       "    </tr>\n",
       "    <tr>\n",
       "      <th>10</th>\n",
       "      <td>프린지 장식위에 메탈 소재의 트라이엄프를 장식한 로퍼는 가격미정, CELINE(...</td>\n",
       "      <td>[프린지, 장식위, 소재, 트라이엄프, 장식, 로퍼, 가격미정, CELINE, CE...</td>\n",
       "    </tr>\n",
       "    <tr>\n",
       "      <th>11</th>\n",
       "      <td>다정 다감한 성격 때문에 ENFJ 주변엔 언제나 사람이 많아요. 모임을 좋아하는 사...</td>\n",
       "      <td>[다정, 다감한, 성격, 때문, ENFJ, 주변, 사람, 모임, 사회운동가형, EN...</td>\n",
       "    </tr>\n",
       "    <tr>\n",
       "      <th>12</th>\n",
       "      <td>논리적이고 책임감 있는 성격이라 질서를 중시하는 조직에서 일할 확률이 높은 ISTJ...</td>\n",
       "      <td>[논리적, 책임감, 성격, 질서, 중시, 조직, 일할, 확률, ISTJ, 컬러, 디...</td>\n",
       "    </tr>\n",
       "    <tr>\n",
       "      <th>13</th>\n",
       "      <td>히피 룩과 펑크, 글램 룩으로 새로운 바람을 불게 했던 1970년대와 세기말을 ...</td>\n",
       "      <td>[히피, 펑크,, 글램, 바람, 1970년대, 세기말, 절제, 디자인, 추구, 미니...</td>\n",
       "    </tr>\n",
       "    <tr>\n",
       "      <th>14</th>\n",
       "      <td>빈티지한 체크무늬 재킷은 가격미정, CELINE(CELINE). 비비드한 핑크 컬러...</td>\n",
       "      <td>[빈티지한, 체크무늬, 재킷, 가격미정, CELINE, CELINE, 비비드한, 핑...</td>\n",
       "    </tr>\n",
       "    <tr>\n",
       "      <th>15</th>\n",
       "      <td>격자무늬는 단순하지만 가장 다양한 모습으로 변주하는 복합적 패턴이기도 하다. 이번 ...</td>\n",
       "      <td>[격자무늬, 단순, 다양한, 모습, 변주, 복합적, 패턴, 시즌, CELINE, 케...</td>\n",
       "    </tr>\n",
       "    <tr>\n",
       "      <th>16</th>\n",
       "      <td>화이트 슬리브리스, 스트라이프 오버올 팬츠는 모두 CELINE(CELINE)., 화...</td>\n",
       "      <td>[화이트, 슬리브리스,, 스트라이프, 오버올, 팬츠, CELINE, CELINE, ...</td>\n",
       "    </tr>\n",
       "    <tr>\n",
       "      <th>17</th>\n",
       "      <td>나는 쉬지 않고 다이어트를 한다. 평생을 장거리 수영선수 같은 몸을 가지고 싶었으나...</td>\n",
       "      <td>[다이어트, 평생, 장거리, 수영선수, 몸, 오래전, 예약, 계획, 인생, 불공평,...</td>\n",
       "    </tr>\n",
       "    <tr>\n",
       "      <th>18</th>\n",
       "      <td>화이트 슈트 재킷과 블랙 플립플랍은 스타일리스트 소장품. 이너 슬리브리스 톱은 CE...</td>\n",
       "      <td>[화이트, 슈트, 재킷, 블랙, 플립플랍, 스타일리스트, 소장품, 이너, 슬리브리스...</td>\n",
       "    </tr>\n",
       "    <tr>\n",
       "      <th>19</th>\n",
       "      <td>보타이, 오버올 슈트, 버뮤다 쇼츠 등 이번 시즌 데님에도 여지없이 레트로 무드는 ...</td>\n",
       "      <td>[보타이,, 오버올, 슈트,, 버뮤다, 쇼츠, 시즌, 데님, 레트, 무드, 존재, ...</td>\n",
       "    </tr>\n",
       "    <tr>\n",
       "      <th>20</th>\n",
       "      <td>파란색 뿔테 틴티드 선글라스는 57만원, CELINE 바이 베디베로(CELINE b...</td>\n",
       "      <td>[파란색, 뿔테, 틴티드, 선글라스, 57만원, CELINE, 베디베로(CELINE...</td>\n",
       "    </tr>\n",
       "    <tr>\n",
       "      <th>21</th>\n",
       "      <td>빈티지에 대한 나의 첫 기억은 종로5가 광장시장 안에서의 쿰쿰한 냄새와 함께한다...</td>\n",
       "      <td>[빈티지, 기억, 종로5, 광장시장, 냄새, 비지떡, 고등학생, 브랜드, 저렴, 구...</td>\n",
       "    </tr>\n",
       "    <tr>\n",
       "      <th>22</th>\n",
       "      <td>‘사회적 거리 두기’가 장기화되며 집에서도 스타일을 유지하고자 하는 이들의 니즈를 ...</td>\n",
       "      <td>[‘사회적, 거리, 두기’, 장기화, 스타일, 니즈, 만족, 홈웨어, 인기, 슬리브...</td>\n",
       "    </tr>\n",
       "    <tr>\n",
       "      <th>23</th>\n",
       "      <td>정갈한 고딕체 로고 티셔츠는 가격미정, CELINE 바이 HEDI-SLIMANE...</td>\n",
       "      <td>[정갈, 고딕체, 로고, 티셔츠, 가격미정, CELINE, HEDI, SLIMANE...</td>\n",
       "    </tr>\n",
       "    <tr>\n",
       "      <th>24</th>\n",
       "      <td>언제든 잘 갖춰 입은 듯한 룩이 필요할 땐 테일러드 스타일의 베스트를 활용해보자. ...</td>\n",
       "      <td>[듯, 필요, 테일러드, 스타일, 베스트, 활용, 정갈, 무채색, 베스트, 재킷, ...</td>\n",
       "    </tr>\n",
       "    <tr>\n",
       "      <th>25</th>\n",
       "      <td>체인 프린트가 있는 주름 장식 원피스, 벨트와 사이하이 부츠는 모두 가격미정, CE...</td>\n",
       "      <td>[프린트, 주름, 장식, 원피스, 벨트, 부츠, 가격미정, CELINE, HEDI,...</td>\n",
       "    </tr>\n",
       "    <tr>\n",
       "      <th>26</th>\n",
       "      <td>피터 두는 일상적인 워킹 우먼의 룩을 만드는 뉴욕 브랜드다. 간결하지만 독특한 커팅...</td>\n",
       "      <td>[피터, 일상적, 워킹, 우먼, 뉴욕, 브랜드, 간결, 독특, 커팅, 컬러, 매치,...</td>\n",
       "    </tr>\n",
       "    <tr>\n",
       "      <th>27</th>\n",
       "      <td>6 홀스빗 장식의 레더 벨트는 가격미정, CELINE 바이 HEDI-SLIMANE(...</td>\n",
       "      <td>[홀스빗, 장식, 벨트, 가격미정, CELINE, HEDI, SLIMANE, CEL...</td>\n",
       "    </tr>\n",
       "    <tr>\n",
       "      <th>28</th>\n",
       "      <td>2 가장 후회 없는 쇼핑 경험이 있다면? PHOEBE-PHILO의 CELINE 피스...</td>\n",
       "      <td>[후회, 쇼핑, 경험, PHOEBE, PHILO, CELINE, 피스들, 그녀, 브...</td>\n",
       "    </tr>\n",
       "    <tr>\n",
       "      <th>29</th>\n",
       "      <td>베이지색 케이프 코트, 터틀넥 니트,데님 팬츠, 벨트는 가격미정, 모두 CELINE...</td>\n",
       "      <td>[베이지색, 케이프, 코트, 터틀넥, 니트,데님, 팬츠,, 벨트, 가격미정, CEL...</td>\n",
       "    </tr>\n",
       "    <tr>\n",
       "      <th>...</th>\n",
       "      <td>...</td>\n",
       "      <td>...</td>\n",
       "    </tr>\n",
       "    <tr>\n",
       "      <th>796</th>\n",
       "      <td>전 세계 명품 시장의 절반 이상을 차지하고 있는 프랑스의 LVMH 그룹. 루이 비통...</td>\n",
       "      <td>[세계, 명품, 시장, 절반, 프랑스, LVMH, 그룹, 비통, CELINE, 지방...</td>\n",
       "    </tr>\n",
       "    <tr>\n",
       "      <th>797</th>\n",
       "      <td>보디 실루엣 따라 찰랑이는 CELINE의 2017 Pre-Fall 실크 원피스.</td>\n",
       "      <td>[보디, 실루엣, 찰랑, CELINE, 2017, Pre, Fall, 실크, 원피스]</td>\n",
       "    </tr>\n",
       "    <tr>\n",
       "      <th>798</th>\n",
       "      <td>순백의 변신은 무죄 n화이트는 독보적이다. 한여름의 낮과 밤이 풍성한 컬러로 일렁일...</td>\n",
       "      <td>[순백, 변신, 무죄, 화이트, 독보적, 한여름, 밤, 풍성한, 컬러, 명쾌, 여름...</td>\n",
       "    </tr>\n",
       "    <tr>\n",
       "      <th>799</th>\n",
       "      <td></td>\n",
       "      <td>[]</td>\n",
       "    </tr>\n",
       "    <tr>\n",
       "      <th>800</th>\n",
       "      <td></td>\n",
       "      <td>[]</td>\n",
       "    </tr>\n",
       "    <tr>\n",
       "      <th>801</th>\n",
       "      <td></td>\n",
       "      <td>[]</td>\n",
       "    </tr>\n",
       "    <tr>\n",
       "      <th>802</th>\n",
       "      <td></td>\n",
       "      <td>[]</td>\n",
       "    </tr>\n",
       "    <tr>\n",
       "      <th>803</th>\n",
       "      <td>CELINE은 공식 인스타그램에 사다리와 강아지 발 사진을 업로드해 이곳의 매장 오...</td>\n",
       "      <td>[CELINE, 공식, 인스타그램, 사다리, 강아지, 사진, 업로드, 매장, 오픈,...</td>\n",
       "    </tr>\n",
       "    <tr>\n",
       "      <th>804</th>\n",
       "      <td></td>\n",
       "      <td>[]</td>\n",
       "    </tr>\n",
       "    <tr>\n",
       "      <th>805</th>\n",
       "      <td></td>\n",
       "      <td>[]</td>\n",
       "    </tr>\n",
       "    <tr>\n",
       "      <th>806</th>\n",
       "      <td>쇼를 보는 내내 런웨이의 의상을 모조리 옷장으로 가져오고 싶을 정도로 탐났던 CEL...</td>\n",
       "      <td>[런웨이, 의상, 옷장, 정도, CELINE, 컬렉션, 유난, PHOEBE, PHI...</td>\n",
       "    </tr>\n",
       "    <tr>\n",
       "      <th>807</th>\n",
       "      <td>CELINE(CELINE) 청담 플래그십 스토어 : 서울시 강남구 압구정로 60길 17</td>\n",
       "      <td>[CELINE, CELINE, 청담, 플래그십, 스토어, 서울시, 강남구, 압구정,...</td>\n",
       "    </tr>\n",
       "    <tr>\n",
       "      <th>808</th>\n",
       "      <td></td>\n",
       "      <td>[]</td>\n",
       "    </tr>\n",
       "    <tr>\n",
       "      <th>809</th>\n",
       "      <td>모든 의문은 이번 S/S 시즌의 프라다로부터 시작되었다. 미우치아 프라다 여사가 내...</td>\n",
       "      <td>[의문, S, 시즌, 프라다로부터, 시작, 미우치, 프라, 여사, 경쾌한, 깃털, ...</td>\n",
       "    </tr>\n",
       "    <tr>\n",
       "      <th>810</th>\n",
       "      <td>CELINE의 아티스틱한 동시대적 감각은 늘 새로운 영감을 불러일으킨다. 때론 열정...</td>\n",
       "      <td>[CELINE, 아티스틱한, 동시대적, 감각, 영감, 때론, 열정적, 강렬, 때론,...</td>\n",
       "    </tr>\n",
       "    <tr>\n",
       "      <th>811</th>\n",
       "      <td>CELINE의 아티스틱한 동시대적 감각은 늘 새로운 영감을 불러일으킨다. 때론 열정...</td>\n",
       "      <td>[CELINE, 아티스틱한, 동시대적, 감각, 영감, 때론, 열정적, 강렬, 때론,...</td>\n",
       "    </tr>\n",
       "    <tr>\n",
       "      <th>812</th>\n",
       "      <td>CELINE의 아티스틱한 동시대적 감각은 늘 새로운 영감을 불러일으킨다. 때론 열정...</td>\n",
       "      <td>[CELINE, 아티스틱한, 동시대적, 감각, 영감, 때론, 열정적, 강렬, 때론,...</td>\n",
       "    </tr>\n",
       "    <tr>\n",
       "      <th>813</th>\n",
       "      <td>CELINE의 아티스틱한 동시대적 감각은 늘 새로운 영감을 불러일으킨다. 그 순간을...</td>\n",
       "      <td>[CELINE, 아티스틱한, 동시대적, 감각, 영감, 순간, 명, 한국, 사진가가,...</td>\n",
       "    </tr>\n",
       "    <tr>\n",
       "      <th>814</th>\n",
       "      <td>빅 백은 오고n몇 시즌 전만 해도 오버사이즈 백을 들면 세상 모든 근심을 이고 지고...</td>\n",
       "      <td>[백, 오고n몇, 시즌, 오버사이즈, 세상, 근심, 사람, 같다고들, 시즌, CEL...</td>\n",
       "    </tr>\n",
       "    <tr>\n",
       "      <th>815</th>\n",
       "      <td>CELINE 플라워 시스루 드레스nCELINE의 스프링 컬렉션 룩북에서 마주한 꽃무...</td>\n",
       "      <td>[CELINE, 플라워, 시스루, 드레스nCELINE, 스프링, 컬렉션, 룩북, 마...</td>\n",
       "    </tr>\n",
       "    <tr>\n",
       "      <th>816</th>\n",
       "      <td>새로운 사옥 오픈을 앞두고 있다고 들었다.n외국 디자이너 숍에 가보면 그 브랜드의 ...</td>\n",
       "      <td>[사옥, 오픈, 외국, 디자이너, 브랜드, 콘셉트, 공존, 스토어, 재미, 정도, ...</td>\n",
       "    </tr>\n",
       "    <tr>\n",
       "      <th>817</th>\n",
       "      <td></td>\n",
       "      <td>[]</td>\n",
       "    </tr>\n",
       "    <tr>\n",
       "      <th>818</th>\n",
       "      <td></td>\n",
       "      <td>[]</td>\n",
       "    </tr>\n",
       "    <tr>\n",
       "      <th>819</th>\n",
       "      <td>간결한 우아함n터질 듯한 극적인 볼륨이 부담스럽다면 부피감을 줄이고 보다 미니멀한 ...</td>\n",
       "      <td>[간결한, 우아함n터질, 극, 볼륨, 부담, 부피감, 미니멀한, 방식, 실루엣, 연...</td>\n",
       "    </tr>\n",
       "    <tr>\n",
       "      <th>820</th>\n",
       "      <td>노멀 시티n최근 리조트 컬렉션은 9월의 봄/여름, 그리고 2월의 가을/겨울 레디투웨...</td>\n",
       "      <td>[노멀, 시티n최근, 리조트, 컬렉션, 9월, 여름, 2월, 겨울, 레디투웨, 컬렉...</td>\n",
       "    </tr>\n",
       "    <tr>\n",
       "      <th>821</th>\n",
       "      <td>마야 셀리아 샐리(Maya Celia Sally)n2017 S/S CELINE의 쇼...</td>\n",
       "      <td>[셀리, 샐리(Maya, Celia, Sally)n2017, S, CELINE, 쇼...</td>\n",
       "    </tr>\n",
       "    <tr>\n",
       "      <th>822</th>\n",
       "      <td>코리아 파워, 록(Rokh)n지난해 S/S에 파리에서 데뷔한 32세 한국 디자이너 ...</td>\n",
       "      <td>[코리, 파워, 록(Rokh)n지난해, S, 파리, 데뷔, 32세, 한국, 디자이너...</td>\n",
       "    </tr>\n",
       "    <tr>\n",
       "      <th>823</th>\n",
       "      <td>패션 에디터 김신n가을이 다가오니 괜스레 감상적이 된다. 정제된 보헤미안 감성과 함...</td>\n",
       "      <td>[패션, 에디터, 김신n가을, 괜스레, 감상적, 정제, 보헤미안, 감성, 이국적, ...</td>\n",
       "    </tr>\n",
       "    <tr>\n",
       "      <th>824</th>\n",
       "      <td></td>\n",
       "      <td>[]</td>\n",
       "    </tr>\n",
       "    <tr>\n",
       "      <th>825</th>\n",
       "      <td>허리에 가방n주머니인 듯 아닌 듯, 벨트인 듯 아닌 듯 ‘허리 가방’에 새로운 생명...</td>\n",
       "      <td>[허리, 가방n주머니, 듯, 벨트, 듯, ‘허리, 가방’, 생명, CELINE, P...</td>\n",
       "    </tr>\n",
       "  </tbody>\n",
       "</table>\n",
       "<p>826 rows × 2 columns</p>\n",
       "</div>"
      ],
      "text/plain": [
       "                                               article  \\\n",
       "0    골드 잠금 장식으로 포인트를 준 케이프 체크 코트는 1백9만원, 산드로(Sandro...   \n",
       "1        빈티지한 주름과 워싱이 특징인 데님 팬츠는 가격미정, CELINE(CELINE).   \n",
       "2           1970년대 에스닉한 분위기가 물씬 풍기는 CELINE의 방패 모양 숄더백.   \n",
       "3    재킷, 셔츠, 슈즈는 CELINE(CELINE), 블랙 스커트는 렉토, 이어링은 스...   \n",
       "4    재킷, 셔츠, 네크리스는 모두 CELINE(CELINE), 팬츠는 다잉브리드, 슈즈...   \n",
       "5                                 CELINE, 나노 벨트백 1백만원대   \n",
       "6      요즘 들어 주식은 친구들과의 대화에서 빼놓을 수 없는 주제가 되었다. 코로나19...   \n",
       "7      컬러블록이 조화로운 부츠는 가격미정, 샤넬(Chanel). 와인색 니하이 부츠는...   \n",
       "8    격자무늬 트렌치코트는 4백26만5천원, 와이드 팬츠는 가격미정, 지방시. 밤색 터틀...   \n",
       "9    민트색 후드 톱은 가격미정, 크롬하츠(Chrome Hearts). 안경은 52만원,...   \n",
       "10     프린지 장식위에 메탈 소재의 트라이엄프를 장식한 로퍼는 가격미정, CELINE(...   \n",
       "11   다정 다감한 성격 때문에 ENFJ 주변엔 언제나 사람이 많아요. 모임을 좋아하는 사...   \n",
       "12   논리적이고 책임감 있는 성격이라 질서를 중시하는 조직에서 일할 확률이 높은 ISTJ...   \n",
       "13     히피 룩과 펑크, 글램 룩으로 새로운 바람을 불게 했던 1970년대와 세기말을 ...   \n",
       "14   빈티지한 체크무늬 재킷은 가격미정, CELINE(CELINE). 비비드한 핑크 컬러...   \n",
       "15   격자무늬는 단순하지만 가장 다양한 모습으로 변주하는 복합적 패턴이기도 하다. 이번 ...   \n",
       "16   화이트 슬리브리스, 스트라이프 오버올 팬츠는 모두 CELINE(CELINE)., 화...   \n",
       "17   나는 쉬지 않고 다이어트를 한다. 평생을 장거리 수영선수 같은 몸을 가지고 싶었으나...   \n",
       "18   화이트 슈트 재킷과 블랙 플립플랍은 스타일리스트 소장품. 이너 슬리브리스 톱은 CE...   \n",
       "19   보타이, 오버올 슈트, 버뮤다 쇼츠 등 이번 시즌 데님에도 여지없이 레트로 무드는 ...   \n",
       "20   파란색 뿔테 틴티드 선글라스는 57만원, CELINE 바이 베디베로(CELINE b...   \n",
       "21     빈티지에 대한 나의 첫 기억은 종로5가 광장시장 안에서의 쿰쿰한 냄새와 함께한다...   \n",
       "22   ‘사회적 거리 두기’가 장기화되며 집에서도 스타일을 유지하고자 하는 이들의 니즈를 ...   \n",
       "23     정갈한 고딕체 로고 티셔츠는 가격미정, CELINE 바이 HEDI-SLIMANE...   \n",
       "24   언제든 잘 갖춰 입은 듯한 룩이 필요할 땐 테일러드 스타일의 베스트를 활용해보자. ...   \n",
       "25   체인 프린트가 있는 주름 장식 원피스, 벨트와 사이하이 부츠는 모두 가격미정, CE...   \n",
       "26   피터 두는 일상적인 워킹 우먼의 룩을 만드는 뉴욕 브랜드다. 간결하지만 독특한 커팅...   \n",
       "27   6 홀스빗 장식의 레더 벨트는 가격미정, CELINE 바이 HEDI-SLIMANE(...   \n",
       "28   2 가장 후회 없는 쇼핑 경험이 있다면? PHOEBE-PHILO의 CELINE 피스...   \n",
       "29   베이지색 케이프 코트, 터틀넥 니트,데님 팬츠, 벨트는 가격미정, 모두 CELINE...   \n",
       "..                                                 ...   \n",
       "796  전 세계 명품 시장의 절반 이상을 차지하고 있는 프랑스의 LVMH 그룹. 루이 비통...   \n",
       "797       보디 실루엣 따라 찰랑이는 CELINE의 2017 Pre-Fall 실크 원피스.   \n",
       "798  순백의 변신은 무죄 n화이트는 독보적이다. 한여름의 낮과 밤이 풍성한 컬러로 일렁일...   \n",
       "799                                                      \n",
       "800                                                      \n",
       "801                                                      \n",
       "802                                                      \n",
       "803  CELINE은 공식 인스타그램에 사다리와 강아지 발 사진을 업로드해 이곳의 매장 오...   \n",
       "804                                                      \n",
       "805                                                      \n",
       "806  쇼를 보는 내내 런웨이의 의상을 모조리 옷장으로 가져오고 싶을 정도로 탐났던 CEL...   \n",
       "807   CELINE(CELINE) 청담 플래그십 스토어 : 서울시 강남구 압구정로 60길 17   \n",
       "808                                                      \n",
       "809  모든 의문은 이번 S/S 시즌의 프라다로부터 시작되었다. 미우치아 프라다 여사가 내...   \n",
       "810  CELINE의 아티스틱한 동시대적 감각은 늘 새로운 영감을 불러일으킨다. 때론 열정...   \n",
       "811  CELINE의 아티스틱한 동시대적 감각은 늘 새로운 영감을 불러일으킨다. 때론 열정...   \n",
       "812  CELINE의 아티스틱한 동시대적 감각은 늘 새로운 영감을 불러일으킨다. 때론 열정...   \n",
       "813  CELINE의 아티스틱한 동시대적 감각은 늘 새로운 영감을 불러일으킨다. 그 순간을...   \n",
       "814  빅 백은 오고n몇 시즌 전만 해도 오버사이즈 백을 들면 세상 모든 근심을 이고 지고...   \n",
       "815  CELINE 플라워 시스루 드레스nCELINE의 스프링 컬렉션 룩북에서 마주한 꽃무...   \n",
       "816  새로운 사옥 오픈을 앞두고 있다고 들었다.n외국 디자이너 숍에 가보면 그 브랜드의 ...   \n",
       "817                                                      \n",
       "818                                                      \n",
       "819  간결한 우아함n터질 듯한 극적인 볼륨이 부담스럽다면 부피감을 줄이고 보다 미니멀한 ...   \n",
       "820  노멀 시티n최근 리조트 컬렉션은 9월의 봄/여름, 그리고 2월의 가을/겨울 레디투웨...   \n",
       "821  마야 셀리아 샐리(Maya Celia Sally)n2017 S/S CELINE의 쇼...   \n",
       "822  코리아 파워, 록(Rokh)n지난해 S/S에 파리에서 데뷔한 32세 한국 디자이너 ...   \n",
       "823  패션 에디터 김신n가을이 다가오니 괜스레 감상적이 된다. 정제된 보헤미안 감성과 함...   \n",
       "824                                                      \n",
       "825  허리에 가방n주머니인 듯 아닌 듯, 벨트인 듯 아닌 듯 ‘허리 가방’에 새로운 생명...   \n",
       "\n",
       "                                                  noun  \n",
       "0    [골드, 장식, 포인트, 케이프, 체크, 코트, 1백9만원, 산드로(Sandro),...  \n",
       "1     [빈티지한, 주름, 워싱, 특징, 데님, 팬츠, 가격미정, CELINE, CELINE]  \n",
       "2             [1970년대, 에스닉한, 분위기, CELINE, 방패, 모양, 숄더백]  \n",
       "3    [재킷, 셔츠, 슈즈, CELINE, CELINE, 블랙, 스커트, 렉토,, 이어링...  \n",
       "4    [재킷, 셔츠, 네크리스, CELINE, CELINE, 팬츠, 다잉브리드,, 슈즈,...  \n",
       "5                              [CELINE, 나노, 벨트백, 1백만원]  \n",
       "6    [주식, 친구들, 대화, 주제, 코로나19, 불안감, 기회, 강조, 주식, 시작, ...  \n",
       "7    [컬러블록, 조화로운, 부츠, 가격미정, 샤넬(Chanel), 와인색, 니하, 부츠...  \n",
       "8    [격자무늬, 트렌치코트, 4백26만5천원, 와이드, 팬츠, 가격미정, 지방시, 밤색...  \n",
       "9    [민트색, 후드, 가격미정, 크롬하츠(Chrome, Hearts, 안경, 52만원,...  \n",
       "10   [프린지, 장식위, 소재, 트라이엄프, 장식, 로퍼, 가격미정, CELINE, CE...  \n",
       "11   [다정, 다감한, 성격, 때문, ENFJ, 주변, 사람, 모임, 사회운동가형, EN...  \n",
       "12   [논리적, 책임감, 성격, 질서, 중시, 조직, 일할, 확률, ISTJ, 컬러, 디...  \n",
       "13   [히피, 펑크,, 글램, 바람, 1970년대, 세기말, 절제, 디자인, 추구, 미니...  \n",
       "14   [빈티지한, 체크무늬, 재킷, 가격미정, CELINE, CELINE, 비비드한, 핑...  \n",
       "15   [격자무늬, 단순, 다양한, 모습, 변주, 복합적, 패턴, 시즌, CELINE, 케...  \n",
       "16   [화이트, 슬리브리스,, 스트라이프, 오버올, 팬츠, CELINE, CELINE, ...  \n",
       "17   [다이어트, 평생, 장거리, 수영선수, 몸, 오래전, 예약, 계획, 인생, 불공평,...  \n",
       "18   [화이트, 슈트, 재킷, 블랙, 플립플랍, 스타일리스트, 소장품, 이너, 슬리브리스...  \n",
       "19   [보타이,, 오버올, 슈트,, 버뮤다, 쇼츠, 시즌, 데님, 레트, 무드, 존재, ...  \n",
       "20   [파란색, 뿔테, 틴티드, 선글라스, 57만원, CELINE, 베디베로(CELINE...  \n",
       "21   [빈티지, 기억, 종로5, 광장시장, 냄새, 비지떡, 고등학생, 브랜드, 저렴, 구...  \n",
       "22   [‘사회적, 거리, 두기’, 장기화, 스타일, 니즈, 만족, 홈웨어, 인기, 슬리브...  \n",
       "23   [정갈, 고딕체, 로고, 티셔츠, 가격미정, CELINE, HEDI, SLIMANE...  \n",
       "24   [듯, 필요, 테일러드, 스타일, 베스트, 활용, 정갈, 무채색, 베스트, 재킷, ...  \n",
       "25   [프린트, 주름, 장식, 원피스, 벨트, 부츠, 가격미정, CELINE, HEDI,...  \n",
       "26   [피터, 일상적, 워킹, 우먼, 뉴욕, 브랜드, 간결, 독특, 커팅, 컬러, 매치,...  \n",
       "27   [홀스빗, 장식, 벨트, 가격미정, CELINE, HEDI, SLIMANE, CEL...  \n",
       "28   [후회, 쇼핑, 경험, PHOEBE, PHILO, CELINE, 피스들, 그녀, 브...  \n",
       "29   [베이지색, 케이프, 코트, 터틀넥, 니트,데님, 팬츠,, 벨트, 가격미정, CEL...  \n",
       "..                                                 ...  \n",
       "796  [세계, 명품, 시장, 절반, 프랑스, LVMH, 그룹, 비통, CELINE, 지방...  \n",
       "797    [보디, 실루엣, 찰랑, CELINE, 2017, Pre, Fall, 실크, 원피스]  \n",
       "798  [순백, 변신, 무죄, 화이트, 독보적, 한여름, 밤, 풍성한, 컬러, 명쾌, 여름...  \n",
       "799                                                 []  \n",
       "800                                                 []  \n",
       "801                                                 []  \n",
       "802                                                 []  \n",
       "803  [CELINE, 공식, 인스타그램, 사다리, 강아지, 사진, 업로드, 매장, 오픈,...  \n",
       "804                                                 []  \n",
       "805                                                 []  \n",
       "806  [런웨이, 의상, 옷장, 정도, CELINE, 컬렉션, 유난, PHOEBE, PHI...  \n",
       "807  [CELINE, CELINE, 청담, 플래그십, 스토어, 서울시, 강남구, 압구정,...  \n",
       "808                                                 []  \n",
       "809  [의문, S, 시즌, 프라다로부터, 시작, 미우치, 프라, 여사, 경쾌한, 깃털, ...  \n",
       "810  [CELINE, 아티스틱한, 동시대적, 감각, 영감, 때론, 열정적, 강렬, 때론,...  \n",
       "811  [CELINE, 아티스틱한, 동시대적, 감각, 영감, 때론, 열정적, 강렬, 때론,...  \n",
       "812  [CELINE, 아티스틱한, 동시대적, 감각, 영감, 때론, 열정적, 강렬, 때론,...  \n",
       "813  [CELINE, 아티스틱한, 동시대적, 감각, 영감, 순간, 명, 한국, 사진가가,...  \n",
       "814  [백, 오고n몇, 시즌, 오버사이즈, 세상, 근심, 사람, 같다고들, 시즌, CEL...  \n",
       "815  [CELINE, 플라워, 시스루, 드레스nCELINE, 스프링, 컬렉션, 룩북, 마...  \n",
       "816  [사옥, 오픈, 외국, 디자이너, 브랜드, 콘셉트, 공존, 스토어, 재미, 정도, ...  \n",
       "817                                                 []  \n",
       "818                                                 []  \n",
       "819  [간결한, 우아함n터질, 극, 볼륨, 부담, 부피감, 미니멀한, 방식, 실루엣, 연...  \n",
       "820  [노멀, 시티n최근, 리조트, 컬렉션, 9월, 여름, 2월, 겨울, 레디투웨, 컬렉...  \n",
       "821  [셀리, 샐리(Maya, Celia, Sally)n2017, S, CELINE, 쇼...  \n",
       "822  [코리, 파워, 록(Rokh)n지난해, S, 파리, 데뷔, 32세, 한국, 디자이너...  \n",
       "823  [패션, 에디터, 김신n가을, 괜스레, 감상적, 정제, 보헤미안, 감성, 이국적, ...  \n",
       "824                                                 []  \n",
       "825  [허리, 가방n주머니, 듯, 벨트, 듯, ‘허리, 가방’, 생명, CELINE, P...  \n",
       "\n",
       "[826 rows x 2 columns]"
      ]
     },
     "execution_count": 631,
     "metadata": {},
     "output_type": "execute_result"
    }
   ],
   "source": [
    "noun_df"
   ]
  },
  {
   "cell_type": "code",
   "execution_count": 632,
   "metadata": {},
   "outputs": [
    {
     "data": {
      "text/html": [
       "<div>\n",
       "<style scoped>\n",
       "    .dataframe tbody tr th:only-of-type {\n",
       "        vertical-align: middle;\n",
       "    }\n",
       "\n",
       "    .dataframe tbody tr th {\n",
       "        vertical-align: top;\n",
       "    }\n",
       "\n",
       "    .dataframe thead th {\n",
       "        text-align: right;\n",
       "    }\n",
       "</style>\n",
       "<table border=\"1\" class=\"dataframe\">\n",
       "  <thead>\n",
       "    <tr style=\"text-align: right;\">\n",
       "      <th></th>\n",
       "      <th>article</th>\n",
       "      <th>noun</th>\n",
       "    </tr>\n",
       "  </thead>\n",
       "  <tbody>\n",
       "  </tbody>\n",
       "</table>\n",
       "</div>"
      ],
      "text/plain": [
       "Empty DataFrame\n",
       "Columns: [article, noun]\n",
       "Index: []"
      ]
     },
     "execution_count": 632,
     "metadata": {},
     "output_type": "execute_result"
    }
   ],
   "source": [
    "noun_df.loc[860:865]"
   ]
  },
  {
   "cell_type": "markdown",
   "metadata": {},
   "source": [
    "### 명사빈도 카운트"
   ]
  },
  {
   "cell_type": "code",
   "execution_count": 633,
   "metadata": {},
   "outputs": [
    {
     "name": "stdout",
     "output_type": "stream",
     "text": [
      "('CELINE', 1639)\n",
      "('SLIMANE', 503)\n",
      "('HEDI', 498)\n",
      "('컬렉션', 399)\n",
      "('브랜드', 397)\n",
      "('패션', 304)\n",
      "('시즌', 280)\n",
      "('PHILO', 265)\n",
      "('PHOEBE', 262)\n",
      "('디자이너', 226)\n",
      "('컬러', 216)\n",
      "('디렉터', 199)\n",
      "('스타일', 194)\n",
      "('디자인', 182)\n",
      "('재킷', 180)\n",
      "('드레스', 180)\n",
      "('팬츠', 173)\n",
      "('남성복', 164)\n",
      "('장식', 160)\n",
      "('아이템', 145)\n",
      "('파리', 144)\n",
      "('코트', 137)\n",
      "('크리에이티브', 136)\n",
      "('여성', 133)\n",
      "('로랑', 129)\n",
      "('매치', 127)\n",
      "('그녀', 127)\n",
      "('등장', 123)\n",
      "('로고', 122)\n",
      "('소재', 122)\n",
      "('가격미정', 120)\n",
      "('LVMH', 119)\n",
      "('가죽', 117)\n",
      "('시작', 111)\n",
      "('실루엣', 107)\n",
      "('영국', 103)\n",
      "('셔츠', 102)\n",
      "('때문', 102)\n",
      "('럭셔리', 97)\n",
      "('블랙', 95)\n",
      "('연출', 95)\n",
      "('버버리', 94)\n",
      "('여름', 94)\n",
      "('가방', 91)\n",
      "('런웨이', 91)\n",
      "('매장', 90)\n",
      "('2019', 89)\n",
      "('스커트', 87)\n",
      "('그룹', 86)\n",
      "('디올', 85)\n",
      "('모델', 85)\n",
      "('주목', 84)\n",
      "('트렌드', 84)\n",
      "('데님', 81)\n",
      "('사랑', 81)\n",
      "('변화', 80)\n",
      "('rnrn', 80)\n",
      "('무드', 79)\n",
      "('부츠', 78)\n",
      "('패션쇼', 78)\n",
      "('지방시', 77)\n",
      "('프린트', 77)\n",
      "('패션계', 77)\n",
      "('사람', 76)\n",
      "('제품', 76)\n",
      "('패턴', 75)\n",
      "('화이트', 74)\n",
      "('캠페인', 73)\n",
      "('시대', 72)\n",
      "('생각', 72)\n",
      "('남성', 72)\n",
      "('액세서리', 71)\n",
      "('정도', 70)\n",
      "('완성', 70)\n",
      "('영감', 69)\n",
      "('디자이너들', 69)\n",
      "('여성복', 67)\n",
      "('피부', 66)\n",
      "('이미지', 65)\n",
      "('에디', 65)\n",
      "('패션위크', 65)\n",
      "('분위기', 64)\n",
      "('슈즈', 64)\n",
      "('선글라스', 64)\n",
      "('다양한', 64)\n",
      "('S', 64)\n",
      "('여성들', 62)\n",
      "('by', 61)\n",
      "('시절', 60)\n",
      "('선택', 60)\n",
      "('매출', 60)\n",
      "('가격', 59)\n",
      "('수', 59)\n",
      "('구찌', 59)\n",
      "('샤넬', 59)\n",
      "('광고', 59)\n",
      "('세계', 58)\n",
      "('포인트', 57)\n",
      "('클래식한', 57)\n",
      "('라인', 57)\n",
      "('매력', 57)\n",
      "('수트', 57)\n",
      "('프랑스', 57)\n",
      "('스타일링', 56)\n",
      "('겨울', 56)\n",
      "('사진', 56)\n",
      "('하우스', 55)\n",
      "('스타', 54)\n",
      "('옴므', 54)\n",
      "('모습', 53)\n",
      "('슈트', 53)\n",
      "('향수', 53)\n",
      "('니트', 52)\n",
      "('사용', 52)\n",
      "('진행', 52)\n",
      "('런던', 52)\n",
      "('베스트', 51)\n",
      "('다양', 51)\n",
      "('한편', 51)\n",
      "('영입', 51)\n",
      "('이후', 50)\n",
      "('공개', 50)\n",
      "('골드', 49)\n",
      "('케이프', 49)\n",
      "('트렌치코트', 49)\n",
      "('리본', 49)\n",
      "('영화', 49)\n",
      "('발표', 48)\n",
      "('세련', 48)\n",
      "('스니커즈', 48)\n",
      "('사실', 47)\n",
      "('세대', 46)\n",
      "('이름', 46)\n",
      "('활용', 46)\n",
      "('뉴욕', 46)\n",
      "('방식', 46)\n",
      "('데뷔', 46)\n",
      "('스트리트', 45)\n",
      "('당시', 45)\n",
      "('지난해', 45)\n",
      "('1970년대', 44)\n",
      "('블라우스', 44)\n",
      "('벨트', 44)\n",
      "('예정', 44)\n",
      "('발렌시아가', 44)\n",
      "('W', 44)\n",
      "('에디터', 43)\n",
      "('만큼', 43)\n",
      "('디테일', 42)\n",
      "('스카프', 42)\n",
      "('메종', 42)\n",
      "('필요', 41)\n",
      "('스텔라', 41)\n",
      "('1월', 41)\n",
      "('체크', 40)\n",
      "('강조', 40)\n",
      "('중요', 40)\n",
      "('표현', 40)\n",
      "('명품', 39)\n",
      "('그것', 39)\n",
      "('오버사이즈', 39)\n",
      "('편안', 39)\n",
      "('마지막', 39)\n",
      "('지금', 39)\n",
      "('인스타그램', 39)\n",
      "('브랜드들', 39)\n",
      "('활동', 39)\n",
      "('2020', 39)\n",
      "('70년대', 39)\n",
      "('조합', 39)\n",
      "('보테', 38)\n",
      "('효과', 38)\n",
      "('빈티지', 38)\n",
      "('출신', 38)\n",
      "('비통', 37)\n",
      "('이유', 37)\n",
      "('매력적', 37)\n",
      "('모델들', 37)\n",
      "('번', 37)\n",
      "('형태', 36)\n",
      "('자연', 36)\n",
      "('핸드백', 36)\n",
      "('우아한', 36)\n",
      "('제작', 36)\n",
      "('자리', 35)\n",
      "('특유', 35)\n",
      "('완벽', 35)\n",
      "('올해', 35)\n",
      "('레드', 34)\n",
      "('이야기', 34)\n",
      "('성분', 34)\n",
      "('촬영', 34)\n",
      "('기존', 34)\n",
      "('미국', 34)\n",
      "('유명', 34)\n",
      "('프린지', 33)\n",
      "('영향', 33)\n",
      "('마음', 33)\n",
      "('과감', 33)\n",
      "('유행', 33)\n"
     ]
    }
   ],
   "source": [
    "noun_list = counts.most_common(200)\n",
    "for v in noun_list:\n",
    "    print(v)"
   ]
  },
  {
   "cell_type": "markdown",
   "metadata": {},
   "source": [
    "## 워드클라우드 만들기"
   ]
  },
  {
   "cell_type": "code",
   "execution_count": 634,
   "metadata": {},
   "outputs": [],
   "source": [
    "\n",
    "import matplotlib.pyplot as plt"
   ]
  },
  {
   "cell_type": "markdown",
   "metadata": {},
   "source": [
    "### 패키지 및 폰트 설치"
   ]
  },
  {
   "cell_type": "code",
   "execution_count": 635,
   "metadata": {},
   "outputs": [],
   "source": [
    "import matplotlib.font_manager as fm\n",
    "\n",
    "# # 이용 가능한 폰트 중 '고딕'만 선별\n",
    "# for font in fm.fontManager.ttflist:\n",
    "#     if 'Gothic' in font.name:\n",
    "#         print(font.name, font.fname)"
   ]
  },
  {
   "cell_type": "code",
   "execution_count": 636,
   "metadata": {},
   "outputs": [],
   "source": [
    "font_path = 'C:\\WINDOWS\\Fonts\\malgun.ttf'"
   ]
  },
  {
   "cell_type": "markdown",
   "metadata": {},
   "source": [
    "### wordcloud 그리기"
   ]
  },
  {
   "cell_type": "code",
   "execution_count": 637,
   "metadata": {},
   "outputs": [],
   "source": [
    "from wordcloud import WordCloud"
   ]
  },
  {
   "cell_type": "code",
   "execution_count": 638,
   "metadata": {},
   "outputs": [],
   "source": [
    "wc = WordCloud(font_path=font_path, background_color=\"white\", width=600, height=400)"
   ]
  },
  {
   "cell_type": "code",
   "execution_count": 639,
   "metadata": {},
   "outputs": [
    {
     "data": {
      "image/png": "[encoded data removed]",
      "text/plain": [
       "<Figure size 432x288 with 1 Axes>"
      ]
     },
     "metadata": {},
     "output_type": "display_data"
    },
    {
     "data": {
      "text/plain": [
       "<wordcloud.wordcloud.WordCloud at 0x22ee67c9c50>"
      ]
     },
     "execution_count": 639,
     "metadata": {},
     "output_type": "execute_result"
    }
   ],
   "source": [
    "wc.generate_from_frequencies(dict(word_list))\n",
    "\n",
    "plt.imshow(wc) \n",
    "plt.axis('off') \n",
    "plt.show()\n",
    "\n",
    "\n",
    "wc.to_file('hannanum_adj_noun_celine.png')"
   ]
  },
  {
   "cell_type": "code",
   "execution_count": 640,
   "metadata": {},
   "outputs": [
    {
     "data": {
      "image/png": "[encoded data removed]",
      "text/plain": [
       "<Figure size 432x288 with 1 Axes>"
      ]
     },
     "metadata": {},
     "output_type": "display_data"
    },
    {
     "data": {
      "text/plain": [
       "<wordcloud.wordcloud.WordCloud at 0x22ee67c9c50>"
      ]
     },
     "execution_count": 640,
     "metadata": {},
     "output_type": "execute_result"
    }
   ],
   "source": [
    "wc.generate_from_frequencies(dict(noun_list))\n",
    "\n",
    "plt.imshow(wc) \n",
    "plt.axis('off') \n",
    "plt.show()\n",
    "\n",
    "wc.to_file('hannanum_noun_celine.png')"
   ]
  },
  {
   "cell_type": "code",
   "execution_count": null,
   "metadata": {},
   "outputs": [],
   "source": []
  },
  {
   "cell_type": "code",
   "execution_count": null,
   "metadata": {},
   "outputs": [],
   "source": []
  },
  {
   "cell_type": "code",
   "execution_count": null,
   "metadata": {},
   "outputs": [],
   "source": []
  },
  {
   "cell_type": "code",
   "execution_count": null,
   "metadata": {},
   "outputs": [],
   "source": []
  },
  {
   "cell_type": "code",
   "execution_count": null,
   "metadata": {},
   "outputs": [],
   "source": []
  },
  {
   "cell_type": "code",
   "execution_count": null,
   "metadata": {},
   "outputs": [],
   "source": []
  },
  {
   "cell_type": "code",
   "execution_count": null,
   "metadata": {},
   "outputs": [],
   "source": []
  },
  {
   "cell_type": "code",
   "execution_count": null,
   "metadata": {},
   "outputs": [],
   "source": []
  },
  {
   "cell_type": "code",
   "execution_count": null,
   "metadata": {},
   "outputs": [],
   "source": []
  },
  {
   "cell_type": "code",
   "execution_count": null,
   "metadata": {},
   "outputs": [],
   "source": []
  },
  {
   "cell_type": "code",
   "execution_count": null,
   "metadata": {},
   "outputs": [],
   "source": []
  },
  {
   "cell_type": "code",
   "execution_count": null,
   "metadata": {},
   "outputs": [],
   "source": []
  },
  {
   "cell_type": "code",
   "execution_count": null,
   "metadata": {},
   "outputs": [],
   "source": []
  },
  {
   "cell_type": "code",
   "execution_count": null,
   "metadata": {},
   "outputs": [],
   "source": []
  },
  {
   "cell_type": "code",
   "execution_count": null,
   "metadata": {},
   "outputs": [],
   "source": []
  },
  {
   "cell_type": "code",
   "execution_count": null,
   "metadata": {},
   "outputs": [],
   "source": []
  },
  {
   "cell_type": "code",
   "execution_count": null,
   "metadata": {},
   "outputs": [],
   "source": []
  },
  {
   "cell_type": "code",
   "execution_count": null,
   "metadata": {},
   "outputs": [],
   "source": []
  },
  {
   "cell_type": "code",
   "execution_count": null,
   "metadata": {},
   "outputs": [],
   "source": []
  }
 ],
 "metadata": {
  "kernelspec": {
   "display_name": "Python 3",
   "language": "python",
   "name": "python3"
  },
  "language_info": {
   "codemirror_mode": {
    "name": "ipython",
    "version": 3
   },
   "file_extension": ".py",
   "mimetype": "text/x-python",
   "name": "python",
   "nbconvert_exporter": "python",
   "pygments_lexer": "ipython3",
   "version": "3.6.5"
  }
 },
 "nbformat": 4,
 "nbformat_minor": 2
}
