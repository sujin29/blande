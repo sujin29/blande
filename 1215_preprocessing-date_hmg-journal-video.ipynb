{
 "cells": [
  {
   "cell_type": "code",
   "execution_count": 1,
   "metadata": {},
   "outputs": [],
   "source": [
    "import pandas as pd\n",
    "import numpy as np"
   ]
  },
  {
   "cell_type": "code",
   "execution_count": 3,
   "metadata": {},
   "outputs": [],
   "source": [
    "hmg = pd.read_csv('./magazine/final/hmg_video.csv', sep ='|', encoding = 'utf-8')"
   ]
  },
  {
   "cell_type": "code",
   "execution_count": 7,
   "metadata": {},
   "outputs": [
    {
     "data": {
      "text/plain": [
       "Int64Index([ 85,  86,  87, 134, 135, 136, 156, 157, 158, 159, 160, 162, 167,\n",
       "            168, 169, 170, 176, 177, 178, 179, 180, 181, 182, 184, 197, 198,\n",
       "            199, 200, 201, 202, 203, 206, 207, 208, 209, 210, 211, 212, 213,\n",
       "            214, 217, 218, 219, 221, 225, 226, 230, 235, 242, 243, 249, 255,\n",
       "            256, 258, 259, 262, 263, 266, 267, 268, 269, 275, 276, 277, 278,\n",
       "            279, 281, 283, 286, 288, 289, 292, 296],\n",
       "           dtype='int64')"
      ]
     },
     "execution_count": 7,
     "metadata": {},
     "output_type": "execute_result"
    }
   ],
   "source": [
    "hmg[hmg['date'].isnull()].index"
   ]
  },
  {
   "cell_type": "code",
   "execution_count": 8,
   "metadata": {},
   "outputs": [],
   "source": [
    "idx = [ 85,  86,  87, 134, 135, 136, 156, 157, 158, 159, 160, 162, 167,\n",
    "            168, 169, 170, 176, 177, 178, 179, 180, 181, 182, 184, 197, 198,\n",
    "            199, 200, 201, 202, 203, 206, 207, 208, 209, 210, 211, 212, 213,\n",
    "            214, 217, 218, 219, 221, 225, 226, 230, 235, 242, 243, 249, 255,\n",
    "            256, 258, 259, 262, 263, 266, 267, 268, 269, 275, 276, 277, 278,\n",
    "            279, 281, 283, 286, 288, 289, 292, 296]"
   ]
  },
  {
   "cell_type": "code",
   "execution_count": 27,
   "metadata": {},
   "outputs": [
    {
     "data": {
      "text/plain": [
       "73"
      ]
     },
     "execution_count": 27,
     "metadata": {},
     "output_type": "execute_result"
    }
   ],
   "source": [
    "len(idx)"
   ]
  },
  {
   "cell_type": "code",
   "execution_count": 33,
   "metadata": {},
   "outputs": [],
   "source": [
    "hmg.loc[idx, 'date'] = hmg.loc[idx, 'link']"
   ]
  },
  {
   "cell_type": "code",
   "execution_count": 15,
   "metadata": {},
   "outputs": [
    {
     "data": {
      "text/plain": [
       "'https://tv.hmgjournal.com/MediaCenter/Library/genesissuv-newyork-motorshow-170413.blg'"
      ]
     },
     "execution_count": 15,
     "metadata": {},
     "output_type": "execute_result"
    }
   ],
   "source": [
    "hmg.loc[85, 'date']"
   ]
  },
  {
   "cell_type": "code",
   "execution_count": 16,
   "metadata": {},
   "outputs": [
    {
     "data": {
      "text/plain": [
       "'https://tv.hmgjournal.com/MediaCenter/News/Group-Broadcast/news-01-160812.blg'"
      ]
     },
     "execution_count": 16,
     "metadata": {},
     "output_type": "execute_result"
    }
   ],
   "source": [
    "hmg.loc[296, 'date']"
   ]
  },
  {
   "cell_type": "code",
   "execution_count": 39,
   "metadata": {},
   "outputs": [],
   "source": [
    "hmg.loc[idx, 'date'] = hmg.loc[idx, 'date'].str.replace('https://tv.hmgjournal.com/MediaCenter/', '').str.replace('.blg', '')"
   ]
  },
  {
   "cell_type": "code",
   "execution_count": 41,
   "metadata": {},
   "outputs": [],
   "source": [
    "hmg.loc[idx, 'date'] = hmg.loc[idx, 'date'].str.split('-').str[3]"
   ]
  },
  {
   "cell_type": "code",
   "execution_count": 44,
   "metadata": {},
   "outputs": [],
   "source": [
    "hmg.loc[idx, 'date'] = '20'+hmg.loc[idx, 'date']"
   ]
  },
  {
   "cell_type": "code",
   "execution_count": 56,
   "metadata": {},
   "outputs": [],
   "source": [
    "hmg.loc[idx, 'date'] = hmg.loc[idx, 'date'].str[:4]+'/'+hmg.loc[idx, 'date'].str[4:6]+'/'+hmg.loc[idx, 'date'].str[6:8]"
   ]
  },
  {
   "cell_type": "code",
   "execution_count": 202,
   "metadata": {},
   "outputs": [
    {
     "data": {
      "text/plain": [
       "array(['2017/04/13', '2017/03/30', '2017/02/06', '2016/11/10',\n",
       "       '2016/09/13', '2016/09/01', '2017/04/03', '2016/11/03',\n",
       "       '2016/10/27', '2016/07/12', '2016/06/21', '2015/12/10',\n",
       "       '2016/10/21', '2014/11/20', '2014/07/24', '0000/00/00',\n",
       "       '2015/07/03', '2015/12/16', '2015/11/05', '2014/08/26',\n",
       "       '2016/09/23', '2015/12/07', '2016/11/01', '2020/03/30',\n",
       "       '2020/03/20', '2015/12/14', '2016/11/02', '2017/04/10',\n",
       "       '2016/06/07', '2016/03/15', '2016/02/04', '2016/09/28',\n",
       "       '2016/04/19', '2015/12/22', '2015/11/25', '2015/11/12',\n",
       "       '2015/04/20', '2017/01/12', '2015/11/13', '2016/03/10',\n",
       "       '2014/12/22', '2015/12/29', '2015/11/16', '2016/01/14',\n",
       "       '2015/04/30', '2016/10/06', '2016/06/03', '2015/11/17',\n",
       "       '2015/11/24', '2015/11/19', '2020/03/26', '2020/02/05',\n",
       "       '2020/01/15', '2016/08/12'], dtype=object)"
      ]
     },
     "execution_count": 202,
     "metadata": {},
     "output_type": "execute_result"
    }
   ],
   "source": [
    "hmg.loc[idx, 'date'].unique()"
   ]
  },
  {
   "cell_type": "code",
   "execution_count": 203,
   "metadata": {},
   "outputs": [
    {
     "data": {
      "text/plain": [
       "170    https://tv.hmgjournal.com/MediaCenter/News/Gro...\n",
       "256    https://tv.hmgjournal.com/MediaCenter/News/Gro...\n",
       "Name: link, dtype: object"
      ]
     },
     "execution_count": 203,
     "metadata": {},
     "output_type": "execute_result"
    }
   ],
   "source": [
    "hmg.loc[hmg['date']=='0000/00/00' , '샤시']"
   ]
  },
  {
   "cell_type": "code",
   "execution_count": 204,
   "metadata": {},
   "outputs": [
    {
     "data": {
      "text/plain": [
       "'https://tv.hmgjournal.com/MediaCenter/News/Group-Broadcast/genesis-top-safety.blg'"
      ]
     },
     "execution_count": 204,
     "metadata": {},
     "output_type": "execute_result"
    }
   ],
   "source": [
    "hmg.loc[170, 'link']"
   ]
  },
  {
   "cell_type": "code",
   "execution_count": 201,
   "metadata": {},
   "outputs": [],
   "source": [
    "hmg.loc[256, 'date'] = '0000/00/00'"
   ]
  },
  {
   "cell_type": "code",
   "execution_count": 210,
   "metadata": {},
   "outputs": [],
   "source": [
    "hmg.to_csv('./magazine/final/hmg_video.csv', sep='|', encoding = 'utf-8', index = False)"
   ]
  },
  {
   "cell_type": "code",
   "execution_count": null,
   "metadata": {},
   "outputs": [],
   "source": []
  },
  {
   "cell_type": "code",
   "execution_count": 212,
   "metadata": {},
   "outputs": [],
   "source": [
    "hmg['title_brand']=0"
   ]
  },
  {
   "cell_type": "code",
   "execution_count": 213,
   "metadata": {},
   "outputs": [],
   "source": [
    "for i in range(len(hmg)):\n",
    "    if '제네시스' in hmg.loc[i, 'title']:\n",
    "        hmg.loc[i, 'title_brand']=1"
   ]
  },
  {
   "cell_type": "code",
   "execution_count": 270,
   "metadata": {},
   "outputs": [
    {
     "data": {
      "text/plain": [
       "297"
      ]
     },
     "execution_count": 270,
     "metadata": {},
     "output_type": "execute_result"
    }
   ],
   "source": [
    "word_genesis = []\n",
    "for i in range(len(hmg)):\n",
    "    cont = []\n",
    "    if hmg.loc[i, 'title_brand'] == 1:\n",
    "        cont.append(hmg.loc[i, 'contents'])\n",
    "    else:\n",
    "        for content in hmg.loc[i, 'contents'].split(\"\\n\\n\"):\n",
    "#             print(content)\n",
    "#             print('-'*50)\n",
    "            if '제네시스' in content:\n",
    "                cont.append(content)\n",
    "    word_genesis.append(cont)\n",
    "\n",
    "len(word_genesis)"
   ]
  },
  {
   "cell_type": "code",
   "execution_count": 275,
   "metadata": {},
   "outputs": [],
   "source": [
    "hmg['word_genesis'] = word_genesis"
   ]
  },
  {
   "cell_type": "code",
   "execution_count": 269,
   "metadata": {},
   "outputs": [
    {
     "name": "stdout",
     "output_type": "stream",
     "text": [
      "\n",
      "대니)  \n",
      "여러분 안녕안녕? 저는 자타공인 자동차 마니아! 미모가 열일하고 있는 스무살꽃청년이에요~ 저는 스무살의 첫 여름 휴가를 제네시스 G80와 보냈는데요. 자동차를 타고 바닷가를 드라이빙했냐구요? NO NONO~! 요즘 감각있는 신세대라면 누구나 알고 있는 현대 모터스튜디오 서울의 G80 브랜드 체험관으로 휴가를 다녀왔습니다! \n",
      "  \n",
      "대니)  \n",
      "자동차 마니아라면 G80브랜드 체험관에서 여름 휴가를 보내야 하는 이유가 있습니다. 첫째, 지금껏 공개하지 않았던 제네시스 G80의 과거, 현재, 미래가 담긴 디자인 히스토리를 볼 수 있다는 건데요. 특히 테이프를 붙여서 자동차 디자인을 만들어가는 테이프 드로잉 아트는 어느 각도에서 보더라도 완벽한 자동차를 만들기 위한 디자이너들의 노력이 돋보이더라구요!\n",
      "  \n",
      "대니)  \n",
      "둘째, 제네시스 G80를 구매했거나 구매 예정인 고객들에게는 시승을 통해 뛰어난 드라이빙 성능을 체험할 수 있는 프리미엄 가이드 투어를, 일반 고객들에게는 전시된 차량을 만져보고 각종 편의 기능을 체험할 수 있는 G80 가이드 투어를 제공합니다.  \n"
     ]
    }
   ],
   "source": [
    "for content in hmg.loc[296, 'contents'].split('\\n\\n'):\n",
    "    if '제네시스' in content:\n",
    "        print(content)"
   ]
  },
  {
   "cell_type": "code",
   "execution_count": 277,
   "metadata": {},
   "outputs": [
    {
     "data": {
      "text/plain": [
       "['\\n대니)  \\n여러분 안녕안녕? 저는 자타공인 자동차 마니아! 미모가 열일하고 있는 스무살꽃청년이에요~ 저는 스무살의 첫 여름 휴가를 제네시스 G80와 보냈는데요. 자동차를 타고 바닷가를 드라이빙했냐구요? NO NONO~! 요즘 감각있는 신세대라면 누구나 알고 있는 현대 모터스튜디오 서울의 G80 브랜드 체험관으로 휴가를 다녀왔습니다! \\n  ',\n",
       " '대니)  \\n자동차 마니아라면 G80브랜드 체험관에서 여름 휴가를 보내야 하는 이유가 있습니다. 첫째, 지금껏 공개하지 않았던 제네시스 G80의 과거, 현재, 미래가 담긴 디자인 히스토리를 볼 수 있다는 건데요. 특히 테이프를 붙여서 자동차 디자인을 만들어가는 테이프 드로잉 아트는 어느 각도에서 보더라도 완벽한 자동차를 만들기 위한 디자이너들의 노력이 돋보이더라구요!\\n  ',\n",
       " '대니)  \\n둘째, 제네시스 G80를 구매했거나 구매 예정인 고객들에게는 시승을 통해 뛰어난 드라이빙 성능을 체험할 수 있는 프리미엄 가이드 투어를, 일반 고객들에게는 전시된 차량을 만져보고 각종 편의 기능을 체험할 수 있는 G80 가이드 투어를 제공합니다.  ']"
      ]
     },
     "execution_count": 277,
     "metadata": {},
     "output_type": "execute_result"
    }
   ],
   "source": [
    "hmg.loc[296, 'word_genesis']"
   ]
  },
  {
   "cell_type": "code",
   "execution_count": 279,
   "metadata": {},
   "outputs": [],
   "source": [
    "hmg.to_csv('./magazine/final/hmg_w.csv', sep='|', encoding = 'utf-8', index = False)"
   ]
  },
  {
   "cell_type": "code",
   "execution_count": null,
   "metadata": {},
   "outputs": [],
   "source": []
  },
  {
   "cell_type": "code",
   "execution_count": null,
   "metadata": {},
   "outputs": [],
   "source": []
  },
  {
   "cell_type": "code",
   "execution_count": null,
   "metadata": {},
   "outputs": [],
   "source": []
  },
  {
   "cell_type": "code",
   "execution_count": null,
   "metadata": {},
   "outputs": [],
   "source": []
  }
 ],
 "metadata": {
  "kernelspec": {
   "display_name": "Python 3",
   "language": "python",
   "name": "python3"
  },
  "language_info": {
   "codemirror_mode": {
    "name": "ipython",
    "version": 3
   },
   "file_extension": ".py",
   "mimetype": "text/x-python",
   "name": "python",
   "nbconvert_exporter": "python",
   "pygments_lexer": "ipython3",
   "version": "3.7.6"
  }
 },
 "nbformat": 4,
 "nbformat_minor": 4
}
