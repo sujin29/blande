{
 "cells": [
  {
   "cell_type": "code",
   "execution_count": 1,
   "metadata": {},
   "outputs": [],
   "source": [
    "import pandas as pd\n",
    "import numpy as np\n",
    "import re\n",
    "import networkx as nx\n",
    "import matplotlib.pyplot as plt"
   ]
  },
  {
   "cell_type": "code",
   "execution_count": 2,
   "metadata": {},
   "outputs": [],
   "source": [
    "# 한글 폰트 문제 해결\n",
    "import platform\n",
    "\n",
    "from matplotlib import font_manager, rc\n",
    "# plt.rcParams['axes.unicode_minus'] = False\n",
    "\n",
    "if platform.system() == 'Darwin':\n",
    "    rc('font', family='AppleGothic')\n",
    "elif platform.system() == 'Windows':\n",
    "    path = \"c:/Windows/Fonts/malgun.ttf\"\n",
    "    font_name = font_manager.FontProperties(fname=path).get_name()\n",
    "    rc('font', family=font_name)\n",
    "else:\n",
    "    print('Unknown system... sorry~~~~') "
   ]
  },
  {
   "cell_type": "code",
   "execution_count": 3,
   "metadata": {},
   "outputs": [],
   "source": [
    "# CH9L = pd.read_csv('./magazine/final/CH9L_adfn_2.csv', encoding = 'utf-8', sep = '|')"
   ]
  },
  {
   "cell_type": "code",
   "execution_count": 4,
   "metadata": {},
   "outputs": [],
   "source": [
    "# CH9L['ADFN_2'] = CH9L['ADFN_2'].str.replace('[', '').str.replace(']', '').str.replace(\"'\", \"\").str.split(', ')"
   ]
  },
  {
   "cell_type": "code",
   "execution_count": 5,
   "metadata": {},
   "outputs": [
    {
     "data": {
      "text/plain": [
       "0                          [메탈, 레진, 귀고리, CHANEL, CHANEL]\n",
       "1      [스티치, 디테일, 코튼, 원피스, 로우, 클래식, LOW, CLASSIC, 헤어,...\n",
       "2      [CHANEL, 케이스, 백, 화이트, 실버, 조합, 시원하고, 세련, CHANEL...\n",
       "3                               [CHANEL, 블, 리마, 브림, 미스트]\n",
       "4      [화려하기보다, 사려, 깊은, 미적, 감각, CHANEL, 할펀, 치어스, 아름답다...\n",
       "                             ...                        \n",
       "354    [밀란, 패션위크, 참석, 차, 출국, 리사, 공항, BLACKPINK, 리사, 오...\n",
       "355    [리사, 패션, 브랜드, 탄생, 할, 보인다, YG, 엔터테인먼트, BLACKPIN...\n",
       "356    [서로, 팬임, 인증, 두, 스타, BLACKPINK, 세레나, 고메즈, 함께한, ...\n",
       "357    [내셔널, 아이스크림, 데이, 기념, BLACKPINK, 귀여운, 포스팅, 제니, ...\n",
       "358    [한국, 신진, 디자이너, 하이, 패션, 브랜드, 섭렵, 블핑, BLACKPINK,...\n",
       "Name: ADFN_2, Length: 359, dtype: object"
      ]
     },
     "execution_count": 5,
     "metadata": {},
     "output_type": "execute_result"
    }
   ],
   "source": [
    "# CH9L['ADFN_2']"
   ]
  },
  {
   "cell_type": "code",
   "execution_count": 36,
   "metadata": {},
   "outputs": [],
   "source": [
    "# CH8L = pd.read_csv('./magazine/final/CH8L_adfn_2.csv', encoding = 'utf-8', sep = '|')"
   ]
  },
  {
   "cell_type": "code",
   "execution_count": 37,
   "metadata": {},
   "outputs": [],
   "source": [
    "# CH8L['ADFN_2'] = CH8L['ADFN_2'].str.replace('[', '').str.replace(']', '').str.replace(\"'\", \"\").str.split(', ')"
   ]
  },
  {
   "cell_type": "code",
   "execution_count": 38,
   "metadata": {},
   "outputs": [
    {
     "data": {
      "text/plain": [
       "0                          [메탈, 레진, 귀고리, CHANEL, CHANEL]\n",
       "1      [빈티지, 한, 체크, 무늬, 재킷, CELINE, CELINE, 비비드, 핑크, ...\n",
       "2                    [브랜드, 로고, 장식, 서프보드, CHANEL, CHANEL]\n",
       "3      [간, 얼루어, 그린, 이슈, 얼루어, 그린, 캠페인, 진행, 많은, 부분, 많은,...\n",
       "4      [포켓, 장식, 패딩, 머플러, 라벤헴, LAVENHAM, 하얀색, 장갑, CHAN...\n",
       "                             ...                        \n",
       "374    [밀란, 패션위크, 참석, 차, 출국, 리사, 공항, BLACKPINK, 리사, 오...\n",
       "375    [리사, 패션, 브랜드, 탄생, 할, 보인다, YG, 엔터테인먼트, BLACKPIN...\n",
       "376    [서로, 팬임, 인증, 두, 스타, BLACKPINK, 세레나, 고메즈, 함께한, ...\n",
       "377    [내셔널, 아이스크림, 데이, 기념, BLACKPINK, 귀여운, 포스팅, 제니, ...\n",
       "378    [한국, 신진, 디자이너, 하이, 패션, 브랜드, 섭렵, 블핑, BLACKPINK,...\n",
       "Name: ADFN_2, Length: 379, dtype: object"
      ]
     },
     "execution_count": 38,
     "metadata": {},
     "output_type": "execute_result"
    }
   ],
   "source": [
    "# CH8L['ADFN_2']"
   ]
  },
  {
   "cell_type": "code",
   "execution_count": 62,
   "metadata": {},
   "outputs": [],
   "source": [
    "CH7L = pd.read_csv('./magazine/final/CH7L_adfn_2.csv', encoding = 'utf-8', sep = '|')"
   ]
  },
  {
   "cell_type": "code",
   "execution_count": 63,
   "metadata": {},
   "outputs": [],
   "source": [
    "CH7L['ADFN_2'] = CH7L['ADFN_2'].str.replace('[', '').str.replace(']', '').str.replace(\"'\", \"\").str.split(', ')"
   ]
  },
  {
   "cell_type": "code",
   "execution_count": 64,
   "metadata": {},
   "outputs": [
    {
     "data": {
      "text/plain": [
       "0                          [메탈, 레진, 귀고리, CHANEL, CHANEL]\n",
       "1                    [복, 주머니, 형상, 체인, 백, CHANEL, CHANEL]\n",
       "2      [국적, 플라워, 프린트, 셔츠, 겨, 자색, 핀, 스트라이프, 팬츠, 아크네, 스...\n",
       "3      [리본, 장식, 드레스, 안, 레이어, 오렌지색, 스커트, 마르니, MARNI, 메...\n",
       "4                       [로고, 진주, 장식, 뱅글, CHANEL, CHANEL]\n",
       "                             ...                        \n",
       "400    [밀란, 패션위크, 참석, 차, 출국, 리사, 공항, BLACKPINK, 리사, 오...\n",
       "401    [리사, 패션, 브랜드, 탄생, 할, 보인다, YG, 엔터테인먼트, BLACKPIN...\n",
       "402    [서로, 팬임, 인증, 두, 스타, BLACKPINK, 세레나, 고메즈, 함께한, ...\n",
       "403    [내셔널, 아이스크림, 데이, 기념, BLACKPINK, 귀여운, 포스팅, 제니, ...\n",
       "404    [한국, 신진, 디자이너, 하이, 패션, 브랜드, 섭렵, 블핑, BLACKPINK,...\n",
       "Name: ADFN_2, Length: 405, dtype: object"
      ]
     },
     "execution_count": 64,
     "metadata": {},
     "output_type": "execute_result"
    }
   ],
   "source": [
    "CH7L['ADFN_2']"
   ]
  },
  {
   "cell_type": "code",
   "execution_count": null,
   "metadata": {},
   "outputs": [],
   "source": []
  },
  {
   "cell_type": "code",
   "execution_count": null,
   "metadata": {},
   "outputs": [],
   "source": []
  },
  {
   "cell_type": "markdown",
   "metadata": {},
   "source": [
    "### top50 리스트 생성"
   ]
  },
  {
   "cell_type": "code",
   "execution_count": 65,
   "metadata": {},
   "outputs": [],
   "source": [
    "top500 = pd.read_csv('./CH7L_top500.csv', sep='|', encoding = 'utf-8')"
   ]
  },
  {
   "cell_type": "code",
   "execution_count": 66,
   "metadata": {},
   "outputs": [
    {
     "data": {
      "text/html": [
       "<div>\n",
       "<style scoped>\n",
       "    .dataframe tbody tr th:only-of-type {\n",
       "        vertical-align: middle;\n",
       "    }\n",
       "\n",
       "    .dataframe tbody tr th {\n",
       "        vertical-align: top;\n",
       "    }\n",
       "\n",
       "    .dataframe thead th {\n",
       "        text-align: right;\n",
       "    }\n",
       "</style>\n",
       "<table border=\"1\" class=\"dataframe\">\n",
       "  <thead>\n",
       "    <tr style=\"text-align: right;\">\n",
       "      <th></th>\n",
       "      <th>word</th>\n",
       "      <th>count</th>\n",
       "    </tr>\n",
       "  </thead>\n",
       "  <tbody>\n",
       "    <tr>\n",
       "      <th>0</th>\n",
       "      <td>리사</td>\n",
       "      <td>3573</td>\n",
       "    </tr>\n",
       "    <tr>\n",
       "      <th>1</th>\n",
       "      <td>CHANEL</td>\n",
       "      <td>769</td>\n",
       "    </tr>\n",
       "    <tr>\n",
       "      <th>2</th>\n",
       "      <td>예쁘다</td>\n",
       "      <td>677</td>\n",
       "    </tr>\n",
       "    <tr>\n",
       "      <th>3</th>\n",
       "      <td>귀엽다</td>\n",
       "      <td>543</td>\n",
       "    </tr>\n",
       "    <tr>\n",
       "      <th>4</th>\n",
       "      <td>춤</td>\n",
       "      <td>481</td>\n",
       "    </tr>\n",
       "    <tr>\n",
       "      <th>...</th>\n",
       "      <td>...</td>\n",
       "      <td>...</td>\n",
       "    </tr>\n",
       "    <tr>\n",
       "      <th>495</th>\n",
       "      <td>쟤</td>\n",
       "      <td>23</td>\n",
       "    </tr>\n",
       "    <tr>\n",
       "      <th>496</th>\n",
       "      <td>리액션</td>\n",
       "      <td>23</td>\n",
       "    </tr>\n",
       "    <tr>\n",
       "      <th>497</th>\n",
       "      <td>이어</td>\n",
       "      <td>23</td>\n",
       "    </tr>\n",
       "    <tr>\n",
       "      <th>498</th>\n",
       "      <td>엔터테인먼트</td>\n",
       "      <td>23</td>\n",
       "    </tr>\n",
       "    <tr>\n",
       "      <th>499</th>\n",
       "      <td>시즌</td>\n",
       "      <td>23</td>\n",
       "    </tr>\n",
       "  </tbody>\n",
       "</table>\n",
       "<p>500 rows × 2 columns</p>\n",
       "</div>"
      ],
      "text/plain": [
       "       word  count\n",
       "0        리사   3573\n",
       "1    CHANEL    769\n",
       "2       예쁘다    677\n",
       "3       귀엽다    543\n",
       "4         춤    481\n",
       "..      ...    ...\n",
       "495       쟤     23\n",
       "496     리액션     23\n",
       "497      이어     23\n",
       "498  엔터테인먼트     23\n",
       "499      시즌     23\n",
       "\n",
       "[500 rows x 2 columns]"
      ]
     },
     "execution_count": 66,
     "metadata": {},
     "output_type": "execute_result"
    }
   ],
   "source": [
    "top500"
   ]
  },
  {
   "cell_type": "code",
   "execution_count": 67,
   "metadata": {},
   "outputs": [
    {
     "name": "stdout",
     "output_type": "stream",
     "text": [
      "30\n",
      "['리사', 'CHANEL', '예쁘다', '귀엽다', '춤', '사랑', '랩', '한국', '영어', '노래', '무대', '매력', '얼굴', '아이돌', '컬러', '브랜드', '태국', '룩', '블랙', '모델', '느낌', '중국', '한국어', '백', '한국인', '스타일', '패션', '표정', '쇼', '비율']\n"
     ]
    }
   ],
   "source": [
    "top30 = []\n",
    "for i in range(30):\n",
    "    top30.append(top500.loc[i, 'word'])\n",
    "    \n",
    "print(len(top30))\n",
    "print(top30)"
   ]
  },
  {
   "cell_type": "code",
   "execution_count": 68,
   "metadata": {},
   "outputs": [
    {
     "name": "stdout",
     "output_type": "stream",
     "text": [
      "50\n",
      "['리사', 'CHANEL', '예쁘다', '귀엽다', '춤', '사랑', '랩', '한국', '영어', '노래', '무대', '매력', '얼굴', '아이돌', '컬러', '브랜드', '태국', '룩', '블랙', '모델', '느낌', '중국', '한국어', '백', '한국인', '스타일', '패션', '표정', '쇼', '비율', '멋있다', '드레스', '실력', '여자', 'KARL', '눈', '외국인', '팬', '아이템', '최고', '머리', '장식', '옷', '재킷', '여성', '처음', '인기', '세계', '연습생', '호랑이']\n"
     ]
    }
   ],
   "source": [
    "top50 = []\n",
    "for i in range(50):\n",
    "    top50.append(top500.loc[i, 'word'])\n",
    "    \n",
    "print(len(top50))\n",
    "print(top50)"
   ]
  },
  {
   "cell_type": "markdown",
   "metadata": {},
   "source": [
    "### top100"
   ]
  },
  {
   "cell_type": "code",
   "execution_count": 69,
   "metadata": {},
   "outputs": [
    {
     "name": "stdout",
     "output_type": "stream",
     "text": [
      "100\n",
      "['리사', 'CHANEL', '예쁘다', '귀엽다', '춤', '사랑', '랩', '한국', '영어', '노래', '무대', '매력', '얼굴', '아이돌', '컬러', '브랜드', '태국', '룩', '블랙', '모델', '느낌', '중국', '한국어', '백', '한국인', '스타일', '패션', '표정', '쇼', '비율', '멋있다', '드레스', '실력', '여자', 'KARL', '눈', '외국인', '팬', '아이템', '최고', '머리', '장식', '옷', '재킷', '여성', '처음', '인기', '세계', '연습생', '호랑이', '파리', '좋은', '골드', '봄', '새로운', '많은', '분위기', '예능', '코코', '완성', '다리', '클래식', '화이트', '가장', '팬츠', 'CELINE', '디자인', '프라다', '그룹', '영화', '프로', '앞머리', '스커트', '가방', '노력', '참석', '트위드', '영감', '스타', '단발', '시작', '여름', '크루즈', '걸그룹', '태국인', '컬렉션', '외국', '다양한', '핑크', '포인트', '인형', '카리스마', '좋다', 'YG', '세상', '화보', '대박', '짱', '스타일링', '링']\n"
     ]
    }
   ],
   "source": [
    "top100 = []\n",
    "for i in range(100):\n",
    "    top100.append(top500.loc[i, 'word'])\n",
    "    \n",
    "print(len(top100))\n",
    "print(top100)"
   ]
  },
  {
   "cell_type": "code",
   "execution_count": 70,
   "metadata": {},
   "outputs": [
    {
     "name": "stdout",
     "output_type": "stream",
     "text": [
      "200\n",
      "['리사', 'CHANEL', '예쁘다', '귀엽다', '춤', '사랑', '랩', '한국', '영어', '노래', '무대', '매력', '얼굴', '아이돌', '컬러', '브랜드', '태국', '룩', '블랙', '모델', '느낌', '중국', '한국어', '백', '한국인', '스타일', '패션', '표정', '쇼', '비율', '멋있다', '드레스', '실력', '여자', 'KARL', '눈', '외국인', '팬', '아이템', '최고', '머리', '장식', '옷', '재킷', '여성', '처음', '인기', '세계', '연습생', '호랑이', '파리', '좋은', '골드', '봄', '새로운', '많은', '분위기', '예능', '코코', '완성', '다리', '클래식', '화이트', '가장', '팬츠', 'CELINE', '디자인', '프라다', '그룹', '영화', '프로', '앞머리', '스커트', '가방', '노력', '참석', '트위드', '영감', '스타', '단발', '시작', '여름', '크루즈', '걸그룹', '태국인', '컬렉션', '외국', '다양한', '핑크', '포인트', '인형', '카리스마', '좋다', 'YG', '세상', '화보', '대박', '짱', '스타일링', '링', '데님', '쌤', '디자이너', '티셔츠', '한국말', '디렉터', '착용', '주얼리', '목소리', '간지', '선생님', '첫', '순간', '점', '해외', '라인', '프랑스', '촬영', '컴백', '미니', '음악', '우리나라', '손', '좋아요', '매치', '톱', '남자', '미쳤다', '연습', '패턴', '패션쇼', '마음', '메인', '마지막', '오늘', '콘서트', '성격', '한번', '메이크업', '럭셔리', '탑', '일본', '화장', '가죽', '부츠', '슈즈', '배', '친구', '춤선', '시크', '의상', '기억', '이미지', '자리', '미국', '젤', '방송', '레드', 'FW', '선택', 'COUTURE', '나라', '댄스', '개멋', '멋있어', '체인', '리', '사이즈', '확실히', '태국어', '언어', '하우스', 'GABRIELLE', '살', '관심', '셔츠', '런웨이', '대표', '매우', 'VIRGINIE', '곡', '가수', '제목', '중국어', '사기', '니트', '볼', '별', '소리', '사용', '솔로', '크러쉬', '회수', '미친', 'J', '시대', '이후', '크리에이티브', '글', '예정']\n"
     ]
    }
   ],
   "source": [
    "top200 = []\n",
    "for i in range(200):\n",
    "    top200.append(top500.loc[i, 'word'])\n",
    "    \n",
    "print(len(top200))\n",
    "print(top200)"
   ]
  },
  {
   "cell_type": "code",
   "execution_count": 71,
   "metadata": {},
   "outputs": [
    {
     "name": "stdout",
     "output_type": "stream",
     "text": [
      "300\n",
      "['리사', 'CHANEL', '예쁘다', '귀엽다', '춤', '사랑', '랩', '한국', '영어', '노래', '무대', '매력', '얼굴', '아이돌', '컬러', '브랜드', '태국', '룩', '블랙', '모델', '느낌', '중국', '한국어', '백', '한국인', '스타일', '패션', '표정', '쇼', '비율', '멋있다', '드레스', '실력', '여자', 'KARL', '눈', '외국인', '팬', '아이템', '최고', '머리', '장식', '옷', '재킷', '여성', '처음', '인기', '세계', '연습생', '호랑이', '파리', '좋은', '골드', '봄', '새로운', '많은', '분위기', '예능', '코코', '완성', '다리', '클래식', '화이트', '가장', '팬츠', 'CELINE', '디자인', '프라다', '그룹', '영화', '프로', '앞머리', '스커트', '가방', '노력', '참석', '트위드', '영감', '스타', '단발', '시작', '여름', '크루즈', '걸그룹', '태국인', '컬렉션', '외국', '다양한', '핑크', '포인트', '인형', '카리스마', '좋다', 'YG', '세상', '화보', '대박', '짱', '스타일링', '링', '데님', '쌤', '디자이너', '티셔츠', '한국말', '디렉터', '착용', '주얼리', '목소리', '간지', '선생님', '첫', '순간', '점', '해외', '라인', '프랑스', '촬영', '컴백', '미니', '음악', '우리나라', '손', '좋아요', '매치', '톱', '남자', '미쳤다', '연습', '패턴', '패션쇼', '마음', '메인', '마지막', '오늘', '콘서트', '성격', '한번', '메이크업', '럭셔리', '탑', '일본', '화장', '가죽', '부츠', '슈즈', '배', '친구', '춤선', '시크', '의상', '기억', '이미지', '자리', '미국', '젤', '방송', '레드', 'FW', '선택', 'COUTURE', '나라', '댄스', '개멋', '멋있어', '체인', '리', '사이즈', '확실히', '태국어', '언어', '하우스', 'GABRIELLE', '살', '관심', '셔츠', '런웨이', '대표', '매우', 'VIRGINIE', '곡', '가수', '제목', '중국어', '사기', '니트', '볼', '별', '소리', '사용', '솔로', '크러쉬', '회수', '미친', 'J', '시대', '이후', '크리에이티브', '글', '예정', '댄서', '하이', '개인', '워치', '키', '힘', '문화', '반', '인생', '좋겠다', '핸드백', '카메라', '라이브', '제발', '형님', '코트', '노', '유행', 'HEDI', 'SLIMANE', '젠', '좋아하는', '찰떡', '프로그램', '레전드', '상징', 'A', '뉴욕', '칼', '웃기', '공식', '롱', '아닌', '캠페인', '배우', '이야기', '평소', '리얼', '아이콘', '나나', '캐', '비', '마무리', '화려한', '직접', '고마츠', '수준', '좋음', '유닛', '입덕', '연예인', '보임', '개국', '로고', '활용', '있을', '가브리엘', '삶', '좋고', '버전', '차', '누가', '서로', '외모', '입', '사실', '출국', '준비', '빛', '발표', '코드', '아름다운', '액세서리', '주인공', '시선', 'and', '말투', '연출', '실루엣', '슈트', '세', '온', '감각', '그대로', '인', '아티스트', '센스', '판매', '축하', '화', '앨범', '래퍼', '웃겨', '톤', '헤어', '소화', '몸', '란', '웃음', '꼭']\n"
     ]
    }
   ],
   "source": [
    "top300 = []\n",
    "for i in range(300):\n",
    "    top300.append(top500.loc[i, 'word'])\n",
    "    \n",
    "print(len(top300))\n",
    "print(top300)"
   ]
  },
  {
   "cell_type": "code",
   "execution_count": 72,
   "metadata": {},
   "outputs": [
    {
     "name": "stdout",
     "output_type": "stream",
     "text": [
      "500\n",
      "['리사', 'CHANEL', '예쁘다', '귀엽다', '춤', '사랑', '랩', '한국', '영어', '노래', '무대', '매력', '얼굴', '아이돌', '컬러', '브랜드', '태국', '룩', '블랙', '모델', '느낌', '중국', '한국어', '백', '한국인', '스타일', '패션', '표정', '쇼', '비율', '멋있다', '드레스', '실력', '여자', 'KARL', '눈', '외국인', '팬', '아이템', '최고', '머리', '장식', '옷', '재킷', '여성', '처음', '인기', '세계', '연습생', '호랑이', '파리', '좋은', '골드', '봄', '새로운', '많은', '분위기', '예능', '코코', '완성', '다리', '클래식', '화이트', '가장', '팬츠', 'CELINE', '디자인', '프라다', '그룹', '영화', '프로', '앞머리', '스커트', '가방', '노력', '참석', '트위드', '영감', '스타', '단발', '시작', '여름', '크루즈', '걸그룹', '태국인', '컬렉션', '외국', '다양한', '핑크', '포인트', '인형']\n"
     ]
    }
   ],
   "source": [
    "t500 = []\n",
    "for i in range(500):\n",
    "    t500.append(top500.loc[i, 'word'])\n",
    "    \n",
    "print(len(t500))\n",
    "print(t500[:91])"
   ]
  },
  {
   "cell_type": "markdown",
   "metadata": {},
   "source": [
    "### top50만 남기기"
   ]
  },
  {
   "cell_type": "code",
   "execution_count": 73,
   "metadata": {},
   "outputs": [
    {
     "data": {
      "text/plain": [
       "405"
      ]
     },
     "execution_count": 73,
     "metadata": {},
     "output_type": "execute_result"
    }
   ],
   "source": [
    "len(CH7L)"
   ]
  },
  {
   "cell_type": "code",
   "execution_count": 74,
   "metadata": {},
   "outputs": [],
   "source": [
    "top30_word = []\n",
    "for i in range(len(CH7L)):\n",
    "    w=[]\n",
    "    for word in CH7L.loc[i, 'ADFN_2']:\n",
    "        if word in top30:\n",
    "            w.append(word)\n",
    "    top30_word.append(w)"
   ]
  },
  {
   "cell_type": "code",
   "execution_count": 75,
   "metadata": {},
   "outputs": [],
   "source": [
    "top50_word = []\n",
    "for i in range(len(CH7L)):\n",
    "    w=[]\n",
    "    for word in CH7L.loc[i, 'ADFN_2']:\n",
    "        if word in top50:\n",
    "            w.append(word)\n",
    "    top50_word.append(w)"
   ]
  },
  {
   "cell_type": "code",
   "execution_count": 76,
   "metadata": {},
   "outputs": [],
   "source": [
    "top100_word = []\n",
    "for i in range(len(CH7L)):\n",
    "    w=[]\n",
    "    for word in CH7L.loc[i, 'ADFN_2']:\n",
    "        if word in top100:\n",
    "            w.append(word)\n",
    "    top100_word.append(w)"
   ]
  },
  {
   "cell_type": "code",
   "execution_count": 77,
   "metadata": {},
   "outputs": [],
   "source": [
    "top200_word = []\n",
    "for i in range(len(CH7L)):\n",
    "    w=[]\n",
    "    for word in CH7L.loc[i, 'ADFN_2']:\n",
    "        if word in top200:\n",
    "            w.append(word)\n",
    "    top200_word.append(w)"
   ]
  },
  {
   "cell_type": "code",
   "execution_count": 78,
   "metadata": {},
   "outputs": [],
   "source": [
    "top300_word = []\n",
    "for i in range(len(CH7L)):\n",
    "    w=[]\n",
    "    for word in CH7L.loc[i, 'ADFN_2']:\n",
    "        if word in top300:\n",
    "            w.append(word)\n",
    "    top300_word.append(w)"
   ]
  },
  {
   "cell_type": "code",
   "execution_count": 79,
   "metadata": {},
   "outputs": [],
   "source": [
    "top500_word = []\n",
    "for i in range(len(CH7L)):\n",
    "    w=[]\n",
    "    for word in CH7L.loc[i, 'ADFN_2']:\n",
    "        if word in t500:\n",
    "            w.append(word)\n",
    "    top500_word.append(w)"
   ]
  },
  {
   "cell_type": "markdown",
   "metadata": {},
   "source": [
    "### 전체"
   ]
  },
  {
   "cell_type": "code",
   "execution_count": 80,
   "metadata": {},
   "outputs": [
    {
     "data": {
      "text/html": [
       "<div>\n",
       "<style scoped>\n",
       "    .dataframe tbody tr th:only-of-type {\n",
       "        vertical-align: middle;\n",
       "    }\n",
       "\n",
       "    .dataframe tbody tr th {\n",
       "        vertical-align: top;\n",
       "    }\n",
       "\n",
       "    .dataframe thead th {\n",
       "        text-align: right;\n",
       "    }\n",
       "</style>\n",
       "<table border=\"1\" class=\"dataframe\">\n",
       "  <thead>\n",
       "    <tr style=\"text-align: right;\">\n",
       "      <th></th>\n",
       "      <th>magazine</th>\n",
       "      <th>brand</th>\n",
       "      <th>title</th>\n",
       "      <th>word</th>\n",
       "      <th>ADFN</th>\n",
       "      <th>ADFN_2</th>\n",
       "    </tr>\n",
       "  </thead>\n",
       "  <tbody>\n",
       "    <tr>\n",
       "      <th>0</th>\n",
       "      <td>A</td>\n",
       "      <td>Ch</td>\n",
       "      <td>가을 트렌드 컬러, 위대한 블랙의 위로</td>\n",
       "      <td>메탈과 레진으로 만든 귀고리는 가격미정, CHANEL(CHANEL).</td>\n",
       "      <td>['메탈', '레진', '귀고리', 'CHANEL', 'CHANEL']</td>\n",
       "      <td>[메탈, 레진, 귀고리, CHANEL, CHANEL]</td>\n",
       "    </tr>\n",
       "    <tr>\n",
       "      <th>1</th>\n",
       "      <td>A</td>\n",
       "      <td>Ch</td>\n",
       "      <td>1940년대가 돌아온다! 올해는 동전지갑을 주목할 것!</td>\n",
       "      <td>복주머니 형상의 체인 백은 가격미정, CHANEL(CHANEL).</td>\n",
       "      <td>['복', '주머니', '형상', '체인', '백', 'CHANEL', 'CHANEL']</td>\n",
       "      <td>[복, 주머니, 형상, 체인, 백, CHANEL, CHANEL]</td>\n",
       "    </tr>\n",
       "    <tr>\n",
       "      <th>2</th>\n",
       "      <td>A</td>\n",
       "      <td>Ch</td>\n",
       "      <td>언제 입어도 즐거운 플라워 스타일링</td>\n",
       "      <td>이국적인 플라워 프린트 셔츠는 65만원, 겨자색 핀 스트라이프 팬츠는 가격미정, 아...</td>\n",
       "      <td>['국적', '플라워', '프린트', '셔츠', '겨', '자색', '핀', '스트...</td>\n",
       "      <td>[국적, 플라워, 프린트, 셔츠, 겨, 자색, 핀, 스트라이프, 팬츠, 아크네, 스...</td>\n",
       "    </tr>\n",
       "    <tr>\n",
       "      <th>3</th>\n",
       "      <td>A</td>\n",
       "      <td>Ch</td>\n",
       "      <td>잃어버린 내 봄을 찾는 꿈. 어느 봄날의 화보.</td>\n",
       "      <td>리본 장식 드레스와 안에 레이어드한 오렌지색 스커트는 마르니(MARNI). 메탈 소...</td>\n",
       "      <td>['리본', '장식', '드레스', '안', '레이어', '오렌지색', '스커트',...</td>\n",
       "      <td>[리본, 장식, 드레스, 안, 레이어, 오렌지색, 스커트, 마르니, MARNI, 메...</td>\n",
       "    </tr>\n",
       "    <tr>\n",
       "      <th>4</th>\n",
       "      <td>A</td>\n",
       "      <td>Ch</td>\n",
       "      <td>티 없이 맑고 무결한 흰빛을 지닌 진주</td>\n",
       "      <td>3 로고를 따라 진주를 장식한 뱅글은 가격미정, CHANEL(CHANEL).</td>\n",
       "      <td>['로고', '진주', '장식', '뱅글', 'CHANEL', 'CHANEL']</td>\n",
       "      <td>[로고, 진주, 장식, 뱅글, CHANEL, CHANEL]</td>\n",
       "    </tr>\n",
       "    <tr>\n",
       "      <th>...</th>\n",
       "      <td>...</td>\n",
       "      <td>...</td>\n",
       "      <td>...</td>\n",
       "      <td>...</td>\n",
       "      <td>...</td>\n",
       "      <td>...</td>\n",
       "    </tr>\n",
       "    <tr>\n",
       "      <th>400</th>\n",
       "      <td>W</td>\n",
       "      <td>L</td>\n",
       "      <td>밀라노로 떠난 리사</td>\n",
       "      <td>밀란 패션위크 참석차 출국한 리사의 공항 룩., BLACKPINK 리사가 오늘 2월...</td>\n",
       "      <td>['밀란', '패션위크', '참석', '차', '출국', '리사', '공항', 'B...</td>\n",
       "      <td>[밀란, 패션위크, 참석, 차, 출국, 리사, 공항, BLACKPINK, 리사, 오...</td>\n",
       "    </tr>\n",
       "    <tr>\n",
       "      <th>401</th>\n",
       "      <td>W</td>\n",
       "      <td>L</td>\n",
       "      <td>리사의 새로운 행보</td>\n",
       "      <td>, , 리사의 패션 브랜드가 탄생할 것으로 보인다.  YG엔터테인먼트가 2019년 ...</td>\n",
       "      <td>['리사', '패션', '브랜드', '탄생', '할', '보인다', 'YG', '엔...</td>\n",
       "      <td>[리사, 패션, 브랜드, 탄생, 할, 보인다, YG, 엔터테인먼트, BLACKPIN...</td>\n",
       "    </tr>\n",
       "    <tr>\n",
       "      <th>402</th>\n",
       "      <td>W</td>\n",
       "      <td>L</td>\n",
       "      <td>블랙핑크X세레나 고메즈 영상통화, 협업 티징</td>\n",
       "      <td>서로의 팬임을 인증한 두 스타, 8월 28일 BLACKPINK와 세레나 고메즈가 함...</td>\n",
       "      <td>['서로', '팬임', '인증', '두', '스타', 'BLACKPINK', '세레...</td>\n",
       "      <td>[서로, 팬임, 인증, 두, 스타, BLACKPINK, 세레나, 고메즈, 함께한, ...</td>\n",
       "    </tr>\n",
       "    <tr>\n",
       "      <th>403</th>\n",
       "      <td>W</td>\n",
       "      <td>L</td>\n",
       "      <td>블랙핑크가 아이스크림 셀카를 올린 이유는?</td>\n",
       "      <td>내셔널 아이스크림 데이’를 기념한 BLACKPINK의 귀여운 포스팅., 제니와 리사...</td>\n",
       "      <td>['내셔널', '아이스크림', '데이', '기념', 'BLACKPINK', '귀여운...</td>\n",
       "      <td>[내셔널, 아이스크림, 데이, 기념, BLACKPINK, 귀여운, 포스팅, 제니, ...</td>\n",
       "    </tr>\n",
       "    <tr>\n",
       "      <th>404</th>\n",
       "      <td>W</td>\n",
       "      <td>L</td>\n",
       "      <td>블랙핑크 컴백! 남다른 패션 스타일링</td>\n",
       "      <td>한국 신진 디자이너부터 하이 패션 브랜드까지 섭렵한 블핑, 6월 26일 드디어 BL...</td>\n",
       "      <td>['한국', '신진', '디자이너', '하이', '패션', '브랜드', '섭렵', ...</td>\n",
       "      <td>[한국, 신진, 디자이너, 하이, 패션, 브랜드, 섭렵, 블핑, BLACKPINK,...</td>\n",
       "    </tr>\n",
       "  </tbody>\n",
       "</table>\n",
       "<p>405 rows × 6 columns</p>\n",
       "</div>"
      ],
      "text/plain": [
       "    magazine brand                           title  \\\n",
       "0          A    Ch           가을 트렌드 컬러, 위대한 블랙의 위로   \n",
       "1          A    Ch  1940년대가 돌아온다! 올해는 동전지갑을 주목할 것!   \n",
       "2          A    Ch             언제 입어도 즐거운 플라워 스타일링   \n",
       "3          A    Ch      잃어버린 내 봄을 찾는 꿈. 어느 봄날의 화보.   \n",
       "4          A    Ch           티 없이 맑고 무결한 흰빛을 지닌 진주   \n",
       "..       ...   ...                             ...   \n",
       "400        W     L                      밀라노로 떠난 리사   \n",
       "401        W     L                      리사의 새로운 행보   \n",
       "402        W     L        블랙핑크X세레나 고메즈 영상통화, 협업 티징   \n",
       "403        W     L         블랙핑크가 아이스크림 셀카를 올린 이유는?   \n",
       "404        W     L            블랙핑크 컴백! 남다른 패션 스타일링   \n",
       "\n",
       "                                                  word  \\\n",
       "0               메탈과 레진으로 만든 귀고리는 가격미정, CHANEL(CHANEL).   \n",
       "1                 복주머니 형상의 체인 백은 가격미정, CHANEL(CHANEL).   \n",
       "2    이국적인 플라워 프린트 셔츠는 65만원, 겨자색 핀 스트라이프 팬츠는 가격미정, 아...   \n",
       "3    리본 장식 드레스와 안에 레이어드한 오렌지색 스커트는 마르니(MARNI). 메탈 소...   \n",
       "4           3 로고를 따라 진주를 장식한 뱅글은 가격미정, CHANEL(CHANEL).   \n",
       "..                                                 ...   \n",
       "400  밀란 패션위크 참석차 출국한 리사의 공항 룩., BLACKPINK 리사가 오늘 2월...   \n",
       "401  , , 리사의 패션 브랜드가 탄생할 것으로 보인다.  YG엔터테인먼트가 2019년 ...   \n",
       "402  서로의 팬임을 인증한 두 스타, 8월 28일 BLACKPINK와 세레나 고메즈가 함...   \n",
       "403  내셔널 아이스크림 데이’를 기념한 BLACKPINK의 귀여운 포스팅., 제니와 리사...   \n",
       "404  한국 신진 디자이너부터 하이 패션 브랜드까지 섭렵한 블핑, 6월 26일 드디어 BL...   \n",
       "\n",
       "                                                  ADFN  \\\n",
       "0              ['메탈', '레진', '귀고리', 'CHANEL', 'CHANEL']   \n",
       "1    ['복', '주머니', '형상', '체인', '백', 'CHANEL', 'CHANEL']   \n",
       "2    ['국적', '플라워', '프린트', '셔츠', '겨', '자색', '핀', '스트...   \n",
       "3    ['리본', '장식', '드레스', '안', '레이어', '오렌지색', '스커트',...   \n",
       "4         ['로고', '진주', '장식', '뱅글', 'CHANEL', 'CHANEL']   \n",
       "..                                                 ...   \n",
       "400  ['밀란', '패션위크', '참석', '차', '출국', '리사', '공항', 'B...   \n",
       "401  ['리사', '패션', '브랜드', '탄생', '할', '보인다', 'YG', '엔...   \n",
       "402  ['서로', '팬임', '인증', '두', '스타', 'BLACKPINK', '세레...   \n",
       "403  ['내셔널', '아이스크림', '데이', '기념', 'BLACKPINK', '귀여운...   \n",
       "404  ['한국', '신진', '디자이너', '하이', '패션', '브랜드', '섭렵', ...   \n",
       "\n",
       "                                                ADFN_2  \n",
       "0                        [메탈, 레진, 귀고리, CHANEL, CHANEL]  \n",
       "1                  [복, 주머니, 형상, 체인, 백, CHANEL, CHANEL]  \n",
       "2    [국적, 플라워, 프린트, 셔츠, 겨, 자색, 핀, 스트라이프, 팬츠, 아크네, 스...  \n",
       "3    [리본, 장식, 드레스, 안, 레이어, 오렌지색, 스커트, 마르니, MARNI, 메...  \n",
       "4                     [로고, 진주, 장식, 뱅글, CHANEL, CHANEL]  \n",
       "..                                                 ...  \n",
       "400  [밀란, 패션위크, 참석, 차, 출국, 리사, 공항, BLACKPINK, 리사, 오...  \n",
       "401  [리사, 패션, 브랜드, 탄생, 할, 보인다, YG, 엔터테인먼트, BLACKPIN...  \n",
       "402  [서로, 팬임, 인증, 두, 스타, BLACKPINK, 세레나, 고메즈, 함께한, ...  \n",
       "403  [내셔널, 아이스크림, 데이, 기념, BLACKPINK, 귀여운, 포스팅, 제니, ...  \n",
       "404  [한국, 신진, 디자이너, 하이, 패션, 브랜드, 섭렵, 블핑, BLACKPINK,...  \n",
       "\n",
       "[405 rows x 6 columns]"
      ]
     },
     "execution_count": 80,
     "metadata": {},
     "output_type": "execute_result"
    }
   ],
   "source": [
    "CH7L"
   ]
  },
  {
   "cell_type": "markdown",
   "metadata": {},
   "source": [
    "### item 남기기"
   ]
  },
  {
   "cell_type": "code",
   "execution_count": 129,
   "metadata": {},
   "outputs": [],
   "source": [
    "item = ['백', '드레스', '재킷', '주얼리', '옷', '슈즈', '스커트', '링', '팬츠', '가방', '슈트', '향수', '의상', '데님', '액세서리', '톱',\n",
    "'셔츠', '모자', '수트', '스니커즈', '니트', '시계', '워치', '핸드백', '벨트', '선글라스', '목걸이', '티셔츠', '쇼츠', '샌들',\n",
    " '귀고리', '워치', '코트', '부츠', '케이프']"
   ]
  },
  {
   "cell_type": "code",
   "execution_count": 22,
   "metadata": {},
   "outputs": [],
   "source": [
    "# item_word = []\n",
    "# for i in range(len(mag_je)):\n",
    "#     w=[]\n",
    "#     for word in mag_je.loc[i, 'ADFN']:\n",
    "#         if word in item:\n",
    "#             w.append(word)\n",
    "#     item_word.append(w)"
   ]
  },
  {
   "cell_type": "markdown",
   "metadata": {},
   "source": [
    "### top100이면서 item이 아닌 것"
   ]
  },
  {
   "cell_type": "code",
   "execution_count": 23,
   "metadata": {},
   "outputs": [],
   "source": [
    "# top100_not_item_word = []\n",
    "# for i in range(len(tot_je)):\n",
    "#     w=[]\n",
    "#     for word in tot_je.loc[i, 'ADFN']:\n",
    "#         if word in top100:\n",
    "#             if word not in item:\n",
    "#                 w.append(word)\n",
    "#     top100_not_item_word.append(w)"
   ]
  },
  {
   "cell_type": "code",
   "execution_count": 24,
   "metadata": {},
   "outputs": [],
   "source": [
    "# len(top100_not_item_word)"
   ]
  },
  {
   "cell_type": "code",
   "execution_count": 25,
   "metadata": {},
   "outputs": [],
   "source": [
    "# top100_not_item_word[1]"
   ]
  },
  {
   "cell_type": "code",
   "execution_count": 26,
   "metadata": {},
   "outputs": [],
   "source": [
    "# top50_word"
   ]
  },
  {
   "cell_type": "code",
   "execution_count": 28,
   "metadata": {
    "scrolled": true
   },
   "outputs": [
    {
     "data": {
      "text/plain": [
       "1647"
      ]
     },
     "execution_count": 28,
     "metadata": {},
     "output_type": "execute_result"
    }
   ],
   "source": [
    "len(top50_word)"
   ]
  },
  {
   "cell_type": "markdown",
   "metadata": {},
   "source": [
    "### 텍스트 한줄씩 읽어와 dataset에 기록"
   ]
  },
  {
   "cell_type": "markdown",
   "metadata": {},
   "source": [
    "### 어프라이어리(Apriori) 알고리즘을 적용하여 연관규칙 분석 수행"
   ]
  },
  {
   "cell_type": "code",
   "execution_count": 81,
   "metadata": {},
   "outputs": [],
   "source": [
    "# 어프라이어리(Apriori)\n",
    "from apyori import apriori"
   ]
  },
  {
   "cell_type": "code",
   "execution_count": 82,
   "metadata": {},
   "outputs": [
    {
     "data": {
      "text/plain": [
       "['CHANEL', 'CHANEL']"
      ]
     },
     "execution_count": 82,
     "metadata": {},
     "output_type": "execute_result"
    }
   ],
   "source": [
    "top30_word[0]"
   ]
  },
  {
   "cell_type": "code",
   "execution_count": 88,
   "metadata": {
    "scrolled": true
   },
   "outputs": [
    {
     "data": {
      "text/html": [
       "<div>\n",
       "<style scoped>\n",
       "    .dataframe tbody tr th:only-of-type {\n",
       "        vertical-align: middle;\n",
       "    }\n",
       "\n",
       "    .dataframe tbody tr th {\n",
       "        vertical-align: top;\n",
       "    }\n",
       "\n",
       "    .dataframe thead th {\n",
       "        text-align: right;\n",
       "    }\n",
       "</style>\n",
       "<table border=\"1\" class=\"dataframe\">\n",
       "  <thead>\n",
       "    <tr style=\"text-align: right;\">\n",
       "      <th></th>\n",
       "      <th>items</th>\n",
       "      <th>support</th>\n",
       "      <th>ordered_statistics</th>\n",
       "      <th>length</th>\n",
       "    </tr>\n",
       "  </thead>\n",
       "  <tbody>\n",
       "    <tr>\n",
       "      <th>274</th>\n",
       "      <td>(리사, 패션)</td>\n",
       "      <td>0.197531</td>\n",
       "      <td>[((), (리사, 패션), 0.19753086419753085, 1.0), ((리...</td>\n",
       "      <td>2</td>\n",
       "    </tr>\n",
       "    <tr>\n",
       "      <th>241</th>\n",
       "      <td>(리사, 매력)</td>\n",
       "      <td>0.150617</td>\n",
       "      <td>[((), (리사, 매력), 0.1506172839506173, 1.0), ((리사...</td>\n",
       "      <td>2</td>\n",
       "    </tr>\n",
       "    <tr>\n",
       "      <th>182</th>\n",
       "      <td>(CHANEL, 브랜드)</td>\n",
       "      <td>0.145679</td>\n",
       "      <td>[((), (CHANEL, 브랜드), 0.145679012345679, 1.0), ...</td>\n",
       "      <td>2</td>\n",
       "    </tr>\n",
       "    <tr>\n",
       "      <th>248</th>\n",
       "      <td>(리사, 블랙)</td>\n",
       "      <td>0.125926</td>\n",
       "      <td>[((), (리사, 블랙), 0.1259259259259259, 1.0), ((리사...</td>\n",
       "      <td>2</td>\n",
       "    </tr>\n",
       "    <tr>\n",
       "      <th>272</th>\n",
       "      <td>(리사, 컬러)</td>\n",
       "      <td>0.123457</td>\n",
       "      <td>[((), (리사, 컬러), 0.12345679012345678, 1.0), ((리...</td>\n",
       "      <td>2</td>\n",
       "    </tr>\n",
       "    <tr>\n",
       "      <th>232</th>\n",
       "      <td>(리사, 룩)</td>\n",
       "      <td>0.118519</td>\n",
       "      <td>[((), (리사, 룩), 0.11851851851851852, 1.0), ((룩)...</td>\n",
       "      <td>2</td>\n",
       "    </tr>\n",
       "    <tr>\n",
       "      <th>185</th>\n",
       "      <td>(CHANEL, 쇼)</td>\n",
       "      <td>0.116049</td>\n",
       "      <td>[((), (CHANEL, 쇼), 0.11604938271604938, 1.0), ...</td>\n",
       "      <td>2</td>\n",
       "    </tr>\n",
       "    <tr>\n",
       "      <th>277</th>\n",
       "      <td>(리사, 포인트)</td>\n",
       "      <td>0.113580</td>\n",
       "      <td>[((), (리사, 포인트), 0.11358024691358025, 1.0), ((...</td>\n",
       "      <td>2</td>\n",
       "    </tr>\n",
       "    <tr>\n",
       "      <th>250</th>\n",
       "      <td>(리사, 사랑)</td>\n",
       "      <td>0.111111</td>\n",
       "      <td>[((), (리사, 사랑), 0.1111111111111111, 1.0), ((리사...</td>\n",
       "      <td>2</td>\n",
       "    </tr>\n",
       "    <tr>\n",
       "      <th>172</th>\n",
       "      <td>(드레스, CHANEL)</td>\n",
       "      <td>0.111111</td>\n",
       "      <td>[((), (드레스, CHANEL), 0.1111111111111111, 1.0),...</td>\n",
       "      <td>2</td>\n",
       "    </tr>\n",
       "  </tbody>\n",
       "</table>\n",
       "</div>"
      ],
      "text/plain": [
       "             items   support  \\\n",
       "274       (리사, 패션)  0.197531   \n",
       "241       (리사, 매력)  0.150617   \n",
       "182  (CHANEL, 브랜드)  0.145679   \n",
       "248       (리사, 블랙)  0.125926   \n",
       "272       (리사, 컬러)  0.123457   \n",
       "232        (리사, 룩)  0.118519   \n",
       "185    (CHANEL, 쇼)  0.116049   \n",
       "277      (리사, 포인트)  0.113580   \n",
       "250       (리사, 사랑)  0.111111   \n",
       "172  (드레스, CHANEL)  0.111111   \n",
       "\n",
       "                                    ordered_statistics  length  \n",
       "274  [((), (리사, 패션), 0.19753086419753085, 1.0), ((리...       2  \n",
       "241  [((), (리사, 매력), 0.1506172839506173, 1.0), ((리사...       2  \n",
       "182  [((), (CHANEL, 브랜드), 0.145679012345679, 1.0), ...       2  \n",
       "248  [((), (리사, 블랙), 0.1259259259259259, 1.0), ((리사...       2  \n",
       "272  [((), (리사, 컬러), 0.12345679012345678, 1.0), ((리...       2  \n",
       "232  [((), (리사, 룩), 0.11851851851851852, 1.0), ((룩)...       2  \n",
       "185  [((), (CHANEL, 쇼), 0.11604938271604938, 1.0), ...       2  \n",
       "277  [((), (리사, 포인트), 0.11358024691358025, 1.0), ((...       2  \n",
       "250  [((), (리사, 사랑), 0.1111111111111111, 1.0), ((리사...       2  \n",
       "172  [((), (드레스, CHANEL), 0.1111111111111111, 1.0),...       2  "
      ]
     },
     "execution_count": 88,
     "metadata": {},
     "output_type": "execute_result"
    }
   ],
   "source": [
    "# 지지도(support) : P(A∩B)\n",
    "result = list(apriori(top500_word, min_support = 0.06))\n",
    "df = pd.DataFrame(result)\n",
    "df['length'] = df['items'].apply(lambda x:len(x))\n",
    "df = df[(df['length'] == 2) \n",
    "        & (df['support'] >= 0.01)].sort_values(by='support', ascending = False)\n",
    "df.head(10)"
   ]
  },
  {
   "cell_type": "code",
   "execution_count": 89,
   "metadata": {},
   "outputs": [
    {
     "name": "stdout",
     "output_type": "stream",
     "text": [
      "frozenset({'리사', '패션'})\n",
      "frozenset({'리사', '매력'})\n",
      "frozenset({'리사', '블랙'})\n",
      "frozenset({'리사', '컬러'})\n",
      "frozenset({'리사', '룩'})\n",
      "frozenset({'리사', '포인트'})\n",
      "frozenset({'리사', '사랑'})\n",
      "frozenset({'리사', '스타일'})\n",
      "frozenset({'리사', '무대'})\n",
      "frozenset({'리사', '팬'})\n",
      "frozenset({'리사', '브랜드'})\n",
      "frozenset({'리사', '얼굴'})\n",
      "frozenset({'리사', '한국'})\n",
      "frozenset({'리사', '걸그룹'})\n",
      "frozenset({'리사', '매치'})\n",
      "frozenset({'리사', '그룹'})\n",
      "frozenset({'리사', '완성'})\n",
      "frozenset({'리사', '태국'})\n",
      "frozenset({'리사', '세계'})\n",
      "frozenset({'리사', '좋은'})\n",
      "frozenset({'리사', '예쁘다'})\n",
      "frozenset({'리사', '가장'})\n",
      "frozenset({'리사', '분위기'})\n",
      "frozenset({'리사', '시크'})\n",
      "frozenset({'리사', '스타'})\n",
      "frozenset({'리사', '느낌'})\n",
      "frozenset({'리사', '춤'})\n",
      "frozenset({'리사', '아이돌'})\n",
      "frozenset({'리사', '인형'})\n",
      "frozenset({'리사', '재킷'})\n",
      "frozenset({'리사', '모델'})\n",
      "frozenset({'리사', 'YG'})\n",
      "frozenset({'리사', '눈'})\n",
      "frozenset({'리사', '노래'})\n",
      "frozenset({'리사', '귀엽다'})\n",
      "frozenset({'리사', '팬츠'})\n",
      "frozenset({'리사', '참석'})\n",
      "frozenset({'리사', '데님'})\n",
      "frozenset({'리사', '레드'})\n",
      "frozenset({'리사', '여자'})\n",
      "frozenset({'리사', '시작'})\n",
      "frozenset({'리사', '스타일링'})\n",
      "frozenset({'리사', '머리'})\n",
      "frozenset({'리사', '다양한'})\n",
      "frozenset({'리사', '많은'})\n",
      "frozenset({'리사', '화보'})\n",
      "frozenset({'리사', '해외'})\n",
      "frozenset({'리사', '최고'})\n",
      "frozenset({'리사', '마무리'})\n",
      "frozenset({'리사', '비율'})\n",
      "frozenset({'리사', '오늘'})\n",
      "frozenset({'리사', '선택'})\n",
      "frozenset({'리사', '좋아요'})\n",
      "frozenset({'리사', '처음'})\n",
      "frozenset({'리사', '한국어'})\n",
      "frozenset({'리사', '한국인'})\n"
     ]
    }
   ],
   "source": [
    "for item in df['items']:\n",
    "    if '리사' in item:\n",
    "        print(item)"
   ]
  },
  {
   "cell_type": "code",
   "execution_count": null,
   "metadata": {},
   "outputs": [],
   "source": []
  },
  {
   "cell_type": "markdown",
   "metadata": {},
   "source": [
    "### networkx 그래프 정의"
   ]
  },
  {
   "cell_type": "code",
   "execution_count": 90,
   "metadata": {},
   "outputs": [],
   "source": [
    "G = nx.Graph()\n",
    "ar = (df['items']); G.add_edges_from(ar)"
   ]
  },
  {
   "cell_type": "code",
   "execution_count": 91,
   "metadata": {},
   "outputs": [],
   "source": [
    "# 페이지 랭크\n",
    "pr = nx.pagerank(G)\n",
    "nsize = np.array([v for v in pr.values()])\n",
    "nsize = 2000 * (nsize - min(nsize)) / (max(nsize) - min(nsize))"
   ]
  },
  {
   "cell_type": "code",
   "execution_count": 92,
   "metadata": {},
   "outputs": [],
   "source": [
    "pos = nx.spring_layout(G)"
   ]
  },
  {
   "cell_type": "code",
   "execution_count": 93,
   "metadata": {},
   "outputs": [
    {
     "data": {
      "image/png": "[encoded data removed]",
      "text/plain": [
       "<Figure size 1152x864 with 1 Axes>"
      ]
     },
     "metadata": {},
     "output_type": "display_data"
    }
   ],
   "source": [
    "plt.figure(figsize = (16, 12)) ; plt.axis('off')\n",
    "nx.draw_networkx(G, font_family = 'Malgun Gothic', font_size = 16,\n",
    "                pos = pos, node_color = list(pr.values()), node_size = nsize,\n",
    "                alpha=0.7, edge_color='.5', cmap = plt.cm.YlGn)\n",
    "\n",
    "plt.savefig('./nt_CH7L_top500_mins06.png', bbox_inches = 'tight')\n",
    "plt.show()\n"
   ]
  },
  {
   "cell_type": "code",
   "execution_count": 31,
   "metadata": {},
   "outputs": [],
   "source": []
  },
  {
   "cell_type": "code",
   "execution_count": null,
   "metadata": {},
   "outputs": [],
   "source": []
  },
  {
   "cell_type": "code",
   "execution_count": null,
   "metadata": {},
   "outputs": [],
   "source": []
  },
  {
   "cell_type": "code",
   "execution_count": null,
   "metadata": {},
   "outputs": [],
   "source": []
  },
  {
   "cell_type": "code",
   "execution_count": null,
   "metadata": {},
   "outputs": [],
   "source": []
  },
  {
   "cell_type": "code",
   "execution_count": null,
   "metadata": {},
   "outputs": [],
   "source": []
  },
  {
   "cell_type": "code",
   "execution_count": null,
   "metadata": {},
   "outputs": [],
   "source": []
  },
  {
   "cell_type": "code",
   "execution_count": null,
   "metadata": {},
   "outputs": [],
   "source": []
  },
  {
   "cell_type": "code",
   "execution_count": null,
   "metadata": {},
   "outputs": [],
   "source": []
  },
  {
   "cell_type": "code",
   "execution_count": null,
   "metadata": {},
   "outputs": [],
   "source": []
  },
  {
   "cell_type": "code",
   "execution_count": null,
   "metadata": {},
   "outputs": [],
   "source": []
  },
  {
   "cell_type": "code",
   "execution_count": null,
   "metadata": {},
   "outputs": [],
   "source": []
  },
  {
   "cell_type": "code",
   "execution_count": null,
   "metadata": {},
   "outputs": [],
   "source": []
  },
  {
   "cell_type": "code",
   "execution_count": null,
   "metadata": {},
   "outputs": [],
   "source": []
  },
  {
   "cell_type": "code",
   "execution_count": null,
   "metadata": {},
   "outputs": [],
   "source": []
  },
  {
   "cell_type": "code",
   "execution_count": null,
   "metadata": {},
   "outputs": [],
   "source": []
  },
  {
   "cell_type": "code",
   "execution_count": null,
   "metadata": {},
   "outputs": [],
   "source": []
  },
  {
   "cell_type": "code",
   "execution_count": null,
   "metadata": {},
   "outputs": [],
   "source": []
  },
  {
   "cell_type": "code",
   "execution_count": null,
   "metadata": {},
   "outputs": [],
   "source": []
  },
  {
   "cell_type": "code",
   "execution_count": null,
   "metadata": {},
   "outputs": [],
   "source": []
  },
  {
   "cell_type": "code",
   "execution_count": null,
   "metadata": {},
   "outputs": [],
   "source": []
  },
  {
   "cell_type": "code",
   "execution_count": null,
   "metadata": {},
   "outputs": [],
   "source": []
  },
  {
   "cell_type": "code",
   "execution_count": null,
   "metadata": {},
   "outputs": [],
   "source": []
  },
  {
   "cell_type": "code",
   "execution_count": null,
   "metadata": {},
   "outputs": [],
   "source": []
  },
  {
   "cell_type": "code",
   "execution_count": null,
   "metadata": {},
   "outputs": [],
   "source": []
  }
 ],
 "metadata": {
  "kernelspec": {
   "display_name": "Python 3",
   "language": "python",
   "name": "python3"
  },
  "language_info": {
   "codemirror_mode": {
    "name": "ipython",
    "version": 3
   },
   "file_extension": ".py",
   "mimetype": "text/x-python",
   "name": "python",
   "nbconvert_exporter": "python",
   "pygments_lexer": "ipython3",
   "version": "3.7.6"
  }
 },
 "nbformat": 4,
 "nbformat_minor": 4
}
