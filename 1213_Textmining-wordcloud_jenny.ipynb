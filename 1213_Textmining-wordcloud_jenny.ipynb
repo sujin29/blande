{
 "cells": [
  {
   "cell_type": "code",
   "execution_count": 1,
   "metadata": {},
   "outputs": [],
   "source": [
    "import pandas as pd\n",
    "import numpy as np"
   ]
  },
  {
   "cell_type": "code",
   "execution_count": 2,
   "metadata": {},
   "outputs": [],
   "source": [
    "from collections import Counter"
   ]
  },
  {
   "cell_type": "code",
   "execution_count": 3,
   "metadata": {},
   "outputs": [],
   "source": [
    "mag_je = pd.read_csv('./blackpink/mag_je.csv', sep='|', encoding = 'utf-8')"
   ]
  },
  {
   "cell_type": "code",
   "execution_count": 118,
   "metadata": {
    "scrolled": true
   },
   "outputs": [
    {
     "data": {
      "text/html": [
       "<div>\n",
       "<style scoped>\n",
       "    .dataframe tbody tr th:only-of-type {\n",
       "        vertical-align: middle;\n",
       "    }\n",
       "\n",
       "    .dataframe tbody tr th {\n",
       "        vertical-align: top;\n",
       "    }\n",
       "\n",
       "    .dataframe thead th {\n",
       "        text-align: right;\n",
       "    }\n",
       "</style>\n",
       "<table border=\"1\" class=\"dataframe\">\n",
       "  <thead>\n",
       "    <tr style=\"text-align: right;\">\n",
       "      <th></th>\n",
       "      <th>magazine</th>\n",
       "      <th>brand</th>\n",
       "      <th>category</th>\n",
       "      <th>title</th>\n",
       "      <th>link</th>\n",
       "      <th>date</th>\n",
       "      <th>contents</th>\n",
       "      <th>title_brand</th>\n",
       "      <th>word_jenny</th>\n",
       "      <th>ADFN</th>\n",
       "    </tr>\n",
       "  </thead>\n",
       "  <tbody>\n",
       "    <tr>\n",
       "      <th>82</th>\n",
       "      <td>E</td>\n",
       "      <td>Je</td>\n",
       "      <td>FASHION</td>\n",
       "      <td>김나영부터 지수까지! 진주 주얼리를 한 스타들</td>\n",
       "      <td>http://v.media.daum.net/v/20201126070033106</td>\n",
       "      <td>2020.11.26</td>\n",
       "      <td>[[], ['', '쇄골 라인에 걸리는 진주 목걸이의 클래식한 매력을 캐치한 제니....</td>\n",
       "      <td>0</td>\n",
       "      <td>쇄골 라인에 걸리는 진주 목걸이의 클래식한 매력을 캐치한 제니. 화이트 셔츠와 블랙...</td>\n",
       "      <td>[쇄골, 라인, 진주, 목걸이, 클래식, 매력, 캐치, 제니, 화이트, 셔츠, 블랙...</td>\n",
       "    </tr>\n",
       "    <tr>\n",
       "      <th>83</th>\n",
       "      <td>E</td>\n",
       "      <td>Je</td>\n",
       "      <td>FASHION</td>\n",
       "      <td>공효진부터 제니까지! 스타들의 #니트 활용법</td>\n",
       "      <td>http://v.media.daum.net/v/20201123070034440</td>\n",
       "      <td>2020.11.23</td>\n",
       "      <td>[['「 #케이블 니트 」', '「 #케이블 니트 」', '', '', '', '입...</td>\n",
       "      <td>1</td>\n",
       "      <td>#케이블 니트 ,  #케이블 니트 , , , , 입체적인 꼬임 패턴이 매력적인 케...</td>\n",
       "      <td>[니트, 니트, 입체, 꼬임, 패턴, 매력, 케이블, 니트, 클래식, 클래식, 유행...</td>\n",
       "    </tr>\n",
       "    <tr>\n",
       "      <th>84</th>\n",
       "      <td>E</td>\n",
       "      <td>Je</td>\n",
       "      <td>FASHION</td>\n",
       "      <td>'핑크색 입으면 기분이 조크든요' 핑크 홀릭</td>\n",
       "      <td>http://v.media.daum.net/v/20201117115642590</td>\n",
       "      <td>2020.11.17</td>\n",
       "      <td>[['', '', '', '', '', '', '', '', '', '', '', ...</td>\n",
       "      <td>0</td>\n",
       "      <td>제니는 핑크와 화이트 스트라이프 패턴의 카디건과 쇼츠를 입었어요. 핑크와 화이트로 ...</td>\n",
       "      <td>[제니, 핑크, 화이트, 스트라이프, 패턴, 카디건, 쇼츠, 핑크, 화이트, 소녀,...</td>\n",
       "    </tr>\n",
       "    <tr>\n",
       "      <th>85</th>\n",
       "      <td>E</td>\n",
       "      <td>Je</td>\n",
       "      <td>STAR</td>\n",
       "      <td>제니부터 조이까지! 스타들이 선택한 #리본헤어스타일</td>\n",
       "      <td>http://v.media.daum.net/v/20201112070037606</td>\n",
       "      <td>2020.11.12</td>\n",
       "      <td>[['「 포니테일 스타일에 생기있게 」', '「 포니테일 스타일에 생기있게 」', ...</td>\n",
       "      <td>1</td>\n",
       "      <td>포니테일 스타일에 생기있게 ,  포니테일 스타일에 생기있게 , , , , , , ...</td>\n",
       "      <td>[포니테일, 스타일, 포니테일, 스타일, 포니테일, 헤어스타일, 리본, 헤어, 액세...</td>\n",
       "    </tr>\n",
       "    <tr>\n",
       "      <th>86</th>\n",
       "      <td>E</td>\n",
       "      <td>Je</td>\n",
       "      <td>FASHION</td>\n",
       "      <td>저장각! 겨울 필수템 머플러, 스타들의 연출법과 추천템 리스트</td>\n",
       "      <td>http://v.media.daum.net/v/20201111070112614</td>\n",
       "      <td>2020.11.11</td>\n",
       "      <td>[['「 #1 장희령 」', '「 #1 장희령 」', '환한 미소만큼이나 상큼상큼!...</td>\n",
       "      <td>0</td>\n",
       "      <td>#4 제니 ,  #4 제니 , 머플러 컬러를 선택할 때 옷 말고 액세서리와의 궁합...</td>\n",
       "      <td>[제니, 제니, 머플러, 컬러, 선택, 옷, 액세서리, 궁합, 고려, 좋은, 방법,...</td>\n",
       "    </tr>\n",
       "    <tr>\n",
       "      <th>...</th>\n",
       "      <td>...</td>\n",
       "      <td>...</td>\n",
       "      <td>...</td>\n",
       "      <td>...</td>\n",
       "      <td>...</td>\n",
       "      <td>...</td>\n",
       "      <td>...</td>\n",
       "      <td>...</td>\n",
       "      <td>...</td>\n",
       "      <td>...</td>\n",
       "    </tr>\n",
       "    <tr>\n",
       "      <th>159</th>\n",
       "      <td>E</td>\n",
       "      <td>Je</td>\n",
       "      <td>STAR</td>\n",
       "      <td>활짝 핀 블랙핑크</td>\n",
       "      <td>http://v.media.daum.net/v/20180404142840507</td>\n",
       "      <td>2018.04.04</td>\n",
       "      <td>[[], ['아름답고 강렬하며 눈부신 존재, 블랙핑크', '', '어깨를 강조한 플...</td>\n",
       "      <td>0</td>\n",
       "      <td>&lt;엘르&gt; 뮤즈가 되어 꽃과 함께 촬영했어요. 누군가에게 꽃 선물을 한다면 지수 가장...</td>\n",
       "      <td>[엘르, 뮤즈, 꽃, 촬영, 누군가, 꽃, 선물, 좋아하는, 은방울꽃, 선물, 제니...</td>\n",
       "    </tr>\n",
       "    <tr>\n",
       "      <th>160</th>\n",
       "      <td>E</td>\n",
       "      <td>Je</td>\n",
       "      <td>BEAUTY</td>\n",
       "      <td>봄에 피어난 제니</td>\n",
       "      <td>http://v.media.daum.net/v/20180223153650299</td>\n",
       "      <td>2018.02.23</td>\n",
       "      <td>[[], ['독보적인 카리스마에 우아함을 머금은 눈빛, 사랑스러운 웃음까지 고루 갖...</td>\n",
       "      <td>1</td>\n",
       "      <td>, 독보적인 카리스마에 우아함을 머금은 눈빛, 사랑스러운 웃음까지 고루 갖춘 팔색조...</td>\n",
       "      <td>[독보, 카리스마, 우아함을, 머, 금은, 눈빛, 사랑스러운, 웃음, 고루, 팔색조...</td>\n",
       "    </tr>\n",
       "    <tr>\n",
       "      <th>161</th>\n",
       "      <td>E</td>\n",
       "      <td>Je</td>\n",
       "      <td>STAR</td>\n",
       "      <td>엘르 최초 K팝 그룹 단체 커버의 주인공 블랙핑크</td>\n",
       "      <td>http://v.media.daum.net/v/20170807150938837</td>\n",
       "      <td>2017.08.07</td>\n",
       "      <td>[[], ['블랙핑크가 쓰는 걸 그룹의 새로운 역사는 이미 시작됐다', '', '지...</td>\n",
       "      <td>0</td>\n",
       "      <td>지수가 입은 파워 숄더 톱과 페이턴트 스커트, 리사가 입은 원 숄더 벨벳 드레스와 ...</td>\n",
       "      <td>[파워, 숄더, 톱, 페이, 턴트, 스커트, 원, 숄더, 벨벳, 드레스, 하이, 부...</td>\n",
       "    </tr>\n",
       "    <tr>\n",
       "      <th>162</th>\n",
       "      <td>E</td>\n",
       "      <td>Je</td>\n",
       "      <td>STAR</td>\n",
       "      <td>제니의 패션 놀이터</td>\n",
       "      <td>http://v.media.daum.net/v/20170803175149088</td>\n",
       "      <td>2017.08.03</td>\n",
       "      <td>[[], ['런웨이 위를 걸었던 ‘어려운 옷’도 척척 소화해내는 블랙핑크 제니. 사...</td>\n",
       "      <td>1</td>\n",
       "      <td>, 런웨이 위를 걸었던 어려운 옷’도 척척 소화해내는 BLACKPINK 제니. 사랑...</td>\n",
       "      <td>[런웨이, 어려운, 옷, 도, 척척, 소화, 제니, 사랑스러운, 외모, 뛰어난, 패...</td>\n",
       "    </tr>\n",
       "    <tr>\n",
       "      <th>163</th>\n",
       "      <td>E</td>\n",
       "      <td>Je</td>\n",
       "      <td>BEAUTY</td>\n",
       "      <td>그 입술 '공답'되나요</td>\n",
       "      <td>http://v.media.daum.net/v/20170424151528150</td>\n",
       "      <td>2017.04.24</td>\n",
       "      <td>[[], [\"텅장 주의! 제대로 '뽐뿌' 일으키는 립 컬러 열전\", '', '201...</td>\n",
       "      <td>0</td>\n",
       "      <td>누드 톤의 코럴 컬러를 바르고도 토인’이 되지 않는 법. 떠오르는 뷰티 아이콘 BL...</td>\n",
       "      <td>[누드, 톤, 코럴, 컬러, 토인, 법, 뷰티, 아이콘, 제니, 채도, 반, 톤, ...</td>\n",
       "    </tr>\n",
       "  </tbody>\n",
       "</table>\n",
       "<p>82 rows × 10 columns</p>\n",
       "</div>"
      ],
      "text/plain": [
       "    magazine brand category                               title  \\\n",
       "82         E    Je  FASHION           김나영부터 지수까지! 진주 주얼리를 한 스타들   \n",
       "83         E    Je  FASHION            공효진부터 제니까지! 스타들의 #니트 활용법   \n",
       "84         E    Je  FASHION            '핑크색 입으면 기분이 조크든요' 핑크 홀릭   \n",
       "85         E    Je     STAR        제니부터 조이까지! 스타들이 선택한 #리본헤어스타일   \n",
       "86         E    Je  FASHION  저장각! 겨울 필수템 머플러, 스타들의 연출법과 추천템 리스트   \n",
       "..       ...   ...      ...                                 ...   \n",
       "159        E    Je     STAR                           활짝 핀 블랙핑크   \n",
       "160        E    Je   BEAUTY                           봄에 피어난 제니   \n",
       "161        E    Je     STAR         엘르 최초 K팝 그룹 단체 커버의 주인공 블랙핑크   \n",
       "162        E    Je     STAR                          제니의 패션 놀이터   \n",
       "163        E    Je   BEAUTY                        그 입술 '공답'되나요   \n",
       "\n",
       "                                            link        date  \\\n",
       "82   http://v.media.daum.net/v/20201126070033106  2020.11.26   \n",
       "83   http://v.media.daum.net/v/20201123070034440  2020.11.23   \n",
       "84   http://v.media.daum.net/v/20201117115642590  2020.11.17   \n",
       "85   http://v.media.daum.net/v/20201112070037606  2020.11.12   \n",
       "86   http://v.media.daum.net/v/20201111070112614  2020.11.11   \n",
       "..                                           ...         ...   \n",
       "159  http://v.media.daum.net/v/20180404142840507  2018.04.04   \n",
       "160  http://v.media.daum.net/v/20180223153650299  2018.02.23   \n",
       "161  http://v.media.daum.net/v/20170807150938837  2017.08.07   \n",
       "162  http://v.media.daum.net/v/20170803175149088  2017.08.03   \n",
       "163  http://v.media.daum.net/v/20170424151528150  2017.04.24   \n",
       "\n",
       "                                              contents  title_brand  \\\n",
       "82   [[], ['', '쇄골 라인에 걸리는 진주 목걸이의 클래식한 매력을 캐치한 제니....            0   \n",
       "83   [['「 #케이블 니트 」', '「 #케이블 니트 」', '', '', '', '입...            1   \n",
       "84   [['', '', '', '', '', '', '', '', '', '', '', ...            0   \n",
       "85   [['「 포니테일 스타일에 생기있게 」', '「 포니테일 스타일에 생기있게 」', ...            1   \n",
       "86   [['「 #1 장희령 」', '「 #1 장희령 」', '환한 미소만큼이나 상큼상큼!...            0   \n",
       "..                                                 ...          ...   \n",
       "159  [[], ['아름답고 강렬하며 눈부신 존재, 블랙핑크', '', '어깨를 강조한 플...            0   \n",
       "160  [[], ['독보적인 카리스마에 우아함을 머금은 눈빛, 사랑스러운 웃음까지 고루 갖...            1   \n",
       "161  [[], ['블랙핑크가 쓰는 걸 그룹의 새로운 역사는 이미 시작됐다', '', '지...            0   \n",
       "162  [[], ['런웨이 위를 걸었던 ‘어려운 옷’도 척척 소화해내는 블랙핑크 제니. 사...            1   \n",
       "163  [[], [\"텅장 주의! 제대로 '뽐뿌' 일으키는 립 컬러 열전\", '', '201...            0   \n",
       "\n",
       "                                            word_jenny  \\\n",
       "82   쇄골 라인에 걸리는 진주 목걸이의 클래식한 매력을 캐치한 제니. 화이트 셔츠와 블랙...   \n",
       "83    #케이블 니트 ,  #케이블 니트 , , , , 입체적인 꼬임 패턴이 매력적인 케...   \n",
       "84   제니는 핑크와 화이트 스트라이프 패턴의 카디건과 쇼츠를 입었어요. 핑크와 화이트로 ...   \n",
       "85    포니테일 스타일에 생기있게 ,  포니테일 스타일에 생기있게 , , , , , , ...   \n",
       "86    #4 제니 ,  #4 제니 , 머플러 컬러를 선택할 때 옷 말고 액세서리와의 궁합...   \n",
       "..                                                 ...   \n",
       "159  <엘르> 뮤즈가 되어 꽃과 함께 촬영했어요. 누군가에게 꽃 선물을 한다면 지수 가장...   \n",
       "160  , 독보적인 카리스마에 우아함을 머금은 눈빛, 사랑스러운 웃음까지 고루 갖춘 팔색조...   \n",
       "161  지수가 입은 파워 숄더 톱과 페이턴트 스커트, 리사가 입은 원 숄더 벨벳 드레스와 ...   \n",
       "162  , 런웨이 위를 걸었던 어려운 옷’도 척척 소화해내는 BLACKPINK 제니. 사랑...   \n",
       "163  누드 톤의 코럴 컬러를 바르고도 토인’이 되지 않는 법. 떠오르는 뷰티 아이콘 BL...   \n",
       "\n",
       "                                                  ADFN  \n",
       "82   [쇄골, 라인, 진주, 목걸이, 클래식, 매력, 캐치, 제니, 화이트, 셔츠, 블랙...  \n",
       "83   [니트, 니트, 입체, 꼬임, 패턴, 매력, 케이블, 니트, 클래식, 클래식, 유행...  \n",
       "84   [제니, 핑크, 화이트, 스트라이프, 패턴, 카디건, 쇼츠, 핑크, 화이트, 소녀,...  \n",
       "85   [포니테일, 스타일, 포니테일, 스타일, 포니테일, 헤어스타일, 리본, 헤어, 액세...  \n",
       "86   [제니, 제니, 머플러, 컬러, 선택, 옷, 액세서리, 궁합, 고려, 좋은, 방법,...  \n",
       "..                                                 ...  \n",
       "159  [엘르, 뮤즈, 꽃, 촬영, 누군가, 꽃, 선물, 좋아하는, 은방울꽃, 선물, 제니...  \n",
       "160  [독보, 카리스마, 우아함을, 머, 금은, 눈빛, 사랑스러운, 웃음, 고루, 팔색조...  \n",
       "161  [파워, 숄더, 톱, 페이, 턴트, 스커트, 원, 숄더, 벨벳, 드레스, 하이, 부...  \n",
       "162  [런웨이, 어려운, 옷, 도, 척척, 소화, 제니, 사랑스러운, 외모, 뛰어난, 패...  \n",
       "163  [누드, 톤, 코럴, 컬러, 토인, 법, 뷰티, 아이콘, 제니, 채도, 반, 톤, ...  \n",
       "\n",
       "[82 rows x 10 columns]"
      ]
     },
     "execution_count": 118,
     "metadata": {},
     "output_type": "execute_result"
    }
   ],
   "source": [
    "mag_je[mag_je['magazine']=='E']"
   ]
  },
  {
   "cell_type": "markdown",
   "metadata": {},
   "source": [
    "# 전처리"
   ]
  },
  {
   "cell_type": "markdown",
   "metadata": {},
   "source": [
    "## 기호삭제"
   ]
  },
  {
   "cell_type": "code",
   "execution_count": 5,
   "metadata": {},
   "outputs": [],
   "source": [
    "mag_je['word_jenny'] = mag_je['word_jenny'].str.replace('[', '').str.replace(']', '').str.replace('\\\\', '').str.replace('\"', '').str.replace(\"'\", \"\").str.replace('「', '').str.replace('」', '').str.replace('”', '').str.replace('‘', '').str.replace('“', '')"
   ]
  },
  {
   "cell_type": "code",
   "execution_count": 6,
   "metadata": {},
   "outputs": [
    {
     "data": {
      "text/plain": [
       "', ,  , 블랙핑크 제니가 요정 같은 매혹적인 화보를 선보였다., 제니는 패션 매거진과 함께 한 샤넬 커버 화보에서 샤넬(CHANEL) 화인 주얼리의 코코 크러쉬 주얼리와 새로운 샤넬 크루즈 컬렉션 의상을 소화하며 성숙하면서도 아름다운 여인으로 완벽 변신했다., 화보 속 제니는 카페에 앉아 백일몽을 꾸는 듯한 모습과 몽환적인 눈빛으로 색다른 헤어와 메이크업 스타일로 팬들을 사로잡았다., 제니는 무대에 섰을 때 관객이 들려주는 함성과 그 에너지가 늘 큰 힘이 된다. 지금처럼 사는 모습을 어렸을 때 막연하게 꿈꾸긴 했지만, 그 꿈을 하나씩 이뤄가고 있는 이 현실이 아직도 기적처럼 느껴진다라고 최근 심정을 밝혔다., , , , , , , , 패션엔 김금희 기자nfashionn@fashionn.com, '"
      ]
     },
     "execution_count": 6,
     "metadata": {},
     "output_type": "execute_result"
    }
   ],
   "source": [
    "mag_je['word_jenny'][164]"
   ]
  },
  {
   "cell_type": "markdown",
   "metadata": {},
   "source": [
    "## 디자이너명 브랜드명 replace"
   ]
  },
  {
   "cell_type": "markdown",
   "metadata": {},
   "source": [
    "### 블랙핑크 BLACKPINK"
   ]
  },
  {
   "cell_type": "code",
   "execution_count": 7,
   "metadata": {},
   "outputs": [],
   "source": [
    "for word in mag_je['word_jenny']:\n",
    "    if '파샤' in word:\n",
    "        print(word)\n",
    "        print('-'*50)"
   ]
  },
  {
   "cell_type": "code",
   "execution_count": 8,
   "metadata": {},
   "outputs": [],
   "source": [
    "mag_je['word_jenny'] = mag_je['word_jenny'].str.replace('블랙핑크', 'BLACKPINK')"
   ]
  },
  {
   "cell_type": "markdown",
   "metadata": {},
   "source": [
    "### 샤넬"
   ]
  },
  {
   "cell_type": "code",
   "execution_count": 9,
   "metadata": {},
   "outputs": [
    {
     "name": "stdout",
     "output_type": "stream",
     "text": [
      "샤넬, 구찌, 생 로랑, 발렌시아가 등 수많은 패션 하우스들의 사랑을 받고 있는 BLACKPINK 제니가 개인 인스타그램 계정을 오픈하고 데일리 룩을 업로드 중이다.,  화려한 그녀의 사복 패션은 어떨까?, JENNIE dress 몸매가 드러나는 미니 드레스를 착용한 제니. 단조로운 디자인 보다는 군더더기 없는 실루엣에 트위드 소재나 패턴이 있는 미니 드레스로 사랑스럽게 연출했다., LOVELY girl 포카리 걸이 생각나는 시폰 소재의 여성스러운 드레스나 오프 숄더로 청순한 매력까지 더한 제니.,  긴 생머리와 레이스, 러플 디테일이 더해진 아이템과 크리스털 장식 주얼리까지 더하면 여성스러운 제니 변신 완료!, CHECK lover 제니가 클래식한 체크 패턴 룩을 입는 방법?, 캐주얼한 톱과 디스트로이드 진에 체크 패턴 재킷을 착용해 드레스 업 하거나 튜브 톱 드레스로 클래식하면서도 여성스럽게 착용하는 것., 여기에 제니처럼 길이가 다른 네크리스를 레이어드 하는 센스를 발휘해 볼 것!, ACT cool! 스포티한 룩도 본인만의 스타일로 연출하는 제니!, 슬릿 디테일의 트레이닝 팬츠로 섹시함을 더하거나 짧은 쇼트에 삭스와 스니커즈로 귀엽게 연출해도 좋겠다.\n",
      "--------------------------------------------------\n",
      "감상 포인트 언뜻 단순한 듯한 비트 속에서 인도 전통악기 시타르가 깔리고 랩, 멜로디, 특히 하우 유 라이크댓’이란 외침이 반복적으로 들리다 뚝 끊긴다. 〈빌보드〉는 후크가 너무나 즉각적이어서 매력에 빠지지 않을 수 없다.고 평론. 팔색조 같은 멤버 한 명, 한 명의 치명적 유혹 속에 허우적거리다 보면 어느덧 하우 유 라이크 댓?을 흥얼거리게 되고 절대 잊혀지지 않는다. 패션 면에선 이제 인간 OO’가 아닌 디자이너 브랜드가 따라오는 스타일 아이콘이 됐다. 제니는 샤넬, 지수는 디올 뷰티, 리사는 셀린느, 로제는 생로랑의 앰배서더. 미국 NBC 〈지미 팰런 쇼〉에서는 한복에서 영감을 얻은 의상을 입어 K-스타일’ 전파에도 공헌., 여덕’이 유독 많은 레드벨벳에서도 막강 팬덤을 자랑하는 아이린과 슬기가 첫 유닛 듀오로 출범. 세계에서 비명이 터져 나온 웅장한 공개였다. 6일 발매한 첫 미니앨범 몬스터(Monster)는 직후 국내 음반 차트 올킬, 동명 타이틀곡 역시 음원 차트 1위, 아이튠즈 앨범 차트 45개 지역 1위, 중국 QQ뮤직 및 쿠거우뮤직 디지털 앨범 차트 1위에 오르는 기염을 토했다., \n",
      "--------------------------------------------------\n",
      "커다란 리본이 달린 크롭트 톱에 와이드 핏 데님, 보라색 카디건과 미니 백 그리고 내추럴한 헤어스타일. 지난 10월 샤넬 쇼에 참석한 제니를 보고 그녀의 성장을 실감했다. 트위드 수트를 쫙 빼 입고 참석했던 지난해와는 다른 느낌. 그 사이 그녀에겐 무슨 일이 있었을까. 바로 자신의 솔로 데뷔곡 솔로’ 뮤직비디오다. 생 로랑, 구찌부터 마린 세르, 리처드 퀸까지, 20벌이 넘는 쇼피스를 자기 식으로 소화한 그녀는 천진난만 청순가련 새침한 척 이제 지쳐. 난 나다워야 하니까’라는 가사처럼 자신만의 스타일을 찾았다. 제니뿐 아니다. 로제, 리사, 지수. 그들도 이미 그 기술을 습득한 듯하다. 무대 위에서는 완벽한 칼군무와 라이브 실력, 중독적인 후크로 좌중을 압도하고, 일상에서는 맨송맨송한 얼굴을 기꺼이 보여주는 그녀들. 소셜 미디어를 이용해 고유한 캐릭터를 만드는 Z세대다운 영리함이다. 활짝 오픈된 자신들의 페이지를 한국과 아시아를 넘어 이미 전 세계 사람들이 날마다 넘겨보고 있다는 사실을 그들은 알고 있다. 그리고 마음껏 즐기고 있다.\n",
      "--------------------------------------------------\n",
      ", 런웨이 위를 걸었던 어려운 옷’도 척척 소화해내는 BLACKPINK 제니. 사랑스러운 외모 뒤 뛰어난 패션 감각을 자랑하는 그녀의 스타일 아카이브 오픈!, , 돌체 앤 가바나의 2016 S/S 룩을 기억하는가. 1년도 더 된 컬렉션이지만 한여름의 트로피컬 판타지를 정열적으로 그려낸 낭만적인 패션쇼다. 제니가 착용한 미드리프 톱과 스커트는 그 해 여름에서 파생된 제품으로 새로운 음원을 보여주기 위한 화끈한 오브제로서의 역할을 톡톡히 한다., , 속이 훤히 들여다 보이는 소재로 여름의 멋을 더한 랑방 컬렉션 룩의 이어링까지 그대로 착용한 제니는 주얼 디테일의 액세서리로 화려함을 업시켰다. 벨트와 플랫폼 힐로 다리를 길어 보이게 연출한 것도 특징., , 생로랑의 행사장에 브랜드의 2017 S/S 컬렉션 제품인 포멀한 스타일의 수트를 입고 모습을 드러낸 제니를 본 관계자들의 반응은 하나같이 일관됐다. 너무 예쁘다!, , 오프 화이트의 레드 룩에 화려한 네크리스를 더하면? 제니 스타일 완성! 여기에 레트로 풍의 말괄량이 삐삐 같은 헤어 스타일도 놓치면 안 된다., , 샤넬의 마드모아젤 프리베 전시에 참석한 제니의 도발적인 자태를 감상하시라. 브랜드의 방대한 아카이브를 꾹꾹 눌러 담은 공방 컬렉션의 커머셜 라인으로 제작된 트위드 재킷을 원피스로 활용했다. 플라워 아플리케 장식을 덜어내고, 클리비지 라인으로 디자인된 네크 라인을 끌어올려 실용성을 강조한 점이 돋보인다., , BLACKPINK <마지막처럼>의 뮤직 비디오에서 제니의 뇌쇄적인 매력을 최대치로 끌어올린 플라워 로브는 마크 제이콥스의 2017 S/S 컬렉션 제품이다. 핑크 컬러의 싸이 하이 부츠로 신비감을 고조시킨 놀라운 패션 한 수를 주목하시길., 에디터 최원희, 사진 IMAXtree.com, 구찌, 생 로랑, 샤넬, 중앙 DB, BLACKPINK 공식 인스타그램, BLACKPINK <마지막처럼> 뮤직 비디오 캡처, 디자인 전근영\n",
      "--------------------------------------------------\n",
      " , , , 올 여름 90년대 어른들이 혀를 끌끌 차던 배꼽티, 즉 크롭티(Cropped T)가 핫한 패션 아이템으로 다시 돌아왔다., 크롭티(Cropped T)란 옷의 밑단을 가위로 자른 듯 길이가 짧은 티셔츠를 말한다. 패션 용어로는 크롭 탑(Cropped top)이라고 부르는데, 이 옷이 한창 유행했던 90년대엔 배꼽이 드러난다고 해 배꼽티’라고도 불렸다., 90년대에 이효리를 포함 SES 멤버, 룰라 채리나를 중심으로 90년대 활발하게 활동했던 여자 가수들은 대부분 크롭티를 입었으며 걸그룹 BLACKPINK 제니·로제, 손나은, 등 여자 아이돌들에게도 꾸준한 사랑을 받았다. , , , ↑사진 = 유재석, 비와 함께 혼성 댄스 그룹 싹쓰리를 결성한 이효리가 배꼽티를 입고 무대에 등장했다., , 여기에 최근 이효리가 1990년대의 추억을 소환하며 배꼽티 열풍에 다시 불을 지폈다. , , MBC 예능 놀면 뭐하니에서 유재석, 비와 함께 혼성 댄스 그룹 싹쓰리를 결성한 이효리가 전성기 시절 그대로의 모습으로 배꼽티를 입고 등장해 화제의 중심에 섰다., , 이효리는 텐미닛 시절을 떠올리게 하는 배꼽티로 1990년대 스타일을 재현해 추억과 신선함을 동시에 안겼으며 촌스럽지 않은 2020년 버전의 새로운 뉴트로 트렌드 세터로 레트로 열풍을 이어가고 있다., , , 크롭 탑은  브라 탑 탱크 탑 이라는 다른 패션 용어로 불리며 오랫동안 사랑받아왔지만 올 여름에는 뉴트로 트렌드를 등에 업고 화려한 외출복으로 진화하고 있다., , 그동안 이너웨어용 서브 아이템 인식이 강했던 크롭 탑은 올 여름 무더위를 날리는 쿨한 아이템으로 섹시하지만 스포티한 스트리트 패션으로 유행할 전망이다., , 특히 전례없는 코로나19 사태로 집에 머무르는 시간이 길어지면서 간편한 단품 아이템이었던 크롭 탑이 외출복으로 신분 상승하며 데일리 잇템으로 더욱 확산되는 추세다., , 집에서 입는 옷차림 그대로 동네 마트나 편의점 등 간편한 외출까지 가능한 원마일 웨어’(one-mile wear) 혹은 집에서 입는 옷 그대로 아우터 1개만 걸치면 완벽한 외출룩으로 변신하는 집콕 패션이 패션 시장의 화두로 떠올랐기 때문이다., , ↑사진 = 코치, 아크네 스튜디오, 생 로랑의 2020 봄/여름 컬렉션, , 내 몸을 있는 그대로 당당하게 사랑하자는 취지의 자기 몸 긍정주의 바람도 크롭 탑 유행에 한 몫했다., , 청바지, 쇼츠, 스웻 팬츠와 매치하면 섹시하면서 엣지 있는 스트리트 패션을 연출할 수 있으며 맥시 스커트 , 카디건, 블레이저와 함께하면 시크한 섬머룩을 연출할 수 있다. , , 또 보이프렌즈 진, 오버사이즈 카디건, 프린지 보텀, 맥시 스커트, 와이드-레그 퀼로트 등 루즈한 핏의 아이템과 매치하면 보헤미안 스타일로 변신할 수 있다., , , ↑사진 = 살바토레 페라가모, 헬무트 랑, 짐머만의 2020 봄/여름 컬렉션, , 이번 2020 봄/여름 컬렉션의 런웨이에서도 뉴트로 아이템으로 크롭 탑의 약진이 돋보였다., , 코치의 디자이너 스튜어트 베버스는 일러스트 탱크 톱 퍼레이드를 선보였으며 아크네 스튜디오는 슬릿이 들어간 소박한 크롭 탑을 선보였다., , 반면 살바토레 페라가모, 헬무트 랑 등은 캐주얼한 아이템으로 좀 더 새로운 접근 방식을 보여주었다. 살바토레 페라가모는 가죽 크롭탑 헬무트 랑은 깃털 트리밍 크롭 탑을 선보였다. 짐머만은 크롭 탑을 레이어드해서 원 숄더 실루엣을 만들었다. , , 올 여름 최고의 데일리 잇템으로 부상한 크롭 탑 스타일, 스타들의 스트리트 패션을 통해 만나보자., , , , , , , , , , , , , , , , , , , , , , , , , , , , , , , , , , , , , , , , , , , , , , 패션엔 유재부 기자, fashionn@fashionn.com, \n",
      "--------------------------------------------------\n",
      "각 브랜드의 이미지를 대변하는 스타들과의 만남 역시 컬렉션 기간에 놓쳐선 안 될 관전 포인트 중 하나. 이번 시즌에는 배두나, 공효진, 신민아, 정려원, 씨엘, BLACKPINK 제니, 엑소 카이가 각각 루이 비통과 디올, 로저 비비에, 지방시, 생 로랑, 셀린느, 샤넬, 구찌의 쇼와 프레젠테이션에 참석하기 위해 파리를 방문하며 화제를 모았다. 특히 구찌 쇼장 앞을 가득 메운 채 한글 플래카드를 들고 카이의 이름을 연호하던 팬들의 모습은 파리의 인상적인 기억 중 하나로 남았을 정도.\n",
      "--------------------------------------------------\n"
     ]
    }
   ],
   "source": [
    "for word in mag_je['word_jenny']:\n",
    "    if '로랑' in word:\n",
    "        print(word)\n",
    "        print('-'*50)"
   ]
  },
  {
   "cell_type": "code",
   "execution_count": 10,
   "metadata": {},
   "outputs": [],
   "source": [
    "mag_je['word_jenny'] = mag_je['word_jenny'].str.replace('샤넬', 'CHANEL')"
   ]
  },
  {
   "cell_type": "markdown",
   "metadata": {},
   "source": [
    "### 디올"
   ]
  },
  {
   "cell_type": "code",
   "execution_count": 11,
   "metadata": {},
   "outputs": [],
   "source": [
    "mag_je['word_jenny'] = mag_je['word_jenny'].str.replace('디올', 'DIOR')"
   ]
  },
  {
   "cell_type": "markdown",
   "metadata": {},
   "source": [
    "### 셀린느"
   ]
  },
  {
   "cell_type": "code",
   "execution_count": 12,
   "metadata": {},
   "outputs": [],
   "source": [
    "mag_je['word_jenny'] = mag_je['word_jenny'].str.replace('셀린느', 'CELINE')"
   ]
  },
  {
   "cell_type": "code",
   "execution_count": 13,
   "metadata": {},
   "outputs": [],
   "source": [
    "mag_je['word_jenny'] = mag_je['word_jenny'].str.replace('셀린', 'CELINE')"
   ]
  },
  {
   "cell_type": "markdown",
   "metadata": {},
   "source": [
    "### 생로랑"
   ]
  },
  {
   "cell_type": "code",
   "execution_count": 14,
   "metadata": {},
   "outputs": [],
   "source": [
    "# 생로랑\n",
    "mag_je['word_jenny'] = mag_je['word_jenny'].str.replace('생 로랑', 'SAINTLAURENT')\n",
    "mag_je['word_jenny'] = mag_je['word_jenny'].str.replace('생로랑', 'SAINTLAURENT')"
   ]
  },
  {
   "cell_type": "code",
   "execution_count": null,
   "metadata": {},
   "outputs": [],
   "source": []
  },
  {
   "cell_type": "code",
   "execution_count": null,
   "metadata": {},
   "outputs": [],
   "source": []
  },
  {
   "cell_type": "markdown",
   "metadata": {},
   "source": [
    "## list(article_list) 생성 후 append"
   ]
  },
  {
   "cell_type": "code",
   "execution_count": 15,
   "metadata": {},
   "outputs": [],
   "source": [
    "contents_list = []"
   ]
  },
  {
   "cell_type": "code",
   "execution_count": 16,
   "metadata": {},
   "outputs": [],
   "source": [
    "\n",
    "article_list = []\n",
    "for word in mag_je['word_jenny']:\n",
    "    article_list.append(word)"
   ]
  },
  {
   "cell_type": "code",
   "execution_count": 17,
   "metadata": {
    "scrolled": true
   },
   "outputs": [
    {
     "data": {
      "text/plain": [
       "297"
      ]
     },
     "execution_count": 17,
     "metadata": {},
     "output_type": "execute_result"
    }
   ],
   "source": [
    "len(article_list)"
   ]
  },
  {
   "cell_type": "code",
   "execution_count": 18,
   "metadata": {},
   "outputs": [
    {
     "data": {
      "text/plain": [
       "'jennierubyjanen제니n컬러도, 패턴도 따뜻해 보이는 크롭트 카디건이 이토록 시원해 보이는 이유는 제니의 과감한 애티튜드에 있다. 속옷이 보일 정도로 짧은 톱은 레이어드하는 것이 일반적인데, 제니는 과감하게 이너를 생략하고 데님 팬츠에 톱으로 매치해 캐주얼한 감성과 관능적인 무드가 공존하는 룩을 완성했다. 노출이 과해 보이지 않게 심플한 네크리스로 빈 공간을 채워준 센스도 눈여겨볼 것.'"
      ]
     },
     "execution_count": 18,
     "metadata": {},
     "output_type": "execute_result"
    }
   ],
   "source": [
    "article_list[6]"
   ]
  },
  {
   "cell_type": "code",
   "execution_count": null,
   "metadata": {},
   "outputs": [],
   "source": []
  },
  {
   "cell_type": "markdown",
   "metadata": {},
   "source": [
    "## 트위터 패키지 안에 konlpy 모듈 호출"
   ]
  },
  {
   "cell_type": "code",
   "execution_count": 19,
   "metadata": {},
   "outputs": [],
   "source": [
    "from konlpy.tag import Twitter"
   ]
  },
  {
   "cell_type": "code",
   "execution_count": 20,
   "metadata": {},
   "outputs": [
    {
     "name": "stderr",
     "output_type": "stream",
     "text": [
      "C:\\Users\\wnsgo\\anaconda3\\lib\\site-packages\\konlpy\\tag\\_okt.py:16: UserWarning: \"Twitter\" has changed to \"Okt\" since KoNLPy v0.4.5.\n",
      "  warn('\"Twitter\" has changed to \"Okt\" since KoNLPy v0.4.5.')\n"
     ]
    }
   ],
   "source": [
    "twitter = Twitter()"
   ]
  },
  {
   "cell_type": "markdown",
   "metadata": {},
   "source": [
    "### 각 문장별로 형태소 구분하기"
   ]
  },
  {
   "cell_type": "code",
   "execution_count": 21,
   "metadata": {},
   "outputs": [
    {
     "name": "stdout",
     "output_type": "stream",
     "text": [
      "297\n"
     ]
    }
   ],
   "source": [
    "sentences_tag = []\n",
    "\n",
    "for sentence in article_list:\n",
    "    morph = twitter.pos(sentence)\n",
    "    sentences_tag.append(morph)\n",
    "    \n",
    "    \n",
    "\n",
    "print(len(sentences_tag))\n"
   ]
  },
  {
   "cell_type": "code",
   "execution_count": 22,
   "metadata": {},
   "outputs": [
    {
     "data": {
      "text/plain": [
       "[('싹', 'Noun'),\n",
       " ('쓰리의', 'Adjective'),\n",
       " ('린다', 'Noun'),\n",
       " ('G', 'Alpha'),\n",
       " (',', 'Punctuation'),\n",
       " ('BLACKPINK', 'Alpha'),\n",
       " ('제니', 'Noun'),\n",
       " (',', 'Punctuation'),\n",
       " ('청', 'Noun'),\n",
       " ('하', 'Suffix'),\n",
       " ('그', 'Noun'),\n",
       " ('외', 'Noun'),\n",
       " ('등등', 'Noun'),\n",
       " ('많은', 'Adjective'),\n",
       " ('셀럽', 'Noun'),\n",
       " ('들', 'Suffix'),\n",
       " ('이', 'Josa'),\n",
       " ('공통', 'Noun'),\n",
       " ('적', 'Suffix'),\n",
       " ('으로', 'Josa'),\n",
       " ('보여준', 'Verb'),\n",
       " ('하나', 'Noun'),\n",
       " ('의', 'Josa'),\n",
       " ('메이크업', 'Noun'),\n",
       " ('룩', 'Noun'),\n",
       " ('이', 'Josa'),\n",
       " ('있다', 'Adjective'),\n",
       " ('?', 'Punctuation'),\n",
       " ('스타', 'Noun'),\n",
       " ('뷰터뷰', 'Noun'),\n",
       " ('를', 'Josa'),\n",
       " ('진행', 'Noun'),\n",
       " ('하며', 'Verb'),\n",
       " ('셀럽', 'Noun'),\n",
       " ('담당', 'Noun'),\n",
       " ('아티스트', 'Noun'),\n",
       " ('에게', 'Josa'),\n",
       " ('직접', 'Noun'),\n",
       " ('들은', 'Verb'),\n",
       " ('눈', 'Noun'),\n",
       " ('앞머리', 'Noun'),\n",
       " ('하이라이트', 'Noun'),\n",
       " ('’', 'Punctuation'),\n",
       " ('에', 'Josa'),\n",
       " ('대한', 'Noun'),\n",
       " ('모든', 'Noun'),\n",
       " ('것', 'Noun'),\n",
       " ('.', 'Punctuation'),\n",
       " ('무슨', 'Noun'),\n",
       " ('효과', 'Noun'),\n",
       " ('가', 'Josa'),\n",
       " ('있는', 'Adjective'),\n",
       " ('거', 'Noun'),\n",
       " ('죠', 'Josa'),\n",
       " ('?', 'Punctuation'),\n",
       " ('어떻게', 'Adjective'),\n",
       " ('하는', 'Verb'),\n",
       " ('거', 'Noun'),\n",
       " ('예요', 'Josa'),\n",
       " ('?,', 'Punctuation'),\n",
       " ('어디', 'Noun'),\n",
       " ('에서', 'Josa'),\n",
       " ('영감', 'Noun'),\n",
       " ('을', 'Josa'),\n",
       " ('받았나요', 'Verb'),\n",
       " ('?,', 'Punctuation'),\n",
       " ('화제', 'Noun'),\n",
       " ('의', 'Josa'),\n",
       " ('싹', 'Noun'),\n",
       " ('쓰리', 'Adjective'),\n",
       " ('린다', 'Noun'),\n",
       " ('G', 'Alpha'),\n",
       " ('메이크업', 'Noun'),\n",
       " ('을', 'Josa'),\n",
       " ('선두', 'Noun'),\n",
       " ('로', 'Josa'),\n",
       " ('요즘', 'Noun'),\n",
       " ('부쩍', 'Noun'),\n",
       " ('눈', 'Noun'),\n",
       " ('에', 'Josa'),\n",
       " ('띄기', 'Verb'),\n",
       " ('시작', 'Noun'),\n",
       " ('한', 'Josa'),\n",
       " ('이', 'Noun'),\n",
       " ('메이크업', 'Noun'),\n",
       " ('은', 'Josa'),\n",
       " ('어디', 'Noun'),\n",
       " ('에서', 'Josa'),\n",
       " ('시작', 'Noun'),\n",
       " ('된', 'Verb'),\n",
       " ('것', 'Noun'),\n",
       " ('일까', 'Verb'),\n",
       " ('?', 'Punctuation'),\n",
       " ('이효리', 'Noun'),\n",
       " ('메이크업', 'Noun'),\n",
       " ('담당', 'Noun'),\n",
       " ('홍성희', 'Noun'),\n",
       " ('원장', 'Noun'),\n",
       " ('은', 'Josa'),\n",
       " ('이렇게', 'Adverb'),\n",
       " ('답', 'Noun'),\n",
       " ('했다', 'Verb'),\n",
       " ('.,', 'Punctuation'),\n",
       " ('Photo', 'Alpha'),\n",
       " ('by', 'Alpha'),\n",
       " ('Diane', 'Alpha'),\n",
       " ('Freed', 'Alpha'),\n",
       " (',', 'Punctuation'),\n",
       " ('Photo', 'Alpha'),\n",
       " ('by', 'Alpha'),\n",
       " ('Brenda', 'Alpha'),\n",
       " ('Chase', 'Alpha'),\n",
       " ('/', 'Punctuation'),\n",
       " ('Getty', 'Alpha'),\n",
       " ('image', 'Alpha'),\n",
       " (',', 'Punctuation'),\n",
       " ('90년', 'Number'),\n",
       " ('대', 'Foreign'),\n",
       " ('후반', 'Noun'),\n",
       " ('부터', 'Noun'),\n",
       " ('2000년', 'Number'),\n",
       " ('대', 'Foreign'),\n",
       " ('초반', 'Noun'),\n",
       " ('할리우드', 'Noun'),\n",
       " ('스타', 'Noun'),\n",
       " ('들', 'Suffix'),\n",
       " ('에게', 'Josa'),\n",
       " ('유행', 'Noun'),\n",
       " ('했던', 'Verb'),\n",
       " ('스모키', 'Noun'),\n",
       " ('메이크업', 'Noun'),\n",
       " ('에서', 'Josa'),\n",
       " ('영감', 'Noun'),\n",
       " ('을', 'Josa'),\n",
       " ('받았어요', 'Verb'),\n",
       " ('.', 'Punctuation'),\n",
       " ('특유', 'Noun'),\n",
       " ('의', 'Josa'),\n",
       " ('세기말', 'Noun'),\n",
       " ('감성', 'Noun'),\n",
       " ('과', 'Josa'),\n",
       " ('함께', 'Adverb'),\n",
       " ('사이버', 'Noun'),\n",
       " ('적', 'Suffix'),\n",
       " ('이기도', 'Josa'),\n",
       " ('하면서', 'Verb'),\n",
       " ('고', 'Modifier'),\n",
       " ('전적', 'Noun'),\n",
       " ('인', 'Josa'),\n",
       " ('스모키', 'Noun'),\n",
       " ('메이크업', 'Noun'),\n",
       " ('느낌', 'Noun'),\n",
       " ('을', 'Josa'),\n",
       " ('살리기에', 'Verb'),\n",
       " ('아주', 'Noun'),\n",
       " ('적절한', 'Adjective'),\n",
       " ('포인트', 'Noun'),\n",
       " ('죠', 'Josa'),\n",
       " ('실제', 'Noun'),\n",
       " ('로', 'Josa'),\n",
       " ('그', 'Noun'),\n",
       " ('당시', 'Noun'),\n",
       " ('브리트니', 'Noun'),\n",
       " ('스피어스', 'Noun'),\n",
       " (',', 'Punctuation'),\n",
       " ('카메론', 'Noun'),\n",
       " ('디아즈', 'Noun'),\n",
       " (',', 'Punctuation'),\n",
       " ('크리스티나', 'Noun'),\n",
       " ('아길레', 'Noun'),\n",
       " ('라', 'Josa'),\n",
       " ('등', 'Noun'),\n",
       " ('많은', 'Adjective'),\n",
       " ('셀럽', 'Noun'),\n",
       " ('의', 'Josa'),\n",
       " ('메이크업', 'Noun'),\n",
       " ('스타일', 'Noun'),\n",
       " ('을', 'Josa'),\n",
       " ('살펴보면', 'Verb'),\n",
       " ('위아래', 'Noun'),\n",
       " ('로', 'Josa'),\n",
       " ('채워', 'Verb'),\n",
       " ('넣은', 'Verb'),\n",
       " ('블랙', 'Noun'),\n",
       " ('아이라인', 'Noun'),\n",
       " (',', 'Punctuation'),\n",
       " ('눈', 'Noun'),\n",
       " ('앞머리', 'Noun'),\n",
       " ('에', 'Josa'),\n",
       " ('하이라이트', 'Noun'),\n",
       " ('를', 'Josa'),\n",
       " ('넣고', 'Verb'),\n",
       " ('뒤', 'Noun'),\n",
       " ('로', 'Josa'),\n",
       " ('갈', 'Verb'),\n",
       " ('수록', 'Noun'),\n",
       " ('점점', 'Noun'),\n",
       " ('진해', 'Noun'),\n",
       " ('지는', 'Josa'),\n",
       " ('스모키', 'Noun'),\n",
       " ('아이', 'Noun'),\n",
       " ('메이크업', 'Noun'),\n",
       " ('이', 'Josa'),\n",
       " ('공통', 'Noun'),\n",
       " ('적', 'Suffix'),\n",
       " ('으로', 'Josa'),\n",
       " ('보인다', 'Verb'),\n",
       " ('.,', 'Punctuation'),\n",
       " ('물론', 'Adverb'),\n",
       " ('이', 'Noun'),\n",
       " ('눈', 'Noun'),\n",
       " ('앞머리', 'Noun'),\n",
       " ('포인트', 'Noun'),\n",
       " ('메이크업', 'Noun'),\n",
       " ('이', 'Josa'),\n",
       " ('최근', 'Noun'),\n",
       " ('에서야', 'Josa'),\n",
       " ('유행', 'Noun'),\n",
       " ('하기', 'Verb'),\n",
       " ('시작', 'Noun'),\n",
       " ('한', 'Josa'),\n",
       " ('건', 'Noun'),\n",
       " ('아니다', 'Adjective'),\n",
       " ('.', 'Punctuation'),\n",
       " ('인어', 'Noun'),\n",
       " ('공주', 'Noun'),\n",
       " ('의', 'Josa'),\n",
       " ('눈물', 'Noun'),\n",
       " ('’', 'Punctuation'),\n",
       " ('이란', 'Noun'),\n",
       " ('이름', 'Noun'),\n",
       " ('으로', 'Josa'),\n",
       " ('해외', 'Noun'),\n",
       " ('에서', 'Josa'),\n",
       " ('몇', 'Noun'),\n",
       " ('년', 'Noun'),\n",
       " ('전', 'Noun'),\n",
       " ('부터', 'Josa'),\n",
       " ('보이기', 'Verb'),\n",
       " ('시작', 'Noun'),\n",
       " ('한', 'Josa'),\n",
       " ('메이크업', 'Noun'),\n",
       " ('.', 'Punctuation'),\n",
       " ('앞', 'Noun'),\n",
       " ('트임', 'Verb'),\n",
       " ('효과', 'Noun'),\n",
       " ('를', 'Josa'),\n",
       " ('주어', 'Noun'),\n",
       " ('눈매', 'Noun'),\n",
       " ('를', 'Josa'),\n",
       " ('교정', 'Noun'),\n",
       " ('하는', 'Verb'),\n",
       " ('효과', 'Noun'),\n",
       " ('를', 'Josa'),\n",
       " ('준다고', 'Verb'),\n",
       " ('하는데', 'Verb'),\n",
       " ('과연', 'Noun'),\n",
       " ('최근', 'Noun'),\n",
       " ('의', 'Josa'),\n",
       " ('눈', 'Noun'),\n",
       " ('앞머리', 'Noun'),\n",
       " ('포인트', 'Noun'),\n",
       " ('에', 'Josa'),\n",
       " ('대한', 'Noun'),\n",
       " ('셀럽', 'Noun'),\n",
       " ('담당', 'Noun'),\n",
       " ('선생님', 'Noun'),\n",
       " ('들', 'Suffix'),\n",
       " ('의', 'Josa'),\n",
       " ('생각', 'Noun'),\n",
       " ('은', 'Josa'),\n",
       " ('어떨까', 'Adjective'),\n",
       " ('?,', 'Punctuation'),\n",
       " ('어떤', 'Adjective'),\n",
       " ('효과', 'Noun'),\n",
       " ('가', 'Josa'),\n",
       " ('있나요', 'Adjective'),\n",
       " ('?,', 'Punctuation'),\n",
       " ('BLACKPINK', 'Alpha'),\n",
       " ('제니', 'Noun'),\n",
       " ('의', 'Josa'),\n",
       " ('눈', 'Noun'),\n",
       " ('앞머리', 'Noun'),\n",
       " ('큐빅', 'Noun'),\n",
       " ('은', 'Josa'),\n",
       " ('이번', 'Noun'),\n",
       " ('How', 'Alpha'),\n",
       " ('you', 'Alpha'),\n",
       " ('like', 'Alpha'),\n",
       " ('that', 'Alpha'),\n",
       " ('’', 'Punctuation'),\n",
       " ('에서도', 'Josa'),\n",
       " (',', 'Punctuation'),\n",
       " ('Kill', 'Alpha'),\n",
       " ('this', 'Alpha'),\n",
       " ('love', 'Alpha'),\n",
       " ('’', 'Punctuation'),\n",
       " ('에서도', 'Josa'),\n",
       " ('돋보였던', 'Verb'),\n",
       " ('포인트', 'Noun'),\n",
       " ('.', 'Punctuation'),\n",
       " ('BLACKPINK', 'Alpha'),\n",
       " ('메이크업', 'Noun'),\n",
       " ('담당', 'Noun'),\n",
       " ('이명선', 'Noun'),\n",
       " ('원장', 'Noun'),\n",
       " ('은', 'Josa'),\n",
       " ('눈', 'Noun'),\n",
       " ('앞머리', 'Noun'),\n",
       " ('포인트', 'Noun'),\n",
       " ('를', 'Josa'),\n",
       " ('이렇게', 'Adverb'),\n",
       " ('설명', 'Noun'),\n",
       " ('한다', 'Verb'),\n",
       " ('.', 'Punctuation'),\n",
       " ('일반', 'Noun'),\n",
       " ('적', 'Suffix'),\n",
       " ('인', 'Josa'),\n",
       " ('눈', 'Noun'),\n",
       " ('두', 'Determiner'),\n",
       " ('덩이', 'Noun'),\n",
       " ('위', 'Noun'),\n",
       " ('하이라이트', 'Noun'),\n",
       " ('나', 'Josa'),\n",
       " ('눈동자', 'Noun'),\n",
       " ('아래', 'Noun'),\n",
       " ('하이라이트', 'Noun'),\n",
       " ('는', 'Josa'),\n",
       " ('다른', 'Noun'),\n",
       " ('느낌', 'Noun'),\n",
       " ('이', 'Josa'),\n",
       " ('들어요', 'Verb'),\n",
       " ('.', 'Punctuation'),\n",
       " ('특히', 'Adverb'),\n",
       " ('깔끔하고', 'Adjective'),\n",
       " ('날카롭게', 'Adjective'),\n",
       " ('그린', 'Noun'),\n",
       " ('아이라인', 'Noun'),\n",
       " ('과', 'Josa'),\n",
       " ('잘', 'Verb'),\n",
       " ('어우러지면서', 'Verb'),\n",
       " ('얼굴', 'Noun'),\n",
       " ('전체', 'Noun'),\n",
       " ('에', 'Josa'),\n",
       " ('강렬한', 'Adjective'),\n",
       " ('포인트', 'Noun'),\n",
       " ('를', 'Josa'),\n",
       " ('남기죠', 'Verb'),\n",
       " ('이번', 'Noun'),\n",
       " ('뮤직비디오', 'Noun'),\n",
       " ('에서는', 'Josa'),\n",
       " ('전보', 'Noun'),\n",
       " ('다', 'Josa'),\n",
       " ('더', 'Noun'),\n",
       " ('눈매', 'Noun'),\n",
       " ('를', 'Josa'),\n",
       " ('길어', 'Adjective'),\n",
       " ('보이', 'Noun'),\n",
       " ('게', 'Josa'),\n",
       " ('만들기', 'Noun'),\n",
       " ('위해', 'Noun'),\n",
       " ('눈', 'Noun'),\n",
       " ('앞머리', 'Noun'),\n",
       " ('뿐', 'Noun'),\n",
       " ('만', 'Josa'),\n",
       " ('아니라', 'Adjective'),\n",
       " ('눈', 'Noun'),\n",
       " ('꼬리', 'Noun'),\n",
       " ('쪽', 'Noun'),\n",
       " ('에도', 'Josa'),\n",
       " ('큐빅', 'Noun'),\n",
       " ('을', 'Josa'),\n",
       " ('붙여', 'Verb'),\n",
       " ('완성', 'Noun'),\n",
       " ('시켰다고', 'Verb'),\n",
       " ('덧붙였다', 'Verb'),\n",
       " ('.,', 'Punctuation'),\n",
       " ('눈매', 'Noun'),\n",
       " ('를', 'Josa'),\n",
       " ('더', 'Noun'),\n",
       " ('길어', 'Adjective'),\n",
       " ('보이', 'Noun'),\n",
       " ('게', 'Josa'),\n",
       " ('만들어', 'Verb'),\n",
       " ('날카로운', 'Adjective'),\n",
       " ('인상', 'Noun'),\n",
       " ('을', 'Josa'),\n",
       " ('줍니다', 'Verb'),\n",
       " ('청', 'Noun'),\n",
       " ('하', 'Suffix'),\n",
       " ('메이크업', 'Noun'),\n",
       " ('담당', 'Noun'),\n",
       " ('정은우', 'Noun'),\n",
       " ('실장', 'Noun'),\n",
       " ('은', 'Josa'),\n",
       " ('이렇게', 'Adverb'),\n",
       " ('설명', 'Noun'),\n",
       " ('했다', 'Verb'),\n",
       " ('.', 'Punctuation'),\n",
       " ('이번', 'Noun'),\n",
       " ('PLAY', 'Alpha'),\n",
       " ('’', 'Punctuation'),\n",
       " ('뮤직비디오', 'Noun'),\n",
       " ('에서', 'Josa'),\n",
       " ('골드', 'Noun'),\n",
       " ('빛', 'Noun'),\n",
       " ('의', 'Josa'),\n",
       " ('스팽글', 'Noun'),\n",
       " ('을', 'Josa'),\n",
       " ('눈', 'Noun'),\n",
       " ('앞머리', 'Noun'),\n",
       " ('에', 'Josa'),\n",
       " ('붙인', 'Verb'),\n",
       " ('룩', 'Noun'),\n",
       " ('이', 'Josa'),\n",
       " ('있었어요', 'Adjective'),\n",
       " ('.', 'Punctuation'),\n",
       " ('조명', 'Noun'),\n",
       " ('에', 'Josa'),\n",
       " ('따라', 'Verb'),\n",
       " ('보였다가', 'Verb'),\n",
       " ('안', 'Noun'),\n",
       " ('보였다가', 'Verb'),\n",
       " ('해서', 'Verb'),\n",
       " ('더', 'Noun'),\n",
       " ('오묘한', 'Adjective'),\n",
       " ('느낌', 'Noun'),\n",
       " ('이', 'Josa'),\n",
       " ('들', 'Verb'),\n",
       " ('기도', 'Noun'),\n",
       " ('하죠', 'Verb'),\n",
       " ('.', 'Punctuation'),\n",
       " ('스팽글', 'Noun'),\n",
       " ('이', 'Josa'),\n",
       " ('눈', 'Noun'),\n",
       " ('에', 'Josa'),\n",
       " ('띄는', 'Verb'),\n",
       " ('순간', 'Noun'),\n",
       " ('시선', 'Noun'),\n",
       " ('이', 'Josa'),\n",
       " ('눈', 'Noun'),\n",
       " ('앞머리', 'Noun'),\n",
       " ('쪽', 'Noun'),\n",
       " ('으로', 'Josa'),\n",
       " ('몰리', 'Noun'),\n",
       " ('게', 'Josa'),\n",
       " ('되는데', 'Verb'),\n",
       " (',', 'Punctuation'),\n",
       " ('이', 'Noun'),\n",
       " ('때', 'Noun'),\n",
       " ('레드', 'Noun'),\n",
       " ('/', 'Punctuation'),\n",
       " ('블루', 'Noun'),\n",
       " ('등', 'Noun'),\n",
       " ('으로', 'Josa'),\n",
       " ('준', 'Noun'),\n",
       " ('컬러', 'Noun'),\n",
       " ('포인트', 'Noun'),\n",
       " ('보다', 'Josa'),\n",
       " ('훨씬', 'Adverb'),\n",
       " ('더', 'Noun'),\n",
       " ('강렬한', 'Adjective'),\n",
       " ('인상', 'Noun'),\n",
       " ('을', 'Josa'),\n",
       " ('주게', 'Verb'),\n",
       " ('됩니다', 'Verb'),\n",
       " (',', 'Punctuation'),\n",
       " ('어떻게', 'Adjective'),\n",
       " ('연출', 'Noun'),\n",
       " ('했나요', 'Verb'),\n",
       " ('?,', 'Punctuation'),\n",
       " ('밑색', 'Noun'),\n",
       " ('이', 'Josa'),\n",
       " ('아예', 'Noun'),\n",
       " ('비치', 'Noun'),\n",
       " ('지', 'Josa'),\n",
       " ('않을', 'Verb'),\n",
       " ('정도', 'Noun'),\n",
       " ('로', 'Josa'),\n",
       " ('강렬한', 'Adjective'),\n",
       " ('발색', 'Noun'),\n",
       " ('의', 'Josa'),\n",
       " ('아이', 'Noun'),\n",
       " ('섀도', 'Noun'),\n",
       " ('를', 'Josa'),\n",
       " ('사용', 'Noun'),\n",
       " ('하', 'Suffix'),\n",
       " ('거나', 'Noun'),\n",
       " ('더', 'Noun'),\n",
       " ('확실한', 'Adjective'),\n",
       " ('반사', 'Noun'),\n",
       " ('를', 'Josa'),\n",
       " ('주는', 'Verb'),\n",
       " ('큐빅', 'Noun'),\n",
       " ('을', 'Josa'),\n",
       " ('사용', 'Noun'),\n",
       " ('하기도', 'Verb'),\n",
       " ('한다', 'Verb'),\n",
       " ('.', 'Punctuation'),\n",
       " ('콧날', 'Noun'),\n",
       " ('과', 'Josa'),\n",
       " ('눈', 'Noun'),\n",
       " ('두', 'Determiner'),\n",
       " ('덩이', 'Noun'),\n",
       " (',', 'Punctuation'),\n",
       " ('눈', 'Noun'),\n",
       " ('앞머리', 'Noun'),\n",
       " ('가', 'Josa'),\n",
       " ('맞닿는', 'Verb'),\n",
       " ('부분', 'Noun'),\n",
       " ('을', 'Josa'),\n",
       " ('체크', 'Noun'),\n",
       " ('하', 'Suffix'),\n",
       " ('듯', 'Noun'),\n",
       " ('섀도', 'Noun'),\n",
       " ('로', 'Josa'),\n",
       " ('채워', 'Verb'),\n",
       " ('줬어요', 'Verb'),\n",
       " ('.', 'Punctuation'),\n",
       " ('눈', 'Noun'),\n",
       " ('두', 'Determiner'),\n",
       " ('덩이', 'Noun'),\n",
       " ('에', 'Josa'),\n",
       " ('올려진', 'Verb'),\n",
       " ('아이', 'Noun'),\n",
       " ('섀도', 'Noun'),\n",
       " ('가', 'Josa'),\n",
       " ('브라운', 'Noun'),\n",
       " ('계열', 'Noun'),\n",
       " ('이라고', 'Josa'),\n",
       " ('해서', 'Verb'),\n",
       " ('동일한', 'Adjective'),\n",
       " ('계열', 'Noun'),\n",
       " ('인', 'Josa'),\n",
       " ('골드', 'Noun'),\n",
       " ('컬러', 'Noun'),\n",
       " ('로', 'Josa'),\n",
       " ('맞추진', 'Verb'),\n",
       " ('않았습니다', 'Verb'),\n",
       " ('.', 'Punctuation'),\n",
       " ('하나', 'Noun'),\n",
       " ('의', 'Josa'),\n",
       " ('강렬한', 'Adjective'),\n",
       " ('포인트', 'Noun'),\n",
       " ('가', 'Josa'),\n",
       " ('되게끔', 'Verb'),\n",
       " ('반사', 'Noun'),\n",
       " ('가', 'Josa'),\n",
       " ('강한', 'Adjective'),\n",
       " ('실버', 'Noun'),\n",
       " ('아이', 'Noun'),\n",
       " ('섀도', 'Noun'),\n",
       " ('를', 'Josa'),\n",
       " ('발라', 'Noun'),\n",
       " ('연출', 'Noun'),\n",
       " ('했어요', 'Verb'),\n",
       " (',', 'Punctuation'),\n",
       " ('원래', 'Noun'),\n",
       " ('는', 'Josa'),\n",
       " ('뮤직비디오', 'Noun'),\n",
       " ('에', 'Josa'),\n",
       " ('보여진', 'Verb'),\n",
       " ('큐빅', 'Noun'),\n",
       " ('과', 'Josa'),\n",
       " ('동일한', 'Adjective'),\n",
       " ('컬러', 'Noun'),\n",
       " ('의', 'Josa'),\n",
       " ('아이', 'Noun'),\n",
       " ('섀도', 'Noun'),\n",
       " ('였는데', 'Verb'),\n",
       " ('더', 'Noun'),\n",
       " ('강렬한', 'Adjective'),\n",
       " ('반', 'Modifier'),\n",
       " ('사광', 'Noun'),\n",
       " ('이', 'Josa'),\n",
       " ('필요해', 'Adjective'),\n",
       " ('큐빅', 'Noun'),\n",
       " ('으로', 'Josa'),\n",
       " ('대체', 'Noun'),\n",
       " ('했어요', 'Verb'),\n",
       " ('우선', 'Noun'),\n",
       " ('이명선', 'Noun'),\n",
       " ('원장', 'Noun'),\n",
       " ('은', 'Josa'),\n",
       " ('조명', 'Noun'),\n",
       " ('에', 'Josa'),\n",
       " ('더', 'Noun'),\n",
       " ('반사', 'Noun'),\n",
       " ('가', 'Josa'),\n",
       " ('잘', 'Verb'),\n",
       " ('되는', 'Verb'),\n",
       " ('큐빅', 'Noun'),\n",
       " ('을', 'Josa'),\n",
       " ('쌍꺼풀', 'Noun'),\n",
       " ('풀', 'Noun'),\n",
       " ('로', 'Josa'),\n",
       " ('붙여', 'Verb'),\n",
       " ('연출', 'Noun'),\n",
       " ('했다고', 'Verb'),\n",
       " ('밝혔다', 'Verb'),\n",
       " ('.', 'Punctuation'),\n",
       " ('이', 'Noun'),\n",
       " ('두', 'Determiner'),\n",
       " ('가지', 'Noun'),\n",
       " ('모두', 'Noun'),\n",
       " ('하나', 'Noun'),\n",
       " ('의', 'Josa'),\n",
       " ('공통점', 'Noun'),\n",
       " ('이', 'Josa'),\n",
       " ('있다면', 'Adjective'),\n",
       " ('일반', 'Noun'),\n",
       " ('적', 'Suffix'),\n",
       " ('인', 'Josa'),\n",
       " ('글리터', 'Noun'),\n",
       " ('아이', 'Noun'),\n",
       " ('섀도', 'Noun'),\n",
       " ('나', 'Josa'),\n",
       " ('쉬머', 'Noun'),\n",
       " ('아이', 'Noun'),\n",
       " ('섀도', 'Noun'),\n",
       " ('보다', 'Verb'),\n",
       " ('훨씬', 'Adverb'),\n",
       " ('더', 'Noun'),\n",
       " ('강한', 'Adjective'),\n",
       " ('반', 'Modifier'),\n",
       " ('사광', 'Noun'),\n",
       " ('을', 'Josa'),\n",
       " ('가진', 'Verb'),\n",
       " ('무언가', 'Noun'),\n",
       " ('로', 'Josa'),\n",
       " ('룩', 'Noun'),\n",
       " ('을', 'Josa'),\n",
       " ('완성', 'Noun'),\n",
       " ('한다는', 'Modifier'),\n",
       " ('것', 'Noun'),\n",
       " ('!,', 'Punctuation'),\n",
       " ('일반', 'Noun'),\n",
       " ('적', 'Suffix'),\n",
       " ('인', 'Josa'),\n",
       " ('아이', 'Noun'),\n",
       " ('메이크업', 'Noun'),\n",
       " ('포인트', 'Noun'),\n",
       " ('보다', 'Josa'),\n",
       " ('더', 'Noun'),\n",
       " ('특별한', 'Adjective'),\n",
       " ('점', 'Noun'),\n",
       " ('이', 'Josa'),\n",
       " ('있다면', 'Adjective'),\n",
       " ('?,', 'Punctuation'),\n",
       " ('아이돌', 'Noun'),\n",
       " ('메이크업', 'Noun'),\n",
       " ('의', 'Josa'),\n",
       " ('전', 'Modifier'),\n",
       " ('유물', 'Noun'),\n",
       " ('이라', 'Josa'),\n",
       " ('여겨지는', 'Verb'),\n",
       " ('눈', 'Noun'),\n",
       " ('밑', 'Noun'),\n",
       " ('글리터', 'Noun'),\n",
       " ('포인트', 'Noun'),\n",
       " ('와는', 'Josa'),\n",
       " ('정반대', 'Noun'),\n",
       " ('의', 'Josa'),\n",
       " ('매력', 'Noun'),\n",
       " ('!', 'Punctuation'),\n",
       " ('BLACKPINK', 'Alpha'),\n",
       " ('담당', 'Noun'),\n",
       " ('이명선', 'Noun'),\n",
       " ('원장', 'Noun'),\n",
       " ('은', 'Josa'),\n",
       " ('이렇게', 'Adverb'),\n",
       " ('설명', 'Noun'),\n",
       " ('한다', 'Verb'),\n",
       " ('.', 'Punctuation'),\n",
       " ('제', 'Noun'),\n",
       " ('가', 'Josa'),\n",
       " ('제니', 'Noun'),\n",
       " ('에게', 'Josa'),\n",
       " ('했던', 'Verb'),\n",
       " ('메이크업', 'Noun'),\n",
       " ('룩', 'Noun'),\n",
       " ('에', 'Josa'),\n",
       " ('눈', 'Noun'),\n",
       " ('밑', 'Noun'),\n",
       " ('에', 'Josa'),\n",
       " ('무언가', 'Noun'),\n",
       " ('반짝인다고', 'Verb'),\n",
       " ('생각', 'Noun'),\n",
       " ('해보세요', 'Verb'),\n",
       " ('.', 'Punctuation'),\n",
       " ('너무', 'Adverb'),\n",
       " ('귀엽고', 'Adjective'),\n",
       " ('깜찍한', 'Adjective'),\n",
       " ('느낌', 'Noun'),\n",
       " ('이', 'Josa'),\n",
       " ('들', 'Verb'),\n",
       " ('것', 'Noun'),\n",
       " ('같지', 'Adjective'),\n",
       " ('않나요', 'Verb'),\n",
       " ('?', 'Punctuation'),\n",
       " ('그', 'Noun'),\n",
       " ('에', 'Josa'),\n",
       " ('비해', 'Verb'),\n",
       " ('눈', 'Noun'),\n",
       " ('앞머리', 'Noun'),\n",
       " ('포인트', 'Noun'),\n",
       " ('는', 'Josa'),\n",
       " ('단순히', 'Adjective'),\n",
       " ('예쁘고', 'Adjective'),\n",
       " ('사랑스러운', 'Adjective'),\n",
       " ('분위기', 'Noun'),\n",
       " ('보단', 'Josa'),\n",
       " ('카리스마', 'Noun'),\n",
       " ('넘치는', 'Adjective'),\n",
       " ('강렬한', 'Adjective'),\n",
       " ('느낌', 'Noun'),\n",
       " ('을', 'Josa'),\n",
       " ('강조', 'Noun'),\n",
       " ('해주는', 'Verb'),\n",
       " ('것', 'Noun'),\n",
       " ('같아요', 'Adjective'),\n",
       " (',', 'Punctuation'),\n",
       " ('눈', 'Noun'),\n",
       " ('밑', 'Noun'),\n",
       " ('글리터', 'Noun'),\n",
       " ('나', 'Josa'),\n",
       " ('눈', 'Noun'),\n",
       " ('두', 'Determiner'),\n",
       " ('덩이', 'Noun'),\n",
       " ('하이라이트', 'Noun'),\n",
       " ('같은', 'Adjective'),\n",
       " ('아이', 'Noun'),\n",
       " ('메이크업', 'Noun'),\n",
       " ('의', 'Josa'),\n",
       " ('한', 'Verb'),\n",
       " ('부분', 'Noun'),\n",
       " ('이라', 'Josa'),\n",
       " ('생각', 'Noun'),\n",
       " ('할', 'Verb'),\n",
       " ('수도', 'Noun'),\n",
       " ('있을', 'Adjective'),\n",
       " ('것', 'Noun'),\n",
       " ('같지만', 'Adjective'),\n",
       " (',', 'Punctuation'),\n",
       " ('사실', 'Noun'),\n",
       " ('은', 'Josa'),\n",
       " ('아니예요', 'Adjective'),\n",
       " ('홍성희', 'Noun'),\n",
       " ('원장', 'Noun'),\n",
       " ('의', 'Josa'),\n",
       " ('설명', 'Noun'),\n",
       " ('이다', 'Josa'),\n",
       " ('.', 'Punctuation'),\n",
       " ('아이', 'Noun'),\n",
       " ('포인트', 'Noun'),\n",
       " ('가', 'Josa'),\n",
       " ('아닌', 'Adjective'),\n",
       " ('얼굴', 'Noun'),\n",
       " ('전체', 'Noun'),\n",
       " ('의', 'Josa'),\n",
       " ('하이라이트', 'Noun'),\n",
       " ('포인트', 'Noun'),\n",
       " ('입니다', 'Adjective'),\n",
       " ('.', 'Punctuation'),\n",
       " ('이', 'Noun'),\n",
       " ('점', 'Noun'),\n",
       " ('이', 'Josa'),\n",
       " ('통상', 'Noun'),\n",
       " ('적', 'Suffix'),\n",
       " ('으로', 'Josa'),\n",
       " ('생각', 'Noun'),\n",
       " ('하는', 'Verb'),\n",
       " ('아이', 'Noun'),\n",
       " ('메이크업', 'Noun'),\n",
       " ('포인트', 'Noun'),\n",
       " ('와는', 'Josa'),\n",
       " ('가장', 'Noun'),\n",
       " ('큰', 'Verb'),\n",
       " ('차이점', 'Noun'),\n",
       " ('이라고', 'Josa'),\n",
       " ('말', 'Noun'),\n",
       " ('할', 'Verb'),\n",
       " ('수', 'Noun'),\n",
       " ('있죠', 'Adjective'),\n",
       " (',', 'Punctuation'),\n",
       " ('이', 'Noun'),\n",
       " ('메이크업', 'Noun'),\n",
       " ('룩', 'Noun'),\n",
       " ('이', 'Josa'),\n",
       " ('새로운', 'Adjective'),\n",
       " ('메이크업', 'Noun'),\n",
       " ('트렌드', 'Noun'),\n",
       " ('가', 'Josa'),\n",
       " ('될까', 'Verb'),\n",
       " ('요', 'Noun'),\n",
       " ('?', 'Punctuation'),\n",
       " ('톱', 'Noun'),\n",
       " ('셀럽', 'Noun'),\n",
       " ('을', 'Josa'),\n",
       " ('담당', 'Noun'),\n",
       " ('하는', 'Verb'),\n",
       " ('메이크업', 'Noun'),\n",
       " ('아티스트', 'Noun'),\n",
       " ('들', 'Suffix'),\n",
       " ('의', 'Josa'),\n",
       " ('의견', 'Noun'),\n",
       " ('이', 'Josa'),\n",
       " ('더', 'Noun'),\n",
       " ('궁금하다면', 'Adjective'),\n",
       " ('영상', 'Noun'),\n",
       " ('에서', 'Josa'),\n",
       " ('확인', 'Noun'),\n",
       " ('해보세요', 'Verb'),\n",
       " ('!', 'Punctuation')]"
      ]
     },
     "execution_count": 22,
     "metadata": {},
     "output_type": "execute_result"
    }
   ],
   "source": [
    "sentences_tag[0]"
   ]
  },
  {
   "cell_type": "code",
   "execution_count": 23,
   "metadata": {},
   "outputs": [
    {
     "data": {
      "text/plain": [
       "{'Adjective': '형용사',\n",
       " 'Adverb': '부사',\n",
       " 'Alpha': '알파벳',\n",
       " 'Conjunction': '접속사',\n",
       " 'Determiner': '관형사',\n",
       " 'Eomi': '어미',\n",
       " 'Exclamation': '감탄사',\n",
       " 'Foreign': '외국어, 한자 및 기타기호',\n",
       " 'Hashtag': '트위터 해쉬태그',\n",
       " 'Josa': '조사',\n",
       " 'KoreanParticle': '(ex: ㅋㅋ)',\n",
       " 'Noun': '명사',\n",
       " 'Number': '숫자',\n",
       " 'PreEomi': '선어말어미',\n",
       " 'Punctuation': '구두점',\n",
       " 'ScreenName': '트위터 아이디',\n",
       " 'Suffix': '접미사',\n",
       " 'Unknown': '미등록어',\n",
       " 'Verb': '동사'}"
      ]
     },
     "execution_count": 23,
     "metadata": {},
     "output_type": "execute_result"
    }
   ],
   "source": [
    "twitter.tagset"
   ]
  },
  {
   "cell_type": "markdown",
   "metadata": {},
   "source": [
    "### stopword 추가"
   ]
  },
  {
   "cell_type": "code",
   "execution_count": 91,
   "metadata": {},
   "outputs": [],
   "source": [
    "sw_df = pd.read_csv('stopwords.csv', header=None)"
   ]
  },
  {
   "cell_type": "code",
   "execution_count": 92,
   "metadata": {},
   "outputs": [],
   "source": [
    "sw_df.columns = ['stopword']"
   ]
  },
  {
   "cell_type": "code",
   "execution_count": 93,
   "metadata": {},
   "outputs": [],
   "source": [
    "stop_words = []\n",
    "for sw in sw_df['stopword']:\n",
    "    stop_words.append(sw)"
   ]
  },
  {
   "cell_type": "code",
   "execution_count": 94,
   "metadata": {},
   "outputs": [
    {
     "name": "stdout",
     "output_type": "stream",
     "text": [
      "675\n",
      "<class 'list'>\n"
     ]
    }
   ],
   "source": [
    "print(len(stop_words))\n",
    "print(type(stop_words))"
   ]
  },
  {
   "cell_type": "code",
   "execution_count": 95,
   "metadata": {},
   "outputs": [
    {
     "data": {
      "text/plain": [
       "['둘', '셋', '넷', '다섯', '여섯', '일곱', '여덟', '아홉', '령', '영']"
      ]
     },
     "execution_count": 95,
     "metadata": {},
     "output_type": "execute_result"
    }
   ],
   "source": [
    "stop_words[-10:]"
   ]
  },
  {
   "cell_type": "code",
   "execution_count": 96,
   "metadata": {},
   "outputs": [],
   "source": [
    "add_0 = ['수', '있는', '더', 'n', '위', '듯', '있어요', '중', '게', '같아요', '요', '거', '속', '건', '드', '같은',\n",
    "        '대', '전', '연출', '통해', '가장', '사람', '한편', '지금', '두', '↑', '부분', '날', '호', '최근', '더욱', '데', '역시', \n",
    "         '해', '때문', '업는', '요즘', '후', '많은', '대한', '앞', '내', '볼', '순간', '입니다', '최수영', '이제', '지난', \n",
    "         '뒤', '준', '번', '사진']\n",
    "for w in add_0:\n",
    "    stop_words.append(w)"
   ]
  },
  {
   "cell_type": "code",
   "execution_count": 97,
   "metadata": {},
   "outputs": [],
   "source": [
    "add_1 = ['BLACKPINK', '리사', '지수', '로제', '기자']\n",
    "for w in add_1:\n",
    "    stop_words.append(w)"
   ]
  },
  {
   "cell_type": "code",
   "execution_count": 98,
   "metadata": {},
   "outputs": [
    {
     "data": {
      "text/plain": [
       "732"
      ]
     },
     "execution_count": 98,
     "metadata": {},
     "output_type": "execute_result"
    }
   ],
   "source": [
    "len(stop_words)"
   ]
  },
  {
   "cell_type": "markdown",
   "metadata": {},
   "source": [
    "### 1. 명사 혹은 형용사인 품사만 선별해 리스트에 담기"
   ]
  },
  {
   "cell_type": "code",
   "execution_count": 99,
   "metadata": {},
   "outputs": [],
   "source": [
    "noun_adj_list= []\n",
    "for sentence1 in sentences_tag:\n",
    "    for word, tag in sentence1:\n",
    "        if tag in ['Noun', 'Adjective', 'Alpha', 'Determiner', 'Foreign']:\n",
    "            if not word in stop_words:\n",
    "                noun_adj_list.append(word)"
   ]
  },
  {
   "cell_type": "code",
   "execution_count": 100,
   "metadata": {},
   "outputs": [
    {
     "data": {
      "text/plain": [
       "23156"
      ]
     },
     "execution_count": 100,
     "metadata": {},
     "output_type": "execute_result"
    }
   ],
   "source": [
    "len(noun_adj_list)"
   ]
  },
  {
   "cell_type": "code",
   "execution_count": 101,
   "metadata": {},
   "outputs": [
    {
     "data": {
      "text/plain": [
       "['싹',\n",
       " '쓰리의',\n",
       " '린다',\n",
       " 'G',\n",
       " '제니',\n",
       " '청',\n",
       " '외',\n",
       " '셀럽',\n",
       " '공통',\n",
       " '메이크업',\n",
       " '룩',\n",
       " '스타',\n",
       " '뷰터뷰',\n",
       " '진행',\n",
       " '셀럽',\n",
       " '담당',\n",
       " '아티스트',\n",
       " '직접',\n",
       " '눈',\n",
       " '앞머리']"
      ]
     },
     "execution_count": 101,
     "metadata": {},
     "output_type": "execute_result"
    }
   ],
   "source": [
    "noun_adj_list[:20]"
   ]
  },
  {
   "cell_type": "code",
   "execution_count": 102,
   "metadata": {},
   "outputs": [
    {
     "data": {
      "text/plain": [
       "['싹', '쓰리의', '린다', 'G', '제니', '청', '외', '셀럽', '공통', '메이크업']"
      ]
     },
     "execution_count": 102,
     "metadata": {},
     "output_type": "execute_result"
    }
   ],
   "source": [
    "noun_adj_list[:10]"
   ]
  },
  {
   "cell_type": "code",
   "execution_count": 103,
   "metadata": {},
   "outputs": [],
   "source": [
    "ADFN_list= []\n",
    "for sentence1 in sentences_tag:\n",
    "    words = []\n",
    "    for word, tag in sentence1:\n",
    "        if tag in ['Adjective', 'Determiner','Foreign','Noun', 'Alpha']:\n",
    "            if word not in stop_words:\n",
    "                words.append(word)\n",
    "    ADFN_list.append(words)"
   ]
  },
  {
   "cell_type": "code",
   "execution_count": 104,
   "metadata": {},
   "outputs": [
    {
     "data": {
      "text/plain": [
       "297"
      ]
     },
     "execution_count": 104,
     "metadata": {},
     "output_type": "execute_result"
    }
   ],
   "source": [
    "len(ADFN_list)"
   ]
  },
  {
   "cell_type": "code",
   "execution_count": 124,
   "metadata": {},
   "outputs": [
    {
     "data": {
      "text/plain": [
       "['제니',\n",
       " '투톤헤어',\n",
       " '단시간',\n",
       " '기분',\n",
       " '전환',\n",
       " '염색',\n",
       " '투톤',\n",
       " '헤어',\n",
       " '추천',\n",
       " '헤어',\n",
       " '탑',\n",
       " '코트',\n",
       " '헤어',\n",
       " '초크',\n",
       " '활용',\n",
       " '셀',\n",
       " '프로도',\n",
       " '있고',\n",
       " '얼룩덜룩함',\n",
       " '나름',\n",
       " '매력',\n",
       " '있기',\n",
       " '머리카락',\n",
       " '끝',\n",
       " '색',\n",
       " '달리',\n",
       " '투톤헤어',\n",
       " '자연스러운',\n",
       " '스타일',\n",
       " '제니',\n",
       " '브릿지',\n",
       " '염색',\n",
       " '시도',\n",
       " '방법',\n",
       " '출처',\n",
       " '헤어',\n",
       " '컬러',\n",
       " '피부색',\n",
       " '달라',\n",
       " '기분',\n",
       " '전환',\n",
       " '일등',\n",
       " '공신',\n",
       " '헤어',\n",
       " '염색',\n",
       " '컬러',\n",
       " '대세']"
      ]
     },
     "execution_count": 124,
     "metadata": {},
     "output_type": "execute_result"
    }
   ],
   "source": [
    "ADFN_list[80]"
   ]
  },
  {
   "cell_type": "code",
   "execution_count": 106,
   "metadata": {},
   "outputs": [],
   "source": [
    "mag_je['ADFN'] = ADFN_list"
   ]
  },
  {
   "cell_type": "code",
   "execution_count": null,
   "metadata": {},
   "outputs": [],
   "source": []
  },
  {
   "cell_type": "markdown",
   "metadata": {},
   "source": [
    "### 선별된 품사별 빈도수 계산 & 상위 빈도 10위까지 출력"
   ]
  },
  {
   "cell_type": "code",
   "execution_count": 107,
   "metadata": {
    "scrolled": true
   },
   "outputs": [
    {
     "name": "stdout",
     "output_type": "stream",
     "text": [
      "[('제니', 748), ('스타일', 197), ('패션', 192), ('컬러', 187), ('CHANEL', 167), ('룩', 151), ('헤어', 145), ('스타', 132), ('블랙', 113), ('매치', 112), ('포인트', 104), ('모습', 97), ('일링', 84), ('브랜드', 77), ('완성', 76), ('앞머리', 75), ('팬츠', 75), ('매력', 73), ('그녀', 73), ('메이크업', 71), ('아이템', 69), ('화이트', 69), ('입술', 68), ('분위기', 67), ('재킷', 66), ('걸', 64), ('톱', 61), ('머리', 61), ('패턴', 60), ('착용', 59), ('생각', 58), ('말', 58), ('레드', 57), ('화보', 56), ('선택', 55), ('제품', 55), ('얼굴', 54), ('공개', 54), ('눈', 53), ('니트', 53), ('데님', 50), ('카디건', 50), ('멤버', 50), ('핑크', 48), ('선글라스', 48), ('무드', 48), ('무대', 48), ('백', 47), ('공항', 47), ('밴드', 46), ('디자인', 46), ('느낌', 44), ('장식', 44), ('라인', 44), ('컬렉션', 43), ('드레스', 41), ('시작', 40), ('액세서리', 40), ('미니', 40), ('그룹', 40), ('팬', 39), ('트', 38), ('소화', 38), ('립', 38), ('활용', 37), ('티셔츠', 37), ('앨범', 37), ('첫', 37), ('시크', 36), ('티', 36), ('참석', 36), ('투어', 36), ('위드', 35), ('감', 34), ('촬영', 34), ('모델', 34), ('강조', 33), ('원피스', 33), ('크롭트', 33), ('리본', 33), ('블리치', 33), ('영상', 32), ('여성', 32), ('없는', 32), ('톤', 32), ('마무리', 32), ('체크', 31), ('클래식', 31), ('가방', 31), ('인스타그램', 31), ('강렬한', 30), ('시선', 30), ('사랑', 30), ('주얼리', 30), ('곡', 30), ('여름', 30), ('파리', 30), ('코트', 30), ('뮤직비디오', 29), ('일리', 29), ('스타일리시', 29), ('위해', 28), ('새로운', 28), ('다양한', 28), ('오후', 28), ('셔츠', 28), ('스커트', 28), ('활동', 28), ('탈색', 28), ('탑', 28), ('음악', 28), ('사랑스러운', 27), ('소녀', 27), ('화려한', 27), ('전체', 26), ('한국', 26), ('이미지', 26), ('디자이너', 26), ('섀도', 25), ('아이돌', 25), ('트렌드', 25), ('소재', 25), ('좋은', 25), ('진행', 24), ('화제', 24), ('블루', 24), ('빈티', 24), ('인간', 24), ('데뷔', 24), ('표현', 24), ('벨벳', 24), ('스트라이프', 24), ('월드', 24), ('컴백', 24), ('귀여운', 24), ('누드', 24), ('아티스트', 23), ('감성', 23), ('관심', 23), ('주얼', 23), ('한', 23), ('양', 23), ('여러', 23), ('K', 23), ('출국', 23), ('가지', 22), ('있을', 22), ('옷', 22), ('세계', 22), ('솔로', 22), ('노래', 22), ('쇼', 22), ('하이', 22), ('자연스러운', 22), ('아이콘', 22), ('스', 22), ('콘서트', 22), ('코코', 22), ('산드로', 22), ('국제공항', 22), ('사용', 21), ('이유', 21), ('볼륨', 21), ('심플', 21), ('센스', 21), ('스니커즈', 21), ('S', 21), ('변신', 21), ('도', 21), ('일상', 21), ('걸그룹', 21), ('필러', 21), ('도전', 20), ('캐', 20), ('봄', 20), ('웨어', 20), ('핀', 20), ('헤라', 20), ('흰', 20), ('글', 20), ('그런', 20), ('블라우스', 20), ('피부', 20), ('인천', 20), ('효과', 19), ('유행', 19), ('안', 19), ('브라운', 19), ('점', 19), ('시도', 19), ('크롭', 19), ('과감', 19), ('더해', 19), ('모양', 19), ('움', 19), ('공연', 19), ('진주', 19), ('정말', 19), ('센슈얼', 19), ('부츠', 19)]\n"
     ]
    }
   ],
   "source": [
    "word = Counter(noun_adj_list)\n",
    "print(word.most_common(200))"
   ]
  },
  {
   "cell_type": "code",
   "execution_count": 108,
   "metadata": {},
   "outputs": [],
   "source": [
    "# # 한 글자인 단어는 제외\n",
    "\n",
    "# for i, v in enumerate(noun_adj_list):\n",
    "#     if len(v)<2:\n",
    "#         noun_adj_list.pop(i)"
   ]
  },
  {
   "cell_type": "code",
   "execution_count": 109,
   "metadata": {},
   "outputs": [],
   "source": [
    "count = Counter(noun_adj_list)"
   ]
  },
  {
   "cell_type": "code",
   "execution_count": 110,
   "metadata": {},
   "outputs": [
    {
     "name": "stdout",
     "output_type": "stream",
     "text": [
      "('제니', 748)\n",
      "('스타일', 197)\n",
      "('패션', 192)\n",
      "('컬러', 187)\n",
      "('CHANEL', 167)\n",
      "('룩', 151)\n",
      "('헤어', 145)\n",
      "('스타', 132)\n",
      "('블랙', 113)\n",
      "('매치', 112)\n",
      "('포인트', 104)\n",
      "('모습', 97)\n",
      "('일링', 84)\n",
      "('브랜드', 77)\n",
      "('완성', 76)\n",
      "('앞머리', 75)\n",
      "('팬츠', 75)\n",
      "('매력', 73)\n",
      "('그녀', 73)\n",
      "('메이크업', 71)\n",
      "('아이템', 69)\n",
      "('화이트', 69)\n",
      "('입술', 68)\n",
      "('분위기', 67)\n",
      "('재킷', 66)\n",
      "('걸', 64)\n",
      "('톱', 61)\n",
      "('머리', 61)\n",
      "('패턴', 60)\n",
      "('착용', 59)\n",
      "('생각', 58)\n",
      "('말', 58)\n",
      "('레드', 57)\n",
      "('화보', 56)\n",
      "('선택', 55)\n",
      "('제품', 55)\n",
      "('얼굴', 54)\n",
      "('공개', 54)\n",
      "('눈', 53)\n",
      "('니트', 53)\n",
      "('데님', 50)\n",
      "('카디건', 50)\n",
      "('멤버', 50)\n",
      "('핑크', 48)\n",
      "('선글라스', 48)\n",
      "('무드', 48)\n",
      "('무대', 48)\n",
      "('백', 47)\n",
      "('공항', 47)\n",
      "('밴드', 46)\n",
      "('디자인', 46)\n",
      "('느낌', 44)\n",
      "('장식', 44)\n",
      "('라인', 44)\n",
      "('컬렉션', 43)\n",
      "('드레스', 41)\n",
      "('시작', 40)\n",
      "('액세서리', 40)\n",
      "('미니', 40)\n",
      "('그룹', 40)\n",
      "('팬', 39)\n",
      "('트', 38)\n",
      "('소화', 38)\n",
      "('립', 38)\n",
      "('활용', 37)\n",
      "('티셔츠', 37)\n",
      "('앨범', 37)\n",
      "('첫', 37)\n",
      "('시크', 36)\n",
      "('티', 36)\n",
      "('참석', 36)\n",
      "('투어', 36)\n",
      "('위드', 35)\n",
      "('감', 34)\n",
      "('촬영', 34)\n",
      "('모델', 34)\n",
      "('강조', 33)\n",
      "('원피스', 33)\n",
      "('크롭트', 33)\n",
      "('리본', 33)\n",
      "('블리치', 33)\n",
      "('영상', 32)\n",
      "('여성', 32)\n",
      "('없는', 32)\n",
      "('톤', 32)\n",
      "('마무리', 32)\n",
      "('체크', 31)\n",
      "('클래식', 31)\n",
      "('가방', 31)\n",
      "('인스타그램', 31)\n",
      "('강렬한', 30)\n",
      "('시선', 30)\n",
      "('사랑', 30)\n",
      "('주얼리', 30)\n",
      "('곡', 30)\n",
      "('여름', 30)\n",
      "('파리', 30)\n",
      "('코트', 30)\n",
      "('뮤직비디오', 29)\n",
      "('일리', 29)\n",
      "('스타일리시', 29)\n",
      "('위해', 28)\n",
      "('새로운', 28)\n",
      "('다양한', 28)\n",
      "('오후', 28)\n",
      "('셔츠', 28)\n",
      "('스커트', 28)\n",
      "('활동', 28)\n",
      "('탈색', 28)\n",
      "('탑', 28)\n",
      "('음악', 28)\n",
      "('사랑스러운', 27)\n",
      "('소녀', 27)\n",
      "('화려한', 27)\n",
      "('전체', 26)\n",
      "('한국', 26)\n",
      "('이미지', 26)\n",
      "('디자이너', 26)\n",
      "('섀도', 25)\n",
      "('아이돌', 25)\n",
      "('트렌드', 25)\n",
      "('소재', 25)\n",
      "('좋은', 25)\n",
      "('진행', 24)\n",
      "('화제', 24)\n",
      "('블루', 24)\n",
      "('빈티', 24)\n",
      "('인간', 24)\n",
      "('데뷔', 24)\n",
      "('표현', 24)\n",
      "('벨벳', 24)\n",
      "('스트라이프', 24)\n",
      "('월드', 24)\n",
      "('컴백', 24)\n",
      "('귀여운', 24)\n",
      "('누드', 24)\n",
      "('아티스트', 23)\n",
      "('감성', 23)\n",
      "('관심', 23)\n",
      "('주얼', 23)\n",
      "('한', 23)\n",
      "('양', 23)\n",
      "('여러', 23)\n",
      "('K', 23)\n",
      "('출국', 23)\n",
      "('가지', 22)\n",
      "('있을', 22)\n",
      "('옷', 22)\n",
      "('세계', 22)\n",
      "('솔로', 22)\n",
      "('노래', 22)\n",
      "('쇼', 22)\n",
      "('하이', 22)\n",
      "('자연스러운', 22)\n",
      "('아이콘', 22)\n",
      "('스', 22)\n",
      "('콘서트', 22)\n",
      "('코코', 22)\n",
      "('산드로', 22)\n",
      "('국제공항', 22)\n",
      "('사용', 21)\n",
      "('이유', 21)\n",
      "('볼륨', 21)\n",
      "('심플', 21)\n",
      "('센스', 21)\n",
      "('스니커즈', 21)\n",
      "('S', 21)\n",
      "('변신', 21)\n",
      "('도', 21)\n",
      "('일상', 21)\n",
      "('걸그룹', 21)\n",
      "('필러', 21)\n",
      "('도전', 20)\n",
      "('캐', 20)\n",
      "('봄', 20)\n",
      "('웨어', 20)\n",
      "('핀', 20)\n",
      "('헤라', 20)\n",
      "('흰', 20)\n",
      "('글', 20)\n",
      "('그런', 20)\n",
      "('블라우스', 20)\n",
      "('피부', 20)\n",
      "('인천', 20)\n",
      "('효과', 19)\n",
      "('유행', 19)\n",
      "('안', 19)\n",
      "('브라운', 19)\n",
      "('점', 19)\n",
      "('시도', 19)\n",
      "('크롭', 19)\n",
      "('과감', 19)\n",
      "('더해', 19)\n",
      "('모양', 19)\n",
      "('움', 19)\n",
      "('공연', 19)\n",
      "('진주', 19)\n",
      "('정말', 19)\n",
      "('센슈얼', 19)\n",
      "('부츠', 19)\n"
     ]
    }
   ],
   "source": [
    "word_list = count.most_common(200)\n",
    "for v in word_list:\n",
    "    print(v)"
   ]
  },
  {
   "cell_type": "code",
   "execution_count": null,
   "metadata": {},
   "outputs": [],
   "source": []
  },
  {
   "cell_type": "markdown",
   "metadata": {},
   "source": [
    "## 워드클라우드 만들기"
   ]
  },
  {
   "cell_type": "code",
   "execution_count": 111,
   "metadata": {},
   "outputs": [],
   "source": [
    "\n",
    "import matplotlib.pyplot as plt"
   ]
  },
  {
   "cell_type": "markdown",
   "metadata": {},
   "source": [
    "### 패키지 설치 및 폰트 어쩌구"
   ]
  },
  {
   "cell_type": "code",
   "execution_count": 112,
   "metadata": {},
   "outputs": [
    {
     "name": "stdout",
     "output_type": "stream",
     "text": [
      "Malgun Gothic C:\\WINDOWS\\Fonts\\malgun.ttf\n",
      "Yu Gothic C:\\WINDOWS\\Fonts\\YuGothB.ttc\n",
      "HYGothic-Extra C:\\WINDOWS\\Fonts\\H2GTRE.TTF\n",
      "Franklin Gothic Medium C:\\WINDOWS\\Fonts\\framdit.ttf\n",
      "Malgun Gothic C:\\Windows\\Fonts\\malgunbd.ttf\n",
      "Yu Gothic C:\\Windows\\Fonts\\YuGothL.ttc\n",
      "Century Gothic C:\\Windows\\Fonts\\GOTHIC.TTF\n",
      "Yu Gothic C:\\Windows\\Fonts\\YuGothM.ttc\n",
      "Yu Gothic C:\\WINDOWS\\Fonts\\YuGothR.ttc\n",
      "MS Gothic C:\\WINDOWS\\Fonts\\msgothic.ttc\n",
      "HYGothic-Medium C:\\WINDOWS\\Fonts\\H2GTRM.TTF\n",
      "Malgun Gothic C:\\WINDOWS\\Fonts\\malgunsl.ttf\n",
      "Century Gothic C:\\Windows\\Fonts\\GOTHICI.TTF\n",
      "Century Gothic C:\\WINDOWS\\Fonts\\GOTHICBI.TTF\n",
      "Century Gothic C:\\Windows\\Fonts\\GOTHICB.TTF\n",
      "Franklin Gothic Medium C:\\WINDOWS\\Fonts\\framd.ttf\n"
     ]
    }
   ],
   "source": [
    "import matplotlib.font_manager as fm\n",
    "\n",
    "# 이용 가능한 폰트 중 '고딕'만 선별\n",
    "for font in fm.fontManager.ttflist:\n",
    "    if 'Gothic' in font.name:\n",
    "        print(font.name, font.fname)"
   ]
  },
  {
   "cell_type": "code",
   "execution_count": 113,
   "metadata": {},
   "outputs": [],
   "source": [
    "font_path = 'C:\\WINDOWS\\Fonts\\malgun.ttf'"
   ]
  },
  {
   "cell_type": "markdown",
   "metadata": {},
   "source": [
    "### wordcloud 그리기"
   ]
  },
  {
   "cell_type": "code",
   "execution_count": 114,
   "metadata": {},
   "outputs": [],
   "source": [
    "from wordcloud import WordCloud"
   ]
  },
  {
   "cell_type": "code",
   "execution_count": 115,
   "metadata": {},
   "outputs": [],
   "source": [
    "wc = WordCloud(font_path=font_path, background_color=\"white\", width=600, height=400)"
   ]
  },
  {
   "cell_type": "code",
   "execution_count": 116,
   "metadata": {},
   "outputs": [
    {
     "data": {
      "image/png": "[encoded data removed]",
      "text/plain": [
       "<Figure size 432x288 with 1 Axes>"
      ]
     },
     "metadata": {
      "needs_background": "light"
     },
     "output_type": "display_data"
    },
    {
     "data": {
      "text/plain": [
       "<wordcloud.wordcloud.WordCloud at 0x112d5cb1548>"
      ]
     },
     "execution_count": 116,
     "metadata": {},
     "output_type": "execute_result"
    }
   ],
   "source": [
    "wc.generate_from_frequencies(dict(word_list))\n",
    "\n",
    "plt.imshow(wc) \n",
    "plt.axis('off') \n",
    "plt.show()\n",
    "\n",
    "\n",
    "wc.to_file('jenny_adj_twitter.png')"
   ]
  },
  {
   "cell_type": "code",
   "execution_count": 117,
   "metadata": {},
   "outputs": [],
   "source": [
    "mag_je.to_csv('./magazine/final/mag_je_adfn.csv', sep ='|', encoding = 'utf-8', index = False)"
   ]
  },
  {
   "cell_type": "code",
   "execution_count": null,
   "metadata": {},
   "outputs": [],
   "source": []
  },
  {
   "cell_type": "code",
   "execution_count": null,
   "metadata": {},
   "outputs": [],
   "source": []
  },
  {
   "cell_type": "code",
   "execution_count": 248,
   "metadata": {},
   "outputs": [],
   "source": [
    "mag_JECH = mag_je[['magazine', 'brand', 'title', 'link', 'date', 'word_jenny', 'ADFN']]"
   ]
  },
  {
   "cell_type": "code",
   "execution_count": 249,
   "metadata": {},
   "outputs": [],
   "source": [
    "mag_JECH.to_csv('./magazine/final/mag_JECH.csv', sep = '|', encoding = 'utf-8', index = False)"
   ]
  },
  {
   "cell_type": "code",
   "execution_count": null,
   "metadata": {},
   "outputs": [],
   "source": []
  },
  {
   "cell_type": "code",
   "execution_count": 46,
   "metadata": {},
   "outputs": [],
   "source": [
    "jennytop200 = pd.DataFrame(word_list)"
   ]
  },
  {
   "cell_type": "code",
   "execution_count": 48,
   "metadata": {},
   "outputs": [],
   "source": [
    "jennytop200.columns = ['word', 'count']"
   ]
  },
  {
   "cell_type": "code",
   "execution_count": 49,
   "metadata": {},
   "outputs": [
    {
     "data": {
      "text/html": [
       "<div>\n",
       "<style scoped>\n",
       "    .dataframe tbody tr th:only-of-type {\n",
       "        vertical-align: middle;\n",
       "    }\n",
       "\n",
       "    .dataframe tbody tr th {\n",
       "        vertical-align: top;\n",
       "    }\n",
       "\n",
       "    .dataframe thead th {\n",
       "        text-align: right;\n",
       "    }\n",
       "</style>\n",
       "<table border=\"1\" class=\"dataframe\">\n",
       "  <thead>\n",
       "    <tr style=\"text-align: right;\">\n",
       "      <th></th>\n",
       "      <th>word</th>\n",
       "      <th>count</th>\n",
       "    </tr>\n",
       "  </thead>\n",
       "  <tbody>\n",
       "    <tr>\n",
       "      <th>0</th>\n",
       "      <td>제니</td>\n",
       "      <td>748</td>\n",
       "    </tr>\n",
       "    <tr>\n",
       "      <th>1</th>\n",
       "      <td>BLACKPINK</td>\n",
       "      <td>327</td>\n",
       "    </tr>\n",
       "    <tr>\n",
       "      <th>2</th>\n",
       "      <td>스타일</td>\n",
       "      <td>197</td>\n",
       "    </tr>\n",
       "    <tr>\n",
       "      <th>3</th>\n",
       "      <td>패션</td>\n",
       "      <td>192</td>\n",
       "    </tr>\n",
       "    <tr>\n",
       "      <th>4</th>\n",
       "      <td>컬러</td>\n",
       "      <td>187</td>\n",
       "    </tr>\n",
       "    <tr>\n",
       "      <th>...</th>\n",
       "      <td>...</td>\n",
       "      <td>...</td>\n",
       "    </tr>\n",
       "    <tr>\n",
       "      <th>195</th>\n",
       "      <td>지난</td>\n",
       "      <td>22</td>\n",
       "    </tr>\n",
       "    <tr>\n",
       "      <th>196</th>\n",
       "      <td>국제공항</td>\n",
       "      <td>22</td>\n",
       "    </tr>\n",
       "    <tr>\n",
       "      <th>197</th>\n",
       "      <td>뒤</td>\n",
       "      <td>21</td>\n",
       "    </tr>\n",
       "    <tr>\n",
       "      <th>198</th>\n",
       "      <td>준</td>\n",
       "      <td>21</td>\n",
       "    </tr>\n",
       "    <tr>\n",
       "      <th>199</th>\n",
       "      <td>사용</td>\n",
       "      <td>21</td>\n",
       "    </tr>\n",
       "  </tbody>\n",
       "</table>\n",
       "<p>200 rows × 2 columns</p>\n",
       "</div>"
      ],
      "text/plain": [
       "          word  count\n",
       "0           제니    748\n",
       "1    BLACKPINK    327\n",
       "2          스타일    197\n",
       "3           패션    192\n",
       "4           컬러    187\n",
       "..         ...    ...\n",
       "195         지난     22\n",
       "196       국제공항     22\n",
       "197          뒤     21\n",
       "198          준     21\n",
       "199         사용     21\n",
       "\n",
       "[200 rows x 2 columns]"
      ]
     },
     "execution_count": 49,
     "metadata": {},
     "output_type": "execute_result"
    }
   ],
   "source": [
    "jennytop200"
   ]
  },
  {
   "cell_type": "code",
   "execution_count": 51,
   "metadata": {},
   "outputs": [],
   "source": [
    "jennytop200.to_csv('./magazine/final/jennytop200.csv', sep='|', encoding = 'utf-8', index = False)"
   ]
  },
  {
   "cell_type": "code",
   "execution_count": null,
   "metadata": {},
   "outputs": [],
   "source": []
  },
  {
   "cell_type": "code",
   "execution_count": null,
   "metadata": {},
   "outputs": [],
   "source": []
  },
  {
   "cell_type": "code",
   "execution_count": null,
   "metadata": {},
   "outputs": [],
   "source": []
  },
  {
   "cell_type": "code",
   "execution_count": null,
   "metadata": {},
   "outputs": [],
   "source": []
  },
  {
   "cell_type": "code",
   "execution_count": null,
   "metadata": {},
   "outputs": [],
   "source": []
  }
 ],
 "metadata": {
  "kernelspec": {
   "display_name": "Python 3",
   "language": "python",
   "name": "python3"
  },
  "language_info": {
   "codemirror_mode": {
    "name": "ipython",
    "version": 3
   },
   "file_extension": ".py",
   "mimetype": "text/x-python",
   "name": "python",
   "nbconvert_exporter": "python",
   "pygments_lexer": "ipython3",
   "version": "3.7.6"
  }
 },
 "nbformat": 4,
 "nbformat_minor": 2
}
