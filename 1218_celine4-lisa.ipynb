{
 "cells": [
  {
   "cell_type": "code",
   "execution_count": 2,
   "metadata": {},
   "outputs": [],
   "source": [
    "import pandas as pd\n",
    "import numpy as np\n",
    "import re\n",
    "import networkx as nx\n",
    "import matplotlib.pyplot as plt"
   ]
  },
  {
   "cell_type": "code",
   "execution_count": 3,
   "metadata": {},
   "outputs": [],
   "source": [
    "from collections import Counter"
   ]
  },
  {
   "cell_type": "markdown",
   "metadata": {},
   "source": [
    "## 셀린느"
   ]
  },
  {
   "cell_type": "code",
   "execution_count": 4,
   "metadata": {},
   "outputs": [],
   "source": [
    "mag_ce = pd.read_csv('./magazine/final/magazine_ce_stickword.csv', sep ='|', encoding = 'utf-8')"
   ]
  },
  {
   "cell_type": "code",
   "execution_count": 5,
   "metadata": {},
   "outputs": [
    {
     "data": {
      "text/html": [
       "<div>\n",
       "<style scoped>\n",
       "    .dataframe tbody tr th:only-of-type {\n",
       "        vertical-align: middle;\n",
       "    }\n",
       "\n",
       "    .dataframe tbody tr th {\n",
       "        vertical-align: top;\n",
       "    }\n",
       "\n",
       "    .dataframe thead th {\n",
       "        text-align: right;\n",
       "    }\n",
       "</style>\n",
       "<table border=\"1\" class=\"dataframe\">\n",
       "  <thead>\n",
       "    <tr style=\"text-align: right;\">\n",
       "      <th></th>\n",
       "      <th>magazine</th>\n",
       "      <th>brand</th>\n",
       "      <th>title</th>\n",
       "      <th>link</th>\n",
       "      <th>date</th>\n",
       "      <th>word_celine</th>\n",
       "      <th>ADFN</th>\n",
       "      <th>ADFN_2</th>\n",
       "    </tr>\n",
       "  </thead>\n",
       "  <tbody>\n",
       "    <tr>\n",
       "      <th>0</th>\n",
       "      <td>A</td>\n",
       "      <td>Ce</td>\n",
       "      <td>코트 체크</td>\n",
       "      <td>http://www.allurekorea.com/2020/11/10/%ec%bd%9...</td>\n",
       "      <td>2020-11-10</td>\n",
       "      <td>골드 잠금 장식으로 포인트를 준 케이프 체크 코트는 1백9만원, 산드로(SANDRO...</td>\n",
       "      <td>['골드', '장식', '포인트', '준', '케이프', '체크', '코트', '백...</td>\n",
       "      <td>['골드', '장식', '포인트', '준', '케이프', '체크', '코트', '백...</td>\n",
       "    </tr>\n",
       "    <tr>\n",
       "      <th>1</th>\n",
       "      <td>A</td>\n",
       "      <td>Ce</td>\n",
       "      <td>데님이여 영원하라</td>\n",
       "      <td>http://www.allurekorea.com/2020/11/06/%eb%8d%b...</td>\n",
       "      <td>2020-11-06</td>\n",
       "      <td>빈티지한 주름과 워싱이 특징인 데님 팬츠는 가격미정, CELINE(CELINE).</td>\n",
       "      <td>['빈티', '한', '주름', '워싱', '특징', '데님', '팬츠', 'CEL...</td>\n",
       "      <td>['빈티지', '한', '주름', '워싱', '특징', '데님', '팬츠', 'CE...</td>\n",
       "    </tr>\n",
       "    <tr>\n",
       "      <th>2</th>\n",
       "      <td>A</td>\n",
       "      <td>Ce</td>\n",
       "      <td>남자 백’까지 갖고 싶어</td>\n",
       "      <td>http://www.allurekorea.com/2020/11/04/%eb%82%a...</td>\n",
       "      <td>2020-11-04</td>\n",
       "      <td>1970년대 에스닉한 분위기가 물씬 풍기는 CELINE의 방패 모양 숄더백.</td>\n",
       "      <td>['대', '에스', '닉', '분위기', '물씬', 'CELINE', '방패', ...</td>\n",
       "      <td>['대', 에스닉, '분위기', '물씬', 'CELINE', '방패', '모양', ...</td>\n",
       "    </tr>\n",
       "    <tr>\n",
       "      <th>3</th>\n",
       "      <td>A</td>\n",
       "      <td>Ce</td>\n",
       "      <td>예림-예리</td>\n",
       "      <td>http://www.allurekorea.com/2020/11/03/%ec%98%8...</td>\n",
       "      <td>2020-11-03</td>\n",
       "      <td>재킷, 셔츠, 슈즈는 CELINE(CELINE), 블랙 스커트는 렉토, 이어링은 스...</td>\n",
       "      <td>['재킷', '셔츠', '슈즈', 'CELINE', 'CELINE', '블랙', '...</td>\n",
       "      <td>['재킷', '셔츠', '슈즈', 'CELINE', 'CELINE', '블랙', '...</td>\n",
       "    </tr>\n",
       "    <tr>\n",
       "      <th>4</th>\n",
       "      <td>A</td>\n",
       "      <td>Ce</td>\n",
       "      <td>GOOD TIME, 헨리</td>\n",
       "      <td>http://www.allurekorea.com/2020/10/26/good-tim...</td>\n",
       "      <td>2020-10-26</td>\n",
       "      <td>재킷, 셔츠, 네크리스는 모두 CELINE(CELINE), 팬츠는 다잉브리드, 슈즈...</td>\n",
       "      <td>['재킷', '셔츠', '크리스', 'CELINE', 'CELINE', '팬츠', ...</td>\n",
       "      <td>['재킷', '셔츠', '크리스', 'CELINE', 'CELINE', '팬츠', ...</td>\n",
       "    </tr>\n",
       "    <tr>\n",
       "      <th>...</th>\n",
       "      <td>...</td>\n",
       "      <td>...</td>\n",
       "      <td>...</td>\n",
       "      <td>...</td>\n",
       "      <td>...</td>\n",
       "      <td>...</td>\n",
       "      <td>...</td>\n",
       "      <td>...</td>\n",
       "    </tr>\n",
       "    <tr>\n",
       "      <th>759</th>\n",
       "      <td>W</td>\n",
       "      <td>Ce</td>\n",
       "      <td>G의 역습</td>\n",
       "      <td>http://www.wkorea.com/2016/11/15/g%ec%9d%98-%e...</td>\n",
       "      <td>2016-11-15</td>\n",
       "      <td>마야 셀리아 샐리(MAYA CELIA SALLY)N2017 S/S CELINE의 쇼...</td>\n",
       "      <td>['마야', '셀', '리아', 'Maya', 'Celia', 'Sally', 'S...</td>\n",
       "      <td>['마야', '셀', '리아', 'Maya', 'Celia', 'Sally', SS...</td>\n",
       "    </tr>\n",
       "    <tr>\n",
       "      <th>760</th>\n",
       "      <td>W</td>\n",
       "      <td>Ce</td>\n",
       "      <td>잊지 마 2</td>\n",
       "      <td>http://www.wkorea.com/2016/09/28/%ec%9e%8a%ec%...</td>\n",
       "      <td>2016-09-28</td>\n",
       "      <td>코리아 파워, 록(ROKH)N지난해 S/S에 파리에서 데뷔한 32세 한국 디자이너 ...</td>\n",
       "      <td>['코리아', '파워', '록', 'Rokh', '지난해', 'S', 'S', '파...</td>\n",
       "      <td>['코리아', '파워', '록', 'Rokh', '지난해', SS, '파리', '데...</td>\n",
       "    </tr>\n",
       "    <tr>\n",
       "      <th>761</th>\n",
       "      <td>W</td>\n",
       "      <td>Ce</td>\n",
       "      <td>사고 말겠어!</td>\n",
       "      <td>http://www.wkorea.com/2016/09/21/%ec%82%ac%ea%...</td>\n",
       "      <td>2016-09-21</td>\n",
       "      <td>패션 에디터 김신N가을이 다가오니 괜스레 감상적이 된다. 정제된 보헤미안 감성과 함...</td>\n",
       "      <td>['패션', '에디터', '김신', '가을', '괜스레', '감상', '정제', '...</td>\n",
       "      <td>['패션', '에디터', '김신', '가을', '괜스레', '감상', '정제', '...</td>\n",
       "    </tr>\n",
       "    <tr>\n",
       "      <th>762</th>\n",
       "      <td>W</td>\n",
       "      <td>Ce</td>\n",
       "      <td>남다르게</td>\n",
       "      <td>http://www.wkorea.com/2016/09/08/%eb%82%a8%eb%...</td>\n",
       "      <td>2016-09-08</td>\n",
       "      <td>허리에 가방N주머니인 듯 아닌 듯, 벨트인 듯 아닌 듯 허리 가방’에 새로운 생명을...</td>\n",
       "      <td>['허리', '가방', '주머니', '듯', '아닌', '듯', '벨트', '듯',...</td>\n",
       "      <td>['허리', '가방', '주머니', '듯', '아닌', '듯', '벨트', '듯',...</td>\n",
       "    </tr>\n",
       "    <tr>\n",
       "      <th>763</th>\n",
       "      <td>W</td>\n",
       "      <td>Ce</td>\n",
       "      <td>너도 나도 베트멍</td>\n",
       "      <td>http://www.wkorea.com/2016/09/01/%eb%84%88%eb%...</td>\n",
       "      <td>2016-09-01</td>\n",
       "      <td>CELINE 디옹N나이 만48세N직업 세계적인 디바N평소 스타일 얼마 전까진 클래식...</td>\n",
       "      <td>['CELINE', '디옹', '나이', '만', '세', '직업', '세계', '...</td>\n",
       "      <td>['CELINE', '디옹', '나이', '만', '세', '직업', '세계', '...</td>\n",
       "    </tr>\n",
       "  </tbody>\n",
       "</table>\n",
       "<p>764 rows × 8 columns</p>\n",
       "</div>"
      ],
      "text/plain": [
       "    magazine brand          title  \\\n",
       "0          A    Ce          코트 체크   \n",
       "1          A    Ce      데님이여 영원하라   \n",
       "2          A    Ce  남자 백’까지 갖고 싶어   \n",
       "3          A    Ce          예림-예리   \n",
       "4          A    Ce  GOOD TIME, 헨리   \n",
       "..       ...   ...            ...   \n",
       "759        W    Ce          G의 역습   \n",
       "760        W    Ce         잊지 마 2   \n",
       "761        W    Ce        사고 말겠어!   \n",
       "762        W    Ce           남다르게   \n",
       "763        W    Ce      너도 나도 베트멍   \n",
       "\n",
       "                                                  link        date  \\\n",
       "0    http://www.allurekorea.com/2020/11/10/%ec%bd%9...  2020-11-10   \n",
       "1    http://www.allurekorea.com/2020/11/06/%eb%8d%b...  2020-11-06   \n",
       "2    http://www.allurekorea.com/2020/11/04/%eb%82%a...  2020-11-04   \n",
       "3    http://www.allurekorea.com/2020/11/03/%ec%98%8...  2020-11-03   \n",
       "4    http://www.allurekorea.com/2020/10/26/good-tim...  2020-10-26   \n",
       "..                                                 ...         ...   \n",
       "759  http://www.wkorea.com/2016/11/15/g%ec%9d%98-%e...  2016-11-15   \n",
       "760  http://www.wkorea.com/2016/09/28/%ec%9e%8a%ec%...  2016-09-28   \n",
       "761  http://www.wkorea.com/2016/09/21/%ec%82%ac%ea%...  2016-09-21   \n",
       "762  http://www.wkorea.com/2016/09/08/%eb%82%a8%eb%...  2016-09-08   \n",
       "763  http://www.wkorea.com/2016/09/01/%eb%84%88%eb%...  2016-09-01   \n",
       "\n",
       "                                           word_celine  \\\n",
       "0    골드 잠금 장식으로 포인트를 준 케이프 체크 코트는 1백9만원, 산드로(SANDRO...   \n",
       "1        빈티지한 주름과 워싱이 특징인 데님 팬츠는 가격미정, CELINE(CELINE).   \n",
       "2           1970년대 에스닉한 분위기가 물씬 풍기는 CELINE의 방패 모양 숄더백.   \n",
       "3    재킷, 셔츠, 슈즈는 CELINE(CELINE), 블랙 스커트는 렉토, 이어링은 스...   \n",
       "4    재킷, 셔츠, 네크리스는 모두 CELINE(CELINE), 팬츠는 다잉브리드, 슈즈...   \n",
       "..                                                 ...   \n",
       "759  마야 셀리아 샐리(MAYA CELIA SALLY)N2017 S/S CELINE의 쇼...   \n",
       "760  코리아 파워, 록(ROKH)N지난해 S/S에 파리에서 데뷔한 32세 한국 디자이너 ...   \n",
       "761  패션 에디터 김신N가을이 다가오니 괜스레 감상적이 된다. 정제된 보헤미안 감성과 함...   \n",
       "762  허리에 가방N주머니인 듯 아닌 듯, 벨트인 듯 아닌 듯 허리 가방’에 새로운 생명을...   \n",
       "763  CELINE 디옹N나이 만48세N직업 세계적인 디바N평소 스타일 얼마 전까진 클래식...   \n",
       "\n",
       "                                                  ADFN  \\\n",
       "0    ['골드', '장식', '포인트', '준', '케이프', '체크', '코트', '백...   \n",
       "1    ['빈티', '한', '주름', '워싱', '특징', '데님', '팬츠', 'CEL...   \n",
       "2    ['대', '에스', '닉', '분위기', '물씬', 'CELINE', '방패', ...   \n",
       "3    ['재킷', '셔츠', '슈즈', 'CELINE', 'CELINE', '블랙', '...   \n",
       "4    ['재킷', '셔츠', '크리스', 'CELINE', 'CELINE', '팬츠', ...   \n",
       "..                                                 ...   \n",
       "759  ['마야', '셀', '리아', 'Maya', 'Celia', 'Sally', 'S...   \n",
       "760  ['코리아', '파워', '록', 'Rokh', '지난해', 'S', 'S', '파...   \n",
       "761  ['패션', '에디터', '김신', '가을', '괜스레', '감상', '정제', '...   \n",
       "762  ['허리', '가방', '주머니', '듯', '아닌', '듯', '벨트', '듯',...   \n",
       "763  ['CELINE', '디옹', '나이', '만', '세', '직업', '세계', '...   \n",
       "\n",
       "                                                ADFN_2  \n",
       "0    ['골드', '장식', '포인트', '준', '케이프', '체크', '코트', '백...  \n",
       "1    ['빈티지', '한', '주름', '워싱', '특징', '데님', '팬츠', 'CE...  \n",
       "2    ['대', 에스닉, '분위기', '물씬', 'CELINE', '방패', '모양', ...  \n",
       "3    ['재킷', '셔츠', '슈즈', 'CELINE', 'CELINE', '블랙', '...  \n",
       "4    ['재킷', '셔츠', '크리스', 'CELINE', 'CELINE', '팬츠', ...  \n",
       "..                                                 ...  \n",
       "759  ['마야', '셀', '리아', 'Maya', 'Celia', 'Sally', SS...  \n",
       "760  ['코리아', '파워', '록', 'Rokh', '지난해', SS, '파리', '데...  \n",
       "761  ['패션', '에디터', '김신', '가을', '괜스레', '감상', '정제', '...  \n",
       "762  ['허리', '가방', '주머니', '듯', '아닌', '듯', '벨트', '듯',...  \n",
       "763  ['CELINE', '디옹', '나이', '만', '세', '직업', '세계', '...  \n",
       "\n",
       "[764 rows x 8 columns]"
      ]
     },
     "execution_count": 5,
     "metadata": {},
     "output_type": "execute_result"
    }
   ],
   "source": [
    "mag_ce"
   ]
  },
  {
   "cell_type": "code",
   "execution_count": 6,
   "metadata": {},
   "outputs": [],
   "source": [
    "mag_ce['word'] = mag_ce['word_celine']"
   ]
  },
  {
   "cell_type": "code",
   "execution_count": 7,
   "metadata": {},
   "outputs": [],
   "source": [
    "mag_CE = mag_ce[['magazine', 'brand', 'title', 'word', 'ADFN', 'ADFN_2']]"
   ]
  },
  {
   "cell_type": "code",
   "execution_count": 8,
   "metadata": {},
   "outputs": [
    {
     "data": {
      "text/plain": [
       "764"
      ]
     },
     "execution_count": 8,
     "metadata": {},
     "output_type": "execute_result"
    }
   ],
   "source": [
    "len(mag_CE)"
   ]
  },
  {
   "cell_type": "markdown",
   "metadata": {},
   "source": [
    "### 4"
   ]
  },
  {
   "cell_type": "code",
   "execution_count": 9,
   "metadata": {},
   "outputs": [],
   "source": [
    "idx4 = []\n",
    "for i in range(len(mag_CE)):\n",
    "    if i % 4 == 0 :\n",
    "        idx4.append(i)"
   ]
  },
  {
   "cell_type": "code",
   "execution_count": 10,
   "metadata": {},
   "outputs": [],
   "source": [
    "mag_CE4 = mag_CE.loc[idx4]"
   ]
  },
  {
   "cell_type": "code",
   "execution_count": 11,
   "metadata": {},
   "outputs": [],
   "source": [
    "mag_CE4.reset_index(drop = True, inplace = True)"
   ]
  },
  {
   "cell_type": "code",
   "execution_count": 12,
   "metadata": {},
   "outputs": [
    {
     "data": {
      "text/plain": [
       "191"
      ]
     },
     "execution_count": 12,
     "metadata": {},
     "output_type": "execute_result"
    }
   ],
   "source": [
    "len(mag_CE4)"
   ]
  },
  {
   "cell_type": "code",
   "execution_count": null,
   "metadata": {},
   "outputs": [],
   "source": []
  },
  {
   "cell_type": "markdown",
   "metadata": {},
   "source": [
    "## 리사"
   ]
  },
  {
   "cell_type": "markdown",
   "metadata": {},
   "source": [
    "### 리사 (유튜브 + 매거진)"
   ]
  },
  {
   "cell_type": "code",
   "execution_count": 13,
   "metadata": {},
   "outputs": [],
   "source": [
    "tot_li = pd.read_csv('./magazine/final/video_lisa_adfn_2.csv', encoding = 'utf-8', sep = '|')"
   ]
  },
  {
   "cell_type": "code",
   "execution_count": 14,
   "metadata": {},
   "outputs": [],
   "source": [
    "tot_li['word'] = tot_li['word_lisa']"
   ]
  },
  {
   "cell_type": "code",
   "execution_count": 15,
   "metadata": {},
   "outputs": [],
   "source": [
    "tot_L = tot_li[['magazine', 'brand', 'title', 'word', 'ADFN', 'ADFN_2']]"
   ]
  },
  {
   "cell_type": "code",
   "execution_count": 16,
   "metadata": {},
   "outputs": [
    {
     "data": {
      "text/plain": [
       "197"
      ]
     },
     "execution_count": 16,
     "metadata": {},
     "output_type": "execute_result"
    }
   ],
   "source": [
    "len(tot_L)"
   ]
  },
  {
   "cell_type": "markdown",
   "metadata": {},
   "source": [
    "### 셀린느 + 리사"
   ]
  },
  {
   "cell_type": "code",
   "execution_count": 17,
   "metadata": {},
   "outputs": [],
   "source": [
    "CE4L = pd.concat([mag_CE4, tot_L])"
   ]
  },
  {
   "cell_type": "code",
   "execution_count": 18,
   "metadata": {},
   "outputs": [],
   "source": [
    "CE4L.reset_index(drop = True, inplace = True)"
   ]
  },
  {
   "cell_type": "code",
   "execution_count": 19,
   "metadata": {},
   "outputs": [],
   "source": [
    "CE4L.to_csv('./magazine/final/CE4L.csv', sep = '|', encoding = 'utf-8', index = False)"
   ]
  },
  {
   "cell_type": "code",
   "execution_count": 20,
   "metadata": {},
   "outputs": [
    {
     "data": {
      "text/plain": [
       "388"
      ]
     },
     "execution_count": 20,
     "metadata": {},
     "output_type": "execute_result"
    }
   ],
   "source": [
    "len(CE4L)"
   ]
  },
  {
   "cell_type": "markdown",
   "metadata": {},
   "source": [
    "## stopword 추가"
   ]
  },
  {
   "cell_type": "code",
   "execution_count": 21,
   "metadata": {},
   "outputs": [],
   "source": [
    "sw_df = pd.read_csv('stopwords.csv', header=None)"
   ]
  },
  {
   "cell_type": "code",
   "execution_count": 22,
   "metadata": {},
   "outputs": [],
   "source": [
    "sw_df.columns = ['stopword']"
   ]
  },
  {
   "cell_type": "code",
   "execution_count": 23,
   "metadata": {},
   "outputs": [],
   "source": [
    "stop_words = []\n",
    "for sw in sw_df['stopword']:\n",
    "    stop_words.append(sw)"
   ]
  },
  {
   "cell_type": "code",
   "execution_count": 24,
   "metadata": {},
   "outputs": [
    {
     "name": "stdout",
     "output_type": "stream",
     "text": [
      "675\n",
      "<class 'list'>\n"
     ]
    }
   ],
   "source": [
    "print(len(stop_words))\n",
    "print(type(stop_words))"
   ]
  },
  {
   "cell_type": "code",
   "execution_count": 25,
   "metadata": {},
   "outputs": [
    {
     "data": {
      "text/plain": [
       "['둘', '셋', '넷', '다섯', '여섯', '일곱', '여덟', '아홉', '령', '영']"
      ]
     },
     "execution_count": 25,
     "metadata": {},
     "output_type": "execute_result"
    }
   ],
   "source": [
    "stop_words[-10:]"
   ]
  },
  {
   "cell_type": "code",
   "execution_count": 26,
   "metadata": {},
   "outputs": [],
   "source": [
    "add_0 = ['해', '하는', '할', '한', '영상', '했다', '뭐', '넘', '수', '정말', '그냥', '보고', '있는',\n",
    "         '전소민', '공유', '양세찬', '항상', '다시', '통해', '한편', 'a', '공개', '자체', '형', '와중', '↑', '걸',\n",
    "         '있습니다', 'to', '아닌데', '있는데', '보기', '하다', '곤', '없어', '대한', '싶다', '명', '민','the',\n",
    "         '보니', '아는', '전', '진짜', '멤버', '잘', '모습', '발음', '제일', '기자', '데뷔', '아는', '택시', \n",
    "         '활동', '썸네일', '나도', '가사', '하네요', '길다', '보이는', '까', '없는데', '몰랐는데', '대해', \n",
    "         '보인다', '위해', '로서', '이수근', '보여', '있으면', '보다', '같네', '하자', '최수영', 'that', \n",
    "         '하며', '세찬', '않고', '됨', '오는', '사이', '아주', '진행', '채', '이자',\n",
    "        '진짜', '존나', '보고', '그냥', '카이', '이광수', '광수', '런닝맨', '❤️', '없는', '유재석', '❤', '♥', '있고', '거', \n",
    "         '내', '더', '개', '사람', '영상', '광고', '언니', '말', '뭐', '수', '생각',\n",
    "        '있는', '정말', '같은', '같음', '듯', '♡', '완전', '같아', '정도', '지금', '역시', '뭔가', '입니다', '때문', '아니라',\n",
    "         '함', '같은데', '해', '하는', '할', '넘', '한', '안', '했다', '보면', '데', '하고', '하면', '게', '해서', '봐도', \n",
    "         '한다', '된', '건', '요', '움', '임', '애', '하는거', '해도', '보는', '이제', '했는데', '하는데', '하는게', '같아요', \n",
    "         '합니다', '하지', '하게', '되는', 'I', '는', '난', '서', '도', '줄', '위', '분', '알', '은', '두', '번', '뒤',\n",
    "         '이건', '없다', '있어요', '아니고', '있어',\n",
    "        '계속', '원래', '뭘', '못', '후', '이름', '속', '욕', '옆', '하네', '아님', '그런', '된다', '있음',\n",
    "        '같', '돼', 'you', '제품', '표현', 'n', '봤는데', '건가', '나오는', '가지', '저런', '보이', '고',\n",
    "        '중', '사진', '댓글', '부분', '진심', '그녀', '보', '날', '겁나', '요즘', '앞', '워', '이유', '솔직히']\n",
    "for w in add_0:\n",
    "    stop_words.append(w)"
   ]
  },
  {
   "cell_type": "code",
   "execution_count": 27,
   "metadata": {},
   "outputs": [],
   "source": [
    "add_1 = ['BLACKPINK', '제니', '지수', '로제']\n",
    "for w in add_1:\n",
    "    stop_words.append(w)"
   ]
  },
  {
   "cell_type": "code",
   "execution_count": 28,
   "metadata": {},
   "outputs": [
    {
     "data": {
      "text/plain": [
       "899"
      ]
     },
     "execution_count": 28,
     "metadata": {},
     "output_type": "execute_result"
    }
   ],
   "source": [
    "len(stop_words)"
   ]
  },
  {
   "cell_type": "code",
   "execution_count": null,
   "metadata": {},
   "outputs": [],
   "source": []
  },
  {
   "cell_type": "code",
   "execution_count": 29,
   "metadata": {},
   "outputs": [],
   "source": [
    "CE4L['ADFN_2'] = CE4L['ADFN_2'].str.replace('[', '').str.replace(']', '').str.replace('\"', '').str.replace(\"'\", \"\").str.split(', ')"
   ]
  },
  {
   "cell_type": "code",
   "execution_count": 32,
   "metadata": {},
   "outputs": [],
   "source": [
    "noun_adj_list = []\n",
    "for i in range(len(CE4L)):\n",
    "    for word in CE4L.loc[i, 'ADFN_2']:\n",
    "        if word not in stop_words:\n",
    "            noun_adj_list.append(word)"
   ]
  },
  {
   "cell_type": "code",
   "execution_count": 33,
   "metadata": {},
   "outputs": [
    {
     "name": "stdout",
     "output_type": "stream",
     "text": [
      "[('리사', 3576), ('예쁘다', 676), ('귀엽다', 543), ('CELINE', 526), ('춤', 478), ('사랑', 331), ('패션', 283), ('랩', 276), ('한국', 258), ('영어', 248), ('브랜드', 230), ('노래', 224), ('컬렉션', 219), ('매력', 206), ('무대', 204), ('얼굴', 202), ('컬러', 180), ('아이돌', 178), ('SLIMANE', 173), ('HEDI', 172), ('태국', 170), ('룩', 162), ('중국', 160), ('한국어', 156), ('한국인', 146), ('가장', 143), ('느낌', 142), ('스타일', 140), ('비율', 133), ('표정', 133), ('블랙', 130), ('디자이너', 129), ('멋있다', 129), ('실력', 125), ('팬', 120), ('외국인', 118), ('여자', 117), ('눈', 115), ('시즌', 108), ('옷', 105), ('모델', 102), ('지난', 101), ('여성', 100), ('재킷', 99), ('팬츠', 98), ('최고', 98), ('머리', 95), ('드레스', 94), ('백', 92), ('남성', 91), ('영국', 91), ('연습생', 88), ('쇼', 87), ('봄', 86), ('호랑이', 86), ('아이템', 85), ('인기', 84), ('새로운', 82), ('매치', 82), ('좋은', 79), ('세계', 79), ('그룹', 79), ('예능', 79), ('디렉터', 77), ('파리', 76), ('프로', 75), ('분위기', 74), ('프라다', 73), ('다리', 73), ('처음', 73), ('대', 72), ('포인트', 71), ('PHOEBE', 71), ('PHILO', 71), ('스타', 71), ('스커트', 70), ('디자인', 70), ('앞머리', 70), ('첫', 70), ('장식', 67), ('LAURENT', 67), ('완성', 67), ('외국', 67), ('단발', 67), ('걸그룹', 67), ('태국인', 67), ('SAINT', 66), ('노력', 66), ('인형', 66), ('시작', 65), ('참석', 64), ('여름', 64), ('좋다', 64), ('카리스마', 62), ('YG', 62), ('대박', 61), ('코트', 60), ('복', 60), ('짱', 60), ('크리에이티브', 59), ('해외', 59), ('쌤', 59), ('데님', 58), ('한국말', 58), ('연출', 57), ('모든', 57), ('많은', 57), ('다양한', 56), ('이미지', 56), ('컴백', 56), ('간지', 56), ('선생님', 56), ('화이트', 55), ('라인', 55), ('셔츠', 53), ('목소리', 53), ('DIOR', 53), ('리', 53), ('우리나라', 53), ('매장', 52), ('스타일링', 52), ('세상', 51), ('좋아요', 51), ('톱', 50), ('부츠', 50), ('티셔츠', 50), ('시대', 50), ('반', 50), ('시크', 50), ('미쳤다', 50), ('연습', 50), ('화보', 49), ('마음', 49), ('음악', 49), ('메이크업', 49), ('FW', 49), ('성격', 49), ('클래식', 48), ('매우', 48), ('런웨이', 48), ('배', 48), ('콘서트', 48), ('CHANEL', 47), ('메인', 47), ('춤선', 47), ('소재', 46), ('레드', 46), ('점', 46), ('언어', 46), ('미국', 46), ('일본', 46), ('패턴', 45), ('있을', 45), ('개인', 45), ('나라', 45), ('개멋', 45), ('멋있어', 45), ('남자', 44), ('태국어', 44), ('댄스', 44), ('방송', 44), ('화장', 44), ('한번', 43), ('프로그램', 43), ('탑', 43), ('사기', 43), ('니트', 42), ('볼', 42), ('A', 42), ('최근', 42), ('버버리', 42), ('힘', 42), ('마지막', 42), ('좋아하는', 42), ('중국어', 42), ('로고', 41), ('기억', 41), ('실루엣', 41), ('확실히', 41), ('젤', 41), ('선택', 40), ('톤', 40), ('캠페인', 40), ('손', 40), ('시절', 40), ('인', 40), ('별', 40), ('촬영', 40), ('오늘', 40), ('곡', 40), ('미친', 40), ('회수', 40), ('라이브', 39), ('살', 39), ('젠', 39), ('가죽', 39), ('가수', 39), ('댄서', 39), ('제발', 39), ('제목', 39)]\n"
     ]
    }
   ],
   "source": [
    "word = Counter(noun_adj_list)\n",
    "print(word.most_common(200))"
   ]
  },
  {
   "cell_type": "code",
   "execution_count": 34,
   "metadata": {},
   "outputs": [],
   "source": [
    "count = Counter(noun_adj_list)"
   ]
  },
  {
   "cell_type": "code",
   "execution_count": 35,
   "metadata": {},
   "outputs": [
    {
     "name": "stdout",
     "output_type": "stream",
     "text": [
      "('리사', 3576)\n",
      "('예쁘다', 676)\n",
      "('귀엽다', 543)\n",
      "('CELINE', 526)\n",
      "('춤', 478)\n",
      "('사랑', 331)\n",
      "('패션', 283)\n",
      "('랩', 276)\n",
      "('한국', 258)\n",
      "('영어', 248)\n",
      "('브랜드', 230)\n",
      "('노래', 224)\n",
      "('컬렉션', 219)\n",
      "('매력', 206)\n",
      "('무대', 204)\n",
      "('얼굴', 202)\n",
      "('컬러', 180)\n",
      "('아이돌', 178)\n",
      "('SLIMANE', 173)\n",
      "('HEDI', 172)\n",
      "('태국', 170)\n",
      "('룩', 162)\n",
      "('중국', 160)\n",
      "('한국어', 156)\n",
      "('한국인', 146)\n",
      "('가장', 143)\n",
      "('느낌', 142)\n",
      "('스타일', 140)\n",
      "('비율', 133)\n",
      "('표정', 133)\n",
      "('블랙', 130)\n",
      "('디자이너', 129)\n",
      "('멋있다', 129)\n",
      "('실력', 125)\n",
      "('팬', 120)\n",
      "('외국인', 118)\n",
      "('여자', 117)\n",
      "('눈', 115)\n",
      "('시즌', 108)\n",
      "('옷', 105)\n",
      "('모델', 102)\n",
      "('지난', 101)\n",
      "('여성', 100)\n",
      "('재킷', 99)\n",
      "('팬츠', 98)\n",
      "('최고', 98)\n",
      "('머리', 95)\n",
      "('드레스', 94)\n",
      "('백', 92)\n",
      "('남성', 91)\n",
      "('영국', 91)\n",
      "('연습생', 88)\n",
      "('쇼', 87)\n",
      "('봄', 86)\n",
      "('호랑이', 86)\n",
      "('아이템', 85)\n",
      "('인기', 84)\n",
      "('새로운', 82)\n",
      "('매치', 82)\n",
      "('좋은', 79)\n",
      "('세계', 79)\n",
      "('그룹', 79)\n",
      "('예능', 79)\n",
      "('디렉터', 77)\n",
      "('파리', 76)\n",
      "('프로', 75)\n",
      "('분위기', 74)\n",
      "('프라다', 73)\n",
      "('다리', 73)\n",
      "('처음', 73)\n",
      "('대', 72)\n",
      "('포인트', 71)\n",
      "('PHOEBE', 71)\n",
      "('PHILO', 71)\n",
      "('스타', 71)\n",
      "('스커트', 70)\n",
      "('디자인', 70)\n",
      "('앞머리', 70)\n",
      "('첫', 70)\n",
      "('장식', 67)\n",
      "('LAURENT', 67)\n",
      "('완성', 67)\n",
      "('외국', 67)\n",
      "('단발', 67)\n",
      "('걸그룹', 67)\n",
      "('태국인', 67)\n",
      "('SAINT', 66)\n",
      "('노력', 66)\n",
      "('인형', 66)\n",
      "('시작', 65)\n",
      "('참석', 64)\n",
      "('여름', 64)\n",
      "('좋다', 64)\n",
      "('카리스마', 62)\n",
      "('YG', 62)\n",
      "('대박', 61)\n",
      "('코트', 60)\n",
      "('복', 60)\n",
      "('짱', 60)\n",
      "('크리에이티브', 59)\n",
      "('해외', 59)\n",
      "('쌤', 59)\n",
      "('데님', 58)\n",
      "('한국말', 58)\n",
      "('연출', 57)\n",
      "('모든', 57)\n",
      "('많은', 57)\n",
      "('다양한', 56)\n",
      "('이미지', 56)\n",
      "('컴백', 56)\n",
      "('간지', 56)\n",
      "('선생님', 56)\n",
      "('화이트', 55)\n",
      "('라인', 55)\n",
      "('셔츠', 53)\n",
      "('목소리', 53)\n",
      "('DIOR', 53)\n",
      "('리', 53)\n",
      "('우리나라', 53)\n",
      "('매장', 52)\n",
      "('스타일링', 52)\n",
      "('세상', 51)\n",
      "('좋아요', 51)\n",
      "('톱', 50)\n",
      "('부츠', 50)\n",
      "('티셔츠', 50)\n",
      "('시대', 50)\n",
      "('반', 50)\n",
      "('시크', 50)\n",
      "('미쳤다', 50)\n",
      "('연습', 50)\n",
      "('화보', 49)\n",
      "('마음', 49)\n",
      "('음악', 49)\n",
      "('메이크업', 49)\n",
      "('FW', 49)\n",
      "('성격', 49)\n",
      "('클래식', 48)\n",
      "('매우', 48)\n",
      "('런웨이', 48)\n",
      "('배', 48)\n",
      "('콘서트', 48)\n",
      "('CHANEL', 47)\n",
      "('메인', 47)\n",
      "('춤선', 47)\n",
      "('소재', 46)\n",
      "('레드', 46)\n",
      "('점', 46)\n",
      "('언어', 46)\n",
      "('미국', 46)\n",
      "('일본', 46)\n",
      "('패턴', 45)\n",
      "('있을', 45)\n",
      "('개인', 45)\n",
      "('나라', 45)\n",
      "('개멋', 45)\n",
      "('멋있어', 45)\n",
      "('남자', 44)\n",
      "('태국어', 44)\n",
      "('댄스', 44)\n",
      "('방송', 44)\n",
      "('화장', 44)\n",
      "('한번', 43)\n",
      "('프로그램', 43)\n",
      "('탑', 43)\n",
      "('사기', 43)\n",
      "('니트', 42)\n",
      "('볼', 42)\n",
      "('A', 42)\n",
      "('최근', 42)\n",
      "('버버리', 42)\n",
      "('힘', 42)\n",
      "('마지막', 42)\n",
      "('좋아하는', 42)\n",
      "('중국어', 42)\n",
      "('로고', 41)\n",
      "('기억', 41)\n",
      "('실루엣', 41)\n",
      "('확실히', 41)\n",
      "('젤', 41)\n",
      "('선택', 40)\n",
      "('톤', 40)\n",
      "('캠페인', 40)\n",
      "('손', 40)\n",
      "('시절', 40)\n",
      "('인', 40)\n",
      "('별', 40)\n",
      "('촬영', 40)\n",
      "('오늘', 40)\n",
      "('곡', 40)\n",
      "('미친', 40)\n",
      "('회수', 40)\n",
      "('라이브', 39)\n",
      "('살', 39)\n",
      "('젠', 39)\n",
      "('가죽', 39)\n",
      "('가수', 39)\n",
      "('댄서', 39)\n",
      "('제발', 39)\n",
      "('제목', 39)\n",
      "('형님', 39)\n",
      "('대표', 38)\n",
      "('키', 38)\n",
      "('노', 38)\n",
      "('활용', 37)\n",
      "('뉴욕', 37)\n",
      "('변화', 37)\n",
      "('롱', 37)\n",
      "('예정', 37)\n",
      "('찰떡', 37)\n",
      "('레전드', 37)\n",
      "('웃기', 37)\n",
      "('좋고', 36)\n",
      "('럭셔리', 36)\n",
      "('패션쇼', 36)\n",
      "('솔로', 36)\n",
      "('골드', 35)\n",
      "('핑크', 35)\n",
      "('무드', 35)\n",
      "('링', 35)\n",
      "('미니', 35)\n",
      "('자랑', 35)\n",
      "('에디', 35)\n",
      "('트렌드', 35)\n",
      "('관심', 35)\n",
      "('나나', 35)\n",
      "('좋겠다', 35)\n",
      "('좋음', 35)\n",
      "('유닛', 35)\n",
      "('입덕', 35)\n",
      "('연예인', 35)\n",
      "('보임', 35)\n",
      "('개국', 35)\n",
      "('가을', 34)\n",
      "('적', 34)\n",
      "('만', 34)\n",
      "('문화', 34)\n",
      "('수준', 34)\n",
      "('입', 34)\n",
      "('고마츠', 34)\n",
      "('사실', 34)\n",
      "('출국', 34)\n",
      "('하우스', 33)\n",
      "('감', 33)\n",
      "('감각', 33)\n",
      "('화', 33)\n",
      "('파워', 33)\n",
      "('스', 33)\n",
      "('소리', 33)\n",
      "('카메라', 33)\n",
      "('and', 33)\n",
      "('말투', 33)\n",
      "('가방', 32)\n",
      "('원피스', 32)\n",
      "('아티스트', 32)\n",
      "('인스타그램', 32)\n",
      "('친구', 32)\n",
      "('몸', 32)\n",
      "('집중', 32)\n",
      "('영감', 32)\n",
      "('꼭', 32)\n",
      "('베스트', 32)\n",
      "('현재', 32)\n",
      "('세', 32)\n",
      "('앨범', 32)\n",
      "('누가', 32)\n",
      "('아닌', 32)\n",
      "('래퍼', 32)\n",
      "('웃겨', 32)\n",
      "('하이', 31)\n",
      "('존재', 31)\n",
      "('사용', 31)\n",
      "('강렬한', 31)\n",
      "('얘기', 31)\n",
      "('액세서리', 31)\n",
      "('재', 31)\n",
      "('바', 31)\n",
      "('소화', 31)\n",
      "('차', 31)\n",
      "('곳', 31)\n",
      "('의상', 31)\n",
      "('비주얼', 31)\n",
      "('공식', 31)\n",
      "('캐', 31)\n",
      "('차이', 31)\n",
      "('외모', 31)\n",
      "('와이지', 31)\n",
      "('들어', 31)\n",
      "('얘', 31)\n",
      "('입은', 31)\n",
      "('구찌', 30)\n",
      "('리스트', 30)\n",
      "('비', 30)\n",
      "('끝', 30)\n",
      "('마무리', 30)\n",
      "('팀', 30)\n",
      "('시선', 30)\n",
      "('이후', 30)\n",
      "('축하', 30)\n",
      "('서로', 30)\n",
      "('평소', 30)\n",
      "('천재', 30)\n",
      "('EU', 30)\n",
      "('컨셉', 30)\n",
      "('큰', 30)\n",
      "('미모', 30)\n",
      "('동남아', 30)\n",
      "('사랑스러운', 29)\n",
      "('시도', 29)\n",
      "('LVMH', 29)\n",
      "('글', 29)\n",
      "('사이즈', 29)\n",
      "('마이클', 29)\n",
      "('자리', 29)\n",
      "('땐', 29)\n",
      "('몸매', 29)\n",
      "('브렉', 29)\n",
      "('시트', 29)\n",
      "('별로', 29)\n",
      "('돈', 29)\n",
      "('so', 29)\n",
      "('is', 29)\n",
      "('헤어', 28)\n",
      "('처럼', 28)\n",
      "('완벽한', 28)\n",
      "('드', 28)\n",
      "('온', 28)\n",
      "('순간', 28)\n",
      "('한글', 28)\n",
      "('센스', 28)\n",
      "('매니저', 28)\n",
      "('천사', 28)\n",
      "('웃음', 28)\n",
      "('김영철', 28)\n",
      "('프린트', 27)\n",
      "('선글라스', 27)\n",
      "('더욱', 27)\n",
      "('겨울', 27)\n",
      "('뿐', 27)\n",
      "('특유', 27)\n",
      "('동시', 27)\n",
      "('수트', 27)\n",
      "('버전', 27)\n",
      "('기분', 27)\n",
      "('집', 27)\n",
      "('화려한', 27)\n",
      "('누', 27)\n",
      "('일이', 27)\n",
      "('초', 27)\n",
      "('본', 27)\n",
      "('by', 26)\n",
      "('스트리트', 26)\n",
      "('막', 26)\n",
      "('반응', 26)\n",
      "('패션계', 26)\n",
      "('중요한', 26)\n",
      "('직접', 26)\n",
      "('터', 26)\n",
      "('제대로', 26)\n",
      "('부', 26)\n",
      "('올해', 26)\n",
      "('아빠', 26)\n",
      "('최애', 26)\n",
      "('썸넬', 26)\n",
      "('파트', 26)\n",
      "('쩐다', 26)\n",
      "('아시', 26)\n",
      "('꿍꿍', 26)\n",
      "('공항', 26)\n",
      "('벨트', 25)\n",
      "('사랑스럽다', 25)\n",
      "('어깨', 25)\n",
      "('월드', 25)\n",
      "('그대로', 25)\n",
      "('이야기', 25)\n",
      "('트', 25)\n",
      "('글로벌', 25)\n",
      "('발', 25)\n",
      "('기존', 25)\n",
      "('늘', 25)\n",
      "('아이콘', 25)\n",
      "('실제', 25)\n",
      "('채널', 25)\n",
      "('멋지다', 25)\n",
      "('맛', 25)\n",
      "('바비인형', 25)\n",
      "('블링크', 25)\n",
      "('유튜브', 25)\n",
      "('해야', 25)\n",
      "('게춤', 25)\n",
      "('윤정', 25)\n",
      "('꿍', 25)\n",
      "('블루', 24)\n",
      "('유행', 24)\n",
      "('방법', 24)\n",
      "('꽃', 24)\n",
      "('기', 24)\n",
      "('자주', 24)\n",
      "('출신', 24)\n",
      "('있어서', 24)\n",
      "('있게', 24)\n",
      "('작업', 24)\n",
      "('of', 24)\n",
      "('거리', 24)\n",
      "('답', 24)\n",
      "('니', 24)\n",
      "('이해', 24)\n",
      "('세대', 24)\n",
      "('티', 24)\n",
      "('없고', 24)\n",
      "('in', 24)\n",
      "('인생', 24)\n",
      "('명품', 24)\n",
      "('유럽', 24)\n",
      "('K', 24)\n",
      "('해주세요', 24)\n",
      "('졸라', 24)\n",
      "('응원', 24)\n",
      "('볼때', 24)\n",
      "('끼', 24)\n",
      "('돌려', 24)\n",
      "('제스처', 24)\n",
      "('공연', 24)\n",
      "('잘추고', 24)\n",
      "('없음', 24)\n",
      "('방콕', 24)\n",
      "('싶어요', 24)\n",
      "('코어스', 24)\n",
      "('바이', 23)\n",
      "('허리', 23)\n",
      "('오버', 23)\n",
      "('스카프', 23)\n",
      "('스키', 23)\n",
      "('지방시', 23)\n",
      "('테일러', 23)\n",
      "('라면', 23)\n",
      "('갑자기', 23)\n",
      "('꿈', 23)\n",
      "('전체', 23)\n",
      "('아름다운', 23)\n",
      "('길이', 23)\n",
      "('만큼', 23)\n",
      "('화제', 23)\n",
      "('런던', 23)\n",
      "('재능', 23)\n",
      "('준비', 23)\n",
      "('시장', 23)\n",
      "('d', 23)\n",
      "('단어', 23)\n",
      "('선생', 23)\n",
      "('수가', 23)\n",
      "('세인트', 23)\n",
      "('레더', 23)\n",
      "('지', 23)\n",
      "('예쁘네', 23)\n",
      "('될', 23)\n",
      "('알았는데', 23)\n",
      "('따', 23)\n",
      "('프듀', 23)\n",
      "('고생', 23)\n",
      "('헐', 23)\n",
      "('넼', 23)\n",
      "('동작', 23)\n",
      "('쟤', 23)\n",
      "('리액션', 23)\n",
      "('이어', 23)\n",
      "('엔터테인먼트', 23)\n",
      "('앤', 22)\n",
      "('리본', 22)\n",
      "('블라우스', 22)\n",
      "('체인', 22)\n",
      "('발표', 22)\n",
      "('코', 22)\n",
      "('옴므', 22)\n",
      "('음', 22)\n",
      "('피스', 22)\n",
      "('해석', 22)\n",
      "('울', 22)\n",
      "('본인', 22)\n",
      "('진', 22)\n",
      "('씨', 22)\n",
      "('유', 22)\n",
      "('패션위크', 22)\n",
      "('기대', 22)\n",
      "('국내', 22)\n",
      "('남', 22)\n",
      "('국적', 22)\n",
      "('조합', 22)\n",
      "('고급', 22)\n",
      "('중독', 22)\n",
      "('객', 22)\n",
      "('love', 22)\n",
      "('흑발', 22)\n",
      "('없네', 22)\n",
      "('왜케', 22)\n",
      "('강아지', 22)\n",
      "('막내', 22)\n",
      "('마노', 22)\n",
      "('쁘쁘', 22)\n",
      "('인성', 22)\n"
     ]
    }
   ],
   "source": [
    "word_list = count.most_common(500)\n",
    "for v in word_list:\n",
    "    print(v)"
   ]
  },
  {
   "cell_type": "code",
   "execution_count": 36,
   "metadata": {},
   "outputs": [],
   "source": [
    "top500 = pd.DataFrame(word_list)"
   ]
  },
  {
   "cell_type": "code",
   "execution_count": 37,
   "metadata": {},
   "outputs": [],
   "source": [
    "top500.columns = ['word', 'count']"
   ]
  },
  {
   "cell_type": "code",
   "execution_count": 38,
   "metadata": {},
   "outputs": [],
   "source": [
    "top500.to_csv('./CE4L_top500.csv', sep='|', encoding = 'utf-8', index = False)"
   ]
  },
  {
   "cell_type": "markdown",
   "metadata": {},
   "source": [
    "## 워드클라우드 만들기"
   ]
  },
  {
   "cell_type": "code",
   "execution_count": 39,
   "metadata": {},
   "outputs": [],
   "source": [
    "import matplotlib.pyplot as plt"
   ]
  },
  {
   "cell_type": "code",
   "execution_count": 40,
   "metadata": {},
   "outputs": [
    {
     "name": "stdout",
     "output_type": "stream",
     "text": [
      "Malgun Gothic C:\\WINDOWS\\Fonts\\malgun.ttf\n",
      "Yu Gothic C:\\WINDOWS\\Fonts\\YuGothB.ttc\n",
      "HYGothic-Extra C:\\WINDOWS\\Fonts\\H2GTRE.TTF\n",
      "Franklin Gothic Medium C:\\WINDOWS\\Fonts\\framdit.ttf\n",
      "Malgun Gothic C:\\Windows\\Fonts\\malgunbd.ttf\n",
      "Yu Gothic C:\\Windows\\Fonts\\YuGothL.ttc\n",
      "Century Gothic C:\\Windows\\Fonts\\GOTHIC.TTF\n",
      "Yu Gothic C:\\Windows\\Fonts\\YuGothM.ttc\n",
      "Yu Gothic C:\\WINDOWS\\Fonts\\YuGothR.ttc\n",
      "MS Gothic C:\\WINDOWS\\Fonts\\msgothic.ttc\n",
      "HYGothic-Medium C:\\WINDOWS\\Fonts\\H2GTRM.TTF\n",
      "Malgun Gothic C:\\WINDOWS\\Fonts\\malgunsl.ttf\n",
      "Century Gothic C:\\Windows\\Fonts\\GOTHICI.TTF\n",
      "Century Gothic C:\\WINDOWS\\Fonts\\GOTHICBI.TTF\n",
      "Century Gothic C:\\Windows\\Fonts\\GOTHICB.TTF\n",
      "Franklin Gothic Medium C:\\WINDOWS\\Fonts\\framd.ttf\n"
     ]
    }
   ],
   "source": [
    "import matplotlib.font_manager as fm\n",
    "\n",
    "# 이용 가능한 폰트 중 '고딕'만 선별\n",
    "for font in fm.fontManager.ttflist:\n",
    "    if 'Gothic' in font.name:\n",
    "        print(font.name, font.fname)"
   ]
  },
  {
   "cell_type": "code",
   "execution_count": 41,
   "metadata": {},
   "outputs": [],
   "source": [
    "font_path = 'C:\\WINDOWS\\Fonts\\malgun.ttf'"
   ]
  },
  {
   "cell_type": "markdown",
   "metadata": {},
   "source": [
    "### 워드클라우드 그리기"
   ]
  },
  {
   "cell_type": "code",
   "execution_count": 42,
   "metadata": {},
   "outputs": [],
   "source": [
    "from wordcloud import WordCloud"
   ]
  },
  {
   "cell_type": "code",
   "execution_count": 43,
   "metadata": {},
   "outputs": [],
   "source": [
    "wc = WordCloud(font_path=font_path, background_color=\"white\", width=600, height=400)"
   ]
  },
  {
   "cell_type": "code",
   "execution_count": 44,
   "metadata": {},
   "outputs": [
    {
     "data": {
      "image/png": "[encoded data removed]",
      "text/plain": [
       "<Figure size 432x288 with 1 Axes>"
      ]
     },
     "metadata": {
      "needs_background": "light"
     },
     "output_type": "display_data"
    },
    {
     "data": {
      "text/plain": [
       "<wordcloud.wordcloud.WordCloud at 0x1f84d195b88>"
      ]
     },
     "execution_count": 44,
     "metadata": {},
     "output_type": "execute_result"
    }
   ],
   "source": [
    "wc.generate_from_frequencies(dict(word_list))\n",
    "\n",
    "plt.imshow(wc) \n",
    "plt.axis('off') \n",
    "plt.show()\n",
    "\n",
    "\n",
    "wc.to_file('CE4L.png')"
   ]
  },
  {
   "cell_type": "code",
   "execution_count": 45,
   "metadata": {},
   "outputs": [],
   "source": [
    "CE4L.to_csv('./magazine/final/CE4L_adfn_2.csv', sep='|', encoding = 'utf-8', index = False)"
   ]
  },
  {
   "cell_type": "code",
   "execution_count": null,
   "metadata": {},
   "outputs": [],
   "source": []
  },
  {
   "cell_type": "code",
   "execution_count": null,
   "metadata": {},
   "outputs": [],
   "source": []
  },
  {
   "cell_type": "code",
   "execution_count": null,
   "metadata": {},
   "outputs": [],
   "source": []
  }
 ],
 "metadata": {
  "kernelspec": {
   "display_name": "Python 3",
   "language": "python",
   "name": "python3"
  },
  "language_info": {
   "codemirror_mode": {
    "name": "ipython",
    "version": 3
   },
   "file_extension": ".py",
   "mimetype": "text/x-python",
   "name": "python",
   "nbconvert_exporter": "python",
   "pygments_lexer": "ipython3",
   "version": "3.7.6"
  }
 },
 "nbformat": 4,
 "nbformat_minor": 4
}
