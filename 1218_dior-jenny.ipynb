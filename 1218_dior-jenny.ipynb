{
 "cells": [
  {
   "cell_type": "code",
   "execution_count": 54,
   "metadata": {},
   "outputs": [],
   "source": [
    "import pandas as pd\n",
    "import numpy as np\n",
    "import re\n",
    "import networkx as nx\n",
    "import matplotlib.pyplot as plt"
   ]
  },
  {
   "cell_type": "code",
   "execution_count": 55,
   "metadata": {},
   "outputs": [],
   "source": [
    "from collections import Counter"
   ]
  },
  {
   "cell_type": "markdown",
   "metadata": {},
   "source": [
    "## 디올"
   ]
  },
  {
   "cell_type": "code",
   "execution_count": 56,
   "metadata": {},
   "outputs": [],
   "source": [
    "mag_d = pd.read_csv('./magazine/final/magazine_d_stickword.csv', sep ='|', encoding = 'utf-8')"
   ]
  },
  {
   "cell_type": "code",
   "execution_count": 57,
   "metadata": {},
   "outputs": [
    {
     "data": {
      "text/html": [
       "<div>\n",
       "<style scoped>\n",
       "    .dataframe tbody tr th:only-of-type {\n",
       "        vertical-align: middle;\n",
       "    }\n",
       "\n",
       "    .dataframe tbody tr th {\n",
       "        vertical-align: top;\n",
       "    }\n",
       "\n",
       "    .dataframe thead th {\n",
       "        text-align: right;\n",
       "    }\n",
       "</style>\n",
       "<table border=\"1\" class=\"dataframe\">\n",
       "  <thead>\n",
       "    <tr style=\"text-align: right;\">\n",
       "      <th></th>\n",
       "      <th>magazine</th>\n",
       "      <th>brand</th>\n",
       "      <th>title</th>\n",
       "      <th>link</th>\n",
       "      <th>date</th>\n",
       "      <th>word_dior</th>\n",
       "      <th>ADFN</th>\n",
       "      <th>ADFN_2</th>\n",
       "    </tr>\n",
       "  </thead>\n",
       "  <tbody>\n",
       "    <tr>\n",
       "      <th>0</th>\n",
       "      <td>A</td>\n",
       "      <td>D</td>\n",
       "      <td>빈티지 쇼핑의 시대</td>\n",
       "      <td>http://www.allurekorea.com/2020/10/27/%eb%b9%8...</td>\n",
       "      <td>2020-10-27</td>\n",
       "      <td>['그러니 빈티지 패션은, 어쩌면 나도 좋고 너도 좋은 일이다. 당시 사랑했던, 지...</td>\n",
       "      <td>['빈티지', '패션', '좋', '느', '좋', '당시', '사랑', '사랑',...</td>\n",
       "      <td>['빈티지', '패션', '좋', '느', '좋', '당시', '사랑', '사랑',...</td>\n",
       "    </tr>\n",
       "    <tr>\n",
       "      <th>1</th>\n",
       "      <td>A</td>\n",
       "      <td>D</td>\n",
       "      <td>주식을 시작한 패션 에디터의 이야기, 나는 주주다</td>\n",
       "      <td>http://www.allurekorea.com/2020/10/16/%ec%a3%b...</td>\n",
       "      <td>2020-10-16</td>\n",
       "      <td>['  요즘 들어 주식은 친구들과의 대화에서 빼놓을 수 없는 주제가 되었다. 코로나...</td>\n",
       "      <td>['요즘', '주식', '친구', '과의', '대화', '빼놓', '주제', '코로...</td>\n",
       "      <td>['요즘', '주식', '친구', '과의', '대화', '빼놓', '주제', '코로...</td>\n",
       "    </tr>\n",
       "    <tr>\n",
       "      <th>2</th>\n",
       "      <td>A</td>\n",
       "      <td>D</td>\n",
       "      <td>거리로 나온 하이패션 슈즈들 4</td>\n",
       "      <td>http://www.allurekorea.com/2020/09/16/%eb%a6%a...</td>\n",
       "      <td>2020-09-16</td>\n",
       "      <td>[\"['나이키의 조던 시리즈들 중에서도 역대급으로 평가받는 ‘에어 디올’은 부르는 ...</td>\n",
       "      <td>['나이', '조', '덜', '시리즈', '역대', '급', '평가', '에어',...</td>\n",
       "      <td>['나이', '조', '덜', '시리즈', '역대', '급', '평가', '에어',...</td>\n",
       "    </tr>\n",
       "    <tr>\n",
       "      <th>3</th>\n",
       "      <td>A</td>\n",
       "      <td>D</td>\n",
       "      <td>차정원부터 아이린까지. 옷 잘입는 셀럽들의 사복 패션에 등장한 뉴 백은 무엇?</td>\n",
       "      <td>http://www.allurekorea.com/2020/08/13/%ec%b0%a...</td>\n",
       "      <td>2020-08-13</td>\n",
       "      <td>['디올 레이디 디올 디올아무르 미니백 5백만원대']</td>\n",
       "      <td>['DIOR', 'LADY', 'DIOR', 'DIOR', '아무르', '미니']</td>\n",
       "      <td>['DIOR', 'LADY', 'DIOR', 'DIOR', '아무르', '미니']</td>\n",
       "    </tr>\n",
       "    <tr>\n",
       "      <th>4</th>\n",
       "      <td>A</td>\n",
       "      <td>D</td>\n",
       "      <td>DON’T CATEGORIZE ME / 유태오</td>\n",
       "      <td>http://www.allurekorea.com/2020/05/28/dont-cat...</td>\n",
       "      <td>2020-05-28</td>\n",
       "      <td>['실크 슬리브리스와 블랙 와이드 팬츠는 김서룡 옴므. 블랙 부츠는 보테가 베네타....</td>\n",
       "      <td>['실크', '슬리브리스', '블랙', '와이드', '팬츠', '김', '룡', '...</td>\n",
       "      <td>['실크', '슬리브리스', '블랙', '와이드', '팬츠', '김', '룡', '...</td>\n",
       "    </tr>\n",
       "    <tr>\n",
       "      <th>...</th>\n",
       "      <td>...</td>\n",
       "      <td>...</td>\n",
       "      <td>...</td>\n",
       "      <td>...</td>\n",
       "      <td>...</td>\n",
       "      <td>...</td>\n",
       "      <td>...</td>\n",
       "      <td>...</td>\n",
       "    </tr>\n",
       "    <tr>\n",
       "      <th>1754</th>\n",
       "      <td>W</td>\n",
       "      <td>D</td>\n",
       "      <td>가을의 하이킹</td>\n",
       "      <td>http://www.wkorea.com/2016/09/05/%ea%b0%80%ec%...</td>\n",
       "      <td>2016-09-05</td>\n",
       "      <td>['6. 주얼 장식과 앙증맞은 리본이 반전의 매력을 더하는 부츠는 디올 제품. 1백...</td>\n",
       "      <td>['얼', '장식', '앙증맞', '리본', '반전', '매력', '부츠', 'DI...</td>\n",
       "      <td>['얼', '장식', '앙증맞', '리본', '반전', '매력', '부츠', 'DI...</td>\n",
       "    </tr>\n",
       "    <tr>\n",
       "      <th>1755</th>\n",
       "      <td>W</td>\n",
       "      <td>D</td>\n",
       "      <td>W해시태그</td>\n",
       "      <td>http://www.wkorea.com/2016/09/02/w%ed%95%b4%ec...</td>\n",
       "      <td>2016-09-02</td>\n",
       "      <td>['#W뷰티콕  (뷰티 디렉터 송시은)\\\\n조회 2,023회\\\\n너무나 뜨거운 여름...</td>\n",
       "      <td>['W', '뷰티', '콕', '뷰티', '디렉터', '송', '시은', '조회',...</td>\n",
       "      <td>['W', '뷰티', '콕', '뷰티', '디렉터', '송', '시은', '조회',...</td>\n",
       "    </tr>\n",
       "    <tr>\n",
       "      <th>1756</th>\n",
       "      <td>W</td>\n",
       "      <td>D</td>\n",
       "      <td>마법의 색</td>\n",
       "      <td>http://www.wkorea.com/2016/09/02/%eb%a7%88%eb%...</td>\n",
       "      <td>2016-09-02</td>\n",
       "      <td>[\"'크리스찬 디올에게 초록은 곧 ‘자연’을, 빨강은 ‘생명’을, 분홍은 ‘감미로움...</td>\n",
       "      <td>['CHRISTIAN', 'DIOR', '초록', '자연', '빨강', '생명', ...</td>\n",
       "      <td>['CHRISTIAN', 'DIOR', '초록', '자연', '빨강', '생명', ...</td>\n",
       "    </tr>\n",
       "    <tr>\n",
       "      <th>1757</th>\n",
       "      <td>W</td>\n",
       "      <td>D</td>\n",
       "      <td>따로 또 같이</td>\n",
       "      <td>http://www.wkorea.com/2016/09/02/%eb%94%b0%eb%...</td>\n",
       "      <td>2016-09-02</td>\n",
       "      <td>['자수 장식 슈트, 실크 셔츠에 리본 타이를 연출한 구찌, 남성다운 검정 테일러드...</td>\n",
       "      <td>['자수', '장식', '슈트', '실크', '셔츠', '리본', '타이', '남성...</td>\n",
       "      <td>['자수', '장식', '슈트', '실크', '셔츠', '리본', '타이', '남성...</td>\n",
       "    </tr>\n",
       "    <tr>\n",
       "      <th>1758</th>\n",
       "      <td>W</td>\n",
       "      <td>D</td>\n",
       "      <td>너도 나도 베트멍</td>\n",
       "      <td>http://www.wkorea.com/2016/09/01/%eb%84%88%eb%...</td>\n",
       "      <td>2016-09-01</td>\n",
       "      <td>['리하나\\\\n나이 만28세\\\\n직업 가수, 디자이너, 패셔니스타, 배드 걸\\\\n평...</td>\n",
       "      <td>['나이', '직업', '가수', '디자이너', '패', '니스', '배드', '걸...</td>\n",
       "      <td>['나이', '직업', '가수', '디자이너', '패', '니스', '배드', '걸...</td>\n",
       "    </tr>\n",
       "  </tbody>\n",
       "</table>\n",
       "<p>1759 rows × 8 columns</p>\n",
       "</div>"
      ],
      "text/plain": [
       "     magazine brand                                        title  \\\n",
       "0           A     D                                   빈티지 쇼핑의 시대   \n",
       "1           A     D                  주식을 시작한 패션 에디터의 이야기, 나는 주주다   \n",
       "2           A     D                            거리로 나온 하이패션 슈즈들 4   \n",
       "3           A     D  차정원부터 아이린까지. 옷 잘입는 셀럽들의 사복 패션에 등장한 뉴 백은 무엇?   \n",
       "4           A     D                    DON’T CATEGORIZE ME / 유태오   \n",
       "...       ...   ...                                          ...   \n",
       "1754        W     D                                      가을의 하이킹   \n",
       "1755        W     D                                        W해시태그   \n",
       "1756        W     D                                        마법의 색   \n",
       "1757        W     D                                      따로 또 같이   \n",
       "1758        W     D                                    너도 나도 베트멍   \n",
       "\n",
       "                                                   link        date  \\\n",
       "0     http://www.allurekorea.com/2020/10/27/%eb%b9%8...  2020-10-27   \n",
       "1     http://www.allurekorea.com/2020/10/16/%ec%a3%b...  2020-10-16   \n",
       "2     http://www.allurekorea.com/2020/09/16/%eb%a6%a...  2020-09-16   \n",
       "3     http://www.allurekorea.com/2020/08/13/%ec%b0%a...  2020-08-13   \n",
       "4     http://www.allurekorea.com/2020/05/28/dont-cat...  2020-05-28   \n",
       "...                                                 ...         ...   \n",
       "1754  http://www.wkorea.com/2016/09/05/%ea%b0%80%ec%...  2016-09-05   \n",
       "1755  http://www.wkorea.com/2016/09/02/w%ed%95%b4%ec...  2016-09-02   \n",
       "1756  http://www.wkorea.com/2016/09/02/%eb%a7%88%eb%...  2016-09-02   \n",
       "1757  http://www.wkorea.com/2016/09/02/%eb%94%b0%eb%...  2016-09-02   \n",
       "1758  http://www.wkorea.com/2016/09/01/%eb%84%88%eb%...  2016-09-01   \n",
       "\n",
       "                                              word_dior  \\\n",
       "0     ['그러니 빈티지 패션은, 어쩌면 나도 좋고 너도 좋은 일이다. 당시 사랑했던, 지...   \n",
       "1     ['  요즘 들어 주식은 친구들과의 대화에서 빼놓을 수 없는 주제가 되었다. 코로나...   \n",
       "2     [\"['나이키의 조던 시리즈들 중에서도 역대급으로 평가받는 ‘에어 디올’은 부르는 ...   \n",
       "3                         ['디올 레이디 디올 디올아무르 미니백 5백만원대']   \n",
       "4     ['실크 슬리브리스와 블랙 와이드 팬츠는 김서룡 옴므. 블랙 부츠는 보테가 베네타....   \n",
       "...                                                 ...   \n",
       "1754  ['6. 주얼 장식과 앙증맞은 리본이 반전의 매력을 더하는 부츠는 디올 제품. 1백...   \n",
       "1755  ['#W뷰티콕  (뷰티 디렉터 송시은)\\\\n조회 2,023회\\\\n너무나 뜨거운 여름...   \n",
       "1756  [\"'크리스찬 디올에게 초록은 곧 ‘자연’을, 빨강은 ‘생명’을, 분홍은 ‘감미로움...   \n",
       "1757  ['자수 장식 슈트, 실크 셔츠에 리본 타이를 연출한 구찌, 남성다운 검정 테일러드...   \n",
       "1758  ['리하나\\\\n나이 만28세\\\\n직업 가수, 디자이너, 패셔니스타, 배드 걸\\\\n평...   \n",
       "\n",
       "                                                   ADFN  \\\n",
       "0     ['빈티지', '패션', '좋', '느', '좋', '당시', '사랑', '사랑',...   \n",
       "1     ['요즘', '주식', '친구', '과의', '대화', '빼놓', '주제', '코로...   \n",
       "2     ['나이', '조', '덜', '시리즈', '역대', '급', '평가', '에어',...   \n",
       "3         ['DIOR', 'LADY', 'DIOR', 'DIOR', '아무르', '미니']   \n",
       "4     ['실크', '슬리브리스', '블랙', '와이드', '팬츠', '김', '룡', '...   \n",
       "...                                                 ...   \n",
       "1754  ['얼', '장식', '앙증맞', '리본', '반전', '매력', '부츠', 'DI...   \n",
       "1755  ['W', '뷰티', '콕', '뷰티', '디렉터', '송', '시은', '조회',...   \n",
       "1756  ['CHRISTIAN', 'DIOR', '초록', '자연', '빨강', '생명', ...   \n",
       "1757  ['자수', '장식', '슈트', '실크', '셔츠', '리본', '타이', '남성...   \n",
       "1758  ['나이', '직업', '가수', '디자이너', '패', '니스', '배드', '걸...   \n",
       "\n",
       "                                                 ADFN_2  \n",
       "0     ['빈티지', '패션', '좋', '느', '좋', '당시', '사랑', '사랑',...  \n",
       "1     ['요즘', '주식', '친구', '과의', '대화', '빼놓', '주제', '코로...  \n",
       "2     ['나이', '조', '덜', '시리즈', '역대', '급', '평가', '에어',...  \n",
       "3         ['DIOR', 'LADY', 'DIOR', 'DIOR', '아무르', '미니']  \n",
       "4     ['실크', '슬리브리스', '블랙', '와이드', '팬츠', '김', '룡', '...  \n",
       "...                                                 ...  \n",
       "1754  ['얼', '장식', '앙증맞', '리본', '반전', '매력', '부츠', 'DI...  \n",
       "1755  ['W', '뷰티', '콕', '뷰티', '디렉터', '송', '시은', '조회',...  \n",
       "1756  ['CHRISTIAN', 'DIOR', '초록', '자연', '빨강', '생명', ...  \n",
       "1757  ['자수', '장식', '슈트', '실크', '셔츠', '리본', '타이', '남성...  \n",
       "1758  ['나이', '직업', '가수', '디자이너', '패', '니스', '배드', '걸...  \n",
       "\n",
       "[1759 rows x 8 columns]"
      ]
     },
     "execution_count": 57,
     "metadata": {},
     "output_type": "execute_result"
    }
   ],
   "source": [
    "mag_d"
   ]
  },
  {
   "cell_type": "code",
   "execution_count": 58,
   "metadata": {},
   "outputs": [],
   "source": [
    "mag_d['word'] = mag_d['word_dior']"
   ]
  },
  {
   "cell_type": "code",
   "execution_count": 59,
   "metadata": {},
   "outputs": [],
   "source": [
    "mag_D = mag_d[['magazine', 'brand', 'title', 'word', 'ADFN', 'ADFN_2']]"
   ]
  },
  {
   "cell_type": "code",
   "execution_count": 60,
   "metadata": {},
   "outputs": [
    {
     "data": {
      "text/plain": [
       "1759"
      ]
     },
     "execution_count": 60,
     "metadata": {},
     "output_type": "execute_result"
    }
   ],
   "source": [
    "len(mag_D)"
   ]
  },
  {
   "cell_type": "markdown",
   "metadata": {},
   "source": [
    "### 5"
   ]
  },
  {
   "cell_type": "code",
   "execution_count": 61,
   "metadata": {},
   "outputs": [],
   "source": [
    "idx5 = []\n",
    "for i in range(len(mag_D)):\n",
    "    if i % 5 == 0 :\n",
    "        idx5.append(i)"
   ]
  },
  {
   "cell_type": "code",
   "execution_count": 62,
   "metadata": {},
   "outputs": [],
   "source": [
    "mag_D5 = mag_D.loc[idx5]"
   ]
  },
  {
   "cell_type": "code",
   "execution_count": 63,
   "metadata": {},
   "outputs": [],
   "source": [
    "mag_D5.reset_index(drop = True, inplace = True)"
   ]
  },
  {
   "cell_type": "markdown",
   "metadata": {},
   "source": [
    "### 4"
   ]
  },
  {
   "cell_type": "code",
   "execution_count": 93,
   "metadata": {},
   "outputs": [],
   "source": [
    "idx4 = []\n",
    "for i in range(len(mag_D)):\n",
    "    if i % 4 == 0 :\n",
    "        idx4.append(i)"
   ]
  },
  {
   "cell_type": "code",
   "execution_count": 94,
   "metadata": {},
   "outputs": [],
   "source": [
    "mag_D4 = mag_D.loc[idx4]"
   ]
  },
  {
   "cell_type": "code",
   "execution_count": 95,
   "metadata": {},
   "outputs": [],
   "source": [
    "mag_D4.reset_index(drop = True, inplace = True)"
   ]
  },
  {
   "cell_type": "code",
   "execution_count": null,
   "metadata": {},
   "outputs": [],
   "source": []
  },
  {
   "cell_type": "markdown",
   "metadata": {},
   "source": [
    "## 제니"
   ]
  },
  {
   "cell_type": "markdown",
   "metadata": {},
   "source": [
    "### 제니 (유튜브 + 매거진)"
   ]
  },
  {
   "cell_type": "code",
   "execution_count": 46,
   "metadata": {},
   "outputs": [],
   "source": [
    "tot_je = pd.read_csv('./magazine/final/video_jenny_adfn_2.csv', encoding = 'utf-8', sep = '|')"
   ]
  },
  {
   "cell_type": "code",
   "execution_count": 47,
   "metadata": {},
   "outputs": [],
   "source": [
    "tot_je['word'] = tot_je['word_jenny']"
   ]
  },
  {
   "cell_type": "code",
   "execution_count": 48,
   "metadata": {},
   "outputs": [],
   "source": [
    "tot_JE = tot_je[['magazine', 'brand', 'title', 'word', 'ADFN', 'ADFN_2']]"
   ]
  },
  {
   "cell_type": "code",
   "execution_count": 49,
   "metadata": {},
   "outputs": [
    {
     "data": {
      "text/plain": [
       "351"
      ]
     },
     "execution_count": 49,
     "metadata": {},
     "output_type": "execute_result"
    }
   ],
   "source": [
    "len(tot_JE)"
   ]
  },
  {
   "cell_type": "markdown",
   "metadata": {},
   "source": [
    "### 셀린느 + 제니"
   ]
  },
  {
   "cell_type": "code",
   "execution_count": 64,
   "metadata": {},
   "outputs": [],
   "source": [
    "D5JE = pd.concat([mag_D5, tot_JE])"
   ]
  },
  {
   "cell_type": "code",
   "execution_count": 65,
   "metadata": {},
   "outputs": [],
   "source": [
    "D5JE.reset_index(drop = True, inplace = True)"
   ]
  },
  {
   "cell_type": "code",
   "execution_count": 66,
   "metadata": {},
   "outputs": [],
   "source": [
    "D5JE.to_csv('./magazine/final/D5JE.csv', sep = '|', encoding = 'utf-8', index = False)"
   ]
  },
  {
   "cell_type": "code",
   "execution_count": 67,
   "metadata": {},
   "outputs": [
    {
     "data": {
      "text/plain": [
       "703"
      ]
     },
     "execution_count": 67,
     "metadata": {},
     "output_type": "execute_result"
    }
   ],
   "source": [
    "len(D5JE)"
   ]
  },
  {
   "cell_type": "code",
   "execution_count": 96,
   "metadata": {},
   "outputs": [],
   "source": [
    "D4JE = pd.concat([mag_D4, tot_JE])"
   ]
  },
  {
   "cell_type": "code",
   "execution_count": 97,
   "metadata": {},
   "outputs": [],
   "source": [
    "D4JE.reset_index(drop = True, inplace = True)"
   ]
  },
  {
   "cell_type": "code",
   "execution_count": 98,
   "metadata": {},
   "outputs": [],
   "source": [
    "D4JE.to_csv('./magazine/final/D4JE.csv', sep = '|', encoding = 'utf-8', index = False)"
   ]
  },
  {
   "cell_type": "code",
   "execution_count": 99,
   "metadata": {},
   "outputs": [
    {
     "data": {
      "text/plain": [
       "791"
      ]
     },
     "execution_count": 99,
     "metadata": {},
     "output_type": "execute_result"
    }
   ],
   "source": [
    "len(D4JE)"
   ]
  },
  {
   "cell_type": "code",
   "execution_count": null,
   "metadata": {},
   "outputs": [],
   "source": []
  },
  {
   "cell_type": "markdown",
   "metadata": {},
   "source": [
    "## stopword 추가"
   ]
  },
  {
   "cell_type": "code",
   "execution_count": 68,
   "metadata": {},
   "outputs": [],
   "source": [
    "sw_df = pd.read_csv('stopwords.csv', header=None)"
   ]
  },
  {
   "cell_type": "code",
   "execution_count": 69,
   "metadata": {},
   "outputs": [],
   "source": [
    "sw_df.columns = ['stopword']"
   ]
  },
  {
   "cell_type": "code",
   "execution_count": 70,
   "metadata": {},
   "outputs": [],
   "source": [
    "stop_words = []\n",
    "for sw in sw_df['stopword']:\n",
    "    stop_words.append(sw)"
   ]
  },
  {
   "cell_type": "code",
   "execution_count": 71,
   "metadata": {},
   "outputs": [
    {
     "name": "stdout",
     "output_type": "stream",
     "text": [
      "675\n",
      "<class 'list'>\n"
     ]
    }
   ],
   "source": [
    "print(len(stop_words))\n",
    "print(type(stop_words))"
   ]
  },
  {
   "cell_type": "code",
   "execution_count": 72,
   "metadata": {},
   "outputs": [
    {
     "data": {
      "text/plain": [
       "['둘', '셋', '넷', '다섯', '여섯', '일곱', '여덟', '아홉', '령', '영']"
      ]
     },
     "execution_count": 72,
     "metadata": {},
     "output_type": "execute_result"
    }
   ],
   "source": [
    "stop_words[-10:]"
   ]
  },
  {
   "cell_type": "code",
   "execution_count": 73,
   "metadata": {},
   "outputs": [],
   "source": [
    "add_0 = ['진짜', '존나', '보고', '그냥', '카이', '이광수', '광수', '런닝맨', '❤️', '없는', '유재석', '❤', '♥', '있고', '거', \n",
    "         '내', '더', '개', '사람', '영상', '광고', '언니', '말', '뭐', '수', '생각',\n",
    "        '있는', '정말', '같은', '같음', '듯', '♡', '완전', '같아', '정도', '지금', '역시', '뭔가', '입니다', '때문', '아니라',\n",
    "         '함', '같은데', '해', '하는', '할', '넘', '한', '안', '했다', '보면', '데', '하고', '하면', '게', '해서', '봐도', \n",
    "         '한다', '된', '건', '요', '움', '임', '애', '하는거', '해도', '보는', '이제', '했는데', '하는데', '하는게', '같아요', \n",
    "         '합니다', '하지', '하게', '되는', 'I', '는', '난', '서', '도', '줄', '위', '분', '알', '은', '두', '번', '뒤',\n",
    "         '이건', '없다', '있어요', '아니고', '있어',\n",
    "        '계속', '원래', '뭘', '못', '후', '이름', '속', '욕', '옆', '하네', '아님', '그런', '된다', '있음',\n",
    "        '같', '돼', 'you', '제품', '표현', 'n', '봤는데', '건가', '나오는', '가지', '저런', '보이', '고',\n",
    "        '중', '사진', '댓글', '부분', '진심', '그녀', '보', '날', '겁나', '요즘', '앞', '워', '이유', '솔직히', '하며', '통해',\n",
    "        '모든', '항상', '전', '기자', '다시', '오늘', '↑', '이자', '대해']\n",
    "for w in add_0:\n",
    "    stop_words.append(w)"
   ]
  },
  {
   "cell_type": "code",
   "execution_count": 74,
   "metadata": {},
   "outputs": [],
   "source": [
    "add_1 = ['BLACKPINK', '리사', '지수', '로제']\n",
    "for w in add_1:\n",
    "    stop_words.append(w)"
   ]
  },
  {
   "cell_type": "code",
   "execution_count": 75,
   "metadata": {},
   "outputs": [],
   "source": [
    "add_2 = []\n",
    "for w in add_1:\n",
    "    stop_words.append(w)"
   ]
  },
  {
   "cell_type": "code",
   "execution_count": 76,
   "metadata": {},
   "outputs": [
    {
     "data": {
      "text/plain": [
       "829"
      ]
     },
     "execution_count": 76,
     "metadata": {},
     "output_type": "execute_result"
    }
   ],
   "source": [
    "len(stop_words)"
   ]
  },
  {
   "cell_type": "code",
   "execution_count": null,
   "metadata": {},
   "outputs": [],
   "source": []
  },
  {
   "cell_type": "code",
   "execution_count": 100,
   "metadata": {},
   "outputs": [],
   "source": [
    "D4JE['ADFN_2'] = D4JE['ADFN_2'].str.replace('[', '').str.replace(']', '').str.replace('\"', '').str.replace(\"'\", \"\").str.split(', ')"
   ]
  },
  {
   "cell_type": "code",
   "execution_count": 101,
   "metadata": {},
   "outputs": [],
   "source": [
    "noun_adj_list = []\n",
    "for i in range(len(D4JE)):\n",
    "    for word in D4JE.loc[i, 'ADFN_2']:\n",
    "        if word not in stop_words:\n",
    "            noun_adj_list.append(word)"
   ]
  },
  {
   "cell_type": "code",
   "execution_count": 102,
   "metadata": {},
   "outputs": [
    {
     "name": "stdout",
     "output_type": "stream",
     "text": [
      "[('제니', 9276), ('귀엽다', 2144), ('예쁘다', 1817), ('DIOR', 1227), ('사랑', 854), ('얼굴', 687), ('패션', 511), ('무대', 501), ('노래', 488), ('매력', 450), ('옷', 409), ('잘', 408), ('아이돌', 381), ('스타일', 365), ('컬렉션', 340), ('젠득', 321), ('룩', 314), ('여자', 312), ('컬러', 306), ('느낌', 305), ('팬', 300), ('CHANEL', 290), ('실력', 284), ('영어', 270), ('눈', 253), ('드레스', 248), ('브랜드', 242), ('걸', 239), ('처음', 238), ('앞머리', 238), ('머리', 222), ('예능', 209), ('티', 207), ('랩', 207), ('헤어', 200), ('최고', 199), ('모습', 198), ('춤', 193), ('블랙', 192), ('백', 191), ('목소리', 185), ('분위기', 184), ('쇼', 183), ('표정', 182), ('고급', 178), ('여성', 178), ('의상', 175), ('공주', 175), ('멤버', 175), ('모델', 173), ('좋은', 173), ('디자이너', 172), ('발음', 172), ('장식', 171), ('연예인', 171), ('자체', 169), ('라이브', 168), ('한국', 166), ('치마', 165), ('포인트', 153), ('세상', 152), ('팬츠', 150), ('재킷', 149), ('입덕', 149), ('레드', 141), ('인간', 137), ('제일', 137), ('좋다', 137), ('라인', 134), ('스타', 133), ('DESIGN', 133), ('아이템', 133), ('썸네일', 133), ('시즌', 130), ('애기', 130), ('스타일링', 128), ('연출', 128), ('레전드', 127), ('외모', 126), ('화이트', 123), ('쿠마', 122), ('완성', 121), ('파리', 120), ('선택', 120), ('마음', 120), ('매치', 119), ('인기', 118), ('가수', 118), ('메이크업', 117), ('솔로', 117), ('나도', 116), ('봄', 115), ('그룹', 115), ('세계', 114), ('멋있다', 114), ('하우스', 113), ('이미지', 113), ('MARIA', 111), ('남자', 111), ('소화', 110), ('디렉터', 107), ('웃기', 106), ('탑', 105), ('대', 105), ('코디', 103), ('착용', 102), ('YG', 102), ('좋겠다', 101), ('데뷔', 100), ('스커트', 100), ('한번', 100), ('제발', 100), ('활동', 99), ('고양이', 98), ('많은', 98), ('공개', 97), ('패턴', 97), ('진', 95), ('몸매', 95), ('가장', 95), ('대박', 95), ('데님', 94), ('미쳤다', 94), ('블링크', 94), ('누가', 94), ('소재', 93), ('시크', 93), ('미국', 93), ('톱', 92), ('아티스트', 92), ('곱창', 92), ('사실', 91), ('영화', 91), ('입술', 91), ('한편', 91), ('영감', 90), ('까', 90), ('타팬', 90), ('살', 89), ('관심', 89), ('손', 89), ('귀엽', 89), ('볼', 88), ('심장', 88), ('앤', 87), ('티셔츠', 87), ('컴백', 87), ('성격', 87), ('마지막', 86), ('순간', 86), ('작품', 85), ('핑크', 85), ('LADY', 85), ('보러', 85), ('울', 84), ('얼', 84), ('하이틴', 84), ('밴드', 84), ('CHRISTIAN', 83), ('젠', 83), ('니트', 82), ('하루', 82), ('소리', 82), ('검색', 82), ('걸그룹', 82), ('코트', 81), ('좋아요', 81), ('CREATIVE', 80), ('입고', 80), ('끝', 80), ('화보', 79), ('집', 79), ('키', 79), ('와이지', 79), ('어깨', 78), ('가방', 77), ('참석', 77), ('강아지', 77), ('미친', 77), ('찰떡', 77), ('음악', 76), ('여름', 76), ('빛', 76), ('셔츠', 76), ('u', 76), ('유행', 75), ('남', 75), ('젤', 75), ('기분', 75), ('애교', 75), ('카리스마', 75), ('미모', 75), ('HOMME', 74), ('톤', 74), ('선글라스', 74), ('한국인', 74), ('트와이스', 74), ('트렌드', 73), ('점', 73), ('트', 73)]\n"
     ]
    }
   ],
   "source": [
    "word = Counter(noun_adj_list)\n",
    "print(word.most_common(200))"
   ]
  },
  {
   "cell_type": "code",
   "execution_count": 103,
   "metadata": {},
   "outputs": [],
   "source": [
    "count = Counter(noun_adj_list)"
   ]
  },
  {
   "cell_type": "code",
   "execution_count": 104,
   "metadata": {},
   "outputs": [
    {
     "name": "stdout",
     "output_type": "stream",
     "text": [
      "('제니', 9276)\n",
      "('귀엽다', 2144)\n",
      "('예쁘다', 1817)\n",
      "('DIOR', 1227)\n",
      "('사랑', 854)\n",
      "('얼굴', 687)\n",
      "('패션', 511)\n",
      "('무대', 501)\n",
      "('노래', 488)\n",
      "('매력', 450)\n",
      "('옷', 409)\n",
      "('잘', 408)\n",
      "('아이돌', 381)\n",
      "('스타일', 365)\n",
      "('컬렉션', 340)\n",
      "('젠득', 321)\n",
      "('룩', 314)\n",
      "('여자', 312)\n",
      "('컬러', 306)\n",
      "('느낌', 305)\n",
      "('팬', 300)\n",
      "('CHANEL', 290)\n",
      "('실력', 284)\n",
      "('영어', 270)\n",
      "('눈', 253)\n",
      "('드레스', 248)\n",
      "('브랜드', 242)\n",
      "('걸', 239)\n",
      "('처음', 238)\n",
      "('앞머리', 238)\n",
      "('머리', 222)\n",
      "('예능', 209)\n",
      "('티', 207)\n",
      "('랩', 207)\n",
      "('헤어', 200)\n",
      "('최고', 199)\n",
      "('모습', 198)\n",
      "('춤', 193)\n",
      "('블랙', 192)\n",
      "('백', 191)\n",
      "('목소리', 185)\n",
      "('분위기', 184)\n",
      "('쇼', 183)\n",
      "('표정', 182)\n",
      "('고급', 178)\n",
      "('여성', 178)\n",
      "('의상', 175)\n",
      "('공주', 175)\n",
      "('멤버', 175)\n",
      "('모델', 173)\n",
      "('좋은', 173)\n",
      "('디자이너', 172)\n",
      "('발음', 172)\n",
      "('장식', 171)\n",
      "('연예인', 171)\n",
      "('자체', 169)\n",
      "('라이브', 168)\n",
      "('한국', 166)\n",
      "('치마', 165)\n",
      "('포인트', 153)\n",
      "('세상', 152)\n",
      "('팬츠', 150)\n",
      "('재킷', 149)\n",
      "('입덕', 149)\n",
      "('레드', 141)\n",
      "('인간', 137)\n",
      "('제일', 137)\n",
      "('좋다', 137)\n",
      "('라인', 134)\n",
      "('스타', 133)\n",
      "('DESIGN', 133)\n",
      "('아이템', 133)\n",
      "('썸네일', 133)\n",
      "('시즌', 130)\n",
      "('애기', 130)\n",
      "('스타일링', 128)\n",
      "('연출', 128)\n",
      "('레전드', 127)\n",
      "('외모', 126)\n",
      "('화이트', 123)\n",
      "('쿠마', 122)\n",
      "('완성', 121)\n",
      "('파리', 120)\n",
      "('선택', 120)\n",
      "('마음', 120)\n",
      "('매치', 119)\n",
      "('인기', 118)\n",
      "('가수', 118)\n",
      "('메이크업', 117)\n",
      "('솔로', 117)\n",
      "('나도', 116)\n",
      "('봄', 115)\n",
      "('그룹', 115)\n",
      "('세계', 114)\n",
      "('멋있다', 114)\n",
      "('하우스', 113)\n",
      "('이미지', 113)\n",
      "('MARIA', 111)\n",
      "('남자', 111)\n",
      "('소화', 110)\n",
      "('디렉터', 107)\n",
      "('웃기', 106)\n",
      "('탑', 105)\n",
      "('대', 105)\n",
      "('코디', 103)\n",
      "('착용', 102)\n",
      "('YG', 102)\n",
      "('좋겠다', 101)\n",
      "('데뷔', 100)\n",
      "('스커트', 100)\n",
      "('한번', 100)\n",
      "('제발', 100)\n",
      "('활동', 99)\n",
      "('고양이', 98)\n",
      "('많은', 98)\n",
      "('공개', 97)\n",
      "('패턴', 97)\n",
      "('진', 95)\n",
      "('몸매', 95)\n",
      "('가장', 95)\n",
      "('대박', 95)\n",
      "('데님', 94)\n",
      "('미쳤다', 94)\n",
      "('블링크', 94)\n",
      "('누가', 94)\n",
      "('소재', 93)\n",
      "('시크', 93)\n",
      "('미국', 93)\n",
      "('톱', 92)\n",
      "('아티스트', 92)\n",
      "('곱창', 92)\n",
      "('사실', 91)\n",
      "('영화', 91)\n",
      "('입술', 91)\n",
      "('한편', 91)\n",
      "('영감', 90)\n",
      "('까', 90)\n",
      "('타팬', 90)\n",
      "('살', 89)\n",
      "('관심', 89)\n",
      "('손', 89)\n",
      "('귀엽', 89)\n",
      "('볼', 88)\n",
      "('심장', 88)\n",
      "('앤', 87)\n",
      "('티셔츠', 87)\n",
      "('컴백', 87)\n",
      "('성격', 87)\n",
      "('마지막', 86)\n",
      "('순간', 86)\n",
      "('작품', 85)\n",
      "('핑크', 85)\n",
      "('LADY', 85)\n",
      "('보러', 85)\n",
      "('울', 84)\n",
      "('얼', 84)\n",
      "('하이틴', 84)\n",
      "('밴드', 84)\n",
      "('CHRISTIAN', 83)\n",
      "('젠', 83)\n",
      "('니트', 82)\n",
      "('하루', 82)\n",
      "('소리', 82)\n",
      "('검색', 82)\n",
      "('걸그룹', 82)\n",
      "('코트', 81)\n",
      "('좋아요', 81)\n",
      "('CREATIVE', 80)\n",
      "('입고', 80)\n",
      "('끝', 80)\n",
      "('화보', 79)\n",
      "('집', 79)\n",
      "('키', 79)\n",
      "('와이지', 79)\n",
      "('어깨', 78)\n",
      "('가방', 77)\n",
      "('참석', 77)\n",
      "('강아지', 77)\n",
      "('미친', 77)\n",
      "('찰떡', 77)\n",
      "('음악', 76)\n",
      "('여름', 76)\n",
      "('빛', 76)\n",
      "('셔츠', 76)\n",
      "('u', 76)\n",
      "('유행', 75)\n",
      "('남', 75)\n",
      "('젤', 75)\n",
      "('기분', 75)\n",
      "('애교', 75)\n",
      "('카리스마', 75)\n",
      "('미모', 75)\n",
      "('HOMME', 74)\n",
      "('톤', 74)\n",
      "('선글라스', 74)\n",
      "('한국인', 74)\n",
      "('트와이스', 74)\n",
      "('트렌드', 73)\n",
      "('점', 73)\n",
      "('트', 73)\n",
      "('입', 73)\n",
      "('큰', 73)\n",
      "('웨어', 72)\n",
      "('노트', 72)\n",
      "('몸', 72)\n",
      "('좋고', 72)\n",
      "('어쩜', 71)\n",
      "('yg', 71)\n",
      "('양갈래', 71)\n",
      "('프랑스', 70)\n",
      "('미니', 70)\n",
      "('감', 70)\n",
      "('짱', 70)\n",
      "('바지', 69)\n",
      "('액세서리', 69)\n",
      "('시몬스', 69)\n",
      "('곡', 69)\n",
      "('어울리는', 69)\n",
      "('좋아하는', 69)\n",
      "('무드', 68)\n",
      "('슈트', 68)\n",
      "('의미', 68)\n",
      "('클래식', 68)\n",
      "('명', 68)\n",
      "('썸넬', 68)\n",
      "('JONES', 67)\n",
      "('사용', 66)\n",
      "('뮤비', 66)\n",
      "('모음', 66)\n",
      "('드', 65)\n",
      "('스니커즈', 65)\n",
      "('원피스', 65)\n",
      "('KIM', 65)\n",
      "('올해', 65)\n",
      "('기여', 65)\n",
      "('감사합니다', 65)\n",
      "('길이', 64)\n",
      "('본', 64)\n",
      "('차이', 64)\n",
      "('응원', 64)\n",
      "('사랑스럽다', 64)\n",
      "('입은', 64)\n",
      "('SADDLE', 63)\n",
      "('곳', 63)\n",
      "('이후', 63)\n",
      "('실제', 63)\n",
      "('기억', 63)\n",
      "('공항', 63)\n",
      "('꼭', 63)\n",
      "('시작', 63)\n",
      "('회수', 63)\n",
      "('시선', 62)\n",
      "('실루엣', 62)\n",
      "('부', 62)\n",
      "('촬영', 62)\n",
      "('엄마', 62)\n",
      "('남성복', 62)\n",
      "('보기', 62)\n",
      "('만', 62)\n",
      "('미', 62)\n",
      "('슈즈', 61)\n",
      "('프린트', 61)\n",
      "('리스트', 61)\n",
      "('해석', 61)\n",
      "('회사', 61)\n",
      "('명품', 61)\n",
      "('막', 61)\n",
      "('볼때', 61)\n",
      "('좋은데', 61)\n",
      "('비', 61)\n",
      "('콘서트', 61)\n",
      "('새', 60)\n",
      "('글', 60)\n",
      "('호', 60)\n",
      "('COUTURE', 60)\n",
      "('활용', 60)\n",
      "('선', 60)\n",
      "('달', 60)\n",
      "('니', 60)\n",
      "('논란', 60)\n",
      "('수가', 60)\n",
      "('헐', 60)\n",
      "('다해', 60)\n",
      "('말투', 60)\n",
      "('제목', 60)\n",
      "('해외', 59)\n",
      "('있는데', 59)\n",
      "('없어', 59)\n",
      "('해주세요', 59)\n",
      "('친구', 58)\n",
      "('파', 58)\n",
      "('지', 58)\n",
      "('끼', 58)\n",
      "('알았는데', 58)\n",
      "('해야', 58)\n",
      "('보이는', 58)\n",
      "('보니', 58)\n",
      "('볼살', 58)\n",
      "('자꾸', 58)\n",
      "('시절', 57)\n",
      "('허리', 57)\n",
      "('머', 57)\n",
      "('웃음', 57)\n",
      "('됨', 57)\n",
      "('아주', 57)\n",
      "('척', 57)\n",
      "('땐', 57)\n",
      "('커', 56)\n",
      "('개인', 56)\n",
      "('개성', 56)\n",
      "('집중', 56)\n",
      "('CALVIN', 56)\n",
      "('KLEIN', 56)\n",
      "('코첼라', 56)\n",
      "('lo', 56)\n",
      "('부럽다', 56)\n",
      "('유튜브', 56)\n",
      "('좋', 55)\n",
      "('전체', 55)\n",
      "('립', 55)\n",
      "('완벽', 55)\n",
      "('앨범', 55)\n",
      "('강조', 55)\n",
      "('돈', 55)\n",
      "('아닌데', 55)\n",
      "('일본어', 55)\n",
      "('인성', 55)\n",
      "('존재', 54)\n",
      "('영국', 54)\n",
      "('럭셔리', 54)\n",
      "('센스', 54)\n",
      "('귀', 54)\n",
      "('계단', 54)\n",
      "('♡♡', 54)\n",
      "('왜케', 54)\n",
      "('얘', 54)\n",
      "('몇번', 54)\n",
      "('첫', 54)\n",
      "('힘', 53)\n",
      "('인터뷰', 53)\n",
      "('로고', 53)\n",
      "('발', 53)\n",
      "('블루', 53)\n",
      "('카디건', 53)\n",
      "('향수', 53)\n",
      "('가사', 53)\n",
      "('보임', 53)\n",
      "('티비', 53)\n",
      "('하이', 52)\n",
      "('화제', 52)\n",
      "('라프', 52)\n",
      "('무', 52)\n",
      "('보면서', 52)\n",
      "('걸크러시', 52)\n",
      "('디자인', 52)\n",
      "('짧은', 52)\n",
      "('눈길', 51)\n",
      "('설명', 51)\n",
      "('체크', 51)\n",
      "('배우', 51)\n",
      "('작업', 51)\n",
      "('폰', 51)\n",
      "('중간', 51)\n",
      "('사랑스러워', 51)\n",
      "('별로', 51)\n",
      "('xa', 51)\n",
      "('웃겨', 51)\n",
      "('투어', 50)\n",
      "('본인', 50)\n",
      "('하다', 50)\n",
      "('한국어', 50)\n",
      "('될', 50)\n",
      "('보게', 50)\n",
      "('나오면', 50)\n",
      "('새롭', 49)\n",
      "('시대', 49)\n",
      "('장', 49)\n",
      "('꽃', 49)\n",
      "('나라', 49)\n",
      "('누나', 49)\n",
      "('이해', 49)\n",
      "('미추리', 49)\n",
      "('보다가', 49)\n",
      "('않고', 49)\n",
      "('사랑스러운', 49)\n",
      "('간호사', 49)\n",
      "('겁', 49)\n",
      "('꽝손', 49)\n",
      "('차', 48)\n",
      "('소녀', 48)\n",
      "('반', 48)\n",
      "('가죽', 48)\n",
      "('위해', 48)\n",
      "('진행', 48)\n",
      "('평소', 48)\n",
      "('얘기', 48)\n",
      "('스', 48)\n",
      "('인형', 48)\n",
      "('장미', 48)\n",
      "('단어', 48)\n",
      "('딸', 48)\n",
      "('소름', 48)\n",
      "('좋음', 48)\n",
      "('있을', 48)\n",
      "('최근', 48)\n",
      "('비주', 48)\n",
      "('제거', 48)\n",
      "('제작', 47)\n",
      "('특유', 47)\n",
      "('런웨이', 47)\n",
      "('배', 47)\n",
      "('감성', 47)\n",
      "('일본', 47)\n",
      "('외국', 47)\n",
      "('생긴', 47)\n",
      "('사랑스럽고', 47)\n",
      "('나올', 47)\n",
      "('화장', 47)\n",
      "('아닌', 47)\n",
      "('계란말이', 47)\n",
      "('부츠', 46)\n",
      "('뷰티', 46)\n",
      "('협업', 46)\n",
      "('자리', 46)\n",
      "('여신', 46)\n",
      "('자연', 46)\n",
      "('코', 46)\n",
      "('듣고', 46)\n",
      "('없음', 46)\n",
      "('웃김', 46)\n",
      "('당시', 45)\n",
      "('끌', 45)\n",
      "('LAURENT', 45)\n",
      "('행복', 45)\n",
      "('가능', 45)\n",
      "('대표', 45)\n",
      "('리본', 45)\n",
      "('문제', 45)\n",
      "('편집', 45)\n",
      "('비교', 45)\n",
      "('절대', 45)\n",
      "('방송', 45)\n",
      "('싶다', 45)\n",
      "('와중', 45)\n",
      "('돌려', 45)\n",
      "('긴', 45)\n",
      "('갭', 45)\n",
      "('통', 44)\n",
      "('이야기', 44)\n",
      "('가을', 44)\n",
      "('조', 44)\n",
      "('아기', 44)\n",
      "('있습니다', 44)\n",
      "('있지', 44)\n",
      "('졸라', 44)\n",
      "('신', 43)\n",
      "('현재', 43)\n",
      "('파티', 43)\n",
      "('열리', 43)\n",
      "('JEWERLY', 43)\n",
      "('미소', 43)\n",
      "('풀', 43)\n",
      "('마무리', 43)\n",
      "('아래', 43)\n",
      "('노력', 43)\n",
      "('인정', 43)\n",
      "('먼저', 43)\n",
      "('아시', 43)\n",
      "('love', 43)\n",
      "('하기', 43)\n",
      "('본다', 43)\n",
      "('길', 42)\n",
      "('효과', 42)\n",
      "('직접', 42)\n",
      "('메', 42)\n",
      "('섹시', 42)\n",
      "('음', 42)\n",
      "('핀', 42)\n",
      "('보인다', 42)\n",
      "('대한', 42)\n",
      "('되고', 42)\n",
      "('더욱', 42)\n",
      "('루', 41)\n",
      "('로즈', 41)\n",
      "('밤', 41)\n",
      "('벨벳', 41)\n",
      "('나이', 41)\n",
      "('월드', 41)\n",
      "('천사', 41)\n",
      "('연애', 41)\n",
      "('정보', 41)\n",
      "('역대', 41)\n",
      "('컨셉', 41)\n",
      "('살짝', 41)\n",
      "('JENNIE', 41)\n",
      "('실화', 41)\n",
      "('확실히', 41)\n",
      "('있으면', 41)\n",
      "('늘', 41)\n",
      "('소', 40)\n"
     ]
    }
   ],
   "source": [
    "word_list = count.most_common(500)\n",
    "for v in word_list:\n",
    "    print(v)"
   ]
  },
  {
   "cell_type": "code",
   "execution_count": 105,
   "metadata": {},
   "outputs": [],
   "source": [
    "top500 = pd.DataFrame(word_list)"
   ]
  },
  {
   "cell_type": "code",
   "execution_count": 106,
   "metadata": {},
   "outputs": [],
   "source": [
    "top500.columns = ['word', 'count']"
   ]
  },
  {
   "cell_type": "code",
   "execution_count": 107,
   "metadata": {},
   "outputs": [],
   "source": [
    "top500.to_csv('./D4JE_top500.csv', sep='|', encoding = 'utf-8', index = False)"
   ]
  },
  {
   "cell_type": "markdown",
   "metadata": {},
   "source": [
    "## 워드클라우드 만들기"
   ]
  },
  {
   "cell_type": "code",
   "execution_count": 85,
   "metadata": {},
   "outputs": [],
   "source": [
    "import matplotlib.pyplot as plt"
   ]
  },
  {
   "cell_type": "code",
   "execution_count": 86,
   "metadata": {},
   "outputs": [
    {
     "name": "stdout",
     "output_type": "stream",
     "text": [
      "Malgun Gothic C:\\WINDOWS\\Fonts\\malgun.ttf\n",
      "Yu Gothic C:\\WINDOWS\\Fonts\\YuGothB.ttc\n",
      "HYGothic-Extra C:\\WINDOWS\\Fonts\\H2GTRE.TTF\n",
      "Franklin Gothic Medium C:\\WINDOWS\\Fonts\\framdit.ttf\n",
      "Malgun Gothic C:\\Windows\\Fonts\\malgunbd.ttf\n",
      "Yu Gothic C:\\Windows\\Fonts\\YuGothL.ttc\n",
      "Century Gothic C:\\Windows\\Fonts\\GOTHIC.TTF\n",
      "Yu Gothic C:\\Windows\\Fonts\\YuGothM.ttc\n",
      "Yu Gothic C:\\WINDOWS\\Fonts\\YuGothR.ttc\n",
      "MS Gothic C:\\WINDOWS\\Fonts\\msgothic.ttc\n",
      "HYGothic-Medium C:\\WINDOWS\\Fonts\\H2GTRM.TTF\n",
      "Malgun Gothic C:\\WINDOWS\\Fonts\\malgunsl.ttf\n",
      "Century Gothic C:\\Windows\\Fonts\\GOTHICI.TTF\n",
      "Century Gothic C:\\WINDOWS\\Fonts\\GOTHICBI.TTF\n",
      "Century Gothic C:\\Windows\\Fonts\\GOTHICB.TTF\n",
      "Franklin Gothic Medium C:\\WINDOWS\\Fonts\\framd.ttf\n"
     ]
    }
   ],
   "source": [
    "import matplotlib.font_manager as fm\n",
    "\n",
    "# 이용 가능한 폰트 중 '고딕'만 선별\n",
    "for font in fm.fontManager.ttflist:\n",
    "    if 'Gothic' in font.name:\n",
    "        print(font.name, font.fname)"
   ]
  },
  {
   "cell_type": "code",
   "execution_count": 87,
   "metadata": {},
   "outputs": [],
   "source": [
    "font_path = 'C:\\WINDOWS\\Fonts\\malgun.ttf'"
   ]
  },
  {
   "cell_type": "markdown",
   "metadata": {},
   "source": [
    "### 워드클라우드 그리기"
   ]
  },
  {
   "cell_type": "code",
   "execution_count": 88,
   "metadata": {},
   "outputs": [],
   "source": [
    "from wordcloud import WordCloud"
   ]
  },
  {
   "cell_type": "code",
   "execution_count": 108,
   "metadata": {},
   "outputs": [],
   "source": [
    "wc = WordCloud(font_path=font_path, background_color=\"white\", width=600, height=400)"
   ]
  },
  {
   "cell_type": "code",
   "execution_count": 109,
   "metadata": {},
   "outputs": [
    {
     "data": {
      "image/png": "[encoded data removed]",
      "text/plain": [
       "<Figure size 432x288 with 1 Axes>"
      ]
     },
     "metadata": {
      "needs_background": "light"
     },
     "output_type": "display_data"
    },
    {
     "data": {
      "text/plain": [
       "<wordcloud.wordcloud.WordCloud at 0x2479d7e7988>"
      ]
     },
     "execution_count": 109,
     "metadata": {},
     "output_type": "execute_result"
    }
   ],
   "source": [
    "wc.generate_from_frequencies(dict(word_list))\n",
    "\n",
    "plt.imshow(wc) \n",
    "plt.axis('off') \n",
    "plt.show()\n",
    "\n",
    "\n",
    "wc.to_file('wc_D4JE_top500.png')"
   ]
  },
  {
   "cell_type": "code",
   "execution_count": 110,
   "metadata": {},
   "outputs": [],
   "source": [
    "D4JE.to_csv('./magazine/final/D4JE_adfn_2.csv', sep='|', encoding = 'utf-8', index = False)"
   ]
  },
  {
   "cell_type": "code",
   "execution_count": null,
   "metadata": {},
   "outputs": [],
   "source": []
  },
  {
   "cell_type": "code",
   "execution_count": null,
   "metadata": {},
   "outputs": [],
   "source": []
  },
  {
   "cell_type": "code",
   "execution_count": null,
   "metadata": {},
   "outputs": [],
   "source": []
  }
 ],
 "metadata": {
  "kernelspec": {
   "display_name": "Python 3",
   "language": "python",
   "name": "python3"
  },
  "language_info": {
   "codemirror_mode": {
    "name": "ipython",
    "version": 3
   },
   "file_extension": ".py",
   "mimetype": "text/x-python",
   "name": "python",
   "nbconvert_exporter": "python",
   "pygments_lexer": "ipython3",
   "version": "3.7.6"
  }
 },
 "nbformat": 4,
 "nbformat_minor": 4
}
