{
 "cells": [
  {
   "cell_type": "code",
   "execution_count": 1,
   "metadata": {},
   "outputs": [],
   "source": [
    "import pandas as pd\n",
    "import numpy as np"
   ]
  },
  {
   "cell_type": "code",
   "execution_count": 2,
   "metadata": {},
   "outputs": [],
   "source": [
    "video = pd.read_csv('./comment_per_video.csv', sep='|', encoding = 'utf-8')"
   ]
  },
  {
   "cell_type": "code",
   "execution_count": 3,
   "metadata": {},
   "outputs": [
    {
     "data": {
      "text/html": [
       "<div>\n",
       "<style scoped>\n",
       "    .dataframe tbody tr th:only-of-type {\n",
       "        vertical-align: middle;\n",
       "    }\n",
       "\n",
       "    .dataframe tbody tr th {\n",
       "        vertical-align: top;\n",
       "    }\n",
       "\n",
       "    .dataframe thead th {\n",
       "        text-align: right;\n",
       "    }\n",
       "</style>\n",
       "<table border=\"1\" class=\"dataframe\">\n",
       "  <thead>\n",
       "    <tr style=\"text-align: right;\">\n",
       "      <th></th>\n",
       "      <th>member</th>\n",
       "      <th>title</th>\n",
       "      <th>contents</th>\n",
       "    </tr>\n",
       "  </thead>\n",
       "  <tbody>\n",
       "    <tr>\n",
       "      <th>0</th>\n",
       "      <td>JISOO</td>\n",
       "      <td>BLACKPINK - 'How You Like That' JISOO Concept ...</td>\n",
       "      <td>['Super 지수. 엡븐에요 지수', '와우 너무나 예쁘다 요🤩😍💖🖤💖🖤💖🖤💕',...</td>\n",
       "    </tr>\n",
       "    <tr>\n",
       "      <th>1</th>\n",
       "      <td>LISA</td>\n",
       "      <td>BLACKPINK - 'How You Like That' LISA Concept T...</td>\n",
       "      <td>['Yorumlada turk cok gördum ve selamlar verıyo...</td>\n",
       "    </tr>\n",
       "    <tr>\n",
       "      <th>2</th>\n",
       "      <td>ROSE</td>\n",
       "      <td>BLACKPINK - 'How You Like That' ROSÉ Concept T...</td>\n",
       "      <td>['22.4MMAIN VOCALIST 로제BLACKPINK 로제 #로제 #로제', ...</td>\n",
       "    </tr>\n",
       "    <tr>\n",
       "      <th>3</th>\n",
       "      <td>JENNIE</td>\n",
       "      <td>BLACKPINK - 'KILL THIS LOVE' JENNIE TEASER VID...</td>\n",
       "      <td>['좋은 신에게 제니 😍😍', '제니언니 금발머리 하니깐 외국인 같아요....존나 ...</td>\n",
       "    </tr>\n",
       "    <tr>\n",
       "      <th>4</th>\n",
       "      <td>JISOO</td>\n",
       "      <td>BLACKPINK - 'KILL THIS LOVE' JISOO TEASER VIDE...</td>\n",
       "      <td>['YG, BLINKS가 요청한 지수의 선명도 공식 오디오', '넌 최고의 가수야....</td>\n",
       "    </tr>\n",
       "    <tr>\n",
       "      <th>...</th>\n",
       "      <td>...</td>\n",
       "      <td>...</td>\n",
       "      <td>...</td>\n",
       "    </tr>\n",
       "    <tr>\n",
       "      <th>200</th>\n",
       "      <td>ROSE</td>\n",
       "      <td>세상 귀욤()열매 혼자 다 먹은듯한 블랙핑크 로제 인스타라이브 (feat_ 지수_ ...</td>\n",
       "      <td>['지수 말투 ㅋㅋㅋㅋㅋㅋㅋㅋㅋㅋㅋㅋㅋㅋㅋㅋㅋㅋㅋㅋㅋㅋㅋ 연예인이지만 전형적인 10...</td>\n",
       "    </tr>\n",
       "    <tr>\n",
       "      <th>201</th>\n",
       "      <td>ROSE</td>\n",
       "      <td>세상에 로제도 데이터 걱정한다_인스타라이브 [블랙핑크로제]_korean_commen...</td>\n",
       "      <td>['박로제 진짜 매력은 가창력, 춤, 몸매가 아닌 순박함과 멍챙함인 듯ㅋㅋㅋㅌㅌㅌ'...</td>\n",
       "    </tr>\n",
       "    <tr>\n",
       "      <th>202</th>\n",
       "      <td>ROSE</td>\n",
       "      <td>스타일리스트가 분석한 로제 패션이 진짜 넘사벽인 이유_korean_comment.csv</td>\n",
       "      <td>['로제가 진짜 보석인듯', '솔직히 BLACKPINK는 맴버하나하나 다 패션분석쌉...</td>\n",
       "    </tr>\n",
       "    <tr>\n",
       "      <th>203</th>\n",
       "      <td>ROSE</td>\n",
       "      <td>아무데서나 볼 수 없을걸요 로제 커버 화보 촬영현장 비하인드 대방출! by W Ko...</td>\n",
       "      <td>['영어 자막이 추가되었습니다! 즐겁게 감상 부탁드려요 :)English subti...</td>\n",
       "    </tr>\n",
       "    <tr>\n",
       "      <th>204</th>\n",
       "      <td>ROSE</td>\n",
       "      <td>🇦🇺호주 출신 블랙핑크 로제의 사랑스러운 영어 발음 [한영자막]_korean_com...</td>\n",
       "      <td>['👉🏻 자막 영문 스크립트: jjinenglish7.tistory.com👉🏻 04...</td>\n",
       "    </tr>\n",
       "  </tbody>\n",
       "</table>\n",
       "<p>205 rows × 3 columns</p>\n",
       "</div>"
      ],
      "text/plain": [
       "     member                                              title  \\\n",
       "0     JISOO  BLACKPINK - 'How You Like That' JISOO Concept ...   \n",
       "1      LISA  BLACKPINK - 'How You Like That' LISA Concept T...   \n",
       "2      ROSE  BLACKPINK - 'How You Like That' ROSÉ Concept T...   \n",
       "3    JENNIE  BLACKPINK - 'KILL THIS LOVE' JENNIE TEASER VID...   \n",
       "4     JISOO  BLACKPINK - 'KILL THIS LOVE' JISOO TEASER VIDE...   \n",
       "..      ...                                                ...   \n",
       "200    ROSE  세상 귀욤()열매 혼자 다 먹은듯한 블랙핑크 로제 인스타라이브 (feat_ 지수_ ...   \n",
       "201    ROSE  세상에 로제도 데이터 걱정한다_인스타라이브 [블랙핑크로제]_korean_commen...   \n",
       "202    ROSE   스타일리스트가 분석한 로제 패션이 진짜 넘사벽인 이유_korean_comment.csv   \n",
       "203    ROSE  아무데서나 볼 수 없을걸요 로제 커버 화보 촬영현장 비하인드 대방출! by W Ko...   \n",
       "204    ROSE  🇦🇺호주 출신 블랙핑크 로제의 사랑스러운 영어 발음 [한영자막]_korean_com...   \n",
       "\n",
       "                                              contents  \n",
       "0    ['Super 지수. 엡븐에요 지수', '와우 너무나 예쁘다 요🤩😍💖🖤💖🖤💖🖤💕',...  \n",
       "1    ['Yorumlada turk cok gördum ve selamlar verıyo...  \n",
       "2    ['22.4MMAIN VOCALIST 로제BLACKPINK 로제 #로제 #로제', ...  \n",
       "3    ['좋은 신에게 제니 😍😍', '제니언니 금발머리 하니깐 외국인 같아요....존나 ...  \n",
       "4    ['YG, BLINKS가 요청한 지수의 선명도 공식 오디오', '넌 최고의 가수야....  \n",
       "..                                                 ...  \n",
       "200  ['지수 말투 ㅋㅋㅋㅋㅋㅋㅋㅋㅋㅋㅋㅋㅋㅋㅋㅋㅋㅋㅋㅋㅋㅋㅋ 연예인이지만 전형적인 10...  \n",
       "201  ['박로제 진짜 매력은 가창력, 춤, 몸매가 아닌 순박함과 멍챙함인 듯ㅋㅋㅋㅌㅌㅌ'...  \n",
       "202  ['로제가 진짜 보석인듯', '솔직히 BLACKPINK는 맴버하나하나 다 패션분석쌉...  \n",
       "203  ['영어 자막이 추가되었습니다! 즐겁게 감상 부탁드려요 :)English subti...  \n",
       "204  ['👉🏻 자막 영문 스크립트: jjinenglish7.tistory.com👉🏻 04...  \n",
       "\n",
       "[205 rows x 3 columns]"
      ]
     },
     "execution_count": 3,
     "metadata": {},
     "output_type": "execute_result"
    }
   ],
   "source": [
    "video"
   ]
  },
  {
   "cell_type": "code",
   "execution_count": 15,
   "metadata": {},
   "outputs": [],
   "source": [
    "vi_je = video[video['member']=='JENNIE']"
   ]
  },
  {
   "cell_type": "code",
   "execution_count": 16,
   "metadata": {},
   "outputs": [],
   "source": [
    "article_list = []\n",
    "for word in vi_je['contents']:\n",
    "    article_list.append(word)"
   ]
  },
  {
   "cell_type": "code",
   "execution_count": 17,
   "metadata": {},
   "outputs": [
    {
     "data": {
      "text/plain": [
       "60"
      ]
     },
     "execution_count": 17,
     "metadata": {},
     "output_type": "execute_result"
    }
   ],
   "source": [
    "len(article_list)"
   ]
  },
  {
   "cell_type": "code",
   "execution_count": null,
   "metadata": {},
   "outputs": [],
   "source": []
  },
  {
   "cell_type": "markdown",
   "metadata": {},
   "source": [
    "## konlpy 설치"
   ]
  },
  {
   "cell_type": "code",
   "execution_count": 23,
   "metadata": {},
   "outputs": [],
   "source": [
    "from konlpy.tag import Twitter"
   ]
  },
  {
   "cell_type": "code",
   "execution_count": 19,
   "metadata": {},
   "outputs": [
    {
     "name": "stderr",
     "output_type": "stream",
     "text": [
      "C:\\Users\\wnsgo\\anaconda3\\lib\\site-packages\\konlpy\\tag\\_okt.py:16: UserWarning: \"Twitter\" has changed to \"Okt\" since KoNLPy v0.4.5.\n",
      "  warn('\"Twitter\" has changed to \"Okt\" since KoNLPy v0.4.5.')\n"
     ]
    }
   ],
   "source": [
    "twitter = Twitter()"
   ]
  },
  {
   "cell_type": "markdown",
   "metadata": {},
   "source": [
    "### 형태소 구분"
   ]
  },
  {
   "cell_type": "code",
   "execution_count": 20,
   "metadata": {},
   "outputs": [
    {
     "name": "stdout",
     "output_type": "stream",
     "text": [
      "60\n"
     ]
    }
   ],
   "source": [
    "sentences_tag = []\n",
    "\n",
    "for sentence in article_list:\n",
    "    morph = twitter.pos(sentence)\n",
    "    sentences_tag.append(morph)\n",
    "    \n",
    "    \n",
    "\n",
    "print(len(sentences_tag))\n"
   ]
  },
  {
   "cell_type": "code",
   "execution_count": 21,
   "metadata": {},
   "outputs": [
    {
     "data": {
      "text/plain": [
       "[(\"['\", 'Punctuation'),\n",
       " ('좋은', 'Adjective'),\n",
       " ('신', 'Noun'),\n",
       " ('에게', 'Josa'),\n",
       " ('제니', 'Noun'),\n",
       " ('😍😍', 'Foreign'),\n",
       " (\"',\", 'Punctuation'),\n",
       " (\"'\", 'Punctuation'),\n",
       " ('제니', 'Noun'),\n",
       " ('언니', 'Suffix'),\n",
       " ('금발머리', 'Noun'),\n",
       " ('하', 'Noun'),\n",
       " ('니깐', 'Josa'),\n",
       " ('외국인', 'Noun'),\n",
       " ('같아요', 'Adjective'),\n",
       " ('....', 'Punctuation'),\n",
       " ('존나', 'Noun'),\n",
       " ('예쁘다', 'Adjective'),\n",
       " ('♥♥♥♥', 'Foreign'),\n",
       " (\"',\", 'Punctuation'),\n",
       " (\"'\", 'Punctuation'),\n",
       " ('왠지', 'Adverb'),\n",
       " ('모르겠지만', 'Verb'),\n",
       " ('분위기', 'Noun'),\n",
       " ('가', 'Josa'),\n",
       " ('이번', 'Noun'),\n",
       " ('엑소', 'Noun'),\n",
       " ('컴백', 'Noun'),\n",
       " ('티저', 'Noun'),\n",
       " ('랑', 'Josa'),\n",
       " ('비슷한거', 'Adjective'),\n",
       " ('같아여', 'Adjective'),\n",
       " ('결론', 'Noun'),\n",
       " ('은', 'Josa'),\n",
       " ('좋음', 'Adjective'),\n",
       " ('❤❤❤', 'Foreign'),\n",
       " (\"',\", 'Punctuation'),\n",
       " (\"'\", 'Punctuation'),\n",
       " ('터키', 'Noun'),\n",
       " ('에', 'Josa'),\n",
       " ('와주세요', 'Verb'),\n",
       " ('BLACKP', 'Alpha'),\n",
       " ('İ', 'Foreign'),\n",
       " ('NK', 'Alpha'),\n",
       " ('❤️❤️', 'Foreign'),\n",
       " (\"',\", 'Punctuation'),\n",
       " (\"'\", 'Punctuation'),\n",
       " ('아름다운', 'Adjective'),\n",
       " ('금발', 'Noun'),\n",
       " ('머리', 'Noun'),\n",
       " ('를', 'Josa'),\n",
       " ('가진', 'Verb'),\n",
       " ('제니', 'Noun'),\n",
       " ('♥♥♥♥', 'Foreign'),\n",
       " (\"',\", 'Punctuation'),\n",
       " (\"'\", 'Punctuation'),\n",
       " ('효린', 'Noun'),\n",
       " ('인줄', 'Verb'),\n",
       " (\"',\", 'Punctuation'),\n",
       " (\"'#제니\", 'Hashtag'),\n",
       " ('#BLACKPINK', 'Hashtag'),\n",
       " (\"!!',\", 'Punctuation'),\n",
       " (\"'\", 'Punctuation'),\n",
       " ('와우', 'Noun'),\n",
       " (',', 'Punctuation'),\n",
       " ('커널', 'Noun'),\n",
       " ('머리', 'Noun'),\n",
       " ('제니', 'Noun'),\n",
       " ('...', 'Punctuation'),\n",
       " ('당신', 'Noun'),\n",
       " ('은', 'Josa'),\n",
       " ('놀랍니다', 'Verb'),\n",
       " (\"!',\", 'Punctuation'),\n",
       " (\"'\", 'Punctuation'),\n",
       " ('처음', 'Noun'),\n",
       " ('에', 'Josa'),\n",
       " ('1초', 'Number'),\n",
       " ('효린인줄', 'Foreign'),\n",
       " (\"..',\", 'Punctuation'),\n",
       " (\"'\", 'Punctuation'),\n",
       " ('완전', 'Noun'),\n",
       " ('기대', 'Noun'),\n",
       " ('♥♥♥', 'Foreign'),\n",
       " (\"',\", 'Punctuation'),\n",
       " (\"'\", 'Punctuation'),\n",
       " ('제니', 'Noun'),\n",
       " ('😍😍', 'Foreign'),\n",
       " (\"',\", 'Punctuation'),\n",
       " (\"'\", 'Punctuation'),\n",
       " ('금발', 'Noun'),\n",
       " (\"?!?!??!',\", 'Punctuation'),\n",
       " (\"'\", 'Punctuation'),\n",
       " ('흐에', 'Exclamation'),\n",
       " ('으아', 'Exclamation'),\n",
       " ('으아', 'Exclamation'),\n",
       " ('앍', 'Verb'),\n",
       " ('제니', 'Noun'),\n",
       " ('금발', 'Noun'),\n",
       " ('이라니', 'Josa'),\n",
       " ('미쳤어', 'Adjective'),\n",
       " ('내', 'Determiner'),\n",
       " ('심장', 'Noun'),\n",
       " ('터뜨려주거', 'Verb'),\n",
       " ('ㅠㅠ', 'KoreanParticle'),\n",
       " ('제니', 'Noun'),\n",
       " ('얼굴', 'Noun'),\n",
       " ('어쩌면', 'Noun'),\n",
       " ('좋아', 'Adjective'),\n",
       " ('흐어어', 'Exclamation'),\n",
       " ('엏', 'Noun'),\n",
       " ('ㅠㅠ', 'KoreanParticle'),\n",
       " ('세상', 'Noun'),\n",
       " ('제일', 'Noun'),\n",
       " ('존나', 'Noun'),\n",
       " ('예쁘다', 'Adjective'),\n",
       " ('탱', 'Adverb'),\n",
       " ('..,', 'Punctuation'),\n",
       " ('♡', 'Foreign'),\n",
       " ('분위기', 'Noun'),\n",
       " ('미쳐', 'Adjective'),\n",
       " ('써', 'Verb'),\n",
       " ('존나', 'Noun'),\n",
       " ('예쁘다', 'Adjective'),\n",
       " ('그냥', 'Noun'),\n",
       " ('이쁘단', 'Adjective'),\n",
       " ('말로', 'Noun'),\n",
       " ('모자람', 'Verb'),\n",
       " ('우리', 'Noun'),\n",
       " ('제니', 'Noun'),\n",
       " ('그냥', 'Noun'),\n",
       " ('여신', 'Noun'),\n",
       " ('님', 'Suffix'),\n",
       " ('이었어', 'Verb'),\n",
       " ('젠', 'Noun'),\n",
       " ('여신', 'Noun'),\n",
       " ('님', 'Suffix'),\n",
       " ('펑생', 'Noun'),\n",
       " ('떠받', 'Verb'),\n",
       " ('들고', 'Verb'),\n",
       " ('살게요', 'Verb'),\n",
       " ('김젠젠', 'Noun'),\n",
       " ('사랑', 'Noun'),\n",
       " ('해', 'Noun'),\n",
       " ('ㅠㅜㅜㅜㅠㅜ', 'KoreanParticle'),\n",
       " ('♡♡♡♡♡♡', 'Foreign'),\n",
       " (\"']\", 'Punctuation')]"
      ]
     },
     "execution_count": 21,
     "metadata": {},
     "output_type": "execute_result"
    }
   ],
   "source": [
    "sentences_tag[0]"
   ]
  },
  {
   "cell_type": "code",
   "execution_count": 22,
   "metadata": {},
   "outputs": [
    {
     "data": {
      "text/plain": [
       "{'Adjective': '형용사',\n",
       " 'Adverb': '부사',\n",
       " 'Alpha': '알파벳',\n",
       " 'Conjunction': '접속사',\n",
       " 'Determiner': '관형사',\n",
       " 'Eomi': '어미',\n",
       " 'Exclamation': '감탄사',\n",
       " 'Foreign': '외국어, 한자 및 기타기호',\n",
       " 'Hashtag': '트위터 해쉬태그',\n",
       " 'Josa': '조사',\n",
       " 'KoreanParticle': '(ex: ㅋㅋ)',\n",
       " 'Noun': '명사',\n",
       " 'Number': '숫자',\n",
       " 'PreEomi': '선어말어미',\n",
       " 'Punctuation': '구두점',\n",
       " 'ScreenName': '트위터 아이디',\n",
       " 'Suffix': '접미사',\n",
       " 'Unknown': '미등록어',\n",
       " 'Verb': '동사'}"
      ]
     },
     "execution_count": 22,
     "metadata": {},
     "output_type": "execute_result"
    }
   ],
   "source": [
    "twitter.tagset"
   ]
  },
  {
   "cell_type": "code",
   "execution_count": null,
   "metadata": {},
   "outputs": [],
   "source": []
  },
  {
   "cell_type": "code",
   "execution_count": null,
   "metadata": {},
   "outputs": [],
   "source": []
  },
  {
   "cell_type": "code",
   "execution_count": null,
   "metadata": {},
   "outputs": [],
   "source": []
  },
  {
   "cell_type": "code",
   "execution_count": null,
   "metadata": {},
   "outputs": [],
   "source": []
  },
  {
   "cell_type": "code",
   "execution_count": null,
   "metadata": {},
   "outputs": [],
   "source": []
  },
  {
   "cell_type": "code",
   "execution_count": null,
   "metadata": {},
   "outputs": [],
   "source": []
  },
  {
   "cell_type": "code",
   "execution_count": null,
   "metadata": {},
   "outputs": [],
   "source": []
  },
  {
   "cell_type": "code",
   "execution_count": null,
   "metadata": {},
   "outputs": [],
   "source": []
  },
  {
   "cell_type": "code",
   "execution_count": null,
   "metadata": {},
   "outputs": [],
   "source": []
  },
  {
   "cell_type": "code",
   "execution_count": null,
   "metadata": {},
   "outputs": [],
   "source": []
  }
 ],
 "metadata": {
  "kernelspec": {
   "display_name": "Python 3",
   "language": "python",
   "name": "python3"
  },
  "language_info": {
   "codemirror_mode": {
    "name": "ipython",
    "version": 3
   },
   "file_extension": ".py",
   "mimetype": "text/x-python",
   "name": "python",
   "nbconvert_exporter": "python",
   "pygments_lexer": "ipython3",
   "version": "3.7.6"
  }
 },
 "nbformat": 4,
 "nbformat_minor": 4
}
