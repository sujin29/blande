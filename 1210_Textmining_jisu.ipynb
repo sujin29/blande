{
 "cells": [
  {
   "cell_type": "code",
   "execution_count": 1,
   "metadata": {},
   "outputs": [],
   "source": [
    "import pandas as pd\n",
    "import numpy as np"
   ]
  },
  {
   "cell_type": "code",
   "execution_count": 2,
   "metadata": {},
   "outputs": [],
   "source": [
    "from collections import Counter"
   ]
  },
  {
   "cell_type": "code",
   "execution_count": 3,
   "metadata": {},
   "outputs": [],
   "source": [
    "elle_jisu = pd.read_csv('./blackpink/elle_Ji.csv', sep='|', encoding = 'utf-8')\n",
    "cosmo_jisu = pd.read_csv('./blackpink/cosmo_Ji.csv', sep='|', encoding = 'utf-8')\n",
    "marie_jisu = pd.read_csv('./blackpink/marie_Ji.csv', sep='|', encoding = 'utf-8')"
   ]
  },
  {
   "cell_type": "markdown",
   "metadata": {},
   "source": [
    "## 전처리"
   ]
  },
  {
   "cell_type": "markdown",
   "metadata": {},
   "source": [
    "### 기호삭제"
   ]
  },
  {
   "cell_type": "code",
   "execution_count": 4,
   "metadata": {},
   "outputs": [],
   "source": [
    "# ce_dw['word_celine'] = ce_dw['word_celine'].str.replace('[', '').str.replace(']', '').str.replace('\\\\', '').str.replace('\"', '').str.replace(\"'\", \"\").str.replace('「', '').str.replace('」', '').str.replace('”', '').str.replace('‘', '').str.replace('“', '')"
   ]
  },
  {
   "cell_type": "code",
   "execution_count": null,
   "metadata": {},
   "outputs": [],
   "source": []
  },
  {
   "cell_type": "markdown",
   "metadata": {},
   "source": [
    "## list(article_list) 생성 후 append"
   ]
  },
  {
   "cell_type": "code",
   "execution_count": 5,
   "metadata": {},
   "outputs": [],
   "source": [
    "contents_list = []"
   ]
  },
  {
   "cell_type": "code",
   "execution_count": 6,
   "metadata": {},
   "outputs": [],
   "source": [
    "mag_jisu = [elle_jisu, cosmo_jisu, marie_jisu]"
   ]
  },
  {
   "cell_type": "code",
   "execution_count": 7,
   "metadata": {},
   "outputs": [],
   "source": [
    "magazine_list = []\n",
    "article_list = []\n",
    "for magazine in mag_jisu:\n",
    "    articles = magazine['word_jisu']\n",
    "    for article in articles:\n",
    "        article_list.append(article)"
   ]
  },
  {
   "cell_type": "code",
   "execution_count": 8,
   "metadata": {},
   "outputs": [
    {
     "data": {
      "text/plain": [
       "73"
      ]
     },
     "execution_count": 8,
     "metadata": {},
     "output_type": "execute_result"
    }
   ],
   "source": [
    "len(article_list)"
   ]
  },
  {
   "cell_type": "code",
   "execution_count": null,
   "metadata": {},
   "outputs": [],
   "source": []
  },
  {
   "cell_type": "markdown",
   "metadata": {},
   "source": [
    "## 트위터 패키지 안에 konlpy 모듈 호출"
   ]
  },
  {
   "cell_type": "code",
   "execution_count": 9,
   "metadata": {},
   "outputs": [],
   "source": [
    "from konlpy.tag import Twitter"
   ]
  },
  {
   "cell_type": "code",
   "execution_count": 10,
   "metadata": {},
   "outputs": [
    {
     "name": "stderr",
     "output_type": "stream",
     "text": [
      "C:\\Users\\wnsgo\\anaconda3\\lib\\site-packages\\konlpy\\tag\\_okt.py:16: UserWarning: \"Twitter\" has changed to \"Okt\" since KoNLPy v0.4.5.\n",
      "  warn('\"Twitter\" has changed to \"Okt\" since KoNLPy v0.4.5.')\n"
     ]
    }
   ],
   "source": [
    "twitter = Twitter()"
   ]
  },
  {
   "cell_type": "markdown",
   "metadata": {},
   "source": [
    "### 각 문장별로 형태소 구분하기"
   ]
  },
  {
   "cell_type": "code",
   "execution_count": 11,
   "metadata": {},
   "outputs": [
    {
     "name": "stdout",
     "output_type": "stream",
     "text": [
      "73\n"
     ]
    }
   ],
   "source": [
    "sentences_tag = []\n",
    "\n",
    "for sentence in article_list:\n",
    "    morph = twitter.pos(sentence)\n",
    "    sentences_tag.append(morph)\n",
    "    \n",
    "    \n",
    "\n",
    "print(len(sentences_tag))\n"
   ]
  },
  {
   "cell_type": "code",
   "execution_count": 12,
   "metadata": {},
   "outputs": [
    {
     "data": {
      "text/plain": [
       "[('[\"[[],', 'Punctuation'),\n",
       " (\"['',\", 'Punctuation'),\n",
       " (\"'\", 'Punctuation'),\n",
       " ('쇄골', 'Noun'),\n",
       " ('라인', 'Noun'),\n",
       " ('에', 'Josa'),\n",
       " ('걸리는', 'Verb'),\n",
       " ('진주', 'Noun'),\n",
       " ('목걸이', 'Noun'),\n",
       " ('의', 'Josa'),\n",
       " ('클래식', 'Noun'),\n",
       " ('한', 'Josa'),\n",
       " ('매력', 'Noun'),\n",
       " ('을', 'Josa'),\n",
       " ('캐치', 'Noun'),\n",
       " ('한', 'Josa'),\n",
       " ('제니', 'Noun'),\n",
       " ('.', 'Punctuation'),\n",
       " ('화이트', 'Noun'),\n",
       " ('셔츠', 'Noun'),\n",
       " ('와', 'Josa'),\n",
       " ('블랙', 'Noun'),\n",
       " ('컬러', 'Noun'),\n",
       " ('의', 'Josa'),\n",
       " ('테일러', 'Noun'),\n",
       " ('드', 'Noun'),\n",
       " ('재킷', 'Noun'),\n",
       " ('에', 'Josa'),\n",
       " ('진주', 'Noun'),\n",
       " ('목걸이', 'Noun'),\n",
       " ('를', 'Josa'),\n",
       " ('매치', 'Noun'),\n",
       " ('해', 'Verb'),\n",
       " ('세련되게', 'Adjective'),\n",
       " ('연출', 'Noun'),\n",
       " ('했습니다', 'Verb'),\n",
       " ('.', 'Punctuation'),\n",
       " ('진주', 'Noun'),\n",
       " ('주얼리', 'Noun'),\n",
       " ('에', 'Josa'),\n",
       " ('도전', 'Noun'),\n",
       " ('해보고', 'Verb'),\n",
       " ('싶다면', 'Verb'),\n",
       " ('어떤', 'Adjective'),\n",
       " ('룩', 'Noun'),\n",
       " ('에든', 'Josa'),\n",
       " ('자연', 'Noun'),\n",
       " ('스럽게', 'Josa'),\n",
       " ('어울리는', 'Verb'),\n",
       " ('간결한', 'Adjective'),\n",
       " ('진주', 'Noun'),\n",
       " ('목걸이', 'Noun'),\n",
       " ('부터', 'Josa'),\n",
       " ('시작', 'Noun'),\n",
       " ('해보세요', 'Verb'),\n",
       " (\".',\", 'Punctuation'),\n",
       " (\"'',\", 'Punctuation'),\n",
       " (\"'\", 'Punctuation'),\n",
       " ('김나영', 'Noun'),\n",
       " ('은', 'Josa'),\n",
       " ('캐', 'Noun'),\n",
       " ('주얼', 'Noun'),\n",
       " ('한', 'Josa'),\n",
       " ('프린트', 'Noun'),\n",
       " ('티셔츠', 'Noun'),\n",
       " ('와', 'Josa'),\n",
       " ('데님', 'Noun'),\n",
       " ('팬츠', 'Noun'),\n",
       " ('에', 'Josa'),\n",
       " ('허리', 'Noun'),\n",
       " ('라인', 'Noun'),\n",
       " ('까지', 'Josa'),\n",
       " ('내려오는', 'Verb'),\n",
       " ('긴', 'Verb'),\n",
       " ('진주', 'Noun'),\n",
       " ('목걸이', 'Noun'),\n",
       " ('를', 'Josa'),\n",
       " ('매치', 'Noun'),\n",
       " ('했어요', 'Verb'),\n",
       " ('.', 'Punctuation'),\n",
       " ('이런', 'Adjective'),\n",
       " ('스타일', 'Noun'),\n",
       " ('은', 'Josa'),\n",
       " ('쇄골', 'Noun'),\n",
       " ('라인', 'Noun'),\n",
       " ('에', 'Josa'),\n",
       " ('걸쳐지는', 'Verb'),\n",
       " ('짧은', 'Adjective'),\n",
       " ('목걸이', 'Noun'),\n",
       " ('보다', 'Josa'),\n",
       " ('더', 'Noun'),\n",
       " ('화려하고', 'Adjective'),\n",
       " ('성숙한', 'Adjective'),\n",
       " ('느낌', 'Noun'),\n",
       " ('을', 'Josa'),\n",
       " ('줄', 'Noun'),\n",
       " ('수', 'Noun'),\n",
       " ('있죠', 'Adjective'),\n",
       " ('.', 'Punctuation'),\n",
       " ('목', 'Noun'),\n",
       " ('에', 'Josa'),\n",
       " ('두', 'Noun'),\n",
       " ('번', 'Noun'),\n",
       " ('감아', 'Verb'),\n",
       " ('짧게', 'Adjective'),\n",
       " ('연출', 'Noun'),\n",
       " ('할', 'Verb'),\n",
       " ('수도', 'Noun'),\n",
       " ('있으니', 'Adjective'),\n",
       " ('일석이조', 'Noun'),\n",
       " (\"!',\", 'Punctuation'),\n",
       " (\"'',\", 'Punctuation'),\n",
       " (\"'\", 'Punctuation'),\n",
       " ('진주', 'Noun'),\n",
       " ('주얼리', 'Noun'),\n",
       " ('가', 'Josa'),\n",
       " ('얌전하다는', 'Adjective'),\n",
       " ('고정관념', 'Noun'),\n",
       " ('은', 'Josa'),\n",
       " ('이제', 'Noun'),\n",
       " ('버리셔도', 'Verb'),\n",
       " ('좋습니다', 'Adjective'),\n",
       " ('.', 'Punctuation'),\n",
       " ('볼륨', 'Noun'),\n",
       " ('감', 'Noun'),\n",
       " ('있는', 'Adjective'),\n",
       " ('진주', 'Noun'),\n",
       " ('주얼리', 'Noun'),\n",
       " ('는', 'Josa'),\n",
       " ('섹시하고', 'Adjective'),\n",
       " ('대담한', 'Adjective'),\n",
       " ('이미지', 'Noun'),\n",
       " ('를', 'Josa'),\n",
       " ('줄', 'Noun'),\n",
       " ('수', 'Noun'),\n",
       " ('있거든요', 'Adjective'),\n",
       " ('.', 'Punctuation'),\n",
       " ('진주', 'Noun'),\n",
       " ('목걸이', 'Noun'),\n",
       " ('를', 'Josa'),\n",
       " ('목', 'Noun'),\n",
       " ('에', 'Josa'),\n",
       " ('딱', 'Adverb'),\n",
       " ('맞는', 'Verb'),\n",
       " ('초', 'Noun'),\n",
       " ('커', 'Verb'),\n",
       " ('스타일', 'Noun'),\n",
       " ('로', 'Josa'),\n",
       " ('레이어', 'Noun'),\n",
       " ('드하', 'Noun'),\n",
       " ('고', 'Josa'),\n",
       " ('귀여운', 'Adjective'),\n",
       " ('꽃', 'Noun'),\n",
       " ('모티프', 'Noun'),\n",
       " ('의', 'Josa'),\n",
       " ('펜던트', 'Noun'),\n",
       " ('가', 'Josa'),\n",
       " ('잘', 'Verb'),\n",
       " ('보이', 'Noun'),\n",
       " ('게', 'Josa'),\n",
       " ('아래', 'Noun'),\n",
       " ('로', 'Josa'),\n",
       " ('늘어', 'Verb'),\n",
       " ('뜨려', 'Verb'),\n",
       " ('화려하게', 'Adjective'),\n",
       " ('연출', 'Noun'),\n",
       " ('한', 'Josa'),\n",
       " ('전소', 'Noun'),\n",
       " ('미의', 'Adjective'),\n",
       " ('스타일', 'Noun'),\n",
       " ('을', 'Josa'),\n",
       " ('참고', 'Noun'),\n",
       " ('하세요', 'Verb'),\n",
       " (\".',\", 'Punctuation'),\n",
       " (\"'',\", 'Punctuation'),\n",
       " (\"'\", 'Punctuation'),\n",
       " ('지수', 'Noun'),\n",
       " ('의', 'Josa'),\n",
       " ('언', 'Modifier'),\n",
       " ('밸런스', 'Noun'),\n",
       " ('한', 'Josa'),\n",
       " ('이어링', 'Noun'),\n",
       " ('에', 'Josa'),\n",
       " ('주목', 'Noun'),\n",
       " ('해보세요', 'Verb'),\n",
       " ('.', 'Punctuation'),\n",
       " ('한쪽', 'Noun'),\n",
       " ('귀', 'Noun'),\n",
       " ('엔', 'Josa'),\n",
       " ('작고', 'Noun'),\n",
       " ('심플', 'Noun'),\n",
       " ('한', 'Josa'),\n",
       " ('진주', 'Noun'),\n",
       " ('이어링', 'Noun'),\n",
       " ('을', 'Josa'),\n",
       " (',', 'Punctuation'),\n",
       " ('다른', 'Noun'),\n",
       " ('쪽', 'Noun'),\n",
       " ('귀', 'Noun'),\n",
       " ('엔', 'Josa'),\n",
       " ('진주', 'Noun'),\n",
       " ('를', 'Josa'),\n",
       " ('체인', 'Noun'),\n",
       " ('으로', 'Josa'),\n",
       " ('연결한', 'Adjective'),\n",
       " ('드롭', 'Noun'),\n",
       " ('이어링', 'Noun'),\n",
       " ('을', 'Josa'),\n",
       " ('선택', 'Noun'),\n",
       " ('했습니다', 'Verb'),\n",
       " ('.', 'Punctuation'),\n",
       " ('이렇게', 'Adverb'),\n",
       " ('각기', 'Noun'),\n",
       " ('다른', 'Noun'),\n",
       " ('스타일', 'Noun'),\n",
       " ('의', 'Josa'),\n",
       " ('진주', 'Noun'),\n",
       " ('이어링', 'Noun'),\n",
       " ('을', 'Josa'),\n",
       " ('믹스', 'Noun'),\n",
       " ('하면', 'Verb'),\n",
       " ('통일', 'Noun'),\n",
       " ('감은', 'Verb'),\n",
       " ('유지', 'Noun'),\n",
       " ('하면서', 'Verb'),\n",
       " ('센스', 'Noun'),\n",
       " ('넘치는', 'Adjective'),\n",
       " ('연출', 'Noun'),\n",
       " ('을', 'Josa'),\n",
       " ('할', 'Verb'),\n",
       " ('수', 'Noun'),\n",
       " ('있어요', 'Adjective'),\n",
       " (\".',\", 'Punctuation'),\n",
       " (\"'',\", 'Punctuation'),\n",
       " (\"'\", 'Punctuation'),\n",
       " ('다라', 'Noun'),\n",
       " ('는', 'Josa'),\n",
       " ('핸드폰', 'Noun'),\n",
       " ('을', 'Josa'),\n",
       " ('액세서리', 'Noun'),\n",
       " ('처럼', 'Josa'),\n",
       " ('적극', 'Noun'),\n",
       " ('활용', 'Noun'),\n",
       " ('하고', 'Josa'),\n",
       " ('있어요', 'Adjective'),\n",
       " ('.', 'Punctuation'),\n",
       " ('진주', 'Noun'),\n",
       " ('와', 'Josa'),\n",
       " ('체인', 'Noun'),\n",
       " ('이', 'Josa'),\n",
       " ('믹스', 'Noun'),\n",
       " ('된', 'Verb'),\n",
       " ('크로스', 'Noun'),\n",
       " ('보디', 'Noun'),\n",
       " ('형태', 'Noun'),\n",
       " ('의', 'Josa'),\n",
       " ('핸드폰', 'Noun'),\n",
       " ('스트랩', 'Noun'),\n",
       " ('을', 'Josa'),\n",
       " ('연결하고', 'Adjective'),\n",
       " ('화려한', 'Adjective'),\n",
       " ('패턴', 'Noun'),\n",
       " ('의', 'Josa'),\n",
       " ('케이스', 'Noun'),\n",
       " ('를', 'Josa'),\n",
       " ('장', 'Noun'),\n",
       " ('착해', 'Adjective'),\n",
       " ('진주', 'Noun'),\n",
       " ('의', 'Josa'),\n",
       " ('무궁무진', 'Noun'),\n",
       " ('한', 'Josa'),\n",
       " ('활용', 'Noun'),\n",
       " ('법', 'Noun'),\n",
       " ('을', 'Josa'),\n",
       " ('제시', 'Noun'),\n",
       " ('합니다', 'Verb'),\n",
       " (\".',\", 'Punctuation'),\n",
       " (\"'',\", 'Punctuation'),\n",
       " (\"'\", 'Punctuation'),\n",
       " ('예리', 'Noun'),\n",
       " ('는', 'Josa'),\n",
       " ('진주', 'Noun'),\n",
       " ('목걸이', 'Noun'),\n",
       " ('대신', 'Noun'),\n",
       " ('헤어', 'Noun'),\n",
       " ('밴드', 'Noun'),\n",
       " ('를', 'Josa'),\n",
       " ('선택', 'Noun'),\n",
       " ('했어요', 'Verb'),\n",
       " ('.', 'Punctuation'),\n",
       " ('단정하게', 'Adjective'),\n",
       " ('정리', 'Noun'),\n",
       " ('한', 'Josa'),\n",
       " ('긴', 'Verb'),\n",
       " ('생머리', 'Noun'),\n",
       " ('에', 'Josa'),\n",
       " ('촘촘하', 'Noun'),\n",
       " ('게', 'Josa'),\n",
       " ('꿴', 'Noun'),\n",
       " ('진주', 'Noun'),\n",
       " ('헤어', 'Noun'),\n",
       " ('밴드', 'Noun'),\n",
       " ('를', 'Josa'),\n",
       " ('더해', 'Adjective'),\n",
       " ('클래식', 'Noun'),\n",
       " ('한', 'Josa'),\n",
       " ('매력', 'Noun'),\n",
       " ('을', 'Josa'),\n",
       " ('극대', 'Noun'),\n",
       " ('화했죠', 'Adjective'),\n",
       " ('.', 'Punctuation'),\n",
       " ('골드', 'Noun'),\n",
       " ('버튼', 'Noun'),\n",
       " ('포인트', 'Noun'),\n",
       " ('의', 'Josa'),\n",
       " ('니트', 'Noun'),\n",
       " ('원피스', 'Noun'),\n",
       " ('와', 'Josa'),\n",
       " ('군더더기', 'Noun'),\n",
       " ('없는', 'Adjective'),\n",
       " ('사각', 'Noun'),\n",
       " ('백', 'Noun'),\n",
       " ('으로', 'Josa'),\n",
       " ('우아하게', 'Adjective'),\n",
       " ('연출', 'Noun'),\n",
       " ('한', 'Josa'),\n",
       " ('오늘', 'Noun'),\n",
       " ('의', 'Josa'),\n",
       " ('룩', 'Noun'),\n",
       " ('과도', 'Josa'),\n",
       " ('잘', 'Verb'),\n",
       " ('어울리네요', 'Verb'),\n",
       " (\".',\", 'Punctuation'),\n",
       " (\"'*\", 'Punctuation'),\n",
       " ('잔나비', 'Noun'),\n",
       " (',', 'Punctuation'),\n",
       " ('사이먼', 'Noun'),\n",
       " ('도미', 'Noun'),\n",
       " ('닉', 'Noun'),\n",
       " (',', 'Punctuation'),\n",
       " ('이성경', 'Noun'),\n",
       " (',', 'Punctuation'),\n",
       " ('이제훈', 'Noun'),\n",
       " (',', 'Punctuation'),\n",
       " ('박정민', 'Noun'),\n",
       " (',', 'Punctuation'),\n",
       " ('코드', 'Noun'),\n",
       " ('쿤스트', 'Noun'),\n",
       " ('가', 'Josa'),\n",
       " ('함께한', 'Verb'),\n",
       " ('뮤직', 'Noun'),\n",
       " ('프로젝트', 'Noun'),\n",
       " ('보기', 'Noun'),\n",
       " ('\\']]\"]', 'Punctuation')]"
      ]
     },
     "execution_count": 12,
     "metadata": {},
     "output_type": "execute_result"
    }
   ],
   "source": [
    "sentences_tag[0]"
   ]
  },
  {
   "cell_type": "code",
   "execution_count": 13,
   "metadata": {},
   "outputs": [
    {
     "data": {
      "text/plain": [
       "{'Adjective': '형용사',\n",
       " 'Adverb': '부사',\n",
       " 'Alpha': '알파벳',\n",
       " 'Conjunction': '접속사',\n",
       " 'Determiner': '관형사',\n",
       " 'Eomi': '어미',\n",
       " 'Exclamation': '감탄사',\n",
       " 'Foreign': '외국어, 한자 및 기타기호',\n",
       " 'Hashtag': '트위터 해쉬태그',\n",
       " 'Josa': '조사',\n",
       " 'KoreanParticle': '(ex: ㅋㅋ)',\n",
       " 'Noun': '명사',\n",
       " 'Number': '숫자',\n",
       " 'PreEomi': '선어말어미',\n",
       " 'Punctuation': '구두점',\n",
       " 'ScreenName': '트위터 아이디',\n",
       " 'Suffix': '접미사',\n",
       " 'Unknown': '미등록어',\n",
       " 'Verb': '동사'}"
      ]
     },
     "execution_count": 13,
     "metadata": {},
     "output_type": "execute_result"
    }
   ],
   "source": [
    "twitter.tagset"
   ]
  },
  {
   "cell_type": "code",
   "execution_count": 14,
   "metadata": {},
   "outputs": [],
   "source": [
    "verb_list = []\n",
    "for sentence1 in sentences_tag:\n",
    "    for word, tag in sentence1:\n",
    "        if tag in ['Verb']:\n",
    "            verb_list.append(word)"
   ]
  },
  {
   "cell_type": "code",
   "execution_count": 15,
   "metadata": {},
   "outputs": [
    {
     "data": {
      "text/plain": [
       "['걸리는',\n",
       " '해',\n",
       " '했습니다',\n",
       " '해보고',\n",
       " '싶다면',\n",
       " '어울리는',\n",
       " '해보세요',\n",
       " '내려오는',\n",
       " '긴',\n",
       " '했어요',\n",
       " '걸쳐지는',\n",
       " '감아',\n",
       " '할',\n",
       " '버리셔도',\n",
       " '맞는',\n",
       " '커',\n",
       " '잘',\n",
       " '늘어',\n",
       " '뜨려',\n",
       " '하세요']"
      ]
     },
     "execution_count": 15,
     "metadata": {},
     "output_type": "execute_result"
    }
   ],
   "source": [
    "verb_list[:20]"
   ]
  },
  {
   "cell_type": "markdown",
   "metadata": {},
   "source": [
    "### 1. 명사 혹은 형용사인 품사만 선별해 리스트에 담기"
   ]
  },
  {
   "cell_type": "code",
   "execution_count": 16,
   "metadata": {},
   "outputs": [],
   "source": [
    "noun_adj_list= []\n",
    "for sentence1 in sentences_tag:\n",
    "    for word, tag in sentence1:\n",
    "        if tag in ['Noun', 'Adjective', 'Alpha', 'Determiner', 'Foreign']:\n",
    "            noun_adj_list.append(word)"
   ]
  },
  {
   "cell_type": "code",
   "execution_count": 17,
   "metadata": {},
   "outputs": [
    {
     "data": {
      "text/plain": [
       "8532"
      ]
     },
     "execution_count": 17,
     "metadata": {},
     "output_type": "execute_result"
    }
   ],
   "source": [
    "len(noun_adj_list)"
   ]
  },
  {
   "cell_type": "code",
   "execution_count": 18,
   "metadata": {},
   "outputs": [
    {
     "data": {
      "text/plain": [
       "['쇄골',\n",
       " '라인',\n",
       " '진주',\n",
       " '목걸이',\n",
       " '클래식',\n",
       " '매력',\n",
       " '캐치',\n",
       " '제니',\n",
       " '화이트',\n",
       " '셔츠',\n",
       " '블랙',\n",
       " '컬러',\n",
       " '테일러',\n",
       " '드',\n",
       " '재킷',\n",
       " '진주',\n",
       " '목걸이',\n",
       " '매치',\n",
       " '세련되게',\n",
       " '연출']"
      ]
     },
     "execution_count": 18,
     "metadata": {},
     "output_type": "execute_result"
    }
   ],
   "source": [
    "noun_adj_list[:20]"
   ]
  },
  {
   "cell_type": "code",
   "execution_count": 19,
   "metadata": {},
   "outputs": [
    {
     "data": {
      "text/plain": [
       "['쇄골', '라인', '진주', '목걸이', '클래식', '매력', '캐치', '제니', '화이트', '셔츠']"
      ]
     },
     "execution_count": 19,
     "metadata": {},
     "output_type": "execute_result"
    }
   ],
   "source": [
    "noun_adj_list[:10]"
   ]
  },
  {
   "cell_type": "markdown",
   "metadata": {},
   "source": [
    "### 선별된 품사별 빈도수 계산 & 상위 빈도 10위까지 출력"
   ]
  },
  {
   "cell_type": "code",
   "execution_count": 20,
   "metadata": {
    "scrolled": true
   },
   "outputs": [
    {
     "name": "stdout",
     "output_type": "stream",
     "text": [
      "[('지수', 139), ('‘', 104), ('것', 96), ('블랙', 95), ('핑크', 79), ('수', 67), ('때', 57), ('있는', 53), ('그', 49), ('모습', 46), ('디올', 45), ('리사', 42), ('제니', 41), ('「', 38), ('」', 38), ('컬러', 34), ('같아요', 34), ('매력', 33), ('이', 33), ('로제', 33), ('사람', 33), ('드', 32), ('스타일', 32), ('더', 31), ('모두', 31), ('생각', 31), ('까르띠', 30), ('어떤', 28), ('패턴', 28), ('저', 28), ('말', 28), ('파샤', 28), ('다른', 27), ('걸', 27), ('전', 26), ('벨트', 26), ('위', 25), ('무대', 25), ('있어요', 24), ('이번', 24), ('디자인', 23), ('거', 23), ('시간', 23), ('있다', 22), ('세훈', 22), ('요', 22), ('제', 22), ('가장', 21), ('활동', 21), ('우리', 21), ('마음', 21), ('엘르', 21), ('같은', 20), ('멤버', 20), ('연출', 19), ('룩', 19), ('세계', 19), ('자신', 19), ('의', 19), ('도전', 18), ('손흥민', 18), ('통해', 18), ('두', 17), ('백', 17), ('스타', 17), ('적', 17), ('모델', 17), ('건', 17), ('셔츠', 16), ('감', 16), ('포인트', 16), ('를', 16), ('그녀', 16), ('편이', 16), ('“', 16), ('”', 16), ('진주', 15), ('느낌', 15), ('프로젝트', 15), ('톱', 15), ('반전', 15), ('많은', 15), ('〉', 15), ('촬영', 15), ('안', 15), ('좋겠어요', 15), ('게', 15), ('라인', 14), ('매치', 14), ('팬츠', 14), ('워치', 14), ('등', 14), ('누군가', 14), ('저희', 14), ('재킷', 13), ('완성', 13), ('일링', 13), ('좀', 13), ('패션', 13), ('요즘', 13), ('각자', 13), ('노력', 13), ('〈', 13), ('데뷔', 13), ('음악', 13), ('사진', 13), ('보고', 13), ('웃음', 13), ('오버', 12), ('주인공', 12), ('브랜드', 12), ('레더', 12), ('일', 12), ('개', 12), ('n', 12), ('역', 12), ('서로', 12), ('얼굴', 12), ('새로운', 12), ('좋은', 12), ('지금', 12), ('팬', 12), ('장식', 12), ('커버', 12), ('운동', 12), ('사실', 12), ('분비', 12), ('데님', 11), ('이런', 11), ('이제', 11), ('드레스', 11), ('힘', 11), ('눈', 11), ('아름다운', 11), ('해', 11), ('기분', 11), ('준비', 11), ('화보', 11), ('뷰티', 11), ('부츠', 11), ('당신', 11), ('때문', 11), ('정도', 11), ('시작', 10), ('이미지', 10), ('선택', 10), ('카디건', 10), ('메이크업', 10), ('무브먼트', 10), ('엑소', 10), ('배우', 10), ('움', 10), ('위해', 10), ('스커트', 10), ('뮤직비디오', 10), ('나', 10), ('속', 10), ('색', 10), ('후', 10), ('목걸이', 9), ('화이트', 9), ('줄', 9), ('활용', 9), ('헤어', 9), ('오늘', 9), ('끝', 9), ('미니', 9), ('역시', 9), ('자체', 9), ('레오퍼드', 9), ('점', 9), ('몸', 9), ('볼', 9), ('디지털', 9), ('더욱', 9), ('드라마', 9), ('포에버', 9), ('대한', 9), ('내', 9), ('행복', 9), ('좋아하는', 9), ('앞머리', 9), ('와인', 9), ('마티니', 9), ('허리', 8), ('귀여운', 8), ('이어링', 8), ('없는', 8), ('네', 8), ('또', 8), ('심장', 8), ('처음', 8), ('최근', 8), ('변화무쌍한', 8), ('가지', 8), ('아름다', 8), ('만들기', 8), ('좋아요', 8), ('어깨', 8), ('발라', 8)]\n"
     ]
    }
   ],
   "source": [
    "word = Counter(noun_adj_list)\n",
    "print(word.most_common(200))"
   ]
  },
  {
   "cell_type": "code",
   "execution_count": 21,
   "metadata": {},
   "outputs": [],
   "source": [
    "# # 한 글자인 단어는 제외\n",
    "\n",
    "# for i, v in enumerate(noun_adj_list):\n",
    "#     if len(v)<2:\n",
    "#         noun_adj_list.pop(i)"
   ]
  },
  {
   "cell_type": "code",
   "execution_count": 22,
   "metadata": {},
   "outputs": [],
   "source": [
    "count = Counter(noun_adj_list)"
   ]
  },
  {
   "cell_type": "code",
   "execution_count": 23,
   "metadata": {},
   "outputs": [
    {
     "name": "stdout",
     "output_type": "stream",
     "text": [
      "('지수', 139)\n",
      "('‘', 104)\n",
      "('것', 96)\n",
      "('블랙', 95)\n",
      "('핑크', 79)\n",
      "('수', 67)\n",
      "('때', 57)\n",
      "('있는', 53)\n",
      "('그', 49)\n",
      "('모습', 46)\n",
      "('디올', 45)\n",
      "('리사', 42)\n",
      "('제니', 41)\n",
      "('「', 38)\n",
      "('」', 38)\n",
      "('컬러', 34)\n",
      "('같아요', 34)\n",
      "('매력', 33)\n",
      "('이', 33)\n",
      "('로제', 33)\n",
      "('사람', 33)\n",
      "('드', 32)\n",
      "('스타일', 32)\n",
      "('더', 31)\n",
      "('모두', 31)\n",
      "('생각', 31)\n",
      "('까르띠', 30)\n",
      "('어떤', 28)\n",
      "('패턴', 28)\n",
      "('저', 28)\n",
      "('말', 28)\n",
      "('파샤', 28)\n",
      "('다른', 27)\n",
      "('걸', 27)\n",
      "('전', 26)\n",
      "('벨트', 26)\n",
      "('위', 25)\n",
      "('무대', 25)\n",
      "('있어요', 24)\n",
      "('이번', 24)\n",
      "('디자인', 23)\n",
      "('거', 23)\n",
      "('시간', 23)\n",
      "('있다', 22)\n",
      "('세훈', 22)\n",
      "('요', 22)\n",
      "('제', 22)\n",
      "('가장', 21)\n",
      "('활동', 21)\n",
      "('우리', 21)\n",
      "('마음', 21)\n",
      "('엘르', 21)\n",
      "('같은', 20)\n",
      "('멤버', 20)\n",
      "('연출', 19)\n",
      "('룩', 19)\n",
      "('세계', 19)\n",
      "('자신', 19)\n",
      "('의', 19)\n",
      "('도전', 18)\n",
      "('손흥민', 18)\n",
      "('통해', 18)\n",
      "('두', 17)\n",
      "('백', 17)\n",
      "('스타', 17)\n",
      "('적', 17)\n",
      "('모델', 17)\n",
      "('건', 17)\n",
      "('셔츠', 16)\n",
      "('감', 16)\n",
      "('포인트', 16)\n",
      "('를', 16)\n",
      "('그녀', 16)\n",
      "('편이', 16)\n",
      "('“', 16)\n",
      "('”', 16)\n",
      "('진주', 15)\n",
      "('느낌', 15)\n",
      "('프로젝트', 15)\n",
      "('톱', 15)\n",
      "('반전', 15)\n",
      "('많은', 15)\n",
      "('〉', 15)\n",
      "('촬영', 15)\n",
      "('안', 15)\n",
      "('좋겠어요', 15)\n",
      "('게', 15)\n",
      "('라인', 14)\n",
      "('매치', 14)\n",
      "('팬츠', 14)\n",
      "('워치', 14)\n",
      "('등', 14)\n",
      "('누군가', 14)\n",
      "('저희', 14)\n",
      "('재킷', 13)\n",
      "('완성', 13)\n",
      "('일링', 13)\n",
      "('좀', 13)\n",
      "('패션', 13)\n",
      "('요즘', 13)\n",
      "('각자', 13)\n",
      "('노력', 13)\n",
      "('〈', 13)\n",
      "('데뷔', 13)\n",
      "('음악', 13)\n",
      "('사진', 13)\n",
      "('보고', 13)\n",
      "('웃음', 13)\n",
      "('오버', 12)\n",
      "('주인공', 12)\n",
      "('브랜드', 12)\n",
      "('레더', 12)\n",
      "('일', 12)\n",
      "('개', 12)\n",
      "('n', 12)\n",
      "('역', 12)\n",
      "('서로', 12)\n",
      "('얼굴', 12)\n",
      "('새로운', 12)\n",
      "('좋은', 12)\n",
      "('지금', 12)\n",
      "('팬', 12)\n",
      "('장식', 12)\n",
      "('커버', 12)\n",
      "('운동', 12)\n",
      "('사실', 12)\n",
      "('분비', 12)\n",
      "('데님', 11)\n",
      "('이런', 11)\n",
      "('이제', 11)\n",
      "('드레스', 11)\n",
      "('힘', 11)\n",
      "('눈', 11)\n",
      "('아름다운', 11)\n",
      "('해', 11)\n",
      "('기분', 11)\n",
      "('준비', 11)\n",
      "('화보', 11)\n",
      "('뷰티', 11)\n",
      "('부츠', 11)\n",
      "('당신', 11)\n",
      "('때문', 11)\n",
      "('정도', 11)\n",
      "('시작', 10)\n",
      "('이미지', 10)\n",
      "('선택', 10)\n",
      "('카디건', 10)\n",
      "('메이크업', 10)\n",
      "('무브먼트', 10)\n",
      "('엑소', 10)\n",
      "('배우', 10)\n",
      "('움', 10)\n",
      "('위해', 10)\n",
      "('스커트', 10)\n",
      "('뮤직비디오', 10)\n",
      "('나', 10)\n",
      "('속', 10)\n",
      "('색', 10)\n",
      "('후', 10)\n",
      "('목걸이', 9)\n",
      "('화이트', 9)\n",
      "('줄', 9)\n",
      "('활용', 9)\n",
      "('헤어', 9)\n",
      "('오늘', 9)\n",
      "('끝', 9)\n",
      "('미니', 9)\n",
      "('역시', 9)\n",
      "('자체', 9)\n",
      "('레오퍼드', 9)\n",
      "('점', 9)\n",
      "('몸', 9)\n",
      "('볼', 9)\n",
      "('디지털', 9)\n",
      "('더욱', 9)\n",
      "('드라마', 9)\n",
      "('포에버', 9)\n",
      "('대한', 9)\n",
      "('내', 9)\n",
      "('행복', 9)\n",
      "('좋아하는', 9)\n",
      "('앞머리', 9)\n",
      "('와인', 9)\n",
      "('마티니', 9)\n",
      "('허리', 8)\n",
      "('귀여운', 8)\n",
      "('이어링', 8)\n",
      "('없는', 8)\n",
      "('네', 8)\n",
      "('또', 8)\n",
      "('심장', 8)\n",
      "('처음', 8)\n",
      "('최근', 8)\n",
      "('변화무쌍한', 8)\n",
      "('가지', 8)\n",
      "('아름다', 8)\n",
      "('만들기', 8)\n",
      "('좋아요', 8)\n",
      "('어깨', 8)\n",
      "('발라', 8)\n"
     ]
    }
   ],
   "source": [
    "word_list = count.most_common(200)\n",
    "for v in word_list:\n",
    "    print(v)"
   ]
  },
  {
   "cell_type": "markdown",
   "metadata": {},
   "source": [
    "## 워드클라우드 만들기"
   ]
  },
  {
   "cell_type": "code",
   "execution_count": 24,
   "metadata": {},
   "outputs": [],
   "source": [
    "\n",
    "import matplotlib.pyplot as plt"
   ]
  },
  {
   "cell_type": "markdown",
   "metadata": {},
   "source": [
    "### 패키지 설치 및 폰트 어쩌구"
   ]
  },
  {
   "cell_type": "code",
   "execution_count": 25,
   "metadata": {},
   "outputs": [
    {
     "name": "stdout",
     "output_type": "stream",
     "text": [
      "Malgun Gothic C:\\WINDOWS\\Fonts\\malgun.ttf\n",
      "Yu Gothic C:\\WINDOWS\\Fonts\\YuGothB.ttc\n",
      "HYGothic-Extra C:\\WINDOWS\\Fonts\\H2GTRE.TTF\n",
      "Franklin Gothic Medium C:\\WINDOWS\\Fonts\\framdit.ttf\n",
      "Malgun Gothic C:\\Windows\\Fonts\\malgunbd.ttf\n",
      "Yu Gothic C:\\Windows\\Fonts\\YuGothL.ttc\n",
      "Century Gothic C:\\Windows\\Fonts\\GOTHIC.TTF\n",
      "Yu Gothic C:\\Windows\\Fonts\\YuGothM.ttc\n",
      "Yu Gothic C:\\WINDOWS\\Fonts\\YuGothR.ttc\n",
      "MS Gothic C:\\WINDOWS\\Fonts\\msgothic.ttc\n",
      "HYGothic-Medium C:\\WINDOWS\\Fonts\\H2GTRM.TTF\n",
      "Malgun Gothic C:\\WINDOWS\\Fonts\\malgunsl.ttf\n",
      "Century Gothic C:\\Windows\\Fonts\\GOTHICI.TTF\n",
      "Century Gothic C:\\WINDOWS\\Fonts\\GOTHICBI.TTF\n",
      "Century Gothic C:\\Windows\\Fonts\\GOTHICB.TTF\n",
      "Franklin Gothic Medium C:\\WINDOWS\\Fonts\\framd.ttf\n"
     ]
    }
   ],
   "source": [
    "import matplotlib.font_manager as fm\n",
    "\n",
    "# 이용 가능한 폰트 중 '고딕'만 선별\n",
    "for font in fm.fontManager.ttflist:\n",
    "    if 'Gothic' in font.name:\n",
    "        print(font.name, font.fname)"
   ]
  },
  {
   "cell_type": "code",
   "execution_count": 26,
   "metadata": {},
   "outputs": [],
   "source": [
    "font_path = 'C:\\WINDOWS\\Fonts\\malgun.ttf'"
   ]
  },
  {
   "cell_type": "markdown",
   "metadata": {},
   "source": [
    "### wordcloud 그리기"
   ]
  },
  {
   "cell_type": "code",
   "execution_count": 27,
   "metadata": {},
   "outputs": [],
   "source": [
    "from wordcloud import WordCloud"
   ]
  },
  {
   "cell_type": "code",
   "execution_count": 28,
   "metadata": {},
   "outputs": [],
   "source": [
    "wc = WordCloud(font_path=font_path, background_color=\"white\", width=600, height=400)"
   ]
  },
  {
   "cell_type": "code",
   "execution_count": 29,
   "metadata": {},
   "outputs": [
    {
     "data": {
      "image/png": "[encoded data removed]",
      "text/plain": [
       "<Figure size 432x288 with 1 Axes>"
      ]
     },
     "metadata": {
      "needs_background": "light"
     },
     "output_type": "display_data"
    },
    {
     "data": {
      "text/plain": [
       "<wordcloud.wordcloud.WordCloud at 0x1881d4ed848>"
      ]
     },
     "execution_count": 29,
     "metadata": {},
     "output_type": "execute_result"
    }
   ],
   "source": [
    "wc.generate_from_frequencies(dict(word_list))\n",
    "\n",
    "plt.imshow(wc) \n",
    "plt.axis('off') \n",
    "plt.show()\n",
    "\n",
    "\n",
    "wc.to_file('jisu_adj_twitter.png')"
   ]
  },
  {
   "cell_type": "code",
   "execution_count": null,
   "metadata": {},
   "outputs": [],
   "source": []
  },
  {
   "cell_type": "code",
   "execution_count": null,
   "metadata": {},
   "outputs": [],
   "source": []
  },
  {
   "cell_type": "code",
   "execution_count": null,
   "metadata": {},
   "outputs": [],
   "source": []
  },
  {
   "cell_type": "code",
   "execution_count": null,
   "metadata": {},
   "outputs": [],
   "source": []
  },
  {
   "cell_type": "code",
   "execution_count": null,
   "metadata": {},
   "outputs": [],
   "source": []
  },
  {
   "cell_type": "code",
   "execution_count": null,
   "metadata": {},
   "outputs": [],
   "source": []
  },
  {
   "cell_type": "code",
   "execution_count": null,
   "metadata": {},
   "outputs": [],
   "source": []
  },
  {
   "cell_type": "code",
   "execution_count": null,
   "metadata": {},
   "outputs": [],
   "source": []
  },
  {
   "cell_type": "code",
   "execution_count": null,
   "metadata": {},
   "outputs": [],
   "source": []
  },
  {
   "cell_type": "code",
   "execution_count": null,
   "metadata": {},
   "outputs": [],
   "source": []
  },
  {
   "cell_type": "code",
   "execution_count": null,
   "metadata": {},
   "outputs": [],
   "source": []
  }
 ],
 "metadata": {
  "kernelspec": {
   "display_name": "Python 3",
   "language": "python",
   "name": "python3"
  },
  "language_info": {
   "codemirror_mode": {
    "name": "ipython",
    "version": 3
   },
   "file_extension": ".py",
   "mimetype": "text/x-python",
   "name": "python",
   "nbconvert_exporter": "python",
   "pygments_lexer": "ipython3",
   "version": "3.7.6"
  }
 },
 "nbformat": 4,
 "nbformat_minor": 2
}
