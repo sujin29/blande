{
 "cells": [
  {
   "cell_type": "code",
   "execution_count": 21,
   "metadata": {},
   "outputs": [],
   "source": [
    "from bs4 import BeautifulSoup\n",
    "from selenium import webdriver\n",
    "import time"
   ]
  },
  {
   "cell_type": "code",
   "execution_count": 22,
   "metadata": {},
   "outputs": [],
   "source": [
    "import pandas as pd\n",
    "import numpy as np"
   ]
  },
  {
   "cell_type": "code",
   "execution_count": 23,
   "metadata": {
    "scrolled": true
   },
   "outputs": [
    {
     "data": {
      "text/plain": [
       "<selenium.webdriver.chrome.webdriver.WebDriver (session=\"f22c3e64c48a5c266b31ed7853f6c6ad\")>"
      ]
     },
     "execution_count": 23,
     "metadata": {},
     "output_type": "execute_result"
    }
   ],
   "source": [
    "path = '../chromedriver/chromedriver.exe'\n",
    "driver = webdriver.Chrome(path)\n",
    "driver"
   ]
  },
  {
   "cell_type": "code",
   "execution_count": 24,
   "metadata": {},
   "outputs": [],
   "source": [
    "driver.get('https://www.chanel.com/ko_KR/fashion/news/page-1.html')"
   ]
  },
  {
   "cell_type": "code",
   "execution_count": 25,
   "metadata": {},
   "outputs": [
    {
     "name": "stdout",
     "output_type": "stream",
     "text": [
      "CHANEL 19 백의\n",
      "코드\n",
      "https://www.chanel.com/ko_KR/fashion/news/2020/10/chanel-19-bag-codes.html\n",
      "2020년 10월 23일 금요일\n",
      "CHANEL 19 백\n",
      "https://www.chanel.com/ko_KR/fashion/news/2020/10/chanel-19-bag.html\n",
      "2020년 10월 23일 금요일\n",
      "CHANEL 19 백\n",
      "캠페인\n",
      "https://www.chanel.com/ko_KR/fashion/news/2020/10/chanel-19-bag-campaign.html\n",
      "2020년 10월 19일 월요일\n",
      "마린 백트\n",
      "칸 국제 시리즈 페스티벌\n",
      "https://www.chanel.com/ko_KR/fashion/news/2020/10/marine-vacth-canneseries-festival.html\n",
      "2020년 10월 14일 수요일\n",
      "리나 쿠드리\n",
      "리옹 빛 축제\n",
      "오프닝 세레모니\n",
      "https://www.chanel.com/ko_KR/fashion/news/2020/10/lyna-khoudri-opening-lumiere-festival.html\n",
      "2020년 10월 14일 수요일\n",
      "그랑 팔레에서 열린\n",
      "쇼의 하이라이트\n",
      "2021 봄-여름\n",
      "https://www.chanel.com/ko_KR/fashion/news/2020/10/show-highlight-from-the-grand-palais-ss21.html\n",
      "2020년 10월 12일 월요일\n",
      "블레즈냐 민어와\n",
      "캐롤라인 드 매그레\n",
      "2021 봄-여름 쇼\n",
      "https://www.chanel.com/ko_KR/fashion/news/2020/10/blesnya-minher-spring-summer-21.html\n",
      "2020년 10월 9일 금요일\n",
      "지드래곤과\n",
      "최서연\n",
      "2021 봄-여름 쇼\n",
      "https://www.chanel.com/ko_KR/fashion/news/2020/10/chn-g-dragon-sue-choi-alias.html\n",
      "2020년 10월 9일 금요일\n",
      "계륜미와\n",
      "케빈 왕\n",
      "2021 봄-여름 쇼\n",
      "https://www.chanel.com/ko_KR/fashion/news/2020/10/gwei-lun-mei-spring-summer-21.html\n",
      "2020년 10월 9일 금요일\n",
      "크리스틴 스튜어트와\n",
      "클레오 웨이드\n",
      "2021 봄-여름 쇼\n",
      "https://www.chanel.com/ko_KR/fashion/news/2020/10/kristen-stewart-spring-summer-21.html\n",
      "2020년 10월 9일 금요일\n"
     ]
    }
   ],
   "source": [
    "contElements = driver.find_elements_by_css_selector('article')\n",
    "\n",
    "for cont in contElements:\n",
    "    # 타이틀 가져오기\n",
    "    title = cont.find_element_by_tag_name('h2').text\n",
    "    print(title)\n",
    "    \n",
    "    # 링크 가져오기\n",
    "    link = cont.find_element_by_tag_name('a').get_attribute('href')\n",
    "    print(link)\n",
    "    \n",
    "    date = cont.find_element_by_class_name('news-date').text\n",
    "    print(date)\n"
   ]
  },
  {
   "cell_type": "code",
   "execution_count": 26,
   "metadata": {},
   "outputs": [
    {
     "name": "stdout",
     "output_type": "stream",
     "text": [
      "True\n"
     ]
    }
   ],
   "source": [
    "nextBtn = driver.find_element_by_css_selector('#main-wrapper > section > div.fs-view-more.next > a')\n",
    "isFlag = nextBtn.is_enabled()\n",
    "print(isFlag)"
   ]
  },
  {
   "cell_type": "code",
   "execution_count": 27,
   "metadata": {},
   "outputs": [
    {
     "name": "stdout",
     "output_type": "stream",
     "text": [
      "https://www.chanel.com/ko_KR/fashion/news.html\n",
      "https://www.chanel.com/ko_KR/fashion/news/page-2.html\n",
      "https://www.chanel.com/ko_KR/fashion/news/page-3.html\n",
      "https://www.chanel.com/ko_KR/fashion/news/page-4.html\n",
      "https://www.chanel.com/ko_KR/fashion/news/page-5.html\n",
      "https://www.chanel.com/ko_KR/fashion/news/page-6.html\n",
      "https://www.chanel.com/ko_KR/fashion/news/page-7.html\n",
      "https://www.chanel.com/ko_KR/fashion/news/page-8.html\n",
      "https://www.chanel.com/ko_KR/fashion/news/page-9.html\n",
      "https://www.chanel.com/ko_KR/fashion/news/page-10.html\n",
      "https://www.chanel.com/ko_KR/fashion/news/page-11.html\n",
      "https://www.chanel.com/ko_KR/fashion/news/page-12.html\n",
      "https://www.chanel.com/ko_KR/fashion/news/page-13.html\n",
      "https://www.chanel.com/ko_KR/fashion/news/page-14.html\n",
      "https://www.chanel.com/ko_KR/fashion/news/page-15.html\n",
      "https://www.chanel.com/ko_KR/fashion/news/page-16.html\n",
      "https://www.chanel.com/ko_KR/fashion/news/page-17.html\n",
      "https://www.chanel.com/ko_KR/fashion/news/page-18.html\n",
      "https://www.chanel.com/ko_KR/fashion/news/page-19.html\n",
      "https://www.chanel.com/ko_KR/fashion/news/page-20.html\n",
      "https://www.chanel.com/ko_KR/fashion/news/page-21.html\n",
      "https://www.chanel.com/ko_KR/fashion/news/page-22.html\n",
      "https://www.chanel.com/ko_KR/fashion/news/page-23.html\n",
      "https://www.chanel.com/ko_KR/fashion/news/page-24.html\n",
      "https://www.chanel.com/ko_KR/fashion/news/page-25.html\n",
      "https://www.chanel.com/ko_KR/fashion/news/page-26.html\n",
      "https://www.chanel.com/ko_KR/fashion/news/page-27.html\n",
      "https://www.chanel.com/ko_KR/fashion/news/page-28.html\n",
      "https://www.chanel.com/ko_KR/fashion/news/page-29.html\n",
      "https://www.chanel.com/ko_KR/fashion/news/page-30.html\n",
      "https://www.chanel.com/ko_KR/fashion/news/page-31.html\n",
      "https://www.chanel.com/ko_KR/fashion/news/page-32.html\n",
      "https://www.chanel.com/ko_KR/fashion/news/page-33.html\n",
      "https://www.chanel.com/ko_KR/fashion/news/page-34.html\n",
      "https://www.chanel.com/ko_KR/fashion/news/page-35.html\n",
      "https://www.chanel.com/ko_KR/fashion/news/page-36.html\n",
      "https://www.chanel.com/ko_KR/fashion/news/page-37.html\n",
      "https://www.chanel.com/ko_KR/fashion/news/page-38.html\n",
      "https://www.chanel.com/ko_KR/fashion/news/page-39.html\n",
      "https://www.chanel.com/ko_KR/fashion/news/page-40.html\n",
      "https://www.chanel.com/ko_KR/fashion/news/page-41.html\n",
      "https://www.chanel.com/ko_KR/fashion/news/page-42.html\n",
      "https://www.chanel.com/ko_KR/fashion/news/page-43.html\n",
      "https://www.chanel.com/ko_KR/fashion/news/page-44.html\n"
     ]
    },
    {
     "ename": "NoSuchElementException",
     "evalue": "Message: no such element: Unable to locate element: {\"method\":\"css selector\",\"selector\":\"h2\"}\n  (Session info: chrome=86.0.4240.198)\n",
     "output_type": "error",
     "traceback": [
      "\u001b[1;31m---------------------------------------------------------------------------\u001b[0m",
      "\u001b[1;31mNoSuchElementException\u001b[0m                    Traceback (most recent call last)",
      "\u001b[1;32m<ipython-input-27-ae79f14ee65d>\u001b[0m in \u001b[0;36m<module>\u001b[1;34m\u001b[0m\n\u001b[0;32m     12\u001b[0m         \u001b[1;32mfor\u001b[0m \u001b[0mcont\u001b[0m \u001b[1;32min\u001b[0m \u001b[0mcontElements\u001b[0m\u001b[1;33m:\u001b[0m\u001b[1;33m\u001b[0m\u001b[0m\n\u001b[0;32m     13\u001b[0m             \u001b[1;31m# 타이틀 가져오기\u001b[0m\u001b[1;33m\u001b[0m\u001b[1;33m\u001b[0m\u001b[0m\n\u001b[1;32m---> 14\u001b[1;33m             \u001b[0mtitle\u001b[0m\u001b[1;33m.\u001b[0m\u001b[0mappend\u001b[0m\u001b[1;33m(\u001b[0m\u001b[0mcont\u001b[0m\u001b[1;33m.\u001b[0m\u001b[0mfind_element_by_tag_name\u001b[0m\u001b[1;33m(\u001b[0m\u001b[1;34m'h2'\u001b[0m\u001b[1;33m)\u001b[0m\u001b[1;33m.\u001b[0m\u001b[0mtext\u001b[0m\u001b[1;33m)\u001b[0m\u001b[1;33m\u001b[0m\u001b[0m\n\u001b[0m\u001b[0;32m     15\u001b[0m \u001b[1;31m#             print(title)\u001b[0m\u001b[1;33m\u001b[0m\u001b[1;33m\u001b[0m\u001b[0m\n\u001b[0;32m     16\u001b[0m \u001b[1;33m\u001b[0m\u001b[0m\n",
      "\u001b[1;32m~\\anaconda3\\lib\\site-packages\\selenium\\webdriver\\remote\\webelement.py\u001b[0m in \u001b[0;36mfind_element_by_tag_name\u001b[1;34m(self, name)\u001b[0m\n\u001b[0;32m    303\u001b[0m             \u001b[0melement\u001b[0m \u001b[1;33m=\u001b[0m \u001b[0melement\u001b[0m\u001b[1;33m.\u001b[0m\u001b[0mfind_element_by_tag_name\u001b[0m\u001b[1;33m(\u001b[0m\u001b[1;34m'h1'\u001b[0m\u001b[1;33m)\u001b[0m\u001b[1;33m\u001b[0m\u001b[0m\n\u001b[0;32m    304\u001b[0m         \"\"\"\n\u001b[1;32m--> 305\u001b[1;33m         \u001b[1;32mreturn\u001b[0m \u001b[0mself\u001b[0m\u001b[1;33m.\u001b[0m\u001b[0mfind_element\u001b[0m\u001b[1;33m(\u001b[0m\u001b[0mby\u001b[0m\u001b[1;33m=\u001b[0m\u001b[0mBy\u001b[0m\u001b[1;33m.\u001b[0m\u001b[0mTAG_NAME\u001b[0m\u001b[1;33m,\u001b[0m \u001b[0mvalue\u001b[0m\u001b[1;33m=\u001b[0m\u001b[0mname\u001b[0m\u001b[1;33m)\u001b[0m\u001b[1;33m\u001b[0m\u001b[0m\n\u001b[0m\u001b[0;32m    306\u001b[0m \u001b[1;33m\u001b[0m\u001b[0m\n\u001b[0;32m    307\u001b[0m     \u001b[1;32mdef\u001b[0m \u001b[0mfind_elements_by_tag_name\u001b[0m\u001b[1;33m(\u001b[0m\u001b[0mself\u001b[0m\u001b[1;33m,\u001b[0m \u001b[0mname\u001b[0m\u001b[1;33m)\u001b[0m\u001b[1;33m:\u001b[0m\u001b[1;33m\u001b[0m\u001b[0m\n",
      "\u001b[1;32m~\\anaconda3\\lib\\site-packages\\selenium\\webdriver\\remote\\webelement.py\u001b[0m in \u001b[0;36mfind_element\u001b[1;34m(self, by, value)\u001b[0m\n\u001b[0;32m    657\u001b[0m \u001b[1;33m\u001b[0m\u001b[0m\n\u001b[0;32m    658\u001b[0m         return self._execute(Command.FIND_CHILD_ELEMENT,\n\u001b[1;32m--> 659\u001b[1;33m                              {\"using\": by, \"value\": value})['value']\n\u001b[0m\u001b[0;32m    660\u001b[0m \u001b[1;33m\u001b[0m\u001b[0m\n\u001b[0;32m    661\u001b[0m     \u001b[1;32mdef\u001b[0m \u001b[0mfind_elements\u001b[0m\u001b[1;33m(\u001b[0m\u001b[0mself\u001b[0m\u001b[1;33m,\u001b[0m \u001b[0mby\u001b[0m\u001b[1;33m=\u001b[0m\u001b[0mBy\u001b[0m\u001b[1;33m.\u001b[0m\u001b[0mID\u001b[0m\u001b[1;33m,\u001b[0m \u001b[0mvalue\u001b[0m\u001b[1;33m=\u001b[0m\u001b[1;32mNone\u001b[0m\u001b[1;33m)\u001b[0m\u001b[1;33m:\u001b[0m\u001b[1;33m\u001b[0m\u001b[0m\n",
      "\u001b[1;32m~\\anaconda3\\lib\\site-packages\\selenium\\webdriver\\remote\\webelement.py\u001b[0m in \u001b[0;36m_execute\u001b[1;34m(self, command, params)\u001b[0m\n\u001b[0;32m    631\u001b[0m             \u001b[0mparams\u001b[0m \u001b[1;33m=\u001b[0m \u001b[1;33m{\u001b[0m\u001b[1;33m}\u001b[0m\u001b[1;33m\u001b[0m\u001b[0m\n\u001b[0;32m    632\u001b[0m         \u001b[0mparams\u001b[0m\u001b[1;33m[\u001b[0m\u001b[1;34m'id'\u001b[0m\u001b[1;33m]\u001b[0m \u001b[1;33m=\u001b[0m \u001b[0mself\u001b[0m\u001b[1;33m.\u001b[0m\u001b[0m_id\u001b[0m\u001b[1;33m\u001b[0m\u001b[0m\n\u001b[1;32m--> 633\u001b[1;33m         \u001b[1;32mreturn\u001b[0m \u001b[0mself\u001b[0m\u001b[1;33m.\u001b[0m\u001b[0m_parent\u001b[0m\u001b[1;33m.\u001b[0m\u001b[0mexecute\u001b[0m\u001b[1;33m(\u001b[0m\u001b[0mcommand\u001b[0m\u001b[1;33m,\u001b[0m \u001b[0mparams\u001b[0m\u001b[1;33m)\u001b[0m\u001b[1;33m\u001b[0m\u001b[0m\n\u001b[0m\u001b[0;32m    634\u001b[0m \u001b[1;33m\u001b[0m\u001b[0m\n\u001b[0;32m    635\u001b[0m     \u001b[1;32mdef\u001b[0m \u001b[0mfind_element\u001b[0m\u001b[1;33m(\u001b[0m\u001b[0mself\u001b[0m\u001b[1;33m,\u001b[0m \u001b[0mby\u001b[0m\u001b[1;33m=\u001b[0m\u001b[0mBy\u001b[0m\u001b[1;33m.\u001b[0m\u001b[0mID\u001b[0m\u001b[1;33m,\u001b[0m \u001b[0mvalue\u001b[0m\u001b[1;33m=\u001b[0m\u001b[1;32mNone\u001b[0m\u001b[1;33m)\u001b[0m\u001b[1;33m:\u001b[0m\u001b[1;33m\u001b[0m\u001b[0m\n",
      "\u001b[1;32m~\\anaconda3\\lib\\site-packages\\selenium\\webdriver\\remote\\webdriver.py\u001b[0m in \u001b[0;36mexecute\u001b[1;34m(self, driver_command, params)\u001b[0m\n\u001b[0;32m    319\u001b[0m         \u001b[0mresponse\u001b[0m \u001b[1;33m=\u001b[0m \u001b[0mself\u001b[0m\u001b[1;33m.\u001b[0m\u001b[0mcommand_executor\u001b[0m\u001b[1;33m.\u001b[0m\u001b[0mexecute\u001b[0m\u001b[1;33m(\u001b[0m\u001b[0mdriver_command\u001b[0m\u001b[1;33m,\u001b[0m \u001b[0mparams\u001b[0m\u001b[1;33m)\u001b[0m\u001b[1;33m\u001b[0m\u001b[0m\n\u001b[0;32m    320\u001b[0m         \u001b[1;32mif\u001b[0m \u001b[0mresponse\u001b[0m\u001b[1;33m:\u001b[0m\u001b[1;33m\u001b[0m\u001b[0m\n\u001b[1;32m--> 321\u001b[1;33m             \u001b[0mself\u001b[0m\u001b[1;33m.\u001b[0m\u001b[0merror_handler\u001b[0m\u001b[1;33m.\u001b[0m\u001b[0mcheck_response\u001b[0m\u001b[1;33m(\u001b[0m\u001b[0mresponse\u001b[0m\u001b[1;33m)\u001b[0m\u001b[1;33m\u001b[0m\u001b[0m\n\u001b[0m\u001b[0;32m    322\u001b[0m             response['value'] = self._unwrap_value(\n\u001b[0;32m    323\u001b[0m                 response.get('value', None))\n",
      "\u001b[1;32m~\\anaconda3\\lib\\site-packages\\selenium\\webdriver\\remote\\errorhandler.py\u001b[0m in \u001b[0;36mcheck_response\u001b[1;34m(self, response)\u001b[0m\n\u001b[0;32m    240\u001b[0m                 \u001b[0malert_text\u001b[0m \u001b[1;33m=\u001b[0m \u001b[0mvalue\u001b[0m\u001b[1;33m[\u001b[0m\u001b[1;34m'alert'\u001b[0m\u001b[1;33m]\u001b[0m\u001b[1;33m.\u001b[0m\u001b[0mget\u001b[0m\u001b[1;33m(\u001b[0m\u001b[1;34m'text'\u001b[0m\u001b[1;33m)\u001b[0m\u001b[1;33m\u001b[0m\u001b[0m\n\u001b[0;32m    241\u001b[0m             \u001b[1;32mraise\u001b[0m \u001b[0mexception_class\u001b[0m\u001b[1;33m(\u001b[0m\u001b[0mmessage\u001b[0m\u001b[1;33m,\u001b[0m \u001b[0mscreen\u001b[0m\u001b[1;33m,\u001b[0m \u001b[0mstacktrace\u001b[0m\u001b[1;33m,\u001b[0m \u001b[0malert_text\u001b[0m\u001b[1;33m)\u001b[0m\u001b[1;33m\u001b[0m\u001b[0m\n\u001b[1;32m--> 242\u001b[1;33m         \u001b[1;32mraise\u001b[0m \u001b[0mexception_class\u001b[0m\u001b[1;33m(\u001b[0m\u001b[0mmessage\u001b[0m\u001b[1;33m,\u001b[0m \u001b[0mscreen\u001b[0m\u001b[1;33m,\u001b[0m \u001b[0mstacktrace\u001b[0m\u001b[1;33m)\u001b[0m\u001b[1;33m\u001b[0m\u001b[0m\n\u001b[0m\u001b[0;32m    243\u001b[0m \u001b[1;33m\u001b[0m\u001b[0m\n\u001b[0;32m    244\u001b[0m     \u001b[1;32mdef\u001b[0m \u001b[0m_value_or_default\u001b[0m\u001b[1;33m(\u001b[0m\u001b[0mself\u001b[0m\u001b[1;33m,\u001b[0m \u001b[0mobj\u001b[0m\u001b[1;33m,\u001b[0m \u001b[0mkey\u001b[0m\u001b[1;33m,\u001b[0m \u001b[0mdefault\u001b[0m\u001b[1;33m)\u001b[0m\u001b[1;33m:\u001b[0m\u001b[1;33m\u001b[0m\u001b[0m\n",
      "\u001b[1;31mNoSuchElementException\u001b[0m: Message: no such element: Unable to locate element: {\"method\":\"css selector\",\"selector\":\"h2\"}\n  (Session info: chrome=86.0.4240.198)\n"
     ]
    }
   ],
   "source": [
    "title = []\n",
    "link = []\n",
    "date = []\n",
    "start = time.time()\n",
    "\n",
    "while isFlag == True:\n",
    "    if isFlag == True:\n",
    "        print(driver.current_url)\n",
    "        nextBtn.click()\n",
    "        contElements = driver.find_elements_by_css_selector('article')\n",
    "\n",
    "        for cont in contElements:\n",
    "            # 타이틀 가져오기\n",
    "            title.append(cont.find_element_by_tag_name('h2').text)\n",
    "#             print(title)\n",
    "\n",
    "            # 링크 가져오기\n",
    "            link.append(cont.find_element_by_tag_name('a').get_attribute('href'))\n",
    "            \n",
    "            date.append(cont.find_element_by_class_name('news-date').text)\n",
    "        \n",
    "        time.sleep(10)\n",
    "\n",
    "\n",
    "# print(title)\n",
    "print(time.time() - start)"
   ]
  },
  {
   "cell_type": "code",
   "execution_count": 32,
   "metadata": {},
   "outputs": [],
   "source": [
    "chanel = pd.DataFrame({\n",
    "    'date':date,\n",
    "    'title':title,\n",
    "    'link':link\n",
    "})"
   ]
  },
  {
   "cell_type": "code",
   "execution_count": 33,
   "metadata": {},
   "outputs": [
    {
     "data": {
      "text/html": [
       "<div>\n",
       "<style scoped>\n",
       "    .dataframe tbody tr th:only-of-type {\n",
       "        vertical-align: middle;\n",
       "    }\n",
       "\n",
       "    .dataframe tbody tr th {\n",
       "        vertical-align: top;\n",
       "    }\n",
       "\n",
       "    .dataframe thead th {\n",
       "        text-align: right;\n",
       "    }\n",
       "</style>\n",
       "<table border=\"1\" class=\"dataframe\">\n",
       "  <thead>\n",
       "    <tr style=\"text-align: right;\">\n",
       "      <th></th>\n",
       "      <th>date</th>\n",
       "      <th>title</th>\n",
       "      <th>link</th>\n",
       "    </tr>\n",
       "  </thead>\n",
       "  <tbody>\n",
       "    <tr>\n",
       "      <th>0</th>\n",
       "      <td>2020년 10월 23일 금요일</td>\n",
       "      <td>CHANEL 19 백의\\n코드</td>\n",
       "      <td>https://www.chanel.com/ko_KR/fashion/news/2020...</td>\n",
       "    </tr>\n",
       "    <tr>\n",
       "      <th>1</th>\n",
       "      <td>2020년 10월 23일 금요일</td>\n",
       "      <td>CHANEL 19 백</td>\n",
       "      <td>https://www.chanel.com/ko_KR/fashion/news/2020...</td>\n",
       "    </tr>\n",
       "    <tr>\n",
       "      <th>2</th>\n",
       "      <td>2020년 10월 19일 월요일</td>\n",
       "      <td>CHANEL 19 백\\n캠페인</td>\n",
       "      <td>https://www.chanel.com/ko_KR/fashion/news/2020...</td>\n",
       "    </tr>\n",
       "    <tr>\n",
       "      <th>3</th>\n",
       "      <td>2020년 10월 14일 수요일</td>\n",
       "      <td>마린 백트\\n칸 국제 시리즈 페스티벌</td>\n",
       "      <td>https://www.chanel.com/ko_KR/fashion/news/2020...</td>\n",
       "    </tr>\n",
       "    <tr>\n",
       "      <th>4</th>\n",
       "      <td>2020년 10월 14일 수요일</td>\n",
       "      <td>리나 쿠드리\\n리옹 빛 축제\\n오프닝 세레모니</td>\n",
       "      <td>https://www.chanel.com/ko_KR/fashion/news/2020...</td>\n",
       "    </tr>\n",
       "  </tbody>\n",
       "</table>\n",
       "</div>"
      ],
      "text/plain": [
       "                date                      title  \\\n",
       "0  2020년 10월 23일 금요일           CHANEL 19 백의\\n코드   \n",
       "1  2020년 10월 23일 금요일                CHANEL 19 백   \n",
       "2  2020년 10월 19일 월요일           CHANEL 19 백\\n캠페인   \n",
       "3  2020년 10월 14일 수요일       마린 백트\\n칸 국제 시리즈 페스티벌   \n",
       "4  2020년 10월 14일 수요일  리나 쿠드리\\n리옹 빛 축제\\n오프닝 세레모니   \n",
       "\n",
       "                                                link  \n",
       "0  https://www.chanel.com/ko_KR/fashion/news/2020...  \n",
       "1  https://www.chanel.com/ko_KR/fashion/news/2020...  \n",
       "2  https://www.chanel.com/ko_KR/fashion/news/2020...  \n",
       "3  https://www.chanel.com/ko_KR/fashion/news/2020...  \n",
       "4  https://www.chanel.com/ko_KR/fashion/news/2020...  "
      ]
     },
     "execution_count": 33,
     "metadata": {},
     "output_type": "execute_result"
    }
   ],
   "source": [
    "chanel.head()"
   ]
  },
  {
   "cell_type": "code",
   "execution_count": 34,
   "metadata": {},
   "outputs": [
    {
     "name": "stdout",
     "output_type": "stream",
     "text": [
      "<class 'pandas.core.frame.DataFrame'>\n",
      "RangeIndex: 9961 entries, 0 to 9960\n",
      "Data columns (total 3 columns):\n",
      " #   Column  Non-Null Count  Dtype \n",
      "---  ------  --------------  ----- \n",
      " 0   date    9961 non-null   object\n",
      " 1   title   9961 non-null   object\n",
      " 2   link    9961 non-null   object\n",
      "dtypes: object(3)\n",
      "memory usage: 233.6+ KB\n"
     ]
    }
   ],
   "source": [
    "chanel.info()"
   ]
  },
  {
   "cell_type": "code",
   "execution_count": 35,
   "metadata": {},
   "outputs": [
    {
     "data": {
      "text/html": [
       "<div>\n",
       "<style scoped>\n",
       "    .dataframe tbody tr th:only-of-type {\n",
       "        vertical-align: middle;\n",
       "    }\n",
       "\n",
       "    .dataframe tbody tr th {\n",
       "        vertical-align: top;\n",
       "    }\n",
       "\n",
       "    .dataframe thead th {\n",
       "        text-align: right;\n",
       "    }\n",
       "</style>\n",
       "<table border=\"1\" class=\"dataframe\">\n",
       "  <thead>\n",
       "    <tr style=\"text-align: right;\">\n",
       "      <th></th>\n",
       "      <th>date</th>\n",
       "      <th>title</th>\n",
       "      <th>link</th>\n",
       "    </tr>\n",
       "  </thead>\n",
       "  <tbody>\n",
       "    <tr>\n",
       "      <th>9956</th>\n",
       "      <td>2019년 7월 3일 수요일</td>\n",
       "      <td>새롭게 선보이는 웨딩드레스</td>\n",
       "      <td>https://www.chanel.com/ko_KR/fashion/news/2019...</td>\n",
       "    </tr>\n",
       "    <tr>\n",
       "      <th>9957</th>\n",
       "      <td>2019년 7월 2일 화요일</td>\n",
       "      <td>2019/20 가을/겨울\\n오뜨 꾸뛰르 쇼\\n피날레</td>\n",
       "      <td>https://www.chanel.com/ko_KR/fashion/news/2019...</td>\n",
       "    </tr>\n",
       "    <tr>\n",
       "      <th>9958</th>\n",
       "      <td>2019년 7월 2일 화요일</td>\n",
       "      <td>2019/20 가을/겨울\\n오뜨 꾸뛰르 쇼의\\n비하인드 신</td>\n",
       "      <td>https://www.chanel.com/ko_KR/fashion/news/2019...</td>\n",
       "    </tr>\n",
       "    <tr>\n",
       "      <th>9959</th>\n",
       "      <td>2019년 7월 2일 화요일</td>\n",
       "      <td>2019/20 가을/겨울\\n오뜨 꾸뛰르 컬렉션의\\n첫 이미지</td>\n",
       "      <td>https://www.chanel.com/ko_KR/fashion/news/2019...</td>\n",
       "    </tr>\n",
       "    <tr>\n",
       "      <th>9960</th>\n",
       "      <td>2019년 7월 2일 화요일</td>\n",
       "      <td>2019/20 가을/겨울\\n오뜨 꾸뛰르\\n쇼의 무대</td>\n",
       "      <td>https://www.chanel.com/ko_KR/fashion/news/2019...</td>\n",
       "    </tr>\n",
       "  </tbody>\n",
       "</table>\n",
       "</div>"
      ],
      "text/plain": [
       "                 date                              title  \\\n",
       "9956  2019년 7월 3일 수요일                     새롭게 선보이는 웨딩드레스   \n",
       "9957  2019년 7월 2일 화요일       2019/20 가을/겨울\\n오뜨 꾸뛰르 쇼\\n피날레   \n",
       "9958  2019년 7월 2일 화요일   2019/20 가을/겨울\\n오뜨 꾸뛰르 쇼의\\n비하인드 신   \n",
       "9959  2019년 7월 2일 화요일  2019/20 가을/겨울\\n오뜨 꾸뛰르 컬렉션의\\n첫 이미지   \n",
       "9960  2019년 7월 2일 화요일       2019/20 가을/겨울\\n오뜨 꾸뛰르\\n쇼의 무대   \n",
       "\n",
       "                                                   link  \n",
       "9956  https://www.chanel.com/ko_KR/fashion/news/2019...  \n",
       "9957  https://www.chanel.com/ko_KR/fashion/news/2019...  \n",
       "9958  https://www.chanel.com/ko_KR/fashion/news/2019...  \n",
       "9959  https://www.chanel.com/ko_KR/fashion/news/2019...  \n",
       "9960  https://www.chanel.com/ko_KR/fashion/news/2019...  "
      ]
     },
     "execution_count": 35,
     "metadata": {},
     "output_type": "execute_result"
    }
   ],
   "source": [
    "chanel.tail()"
   ]
  },
  {
   "cell_type": "markdown",
   "metadata": {},
   "source": [
    "1부터 44페이지까지 완료"
   ]
  },
  {
   "cell_type": "code",
   "execution_count": null,
   "metadata": {},
   "outputs": [],
   "source": []
  },
  {
   "cell_type": "code",
   "execution_count": null,
   "metadata": {},
   "outputs": [],
   "source": []
  },
  {
   "cell_type": "code",
   "execution_count": null,
   "metadata": {},
   "outputs": [],
   "source": []
  }
 ],
 "metadata": {
  "kernelspec": {
   "display_name": "Python 3",
   "language": "python",
   "name": "python3"
  },
  "language_info": {
   "codemirror_mode": {
    "name": "ipython",
    "version": 3
   },
   "file_extension": ".py",
   "mimetype": "text/x-python",
   "name": "python",
   "nbconvert_exporter": "python",
   "pygments_lexer": "ipython3",
   "version": "3.6.5"
  }
 },
 "nbformat": 4,
 "nbformat_minor": 4
}
