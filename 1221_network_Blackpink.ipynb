{
 "cells": [
  {
   "cell_type": "code",
   "execution_count": 3,
   "metadata": {},
   "outputs": [],
   "source": [
    "import pandas as pd\n",
    "import numpy as np\n",
    "import re\n",
    "import networkx as nx\n",
    "import matplotlib.pyplot as plt"
   ]
  },
  {
   "cell_type": "code",
   "execution_count": 4,
   "metadata": {},
   "outputs": [],
   "source": [
    "# 한글 폰트 문제 해결\n",
    "import platform\n",
    "\n",
    "from matplotlib import font_manager, rc\n",
    "# plt.rcParams['axes.unicode_minus'] = False\n",
    "\n",
    "if platform.system() == 'Darwin':\n",
    "    rc('font', family='AppleGothic')\n",
    "elif platform.system() == 'Windows':\n",
    "    path = \"c:/Windows/Fonts/malgun.ttf\"\n",
    "    font_name = font_manager.FontProperties(fname=path).get_name()\n",
    "    rc('font', family=font_name)\n",
    "else:\n",
    "    print('Unknown system... sorry~~~~') "
   ]
  },
  {
   "cell_type": "code",
   "execution_count": null,
   "metadata": {},
   "outputs": [],
   "source": []
  },
  {
   "cell_type": "code",
   "execution_count": 452,
   "metadata": {},
   "outputs": [],
   "source": [
    "bp2 = pd.read_csv('./magazine/final/tot_bp2_adfn_3.csv', encoding = 'utf-8', sep = '|')"
   ]
  },
  {
   "cell_type": "code",
   "execution_count": 453,
   "metadata": {},
   "outputs": [],
   "source": [
    "bp2['ADFN_3'] = bp2['ADFN_3'].str.replace('[', '').str.replace(']', '').str.replace(\"'\", \"\").str.split(', ')"
   ]
  },
  {
   "cell_type": "code",
   "execution_count": 454,
   "metadata": {},
   "outputs": [
    {
     "data": {
      "text/plain": [
       "0      [싹, 쓰리의, G, 제니, 청, 외, 셀럽, 공통, 보여준, 메이크업, 룩, 스타...\n",
       "1      [제니, 곱창, 밴드, 화법, 높게, 올려, 묶은, 묶음, 힙하, 스타일, 한여름,...\n",
       "2      [곰돌이, 룩, 화제, 모았던, 제니, 공항, 스타일링, 데님, 재킷, 스트레이트,...\n",
       "3      [jennierubyjanen, 제니, 컬러, 따뜻해, 크롭트, 카디건, 시원해, ...\n",
       "4      [와이드, 팬츠, 최수영, vs, 제니, 데님, 팬츠, 자유분방한, 만끽, 싶다면,...\n",
       "                             ...                        \n",
       "695    [지수, 좋아짐, 성격, 예쁘다, 노래, 노력, 실력, 시킴, 기획사, 마냥, vi...\n",
       "696    [지수, 웃긴, 캐릭터, 이상한, 캐릭터, 웃기, 하든, 궁, 시렁, 궁, 시렁, ...\n",
       "697    [지수, 멘트, 재밌어서, 보고있는, 행복함, 지수, 폭발, ☆, 줬으면, 예쁘다,...\n",
       "698    [저녁, 도레미, 마켓, 지수, 소통, 하려구, v, 앱, 켜, 줬으면, 기념, 스...\n",
       "699    [감도, 쩌, 참도, 글코, 드라마, 주인공, 지수, 패널, 지수, 얼굴, 입덕, ...\n",
       "Name: ADFN_3, Length: 700, dtype: object"
      ]
     },
     "execution_count": 454,
     "metadata": {},
     "output_type": "execute_result"
    }
   ],
   "source": [
    "bp2['ADFN_3']"
   ]
  },
  {
   "cell_type": "markdown",
   "metadata": {},
   "source": [
    "### top50 리스트 생성"
   ]
  },
  {
   "cell_type": "code",
   "execution_count": 455,
   "metadata": {},
   "outputs": [],
   "source": [
    "top500 = pd.read_csv('./tot_bp2_top500.csv', sep='|', encoding = 'utf-8')"
   ]
  },
  {
   "cell_type": "code",
   "execution_count": 456,
   "metadata": {},
   "outputs": [
    {
     "data": {
      "text/html": [
       "<div>\n",
       "<style scoped>\n",
       "    .dataframe tbody tr th:only-of-type {\n",
       "        vertical-align: middle;\n",
       "    }\n",
       "\n",
       "    .dataframe tbody tr th {\n",
       "        vertical-align: top;\n",
       "    }\n",
       "\n",
       "    .dataframe thead th {\n",
       "        text-align: right;\n",
       "    }\n",
       "</style>\n",
       "<table border=\"1\" class=\"dataframe\">\n",
       "  <thead>\n",
       "    <tr style=\"text-align: right;\">\n",
       "      <th></th>\n",
       "      <th>word</th>\n",
       "      <th>count</th>\n",
       "    </tr>\n",
       "  </thead>\n",
       "  <tbody>\n",
       "    <tr>\n",
       "      <th>0</th>\n",
       "      <td>로제</td>\n",
       "      <td>9686</td>\n",
       "    </tr>\n",
       "    <tr>\n",
       "      <th>1</th>\n",
       "      <td>제니</td>\n",
       "      <td>9240</td>\n",
       "    </tr>\n",
       "    <tr>\n",
       "      <th>2</th>\n",
       "      <td>예쁘다</td>\n",
       "      <td>5787</td>\n",
       "    </tr>\n",
       "    <tr>\n",
       "      <th>3</th>\n",
       "      <td>귀엽다</td>\n",
       "      <td>4723</td>\n",
       "    </tr>\n",
       "    <tr>\n",
       "      <th>4</th>\n",
       "      <td>지수</td>\n",
       "      <td>4231</td>\n",
       "    </tr>\n",
       "    <tr>\n",
       "      <th>...</th>\n",
       "      <td>...</td>\n",
       "      <td>...</td>\n",
       "    </tr>\n",
       "    <tr>\n",
       "      <th>495</th>\n",
       "      <td>하우스</td>\n",
       "      <td>49</td>\n",
       "    </tr>\n",
       "    <tr>\n",
       "      <th>496</th>\n",
       "      <td>경험</td>\n",
       "      <td>49</td>\n",
       "    </tr>\n",
       "    <tr>\n",
       "      <th>497</th>\n",
       "      <td>롱</td>\n",
       "      <td>49</td>\n",
       "    </tr>\n",
       "    <tr>\n",
       "      <th>498</th>\n",
       "      <td>갈수록</td>\n",
       "      <td>49</td>\n",
       "    </tr>\n",
       "    <tr>\n",
       "      <th>499</th>\n",
       "      <td>정</td>\n",
       "      <td>49</td>\n",
       "    </tr>\n",
       "  </tbody>\n",
       "</table>\n",
       "<p>500 rows × 2 columns</p>\n",
       "</div>"
      ],
      "text/plain": [
       "    word  count\n",
       "0     로제   9686\n",
       "1     제니   9240\n",
       "2    예쁘다   5787\n",
       "3    귀엽다   4723\n",
       "4     지수   4231\n",
       "..   ...    ...\n",
       "495  하우스     49\n",
       "496   경험     49\n",
       "497    롱     49\n",
       "498  갈수록     49\n",
       "499    정     49\n",
       "\n",
       "[500 rows x 2 columns]"
      ]
     },
     "execution_count": 456,
     "metadata": {},
     "output_type": "execute_result"
    }
   ],
   "source": [
    "top500"
   ]
  },
  {
   "cell_type": "code",
   "execution_count": 457,
   "metadata": {},
   "outputs": [
    {
     "name": "stdout",
     "output_type": "stream",
     "text": [
      "30\n",
      "['로제', '제니', '예쁘다', '귀엽다', '지수', '리사', '사랑', '노래', '얼굴', '최고', '목소리', '춤', '매력', '무대', '아이돌', '멋있다', '영어', '여자', '음악', '실력', '음색', '느낌', '솔로', '사랑스럽다', '랩', '미쳤다', '한국', '스타일', '패션', '레전드']\n"
     ]
    }
   ],
   "source": [
    "top30 = []\n",
    "for i in range(30):\n",
    "    top30.append(top500.loc[i, 'word'])\n",
    "    \n",
    "print(len(top30))\n",
    "print(top30)"
   ]
  },
  {
   "cell_type": "code",
   "execution_count": 458,
   "metadata": {},
   "outputs": [
    {
     "name": "stdout",
     "output_type": "stream",
     "text": [
      "50\n",
      "['로제', '제니', '예쁘다', '귀엽다', '지수', '리사', '사랑', '노래', '얼굴', '최고', '목소리', '춤', '매력', '무대', '아이돌', '멋있다', '영어', '여자', '음악', '실력', '음색', '느낌', '솔로', '사랑스럽다', '랩', '미쳤다', '한국', '스타일', '패션', '레전드', '팬', '옷', '라이브', '표정', '입덕', '공주', '분위기', '인간', '가수', '여신', '연예인', '성격', '외모', '예능', '블랙', '웃기', 'CHANEL', 'DIOR', '발음', '고급']\n"
     ]
    }
   ],
   "source": [
    "top50 = []\n",
    "for i in range(50):\n",
    "    top50.append(top500.loc[i, 'word'])\n",
    "    \n",
    "print(len(top50))\n",
    "print(top50)"
   ]
  },
  {
   "cell_type": "markdown",
   "metadata": {},
   "source": [
    "### top100"
   ]
  },
  {
   "cell_type": "code",
   "execution_count": 459,
   "metadata": {},
   "outputs": [
    {
     "name": "stdout",
     "output_type": "stream",
     "text": [
      "100\n",
      "['로제', '제니', '예쁘다', '귀엽다', '지수', '리사', '사랑', '노래', '얼굴', '최고', '목소리', '춤', '매력', '무대', '아이돌', '멋있다', '영어', '여자', '음악', '실력', '음색', '느낌', '솔로', '사랑스럽다', '랩', '미쳤다', '한국', '스타일', '패션', '레전드', '팬', '옷', '라이브', '표정', '입덕', '공주', '분위기', '인간', '가수', '여신', '연예인', '성격', '외모', '예능', '블랙', '웃기', 'CHANEL', 'DIOR', '발음', '고급', '한국인', '한국어', '코첼라', '몸매', '인기', '스타', '걸그룹', '찰떡', '메이크업', '앞머리', '컬러', '직캠', '치마', '애기', '짱', '브랜드', '비율', '코디', '노력', '좋다', '세계', '금발', '모델', '핑크', '태국', '세상', 'LAURENT', '머리카락', '중국', '애교', '말투', '레드', '포인트', '다리', '외국인', '춤선', '소리', '라인', '인형', '남자', '천사', '카리스마', '완성', '매치', '좋겠다', '의상', '시크', '바람', '화보', '프로']\n"
     ]
    }
   ],
   "source": [
    "top100 = []\n",
    "for i in range(100):\n",
    "    top100.append(top500.loc[i, 'word'])\n",
    "    \n",
    "print(len(top100))\n",
    "print(top100)"
   ]
  },
  {
   "cell_type": "code",
   "execution_count": 460,
   "metadata": {},
   "outputs": [
    {
     "name": "stdout",
     "output_type": "stream",
     "text": [
      "200\n",
      "['로제', '제니', '예쁘다', '귀엽다', '지수', '리사', '사랑', '노래', '얼굴', '최고', '목소리', '춤', '매력', '무대', '아이돌', '멋있다', '영어', '여자', '음악', '실력', '음색', '느낌', '솔로', '사랑스럽다', '랩', '미쳤다', '한국', '스타일', '패션', '레전드', '팬', '옷', '라이브', '표정', '입덕', '공주', '분위기', '인간', '가수', '여신', '연예인', '성격', '외모', '예능', '블랙', '웃기', 'CHANEL', 'DIOR', '발음', '고급', '한국인', '한국어', '코첼라', '몸매', '인기', '스타', '걸그룹', '찰떡', '메이크업', '앞머리', '컬러', '직캠', '치마', '애기', '짱', '브랜드', '비율', '코디', '노력', '좋다', '세계', '금발', '모델', '핑크', '태국', '세상', 'LAURENT', '머리카락', '중국', '애교', '말투', '레드', '포인트', '다리', '외국인', '춤선', '소리', '라인', '인형', '남자', '천사', '카리스마', '완성', '매치', '좋겠다', '의상', '시크', '바람', '화보', '프로', '미모', '심장', '이미지', '소화', '모습', '보컬', '룩', '아름다운', '웃음', '관심', '티', '해외', '기분', '톱', '멤버', '컴백', '고양이', '탑', '팬츠', '그룹', '배우', '마음', '사기', '빛', '외국', '차이', '타팬', '비주얼', '손', '콘서트', '창법', '썸네일', '인성', '화장', '천재', '최애', '허리', '좋아요', '활동', '어울린다', '친구', '방송', '명품', '미국', '부럽다', '소름', '재킷', '연습', '강아지', '쿠마', '퀸', '나라', '블링크', '카디건', '어깨', 'BLINK', '아티스트', '어울리는', '힘', '독보', '우리나라', '소녀', '코', '연출', '미소', '다해', '하이틴', '드레스', '살', '볼', '끼', '엄마', '키', '입술', '마지막', '댄스', '여성', '컬렉션', '디자인', '쇼', '영화', '양갈래', '티셔츠', '메인', '개성', '앨범', '뮤비', '점', '새로운', '스타일링', '요정', '아이템', '원피스', '재능', '글', '기도', '센스', '인스타', '데님', '검색']\n"
     ]
    }
   ],
   "source": [
    "top200 = []\n",
    "for i in range(200):\n",
    "    top200.append(top500.loc[i, 'word'])\n",
    "    \n",
    "print(len(top200))\n",
    "print(top200)"
   ]
  },
  {
   "cell_type": "code",
   "execution_count": 461,
   "metadata": {},
   "outputs": [
    {
     "name": "stdout",
     "output_type": "stream",
     "text": [
      "300\n",
      "['로제', '제니', '예쁘다', '귀엽다', '지수', '리사', '사랑', '노래', '얼굴', '최고', '목소리', '춤', '매력', '무대', '아이돌', '멋있다', '영어', '여자', '음악', '실력', '음색', '느낌', '솔로', '사랑스럽다', '랩', '미쳤다', '한국', '스타일', '패션', '레전드', '팬', '옷', '라이브', '표정', '입덕', '공주', '분위기', '인간', '가수', '여신', '연예인', '성격', '외모', '예능', '블랙', '웃기', 'CHANEL', 'DIOR', '발음', '고급', '한국인', '한국어', '코첼라', '몸매', '인기', '스타', '걸그룹', '찰떡', '메이크업', '앞머리', '컬러', '직캠', '치마', '애기', '짱', '브랜드', '비율', '코디', '노력', '좋다', '세계', '금발', '모델', '핑크', '태국', '세상', 'LAURENT', '머리카락', '중국', '애교', '말투', '레드', '포인트', '다리', '외국인', '춤선', '소리', '라인', '인형', '남자', '천사', '카리스마', '완성', '매치', '좋겠다', '의상', '시크', '바람', '화보', '프로', '미모', '심장', '이미지', '소화', '모습', '보컬', '룩', '아름다운', '웃음', '관심', '티', '해외', '기분', '톱', '멤버', '컴백', '고양이', '탑', '팬츠', '그룹', '배우', '마음', '사기', '빛', '외국', '차이', '타팬', '비주얼', '손', '콘서트', '창법', '썸네일', '인성', '화장', '천재', '최애', '허리', '좋아요', '활동', '어울린다', '친구', '방송', '명품', '미국', '부럽다', '소름', '재킷', '연습', '강아지', '쿠마', '퀸', '나라', '블링크', '카디건', '어깨', 'BLINK', '아티스트', '어울리는', '힘', '독보', '우리나라', '소녀', '코', '연출', '미소', '다해', '하이틴', '드레스', '살', '볼', '끼', '엄마', '키', '입술', '마지막', '댄스', '여성', '컬렉션', '디자인', '쇼', '영화', '양갈래', '티셔츠', '메인', '개성', '앨범', '뮤비', '점', '새로운', '스타일링', '요정', '아이템', '원피스', '재능', '글', '기도', '센스', '인스타', '데님', '검색', '가요', '드라마', '행복', '버전', '특유', '매일', '볼살', '중독', '바지', '곱창', '완벽', '회사', '배', '공연', '일본', '립', '실화', '용', '중간', '완벽한', '곡', '연기', '컨셉', '본인', '댓', '티비', '참석', '개인', '인생', '물', '집중', '구독', '일본어', '몸', '역대', '피부', '답', '시선', '화이트', '자연', '톤', '스커트', '눈빛', '간지', '다양한', '잘추고', '유행', '카메라', '실물', '한국말', '갭', '선택', '캐릭터', '딸', '커버', '반전', '하루', '단발', '귀', '밴드', '이해', '걱정', '별로', '전체', '가방', '시', '취향', '정보', '좋', '파트', '공항', '백', '촬영', '인정', '인터뷰', '음원', '꿈', '치', '착하고', 'visual', '단어', '포니테일', '넘사벽', '기대', '비교', '거리', '투어', '화이팅', '눈물', '여름', '아우라', '어울림', '밥', '클래식', '시즌', '발', '안무', '맘', '악플', '장난']\n"
     ]
    }
   ],
   "source": [
    "top300 = []\n",
    "for i in range(300):\n",
    "    top300.append(top500.loc[i, 'word'])\n",
    "    \n",
    "print(len(top300))\n",
    "print(top300)"
   ]
  },
  {
   "cell_type": "code",
   "execution_count": 462,
   "metadata": {},
   "outputs": [
    {
     "name": "stdout",
     "output_type": "stream",
     "text": [
      "500\n",
      "['로제', '제니', '예쁘다', '귀엽다', '지수', '리사', '사랑', '노래', '얼굴', '최고', '목소리', '춤', '매력', '무대', '아이돌', '멋있다', '영어', '여자', '음악', '실력', '음색', '느낌', '솔로', '사랑스럽다', '랩', '미쳤다', '한국', '스타일', '패션', '레전드', '팬', '옷', '라이브', '표정', '입덕', '공주', '분위기', '인간', '가수', '여신', '연예인', '성격', '외모', '예능', '블랙', '웃기', 'CHANEL', 'DIOR', '발음', '고급', '한국인', '한국어', '코첼라', '몸매', '인기', '스타', '걸그룹', '찰떡', '메이크업', '앞머리', '컬러', '직캠', '치마', '애기', '짱', '브랜드', '비율', '코디', '노력', '좋다', '세계', '금발', '모델', '핑크', '태국', '세상', 'LAURENT', '머리카락', '중국', '애교', '말투', '레드', '포인트', '다리', '외국인', '춤선', '소리', '라인', '인형', '남자', '천사']\n"
     ]
    }
   ],
   "source": [
    "t500 = []\n",
    "for i in range(500):\n",
    "    t500.append(top500.loc[i, 'word'])\n",
    "    \n",
    "print(len(t500))\n",
    "print(t500[:91])"
   ]
  },
  {
   "cell_type": "markdown",
   "metadata": {},
   "source": [
    "### top50만 남기기"
   ]
  },
  {
   "cell_type": "code",
   "execution_count": 463,
   "metadata": {
    "scrolled": true
   },
   "outputs": [
    {
     "data": {
      "text/plain": [
       "700"
      ]
     },
     "execution_count": 463,
     "metadata": {},
     "output_type": "execute_result"
    }
   ],
   "source": [
    "len(bp2)"
   ]
  },
  {
   "cell_type": "code",
   "execution_count": 464,
   "metadata": {},
   "outputs": [],
   "source": [
    "top30_word = []\n",
    "for i in range(len(bp2)):\n",
    "    w=[]\n",
    "    for word in bp2.loc[i, 'ADFN_3']:\n",
    "        if word in top30:\n",
    "            w.append(word)\n",
    "    top30_word.append(w)"
   ]
  },
  {
   "cell_type": "code",
   "execution_count": 465,
   "metadata": {},
   "outputs": [],
   "source": [
    "top50_word = []\n",
    "for i in range(len(bp2)):\n",
    "    w=[]\n",
    "    for word in bp2.loc[i, 'ADFN_3']:\n",
    "        if word in top50:\n",
    "            w.append(word)\n",
    "    top50_word.append(w)"
   ]
  },
  {
   "cell_type": "code",
   "execution_count": 466,
   "metadata": {},
   "outputs": [],
   "source": [
    "top100_word = []\n",
    "for i in range(len(bp2)):\n",
    "    w=[]\n",
    "    for word in bp2.loc[i, 'ADFN_3']:\n",
    "        if word in top100:\n",
    "            w.append(word)\n",
    "    top100_word.append(w)"
   ]
  },
  {
   "cell_type": "code",
   "execution_count": 467,
   "metadata": {},
   "outputs": [],
   "source": [
    "top200_word = []\n",
    "for i in range(len(bp2)):\n",
    "    w=[]\n",
    "    for word in bp2.loc[i, 'ADFN_3']:\n",
    "        if word in top200:\n",
    "            w.append(word)\n",
    "    top200_word.append(w)"
   ]
  },
  {
   "cell_type": "code",
   "execution_count": 468,
   "metadata": {},
   "outputs": [],
   "source": [
    "top300_word = []\n",
    "for i in range(len(bp2)):\n",
    "    w=[]\n",
    "    for word in bp2.loc[i, 'ADFN_3']:\n",
    "        if word in top300:\n",
    "            w.append(word)\n",
    "    top300_word.append(w)"
   ]
  },
  {
   "cell_type": "code",
   "execution_count": 469,
   "metadata": {},
   "outputs": [],
   "source": [
    "top500_word = []\n",
    "for i in range(len(bp2)):\n",
    "    w=[]\n",
    "    for word in bp2.loc[i, 'ADFN_3']:\n",
    "        if word in t500:\n",
    "            w.append(word)\n",
    "    top500_word.append(w)"
   ]
  },
  {
   "cell_type": "markdown",
   "metadata": {},
   "source": [
    "### 전체"
   ]
  },
  {
   "cell_type": "code",
   "execution_count": 470,
   "metadata": {
    "scrolled": true
   },
   "outputs": [
    {
     "data": {
      "text/html": [
       "<div>\n",
       "<style scoped>\n",
       "    .dataframe tbody tr th:only-of-type {\n",
       "        vertical-align: middle;\n",
       "    }\n",
       "\n",
       "    .dataframe tbody tr th {\n",
       "        vertical-align: top;\n",
       "    }\n",
       "\n",
       "    .dataframe thead th {\n",
       "        text-align: right;\n",
       "    }\n",
       "</style>\n",
       "<table border=\"1\" class=\"dataframe\">\n",
       "  <thead>\n",
       "    <tr style=\"text-align: right;\">\n",
       "      <th></th>\n",
       "      <th>magazine</th>\n",
       "      <th>brand</th>\n",
       "      <th>title</th>\n",
       "      <th>word</th>\n",
       "      <th>ADFN</th>\n",
       "      <th>ADFN_2</th>\n",
       "      <th>ADFN_3</th>\n",
       "    </tr>\n",
       "  </thead>\n",
       "  <tbody>\n",
       "    <tr>\n",
       "      <th>0</th>\n",
       "      <td>Allure</td>\n",
       "      <td>JE</td>\n",
       "      <td>싹쓰리 이효리부터 블랙핑크 제니까지. 눈 앞머리 하이라이트의 정체는?</td>\n",
       "      <td>싹쓰리의 린다G, BLACKPINK 제니, 청하 그 외 등등 많은 셀럽들이 공통적으...</td>\n",
       "      <td>['싹', '쓰리의', '린다', 'G', 'BLACKPINK', '제니', '청'...</td>\n",
       "      <td>['싹', '쓰리의', '린다', 'G', '제니', '청', '외', '많은', ...</td>\n",
       "      <td>[싹, 쓰리의, G, 제니, 청, 외, 셀럽, 공통, 보여준, 메이크업, 룩, 스타...</td>\n",
       "    </tr>\n",
       "    <tr>\n",
       "      <th>1</th>\n",
       "      <td>Allure</td>\n",
       "      <td>JE</td>\n",
       "      <td>있잖아 아이유, 조이, 제니의 공통점이 뭔지 알아?</td>\n",
       "      <td>#2. 제니식 곱창밴드 소화법_높게 올려 묶은 반묶음으로 힙하게!n이 스타일은 지금...</td>\n",
       "      <td>['제니', '곱창', '밴드', '화법', '높게', '올려', '묶은', '묶음...</td>\n",
       "      <td>['제니', '곱창', '밴드', '화법', '높게', '올려', '묶은', '묶음...</td>\n",
       "      <td>[제니, 곱창, 밴드, 화법, 높게, 올려, 묶은, 묶음, 힙하, 스타일, 한여름,...</td>\n",
       "    </tr>\n",
       "    <tr>\n",
       "      <th>2</th>\n",
       "      <td>Allure</td>\n",
       "      <td>JE</td>\n",
       "      <td>나만 몰랐던 한겨울의 데님 스타일! 한예슬, 제니도 빠진 윈터 데님룩.</td>\n",
       "      <td>@jennierubyjanen곰돌이 룩으로 화제를 모았던 제니의 공항 스타일링. 데...</td>\n",
       "      <td>['곰돌이', '룩', '화제', '모았던', '제니', '공항', '스타', '일...</td>\n",
       "      <td>['곰돌이', '룩', '화제', '모았던', '제니', '공항', '스타일링', ...</td>\n",
       "      <td>[곰돌이, 룩, 화제, 모았던, 제니, 공항, 스타일링, 데님, 재킷, 스트레이트,...</td>\n",
       "    </tr>\n",
       "    <tr>\n",
       "      <th>3</th>\n",
       "      <td>Allure</td>\n",
       "      <td>JE</td>\n",
       "      <td>크롭트 카디건, 패턴 셔츠? 설현, 제니가 먼저 선택한 간절기 룩은?</td>\n",
       "      <td>jennierubyjanen제니n컬러도, 패턴도 따뜻해 보이는 크롭트 카디건이 이토...</td>\n",
       "      <td>['jennierubyjanen', '제니', 'n', '컬러', '패턴', '따뜻...</td>\n",
       "      <td>['jennierubyjanen', '제니', '컬러', '따뜻해', '크롭트', ...</td>\n",
       "      <td>[jennierubyjanen, 제니, 컬러, 따뜻해, 크롭트, 카디건, 시원해, ...</td>\n",
       "    </tr>\n",
       "    <tr>\n",
       "      <th>4</th>\n",
       "      <td>Allure</td>\n",
       "      <td>JE</td>\n",
       "      <td>제니와 현아의 극과극 데님스타일 대결!</td>\n",
       "      <td>@jennierubyjanen와이드 팬츠, 최수영 vs 제니n데님 팬츠의 자유분방한...</td>\n",
       "      <td>['와이드', '팬츠', '최수영', 'vs', '제니', 'n', '데님', '팬...</td>\n",
       "      <td>['와이드', '팬츠', '최수영', 'vs', '제니', '데님', '팬츠', '...</td>\n",
       "      <td>[와이드, 팬츠, 최수영, vs, 제니, 데님, 팬츠, 자유분방한, 만끽, 싶다면,...</td>\n",
       "    </tr>\n",
       "    <tr>\n",
       "      <th>...</th>\n",
       "      <td>...</td>\n",
       "      <td>...</td>\n",
       "      <td>...</td>\n",
       "      <td>...</td>\n",
       "      <td>...</td>\n",
       "      <td>...</td>\n",
       "      <td>...</td>\n",
       "    </tr>\n",
       "    <tr>\n",
       "      <th>695</th>\n",
       "      <td>YOUTUBE</td>\n",
       "      <td>Ji</td>\n",
       "      <td>블랙핑크 지수 실력없다고 왜이래~ 나 블랙핑크야~ 제대로 보여줄게! [All Abo...</td>\n",
       "      <td>['지수 진짜 보면 볼수록 더 좋아짐 성격도 좋고 예쁘다 노래도 잘하고 노력도 많이...</td>\n",
       "      <td>['지수', '진짜', '보면', '볼수록', '더', '좋아짐', '성격', '도...</td>\n",
       "      <td>['지수', '볼수록', '좋아짐', '성격', '예쁘다', '노래', '노력', ...</td>\n",
       "      <td>[지수, 좋아짐, 성격, 예쁘다, 노래, 노력, 실력, 시킴, 기획사, 마냥, vi...</td>\n",
       "    </tr>\n",
       "    <tr>\n",
       "      <th>696</th>\n",
       "      <td>YOUTUBE</td>\n",
       "      <td>Ji</td>\n",
       "      <td>사랑스러움지수 한도초과! 🧡지수🖤 모음 3탄! [예능맛ZIP 맛남의 광장_Delic...</td>\n",
       "      <td>['지수 엄청 웃긴 캐릭터라기보다 이상한 캐릭터라서 웃김 ㅋㅋㅋㅋㅋㅋ 다른 BLAC...</td>\n",
       "      <td>['지수', '엄청', '웃긴', '캐릭터', '라기', '보다', '이상한', '...</td>\n",
       "      <td>['지수', '웃긴', '캐릭터', '이상한', '캐릭터', '라서', '웃김', ...</td>\n",
       "      <td>[지수, 웃긴, 캐릭터, 이상한, 캐릭터, 웃기, 하든, 궁, 시렁, 궁, 시렁, ...</td>\n",
       "    </tr>\n",
       "    <tr>\n",
       "      <th>697</th>\n",
       "      <td>YOUTUBE</td>\n",
       "      <td>Ji</td>\n",
       "      <td>지수 MBTI는 'CUTE'가 분명해 🧡지수🖤 모음 5탄! [예능맛ZIP 맛남의 광...</td>\n",
       "      <td>['지수는 멘트하나하나가 넘 재밌어서 보고있는더 행복함^^', '지수 예능 폭발 ☆...</td>\n",
       "      <td>['지수', '는', '멘트', '하', '나', '하나', '가', '넘', '재...</td>\n",
       "      <td>['지수', '멘트', '재밌어서', '보고있는', '행복함', '지수', '폭발'...</td>\n",
       "      <td>[지수, 멘트, 재밌어서, 보고있는, 행복함, 지수, 폭발, ☆, 줬으면, 예쁘다,...</td>\n",
       "    </tr>\n",
       "    <tr>\n",
       "      <th>698</th>\n",
       "      <td>YOUTUBE</td>\n",
       "      <td>Ji</td>\n",
       "      <td>지수가 먹지 지수 먹방 영상😎 _ BLACKPINK JISOO_korean_comm...</td>\n",
       "      <td>['오늘 저녁 7시 40분 도레미 마켓에 지수와 로제가 출연합니다! 'BLACKPI...</td>\n",
       "      <td>['오늘', '저녁', '7시', '40분', '도레미', '마켓', '에', '지...</td>\n",
       "      <td>['저녁', '도레미', '마켓', '지수', 'BLACKPINK', '예전', '...</td>\n",
       "      <td>[저녁, 도레미, 마켓, 지수, 소통, 하려구, v, 앱, 켜, 줬으면, 기념, 스...</td>\n",
       "    </tr>\n",
       "    <tr>\n",
       "      <th>699</th>\n",
       "      <td>YOUTUBE</td>\n",
       "      <td>Ji</td>\n",
       "      <td>＂안 돼＂ 진심으로 섭외하는 김영철(kim young chul)에 칼차단하는 지수(...</td>\n",
       "      <td>['예능감도 쩌는 BLACKPINK ㅋㅋㅋ 근데 다른 예능도 나오면 진짜 좋겠다. ...</td>\n",
       "      <td>['예능', '감도', '쩌', '는', 'BLACKPINK', 'ㅋㅋㅋ', '근데...</td>\n",
       "      <td>['감도', '쩌', 'BLACKPINK', '참도', '글코', '드라마', '주...</td>\n",
       "      <td>[감도, 쩌, 참도, 글코, 드라마, 주인공, 지수, 패널, 지수, 얼굴, 입덕, ...</td>\n",
       "    </tr>\n",
       "  </tbody>\n",
       "</table>\n",
       "<p>700 rows × 7 columns</p>\n",
       "</div>"
      ],
      "text/plain": [
       "    magazine brand                                              title  \\\n",
       "0     Allure    JE             싹쓰리 이효리부터 블랙핑크 제니까지. 눈 앞머리 하이라이트의 정체는?   \n",
       "1     Allure    JE                       있잖아 아이유, 조이, 제니의 공통점이 뭔지 알아?   \n",
       "2     Allure    JE            나만 몰랐던 한겨울의 데님 스타일! 한예슬, 제니도 빠진 윈터 데님룩.   \n",
       "3     Allure    JE             크롭트 카디건, 패턴 셔츠? 설현, 제니가 먼저 선택한 간절기 룩은?   \n",
       "4     Allure    JE                              제니와 현아의 극과극 데님스타일 대결!   \n",
       "..       ...   ...                                                ...   \n",
       "695  YOUTUBE    Ji  블랙핑크 지수 실력없다고 왜이래~ 나 블랙핑크야~ 제대로 보여줄게! [All Abo...   \n",
       "696  YOUTUBE    Ji  사랑스러움지수 한도초과! 🧡지수🖤 모음 3탄! [예능맛ZIP 맛남의 광장_Delic...   \n",
       "697  YOUTUBE    Ji  지수 MBTI는 'CUTE'가 분명해 🧡지수🖤 모음 5탄! [예능맛ZIP 맛남의 광...   \n",
       "698  YOUTUBE    Ji  지수가 먹지 지수 먹방 영상😎 _ BLACKPINK JISOO_korean_comm...   \n",
       "699  YOUTUBE    Ji  ＂안 돼＂ 진심으로 섭외하는 김영철(kim young chul)에 칼차단하는 지수(...   \n",
       "\n",
       "                                                  word  \\\n",
       "0    싹쓰리의 린다G, BLACKPINK 제니, 청하 그 외 등등 많은 셀럽들이 공통적으...   \n",
       "1    #2. 제니식 곱창밴드 소화법_높게 올려 묶은 반묶음으로 힙하게!n이 스타일은 지금...   \n",
       "2    @jennierubyjanen곰돌이 룩으로 화제를 모았던 제니의 공항 스타일링. 데...   \n",
       "3    jennierubyjanen제니n컬러도, 패턴도 따뜻해 보이는 크롭트 카디건이 이토...   \n",
       "4    @jennierubyjanen와이드 팬츠, 최수영 vs 제니n데님 팬츠의 자유분방한...   \n",
       "..                                                 ...   \n",
       "695  ['지수 진짜 보면 볼수록 더 좋아짐 성격도 좋고 예쁘다 노래도 잘하고 노력도 많이...   \n",
       "696  ['지수 엄청 웃긴 캐릭터라기보다 이상한 캐릭터라서 웃김 ㅋㅋㅋㅋㅋㅋ 다른 BLAC...   \n",
       "697  ['지수는 멘트하나하나가 넘 재밌어서 보고있는더 행복함^^', '지수 예능 폭발 ☆...   \n",
       "698  ['오늘 저녁 7시 40분 도레미 마켓에 지수와 로제가 출연합니다! 'BLACKPI...   \n",
       "699  ['예능감도 쩌는 BLACKPINK ㅋㅋㅋ 근데 다른 예능도 나오면 진짜 좋겠다. ...   \n",
       "\n",
       "                                                  ADFN  \\\n",
       "0    ['싹', '쓰리의', '린다', 'G', 'BLACKPINK', '제니', '청'...   \n",
       "1    ['제니', '곱창', '밴드', '화법', '높게', '올려', '묶은', '묶음...   \n",
       "2    ['곰돌이', '룩', '화제', '모았던', '제니', '공항', '스타', '일...   \n",
       "3    ['jennierubyjanen', '제니', 'n', '컬러', '패턴', '따뜻...   \n",
       "4    ['와이드', '팬츠', '최수영', 'vs', '제니', 'n', '데님', '팬...   \n",
       "..                                                 ...   \n",
       "695  ['지수', '진짜', '보면', '볼수록', '더', '좋아짐', '성격', '도...   \n",
       "696  ['지수', '엄청', '웃긴', '캐릭터', '라기', '보다', '이상한', '...   \n",
       "697  ['지수', '는', '멘트', '하', '나', '하나', '가', '넘', '재...   \n",
       "698  ['오늘', '저녁', '7시', '40분', '도레미', '마켓', '에', '지...   \n",
       "699  ['예능', '감도', '쩌', '는', 'BLACKPINK', 'ㅋㅋㅋ', '근데...   \n",
       "\n",
       "                                                ADFN_2  \\\n",
       "0    ['싹', '쓰리의', '린다', 'G', '제니', '청', '외', '많은', ...   \n",
       "1    ['제니', '곱창', '밴드', '화법', '높게', '올려', '묶은', '묶음...   \n",
       "2    ['곰돌이', '룩', '화제', '모았던', '제니', '공항', '스타일링', ...   \n",
       "3    ['jennierubyjanen', '제니', '컬러', '따뜻해', '크롭트', ...   \n",
       "4    ['와이드', '팬츠', '최수영', 'vs', '제니', '데님', '팬츠', '...   \n",
       "..                                                 ...   \n",
       "695  ['지수', '볼수록', '좋아짐', '성격', '예쁘다', '노래', '노력', ...   \n",
       "696  ['지수', '웃긴', '캐릭터', '이상한', '캐릭터', '라서', '웃김', ...   \n",
       "697  ['지수', '멘트', '재밌어서', '보고있는', '행복함', '지수', '폭발'...   \n",
       "698  ['저녁', '도레미', '마켓', '지수', 'BLACKPINK', '예전', '...   \n",
       "699  ['감도', '쩌', 'BLACKPINK', '참도', '글코', '드라마', '주...   \n",
       "\n",
       "                                                ADFN_3  \n",
       "0    [싹, 쓰리의, G, 제니, 청, 외, 셀럽, 공통, 보여준, 메이크업, 룩, 스타...  \n",
       "1    [제니, 곱창, 밴드, 화법, 높게, 올려, 묶은, 묶음, 힙하, 스타일, 한여름,...  \n",
       "2    [곰돌이, 룩, 화제, 모았던, 제니, 공항, 스타일링, 데님, 재킷, 스트레이트,...  \n",
       "3    [jennierubyjanen, 제니, 컬러, 따뜻해, 크롭트, 카디건, 시원해, ...  \n",
       "4    [와이드, 팬츠, 최수영, vs, 제니, 데님, 팬츠, 자유분방한, 만끽, 싶다면,...  \n",
       "..                                                 ...  \n",
       "695  [지수, 좋아짐, 성격, 예쁘다, 노래, 노력, 실력, 시킴, 기획사, 마냥, vi...  \n",
       "696  [지수, 웃긴, 캐릭터, 이상한, 캐릭터, 웃기, 하든, 궁, 시렁, 궁, 시렁, ...  \n",
       "697  [지수, 멘트, 재밌어서, 보고있는, 행복함, 지수, 폭발, ☆, 줬으면, 예쁘다,...  \n",
       "698  [저녁, 도레미, 마켓, 지수, 소통, 하려구, v, 앱, 켜, 줬으면, 기념, 스...  \n",
       "699  [감도, 쩌, 참도, 글코, 드라마, 주인공, 지수, 패널, 지수, 얼굴, 입덕, ...  \n",
       "\n",
       "[700 rows x 7 columns]"
      ]
     },
     "execution_count": 470,
     "metadata": {},
     "output_type": "execute_result"
    }
   ],
   "source": [
    "bp2"
   ]
  },
  {
   "cell_type": "markdown",
   "metadata": {},
   "source": [
    "### item 남기기"
   ]
  },
  {
   "cell_type": "code",
   "execution_count": 471,
   "metadata": {},
   "outputs": [],
   "source": [
    "item = ['백', '드레스', '재킷', '주얼리', '옷', '슈즈', '스커트', '링', '팬츠', '가방', '슈트', '향수', '의상', '데님', '액세서리', '톱',\n",
    "'셔츠', '모자', '수트', '스니커즈', '니트', '시계', '워치', '핸드백', '벨트', '선글라스', '목걸이', '티셔츠', '쇼츠', '샌들',\n",
    " '귀고리', '워치', '코트', '부츠', '케이프']"
   ]
  },
  {
   "cell_type": "code",
   "execution_count": 472,
   "metadata": {},
   "outputs": [],
   "source": [
    "# item_word = []\n",
    "# for i in range(len(mag_je)):\n",
    "#     w=[]\n",
    "#     for word in mag_je.loc[i, 'ADFN']:\n",
    "#         if word in item:\n",
    "#             w.append(word)\n",
    "#     item_word.append(w)"
   ]
  },
  {
   "cell_type": "code",
   "execution_count": 473,
   "metadata": {},
   "outputs": [],
   "source": [
    "common = ['귀엽다', '예쁘다', '멋있다', '사랑','노래', '최고', '아이돌', '여자', 'BLINK', '가수', '연예인']"
   ]
  },
  {
   "cell_type": "markdown",
   "metadata": {},
   "source": [
    "### top100이면서 common이 아닌 것"
   ]
  },
  {
   "cell_type": "code",
   "execution_count": 474,
   "metadata": {},
   "outputs": [],
   "source": [
    "# top500_not_comon_word = []\n",
    "# for i in range(len(bp2)):\n",
    "#     w=[]\n",
    "#     for word in bp2.loc[i, 'ADFN_3']:\n",
    "#         if word in t500:\n",
    "#             if word not in common:\n",
    "#                 w.append(word)\n",
    "#     top500_not_comon_word.append(w)"
   ]
  },
  {
   "cell_type": "code",
   "execution_count": 475,
   "metadata": {},
   "outputs": [],
   "source": [
    "# len(top500_not_comon_word)"
   ]
  },
  {
   "cell_type": "code",
   "execution_count": 476,
   "metadata": {},
   "outputs": [],
   "source": [
    "# top500_not_comon_word[:100]"
   ]
  },
  {
   "cell_type": "code",
   "execution_count": 477,
   "metadata": {
    "scrolled": true
   },
   "outputs": [
    {
     "data": {
      "text/plain": [
       "700"
      ]
     },
     "execution_count": 477,
     "metadata": {},
     "output_type": "execute_result"
    }
   ],
   "source": [
    "len(top50_word)"
   ]
  },
  {
   "cell_type": "code",
   "execution_count": null,
   "metadata": {},
   "outputs": [],
   "source": []
  },
  {
   "cell_type": "markdown",
   "metadata": {},
   "source": [
    "### 텍스트 한줄씩 읽어와 dataset에 기록"
   ]
  },
  {
   "cell_type": "markdown",
   "metadata": {},
   "source": [
    "### 어프라이어리(Apriori) 알고리즘을 적용하여 연관규칙 분석 수행"
   ]
  },
  {
   "cell_type": "code",
   "execution_count": 478,
   "metadata": {},
   "outputs": [],
   "source": [
    "# 어프라이어리(Apriori)\n",
    "from apyori import apriori"
   ]
  },
  {
   "cell_type": "code",
   "execution_count": 479,
   "metadata": {},
   "outputs": [
    {
     "data": {
      "text/plain": [
       "['제니',\n",
       " '느낌',\n",
       " '스타일',\n",
       " '제니',\n",
       " '느낌',\n",
       " '얼굴',\n",
       " '느낌',\n",
       " '아이돌',\n",
       " '매력',\n",
       " '제니',\n",
       " '느낌',\n",
       " '사랑스럽다',\n",
       " '느낌',\n",
       " '얼굴']"
      ]
     },
     "execution_count": 479,
     "metadata": {},
     "output_type": "execute_result"
    }
   ],
   "source": [
    "top30_word[0]"
   ]
  },
  {
   "cell_type": "code",
   "execution_count": 481,
   "metadata": {
    "scrolled": true
   },
   "outputs": [
    {
     "data": {
      "text/html": [
       "<div>\n",
       "<style scoped>\n",
       "    .dataframe tbody tr th:only-of-type {\n",
       "        vertical-align: middle;\n",
       "    }\n",
       "\n",
       "    .dataframe tbody tr th {\n",
       "        vertical-align: top;\n",
       "    }\n",
       "\n",
       "    .dataframe thead th {\n",
       "        text-align: right;\n",
       "    }\n",
       "</style>\n",
       "<table border=\"1\" class=\"dataframe\">\n",
       "  <thead>\n",
       "    <tr style=\"text-align: right;\">\n",
       "      <th></th>\n",
       "      <th>items</th>\n",
       "      <th>support</th>\n",
       "      <th>ordered_statistics</th>\n",
       "      <th>length</th>\n",
       "    </tr>\n",
       "  </thead>\n",
       "  <tbody>\n",
       "    <tr>\n",
       "      <th>294</th>\n",
       "      <td>(예쁘다, 사랑)</td>\n",
       "      <td>0.251429</td>\n",
       "      <td>[((), (예쁘다, 사랑), 0.25142857142857145, 1.0), ((...</td>\n",
       "      <td>2</td>\n",
       "    </tr>\n",
       "    <tr>\n",
       "      <th>136</th>\n",
       "      <td>(예쁘다, 귀엽다)</td>\n",
       "      <td>0.238571</td>\n",
       "      <td>[((), (예쁘다, 귀엽다), 0.23857142857142857, 1.0), (...</td>\n",
       "      <td>2</td>\n",
       "    </tr>\n",
       "    <tr>\n",
       "      <th>125</th>\n",
       "      <td>(사랑, 귀엽다)</td>\n",
       "      <td>0.228571</td>\n",
       "      <td>[((), (사랑, 귀엽다), 0.22857142857142856, 1.0), ((...</td>\n",
       "      <td>2</td>\n",
       "    </tr>\n",
       "    <tr>\n",
       "      <th>303</th>\n",
       "      <td>(최고, 사랑)</td>\n",
       "      <td>0.225714</td>\n",
       "      <td>[((), (최고, 사랑), 0.2257142857142857, 1.0), ((사랑...</td>\n",
       "      <td>2</td>\n",
       "    </tr>\n",
       "    <tr>\n",
       "      <th>154</th>\n",
       "      <td>(사랑, 노래)</td>\n",
       "      <td>0.220000</td>\n",
       "      <td>[((), (사랑, 노래), 0.22, 1.0), ((노래), (사랑), 0.88,...</td>\n",
       "      <td>2</td>\n",
       "    </tr>\n",
       "    <tr>\n",
       "      <th>358</th>\n",
       "      <td>(예쁘다, 최고)</td>\n",
       "      <td>0.217143</td>\n",
       "      <td>[((), (예쁘다, 최고), 0.21714285714285714, 1.0), ((...</td>\n",
       "      <td>2</td>\n",
       "    </tr>\n",
       "    <tr>\n",
       "      <th>142</th>\n",
       "      <td>(최고, 귀엽다)</td>\n",
       "      <td>0.205714</td>\n",
       "      <td>[((), (최고, 귀엽다), 0.2057142857142857, 1.0), ((귀...</td>\n",
       "      <td>2</td>\n",
       "    </tr>\n",
       "    <tr>\n",
       "      <th>203</th>\n",
       "      <td>(매력, 사랑)</td>\n",
       "      <td>0.202857</td>\n",
       "      <td>[((), (매력, 사랑), 0.20285714285714285, 1.0), ((매...</td>\n",
       "      <td>2</td>\n",
       "    </tr>\n",
       "    <tr>\n",
       "      <th>164</th>\n",
       "      <td>(예쁘다, 노래)</td>\n",
       "      <td>0.200000</td>\n",
       "      <td>[((), (예쁘다, 노래), 0.2, 1.0), ((노래), (예쁘다), 0.8,...</td>\n",
       "      <td>2</td>\n",
       "    </tr>\n",
       "    <tr>\n",
       "      <th>212</th>\n",
       "      <td>(예쁘다, 매력)</td>\n",
       "      <td>0.192857</td>\n",
       "      <td>[((), (예쁘다, 매력), 0.19285714285714287, 1.0), ((...</td>\n",
       "      <td>2</td>\n",
       "    </tr>\n",
       "  </tbody>\n",
       "</table>\n",
       "</div>"
      ],
      "text/plain": [
       "          items   support                                 ordered_statistics  \\\n",
       "294   (예쁘다, 사랑)  0.251429  [((), (예쁘다, 사랑), 0.25142857142857145, 1.0), ((...   \n",
       "136  (예쁘다, 귀엽다)  0.238571  [((), (예쁘다, 귀엽다), 0.23857142857142857, 1.0), (...   \n",
       "125   (사랑, 귀엽다)  0.228571  [((), (사랑, 귀엽다), 0.22857142857142856, 1.0), ((...   \n",
       "303    (최고, 사랑)  0.225714  [((), (최고, 사랑), 0.2257142857142857, 1.0), ((사랑...   \n",
       "154    (사랑, 노래)  0.220000  [((), (사랑, 노래), 0.22, 1.0), ((노래), (사랑), 0.88,...   \n",
       "358   (예쁘다, 최고)  0.217143  [((), (예쁘다, 최고), 0.21714285714285714, 1.0), ((...   \n",
       "142   (최고, 귀엽다)  0.205714  [((), (최고, 귀엽다), 0.2057142857142857, 1.0), ((귀...   \n",
       "203    (매력, 사랑)  0.202857  [((), (매력, 사랑), 0.20285714285714285, 1.0), ((매...   \n",
       "164   (예쁘다, 노래)  0.200000  [((), (예쁘다, 노래), 0.2, 1.0), ((노래), (예쁘다), 0.8,...   \n",
       "212   (예쁘다, 매력)  0.192857  [((), (예쁘다, 매력), 0.19285714285714287, 1.0), ((...   \n",
       "\n",
       "     length  \n",
       "294       2  \n",
       "136       2  \n",
       "125       2  \n",
       "303       2  \n",
       "154       2  \n",
       "358       2  \n",
       "142       2  \n",
       "203       2  \n",
       "164       2  \n",
       "212       2  "
      ]
     },
     "execution_count": 481,
     "metadata": {},
     "output_type": "execute_result"
    }
   ],
   "source": [
    "# 지지도(support) : P(A∩B)\n",
    "result = list(apriori(top500_word, min_support = 0.1))\n",
    "df = pd.DataFrame(result)\n",
    "df['length'] = df['items'].apply(lambda x:len(x))\n",
    "df = df[(df['length'] == 2) \n",
    "        & (df['support'] >= 0.01)].sort_values(by='support', ascending = False)\n",
    "df.head(10)"
   ]
  },
  {
   "cell_type": "code",
   "execution_count": 482,
   "metadata": {},
   "outputs": [
    {
     "name": "stdout",
     "output_type": "stream",
     "text": [
      "frozenset({'패션', '리사'})\n"
     ]
    }
   ],
   "source": [
    "for item in df['items']:\n",
    "    if '리사' in item:\n",
    "        print(item)"
   ]
  },
  {
   "cell_type": "code",
   "execution_count": 483,
   "metadata": {},
   "outputs": [
    {
     "data": {
      "text/html": [
       "<div>\n",
       "<style scoped>\n",
       "    .dataframe tbody tr th:only-of-type {\n",
       "        vertical-align: middle;\n",
       "    }\n",
       "\n",
       "    .dataframe tbody tr th {\n",
       "        vertical-align: top;\n",
       "    }\n",
       "\n",
       "    .dataframe thead th {\n",
       "        text-align: right;\n",
       "    }\n",
       "</style>\n",
       "<table border=\"1\" class=\"dataframe\">\n",
       "  <thead>\n",
       "    <tr style=\"text-align: right;\">\n",
       "      <th></th>\n",
       "      <th>items</th>\n",
       "      <th>support</th>\n",
       "      <th>ordered_statistics</th>\n",
       "      <th>length</th>\n",
       "    </tr>\n",
       "  </thead>\n",
       "  <tbody>\n",
       "  </tbody>\n",
       "</table>\n",
       "</div>"
      ],
      "text/plain": [
       "Empty DataFrame\n",
       "Columns: [items, support, ordered_statistics, length]\n",
       "Index: []"
      ]
     },
     "execution_count": 483,
     "metadata": {},
     "output_type": "execute_result"
    }
   ],
   "source": [
    "df[df['items'] == {'리사'}]"
   ]
  },
  {
   "cell_type": "markdown",
   "metadata": {},
   "source": [
    "### networkx 그래프 정의"
   ]
  },
  {
   "cell_type": "code",
   "execution_count": 484,
   "metadata": {},
   "outputs": [],
   "source": [
    "G = nx.Graph()\n",
    "ar = (df['items']); G.add_edges_from(ar)"
   ]
  },
  {
   "cell_type": "code",
   "execution_count": 485,
   "metadata": {},
   "outputs": [],
   "source": [
    "# 페이지 랭크\n",
    "pr = nx.pagerank(G)\n",
    "nsize = np.array([v for v in pr.values()])\n",
    "nsize = 2000 * (nsize - min(nsize)) / (max(nsize) - min(nsize))"
   ]
  },
  {
   "cell_type": "code",
   "execution_count": 486,
   "metadata": {},
   "outputs": [],
   "source": [
    "pos = nx.spring_layout(G)"
   ]
  },
  {
   "cell_type": "code",
   "execution_count": 487,
   "metadata": {},
   "outputs": [
    {
     "data": {
      "image/png": "[encoded data removed]",
      "text/plain": [
       "<Figure size 1152x864 with 1 Axes>"
      ]
     },
     "metadata": {},
     "output_type": "display_data"
    }
   ],
   "source": [
    "plt.figure(figsize = (16, 12)) ; plt.axis('off')\n",
    "nx.draw_networkx(G, font_family = 'Malgun Gothic', font_size = 16,\n",
    "                pos = pos, node_color = list(pr.values()), node_size = nsize,\n",
    "                alpha=0.7, edge_color='.5', cmap = plt.cm.RdPu,\n",
    "                font_color = 'white', font_weight = 'bold')\n",
    "\n",
    "plt.savefig('./final_img/nt_BP2_top500_mis1.png', bbox_inches = 'tight', transparent = True)\n",
    "plt.show()\n"
   ]
  },
  {
   "cell_type": "code",
   "execution_count": 53,
   "metadata": {},
   "outputs": [],
   "source": [
    "# ['첫', '처음', '공개', '작업', '이후', '펜디', '판매', '작품', '드', '예정', '시대']"
   ]
  },
  {
   "cell_type": "code",
   "execution_count": null,
   "metadata": {},
   "outputs": [],
   "source": []
  },
  {
   "cell_type": "code",
   "execution_count": null,
   "metadata": {},
   "outputs": [],
   "source": []
  },
  {
   "cell_type": "code",
   "execution_count": null,
   "metadata": {},
   "outputs": [],
   "source": []
  },
  {
   "cell_type": "code",
   "execution_count": null,
   "metadata": {},
   "outputs": [],
   "source": []
  }
 ],
 "metadata": {
  "kernelspec": {
   "display_name": "Python 3",
   "language": "python",
   "name": "python3"
  },
  "language_info": {
   "codemirror_mode": {
    "name": "ipython",
    "version": 3
   },
   "file_extension": ".py",
   "mimetype": "text/x-python",
   "name": "python",
   "nbconvert_exporter": "python",
   "pygments_lexer": "ipython3",
   "version": "3.7.6"
  }
 },
 "nbformat": 4,
 "nbformat_minor": 4
}
