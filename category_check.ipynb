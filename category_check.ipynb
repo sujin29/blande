{
 "cells": [
  {
   "cell_type": "code",
   "execution_count": 1,
   "metadata": {},
   "outputs": [],
   "source": [
    "import pandas as pd\n",
    "import numpy as np"
   ]
  },
  {
   "cell_type": "markdown",
   "metadata": {},
   "source": [
    "# 마리끌레르"
   ]
  },
  {
   "cell_type": "code",
   "execution_count": 2,
   "metadata": {},
   "outputs": [],
   "source": [
    "marie_chanel = pd.read_csv('marie_chanel.csv', sep='|', encoding = 'utf-8')\n",
    "marie_dior = pd.read_csv('marie_dior.csv', sep='|', encoding = 'utf-8')\n",
    "marie_ysl = pd.read_csv('marie_ysl.csv', sep='|', encoding = 'utf-8')\n",
    "marie_celine = pd.read_csv('marie_celine.csv', sep='|', encoding = 'utf-8')"
   ]
  },
  {
   "cell_type": "code",
   "execution_count": 3,
   "metadata": {},
   "outputs": [
    {
     "data": {
      "text/plain": [
       "fashion        311\n",
       "beauty         251\n",
       "video           24\n",
       "celebrity       22\n",
       "ad-campaign     15\n",
       "lifestyle       12\n",
       "향장               3\n",
       "runway           2\n",
       "mc-likes         1\n",
       "shopperbook      1\n",
       "Name: category, dtype: int64"
      ]
     },
     "execution_count": 3,
     "metadata": {},
     "output_type": "execute_result"
    }
   ],
   "source": [
    "marie_chanel['category'].value_counts()"
   ]
  },
  {
   "cell_type": "code",
   "execution_count": 17,
   "metadata": {},
   "outputs": [
    {
     "data": {
      "text/html": [
       "<div>\n",
       "<style scoped>\n",
       "    .dataframe tbody tr th:only-of-type {\n",
       "        vertical-align: middle;\n",
       "    }\n",
       "\n",
       "    .dataframe tbody tr th {\n",
       "        vertical-align: top;\n",
       "    }\n",
       "\n",
       "    .dataframe thead th {\n",
       "        text-align: right;\n",
       "    }\n",
       "</style>\n",
       "<table border=\"1\" class=\"dataframe\">\n",
       "  <thead>\n",
       "    <tr style=\"text-align: right;\">\n",
       "      <th></th>\n",
       "      <th>title</th>\n",
       "      <th>link</th>\n",
       "      <th>date</th>\n",
       "      <th>title_brand</th>\n",
       "      <th>content</th>\n",
       "      <th>check</th>\n",
       "      <th>why</th>\n",
       "      <th>category</th>\n",
       "      <th>brand</th>\n",
       "    </tr>\n",
       "  </thead>\n",
       "  <tbody>\n",
       "    <tr>\n",
       "      <th>530</th>\n",
       "      <td>크리스틴 스튜어트의 가브리엘 샤넬 필름</td>\n",
       "      <td>http://www.marieclairekorea.com/video/beauty-v...</td>\n",
       "      <td>2017-08</td>\n",
       "      <td>1</td>\n",
       "      <td>['[Vimeovideo Id=”231663497″ Org_w=”1280″ Org_...</td>\n",
       "      <td>1</td>\n",
       "      <td>NaN</td>\n",
       "      <td>video</td>\n",
       "      <td>Ch</td>\n",
       "    </tr>\n",
       "    <tr>\n",
       "      <th>539</th>\n",
       "      <td>Eiffel Savoir Faire</td>\n",
       "      <td>http://www.marieclairekorea.com/video/2017/08/...</td>\n",
       "      <td>2017-08</td>\n",
       "      <td>0</td>\n",
       "      <td>['[Vimeovideo Id=”228001761″ Org_w=”1920″ Org_...</td>\n",
       "      <td>1</td>\n",
       "      <td>NaN</td>\n",
       "      <td>video</td>\n",
       "      <td>Ch</td>\n",
       "    </tr>\n",
       "  </tbody>\n",
       "</table>\n",
       "</div>"
      ],
      "text/plain": [
       "                     title                                               link  \\\n",
       "530  크리스틴 스튜어트의 가브리엘 샤넬 필름  http://www.marieclairekorea.com/video/beauty-v...   \n",
       "539    Eiffel Savoir Faire  http://www.marieclairekorea.com/video/2017/08/...   \n",
       "\n",
       "        date  title_brand                                            content  \\\n",
       "530  2017-08            1  ['[Vimeovideo Id=”231663497″ Org_w=”1280″ Org_...   \n",
       "539  2017-08            0  ['[Vimeovideo Id=”228001761″ Org_w=”1920″ Org_...   \n",
       "\n",
       "     check  why category brand  \n",
       "530      1  NaN    video    Ch  \n",
       "539      1  NaN    video    Ch  "
      ]
     },
     "execution_count": 17,
     "metadata": {},
     "output_type": "execute_result"
    }
   ],
   "source": [
    "marie_chanel[(marie_chanel['category'] == 'video') & (marie_chanel['check'] != 2)]"
   ]
  },
  {
   "cell_type": "code",
   "execution_count": 14,
   "metadata": {},
   "outputs": [],
   "source": [
    "marie_chanel.loc[[530, 539], 'check'] = 1"
   ]
  },
  {
   "cell_type": "code",
   "execution_count": 16,
   "metadata": {},
   "outputs": [],
   "source": [
    "marie_chanel.loc[[499, 514, 522], 'check'] = 2"
   ]
  },
  {
   "cell_type": "code",
   "execution_count": 24,
   "metadata": {},
   "outputs": [],
   "source": [
    "marie_chanel.loc[(marie_chanel['category'] == 'celebrity') & (marie_chanel['check'] != 2), 'check'] = 2"
   ]
  },
  {
   "cell_type": "code",
   "execution_count": 35,
   "metadata": {},
   "outputs": [],
   "source": [
    "marie_chanel.loc[(marie_chanel['category'] == 'ad-campaign') & (marie_chanel['check'] != 2), 'check'] = 2"
   ]
  },
  {
   "cell_type": "code",
   "execution_count": 38,
   "metadata": {},
   "outputs": [],
   "source": [
    "a = marie_chanel[(marie_chanel['category'] == 'lifestyle') ]"
   ]
  },
  {
   "cell_type": "code",
   "execution_count": 41,
   "metadata": {},
   "outputs": [],
   "source": [
    "marie_chanel.loc[marie_chanel['category'] == '향장', 'check'] = 2"
   ]
  },
  {
   "cell_type": "code",
   "execution_count": 51,
   "metadata": {},
   "outputs": [
    {
     "data": {
      "text/html": [
       "<div>\n",
       "<style scoped>\n",
       "    .dataframe tbody tr th:only-of-type {\n",
       "        vertical-align: middle;\n",
       "    }\n",
       "\n",
       "    .dataframe tbody tr th {\n",
       "        vertical-align: top;\n",
       "    }\n",
       "\n",
       "    .dataframe thead th {\n",
       "        text-align: right;\n",
       "    }\n",
       "</style>\n",
       "<table border=\"1\" class=\"dataframe\">\n",
       "  <thead>\n",
       "    <tr style=\"text-align: right;\">\n",
       "      <th></th>\n",
       "      <th>title</th>\n",
       "      <th>link</th>\n",
       "      <th>date</th>\n",
       "      <th>title_brand</th>\n",
       "      <th>content</th>\n",
       "      <th>check</th>\n",
       "      <th>why</th>\n",
       "      <th>category</th>\n",
       "      <th>brand</th>\n",
       "    </tr>\n",
       "  </thead>\n",
       "  <tbody>\n",
       "    <tr>\n",
       "      <th>126</th>\n",
       "      <td>PHILOSOPHY DI LORENZO SERAFINI</td>\n",
       "      <td>http://www.marieclairekorea.com/runway/2019/12...</td>\n",
       "      <td>2019-12</td>\n",
       "      <td>0</td>\n",
       "      <td>[]</td>\n",
       "      <td>2</td>\n",
       "      <td>NaN</td>\n",
       "      <td>runway</td>\n",
       "      <td>Ch</td>\n",
       "    </tr>\n",
       "    <tr>\n",
       "      <th>594</th>\n",
       "      <td>Chanel</td>\n",
       "      <td>http://www.marieclairekorea.com/runway/2017/01...</td>\n",
       "      <td>2017-01</td>\n",
       "      <td>0</td>\n",
       "      <td>‘넥스트 제너레이션’ 걸들의 쇼핑 타임을 상상했다는 칼 라거펠트. 그의 번뜩이는 아...</td>\n",
       "      <td>1</td>\n",
       "      <td>NaN</td>\n",
       "      <td>runway</td>\n",
       "      <td>Ch</td>\n",
       "    </tr>\n",
       "  </tbody>\n",
       "</table>\n",
       "</div>"
      ],
      "text/plain": [
       "                              title  \\\n",
       "126  PHILOSOPHY DI LORENZO SERAFINI   \n",
       "594                          Chanel   \n",
       "\n",
       "                                                  link     date  title_brand  \\\n",
       "126  http://www.marieclairekorea.com/runway/2019/12...  2019-12            0   \n",
       "594  http://www.marieclairekorea.com/runway/2017/01...  2017-01            0   \n",
       "\n",
       "                                               content  check  why category  \\\n",
       "126                                                 []      2  NaN   runway   \n",
       "594  ‘넥스트 제너레이션’ 걸들의 쇼핑 타임을 상상했다는 칼 라거펠트. 그의 번뜩이는 아...      1  NaN   runway   \n",
       "\n",
       "    brand  \n",
       "126    Ch  \n",
       "594    Ch  "
      ]
     },
     "execution_count": 51,
     "metadata": {},
     "output_type": "execute_result"
    }
   ],
   "source": [
    "marie_chanel[marie_chanel['category'] == 'runway']"
   ]
  },
  {
   "cell_type": "code",
   "execution_count": 54,
   "metadata": {},
   "outputs": [],
   "source": [
    "marie_chanel.loc[marie_chanel['category'] == 'shopperbook', 'check'] = 2"
   ]
  },
  {
   "cell_type": "code",
   "execution_count": 107,
   "metadata": {},
   "outputs": [
    {
     "name": "stdout",
     "output_type": "stream",
     "text": [
      "클래식 아이템을 얘기할 때 빼놓을 수 없는 샤넬 백. 특히 ‘2.55’는 가브리엘 샤넬이 1955년 처음 디자인한 모습을 그대로 유지하고 있다. 시즌마다 새로운 소재를 쓰거나 디테일을 가미해 출시하는 점 역시 흥미롭다. 단순히 물건을 넣는 도구의 의미를 뛰어넘어 엄마가 딸에게 물려주는 가방이자 여성들의 로망이 된 샤넬의 아이코닉 백은 타임리스의 진정한 의미를 일깨운다.\n"
     ]
    }
   ],
   "source": [
    "match_list = []\n",
    "\n",
    "for word in b:\n",
    "    if '샤넬' in word:\n",
    "        print(word)"
   ]
  },
  {
   "cell_type": "code",
   "execution_count": 43,
   "metadata": {},
   "outputs": [
    {
     "data": {
      "text/plain": [
       "Int64Index([  4,   7,  11,  14,  16,  20,  25,  27,  31,  34,\n",
       "            ...\n",
       "            624, 626, 628, 629, 630, 633, 634, 636, 639, 640],\n",
       "           dtype='int64', length=216)"
      ]
     },
     "execution_count": 43,
     "metadata": {},
     "output_type": "execute_result"
    }
   ],
   "source": [
    "a.index"
   ]
  },
  {
   "cell_type": "code",
   "execution_count": 124,
   "metadata": {},
   "outputs": [
    {
     "name": "stdout",
     "output_type": "stream",
     "text": [
      "--------------------------------------------------\n",
      "['모델스닷컴 핫 리스트에 빠른 속도로 진입한 슈퍼 루키 리아 파블로바. 이미 수많은 매체에서 ‘주목할 뉴 페이스’로 여러 번 언급된 그녀는 이번 시즌 가장 많은 런웨이에 오른 신인 모델로 꼽힌다. 샤넬, 발렌티노, 구찌, 겐조, 디올, 생 로랑, 로에베 등 수십 개의 하우스가 그녀에게 러브콜을 보냈고, 이번 쿠튀르 컬렉션에서도 그녀의 존재감이 유감없이 빛났다. 러시아 태생의 미녀답게 차갑고 도도한 분위기와 완벽한 프로포션을 자랑하는 그녀의 유니크한 아름다움은 이번 시즌 로베르토 까발리와 구찌, 멀버리 광고 캠페인에서도 확인할 수 있다'\n",
      "--------------------------------------------------\n",
      "--------------------------------------------------\n",
      " ' ', '난생처음 보는 낯선 얼굴이 셀린느 광고 캠페인의 얼굴로 등장했다. 알고 보니 찰리 프레이저라는 이름의 이 아리따운 숙녀는 이번 F/W 시즌 뉴욕 컬렉션을 시작으로 지방시, 샤넬, 셀린느, 스텔라 매카트니, 프라다 등 내로라하는 쇼를 통해 화려한 신고식을 치른 특급 신인. 나른하고 오묘한 분위기의 마스크와 단발머리가 특징인 찰리 프레이저는 한번 보면 쉽게 잊기 힘든 마력을 지녔는데, 그녀의 단발머리는 전설적인 헤어 아티스트 귀도 팔라우의 작품이라고. “귀도 팔라우에게 평생 갚지 못할 빚을 졌어요. 머리를 단발로 자르면서 일이 술술 풀리기 시작했죠.” 단발머리와 함께 제대로 광명 찾은 그녀의 전성기는 이제 막 시작됐다.'\n",
      "--------------------------------------------------\n"
     ]
    }
   ],
   "source": [
    "for content in a.loc[630, 'content'].split(\", ' ',\"):\n",
    "#     print(content)\n",
    "    print('-'*50)\n",
    "    if '샤넬' in content:\n",
    "        print(content)"
   ]
  },
  {
   "cell_type": "code",
   "execution_count": 123,
   "metadata": {},
   "outputs": [
    {
     "data": {
      "text/plain": [
       "title                                            LOVE! CHAMPAGNE\n",
       "link           http://www.marieclairekorea.com/lifestyle/2016...\n",
       "date                                                     2016-09\n",
       "title_brand                                                    0\n",
       "content        ['', '1 뵈브 클리코 옐로 레이블 입 안을 가득 채우는 과일 향을 시작으로 한...\n",
       "check                                                          0\n",
       "why                                                          NaN\n",
       "category                                               lifestyle\n",
       "brand                                                         Ch\n",
       "Name: 629, dtype: object"
      ]
     },
     "execution_count": 123,
     "metadata": {},
     "output_type": "execute_result"
    }
   ],
   "source": [
    "a.loc[629]"
   ]
  },
  {
   "cell_type": "code",
   "execution_count": 125,
   "metadata": {},
   "outputs": [
    {
     "data": {
      "text/plain": [
       "'http://www.marieclairekorea.com/fashion/2016/09/watch-this-face/'"
      ]
     },
     "execution_count": 125,
     "metadata": {},
     "output_type": "execute_result"
    }
   ],
   "source": [
    "a.loc[630, 'link']"
   ]
  },
  {
   "cell_type": "code",
   "execution_count": 122,
   "metadata": {},
   "outputs": [
    {
     "data": {
      "text/plain": [
       "\"['', '1 뵈브 클리코 옐로 레이블 입 안을 가득 채우는 과일 향을 시작으로 한 잔을 비우기까지 기포가 한결같이 힘 있게 올라온다.', '2 아르망 드 브리냑 브뤼 골드 골드 패키지가 풍기는 위용이 예사롭지 않다. 미슐랭 3스타 레스토랑인 ‘아틀리에 조엘 로부숑 홍콩’ 등에 리스팅된 ‘스타’ 샴페인이다.', '3 모엣 미니 결혼식 하객들이 200ml의 모엣 미니를 한 병씩 드는 순간 무겁고 어색한 공기는 순식간에 가볍고 흥겨워진다.', '4 모엣 로제 리미티드 에디션 플라밍고 6백 병 한정 수입한 귀한 에디션. 레이블 뒷면에 ‘큰소리로 사랑해라고 외치는\\\\n데 도전하시겠습니까?’ 등 웨딩에 최적화된 도전 과제들이 적혀 있다.', '5 크루그 그랑 퀴베 크루그 마니아를 일컫는 ‘크루기스트’라는 말이 있을 정도로 마니아층을 거느리고 있다. 어니스트 헤밍웨이, 코코 샤넬 등이 사랑한 샴페인이다.', '6 파이퍼 하이직 레어 파이퍼 하이직 한 잔으로 아침을 시작했다는 마릴린 먼로의 ‘최애’ 샴페인이다. 열대 과일과 너트 등 섬세한 향의 변화를 느낄 수 있다.', '7 돔 페리뇽 빈티지 엘리자베스 여왕의 대관식 때 쓰인 샴페인, 찰스 왕세자와 다이애나 비의 결혼식 축하주 등 세기의 파티에만 초대된 돔 페리뇽. 한 병이 완성되기까지 최소 7년이 걸린다.', '8 볼랭저 라 그랑 아네 최고 품질의 포도가 열린 특별한 해에만 만들어지는 샴페인이다. ‘007 시리즈’에서 제임스 본드가 마시던 그 샴페인이다.']\""
      ]
     },
     "execution_count": 122,
     "metadata": {},
     "output_type": "execute_result"
    }
   ],
   "source": [
    "a.loc[629, 'content']"
   ]
  },
  {
   "cell_type": "code",
   "execution_count": null,
   "metadata": {},
   "outputs": [],
   "source": []
  },
  {
   "cell_type": "code",
   "execution_count": null,
   "metadata": {},
   "outputs": [],
   "source": []
  },
  {
   "cell_type": "code",
   "execution_count": null,
   "metadata": {},
   "outputs": [],
   "source": []
  },
  {
   "cell_type": "code",
   "execution_count": null,
   "metadata": {},
   "outputs": [],
   "source": []
  },
  {
   "cell_type": "code",
   "execution_count": null,
   "metadata": {},
   "outputs": [],
   "source": []
  }
 ],
 "metadata": {
  "kernelspec": {
   "display_name": "Python 3",
   "language": "python",
   "name": "python3"
  },
  "language_info": {
   "codemirror_mode": {
    "name": "ipython",
    "version": 3
   },
   "file_extension": ".py",
   "mimetype": "text/x-python",
   "name": "python",
   "nbconvert_exporter": "python",
   "pygments_lexer": "ipython3",
   "version": "3.7.6"
  }
 },
 "nbformat": 4,
 "nbformat_minor": 4
}
