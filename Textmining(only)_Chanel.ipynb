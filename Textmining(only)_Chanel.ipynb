{
 "cells": [
  {
   "cell_type": "code",
   "execution_count": 1,
   "metadata": {},
   "outputs": [],
   "source": [
    "import pandas as pd\n",
    "import numpy as np"
   ]
  },
  {
   "cell_type": "code",
   "execution_count": 2,
   "metadata": {},
   "outputs": [],
   "source": [
    "from collections import Counter"
   ]
  },
  {
   "cell_type": "code",
   "execution_count": 3,
   "metadata": {},
   "outputs": [],
   "source": [
    "a_ch_dw = pd.read_csv('./magazine/final/a_ch_dw.csv', sep = '|', encoding = 'utf-8')\n",
    "b_ch_dw = pd.read_csv('./magazine/final/b_ch_dw.csv', sep = '|', encoding = 'utf-8')\n",
    "c_ch_dw = pd.read_csv('./magazine/final/c_ch_dw.csv', sep = '|', encoding = 'utf-8')\n",
    "e_ch_dw = pd.read_csv('./magazine/final/e_ch_dw.csv', sep = '|', encoding = 'utf-8')\n",
    "fb_ch_dw = pd.read_csv('./magazine/final/fb_ch_dw.csv', sep = '|', encoding = 'utf-8')\n",
    "fn_ch_dw = pd.read_csv('./magazine/final/fn_ch_dw.csv', sep = '|', encoding = 'utf-8')\n",
    "m_ch_dw = pd.read_csv('./magazine/final/m_ch_dw.csv', sep = '|', encoding = 'utf-8')\n",
    "v_ch_dw = pd.read_csv('./magazine/final/v_ch_dw.csv', sep = '|', encoding = 'utf-8')\n",
    "w_ch_dw = pd.read_csv('./magazine/final/w_ch_dw.csv', sep = '|', encoding = 'utf-8')"
   ]
  },
  {
   "cell_type": "markdown",
   "metadata": {},
   "source": [
    "## list(article_list) 생성 후 append"
   ]
  },
  {
   "cell_type": "code",
   "execution_count": 4,
   "metadata": {},
   "outputs": [],
   "source": [
    "contents_list = []"
   ]
  },
  {
   "cell_type": "code",
   "execution_count": 5,
   "metadata": {},
   "outputs": [],
   "source": [
    "magazines_ch_dw = [a_ch_dw, b_ch_dw, c_ch_dw, e_ch_dw, fb_ch_dw, fn_ch_dw, m_ch_dw, v_ch_dw, w_ch_dw]"
   ]
  },
  {
   "cell_type": "code",
   "execution_count": 6,
   "metadata": {},
   "outputs": [],
   "source": [
    "magazine_list = []\n",
    "article_list = []\n",
    "for magazine in magazines_ch_dw:\n",
    "    articles = magazine['word_chanel']\n",
    "    for article in articles:\n",
    "        article_list.append(article)"
   ]
  },
  {
   "cell_type": "code",
   "execution_count": 7,
   "metadata": {},
   "outputs": [
    {
     "data": {
      "text/plain": [
       "1594"
      ]
     },
     "execution_count": 7,
     "metadata": {},
     "output_type": "execute_result"
    }
   ],
   "source": [
    "len(article_list)"
   ]
  },
  {
   "cell_type": "markdown",
   "metadata": {},
   "source": [
    "## 트위터 패키지 안에 konlpy 모듈 호출"
   ]
  },
  {
   "cell_type": "code",
   "execution_count": 8,
   "metadata": {},
   "outputs": [],
   "source": [
    "from konlpy.tag import Twitter"
   ]
  },
  {
   "cell_type": "code",
   "execution_count": 9,
   "metadata": {},
   "outputs": [
    {
     "name": "stderr",
     "output_type": "stream",
     "text": [
      "C:\\Users\\wnsgo\\anaconda3\\lib\\site-packages\\konlpy\\tag\\_okt.py:16: UserWarning: \"Twitter\" has changed to \"Okt\" since KoNLPy v0.4.5.\n",
      "  warn('\"Twitter\" has changed to \"Okt\" since KoNLPy v0.4.5.')\n"
     ]
    }
   ],
   "source": [
    "twitter = Twitter()"
   ]
  },
  {
   "cell_type": "markdown",
   "metadata": {},
   "source": [
    "### 각 문장별로 형태소 구분하기"
   ]
  },
  {
   "cell_type": "code",
   "execution_count": 10,
   "metadata": {},
   "outputs": [
    {
     "name": "stdout",
     "output_type": "stream",
     "text": [
      "1594\n"
     ]
    }
   ],
   "source": [
    "sentences_tag = []\n",
    "\n",
    "for sentence in article_list:\n",
    "    morph = twitter.pos(sentence)\n",
    "    sentences_tag.append(morph)\n",
    "    \n",
    "    \n",
    "\n",
    "print(len(sentences_tag))\n"
   ]
  },
  {
   "cell_type": "code",
   "execution_count": 11,
   "metadata": {},
   "outputs": [
    {
     "data": {
      "text/plain": [
       "[(\"['\", 'Punctuation'),\n",
       " ('메탈', 'Noun'),\n",
       " ('과', 'Josa'),\n",
       " ('레진', 'Noun'),\n",
       " ('으로', 'Josa'),\n",
       " ('만든', 'Verb'),\n",
       " ('귀고리', 'Noun'),\n",
       " ('는', 'Josa'),\n",
       " ('가격', 'Noun'),\n",
       " ('미정', 'Noun'),\n",
       " (',', 'Punctuation'),\n",
       " ('샤넬', 'Noun'),\n",
       " ('(', 'Punctuation'),\n",
       " ('Chanel', 'Alpha'),\n",
       " (\").']\", 'Punctuation')]"
      ]
     },
     "execution_count": 11,
     "metadata": {},
     "output_type": "execute_result"
    }
   ],
   "source": [
    "sentences_tag[0]"
   ]
  },
  {
   "cell_type": "markdown",
   "metadata": {},
   "source": [
    "### 1. 명사 혹은 형용사인 품사만 선별해 리스트에 담기"
   ]
  },
  {
   "cell_type": "code",
   "execution_count": 12,
   "metadata": {},
   "outputs": [],
   "source": [
    "noun_adj_list= []\n",
    "for sentence1 in sentences_tag:\n",
    "    for word, tag in sentence1:\n",
    "        if tag in ['Noun', 'Adjective']:\n",
    "            noun_adj_list.append(word)"
   ]
  },
  {
   "cell_type": "code",
   "execution_count": 13,
   "metadata": {},
   "outputs": [
    {
     "data": {
      "text/plain": [
       "191796"
      ]
     },
     "execution_count": 13,
     "metadata": {},
     "output_type": "execute_result"
    }
   ],
   "source": [
    "len(noun_adj_list)"
   ]
  },
  {
   "cell_type": "code",
   "execution_count": 14,
   "metadata": {},
   "outputs": [
    {
     "data": {
      "text/plain": [
       "['메탈',\n",
       " '레진',\n",
       " '귀고리',\n",
       " '가격',\n",
       " '미정',\n",
       " '샤넬',\n",
       " '당장',\n",
       " '인스타그램',\n",
       " '패션',\n",
       " '에디터',\n",
       " '디자이너',\n",
       " '인',\n",
       " '플루',\n",
       " '의',\n",
       " '계정',\n",
       " '지금',\n",
       " '막',\n",
       " '시작',\n",
       " '가을',\n",
       " '겨울']"
      ]
     },
     "execution_count": 14,
     "metadata": {},
     "output_type": "execute_result"
    }
   ],
   "source": [
    "noun_adj_list[:20]"
   ]
  },
  {
   "cell_type": "code",
   "execution_count": 15,
   "metadata": {},
   "outputs": [
    {
     "data": {
      "text/plain": [
       "['메탈', '레진', '귀고리', '가격', '미정', '샤넬', '당장', '인스타그램', '패션', '에디터']"
      ]
     },
     "execution_count": 15,
     "metadata": {},
     "output_type": "execute_result"
    }
   ],
   "source": [
    "noun_adj_list[:10]"
   ]
  },
  {
   "cell_type": "markdown",
   "metadata": {},
   "source": [
    "### 선별된 품사별 빈도수 계산 & 상위 빈도 10위까지 출력"
   ]
  },
  {
   "cell_type": "code",
   "execution_count": 16,
   "metadata": {
    "scrolled": true
   },
   "outputs": [
    {
     "name": "stdout",
     "output_type": "stream",
     "text": [
      "[('샤넬', 5205), ('것', 1737), ('컬렉션', 1556), ('그', 1520), ('패션', 1187), ('수', 1155), ('등', 1030), ('있다', 966), ('칼', 958), ('브랜드', 923), ('이', 897), ('펠트', 878), ('라거', 864), ('있는', 855), ('쇼', 734), ('모델', 719), ('장식', 703), ('백', 659), ('그녀', 642), ('드레스', 637), ('소재', 632), ('이번', 588), ('파리', 531), ('여성', 511), ('위', 504), ('말', 502), ('룩', 501), ('가브리엘', 499), ('스타일', 498), ('컬러', 492), ('트', 489), ('제품', 474), ('의', 473), ('가장', 467), ('자신', 458), ('디자이너', 454), ('블랙', 452), ('더', 438), ('가격', 434), ('재킷', 431), ('디자인', 429), ('지난', 420), ('시즌', 417), ('코코', 409), ('주얼리', 409), ('때', 401), ('같은', 381), ('위드', 381), ('새로운', 380), ('하우스', 370), ('아이템', 369), ('등장', 360), ('전', 358), ('화이트', 358), ('세계', 354), ('비', 353), ('사진', 343), ('위해', 340), ('방', 339), ('매치', 335), ('미정', 333), ('시작', 326), ('모든', 321), ('옷', 319), ('통해', 312), ('럭셔리', 310), ('로', 310), ('모두', 310), ('다양한', 309), ('크루즈', 306), ('나', 302), ('모습', 302), ('를', 296), ('일', 293), ('시간', 292), ('사람', 290), ('영감', 290), ('아르', 288), ('영화', 284), ('스타', 283), ('중', 283), ('개', 282), ('듯', 280), ('디렉터', 274), ('하나', 271), ('드', 271), ('프랑스', 268), ('매력', 261), ('우리', 258), ('슈즈', 255), ('스커트', 254), ('골드', 254), ('역시', 251), ('연출', 250), ('생각', 249), ('때문', 249), ('다른', 248), ('링', 244), ('가죽', 241), ('팬츠', 240), ('디올', 238), ('버지', 234), ('패션쇼', 234), ('완성', 234), ('건', 232), ('가방', 231), ('슈트', 230), ('구찌', 228), ('워치', 225), ('런웨이', 225), ('클래식', 224), ('착용', 221), ('여름', 220), ('대한', 218), ('가지', 217), ('또', 216), ('속', 214), ('사용', 213), ('곳', 211), ('코트', 211), ('부츠', 209), ('첫', 208), ('팔레', 207), ('봄', 207), ('내', 203), ('사랑', 203), ('시대', 203), ('처음', 201), ('두', 201), ('많은', 199), ('로고', 198), ('바로', 197), ('눈', 195), ('주목', 195), ('향수', 194), ('지금', 192), ('핑크', 191), ('크리에이티브', 191), ('또한', 190), ('대표', 187), ('패턴', 186), ('가을', 185), ('의상', 185), ('이자', 185), ('작업', 185), ('없는', 184), ('무대', 183), ('겨울', 182), ('최근', 182), ('공개', 180), ('후', 179), ('순간', 177), ('아니라', 175), ('한편', 174), ('데님', 173), ('다이아몬드', 173), ('라인', 172), ('오', 172), ('상징', 171), ('배우', 169), ('퍼렐', 169), ('있었다', 167), ('제작', 167), ('자리', 167), ('사실', 167), ('표현', 167), ('일링', 166), ('책', 166), ('체인', 165), ('실루엣', 164), ('액세서리', 163), ('이름', 163), ('선택', 163), ('캠페인', 163), ('세', 162), ('판매', 162), ('뉴욕', 162), ('움', 161), ('분위기', 161), ('향', 161), ('패션계', 159), ('저', 159), ('어떤', 159), ('미국', 158), ('하이', 158), ('고', 156), ('데', 155), ('펜디', 155), ('트렌드', 155), ('웨어', 154), ('예정', 153), ('꾸띄르', 153), ('이후', 152), ('대해', 151), ('자수', 151), ('사이즈', 150), ('미니', 149), ('점', 149), ('약', 149), ('방식', 148)]\n"
     ]
    }
   ],
   "source": [
    "word = Counter(noun_adj_list)\n",
    "print(word.most_common(200))"
   ]
  },
  {
   "cell_type": "code",
   "execution_count": 17,
   "metadata": {},
   "outputs": [],
   "source": [
    "# 한 글자인 단어는 제외\n",
    "\n",
    "for i, v in enumerate(noun_adj_list):\n",
    "    if len(v)<2:\n",
    "        noun_adj_list.pop(i)"
   ]
  },
  {
   "cell_type": "code",
   "execution_count": 18,
   "metadata": {},
   "outputs": [],
   "source": [
    "count = Counter(noun_adj_list)"
   ]
  },
  {
   "cell_type": "code",
   "execution_count": 19,
   "metadata": {},
   "outputs": [
    {
     "name": "stdout",
     "output_type": "stream",
     "text": [
      "('샤넬', 5205)\n",
      "('컬렉션', 1556)\n",
      "('패션', 1187)\n",
      "('있다', 966)\n",
      "('브랜드', 923)\n",
      "('펠트', 878)\n",
      "('라거', 864)\n",
      "('있는', 855)\n",
      "('모델', 719)\n",
      "('장식', 703)\n",
      "('그녀', 642)\n",
      "('드레스', 637)\n",
      "('소재', 632)\n",
      "('이번', 588)\n",
      "('파리', 531)\n",
      "('여성', 511)\n",
      "('가브리엘', 499)\n",
      "('스타일', 498)\n",
      "('컬러', 492)\n",
      "('제품', 474)\n",
      "('가장', 467)\n",
      "('자신', 458)\n",
      "('디자이너', 454)\n",
      "('블랙', 452)\n",
      "('가격', 434)\n",
      "('재킷', 431)\n",
      "('디자인', 429)\n",
      "('지난', 420)\n",
      "('시즌', 417)\n",
      "('코코', 409)\n",
      "('주얼리', 409)\n",
      "('같은', 381)\n",
      "('위드', 381)\n",
      "('새로운', 380)\n",
      "('하우스', 370)\n",
      "('아이템', 369)\n",
      "('등장', 360)\n",
      "('화이트', 358)\n",
      "('세계', 354)\n",
      "('사진', 343)\n",
      "('위해', 340)\n",
      "('매치', 335)\n",
      "('미정', 333)\n",
      "('시작', 326)\n",
      "('모든', 321)\n",
      "('통해', 312)\n",
      "('럭셔리', 310)\n",
      "('모두', 310)\n",
      "('다양한', 309)\n",
      "('크루즈', 306)\n",
      "('모습', 302)\n",
      "('시간', 292)\n",
      "('사람', 290)\n",
      "('영감', 290)\n",
      "('아르', 288)\n",
      "('영화', 284)\n",
      "('스타', 283)\n",
      "('디렉터', 274)\n",
      "('하나', 271)\n",
      "('프랑스', 268)\n",
      "('그', 263)\n",
      "('매력', 261)\n",
      "('우리', 258)\n",
      "('슈즈', 255)\n",
      "('스커트', 254)\n",
      "('골드', 254)\n",
      "('수', 253)\n",
      "('역시', 251)\n",
      "('연출', 250)\n",
      "('생각', 249)\n",
      "('때문', 249)\n",
      "('다른', 248)\n",
      "('가죽', 241)\n",
      "('팬츠', 240)\n",
      "('디올', 238)\n",
      "('버지', 234)\n",
      "('패션쇼', 234)\n",
      "('완성', 234)\n",
      "('가방', 231)\n",
      "('슈트', 230)\n",
      "('구찌', 228)\n",
      "('워치', 225)\n",
      "('런웨이', 225)\n",
      "('클래식', 224)\n",
      "('것', 221)\n",
      "('착용', 221)\n",
      "('여름', 220)\n",
      "('대한', 218)\n",
      "('가지', 217)\n",
      "('사용', 213)\n",
      "('코트', 211)\n",
      "('부츠', 209)\n",
      "('팔레', 207)\n",
      "('사랑', 203)\n",
      "('시대', 203)\n",
      "('처음', 201)\n",
      "('많은', 199)\n",
      "('로고', 198)\n",
      "('바로', 197)\n",
      "('주목', 195)\n",
      "('향수', 194)\n",
      "('지금', 192)\n",
      "('핑크', 191)\n",
      "('크리에이티브', 191)\n",
      "('또한', 190)\n",
      "('대표', 187)\n",
      "('패턴', 186)\n",
      "('가을', 185)\n",
      "('의상', 185)\n",
      "('이자', 185)\n",
      "('작업', 185)\n",
      "('없는', 184)\n",
      "('무대', 183)\n",
      "('겨울', 182)\n",
      "('최근', 182)\n",
      "('공개', 180)\n",
      "('순간', 177)\n",
      "('아니라', 175)\n",
      "('한편', 174)\n",
      "('데님', 173)\n",
      "('다이아몬드', 173)\n",
      "('라인', 172)\n",
      "('상징', 171)\n",
      "('배우', 169)\n",
      "('퍼렐', 169)\n",
      "('있었다', 167)\n",
      "('제작', 167)\n",
      "('자리', 167)\n",
      "('사실', 167)\n",
      "('표현', 167)\n",
      "('일링', 166)\n",
      "('체인', 165)\n",
      "('실루엣', 164)\n",
      "('액세서리', 163)\n",
      "('이름', 163)\n",
      "('선택', 163)\n",
      "('캠페인', 163)\n",
      "('판매', 162)\n",
      "('뉴욕', 162)\n",
      "('분위기', 161)\n",
      "('패션계', 159)\n",
      "('어떤', 159)\n",
      "('미국', 158)\n",
      "('하이', 158)\n",
      "('펜디', 155)\n",
      "('트렌드', 155)\n",
      "('웨어', 154)\n",
      "('예정', 153)\n",
      "('꾸띄르', 153)\n",
      "('이후', 152)\n",
      "('대해', 151)\n",
      "('자수', 151)\n",
      "('사이즈', 150)\n",
      "('미니', 149)\n",
      "('방식', 148)\n",
      "('제니', 148)\n",
      "('남성', 148)\n",
      "('쿠튀르', 148)\n",
      "('매장', 148)\n",
      "('프라다', 147)\n",
      "('현재', 147)\n",
      "('진행', 147)\n",
      "('활동', 145)\n",
      "('여기', 140)\n",
      "('정도', 139)\n",
      "('이', 138)\n",
      "('느낌', 137)\n",
      "('레드', 137)\n",
      "('촬영', 137)\n",
      "('한국', 137)\n",
      "('광고', 135)\n",
      "('참석', 133)\n",
      "('크러쉬', 132)\n",
      "('형태', 131)\n",
      "('셔츠', 131)\n",
      "('무엇', 131)\n",
      "('코드', 131)\n",
      "('서울', 130)\n",
      "('수트', 129)\n",
      "('버버리', 128)\n",
      "('여행', 128)\n",
      "('연상', 128)\n",
      "('이야기', 127)\n",
      "('화려한', 127)\n",
      "('작품', 127)\n",
      "('마지막', 126)\n",
      "('모자', 125)\n",
      "('스니커즈', 125)\n",
      "('이미지', 125)\n",
      "('당신', 124)\n",
      "('말', 124)\n",
      "('디테일', 123)\n",
      "('프린트', 123)\n",
      "('동시', 123)\n",
      "('니트', 122)\n",
      "('특별한', 122)\n",
      "('발표', 121)\n",
      "('무드', 120)\n",
      "('영국', 119)\n",
      "('의미', 119)\n"
     ]
    }
   ],
   "source": [
    "word_list = count.most_common(200)\n",
    "for v in word_list:\n",
    "    print(v)"
   ]
  },
  {
   "cell_type": "markdown",
   "metadata": {},
   "source": [
    "### 2. 명사만 선별해 리스트에 담기"
   ]
  },
  {
   "cell_type": "code",
   "execution_count": 20,
   "metadata": {},
   "outputs": [],
   "source": [
    "noun= []\n",
    "for sentence1 in sentences_tag:\n",
    "    for word, tag in sentence1:\n",
    "        if tag in ['Noun']:\n",
    "            noun.append(word)"
   ]
  },
  {
   "cell_type": "code",
   "execution_count": 21,
   "metadata": {},
   "outputs": [],
   "source": [
    "for i, v in enumerate(noun):\n",
    "    if len(v)<2:\n",
    "        noun.pop(i)"
   ]
  },
  {
   "cell_type": "code",
   "execution_count": 22,
   "metadata": {},
   "outputs": [],
   "source": [
    "counts = Counter(noun)"
   ]
  },
  {
   "cell_type": "markdown",
   "metadata": {},
   "source": [
    "### 3. 명사만 선별해 아티클 별로 리스트에 담기"
   ]
  },
  {
   "cell_type": "code",
   "execution_count": 23,
   "metadata": {},
   "outputs": [
    {
     "name": "stdout",
     "output_type": "stream",
     "text": [
      "1594\n"
     ]
    }
   ],
   "source": [
    "noun_article= []\n",
    "for sentence1 in sentences_tag:\n",
    "    art_noun = []\n",
    "    for word, tag in sentence1:\n",
    "        if tag in ['Noun']:\n",
    "            art_noun.append(word)\n",
    "    noun_article.append(art_noun)\n",
    "\n",
    "print(len(noun_article))"
   ]
  },
  {
   "cell_type": "code",
   "execution_count": 24,
   "metadata": {},
   "outputs": [
    {
     "data": {
      "text/plain": [
       "1594"
      ]
     },
     "execution_count": 24,
     "metadata": {},
     "output_type": "execute_result"
    }
   ],
   "source": [
    "len(article_list)"
   ]
  },
  {
   "cell_type": "code",
   "execution_count": 25,
   "metadata": {},
   "outputs": [],
   "source": [
    "noun_df = pd.DataFrame({\n",
    "    'article':article_list,\n",
    "    'noun':noun_article\n",
    "})"
   ]
  },
  {
   "cell_type": "code",
   "execution_count": 26,
   "metadata": {},
   "outputs": [],
   "source": [
    "w_list = noun_df['noun']"
   ]
  },
  {
   "cell_type": "code",
   "execution_count": 27,
   "metadata": {},
   "outputs": [],
   "source": [
    "for i in range(len(w_list)):\n",
    "    for idx, v in enumerate(w_list[i]):\n",
    "        if len(v)<2:\n",
    "            w_list[i].pop(idx)"
   ]
  },
  {
   "cell_type": "code",
   "execution_count": 28,
   "metadata": {},
   "outputs": [
    {
     "data": {
      "text/plain": [
       "['당장',\n",
       " '인스타그램',\n",
       " '패션',\n",
       " '에디터',\n",
       " '디자이너',\n",
       " '플루',\n",
       " '계정',\n",
       " '지금',\n",
       " '시작',\n",
       " '가을',\n",
       " '겨울',\n",
       " '상품',\n",
       " '가방',\n",
       " '액세서리',\n",
       " '심심',\n",
       " '패션',\n",
       " '콘텐츠',\n",
       " '플랫폼',\n",
       " '빈티',\n",
       " '스타',\n",
       " '일링',\n",
       " '아아',\n",
       " '컬렉션',\n",
       " '한정판',\n",
       " '모델',\n",
       " '누구',\n",
       " '어쩌면',\n",
       " '패션계',\n",
       " '인물',\n",
       " '일지',\n",
       " '개인',\n",
       " '더라도',\n",
       " '옷',\n",
       " '액세서리',\n",
       " '처음',\n",
       " '다소',\n",
       " '샤넬',\n",
       " '클래식',\n",
       " '대해',\n",
       " '여러분',\n",
       " '생각',\n",
       " '하나',\n",
       " '백인',\n",
       " '보기',\n",
       " '한창때',\n",
       " '한결',\n",
       " '여사',\n",
       " '보이',\n",
       " '데님',\n",
       " '팬츠',\n",
       " '스웨터',\n",
       " '방울',\n",
       " '드라마',\n",
       " '하이에나',\n",
       " '변호사',\n",
       " '김혜수',\n",
       " '빈티',\n",
       " '가방',\n",
       " '여럿',\n",
       " '처음',\n",
       " '빳빳함',\n",
       " '중력',\n",
       " '에르메스',\n",
       " '에르',\n",
       " '이상',\n",
       " '샤넬',\n",
       " '브리프케이스',\n",
       " '소품',\n",
       " '경력',\n",
       " '능력',\n",
       " '정금',\n",
       " '역할',\n",
       " '리얼리티',\n",
       " '부여',\n",
       " '처',\n",
       " '박아',\n",
       " '박스',\n",
       " '루이',\n",
       " '비통',\n",
       " '몽수리',\n",
       " '이름',\n",
       " '포코',\n",
       " '소재',\n",
       " '프라다',\n",
       " '후계',\n",
       " '한쪽',\n",
       " '압구정동',\n",
       " '여성',\n",
       " '대여섯',\n",
       " '만날',\n",
       " '세상',\n",
       " '팩',\n",
       " '조금',\n",
       " '스웨터',\n",
       " '팩',\n",
       " '팩',\n",
       " '나',\n",
       " '하나',\n",
       " '이제',\n",
       " '빈티',\n",
       " '수리',\n",
       " '샤넬',\n",
       " '가브리엘',\n",
       " '디자인',\n",
       " '변형',\n",
       " '기존',\n",
       " '디자인',\n",
       " '시간',\n",
       " '레어템',\n",
       " '빈티',\n",
       " '패션',\n",
       " '어쩌면',\n",
       " '일이',\n",
       " '당시',\n",
       " '사랑',\n",
       " '지금',\n",
       " '사랑',\n",
       " '물건',\n",
       " '사랑',\n",
       " '일이',\n",
       " '요즘',\n",
       " '빈티',\n",
       " '물건',\n",
       " '대해',\n",
       " '중고',\n",
       " '뜻',\n",
       " '소장',\n",
       " '사용',\n",
       " '거나',\n",
       " '물건',\n",
       " '표기',\n",
       " '요즘',\n",
       " '지금',\n",
       " '패션',\n",
       " '열정',\n",
       " '구입',\n",
       " '다시',\n",
       " '즐거움',\n",
       " '이상',\n",
       " '새',\n",
       " '주인',\n",
       " '주기도',\n",
       " '걸',\n",
       " '산',\n",
       " '토템',\n",
       " '데님',\n",
       " '미스',\n",
       " '컬렉션',\n",
       " '재킷',\n",
       " '아크네',\n",
       " '슬랙스',\n",
       " '아르마니',\n",
       " '재킷',\n",
       " '식이',\n",
       " '당대',\n",
       " '미감',\n",
       " '재킷',\n",
       " '라인',\n",
       " '다시',\n",
       " '무드',\n",
       " '사고',\n",
       " '팬츠',\n",
       " '당시',\n",
       " '유행',\n",
       " '밑위',\n",
       " '조금',\n",
       " '바지',\n",
       " '라인',\n",
       " '지금',\n",
       " '것',\n",
       " '가방',\n",
       " '디올',\n",
       " '백',\n",
       " '마켓',\n",
       " '사회',\n",
       " '초년',\n",
       " '시절',\n",
       " '구입',\n",
       " '루이',\n",
       " '비통',\n",
       " '가모',\n",
       " '데',\n",
       " '클래식',\n",
       " '게다가',\n",
       " '라인',\n",
       " '유지',\n",
       " '테디',\n",
       " '정금',\n",
       " '샤넬',\n",
       " '브리프케이스',\n",
       " '현재',\n",
       " '페치',\n",
       " '코너',\n",
       " '제작',\n",
       " '브리프케이스',\n",
       " '당장',\n",
       " '빈티',\n",
       " '무드',\n",
       " '동참']"
      ]
     },
     "execution_count": 28,
     "metadata": {},
     "output_type": "execute_result"
    }
   ],
   "source": [
    "w_list[1]"
   ]
  },
  {
   "cell_type": "code",
   "execution_count": 29,
   "metadata": {},
   "outputs": [],
   "source": [
    "noun_df.to_csv('noun_chanel.csv', sep = '|', index = False, encoding = 'utf-8')"
   ]
  },
  {
   "cell_type": "markdown",
   "metadata": {},
   "source": [
    "### 명사빈도 카운트"
   ]
  },
  {
   "cell_type": "code",
   "execution_count": 30,
   "metadata": {},
   "outputs": [
    {
     "name": "stdout",
     "output_type": "stream",
     "text": [
      "('샤넬', 5205)\n",
      "('컬렉션', 1556)\n",
      "('패션', 1187)\n",
      "('브랜드', 923)\n",
      "('펠트', 878)\n",
      "('라거', 864)\n",
      "('모델', 719)\n",
      "('장식', 703)\n",
      "('그녀', 642)\n",
      "('드레스', 637)\n",
      "('소재', 632)\n",
      "('이번', 588)\n",
      "('파리', 531)\n",
      "('여성', 511)\n",
      "('가브리엘', 499)\n",
      "('스타일', 498)\n",
      "('컬러', 492)\n",
      "('제품', 474)\n",
      "('가장', 467)\n",
      "('자신', 458)\n",
      "('디자이너', 454)\n",
      "('블랙', 452)\n",
      "('가격', 434)\n",
      "('재킷', 431)\n",
      "('디자인', 429)\n",
      "('지난', 420)\n",
      "('시즌', 417)\n",
      "('코코', 409)\n",
      "('주얼리', 409)\n",
      "('위드', 381)\n",
      "('하우스', 370)\n",
      "('아이템', 369)\n",
      "('등장', 360)\n",
      "('화이트', 358)\n",
      "('세계', 354)\n",
      "('사진', 343)\n",
      "('위해', 340)\n",
      "('매치', 335)\n",
      "('미정', 333)\n",
      "('시작', 326)\n",
      "('모든', 321)\n",
      "('통해', 312)\n",
      "('것', 310)\n",
      "('럭셔리', 310)\n",
      "('모두', 310)\n",
      "('크루즈', 306)\n",
      "('그', 304)\n",
      "('모습', 302)\n",
      "('시간', 292)\n",
      "('사람', 290)\n",
      "('영감', 290)\n",
      "('아르', 288)\n",
      "('영화', 284)\n",
      "('스타', 283)\n",
      "('디렉터', 274)\n",
      "('하나', 271)\n",
      "('프랑스', 268)\n",
      "('수', 264)\n",
      "('매력', 261)\n",
      "('우리', 258)\n",
      "('슈즈', 255)\n",
      "('스커트', 254)\n",
      "('골드', 254)\n",
      "('역시', 251)\n",
      "('연출', 250)\n",
      "('생각', 249)\n",
      "('때문', 249)\n",
      "('다른', 248)\n",
      "('가죽', 241)\n",
      "('팬츠', 240)\n",
      "('디올', 238)\n",
      "('버지', 234)\n",
      "('패션쇼', 234)\n",
      "('완성', 234)\n",
      "('가방', 231)\n",
      "('슈트', 230)\n",
      "('구찌', 228)\n",
      "('워치', 225)\n",
      "('런웨이', 225)\n",
      "('클래식', 224)\n",
      "('착용', 221)\n",
      "('여름', 220)\n",
      "('대한', 218)\n",
      "('가지', 217)\n",
      "('사용', 213)\n",
      "('코트', 211)\n",
      "('부츠', 209)\n",
      "('팔레', 207)\n",
      "('사랑', 203)\n",
      "('시대', 203)\n",
      "('처음', 201)\n",
      "('로고', 198)\n",
      "('바로', 197)\n",
      "('주목', 195)\n",
      "('향수', 194)\n",
      "('지금', 192)\n",
      "('핑크', 191)\n",
      "('크리에이티브', 191)\n",
      "('또한', 190)\n",
      "('대표', 187)\n",
      "('패턴', 186)\n",
      "('가을', 185)\n",
      "('의상', 185)\n",
      "('이자', 185)\n",
      "('작업', 185)\n",
      "('무대', 183)\n",
      "('겨울', 182)\n",
      "('최근', 182)\n",
      "('공개', 180)\n",
      "('순간', 177)\n",
      "('이', 174)\n",
      "('한편', 174)\n",
      "('데님', 173)\n",
      "('다이아몬드', 173)\n",
      "('라인', 172)\n",
      "('상징', 171)\n",
      "('배우', 169)\n",
      "('퍼렐', 169)\n",
      "('제작', 167)\n",
      "('자리', 167)\n",
      "('사실', 167)\n",
      "('표현', 167)\n",
      "('일링', 166)\n",
      "('체인', 165)\n",
      "('실루엣', 164)\n",
      "('액세서리', 163)\n",
      "('이름', 163)\n",
      "('선택', 163)\n",
      "('캠페인', 163)\n",
      "('판매', 162)\n",
      "('뉴욕', 162)\n",
      "('분위기', 161)\n",
      "('패션계', 159)\n",
      "('미국', 158)\n",
      "('하이', 158)\n",
      "('펜디', 155)\n",
      "('트렌드', 155)\n",
      "('웨어', 154)\n",
      "('예정', 153)\n",
      "('꾸띄르', 153)\n",
      "('이후', 152)\n",
      "('대해', 151)\n",
      "('자수', 151)\n",
      "('사이즈', 150)\n",
      "('미니', 149)\n",
      "('방식', 148)\n",
      "('제니', 148)\n",
      "('남성', 148)\n",
      "('쿠튀르', 148)\n",
      "('매장', 148)\n",
      "('프라다', 147)\n",
      "('현재', 147)\n",
      "('진행', 147)\n",
      "('활동', 145)\n",
      "('여기', 140)\n",
      "('정도', 139)\n",
      "('느낌', 137)\n",
      "('레드', 137)\n",
      "('촬영', 137)\n",
      "('한국', 137)\n",
      "('광고', 135)\n",
      "('참석', 133)\n",
      "('크러쉬', 132)\n",
      "('형태', 131)\n",
      "('셔츠', 131)\n",
      "('무엇', 131)\n",
      "('코드', 131)\n",
      "('말', 130)\n",
      "('서울', 130)\n",
      "('수트', 129)\n",
      "('칼', 129)\n",
      "('버버리', 128)\n",
      "('여행', 128)\n",
      "('연상', 128)\n",
      "('이야기', 127)\n",
      "('작품', 127)\n",
      "('마지막', 126)\n",
      "('모자', 125)\n",
      "('스니커즈', 125)\n",
      "('이미지', 125)\n",
      "('당신', 124)\n",
      "('디테일', 123)\n",
      "('프린트', 123)\n",
      "('동시', 123)\n",
      "('니트', 122)\n",
      "('발표', 121)\n",
      "('무드', 120)\n",
      "('영국', 119)\n",
      "('의미', 119)\n",
      "('전시', 118)\n",
      "('행사', 118)\n",
      "('활용', 117)\n",
      "('공간', 117)\n",
      "('명품', 116)\n",
      "('마치', 116)\n",
      "('동안', 115)\n",
      "('탄생', 115)\n",
      "('사이', 114)\n",
      "('시계', 114)\n",
      "('뷰티', 114)\n"
     ]
    }
   ],
   "source": [
    "noun_list = counts.most_common(200)\n",
    "for v in noun_list:\n",
    "    print(v)"
   ]
  },
  {
   "cell_type": "markdown",
   "metadata": {},
   "source": [
    "## 워드클라우드 만들기"
   ]
  },
  {
   "cell_type": "code",
   "execution_count": 31,
   "metadata": {},
   "outputs": [],
   "source": [
    "\n",
    "import matplotlib.pyplot as plt"
   ]
  },
  {
   "cell_type": "markdown",
   "metadata": {},
   "source": [
    "### 패키지 설치 및 폰트 어쩌구"
   ]
  },
  {
   "cell_type": "code",
   "execution_count": 32,
   "metadata": {},
   "outputs": [
    {
     "name": "stdout",
     "output_type": "stream",
     "text": [
      "Malgun Gothic C:\\WINDOWS\\Fonts\\malgun.ttf\n",
      "Yu Gothic C:\\WINDOWS\\Fonts\\YuGothB.ttc\n",
      "HYGothic-Extra C:\\WINDOWS\\Fonts\\H2GTRE.TTF\n",
      "Franklin Gothic Medium C:\\WINDOWS\\Fonts\\framdit.ttf\n",
      "Malgun Gothic C:\\Windows\\Fonts\\malgunbd.ttf\n",
      "Yu Gothic C:\\Windows\\Fonts\\YuGothL.ttc\n",
      "Century Gothic C:\\Windows\\Fonts\\GOTHIC.TTF\n",
      "Yu Gothic C:\\Windows\\Fonts\\YuGothM.ttc\n",
      "Yu Gothic C:\\WINDOWS\\Fonts\\YuGothR.ttc\n",
      "MS Gothic C:\\WINDOWS\\Fonts\\msgothic.ttc\n",
      "HYGothic-Medium C:\\WINDOWS\\Fonts\\H2GTRM.TTF\n",
      "Malgun Gothic C:\\WINDOWS\\Fonts\\malgunsl.ttf\n",
      "Century Gothic C:\\Windows\\Fonts\\GOTHICI.TTF\n",
      "Century Gothic C:\\WINDOWS\\Fonts\\GOTHICBI.TTF\n",
      "Century Gothic C:\\Windows\\Fonts\\GOTHICB.TTF\n",
      "Franklin Gothic Medium C:\\WINDOWS\\Fonts\\framd.ttf\n"
     ]
    }
   ],
   "source": [
    "import matplotlib.font_manager as fm\n",
    "\n",
    "# 이용 가능한 폰트 중 '고딕'만 선별\n",
    "for font in fm.fontManager.ttflist:\n",
    "    if 'Gothic' in font.name:\n",
    "        print(font.name, font.fname)"
   ]
  },
  {
   "cell_type": "code",
   "execution_count": 33,
   "metadata": {},
   "outputs": [],
   "source": [
    "font_path = 'C:\\WINDOWS\\Fonts\\malgun.ttf'"
   ]
  },
  {
   "cell_type": "markdown",
   "metadata": {},
   "source": [
    "### wordcloud 그리기"
   ]
  },
  {
   "cell_type": "code",
   "execution_count": 34,
   "metadata": {},
   "outputs": [],
   "source": [
    "from wordcloud import WordCloud"
   ]
  },
  {
   "cell_type": "code",
   "execution_count": 36,
   "metadata": {},
   "outputs": [],
   "source": [
    "wc = WordCloud(font_path=font_path, background_color=\"white\", width=600, height=400)"
   ]
  },
  {
   "cell_type": "code",
   "execution_count": 41,
   "metadata": {
    "scrolled": true
   },
   "outputs": [
    {
     "data": {
      "text/plain": [
       "<wordcloud.wordcloud.WordCloud at 0x1f807d3d588>"
      ]
     },
     "execution_count": 41,
     "metadata": {},
     "output_type": "execute_result"
    }
   ],
   "source": [
    "wc.generate_from_frequencies(dict(word_list))\n",
    "wc.to_file('wordcloud_adj_noun_chanel.png')"
   ]
  },
  {
   "cell_type": "code",
   "execution_count": 42,
   "metadata": {},
   "outputs": [
    {
     "data": {
      "text/plain": [
       "<wordcloud.wordcloud.WordCloud at 0x1f807d67e08>"
      ]
     },
     "execution_count": 42,
     "metadata": {},
     "output_type": "execute_result"
    }
   ],
   "source": [
    "wc = WordCloud(font_path=font_path, background_color=\"white\", width=600, height=400)\n",
    "\n",
    "wc.generate_from_frequencies(dict(noun_list))\n",
    "wc.to_file('wordcloud_noun_chanel.png')"
   ]
  },
  {
   "cell_type": "code",
   "execution_count": null,
   "metadata": {},
   "outputs": [],
   "source": []
  },
  {
   "cell_type": "code",
   "execution_count": null,
   "metadata": {},
   "outputs": [],
   "source": []
  },
  {
   "cell_type": "code",
   "execution_count": null,
   "metadata": {},
   "outputs": [],
   "source": []
  },
  {
   "cell_type": "code",
   "execution_count": null,
   "metadata": {},
   "outputs": [],
   "source": []
  },
  {
   "cell_type": "code",
   "execution_count": null,
   "metadata": {},
   "outputs": [],
   "source": []
  },
  {
   "cell_type": "code",
   "execution_count": null,
   "metadata": {},
   "outputs": [],
   "source": []
  },
  {
   "cell_type": "code",
   "execution_count": null,
   "metadata": {},
   "outputs": [],
   "source": []
  },
  {
   "cell_type": "code",
   "execution_count": null,
   "metadata": {},
   "outputs": [],
   "source": []
  },
  {
   "cell_type": "code",
   "execution_count": null,
   "metadata": {},
   "outputs": [],
   "source": []
  },
  {
   "cell_type": "code",
   "execution_count": null,
   "metadata": {},
   "outputs": [],
   "source": []
  },
  {
   "cell_type": "code",
   "execution_count": null,
   "metadata": {},
   "outputs": [],
   "source": []
  }
 ],
 "metadata": {
  "kernelspec": {
   "display_name": "Python 3",
   "language": "python",
   "name": "python3"
  },
  "language_info": {
   "codemirror_mode": {
    "name": "ipython",
    "version": 3
   },
   "file_extension": ".py",
   "mimetype": "text/x-python",
   "name": "python",
   "nbconvert_exporter": "python",
   "pygments_lexer": "ipython3",
   "version": "3.7.6"
  }
 },
 "nbformat": 4,
 "nbformat_minor": 2
}
