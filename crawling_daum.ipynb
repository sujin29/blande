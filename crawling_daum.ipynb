{
 "cells": [
  {
   "cell_type": "code",
   "execution_count": 1,
   "metadata": {},
   "outputs": [],
   "source": [
    "from bs4 import BeautifulSoup\n",
    "from selenium import webdriver\n",
    "import time"
   ]
  },
  {
   "cell_type": "code",
   "execution_count": 2,
   "metadata": {},
   "outputs": [],
   "source": [
    "import pandas as pd\n",
    "import numpy as np"
   ]
  },
  {
   "cell_type": "code",
   "execution_count": 3,
   "metadata": {},
   "outputs": [],
   "source": [
    "path = '../driver/chromedriver.exe'\n",
    "driver = webdriver.Chrome(path)\n",
    "\n",
    "url = 'https://search.daum.net/search?w=news&enc=utf8&cluster=y&cluster_page=1&q=%EC%83%A4%EB%84%AC&cpname=%EC%97%98%EB%A5%B4&cp=16Y6Oklp6xw4QZhCK0&DA=STC&sd=20160901000000&ed=20201117235959&period=u'\n",
    "driver.get(url)"
   ]
  },
  {
   "cell_type": "markdown",
   "metadata": {},
   "source": [
    "### 페이지"
   ]
  },
  {
   "cell_type": "code",
   "execution_count": 18,
   "metadata": {},
   "outputs": [
    {
     "data": {
      "text/plain": [
       "'http://v.media.daum.net/v/20201029000125655?f=o'"
      ]
     },
     "execution_count": 18,
     "metadata": {},
     "output_type": "execute_result"
    }
   ],
   "source": [
    "# 기사 제목 링크 (엘르로 넘어가는 링크)\n",
    "a_title = driver.find_element_by_css_selector('#clusterResultUL > li.fst > div.wrap_cont > div > div > a').get_attribute('href')\n",
    "a_title"
   ]
  },
  {
   "cell_type": "code",
   "execution_count": 19,
   "metadata": {},
   "outputs": [
    {
     "data": {
      "text/plain": [
       "'샤넬과 박서준의 만남을 기록하다'"
      ]
     },
     "execution_count": 19,
     "metadata": {},
     "output_type": "execute_result"
    }
   ],
   "source": [
    "# 기사 제목\n",
    "title = driver.find_element_by_css_selector('#clusterResultUL > li.fst > div.wrap_cont > div > div > a').text\n",
    "title"
   ]
  },
  {
   "cell_type": "code",
   "execution_count": 20,
   "metadata": {},
   "outputs": [
    {
     "data": {
      "text/plain": [
       "'http://v.media.daum.net/v/20201029000125655'"
      ]
     },
     "execution_count": 20,
     "metadata": {},
     "output_type": "execute_result"
    }
   ],
   "source": [
    "# 다음 뉴스 링크\n",
    "a_dnews = driver.find_element_by_css_selector('#clusterResultUL > li.fst > div.wrap_cont > div > span.f_nb.date > a').get_attribute('href')\n",
    "a_dnews"
   ]
  },
  {
   "cell_type": "code",
   "execution_count": 21,
   "metadata": {},
   "outputs": [
    {
     "data": {
      "text/plain": [
       "'2020.10.29 | 엘르 | 다음뉴스'"
      ]
     },
     "execution_count": 21,
     "metadata": {},
     "output_type": "execute_result"
    }
   ],
   "source": [
    "# 날짜\n",
    "date = driver.find_element_by_css_selector('#clusterResultUL > li.fst > div.wrap_cont > div > span.f_nb.date').text\n",
    "date"
   ]
  },
  {
   "cell_type": "code",
   "execution_count": null,
   "metadata": {},
   "outputs": [],
   "source": []
  },
  {
   "cell_type": "code",
   "execution_count": null,
   "metadata": {},
   "outputs": [],
   "source": []
  },
  {
   "cell_type": "code",
   "execution_count": 68,
   "metadata": {},
   "outputs": [
    {
     "name": "stdout",
     "output_type": "stream",
     "text": [
      "샤넬과 박서준의 만남을 기록하다\n",
      "http://v.media.daum.net/v/20201029000125655\n",
      "2020.10.29\n",
      "--------------------------------------------------\n",
      "언택트 시대 패션쇼의 정답! 샤넬의 2021 S/S 컬렉션\n",
      "http://v.media.daum.net/v/20201028000123893\n",
      "2020.10.28\n",
      "--------------------------------------------------\n",
      "'럽힙'의 대명사! 인간 샤넬 블랙핑크 제니의 스타일 탐구 #옷잘...\n",
      "http://v.media.daum.net/v/20201025060058212\n",
      "2020.10.25\n",
      "--------------------------------------------------\n",
      "박서준과 샤넬의 멋진 랑데뷰\n",
      "http://v.media.daum.net/v/20201015170753171\n",
      "2020.10.15\n",
      "--------------------------------------------------\n",
      "'핑크색 입으면 기분이 조크든요' 핑크 홀릭\n",
      "http://v.media.daum.net/v/20201117115642590\n",
      "4시간전 | 엘르 \n",
      "--------------------------------------------------\n",
      "마리옹 꼬띠아르가 사랑하는 향수 이야기\n",
      "http://v.media.daum.net/v/20201106000251720\n",
      "2020.11.06\n",
      "--------------------------------------------------\n",
      "인간 <엘르>란 이런 것! 동갑내기 효구가 축하해 주는 <엘르> 28...\n",
      "http://v.media.daum.net/v/20201113172828623\n",
      "2020.11.13\n",
      "--------------------------------------------------\n",
      "토닥토닥, 수고했어 오늘도 #성직자패션\n",
      "http://v.media.daum.net/v/20201117000151964\n",
      "16시간전 | 엘르\n",
      "--------------------------------------------------\n",
      "2020/21 샤넬 크루즈 컬렉션 공개\n",
      "http://v.media.daum.net/v/20200610180419732\n",
      "2020.06.10\n",
      "--------------------------------------------------\n",
      "이 글은 곧 성지가 된다! 주목해야 할 #신인 모델 10\n",
      "http://v.media.daum.net/v/20201116001036555\n",
      "2020.11.16\n",
      "--------------------------------------------------\n"
     ]
    }
   ],
   "source": [
    "def getElement() :\n",
    "    \n",
    "    elements = driver.find_elements_by_css_selector('#clusterResultUL > li')\n",
    "    \n",
    "    for element in elements:\n",
    "        title = element.find_element_by_css_selector('div.wrap_cont > div > div > a').text\n",
    "        print(title)\n",
    "\n",
    "        link = element.find_element_by_css_selector('div.wrap_cont > div > span.f_nb.date > a').get_attribute('href')\n",
    "        print(link)\n",
    "\n",
    "        date = element.find_element_by_css_selector('div.wrap_cont > div > span.f_nb.date').text[:10]\n",
    "        print(date)\n",
    "\n",
    "        print('-----'*10)"
   ]
  },
  {
   "cell_type": "markdown",
   "metadata": {},
   "source": [
    "### 페이지 넘기기"
   ]
  },
  {
   "cell_type": "code",
   "execution_count": 74,
   "metadata": {},
   "outputs": [
    {
     "name": "stdout",
     "output_type": "stream",
     "text": [
      "https://search.daum.net/search?nil_suggest=btn&w=news&cluster=y&q=%EC%83%A4%EB%84%AC&cpname=%EC%97%98%EB%A5%B4&cp=16Y6Oklp6xw4QZhCK0&DA=PGD&p=1\n",
      "https://search.daum.net/search?nil_suggest=btn&w=news&cluster=y&q=%EC%83%A4%EB%84%AC&cpname=%EC%97%98%EB%A5%B4&cp=16Y6Oklp6xw4QZhCK0&DA=PGD&p=2\n",
      "https://search.daum.net/search?nil_suggest=btn&w=news&cluster=y&q=%EC%83%A4%EB%84%AC&cpname=%EC%97%98%EB%A5%B4&cp=16Y6Oklp6xw4QZhCK0&DA=PGD&p=3\n",
      "https://search.daum.net/search?nil_suggest=btn&w=news&cluster=y&q=%EC%83%A4%EB%84%AC&cpname=%EC%97%98%EB%A5%B4&cp=16Y6Oklp6xw4QZhCK0&DA=PGD&p=4\n",
      "https://search.daum.net/search?nil_suggest=btn&w=news&cluster=y&q=%EC%83%A4%EB%84%AC&cpname=%EC%97%98%EB%A5%B4&cp=16Y6Oklp6xw4QZhCK0&DA=PGD&p=5\n",
      "https://search.daum.net/search?nil_suggest=btn&w=news&cluster=y&q=%EC%83%A4%EB%84%AC&cpname=%EC%97%98%EB%A5%B4&cp=16Y6Oklp6xw4QZhCK0&DA=PGD&p=6\n",
      "https://search.daum.net/search?nil_suggest=btn&w=news&cluster=y&q=%EC%83%A4%EB%84%AC&cpname=%EC%97%98%EB%A5%B4&cp=16Y6Oklp6xw4QZhCK0&DA=PGD&p=7\n",
      "https://search.daum.net/search?nil_suggest=btn&w=news&cluster=y&q=%EC%83%A4%EB%84%AC&cpname=%EC%97%98%EB%A5%B4&cp=16Y6Oklp6xw4QZhCK0&DA=PGD&p=8\n",
      "https://search.daum.net/search?nil_suggest=btn&w=news&cluster=y&q=%EC%83%A4%EB%84%AC&cpname=%EC%97%98%EB%A5%B4&cp=16Y6Oklp6xw4QZhCK0&DA=PGD&p=9\n",
      "https://search.daum.net/search?nil_suggest=btn&w=news&cluster=y&q=%EC%83%A4%EB%84%AC&cpname=%EC%97%98%EB%A5%B4&cp=16Y6Oklp6xw4QZhCK0&DA=PGD&p=10\n",
      "https://search.daum.net/search?nil_suggest=btn&w=news&cluster=y&q=%EC%83%A4%EB%84%AC&cpname=%EC%97%98%EB%A5%B4&cp=16Y6Oklp6xw4QZhCK0&DA=PGD&p=11\n",
      "https://search.daum.net/search?nil_suggest=btn&w=news&cluster=y&q=%EC%83%A4%EB%84%AC&cpname=%EC%97%98%EB%A5%B4&cp=16Y6Oklp6xw4QZhCK0&DA=PGD&p=12\n",
      "https://search.daum.net/search?nil_suggest=btn&w=news&cluster=y&q=%EC%83%A4%EB%84%AC&cpname=%EC%97%98%EB%A5%B4&cp=16Y6Oklp6xw4QZhCK0&DA=PGD&p=13\n",
      "https://search.daum.net/search?nil_suggest=btn&w=news&cluster=y&q=%EC%83%A4%EB%84%AC&cpname=%EC%97%98%EB%A5%B4&cp=16Y6Oklp6xw4QZhCK0&DA=PGD&p=14\n",
      "https://search.daum.net/search?nil_suggest=btn&w=news&cluster=y&q=%EC%83%A4%EB%84%AC&cpname=%EC%97%98%EB%A5%B4&cp=16Y6Oklp6xw4QZhCK0&DA=PGD&p=15\n",
      "https://search.daum.net/search?nil_suggest=btn&w=news&cluster=y&q=%EC%83%A4%EB%84%AC&cpname=%EC%97%98%EB%A5%B4&cp=16Y6Oklp6xw4QZhCK0&DA=PGD&p=16\n",
      "https://search.daum.net/search?nil_suggest=btn&w=news&cluster=y&q=%EC%83%A4%EB%84%AC&cpname=%EC%97%98%EB%A5%B4&cp=16Y6Oklp6xw4QZhCK0&DA=PGD&p=17\n",
      "https://search.daum.net/search?nil_suggest=btn&w=news&cluster=y&q=%EC%83%A4%EB%84%AC&cpname=%EC%97%98%EB%A5%B4&cp=16Y6Oklp6xw4QZhCK0&DA=PGD&p=18\n",
      "https://search.daum.net/search?nil_suggest=btn&w=news&cluster=y&q=%EC%83%A4%EB%84%AC&cpname=%EC%97%98%EB%A5%B4&cp=16Y6Oklp6xw4QZhCK0&DA=PGD&p=19\n",
      "https://search.daum.net/search?nil_suggest=btn&w=news&cluster=y&q=%EC%83%A4%EB%84%AC&cpname=%EC%97%98%EB%A5%B4&cp=16Y6Oklp6xw4QZhCK0&DA=PGD&p=20\n",
      "https://search.daum.net/search?nil_suggest=btn&w=news&cluster=y&q=%EC%83%A4%EB%84%AC&cpname=%EC%97%98%EB%A5%B4&cp=16Y6Oklp6xw4QZhCK0&DA=PGD&p=21\n",
      "https://search.daum.net/search?nil_suggest=btn&w=news&cluster=y&q=%EC%83%A4%EB%84%AC&cpname=%EC%97%98%EB%A5%B4&cp=16Y6Oklp6xw4QZhCK0&DA=PGD&p=22\n",
      "https://search.daum.net/search?nil_suggest=btn&w=news&cluster=y&q=%EC%83%A4%EB%84%AC&cpname=%EC%97%98%EB%A5%B4&cp=16Y6Oklp6xw4QZhCK0&DA=PGD&p=23\n",
      "https://search.daum.net/search?nil_suggest=btn&w=news&cluster=y&q=%EC%83%A4%EB%84%AC&cpname=%EC%97%98%EB%A5%B4&cp=16Y6Oklp6xw4QZhCK0&DA=PGD&p=24\n",
      "https://search.daum.net/search?nil_suggest=btn&w=news&cluster=y&q=%EC%83%A4%EB%84%AC&cpname=%EC%97%98%EB%A5%B4&cp=16Y6Oklp6xw4QZhCK0&DA=PGD&p=25\n",
      "https://search.daum.net/search?nil_suggest=btn&w=news&cluster=y&q=%EC%83%A4%EB%84%AC&cpname=%EC%97%98%EB%A5%B4&cp=16Y6Oklp6xw4QZhCK0&DA=PGD&p=26\n",
      "https://search.daum.net/search?nil_suggest=btn&w=news&cluster=y&q=%EC%83%A4%EB%84%AC&cpname=%EC%97%98%EB%A5%B4&cp=16Y6Oklp6xw4QZhCK0&DA=PGD&p=27\n",
      "https://search.daum.net/search?nil_suggest=btn&w=news&cluster=y&q=%EC%83%A4%EB%84%AC&cpname=%EC%97%98%EB%A5%B4&cp=16Y6Oklp6xw4QZhCK0&DA=PGD&p=28\n",
      "https://search.daum.net/search?nil_suggest=btn&w=news&cluster=y&q=%EC%83%A4%EB%84%AC&cpname=%EC%97%98%EB%A5%B4&cp=16Y6Oklp6xw4QZhCK0&DA=PGD&p=29\n",
      "https://search.daum.net/search?nil_suggest=btn&w=news&cluster=y&q=%EC%83%A4%EB%84%AC&cpname=%EC%97%98%EB%A5%B4&cp=16Y6Oklp6xw4QZhCK0&DA=PGD&p=30\n",
      "https://search.daum.net/search?nil_suggest=btn&w=news&cluster=y&q=%EC%83%A4%EB%84%AC&cpname=%EC%97%98%EB%A5%B4&cp=16Y6Oklp6xw4QZhCK0&DA=PGD&p=31\n",
      "https://search.daum.net/search?nil_suggest=btn&w=news&cluster=y&q=%EC%83%A4%EB%84%AC&cpname=%EC%97%98%EB%A5%B4&cp=16Y6Oklp6xw4QZhCK0&DA=PGD&p=32\n",
      "https://search.daum.net/search?nil_suggest=btn&w=news&cluster=y&q=%EC%83%A4%EB%84%AC&cpname=%EC%97%98%EB%A5%B4&cp=16Y6Oklp6xw4QZhCK0&DA=PGD&p=33\n",
      "https://search.daum.net/search?nil_suggest=btn&w=news&cluster=y&q=%EC%83%A4%EB%84%AC&cpname=%EC%97%98%EB%A5%B4&cp=16Y6Oklp6xw4QZhCK0&DA=PGD&p=34\n",
      "https://search.daum.net/search?nil_suggest=btn&w=news&cluster=y&q=%EC%83%A4%EB%84%AC&cpname=%EC%97%98%EB%A5%B4&cp=16Y6Oklp6xw4QZhCK0&DA=PGD&p=35\n",
      "https://search.daum.net/search?nil_suggest=btn&w=news&cluster=y&q=%EC%83%A4%EB%84%AC&cpname=%EC%97%98%EB%A5%B4&cp=16Y6Oklp6xw4QZhCK0&DA=PGD&p=36\n",
      "https://search.daum.net/search?nil_suggest=btn&w=news&cluster=y&q=%EC%83%A4%EB%84%AC&cpname=%EC%97%98%EB%A5%B4&cp=16Y6Oklp6xw4QZhCK0&DA=PGD&p=37\n",
      "https://search.daum.net/search?nil_suggest=btn&w=news&cluster=y&q=%EC%83%A4%EB%84%AC&cpname=%EC%97%98%EB%A5%B4&cp=16Y6Oklp6xw4QZhCK0&DA=PGD&p=38\n",
      "https://search.daum.net/search?nil_suggest=btn&w=news&cluster=y&q=%EC%83%A4%EB%84%AC&cpname=%EC%97%98%EB%A5%B4&cp=16Y6Oklp6xw4QZhCK0&DA=PGD&p=39\n",
      "https://search.daum.net/search?nil_suggest=btn&w=news&cluster=y&q=%EC%83%A4%EB%84%AC&cpname=%EC%97%98%EB%A5%B4&cp=16Y6Oklp6xw4QZhCK0&DA=PGD&p=40\n",
      "https://search.daum.net/search?nil_suggest=btn&w=news&cluster=y&q=%EC%83%A4%EB%84%AC&cpname=%EC%97%98%EB%A5%B4&cp=16Y6Oklp6xw4QZhCK0&DA=PGD&p=41\n",
      "https://search.daum.net/search?nil_suggest=btn&w=news&cluster=y&q=%EC%83%A4%EB%84%AC&cpname=%EC%97%98%EB%A5%B4&cp=16Y6Oklp6xw4QZhCK0&DA=PGD&p=42\n",
      "https://search.daum.net/search?nil_suggest=btn&w=news&cluster=y&q=%EC%83%A4%EB%84%AC&cpname=%EC%97%98%EB%A5%B4&cp=16Y6Oklp6xw4QZhCK0&DA=PGD&p=43\n",
      "https://search.daum.net/search?nil_suggest=btn&w=news&cluster=y&q=%EC%83%A4%EB%84%AC&cpname=%EC%97%98%EB%A5%B4&cp=16Y6Oklp6xw4QZhCK0&DA=PGD&p=44\n",
      "https://search.daum.net/search?nil_suggest=btn&w=news&cluster=y&q=%EC%83%A4%EB%84%AC&cpname=%EC%97%98%EB%A5%B4&cp=16Y6Oklp6xw4QZhCK0&DA=PGD&p=45\n",
      "https://search.daum.net/search?nil_suggest=btn&w=news&cluster=y&q=%EC%83%A4%EB%84%AC&cpname=%EC%97%98%EB%A5%B4&cp=16Y6Oklp6xw4QZhCK0&DA=PGD&p=46\n",
      "https://search.daum.net/search?nil_suggest=btn&w=news&cluster=y&q=%EC%83%A4%EB%84%AC&cpname=%EC%97%98%EB%A5%B4&cp=16Y6Oklp6xw4QZhCK0&DA=PGD&p=47\n",
      "https://search.daum.net/search?nil_suggest=btn&w=news&cluster=y&q=%EC%83%A4%EB%84%AC&cpname=%EC%97%98%EB%A5%B4&cp=16Y6Oklp6xw4QZhCK0&DA=PGD&p=48\n",
      "https://search.daum.net/search?nil_suggest=btn&w=news&cluster=y&q=%EC%83%A4%EB%84%AC&cpname=%EC%97%98%EB%A5%B4&cp=16Y6Oklp6xw4QZhCK0&DA=PGD&p=49\n",
      "https://search.daum.net/search?nil_suggest=btn&w=news&cluster=y&q=%EC%83%A4%EB%84%AC&cpname=%EC%97%98%EB%A5%B4&cp=16Y6Oklp6xw4QZhCK0&DA=PGD&p=50\n",
      "https://search.daum.net/search?nil_suggest=btn&w=news&cluster=y&q=%EC%83%A4%EB%84%AC&cpname=%EC%97%98%EB%A5%B4&cp=16Y6Oklp6xw4QZhCK0&DA=PGD&p=51\n",
      "https://search.daum.net/search?nil_suggest=btn&w=news&cluster=y&q=%EC%83%A4%EB%84%AC&cpname=%EC%97%98%EB%A5%B4&cp=16Y6Oklp6xw4QZhCK0&DA=PGD&p=52\n",
      "https://search.daum.net/search?nil_suggest=btn&w=news&cluster=y&q=%EC%83%A4%EB%84%AC&cpname=%EC%97%98%EB%A5%B4&cp=16Y6Oklp6xw4QZhCK0&DA=PGD&p=53\n",
      "https://search.daum.net/search?nil_suggest=btn&w=news&cluster=y&q=%EC%83%A4%EB%84%AC&cpname=%EC%97%98%EB%A5%B4&cp=16Y6Oklp6xw4QZhCK0&DA=PGD&p=54\n",
      "https://search.daum.net/search?nil_suggest=btn&w=news&cluster=y&q=%EC%83%A4%EB%84%AC&cpname=%EC%97%98%EB%A5%B4&cp=16Y6Oklp6xw4QZhCK0&DA=PGD&p=55\n",
      "https://search.daum.net/search?nil_suggest=btn&w=news&cluster=y&q=%EC%83%A4%EB%84%AC&cpname=%EC%97%98%EB%A5%B4&cp=16Y6Oklp6xw4QZhCK0&DA=PGD&p=56\n",
      "https://search.daum.net/search?nil_suggest=btn&w=news&cluster=y&q=%EC%83%A4%EB%84%AC&cpname=%EC%97%98%EB%A5%B4&cp=16Y6Oklp6xw4QZhCK0&DA=PGD&p=57\n"
     ]
    },
    {
     "name": "stdout",
     "output_type": "stream",
     "text": [
      "https://search.daum.net/search?nil_suggest=btn&w=news&cluster=y&q=%EC%83%A4%EB%84%AC&cpname=%EC%97%98%EB%A5%B4&cp=16Y6Oklp6xw4QZhCK0&DA=PGD&p=58\n",
      "https://search.daum.net/search?nil_suggest=btn&w=news&cluster=y&q=%EC%83%A4%EB%84%AC&cpname=%EC%97%98%EB%A5%B4&cp=16Y6Oklp6xw4QZhCK0&DA=PGD&p=59\n",
      "https://search.daum.net/search?nil_suggest=btn&w=news&cluster=y&q=%EC%83%A4%EB%84%AC&cpname=%EC%97%98%EB%A5%B4&cp=16Y6Oklp6xw4QZhCK0&DA=PGD&p=60\n",
      "https://search.daum.net/search?nil_suggest=btn&w=news&cluster=y&q=%EC%83%A4%EB%84%AC&cpname=%EC%97%98%EB%A5%B4&cp=16Y6Oklp6xw4QZhCK0&DA=PGD&p=61\n",
      "https://search.daum.net/search?nil_suggest=btn&w=news&cluster=y&q=%EC%83%A4%EB%84%AC&cpname=%EC%97%98%EB%A5%B4&cp=16Y6Oklp6xw4QZhCK0&DA=PGD&p=62\n",
      "https://search.daum.net/search?nil_suggest=btn&w=news&cluster=y&q=%EC%83%A4%EB%84%AC&cpname=%EC%97%98%EB%A5%B4&cp=16Y6Oklp6xw4QZhCK0&DA=PGD&p=63\n",
      "https://search.daum.net/search?nil_suggest=btn&w=news&cluster=y&q=%EC%83%A4%EB%84%AC&cpname=%EC%97%98%EB%A5%B4&cp=16Y6Oklp6xw4QZhCK0&DA=PGD&p=64\n",
      "https://search.daum.net/search?nil_suggest=btn&w=news&cluster=y&q=%EC%83%A4%EB%84%AC&cpname=%EC%97%98%EB%A5%B4&cp=16Y6Oklp6xw4QZhCK0&DA=PGD&p=65\n",
      "https://search.daum.net/search?nil_suggest=btn&w=news&cluster=y&q=%EC%83%A4%EB%84%AC&cpname=%EC%97%98%EB%A5%B4&cp=16Y6Oklp6xw4QZhCK0&DA=PGD&p=66\n",
      "https://search.daum.net/search?nil_suggest=btn&w=news&cluster=y&q=%EC%83%A4%EB%84%AC&cpname=%EC%97%98%EB%A5%B4&cp=16Y6Oklp6xw4QZhCK0&DA=PGD&p=67\n",
      "https://search.daum.net/search?nil_suggest=btn&w=news&cluster=y&q=%EC%83%A4%EB%84%AC&cpname=%EC%97%98%EB%A5%B4&cp=16Y6Oklp6xw4QZhCK0&DA=PGD&p=68\n",
      "https://search.daum.net/search?nil_suggest=btn&w=news&cluster=y&q=%EC%83%A4%EB%84%AC&cpname=%EC%97%98%EB%A5%B4&cp=16Y6Oklp6xw4QZhCK0&DA=PGD&p=69\n",
      "https://search.daum.net/search?nil_suggest=btn&w=news&cluster=y&q=%EC%83%A4%EB%84%AC&cpname=%EC%97%98%EB%A5%B4&cp=16Y6Oklp6xw4QZhCK0&DA=PGD&p=70\n",
      "https://search.daum.net/search?nil_suggest=btn&w=news&cluster=y&q=%EC%83%A4%EB%84%AC&cpname=%EC%97%98%EB%A5%B4&cp=16Y6Oklp6xw4QZhCK0&DA=PGD&p=71\n",
      "https://search.daum.net/search?nil_suggest=btn&w=news&cluster=y&q=%EC%83%A4%EB%84%AC&cpname=%EC%97%98%EB%A5%B4&cp=16Y6Oklp6xw4QZhCK0&DA=PGD&p=72\n",
      "https://search.daum.net/search?nil_suggest=btn&w=news&cluster=y&q=%EC%83%A4%EB%84%AC&cpname=%EC%97%98%EB%A5%B4&cp=16Y6Oklp6xw4QZhCK0&DA=PGD&p=73\n",
      "https://search.daum.net/search?nil_suggest=btn&w=news&cluster=y&q=%EC%83%A4%EB%84%AC&cpname=%EC%97%98%EB%A5%B4&cp=16Y6Oklp6xw4QZhCK0&DA=PGD&p=74\n",
      "https://search.daum.net/search?nil_suggest=btn&w=news&cluster=y&q=%EC%83%A4%EB%84%AC&cpname=%EC%97%98%EB%A5%B4&cp=16Y6Oklp6xw4QZhCK0&DA=PGD&p=75\n",
      "https://search.daum.net/search?nil_suggest=btn&w=news&cluster=y&q=%EC%83%A4%EB%84%AC&cpname=%EC%97%98%EB%A5%B4&cp=16Y6Oklp6xw4QZhCK0&DA=PGD&p=76\n",
      "https://search.daum.net/search?nil_suggest=btn&w=news&cluster=y&q=%EC%83%A4%EB%84%AC&cpname=%EC%97%98%EB%A5%B4&cp=16Y6Oklp6xw4QZhCK0&DA=PGD&p=77\n",
      "https://search.daum.net/search?nil_suggest=btn&w=news&cluster=y&q=%EC%83%A4%EB%84%AC&cpname=%EC%97%98%EB%A5%B4&cp=16Y6Oklp6xw4QZhCK0&DA=PGD&p=78\n",
      "https://search.daum.net/search?nil_suggest=btn&w=news&cluster=y&q=%EC%83%A4%EB%84%AC&cpname=%EC%97%98%EB%A5%B4&cp=16Y6Oklp6xw4QZhCK0&DA=PGD&p=79\n",
      "https://search.daum.net/search?nil_suggest=btn&w=news&cluster=y&q=%EC%83%A4%EB%84%AC&cpname=%EC%97%98%EB%A5%B4&cp=16Y6Oklp6xw4QZhCK0&DA=PGD&p=80\n",
      "94.80778360366821\n"
     ]
    }
   ],
   "source": [
    "start = time.time()\n",
    "\n",
    "title = []\n",
    "link = []\n",
    "date = []\n",
    "\n",
    "\n",
    "path = '../driver/chromedriver.exe'\n",
    "driver = webdriver.Chrome(path)\n",
    "\n",
    "for page in range(1,81):\n",
    "    url='https://search.daum.net/search?nil_suggest=btn&w=news&cluster=y&q=%EC%83%A4%EB%84%AC&cpname=%EC%97%98%EB%A5%B4&cp=16Y6Oklp6xw4QZhCK0&DA=PGD&p='+str(page)\n",
    "    driver.get(url)\n",
    "    \n",
    "    print(driver.current_url)\n",
    "    \n",
    "    elements = driver.find_elements_by_css_selector('#clusterResultUL > li')\n",
    "    \n",
    "    for element in elements:\n",
    "        title.append(element.find_element_by_css_selector('div.wrap_cont > div > div > a').text)\n",
    "\n",
    "        link.append(element.find_element_by_css_selector('div.wrap_cont > div > span.f_nb.date > a').get_attribute('href'))\n",
    "\n",
    "        date.append(element.find_element_by_css_selector('div.wrap_cont > div > span.f_nb.date').text[:10])\n",
    "        \n",
    "        \n",
    "print(time.time() - start)"
   ]
  },
  {
   "cell_type": "code",
   "execution_count": 76,
   "metadata": {},
   "outputs": [
    {
     "data": {
      "text/html": [
       "<div>\n",
       "<style scoped>\n",
       "    .dataframe tbody tr th:only-of-type {\n",
       "        vertical-align: middle;\n",
       "    }\n",
       "\n",
       "    .dataframe tbody tr th {\n",
       "        vertical-align: top;\n",
       "    }\n",
       "\n",
       "    .dataframe thead th {\n",
       "        text-align: right;\n",
       "    }\n",
       "</style>\n",
       "<table border=\"1\" class=\"dataframe\">\n",
       "  <thead>\n",
       "    <tr style=\"text-align: right;\">\n",
       "      <th></th>\n",
       "      <th>title</th>\n",
       "      <th>link</th>\n",
       "      <th>date</th>\n",
       "    </tr>\n",
       "  </thead>\n",
       "  <tbody>\n",
       "    <tr>\n",
       "      <th>0</th>\n",
       "      <td>샤넬과 박서준의 만남을 기록하다</td>\n",
       "      <td>http://v.media.daum.net/v/20201029000125655</td>\n",
       "      <td>2020.10.29</td>\n",
       "    </tr>\n",
       "    <tr>\n",
       "      <th>1</th>\n",
       "      <td>언택트 시대 패션쇼의 정답! 샤넬의 2021 S/S 컬렉션</td>\n",
       "      <td>http://v.media.daum.net/v/20201028000123893</td>\n",
       "      <td>2020.10.28</td>\n",
       "    </tr>\n",
       "    <tr>\n",
       "      <th>2</th>\n",
       "      <td>'럽힙'의 대명사! 인간 샤넬 블랙핑크 제니의 스타일 탐구 #옷잘...</td>\n",
       "      <td>http://v.media.daum.net/v/20201025060058212</td>\n",
       "      <td>2020.10.25</td>\n",
       "    </tr>\n",
       "    <tr>\n",
       "      <th>3</th>\n",
       "      <td>박서준과 샤넬의 멋진 랑데뷰</td>\n",
       "      <td>http://v.media.daum.net/v/20201015170753171</td>\n",
       "      <td>2020.10.15</td>\n",
       "    </tr>\n",
       "    <tr>\n",
       "      <th>4</th>\n",
       "      <td>'핑크색 입으면 기분이 조크든요' 핑크 홀릭</td>\n",
       "      <td>http://v.media.daum.net/v/20201117115642590</td>\n",
       "      <td>5시간전 | 엘르</td>\n",
       "    </tr>\n",
       "  </tbody>\n",
       "</table>\n",
       "</div>"
      ],
      "text/plain": [
       "                                     title  \\\n",
       "0                        샤넬과 박서준의 만남을 기록하다   \n",
       "1         언택트 시대 패션쇼의 정답! 샤넬의 2021 S/S 컬렉션   \n",
       "2  '럽힙'의 대명사! 인간 샤넬 블랙핑크 제니의 스타일 탐구 #옷잘...   \n",
       "3                          박서준과 샤넬의 멋진 랑데뷰   \n",
       "4                 '핑크색 입으면 기분이 조크든요' 핑크 홀릭   \n",
       "\n",
       "                                          link        date  \n",
       "0  http://v.media.daum.net/v/20201029000125655  2020.10.29  \n",
       "1  http://v.media.daum.net/v/20201028000123893  2020.10.28  \n",
       "2  http://v.media.daum.net/v/20201025060058212  2020.10.25  \n",
       "3  http://v.media.daum.net/v/20201015170753171  2020.10.15  \n",
       "4  http://v.media.daum.net/v/20201117115642590  5시간전 | 엘르   "
      ]
     },
     "execution_count": 76,
     "metadata": {},
     "output_type": "execute_result"
    }
   ],
   "source": [
    "elle_chanel = pd.DataFrame({\n",
    "    'title':title,\n",
    "    'link':link,\n",
    "    'date':date\n",
    "})\n",
    "\n",
    "elle_chanel.head()"
   ]
  },
  {
   "cell_type": "code",
   "execution_count": null,
   "metadata": {},
   "outputs": [],
   "source": [
    "'https://search.daum.net/search?nil_suggest=btn&w=news&cluster=y&q='+str(brand)+'&cpname='+str(magazine)+'&cp=16Y6Oklp6xw4QZhCK0&DA=PGD&p='+str(page)"
   ]
  },
  {
   "cell_type": "code",
   "execution_count": null,
   "metadata": {},
   "outputs": [],
   "source": []
  },
  {
   "cell_type": "code",
   "execution_count": null,
   "metadata": {},
   "outputs": [],
   "source": []
  },
  {
   "cell_type": "code",
   "execution_count": null,
   "metadata": {},
   "outputs": [],
   "source": []
  },
  {
   "cell_type": "code",
   "execution_count": null,
   "metadata": {},
   "outputs": [],
   "source": []
  },
  {
   "cell_type": "code",
   "execution_count": null,
   "metadata": {},
   "outputs": [],
   "source": []
  },
  {
   "cell_type": "code",
   "execution_count": null,
   "metadata": {},
   "outputs": [],
   "source": []
  },
  {
   "cell_type": "code",
   "execution_count": null,
   "metadata": {},
   "outputs": [],
   "source": []
  },
  {
   "cell_type": "code",
   "execution_count": null,
   "metadata": {},
   "outputs": [],
   "source": []
  },
  {
   "cell_type": "code",
   "execution_count": null,
   "metadata": {},
   "outputs": [],
   "source": []
  },
  {
   "cell_type": "code",
   "execution_count": null,
   "metadata": {},
   "outputs": [],
   "source": []
  },
  {
   "cell_type": "code",
   "execution_count": null,
   "metadata": {},
   "outputs": [],
   "source": []
  }
 ],
 "metadata": {
  "kernelspec": {
   "display_name": "Python 3",
   "language": "python",
   "name": "python3"
  },
  "language_info": {
   "codemirror_mode": {
    "name": "ipython",
    "version": 3
   },
   "file_extension": ".py",
   "mimetype": "text/x-python",
   "name": "python",
   "nbconvert_exporter": "python",
   "pygments_lexer": "ipython3",
   "version": "3.7.6"
  }
 },
 "nbformat": 4,
 "nbformat_minor": 4
}
