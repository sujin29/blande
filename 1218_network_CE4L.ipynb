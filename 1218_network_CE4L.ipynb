{
 "cells": [
  {
   "cell_type": "code",
   "execution_count": 1,
   "metadata": {},
   "outputs": [],
   "source": [
    "import pandas as pd\n",
    "import numpy as np\n",
    "import re\n",
    "import networkx as nx\n",
    "import matplotlib.pyplot as plt"
   ]
  },
  {
   "cell_type": "code",
   "execution_count": 2,
   "metadata": {},
   "outputs": [],
   "source": [
    "# 한글 폰트 문제 해결\n",
    "import platform\n",
    "\n",
    "from matplotlib import font_manager, rc\n",
    "# plt.rcParams['axes.unicode_minus'] = False\n",
    "\n",
    "if platform.system() == 'Darwin':\n",
    "    rc('font', family='AppleGothic')\n",
    "elif platform.system() == 'Windows':\n",
    "    path = \"c:/Windows/Fonts/malgun.ttf\"\n",
    "    font_name = font_manager.FontProperties(fname=path).get_name()\n",
    "    rc('font', family=font_name)\n",
    "else:\n",
    "    print('Unknown system... sorry~~~~') "
   ]
  },
  {
   "cell_type": "code",
   "execution_count": 3,
   "metadata": {},
   "outputs": [],
   "source": [
    "CE4L = pd.read_csv('./magazine/final/CE4L_adfn_2.csv', encoding = 'utf-8', sep = '|')"
   ]
  },
  {
   "cell_type": "code",
   "execution_count": 4,
   "metadata": {},
   "outputs": [],
   "source": [
    "CE4L['ADFN_2'] = CE4L['ADFN_2'].str.replace('[', '').str.replace(']', '').str.replace(\"'\", \"\").str.split(', ')"
   ]
  },
  {
   "cell_type": "code",
   "execution_count": 5,
   "metadata": {},
   "outputs": [
    {
     "data": {
      "text/plain": [
       "0      [골드, 장식, 포인트, 준, 케이프, 체크, 코트, 백, 산드로, Sandro, ...\n",
       "1      [재킷, 셔츠, 크리스, CELINE, CELINE, 팬츠, 다잉브, 리드, 슈즈,...\n",
       "2      [민트, 색, 후드, 톱, 크롬, 하츠, Chrome, Hearts, 안경, CEL...\n",
       "3      [빈티지, 한, 체크, 무늬, 재킷, CELINE, CELINE, 비비드, 핑크, ...\n",
       "4      [화이트, 슬리브, 리스, 스트라이프, 오버, 팬츠, CELINE, CELINE, ...\n",
       "                             ...                        \n",
       "383    [밀란, 패션위크, 참석, 차, 출국, 리사, 공항, BLACKPINK, 리사, 오...\n",
       "384    [리사, 패션, 브랜드, 탄생, 할, 보인다, YG, 엔터테인먼트, BLACKPIN...\n",
       "385    [서로, 팬임, 인증, 두, 스타, BLACKPINK, 세레나, 고메즈, 함께한, ...\n",
       "386    [내셔널, 아이스크림, 데이, 기념, BLACKPINK, 귀여운, 포스팅, 제니, ...\n",
       "387    [한국, 신진, 디자이너, 하이, 패션, 브랜드, 섭렵, 블핑, BLACKPINK,...\n",
       "Name: ADFN_2, Length: 388, dtype: object"
      ]
     },
     "execution_count": 5,
     "metadata": {},
     "output_type": "execute_result"
    }
   ],
   "source": [
    "CE4L['ADFN_2']"
   ]
  },
  {
   "cell_type": "code",
   "execution_count": null,
   "metadata": {},
   "outputs": [],
   "source": []
  },
  {
   "cell_type": "code",
   "execution_count": null,
   "metadata": {},
   "outputs": [],
   "source": []
  },
  {
   "cell_type": "markdown",
   "metadata": {},
   "source": [
    "### top50 리스트 생성"
   ]
  },
  {
   "cell_type": "code",
   "execution_count": 6,
   "metadata": {},
   "outputs": [],
   "source": [
    "top500 = pd.read_csv('./CE4L_top500.csv', sep='|', encoding = 'utf-8')"
   ]
  },
  {
   "cell_type": "code",
   "execution_count": 7,
   "metadata": {},
   "outputs": [
    {
     "data": {
      "text/html": [
       "<div>\n",
       "<style scoped>\n",
       "    .dataframe tbody tr th:only-of-type {\n",
       "        vertical-align: middle;\n",
       "    }\n",
       "\n",
       "    .dataframe tbody tr th {\n",
       "        vertical-align: top;\n",
       "    }\n",
       "\n",
       "    .dataframe thead th {\n",
       "        text-align: right;\n",
       "    }\n",
       "</style>\n",
       "<table border=\"1\" class=\"dataframe\">\n",
       "  <thead>\n",
       "    <tr style=\"text-align: right;\">\n",
       "      <th></th>\n",
       "      <th>word</th>\n",
       "      <th>count</th>\n",
       "    </tr>\n",
       "  </thead>\n",
       "  <tbody>\n",
       "    <tr>\n",
       "      <th>0</th>\n",
       "      <td>리사</td>\n",
       "      <td>3576</td>\n",
       "    </tr>\n",
       "    <tr>\n",
       "      <th>1</th>\n",
       "      <td>예쁘다</td>\n",
       "      <td>676</td>\n",
       "    </tr>\n",
       "    <tr>\n",
       "      <th>2</th>\n",
       "      <td>귀엽다</td>\n",
       "      <td>543</td>\n",
       "    </tr>\n",
       "    <tr>\n",
       "      <th>3</th>\n",
       "      <td>CELINE</td>\n",
       "      <td>526</td>\n",
       "    </tr>\n",
       "    <tr>\n",
       "      <th>4</th>\n",
       "      <td>춤</td>\n",
       "      <td>478</td>\n",
       "    </tr>\n",
       "    <tr>\n",
       "      <th>...</th>\n",
       "      <td>...</td>\n",
       "      <td>...</td>\n",
       "    </tr>\n",
       "    <tr>\n",
       "      <th>495</th>\n",
       "      <td>강아지</td>\n",
       "      <td>22</td>\n",
       "    </tr>\n",
       "    <tr>\n",
       "      <th>496</th>\n",
       "      <td>막내</td>\n",
       "      <td>22</td>\n",
       "    </tr>\n",
       "    <tr>\n",
       "      <th>497</th>\n",
       "      <td>마노</td>\n",
       "      <td>22</td>\n",
       "    </tr>\n",
       "    <tr>\n",
       "      <th>498</th>\n",
       "      <td>쁘쁘</td>\n",
       "      <td>22</td>\n",
       "    </tr>\n",
       "    <tr>\n",
       "      <th>499</th>\n",
       "      <td>인성</td>\n",
       "      <td>22</td>\n",
       "    </tr>\n",
       "  </tbody>\n",
       "</table>\n",
       "<p>500 rows × 2 columns</p>\n",
       "</div>"
      ],
      "text/plain": [
       "       word  count\n",
       "0        리사   3576\n",
       "1       예쁘다    676\n",
       "2       귀엽다    543\n",
       "3    CELINE    526\n",
       "4         춤    478\n",
       "..      ...    ...\n",
       "495     강아지     22\n",
       "496      막내     22\n",
       "497      마노     22\n",
       "498      쁘쁘     22\n",
       "499      인성     22\n",
       "\n",
       "[500 rows x 2 columns]"
      ]
     },
     "execution_count": 7,
     "metadata": {},
     "output_type": "execute_result"
    }
   ],
   "source": [
    "top500"
   ]
  },
  {
   "cell_type": "code",
   "execution_count": 8,
   "metadata": {},
   "outputs": [
    {
     "name": "stdout",
     "output_type": "stream",
     "text": [
      "30\n",
      "['리사', '예쁘다', '귀엽다', 'CELINE', '춤', '사랑', '패션', '랩', '한국', '영어', '브랜드', '노래', '컬렉션', '매력', '무대', '얼굴', '컬러', '아이돌', 'SLIMANE', 'HEDI', '태국', '룩', '중국', '한국어', '한국인', '가장', '느낌', '스타일', '비율', '표정']\n"
     ]
    }
   ],
   "source": [
    "top30 = []\n",
    "for i in range(30):\n",
    "    top30.append(top500.loc[i, 'word'])\n",
    "    \n",
    "print(len(top30))\n",
    "print(top30)"
   ]
  },
  {
   "cell_type": "code",
   "execution_count": 9,
   "metadata": {},
   "outputs": [
    {
     "name": "stdout",
     "output_type": "stream",
     "text": [
      "50\n",
      "['리사', '예쁘다', '귀엽다', 'CELINE', '춤', '사랑', '패션', '랩', '한국', '영어', '브랜드', '노래', '컬렉션', '매력', '무대', '얼굴', '컬러', '아이돌', 'SLIMANE', 'HEDI', '태국', '룩', '중국', '한국어', '한국인', '가장', '느낌', '스타일', '비율', '표정', '블랙', '디자이너', '멋있다', '실력', '팬', '외국인', '여자', '눈', '시즌', '옷', '모델', '지난', '여성', '재킷', '팬츠', '최고', '머리', '드레스', '백', '남성']\n"
     ]
    }
   ],
   "source": [
    "top50 = []\n",
    "for i in range(50):\n",
    "    top50.append(top500.loc[i, 'word'])\n",
    "    \n",
    "print(len(top50))\n",
    "print(top50)"
   ]
  },
  {
   "cell_type": "markdown",
   "metadata": {},
   "source": [
    "### top100"
   ]
  },
  {
   "cell_type": "code",
   "execution_count": 10,
   "metadata": {},
   "outputs": [
    {
     "name": "stdout",
     "output_type": "stream",
     "text": [
      "100\n",
      "['리사', '예쁘다', '귀엽다', 'CELINE', '춤', '사랑', '패션', '랩', '한국', '영어', '브랜드', '노래', '컬렉션', '매력', '무대', '얼굴', '컬러', '아이돌', 'SLIMANE', 'HEDI', '태국', '룩', '중국', '한국어', '한국인', '가장', '느낌', '스타일', '비율', '표정', '블랙', '디자이너', '멋있다', '실력', '팬', '외국인', '여자', '눈', '시즌', '옷', '모델', '지난', '여성', '재킷', '팬츠', '최고', '머리', '드레스', '백', '남성', '영국', '연습생', '쇼', '봄', '호랑이', '아이템', '인기', '새로운', '매치', '좋은', '세계', '그룹', '예능', '디렉터', '파리', '프로', '분위기', '프라다', '다리', '처음', '대', '포인트', 'PHOEBE', 'PHILO', '스타', '스커트', '디자인', '앞머리', '첫', '장식', 'LAURENT', '완성', '외국', '단발', '걸그룹', '태국인', 'SAINT', '노력', '인형', '시작', '참석', '여름', '좋다', '카리스마', 'YG', '대박', '코트', '복', '짱', '크리에이티브']\n"
     ]
    }
   ],
   "source": [
    "top100 = []\n",
    "for i in range(100):\n",
    "    top100.append(top500.loc[i, 'word'])\n",
    "    \n",
    "print(len(top100))\n",
    "print(top100)"
   ]
  },
  {
   "cell_type": "code",
   "execution_count": 11,
   "metadata": {},
   "outputs": [
    {
     "name": "stdout",
     "output_type": "stream",
     "text": [
      "200\n",
      "['리사', '예쁘다', '귀엽다', 'CELINE', '춤', '사랑', '패션', '랩', '한국', '영어', '브랜드', '노래', '컬렉션', '매력', '무대', '얼굴', '컬러', '아이돌', 'SLIMANE', 'HEDI', '태국', '룩', '중국', '한국어', '한국인', '가장', '느낌', '스타일', '비율', '표정', '블랙', '디자이너', '멋있다', '실력', '팬', '외국인', '여자', '눈', '시즌', '옷', '모델', '지난', '여성', '재킷', '팬츠', '최고', '머리', '드레스', '백', '남성', '영국', '연습생', '쇼', '봄', '호랑이', '아이템', '인기', '새로운', '매치', '좋은', '세계', '그룹', '예능', '디렉터', '파리', '프로', '분위기', '프라다', '다리', '처음', '대', '포인트', 'PHOEBE', 'PHILO', '스타', '스커트', '디자인', '앞머리', '첫', '장식', 'LAURENT', '완성', '외국', '단발', '걸그룹', '태국인', 'SAINT', '노력', '인형', '시작', '참석', '여름', '좋다', '카리스마', 'YG', '대박', '코트', '복', '짱', '크리에이티브', '해외', '쌤', '데님', '한국말', '연출', '모든', '많은', '다양한', '이미지', '컴백', '간지', '선생님', '화이트', '라인', '셔츠', '목소리', 'DIOR', '리', '우리나라', '매장', '스타일링', '세상', '좋아요', '톱', '부츠', '티셔츠', '시대', '반', '시크', '미쳤다', '연습', '화보', '마음', '음악', '메이크업', 'FW', '성격', '클래식', '매우', '런웨이', '배', '콘서트', 'CHANEL', '메인', '춤선', '소재', '레드', '점', '언어', '미국', '일본', '패턴', '있을', '개인', '나라', '개멋', '멋있어', '남자', '태국어', '댄스', '방송', '화장', '한번', '프로그램', '탑', '사기', '니트', '볼', 'A', '최근', '버버리', '힘', '마지막', '좋아하는', '중국어', '로고', '기억', '실루엣', '확실히', '젤', '선택', '톤', '캠페인', '손', '시절', '인', '별', '촬영', '오늘', '곡', '미친', '회수', '라이브', '살', '젠', '가죽', '가수', '댄서', '제발', '제목']\n"
     ]
    }
   ],
   "source": [
    "top200 = []\n",
    "for i in range(200):\n",
    "    top200.append(top500.loc[i, 'word'])\n",
    "    \n",
    "print(len(top200))\n",
    "print(top200)"
   ]
  },
  {
   "cell_type": "code",
   "execution_count": 12,
   "metadata": {},
   "outputs": [
    {
     "name": "stdout",
     "output_type": "stream",
     "text": [
      "300\n",
      "['리사', '예쁘다', '귀엽다', 'CELINE', '춤', '사랑', '패션', '랩', '한국', '영어', '브랜드', '노래', '컬렉션', '매력', '무대', '얼굴', '컬러', '아이돌', 'SLIMANE', 'HEDI', '태국', '룩', '중국', '한국어', '한국인', '가장', '느낌', '스타일', '비율', '표정', '블랙', '디자이너', '멋있다', '실력', '팬', '외국인', '여자', '눈', '시즌', '옷', '모델', '지난', '여성', '재킷', '팬츠', '최고', '머리', '드레스', '백', '남성', '영국', '연습생', '쇼', '봄', '호랑이', '아이템', '인기', '새로운', '매치', '좋은', '세계', '그룹', '예능', '디렉터', '파리', '프로', '분위기', '프라다', '다리', '처음', '대', '포인트', 'PHOEBE', 'PHILO', '스타', '스커트', '디자인', '앞머리', '첫', '장식', 'LAURENT', '완성', '외국', '단발', '걸그룹', '태국인', 'SAINT', '노력', '인형', '시작', '참석', '여름', '좋다', '카리스마', 'YG', '대박', '코트', '복', '짱', '크리에이티브', '해외', '쌤', '데님', '한국말', '연출', '모든', '많은', '다양한', '이미지', '컴백', '간지', '선생님', '화이트', '라인', '셔츠', '목소리', 'DIOR', '리', '우리나라', '매장', '스타일링', '세상', '좋아요', '톱', '부츠', '티셔츠', '시대', '반', '시크', '미쳤다', '연습', '화보', '마음', '음악', '메이크업', 'FW', '성격', '클래식', '매우', '런웨이', '배', '콘서트', 'CHANEL', '메인', '춤선', '소재', '레드', '점', '언어', '미국', '일본', '패턴', '있을', '개인', '나라', '개멋', '멋있어', '남자', '태국어', '댄스', '방송', '화장', '한번', '프로그램', '탑', '사기', '니트', '볼', 'A', '최근', '버버리', '힘', '마지막', '좋아하는', '중국어', '로고', '기억', '실루엣', '확실히', '젤', '선택', '톤', '캠페인', '손', '시절', '인', '별', '촬영', '오늘', '곡', '미친', '회수', '라이브', '살', '젠', '가죽', '가수', '댄서', '제발', '제목', '형님', '대표', '키', '노', '활용', '뉴욕', '변화', '롱', '예정', '찰떡', '레전드', '웃기', '좋고', '럭셔리', '패션쇼', '솔로', '골드', '핑크', '무드', '링', '미니', '자랑', '에디', '트렌드', '관심', '나나', '좋겠다', '좋음', '유닛', '입덕', '연예인', '보임', '개국', '가을', '적', '만', '문화', '수준', '입', '고마츠', '사실', '출국', '하우스', '감', '감각', '화', '파워', '스', '소리', '카메라', 'and', '말투', '가방', '원피스', '아티스트', '인스타그램', '친구', '몸', '집중', '영감', '꼭', '베스트', '현재', '세', '앨범', '누가', '아닌', '래퍼', '웃겨', '하이', '존재', '사용', '강렬한', '얘기', '액세서리', '재', '바', '소화', '차', '곳', '의상', '비주얼', '공식', '캐', '차이', '외모', '와이지', '들어', '얘', '입은', '구찌', '리스트', '비', '끝', '마무리', '팀', '시선', '이후', '축하', '서로']\n"
     ]
    }
   ],
   "source": [
    "top300 = []\n",
    "for i in range(300):\n",
    "    top300.append(top500.loc[i, 'word'])\n",
    "    \n",
    "print(len(top300))\n",
    "print(top300)"
   ]
  },
  {
   "cell_type": "code",
   "execution_count": 13,
   "metadata": {},
   "outputs": [
    {
     "name": "stdout",
     "output_type": "stream",
     "text": [
      "500\n",
      "['리사', '예쁘다', '귀엽다', 'CELINE', '춤', '사랑', '패션', '랩', '한국', '영어', '브랜드', '노래', '컬렉션', '매력', '무대', '얼굴', '컬러', '아이돌', 'SLIMANE', 'HEDI', '태국', '룩', '중국', '한국어', '한국인', '가장', '느낌', '스타일', '비율', '표정', '블랙', '디자이너', '멋있다', '실력', '팬', '외국인', '여자', '눈', '시즌', '옷', '모델', '지난', '여성', '재킷', '팬츠', '최고', '머리', '드레스', '백', '남성', '영국', '연습생', '쇼', '봄', '호랑이', '아이템', '인기', '새로운', '매치', '좋은', '세계', '그룹', '예능', '디렉터', '파리', '프로', '분위기', '프라다', '다리', '처음', '대', '포인트', 'PHOEBE', 'PHILO', '스타', '스커트', '디자인', '앞머리', '첫', '장식', 'LAURENT', '완성', '외국', '단발', '걸그룹', '태국인', 'SAINT', '노력', '인형', '시작', '참석']\n"
     ]
    }
   ],
   "source": [
    "t500 = []\n",
    "for i in range(500):\n",
    "    t500.append(top500.loc[i, 'word'])\n",
    "    \n",
    "print(len(t500))\n",
    "print(t500[:91])"
   ]
  },
  {
   "cell_type": "markdown",
   "metadata": {},
   "source": [
    "### top50만 남기기"
   ]
  },
  {
   "cell_type": "code",
   "execution_count": 15,
   "metadata": {},
   "outputs": [
    {
     "data": {
      "text/plain": [
       "388"
      ]
     },
     "execution_count": 15,
     "metadata": {},
     "output_type": "execute_result"
    }
   ],
   "source": [
    "len(CE4L)"
   ]
  },
  {
   "cell_type": "code",
   "execution_count": 16,
   "metadata": {},
   "outputs": [],
   "source": [
    "top30_word = []\n",
    "for i in range(len(CE4L)):\n",
    "    w=[]\n",
    "    for word in CE4L.loc[i, 'ADFN_2']:\n",
    "        if word in top30:\n",
    "            w.append(word)\n",
    "    top30_word.append(w)"
   ]
  },
  {
   "cell_type": "code",
   "execution_count": 17,
   "metadata": {},
   "outputs": [],
   "source": [
    "top50_word = []\n",
    "for i in range(len(CE4L)):\n",
    "    w=[]\n",
    "    for word in CE4L.loc[i, 'ADFN_2']:\n",
    "        if word in top50:\n",
    "            w.append(word)\n",
    "    top50_word.append(w)"
   ]
  },
  {
   "cell_type": "code",
   "execution_count": 18,
   "metadata": {},
   "outputs": [],
   "source": [
    "top100_word = []\n",
    "for i in range(len(CE4L)):\n",
    "    w=[]\n",
    "    for word in CE4L.loc[i, 'ADFN_2']:\n",
    "        if word in top100:\n",
    "            w.append(word)\n",
    "    top100_word.append(w)"
   ]
  },
  {
   "cell_type": "code",
   "execution_count": 19,
   "metadata": {},
   "outputs": [],
   "source": [
    "top200_word = []\n",
    "for i in range(len(CE4L)):\n",
    "    w=[]\n",
    "    for word in CE4L.loc[i, 'ADFN_2']:\n",
    "        if word in top200:\n",
    "            w.append(word)\n",
    "    top200_word.append(w)"
   ]
  },
  {
   "cell_type": "code",
   "execution_count": 20,
   "metadata": {},
   "outputs": [],
   "source": [
    "top300_word = []\n",
    "for i in range(len(CE4L)):\n",
    "    w=[]\n",
    "    for word in CE4L.loc[i, 'ADFN_2']:\n",
    "        if word in top300:\n",
    "            w.append(word)\n",
    "    top300_word.append(w)"
   ]
  },
  {
   "cell_type": "code",
   "execution_count": 21,
   "metadata": {},
   "outputs": [],
   "source": [
    "top500_word = []\n",
    "for i in range(len(CE4L)):\n",
    "    w=[]\n",
    "    for word in CE4L.loc[i, 'ADFN_2']:\n",
    "        if word in t500:\n",
    "            w.append(word)\n",
    "    top500_word.append(w)"
   ]
  },
  {
   "cell_type": "markdown",
   "metadata": {},
   "source": [
    "### 전체"
   ]
  },
  {
   "cell_type": "code",
   "execution_count": 22,
   "metadata": {},
   "outputs": [
    {
     "data": {
      "text/html": [
       "<div>\n",
       "<style scoped>\n",
       "    .dataframe tbody tr th:only-of-type {\n",
       "        vertical-align: middle;\n",
       "    }\n",
       "\n",
       "    .dataframe tbody tr th {\n",
       "        vertical-align: top;\n",
       "    }\n",
       "\n",
       "    .dataframe thead th {\n",
       "        text-align: right;\n",
       "    }\n",
       "</style>\n",
       "<table border=\"1\" class=\"dataframe\">\n",
       "  <thead>\n",
       "    <tr style=\"text-align: right;\">\n",
       "      <th></th>\n",
       "      <th>magazine</th>\n",
       "      <th>brand</th>\n",
       "      <th>title</th>\n",
       "      <th>word</th>\n",
       "      <th>ADFN</th>\n",
       "      <th>ADFN_2</th>\n",
       "    </tr>\n",
       "  </thead>\n",
       "  <tbody>\n",
       "    <tr>\n",
       "      <th>0</th>\n",
       "      <td>A</td>\n",
       "      <td>Ce</td>\n",
       "      <td>코트 체크</td>\n",
       "      <td>골드 잠금 장식으로 포인트를 준 케이프 체크 코트는 1백9만원, 산드로(SANDRO...</td>\n",
       "      <td>['골드', '장식', '포인트', '준', '케이프', '체크', '코트', '백...</td>\n",
       "      <td>[골드, 장식, 포인트, 준, 케이프, 체크, 코트, 백, 산드로, Sandro, ...</td>\n",
       "    </tr>\n",
       "    <tr>\n",
       "      <th>1</th>\n",
       "      <td>A</td>\n",
       "      <td>Ce</td>\n",
       "      <td>GOOD TIME, 헨리</td>\n",
       "      <td>재킷, 셔츠, 네크리스는 모두 CELINE(CELINE), 팬츠는 다잉브리드, 슈즈...</td>\n",
       "      <td>['재킷', '셔츠', '크리스', 'CELINE', 'CELINE', '팬츠', ...</td>\n",
       "      <td>[재킷, 셔츠, 크리스, CELINE, CELINE, 팬츠, 다잉브, 리드, 슈즈,...</td>\n",
       "    </tr>\n",
       "    <tr>\n",
       "      <th>2</th>\n",
       "      <td>A</td>\n",
       "      <td>Ce</td>\n",
       "      <td>하나만 걸쳐도 남달라! 후디 입는 법 12</td>\n",
       "      <td>민트색 후드 톱은 가격미정, 크롬하츠(CHROME HEARTS). 안경은 52만원,...</td>\n",
       "      <td>['민트', '색', '후드', '톱', '크롬', '하츠', 'Chrome', '...</td>\n",
       "      <td>[민트, 색, 후드, 톱, 크롬, 하츠, Chrome, Hearts, 안경, CEL...</td>\n",
       "    </tr>\n",
       "    <tr>\n",
       "      <th>3</th>\n",
       "      <td>A</td>\n",
       "      <td>Ce</td>\n",
       "      <td>가을에 어울리는 색을 딱 하나 고르면? 카멜색!</td>\n",
       "      <td>빈티지한 체크무늬 재킷은 가격미정, CELINE(CELINE). 비비드한 핑크 컬러...</td>\n",
       "      <td>['빈티', '한', '체크', '무늬', '재킷', 'CELINE', 'CELIN...</td>\n",
       "      <td>[빈티지, 한, 체크, 무늬, 재킷, CELINE, CELINE, 비비드, 핑크, ...</td>\n",
       "    </tr>\n",
       "    <tr>\n",
       "      <th>4</th>\n",
       "      <td>A</td>\n",
       "      <td>Ce</td>\n",
       "      <td>웃음 뒤의 웃음, 남윤수</td>\n",
       "      <td>화이트 슬리브리스, 스트라이프 오버올 팬츠는 모두 CELINE(CELINE)., 화...</td>\n",
       "      <td>['화이트', '슬리브', '리스', '스트라이프', '오버', '팬츠', 'CEL...</td>\n",
       "      <td>[화이트, 슬리브, 리스, 스트라이프, 오버, 팬츠, CELINE, CELINE, ...</td>\n",
       "    </tr>\n",
       "    <tr>\n",
       "      <th>...</th>\n",
       "      <td>...</td>\n",
       "      <td>...</td>\n",
       "      <td>...</td>\n",
       "      <td>...</td>\n",
       "      <td>...</td>\n",
       "      <td>...</td>\n",
       "    </tr>\n",
       "    <tr>\n",
       "      <th>383</th>\n",
       "      <td>W</td>\n",
       "      <td>L</td>\n",
       "      <td>밀라노로 떠난 리사</td>\n",
       "      <td>밀란 패션위크 참석차 출국한 리사의 공항 룩., BLACKPINK 리사가 오늘 2월...</td>\n",
       "      <td>['밀란', '패션위크', '참석', '차', '출국', '리사', '공항', 'B...</td>\n",
       "      <td>[밀란, 패션위크, 참석, 차, 출국, 리사, 공항, BLACKPINK, 리사, 오...</td>\n",
       "    </tr>\n",
       "    <tr>\n",
       "      <th>384</th>\n",
       "      <td>W</td>\n",
       "      <td>L</td>\n",
       "      <td>리사의 새로운 행보</td>\n",
       "      <td>, , 리사의 패션 브랜드가 탄생할 것으로 보인다.  YG엔터테인먼트가 2019년 ...</td>\n",
       "      <td>['리사', '패션', '브랜드', '탄생', '할', '보인다', 'YG', '엔...</td>\n",
       "      <td>[리사, 패션, 브랜드, 탄생, 할, 보인다, YG, 엔터테인먼트, BLACKPIN...</td>\n",
       "    </tr>\n",
       "    <tr>\n",
       "      <th>385</th>\n",
       "      <td>W</td>\n",
       "      <td>L</td>\n",
       "      <td>블랙핑크X세레나 고메즈 영상통화, 협업 티징</td>\n",
       "      <td>서로의 팬임을 인증한 두 스타, 8월 28일 BLACKPINK와 세레나 고메즈가 함...</td>\n",
       "      <td>['서로', '팬임', '인증', '두', '스타', 'BLACKPINK', '세레...</td>\n",
       "      <td>[서로, 팬임, 인증, 두, 스타, BLACKPINK, 세레나, 고메즈, 함께한, ...</td>\n",
       "    </tr>\n",
       "    <tr>\n",
       "      <th>386</th>\n",
       "      <td>W</td>\n",
       "      <td>L</td>\n",
       "      <td>블랙핑크가 아이스크림 셀카를 올린 이유는?</td>\n",
       "      <td>내셔널 아이스크림 데이’를 기념한 BLACKPINK의 귀여운 포스팅., 제니와 리사...</td>\n",
       "      <td>['내셔널', '아이스크림', '데이', '기념', 'BLACKPINK', '귀여운...</td>\n",
       "      <td>[내셔널, 아이스크림, 데이, 기념, BLACKPINK, 귀여운, 포스팅, 제니, ...</td>\n",
       "    </tr>\n",
       "    <tr>\n",
       "      <th>387</th>\n",
       "      <td>W</td>\n",
       "      <td>L</td>\n",
       "      <td>블랙핑크 컴백! 남다른 패션 스타일링</td>\n",
       "      <td>한국 신진 디자이너부터 하이 패션 브랜드까지 섭렵한 블핑, 6월 26일 드디어 BL...</td>\n",
       "      <td>['한국', '신진', '디자이너', '하이', '패션', '브랜드', '섭렵', ...</td>\n",
       "      <td>[한국, 신진, 디자이너, 하이, 패션, 브랜드, 섭렵, 블핑, BLACKPINK,...</td>\n",
       "    </tr>\n",
       "  </tbody>\n",
       "</table>\n",
       "<p>388 rows × 6 columns</p>\n",
       "</div>"
      ],
      "text/plain": [
       "    magazine brand                       title  \\\n",
       "0          A    Ce                       코트 체크   \n",
       "1          A    Ce               GOOD TIME, 헨리   \n",
       "2          A    Ce     하나만 걸쳐도 남달라! 후디 입는 법 12   \n",
       "3          A    Ce  가을에 어울리는 색을 딱 하나 고르면? 카멜색!   \n",
       "4          A    Ce               웃음 뒤의 웃음, 남윤수   \n",
       "..       ...   ...                         ...   \n",
       "383        W     L                  밀라노로 떠난 리사   \n",
       "384        W     L                  리사의 새로운 행보   \n",
       "385        W     L    블랙핑크X세레나 고메즈 영상통화, 협업 티징   \n",
       "386        W     L     블랙핑크가 아이스크림 셀카를 올린 이유는?   \n",
       "387        W     L        블랙핑크 컴백! 남다른 패션 스타일링   \n",
       "\n",
       "                                                  word  \\\n",
       "0    골드 잠금 장식으로 포인트를 준 케이프 체크 코트는 1백9만원, 산드로(SANDRO...   \n",
       "1    재킷, 셔츠, 네크리스는 모두 CELINE(CELINE), 팬츠는 다잉브리드, 슈즈...   \n",
       "2    민트색 후드 톱은 가격미정, 크롬하츠(CHROME HEARTS). 안경은 52만원,...   \n",
       "3    빈티지한 체크무늬 재킷은 가격미정, CELINE(CELINE). 비비드한 핑크 컬러...   \n",
       "4    화이트 슬리브리스, 스트라이프 오버올 팬츠는 모두 CELINE(CELINE)., 화...   \n",
       "..                                                 ...   \n",
       "383  밀란 패션위크 참석차 출국한 리사의 공항 룩., BLACKPINK 리사가 오늘 2월...   \n",
       "384  , , 리사의 패션 브랜드가 탄생할 것으로 보인다.  YG엔터테인먼트가 2019년 ...   \n",
       "385  서로의 팬임을 인증한 두 스타, 8월 28일 BLACKPINK와 세레나 고메즈가 함...   \n",
       "386  내셔널 아이스크림 데이’를 기념한 BLACKPINK의 귀여운 포스팅., 제니와 리사...   \n",
       "387  한국 신진 디자이너부터 하이 패션 브랜드까지 섭렵한 블핑, 6월 26일 드디어 BL...   \n",
       "\n",
       "                                                  ADFN  \\\n",
       "0    ['골드', '장식', '포인트', '준', '케이프', '체크', '코트', '백...   \n",
       "1    ['재킷', '셔츠', '크리스', 'CELINE', 'CELINE', '팬츠', ...   \n",
       "2    ['민트', '색', '후드', '톱', '크롬', '하츠', 'Chrome', '...   \n",
       "3    ['빈티', '한', '체크', '무늬', '재킷', 'CELINE', 'CELIN...   \n",
       "4    ['화이트', '슬리브', '리스', '스트라이프', '오버', '팬츠', 'CEL...   \n",
       "..                                                 ...   \n",
       "383  ['밀란', '패션위크', '참석', '차', '출국', '리사', '공항', 'B...   \n",
       "384  ['리사', '패션', '브랜드', '탄생', '할', '보인다', 'YG', '엔...   \n",
       "385  ['서로', '팬임', '인증', '두', '스타', 'BLACKPINK', '세레...   \n",
       "386  ['내셔널', '아이스크림', '데이', '기념', 'BLACKPINK', '귀여운...   \n",
       "387  ['한국', '신진', '디자이너', '하이', '패션', '브랜드', '섭렵', ...   \n",
       "\n",
       "                                                ADFN_2  \n",
       "0    [골드, 장식, 포인트, 준, 케이프, 체크, 코트, 백, 산드로, Sandro, ...  \n",
       "1    [재킷, 셔츠, 크리스, CELINE, CELINE, 팬츠, 다잉브, 리드, 슈즈,...  \n",
       "2    [민트, 색, 후드, 톱, 크롬, 하츠, Chrome, Hearts, 안경, CEL...  \n",
       "3    [빈티지, 한, 체크, 무늬, 재킷, CELINE, CELINE, 비비드, 핑크, ...  \n",
       "4    [화이트, 슬리브, 리스, 스트라이프, 오버, 팬츠, CELINE, CELINE, ...  \n",
       "..                                                 ...  \n",
       "383  [밀란, 패션위크, 참석, 차, 출국, 리사, 공항, BLACKPINK, 리사, 오...  \n",
       "384  [리사, 패션, 브랜드, 탄생, 할, 보인다, YG, 엔터테인먼트, BLACKPIN...  \n",
       "385  [서로, 팬임, 인증, 두, 스타, BLACKPINK, 세레나, 고메즈, 함께한, ...  \n",
       "386  [내셔널, 아이스크림, 데이, 기념, BLACKPINK, 귀여운, 포스팅, 제니, ...  \n",
       "387  [한국, 신진, 디자이너, 하이, 패션, 브랜드, 섭렵, 블핑, BLACKPINK,...  \n",
       "\n",
       "[388 rows x 6 columns]"
      ]
     },
     "execution_count": 22,
     "metadata": {},
     "output_type": "execute_result"
    }
   ],
   "source": [
    "CE4L"
   ]
  },
  {
   "cell_type": "markdown",
   "metadata": {},
   "source": [
    "### item 남기기"
   ]
  },
  {
   "cell_type": "code",
   "execution_count": 129,
   "metadata": {},
   "outputs": [],
   "source": [
    "item = ['백', '드레스', '재킷', '주얼리', '옷', '슈즈', '스커트', '링', '팬츠', '가방', '슈트', '향수', '의상', '데님', '액세서리', '톱',\n",
    "'셔츠', '모자', '수트', '스니커즈', '니트', '시계', '워치', '핸드백', '벨트', '선글라스', '목걸이', '티셔츠', '쇼츠', '샌들',\n",
    " '귀고리', '워치', '코트', '부츠', '케이프']"
   ]
  },
  {
   "cell_type": "code",
   "execution_count": 22,
   "metadata": {},
   "outputs": [],
   "source": [
    "# item_word = []\n",
    "# for i in range(len(mag_je)):\n",
    "#     w=[]\n",
    "#     for word in mag_je.loc[i, 'ADFN']:\n",
    "#         if word in item:\n",
    "#             w.append(word)\n",
    "#     item_word.append(w)"
   ]
  },
  {
   "cell_type": "markdown",
   "metadata": {},
   "source": [
    "### top100이면서 item이 아닌 것"
   ]
  },
  {
   "cell_type": "code",
   "execution_count": 23,
   "metadata": {},
   "outputs": [],
   "source": [
    "# top100_not_item_word = []\n",
    "# for i in range(len(tot_je)):\n",
    "#     w=[]\n",
    "#     for word in tot_je.loc[i, 'ADFN']:\n",
    "#         if word in top100:\n",
    "#             if word not in item:\n",
    "#                 w.append(word)\n",
    "#     top100_not_item_word.append(w)"
   ]
  },
  {
   "cell_type": "code",
   "execution_count": 24,
   "metadata": {},
   "outputs": [],
   "source": [
    "# len(top100_not_item_word)"
   ]
  },
  {
   "cell_type": "code",
   "execution_count": 25,
   "metadata": {},
   "outputs": [],
   "source": [
    "# top100_not_item_word[1]"
   ]
  },
  {
   "cell_type": "code",
   "execution_count": 26,
   "metadata": {},
   "outputs": [],
   "source": [
    "# top50_word"
   ]
  },
  {
   "cell_type": "code",
   "execution_count": 28,
   "metadata": {
    "scrolled": true
   },
   "outputs": [
    {
     "data": {
      "text/plain": [
       "1647"
      ]
     },
     "execution_count": 28,
     "metadata": {},
     "output_type": "execute_result"
    }
   ],
   "source": [
    "len(top50_word)"
   ]
  },
  {
   "cell_type": "markdown",
   "metadata": {},
   "source": [
    "### 텍스트 한줄씩 읽어와 dataset에 기록"
   ]
  },
  {
   "cell_type": "markdown",
   "metadata": {},
   "source": [
    "### 어프라이어리(Apriori) 알고리즘을 적용하여 연관규칙 분석 수행"
   ]
  },
  {
   "cell_type": "code",
   "execution_count": 23,
   "metadata": {},
   "outputs": [],
   "source": [
    "# 어프라이어리(Apriori)\n",
    "from apyori import apriori"
   ]
  },
  {
   "cell_type": "code",
   "execution_count": 24,
   "metadata": {},
   "outputs": [
    {
     "data": {
      "text/plain": [
       "['컬러', 'CELINE', 'CELINE', 'CELINE']"
      ]
     },
     "execution_count": 24,
     "metadata": {},
     "output_type": "execute_result"
    }
   ],
   "source": [
    "top30_word[0]"
   ]
  },
  {
   "cell_type": "code",
   "execution_count": 32,
   "metadata": {
    "scrolled": true
   },
   "outputs": [
    {
     "data": {
      "text/html": [
       "<div>\n",
       "<style scoped>\n",
       "    .dataframe tbody tr th:only-of-type {\n",
       "        vertical-align: middle;\n",
       "    }\n",
       "\n",
       "    .dataframe tbody tr th {\n",
       "        vertical-align: top;\n",
       "    }\n",
       "\n",
       "    .dataframe thead th {\n",
       "        text-align: right;\n",
       "    }\n",
       "</style>\n",
       "<table border=\"1\" class=\"dataframe\">\n",
       "  <thead>\n",
       "    <tr style=\"text-align: right;\">\n",
       "      <th></th>\n",
       "      <th>items</th>\n",
       "      <th>support</th>\n",
       "      <th>ordered_statistics</th>\n",
       "      <th>length</th>\n",
       "    </tr>\n",
       "  </thead>\n",
       "  <tbody>\n",
       "    <tr>\n",
       "      <th>205</th>\n",
       "      <td>(리사, 패션)</td>\n",
       "      <td>0.211340</td>\n",
       "      <td>[((), (리사, 패션), 0.211340206185567, 1.0), ((리사)...</td>\n",
       "      <td>2</td>\n",
       "    </tr>\n",
       "    <tr>\n",
       "      <th>219</th>\n",
       "      <td>(패션, 브랜드)</td>\n",
       "      <td>0.164948</td>\n",
       "      <td>[((), (패션, 브랜드), 0.16494845360824742, 1.0), ((...</td>\n",
       "      <td>2</td>\n",
       "    </tr>\n",
       "    <tr>\n",
       "      <th>146</th>\n",
       "      <td>(컬렉션, CELINE)</td>\n",
       "      <td>0.157216</td>\n",
       "      <td>[((), (컬렉션, CELINE), 0.15721649484536082, 1.0)...</td>\n",
       "      <td>2</td>\n",
       "    </tr>\n",
       "    <tr>\n",
       "      <th>148</th>\n",
       "      <td>(CELINE, 패션)</td>\n",
       "      <td>0.157216</td>\n",
       "      <td>[((), (CELINE, 패션), 0.15721649484536082, 1.0),...</td>\n",
       "      <td>2</td>\n",
       "    </tr>\n",
       "    <tr>\n",
       "      <th>182</th>\n",
       "      <td>(리사, 매력)</td>\n",
       "      <td>0.154639</td>\n",
       "      <td>[((), (리사, 매력), 0.15463917525773196, 1.0), ((리...</td>\n",
       "      <td>2</td>\n",
       "    </tr>\n",
       "    <tr>\n",
       "      <th>133</th>\n",
       "      <td>(CELINE, 브랜드)</td>\n",
       "      <td>0.149485</td>\n",
       "      <td>[((), (CELINE, 브랜드), 0.14948453608247422, 1.0)...</td>\n",
       "      <td>2</td>\n",
       "    </tr>\n",
       "    <tr>\n",
       "      <th>127</th>\n",
       "      <td>(디자이너, CELINE)</td>\n",
       "      <td>0.139175</td>\n",
       "      <td>[((), (디자이너, CELINE), 0.13917525773195877, 1.0...</td>\n",
       "      <td>2</td>\n",
       "    </tr>\n",
       "    <tr>\n",
       "      <th>237</th>\n",
       "      <td>(컬렉션, 패션)</td>\n",
       "      <td>0.134021</td>\n",
       "      <td>[((), (컬렉션, 패션), 0.13402061855670103, 1.0), ((...</td>\n",
       "      <td>2</td>\n",
       "    </tr>\n",
       "    <tr>\n",
       "      <th>130</th>\n",
       "      <td>(룩, CELINE)</td>\n",
       "      <td>0.131443</td>\n",
       "      <td>[((), (룩, CELINE), 0.13144329896907217, 1.0), ...</td>\n",
       "      <td>2</td>\n",
       "    </tr>\n",
       "    <tr>\n",
       "      <th>188</th>\n",
       "      <td>(블랙, 리사)</td>\n",
       "      <td>0.131443</td>\n",
       "      <td>[((), (블랙, 리사), 0.13144329896907217, 1.0), ((리...</td>\n",
       "      <td>2</td>\n",
       "    </tr>\n",
       "  </tbody>\n",
       "</table>\n",
       "</div>"
      ],
      "text/plain": [
       "              items   support  \\\n",
       "205        (리사, 패션)  0.211340   \n",
       "219       (패션, 브랜드)  0.164948   \n",
       "146   (컬렉션, CELINE)  0.157216   \n",
       "148    (CELINE, 패션)  0.157216   \n",
       "182        (리사, 매력)  0.154639   \n",
       "133   (CELINE, 브랜드)  0.149485   \n",
       "127  (디자이너, CELINE)  0.139175   \n",
       "237       (컬렉션, 패션)  0.134021   \n",
       "130     (룩, CELINE)  0.131443   \n",
       "188        (블랙, 리사)  0.131443   \n",
       "\n",
       "                                    ordered_statistics  length  \n",
       "205  [((), (리사, 패션), 0.211340206185567, 1.0), ((리사)...       2  \n",
       "219  [((), (패션, 브랜드), 0.16494845360824742, 1.0), ((...       2  \n",
       "146  [((), (컬렉션, CELINE), 0.15721649484536082, 1.0)...       2  \n",
       "148  [((), (CELINE, 패션), 0.15721649484536082, 1.0),...       2  \n",
       "182  [((), (리사, 매력), 0.15463917525773196, 1.0), ((리...       2  \n",
       "133  [((), (CELINE, 브랜드), 0.14948453608247422, 1.0)...       2  \n",
       "127  [((), (디자이너, CELINE), 0.13917525773195877, 1.0...       2  \n",
       "237  [((), (컬렉션, 패션), 0.13402061855670103, 1.0), ((...       2  \n",
       "130  [((), (룩, CELINE), 0.13144329896907217, 1.0), ...       2  \n",
       "188  [((), (블랙, 리사), 0.13144329896907217, 1.0), ((리...       2  "
      ]
     },
     "execution_count": 32,
     "metadata": {},
     "output_type": "execute_result"
    }
   ],
   "source": [
    "# 지지도(support) : P(A∩B)\n",
    "result = list(apriori(top500_word, min_support = 0.07))\n",
    "df = pd.DataFrame(result)\n",
    "df['length'] = df['items'].apply(lambda x:len(x))\n",
    "df = df[(df['length'] == 2) \n",
    "        & (df['support'] >= 0.01)].sort_values(by='support', ascending = False)\n",
    "df.head(10)"
   ]
  },
  {
   "cell_type": "code",
   "execution_count": 33,
   "metadata": {},
   "outputs": [
    {
     "name": "stdout",
     "output_type": "stream",
     "text": [
      "frozenset({'리사', '패션'})\n",
      "frozenset({'리사', '매력'})\n",
      "frozenset({'블랙', '리사'})\n",
      "frozenset({'리사', '컬러'})\n",
      "frozenset({'룩', '리사'})\n",
      "frozenset({'리사', '포인트'})\n",
      "frozenset({'사랑', '리사'})\n",
      "frozenset({'리사', '스타일'})\n",
      "frozenset({'리사', '무대'})\n",
      "frozenset({'팬', '리사'})\n",
      "frozenset({'리사', '얼굴'})\n",
      "frozenset({'한국', '리사'})\n",
      "frozenset({'리사', '브랜드'})\n",
      "frozenset({'리사', '걸그룹'})\n",
      "frozenset({'리사', '매치'})\n",
      "frozenset({'그룹', '리사'})\n",
      "frozenset({'완성', '리사'})\n",
      "frozenset({'리사', '태국'})\n",
      "frozenset({'예쁘다', '리사'})\n",
      "frozenset({'좋은', '리사'})\n",
      "frozenset({'가장', '리사'})\n",
      "frozenset({'재킷', '리사'})\n",
      "frozenset({'세계', '리사'})\n",
      "frozenset({'리사', '분위기'})\n",
      "frozenset({'리사', '인형'})\n",
      "frozenset({'리사', '아이돌'})\n",
      "frozenset({'시크', '리사'})\n",
      "frozenset({'스타', '리사'})\n",
      "frozenset({'모델', '리사'})\n",
      "frozenset({'느낌', '리사'})\n",
      "frozenset({'리사', '춤'})\n",
      "frozenset({'리사', 'YG'})\n",
      "frozenset({'리사', '데님'})\n",
      "frozenset({'참석', '리사'})\n",
      "frozenset({'리사', '눈'})\n",
      "frozenset({'노래', '리사'})\n",
      "frozenset({'리사', '귀엽다'})\n",
      "frozenset({'리사', '레드'})\n",
      "frozenset({'리사', '팬츠'})\n"
     ]
    }
   ],
   "source": [
    "for item in df['items']:\n",
    "    if '리사' in item:\n",
    "        print(item)"
   ]
  },
  {
   "cell_type": "code",
   "execution_count": null,
   "metadata": {},
   "outputs": [],
   "source": []
  },
  {
   "cell_type": "markdown",
   "metadata": {},
   "source": [
    "### networkx 그래프 정의"
   ]
  },
  {
   "cell_type": "code",
   "execution_count": 34,
   "metadata": {},
   "outputs": [],
   "source": [
    "G = nx.Graph()\n",
    "ar = (df['items']); G.add_edges_from(ar)"
   ]
  },
  {
   "cell_type": "code",
   "execution_count": 35,
   "metadata": {},
   "outputs": [],
   "source": [
    "# 페이지 랭크\n",
    "pr = nx.pagerank(G)\n",
    "nsize = np.array([v for v in pr.values()])\n",
    "nsize = 2000 * (nsize - min(nsize)) / (max(nsize) - min(nsize))"
   ]
  },
  {
   "cell_type": "code",
   "execution_count": 36,
   "metadata": {},
   "outputs": [],
   "source": [
    "pos = nx.spring_layout(G)"
   ]
  },
  {
   "cell_type": "code",
   "execution_count": 39,
   "metadata": {},
   "outputs": [
    {
     "data": {
      "image/png": "[encoded data removed]",
      "text/plain": [
       "<Figure size 1152x864 with 1 Axes>"
      ]
     },
     "metadata": {},
     "output_type": "display_data"
    }
   ],
   "source": [
    "plt.figure(figsize = (16, 12)) ; plt.axis('off')\n",
    "nx.draw_networkx(G, font_family = 'Malgun Gothic', font_size = 16,\n",
    "                pos = pos, node_color = list(pr.values()), node_size = nsize,\n",
    "                alpha=0.7, edge_color='.5', cmap = plt.cm.spring,\n",
    "                font_color = 'white', font_weight = 'bold')\n",
    "\n",
    "plt.savefig('./nt_CE4L_top500_mins07-w.png', bbox_inches = 'tight')\n",
    "plt.show()\n"
   ]
  },
  {
   "cell_type": "code",
   "execution_count": 31,
   "metadata": {},
   "outputs": [],
   "source": []
  },
  {
   "cell_type": "code",
   "execution_count": null,
   "metadata": {},
   "outputs": [],
   "source": []
  },
  {
   "cell_type": "code",
   "execution_count": null,
   "metadata": {},
   "outputs": [],
   "source": []
  },
  {
   "cell_type": "code",
   "execution_count": null,
   "metadata": {},
   "outputs": [],
   "source": []
  },
  {
   "cell_type": "code",
   "execution_count": null,
   "metadata": {},
   "outputs": [],
   "source": []
  },
  {
   "cell_type": "code",
   "execution_count": null,
   "metadata": {},
   "outputs": [],
   "source": []
  },
  {
   "cell_type": "code",
   "execution_count": null,
   "metadata": {},
   "outputs": [],
   "source": []
  },
  {
   "cell_type": "code",
   "execution_count": null,
   "metadata": {},
   "outputs": [],
   "source": []
  },
  {
   "cell_type": "code",
   "execution_count": null,
   "metadata": {},
   "outputs": [],
   "source": []
  },
  {
   "cell_type": "code",
   "execution_count": null,
   "metadata": {},
   "outputs": [],
   "source": []
  },
  {
   "cell_type": "code",
   "execution_count": null,
   "metadata": {},
   "outputs": [],
   "source": []
  },
  {
   "cell_type": "code",
   "execution_count": null,
   "metadata": {},
   "outputs": [],
   "source": []
  },
  {
   "cell_type": "code",
   "execution_count": null,
   "metadata": {},
   "outputs": [],
   "source": []
  },
  {
   "cell_type": "code",
   "execution_count": null,
   "metadata": {},
   "outputs": [],
   "source": []
  },
  {
   "cell_type": "code",
   "execution_count": null,
   "metadata": {},
   "outputs": [],
   "source": []
  },
  {
   "cell_type": "code",
   "execution_count": null,
   "metadata": {},
   "outputs": [],
   "source": []
  },
  {
   "cell_type": "code",
   "execution_count": null,
   "metadata": {},
   "outputs": [],
   "source": []
  },
  {
   "cell_type": "code",
   "execution_count": null,
   "metadata": {},
   "outputs": [],
   "source": []
  },
  {
   "cell_type": "code",
   "execution_count": null,
   "metadata": {},
   "outputs": [],
   "source": []
  },
  {
   "cell_type": "code",
   "execution_count": null,
   "metadata": {},
   "outputs": [],
   "source": []
  },
  {
   "cell_type": "code",
   "execution_count": null,
   "metadata": {},
   "outputs": [],
   "source": []
  },
  {
   "cell_type": "code",
   "execution_count": null,
   "metadata": {},
   "outputs": [],
   "source": []
  },
  {
   "cell_type": "code",
   "execution_count": null,
   "metadata": {},
   "outputs": [],
   "source": []
  },
  {
   "cell_type": "code",
   "execution_count": null,
   "metadata": {},
   "outputs": [],
   "source": []
  },
  {
   "cell_type": "code",
   "execution_count": null,
   "metadata": {},
   "outputs": [],
   "source": []
  }
 ],
 "metadata": {
  "kernelspec": {
   "display_name": "Python 3",
   "language": "python",
   "name": "python3"
  },
  "language_info": {
   "codemirror_mode": {
    "name": "ipython",
    "version": 3
   },
   "file_extension": ".py",
   "mimetype": "text/x-python",
   "name": "python",
   "nbconvert_exporter": "python",
   "pygments_lexer": "ipython3",
   "version": "3.7.6"
  }
 },
 "nbformat": 4,
 "nbformat_minor": 4
}
