{
 "cells": [
  {
   "cell_type": "code",
   "execution_count": 1,
   "metadata": {},
   "outputs": [],
   "source": [
    "import pandas as pd\n",
    "import numpy as np\n",
    "import re\n",
    "import networkx as nx\n",
    "import matplotlib.pyplot as plt"
   ]
  },
  {
   "cell_type": "code",
   "execution_count": 2,
   "metadata": {},
   "outputs": [],
   "source": [
    "from collections import Counter"
   ]
  },
  {
   "cell_type": "markdown",
   "metadata": {},
   "source": [
    "## 셀린느"
   ]
  },
  {
   "cell_type": "code",
   "execution_count": 3,
   "metadata": {},
   "outputs": [],
   "source": [
    "mag_ce = pd.read_csv('./magazine/final/magazine_ce_stickword.csv', sep ='|', encoding = 'utf-8')"
   ]
  },
  {
   "cell_type": "code",
   "execution_count": 4,
   "metadata": {},
   "outputs": [
    {
     "data": {
      "text/html": [
       "<div>\n",
       "<style scoped>\n",
       "    .dataframe tbody tr th:only-of-type {\n",
       "        vertical-align: middle;\n",
       "    }\n",
       "\n",
       "    .dataframe tbody tr th {\n",
       "        vertical-align: top;\n",
       "    }\n",
       "\n",
       "    .dataframe thead th {\n",
       "        text-align: right;\n",
       "    }\n",
       "</style>\n",
       "<table border=\"1\" class=\"dataframe\">\n",
       "  <thead>\n",
       "    <tr style=\"text-align: right;\">\n",
       "      <th></th>\n",
       "      <th>magazine</th>\n",
       "      <th>brand</th>\n",
       "      <th>title</th>\n",
       "      <th>link</th>\n",
       "      <th>date</th>\n",
       "      <th>word_celine</th>\n",
       "      <th>ADFN</th>\n",
       "      <th>ADFN_2</th>\n",
       "    </tr>\n",
       "  </thead>\n",
       "  <tbody>\n",
       "    <tr>\n",
       "      <th>0</th>\n",
       "      <td>A</td>\n",
       "      <td>Ce</td>\n",
       "      <td>코트 체크</td>\n",
       "      <td>http://www.allurekorea.com/2020/11/10/%ec%bd%9...</td>\n",
       "      <td>2020-11-10</td>\n",
       "      <td>골드 잠금 장식으로 포인트를 준 케이프 체크 코트는 1백9만원, 산드로(SANDRO...</td>\n",
       "      <td>['골드', '장식', '포인트', '준', '케이프', '체크', '코트', '백...</td>\n",
       "      <td>['골드', '장식', '포인트', '준', '케이프', '체크', '코트', '백...</td>\n",
       "    </tr>\n",
       "    <tr>\n",
       "      <th>1</th>\n",
       "      <td>A</td>\n",
       "      <td>Ce</td>\n",
       "      <td>데님이여 영원하라</td>\n",
       "      <td>http://www.allurekorea.com/2020/11/06/%eb%8d%b...</td>\n",
       "      <td>2020-11-06</td>\n",
       "      <td>빈티지한 주름과 워싱이 특징인 데님 팬츠는 가격미정, CELINE(CELINE).</td>\n",
       "      <td>['빈티', '한', '주름', '워싱', '특징', '데님', '팬츠', 'CEL...</td>\n",
       "      <td>['빈티지', '한', '주름', '워싱', '특징', '데님', '팬츠', 'CE...</td>\n",
       "    </tr>\n",
       "    <tr>\n",
       "      <th>2</th>\n",
       "      <td>A</td>\n",
       "      <td>Ce</td>\n",
       "      <td>남자 백’까지 갖고 싶어</td>\n",
       "      <td>http://www.allurekorea.com/2020/11/04/%eb%82%a...</td>\n",
       "      <td>2020-11-04</td>\n",
       "      <td>1970년대 에스닉한 분위기가 물씬 풍기는 CELINE의 방패 모양 숄더백.</td>\n",
       "      <td>['대', '에스', '닉', '분위기', '물씬', 'CELINE', '방패', ...</td>\n",
       "      <td>['대', 에스닉, '분위기', '물씬', 'CELINE', '방패', '모양', ...</td>\n",
       "    </tr>\n",
       "    <tr>\n",
       "      <th>3</th>\n",
       "      <td>A</td>\n",
       "      <td>Ce</td>\n",
       "      <td>예림-예리</td>\n",
       "      <td>http://www.allurekorea.com/2020/11/03/%ec%98%8...</td>\n",
       "      <td>2020-11-03</td>\n",
       "      <td>재킷, 셔츠, 슈즈는 CELINE(CELINE), 블랙 스커트는 렉토, 이어링은 스...</td>\n",
       "      <td>['재킷', '셔츠', '슈즈', 'CELINE', 'CELINE', '블랙', '...</td>\n",
       "      <td>['재킷', '셔츠', '슈즈', 'CELINE', 'CELINE', '블랙', '...</td>\n",
       "    </tr>\n",
       "    <tr>\n",
       "      <th>4</th>\n",
       "      <td>A</td>\n",
       "      <td>Ce</td>\n",
       "      <td>GOOD TIME, 헨리</td>\n",
       "      <td>http://www.allurekorea.com/2020/10/26/good-tim...</td>\n",
       "      <td>2020-10-26</td>\n",
       "      <td>재킷, 셔츠, 네크리스는 모두 CELINE(CELINE), 팬츠는 다잉브리드, 슈즈...</td>\n",
       "      <td>['재킷', '셔츠', '크리스', 'CELINE', 'CELINE', '팬츠', ...</td>\n",
       "      <td>['재킷', '셔츠', '크리스', 'CELINE', 'CELINE', '팬츠', ...</td>\n",
       "    </tr>\n",
       "    <tr>\n",
       "      <th>...</th>\n",
       "      <td>...</td>\n",
       "      <td>...</td>\n",
       "      <td>...</td>\n",
       "      <td>...</td>\n",
       "      <td>...</td>\n",
       "      <td>...</td>\n",
       "      <td>...</td>\n",
       "      <td>...</td>\n",
       "    </tr>\n",
       "    <tr>\n",
       "      <th>759</th>\n",
       "      <td>W</td>\n",
       "      <td>Ce</td>\n",
       "      <td>G의 역습</td>\n",
       "      <td>http://www.wkorea.com/2016/11/15/g%ec%9d%98-%e...</td>\n",
       "      <td>2016-11-15</td>\n",
       "      <td>마야 셀리아 샐리(MAYA CELIA SALLY)N2017 S/S CELINE의 쇼...</td>\n",
       "      <td>['마야', '셀', '리아', 'Maya', 'Celia', 'Sally', 'S...</td>\n",
       "      <td>['마야', '셀', '리아', 'Maya', 'Celia', 'Sally', SS...</td>\n",
       "    </tr>\n",
       "    <tr>\n",
       "      <th>760</th>\n",
       "      <td>W</td>\n",
       "      <td>Ce</td>\n",
       "      <td>잊지 마 2</td>\n",
       "      <td>http://www.wkorea.com/2016/09/28/%ec%9e%8a%ec%...</td>\n",
       "      <td>2016-09-28</td>\n",
       "      <td>코리아 파워, 록(ROKH)N지난해 S/S에 파리에서 데뷔한 32세 한국 디자이너 ...</td>\n",
       "      <td>['코리아', '파워', '록', 'Rokh', '지난해', 'S', 'S', '파...</td>\n",
       "      <td>['코리아', '파워', '록', 'Rokh', '지난해', SS, '파리', '데...</td>\n",
       "    </tr>\n",
       "    <tr>\n",
       "      <th>761</th>\n",
       "      <td>W</td>\n",
       "      <td>Ce</td>\n",
       "      <td>사고 말겠어!</td>\n",
       "      <td>http://www.wkorea.com/2016/09/21/%ec%82%ac%ea%...</td>\n",
       "      <td>2016-09-21</td>\n",
       "      <td>패션 에디터 김신N가을이 다가오니 괜스레 감상적이 된다. 정제된 보헤미안 감성과 함...</td>\n",
       "      <td>['패션', '에디터', '김신', '가을', '괜스레', '감상', '정제', '...</td>\n",
       "      <td>['패션', '에디터', '김신', '가을', '괜스레', '감상', '정제', '...</td>\n",
       "    </tr>\n",
       "    <tr>\n",
       "      <th>762</th>\n",
       "      <td>W</td>\n",
       "      <td>Ce</td>\n",
       "      <td>남다르게</td>\n",
       "      <td>http://www.wkorea.com/2016/09/08/%eb%82%a8%eb%...</td>\n",
       "      <td>2016-09-08</td>\n",
       "      <td>허리에 가방N주머니인 듯 아닌 듯, 벨트인 듯 아닌 듯 허리 가방’에 새로운 생명을...</td>\n",
       "      <td>['허리', '가방', '주머니', '듯', '아닌', '듯', '벨트', '듯',...</td>\n",
       "      <td>['허리', '가방', '주머니', '듯', '아닌', '듯', '벨트', '듯',...</td>\n",
       "    </tr>\n",
       "    <tr>\n",
       "      <th>763</th>\n",
       "      <td>W</td>\n",
       "      <td>Ce</td>\n",
       "      <td>너도 나도 베트멍</td>\n",
       "      <td>http://www.wkorea.com/2016/09/01/%eb%84%88%eb%...</td>\n",
       "      <td>2016-09-01</td>\n",
       "      <td>CELINE 디옹N나이 만48세N직업 세계적인 디바N평소 스타일 얼마 전까진 클래식...</td>\n",
       "      <td>['CELINE', '디옹', '나이', '만', '세', '직업', '세계', '...</td>\n",
       "      <td>['CELINE', '디옹', '나이', '만', '세', '직업', '세계', '...</td>\n",
       "    </tr>\n",
       "  </tbody>\n",
       "</table>\n",
       "<p>764 rows × 8 columns</p>\n",
       "</div>"
      ],
      "text/plain": [
       "    magazine brand          title  \\\n",
       "0          A    Ce          코트 체크   \n",
       "1          A    Ce      데님이여 영원하라   \n",
       "2          A    Ce  남자 백’까지 갖고 싶어   \n",
       "3          A    Ce          예림-예리   \n",
       "4          A    Ce  GOOD TIME, 헨리   \n",
       "..       ...   ...            ...   \n",
       "759        W    Ce          G의 역습   \n",
       "760        W    Ce         잊지 마 2   \n",
       "761        W    Ce        사고 말겠어!   \n",
       "762        W    Ce           남다르게   \n",
       "763        W    Ce      너도 나도 베트멍   \n",
       "\n",
       "                                                  link        date  \\\n",
       "0    http://www.allurekorea.com/2020/11/10/%ec%bd%9...  2020-11-10   \n",
       "1    http://www.allurekorea.com/2020/11/06/%eb%8d%b...  2020-11-06   \n",
       "2    http://www.allurekorea.com/2020/11/04/%eb%82%a...  2020-11-04   \n",
       "3    http://www.allurekorea.com/2020/11/03/%ec%98%8...  2020-11-03   \n",
       "4    http://www.allurekorea.com/2020/10/26/good-tim...  2020-10-26   \n",
       "..                                                 ...         ...   \n",
       "759  http://www.wkorea.com/2016/11/15/g%ec%9d%98-%e...  2016-11-15   \n",
       "760  http://www.wkorea.com/2016/09/28/%ec%9e%8a%ec%...  2016-09-28   \n",
       "761  http://www.wkorea.com/2016/09/21/%ec%82%ac%ea%...  2016-09-21   \n",
       "762  http://www.wkorea.com/2016/09/08/%eb%82%a8%eb%...  2016-09-08   \n",
       "763  http://www.wkorea.com/2016/09/01/%eb%84%88%eb%...  2016-09-01   \n",
       "\n",
       "                                           word_celine  \\\n",
       "0    골드 잠금 장식으로 포인트를 준 케이프 체크 코트는 1백9만원, 산드로(SANDRO...   \n",
       "1        빈티지한 주름과 워싱이 특징인 데님 팬츠는 가격미정, CELINE(CELINE).   \n",
       "2           1970년대 에스닉한 분위기가 물씬 풍기는 CELINE의 방패 모양 숄더백.   \n",
       "3    재킷, 셔츠, 슈즈는 CELINE(CELINE), 블랙 스커트는 렉토, 이어링은 스...   \n",
       "4    재킷, 셔츠, 네크리스는 모두 CELINE(CELINE), 팬츠는 다잉브리드, 슈즈...   \n",
       "..                                                 ...   \n",
       "759  마야 셀리아 샐리(MAYA CELIA SALLY)N2017 S/S CELINE의 쇼...   \n",
       "760  코리아 파워, 록(ROKH)N지난해 S/S에 파리에서 데뷔한 32세 한국 디자이너 ...   \n",
       "761  패션 에디터 김신N가을이 다가오니 괜스레 감상적이 된다. 정제된 보헤미안 감성과 함...   \n",
       "762  허리에 가방N주머니인 듯 아닌 듯, 벨트인 듯 아닌 듯 허리 가방’에 새로운 생명을...   \n",
       "763  CELINE 디옹N나이 만48세N직업 세계적인 디바N평소 스타일 얼마 전까진 클래식...   \n",
       "\n",
       "                                                  ADFN  \\\n",
       "0    ['골드', '장식', '포인트', '준', '케이프', '체크', '코트', '백...   \n",
       "1    ['빈티', '한', '주름', '워싱', '특징', '데님', '팬츠', 'CEL...   \n",
       "2    ['대', '에스', '닉', '분위기', '물씬', 'CELINE', '방패', ...   \n",
       "3    ['재킷', '셔츠', '슈즈', 'CELINE', 'CELINE', '블랙', '...   \n",
       "4    ['재킷', '셔츠', '크리스', 'CELINE', 'CELINE', '팬츠', ...   \n",
       "..                                                 ...   \n",
       "759  ['마야', '셀', '리아', 'Maya', 'Celia', 'Sally', 'S...   \n",
       "760  ['코리아', '파워', '록', 'Rokh', '지난해', 'S', 'S', '파...   \n",
       "761  ['패션', '에디터', '김신', '가을', '괜스레', '감상', '정제', '...   \n",
       "762  ['허리', '가방', '주머니', '듯', '아닌', '듯', '벨트', '듯',...   \n",
       "763  ['CELINE', '디옹', '나이', '만', '세', '직업', '세계', '...   \n",
       "\n",
       "                                                ADFN_2  \n",
       "0    ['골드', '장식', '포인트', '준', '케이프', '체크', '코트', '백...  \n",
       "1    ['빈티지', '한', '주름', '워싱', '특징', '데님', '팬츠', 'CE...  \n",
       "2    ['대', 에스닉, '분위기', '물씬', 'CELINE', '방패', '모양', ...  \n",
       "3    ['재킷', '셔츠', '슈즈', 'CELINE', 'CELINE', '블랙', '...  \n",
       "4    ['재킷', '셔츠', '크리스', 'CELINE', 'CELINE', '팬츠', ...  \n",
       "..                                                 ...  \n",
       "759  ['마야', '셀', '리아', 'Maya', 'Celia', 'Sally', SS...  \n",
       "760  ['코리아', '파워', '록', 'Rokh', '지난해', SS, '파리', '데...  \n",
       "761  ['패션', '에디터', '김신', '가을', '괜스레', '감상', '정제', '...  \n",
       "762  ['허리', '가방', '주머니', '듯', '아닌', '듯', '벨트', '듯',...  \n",
       "763  ['CELINE', '디옹', '나이', '만', '세', '직업', '세계', '...  \n",
       "\n",
       "[764 rows x 8 columns]"
      ]
     },
     "execution_count": 4,
     "metadata": {},
     "output_type": "execute_result"
    }
   ],
   "source": [
    "mag_ce"
   ]
  },
  {
   "cell_type": "code",
   "execution_count": 5,
   "metadata": {},
   "outputs": [],
   "source": [
    "mag_ce['word'] = mag_ce['word_celine']"
   ]
  },
  {
   "cell_type": "code",
   "execution_count": 6,
   "metadata": {},
   "outputs": [],
   "source": [
    "mag_CE = mag_ce[['magazine', 'brand', 'title', 'word', 'ADFN', 'ADFN_2']]"
   ]
  },
  {
   "cell_type": "code",
   "execution_count": 15,
   "metadata": {},
   "outputs": [
    {
     "data": {
      "text/plain": [
       "764"
      ]
     },
     "execution_count": 15,
     "metadata": {},
     "output_type": "execute_result"
    }
   ],
   "source": [
    "len(mag_CE)"
   ]
  },
  {
   "cell_type": "markdown",
   "metadata": {},
   "source": [
    "## 제니"
   ]
  },
  {
   "cell_type": "markdown",
   "metadata": {},
   "source": [
    "### 제니 (유튜브 + 매거진)"
   ]
  },
  {
   "cell_type": "code",
   "execution_count": 7,
   "metadata": {},
   "outputs": [],
   "source": [
    "tot_li = pd.read_csv('./magazine/final/video_lisa_adfn_2.csv', encoding = 'utf-8', sep = '|')"
   ]
  },
  {
   "cell_type": "code",
   "execution_count": 8,
   "metadata": {},
   "outputs": [],
   "source": [
    "tot_li['word'] = tot_li['word_lisa']"
   ]
  },
  {
   "cell_type": "code",
   "execution_count": 9,
   "metadata": {},
   "outputs": [],
   "source": [
    "tot_L = tot_li[['magazine', 'brand', 'title', 'word', 'ADFN', 'ADFN_2']]"
   ]
  },
  {
   "cell_type": "code",
   "execution_count": 10,
   "metadata": {},
   "outputs": [
    {
     "data": {
      "text/plain": [
       "197"
      ]
     },
     "execution_count": 10,
     "metadata": {},
     "output_type": "execute_result"
    }
   ],
   "source": [
    "len(tot_L)"
   ]
  },
  {
   "cell_type": "markdown",
   "metadata": {},
   "source": [
    "### 셀린느 + 제니"
   ]
  },
  {
   "cell_type": "code",
   "execution_count": 11,
   "metadata": {},
   "outputs": [],
   "source": [
    "CEL = pd.concat([mag_CE, tot_L])"
   ]
  },
  {
   "cell_type": "code",
   "execution_count": 12,
   "metadata": {},
   "outputs": [],
   "source": [
    "CEL.reset_index(drop = True, inplace = True)"
   ]
  },
  {
   "cell_type": "code",
   "execution_count": 13,
   "metadata": {},
   "outputs": [],
   "source": [
    "CEL.to_csv('./magazine/final/CEL.csv', sep = '|', encoding = 'utf-8', index = False)"
   ]
  },
  {
   "cell_type": "code",
   "execution_count": 14,
   "metadata": {},
   "outputs": [
    {
     "data": {
      "text/plain": [
       "961"
      ]
     },
     "execution_count": 14,
     "metadata": {},
     "output_type": "execute_result"
    }
   ],
   "source": [
    "len(CEL)"
   ]
  },
  {
   "cell_type": "markdown",
   "metadata": {},
   "source": [
    "## stopword 추가"
   ]
  },
  {
   "cell_type": "code",
   "execution_count": 16,
   "metadata": {},
   "outputs": [],
   "source": [
    "sw_df = pd.read_csv('stopwords.csv', header=None)"
   ]
  },
  {
   "cell_type": "code",
   "execution_count": 17,
   "metadata": {},
   "outputs": [],
   "source": [
    "sw_df.columns = ['stopword']"
   ]
  },
  {
   "cell_type": "code",
   "execution_count": 18,
   "metadata": {},
   "outputs": [],
   "source": [
    "stop_words = []\n",
    "for sw in sw_df['stopword']:\n",
    "    stop_words.append(sw)"
   ]
  },
  {
   "cell_type": "code",
   "execution_count": 19,
   "metadata": {},
   "outputs": [
    {
     "name": "stdout",
     "output_type": "stream",
     "text": [
      "675\n",
      "<class 'list'>\n"
     ]
    }
   ],
   "source": [
    "print(len(stop_words))\n",
    "print(type(stop_words))"
   ]
  },
  {
   "cell_type": "code",
   "execution_count": 20,
   "metadata": {},
   "outputs": [
    {
     "data": {
      "text/plain": [
       "['둘', '셋', '넷', '다섯', '여섯', '일곱', '여덟', '아홉', '령', '영']"
      ]
     },
     "execution_count": 20,
     "metadata": {},
     "output_type": "execute_result"
    }
   ],
   "source": [
    "stop_words[-10:]"
   ]
  },
  {
   "cell_type": "code",
   "execution_count": 21,
   "metadata": {},
   "outputs": [],
   "source": [
    "add_0 = ['해', '하는', '할', '한', '영상', '했다', '뭐', '넘', '수', '정말', '그냥', '보고', '있는',\n",
    "         '전소민', '공유', '양세찬', '항상', '다시', '통해', '한편', 'a', '공개', '자체', '형', '와중', '↑', '걸',\n",
    "         '있습니다', 'to', '아닌데', '있는데', '보기', '하다', '곤', '없어', '대한', '싶다', '명', '민','the',\n",
    "         '보니', '아는', '전', '진짜', '멤버', '잘', '모습', '발음', '제일', '기자', '데뷔', '아는', '택시', \n",
    "         '활동', '썸네일', '나도', '가사', '하네요', '길다', '보이는', '까', '없는데', '몰랐는데', '대해', \n",
    "         '보인다', '위해', '로서', '이수근', '보여', '있으면', '보다', '같네', '하자', '최수영', 'that', \n",
    "         '하며', '세찬', '않고', '됨', '오는', '사이', '아주', '진행', '채', '이자',\n",
    "        '진짜', '존나', '보고', '그냥', '카이', '이광수', '광수', '런닝맨', '❤️', '없는', '유재석', '❤', '♥', '있고', '거', \n",
    "         '내', '더', '개', '사람', '영상', '광고', '언니', '말', '뭐', '수', '생각',\n",
    "        '있는', '정말', '같은', '같음', '듯', '♡', '완전', '같아', '정도', '지금', '역시', '뭔가', '입니다', '때문', '아니라',\n",
    "         '함', '같은데', '해', '하는', '할', '넘', '한', '안', '했다', '보면', '데', '하고', '하면', '게', '해서', '봐도', \n",
    "         '한다', '된', '건', '요', '움', '임', '애', '하는거', '해도', '보는', '이제', '했는데', '하는데', '하는게', '같아요', \n",
    "         '합니다', '하지', '하게', '되는', 'I', '는', '난', '서', '도', '줄', '위', '분', '알', '은', '두', '번', '뒤',\n",
    "         '이건', '없다', '있어요', '아니고', '있어',\n",
    "        '계속', '원래', '뭘', '못', '후', '이름', '속', '욕', '옆', '하네', '아님', '그런', '된다', '있음',\n",
    "        '같', '돼', 'you', '제품', '표현', 'n', '봤는데', '건가', '나오는', '가지', '저런', '보이', '고',\n",
    "        '중', '사진', '댓글', '부분', '진심', '그녀', '보', '날', '겁나', '요즘', '앞', '워', '이유', '솔직히']\n",
    "for w in add_0:\n",
    "    stop_words.append(w)"
   ]
  },
  {
   "cell_type": "code",
   "execution_count": 22,
   "metadata": {},
   "outputs": [],
   "source": [
    "add_1 = ['BLACKPINK', '제니', '지수', '로제']\n",
    "for w in add_1:\n",
    "    stop_words.append(w)"
   ]
  },
  {
   "cell_type": "code",
   "execution_count": 23,
   "metadata": {},
   "outputs": [
    {
     "data": {
      "text/plain": [
       "899"
      ]
     },
     "execution_count": 23,
     "metadata": {},
     "output_type": "execute_result"
    }
   ],
   "source": [
    "len(stop_words)"
   ]
  },
  {
   "cell_type": "code",
   "execution_count": null,
   "metadata": {},
   "outputs": [],
   "source": []
  },
  {
   "cell_type": "code",
   "execution_count": 24,
   "metadata": {},
   "outputs": [],
   "source": [
    "CEL['ADFN_2'] = CEL['ADFN_2'].str.replace('[', '').str.replace(']', '').str.replace('\"', '').str.replace(\"'\", \"\").str.split(', ')"
   ]
  },
  {
   "cell_type": "code",
   "execution_count": 25,
   "metadata": {},
   "outputs": [],
   "source": [
    "noun_adj_list = []\n",
    "for i in range(len(CEL)):\n",
    "    for word in CEL.loc[i, 'ADFN_2']:\n",
    "        if word not in stop_words:\n",
    "            noun_adj_list.append(word)"
   ]
  },
  {
   "cell_type": "code",
   "execution_count": 26,
   "metadata": {},
   "outputs": [
    {
     "name": "stdout",
     "output_type": "stream",
     "text": [
      "[('리사', 3617), ('CELINE', 1809), ('예쁘다', 678), ('컬렉션', 605), ('패션', 574), ('브랜드', 572), ('귀엽다', 543), ('SLIMANE', 541), ('HEDI', 535), ('춤', 482), ('룩', 430), ('사랑', 393), ('시즌', 375), ('컬러', 372), ('디자이너', 364), ('스타일', 360), ('백', 331), ('여성', 308), ('가장', 301), ('쇼', 297), ('드레스', 292), ('한국', 287), ('매력', 284), ('랩', 283), ('남성', 272), ('팬츠', 263), ('디자인', 263), ('재킷', 260), ('장식', 250), ('영어', 249), ('지난', 248), ('옷', 244), ('블랙', 232), ('아이템', 232), ('PHILO', 232), ('파리', 232), ('모델', 232), ('얼굴', 229), ('노래', 228), ('디렉터', 225), ('무대', 225), ('매치', 224), ('PHOEBE', 224), ('코트', 221), ('새로운', 218), ('대', 216), ('LAURENT', 194), ('SAINT', 192), ('느낌', 191), ('첫', 184), ('아이돌', 182), ('눈', 181), ('복', 176), ('봄', 174), ('소재', 173), ('태국', 170), ('시작', 167), ('중국', 165), ('스커트', 162), ('그룹', 160), ('한국어', 156), ('셔츠', 154), ('DIOR', 152), ('한국인', 151), ('크리에이티브', 150), ('팬', 150), ('여자', 146), ('표정', 146), ('로고', 145), ('세계', 143), ('가죽', 143), ('연출', 143), ('부츠', 142), ('완성', 141), ('여름', 140), ('머리', 139), ('다양한', 139), ('트렌드', 138), ('비율', 136), ('영국', 136), ('모든', 135), ('데님', 134), ('클래식', 134), ('실루엣', 134), ('라인', 133), ('런웨이', 133), ('버버리', 132), ('시대', 129), ('실력', 129), ('멋있다', 129), ('LVMH', 128), ('CHANEL', 128), ('화이트', 126), ('프라다', 125), ('최근', 124), ('최고', 123), ('스타일링', 120), ('많은', 119), ('포인트', 118), ('가방', 118), ('인기', 118), ('외국인', 118), ('좋은', 117), ('분위기', 115), ('럭셔리', 113), ('처음', 111), ('무드', 109), ('패턴', 108), ('매장', 108), ('사이즈', 107), ('영감', 106), ('선택', 106), ('세', 104), ('스타', 104), ('링', 103), ('프린트', 102), ('이미지', 100), ('패션계', 99), ('구찌', 98), ('미니', 98), ('액세서리', 97), ('리', 96), ('대표', 96), ('수트', 96), ('감', 95), ('톱', 94), ('변화', 94), ('캠페인', 93), ('슈즈', 92), ('패션쇼', 92), ('발렌시아', 91), ('에디', 91), ('점', 90), ('하우스', 90), ('영화', 90), ('FW', 90), ('호랑이', 90), ('재', 89), ('프로', 89), ('연습생', 88), ('바이', 87), ('니트', 86), ('지방시', 86), ('존재', 86), ('가을', 86), ('패션위크', 86), ('시절', 84), ('시크', 84), ('스', 84), ('SS', 84), ('좋다', 84), ('활용', 83), ('레드', 83), ('반', 83), ('피스', 82), ('촬영', 82), ('있을', 81), ('볼', 81), ('다리', 81), ('동시', 81), ('예능', 81), ('미국', 81), ('슈트', 80), ('베스트', 80), ('프랑스', 80), ('바', 80), ('런던', 80), ('마음', 79), ('살', 79), ('성복', 79), ('손', 78), ('키', 78), ('참석', 78), ('스니커즈', 78), ('뉴욕', 77), ('온', 77), ('겨울', 76), ('마지막', 76), ('앞머리', 76), ('노력', 76), ('빈티지', 74), ('오버', 74), ('배', 74), ('남자', 74), ('현재', 74), ('단발', 74), ('골드', 73), ('사용', 73), ('티셔츠', 73), ('벨트', 72), ('예정', 72), ('음악', 72), ('인형', 71), ('드', 71), ('화보', 71), ('터', 71), ('세상', 71), ('by', 70), ('옴므', 70), ('해외', 70)]\n"
     ]
    }
   ],
   "source": [
    "word = Counter(noun_adj_list)\n",
    "print(word.most_common(200))"
   ]
  },
  {
   "cell_type": "code",
   "execution_count": 27,
   "metadata": {},
   "outputs": [],
   "source": [
    "count = Counter(noun_adj_list)"
   ]
  },
  {
   "cell_type": "code",
   "execution_count": 28,
   "metadata": {},
   "outputs": [
    {
     "name": "stdout",
     "output_type": "stream",
     "text": [
      "('리사', 3617)\n",
      "('CELINE', 1809)\n",
      "('예쁘다', 678)\n",
      "('컬렉션', 605)\n",
      "('패션', 574)\n",
      "('브랜드', 572)\n",
      "('귀엽다', 543)\n",
      "('SLIMANE', 541)\n",
      "('HEDI', 535)\n",
      "('춤', 482)\n",
      "('룩', 430)\n",
      "('사랑', 393)\n",
      "('시즌', 375)\n",
      "('컬러', 372)\n",
      "('디자이너', 364)\n",
      "('스타일', 360)\n",
      "('백', 331)\n",
      "('여성', 308)\n",
      "('가장', 301)\n",
      "('쇼', 297)\n",
      "('드레스', 292)\n",
      "('한국', 287)\n",
      "('매력', 284)\n",
      "('랩', 283)\n",
      "('남성', 272)\n",
      "('팬츠', 263)\n",
      "('디자인', 263)\n",
      "('재킷', 260)\n",
      "('장식', 250)\n",
      "('영어', 249)\n",
      "('지난', 248)\n",
      "('옷', 244)\n",
      "('블랙', 232)\n",
      "('아이템', 232)\n",
      "('PHILO', 232)\n",
      "('파리', 232)\n",
      "('모델', 232)\n",
      "('얼굴', 229)\n",
      "('노래', 228)\n",
      "('디렉터', 225)\n",
      "('무대', 225)\n",
      "('매치', 224)\n",
      "('PHOEBE', 224)\n",
      "('코트', 221)\n",
      "('새로운', 218)\n",
      "('대', 216)\n",
      "('LAURENT', 194)\n",
      "('SAINT', 192)\n",
      "('느낌', 191)\n",
      "('첫', 184)\n",
      "('아이돌', 182)\n",
      "('눈', 181)\n",
      "('복', 176)\n",
      "('봄', 174)\n",
      "('소재', 173)\n",
      "('태국', 170)\n",
      "('시작', 167)\n",
      "('중국', 165)\n",
      "('스커트', 162)\n",
      "('그룹', 160)\n",
      "('한국어', 156)\n",
      "('셔츠', 154)\n",
      "('DIOR', 152)\n",
      "('한국인', 151)\n",
      "('크리에이티브', 150)\n",
      "('팬', 150)\n",
      "('여자', 146)\n",
      "('표정', 146)\n",
      "('로고', 145)\n",
      "('세계', 143)\n",
      "('가죽', 143)\n",
      "('연출', 143)\n",
      "('부츠', 142)\n",
      "('완성', 141)\n",
      "('여름', 140)\n",
      "('머리', 139)\n",
      "('다양한', 139)\n",
      "('트렌드', 138)\n",
      "('비율', 136)\n",
      "('영국', 136)\n",
      "('모든', 135)\n",
      "('데님', 134)\n",
      "('클래식', 134)\n",
      "('실루엣', 134)\n",
      "('라인', 133)\n",
      "('런웨이', 133)\n",
      "('버버리', 132)\n",
      "('시대', 129)\n",
      "('실력', 129)\n",
      "('멋있다', 129)\n",
      "('LVMH', 128)\n",
      "('CHANEL', 128)\n",
      "('화이트', 126)\n",
      "('프라다', 125)\n",
      "('최근', 124)\n",
      "('최고', 123)\n",
      "('스타일링', 120)\n",
      "('많은', 119)\n",
      "('포인트', 118)\n",
      "('가방', 118)\n",
      "('인기', 118)\n",
      "('외국인', 118)\n",
      "('좋은', 117)\n",
      "('분위기', 115)\n",
      "('럭셔리', 113)\n",
      "('처음', 111)\n",
      "('무드', 109)\n",
      "('패턴', 108)\n",
      "('매장', 108)\n",
      "('사이즈', 107)\n",
      "('영감', 106)\n",
      "('선택', 106)\n",
      "('세', 104)\n",
      "('스타', 104)\n",
      "('링', 103)\n",
      "('프린트', 102)\n",
      "('이미지', 100)\n",
      "('패션계', 99)\n",
      "('구찌', 98)\n",
      "('미니', 98)\n",
      "('액세서리', 97)\n",
      "('리', 96)\n",
      "('대표', 96)\n",
      "('수트', 96)\n",
      "('감', 95)\n",
      "('톱', 94)\n",
      "('변화', 94)\n",
      "('캠페인', 93)\n",
      "('슈즈', 92)\n",
      "('패션쇼', 92)\n",
      "('발렌시아', 91)\n",
      "('에디', 91)\n",
      "('점', 90)\n",
      "('하우스', 90)\n",
      "('영화', 90)\n",
      "('FW', 90)\n",
      "('호랑이', 90)\n",
      "('재', 89)\n",
      "('프로', 89)\n",
      "('연습생', 88)\n",
      "('바이', 87)\n",
      "('니트', 86)\n",
      "('지방시', 86)\n",
      "('존재', 86)\n",
      "('가을', 86)\n",
      "('패션위크', 86)\n",
      "('시절', 84)\n",
      "('시크', 84)\n",
      "('스', 84)\n",
      "('SS', 84)\n",
      "('좋다', 84)\n",
      "('활용', 83)\n",
      "('레드', 83)\n",
      "('반', 83)\n",
      "('피스', 82)\n",
      "('촬영', 82)\n",
      "('있을', 81)\n",
      "('볼', 81)\n",
      "('다리', 81)\n",
      "('동시', 81)\n",
      "('예능', 81)\n",
      "('미국', 81)\n",
      "('슈트', 80)\n",
      "('베스트', 80)\n",
      "('프랑스', 80)\n",
      "('바', 80)\n",
      "('런던', 80)\n",
      "('마음', 79)\n",
      "('살', 79)\n",
      "('성복', 79)\n",
      "('손', 78)\n",
      "('키', 78)\n",
      "('참석', 78)\n",
      "('스니커즈', 78)\n",
      "('뉴욕', 77)\n",
      "('온', 77)\n",
      "('겨울', 76)\n",
      "('마지막', 76)\n",
      "('앞머리', 76)\n",
      "('노력', 76)\n",
      "('빈티지', 74)\n",
      "('오버', 74)\n",
      "('배', 74)\n",
      "('남자', 74)\n",
      "('현재', 74)\n",
      "('단발', 74)\n",
      "('골드', 73)\n",
      "('사용', 73)\n",
      "('티셔츠', 73)\n",
      "('벨트', 72)\n",
      "('예정', 72)\n",
      "('음악', 72)\n",
      "('인형', 71)\n",
      "('드', 71)\n",
      "('화보', 71)\n",
      "('터', 71)\n",
      "('세상', 71)\n",
      "('by', 70)\n",
      "('옴므', 70)\n",
      "('해외', 70)\n",
      "('더욱', 69)\n",
      "('스트리트', 69)\n",
      "('감각', 69)\n",
      "('트', 69)\n",
      "('외국', 69)\n",
      "('선글라스', 68)\n",
      "('인스타그램', 68)\n",
      "('걸그룹', 68)\n",
      "('자리', 67)\n",
      "('몸', 67)\n",
      "('기억', 67)\n",
      "('아닌', 67)\n",
      "('있었다', 67)\n",
      "('이후', 67)\n",
      "('매출', 67)\n",
      "('카리스마', 67)\n",
      "('태국인', 67)\n",
      "('톤', 66)\n",
      "('매우', 66)\n",
      "('케이프', 65)\n",
      "('리스트', 65)\n",
      "('만', 65)\n",
      "('길이', 65)\n",
      "('힘', 65)\n",
      "('비', 64)\n",
      "('공식', 64)\n",
      "('유행', 64)\n",
      "('컴백', 64)\n",
      "('롱', 64)\n",
      "('문화', 64)\n",
      "('좋아하는', 63)\n",
      "('의상', 63)\n",
      "('메이크업', 63)\n",
      "('에디터', 62)\n",
      "('트렌치코트', 62)\n",
      "('특유', 62)\n",
      "('시선', 62)\n",
      "('핑크', 62)\n",
      "('시도', 62)\n",
      "('적', 62)\n",
      "('개인', 62)\n",
      "('인', 62)\n",
      "('파워', 62)\n",
      "('향수', 62)\n",
      "('팀', 62)\n",
      "('YG', 62)\n",
      "('세대', 61)\n",
      "('발표', 61)\n",
      "('어깨', 61)\n",
      "('앤', 61)\n",
      "('막', 61)\n",
      "('짱', 61)\n",
      "('대박', 61)\n",
      "('체크', 60)\n",
      "('순간', 59)\n",
      "('집', 59)\n",
      "('리본', 59)\n",
      "('노', 59)\n",
      "('강렬한', 59)\n",
      "('A', 59)\n",
      "('쌤', 59)\n",
      "('하이', 58)\n",
      "('블라우스', 58)\n",
      "('메인', 58)\n",
      "('선생님', 58)\n",
      "('티', 58)\n",
      "('한국말', 58)\n",
      "('명품', 57)\n",
      "('원피스', 57)\n",
      "('헤어', 57)\n",
      "('방식', 57)\n",
      "('성격', 56)\n",
      "('이야기', 56)\n",
      "('아티스트', 56)\n",
      "('직접', 56)\n",
      "('집중', 56)\n",
      "('끝', 56)\n",
      "('출신', 56)\n",
      "('작업', 56)\n",
      "('간지', 56)\n",
      "('만큼', 55)\n",
      "('새', 55)\n",
      "('목소리', 55)\n",
      "('뿐', 55)\n",
      "('좋아요', 55)\n",
      "('친구', 54)\n",
      "('차', 54)\n",
      "('형태', 54)\n",
      "('끌로', 54)\n",
      "('피비', 54)\n",
      "('완벽한', 54)\n",
      "('조합', 54)\n",
      "('일본', 54)\n",
      "('곳', 53)\n",
      "('마이클', 53)\n",
      "('지난해', 53)\n",
      "('우리나라', 53)\n",
      "('강조', 52)\n",
      "('발', 52)\n",
      "('무늬', 52)\n",
      "('화려한', 52)\n",
      "('거리', 52)\n",
      "('올해', 52)\n",
      "('미쳤다', 52)\n",
      "('관심', 51)\n",
      "('베', 51)\n",
      "('법', 51)\n",
      "('꽃', 51)\n",
      "('그대로', 51)\n",
      "('메종', 51)\n",
      "('쇼핑', 51)\n",
      "('오늘', 51)\n",
      "('화장', 51)\n",
      "('일이', 50)\n",
      "('스카프', 50)\n",
      "('의미', 50)\n",
      "('꼭', 50)\n",
      "('평소', 50)\n",
      "('우아한', 50)\n",
      "('이전', 50)\n",
      "('기존', 50)\n",
      "('연습', 50)\n",
      "('루이', 49)\n",
      "('과감', 49)\n",
      "('모던', 49)\n",
      "('감성', 49)\n",
      "('젠', 49)\n",
      "('착용', 49)\n",
      "('한번', 49)\n",
      "('제작', 49)\n",
      "('탑', 49)\n",
      "('효과', 48)\n",
      "('스키', 48)\n",
      "('캐', 48)\n",
      "('체인', 48)\n",
      "('프로그램', 48)\n",
      "('라면', 48)\n",
      "('작은', 48)\n",
      "('엄마', 48)\n",
      "('〉', 48)\n",
      "('서로', 48)\n",
      "('콘서트', 48)\n",
      "('발렌티노', 47)\n",
      "('얘기', 47)\n",
      "('해석', 47)\n",
      "('새롭게', 47)\n",
      "('취향', 47)\n",
      "('록', 47)\n",
      "('마무리', 47)\n",
      "('〈', 47)\n",
      "('부', 47)\n",
      "('곡', 47)\n",
      "('방송', 47)\n",
      "('아티스', 47)\n",
      "('가수', 47)\n",
      "('춤선', 47)\n",
      "('판매', 46)\n",
      "('웨어', 46)\n",
      "('코', 46)\n",
      "('자연', 46)\n",
      "('인상', 46)\n",
      "('스텔라', 46)\n",
      "('향', 46)\n",
      "('아니다', 46)\n",
      "('여러', 46)\n",
      "('언어', 46)\n",
      "('별', 46)\n",
      "('나라', 46)\n",
      "('댄스', 46)\n",
      "('펜디', 45)\n",
      "('진', 45)\n",
      "('실용', 45)\n",
      "('피', 45)\n",
      "('자랑', 45)\n",
      "('빅', 45)\n",
      "('개멋', 45)\n",
      "('멋있어', 45)\n",
      "('늘', 44)\n",
      "('에르메스', 44)\n",
      "('프린지', 44)\n",
      "('시장', 44)\n",
      "('일상', 44)\n",
      "('핸드백', 44)\n",
      "('카트', 44)\n",
      "('반응', 44)\n",
      "('아래', 44)\n",
      "('층', 44)\n",
      "('성공', 44)\n",
      "('확실히', 44)\n",
      "('태국어', 44)\n",
      "('디테일', 43)\n",
      "('선', 43)\n",
      "('영향', 43)\n",
      "('있으며', 43)\n",
      "('멋', 43)\n",
      "('경험', 43)\n",
      "('요소', 43)\n",
      "('처럼', 43)\n",
      "('글', 43)\n",
      "('리카르도', 43)\n",
      "('티시', 43)\n",
      "('기분', 43)\n",
      "('나나', 43)\n",
      "('댄서', 43)\n",
      "('루이비통', 43)\n",
      "('젤', 43)\n",
      "('사기', 43)\n",
      "('비통', 42)\n",
      "('허리', 42)\n",
      "('라이브', 42)\n",
      "('높은', 42)\n",
      "('먼저', 42)\n",
      "('기대', 42)\n",
      "('음', 42)\n",
      "('빛', 42)\n",
      "('전체', 42)\n",
      "('앨범', 42)\n",
      "('소화', 42)\n",
      "('제목', 42)\n",
      "('연상', 42)\n",
      "('카메라', 42)\n",
      "('중국어', 42)\n",
      "('있다는', 41)\n",
      "('결과', 41)\n",
      "('네타', 41)\n",
      "('오픈', 41)\n",
      "('세련된', 41)\n",
      "('눈길', 41)\n",
      "('방법', 41)\n",
      "('선정', 41)\n",
      "('실크', 41)\n",
      "('믹스', 41)\n",
      "('없을', 41)\n",
      "('비롯', 41)\n",
      "('달', 41)\n",
      "('화제', 41)\n",
      "('배우', 41)\n",
      "('글로벌', 41)\n",
      "('아이콘', 41)\n",
      "('국내', 41)\n",
      "('상품', 41)\n",
      "('미친', 41)\n",
      "('특징', 40)\n",
      "('모양', 40)\n",
      "('중요한', 40)\n",
      "('독특한', 40)\n",
      "('리스', 40)\n",
      "('올드', 40)\n",
      "('버전', 40)\n",
      "('세인트', 40)\n",
      "('뷰티', 40)\n",
      "('초', 40)\n",
      "('누가', 40)\n",
      "('수준', 40)\n",
      "('레전드', 40)\n",
      "('회수', 40)\n",
      "('미우미우', 39)\n",
      "('있게', 39)\n",
      "('샌들', 39)\n",
      "('블루', 39)\n",
      "('참고', 39)\n",
      "('짧은', 39)\n",
      "('고객', 39)\n",
      "('테일러', 39)\n",
      "('피부', 39)\n",
      "('기간', 39)\n",
      "('of', 39)\n",
      "('돈', 39)\n",
      "('스토어', 39)\n",
      "('찰떡', 39)\n",
      "('좋겠다', 39)\n",
      "('제발', 39)\n",
      "('형님', 39)\n",
      "('플랫폼', 38)\n",
      "('스트라이프', 38)\n",
      "('레더', 38)\n",
      "('로에베', 38)\n",
      "('커다란', 38)\n",
      "('프레', 38)\n",
      "('상징', 38)\n",
      "('힐', 38)\n",
      "('수많은', 38)\n",
      "('실제', 38)\n",
      "('제대로', 38)\n",
      "('소녀', 38)\n",
      "('비주얼', 38)\n",
      "('출시', 38)\n",
      "('웃기', 38)\n",
      "('일부', 37)\n",
      "('터틀넥', 37)\n",
      "('미', 37)\n",
      "('마르지', 37)\n",
      "('엘라', 37)\n",
      "('땐', 37)\n",
      "('대신', 37)\n",
      "('남', 37)\n",
      "('런웨', 37)\n",
      "('소개', 37)\n",
      "('간', 37)\n",
      "('주얼리', 37)\n"
     ]
    }
   ],
   "source": [
    "word_list = count.most_common(500)\n",
    "for v in word_list:\n",
    "    print(v)"
   ]
  },
  {
   "cell_type": "code",
   "execution_count": 29,
   "metadata": {},
   "outputs": [],
   "source": [
    "top500 = pd.DataFrame(word_list)"
   ]
  },
  {
   "cell_type": "code",
   "execution_count": 30,
   "metadata": {},
   "outputs": [],
   "source": [
    "top500.columns = ['word', 'count']"
   ]
  },
  {
   "cell_type": "code",
   "execution_count": 31,
   "metadata": {},
   "outputs": [],
   "source": [
    "top500.to_csv('./CEL_top500.csv', sep='|', encoding = 'utf-8', index = False)"
   ]
  },
  {
   "cell_type": "markdown",
   "metadata": {},
   "source": [
    "## 워드클라우드 만들기"
   ]
  },
  {
   "cell_type": "code",
   "execution_count": 32,
   "metadata": {},
   "outputs": [],
   "source": [
    "import matplotlib.pyplot as plt"
   ]
  },
  {
   "cell_type": "code",
   "execution_count": 33,
   "metadata": {},
   "outputs": [
    {
     "name": "stdout",
     "output_type": "stream",
     "text": [
      "Malgun Gothic C:\\WINDOWS\\Fonts\\malgun.ttf\n",
      "Yu Gothic C:\\WINDOWS\\Fonts\\YuGothB.ttc\n",
      "HYGothic-Extra C:\\WINDOWS\\Fonts\\H2GTRE.TTF\n",
      "Franklin Gothic Medium C:\\WINDOWS\\Fonts\\framdit.ttf\n",
      "Malgun Gothic C:\\Windows\\Fonts\\malgunbd.ttf\n",
      "Yu Gothic C:\\Windows\\Fonts\\YuGothL.ttc\n",
      "Century Gothic C:\\Windows\\Fonts\\GOTHIC.TTF\n",
      "Yu Gothic C:\\Windows\\Fonts\\YuGothM.ttc\n",
      "Yu Gothic C:\\WINDOWS\\Fonts\\YuGothR.ttc\n",
      "MS Gothic C:\\WINDOWS\\Fonts\\msgothic.ttc\n",
      "HYGothic-Medium C:\\WINDOWS\\Fonts\\H2GTRM.TTF\n",
      "Malgun Gothic C:\\WINDOWS\\Fonts\\malgunsl.ttf\n",
      "Century Gothic C:\\Windows\\Fonts\\GOTHICI.TTF\n",
      "Century Gothic C:\\WINDOWS\\Fonts\\GOTHICBI.TTF\n",
      "Century Gothic C:\\Windows\\Fonts\\GOTHICB.TTF\n",
      "Franklin Gothic Medium C:\\WINDOWS\\Fonts\\framd.ttf\n"
     ]
    }
   ],
   "source": [
    "import matplotlib.font_manager as fm\n",
    "\n",
    "# 이용 가능한 폰트 중 '고딕'만 선별\n",
    "for font in fm.fontManager.ttflist:\n",
    "    if 'Gothic' in font.name:\n",
    "        print(font.name, font.fname)"
   ]
  },
  {
   "cell_type": "code",
   "execution_count": 34,
   "metadata": {},
   "outputs": [],
   "source": [
    "font_path = 'C:\\WINDOWS\\Fonts\\malgun.ttf'"
   ]
  },
  {
   "cell_type": "markdown",
   "metadata": {},
   "source": [
    "### 워드클라우드 그리기"
   ]
  },
  {
   "cell_type": "code",
   "execution_count": 35,
   "metadata": {},
   "outputs": [],
   "source": [
    "from wordcloud import WordCloud"
   ]
  },
  {
   "cell_type": "code",
   "execution_count": 36,
   "metadata": {},
   "outputs": [],
   "source": [
    "wc = WordCloud(font_path=font_path, background_color=\"white\", width=600, height=400)"
   ]
  },
  {
   "cell_type": "code",
   "execution_count": 37,
   "metadata": {},
   "outputs": [
    {
     "data": {
      "image/png": "[encoded data removed]",
      "text/plain": [
       "<Figure size 432x288 with 1 Axes>"
      ]
     },
     "metadata": {
      "needs_background": "light"
     },
     "output_type": "display_data"
    },
    {
     "data": {
      "text/plain": [
       "<wordcloud.wordcloud.WordCloud at 0x21fb51757c8>"
      ]
     },
     "execution_count": 37,
     "metadata": {},
     "output_type": "execute_result"
    }
   ],
   "source": [
    "wc.generate_from_frequencies(dict(word_list))\n",
    "\n",
    "plt.imshow(wc) \n",
    "plt.axis('off') \n",
    "plt.show()\n",
    "\n",
    "\n",
    "wc.to_file('CEL.png')"
   ]
  },
  {
   "cell_type": "code",
   "execution_count": 38,
   "metadata": {},
   "outputs": [],
   "source": [
    "CEL.to_csv('./magazine/final/CEL_adfn_2.csv', sep='|', encoding = 'utf-8', index = False)"
   ]
  },
  {
   "cell_type": "code",
   "execution_count": null,
   "metadata": {},
   "outputs": [],
   "source": []
  },
  {
   "cell_type": "code",
   "execution_count": null,
   "metadata": {},
   "outputs": [],
   "source": []
  },
  {
   "cell_type": "code",
   "execution_count": null,
   "metadata": {},
   "outputs": [],
   "source": []
  }
 ],
 "metadata": {
  "kernelspec": {
   "display_name": "Python 3",
   "language": "python",
   "name": "python3"
  },
  "language_info": {
   "codemirror_mode": {
    "name": "ipython",
    "version": 3
   },
   "file_extension": ".py",
   "mimetype": "text/x-python",
   "name": "python",
   "nbconvert_exporter": "python",
   "pygments_lexer": "ipython3",
   "version": "3.7.6"
  }
 },
 "nbformat": 4,
 "nbformat_minor": 4
}
