{
 "cells": [
  {
   "cell_type": "code",
   "execution_count": 1,
   "metadata": {},
   "outputs": [],
   "source": [
    "import pandas as pd\n",
    "import numpy as np\n",
    "import re\n",
    "import networkx as nx\n",
    "import matplotlib.pyplot as plt"
   ]
  },
  {
   "cell_type": "code",
   "execution_count": 2,
   "metadata": {},
   "outputs": [],
   "source": [
    "# 한글 폰트 문제 해결\n",
    "import platform\n",
    "\n",
    "from matplotlib import font_manager, rc\n",
    "# plt.rcParams['axes.unicode_minus'] = False\n",
    "\n",
    "if platform.system() == 'Darwin':\n",
    "    rc('font', family='AppleGothic')\n",
    "elif platform.system() == 'Windows':\n",
    "    path = \"c:/Windows/Fonts/malgun.ttf\"\n",
    "    font_name = font_manager.FontProperties(fname=path).get_name()\n",
    "    rc('font', family=font_name)\n",
    "else:\n",
    "    print('Unknown system... sorry~~~~') "
   ]
  },
  {
   "cell_type": "code",
   "execution_count": 3,
   "metadata": {},
   "outputs": [],
   "source": [
    "mag_s = pd.read_csv('./magazine/final/magazine_s_stickword.csv', encoding = 'utf-8', sep ='|')"
   ]
  },
  {
   "cell_type": "code",
   "execution_count": 4,
   "metadata": {},
   "outputs": [],
   "source": [
    "mag_s['ADFN'] = mag_s['ADFN'].str.replace('[', '').str.replace(']', '').str.replace(\"'\", \"\").str.split(', ')"
   ]
  },
  {
   "cell_type": "code",
   "execution_count": 5,
   "metadata": {},
   "outputs": [
    {
     "data": {
      "text/plain": [
       "0    [빨갛, 더블, 코트, 타이츠, 라텍스, 소재, 보디, 슈트, 하이, 부츠, LAU...\n",
       "1    [클래식, 컬러, 코트, 우영, WOOYOUNGMI, 버건디, 컬러, 파, 가죽, ...\n",
       "2    [짙, 그레이, 컬러, 데님, 팬츠, LAURENT, ANTHONY, LAURENT...\n",
       "3    [YSL, 모노그램, 새기, 블랙, 에나멜, 안경, 다리, 둥글, 금테, 안경, L...\n",
       "4    [컬러, 블록, 트렌치, 코트, LEJE, 컵, 케이크, 프린트, 티셔츠, 마크, ...\n",
       "Name: ADFN, dtype: object"
      ]
     },
     "execution_count": 5,
     "metadata": {},
     "output_type": "execute_result"
    }
   ],
   "source": [
    "mag_s['ADFN'].head()"
   ]
  },
  {
   "cell_type": "markdown",
   "metadata": {},
   "source": [
    "### top50 리스트 생성"
   ]
  },
  {
   "cell_type": "code",
   "execution_count": 6,
   "metadata": {},
   "outputs": [],
   "source": [
    "top500 = pd.read_csv('./magazine/final/s_ADFN_rank_dropword.csv', sep='|', encoding = 'utf-8')"
   ]
  },
  {
   "cell_type": "code",
   "execution_count": 7,
   "metadata": {},
   "outputs": [
    {
     "data": {
      "text/html": [
       "<div>\n",
       "<style scoped>\n",
       "    .dataframe tbody tr th:only-of-type {\n",
       "        vertical-align: middle;\n",
       "    }\n",
       "\n",
       "    .dataframe tbody tr th {\n",
       "        vertical-align: top;\n",
       "    }\n",
       "\n",
       "    .dataframe thead th {\n",
       "        text-align: right;\n",
       "    }\n",
       "</style>\n",
       "<table border=\"1\" class=\"dataframe\">\n",
       "  <thead>\n",
       "    <tr style=\"text-align: right;\">\n",
       "      <th></th>\n",
       "      <th>word</th>\n",
       "      <th>count</th>\n",
       "    </tr>\n",
       "  </thead>\n",
       "  <tbody>\n",
       "    <tr>\n",
       "      <th>0</th>\n",
       "      <td>LAURENT</td>\n",
       "      <td>2302</td>\n",
       "    </tr>\n",
       "    <tr>\n",
       "      <th>1</th>\n",
       "      <td>패션</td>\n",
       "      <td>690</td>\n",
       "    </tr>\n",
       "    <tr>\n",
       "      <th>2</th>\n",
       "      <td>컬렉션</td>\n",
       "      <td>559</td>\n",
       "    </tr>\n",
       "    <tr>\n",
       "      <th>3</th>\n",
       "      <td>브랜드</td>\n",
       "      <td>532</td>\n",
       "    </tr>\n",
       "    <tr>\n",
       "      <th>4</th>\n",
       "      <td>디자이너</td>\n",
       "      <td>420</td>\n",
       "    </tr>\n",
       "    <tr>\n",
       "      <th>...</th>\n",
       "      <td>...</td>\n",
       "      <td>...</td>\n",
       "    </tr>\n",
       "    <tr>\n",
       "      <th>495</th>\n",
       "      <td>정원</td>\n",
       "      <td>30</td>\n",
       "    </tr>\n",
       "    <tr>\n",
       "      <th>496</th>\n",
       "      <td>밴드</td>\n",
       "      <td>30</td>\n",
       "    </tr>\n",
       "    <tr>\n",
       "      <th>497</th>\n",
       "      <td>남기</td>\n",
       "      <td>30</td>\n",
       "    </tr>\n",
       "    <tr>\n",
       "      <th>498</th>\n",
       "      <td>넣</td>\n",
       "      <td>30</td>\n",
       "    </tr>\n",
       "    <tr>\n",
       "      <th>499</th>\n",
       "      <td>친구</td>\n",
       "      <td>30</td>\n",
       "    </tr>\n",
       "  </tbody>\n",
       "</table>\n",
       "<p>500 rows × 2 columns</p>\n",
       "</div>"
      ],
      "text/plain": [
       "        word  count\n",
       "0    LAURENT   2302\n",
       "1         패션    690\n",
       "2        컬렉션    559\n",
       "3        브랜드    532\n",
       "4       디자이너    420\n",
       "..       ...    ...\n",
       "495       정원     30\n",
       "496       밴드     30\n",
       "497       남기     30\n",
       "498        넣     30\n",
       "499       친구     30\n",
       "\n",
       "[500 rows x 2 columns]"
      ]
     },
     "execution_count": 7,
     "metadata": {},
     "output_type": "execute_result"
    }
   ],
   "source": [
    "top500"
   ]
  },
  {
   "cell_type": "code",
   "execution_count": 8,
   "metadata": {},
   "outputs": [
    {
     "name": "stdout",
     "output_type": "stream",
     "text": [
      "50\n",
      "['LAURENT', '패션', '컬렉션', '브랜드', '디자이너', 'ANTHONY', '쇼', 'HEDI', '드레스', '소재', '스타일', '모델', '여성', '파리', '시즌', '팬츠', '장식', '디자인', '재킷', '하우스', '컬러', '옷', '가죽', '부츠', '그룹', '디렉터', '새롭', '블랙', '아이템', '슈트', '프랑스', '럭셔리', 'CREATIVE', 'COUTURE', '코트', '데님', '로고', '셔츠', '여름', '영감', '슈즈', '봄', '좋', '선글라스', '세계', '캠페인', '실루엣', '영화', '새', '시대']\n"
     ]
    }
   ],
   "source": [
    "top50 = []\n",
    "for i in range(50):\n",
    "    top50.append(top500.loc[i, 'word'])\n",
    "    \n",
    "print(len(top50))\n",
    "print(top50)"
   ]
  },
  {
   "cell_type": "markdown",
   "metadata": {},
   "source": [
    "### top100"
   ]
  },
  {
   "cell_type": "code",
   "execution_count": 9,
   "metadata": {},
   "outputs": [
    {
     "name": "stdout",
     "output_type": "stream",
     "text": [
      "100\n",
      "['LAURENT', '패션', '컬렉션', '브랜드', '디자이너', 'ANTHONY', '쇼', 'HEDI', '드레스', '소재', '스타일', '모델', '여성', '파리', '시즌', '팬츠', '장식', '디자인', '재킷', '하우스', '컬러', '옷', '가죽', '부츠', '그룹', '디렉터', '새롭', '블랙', '아이템', '슈트', '프랑스', '럭셔리', 'CREATIVE', 'COUTURE', '코트', '데님', '로고', '셔츠', '여름', '영감', '슈즈', '봄', '좋', '선글라스', '세계', '캠페인', '실루엣', '영화', '새', '시대', '어깨', '전시', '사랑', '톱', '시절', '라인', '수트', '미니', '패션계', '뷰티', '남성복', '즐기', '하이', '스커트', '완성', '트렌드', '시크', '패턴', '의상', '자리', '열리', '숄더', '분위기', '클래식', '무드', '파워', '패션쇼', '화이트', '완벽', '작품', '이미지', '백', '다르', '뉴욕', '프린트', '선택', '위크', '스타', '처음', '데뷔', '가을', 'ALEXANDER', '드러내', '벨', '배우', '작업', '찾', '트', '멀', '살']\n"
     ]
    }
   ],
   "source": [
    "top100 = []\n",
    "for i in range(100):\n",
    "    top100.append(top500.loc[i, 'word'])\n",
    "    \n",
    "print(len(top100))\n",
    "print(top100)"
   ]
  },
  {
   "cell_type": "code",
   "execution_count": 10,
   "metadata": {},
   "outputs": [
    {
     "name": "stdout",
     "output_type": "stream",
     "text": [
      "500\n",
      "['LAURENT', '패션', '컬렉션', '브랜드', '디자이너', 'ANTHONY', '쇼', 'HEDI', '드레스', '소재', '스타일', '모델', '여성', '파리', '시즌', '팬츠', '장식', '디자인', '재킷', '하우스', '컬러', '옷', '가죽', '부츠', '그룹', '디렉터', '새롭', '블랙', '아이템', '슈트', '프랑스', '럭셔리', 'CREATIVE', 'COUTURE', '코트', '데님', '로고', '셔츠', '여름', '영감', '슈즈', '봄', '좋', '선글라스', '세계', '캠페인', '실루엣', '영화', '새', '시대', '어깨', '전시', '사랑', '톱', '시절', '라인', '수트', '미니', '패션계', '뷰티', '남성복', '즐기', '하이', '스커트', '완성', '트렌드', '시크', '패턴', '의상', '자리', '열리', '숄더', '분위기', '클래식', '무드', '파워', '패션쇼', '화이트', '완벽', '작품', '이미지', '백', '다르', '뉴욕', '프린트', '선택', '위크', '스타', '처음', '데뷔', '가을', 'ALEXANDER', '드러내', '벨', '배우', '작업', '찾', '트', '멀', '살', '피', '신', '남성', '자유', '유명', '따르', '비통', '매장', '반짝이', '얻', 'W', '원', '맥', '마크', '눈', '스', '매력', '골드', '파', '끌', '스키', '루', '마지막', '블', 'MARRAKECH', '매출', '백은', 'YSL', '방식', '좋아하', '존재', '듣', '무대', '점', '문화', '만나', '까', '예정', '스타일링', '우', '약', '활동', '피에르', '당시', '런', '현재', '해지', '젊', '공개', '성장', '크리스', '티셔츠', '느낌', '베스트', '스트리트', '빈티지', '발', '남자', '여자', '밝히', '주목', '레드', 'F', '돋보이', '곳', '진행', '엘', '출신', '형태', '블라우스', '글', '힐', '몸', '과거', '올', '발표', '변화', '일하', '세', '한국', '반', '아티스트', '공간', '촬영', '높', '맞', '남', '소', '강조', '유행', '겨울', 'COM', '담', '중요', '이야기', '순간', '지', '뉴', '포드', '하다', '셀', '대표', '액세서리', '짧', 'INSTAGRAM', '토', '메탈', '활용', '지방시', '소매', '뮤즈', '느끼', '소니', '사용', '거리', 'KARL', '도시', '걸', '핑크', '쿠션', '조', '면', '맡', '메이크업', '현지', '리스트', '이끌', '포인트', '열', 'KLEIN', '레이스', 'LAGERFELD', '감', '나오', '향수', 'CALVIN', '집중', '베르제', '넘치', 'LA', '특별', '메', '미국', '탑', '룰', '지니', '성공', '이르', '알리', '연상', 'FENDI', '글로벌', '해석', '선', '세상', '적인', '버버리', '케어', '이루', '웨어', '마음', '자연', '지난해', '필요', '올해', '얼굴', '최고', '수많', '갈', '착용', '화려', 'MARIA', '잡', '섹시', '작', 'HERMES', '빛', '블루', '가능', '관심', '파티', '디스코', 'SMOKING', '올리', '톤', '모자', '레트', '베네', 'LE', '자체', '록', 'VERSACE', '영국', '포', '모로코', '레몬', '러', '덕분', '간', '시작하', '얼', '렉', '시몬스', '아트', '거대', '깃털', '보드', '모던', '집', '쉽', '떠오르', '치', '라프', '찍', '여성복', '팬', '특징', '어울리', '넓', '스니커즈', '마르', '그리', '가방', 'EDITOR', '시선', '멋지', '한편', '역사', '깊', '탄생', '피부', '슈퍼', '빛나', '오프', '체인', '샌들', '판매', '김', '실크', '피비', '델', '대신', '영향', 'ARCHIVE', '느껴지', '아름답', '소유', '세대', '설명', '콜레트', '디테일', '벨트', '모양', '만이', 'SIGNATURE', '오픈', '리스', '모르', '벨벳', '삶', '피스', '기대', '떠올리', '아프리카', '빅', '스트랩', '데이', '주인공', '불리', '인기', '러브', '아이콘', '드', '커다랗', '누', '출시', '하트', '색', '기간', '환경', '이어지', '달리', '상징', '스튜디오', '미래', '갖', '어리', '모스', '오르', '상품', '목걸이', '업', '달', '나이', '시장', '동시', '머리', '중심', '공식', '층', '밀', '이브', '달러', '세기', '맞추', '세련', '플랫폼', '꽃', '스텔라', '의미', '건물', '참석', '마찬가지', '음악', '걷', '헤', '보유', '로제', '사이즈', '리본', '배', '제공', '조합', '전하', '담기', '유산', '스포츠', '귀고리', '갖추', '진', '지역', '대부분', '신발', '드로', '향하', '립', '카트', '평소', '재거', '원하', '요소', '협업', '램', '아래', '강', '프린지', '이탈리아', '레더', '스카프', 'MICHAEL', '소화', '모으', '네온', '처', '조화', '자신감', '시도', '조명', '가깝', '화보', '흑백', '매력적', '경쟁', 'MAISON', '울', '쉬', 'JEWERLY', '디지털', '아름다움', '유니', '제작', '차', '폴', '벌', '배경', 'CEO', '라텍스', '클러치', '프레임', '유지', '덜', '길이', '즘', '쇼핑', '실버', '방법', '띄', '턱시도', '온라인', '레이션', '박물관', 'DE', '보내', '수장', '프로젝트', '정원', '밴드', '남기', '넣', '친구']\n"
     ]
    }
   ],
   "source": [
    "t500 = []\n",
    "for i in range(500):\n",
    "    t500.append(top500.loc[i, 'word'])\n",
    "    \n",
    "print(len(t500))\n",
    "print(t500)"
   ]
  },
  {
   "cell_type": "markdown",
   "metadata": {},
   "source": [
    "### top50만 남기기"
   ]
  },
  {
   "cell_type": "code",
   "execution_count": 15,
   "metadata": {
    "scrolled": true
   },
   "outputs": [
    {
     "data": {
      "text/plain": [
       "1274"
      ]
     },
     "execution_count": 15,
     "metadata": {},
     "output_type": "execute_result"
    }
   ],
   "source": [
    "len(mag_s)"
   ]
  },
  {
   "cell_type": "code",
   "execution_count": 16,
   "metadata": {},
   "outputs": [],
   "source": [
    "top50_word = []\n",
    "for i in range(len(mag_s)):\n",
    "    w=[]\n",
    "    for word in mag_s.loc[i, 'ADFN']:\n",
    "        if word in top50:\n",
    "            w.append(word)\n",
    "    top50_word.append(w)"
   ]
  },
  {
   "cell_type": "code",
   "execution_count": 17,
   "metadata": {},
   "outputs": [],
   "source": [
    "top100_word = []\n",
    "for i in range(len(mag_s)):\n",
    "    w=[]\n",
    "    for word in mag_s.loc[i, 'ADFN']:\n",
    "        if word in top100:\n",
    "            w.append(word)\n",
    "    top100_word.append(w)"
   ]
  },
  {
   "cell_type": "code",
   "execution_count": 18,
   "metadata": {},
   "outputs": [],
   "source": [
    "top500_word = []\n",
    "for i in range(len(mag_s)):\n",
    "    w=[]\n",
    "    for word in mag_s.loc[i, 'ADFN']:\n",
    "        if word in t500:\n",
    "            w.append(word)\n",
    "    top500_word.append(w)"
   ]
  },
  {
   "cell_type": "code",
   "execution_count": 19,
   "metadata": {},
   "outputs": [
    {
     "data": {
      "text/html": [
       "<div>\n",
       "<style scoped>\n",
       "    .dataframe tbody tr th:only-of-type {\n",
       "        vertical-align: middle;\n",
       "    }\n",
       "\n",
       "    .dataframe tbody tr th {\n",
       "        vertical-align: top;\n",
       "    }\n",
       "\n",
       "    .dataframe thead th {\n",
       "        text-align: right;\n",
       "    }\n",
       "</style>\n",
       "<table border=\"1\" class=\"dataframe\">\n",
       "  <thead>\n",
       "    <tr style=\"text-align: right;\">\n",
       "      <th></th>\n",
       "      <th>word</th>\n",
       "      <th>count</th>\n",
       "    </tr>\n",
       "  </thead>\n",
       "  <tbody>\n",
       "    <tr>\n",
       "      <th>0</th>\n",
       "      <td>LAURENT</td>\n",
       "      <td>2302</td>\n",
       "    </tr>\n",
       "    <tr>\n",
       "      <th>1</th>\n",
       "      <td>패션</td>\n",
       "      <td>690</td>\n",
       "    </tr>\n",
       "    <tr>\n",
       "      <th>2</th>\n",
       "      <td>컬렉션</td>\n",
       "      <td>559</td>\n",
       "    </tr>\n",
       "    <tr>\n",
       "      <th>3</th>\n",
       "      <td>브랜드</td>\n",
       "      <td>532</td>\n",
       "    </tr>\n",
       "    <tr>\n",
       "      <th>4</th>\n",
       "      <td>디자이너</td>\n",
       "      <td>420</td>\n",
       "    </tr>\n",
       "    <tr>\n",
       "      <th>...</th>\n",
       "      <td>...</td>\n",
       "      <td>...</td>\n",
       "    </tr>\n",
       "    <tr>\n",
       "      <th>495</th>\n",
       "      <td>정원</td>\n",
       "      <td>30</td>\n",
       "    </tr>\n",
       "    <tr>\n",
       "      <th>496</th>\n",
       "      <td>밴드</td>\n",
       "      <td>30</td>\n",
       "    </tr>\n",
       "    <tr>\n",
       "      <th>497</th>\n",
       "      <td>남기</td>\n",
       "      <td>30</td>\n",
       "    </tr>\n",
       "    <tr>\n",
       "      <th>498</th>\n",
       "      <td>넣</td>\n",
       "      <td>30</td>\n",
       "    </tr>\n",
       "    <tr>\n",
       "      <th>499</th>\n",
       "      <td>친구</td>\n",
       "      <td>30</td>\n",
       "    </tr>\n",
       "  </tbody>\n",
       "</table>\n",
       "<p>500 rows × 2 columns</p>\n",
       "</div>"
      ],
      "text/plain": [
       "        word  count\n",
       "0    LAURENT   2302\n",
       "1         패션    690\n",
       "2        컬렉션    559\n",
       "3        브랜드    532\n",
       "4       디자이너    420\n",
       "..       ...    ...\n",
       "495       정원     30\n",
       "496       밴드     30\n",
       "497       남기     30\n",
       "498        넣     30\n",
       "499       친구     30\n",
       "\n",
       "[500 rows x 2 columns]"
      ]
     },
     "execution_count": 19,
     "metadata": {},
     "output_type": "execute_result"
    }
   ],
   "source": [
    "top500"
   ]
  },
  {
   "cell_type": "markdown",
   "metadata": {},
   "source": [
    "### item 남기기"
   ]
  },
  {
   "cell_type": "code",
   "execution_count": 20,
   "metadata": {},
   "outputs": [],
   "source": [
    "item = ['백', '드레스', '재킷', '주얼리', '옷', '슈즈', '스커트', '링', '팬츠', '가방', '슈트', '향수', '의상', '데님', '액세서리', '톱',\n",
    "'셔츠', '모자', '수트', '스니커즈', '니트', '시계', '워치', '핸드백', '벨트', '선글라스', '목걸이', '티셔츠', '쇼츠', '샌들',\n",
    " '귀고리', '워치', '코트', '부츠', '케이프']"
   ]
  },
  {
   "cell_type": "code",
   "execution_count": 21,
   "metadata": {},
   "outputs": [],
   "source": [
    "# item_word = []\n",
    "# for i in range(len(mag_ch)):\n",
    "#     w=[]\n",
    "#     for word in mag_ch.loc[i, 'ADFN']:\n",
    "#         if word in item:\n",
    "#             w.append(word)\n",
    "#     item_word.append(w)"
   ]
  },
  {
   "cell_type": "markdown",
   "metadata": {},
   "source": [
    "### top100이면서 item이 아닌 것"
   ]
  },
  {
   "cell_type": "code",
   "execution_count": 22,
   "metadata": {},
   "outputs": [],
   "source": [
    "# top100_not_item_word = []\n",
    "# for i in range(len(mag_ch)):\n",
    "#     w=[]\n",
    "#     for word in mag_ch.loc[i, 'ADFN']:\n",
    "#         if word in top100:\n",
    "#             if word not in item:\n",
    "#                 w.append(word)\n",
    "#     top100_not_item_word.append(w)"
   ]
  },
  {
   "cell_type": "code",
   "execution_count": 23,
   "metadata": {},
   "outputs": [],
   "source": [
    "# len(top100_not_item_word)"
   ]
  },
  {
   "cell_type": "code",
   "execution_count": 24,
   "metadata": {},
   "outputs": [],
   "source": [
    "# top100_not_item_word[1]"
   ]
  },
  {
   "cell_type": "markdown",
   "metadata": {},
   "source": [
    "### top100이면서 common이 아닌 것"
   ]
  },
  {
   "cell_type": "code",
   "execution_count": 25,
   "metadata": {},
   "outputs": [],
   "source": [
    "common = ['브랜드',\n",
    " '쇼',\n",
    " '모델',\n",
    " '장식',\n",
    " '드레스',\n",
    " '파리',\n",
    " '여성',\n",
    " '스타일',\n",
    " '컬러',\n",
    " '디자이너',\n",
    " '블랙',\n",
    " '재킷',\n",
    " '아이템',\n",
    " '옷',\n",
    " '디렉터',\n",
    " '팬츠']\n"
   ]
  },
  {
   "cell_type": "code",
   "execution_count": 26,
   "metadata": {},
   "outputs": [],
   "source": [
    "# top100_not_common_word = []\n",
    "# for i in range(len(mag_ch)):\n",
    "#     w=[]\n",
    "#     for word in mag_ch.loc[i, 'ADFN']:\n",
    "#         if word in top100:\n",
    "#             if word not in common:\n",
    "#                 w.append(word)\n",
    "#     top100_not_common_word.append(w)"
   ]
  },
  {
   "cell_type": "markdown",
   "metadata": {},
   "source": [
    "### top100이면서 common/item이 아닌 것"
   ]
  },
  {
   "cell_type": "code",
   "execution_count": 27,
   "metadata": {},
   "outputs": [],
   "source": [
    "# top100_not_common_item_word = []\n",
    "# for i in range(len(mag_ch)):\n",
    "#     w=[]\n",
    "#     for word in mag_ch.loc[i, 'ADFN']:\n",
    "#         if word in top100:\n",
    "#             if word not in common:\n",
    "#                 if word not in item:\n",
    "#                     w.append(word)\n",
    "#     top100_not_common_item_word.append(w)"
   ]
  },
  {
   "cell_type": "code",
   "execution_count": null,
   "metadata": {},
   "outputs": [],
   "source": []
  },
  {
   "cell_type": "code",
   "execution_count": null,
   "metadata": {},
   "outputs": [],
   "source": []
  },
  {
   "cell_type": "code",
   "execution_count": 28,
   "metadata": {
    "scrolled": true
   },
   "outputs": [
    {
     "data": {
      "text/plain": [
       "1274"
      ]
     },
     "execution_count": 28,
     "metadata": {},
     "output_type": "execute_result"
    }
   ],
   "source": [
    "len(top50_word)"
   ]
  },
  {
   "cell_type": "code",
   "execution_count": 29,
   "metadata": {},
   "outputs": [
    {
     "data": {
      "text/plain": [
       "[['코트', '소재', '슈트', '부츠', 'LAURENT', 'ANTHONY', 'LAURENT', 'ANTHONY'],\n",
       " ['컬러',\n",
       "  '코트',\n",
       "  '컬러',\n",
       "  '가죽',\n",
       "  '셔츠',\n",
       "  '컬러',\n",
       "  '로고',\n",
       "  'LAURENT',\n",
       "  'ANTHONY',\n",
       "  'LAURENT',\n",
       "  'ANTHONY',\n",
       "  '코트',\n",
       "  '가죽',\n",
       "  '소재',\n",
       "  '재킷',\n",
       "  '팬츠',\n",
       "  'LAURENT',\n",
       "  'ANTHONY',\n",
       "  '로고',\n",
       "  '장식'],\n",
       " ['컬러', '데님', '팬츠', 'LAURENT', 'ANTHONY', 'LAURENT', 'ANTHONY'],\n",
       " ['블랙', 'LAURENT', 'LAURENT'],\n",
       " ['컬러',\n",
       "  '코트',\n",
       "  '데님',\n",
       "  '팬츠',\n",
       "  '슈즈',\n",
       "  '선글라스',\n",
       "  'LAURENT',\n",
       "  'ANTHONY',\n",
       "  'LAURENT',\n",
       "  'ANTHONY']]"
      ]
     },
     "execution_count": 29,
     "metadata": {},
     "output_type": "execute_result"
    }
   ],
   "source": [
    "top50_word[:5]"
   ]
  },
  {
   "cell_type": "markdown",
   "metadata": {},
   "source": [
    "### 텍스트 한줄씩 읽어와 dataset에 기록"
   ]
  },
  {
   "cell_type": "markdown",
   "metadata": {},
   "source": [
    "### 어프라이어리(Apriori) 알고리즘을 적용하여 연관규칙 분석 수행"
   ]
  },
  {
   "cell_type": "code",
   "execution_count": 30,
   "metadata": {},
   "outputs": [],
   "source": [
    "# 어프라이어리(Apriori)\n",
    "from apyori import apriori"
   ]
  },
  {
   "cell_type": "code",
   "execution_count": 31,
   "metadata": {},
   "outputs": [
    {
     "data": {
      "text/plain": [
       "['코트', '소재', '슈트', '부츠', 'LAURENT', 'ANTHONY', 'LAURENT', 'ANTHONY']"
      ]
     },
     "execution_count": 31,
     "metadata": {},
     "output_type": "execute_result"
    }
   ],
   "source": [
    "top50_word[0]"
   ]
  },
  {
   "cell_type": "code",
   "execution_count": 32,
   "metadata": {},
   "outputs": [
    {
     "data": {
      "text/html": [
       "<div>\n",
       "<style scoped>\n",
       "    .dataframe tbody tr th:only-of-type {\n",
       "        vertical-align: middle;\n",
       "    }\n",
       "\n",
       "    .dataframe tbody tr th {\n",
       "        vertical-align: top;\n",
       "    }\n",
       "\n",
       "    .dataframe thead th {\n",
       "        text-align: right;\n",
       "    }\n",
       "</style>\n",
       "<table border=\"1\" class=\"dataframe\">\n",
       "  <thead>\n",
       "    <tr style=\"text-align: right;\">\n",
       "      <th></th>\n",
       "      <th>items</th>\n",
       "      <th>support</th>\n",
       "      <th>ordered_statistics</th>\n",
       "      <th>length</th>\n",
       "    </tr>\n",
       "  </thead>\n",
       "  <tbody>\n",
       "    <tr>\n",
       "      <th>65</th>\n",
       "      <td>(패션, LAURENT)</td>\n",
       "      <td>0.277865</td>\n",
       "      <td>[((), (패션, LAURENT), 0.2778649921507064, 1.0),...</td>\n",
       "      <td>2</td>\n",
       "    </tr>\n",
       "    <tr>\n",
       "      <th>62</th>\n",
       "      <td>(컬렉션, LAURENT)</td>\n",
       "      <td>0.233909</td>\n",
       "      <td>[((), (컬렉션, LAURENT), 0.23390894819466249, 1.0...</td>\n",
       "      <td>2</td>\n",
       "    </tr>\n",
       "    <tr>\n",
       "      <th>47</th>\n",
       "      <td>(LAURENT, 브랜드)</td>\n",
       "      <td>0.208791</td>\n",
       "      <td>[((), (LAURENT, 브랜드), 0.2087912087912088, 1.0)...</td>\n",
       "      <td>2</td>\n",
       "    </tr>\n",
       "    <tr>\n",
       "      <th>43</th>\n",
       "      <td>(LAURENT, 디자이너)</td>\n",
       "      <td>0.193878</td>\n",
       "      <td>[((), (LAURENT, 디자이너), 0.19387755102040816, 1....</td>\n",
       "      <td>2</td>\n",
       "    </tr>\n",
       "    <tr>\n",
       "      <th>35</th>\n",
       "      <td>(LAURENT, ANTHONY)</td>\n",
       "      <td>0.169545</td>\n",
       "      <td>[((), (LAURENT, ANTHONY), 0.1695447409733124, ...</td>\n",
       "      <td>2</td>\n",
       "    </tr>\n",
       "    <tr>\n",
       "      <th>53</th>\n",
       "      <td>(LAURENT, 스타일)</td>\n",
       "      <td>0.164050</td>\n",
       "      <td>[((), (LAURENT, 스타일), 0.1640502354788069, 1.0)...</td>\n",
       "      <td>2</td>\n",
       "    </tr>\n",
       "    <tr>\n",
       "      <th>54</th>\n",
       "      <td>(시즌, LAURENT)</td>\n",
       "      <td>0.155416</td>\n",
       "      <td>[((), (시즌, LAURENT), 0.1554160125588697, 1.0),...</td>\n",
       "      <td>2</td>\n",
       "    </tr>\n",
       "    <tr>\n",
       "      <th>52</th>\n",
       "      <td>(LAURENT, 쇼)</td>\n",
       "      <td>0.154631</td>\n",
       "      <td>[((), (LAURENT, 쇼), 0.1546310832025118, 1.0), ...</td>\n",
       "      <td>2</td>\n",
       "    </tr>\n",
       "    <tr>\n",
       "      <th>41</th>\n",
       "      <td>(LAURENT, 드레스)</td>\n",
       "      <td>0.150706</td>\n",
       "      <td>[((), (LAURENT, 드레스), 0.15070643642072212, 1.0...</td>\n",
       "      <td>2</td>\n",
       "    </tr>\n",
       "    <tr>\n",
       "      <th>64</th>\n",
       "      <td>(LAURENT, 파리)</td>\n",
       "      <td>0.145212</td>\n",
       "      <td>[((), (LAURENT, 파리), 0.14521193092621665, 1.0)...</td>\n",
       "      <td>2</td>\n",
       "    </tr>\n",
       "  </tbody>\n",
       "</table>\n",
       "</div>"
      ],
      "text/plain": [
       "                 items   support  \\\n",
       "65       (패션, LAURENT)  0.277865   \n",
       "62      (컬렉션, LAURENT)  0.233909   \n",
       "47      (LAURENT, 브랜드)  0.208791   \n",
       "43     (LAURENT, 디자이너)  0.193878   \n",
       "35  (LAURENT, ANTHONY)  0.169545   \n",
       "53      (LAURENT, 스타일)  0.164050   \n",
       "54       (시즌, LAURENT)  0.155416   \n",
       "52        (LAURENT, 쇼)  0.154631   \n",
       "41      (LAURENT, 드레스)  0.150706   \n",
       "64       (LAURENT, 파리)  0.145212   \n",
       "\n",
       "                                   ordered_statistics  length  \n",
       "65  [((), (패션, LAURENT), 0.2778649921507064, 1.0),...       2  \n",
       "62  [((), (컬렉션, LAURENT), 0.23390894819466249, 1.0...       2  \n",
       "47  [((), (LAURENT, 브랜드), 0.2087912087912088, 1.0)...       2  \n",
       "43  [((), (LAURENT, 디자이너), 0.19387755102040816, 1....       2  \n",
       "35  [((), (LAURENT, ANTHONY), 0.1695447409733124, ...       2  \n",
       "53  [((), (LAURENT, 스타일), 0.1640502354788069, 1.0)...       2  \n",
       "54  [((), (시즌, LAURENT), 0.1554160125588697, 1.0),...       2  \n",
       "52  [((), (LAURENT, 쇼), 0.1546310832025118, 1.0), ...       2  \n",
       "41  [((), (LAURENT, 드레스), 0.15070643642072212, 1.0...       2  \n",
       "64  [((), (LAURENT, 파리), 0.14521193092621665, 1.0)...       2  "
      ]
     },
     "execution_count": 32,
     "metadata": {},
     "output_type": "execute_result"
    }
   ],
   "source": [
    "# 지지도(support) : P(A∩B)\n",
    "result = list(apriori(top500_word, min_support = 0.07))\n",
    "df = pd.DataFrame(result)\n",
    "df['length'] = df['items'].apply(lambda x:len(x))\n",
    "df = df[(df['length'] == 2) \n",
    "        & (df['support'] >= 0.01)].sort_values(by='support', ascending = False)\n",
    "df.head(10)"
   ]
  },
  {
   "cell_type": "markdown",
   "metadata": {},
   "source": [
    "### networkx 그래프 정의"
   ]
  },
  {
   "cell_type": "code",
   "execution_count": 33,
   "metadata": {},
   "outputs": [],
   "source": [
    "G = nx.Graph()\n",
    "ar = (df['items']); G.add_edges_from(ar)"
   ]
  },
  {
   "cell_type": "code",
   "execution_count": 34,
   "metadata": {},
   "outputs": [],
   "source": [
    "# 페이지 랭크\n",
    "pr = nx.pagerank(G)\n",
    "nsize = np.array([v for v in pr.values()])\n",
    "nsize = 2000 * (nsize - min(nsize)) / (max(nsize) - min(nsize))"
   ]
  },
  {
   "cell_type": "code",
   "execution_count": 35,
   "metadata": {},
   "outputs": [],
   "source": [
    "pos = nx.spring_layout(G)"
   ]
  },
  {
   "cell_type": "code",
   "execution_count": 37,
   "metadata": {},
   "outputs": [
    {
     "data": {
      "image/png": "[encoded data removed]",
      "text/plain": [
       "<Figure size 1152x864 with 1 Axes>"
      ]
     },
     "metadata": {},
     "output_type": "display_data"
    }
   ],
   "source": [
    "plt.figure(figsize = (16, 12)) ; plt.axis('off')\n",
    "nx.draw_networkx(G, font_family = 'Malgun Gothic', font_size = 16,\n",
    "                pos = pos, node_color = list(pr.values()), node_size = nsize,\n",
    "                alpha=0.7, edge_color='.5', cmap = plt.cm.RdPu,\n",
    "                font_color = 'white', font_weight = 'bold')\n",
    "\n",
    "plt.savefig('./final_img/nt_sl_top500_min01-w.png', bbox_inches = 'tight', transparent = True)\n",
    "plt.show()\n"
   ]
  },
  {
   "cell_type": "code",
   "execution_count": 64,
   "metadata": {},
   "outputs": [
    {
     "data": {
      "text/plain": [
       "['첫', '처음', '공개', '작업', '이후', '펜디', '판매', '작품', '드', '예정', '시대']"
      ]
     },
     "execution_count": 64,
     "metadata": {},
     "output_type": "execute_result"
    }
   ],
   "source": [
    "['첫', '처음', '공개', '작업', '이후', '펜디', '판매', '작품', '드', '예정', '시대']"
   ]
  },
  {
   "cell_type": "code",
   "execution_count": null,
   "metadata": {},
   "outputs": [],
   "source": []
  },
  {
   "cell_type": "code",
   "execution_count": null,
   "metadata": {},
   "outputs": [],
   "source": []
  },
  {
   "cell_type": "code",
   "execution_count": null,
   "metadata": {},
   "outputs": [],
   "source": []
  },
  {
   "cell_type": "code",
   "execution_count": null,
   "metadata": {},
   "outputs": [],
   "source": []
  },
  {
   "cell_type": "code",
   "execution_count": null,
   "metadata": {},
   "outputs": [],
   "source": []
  },
  {
   "cell_type": "code",
   "execution_count": null,
   "metadata": {},
   "outputs": [],
   "source": []
  },
  {
   "cell_type": "code",
   "execution_count": null,
   "metadata": {},
   "outputs": [],
   "source": []
  },
  {
   "cell_type": "code",
   "execution_count": null,
   "metadata": {},
   "outputs": [],
   "source": []
  },
  {
   "cell_type": "code",
   "execution_count": null,
   "metadata": {},
   "outputs": [],
   "source": []
  },
  {
   "cell_type": "code",
   "execution_count": null,
   "metadata": {},
   "outputs": [],
   "source": []
  },
  {
   "cell_type": "code",
   "execution_count": null,
   "metadata": {},
   "outputs": [],
   "source": []
  },
  {
   "cell_type": "code",
   "execution_count": null,
   "metadata": {},
   "outputs": [],
   "source": []
  },
  {
   "cell_type": "code",
   "execution_count": null,
   "metadata": {},
   "outputs": [],
   "source": []
  },
  {
   "cell_type": "code",
   "execution_count": null,
   "metadata": {},
   "outputs": [],
   "source": []
  },
  {
   "cell_type": "code",
   "execution_count": null,
   "metadata": {},
   "outputs": [],
   "source": []
  },
  {
   "cell_type": "code",
   "execution_count": null,
   "metadata": {},
   "outputs": [],
   "source": []
  },
  {
   "cell_type": "code",
   "execution_count": null,
   "metadata": {},
   "outputs": [],
   "source": []
  },
  {
   "cell_type": "code",
   "execution_count": null,
   "metadata": {},
   "outputs": [],
   "source": []
  },
  {
   "cell_type": "code",
   "execution_count": null,
   "metadata": {},
   "outputs": [],
   "source": []
  },
  {
   "cell_type": "code",
   "execution_count": null,
   "metadata": {},
   "outputs": [],
   "source": []
  },
  {
   "cell_type": "code",
   "execution_count": null,
   "metadata": {},
   "outputs": [],
   "source": []
  },
  {
   "cell_type": "code",
   "execution_count": null,
   "metadata": {},
   "outputs": [],
   "source": []
  },
  {
   "cell_type": "code",
   "execution_count": null,
   "metadata": {},
   "outputs": [],
   "source": []
  },
  {
   "cell_type": "code",
   "execution_count": null,
   "metadata": {},
   "outputs": [],
   "source": []
  },
  {
   "cell_type": "code",
   "execution_count": null,
   "metadata": {},
   "outputs": [],
   "source": []
  }
 ],
 "metadata": {
  "kernelspec": {
   "display_name": "Python 3",
   "language": "python",
   "name": "python3"
  },
  "language_info": {
   "codemirror_mode": {
    "name": "ipython",
    "version": 3
   },
   "file_extension": ".py",
   "mimetype": "text/x-python",
   "name": "python",
   "nbconvert_exporter": "python",
   "pygments_lexer": "ipython3",
   "version": "3.7.6"
  }
 },
 "nbformat": 4,
 "nbformat_minor": 4
}
