{
 "cells": [
  {
   "cell_type": "code",
   "execution_count": 8,
   "metadata": {},
   "outputs": [],
   "source": [
    "import pandas as pd\n",
    "import numpy as np"
   ]
  },
  {
   "cell_type": "code",
   "execution_count": 9,
   "metadata": {},
   "outputs": [],
   "source": [
    "from collections import Counter"
   ]
  },
  {
   "cell_type": "code",
   "execution_count": 56,
   "metadata": {},
   "outputs": [],
   "source": [
    "e_jenny = pd.read_csv('./blackpink/elle_Je.csv', sep='|', encoding = 'utf-8')\n",
    "c_jenny = pd.read_csv('./blackpink/cosmo_Je.csv', sep='|', encoding = 'utf-8')\n",
    "m_jenny = pd.read_csv('./blackpink/marie_Je.csv', sep='|', encoding = 'utf-8')\n"
   ]
  },
  {
   "cell_type": "code",
   "execution_count": 60,
   "metadata": {},
   "outputs": [],
   "source": [
    "mag_jenny = pd.concat([e_jenny, c_jenny, m_jenny])"
   ]
  },
  {
   "cell_type": "code",
   "execution_count": 61,
   "metadata": {},
   "outputs": [],
   "source": [
    "mag_jenny.reset_index(drop=True, inplace = True)"
   ]
  },
  {
   "cell_type": "code",
   "execution_count": null,
   "metadata": {},
   "outputs": [],
   "source": []
  },
  {
   "cell_type": "markdown",
   "metadata": {},
   "source": [
    "# 전처리"
   ]
  },
  {
   "cell_type": "markdown",
   "metadata": {},
   "source": [
    "## 기호삭제"
   ]
  },
  {
   "cell_type": "code",
   "execution_count": 63,
   "metadata": {},
   "outputs": [],
   "source": [
    "mag_jenny['word_jenny'] = mag_jenny['word_jenny'].str.replace('[', '').str.replace(']', '').str.replace('\\\\', '').str.replace('\"', '').str.replace(\"'\", \"\").str.replace('「', '').str.replace('」', '').str.replace('”', '').str.replace('‘', '').str.replace('“', '')"
   ]
  },
  {
   "cell_type": "code",
   "execution_count": 70,
   "metadata": {},
   "outputs": [
    {
     "data": {
      "text/plain": [
       "'쇄골 라인에 걸리는 진주 목걸이의 클래식한 매력을 캐치한 제니. 화이트 셔츠와 블랙 컬러의 테일러드 재킷에 진주 목걸이를 매치해 세련되게 연출했습니다. 진주 주얼리에 도전해보고 싶다면 어떤 룩에든 자연스럽게 어울리는 간결한 진주 목걸이부터 시작해보세요.'"
      ]
     },
     "execution_count": 70,
     "metadata": {},
     "output_type": "execute_result"
    }
   ],
   "source": [
    "mag_jenny['word_jenny'][0]"
   ]
  },
  {
   "cell_type": "markdown",
   "metadata": {},
   "source": [
    "## 디자이너명 브랜드명 replace"
   ]
  },
  {
   "cell_type": "markdown",
   "metadata": {},
   "source": [
    "### 블랙핑크 BLACKPINK"
   ]
  },
  {
   "cell_type": "code",
   "execution_count": 90,
   "metadata": {},
   "outputs": [],
   "source": [
    "for word in mag_jenny['word_jenny']:\n",
    "    if '블랙 핑크' in word:\n",
    "        print(word)\n",
    "        print('-'*50)"
   ]
  },
  {
   "cell_type": "code",
   "execution_count": 91,
   "metadata": {},
   "outputs": [],
   "source": [
    "mag_jenny['word_jenny'] = mag_jenny['word_jenny'].str.replace('블랙핑크', 'BLACKPINK')"
   ]
  },
  {
   "cell_type": "markdown",
   "metadata": {},
   "source": [
    "### 샤넬"
   ]
  },
  {
   "cell_type": "code",
   "execution_count": 175,
   "metadata": {},
   "outputs": [
    {
     "name": "stdout",
     "output_type": "stream",
     "text": [
      "커다란 리본이 달린 크롭트 톱에 와이드 핏 데님, 보라색 카디건과 미니 백 그리고 내추럴한 헤어스타일. 지난 10월 CHANEL 쇼에 참석한 제니를 보고 그녀의 성장을 실감했다. 트위드 수트를 쫙 빼 입고 참석했던 지난해와는 다른 느낌. 그 사이 그녀에겐 무슨 일이 있었을까. 바로 자신의 솔로 데뷔곡 솔로’ 뮤직비디오다. 생 로랑, 구찌부터 마린 세르, 리처드 퀸까지, 20벌이 넘는 쇼피스를 자기 식으로 소화한 그녀는 천진난만 청순가련 새침한 척 이제 지쳐. 난 나다워야 하니까’라는 가사처럼 자신만의 스타일을 찾았다. 제니뿐 아니다. 로제, 리사, 지수. 그들도 이미 그 기술을 습득한 듯하다. 무대 위에서는 완벽한 칼군무와 라이브 실력, 중독적인 후크로 좌중을 압도하고, 일상에서는 맨송맨송한 얼굴을 기꺼이 보여주는 그녀들. 소셜 미디어를 이용해 고유한 캐릭터를 만드는 Z세대다운 영리함이다. 활짝 오픈된 자신들의 페이지를 한국과 아시아를 넘어 이미 전 세계 사람들이 날마다 넘겨보고 있다는 사실을 그들은 알고 있다. 그리고 마음껏 즐기고 있다.\n",
      "--------------------------------------------------\n",
      ", 런웨이 위를 걸었던 어려운 옷’도 척척 소화해내는 BLACKPINK 제니. 사랑스러운 외모 뒤 뛰어난 패션 감각을 자랑하는 그녀의 스타일 아카이브 오픈!, , 돌체 앤 가바나의 2016 S/S 룩을 기억하는가. 1년도 더 된 컬렉션이지만 한여름의 트로피컬 판타지를 정열적으로 그려낸 낭만적인 패션쇼다. 제니가 착용한 미드리프 톱과 스커트는 그 해 여름에서 파생된 제품으로 새로운 음원을 보여주기 위한 화끈한 오브제로서의 역할을 톡톡히 한다., , 속이 훤히 들여다 보이는 소재로 여름의 멋을 더한 랑방 컬렉션 룩의 이어링까지 그대로 착용한 제니는 주얼 디테일의 액세서리로 화려함을 업시켰다. 벨트와 플랫폼 힐로 다리를 길어 보이게 연출한 것도 특징., , 생로랑의 행사장에 브랜드의 2017 S/S 컬렉션 제품인 포멀한 스타일의 수트를 입고 모습을 드러낸 제니를 본 관계자들의 반응은 하나같이 일관됐다. 너무 예쁘다!, , 오프 화이트의 레드 룩에 화려한 네크리스를 더하면? 제니 스타일 완성! 여기에 레트로 풍의 말괄량이 삐삐 같은 헤어 스타일도 놓치면 안 된다., , CHANEL의 마드모아젤 프리베 전시에 참석한 제니의 도발적인 자태를 감상하시라. 브랜드의 방대한 아카이브를 꾹꾹 눌러 담은 공방 컬렉션의 커머셜 라인으로 제작된 트위드 재킷을 원피스로 활용했다. 플라워 아플리케 장식을 덜어내고, 클리비지 라인으로 디자인된 네크 라인을 끌어올려 실용성을 강조한 점이 돋보인다., , BLACKPINK <마지막처럼>의 뮤직 비디오에서 제니의 뇌쇄적인 매력을 최대치로 끌어올린 플라워 로브는 마크 제이콥스의 2017 S/S 컬렉션 제품이다. 핑크 컬러의 싸이 하이 부츠로 신비감을 고조시킨 놀라운 패션 한 수를 주목하시길., 에디터 최원희, 사진 IMAXtree.com, 구찌, 생 로랑, CHANEL, 중앙 DB, BLACKPINK 공식 인스타그램, BLACKPINK <마지막처럼> 뮤직 비디오 캡처, 디자인 전근영\n",
      "--------------------------------------------------\n",
      "감상 포인트 언뜻 단순한 듯한 비트 속에서 인도 전통악기 시타르가 깔리고 랩, 멜로디, 특히 하우 유 라이크댓’이란 외침이 반복적으로 들리다 뚝 끊긴다. 〈빌보드〉는 후크가 너무나 즉각적이어서 매력에 빠지지 않을 수 없다.고 평론. 팔색조 같은 멤버 한 명, 한 명의 치명적 유혹 속에 허우적거리다 보면 어느덧 하우 유 라이크 댓?을 흥얼거리게 되고 절대 잊혀지지 않는다. 패션 면에선 이제 인간 OO’가 아닌 디자이너 브랜드가 따라오는 스타일 아이콘이 됐다. 제니는 CHANEL, 지수는 DIOR 뷰티, 리사는 CELINE, 로제는 생로랑의 앰배서더. 미국 NBC 〈지미 팰런 쇼〉에서는 한복에서 영감을 얻은 의상을 입어 K-스타일’ 전파에도 공헌., 여덕’이 유독 많은 레드벨벳에서도 막강 팬덤을 자랑하는 아이린과 슬기가 첫 유닛 듀오로 출범. 세계에서 비명이 터져 나온 웅장한 공개였다. 6일 발매한 첫 미니앨범 몬스터(Monster)는 직후 국내 음반 차트 올킬, 동명 타이틀곡 역시 음원 차트 1위, 아이튠즈 앨범 차트 45개 지역 1위, 중국 QQ뮤직 및 쿠거우뮤직 디지털 앨범 차트 1위에 오르는 기염을 토했다., \n",
      "--------------------------------------------------\n",
      "각 브랜드의 이미지를 대변하는 스타들과의 만남 역시 컬렉션 기간에 놓쳐선 안 될 관전 포인트 중 하나. 이번 시즌에는 배두나, 공효진, 신민아, 정려원, 씨엘, BLACKPINK 제니, 엑소 카이가 각각 루이 비통과 DIOR, 로저 비비에, 지방시, 생 로랑, CELINE, CHANEL, 구찌의 쇼와 프레젠테이션에 참석하기 위해 파리를 방문하며 화제를 모았다. 특히 구찌 쇼장 앞을 가득 메운 채 한글 플래카드를 들고 카이의 이름을 연호하던 팬들의 모습은 파리의 인상적인 기억 중 하나로 남았을 정도.\n",
      "--------------------------------------------------\n"
     ]
    }
   ],
   "source": [
    "for word in mag_jenny['word_jenny']:\n",
    "    if '로랑' in word:\n",
    "        print(word)\n",
    "        print('-'*50)"
   ]
  },
  {
   "cell_type": "code",
   "execution_count": 93,
   "metadata": {},
   "outputs": [],
   "source": [
    "mag_jenny['word_jenny'] = mag_jenny['word_jenny'].str.replace('샤넬', 'CHANEL')"
   ]
  },
  {
   "cell_type": "markdown",
   "metadata": {},
   "source": [
    "### 디올"
   ]
  },
  {
   "cell_type": "code",
   "execution_count": 139,
   "metadata": {},
   "outputs": [],
   "source": [
    "mag_jenny['word_jenny'] = mag_jenny['word_jenny'].str.replace('디올', 'DIOR')"
   ]
  },
  {
   "cell_type": "markdown",
   "metadata": {},
   "source": [
    "### 셀린느"
   ]
  },
  {
   "cell_type": "code",
   "execution_count": 173,
   "metadata": {},
   "outputs": [],
   "source": [
    "mag_jenny['word_jenny'] = mag_jenny['word_jenny'].str.replace('셀린느', 'CELINE')"
   ]
  },
  {
   "cell_type": "code",
   "execution_count": 174,
   "metadata": {},
   "outputs": [],
   "source": [
    "mag_jenny['word_jenny'] = mag_jenny['word_jenny'].str.replace('셀린', 'CELINE')"
   ]
  },
  {
   "cell_type": "markdown",
   "metadata": {},
   "source": [
    "### 생로랑"
   ]
  },
  {
   "cell_type": "code",
   "execution_count": 176,
   "metadata": {},
   "outputs": [],
   "source": [
    "# 생로랑\n",
    "mag_jenny['word_jenny'] = mag_jenny['word_jenny'].str.replace('생 로랑', 'SAINTLAURENT')\n",
    "mag_jenny['word_jenny'] = mag_jenny['word_jenny'].str.replace('생로랑', 'SAINTLAURENT')"
   ]
  },
  {
   "cell_type": "code",
   "execution_count": null,
   "metadata": {},
   "outputs": [],
   "source": []
  },
  {
   "cell_type": "code",
   "execution_count": null,
   "metadata": {},
   "outputs": [],
   "source": []
  },
  {
   "cell_type": "code",
   "execution_count": null,
   "metadata": {},
   "outputs": [],
   "source": []
  },
  {
   "cell_type": "code",
   "execution_count": null,
   "metadata": {},
   "outputs": [],
   "source": []
  },
  {
   "cell_type": "code",
   "execution_count": null,
   "metadata": {},
   "outputs": [],
   "source": []
  },
  {
   "cell_type": "code",
   "execution_count": null,
   "metadata": {},
   "outputs": [],
   "source": []
  },
  {
   "cell_type": "code",
   "execution_count": null,
   "metadata": {},
   "outputs": [],
   "source": []
  },
  {
   "cell_type": "code",
   "execution_count": null,
   "metadata": {},
   "outputs": [],
   "source": []
  },
  {
   "cell_type": "code",
   "execution_count": null,
   "metadata": {},
   "outputs": [],
   "source": []
  },
  {
   "cell_type": "code",
   "execution_count": null,
   "metadata": {},
   "outputs": [],
   "source": []
  },
  {
   "cell_type": "code",
   "execution_count": null,
   "metadata": {},
   "outputs": [],
   "source": []
  },
  {
   "cell_type": "code",
   "execution_count": null,
   "metadata": {},
   "outputs": [],
   "source": []
  },
  {
   "cell_type": "markdown",
   "metadata": {},
   "source": [
    "## list(article_list) 생성 후 append"
   ]
  },
  {
   "cell_type": "code",
   "execution_count": 11,
   "metadata": {},
   "outputs": [],
   "source": [
    "contents_list = []"
   ]
  },
  {
   "cell_type": "code",
   "execution_count": 140,
   "metadata": {},
   "outputs": [],
   "source": [
    "\n",
    "article_list = []\n",
    "for word in mag_jenny['word_jenny']:\n",
    "    article_list.append(word)"
   ]
  },
  {
   "cell_type": "code",
   "execution_count": 141,
   "metadata": {
    "scrolled": true
   },
   "outputs": [
    {
     "data": {
      "text/plain": [
       "164"
      ]
     },
     "execution_count": 141,
     "metadata": {},
     "output_type": "execute_result"
    }
   ],
   "source": [
    "len(article_list)"
   ]
  },
  {
   "cell_type": "code",
   "execution_count": 142,
   "metadata": {},
   "outputs": [
    {
     "data": {
      "text/plain": [
       "', , , , , , 새 앨범으로 컴백하며 헤어 스타일에 변화를 준 제니. 자연스럽게 흐르는 옆 가르마를 고수하던 그가 이번에는 눈썹을 덮는 길이로 앞머리를 자르고 색다른 모습을 선보였어요. 동그란 얼굴형을 가졌음에도 불구하고 길게 자른 앞머리가 어색해 보이지 않는 이유는 앞머리의 숱을 작게 잡아 앞머리 사이로 이마를 드러내기 때문인 듯합니다. 둥근 얼굴형을 가졌다면 동그란 볼살을 강조하는 답답한 풀뱅보다 이마가 살짝 드러나는 시스루뱅을 시도해보세요., , , , , , , , , , , , , 현아가 앞머리를 장착하면 귀여운 소녀가 됩니다. 그는 얼마 전 이마 중간 부분에서 끝나는 짧은 길이의 앞머리, 일명 처피뱅을 시도한 모습을 깜짝 공개했는데요, 편안한 차림에도 숨겨지지 않던 그의 섹시한 분위기는 감쪽같이 사라지고 말괄량이 같은 발랄함만 가득! 앞머리의 위대한 힘이 느껴지시나요? 180도 이미지 변신을 원한다면 당신도 처피뱅을 시도해보는 건 어때요?, , , , , , , 다음 작품을 위해 긴 생머리를 유지 중이라는 손담비. 오랫동안 고수한 똑같은 스타일에 지루함을 느꼈던 것일까요? 앞머리를 자르고 기분 전환에 성공합니다. 눈썹 라인에 맞춰 듬성듬성 내린 앞머리 덕분에 10살은 어려 보이는 동안 미모까지 득템’! 앞머리 하나로 차갑고 도도한 고양이상에서 순둥순둥하고 귀여운 강아지상으로 바뀌었어요., , , , , , , 싹쓰리의 린다G’에서 환불원정대의 천옥’이 된 이효리. 부캐 생성에 누구보다 열정적인 그는 변화를 두려워하지 않습니다. 완벽하게 천옥’ 캐릭터를 완성하기 위해 헤어스타일에 변화를 주었죠. 시야를 살짝 가리는 길이로 앞머리를 길게 자르고 옆머리로 턱선을 덮어 더 날렵한 페이스 라인을 연출합니다. 짙은 메이크업과 거칠게 커팅한 헤어 스타일의 시너지가 그의 카리스마를 강조하는 듯해요. 이효리 is 뭔들! 앞머리가 이효리발’ 받는 순간!, , , , , , '"
      ]
     },
     "execution_count": 142,
     "metadata": {},
     "output_type": "execute_result"
    }
   ],
   "source": [
    "article_list[6]"
   ]
  },
  {
   "cell_type": "code",
   "execution_count": null,
   "metadata": {},
   "outputs": [],
   "source": []
  },
  {
   "cell_type": "markdown",
   "metadata": {},
   "source": [
    "## 트위터 패키지 안에 konlpy 모듈 호출"
   ]
  },
  {
   "cell_type": "code",
   "execution_count": 143,
   "metadata": {},
   "outputs": [],
   "source": [
    "from konlpy.tag import Twitter"
   ]
  },
  {
   "cell_type": "code",
   "execution_count": 144,
   "metadata": {},
   "outputs": [],
   "source": [
    "twitter = Twitter()"
   ]
  },
  {
   "cell_type": "markdown",
   "metadata": {},
   "source": [
    "### 각 문장별로 형태소 구분하기"
   ]
  },
  {
   "cell_type": "code",
   "execution_count": 145,
   "metadata": {},
   "outputs": [
    {
     "name": "stdout",
     "output_type": "stream",
     "text": [
      "164\n"
     ]
    }
   ],
   "source": [
    "sentences_tag = []\n",
    "\n",
    "for sentence in article_list:\n",
    "    morph = twitter.pos(sentence)\n",
    "    sentences_tag.append(morph)\n",
    "    \n",
    "    \n",
    "\n",
    "print(len(sentences_tag))\n"
   ]
  },
  {
   "cell_type": "code",
   "execution_count": 146,
   "metadata": {},
   "outputs": [
    {
     "data": {
      "text/plain": [
       "[('쇄골', 'Noun'),\n",
       " ('라인', 'Noun'),\n",
       " ('에', 'Josa'),\n",
       " ('걸리는', 'Verb'),\n",
       " ('진주', 'Noun'),\n",
       " ('목걸이', 'Noun'),\n",
       " ('의', 'Josa'),\n",
       " ('클래식', 'Noun'),\n",
       " ('한', 'Josa'),\n",
       " ('매력', 'Noun'),\n",
       " ('을', 'Josa'),\n",
       " ('캐치', 'Noun'),\n",
       " ('한', 'Josa'),\n",
       " ('제니', 'Noun'),\n",
       " ('.', 'Punctuation'),\n",
       " ('화이트', 'Noun'),\n",
       " ('셔츠', 'Noun'),\n",
       " ('와', 'Josa'),\n",
       " ('블랙', 'Noun'),\n",
       " ('컬러', 'Noun'),\n",
       " ('의', 'Josa'),\n",
       " ('테일러', 'Noun'),\n",
       " ('드', 'Noun'),\n",
       " ('재킷', 'Noun'),\n",
       " ('에', 'Josa'),\n",
       " ('진주', 'Noun'),\n",
       " ('목걸이', 'Noun'),\n",
       " ('를', 'Josa'),\n",
       " ('매치', 'Noun'),\n",
       " ('해', 'Verb'),\n",
       " ('세련되게', 'Adjective'),\n",
       " ('연출', 'Noun'),\n",
       " ('했습니다', 'Verb'),\n",
       " ('.', 'Punctuation'),\n",
       " ('진주', 'Noun'),\n",
       " ('주얼리', 'Noun'),\n",
       " ('에', 'Josa'),\n",
       " ('도전', 'Noun'),\n",
       " ('해보고', 'Verb'),\n",
       " ('싶다면', 'Verb'),\n",
       " ('어떤', 'Adjective'),\n",
       " ('룩', 'Noun'),\n",
       " ('에든', 'Josa'),\n",
       " ('자연', 'Noun'),\n",
       " ('스럽게', 'Josa'),\n",
       " ('어울리는', 'Verb'),\n",
       " ('간결한', 'Adjective'),\n",
       " ('진주', 'Noun'),\n",
       " ('목걸이', 'Noun'),\n",
       " ('부터', 'Josa'),\n",
       " ('시작', 'Noun'),\n",
       " ('해보세요', 'Verb'),\n",
       " ('.', 'Punctuation')]"
      ]
     },
     "execution_count": 146,
     "metadata": {},
     "output_type": "execute_result"
    }
   ],
   "source": [
    "sentences_tag[0]"
   ]
  },
  {
   "cell_type": "code",
   "execution_count": 147,
   "metadata": {},
   "outputs": [
    {
     "data": {
      "text/plain": [
       "{'Adjective': '형용사',\n",
       " 'Adverb': '부사',\n",
       " 'Alpha': '알파벳',\n",
       " 'Conjunction': '접속사',\n",
       " 'Determiner': '관형사',\n",
       " 'Eomi': '어미',\n",
       " 'Exclamation': '감탄사',\n",
       " 'Foreign': '외국어, 한자 및 기타기호',\n",
       " 'Hashtag': '트위터 해쉬태그',\n",
       " 'Josa': '조사',\n",
       " 'KoreanParticle': '(ex: ㅋㅋ)',\n",
       " 'Noun': '명사',\n",
       " 'Number': '숫자',\n",
       " 'PreEomi': '선어말어미',\n",
       " 'Punctuation': '구두점',\n",
       " 'ScreenName': '트위터 아이디',\n",
       " 'Suffix': '접미사',\n",
       " 'Unknown': '미등록어',\n",
       " 'Verb': '동사'}"
      ]
     },
     "execution_count": 147,
     "metadata": {},
     "output_type": "execute_result"
    }
   ],
   "source": [
    "twitter.tagset"
   ]
  },
  {
   "cell_type": "markdown",
   "metadata": {},
   "source": [
    "### stopword 추가"
   ]
  },
  {
   "cell_type": "code",
   "execution_count": 148,
   "metadata": {},
   "outputs": [],
   "source": [
    "sw_df = pd.read_csv('stopwords.csv', header=None)"
   ]
  },
  {
   "cell_type": "code",
   "execution_count": 149,
   "metadata": {},
   "outputs": [],
   "source": [
    "sw_df.columns = ['stopword']"
   ]
  },
  {
   "cell_type": "code",
   "execution_count": 150,
   "metadata": {},
   "outputs": [],
   "source": [
    "stop_words = []\n",
    "for sw in sw_df['stopword']:\n",
    "    stop_words.append(sw)"
   ]
  },
  {
   "cell_type": "code",
   "execution_count": 151,
   "metadata": {},
   "outputs": [
    {
     "name": "stdout",
     "output_type": "stream",
     "text": [
      "675\n",
      "<class 'list'>\n"
     ]
    }
   ],
   "source": [
    "print(len(stop_words))\n",
    "print(type(stop_words))"
   ]
  },
  {
   "cell_type": "code",
   "execution_count": 152,
   "metadata": {},
   "outputs": [
    {
     "data": {
      "text/plain": [
       "['둘', '셋', '넷', '다섯', '여섯', '일곱', '여덟', '아홉', '령', '영']"
      ]
     },
     "execution_count": 152,
     "metadata": {},
     "output_type": "execute_result"
    }
   ],
   "source": [
    "stop_words[-10:]"
   ]
  },
  {
   "cell_type": "code",
   "execution_count": 168,
   "metadata": {},
   "outputs": [],
   "source": [
    "add_0 = ['수', '있는', '더', 'n', '위', '듯', '있어요', '중', '게', \n",
    "         '같아요', '요', '거', '속', '건', '드', '같은']\n",
    "for w in add_0:\n",
    "    stop_words.append(w)"
   ]
  },
  {
   "cell_type": "markdown",
   "metadata": {},
   "source": [
    "### 1. 명사 혹은 형용사인 품사만 선별해 리스트에 담기"
   ]
  },
  {
   "cell_type": "code",
   "execution_count": 154,
   "metadata": {},
   "outputs": [],
   "source": [
    "noun_adj_list= []\n",
    "for sentence1 in sentences_tag:\n",
    "    for word, tag in sentence1:\n",
    "        if tag in ['Noun', 'Adjective', 'Alpha', 'Determiner', 'Foreign']:\n",
    "            if not word in stop_words:\n",
    "                noun_adj_list.append(word)"
   ]
  },
  {
   "cell_type": "code",
   "execution_count": 155,
   "metadata": {},
   "outputs": [
    {
     "data": {
      "text/plain": [
       "13665"
      ]
     },
     "execution_count": 155,
     "metadata": {},
     "output_type": "execute_result"
    }
   ],
   "source": [
    "len(noun_adj_list)"
   ]
  },
  {
   "cell_type": "code",
   "execution_count": 156,
   "metadata": {},
   "outputs": [
    {
     "data": {
      "text/plain": [
       "['쇄골',\n",
       " '라인',\n",
       " '진주',\n",
       " '목걸이',\n",
       " '클래식',\n",
       " '매력',\n",
       " '캐치',\n",
       " '제니',\n",
       " '화이트',\n",
       " '셔츠',\n",
       " '블랙',\n",
       " '컬러',\n",
       " '테일러',\n",
       " '재킷',\n",
       " '진주',\n",
       " '목걸이',\n",
       " '매치',\n",
       " '세련되게',\n",
       " '연출',\n",
       " '진주']"
      ]
     },
     "execution_count": 156,
     "metadata": {},
     "output_type": "execute_result"
    }
   ],
   "source": [
    "noun_adj_list[:20]"
   ]
  },
  {
   "cell_type": "code",
   "execution_count": 157,
   "metadata": {},
   "outputs": [
    {
     "data": {
      "text/plain": [
       "['쇄골', '라인', '진주', '목걸이', '클래식', '매력', '캐치', '제니', '화이트', '셔츠']"
      ]
     },
     "execution_count": 157,
     "metadata": {},
     "output_type": "execute_result"
    }
   ],
   "source": [
    "noun_adj_list[:10]"
   ]
  },
  {
   "cell_type": "code",
   "execution_count": 179,
   "metadata": {},
   "outputs": [],
   "source": [
    "ADFN_list= []\n",
    "for sentence1 in sentences_tag:\n",
    "    words = []\n",
    "    for word, tag in sentence1:\n",
    "        if tag in ['Adjective', 'Determiner','Foreign','Noun', 'Alpha']:\n",
    "            if word not in stop_words:\n",
    "                words.append(word)\n",
    "    ADFN_list.append(words)"
   ]
  },
  {
   "cell_type": "code",
   "execution_count": 180,
   "metadata": {},
   "outputs": [
    {
     "data": {
      "text/plain": [
       "164"
      ]
     },
     "execution_count": 180,
     "metadata": {},
     "output_type": "execute_result"
    }
   ],
   "source": [
    "len(ADFN_list)"
   ]
  },
  {
   "cell_type": "code",
   "execution_count": 181,
   "metadata": {},
   "outputs": [
    {
     "data": {
      "text/plain": [
       "['쇄골',\n",
       " '라인',\n",
       " '진주',\n",
       " '목걸이',\n",
       " '클래식',\n",
       " '매력',\n",
       " '캐치',\n",
       " '제니',\n",
       " '화이트',\n",
       " '셔츠',\n",
       " '블랙',\n",
       " '컬러',\n",
       " '테일러',\n",
       " '재킷',\n",
       " '진주',\n",
       " '목걸이',\n",
       " '매치',\n",
       " '세련되게',\n",
       " '연출',\n",
       " '진주',\n",
       " '주얼리',\n",
       " '도전',\n",
       " '룩',\n",
       " '자연',\n",
       " '간결한',\n",
       " '진주',\n",
       " '목걸이',\n",
       " '시작']"
      ]
     },
     "execution_count": 181,
     "metadata": {},
     "output_type": "execute_result"
    }
   ],
   "source": [
    "ADFN_list[0]"
   ]
  },
  {
   "cell_type": "code",
   "execution_count": 182,
   "metadata": {},
   "outputs": [],
   "source": [
    "mag_jenny['ADFN'] = ADFN_list"
   ]
  },
  {
   "cell_type": "code",
   "execution_count": null,
   "metadata": {},
   "outputs": [],
   "source": []
  },
  {
   "cell_type": "markdown",
   "metadata": {},
   "source": [
    "### 선별된 품사별 빈도수 계산 & 상위 빈도 10위까지 출력"
   ]
  },
  {
   "cell_type": "code",
   "execution_count": 158,
   "metadata": {
    "scrolled": true
   },
   "outputs": [
    {
     "name": "stdout",
     "output_type": "stream",
     "text": [
      "[('제니', 347), ('스타일', 124), ('BLACKPINK', 121), ('컬러', 107), ('헤어', 93), ('CHANEL', 81), ('룩', 80), ('스타', 69), ('DIOR', 59), ('입술', 57), ('블랙', 55), ('앞머리', 54), ('패션', 53), ('모습', 51), ('연출', 50), ('걸', 49), ('그녀', 45), ('말', 44), ('매력', 43), ('리사', 43), ('매치', 42), ('생각', 42), ('포인트', 41), ('지수', 40), ('로제', 40), ('일링', 39), ('향수', 39), ('선택', 37), ('분위기', 37), ('백', 37), ('같은', 37), ('브랜드', 37), ('패턴', 36), ('얼굴', 36), ('메이크업', 36), ('향', 36), ('머리', 35), ('사진', 35), ('립', 35), ('완성', 34), ('톱', 34), ('호', 34), ('가장', 34), ('화이트', 33), ('전', 33), ('사람', 33), ('선글라스', 32), ('대', 31), ('레드', 31), ('제품', 30), ('니트', 29), ('아이템', 29), ('장식', 29), ('핑크', 29), ('재킷', 28), ('무대', 28), ('카디건', 27), ('지금', 27), ('드레스', 27), ('시작', 26), ('리본', 26), ('라인', 24), ('디자인', 24), ('팬츠', 24), ('무드', 24), ('액세서리', 24), ('때문', 24), ('탈색', 24), ('블리치', 23), ('멤버', 23), ('데님', 22), ('해', 21), ('톤', 21), ('양', 21), ('데', 21), ('위해', 21), ('필러', 21), ('활용', 20), ('눈', 20), ('느낌', 20), ('활동', 20), ('영상', 20), ('모델', 20), ('조이', 20), ('강조', 19), ('미니', 19), ('소화', 19), ('순간', 19), ('후', 19), ('좋은', 19), ('부분', 19), ('공개', 19), ('촬영', 19), ('요즘', 19), ('사용', 19), ('내', 19), ('많은', 19), ('아이콘', 19), ('시크', 18), ('소녀', 18), ('일리', 18), ('앨범', 18), ('컬렉션', 18), ('밴드', 18), ('여성', 18), ('점', 18), ('볼', 18), ('엘르', 18), ('셔츠', 17), ('크롭트', 17), ('도', 17), ('대한', 17), ('화보', 17), ('새로운', 17), ('이제', 17), ('음악', 17), ('바이', 17), ('자연', 16), ('원피스', 16), ('두', 16), ('갈래', 16), ('기분', 16), ('의미', 16), ('끝', 16), ('표현', 16), ('마음', 16), ('은', 16), ('가격', 16), ('클래식', 15), ('마무리', 15), ('부츠', 15), ('있을', 15), ('감', 15), ('공항', 15), ('강렬한', 15), ('트', 15), ('파자마', 15), ('더욱', 15), ('처음', 15), ('뮤직비디오', 15), ('스커트', 15), ('시술', 15), ('알', 15), ('헤라', 15), ('없는', 15), ('쇼', 15), ('볼륨', 14), ('티', 14), ('옆', 14), ('체크', 14), ('진행', 14), ('빈티', 14), ('티셔츠', 14), ('코코', 14), ('화려한', 14), ('번', 14), ('사실', 14), ('사랑', 14), ('피부', 14), ('글', 14), ('안', 14), ('소재', 14), ('정말', 14), ('여러', 14), ('가지', 14), ('〉', 14), ('팬', 14), ('K', 14), ('도전', 13), ('한', 13), ('앞', 13), ('인상', 13), ('트렌드', 13), ('사랑스러운', 13), ('줄', 13), ('귀여운', 13), ('옷', 13), ('브라운', 13), ('새', 13), ('위드', 13), ('블러', 13), ('섀도', 13), ('아티스트', 13), ('인스타그램', 13), ('연습', 13), ('데뷔', 13), ('주얼리', 12), ('입니다', 12), ('하이', 12), ('생기', 12), ('자연스러운', 12), ('뒤', 12), ('터치', 12), ('살짝', 12), ('이미지', 12), ('화제', 12), ('착용', 12), ('블루', 12), ('디자이너', 12), ('베이스', 12)]\n"
     ]
    }
   ],
   "source": [
    "word = Counter(noun_adj_list)\n",
    "print(word.most_common(200))"
   ]
  },
  {
   "cell_type": "code",
   "execution_count": 159,
   "metadata": {},
   "outputs": [],
   "source": [
    "# # 한 글자인 단어는 제외\n",
    "\n",
    "# for i, v in enumerate(noun_adj_list):\n",
    "#     if len(v)<2:\n",
    "#         noun_adj_list.pop(i)"
   ]
  },
  {
   "cell_type": "code",
   "execution_count": 160,
   "metadata": {},
   "outputs": [],
   "source": [
    "count = Counter(noun_adj_list)"
   ]
  },
  {
   "cell_type": "code",
   "execution_count": 161,
   "metadata": {},
   "outputs": [
    {
     "name": "stdout",
     "output_type": "stream",
     "text": [
      "('제니', 347)\n",
      "('스타일', 124)\n",
      "('BLACKPINK', 121)\n",
      "('컬러', 107)\n",
      "('헤어', 93)\n",
      "('CHANEL', 81)\n",
      "('룩', 80)\n",
      "('스타', 69)\n",
      "('DIOR', 59)\n",
      "('입술', 57)\n",
      "('블랙', 55)\n",
      "('앞머리', 54)\n",
      "('패션', 53)\n",
      "('모습', 51)\n",
      "('연출', 50)\n",
      "('걸', 49)\n",
      "('그녀', 45)\n",
      "('말', 44)\n",
      "('매력', 43)\n",
      "('리사', 43)\n",
      "('매치', 42)\n",
      "('생각', 42)\n",
      "('포인트', 41)\n",
      "('지수', 40)\n",
      "('로제', 40)\n",
      "('일링', 39)\n",
      "('향수', 39)\n",
      "('선택', 37)\n",
      "('분위기', 37)\n",
      "('백', 37)\n",
      "('같은', 37)\n",
      "('브랜드', 37)\n",
      "('패턴', 36)\n",
      "('얼굴', 36)\n",
      "('메이크업', 36)\n",
      "('향', 36)\n",
      "('머리', 35)\n",
      "('사진', 35)\n",
      "('립', 35)\n",
      "('완성', 34)\n",
      "('톱', 34)\n",
      "('호', 34)\n",
      "('가장', 34)\n",
      "('화이트', 33)\n",
      "('전', 33)\n",
      "('사람', 33)\n",
      "('선글라스', 32)\n",
      "('대', 31)\n",
      "('레드', 31)\n",
      "('제품', 30)\n",
      "('니트', 29)\n",
      "('아이템', 29)\n",
      "('장식', 29)\n",
      "('핑크', 29)\n",
      "('재킷', 28)\n",
      "('무대', 28)\n",
      "('카디건', 27)\n",
      "('지금', 27)\n",
      "('드레스', 27)\n",
      "('시작', 26)\n",
      "('리본', 26)\n",
      "('라인', 24)\n",
      "('디자인', 24)\n",
      "('팬츠', 24)\n",
      "('무드', 24)\n",
      "('액세서리', 24)\n",
      "('때문', 24)\n",
      "('탈색', 24)\n",
      "('블리치', 23)\n",
      "('멤버', 23)\n",
      "('데님', 22)\n",
      "('해', 21)\n",
      "('톤', 21)\n",
      "('양', 21)\n",
      "('데', 21)\n",
      "('위해', 21)\n",
      "('필러', 21)\n",
      "('활용', 20)\n",
      "('눈', 20)\n",
      "('느낌', 20)\n",
      "('활동', 20)\n",
      "('영상', 20)\n",
      "('모델', 20)\n",
      "('조이', 20)\n",
      "('강조', 19)\n",
      "('미니', 19)\n",
      "('소화', 19)\n",
      "('순간', 19)\n",
      "('후', 19)\n",
      "('좋은', 19)\n",
      "('부분', 19)\n",
      "('공개', 19)\n",
      "('촬영', 19)\n",
      "('요즘', 19)\n",
      "('사용', 19)\n",
      "('내', 19)\n",
      "('많은', 19)\n",
      "('아이콘', 19)\n",
      "('시크', 18)\n",
      "('소녀', 18)\n",
      "('일리', 18)\n",
      "('앨범', 18)\n",
      "('컬렉션', 18)\n",
      "('밴드', 18)\n",
      "('여성', 18)\n",
      "('점', 18)\n",
      "('볼', 18)\n",
      "('엘르', 18)\n",
      "('셔츠', 17)\n",
      "('크롭트', 17)\n",
      "('도', 17)\n",
      "('대한', 17)\n",
      "('화보', 17)\n",
      "('새로운', 17)\n",
      "('이제', 17)\n",
      "('음악', 17)\n",
      "('바이', 17)\n",
      "('자연', 16)\n",
      "('원피스', 16)\n",
      "('두', 16)\n",
      "('갈래', 16)\n",
      "('기분', 16)\n",
      "('의미', 16)\n",
      "('끝', 16)\n",
      "('표현', 16)\n",
      "('마음', 16)\n",
      "('은', 16)\n",
      "('가격', 16)\n",
      "('클래식', 15)\n",
      "('마무리', 15)\n",
      "('부츠', 15)\n",
      "('있을', 15)\n",
      "('감', 15)\n",
      "('공항', 15)\n",
      "('강렬한', 15)\n",
      "('트', 15)\n",
      "('파자마', 15)\n",
      "('더욱', 15)\n",
      "('처음', 15)\n",
      "('뮤직비디오', 15)\n",
      "('스커트', 15)\n",
      "('시술', 15)\n",
      "('알', 15)\n",
      "('헤라', 15)\n",
      "('없는', 15)\n",
      "('쇼', 15)\n",
      "('볼륨', 14)\n",
      "('티', 14)\n",
      "('옆', 14)\n",
      "('체크', 14)\n",
      "('진행', 14)\n",
      "('빈티', 14)\n",
      "('티셔츠', 14)\n",
      "('코코', 14)\n",
      "('화려한', 14)\n",
      "('번', 14)\n",
      "('사실', 14)\n",
      "('사랑', 14)\n",
      "('피부', 14)\n",
      "('글', 14)\n",
      "('안', 14)\n",
      "('소재', 14)\n",
      "('정말', 14)\n",
      "('여러', 14)\n",
      "('가지', 14)\n",
      "('〉', 14)\n",
      "('팬', 14)\n",
      "('K', 14)\n",
      "('도전', 13)\n",
      "('한', 13)\n",
      "('앞', 13)\n",
      "('인상', 13)\n",
      "('트렌드', 13)\n",
      "('사랑스러운', 13)\n",
      "('줄', 13)\n",
      "('귀여운', 13)\n",
      "('옷', 13)\n",
      "('브라운', 13)\n",
      "('새', 13)\n",
      "('위드', 13)\n",
      "('블러', 13)\n",
      "('섀도', 13)\n",
      "('아티스트', 13)\n",
      "('인스타그램', 13)\n",
      "('연습', 13)\n",
      "('데뷔', 13)\n",
      "('주얼리', 12)\n",
      "('입니다', 12)\n",
      "('하이', 12)\n",
      "('생기', 12)\n",
      "('자연스러운', 12)\n",
      "('뒤', 12)\n",
      "('터치', 12)\n",
      "('살짝', 12)\n",
      "('이미지', 12)\n",
      "('화제', 12)\n",
      "('착용', 12)\n",
      "('블루', 12)\n",
      "('디자이너', 12)\n",
      "('베이스', 12)\n"
     ]
    }
   ],
   "source": [
    "word_list = count.most_common(200)\n",
    "for v in word_list:\n",
    "    print(v)"
   ]
  },
  {
   "cell_type": "markdown",
   "metadata": {},
   "source": [
    "## 워드클라우드 만들기"
   ]
  },
  {
   "cell_type": "code",
   "execution_count": 162,
   "metadata": {},
   "outputs": [],
   "source": [
    "\n",
    "import matplotlib.pyplot as plt"
   ]
  },
  {
   "cell_type": "markdown",
   "metadata": {},
   "source": [
    "### 패키지 설치 및 폰트 어쩌구"
   ]
  },
  {
   "cell_type": "code",
   "execution_count": 163,
   "metadata": {},
   "outputs": [
    {
     "name": "stdout",
     "output_type": "stream",
     "text": [
      "Malgun Gothic C:\\WINDOWS\\Fonts\\malgun.ttf\n",
      "Yu Gothic C:\\WINDOWS\\Fonts\\YuGothB.ttc\n",
      "HYGothic-Extra C:\\WINDOWS\\Fonts\\H2GTRE.TTF\n",
      "Franklin Gothic Medium C:\\WINDOWS\\Fonts\\framdit.ttf\n",
      "Malgun Gothic C:\\Windows\\Fonts\\malgunbd.ttf\n",
      "Yu Gothic C:\\Windows\\Fonts\\YuGothL.ttc\n",
      "Century Gothic C:\\Windows\\Fonts\\GOTHIC.TTF\n",
      "Yu Gothic C:\\Windows\\Fonts\\YuGothM.ttc\n",
      "Yu Gothic C:\\WINDOWS\\Fonts\\YuGothR.ttc\n",
      "MS Gothic C:\\WINDOWS\\Fonts\\msgothic.ttc\n",
      "HYGothic-Medium C:\\WINDOWS\\Fonts\\H2GTRM.TTF\n",
      "Malgun Gothic C:\\WINDOWS\\Fonts\\malgunsl.ttf\n",
      "Century Gothic C:\\Windows\\Fonts\\GOTHICI.TTF\n",
      "Century Gothic C:\\WINDOWS\\Fonts\\GOTHICBI.TTF\n",
      "Century Gothic C:\\Windows\\Fonts\\GOTHICB.TTF\n",
      "Franklin Gothic Medium C:\\WINDOWS\\Fonts\\framd.ttf\n"
     ]
    }
   ],
   "source": [
    "import matplotlib.font_manager as fm\n",
    "\n",
    "# 이용 가능한 폰트 중 '고딕'만 선별\n",
    "for font in fm.fontManager.ttflist:\n",
    "    if 'Gothic' in font.name:\n",
    "        print(font.name, font.fname)"
   ]
  },
  {
   "cell_type": "code",
   "execution_count": 164,
   "metadata": {},
   "outputs": [],
   "source": [
    "font_path = 'C:\\WINDOWS\\Fonts\\malgun.ttf'"
   ]
  },
  {
   "cell_type": "markdown",
   "metadata": {},
   "source": [
    "### wordcloud 그리기"
   ]
  },
  {
   "cell_type": "code",
   "execution_count": 165,
   "metadata": {},
   "outputs": [],
   "source": [
    "from wordcloud import WordCloud"
   ]
  },
  {
   "cell_type": "code",
   "execution_count": 166,
   "metadata": {},
   "outputs": [],
   "source": [
    "wc = WordCloud(font_path=font_path, background_color=\"white\", width=600, height=400)"
   ]
  },
  {
   "cell_type": "code",
   "execution_count": 167,
   "metadata": {},
   "outputs": [
    {
     "data": {
      "image/png": "[encoded data removed]",
      "text/plain": [
       "<Figure size 432x288 with 1 Axes>"
      ]
     },
     "metadata": {
      "needs_background": "light"
     },
     "output_type": "display_data"
    },
    {
     "data": {
      "text/plain": [
       "<wordcloud.wordcloud.WordCloud at 0x2a6792cf4c8>"
      ]
     },
     "execution_count": 167,
     "metadata": {},
     "output_type": "execute_result"
    }
   ],
   "source": [
    "wc.generate_from_frequencies(dict(word_list))\n",
    "\n",
    "plt.imshow(wc) \n",
    "plt.axis('off') \n",
    "plt.show()\n",
    "\n",
    "\n",
    "wc.to_file('jenny_adj_twitter.png')"
   ]
  },
  {
   "cell_type": "code",
   "execution_count": null,
   "metadata": {},
   "outputs": [],
   "source": []
  },
  {
   "cell_type": "code",
   "execution_count": 185,
   "metadata": {},
   "outputs": [],
   "source": [
    "mag_JECH = mag_jenny[['magazine', 'brand', 'title', 'link', 'date', 'word_jenny', 'ADFN']]"
   ]
  },
  {
   "cell_type": "code",
   "execution_count": 186,
   "metadata": {},
   "outputs": [],
   "source": [
    "mag_JECH.to_csv('./magazine/final/mag_JECH.csv', sep = '|', encoding = 'utf-8', index = False)"
   ]
  },
  {
   "cell_type": "code",
   "execution_count": null,
   "metadata": {},
   "outputs": [],
   "source": []
  },
  {
   "cell_type": "code",
   "execution_count": null,
   "metadata": {},
   "outputs": [],
   "source": []
  },
  {
   "cell_type": "code",
   "execution_count": null,
   "metadata": {},
   "outputs": [],
   "source": []
  },
  {
   "cell_type": "code",
   "execution_count": null,
   "metadata": {},
   "outputs": [],
   "source": []
  },
  {
   "cell_type": "code",
   "execution_count": null,
   "metadata": {},
   "outputs": [],
   "source": []
  },
  {
   "cell_type": "code",
   "execution_count": null,
   "metadata": {},
   "outputs": [],
   "source": []
  },
  {
   "cell_type": "code",
   "execution_count": null,
   "metadata": {},
   "outputs": [],
   "source": []
  }
 ],
 "metadata": {
  "kernelspec": {
   "display_name": "Python 3",
   "language": "python",
   "name": "python3"
  },
  "language_info": {
   "codemirror_mode": {
    "name": "ipython",
    "version": 3
   },
   "file_extension": ".py",
   "mimetype": "text/x-python",
   "name": "python",
   "nbconvert_exporter": "python",
   "pygments_lexer": "ipython3",
   "version": "3.7.6"
  }
 },
 "nbformat": 4,
 "nbformat_minor": 2
}
