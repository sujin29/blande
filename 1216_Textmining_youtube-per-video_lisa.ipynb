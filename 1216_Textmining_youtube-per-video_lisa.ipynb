{
 "cells": [
  {
   "cell_type": "code",
   "execution_count": 10,
   "metadata": {},
   "outputs": [],
   "source": [
    "import pandas as pd\n",
    "import numpy as np"
   ]
  },
  {
   "cell_type": "code",
   "execution_count": 11,
   "metadata": {},
   "outputs": [],
   "source": [
    "from collections import Counter"
   ]
  },
  {
   "cell_type": "code",
   "execution_count": 12,
   "metadata": {},
   "outputs": [],
   "source": [
    "video_li = pd.read_csv('./blackpink/video_l.csv', sep='|', encoding = 'utf-8')\n",
    "mag_li = pd.read_csv('./magazine/final/mag_lisa_adfn_2.csv', encoding = 'utf-8', sep = '|')"
   ]
  },
  {
   "cell_type": "code",
   "execution_count": 13,
   "metadata": {},
   "outputs": [],
   "source": [
    "video_li['magazine'] = 'YOUTUBE'\n",
    "video_li['brand'] = 'YOUTUBE'\n",
    "video_li['word_lisa'] = video_li['contents']"
   ]
  },
  {
   "cell_type": "code",
   "execution_count": 14,
   "metadata": {},
   "outputs": [],
   "source": [
    "mag_li = mag_li[['magazine', 'brand', 'title', 'word_lisa']]"
   ]
  },
  {
   "cell_type": "code",
   "execution_count": 15,
   "metadata": {},
   "outputs": [],
   "source": [
    "video_li = video_li[['magazine', 'brand', 'title', 'word_lisa']]"
   ]
  },
  {
   "cell_type": "code",
   "execution_count": 16,
   "metadata": {},
   "outputs": [],
   "source": [
    "tot_li = pd.concat([video_li, mag_li])"
   ]
  },
  {
   "cell_type": "code",
   "execution_count": 17,
   "metadata": {},
   "outputs": [],
   "source": [
    "tot_li.reset_index(drop=True, inplace = True)"
   ]
  },
  {
   "cell_type": "code",
   "execution_count": 18,
   "metadata": {},
   "outputs": [],
   "source": [
    "tot_li.to_csv('./magazine/final/mag-video_l.csv', sep='|', encoding = 'utf-8', index = False)"
   ]
  },
  {
   "cell_type": "code",
   "execution_count": 19,
   "metadata": {},
   "outputs": [
    {
     "data": {
      "text/html": [
       "<div>\n",
       "<style scoped>\n",
       "    .dataframe tbody tr th:only-of-type {\n",
       "        vertical-align: middle;\n",
       "    }\n",
       "\n",
       "    .dataframe tbody tr th {\n",
       "        vertical-align: top;\n",
       "    }\n",
       "\n",
       "    .dataframe thead th {\n",
       "        text-align: right;\n",
       "    }\n",
       "</style>\n",
       "<table border=\"1\" class=\"dataframe\">\n",
       "  <thead>\n",
       "    <tr style=\"text-align: right;\">\n",
       "      <th></th>\n",
       "      <th>magazine</th>\n",
       "      <th>brand</th>\n",
       "      <th>title</th>\n",
       "      <th>word_lisa</th>\n",
       "    </tr>\n",
       "  </thead>\n",
       "  <tbody>\n",
       "    <tr>\n",
       "      <th>111</th>\n",
       "      <td>FN</td>\n",
       "      <td>L</td>\n",
       "      <td>로제, 생로랑 홍보대사!블랙핑크 멤버 모두 럭셔리 브랜드 싹쓸이</td>\n",
       "      <td>NaN</td>\n",
       "    </tr>\n",
       "    <tr>\n",
       "      <th>140</th>\n",
       "      <td>FN</td>\n",
       "      <td>L</td>\n",
       "      <td>로제, 생로랑 홍보대사!블랙핑크 멤버 모두 럭셔리 브랜드 싹쓸이</td>\n",
       "      <td>NaN</td>\n",
       "    </tr>\n",
       "  </tbody>\n",
       "</table>\n",
       "</div>"
      ],
      "text/plain": [
       "    magazine brand                                title word_lisa\n",
       "111       FN     L  로제, 생로랑 홍보대사!블랙핑크 멤버 모두 럭셔리 브랜드 싹쓸이       NaN\n",
       "140       FN     L  로제, 생로랑 홍보대사!블랙핑크 멤버 모두 럭셔리 브랜드 싹쓸이       NaN"
      ]
     },
     "execution_count": 19,
     "metadata": {},
     "output_type": "execute_result"
    }
   ],
   "source": [
    "tot_li[tot_li['word_lisa'].isnull()]"
   ]
  },
  {
   "cell_type": "code",
   "execution_count": 20,
   "metadata": {},
   "outputs": [],
   "source": [
    "tot_li.drop([111, 140], inplace = True)"
   ]
  },
  {
   "cell_type": "code",
   "execution_count": 21,
   "metadata": {},
   "outputs": [],
   "source": [
    "tot_li.reset_index(drop=True, inplace = True)"
   ]
  },
  {
   "cell_type": "code",
   "execution_count": null,
   "metadata": {},
   "outputs": [],
   "source": []
  },
  {
   "cell_type": "code",
   "execution_count": 61,
   "metadata": {},
   "outputs": [
    {
     "name": "stdout",
     "output_type": "stream",
     "text": [
      "This dog 😂\n",
      "This dog \n"
     ]
    }
   ],
   "source": [
    "import re\n",
    " \n",
    "text = u'This dog \\U0001f602'\n",
    "print(text) # with emoji\n",
    " \n",
    "emoji_pattern = re.compile(\"[\"\n",
    "        u\"\\U0001F600-\\U0001F64F\"  # emoticons\n",
    "        u\"\\U0001F300-\\U0001F5FF\"  # symbols & pictographs\n",
    "        u\"\\U0001F680-\\U0001F6FF\"  # transport & map symbols\n",
    "        u\"\\U0001F1E0-\\U0001F1FF\"  # flags (iOS)\n",
    "                           \"]+\", flags=re.UNICODE)\n",
    "print(emoji_pattern.sub(r'', text)) # no emoji"
   ]
  },
  {
   "cell_type": "code",
   "execution_count": 62,
   "metadata": {},
   "outputs": [],
   "source": [
    "tot_li['word_lisa'] = tot_li['word_lisa'].str.replace(emoji_pattern, '').str.replace('♥', '').str.replace('❤️', '').str.replace('❤', '')"
   ]
  },
  {
   "cell_type": "code",
   "execution_count": 63,
   "metadata": {},
   "outputs": [
    {
     "data": {
      "text/plain": [
       "0      ['Yorumlada turk cok gördum ve selamlar verıyo...\n",
       "1      ['나는 당신을 사랑합니다, 나의 햇살.너 굉장하다.사랑해너는 내가 사는 이유야나는...\n",
       "2      ['너는 너무 아름다워!', '얜 공주병', '항상 좋은 음악을 줘서 고마워요!',...\n",
       "3      ['리사 isnt just a star. She is the brightest st...\n",
       "4      ['당신은 바비와 같습니다! 리사♡', '사랑해요.', '이것은 항상 불공평하다. ...\n",
       "                             ...                        \n",
       "192    밀란 패션위크 참석차 출국한 리사의 공항 룩., BLACKPINK 리사가 오늘 2월...\n",
       "193    , , 리사의 패션 브랜드가 탄생할 것으로 보인다.  YG엔터테인먼트가 2019년 ...\n",
       "194    서로의 팬임을 인증한 두 스타, 8월 28일 BLACKPINK와 세레나 고메즈가 함...\n",
       "195    내셔널 아이스크림 데이’를 기념한 BLACKPINK의 귀여운 포스팅., 제니와 리사...\n",
       "196    한국 신진 디자이너부터 하이 패션 브랜드까지 섭렵한 블핑, 6월 26일 드디어 BL...\n",
       "Name: word_lisa, Length: 197, dtype: object"
      ]
     },
     "execution_count": 63,
     "metadata": {},
     "output_type": "execute_result"
    }
   ],
   "source": [
    "tot_li['word_lisa']"
   ]
  },
  {
   "cell_type": "code",
   "execution_count": null,
   "metadata": {},
   "outputs": [],
   "source": []
  },
  {
   "cell_type": "code",
   "execution_count": null,
   "metadata": {},
   "outputs": [],
   "source": []
  },
  {
   "cell_type": "markdown",
   "metadata": {},
   "source": [
    "## list(article_list) 생성 후 append"
   ]
  },
  {
   "cell_type": "code",
   "execution_count": 64,
   "metadata": {},
   "outputs": [],
   "source": [
    "\n",
    "article_list = []\n",
    "for word in tot_li['word_lisa']:\n",
    "    article_list.append(word)"
   ]
  },
  {
   "cell_type": "code",
   "execution_count": 65,
   "metadata": {
    "scrolled": true
   },
   "outputs": [
    {
     "data": {
      "text/plain": [
       "197"
      ]
     },
     "execution_count": 65,
     "metadata": {},
     "output_type": "execute_result"
    }
   ],
   "source": [
    "len(article_list)"
   ]
  },
  {
   "cell_type": "code",
   "execution_count": 66,
   "metadata": {},
   "outputs": [
    {
     "data": {
      "text/plain": [
       "\"['Congratulate on 리사!!! So, I uploaded beatboxing remix 뚜두뚜두 for BLACKPINK! Hope you like it!! We love BLACKPINK!!(´∇｀)', '어째서 BLACKPINK는 댓글을 달지 않았어', '리사, 당신은 훌륭 해요. 당신은 확실히 메인 댄서가 될 자격이 있습니다.', '0:51 그를 잡았 기 때문에 나는 해커가 아닙니다', '비율보소~~와우🤩', '공주님 사랑 해요', '진짜 졸라 말랐네', '안녕이 노래는 내가 첫 노래에서 sds를들은 첫 노래 🥺 사랑 BLACKPINK 동의', '리사가 한국 산업에 적응하기가 너무 힘들지만 그녀는 여전히 관리하고 있습니다.', '춤 천재', '리사누나 나~죽어~~', '어머 리사아아..', '사랑해 내 소원은 ', '언제나처럼 끔찍한', '리사 너무 좋은 당신의 모든', '바비인형 리사누나 ♡', '미친 허리 실화냐', '스타리 모스트', '리사 는 가장 큰', '리사 ♡', '진짜 얼굴 소멸하기 1초전이네', '비율봐라 180이라고 누가 그러면 믿겠네 ...', '마네킹몸매가 현존해 ..... 신기해 ......', '진짜 오진다 오져...', '리사 ️️️️️️️️사랑']\""
      ]
     },
     "execution_count": 66,
     "metadata": {},
     "output_type": "execute_result"
    }
   ],
   "source": [
    "article_list[6]"
   ]
  },
  {
   "cell_type": "code",
   "execution_count": null,
   "metadata": {},
   "outputs": [],
   "source": []
  },
  {
   "cell_type": "markdown",
   "metadata": {},
   "source": [
    "## 트위터 패키지 안에 konlpy 모듈 호출"
   ]
  },
  {
   "cell_type": "code",
   "execution_count": 67,
   "metadata": {},
   "outputs": [],
   "source": [
    "from konlpy.tag import Twitter"
   ]
  },
  {
   "cell_type": "code",
   "execution_count": 68,
   "metadata": {},
   "outputs": [
    {
     "name": "stderr",
     "output_type": "stream",
     "text": [
      "C:\\Users\\wnsgo\\anaconda3\\lib\\site-packages\\konlpy\\tag\\_okt.py:16: UserWarning: \"Twitter\" has changed to \"Okt\" since KoNLPy v0.4.5.\n",
      "  warn('\"Twitter\" has changed to \"Okt\" since KoNLPy v0.4.5.')\n"
     ]
    }
   ],
   "source": [
    "twitter = Twitter()"
   ]
  },
  {
   "cell_type": "markdown",
   "metadata": {},
   "source": [
    "### 각 문장별로 형태소 구분하기"
   ]
  },
  {
   "cell_type": "code",
   "execution_count": 69,
   "metadata": {},
   "outputs": [
    {
     "name": "stdout",
     "output_type": "stream",
     "text": [
      "197\n"
     ]
    }
   ],
   "source": [
    "sentences_tag = []\n",
    "\n",
    "for sentence in article_list:\n",
    "    morph = twitter.pos(sentence)\n",
    "    sentences_tag.append(morph)\n",
    "    \n",
    "    \n",
    "\n",
    "print(len(sentences_tag))\n"
   ]
  },
  {
   "cell_type": "code",
   "execution_count": 70,
   "metadata": {},
   "outputs": [
    {
     "data": {
      "text/plain": [
       "[(\"['\", 'Punctuation'),\n",
       " ('Yorumlada', 'Alpha'),\n",
       " ('turk', 'Alpha'),\n",
       " ('cok', 'Alpha'),\n",
       " ('g', 'Alpha'),\n",
       " ('ö', 'Foreign'),\n",
       " ('rdum', 'Alpha'),\n",
       " ('ve', 'Alpha'),\n",
       " ('selamlar', 'Alpha'),\n",
       " ('ver', 'Alpha'),\n",
       " ('ı', 'Foreign'),\n",
       " ('yorum', 'Alpha'),\n",
       " ('한국어', 'Noun'),\n",
       " ('깜박임', 'Noun'),\n",
       " (\"',\", 'Punctuation'),\n",
       " (\"'\", 'Punctuation'),\n",
       " ('다시', 'Noun'),\n",
       " ('봐도', 'Verb'),\n",
       " ('넘', 'Verb'),\n",
       " ('멋있당', 'Adjective'),\n",
       " (\"..',\", 'Punctuation'),\n",
       " (\"'\", 'Punctuation'),\n",
       " ('리사', 'Noun'),\n",
       " ('BLACKPINK', 'Alpha'),\n",
       " (\"',\", 'Punctuation'),\n",
       " (\"'\", 'Punctuation'),\n",
       " ('나', 'Noun'),\n",
       " ('난', 'Josa'),\n",
       " ('니', 'Noun'),\n",
       " ('ㄷ', 'KoreanParticle'),\n",
       " ('ㅅ', 'KoreanParticle'),\n",
       " ('닺내애', 'Noun'),\n",
       " ('ㅣ', 'KoreanParticle'),\n",
       " ('ㄷㅎㅊ', 'KoreanParticle'),\n",
       " ('ㅈ', 'KoreanParticle'),\n",
       " ('휸', 'Noun'),\n",
       " ('도', 'Noun'),\n",
       " ('ㄴ', 'KoreanParticle'),\n",
       " (',', 'Punctuation'),\n",
       " ('잳재넬', 'Noun'),\n",
       " ('ㅈ', 'KoreanParticle'),\n",
       " ('래댇', 'Noun'),\n",
       " (',', 'Punctuation'),\n",
       " ('댜', 'Noun'),\n",
       " ('종', 'Noun'),\n",
       " ('ㅁ', 'KoreanParticle'),\n",
       " ('댲', 'Noun'),\n",
       " ('지', 'Verb'),\n",
       " ('ㅜ', 'KoreanParticle'),\n",
       " (':)', 'Punctuation'),\n",
       " ('√®', 'Foreign'),\n",
       " (\"',\", 'Punctuation'),\n",
       " (\"'\", 'Punctuation'),\n",
       " ('T', 'Alpha'),\n",
       " ('ü', 'Foreign'),\n",
       " ('m', 'Alpha'),\n",
       " ('Turk', 'Alpha'),\n",
       " ('ı', 'Foreign'),\n",
       " ('sh', 'Alpha'),\n",
       " ('bl', 'Alpha'),\n",
       " ('ı', 'Foreign'),\n",
       " ('nk', 'Alpha'),\n",
       " ('lovesickgirl', 'Alpha'),\n",
       " ('aks', 'Alpha'),\n",
       " ('ı', 'Foreign'),\n",
       " ('n', 'Alpha'),\n",
       " ('yar', 'Alpha'),\n",
       " ('ışı', 'Foreign'),\n",
       " ('kazanmal', 'Alpha'),\n",
       " ('ı', 'Foreign'),\n",
       " ('y', 'Alpha'),\n",
       " ('ı', 'Foreign'),\n",
       " ('zzz', 'Alpha'),\n",
       " ('터키어', 'Noun'),\n",
       " ('깜박임', 'Noun'),\n",
       " ('사랑', 'Noun'),\n",
       " (\"',\", 'Punctuation'),\n",
       " (\"'#리사\", 'Hashtag'),\n",
       " ('#BLACKPINK', 'Hashtag'),\n",
       " ('#리사', 'Hashtag'),\n",
       " (\"',\", 'Punctuation'),\n",
       " (\"'\", 'Punctuation'),\n",
       " ('0:06', 'Number'),\n",
       " ('많이', 'Adverb'),\n",
       " ('말랐네', 'Adjective'),\n",
       " ('갈비뼈', 'Noun'),\n",
       " ('보인다', 'Verb'),\n",
       " (\"...',\", 'Punctuation'),\n",
       " (\"'\", 'Punctuation'),\n",
       " ('제', 'Noun'),\n",
       " ('채널', 'Noun'),\n",
       " ('을', 'Josa'),\n",
       " ('구독', 'Noun'),\n",
       " ('해주세요', 'Verb'),\n",
       " ('.', 'Punctuation'),\n",
       " ('등록', 'Noun'),\n",
       " ('하신', 'Verb'),\n",
       " ('어머니', 'Noun'),\n",
       " ('가', 'Josa'),\n",
       " ('10', 'Number'),\n",
       " ('만', 'Noun'),\n",
       " ('달러', 'Noun'),\n",
       " ('를', 'Josa'),\n",
       " ('벌고', 'Verb'),\n",
       " ('평생', 'Noun'),\n",
       " ('행복하길', 'Adjective'),\n",
       " ('바랍니다', 'Verb'),\n",
       " (\"',\", 'Punctuation'),\n",
       " (\"'\", 'Punctuation'),\n",
       " ('BLACKPINK', 'Alpha'),\n",
       " ('ILOVE', 'Alpha'),\n",
       " ('YOU', 'Alpha'),\n",
       " ('리사', 'Noun'),\n",
       " ('사', 'Noun'),\n",
       " ('랑', 'Josa'),\n",
       " ('해', 'Noun'),\n",
       " ('요', 'Noun'),\n",
       " ('♡♡', 'Foreign'),\n",
       " (\"',\", 'Punctuation'),\n",
       " (\"'\", 'Punctuation'),\n",
       " ('너무', 'Adverb'),\n",
       " ('....', 'Punctuation'),\n",
       " ('멋있다', 'Adjective'),\n",
       " (\"...',\", 'Punctuation'),\n",
       " (\"'\", 'Punctuation'),\n",
       " ('매력', 'Noun'),\n",
       " ('넘치는', 'Adjective'),\n",
       " ('리사', 'Noun'),\n",
       " ('~', 'Punctuation'),\n",
       " ('넘', 'Verb'),\n",
       " ('예쁘다', 'Adjective'),\n",
       " ('요', 'Noun'),\n",
       " ('🤩', 'Foreign'),\n",
       " (\"',\", 'Punctuation'),\n",
       " (\"'\", 'Punctuation'),\n",
       " ('와우', 'Noun'),\n",
       " ('리사', 'Noun'),\n",
       " (\"',\", 'Punctuation'),\n",
       " (\"'\", 'Punctuation'),\n",
       " ('완벽한', 'Adjective'),\n",
       " ('브라보', 'Noun'),\n",
       " (\"',\", 'Punctuation'),\n",
       " (\"'\", 'Punctuation'),\n",
       " ('Wawww', 'Alpha'),\n",
       " ('cloths', 'Alpha'),\n",
       " ('리사', 'Noun'),\n",
       " ('사랑', 'Noun'),\n",
       " ('해요', 'Verb'),\n",
       " (\"',\", 'Punctuation'),\n",
       " (\"'\", 'Punctuation'),\n",
       " ('오', 'Noun'),\n",
       " ('하나님', 'Noun'),\n",
       " (',', 'Punctuation'),\n",
       " ('나', 'Noun'),\n",
       " ('는', 'Josa'),\n",
       " ('매우', 'Noun'),\n",
       " ('달콤하고', 'Adjective'),\n",
       " (',', 'Punctuation'),\n",
       " ('당신', 'Noun'),\n",
       " ('을', 'Josa'),\n",
       " ('사랑', 'Noun'),\n",
       " ('합니다', 'Verb'),\n",
       " (',', 'Punctuation'),\n",
       " ('나', 'Noun'),\n",
       " ('는', 'Josa'),\n",
       " ('깜빡', 'Noun'),\n",
       " ('이고', 'Josa'),\n",
       " ('가', 'Verb'),\n",
       " ('아니며', 'Adjective'),\n",
       " (',', 'Punctuation'),\n",
       " ('나', 'Noun'),\n",
       " ('는', 'Josa'),\n",
       " ('당신', 'Noun'),\n",
       " ('을', 'Josa'),\n",
       " ('모두', 'Noun'),\n",
       " ('사랑', 'Noun'),\n",
       " ('합니다', 'Verb'),\n",
       " (\".',\", 'Punctuation'),\n",
       " (\"'\", 'Punctuation'),\n",
       " ('와우', 'Noun'),\n",
       " ('리사', 'Noun'),\n",
       " ('는', 'Josa'),\n",
       " ('너무', 'Adverb'),\n",
       " ('멋있다', 'Adjective'),\n",
       " ('아름다워', 'Adjective'),\n",
       " ('좋아', 'Adjective'),\n",
       " (\"',\", 'Punctuation'),\n",
       " (\"'\", 'Punctuation'),\n",
       " ('아니', 'Adjective'),\n",
       " (\"',\", 'Punctuation'),\n",
       " (\"'\", 'Punctuation'),\n",
       " ('그', 'Noun'),\n",
       " ('들', 'Suffix'),\n",
       " ('은', 'Josa'),\n",
       " ('미쳤지', 'Adjective'),\n",
       " ('않고', 'Verb'),\n",
       " ('내', 'Noun'),\n",
       " ('가', 'Josa'),\n",
       " ('당신', 'Noun'),\n",
       " ('을', 'Josa'),\n",
       " ('사랑', 'Noun'),\n",
       " ('한다는', 'Modifier'),\n",
       " ('것', 'Noun'),\n",
       " ('을', 'Josa'),\n",
       " ('알', 'Noun'),\n",
       " ('게', 'Josa'),\n",
       " ('됩니다', 'Verb'),\n",
       " ('.', 'Punctuation'),\n",
       " ('그', 'Noun'),\n",
       " ('들', 'Suffix'),\n",
       " ('은', 'Josa'),\n",
       " ('당신', 'Noun'),\n",
       " ('이', 'Josa'),\n",
       " ('아닙니다', 'Adjective'),\n",
       " ('.', 'Punctuation'),\n",
       " ('내', 'Noun'),\n",
       " ('인생', 'Noun'),\n",
       " ('은', 'Josa'),\n",
       " ('세상', 'Noun'),\n",
       " ('에서', 'Josa'),\n",
       " ('가장', 'Noun'),\n",
       " ('좋은', 'Adjective'),\n",
       " ('소녀', 'Noun'),\n",
       " ('입니다', 'Adjective'),\n",
       " (\"',\", 'Punctuation'),\n",
       " (\"'\", 'Punctuation'),\n",
       " ('나', 'Noun'),\n",
       " ('는', 'Josa'),\n",
       " ('당신', 'Noun'),\n",
       " ('을', 'Josa'),\n",
       " ('사랑', 'Noun'),\n",
       " ('합니다', 'Verb'),\n",
       " (',', 'Punctuation'),\n",
       " ('나', 'Noun'),\n",
       " ('의', 'Josa'),\n",
       " ('햇살', 'Noun'),\n",
       " ('.', 'Punctuation'),\n",
       " ('너', 'Noun'),\n",
       " ('굉장하다', 'Adjective'),\n",
       " ('.', 'Punctuation'),\n",
       " ('사랑', 'Noun'),\n",
       " ('해', 'Verb'),\n",
       " ('너', 'Noun'),\n",
       " ('는', 'Josa'),\n",
       " ('내', 'Noun'),\n",
       " ('가', 'Josa'),\n",
       " ('사는', 'Verb'),\n",
       " ('이유', 'Noun'),\n",
       " ('야', 'Josa'),\n",
       " ('나', 'Noun'),\n",
       " ('는', 'Josa'),\n",
       " ('당신', 'Noun'),\n",
       " ('의', 'Josa'),\n",
       " ('존재', 'Noun'),\n",
       " ('에', 'Josa'),\n",
       " ('대해', 'Noun'),\n",
       " ('매우', 'Noun'),\n",
       " ('감사합니다', 'Verb'),\n",
       " (\"',\", 'Punctuation'),\n",
       " (\"'\", 'Punctuation'),\n",
       " ('솔직히', 'Adjective'),\n",
       " ('그녀', 'Noun'),\n",
       " ('는', 'Josa'),\n",
       " ('내', 'Noun'),\n",
       " ('가', 'Josa'),\n",
       " ('좋아하는', 'Adjective'),\n",
       " ('유일한', 'Adjective'),\n",
       " ('사람', 'Noun'),\n",
       " ('입니다', 'Adjective'),\n",
       " (\"',\", 'Punctuation'),\n",
       " (\"'\", 'Punctuation'),\n",
       " ('리자', 'Noun'),\n",
       " ('사랑', 'Noun'),\n",
       " ('해요', 'Verb'),\n",
       " (\".',\", 'Punctuation'),\n",
       " (\"'\", 'Punctuation'),\n",
       " ('와칸', 'Noun'),\n",
       " ('다', 'Adverb'),\n",
       " ('포에버', 'Noun'),\n",
       " (\"',\", 'Punctuation'),\n",
       " (\"'\", 'Punctuation'),\n",
       " ('여버세', 'Noun'),\n",
       " ('요', 'Josa'),\n",
       " (\"']\", 'Punctuation')]"
      ]
     },
     "execution_count": 70,
     "metadata": {},
     "output_type": "execute_result"
    }
   ],
   "source": [
    "sentences_tag[0]"
   ]
  },
  {
   "cell_type": "code",
   "execution_count": 71,
   "metadata": {},
   "outputs": [
    {
     "data": {
      "text/plain": [
       "{'Adjective': '형용사',\n",
       " 'Adverb': '부사',\n",
       " 'Alpha': '알파벳',\n",
       " 'Conjunction': '접속사',\n",
       " 'Determiner': '관형사',\n",
       " 'Eomi': '어미',\n",
       " 'Exclamation': '감탄사',\n",
       " 'Foreign': '외국어, 한자 및 기타기호',\n",
       " 'Hashtag': '트위터 해쉬태그',\n",
       " 'Josa': '조사',\n",
       " 'KoreanParticle': '(ex: ㅋㅋ)',\n",
       " 'Noun': '명사',\n",
       " 'Number': '숫자',\n",
       " 'PreEomi': '선어말어미',\n",
       " 'Punctuation': '구두점',\n",
       " 'ScreenName': '트위터 아이디',\n",
       " 'Suffix': '접미사',\n",
       " 'Unknown': '미등록어',\n",
       " 'Verb': '동사'}"
      ]
     },
     "execution_count": 71,
     "metadata": {},
     "output_type": "execute_result"
    }
   ],
   "source": [
    "twitter.tagset"
   ]
  },
  {
   "cell_type": "markdown",
   "metadata": {},
   "source": [
    "### stopword 추가"
   ]
  },
  {
   "cell_type": "code",
   "execution_count": 72,
   "metadata": {},
   "outputs": [],
   "source": [
    "sw_df = pd.read_csv('stopwords.csv', header=None)"
   ]
  },
  {
   "cell_type": "code",
   "execution_count": 73,
   "metadata": {},
   "outputs": [],
   "source": [
    "sw_df.columns = ['stopword']"
   ]
  },
  {
   "cell_type": "code",
   "execution_count": 74,
   "metadata": {},
   "outputs": [],
   "source": [
    "stop_words = []\n",
    "for sw in sw_df['stopword']:\n",
    "    stop_words.append(sw)"
   ]
  },
  {
   "cell_type": "code",
   "execution_count": 75,
   "metadata": {},
   "outputs": [
    {
     "name": "stdout",
     "output_type": "stream",
     "text": [
      "675\n",
      "<class 'list'>\n"
     ]
    }
   ],
   "source": [
    "print(len(stop_words))\n",
    "print(type(stop_words))"
   ]
  },
  {
   "cell_type": "code",
   "execution_count": 76,
   "metadata": {},
   "outputs": [
    {
     "data": {
      "text/plain": [
       "['둘', '셋', '넷', '다섯', '여섯', '일곱', '여덟', '아홉', '령', '영']"
      ]
     },
     "execution_count": 76,
     "metadata": {},
     "output_type": "execute_result"
    }
   ],
   "source": [
    "stop_words[-10:]"
   ]
  },
  {
   "cell_type": "code",
   "execution_count": 77,
   "metadata": {},
   "outputs": [],
   "source": [
    "add_0 = []\n",
    "for w in add_0:\n",
    "    stop_words.append(w)"
   ]
  },
  {
   "cell_type": "code",
   "execution_count": 78,
   "metadata": {},
   "outputs": [
    {
     "data": {
      "text/plain": [
       "675"
      ]
     },
     "execution_count": 78,
     "metadata": {},
     "output_type": "execute_result"
    }
   ],
   "source": [
    "len(stop_words)"
   ]
  },
  {
   "cell_type": "code",
   "execution_count": null,
   "metadata": {},
   "outputs": [],
   "source": []
  },
  {
   "cell_type": "markdown",
   "metadata": {},
   "source": [
    "### 1. 명사 혹은 형용사인 품사만 선별해 리스트에 담기"
   ]
  },
  {
   "cell_type": "code",
   "execution_count": 79,
   "metadata": {},
   "outputs": [],
   "source": [
    "noun_adj_list= []\n",
    "for sentence1 in sentences_tag:\n",
    "    for word, tag in sentence1:\n",
    "        if tag in ['Noun', 'Adjective', 'Alpha', 'Determiner', 'Foreign', 'Verb']:\n",
    "            if not word in stop_words:\n",
    "                noun_adj_list.append(word)"
   ]
  },
  {
   "cell_type": "code",
   "execution_count": 80,
   "metadata": {},
   "outputs": [
    {
     "data": {
      "text/plain": [
       "72498"
      ]
     },
     "execution_count": 80,
     "metadata": {},
     "output_type": "execute_result"
    }
   ],
   "source": [
    "len(noun_adj_list)"
   ]
  },
  {
   "cell_type": "code",
   "execution_count": 81,
   "metadata": {},
   "outputs": [
    {
     "data": {
      "text/plain": [
       "['Yorumlada',\n",
       " 'turk',\n",
       " 'cok',\n",
       " 'g',\n",
       " 'ö',\n",
       " 'rdum',\n",
       " 've',\n",
       " 'selamlar',\n",
       " 'ver',\n",
       " 'ı',\n",
       " 'yorum',\n",
       " '한국어',\n",
       " '깜박임',\n",
       " '다시',\n",
       " '봐도',\n",
       " '넘',\n",
       " '멋있당',\n",
       " '리사',\n",
       " 'BLACKPINK',\n",
       " '니']"
      ]
     },
     "execution_count": 81,
     "metadata": {},
     "output_type": "execute_result"
    }
   ],
   "source": [
    "noun_adj_list[:20]"
   ]
  },
  {
   "cell_type": "code",
   "execution_count": 82,
   "metadata": {},
   "outputs": [
    {
     "data": {
      "text/plain": [
       "['Yorumlada', 'turk', 'cok', 'g', 'ö', 'rdum', 've', 'selamlar', 'ver', 'ı']"
      ]
     },
     "execution_count": 82,
     "metadata": {},
     "output_type": "execute_result"
    }
   ],
   "source": [
    "noun_adj_list[:10]"
   ]
  },
  {
   "cell_type": "code",
   "execution_count": 83,
   "metadata": {},
   "outputs": [],
   "source": [
    "ADFN_list= []\n",
    "for sentence1 in sentences_tag:\n",
    "    words = []\n",
    "    for word, tag in sentence1:\n",
    "        if tag in ['Adjective', 'Determiner','Foreign','Noun', 'Alpha', 'Verb']:\n",
    "            if word not in stop_words:\n",
    "                words.append(word)\n",
    "    ADFN_list.append(words)"
   ]
  },
  {
   "cell_type": "code",
   "execution_count": 84,
   "metadata": {},
   "outputs": [
    {
     "data": {
      "text/plain": [
       "197"
      ]
     },
     "execution_count": 84,
     "metadata": {},
     "output_type": "execute_result"
    }
   ],
   "source": [
    "len(ADFN_list)"
   ]
  },
  {
   "cell_type": "code",
   "execution_count": 85,
   "metadata": {},
   "outputs": [
    {
     "data": {
      "text/plain": [
       "['Yorumlada',\n",
       " 'turk',\n",
       " 'cok',\n",
       " 'g',\n",
       " 'ö',\n",
       " 'rdum',\n",
       " 've',\n",
       " 'selamlar',\n",
       " 'ver',\n",
       " 'ı',\n",
       " 'yorum',\n",
       " '한국어',\n",
       " '깜박임',\n",
       " '다시',\n",
       " '봐도',\n",
       " '넘',\n",
       " '멋있당',\n",
       " '리사',\n",
       " 'BLACKPINK',\n",
       " '니',\n",
       " '닺내애',\n",
       " '휸',\n",
       " '도',\n",
       " '잳재넬',\n",
       " '래댇',\n",
       " '댜',\n",
       " '종',\n",
       " '댲',\n",
       " '지',\n",
       " '√®',\n",
       " 'T',\n",
       " 'ü',\n",
       " 'm',\n",
       " 'Turk',\n",
       " 'ı',\n",
       " 'sh',\n",
       " 'bl',\n",
       " 'ı',\n",
       " 'nk',\n",
       " 'lovesickgirl',\n",
       " 'aks',\n",
       " 'ı',\n",
       " 'n',\n",
       " 'yar',\n",
       " 'ışı',\n",
       " 'kazanmal',\n",
       " 'ı',\n",
       " 'y',\n",
       " 'ı',\n",
       " 'zzz',\n",
       " '터키어',\n",
       " '깜박임',\n",
       " '사랑',\n",
       " '말랐네',\n",
       " '갈비뼈',\n",
       " '보인다',\n",
       " '채널',\n",
       " '구독',\n",
       " '해주세요',\n",
       " '등록',\n",
       " '하신',\n",
       " '어머니',\n",
       " '만',\n",
       " '달러',\n",
       " '벌고',\n",
       " '평생',\n",
       " '행복하길',\n",
       " '바랍니다',\n",
       " 'BLACKPINK',\n",
       " 'ILOVE',\n",
       " 'YOU',\n",
       " '리사',\n",
       " '해',\n",
       " '요',\n",
       " '♡♡',\n",
       " '멋있다',\n",
       " '매력',\n",
       " '넘치는',\n",
       " '리사',\n",
       " '넘',\n",
       " '예쁘다',\n",
       " '요',\n",
       " '🤩',\n",
       " '와우',\n",
       " '리사',\n",
       " '완벽한',\n",
       " '브라보',\n",
       " 'Wawww',\n",
       " 'cloths',\n",
       " '리사',\n",
       " '사랑',\n",
       " '하나님',\n",
       " '매우',\n",
       " '달콤하고',\n",
       " '사랑',\n",
       " '합니다',\n",
       " '깜빡',\n",
       " '아니며',\n",
       " '사랑',\n",
       " '합니다',\n",
       " '와우',\n",
       " '리사',\n",
       " '멋있다',\n",
       " '아름다워',\n",
       " '미쳤지',\n",
       " '않고',\n",
       " '내',\n",
       " '사랑',\n",
       " '알',\n",
       " '됩니다',\n",
       " '아닙니다',\n",
       " '내',\n",
       " '인생',\n",
       " '세상',\n",
       " '가장',\n",
       " '좋은',\n",
       " '소녀',\n",
       " '입니다',\n",
       " '사랑',\n",
       " '합니다',\n",
       " '햇살',\n",
       " '굉장하다',\n",
       " '사랑',\n",
       " '해',\n",
       " '내',\n",
       " '사는',\n",
       " '이유',\n",
       " '존재',\n",
       " '대해',\n",
       " '매우',\n",
       " '감사합니다',\n",
       " '솔직히',\n",
       " '그녀',\n",
       " '내',\n",
       " '좋아하는',\n",
       " '유일한',\n",
       " '사람',\n",
       " '입니다',\n",
       " '리자',\n",
       " '사랑',\n",
       " '와칸',\n",
       " '포에버',\n",
       " '여버세']"
      ]
     },
     "execution_count": 85,
     "metadata": {},
     "output_type": "execute_result"
    }
   ],
   "source": [
    "ADFN_list[0]"
   ]
  },
  {
   "cell_type": "code",
   "execution_count": 86,
   "metadata": {},
   "outputs": [],
   "source": [
    "tot_li['ADFN'] = ADFN_list"
   ]
  },
  {
   "cell_type": "code",
   "execution_count": null,
   "metadata": {},
   "outputs": [],
   "source": []
  },
  {
   "cell_type": "markdown",
   "metadata": {},
   "source": [
    "### 선별된 품사별 빈도수 계산 & 상위 빈도 10위까지 출력"
   ]
  },
  {
   "cell_type": "code",
   "execution_count": 87,
   "metadata": {
    "scrolled": true
   },
   "outputs": [
    {
     "name": "stdout",
     "output_type": "stream",
     "text": [
      "[('리사', 3570), ('진짜', 1258), ('BLACKPINK', 867), ('예쁘다', 676), ('귀엽다', 543), ('춤', 478), ('해', 418), ('제니', 349), ('거', 342), ('사랑', 319), ('존나', 313), ('하는', 309), ('랩', 275), ('개', 271), ('한국', 255), ('더', 251), ('사람', 247), ('영어', 247), ('말', 242), ('내', 235), ('할', 235), ('노래', 223), ('멤버', 212), ('잘', 206), ('한', 206), ('영상', 197), ('얼굴', 195), ('무대', 192), ('지수', 191), ('했다', 189), ('뭐', 181), ('아이돌', 178), ('애', 174), ('매력', 172), ('태국', 170), ('넘', 168), ('수', 166), ('언니', 157), ('한국어', 155), ('중국', 153), ('정말', 152), ('그냥', 146), ('한국인', 145), ('보고', 142), ('사진', 141), ('패션', 139), ('있는', 136), ('생각', 134), ('로제', 133), ('표정', 132), ('비율', 131), ('멋있다', 129), ('전소민', 129), ('댓글', 126), ('실력', 124), ('느낌', 123), ('공유', 121), ('임', 118), ('외국인', 117), ('하고', 113), ('모습', 113), ('보면', 112), ('정도', 109), ('팬', 107), ('는', 104), ('역시', 103), ('걸', 102), ('발음', 101), ('여자', 100), ('해서', 100), ('중', 100), ('블랙', 98), ('난', 98), ('안', 98), ('같은', 98), ('요', 96), ('완전', 96), ('양세찬', 96), ('입니다', 93), ('눈', 93), ('머리', 92), ('데', 92), ('최고', 90), ('하면', 90), ('하는거', 90), ('스타', 89), ('게', 88), ('분', 88), ('연습생', 88), ('지금', 86), ('호랑이', 86), ('한다', 85), ('전', 85), ('컬러', 84), ('함', 83), ('같음', 82), ('예능', 82), ('제일', 81), ('줄', 80), ('듯', 79), ('그녀', 78), ('인기', 78), ('같은데', 77), ('스타일', 76), ('룩', 75), ('가장', 74), ('위', 74), ('합니다', 73), ('뭔가', 73), ('프로', 71), ('다리', 71), ('된', 71), ('기자', 71), ('은', 70), ('앞머리', 69), ('도', 68), ('좋은', 68), ('두', 68), ('그룹', 68), ('데뷔', 67), ('단발', 67), ('태국인', 67), ('컬렉션', 67), ('♡', 66), ('외국', 66), ('계속', 65), ('CELINE', 65), ('알', 64), ('I', 64), ('인형', 64), ('브랜드', 64), ('없는', 63), ('걸그룹', 63), ('하는데', 62), ('YG', 62), ('모델', 61), ('하네', 61), ('좋다', 61), ('대박', 60), ('노력', 60), ('카리스마', 60), ('짱', 60), ('항상', 59), ('아는', 59), ('쌤', 59), ('속', 58), ('한국말', 58), ('택시', 58), ('다시', 57), ('처음', 57), ('이유', 56), ('이름', 56), ('간지', 56), ('하지', 56), ('같아', 56), ('선생님', 56), ('참석', 55), ('아니라', 54), ('부분', 54), ('우리나라', 53), ('세계', 53), ('겁나', 53), ('활동', 53), ('썸네일', 53), ('컴백', 53), ('보', 53), ('나도', 53), ('봄', 53), ('날', 52), ('움', 52), ('해외', 52), ('통해', 52), ('프라다', 52), ('좋아요', 51), ('요즘', 51), ('한편', 51), ('포인트', 51), ('매치', 51), ('봐도', 50), ('미쳤다', 50), ('가사', 50), ('이제', 50), ('연습', 50), ('옷', 49), ('명', 49), ('a', 48), ('성격', 48), ('목소리', 48), ('건', 48), ('콘서트', 48), ('솔직히', 47), ('했는데', 47), ('하게', 47), ('춤선', 47), ('저런', 47), ('화보', 47), ('민', 47), ('분위기', 46), ('공개', 46), ('재킷', 46)]\n"
     ]
    }
   ],
   "source": [
    "word = Counter(noun_adj_list)\n",
    "print(word.most_common(200))"
   ]
  },
  {
   "cell_type": "code",
   "execution_count": 88,
   "metadata": {},
   "outputs": [],
   "source": [
    "# # 한 글자인 단어는 제외\n",
    "\n",
    "# for i, v in enumerate(noun_adj_list):\n",
    "#     if len(v)<2:\n",
    "#         noun_adj_list.pop(i)"
   ]
  },
  {
   "cell_type": "code",
   "execution_count": 89,
   "metadata": {},
   "outputs": [],
   "source": [
    "count = Counter(noun_adj_list)"
   ]
  },
  {
   "cell_type": "code",
   "execution_count": 90,
   "metadata": {},
   "outputs": [
    {
     "name": "stdout",
     "output_type": "stream",
     "text": [
      "('리사', 3570)\n",
      "('진짜', 1258)\n",
      "('BLACKPINK', 867)\n",
      "('예쁘다', 676)\n",
      "('귀엽다', 543)\n",
      "('춤', 478)\n",
      "('해', 418)\n",
      "('제니', 349)\n",
      "('거', 342)\n",
      "('사랑', 319)\n",
      "('존나', 313)\n",
      "('하는', 309)\n",
      "('랩', 275)\n",
      "('개', 271)\n",
      "('한국', 255)\n",
      "('더', 251)\n",
      "('사람', 247)\n",
      "('영어', 247)\n",
      "('말', 242)\n",
      "('내', 235)\n",
      "('할', 235)\n",
      "('노래', 223)\n",
      "('멤버', 212)\n",
      "('잘', 206)\n",
      "('한', 206)\n",
      "('영상', 197)\n",
      "('얼굴', 195)\n",
      "('무대', 192)\n",
      "('지수', 191)\n",
      "('했다', 189)\n",
      "('뭐', 181)\n",
      "('아이돌', 178)\n",
      "('애', 174)\n",
      "('매력', 172)\n",
      "('태국', 170)\n",
      "('넘', 168)\n",
      "('수', 166)\n",
      "('언니', 157)\n",
      "('한국어', 155)\n",
      "('중국', 153)\n",
      "('정말', 152)\n",
      "('그냥', 146)\n",
      "('한국인', 145)\n",
      "('보고', 142)\n",
      "('사진', 141)\n",
      "('패션', 139)\n",
      "('있는', 136)\n",
      "('생각', 134)\n",
      "('로제', 133)\n",
      "('표정', 132)\n",
      "('비율', 131)\n",
      "('멋있다', 129)\n",
      "('전소민', 129)\n",
      "('댓글', 126)\n",
      "('실력', 124)\n",
      "('느낌', 123)\n",
      "('공유', 121)\n",
      "('임', 118)\n",
      "('외국인', 117)\n",
      "('하고', 113)\n",
      "('모습', 113)\n",
      "('보면', 112)\n",
      "('정도', 109)\n",
      "('팬', 107)\n",
      "('는', 104)\n",
      "('역시', 103)\n",
      "('걸', 102)\n",
      "('발음', 101)\n",
      "('여자', 100)\n",
      "('해서', 100)\n",
      "('중', 100)\n",
      "('블랙', 98)\n",
      "('난', 98)\n",
      "('안', 98)\n",
      "('같은', 98)\n",
      "('요', 96)\n",
      "('완전', 96)\n",
      "('양세찬', 96)\n",
      "('입니다', 93)\n",
      "('눈', 93)\n",
      "('머리', 92)\n",
      "('데', 92)\n",
      "('최고', 90)\n",
      "('하면', 90)\n",
      "('하는거', 90)\n",
      "('스타', 89)\n",
      "('게', 88)\n",
      "('분', 88)\n",
      "('연습생', 88)\n",
      "('지금', 86)\n",
      "('호랑이', 86)\n",
      "('한다', 85)\n",
      "('전', 85)\n",
      "('컬러', 84)\n",
      "('함', 83)\n",
      "('같음', 82)\n",
      "('예능', 82)\n",
      "('제일', 81)\n",
      "('줄', 80)\n",
      "('듯', 79)\n",
      "('그녀', 78)\n",
      "('인기', 78)\n",
      "('같은데', 77)\n",
      "('스타일', 76)\n",
      "('룩', 75)\n",
      "('가장', 74)\n",
      "('위', 74)\n",
      "('합니다', 73)\n",
      "('뭔가', 73)\n",
      "('프로', 71)\n",
      "('다리', 71)\n",
      "('된', 71)\n",
      "('기자', 71)\n",
      "('은', 70)\n",
      "('앞머리', 69)\n",
      "('도', 68)\n",
      "('좋은', 68)\n",
      "('두', 68)\n",
      "('그룹', 68)\n",
      "('데뷔', 67)\n",
      "('단발', 67)\n",
      "('태국인', 67)\n",
      "('컬렉션', 67)\n",
      "('♡', 66)\n",
      "('외국', 66)\n",
      "('계속', 65)\n",
      "('CELINE', 65)\n",
      "('알', 64)\n",
      "('I', 64)\n",
      "('인형', 64)\n",
      "('브랜드', 64)\n",
      "('없는', 63)\n",
      "('걸그룹', 63)\n",
      "('하는데', 62)\n",
      "('YG', 62)\n",
      "('모델', 61)\n",
      "('하네', 61)\n",
      "('좋다', 61)\n",
      "('대박', 60)\n",
      "('노력', 60)\n",
      "('카리스마', 60)\n",
      "('짱', 60)\n",
      "('항상', 59)\n",
      "('아는', 59)\n",
      "('쌤', 59)\n",
      "('속', 58)\n",
      "('한국말', 58)\n",
      "('택시', 58)\n",
      "('다시', 57)\n",
      "('처음', 57)\n",
      "('이유', 56)\n",
      "('이름', 56)\n",
      "('간지', 56)\n",
      "('하지', 56)\n",
      "('같아', 56)\n",
      "('선생님', 56)\n",
      "('참석', 55)\n",
      "('아니라', 54)\n",
      "('부분', 54)\n",
      "('우리나라', 53)\n",
      "('세계', 53)\n",
      "('겁나', 53)\n",
      "('활동', 53)\n",
      "('썸네일', 53)\n",
      "('컴백', 53)\n",
      "('보', 53)\n",
      "('나도', 53)\n",
      "('봄', 53)\n",
      "('날', 52)\n",
      "('움', 52)\n",
      "('해외', 52)\n",
      "('통해', 52)\n",
      "('프라다', 52)\n",
      "('좋아요', 51)\n",
      "('요즘', 51)\n",
      "('한편', 51)\n",
      "('포인트', 51)\n",
      "('매치', 51)\n",
      "('봐도', 50)\n",
      "('미쳤다', 50)\n",
      "('가사', 50)\n",
      "('이제', 50)\n",
      "('연습', 50)\n",
      "('옷', 49)\n",
      "('명', 49)\n",
      "('a', 48)\n",
      "('성격', 48)\n",
      "('목소리', 48)\n",
      "('건', 48)\n",
      "('콘서트', 48)\n",
      "('솔직히', 47)\n",
      "('했는데', 47)\n",
      "('하게', 47)\n",
      "('춤선', 47)\n",
      "('저런', 47)\n",
      "('화보', 47)\n",
      "('민', 47)\n",
      "('분위기', 46)\n",
      "('공개', 46)\n",
      "('재킷', 46)\n"
     ]
    }
   ],
   "source": [
    "word_list = count.most_common(200)\n",
    "for v in word_list:\n",
    "    print(v)"
   ]
  },
  {
   "cell_type": "code",
   "execution_count": null,
   "metadata": {},
   "outputs": [],
   "source": []
  },
  {
   "cell_type": "markdown",
   "metadata": {},
   "source": [
    "## 워드클라우드 만들기"
   ]
  },
  {
   "cell_type": "code",
   "execution_count": 91,
   "metadata": {},
   "outputs": [],
   "source": [
    "\n",
    "import matplotlib.pyplot as plt"
   ]
  },
  {
   "cell_type": "markdown",
   "metadata": {},
   "source": [
    "### 패키지 설치 및 폰트 어쩌구"
   ]
  },
  {
   "cell_type": "code",
   "execution_count": 92,
   "metadata": {},
   "outputs": [
    {
     "name": "stdout",
     "output_type": "stream",
     "text": [
      "Malgun Gothic C:\\WINDOWS\\Fonts\\malgun.ttf\n",
      "Yu Gothic C:\\WINDOWS\\Fonts\\YuGothB.ttc\n",
      "HYGothic-Extra C:\\WINDOWS\\Fonts\\H2GTRE.TTF\n",
      "Franklin Gothic Medium C:\\WINDOWS\\Fonts\\framdit.ttf\n",
      "Malgun Gothic C:\\Windows\\Fonts\\malgunbd.ttf\n",
      "Yu Gothic C:\\Windows\\Fonts\\YuGothL.ttc\n",
      "Century Gothic C:\\Windows\\Fonts\\GOTHIC.TTF\n",
      "Yu Gothic C:\\Windows\\Fonts\\YuGothM.ttc\n",
      "Yu Gothic C:\\WINDOWS\\Fonts\\YuGothR.ttc\n",
      "MS Gothic C:\\WINDOWS\\Fonts\\msgothic.ttc\n",
      "HYGothic-Medium C:\\WINDOWS\\Fonts\\H2GTRM.TTF\n",
      "Malgun Gothic C:\\WINDOWS\\Fonts\\malgunsl.ttf\n",
      "Century Gothic C:\\Windows\\Fonts\\GOTHICI.TTF\n",
      "Century Gothic C:\\WINDOWS\\Fonts\\GOTHICBI.TTF\n",
      "Century Gothic C:\\Windows\\Fonts\\GOTHICB.TTF\n",
      "Franklin Gothic Medium C:\\WINDOWS\\Fonts\\framd.ttf\n"
     ]
    }
   ],
   "source": [
    "import matplotlib.font_manager as fm\n",
    "\n",
    "# 이용 가능한 폰트 중 '고딕'만 선별\n",
    "for font in fm.fontManager.ttflist:\n",
    "    if 'Gothic' in font.name:\n",
    "        print(font.name, font.fname)"
   ]
  },
  {
   "cell_type": "code",
   "execution_count": 93,
   "metadata": {},
   "outputs": [],
   "source": [
    "font_path = 'C:\\WINDOWS\\Fonts\\malgun.ttf'"
   ]
  },
  {
   "cell_type": "markdown",
   "metadata": {},
   "source": [
    "### wordcloud 그리기"
   ]
  },
  {
   "cell_type": "code",
   "execution_count": 94,
   "metadata": {},
   "outputs": [],
   "source": [
    "from wordcloud import WordCloud"
   ]
  },
  {
   "cell_type": "code",
   "execution_count": 95,
   "metadata": {},
   "outputs": [],
   "source": [
    "wc = WordCloud(font_path=font_path, background_color=\"white\", width=600, height=400)"
   ]
  },
  {
   "cell_type": "code",
   "execution_count": 96,
   "metadata": {},
   "outputs": [
    {
     "data": {
      "image/png": "[encoded data removed]",
      "text/plain": [
       "<Figure size 432x288 with 1 Axes>"
      ]
     },
     "metadata": {
      "needs_background": "light"
     },
     "output_type": "display_data"
    },
    {
     "data": {
      "text/plain": [
       "<wordcloud.wordcloud.WordCloud at 0x1dea0dfd0c8>"
      ]
     },
     "execution_count": 96,
     "metadata": {},
     "output_type": "execute_result"
    }
   ],
   "source": [
    "wc.generate_from_frequencies(dict(word_list))\n",
    "\n",
    "plt.imshow(wc) \n",
    "plt.axis('off') \n",
    "plt.show()\n",
    "\n",
    "\n",
    "wc.to_file('tot_lisa_adj_twitter.png')"
   ]
  },
  {
   "cell_type": "code",
   "execution_count": null,
   "metadata": {},
   "outputs": [],
   "source": []
  },
  {
   "cell_type": "code",
   "execution_count": 97,
   "metadata": {},
   "outputs": [],
   "source": [
    "tot_li.to_csv('./magazine/final/video_lisa_adfn.csv', sep='|', index = False, encoding = 'utf-8')"
   ]
  },
  {
   "cell_type": "code",
   "execution_count": null,
   "metadata": {},
   "outputs": [],
   "source": []
  },
  {
   "cell_type": "code",
   "execution_count": 98,
   "metadata": {},
   "outputs": [],
   "source": [
    "lisatop200 = pd.DataFrame(word_list)"
   ]
  },
  {
   "cell_type": "code",
   "execution_count": 99,
   "metadata": {},
   "outputs": [],
   "source": [
    "lisatop200.columns = ['word', 'count']"
   ]
  },
  {
   "cell_type": "code",
   "execution_count": 100,
   "metadata": {},
   "outputs": [
    {
     "data": {
      "text/html": [
       "<div>\n",
       "<style scoped>\n",
       "    .dataframe tbody tr th:only-of-type {\n",
       "        vertical-align: middle;\n",
       "    }\n",
       "\n",
       "    .dataframe tbody tr th {\n",
       "        vertical-align: top;\n",
       "    }\n",
       "\n",
       "    .dataframe thead th {\n",
       "        text-align: right;\n",
       "    }\n",
       "</style>\n",
       "<table border=\"1\" class=\"dataframe\">\n",
       "  <thead>\n",
       "    <tr style=\"text-align: right;\">\n",
       "      <th></th>\n",
       "      <th>word</th>\n",
       "      <th>count</th>\n",
       "    </tr>\n",
       "  </thead>\n",
       "  <tbody>\n",
       "    <tr>\n",
       "      <th>0</th>\n",
       "      <td>리사</td>\n",
       "      <td>3570</td>\n",
       "    </tr>\n",
       "    <tr>\n",
       "      <th>1</th>\n",
       "      <td>진짜</td>\n",
       "      <td>1258</td>\n",
       "    </tr>\n",
       "    <tr>\n",
       "      <th>2</th>\n",
       "      <td>BLACKPINK</td>\n",
       "      <td>867</td>\n",
       "    </tr>\n",
       "    <tr>\n",
       "      <th>3</th>\n",
       "      <td>예쁘다</td>\n",
       "      <td>676</td>\n",
       "    </tr>\n",
       "    <tr>\n",
       "      <th>4</th>\n",
       "      <td>귀엽다</td>\n",
       "      <td>543</td>\n",
       "    </tr>\n",
       "    <tr>\n",
       "      <th>...</th>\n",
       "      <td>...</td>\n",
       "      <td>...</td>\n",
       "    </tr>\n",
       "    <tr>\n",
       "      <th>195</th>\n",
       "      <td>화보</td>\n",
       "      <td>47</td>\n",
       "    </tr>\n",
       "    <tr>\n",
       "      <th>196</th>\n",
       "      <td>민</td>\n",
       "      <td>47</td>\n",
       "    </tr>\n",
       "    <tr>\n",
       "      <th>197</th>\n",
       "      <td>분위기</td>\n",
       "      <td>46</td>\n",
       "    </tr>\n",
       "    <tr>\n",
       "      <th>198</th>\n",
       "      <td>공개</td>\n",
       "      <td>46</td>\n",
       "    </tr>\n",
       "    <tr>\n",
       "      <th>199</th>\n",
       "      <td>재킷</td>\n",
       "      <td>46</td>\n",
       "    </tr>\n",
       "  </tbody>\n",
       "</table>\n",
       "<p>200 rows × 2 columns</p>\n",
       "</div>"
      ],
      "text/plain": [
       "          word  count\n",
       "0           리사   3570\n",
       "1           진짜   1258\n",
       "2    BLACKPINK    867\n",
       "3          예쁘다    676\n",
       "4          귀엽다    543\n",
       "..         ...    ...\n",
       "195         화보     47\n",
       "196          민     47\n",
       "197        분위기     46\n",
       "198         공개     46\n",
       "199         재킷     46\n",
       "\n",
       "[200 rows x 2 columns]"
      ]
     },
     "execution_count": 100,
     "metadata": {},
     "output_type": "execute_result"
    }
   ],
   "source": [
    "lisatop200"
   ]
  },
  {
   "cell_type": "code",
   "execution_count": 60,
   "metadata": {},
   "outputs": [],
   "source": [
    "lisatop200.to_csv('./magazine/final/lisatop200.csv', sep='|', encoding = 'utf-8', index = False)"
   ]
  },
  {
   "cell_type": "code",
   "execution_count": null,
   "metadata": {},
   "outputs": [],
   "source": []
  },
  {
   "cell_type": "code",
   "execution_count": null,
   "metadata": {},
   "outputs": [],
   "source": []
  },
  {
   "cell_type": "code",
   "execution_count": null,
   "metadata": {},
   "outputs": [],
   "source": []
  },
  {
   "cell_type": "code",
   "execution_count": null,
   "metadata": {},
   "outputs": [],
   "source": []
  },
  {
   "cell_type": "code",
   "execution_count": null,
   "metadata": {},
   "outputs": [],
   "source": []
  }
 ],
 "metadata": {
  "kernelspec": {
   "display_name": "Python 3",
   "language": "python",
   "name": "python3"
  },
  "language_info": {
   "codemirror_mode": {
    "name": "ipython",
    "version": 3
   },
   "file_extension": ".py",
   "mimetype": "text/x-python",
   "name": "python",
   "nbconvert_exporter": "python",
   "pygments_lexer": "ipython3",
   "version": "3.7.6"
  }
 },
 "nbformat": 4,
 "nbformat_minor": 2
}
