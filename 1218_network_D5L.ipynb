{
 "cells": [
  {
   "cell_type": "code",
   "execution_count": 1,
   "metadata": {},
   "outputs": [],
   "source": [
    "import pandas as pd\n",
    "import numpy as np\n",
    "import re\n",
    "import networkx as nx\n",
    "import matplotlib.pyplot as plt"
   ]
  },
  {
   "cell_type": "code",
   "execution_count": 2,
   "metadata": {},
   "outputs": [],
   "source": [
    "# 한글 폰트 문제 해결\n",
    "import platform\n",
    "\n",
    "from matplotlib import font_manager, rc\n",
    "# plt.rcParams['axes.unicode_minus'] = False\n",
    "\n",
    "if platform.system() == 'Darwin':\n",
    "    rc('font', family='AppleGothic')\n",
    "elif platform.system() == 'Windows':\n",
    "    path = \"c:/Windows/Fonts/malgun.ttf\"\n",
    "    font_name = font_manager.FontProperties(fname=path).get_name()\n",
    "    rc('font', family=font_name)\n",
    "else:\n",
    "    print('Unknown system... sorry~~~~') "
   ]
  },
  {
   "cell_type": "markdown",
   "metadata": {},
   "source": [
    "### 5"
   ]
  },
  {
   "cell_type": "code",
   "execution_count": 3,
   "metadata": {},
   "outputs": [],
   "source": [
    "D5L = pd.read_csv('./magazine/final/D5L_adfn_2.csv', encoding = 'utf-8', sep = '|')"
   ]
  },
  {
   "cell_type": "code",
   "execution_count": 4,
   "metadata": {},
   "outputs": [],
   "source": [
    "D5L['ADFN_2'] = D5L['ADFN_2'].str.replace('[', '').str.replace(']', '').str.replace(\"'\", \"\").str.split(', ')"
   ]
  },
  {
   "cell_type": "code",
   "execution_count": 5,
   "metadata": {},
   "outputs": [
    {
     "data": {
      "text/plain": [
       "0      [빈티지, 패션, 좋, 느, 좋, 당시, 사랑, 사랑, 나의, 물건, 새롭, 사랑,...\n",
       "1      [DIOR, 론, DIOR, TALK, 예술, 문화, 사회, 아우르, 주제, 화두,...\n",
       "2      [나이, DIOR, 소문, 나이키, DIOR, COLLABORATION, 드러내, ...\n",
       "3      [자유, 분방, 보헤미안, 마음, 훔치, 이브, 인기, DIOR, 반, 다나, 스타...\n",
       "4      [세계, 무대, 서, 코리아, 모델, 이름, 김설희, 신호탄, 런던, 밀, 리아, ...\n",
       "                             ...                        \n",
       "544    [밀란, 패션위크, 참석, 차, 출국, 리사, 공항, BLACKPINK, 리사, 오...\n",
       "545    [리사, 패션, 브랜드, 탄생, 할, 보인다, YG, 엔터테인먼트, BLACKPIN...\n",
       "546    [서로, 팬임, 인증, 두, 스타, BLACKPINK, 세레나, 고메즈, 함께한, ...\n",
       "547    [내셔널, 아이스크림, 데이, 기념, BLACKPINK, 귀여운, 포스팅, 제니, ...\n",
       "548    [한국, 신진, 디자이너, 하이, 패션, 브랜드, 섭렵, 블핑, BLACKPINK,...\n",
       "Name: ADFN_2, Length: 549, dtype: object"
      ]
     },
     "execution_count": 5,
     "metadata": {},
     "output_type": "execute_result"
    }
   ],
   "source": [
    "D5L['ADFN_2']"
   ]
  },
  {
   "cell_type": "code",
   "execution_count": null,
   "metadata": {},
   "outputs": [],
   "source": []
  },
  {
   "cell_type": "code",
   "execution_count": null,
   "metadata": {},
   "outputs": [],
   "source": []
  },
  {
   "cell_type": "markdown",
   "metadata": {},
   "source": [
    "### top50 리스트 생성"
   ]
  },
  {
   "cell_type": "code",
   "execution_count": 6,
   "metadata": {},
   "outputs": [],
   "source": [
    "top500 = pd.read_csv('./D5L_top500.csv', sep='|', encoding = 'utf-8')"
   ]
  },
  {
   "cell_type": "code",
   "execution_count": 7,
   "metadata": {},
   "outputs": [
    {
     "data": {
      "text/html": [
       "<div>\n",
       "<style scoped>\n",
       "    .dataframe tbody tr th:only-of-type {\n",
       "        vertical-align: middle;\n",
       "    }\n",
       "\n",
       "    .dataframe tbody tr th {\n",
       "        vertical-align: top;\n",
       "    }\n",
       "\n",
       "    .dataframe thead th {\n",
       "        text-align: right;\n",
       "    }\n",
       "</style>\n",
       "<table border=\"1\" class=\"dataframe\">\n",
       "  <thead>\n",
       "    <tr style=\"text-align: right;\">\n",
       "      <th></th>\n",
       "      <th>word</th>\n",
       "      <th>count</th>\n",
       "    </tr>\n",
       "  </thead>\n",
       "  <tbody>\n",
       "    <tr>\n",
       "      <th>0</th>\n",
       "      <td>리사</td>\n",
       "      <td>3570</td>\n",
       "    </tr>\n",
       "    <tr>\n",
       "      <th>1</th>\n",
       "      <td>DIOR</td>\n",
       "      <td>952</td>\n",
       "    </tr>\n",
       "    <tr>\n",
       "      <th>2</th>\n",
       "      <td>예쁘다</td>\n",
       "      <td>676</td>\n",
       "    </tr>\n",
       "    <tr>\n",
       "      <th>3</th>\n",
       "      <td>귀엽다</td>\n",
       "      <td>543</td>\n",
       "    </tr>\n",
       "    <tr>\n",
       "      <th>4</th>\n",
       "      <td>춤</td>\n",
       "      <td>483</td>\n",
       "    </tr>\n",
       "    <tr>\n",
       "      <th>...</th>\n",
       "      <td>...</td>\n",
       "      <td>...</td>\n",
       "    </tr>\n",
       "    <tr>\n",
       "      <th>495</th>\n",
       "      <td>꿍꿍</td>\n",
       "      <td>26</td>\n",
       "    </tr>\n",
       "    <tr>\n",
       "      <th>496</th>\n",
       "      <td>지난</td>\n",
       "      <td>26</td>\n",
       "    </tr>\n",
       "    <tr>\n",
       "      <th>497</th>\n",
       "      <td>기도</td>\n",
       "      <td>25</td>\n",
       "    </tr>\n",
       "    <tr>\n",
       "      <th>498</th>\n",
       "      <td>쓰</td>\n",
       "      <td>25</td>\n",
       "    </tr>\n",
       "    <tr>\n",
       "      <th>499</th>\n",
       "      <td>셀</td>\n",
       "      <td>25</td>\n",
       "    </tr>\n",
       "  </tbody>\n",
       "</table>\n",
       "<p>500 rows × 2 columns</p>\n",
       "</div>"
      ],
      "text/plain": [
       "     word  count\n",
       "0      리사   3570\n",
       "1    DIOR    952\n",
       "2     예쁘다    676\n",
       "3     귀엽다    543\n",
       "4       춤    483\n",
       "..    ...    ...\n",
       "495    꿍꿍     26\n",
       "496    지난     26\n",
       "497    기도     25\n",
       "498     쓰     25\n",
       "499     셀     25\n",
       "\n",
       "[500 rows x 2 columns]"
      ]
     },
     "execution_count": 7,
     "metadata": {},
     "output_type": "execute_result"
    }
   ],
   "source": [
    "top500"
   ]
  },
  {
   "cell_type": "code",
   "execution_count": 8,
   "metadata": {},
   "outputs": [
    {
     "name": "stdout",
     "output_type": "stream",
     "text": [
      "30\n",
      "['리사', 'DIOR', '예쁘다', '귀엽다', '춤', '패션', '사랑', '컬렉션', '랩', '한국', '영어', '노래', '무대', '멤버', '얼굴', '브랜드', '잘', '매력', '룩', '아이돌', '중국', '스타일', '컬러', '태국', '드레스', '쇼', '느낌', '한국어', '모델', '블랙']\n"
     ]
    }
   ],
   "source": [
    "top30 = []\n",
    "for i in range(30):\n",
    "    top30.append(top500.loc[i, 'word'])\n",
    "    \n",
    "print(len(top30))\n",
    "print(top30)"
   ]
  },
  {
   "cell_type": "code",
   "execution_count": 9,
   "metadata": {},
   "outputs": [
    {
     "name": "stdout",
     "output_type": "stream",
     "text": [
      "50\n",
      "['리사', 'DIOR', '예쁘다', '귀엽다', '춤', '패션', '사랑', '컬렉션', '랩', '한국', '영어', '노래', '무대', '멤버', '얼굴', '브랜드', '잘', '매력', '룩', '아이돌', '중국', '스타일', '컬러', '태국', '드레스', '쇼', '느낌', '한국어', '모델', '블랙', '한국인', '표정', '비율', '여성', '백', '멋있다', '전소민', '시즌', '공유', '실력', '눈', '디자이너', '재킷', '티', '외국인', '여자', '팬', '모습', '파리', '하우스']\n"
     ]
    }
   ],
   "source": [
    "top50 = []\n",
    "for i in range(50):\n",
    "    top50.append(top500.loc[i, 'word'])\n",
    "    \n",
    "print(len(top50))\n",
    "print(top50)"
   ]
  },
  {
   "cell_type": "markdown",
   "metadata": {},
   "source": [
    "### top100"
   ]
  },
  {
   "cell_type": "code",
   "execution_count": 10,
   "metadata": {},
   "outputs": [
    {
     "name": "stdout",
     "output_type": "stream",
     "text": [
      "100\n",
      "['리사', 'DIOR', '예쁘다', '귀엽다', '춤', '패션', '사랑', '컬렉션', '랩', '한국', '영어', '노래', '무대', '멤버', '얼굴', '브랜드', '잘', '매력', '룩', '아이돌', '중국', '스타일', '컬러', '태국', '드레스', '쇼', '느낌', '한국어', '모델', '블랙', '한국인', '표정', '비율', '여성', '백', '멋있다', '전소민', '시즌', '공유', '실력', '눈', '디자이너', '재킷', '티', '외국인', '여자', '팬', '모습', '파리', '하우스', '디렉터', '장식', '인기', '머리', '세계', '최고', '봄', 'MARIA', '아이템', '발음', '걸', 'SADDLE', '데님', '양세찬', '팬츠', '스타', '처음', '연습생', 'DESIGN', '데뷔', '호랑이', '스커트', '그룹', '한편', '참석', '제일', '선택', '예능', '영감', '여름', '완성', '옷', '화이트', '미국', '프로', '가장', '라인', '포인트', '다리', '소재', 'CELINE', '분위기', '레드', '활동', '앞머리', '공개', '인형', '좋은', '단발', '걸그룹']\n"
     ]
    }
   ],
   "source": [
    "top100 = []\n",
    "for i in range(100):\n",
    "    top100.append(top500.loc[i, 'word'])\n",
    "    \n",
    "print(len(top100))\n",
    "print(top100)"
   ]
  },
  {
   "cell_type": "code",
   "execution_count": 11,
   "metadata": {},
   "outputs": [
    {
     "name": "stdout",
     "output_type": "stream",
     "text": [
      "200\n",
      "['리사', 'DIOR', '예쁘다', '귀엽다', '춤', '패션', '사랑', '컬렉션', '랩', '한국', '영어', '노래', '무대', '멤버', '얼굴', '브랜드', '잘', '매력', '룩', '아이돌', '중국', '스타일', '컬러', '태국', '드레스', '쇼', '느낌', '한국어', '모델', '블랙', '한국인', '표정', '비율', '여성', '백', '멋있다', '전소민', '시즌', '공유', '실력', '눈', '디자이너', '재킷', '티', '외국인', '여자', '팬', '모습', '파리', '하우스', '디렉터', '장식', '인기', '머리', '세계', '최고', '봄', 'MARIA', '아이템', '발음', '걸', 'SADDLE', '데님', '양세찬', '팬츠', '스타', '처음', '연습생', 'DESIGN', '데뷔', '호랑이', '스커트', '그룹', '한편', '참석', '제일', '선택', '예능', '영감', '여름', '완성', '옷', '화이트', '미국', '프로', '가장', '라인', '포인트', '다리', '소재', 'CELINE', '분위기', '레드', '활동', '앞머리', '공개', '인형', '좋은', '단발', '걸그룹', '태국인', '외국', '노력', '코트', '카리스마', '좋', '반', 'CREATIVE', 'CHRISTIAN', 'YG', '핑크', 'COUTURE', '대박', '좋다', '아티스트', '짱', '톱', '화보', '아는', '쌤', '메이크업', '일본', '한국말', '택시', '티셔츠', '자체', '스타일링', '사실', '해외', '간지', '선생님', '나도', 'HOMME', '촬영', '우리나라', '럭셔리', 'JONES', '프랑스', '컴백', '목소리', '착용', '배', '명', '썸네일', '가을', '로고', '프라다', '협업', '점', '형', '탑', '음악', '좋아요', '매치', '이미지', '작업', '마지막', '민', '클래식', 'KIM', '성격', '남자', '미쳤다', '가사', '연습', '작품', '시크', '의상', '세상', '자리', '새롭', '문화', '슈트', '젤', 'a', '콘서트', '부츠', '셔츠', '패턴', '댄스', '메인', '춤선', '대표', '마음', '하다', '아트', '캠페인', '한번', '가수', '언어', '화장', '관심', '나라', '방송', '개멋', '멋있어', '유행', '모자', '차', '뉴욕']\n"
     ]
    }
   ],
   "source": [
    "top200 = []\n",
    "for i in range(200):\n",
    "    top200.append(top500.loc[i, 'word'])\n",
    "    \n",
    "print(len(top200))\n",
    "print(top200)"
   ]
  },
  {
   "cell_type": "code",
   "execution_count": 12,
   "metadata": {},
   "outputs": [
    {
     "name": "stdout",
     "output_type": "stream",
     "text": [
      "300\n",
      "['리사', 'DIOR', '예쁘다', '귀엽다', '춤', '패션', '사랑', '컬렉션', '랩', '한국', '영어', '노래', '무대', '멤버', '얼굴', '브랜드', '잘', '매력', '룩', '아이돌', '중국', '스타일', '컬러', '태국', '드레스', '쇼', '느낌', '한국어', '모델', '블랙', '한국인', '표정', '비율', '여성', '백', '멋있다', '전소민', '시즌', '공유', '실력', '눈', '디자이너', '재킷', '티', '외국인', '여자', '팬', '모습', '파리', '하우스', '디렉터', '장식', '인기', '머리', '세계', '최고', '봄', 'MARIA', '아이템', '발음', '걸', 'SADDLE', '데님', '양세찬', '팬츠', '스타', '처음', '연습생', 'DESIGN', '데뷔', '호랑이', '스커트', '그룹', '한편', '참석', '제일', '선택', '예능', '영감', '여름', '완성', '옷', '화이트', '미국', '프로', '가장', '라인', '포인트', '다리', '소재', 'CELINE', '분위기', '레드', '활동', '앞머리', '공개', '인형', '좋은', '단발', '걸그룹', '태국인', '외국', '노력', '코트', '카리스마', '좋', '반', 'CREATIVE', 'CHRISTIAN', 'YG', '핑크', 'COUTURE', '대박', '좋다', '아티스트', '짱', '톱', '화보', '아는', '쌤', '메이크업', '일본', '한국말', '택시', '티셔츠', '자체', '스타일링', '사실', '해외', '간지', '선생님', '나도', 'HOMME', '촬영', '우리나라', '럭셔리', 'JONES', '프랑스', '컴백', '목소리', '착용', '배', '명', '썸네일', '가을', '로고', '프라다', '협업', '점', '형', '탑', '음악', '좋아요', '매치', '이미지', '작업', '마지막', '민', '클래식', 'KIM', '성격', '남자', '미쳤다', '가사', '연습', '작품', '시크', '의상', '세상', '자리', '새롭', '문화', '슈트', '젤', 'a', '콘서트', '부츠', '셔츠', '패턴', '댄스', '메인', '춤선', '대표', '마음', '하다', '아트', '캠페인', '한번', '가수', '언어', '화장', '관심', '나라', '방송', '개멋', '멋있어', '유행', '모자', '차', '뉴욕', '영국', '배우', 'LAURENT', '전시', '손', '남성복', '태국어', '예정', '원피스', '지', '런웨이', '장', '사기', 'the', '사용', '가방', '실루엣', '유명', 'LADY', '커', '버전', '부', '중국어', '통', 'SPORTY', '순간', '패션쇼', '제목', '별', '확실히', '와중', '많은', '사이', '꽃', 'A', '라이브', '축하', '미친', '회수', '영화', '기억', '가죽', '프린트', '발', '달', '크리스', '수준', '댄서', '제발', '곡', '형님', '하이', '트렌드', '형태', '리스트', 'INSTAGRAM', '골드', '프로그램', '웃기', '살', '예술', '트', '캐', '시선', '젠', '니트', '겨울', '헤어', '힘', '친구', '열리', '매우', '찰떡', '레전드', '따르', '미니', '액세서리', '롱', '뷰티', 'INFLUENCER', '카메라', '유닛', '개인', '솔로', '새', '지난해', '세', '엘', '캐주얼', '스트리트', '남', '출국', '있습니다', '보니', '나나', '좋겠다', '좋음', '입덕', '연예인', '보임']\n"
     ]
    }
   ],
   "source": [
    "top300 = []\n",
    "for i in range(300):\n",
    "    top300.append(top500.loc[i, 'word'])\n",
    "    \n",
    "print(len(top300))\n",
    "print(top300)"
   ]
  },
  {
   "cell_type": "code",
   "execution_count": 13,
   "metadata": {},
   "outputs": [
    {
     "name": "stdout",
     "output_type": "stream",
     "text": [
      "500\n",
      "['리사', 'DIOR', '예쁘다', '귀엽다', '춤', '패션', '사랑', '컬렉션', '랩', '한국', '영어', '노래', '무대', '멤버', '얼굴', '브랜드', '잘', '매력', '룩', '아이돌', '중국', '스타일', '컬러', '태국', '드레스', '쇼', '느낌', '한국어', '모델', '블랙', '한국인', '표정', '비율', '여성', '백', '멋있다', '전소민', '시즌', '공유', '실력', '눈', '디자이너', '재킷', '티', '외국인', '여자', '팬', '모습', '파리', '하우스', '디렉터', '장식', '인기', '머리', '세계', '최고', '봄', 'MARIA', '아이템', '발음', '걸', 'SADDLE', '데님', '양세찬', '팬츠', '스타', '처음', '연습생', 'DESIGN', '데뷔', '호랑이', '스커트', '그룹', '한편', '참석', '제일', '선택', '예능', '영감', '여름', '완성', '옷', '화이트', '미국', '프로', '가장', '라인', '포인트', '다리', '소재', 'CELINE']\n"
     ]
    }
   ],
   "source": [
    "t500 = []\n",
    "for i in range(500):\n",
    "    t500.append(top500.loc[i, 'word'])\n",
    "    \n",
    "print(len(t500))\n",
    "print(t500[:91])"
   ]
  },
  {
   "cell_type": "markdown",
   "metadata": {},
   "source": [
    "### top50만 남기기"
   ]
  },
  {
   "cell_type": "code",
   "execution_count": 14,
   "metadata": {},
   "outputs": [
    {
     "data": {
      "text/plain": [
       "549"
      ]
     },
     "execution_count": 14,
     "metadata": {},
     "output_type": "execute_result"
    }
   ],
   "source": [
    "len(D5L)"
   ]
  },
  {
   "cell_type": "code",
   "execution_count": 15,
   "metadata": {},
   "outputs": [],
   "source": [
    "top30_word = []\n",
    "for i in range(len(D5L)):\n",
    "    w=[]\n",
    "    for word in D5L.loc[i, 'ADFN_2']:\n",
    "        if word in top30:\n",
    "            w.append(word)\n",
    "    top30_word.append(w)"
   ]
  },
  {
   "cell_type": "code",
   "execution_count": 16,
   "metadata": {},
   "outputs": [],
   "source": [
    "top50_word = []\n",
    "for i in range(len(D5L)):\n",
    "    w=[]\n",
    "    for word in D5L.loc[i, 'ADFN_2']:\n",
    "        if word in top50:\n",
    "            w.append(word)\n",
    "    top50_word.append(w)"
   ]
  },
  {
   "cell_type": "code",
   "execution_count": 17,
   "metadata": {},
   "outputs": [],
   "source": [
    "top100_word = []\n",
    "for i in range(len(D5L)):\n",
    "    w=[]\n",
    "    for word in D5L.loc[i, 'ADFN_2']:\n",
    "        if word in top100:\n",
    "            w.append(word)\n",
    "    top100_word.append(w)"
   ]
  },
  {
   "cell_type": "code",
   "execution_count": 18,
   "metadata": {},
   "outputs": [],
   "source": [
    "top200_word = []\n",
    "for i in range(len(D5L)):\n",
    "    w=[]\n",
    "    for word in D5L.loc[i, 'ADFN_2']:\n",
    "        if word in top200:\n",
    "            w.append(word)\n",
    "    top200_word.append(w)"
   ]
  },
  {
   "cell_type": "code",
   "execution_count": 19,
   "metadata": {},
   "outputs": [],
   "source": [
    "top300_word = []\n",
    "for i in range(len(D5L)):\n",
    "    w=[]\n",
    "    for word in D5L.loc[i, 'ADFN_2']:\n",
    "        if word in top300:\n",
    "            w.append(word)\n",
    "    top300_word.append(w)"
   ]
  },
  {
   "cell_type": "code",
   "execution_count": 20,
   "metadata": {},
   "outputs": [],
   "source": [
    "top500_word = []\n",
    "for i in range(len(D5L)):\n",
    "    w=[]\n",
    "    for word in D5L.loc[i, 'ADFN_2']:\n",
    "        if word in t500:\n",
    "            w.append(word)\n",
    "    top500_word.append(w)"
   ]
  },
  {
   "cell_type": "markdown",
   "metadata": {},
   "source": [
    "### 전체"
   ]
  },
  {
   "cell_type": "code",
   "execution_count": 21,
   "metadata": {},
   "outputs": [
    {
     "data": {
      "text/html": [
       "<div>\n",
       "<style scoped>\n",
       "    .dataframe tbody tr th:only-of-type {\n",
       "        vertical-align: middle;\n",
       "    }\n",
       "\n",
       "    .dataframe tbody tr th {\n",
       "        vertical-align: top;\n",
       "    }\n",
       "\n",
       "    .dataframe thead th {\n",
       "        text-align: right;\n",
       "    }\n",
       "</style>\n",
       "<table border=\"1\" class=\"dataframe\">\n",
       "  <thead>\n",
       "    <tr style=\"text-align: right;\">\n",
       "      <th></th>\n",
       "      <th>magazine</th>\n",
       "      <th>brand</th>\n",
       "      <th>title</th>\n",
       "      <th>word</th>\n",
       "      <th>ADFN</th>\n",
       "      <th>ADFN_2</th>\n",
       "    </tr>\n",
       "  </thead>\n",
       "  <tbody>\n",
       "    <tr>\n",
       "      <th>0</th>\n",
       "      <td>A</td>\n",
       "      <td>D</td>\n",
       "      <td>빈티지 쇼핑의 시대</td>\n",
       "      <td>['그러니 빈티지 패션은, 어쩌면 나도 좋고 너도 좋은 일이다. 당시 사랑했던, 지...</td>\n",
       "      <td>['빈티지', '패션', '좋', '느', '좋', '당시', '사랑', '사랑',...</td>\n",
       "      <td>[빈티지, 패션, 좋, 느, 좋, 당시, 사랑, 사랑, 나의, 물건, 새롭, 사랑,...</td>\n",
       "    </tr>\n",
       "    <tr>\n",
       "      <th>1</th>\n",
       "      <td>A</td>\n",
       "      <td>D</td>\n",
       "      <td>집에서 듣기 좋은 패션 팟캐스트 세 가지</td>\n",
       "      <td>['  디올이 최근에 론칭한 &lt;Dior Talk&gt;는 예술, 문화, 사회를 아우르는 ...</td>\n",
       "      <td>['DIOR', '론', 'DIOR', 'TALK', '예술', '문화', '사회'...</td>\n",
       "      <td>[DIOR, 론, DIOR, TALK, 예술, 문화, 사회, 아우르, 주제, 화두,...</td>\n",
       "    </tr>\n",
       "    <tr>\n",
       "      <th>2</th>\n",
       "      <td>A</td>\n",
       "      <td>D</td>\n",
       "      <td>소장욕구 샘솟는 환상의 컬래버레이션 스니커즈 5</td>\n",
       "      <td>['  나이키×디올', '소문만 무성하던 나이키와 디올의 컬래버레이션이 모습을 드러...</td>\n",
       "      <td>['나이', 'DIOR', '소문', '나이키', 'DIOR', 'COLLABORA...</td>\n",
       "      <td>[나이, DIOR, 소문, 나이키, DIOR, COLLABORATION, 드러내, ...</td>\n",
       "    </tr>\n",
       "    <tr>\n",
       "      <th>3</th>\n",
       "      <td>A</td>\n",
       "      <td>D</td>\n",
       "      <td>따뜻한 나라로 여행 시 참고하면 좋을 리조트 트렌드 키워드</td>\n",
       "      <td>['자유분방한 보헤미안들의 마음을 훔칠 1970년대 바이브도 인기다. 디올의 반다나...</td>\n",
       "      <td>['자유', '분방', '보헤미안', '마음', '훔치', '이브', '인기', '...</td>\n",
       "      <td>[자유, 분방, 보헤미안, 마음, 훔치, 이브, 인기, DIOR, 반, 다나, 스타...</td>\n",
       "    </tr>\n",
       "    <tr>\n",
       "      <th>4</th>\n",
       "      <td>A</td>\n",
       "      <td>D</td>\n",
       "      <td>새로운 시즌 4대 패션위크에서 생긴 일</td>\n",
       "      <td>['세계 무대에 서는 코리아 모델 이름에 김설희가 등장했다. 그 첫 신호탄은 바로 ...</td>\n",
       "      <td>['세계', '무대', '서', '코리아', '모델', '이름', '김설희', '신...</td>\n",
       "      <td>[세계, 무대, 서, 코리아, 모델, 이름, 김설희, 신호탄, 런던, 밀, 리아, ...</td>\n",
       "    </tr>\n",
       "    <tr>\n",
       "      <th>...</th>\n",
       "      <td>...</td>\n",
       "      <td>...</td>\n",
       "      <td>...</td>\n",
       "      <td>...</td>\n",
       "      <td>...</td>\n",
       "      <td>...</td>\n",
       "    </tr>\n",
       "    <tr>\n",
       "      <th>544</th>\n",
       "      <td>W</td>\n",
       "      <td>L</td>\n",
       "      <td>밀라노로 떠난 리사</td>\n",
       "      <td>밀란 패션위크 참석차 출국한 리사의 공항 룩., BLACKPINK 리사가 오늘 2월...</td>\n",
       "      <td>['밀란', '패션위크', '참석', '차', '출국', '리사', '공항', 'B...</td>\n",
       "      <td>[밀란, 패션위크, 참석, 차, 출국, 리사, 공항, BLACKPINK, 리사, 오...</td>\n",
       "    </tr>\n",
       "    <tr>\n",
       "      <th>545</th>\n",
       "      <td>W</td>\n",
       "      <td>L</td>\n",
       "      <td>리사의 새로운 행보</td>\n",
       "      <td>, , 리사의 패션 브랜드가 탄생할 것으로 보인다.  YG엔터테인먼트가 2019년 ...</td>\n",
       "      <td>['리사', '패션', '브랜드', '탄생', '할', '보인다', 'YG', '엔...</td>\n",
       "      <td>[리사, 패션, 브랜드, 탄생, 할, 보인다, YG, 엔터테인먼트, BLACKPIN...</td>\n",
       "    </tr>\n",
       "    <tr>\n",
       "      <th>546</th>\n",
       "      <td>W</td>\n",
       "      <td>L</td>\n",
       "      <td>블랙핑크X세레나 고메즈 영상통화, 협업 티징</td>\n",
       "      <td>서로의 팬임을 인증한 두 스타, 8월 28일 BLACKPINK와 세레나 고메즈가 함...</td>\n",
       "      <td>['서로', '팬임', '인증', '두', '스타', 'BLACKPINK', '세레...</td>\n",
       "      <td>[서로, 팬임, 인증, 두, 스타, BLACKPINK, 세레나, 고메즈, 함께한, ...</td>\n",
       "    </tr>\n",
       "    <tr>\n",
       "      <th>547</th>\n",
       "      <td>W</td>\n",
       "      <td>L</td>\n",
       "      <td>블랙핑크가 아이스크림 셀카를 올린 이유는?</td>\n",
       "      <td>내셔널 아이스크림 데이’를 기념한 BLACKPINK의 귀여운 포스팅., 제니와 리사...</td>\n",
       "      <td>['내셔널', '아이스크림', '데이', '기념', 'BLACKPINK', '귀여운...</td>\n",
       "      <td>[내셔널, 아이스크림, 데이, 기념, BLACKPINK, 귀여운, 포스팅, 제니, ...</td>\n",
       "    </tr>\n",
       "    <tr>\n",
       "      <th>548</th>\n",
       "      <td>W</td>\n",
       "      <td>L</td>\n",
       "      <td>블랙핑크 컴백! 남다른 패션 스타일링</td>\n",
       "      <td>한국 신진 디자이너부터 하이 패션 브랜드까지 섭렵한 블핑, 6월 26일 드디어 BL...</td>\n",
       "      <td>['한국', '신진', '디자이너', '하이', '패션', '브랜드', '섭렵', ...</td>\n",
       "      <td>[한국, 신진, 디자이너, 하이, 패션, 브랜드, 섭렵, 블핑, BLACKPINK,...</td>\n",
       "    </tr>\n",
       "  </tbody>\n",
       "</table>\n",
       "<p>549 rows × 6 columns</p>\n",
       "</div>"
      ],
      "text/plain": [
       "    magazine brand                             title  \\\n",
       "0          A     D                        빈티지 쇼핑의 시대   \n",
       "1          A     D            집에서 듣기 좋은 패션 팟캐스트 세 가지   \n",
       "2          A     D        소장욕구 샘솟는 환상의 컬래버레이션 스니커즈 5   \n",
       "3          A     D  따뜻한 나라로 여행 시 참고하면 좋을 리조트 트렌드 키워드   \n",
       "4          A     D             새로운 시즌 4대 패션위크에서 생긴 일   \n",
       "..       ...   ...                               ...   \n",
       "544        W     L                        밀라노로 떠난 리사   \n",
       "545        W     L                        리사의 새로운 행보   \n",
       "546        W     L          블랙핑크X세레나 고메즈 영상통화, 협업 티징   \n",
       "547        W     L           블랙핑크가 아이스크림 셀카를 올린 이유는?   \n",
       "548        W     L              블랙핑크 컴백! 남다른 패션 스타일링   \n",
       "\n",
       "                                                  word  \\\n",
       "0    ['그러니 빈티지 패션은, 어쩌면 나도 좋고 너도 좋은 일이다. 당시 사랑했던, 지...   \n",
       "1    ['  디올이 최근에 론칭한 <Dior Talk>는 예술, 문화, 사회를 아우르는 ...   \n",
       "2    ['  나이키×디올', '소문만 무성하던 나이키와 디올의 컬래버레이션이 모습을 드러...   \n",
       "3    ['자유분방한 보헤미안들의 마음을 훔칠 1970년대 바이브도 인기다. 디올의 반다나...   \n",
       "4    ['세계 무대에 서는 코리아 모델 이름에 김설희가 등장했다. 그 첫 신호탄은 바로 ...   \n",
       "..                                                 ...   \n",
       "544  밀란 패션위크 참석차 출국한 리사의 공항 룩., BLACKPINK 리사가 오늘 2월...   \n",
       "545  , , 리사의 패션 브랜드가 탄생할 것으로 보인다.  YG엔터테인먼트가 2019년 ...   \n",
       "546  서로의 팬임을 인증한 두 스타, 8월 28일 BLACKPINK와 세레나 고메즈가 함...   \n",
       "547  내셔널 아이스크림 데이’를 기념한 BLACKPINK의 귀여운 포스팅., 제니와 리사...   \n",
       "548  한국 신진 디자이너부터 하이 패션 브랜드까지 섭렵한 블핑, 6월 26일 드디어 BL...   \n",
       "\n",
       "                                                  ADFN  \\\n",
       "0    ['빈티지', '패션', '좋', '느', '좋', '당시', '사랑', '사랑',...   \n",
       "1    ['DIOR', '론', 'DIOR', 'TALK', '예술', '문화', '사회'...   \n",
       "2    ['나이', 'DIOR', '소문', '나이키', 'DIOR', 'COLLABORA...   \n",
       "3    ['자유', '분방', '보헤미안', '마음', '훔치', '이브', '인기', '...   \n",
       "4    ['세계', '무대', '서', '코리아', '모델', '이름', '김설희', '신...   \n",
       "..                                                 ...   \n",
       "544  ['밀란', '패션위크', '참석', '차', '출국', '리사', '공항', 'B...   \n",
       "545  ['리사', '패션', '브랜드', '탄생', '할', '보인다', 'YG', '엔...   \n",
       "546  ['서로', '팬임', '인증', '두', '스타', 'BLACKPINK', '세레...   \n",
       "547  ['내셔널', '아이스크림', '데이', '기념', 'BLACKPINK', '귀여운...   \n",
       "548  ['한국', '신진', '디자이너', '하이', '패션', '브랜드', '섭렵', ...   \n",
       "\n",
       "                                                ADFN_2  \n",
       "0    [빈티지, 패션, 좋, 느, 좋, 당시, 사랑, 사랑, 나의, 물건, 새롭, 사랑,...  \n",
       "1    [DIOR, 론, DIOR, TALK, 예술, 문화, 사회, 아우르, 주제, 화두,...  \n",
       "2    [나이, DIOR, 소문, 나이키, DIOR, COLLABORATION, 드러내, ...  \n",
       "3    [자유, 분방, 보헤미안, 마음, 훔치, 이브, 인기, DIOR, 반, 다나, 스타...  \n",
       "4    [세계, 무대, 서, 코리아, 모델, 이름, 김설희, 신호탄, 런던, 밀, 리아, ...  \n",
       "..                                                 ...  \n",
       "544  [밀란, 패션위크, 참석, 차, 출국, 리사, 공항, BLACKPINK, 리사, 오...  \n",
       "545  [리사, 패션, 브랜드, 탄생, 할, 보인다, YG, 엔터테인먼트, BLACKPIN...  \n",
       "546  [서로, 팬임, 인증, 두, 스타, BLACKPINK, 세레나, 고메즈, 함께한, ...  \n",
       "547  [내셔널, 아이스크림, 데이, 기념, BLACKPINK, 귀여운, 포스팅, 제니, ...  \n",
       "548  [한국, 신진, 디자이너, 하이, 패션, 브랜드, 섭렵, 블핑, BLACKPINK,...  \n",
       "\n",
       "[549 rows x 6 columns]"
      ]
     },
     "execution_count": 21,
     "metadata": {},
     "output_type": "execute_result"
    }
   ],
   "source": [
    "D5L"
   ]
  },
  {
   "cell_type": "markdown",
   "metadata": {},
   "source": [
    "### item 남기기"
   ]
  },
  {
   "cell_type": "code",
   "execution_count": 22,
   "metadata": {},
   "outputs": [],
   "source": [
    "item = ['백', '드레스', '재킷', '주얼리', '옷', '슈즈', '스커트', '링', '팬츠', '가방', '슈트', '향수', '의상', '데님', '액세서리', '톱',\n",
    "'셔츠', '모자', '수트', '스니커즈', '니트', '시계', '워치', '핸드백', '벨트', '선글라스', '목걸이', '티셔츠', '쇼츠', '샌들',\n",
    " '귀고리', '워치', '코트', '부츠', '케이프']"
   ]
  },
  {
   "cell_type": "code",
   "execution_count": 23,
   "metadata": {},
   "outputs": [],
   "source": [
    "# item_word = []\n",
    "# for i in range(len(mag_je)):\n",
    "#     w=[]\n",
    "#     for word in mag_je.loc[i, 'ADFN']:\n",
    "#         if word in item:\n",
    "#             w.append(word)\n",
    "#     item_word.append(w)"
   ]
  },
  {
   "cell_type": "markdown",
   "metadata": {},
   "source": [
    "### top100이면서 item이 아닌 것"
   ]
  },
  {
   "cell_type": "code",
   "execution_count": 24,
   "metadata": {},
   "outputs": [],
   "source": [
    "# top100_not_item_word = []\n",
    "# for i in range(len(tot_je)):\n",
    "#     w=[]\n",
    "#     for word in tot_je.loc[i, 'ADFN']:\n",
    "#         if word in top100:\n",
    "#             if word not in item:\n",
    "#                 w.append(word)\n",
    "#     top100_not_item_word.append(w)"
   ]
  },
  {
   "cell_type": "code",
   "execution_count": 25,
   "metadata": {},
   "outputs": [],
   "source": [
    "# len(top100_not_item_word)"
   ]
  },
  {
   "cell_type": "code",
   "execution_count": 26,
   "metadata": {},
   "outputs": [],
   "source": [
    "# top100_not_item_word[1]"
   ]
  },
  {
   "cell_type": "code",
   "execution_count": 27,
   "metadata": {},
   "outputs": [],
   "source": [
    "# top50_word"
   ]
  },
  {
   "cell_type": "code",
   "execution_count": 27,
   "metadata": {
    "scrolled": true
   },
   "outputs": [
    {
     "data": {
      "text/plain": [
       "2110"
      ]
     },
     "execution_count": 27,
     "metadata": {},
     "output_type": "execute_result"
    }
   ],
   "source": [
    "len(top50_word)"
   ]
  },
  {
   "cell_type": "markdown",
   "metadata": {},
   "source": [
    "### 텍스트 한줄씩 읽어와 dataset에 기록"
   ]
  },
  {
   "cell_type": "markdown",
   "metadata": {},
   "source": [
    "### 어프라이어리(Apriori) 알고리즘을 적용하여 연관규칙 분석 수행"
   ]
  },
  {
   "cell_type": "code",
   "execution_count": 22,
   "metadata": {},
   "outputs": [],
   "source": [
    "# 어프라이어리(Apriori)\n",
    "from apyori import apriori"
   ]
  },
  {
   "cell_type": "code",
   "execution_count": 23,
   "metadata": {},
   "outputs": [
    {
     "data": {
      "text/plain": [
       "['패션', '사랑', '사랑', '사랑', '패션', '컬렉션', 'DIOR']"
      ]
     },
     "execution_count": 23,
     "metadata": {},
     "output_type": "execute_result"
    }
   ],
   "source": [
    "top30_word[0]"
   ]
  },
  {
   "cell_type": "code",
   "execution_count": 31,
   "metadata": {},
   "outputs": [
    {
     "data": {
      "text/html": [
       "<div>\n",
       "<style scoped>\n",
       "    .dataframe tbody tr th:only-of-type {\n",
       "        vertical-align: middle;\n",
       "    }\n",
       "\n",
       "    .dataframe tbody tr th {\n",
       "        vertical-align: top;\n",
       "    }\n",
       "\n",
       "    .dataframe thead th {\n",
       "        text-align: right;\n",
       "    }\n",
       "</style>\n",
       "<table border=\"1\" class=\"dataframe\">\n",
       "  <thead>\n",
       "    <tr style=\"text-align: right;\">\n",
       "      <th></th>\n",
       "      <th>items</th>\n",
       "      <th>support</th>\n",
       "      <th>ordered_statistics</th>\n",
       "      <th>length</th>\n",
       "    </tr>\n",
       "  </thead>\n",
       "  <tbody>\n",
       "    <tr>\n",
       "      <th>148</th>\n",
       "      <td>(DIOR, 패션)</td>\n",
       "      <td>0.191257</td>\n",
       "      <td>[((), (DIOR, 패션), 0.1912568306010929, 1.0), ((...</td>\n",
       "      <td>2</td>\n",
       "    </tr>\n",
       "    <tr>\n",
       "      <th>145</th>\n",
       "      <td>(컬렉션, DIOR)</td>\n",
       "      <td>0.185792</td>\n",
       "      <td>[((), (컬렉션, DIOR), 0.18579234972677597, 1.0), ...</td>\n",
       "      <td>2</td>\n",
       "    </tr>\n",
       "    <tr>\n",
       "      <th>188</th>\n",
       "      <td>(리사, 패션)</td>\n",
       "      <td>0.145719</td>\n",
       "      <td>[((), (리사, 패션), 0.14571948998178508, 1.0), ((리...</td>\n",
       "      <td>2</td>\n",
       "    </tr>\n",
       "    <tr>\n",
       "      <th>200</th>\n",
       "      <td>(브랜드, 패션)</td>\n",
       "      <td>0.131148</td>\n",
       "      <td>[((), (브랜드, 패션), 0.13114754098360656, 1.0), ((...</td>\n",
       "      <td>2</td>\n",
       "    </tr>\n",
       "    <tr>\n",
       "      <th>219</th>\n",
       "      <td>(컬렉션, 패션)</td>\n",
       "      <td>0.131148</td>\n",
       "      <td>[((), (컬렉션, 패션), 0.13114754098360656, 1.0), ((...</td>\n",
       "      <td>2</td>\n",
       "    </tr>\n",
       "    <tr>\n",
       "      <th>130</th>\n",
       "      <td>(DIOR, 브랜드)</td>\n",
       "      <td>0.123862</td>\n",
       "      <td>[((), (DIOR, 브랜드), 0.12386156648451731, 1.0), ...</td>\n",
       "      <td>2</td>\n",
       "    </tr>\n",
       "    <tr>\n",
       "      <th>123</th>\n",
       "      <td>(드레스, DIOR)</td>\n",
       "      <td>0.122040</td>\n",
       "      <td>[((), (드레스, DIOR), 0.122040072859745, 1.0), ((...</td>\n",
       "      <td>2</td>\n",
       "    </tr>\n",
       "    <tr>\n",
       "      <th>146</th>\n",
       "      <td>(DIOR, 티)</td>\n",
       "      <td>0.118397</td>\n",
       "      <td>[((), (DIOR, 티), 0.11839708561020036, 1.0), ((...</td>\n",
       "      <td>2</td>\n",
       "    </tr>\n",
       "    <tr>\n",
       "      <th>136</th>\n",
       "      <td>(스타일, DIOR)</td>\n",
       "      <td>0.118397</td>\n",
       "      <td>[((), (스타일, DIOR), 0.11839708561020036, 1.0), ...</td>\n",
       "      <td>2</td>\n",
       "    </tr>\n",
       "    <tr>\n",
       "      <th>149</th>\n",
       "      <td>(DIOR, 하우스)</td>\n",
       "      <td>0.118397</td>\n",
       "      <td>[((), (DIOR, 하우스), 0.11839708561020036, 1.0), ...</td>\n",
       "      <td>2</td>\n",
       "    </tr>\n",
       "  </tbody>\n",
       "</table>\n",
       "</div>"
      ],
      "text/plain": [
       "           items   support                                 ordered_statistics  \\\n",
       "148   (DIOR, 패션)  0.191257  [((), (DIOR, 패션), 0.1912568306010929, 1.0), ((...   \n",
       "145  (컬렉션, DIOR)  0.185792  [((), (컬렉션, DIOR), 0.18579234972677597, 1.0), ...   \n",
       "188     (리사, 패션)  0.145719  [((), (리사, 패션), 0.14571948998178508, 1.0), ((리...   \n",
       "200    (브랜드, 패션)  0.131148  [((), (브랜드, 패션), 0.13114754098360656, 1.0), ((...   \n",
       "219    (컬렉션, 패션)  0.131148  [((), (컬렉션, 패션), 0.13114754098360656, 1.0), ((...   \n",
       "130  (DIOR, 브랜드)  0.123862  [((), (DIOR, 브랜드), 0.12386156648451731, 1.0), ...   \n",
       "123  (드레스, DIOR)  0.122040  [((), (드레스, DIOR), 0.122040072859745, 1.0), ((...   \n",
       "146    (DIOR, 티)  0.118397  [((), (DIOR, 티), 0.11839708561020036, 1.0), ((...   \n",
       "136  (스타일, DIOR)  0.118397  [((), (스타일, DIOR), 0.11839708561020036, 1.0), ...   \n",
       "149  (DIOR, 하우스)  0.118397  [((), (DIOR, 하우스), 0.11839708561020036, 1.0), ...   \n",
       "\n",
       "     length  \n",
       "148       2  \n",
       "145       2  \n",
       "188       2  \n",
       "200       2  \n",
       "219       2  \n",
       "130       2  \n",
       "123       2  \n",
       "146       2  \n",
       "136       2  \n",
       "149       2  "
      ]
     },
     "execution_count": 31,
     "metadata": {},
     "output_type": "execute_result"
    }
   ],
   "source": [
    "###### 지지도(support) : P(A∩B)\n",
    "result = list(apriori(top500_word, min_support = 0.06))\n",
    "df = pd.DataFrame(result)\n",
    "df['length'] = df['items'].apply(lambda x:len(x))\n",
    "df = df[(df['length'] == 2) \n",
    "        & (df['support'] >= 0.01)].sort_values(by='support', ascending = False)\n",
    "df.head(10)"
   ]
  },
  {
   "cell_type": "code",
   "execution_count": 32,
   "metadata": {},
   "outputs": [],
   "source": [
    "idx = []\n",
    "for i in df.index:\n",
    "    if '리사' in df.loc[i, 'items']:\n",
    "        idx.append(i)"
   ]
  },
  {
   "cell_type": "code",
   "execution_count": 33,
   "metadata": {},
   "outputs": [
    {
     "data": {
      "text/html": [
       "<div>\n",
       "<style scoped>\n",
       "    .dataframe tbody tr th:only-of-type {\n",
       "        vertical-align: middle;\n",
       "    }\n",
       "\n",
       "    .dataframe tbody tr th {\n",
       "        vertical-align: top;\n",
       "    }\n",
       "\n",
       "    .dataframe thead th {\n",
       "        text-align: right;\n",
       "    }\n",
       "</style>\n",
       "<table border=\"1\" class=\"dataframe\">\n",
       "  <thead>\n",
       "    <tr style=\"text-align: right;\">\n",
       "      <th></th>\n",
       "      <th>items</th>\n",
       "      <th>support</th>\n",
       "      <th>ordered_statistics</th>\n",
       "      <th>length</th>\n",
       "    </tr>\n",
       "  </thead>\n",
       "  <tbody>\n",
       "    <tr>\n",
       "      <th>188</th>\n",
       "      <td>(리사, 패션)</td>\n",
       "      <td>0.145719</td>\n",
       "      <td>[((), (리사, 패션), 0.14571948998178508, 1.0), ((리...</td>\n",
       "      <td>2</td>\n",
       "    </tr>\n",
       "    <tr>\n",
       "      <th>171</th>\n",
       "      <td>(리사, 멤버)</td>\n",
       "      <td>0.109290</td>\n",
       "      <td>[((), (리사, 멤버), 0.1092896174863388, 1.0), ((리사...</td>\n",
       "      <td>2</td>\n",
       "    </tr>\n",
       "    <tr>\n",
       "      <th>169</th>\n",
       "      <td>(매력, 리사)</td>\n",
       "      <td>0.107468</td>\n",
       "      <td>[((), (매력, 리사), 0.10746812386156648, 1.0), ((리...</td>\n",
       "      <td>2</td>\n",
       "    </tr>\n",
       "    <tr>\n",
       "      <th>175</th>\n",
       "      <td>(블랙, 리사)</td>\n",
       "      <td>0.091075</td>\n",
       "      <td>[((), (블랙, 리사), 0.09107468123861566, 1.0), ((리...</td>\n",
       "      <td>2</td>\n",
       "    </tr>\n",
       "    <tr>\n",
       "      <th>186</th>\n",
       "      <td>(컬러, 리사)</td>\n",
       "      <td>0.087432</td>\n",
       "      <td>[((), (컬러, 리사), 0.08743169398907104, 1.0), ((리...</td>\n",
       "      <td>2</td>\n",
       "    </tr>\n",
       "    <tr>\n",
       "      <th>184</th>\n",
       "      <td>(잘, 리사)</td>\n",
       "      <td>0.085610</td>\n",
       "      <td>[((), (리사, 잘), 0.08561020036429873, 1.0), ((리사...</td>\n",
       "      <td>2</td>\n",
       "    </tr>\n",
       "    <tr>\n",
       "      <th>192</th>\n",
       "      <td>(리사, 한편)</td>\n",
       "      <td>0.083789</td>\n",
       "      <td>[((), (리사, 한편), 0.08378870673952642, 1.0), ((리...</td>\n",
       "      <td>2</td>\n",
       "    </tr>\n",
       "    <tr>\n",
       "      <th>164</th>\n",
       "      <td>(룩, 리사)</td>\n",
       "      <td>0.083789</td>\n",
       "      <td>[((), (룩, 리사), 0.08378870673952642, 1.0), ((룩)...</td>\n",
       "      <td>2</td>\n",
       "    </tr>\n",
       "    <tr>\n",
       "      <th>190</th>\n",
       "      <td>(리사, 포인트)</td>\n",
       "      <td>0.083789</td>\n",
       "      <td>[((), (리사, 포인트), 0.08378870673952642, 1.0), ((...</td>\n",
       "      <td>2</td>\n",
       "    </tr>\n",
       "    <tr>\n",
       "      <th>176</th>\n",
       "      <td>(사랑, 리사)</td>\n",
       "      <td>0.081967</td>\n",
       "      <td>[((), (사랑, 리사), 0.08196721311475409, 1.0), ((리...</td>\n",
       "      <td>2</td>\n",
       "    </tr>\n",
       "    <tr>\n",
       "      <th>173</th>\n",
       "      <td>(리사, 무대)</td>\n",
       "      <td>0.076503</td>\n",
       "      <td>[((), (리사, 무대), 0.07650273224043716, 1.0), ((리...</td>\n",
       "      <td>2</td>\n",
       "    </tr>\n",
       "    <tr>\n",
       "      <th>178</th>\n",
       "      <td>(스타일, 리사)</td>\n",
       "      <td>0.076503</td>\n",
       "      <td>[((), (스타일, 리사), 0.07650273224043716, 1.0), ((...</td>\n",
       "      <td>2</td>\n",
       "    </tr>\n",
       "    <tr>\n",
       "      <th>189</th>\n",
       "      <td>(팬, 리사)</td>\n",
       "      <td>0.074681</td>\n",
       "      <td>[((), (팬, 리사), 0.07468123861566485, 1.0), ((리사...</td>\n",
       "      <td>2</td>\n",
       "    </tr>\n",
       "    <tr>\n",
       "      <th>180</th>\n",
       "      <td>(얼굴, 리사)</td>\n",
       "      <td>0.074681</td>\n",
       "      <td>[((), (얼굴, 리사), 0.07468123861566485, 1.0), ((리...</td>\n",
       "      <td>2</td>\n",
       "    </tr>\n",
       "    <tr>\n",
       "      <th>191</th>\n",
       "      <td>(한국, 리사)</td>\n",
       "      <td>0.072860</td>\n",
       "      <td>[((), (한국, 리사), 0.07285974499089254, 1.0), ((리...</td>\n",
       "      <td>2</td>\n",
       "    </tr>\n",
       "    <tr>\n",
       "      <th>174</th>\n",
       "      <td>(브랜드, 리사)</td>\n",
       "      <td>0.072860</td>\n",
       "      <td>[((), (리사, 브랜드), 0.07285974499089254, 1.0), ((...</td>\n",
       "      <td>2</td>\n",
       "    </tr>\n",
       "    <tr>\n",
       "      <th>153</th>\n",
       "      <td>(리사, 걸그룹)</td>\n",
       "      <td>0.072860</td>\n",
       "      <td>[((), (리사, 걸그룹), 0.07285974499089254, 1.0), ((...</td>\n",
       "      <td>2</td>\n",
       "    </tr>\n",
       "    <tr>\n",
       "      <th>154</th>\n",
       "      <td>(리사, 그룹)</td>\n",
       "      <td>0.071038</td>\n",
       "      <td>[((), (리사, 그룹), 0.07103825136612021, 1.0), ((그...</td>\n",
       "      <td>2</td>\n",
       "    </tr>\n",
       "    <tr>\n",
       "      <th>170</th>\n",
       "      <td>(매치, 리사)</td>\n",
       "      <td>0.071038</td>\n",
       "      <td>[((), (매치, 리사), 0.07103825136612021, 1.0), ((리...</td>\n",
       "      <td>2</td>\n",
       "    </tr>\n",
       "    <tr>\n",
       "      <th>182</th>\n",
       "      <td>(리사, 완성)</td>\n",
       "      <td>0.069217</td>\n",
       "      <td>[((), (리사, 완성), 0.0692167577413479, 1.0), ((리사...</td>\n",
       "      <td>2</td>\n",
       "    </tr>\n",
       "    <tr>\n",
       "      <th>187</th>\n",
       "      <td>(리사, 태국)</td>\n",
       "      <td>0.067395</td>\n",
       "      <td>[((), (리사, 태국), 0.06739526411657559, 1.0), ((리...</td>\n",
       "      <td>2</td>\n",
       "    </tr>\n",
       "    <tr>\n",
       "      <th>181</th>\n",
       "      <td>(리사, 예쁘다)</td>\n",
       "      <td>0.063752</td>\n",
       "      <td>[((), (리사, 예쁘다), 0.06375227686703097, 1.0), ((...</td>\n",
       "      <td>2</td>\n",
       "    </tr>\n",
       "    <tr>\n",
       "      <th>152</th>\n",
       "      <td>(리사, 걸)</td>\n",
       "      <td>0.063752</td>\n",
       "      <td>[((), (걸, 리사), 0.06375227686703097, 1.0), ((걸)...</td>\n",
       "      <td>2</td>\n",
       "    </tr>\n",
       "    <tr>\n",
       "      <th>172</th>\n",
       "      <td>(모습, 리사)</td>\n",
       "      <td>0.063752</td>\n",
       "      <td>[((), (모습, 리사), 0.06375227686703097, 1.0), ((리...</td>\n",
       "      <td>2</td>\n",
       "    </tr>\n",
       "    <tr>\n",
       "      <th>185</th>\n",
       "      <td>(좋은, 리사)</td>\n",
       "      <td>0.061931</td>\n",
       "      <td>[((), (좋은, 리사), 0.061930783242258654, 1.0), ((...</td>\n",
       "      <td>2</td>\n",
       "    </tr>\n",
       "    <tr>\n",
       "      <th>177</th>\n",
       "      <td>(세계, 리사)</td>\n",
       "      <td>0.061931</td>\n",
       "      <td>[((), (세계, 리사), 0.061930783242258654, 1.0), ((...</td>\n",
       "      <td>2</td>\n",
       "    </tr>\n",
       "    <tr>\n",
       "      <th>151</th>\n",
       "      <td>(가장, 리사)</td>\n",
       "      <td>0.061931</td>\n",
       "      <td>[((), (가장, 리사), 0.061930783242258654, 1.0), ((...</td>\n",
       "      <td>2</td>\n",
       "    </tr>\n",
       "    <tr>\n",
       "      <th>183</th>\n",
       "      <td>(인형, 리사)</td>\n",
       "      <td>0.060109</td>\n",
       "      <td>[((), (인형, 리사), 0.060109289617486336, 1.0), ((...</td>\n",
       "      <td>2</td>\n",
       "    </tr>\n",
       "    <tr>\n",
       "      <th>179</th>\n",
       "      <td>(리사, 아이돌)</td>\n",
       "      <td>0.060109</td>\n",
       "      <td>[((), (리사, 아이돌), 0.060109289617486336, 1.0), (...</td>\n",
       "      <td>2</td>\n",
       "    </tr>\n",
       "  </tbody>\n",
       "</table>\n",
       "</div>"
      ],
      "text/plain": [
       "         items   support                                 ordered_statistics  \\\n",
       "188   (리사, 패션)  0.145719  [((), (리사, 패션), 0.14571948998178508, 1.0), ((리...   \n",
       "171   (리사, 멤버)  0.109290  [((), (리사, 멤버), 0.1092896174863388, 1.0), ((리사...   \n",
       "169   (매력, 리사)  0.107468  [((), (매력, 리사), 0.10746812386156648, 1.0), ((리...   \n",
       "175   (블랙, 리사)  0.091075  [((), (블랙, 리사), 0.09107468123861566, 1.0), ((리...   \n",
       "186   (컬러, 리사)  0.087432  [((), (컬러, 리사), 0.08743169398907104, 1.0), ((리...   \n",
       "184    (잘, 리사)  0.085610  [((), (리사, 잘), 0.08561020036429873, 1.0), ((리사...   \n",
       "192   (리사, 한편)  0.083789  [((), (리사, 한편), 0.08378870673952642, 1.0), ((리...   \n",
       "164    (룩, 리사)  0.083789  [((), (룩, 리사), 0.08378870673952642, 1.0), ((룩)...   \n",
       "190  (리사, 포인트)  0.083789  [((), (리사, 포인트), 0.08378870673952642, 1.0), ((...   \n",
       "176   (사랑, 리사)  0.081967  [((), (사랑, 리사), 0.08196721311475409, 1.0), ((리...   \n",
       "173   (리사, 무대)  0.076503  [((), (리사, 무대), 0.07650273224043716, 1.0), ((리...   \n",
       "178  (스타일, 리사)  0.076503  [((), (스타일, 리사), 0.07650273224043716, 1.0), ((...   \n",
       "189    (팬, 리사)  0.074681  [((), (팬, 리사), 0.07468123861566485, 1.0), ((리사...   \n",
       "180   (얼굴, 리사)  0.074681  [((), (얼굴, 리사), 0.07468123861566485, 1.0), ((리...   \n",
       "191   (한국, 리사)  0.072860  [((), (한국, 리사), 0.07285974499089254, 1.0), ((리...   \n",
       "174  (브랜드, 리사)  0.072860  [((), (리사, 브랜드), 0.07285974499089254, 1.0), ((...   \n",
       "153  (리사, 걸그룹)  0.072860  [((), (리사, 걸그룹), 0.07285974499089254, 1.0), ((...   \n",
       "154   (리사, 그룹)  0.071038  [((), (리사, 그룹), 0.07103825136612021, 1.0), ((그...   \n",
       "170   (매치, 리사)  0.071038  [((), (매치, 리사), 0.07103825136612021, 1.0), ((리...   \n",
       "182   (리사, 완성)  0.069217  [((), (리사, 완성), 0.0692167577413479, 1.0), ((리사...   \n",
       "187   (리사, 태국)  0.067395  [((), (리사, 태국), 0.06739526411657559, 1.0), ((리...   \n",
       "181  (리사, 예쁘다)  0.063752  [((), (리사, 예쁘다), 0.06375227686703097, 1.0), ((...   \n",
       "152    (리사, 걸)  0.063752  [((), (걸, 리사), 0.06375227686703097, 1.0), ((걸)...   \n",
       "172   (모습, 리사)  0.063752  [((), (모습, 리사), 0.06375227686703097, 1.0), ((리...   \n",
       "185   (좋은, 리사)  0.061931  [((), (좋은, 리사), 0.061930783242258654, 1.0), ((...   \n",
       "177   (세계, 리사)  0.061931  [((), (세계, 리사), 0.061930783242258654, 1.0), ((...   \n",
       "151   (가장, 리사)  0.061931  [((), (가장, 리사), 0.061930783242258654, 1.0), ((...   \n",
       "183   (인형, 리사)  0.060109  [((), (인형, 리사), 0.060109289617486336, 1.0), ((...   \n",
       "179  (리사, 아이돌)  0.060109  [((), (리사, 아이돌), 0.060109289617486336, 1.0), (...   \n",
       "\n",
       "     length  \n",
       "188       2  \n",
       "171       2  \n",
       "169       2  \n",
       "175       2  \n",
       "186       2  \n",
       "184       2  \n",
       "192       2  \n",
       "164       2  \n",
       "190       2  \n",
       "176       2  \n",
       "173       2  \n",
       "178       2  \n",
       "189       2  \n",
       "180       2  \n",
       "191       2  \n",
       "174       2  \n",
       "153       2  \n",
       "154       2  \n",
       "170       2  \n",
       "182       2  \n",
       "187       2  \n",
       "181       2  \n",
       "152       2  \n",
       "172       2  \n",
       "185       2  \n",
       "177       2  \n",
       "151       2  \n",
       "183       2  \n",
       "179       2  "
      ]
     },
     "execution_count": 33,
     "metadata": {},
     "output_type": "execute_result"
    }
   ],
   "source": [
    "df.loc[idx]"
   ]
  },
  {
   "cell_type": "markdown",
   "metadata": {},
   "source": [
    "### networkx 그래프 정의"
   ]
  },
  {
   "cell_type": "code",
   "execution_count": 34,
   "metadata": {},
   "outputs": [],
   "source": [
    "G = nx.Graph()\n",
    "ar = (df['items']); G.add_edges_from(ar)"
   ]
  },
  {
   "cell_type": "code",
   "execution_count": 35,
   "metadata": {},
   "outputs": [],
   "source": [
    "# 페이지 랭크\n",
    "pr = nx.pagerank(G)\n",
    "nsize = np.array([v for v in pr.values()])\n",
    "nsize = 2000 * (nsize - min(nsize)) / (max(nsize) - min(nsize))"
   ]
  },
  {
   "cell_type": "code",
   "execution_count": 36,
   "metadata": {},
   "outputs": [],
   "source": [
    "pos = nx.spring_layout(G)"
   ]
  },
  {
   "cell_type": "code",
   "execution_count": 37,
   "metadata": {},
   "outputs": [
    {
     "data": {
      "image/png": "[encoded data removed]",
      "text/plain": [
       "<Figure size 1152x864 with 1 Axes>"
      ]
     },
     "metadata": {},
     "output_type": "display_data"
    }
   ],
   "source": [
    "plt.figure(figsize = (16, 12)) ; plt.axis('off')\n",
    "nx.draw_networkx(G, font_family = 'Malgun Gothic', font_size = 16,\n",
    "                pos = pos, node_color = list(pr.values()), node_size = nsize,\n",
    "                alpha=0.7, edge_color='.5', cmap = plt.cm.spring,\n",
    "                font_color = 'black', font_weight = 'bold')\n",
    "\n",
    "plt.savefig('./nt_D5L_top500_mins06-b.png', bbox_inches = 'tight')\n",
    "plt.show()\n"
   ]
  },
  {
   "cell_type": "code",
   "execution_count": null,
   "metadata": {},
   "outputs": [],
   "source": []
  },
  {
   "cell_type": "code",
   "execution_count": null,
   "metadata": {},
   "outputs": [],
   "source": []
  },
  {
   "cell_type": "code",
   "execution_count": null,
   "metadata": {},
   "outputs": [],
   "source": []
  },
  {
   "cell_type": "code",
   "execution_count": null,
   "metadata": {},
   "outputs": [],
   "source": []
  },
  {
   "cell_type": "code",
   "execution_count": null,
   "metadata": {},
   "outputs": [],
   "source": []
  },
  {
   "cell_type": "code",
   "execution_count": null,
   "metadata": {},
   "outputs": [],
   "source": []
  },
  {
   "cell_type": "code",
   "execution_count": null,
   "metadata": {},
   "outputs": [],
   "source": []
  },
  {
   "cell_type": "code",
   "execution_count": null,
   "metadata": {},
   "outputs": [],
   "source": []
  },
  {
   "cell_type": "code",
   "execution_count": null,
   "metadata": {},
   "outputs": [],
   "source": []
  },
  {
   "cell_type": "code",
   "execution_count": null,
   "metadata": {},
   "outputs": [],
   "source": []
  },
  {
   "cell_type": "code",
   "execution_count": null,
   "metadata": {},
   "outputs": [],
   "source": []
  },
  {
   "cell_type": "code",
   "execution_count": null,
   "metadata": {},
   "outputs": [],
   "source": []
  },
  {
   "cell_type": "code",
   "execution_count": null,
   "metadata": {},
   "outputs": [],
   "source": []
  },
  {
   "cell_type": "code",
   "execution_count": null,
   "metadata": {},
   "outputs": [],
   "source": []
  },
  {
   "cell_type": "code",
   "execution_count": null,
   "metadata": {},
   "outputs": [],
   "source": []
  },
  {
   "cell_type": "code",
   "execution_count": null,
   "metadata": {},
   "outputs": [],
   "source": []
  },
  {
   "cell_type": "code",
   "execution_count": null,
   "metadata": {},
   "outputs": [],
   "source": []
  },
  {
   "cell_type": "code",
   "execution_count": null,
   "metadata": {},
   "outputs": [],
   "source": []
  },
  {
   "cell_type": "code",
   "execution_count": null,
   "metadata": {},
   "outputs": [],
   "source": []
  },
  {
   "cell_type": "code",
   "execution_count": null,
   "metadata": {},
   "outputs": [],
   "source": []
  },
  {
   "cell_type": "code",
   "execution_count": null,
   "metadata": {},
   "outputs": [],
   "source": []
  },
  {
   "cell_type": "code",
   "execution_count": null,
   "metadata": {},
   "outputs": [],
   "source": []
  },
  {
   "cell_type": "code",
   "execution_count": null,
   "metadata": {},
   "outputs": [],
   "source": []
  },
  {
   "cell_type": "code",
   "execution_count": null,
   "metadata": {},
   "outputs": [],
   "source": []
  },
  {
   "cell_type": "code",
   "execution_count": null,
   "metadata": {},
   "outputs": [],
   "source": []
  }
 ],
 "metadata": {
  "kernelspec": {
   "display_name": "Python 3",
   "language": "python",
   "name": "python3"
  },
  "language_info": {
   "codemirror_mode": {
    "name": "ipython",
    "version": 3
   },
   "file_extension": ".py",
   "mimetype": "text/x-python",
   "name": "python",
   "nbconvert_exporter": "python",
   "pygments_lexer": "ipython3",
   "version": "3.7.6"
  }
 },
 "nbformat": 4,
 "nbformat_minor": 4
}
