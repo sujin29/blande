{
 "cells": [
  {
   "cell_type": "code",
   "execution_count": 1,
   "metadata": {},
   "outputs": [],
   "source": [
    "import pandas as pd\n",
    "import numpy as np\n",
    "import re\n",
    "import networkx as nx\n",
    "import matplotlib.pyplot as plt"
   ]
  },
  {
   "cell_type": "code",
   "execution_count": 2,
   "metadata": {},
   "outputs": [],
   "source": [
    "# 한글 폰트 문제 해결\n",
    "import platform\n",
    "\n",
    "from matplotlib import font_manager, rc\n",
    "# plt.rcParams['axes.unicode_minus'] = False\n",
    "\n",
    "if platform.system() == 'Darwin':\n",
    "    rc('font', family='AppleGothic')\n",
    "elif platform.system() == 'Windows':\n",
    "    path = \"c:/Windows/Fonts/malgun.ttf\"\n",
    "    font_name = font_manager.FontProperties(fname=path).get_name()\n",
    "    rc('font', family=font_name)\n",
    "else:\n",
    "    print('Unknown system... sorry~~~~') "
   ]
  },
  {
   "cell_type": "code",
   "execution_count": 3,
   "metadata": {},
   "outputs": [],
   "source": [
    "CHL = pd.read_csv('./magazine/final/CHL_adfn_2.csv', encoding = 'utf-8', sep = '|')"
   ]
  },
  {
   "cell_type": "code",
   "execution_count": 4,
   "metadata": {},
   "outputs": [],
   "source": [
    "CHL['ADFN_2'] = CHL['ADFN_2'].str.replace('[', '').str.replace(']', '').str.replace(\"'\", \"\").str.split(', ')"
   ]
  },
  {
   "cell_type": "code",
   "execution_count": 5,
   "metadata": {},
   "outputs": [
    {
     "data": {
      "text/plain": [
       "0                           [메탈, 레진, 귀고리, CHANEL, CHANEL]\n",
       "1       [인스타그램, 에디터, 디자이너, 인, 플루, 계정, 막, 시작, 가을, 겨울, 상...\n",
       "2                        [체인, 진주, 결합, 우아함을, CHANEL, 액세서리]\n",
       "3       [주변, 친구, 좋아하고, 사고, 익숙한, 브랜드, 뭐, 있지, CHANEL, 에르...\n",
       "4       [컬러, 블록, 조화로운, 부츠, CHANEL, CHANEL, 와인, 색, 하이, ...\n",
       "                              ...                        \n",
       "1642    [밀란, 패션위크, 참석, 차, 출국, 리사, 공항, BLACKPINK, 리사, 오...\n",
       "1643    [리사, 패션, 브랜드, 탄생, 할, 보인다, YG, 엔터테인먼트, BLACKPIN...\n",
       "1644    [서로, 팬임, 인증, 두, 스타, BLACKPINK, 세레나, 고메즈, 함께한, ...\n",
       "1645    [내셔널, 아이스크림, 데이, 기념, BLACKPINK, 귀여운, 포스팅, 제니, ...\n",
       "1646    [한국, 신진, 디자이너, 하이, 패션, 브랜드, 섭렵, 블핑, BLACKPINK,...\n",
       "Name: ADFN_2, Length: 1647, dtype: object"
      ]
     },
     "execution_count": 5,
     "metadata": {},
     "output_type": "execute_result"
    }
   ],
   "source": [
    "CHL['ADFN_2']"
   ]
  },
  {
   "cell_type": "markdown",
   "metadata": {},
   "source": [
    "### top50 리스트 생성"
   ]
  },
  {
   "cell_type": "code",
   "execution_count": 6,
   "metadata": {},
   "outputs": [],
   "source": [
    "top500 = pd.read_csv('./CHL_top500.csv', sep='|', encoding = 'utf-8')"
   ]
  },
  {
   "cell_type": "code",
   "execution_count": 7,
   "metadata": {},
   "outputs": [
    {
     "data": {
      "text/html": [
       "<div>\n",
       "<style scoped>\n",
       "    .dataframe tbody tr th:only-of-type {\n",
       "        vertical-align: middle;\n",
       "    }\n",
       "\n",
       "    .dataframe tbody tr th {\n",
       "        vertical-align: top;\n",
       "    }\n",
       "\n",
       "    .dataframe thead th {\n",
       "        text-align: right;\n",
       "    }\n",
       "</style>\n",
       "<table border=\"1\" class=\"dataframe\">\n",
       "  <thead>\n",
       "    <tr style=\"text-align: right;\">\n",
       "      <th></th>\n",
       "      <th>word</th>\n",
       "      <th>count</th>\n",
       "    </tr>\n",
       "  </thead>\n",
       "  <tbody>\n",
       "    <tr>\n",
       "      <th>0</th>\n",
       "      <td>CHANEL</td>\n",
       "      <td>5473</td>\n",
       "    </tr>\n",
       "    <tr>\n",
       "      <th>1</th>\n",
       "      <td>리사</td>\n",
       "      <td>3581</td>\n",
       "    </tr>\n",
       "    <tr>\n",
       "      <th>2</th>\n",
       "      <td>브랜드</td>\n",
       "      <td>985</td>\n",
       "    </tr>\n",
       "    <tr>\n",
       "      <th>3</th>\n",
       "      <td>KARL</td>\n",
       "      <td>882</td>\n",
       "    </tr>\n",
       "    <tr>\n",
       "      <th>4</th>\n",
       "      <td>모델</td>\n",
       "      <td>777</td>\n",
       "    </tr>\n",
       "    <tr>\n",
       "      <th>...</th>\n",
       "      <td>...</td>\n",
       "      <td>...</td>\n",
       "    </tr>\n",
       "    <tr>\n",
       "      <th>495</th>\n",
       "      <td>리츠</td>\n",
       "      <td>70</td>\n",
       "    </tr>\n",
       "    <tr>\n",
       "      <th>496</th>\n",
       "      <td>가운</td>\n",
       "      <td>70</td>\n",
       "    </tr>\n",
       "    <tr>\n",
       "      <th>497</th>\n",
       "      <td>관계</td>\n",
       "      <td>70</td>\n",
       "    </tr>\n",
       "    <tr>\n",
       "      <th>498</th>\n",
       "      <td>중고</td>\n",
       "      <td>69</td>\n",
       "    </tr>\n",
       "    <tr>\n",
       "      <th>499</th>\n",
       "      <td>힐</td>\n",
       "      <td>69</td>\n",
       "    </tr>\n",
       "  </tbody>\n",
       "</table>\n",
       "<p>500 rows × 2 columns</p>\n",
       "</div>"
      ],
      "text/plain": [
       "       word  count\n",
       "0    CHANEL   5473\n",
       "1        리사   3581\n",
       "2       브랜드    985\n",
       "3      KARL    882\n",
       "4        모델    777\n",
       "..      ...    ...\n",
       "495      리츠     70\n",
       "496      가운     70\n",
       "497      관계     70\n",
       "498      중고     69\n",
       "499       힐     69\n",
       "\n",
       "[500 rows x 2 columns]"
      ]
     },
     "execution_count": 7,
     "metadata": {},
     "output_type": "execute_result"
    }
   ],
   "source": [
    "top500"
   ]
  },
  {
   "cell_type": "code",
   "execution_count": 8,
   "metadata": {},
   "outputs": [
    {
     "name": "stdout",
     "output_type": "stream",
     "text": [
      "30\n",
      "['CHANEL', '리사', '브랜드', 'KARL', '모델', '쇼', '장식', '백', '예쁘다', '드레스', '스타일', '룩', '컬러', '파리', '귀엽다', '블랙', '여성', '사랑', '트위드', '춤', '재킷', '디자이너', '디자인', 'COUTURE', '매력', '주얼리', '세계', '아이템', '코코', '새로운']\n"
     ]
    }
   ],
   "source": [
    "top30 = []\n",
    "for i in range(30):\n",
    "    top30.append(top500.loc[i, 'word'])\n",
    "    \n",
    "print(len(top30))\n",
    "print(top30)"
   ]
  },
  {
   "cell_type": "code",
   "execution_count": 9,
   "metadata": {},
   "outputs": [
    {
     "name": "stdout",
     "output_type": "stream",
     "text": [
      "50\n",
      "['CHANEL', '리사', '브랜드', 'KARL', '모델', '쇼', '장식', '백', '예쁘다', '드레스', '스타일', '룩', '컬러', '파리', '귀엽다', '블랙', '여성', '사랑', '트위드', '춤', '재킷', '디자이너', '디자인', 'COUTURE', '매력', '주얼리', '세계', '아이템', '코코', '새로운', '한국', '하우스', '무대', '화이트', '옷', '시작', 'GABRIELLE', '공방', '다양한', '럭셔리', '크루즈', '영감', '랩', 'VIRGINIE', '영화', '스커트', '디렉터', '눈', '팬츠', '프랑스']\n"
     ]
    }
   ],
   "source": [
    "top50 = []\n",
    "for i in range(50):\n",
    "    top50.append(top500.loc[i, 'word'])\n",
    "    \n",
    "print(len(top50))\n",
    "print(top50)"
   ]
  },
  {
   "cell_type": "markdown",
   "metadata": {},
   "source": [
    "### top100"
   ]
  },
  {
   "cell_type": "code",
   "execution_count": 10,
   "metadata": {},
   "outputs": [
    {
     "name": "stdout",
     "output_type": "stream",
     "text": [
      "100\n",
      "['CHANEL', '리사', '브랜드', 'KARL', '모델', '쇼', '장식', '백', '예쁘다', '드레스', '스타일', '룩', '컬러', '파리', '귀엽다', '블랙', '여성', '사랑', '트위드', '춤', '재킷', '디자이너', '디자인', 'COUTURE', '매력', '주얼리', '세계', '아이템', '코코', '새로운', '한국', '하우스', '무대', '화이트', '옷', '시작', 'GABRIELLE', '공방', '다양한', '럭셔리', '크루즈', '영감', '랩', 'VIRGINIE', '영화', '스커트', '디렉터', '눈', '팬츠', '프랑스', '골드', '완성', '얼굴', '슈즈', '봄', '처음', '노래', '느낌', '가방', '여름', '영어', '링', '가죽', '클래식', '패션쇼', '많은', 'HAUTE', '첫', '부츠', '착용', '슈트', '런웨이', '사용', '코트', '워치', '핑크', '시대', '여자', '의상', '로고', '대표', '데님', '팔레', '라인', '분위기', '중국', '패턴', '프라다', '순간', '크리에이티브', '가을', '이자', '향수', '작업', '스타일링', '아이돌', '미국', '자리', '참석', '겨울']\n"
     ]
    }
   ],
   "source": [
    "top100 = []\n",
    "for i in range(100):\n",
    "    top100.append(top500.loc[i, 'word'])\n",
    "    \n",
    "print(len(top100))\n",
    "print(top100)"
   ]
  },
  {
   "cell_type": "code",
   "execution_count": 11,
   "metadata": {},
   "outputs": [
    {
     "name": "stdout",
     "output_type": "stream",
     "text": [
      "200\n",
      "['CHANEL', '리사', '브랜드', 'KARL', '모델', '쇼', '장식', '백', '예쁘다', '드레스', '스타일', '룩', '컬러', '파리', '귀엽다', '블랙', '여성', '사랑', '트위드', '춤', '재킷', '디자이너', '디자인', 'COUTURE', '매력', '주얼리', '세계', '아이템', '코코', '새로운', '한국', '하우스', '무대', '화이트', '옷', '시작', 'GABRIELLE', '공방', '다양한', '럭셔리', '크루즈', '영감', '랩', 'VIRGINIE', '영화', '스커트', '디렉터', '눈', '팬츠', '프랑스', '골드', '완성', '얼굴', '슈즈', '봄', '처음', '노래', '느낌', '가방', '여름', '영어', '링', '가죽', '클래식', '패션쇼', '많은', 'HAUTE', '첫', '부츠', '착용', '슈트', '런웨이', '사용', '코트', '워치', '핑크', '시대', '여자', '의상', '로고', '대표', '데님', '팔레', '라인', '분위기', '중국', '패턴', '프라다', '순간', '크리에이티브', '가을', '이자', '향수', '작업', '스타일링', '아이돌', '미국', '자리', '참석', '겨울', '머리', '선택', '배우', '최고', '점', '상징', '캠페인', '체인', '뉴욕', '태국', '세', '하이', '스타', '예정', 'CELINE', '톱', '촬영', '제작', '책', '레드', '실루엣', '인기', '액세서리', '있었다', '좋은', '미니', '다이아몬드', '퍼렐', '향', '판매', '이후', '사이즈', '칼', '트렌드', '패션계', '스', '진행', '포인트', '마지막', 'J', '자수', '매장', '한국어', '현재', '펜디', '재', '손', '그룹', '채', '남성', '약', '방식', '비율', '꽃', '한국인', '이미지', '볼', '세상', '셔츠', '니트', '표정', '화려한', '형태', '이야기', 'SAINT', '스니커즈', '패션', '티셔츠', 'LAURENT', '팬', '가브리엘', '활용', '실력', '서울', '크러쉬', '무드', '화보', '동시', '연상', '수트', '발표', '프린트', '여행', '버버리', '사이', '의미', '아주', '작품', '멋있다', '영국', '디테일', '온', '코드', '모자', '빛', '특별한', '명품', '존재', '뷰티', '공간']\n"
     ]
    }
   ],
   "source": [
    "top200 = []\n",
    "for i in range(200):\n",
    "    top200.append(top500.loc[i, 'word'])\n",
    "    \n",
    "print(len(top200))\n",
    "print(top200)"
   ]
  },
  {
   "cell_type": "code",
   "execution_count": 12,
   "metadata": {},
   "outputs": [
    {
     "name": "stdout",
     "output_type": "stream",
     "text": [
      "300\n",
      "['CHANEL', '리사', '브랜드', 'KARL', '모델', '쇼', '장식', '백', '예쁘다', '드레스', '스타일', '룩', '컬러', '파리', '귀엽다', '블랙', '여성', '사랑', '트위드', '춤', '재킷', '디자이너', '디자인', 'COUTURE', '매력', '주얼리', '세계', '아이템', '코코', '새로운', '한국', '하우스', '무대', '화이트', '옷', '시작', 'GABRIELLE', '공방', '다양한', '럭셔리', '크루즈', '영감', '랩', 'VIRGINIE', '영화', '스커트', '디렉터', '눈', '팬츠', '프랑스', '골드', '완성', '얼굴', '슈즈', '봄', '처음', '노래', '느낌', '가방', '여름', '영어', '링', '가죽', '클래식', '패션쇼', '많은', 'HAUTE', '첫', '부츠', '착용', '슈트', '런웨이', '사용', '코트', '워치', '핑크', '시대', '여자', '의상', '로고', '대표', '데님', '팔레', '라인', '분위기', '중국', '패턴', '프라다', '순간', '크리에이티브', '가을', '이자', '향수', '작업', '스타일링', '아이돌', '미국', '자리', '참석', '겨울', '머리', '선택', '배우', '최고', '점', '상징', '캠페인', '체인', '뉴욕', '태국', '세', '하이', '스타', '예정', 'CELINE', '톱', '촬영', '제작', '책', '레드', '실루엣', '인기', '액세서리', '있었다', '좋은', '미니', '다이아몬드', '퍼렐', '향', '판매', '이후', '사이즈', '칼', '트렌드', '패션계', '스', '진행', '포인트', '마지막', 'J', '자수', '매장', '한국어', '현재', '펜디', '재', '손', '그룹', '채', '남성', '약', '방식', '비율', '꽃', '한국인', '이미지', '볼', '세상', '셔츠', '니트', '표정', '화려한', '형태', '이야기', 'SAINT', '스니커즈', '패션', '티셔츠', 'LAURENT', '팬', '가브리엘', '활용', '실력', '서울', '크러쉬', '무드', '화보', '동시', '연상', '수트', '발표', '프린트', '여행', '버버리', '사이', '의미', '아주', '작품', '멋있다', '영국', '디테일', '온', '코드', '모자', '빛', '특별한', '명품', '존재', '뷰티', '공간', '아름다', '적', '강조', '탄생', '행사', '친구', '롱', '더욱', '여러', '트', '외국인', '늘', '모양', '전시', '현지', '기억', '마음', '아이콘', 'FW', '살', '벨트', '아티스트', '보그', '메이크업', '르', '뿐', '장인', '에르메스', '진주', '삶', '시계', '지난해', '핸드백', '우아한', '리', '베', '리얼', '올해', '음악', '남자', '키', '공식', '감', '부', '크리스', '온라인', '힘', '빈티지', '관심', '아닌', '아름다운', '오픈', '발렌시아', '뮤즈', '웨어', '레이스', '목걸이', '직접', '출신', '인상', '협업', '작은', '피날레', '블루', '출시', '배', '헤어', '프리', '패션위크', '최초', '시크', '도시', '시선', '그대로', '비', '실크', '예술', '완벽한', '앤', '선글라스', '바이', '비롯', '문화', '루이', '유행', '요소', 'THE', '글로벌', '인스타그램', '새', '거리', '주인공', '어깨', '모티프', '인터뷰', '비통', '감각', '다리', '루이비통', '스튜디오']\n"
     ]
    }
   ],
   "source": [
    "top300 = []\n",
    "for i in range(300):\n",
    "    top300.append(top500.loc[i, 'word'])\n",
    "    \n",
    "print(len(top300))\n",
    "print(top300)"
   ]
  },
  {
   "cell_type": "code",
   "execution_count": 13,
   "metadata": {},
   "outputs": [
    {
     "name": "stdout",
     "output_type": "stream",
     "text": [
      "500\n",
      "['CHANEL', '리사', '브랜드', 'KARL', '모델', '쇼', '장식', '백', '예쁘다', '드레스', '스타일', '룩', '컬러', '파리', '귀엽다', '블랙', '여성', '사랑', '트위드', '춤', '재킷', '디자이너', '디자인', 'COUTURE', '매력', '주얼리', '세계', '아이템', '코코', '새로운', '한국', '하우스', '무대', '화이트', '옷', '시작', 'GABRIELLE', '공방', '다양한', '럭셔리', '크루즈', '영감', '랩', 'VIRGINIE', '영화', '스커트', '디렉터', '눈', '팬츠', '프랑스', '골드', '완성', '얼굴', '슈즈', '봄', '처음', '노래', '느낌', '가방', '여름', '영어', '링', '가죽', '클래식', '패션쇼', '많은', 'HAUTE', '첫', '부츠', '착용', '슈트', '런웨이', '사용', '코트', '워치', '핑크', '시대', '여자', '의상', '로고', '대표', '데님', '팔레', '라인', '분위기', '중국', '패턴', '프라다', '순간', '크리에이티브', '가을']\n"
     ]
    }
   ],
   "source": [
    "t500 = []\n",
    "for i in range(500):\n",
    "    t500.append(top500.loc[i, 'word'])\n",
    "    \n",
    "print(len(t500))\n",
    "print(t500[:91])"
   ]
  },
  {
   "cell_type": "markdown",
   "metadata": {},
   "source": [
    "### top50만 남기기"
   ]
  },
  {
   "cell_type": "code",
   "execution_count": 14,
   "metadata": {},
   "outputs": [
    {
     "data": {
      "text/plain": [
       "1647"
      ]
     },
     "execution_count": 14,
     "metadata": {},
     "output_type": "execute_result"
    }
   ],
   "source": [
    "len(CHL)"
   ]
  },
  {
   "cell_type": "code",
   "execution_count": 15,
   "metadata": {},
   "outputs": [],
   "source": [
    "top30_word = []\n",
    "for i in range(len(CHL)):\n",
    "    w=[]\n",
    "    for word in CHL.loc[i, 'ADFN_2']:\n",
    "        if word in top30:\n",
    "            w.append(word)\n",
    "    top30_word.append(w)"
   ]
  },
  {
   "cell_type": "code",
   "execution_count": 16,
   "metadata": {},
   "outputs": [],
   "source": [
    "top50_word = []\n",
    "for i in range(len(CHL)):\n",
    "    w=[]\n",
    "    for word in CHL.loc[i, 'ADFN_2']:\n",
    "        if word in top50:\n",
    "            w.append(word)\n",
    "    top50_word.append(w)"
   ]
  },
  {
   "cell_type": "code",
   "execution_count": 17,
   "metadata": {},
   "outputs": [],
   "source": [
    "top100_word = []\n",
    "for i in range(len(CHL)):\n",
    "    w=[]\n",
    "    for word in CHL.loc[i, 'ADFN_2']:\n",
    "        if word in top100:\n",
    "            w.append(word)\n",
    "    top100_word.append(w)"
   ]
  },
  {
   "cell_type": "code",
   "execution_count": 18,
   "metadata": {},
   "outputs": [],
   "source": [
    "top200_word = []\n",
    "for i in range(len(CHL)):\n",
    "    w=[]\n",
    "    for word in CHL.loc[i, 'ADFN_2']:\n",
    "        if word in top200:\n",
    "            w.append(word)\n",
    "    top200_word.append(w)"
   ]
  },
  {
   "cell_type": "code",
   "execution_count": 19,
   "metadata": {},
   "outputs": [],
   "source": [
    "top300_word = []\n",
    "for i in range(len(CHL)):\n",
    "    w=[]\n",
    "    for word in CHL.loc[i, 'ADFN_2']:\n",
    "        if word in top300:\n",
    "            w.append(word)\n",
    "    top300_word.append(w)"
   ]
  },
  {
   "cell_type": "code",
   "execution_count": 20,
   "metadata": {},
   "outputs": [],
   "source": [
    "top500_word = []\n",
    "for i in range(len(CHL)):\n",
    "    w=[]\n",
    "    for word in CHL.loc[i, 'ADFN_2']:\n",
    "        if word in t500:\n",
    "            w.append(word)\n",
    "    top500_word.append(w)"
   ]
  },
  {
   "cell_type": "markdown",
   "metadata": {},
   "source": [
    "### 전체"
   ]
  },
  {
   "cell_type": "code",
   "execution_count": 21,
   "metadata": {},
   "outputs": [
    {
     "data": {
      "text/html": [
       "<div>\n",
       "<style scoped>\n",
       "    .dataframe tbody tr th:only-of-type {\n",
       "        vertical-align: middle;\n",
       "    }\n",
       "\n",
       "    .dataframe tbody tr th {\n",
       "        vertical-align: top;\n",
       "    }\n",
       "\n",
       "    .dataframe thead th {\n",
       "        text-align: right;\n",
       "    }\n",
       "</style>\n",
       "<table border=\"1\" class=\"dataframe\">\n",
       "  <thead>\n",
       "    <tr style=\"text-align: right;\">\n",
       "      <th></th>\n",
       "      <th>magazine</th>\n",
       "      <th>brand</th>\n",
       "      <th>title</th>\n",
       "      <th>word</th>\n",
       "      <th>ADFN</th>\n",
       "      <th>ADFN_2</th>\n",
       "    </tr>\n",
       "  </thead>\n",
       "  <tbody>\n",
       "    <tr>\n",
       "      <th>0</th>\n",
       "      <td>A</td>\n",
       "      <td>Ch</td>\n",
       "      <td>가을 트렌드 컬러, 위대한 블랙의 위로</td>\n",
       "      <td>메탈과 레진으로 만든 귀고리는 가격미정, CHANEL(CHANEL).</td>\n",
       "      <td>['메탈', '레진', '귀고리', 'CHANEL', 'CHANEL']</td>\n",
       "      <td>[메탈, 레진, 귀고리, CHANEL, CHANEL]</td>\n",
       "    </tr>\n",
       "    <tr>\n",
       "      <th>1</th>\n",
       "      <td>A</td>\n",
       "      <td>Ch</td>\n",
       "      <td>빈티지 쇼핑의 시대</td>\n",
       "      <td>당장 인스타그램을 열어 패션 에디터, 디자이너, 인플루언서의 계정을 열어보길. 지금...</td>\n",
       "      <td>['인스타그램', '에디터', '디자이너', '인', '플루', '계정', '막',...</td>\n",
       "      <td>[인스타그램, 에디터, 디자이너, 인, 플루, 계정, 막, 시작, 가을, 겨울, 상...</td>\n",
       "    </tr>\n",
       "    <tr>\n",
       "      <th>2</th>\n",
       "      <td>A</td>\n",
       "      <td>Ch</td>\n",
       "      <td>올가을 시즌의 주인공, 체인의 활약</td>\n",
       "      <td>체인과 진주의 결합으로 우아함을 배가한 CHANEL의 액세서리들.</td>\n",
       "      <td>['체인', '진주', '결합', '우아함을', 'CHANEL', '액세서리']</td>\n",
       "      <td>[체인, 진주, 결합, 우아함을, CHANEL, 액세서리]</td>\n",
       "    </tr>\n",
       "    <tr>\n",
       "      <th>3</th>\n",
       "      <td>A</td>\n",
       "      <td>Ch</td>\n",
       "      <td>주식을 시작한 패션 에디터의 이야기, 나는 주주다</td>\n",
       "      <td>생각해보자. 나와 주변 친구들이 좋아하고 사고 싶은, 그리고 익숙한 브랜드가 뭐가 ...</td>\n",
       "      <td>['주변', '친구', '좋아하고', '사고', '익숙한', '브랜드', '뭐', ...</td>\n",
       "      <td>[주변, 친구, 좋아하고, 사고, 익숙한, 브랜드, 뭐, 있지, CHANEL, 에르...</td>\n",
       "    </tr>\n",
       "    <tr>\n",
       "      <th>4</th>\n",
       "      <td>A</td>\n",
       "      <td>Ch</td>\n",
       "      <td>가을의 그림자만큼 길어진 롱부츠 12가지</td>\n",
       "      <td>컬러블록이 조화로운 부츠는 가격미정, CHANEL(CHANEL). 와인색 니하이...</td>\n",
       "      <td>['컬러', '블록', '조화로운', '부츠', 'CHANEL', 'CHANEL',...</td>\n",
       "      <td>[컬러, 블록, 조화로운, 부츠, CHANEL, CHANEL, 와인, 색, 하이, ...</td>\n",
       "    </tr>\n",
       "    <tr>\n",
       "      <th>...</th>\n",
       "      <td>...</td>\n",
       "      <td>...</td>\n",
       "      <td>...</td>\n",
       "      <td>...</td>\n",
       "      <td>...</td>\n",
       "      <td>...</td>\n",
       "    </tr>\n",
       "    <tr>\n",
       "      <th>1642</th>\n",
       "      <td>W</td>\n",
       "      <td>L</td>\n",
       "      <td>밀라노로 떠난 리사</td>\n",
       "      <td>밀란 패션위크 참석차 출국한 리사의 공항 룩., BLACKPINK 리사가 오늘 2월...</td>\n",
       "      <td>['밀란', '패션위크', '참석', '차', '출국', '리사', '공항', 'B...</td>\n",
       "      <td>[밀란, 패션위크, 참석, 차, 출국, 리사, 공항, BLACKPINK, 리사, 오...</td>\n",
       "    </tr>\n",
       "    <tr>\n",
       "      <th>1643</th>\n",
       "      <td>W</td>\n",
       "      <td>L</td>\n",
       "      <td>리사의 새로운 행보</td>\n",
       "      <td>, , 리사의 패션 브랜드가 탄생할 것으로 보인다.  YG엔터테인먼트가 2019년 ...</td>\n",
       "      <td>['리사', '패션', '브랜드', '탄생', '할', '보인다', 'YG', '엔...</td>\n",
       "      <td>[리사, 패션, 브랜드, 탄생, 할, 보인다, YG, 엔터테인먼트, BLACKPIN...</td>\n",
       "    </tr>\n",
       "    <tr>\n",
       "      <th>1644</th>\n",
       "      <td>W</td>\n",
       "      <td>L</td>\n",
       "      <td>블랙핑크X세레나 고메즈 영상통화, 협업 티징</td>\n",
       "      <td>서로의 팬임을 인증한 두 스타, 8월 28일 BLACKPINK와 세레나 고메즈가 함...</td>\n",
       "      <td>['서로', '팬임', '인증', '두', '스타', 'BLACKPINK', '세레...</td>\n",
       "      <td>[서로, 팬임, 인증, 두, 스타, BLACKPINK, 세레나, 고메즈, 함께한, ...</td>\n",
       "    </tr>\n",
       "    <tr>\n",
       "      <th>1645</th>\n",
       "      <td>W</td>\n",
       "      <td>L</td>\n",
       "      <td>블랙핑크가 아이스크림 셀카를 올린 이유는?</td>\n",
       "      <td>내셔널 아이스크림 데이’를 기념한 BLACKPINK의 귀여운 포스팅., 제니와 리사...</td>\n",
       "      <td>['내셔널', '아이스크림', '데이', '기념', 'BLACKPINK', '귀여운...</td>\n",
       "      <td>[내셔널, 아이스크림, 데이, 기념, BLACKPINK, 귀여운, 포스팅, 제니, ...</td>\n",
       "    </tr>\n",
       "    <tr>\n",
       "      <th>1646</th>\n",
       "      <td>W</td>\n",
       "      <td>L</td>\n",
       "      <td>블랙핑크 컴백! 남다른 패션 스타일링</td>\n",
       "      <td>한국 신진 디자이너부터 하이 패션 브랜드까지 섭렵한 블핑, 6월 26일 드디어 BL...</td>\n",
       "      <td>['한국', '신진', '디자이너', '하이', '패션', '브랜드', '섭렵', ...</td>\n",
       "      <td>[한국, 신진, 디자이너, 하이, 패션, 브랜드, 섭렵, 블핑, BLACKPINK,...</td>\n",
       "    </tr>\n",
       "  </tbody>\n",
       "</table>\n",
       "<p>1647 rows × 6 columns</p>\n",
       "</div>"
      ],
      "text/plain": [
       "     magazine brand                        title  \\\n",
       "0           A    Ch        가을 트렌드 컬러, 위대한 블랙의 위로   \n",
       "1           A    Ch                   빈티지 쇼핑의 시대   \n",
       "2           A    Ch          올가을 시즌의 주인공, 체인의 활약   \n",
       "3           A    Ch  주식을 시작한 패션 에디터의 이야기, 나는 주주다   \n",
       "4           A    Ch       가을의 그림자만큼 길어진 롱부츠 12가지   \n",
       "...       ...   ...                          ...   \n",
       "1642        W     L                   밀라노로 떠난 리사   \n",
       "1643        W     L                   리사의 새로운 행보   \n",
       "1644        W     L     블랙핑크X세레나 고메즈 영상통화, 협업 티징   \n",
       "1645        W     L      블랙핑크가 아이스크림 셀카를 올린 이유는?   \n",
       "1646        W     L         블랙핑크 컴백! 남다른 패션 스타일링   \n",
       "\n",
       "                                                   word  \\\n",
       "0                메탈과 레진으로 만든 귀고리는 가격미정, CHANEL(CHANEL).   \n",
       "1     당장 인스타그램을 열어 패션 에디터, 디자이너, 인플루언서의 계정을 열어보길. 지금...   \n",
       "2                  체인과 진주의 결합으로 우아함을 배가한 CHANEL의 액세서리들.   \n",
       "3     생각해보자. 나와 주변 친구들이 좋아하고 사고 싶은, 그리고 익숙한 브랜드가 뭐가 ...   \n",
       "4       컬러블록이 조화로운 부츠는 가격미정, CHANEL(CHANEL). 와인색 니하이...   \n",
       "...                                                 ...   \n",
       "1642  밀란 패션위크 참석차 출국한 리사의 공항 룩., BLACKPINK 리사가 오늘 2월...   \n",
       "1643  , , 리사의 패션 브랜드가 탄생할 것으로 보인다.  YG엔터테인먼트가 2019년 ...   \n",
       "1644  서로의 팬임을 인증한 두 스타, 8월 28일 BLACKPINK와 세레나 고메즈가 함...   \n",
       "1645  내셔널 아이스크림 데이’를 기념한 BLACKPINK의 귀여운 포스팅., 제니와 리사...   \n",
       "1646  한국 신진 디자이너부터 하이 패션 브랜드까지 섭렵한 블핑, 6월 26일 드디어 BL...   \n",
       "\n",
       "                                                   ADFN  \\\n",
       "0               ['메탈', '레진', '귀고리', 'CHANEL', 'CHANEL']   \n",
       "1     ['인스타그램', '에디터', '디자이너', '인', '플루', '계정', '막',...   \n",
       "2          ['체인', '진주', '결합', '우아함을', 'CHANEL', '액세서리']   \n",
       "3     ['주변', '친구', '좋아하고', '사고', '익숙한', '브랜드', '뭐', ...   \n",
       "4     ['컬러', '블록', '조화로운', '부츠', 'CHANEL', 'CHANEL',...   \n",
       "...                                                 ...   \n",
       "1642  ['밀란', '패션위크', '참석', '차', '출국', '리사', '공항', 'B...   \n",
       "1643  ['리사', '패션', '브랜드', '탄생', '할', '보인다', 'YG', '엔...   \n",
       "1644  ['서로', '팬임', '인증', '두', '스타', 'BLACKPINK', '세레...   \n",
       "1645  ['내셔널', '아이스크림', '데이', '기념', 'BLACKPINK', '귀여운...   \n",
       "1646  ['한국', '신진', '디자이너', '하이', '패션', '브랜드', '섭렵', ...   \n",
       "\n",
       "                                                 ADFN_2  \n",
       "0                         [메탈, 레진, 귀고리, CHANEL, CHANEL]  \n",
       "1     [인스타그램, 에디터, 디자이너, 인, 플루, 계정, 막, 시작, 가을, 겨울, 상...  \n",
       "2                      [체인, 진주, 결합, 우아함을, CHANEL, 액세서리]  \n",
       "3     [주변, 친구, 좋아하고, 사고, 익숙한, 브랜드, 뭐, 있지, CHANEL, 에르...  \n",
       "4     [컬러, 블록, 조화로운, 부츠, CHANEL, CHANEL, 와인, 색, 하이, ...  \n",
       "...                                                 ...  \n",
       "1642  [밀란, 패션위크, 참석, 차, 출국, 리사, 공항, BLACKPINK, 리사, 오...  \n",
       "1643  [리사, 패션, 브랜드, 탄생, 할, 보인다, YG, 엔터테인먼트, BLACKPIN...  \n",
       "1644  [서로, 팬임, 인증, 두, 스타, BLACKPINK, 세레나, 고메즈, 함께한, ...  \n",
       "1645  [내셔널, 아이스크림, 데이, 기념, BLACKPINK, 귀여운, 포스팅, 제니, ...  \n",
       "1646  [한국, 신진, 디자이너, 하이, 패션, 브랜드, 섭렵, 블핑, BLACKPINK,...  \n",
       "\n",
       "[1647 rows x 6 columns]"
      ]
     },
     "execution_count": 21,
     "metadata": {},
     "output_type": "execute_result"
    }
   ],
   "source": [
    "CHL"
   ]
  },
  {
   "cell_type": "markdown",
   "metadata": {},
   "source": [
    "### item 남기기"
   ]
  },
  {
   "cell_type": "code",
   "execution_count": 129,
   "metadata": {},
   "outputs": [],
   "source": [
    "item = ['백', '드레스', '재킷', '주얼리', '옷', '슈즈', '스커트', '링', '팬츠', '가방', '슈트', '향수', '의상', '데님', '액세서리', '톱',\n",
    "'셔츠', '모자', '수트', '스니커즈', '니트', '시계', '워치', '핸드백', '벨트', '선글라스', '목걸이', '티셔츠', '쇼츠', '샌들',\n",
    " '귀고리', '워치', '코트', '부츠', '케이프']"
   ]
  },
  {
   "cell_type": "code",
   "execution_count": 22,
   "metadata": {},
   "outputs": [],
   "source": [
    "# item_word = []\n",
    "# for i in range(len(mag_je)):\n",
    "#     w=[]\n",
    "#     for word in mag_je.loc[i, 'ADFN']:\n",
    "#         if word in item:\n",
    "#             w.append(word)\n",
    "#     item_word.append(w)"
   ]
  },
  {
   "cell_type": "markdown",
   "metadata": {},
   "source": [
    "### top100이면서 item이 아닌 것"
   ]
  },
  {
   "cell_type": "code",
   "execution_count": 23,
   "metadata": {},
   "outputs": [],
   "source": [
    "# top100_not_item_word = []\n",
    "# for i in range(len(tot_je)):\n",
    "#     w=[]\n",
    "#     for word in tot_je.loc[i, 'ADFN']:\n",
    "#         if word in top100:\n",
    "#             if word not in item:\n",
    "#                 w.append(word)\n",
    "#     top100_not_item_word.append(w)"
   ]
  },
  {
   "cell_type": "code",
   "execution_count": 24,
   "metadata": {},
   "outputs": [],
   "source": [
    "# len(top100_not_item_word)"
   ]
  },
  {
   "cell_type": "code",
   "execution_count": 25,
   "metadata": {},
   "outputs": [],
   "source": [
    "# top100_not_item_word[1]"
   ]
  },
  {
   "cell_type": "code",
   "execution_count": 26,
   "metadata": {},
   "outputs": [],
   "source": [
    "# top50_word"
   ]
  },
  {
   "cell_type": "code",
   "execution_count": 28,
   "metadata": {
    "scrolled": true
   },
   "outputs": [
    {
     "data": {
      "text/plain": [
       "1647"
      ]
     },
     "execution_count": 28,
     "metadata": {},
     "output_type": "execute_result"
    }
   ],
   "source": [
    "len(top50_word)"
   ]
  },
  {
   "cell_type": "markdown",
   "metadata": {},
   "source": [
    "### 텍스트 한줄씩 읽어와 dataset에 기록"
   ]
  },
  {
   "cell_type": "markdown",
   "metadata": {},
   "source": [
    "### 어프라이어리(Apriori) 알고리즘을 적용하여 연관규칙 분석 수행"
   ]
  },
  {
   "cell_type": "code",
   "execution_count": 29,
   "metadata": {},
   "outputs": [],
   "source": [
    "# 어프라이어리(Apriori)\n",
    "from apyori import apriori"
   ]
  },
  {
   "cell_type": "code",
   "execution_count": 30,
   "metadata": {},
   "outputs": [
    {
     "data": {
      "text/plain": [
       "['CHANEL', 'CHANEL']"
      ]
     },
     "execution_count": 30,
     "metadata": {},
     "output_type": "execute_result"
    }
   ],
   "source": [
    "top30_word[0]"
   ]
  },
  {
   "cell_type": "code",
   "execution_count": 101,
   "metadata": {
    "scrolled": true
   },
   "outputs": [
    {
     "data": {
      "text/html": [
       "<div>\n",
       "<style scoped>\n",
       "    .dataframe tbody tr th:only-of-type {\n",
       "        vertical-align: middle;\n",
       "    }\n",
       "\n",
       "    .dataframe tbody tr th {\n",
       "        vertical-align: top;\n",
       "    }\n",
       "\n",
       "    .dataframe thead th {\n",
       "        text-align: right;\n",
       "    }\n",
       "</style>\n",
       "<table border=\"1\" class=\"dataframe\">\n",
       "  <thead>\n",
       "    <tr style=\"text-align: right;\">\n",
       "      <th></th>\n",
       "      <th>items</th>\n",
       "      <th>support</th>\n",
       "      <th>ordered_statistics</th>\n",
       "      <th>length</th>\n",
       "    </tr>\n",
       "  </thead>\n",
       "  <tbody>\n",
       "    <tr>\n",
       "      <th>413</th>\n",
       "      <td>(CHANEL, 브랜드)</td>\n",
       "      <td>0.257438</td>\n",
       "      <td>[((), (CHANEL, 브랜드), 0.25743776563448695, 1.0)...</td>\n",
       "      <td>2</td>\n",
       "    </tr>\n",
       "    <tr>\n",
       "      <th>503</th>\n",
       "      <td>(장식, CHANEL)</td>\n",
       "      <td>0.211900</td>\n",
       "      <td>[((), (장식, CHANEL), 0.2119004250151791, 1.0), ...</td>\n",
       "      <td>2</td>\n",
       "    </tr>\n",
       "    <tr>\n",
       "      <th>438</th>\n",
       "      <td>(CHANEL, 쇼)</td>\n",
       "      <td>0.185792</td>\n",
       "      <td>[((), (CHANEL, 쇼), 0.18579234972677597, 1.0), ...</td>\n",
       "      <td>2</td>\n",
       "    </tr>\n",
       "    <tr>\n",
       "      <th>388</th>\n",
       "      <td>(모델, CHANEL)</td>\n",
       "      <td>0.185185</td>\n",
       "      <td>[((), (모델, CHANEL), 0.18518518518518517, 1.0),...</td>\n",
       "      <td>2</td>\n",
       "    </tr>\n",
       "    <tr>\n",
       "      <th>546</th>\n",
       "      <td>(CHANEL, 파리)</td>\n",
       "      <td>0.182149</td>\n",
       "      <td>[((), (CHANEL, 파리), 0.18214936247723132, 1.0),...</td>\n",
       "      <td>2</td>\n",
       "    </tr>\n",
       "    <tr>\n",
       "      <th>365</th>\n",
       "      <td>(드레스, CHANEL)</td>\n",
       "      <td>0.179114</td>\n",
       "      <td>[((), (드레스, CHANEL), 0.17911353976927746, 1.0)...</td>\n",
       "      <td>2</td>\n",
       "    </tr>\n",
       "    <tr>\n",
       "      <th>446</th>\n",
       "      <td>(CHANEL, 스타일)</td>\n",
       "      <td>0.171828</td>\n",
       "      <td>[((), (CHANEL, 스타일), 0.17182756527018822, 1.0)...</td>\n",
       "      <td>2</td>\n",
       "    </tr>\n",
       "    <tr>\n",
       "      <th>329</th>\n",
       "      <td>(KARL, CHANEL)</td>\n",
       "      <td>0.165149</td>\n",
       "      <td>[((), (KARL, CHANEL), 0.16514875531268974, 1.0...</td>\n",
       "      <td>2</td>\n",
       "    </tr>\n",
       "    <tr>\n",
       "      <th>368</th>\n",
       "      <td>(CHANEL, 디자인)</td>\n",
       "      <td>0.161506</td>\n",
       "      <td>[((), (CHANEL, 디자인), 0.16150576806314512, 1.0)...</td>\n",
       "      <td>2</td>\n",
       "    </tr>\n",
       "    <tr>\n",
       "      <th>403</th>\n",
       "      <td>(CHANEL, 백)</td>\n",
       "      <td>0.159077</td>\n",
       "      <td>[((), (CHANEL, 백), 0.15907710989678203, 1.0), ...</td>\n",
       "      <td>2</td>\n",
       "    </tr>\n",
       "  </tbody>\n",
       "</table>\n",
       "</div>"
      ],
      "text/plain": [
       "              items   support  \\\n",
       "413   (CHANEL, 브랜드)  0.257438   \n",
       "503    (장식, CHANEL)  0.211900   \n",
       "438     (CHANEL, 쇼)  0.185792   \n",
       "388    (모델, CHANEL)  0.185185   \n",
       "546    (CHANEL, 파리)  0.182149   \n",
       "365   (드레스, CHANEL)  0.179114   \n",
       "446   (CHANEL, 스타일)  0.171828   \n",
       "329  (KARL, CHANEL)  0.165149   \n",
       "368   (CHANEL, 디자인)  0.161506   \n",
       "403     (CHANEL, 백)  0.159077   \n",
       "\n",
       "                                    ordered_statistics  length  \n",
       "413  [((), (CHANEL, 브랜드), 0.25743776563448695, 1.0)...       2  \n",
       "503  [((), (장식, CHANEL), 0.2119004250151791, 1.0), ...       2  \n",
       "438  [((), (CHANEL, 쇼), 0.18579234972677597, 1.0), ...       2  \n",
       "388  [((), (모델, CHANEL), 0.18518518518518517, 1.0),...       2  \n",
       "546  [((), (CHANEL, 파리), 0.18214936247723132, 1.0),...       2  \n",
       "365  [((), (드레스, CHANEL), 0.17911353976927746, 1.0)...       2  \n",
       "446  [((), (CHANEL, 스타일), 0.17182756527018822, 1.0)...       2  \n",
       "329  [((), (KARL, CHANEL), 0.16514875531268974, 1.0...       2  \n",
       "368  [((), (CHANEL, 디자인), 0.16150576806314512, 1.0)...       2  \n",
       "403  [((), (CHANEL, 백), 0.15907710989678203, 1.0), ...       2  "
      ]
     },
     "execution_count": 101,
     "metadata": {},
     "output_type": "execute_result"
    }
   ],
   "source": [
    "# 지지도(support) : P(A∩B)\n",
    "result = list(apriori(top500_word, min_support = 0.04))\n",
    "df = pd.DataFrame(result)\n",
    "df['length'] = df['items'].apply(lambda x:len(x))\n",
    "df = df[(df['length'] == 2) \n",
    "        & (df['support'] >= 0.01)].sort_values(by='support', ascending = False)\n",
    "df.head(10)"
   ]
  },
  {
   "cell_type": "code",
   "execution_count": 102,
   "metadata": {},
   "outputs": [
    {
     "name": "stdout",
     "output_type": "stream",
     "text": [
      "frozenset({'패션', '리사'})\n"
     ]
    }
   ],
   "source": [
    "for item in df['items']:\n",
    "    if '리사' in item:\n",
    "        print(item)"
   ]
  },
  {
   "cell_type": "code",
   "execution_count": null,
   "metadata": {},
   "outputs": [],
   "source": []
  },
  {
   "cell_type": "markdown",
   "metadata": {},
   "source": [
    "### networkx 그래프 정의"
   ]
  },
  {
   "cell_type": "code",
   "execution_count": 103,
   "metadata": {},
   "outputs": [],
   "source": [
    "G = nx.Graph()\n",
    "ar = (df['items']); G.add_edges_from(ar)"
   ]
  },
  {
   "cell_type": "code",
   "execution_count": 104,
   "metadata": {},
   "outputs": [],
   "source": [
    "# 페이지 랭크\n",
    "pr = nx.pagerank(G)\n",
    "nsize = np.array([v for v in pr.values()])\n",
    "nsize = 2000 * (nsize - min(nsize)) / (max(nsize) - min(nsize))"
   ]
  },
  {
   "cell_type": "code",
   "execution_count": 105,
   "metadata": {},
   "outputs": [],
   "source": [
    "pos = nx.spring_layout(G)"
   ]
  },
  {
   "cell_type": "code",
   "execution_count": 106,
   "metadata": {},
   "outputs": [
    {
     "data": {
      "image/png": "[encoded data removed]",
      "text/plain": [
       "<Figure size 1152x864 with 1 Axes>"
      ]
     },
     "metadata": {},
     "output_type": "display_data"
    }
   ],
   "source": [
    "plt.figure(figsize = (16, 12)) ; plt.axis('off')\n",
    "nx.draw_networkx(G, font_family = 'Malgun Gothic', font_size = 16,\n",
    "                pos = pos, node_color = list(pr.values()), node_size = nsize,\n",
    "                alpha=0.7, edge_color='.5', cmap = plt.cm.YlGn)\n",
    "\n",
    "plt.savefig('./nt_CHL_top500_mins04.png', bbox_inches = 'tight')\n",
    "plt.show()\n"
   ]
  },
  {
   "cell_type": "code",
   "execution_count": 31,
   "metadata": {},
   "outputs": [],
   "source": []
  },
  {
   "cell_type": "code",
   "execution_count": null,
   "metadata": {},
   "outputs": [],
   "source": []
  },
  {
   "cell_type": "code",
   "execution_count": null,
   "metadata": {},
   "outputs": [],
   "source": []
  },
  {
   "cell_type": "code",
   "execution_count": null,
   "metadata": {},
   "outputs": [],
   "source": []
  },
  {
   "cell_type": "code",
   "execution_count": null,
   "metadata": {},
   "outputs": [],
   "source": []
  },
  {
   "cell_type": "code",
   "execution_count": null,
   "metadata": {},
   "outputs": [],
   "source": []
  },
  {
   "cell_type": "code",
   "execution_count": null,
   "metadata": {},
   "outputs": [],
   "source": []
  },
  {
   "cell_type": "code",
   "execution_count": null,
   "metadata": {},
   "outputs": [],
   "source": []
  },
  {
   "cell_type": "code",
   "execution_count": null,
   "metadata": {},
   "outputs": [],
   "source": []
  },
  {
   "cell_type": "code",
   "execution_count": null,
   "metadata": {},
   "outputs": [],
   "source": []
  },
  {
   "cell_type": "code",
   "execution_count": null,
   "metadata": {},
   "outputs": [],
   "source": []
  },
  {
   "cell_type": "code",
   "execution_count": null,
   "metadata": {},
   "outputs": [],
   "source": []
  },
  {
   "cell_type": "code",
   "execution_count": null,
   "metadata": {},
   "outputs": [],
   "source": []
  },
  {
   "cell_type": "code",
   "execution_count": null,
   "metadata": {},
   "outputs": [],
   "source": []
  },
  {
   "cell_type": "code",
   "execution_count": null,
   "metadata": {},
   "outputs": [],
   "source": []
  },
  {
   "cell_type": "code",
   "execution_count": null,
   "metadata": {},
   "outputs": [],
   "source": []
  },
  {
   "cell_type": "code",
   "execution_count": null,
   "metadata": {},
   "outputs": [],
   "source": []
  },
  {
   "cell_type": "code",
   "execution_count": null,
   "metadata": {},
   "outputs": [],
   "source": []
  },
  {
   "cell_type": "code",
   "execution_count": null,
   "metadata": {},
   "outputs": [],
   "source": []
  },
  {
   "cell_type": "code",
   "execution_count": null,
   "metadata": {},
   "outputs": [],
   "source": []
  },
  {
   "cell_type": "code",
   "execution_count": null,
   "metadata": {},
   "outputs": [],
   "source": []
  },
  {
   "cell_type": "code",
   "execution_count": null,
   "metadata": {},
   "outputs": [],
   "source": []
  },
  {
   "cell_type": "code",
   "execution_count": null,
   "metadata": {},
   "outputs": [],
   "source": []
  },
  {
   "cell_type": "code",
   "execution_count": null,
   "metadata": {},
   "outputs": [],
   "source": []
  },
  {
   "cell_type": "code",
   "execution_count": null,
   "metadata": {},
   "outputs": [],
   "source": []
  }
 ],
 "metadata": {
  "kernelspec": {
   "display_name": "Python 3",
   "language": "python",
   "name": "python3"
  },
  "language_info": {
   "codemirror_mode": {
    "name": "ipython",
    "version": 3
   },
   "file_extension": ".py",
   "mimetype": "text/x-python",
   "name": "python",
   "nbconvert_exporter": "python",
   "pygments_lexer": "ipython3",
   "version": "3.7.6"
  }
 },
 "nbformat": 4,
 "nbformat_minor": 4
}
