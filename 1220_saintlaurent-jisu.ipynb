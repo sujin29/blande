{
 "cells": [
  {
   "cell_type": "code",
   "execution_count": 1,
   "metadata": {},
   "outputs": [],
   "source": [
    "import pandas as pd\n",
    "import numpy as np\n",
    "import re\n",
    "import networkx as nx\n",
    "import matplotlib.pyplot as plt"
   ]
  },
  {
   "cell_type": "code",
   "execution_count": 2,
   "metadata": {},
   "outputs": [],
   "source": [
    "from collections import Counter"
   ]
  },
  {
   "cell_type": "markdown",
   "metadata": {},
   "source": [
    "## 생로랑"
   ]
  },
  {
   "cell_type": "code",
   "execution_count": 6,
   "metadata": {},
   "outputs": [],
   "source": [
    "mag_s = pd.read_csv('./magazine/final/magazine_s_stickword.csv', sep ='|', encoding = 'utf-8')"
   ]
  },
  {
   "cell_type": "code",
   "execution_count": 7,
   "metadata": {},
   "outputs": [
    {
     "data": {
      "text/html": [
       "<div>\n",
       "<style scoped>\n",
       "    .dataframe tbody tr th:only-of-type {\n",
       "        vertical-align: middle;\n",
       "    }\n",
       "\n",
       "    .dataframe tbody tr th {\n",
       "        vertical-align: top;\n",
       "    }\n",
       "\n",
       "    .dataframe thead th {\n",
       "        text-align: right;\n",
       "    }\n",
       "</style>\n",
       "<table border=\"1\" class=\"dataframe\">\n",
       "  <thead>\n",
       "    <tr style=\"text-align: right;\">\n",
       "      <th></th>\n",
       "      <th>magazine</th>\n",
       "      <th>brand</th>\n",
       "      <th>title</th>\n",
       "      <th>link</th>\n",
       "      <th>date</th>\n",
       "      <th>word_laurent</th>\n",
       "      <th>ADFN</th>\n",
       "      <th>ADFN_2</th>\n",
       "    </tr>\n",
       "  </thead>\n",
       "  <tbody>\n",
       "    <tr>\n",
       "      <th>0</th>\n",
       "      <td>A</td>\n",
       "      <td>YSL</td>\n",
       "      <td>깊게 뿌리내리기 위하여, 수영</td>\n",
       "      <td>http://www.allurekorea.com/2020/11/20/%ea%b9%8...</td>\n",
       "      <td>2020-11-20</td>\n",
       "      <td>['빨간 더블 브레스티드 코트, 타이츠, 라텍스 소재 보디슈트와 사이하이 부츠는 모...</td>\n",
       "      <td>['빨갛', '더블', '코트', '타이츠', '라텍스', '소재', '보디', '...</td>\n",
       "      <td>['빨갛', '더블', '코트', '타이츠', '라텍스', '소재', '보디', '...</td>\n",
       "    </tr>\n",
       "    <tr>\n",
       "      <th>1</th>\n",
       "      <td>A</td>\n",
       "      <td>YSL</td>\n",
       "      <td>코트 체크</td>\n",
       "      <td>http://www.allurekorea.com/2020/11/10/%ec%bd%9...</td>\n",
       "      <td>2020-10-26</td>\n",
       "      <td>['클래식한 캐멀 컬러 코트는 1백78만원, 우영미(Wooyoungmi). 버건디 ...</td>\n",
       "      <td>['클래식', '컬러', '코트', '우영', 'WOOYOUNGMI', '버건디',...</td>\n",
       "      <td>['클래식', '컬러', '코트', '우영', 'WOOYOUNGMI', '버건디',...</td>\n",
       "    </tr>\n",
       "    <tr>\n",
       "      <th>2</th>\n",
       "      <td>A</td>\n",
       "      <td>YSL</td>\n",
       "      <td>데님이여 영원하라</td>\n",
       "      <td>http://www.allurekorea.com/2020/11/06/%eb%8d%b...</td>\n",
       "      <td>2020-10-26</td>\n",
       "      <td>['  짙은 그레이 컬러의 데님 팬츠는 95만5천원, 생로랑 바이 안토니 바카렐로(...</td>\n",
       "      <td>['짙', '그레이', '컬러', '데님', '팬츠', 'LAURENT', 'ANT...</td>\n",
       "      <td>['짙', '그레이', '컬러', '데님', '팬츠', 'LAURENT', 'ANT...</td>\n",
       "    </tr>\n",
       "    <tr>\n",
       "      <th>3</th>\n",
       "      <td>A</td>\n",
       "      <td>YSL</td>\n",
       "      <td>안경 하세요?!</td>\n",
       "      <td>http://www.allurekorea.com/2020/10/29/%ec%95%8...</td>\n",
       "      <td>2020-10-23</td>\n",
       "      <td>['  YSL 모노그램을 새긴 블랙 에나멜 안경다리의 둥근 금테 안경은 40만원대,...</td>\n",
       "      <td>['YSL', '모노그램', '새기', '블랙', '에나멜', '안경', '다리',...</td>\n",
       "      <td>['YSL', '모노그램', '새기', '블랙', '에나멜', '안경', '다리',...</td>\n",
       "    </tr>\n",
       "    <tr>\n",
       "      <th>4</th>\n",
       "      <td>A</td>\n",
       "      <td>YSL</td>\n",
       "      <td>가을의 정석, 트렌치 코트 입는 법 8가지</td>\n",
       "      <td>http://www.allurekorea.com/2020/10/11/%ea%b0%8...</td>\n",
       "      <td>2020-09-27</td>\n",
       "      <td>['컬러블록 트렌치코트는 가격미정, 르쥬(Leje). 컵케이크 프린트 티셔츠는 27...</td>\n",
       "      <td>['컬러', '블록', '트렌치', '코트', 'LEJE', '컵', '케이크', ...</td>\n",
       "      <td>['컬러', '블록', '트렌치', '코트', 'LEJE', '컵', '케이크', ...</td>\n",
       "    </tr>\n",
       "    <tr>\n",
       "      <th>...</th>\n",
       "      <td>...</td>\n",
       "      <td>...</td>\n",
       "      <td>...</td>\n",
       "      <td>...</td>\n",
       "      <td>...</td>\n",
       "      <td>...</td>\n",
       "      <td>...</td>\n",
       "      <td>...</td>\n",
       "    </tr>\n",
       "    <tr>\n",
       "      <th>1269</th>\n",
       "      <td>W</td>\n",
       "      <td>YSL</td>\n",
       "      <td>어깨로말해요</td>\n",
       "      <td>http://www.wkorea.com/2016/09/05/%ec%96%b4%ea%...</td>\n",
       "      <td>2016-09-05</td>\n",
       "      <td>[\"'어깨 좀 쓴다 하는 여인들이 모두 모였다. 이 현상은 특히 젊은 디자이너들의 ...</td>\n",
       "      <td>['어깨', '여인', '모이', '현상', '젊', '디자이너', '의상', '드...</td>\n",
       "      <td>['어깨', '여인', '모이', '현상', '젊', '디자이너', '의상', '드...</td>\n",
       "    </tr>\n",
       "    <tr>\n",
       "      <th>1270</th>\n",
       "      <td>W</td>\n",
       "      <td>YSL</td>\n",
       "      <td>W해시태그</td>\n",
       "      <td>http://www.wkorea.com/2016/09/02/w%ed%95%b4%ec...</td>\n",
       "      <td>2016-09-02</td>\n",
       "      <td>['#W뷰티콕  (뷰티 디렉터 송시은)\\\\n조회 2,023회\\\\n너무나 뜨거운 여름...</td>\n",
       "      <td>['W', '뷰티', '콕', '뷰티', '디렉터', '송', '시은', '조회',...</td>\n",
       "      <td>['W', '뷰티', '콕', '뷰티', '디렉터', '송', '시은', '조회',...</td>\n",
       "    </tr>\n",
       "    <tr>\n",
       "      <th>1271</th>\n",
       "      <td>W</td>\n",
       "      <td>YSL</td>\n",
       "      <td>따로 또 같이</td>\n",
       "      <td>http://www.wkorea.com/2016/09/02/%eb%94%b0%eb%...</td>\n",
       "      <td>2016-09-02</td>\n",
       "      <td>['중성적인 스타일링을 위해선 실루엣을 활용하는 방법에 주목해야 한다. 생로랑 남성...</td>\n",
       "      <td>['중', '성적', '스타일링', '서', '실루엣', '활용', '방법', '주...</td>\n",
       "      <td>['중', '성적', '스타일링', '서', '실루엣', '활용', '방법', '주...</td>\n",
       "    </tr>\n",
       "    <tr>\n",
       "      <th>1272</th>\n",
       "      <td>W</td>\n",
       "      <td>YSL</td>\n",
       "      <td>두려움 없는 반란</td>\n",
       "      <td>http://www.wkorea.com/2016/09/01/%eb%91%90%eb%...</td>\n",
       "      <td>2016-09-01</td>\n",
       "      <td>['이러한 맥락은 오늘날 브랜드의 모델 캐스팅에도 그대로 적용된다. 일례로 유명한 ...</td>\n",
       "      <td>['맥락', '오늘날', '브랜드', '모델', '캐스팅', '적용', '일례', ...</td>\n",
       "      <td>['맥락', '오늘날', '브랜드', '모델', '캐스팅', '적용', '일례', ...</td>\n",
       "    </tr>\n",
       "    <tr>\n",
       "      <th>1273</th>\n",
       "      <td>W</td>\n",
       "      <td>YSL</td>\n",
       "      <td>너도 나도 베트멍</td>\n",
       "      <td>http://www.wkorea.com/2016/09/01/%eb%84%88%eb%...</td>\n",
       "      <td>2016-09-01</td>\n",
       "      <td>['셀린 디옹\\\\n나이 만48세\\\\n직업 세계적인 디바\\\\n평소 스타일 얼마 전까진...</td>\n",
       "      <td>['세', '나이', '직업', '세계적', '평소', '스타일', '클래식', '...</td>\n",
       "      <td>['세', '나이', '직업', '세계적', '평소', '스타일', '클래식', '...</td>\n",
       "    </tr>\n",
       "  </tbody>\n",
       "</table>\n",
       "<p>1274 rows × 8 columns</p>\n",
       "</div>"
      ],
      "text/plain": [
       "     magazine brand                    title  \\\n",
       "0           A   YSL         깊게 뿌리내리기 위하여, 수영   \n",
       "1           A   YSL                    코트 체크   \n",
       "2           A   YSL                데님이여 영원하라   \n",
       "3           A   YSL                 안경 하세요?!   \n",
       "4           A   YSL  가을의 정석, 트렌치 코트 입는 법 8가지   \n",
       "...       ...   ...                      ...   \n",
       "1269        W   YSL                   어깨로말해요   \n",
       "1270        W   YSL                    W해시태그   \n",
       "1271        W   YSL                  따로 또 같이   \n",
       "1272        W   YSL                두려움 없는 반란   \n",
       "1273        W   YSL                너도 나도 베트멍   \n",
       "\n",
       "                                                   link        date  \\\n",
       "0     http://www.allurekorea.com/2020/11/20/%ea%b9%8...  2020-11-20   \n",
       "1     http://www.allurekorea.com/2020/11/10/%ec%bd%9...  2020-10-26   \n",
       "2     http://www.allurekorea.com/2020/11/06/%eb%8d%b...  2020-10-26   \n",
       "3     http://www.allurekorea.com/2020/10/29/%ec%95%8...  2020-10-23   \n",
       "4     http://www.allurekorea.com/2020/10/11/%ea%b0%8...  2020-09-27   \n",
       "...                                                 ...         ...   \n",
       "1269  http://www.wkorea.com/2016/09/05/%ec%96%b4%ea%...  2016-09-05   \n",
       "1270  http://www.wkorea.com/2016/09/02/w%ed%95%b4%ec...  2016-09-02   \n",
       "1271  http://www.wkorea.com/2016/09/02/%eb%94%b0%eb%...  2016-09-02   \n",
       "1272  http://www.wkorea.com/2016/09/01/%eb%91%90%eb%...  2016-09-01   \n",
       "1273  http://www.wkorea.com/2016/09/01/%eb%84%88%eb%...  2016-09-01   \n",
       "\n",
       "                                           word_laurent  \\\n",
       "0     ['빨간 더블 브레스티드 코트, 타이츠, 라텍스 소재 보디슈트와 사이하이 부츠는 모...   \n",
       "1     ['클래식한 캐멀 컬러 코트는 1백78만원, 우영미(Wooyoungmi). 버건디 ...   \n",
       "2     ['  짙은 그레이 컬러의 데님 팬츠는 95만5천원, 생로랑 바이 안토니 바카렐로(...   \n",
       "3     ['  YSL 모노그램을 새긴 블랙 에나멜 안경다리의 둥근 금테 안경은 40만원대,...   \n",
       "4     ['컬러블록 트렌치코트는 가격미정, 르쥬(Leje). 컵케이크 프린트 티셔츠는 27...   \n",
       "...                                                 ...   \n",
       "1269  [\"'어깨 좀 쓴다 하는 여인들이 모두 모였다. 이 현상은 특히 젊은 디자이너들의 ...   \n",
       "1270  ['#W뷰티콕  (뷰티 디렉터 송시은)\\\\n조회 2,023회\\\\n너무나 뜨거운 여름...   \n",
       "1271  ['중성적인 스타일링을 위해선 실루엣을 활용하는 방법에 주목해야 한다. 생로랑 남성...   \n",
       "1272  ['이러한 맥락은 오늘날 브랜드의 모델 캐스팅에도 그대로 적용된다. 일례로 유명한 ...   \n",
       "1273  ['셀린 디옹\\\\n나이 만48세\\\\n직업 세계적인 디바\\\\n평소 스타일 얼마 전까진...   \n",
       "\n",
       "                                                   ADFN  \\\n",
       "0     ['빨갛', '더블', '코트', '타이츠', '라텍스', '소재', '보디', '...   \n",
       "1     ['클래식', '컬러', '코트', '우영', 'WOOYOUNGMI', '버건디',...   \n",
       "2     ['짙', '그레이', '컬러', '데님', '팬츠', 'LAURENT', 'ANT...   \n",
       "3     ['YSL', '모노그램', '새기', '블랙', '에나멜', '안경', '다리',...   \n",
       "4     ['컬러', '블록', '트렌치', '코트', 'LEJE', '컵', '케이크', ...   \n",
       "...                                                 ...   \n",
       "1269  ['어깨', '여인', '모이', '현상', '젊', '디자이너', '의상', '드...   \n",
       "1270  ['W', '뷰티', '콕', '뷰티', '디렉터', '송', '시은', '조회',...   \n",
       "1271  ['중', '성적', '스타일링', '서', '실루엣', '활용', '방법', '주...   \n",
       "1272  ['맥락', '오늘날', '브랜드', '모델', '캐스팅', '적용', '일례', ...   \n",
       "1273  ['세', '나이', '직업', '세계적', '평소', '스타일', '클래식', '...   \n",
       "\n",
       "                                                 ADFN_2  \n",
       "0     ['빨갛', '더블', '코트', '타이츠', '라텍스', '소재', '보디', '...  \n",
       "1     ['클래식', '컬러', '코트', '우영', 'WOOYOUNGMI', '버건디',...  \n",
       "2     ['짙', '그레이', '컬러', '데님', '팬츠', 'LAURENT', 'ANT...  \n",
       "3     ['YSL', '모노그램', '새기', '블랙', '에나멜', '안경', '다리',...  \n",
       "4     ['컬러', '블록', '트렌치', '코트', 'LEJE', '컵', '케이크', ...  \n",
       "...                                                 ...  \n",
       "1269  ['어깨', '여인', '모이', '현상', '젊', '디자이너', '의상', '드...  \n",
       "1270  ['W', '뷰티', '콕', '뷰티', '디렉터', '송', '시은', '조회',...  \n",
       "1271  ['중', '성적', '스타일링', '서', '실루엣', '활용', '방법', '주...  \n",
       "1272  ['맥락', '오늘날', '브랜드', '모델', '캐스팅', '적용', '일례', ...  \n",
       "1273  ['세', '나이', '직업', '세계적', '평소', '스타일', '클래식', '...  \n",
       "\n",
       "[1274 rows x 8 columns]"
      ]
     },
     "execution_count": 7,
     "metadata": {},
     "output_type": "execute_result"
    }
   ],
   "source": [
    "mag_s"
   ]
  },
  {
   "cell_type": "code",
   "execution_count": 8,
   "metadata": {},
   "outputs": [],
   "source": [
    "mag_s['word'] = mag_s['word_laurent']"
   ]
  },
  {
   "cell_type": "code",
   "execution_count": 9,
   "metadata": {},
   "outputs": [],
   "source": [
    "mag_S = mag_s[['magazine', 'brand', 'title', 'word', 'ADFN', 'ADFN_2']]"
   ]
  },
  {
   "cell_type": "code",
   "execution_count": 10,
   "metadata": {},
   "outputs": [
    {
     "data": {
      "text/plain": [
       "1274"
      ]
     },
     "execution_count": 10,
     "metadata": {},
     "output_type": "execute_result"
    }
   ],
   "source": [
    "len(mag_S)"
   ]
  },
  {
   "cell_type": "markdown",
   "metadata": {},
   "source": [
    "### 6"
   ]
  },
  {
   "cell_type": "code",
   "execution_count": 77,
   "metadata": {},
   "outputs": [],
   "source": [
    "idx6 = []\n",
    "for i in range(len(mag_S)):\n",
    "    if i % 6 == 0 :\n",
    "        idx6.append(i)"
   ]
  },
  {
   "cell_type": "code",
   "execution_count": 78,
   "metadata": {},
   "outputs": [],
   "source": [
    "mag_S6 = mag_S.loc[idx6]"
   ]
  },
  {
   "cell_type": "code",
   "execution_count": 79,
   "metadata": {},
   "outputs": [
    {
     "data": {
      "text/plain": [
       "213"
      ]
     },
     "execution_count": 79,
     "metadata": {},
     "output_type": "execute_result"
    }
   ],
   "source": [
    "len(mag_S6)"
   ]
  },
  {
   "cell_type": "code",
   "execution_count": 80,
   "metadata": {},
   "outputs": [],
   "source": [
    "mag_S6.reset_index(drop = True, inplace = True)"
   ]
  },
  {
   "cell_type": "markdown",
   "metadata": {},
   "source": [
    "### 7"
   ]
  },
  {
   "cell_type": "code",
   "execution_count": 54,
   "metadata": {},
   "outputs": [],
   "source": [
    "idx7 = []\n",
    "for i in range(len(mag_S)):\n",
    "    if i % 7 == 0 :\n",
    "        idx7.append(i)"
   ]
  },
  {
   "cell_type": "code",
   "execution_count": 55,
   "metadata": {},
   "outputs": [],
   "source": [
    "mag_S7 = mag_S.loc[idx7]"
   ]
  },
  {
   "cell_type": "code",
   "execution_count": 56,
   "metadata": {},
   "outputs": [
    {
     "data": {
      "text/plain": [
       "182"
      ]
     },
     "execution_count": 56,
     "metadata": {},
     "output_type": "execute_result"
    }
   ],
   "source": [
    "len(mag_S7)"
   ]
  },
  {
   "cell_type": "code",
   "execution_count": 57,
   "metadata": {},
   "outputs": [],
   "source": [
    "mag_S7.reset_index(drop = True, inplace = True)"
   ]
  },
  {
   "cell_type": "code",
   "execution_count": null,
   "metadata": {},
   "outputs": [],
   "source": []
  },
  {
   "cell_type": "markdown",
   "metadata": {},
   "source": [
    "## 지수"
   ]
  },
  {
   "cell_type": "markdown",
   "metadata": {},
   "source": [
    "### 지수 (유튜브 + 매거진)"
   ]
  },
  {
   "cell_type": "code",
   "execution_count": 11,
   "metadata": {},
   "outputs": [],
   "source": [
    "tot_ji = pd.read_csv('./magazine/final/video_jisu_adfn_2.csv', encoding = 'utf-8', sep = '|')"
   ]
  },
  {
   "cell_type": "code",
   "execution_count": 12,
   "metadata": {},
   "outputs": [],
   "source": [
    "tot_ji['word'] = tot_ji['word_jisu']"
   ]
  },
  {
   "cell_type": "code",
   "execution_count": 13,
   "metadata": {},
   "outputs": [],
   "source": [
    "tot_JI = tot_ji[['magazine', 'brand', 'title', 'word', 'ADFN', 'ADFN_2']]"
   ]
  },
  {
   "cell_type": "code",
   "execution_count": 14,
   "metadata": {},
   "outputs": [
    {
     "data": {
      "text/plain": [
       "158"
      ]
     },
     "execution_count": 14,
     "metadata": {},
     "output_type": "execute_result"
    }
   ],
   "source": [
    "len(tot_JI)"
   ]
  },
  {
   "cell_type": "markdown",
   "metadata": {},
   "source": [
    "### 디올 + 지수"
   ]
  },
  {
   "cell_type": "code",
   "execution_count": 81,
   "metadata": {},
   "outputs": [],
   "source": [
    "S6JI = pd.concat([mag_S6, tot_JI])"
   ]
  },
  {
   "cell_type": "code",
   "execution_count": 82,
   "metadata": {},
   "outputs": [],
   "source": [
    "S6JI.reset_index(drop = True, inplace = True)"
   ]
  },
  {
   "cell_type": "code",
   "execution_count": 83,
   "metadata": {},
   "outputs": [],
   "source": [
    "S6JI.to_csv('./magazine/final/S6JI.csv', sep = '|', encoding = 'utf-8', index = False)"
   ]
  },
  {
   "cell_type": "code",
   "execution_count": 84,
   "metadata": {},
   "outputs": [
    {
     "data": {
      "text/plain": [
       "371"
      ]
     },
     "execution_count": 84,
     "metadata": {},
     "output_type": "execute_result"
    }
   ],
   "source": [
    "len(S6JI)"
   ]
  },
  {
   "cell_type": "code",
   "execution_count": null,
   "metadata": {},
   "outputs": [],
   "source": []
  },
  {
   "cell_type": "markdown",
   "metadata": {},
   "source": [
    "## stopword 추가"
   ]
  },
  {
   "cell_type": "code",
   "execution_count": 30,
   "metadata": {},
   "outputs": [],
   "source": [
    "sw_df = pd.read_csv('stopwords.csv', header=None)"
   ]
  },
  {
   "cell_type": "code",
   "execution_count": 31,
   "metadata": {},
   "outputs": [],
   "source": [
    "sw_df.columns = ['stopword']"
   ]
  },
  {
   "cell_type": "code",
   "execution_count": 32,
   "metadata": {},
   "outputs": [],
   "source": [
    "stop_words = []\n",
    "for sw in sw_df['stopword']:\n",
    "    stop_words.append(sw)"
   ]
  },
  {
   "cell_type": "code",
   "execution_count": 33,
   "metadata": {},
   "outputs": [
    {
     "name": "stdout",
     "output_type": "stream",
     "text": [
      "675\n",
      "<class 'list'>\n"
     ]
    }
   ],
   "source": [
    "print(len(stop_words))\n",
    "print(type(stop_words))"
   ]
  },
  {
   "cell_type": "code",
   "execution_count": 34,
   "metadata": {},
   "outputs": [
    {
     "data": {
      "text/plain": [
       "['둘', '셋', '넷', '다섯', '여섯', '일곱', '여덟', '아홉', '령', '영']"
      ]
     },
     "execution_count": 34,
     "metadata": {},
     "output_type": "execute_result"
    }
   ],
   "source": [
    "stop_words[-10:]"
   ]
  },
  {
   "cell_type": "code",
   "execution_count": 35,
   "metadata": {},
   "outputs": [],
   "source": [
    "add_0 = ['진짜', '존나', '보고', '그냥', '카이', '이광수', '광수', '런닝맨', '❤️', '없는', '유재석', '❤', '♥', '있고', '거', \n",
    "         '내', '더', '개', '사람', '영상', '광고', '언니', '말', '뭐', '수', '생각',\n",
    "        '있는', '정말', '같은', '같음', '듯', '♡', '완전', '같아', '정도', '지금', '역시', '뭔가', '입니다', '때문', '아니라',\n",
    "         '함', '같은데', '해', '하는', '할', '넘', '한', '안', '했다', '보면', '데', '하고', '하면', '게', '해서', '봐도', \n",
    "         '한다', '된', '건', '요', '움', '임', '애', '하는거', '해도', '보는', '이제', '했는데', '하는데', '하는게', '같아요', \n",
    "         '합니다', '하지', '하게', '되는', 'I', '는', '난', '서', '도', '줄', '위', '분', '알', '은', '두', '번', '뒤',\n",
    "         '이건', '없다', '있어요', '아니고', '있어',\n",
    "        '계속', '원래', '뭘', '못', '후', '이름', '속', '욕', '옆', '하네', '아님', '그런', '된다', '있음',\n",
    "        '같', '돼', 'you', '제품', '표현', 'n', '봤는데', '건가', '나오는', '가지', '저런', '보이', '고',\n",
    "        '중', '사진', '댓글', '부분', '진심', '그녀', '보', '날', '겁나', '요즘', '앞', '워', '이유', '솔직히', '하며', '통해',\n",
    "        '모든', '항상', '전', '기자', '다시', '오늘', '↑', '이자', '대해', '걸', '처음', '머리', '헤어', '고민', '뿐']\n",
    "for w in add_0:\n",
    "    stop_words.append(w)"
   ]
  },
  {
   "cell_type": "code",
   "execution_count": 36,
   "metadata": {},
   "outputs": [],
   "source": [
    "add_1 = ['BLACKPINK', '제니', '리사', '로제']\n",
    "for w in add_1:\n",
    "    stop_words.append(w)"
   ]
  },
  {
   "cell_type": "code",
   "execution_count": 37,
   "metadata": {},
   "outputs": [],
   "source": [
    "add_2 = []\n",
    "for w in add_1:\n",
    "    stop_words.append(w)"
   ]
  },
  {
   "cell_type": "code",
   "execution_count": 38,
   "metadata": {},
   "outputs": [
    {
     "data": {
      "text/plain": [
       "835"
      ]
     },
     "execution_count": 38,
     "metadata": {},
     "output_type": "execute_result"
    }
   ],
   "source": [
    "len(stop_words)"
   ]
  },
  {
   "cell_type": "code",
   "execution_count": null,
   "metadata": {},
   "outputs": [],
   "source": []
  },
  {
   "cell_type": "code",
   "execution_count": 85,
   "metadata": {},
   "outputs": [],
   "source": [
    "S6JI['ADFN_2'] = S6JI['ADFN_2'].str.replace('[', '').str.replace(']', '').str.replace('\"', '').str.replace(\"'\", \"\").str.split(', ')"
   ]
  },
  {
   "cell_type": "code",
   "execution_count": 86,
   "metadata": {},
   "outputs": [],
   "source": [
    "noun_adj_list = []\n",
    "for i in range(len(S6JI)):\n",
    "    for word in S6JI.loc[i, 'ADFN_2']:\n",
    "        if word not in stop_words:\n",
    "            noun_adj_list.append(word)"
   ]
  },
  {
   "cell_type": "code",
   "execution_count": 87,
   "metadata": {},
   "outputs": [
    {
     "name": "stdout",
     "output_type": "stream",
     "text": [
      "[('지수', 4236), ('예쁘다', 1889), ('귀엽다', 740), ('얼굴', 523), ('사랑', 456), ('LAURENT', 407), ('노래', 390), ('매력', 267), ('DIOR', 257), ('음악', 240), ('목소리', 234), ('스타일', 205), ('패션', 186), ('춤', 165), ('아이돌', 162), ('실력', 149), ('최고', 148), ('브랜드', 139), ('라이브', 130), ('성격', 127), ('음색', 124), ('사랑스럽다', 112), ('컬렉션', 111), ('배우', 111), ('모델', 110), ('드레스', 108), ('메이크업', 106), ('여신', 105), ('여자', 104), ('외모', 101), ('블랙', 100), ('디자인', 98), ('쇼', 96), ('분위기', 95), ('여성', 95), ('하우스', 92), ('비주얼', 91), ('디자이너', 90), ('세계', 86), ('팬츠', 86), ('무대', 84), ('아름다운', 80), ('재킷', 79), ('ANTHONY', 78), ('핑크', 77), ('솔로', 70), ('장식', 69), ('완성', 69), ('레전드', 66), ('이미지', 65), ('셔츠', 64), ('걸그룹', 64), ('레드', 63), ('스타', 63), ('뷰티', 63), ('데님', 62), ('라인', 62), ('톱', 62), ('팬', 62), ('친구', 60), ('노력', 59), ('가수', 59), ('매치', 59), ('드라마', 57), ('파리', 56), ('입덕', 56), ('자연', 55), ('인기', 54), ('느낌', 54), ('카디건', 54), ('보컬', 54), ('아이템', 53), ('빛', 53), ('화보', 53), ('부츠', 51), ('HEDI', 51), ('시크', 51), ('반전', 51), ('웃음', 51), ('BLINK', 49), ('찰떡', 48), ('연예인', 48), ('천재', 47), ('티셔츠', 46), ('시즌', 46), ('인형', 46), ('도전', 46), ('립', 46), ('옷', 45), ('소녀', 45), ('마음', 45), ('디렉터', 44), ('화이트', 44), ('스커트', 44), ('입술', 44), ('연기', 44), ('소재', 43), ('아티스트', 43), ('천사', 43), ('로고', 42), ('새로운', 42), ('여름', 41), ('멋있다', 41), ('고급', 40), ('영화', 40), ('이야기', 40), ('좋', 39), ('가을', 39), ('말투', 39), ('코디', 39), ('새', 38), ('완벽', 38), ('피부', 38), ('COUTURE', 38), ('앨범', 38), ('미소', 38), ('클래식', 37), ('한국', 37), ('실물', 37), ('가죽', 36), ('작업', 36), ('주인공', 36), ('프로', 36), ('벨트', 35), ('몸', 35), ('몸매', 35), ('작품', 35), ('쿠션', 35), ('관심', 35), ('취향', 34), ('어깨', 34), ('활동', 34), ('게임', 34), ('슈트', 33), ('컬러', 33), ('벨벳', 33), ('액세서리', 33), ('인터뷰', 33), ('비즈', 33), ('볼살', 33), ('꽃', 32), ('엄마', 32), ('화장', 32), ('개성', 32), ('코트', 31), ('골드', 31), ('곳', 31), ('CREATIVE', 31), ('숄더', 31), ('해외', 31), ('파', 31), ('미국', 31), ('담당', 31), ('볼', 31), ('나이', 30), ('힘', 30), ('점', 30), ('카리스마', 30), ('기도', 30), ('행복', 30), ('꿈', 30), ('최애', 30), ('유지', 29), ('니트', 29), ('겨울', 29), ('시대', 29), ('기록', 29), ('베스트', 29), ('블루', 29), ('의미', 29), ('공주', 29), ('링', 28), ('열', 28), ('럭셔리', 28), ('자리', 28), ('시선', 28), ('세대', 28), ('파워', 28), ('글', 28), ('강조', 28), ('착용', 28), ('집중', 28), ('발표', 28), ('반응', 28), ('좋겠다', 28), ('레더', 27), ('현재', 27), ('원', 27), ('새롭', 27), ('봄', 27), ('수트', 27), ('진행', 27), ('글로벌', 27), ('재능', 27), ('애교', 27), ('저음', 27), ('백', 26), ('방식', 26), ('코로나', 26), ('슈즈', 26)]\n"
     ]
    }
   ],
   "source": [
    "word = Counter(noun_adj_list)\n",
    "print(word.most_common(200))"
   ]
  },
  {
   "cell_type": "code",
   "execution_count": 88,
   "metadata": {},
   "outputs": [],
   "source": [
    "count = Counter(noun_adj_list)"
   ]
  },
  {
   "cell_type": "code",
   "execution_count": 89,
   "metadata": {},
   "outputs": [
    {
     "name": "stdout",
     "output_type": "stream",
     "text": [
      "('지수', 4236)\n",
      "('예쁘다', 1889)\n",
      "('귀엽다', 740)\n",
      "('얼굴', 523)\n",
      "('사랑', 456)\n",
      "('LAURENT', 407)\n",
      "('노래', 390)\n",
      "('매력', 267)\n",
      "('DIOR', 257)\n",
      "('음악', 240)\n",
      "('목소리', 234)\n",
      "('스타일', 205)\n",
      "('패션', 186)\n",
      "('춤', 165)\n",
      "('아이돌', 162)\n",
      "('실력', 149)\n",
      "('최고', 148)\n",
      "('브랜드', 139)\n",
      "('라이브', 130)\n",
      "('성격', 127)\n",
      "('음색', 124)\n",
      "('사랑스럽다', 112)\n",
      "('컬렉션', 111)\n",
      "('배우', 111)\n",
      "('모델', 110)\n",
      "('드레스', 108)\n",
      "('메이크업', 106)\n",
      "('여신', 105)\n",
      "('여자', 104)\n",
      "('외모', 101)\n",
      "('블랙', 100)\n",
      "('디자인', 98)\n",
      "('쇼', 96)\n",
      "('분위기', 95)\n",
      "('여성', 95)\n",
      "('하우스', 92)\n",
      "('비주얼', 91)\n",
      "('디자이너', 90)\n",
      "('세계', 86)\n",
      "('팬츠', 86)\n",
      "('무대', 84)\n",
      "('아름다운', 80)\n",
      "('재킷', 79)\n",
      "('ANTHONY', 78)\n",
      "('핑크', 77)\n",
      "('솔로', 70)\n",
      "('장식', 69)\n",
      "('완성', 69)\n",
      "('레전드', 66)\n",
      "('이미지', 65)\n",
      "('셔츠', 64)\n",
      "('걸그룹', 64)\n",
      "('레드', 63)\n",
      "('스타', 63)\n",
      "('뷰티', 63)\n",
      "('데님', 62)\n",
      "('라인', 62)\n",
      "('톱', 62)\n",
      "('팬', 62)\n",
      "('친구', 60)\n",
      "('노력', 59)\n",
      "('가수', 59)\n",
      "('매치', 59)\n",
      "('드라마', 57)\n",
      "('파리', 56)\n",
      "('입덕', 56)\n",
      "('자연', 55)\n",
      "('인기', 54)\n",
      "('느낌', 54)\n",
      "('카디건', 54)\n",
      "('보컬', 54)\n",
      "('아이템', 53)\n",
      "('빛', 53)\n",
      "('화보', 53)\n",
      "('부츠', 51)\n",
      "('HEDI', 51)\n",
      "('시크', 51)\n",
      "('반전', 51)\n",
      "('웃음', 51)\n",
      "('BLINK', 49)\n",
      "('찰떡', 48)\n",
      "('연예인', 48)\n",
      "('천재', 47)\n",
      "('티셔츠', 46)\n",
      "('시즌', 46)\n",
      "('인형', 46)\n",
      "('도전', 46)\n",
      "('립', 46)\n",
      "('옷', 45)\n",
      "('소녀', 45)\n",
      "('마음', 45)\n",
      "('디렉터', 44)\n",
      "('화이트', 44)\n",
      "('스커트', 44)\n",
      "('입술', 44)\n",
      "('연기', 44)\n",
      "('소재', 43)\n",
      "('아티스트', 43)\n",
      "('천사', 43)\n",
      "('로고', 42)\n",
      "('새로운', 42)\n",
      "('여름', 41)\n",
      "('멋있다', 41)\n",
      "('고급', 40)\n",
      "('영화', 40)\n",
      "('이야기', 40)\n",
      "('좋', 39)\n",
      "('가을', 39)\n",
      "('말투', 39)\n",
      "('코디', 39)\n",
      "('새', 38)\n",
      "('완벽', 38)\n",
      "('피부', 38)\n",
      "('COUTURE', 38)\n",
      "('앨범', 38)\n",
      "('미소', 38)\n",
      "('클래식', 37)\n",
      "('한국', 37)\n",
      "('실물', 37)\n",
      "('가죽', 36)\n",
      "('작업', 36)\n",
      "('주인공', 36)\n",
      "('프로', 36)\n",
      "('벨트', 35)\n",
      "('몸', 35)\n",
      "('몸매', 35)\n",
      "('작품', 35)\n",
      "('쿠션', 35)\n",
      "('관심', 35)\n",
      "('취향', 34)\n",
      "('어깨', 34)\n",
      "('활동', 34)\n",
      "('게임', 34)\n",
      "('슈트', 33)\n",
      "('컬러', 33)\n",
      "('벨벳', 33)\n",
      "('액세서리', 33)\n",
      "('인터뷰', 33)\n",
      "('비즈', 33)\n",
      "('볼살', 33)\n",
      "('꽃', 32)\n",
      "('엄마', 32)\n",
      "('화장', 32)\n",
      "('개성', 32)\n",
      "('코트', 31)\n",
      "('골드', 31)\n",
      "('곳', 31)\n",
      "('CREATIVE', 31)\n",
      "('숄더', 31)\n",
      "('해외', 31)\n",
      "('파', 31)\n",
      "('미국', 31)\n",
      "('담당', 31)\n",
      "('볼', 31)\n",
      "('나이', 30)\n",
      "('힘', 30)\n",
      "('점', 30)\n",
      "('카리스마', 30)\n",
      "('기도', 30)\n",
      "('행복', 30)\n",
      "('꿈', 30)\n",
      "('최애', 30)\n",
      "('유지', 29)\n",
      "('니트', 29)\n",
      "('겨울', 29)\n",
      "('시대', 29)\n",
      "('기록', 29)\n",
      "('베스트', 29)\n",
      "('블루', 29)\n",
      "('의미', 29)\n",
      "('공주', 29)\n",
      "('링', 28)\n",
      "('열', 28)\n",
      "('럭셔리', 28)\n",
      "('자리', 28)\n",
      "('시선', 28)\n",
      "('세대', 28)\n",
      "('파워', 28)\n",
      "('글', 28)\n",
      "('강조', 28)\n",
      "('착용', 28)\n",
      "('집중', 28)\n",
      "('발표', 28)\n",
      "('반응', 28)\n",
      "('좋겠다', 28)\n",
      "('레더', 27)\n",
      "('현재', 27)\n",
      "('원', 27)\n",
      "('새롭', 27)\n",
      "('봄', 27)\n",
      "('수트', 27)\n",
      "('진행', 27)\n",
      "('글로벌', 27)\n",
      "('재능', 27)\n",
      "('애교', 27)\n",
      "('저음', 27)\n",
      "('백', 26)\n",
      "('방식', 26)\n",
      "('코로나', 26)\n",
      "('슈즈', 26)\n",
      "('오프', 26)\n",
      "('캠페인', 26)\n",
      "('촬영', 26)\n",
      "('기대', 26)\n",
      "('자신감', 26)\n",
      "('변신', 26)\n",
      "('그림', 26)\n",
      "('의상', 26)\n",
      "('프랑스', 26)\n",
      "('향', 26)\n",
      "('세', 26)\n",
      "('살', 26)\n",
      "('경험', 26)\n",
      "('주얼리', 26)\n",
      "('감성', 25)\n",
      "('소화', 25)\n",
      "('뉴욕', 25)\n",
      "('세상', 25)\n",
      "('아이콘', 25)\n",
      "('상큼', 25)\n",
      "('다양한', 25)\n",
      "('댄스', 25)\n",
      "('포니테일', 25)\n",
      "('인성', 25)\n",
      "('착하다', 25)\n",
      "('YSL', 24)\n",
      "('사용', 24)\n",
      "('치', 24)\n",
      "('향수', 24)\n",
      "('방법', 24)\n",
      "('선택', 24)\n",
      "('공식', 24)\n",
      "('추천', 24)\n",
      "('영감', 24)\n",
      "('변화', 24)\n",
      "('성장', 24)\n",
      "('보라색', 24)\n",
      "('브라운', 24)\n",
      "('스스로', 24)\n",
      "('채널', 24)\n",
      "('부럽다', 24)\n",
      "('리스트', 23)\n",
      "('담', 23)\n",
      "('리본', 23)\n",
      "('버전', 23)\n",
      "('스웨터', 23)\n",
      "('상상', 23)\n",
      "('왕', 23)\n",
      "('대중', 23)\n",
      "('원피스', 23)\n",
      "('지난해', 23)\n",
      "('인상', 23)\n",
      "('매출', 23)\n",
      "('약', 23)\n",
      "('패션쇼', 23)\n",
      "('네일', 23)\n",
      "('포에버', 23)\n",
      "('인스타그램', 23)\n",
      "('특징', 22)\n",
      "('지니', 22)\n",
      "('유행', 22)\n",
      "('분명', 22)\n",
      "('강', 22)\n",
      "('멀', 22)\n",
      "('간', 22)\n",
      "('걱정', 22)\n",
      "('심플', 22)\n",
      "('만나', 22)\n",
      "('포인트', 22)\n",
      "('실루엣', 22)\n",
      "('스', 22)\n",
      "('시절', 22)\n",
      "('다리', 22)\n",
      "('미래', 22)\n",
      "('CHANEL', 22)\n",
      "('결정', 22)\n",
      "('캐스팅', 22)\n",
      "('강아지', 22)\n",
      "('삶', 22)\n",
      "('가요', 22)\n",
      "('운동', 21)\n",
      "('소', 21)\n",
      "('마스크', 21)\n",
      "('그룹', 21)\n",
      "('단어', 21)\n",
      "('정신', 21)\n",
      "('디지털', 21)\n",
      "('즐기', 21)\n",
      "('아래', 21)\n",
      "('조합', 21)\n",
      "('하다', 21)\n",
      "('목걸이', 21)\n",
      "('크리스', 21)\n",
      "('스킨', 21)\n",
      "('전시', 21)\n",
      "('감각', 21)\n",
      "('마지막', 21)\n",
      "('일상', 21)\n",
      "('과정', 21)\n",
      "('국내', 21)\n",
      "('마무리', 21)\n",
      "('투어', 21)\n",
      "('신경', 21)\n",
      "('선물', 21)\n",
      "('회사', 21)\n",
      "('랩', 21)\n",
      "('생기', 21)\n",
      "('집', 21)\n",
      "('기분', 21)\n",
      "('답', 21)\n",
      "('교복', 21)\n",
      "('워치', 21)\n",
      "('코', 21)\n",
      "('슬기', 21)\n",
      "('악', 21)\n",
      "('넘치는', 21)\n",
      "('웃는', 21)\n",
      "('초딩', 21)\n",
      "('사이즈', 20)\n",
      "('모양', 20)\n",
      "('미우', 20)\n",
      "('허리', 20)\n",
      "('블라우스', 20)\n",
      "('피', 20)\n",
      "('이후', 20)\n",
      "('순간', 20)\n",
      "('중요', 20)\n",
      "('역할', 20)\n",
      "('주목', 20)\n",
      "('디테일', 20)\n",
      "('센스', 20)\n",
      "('여행', 20)\n",
      "('갈', 20)\n",
      "('예정', 20)\n",
      "('신', 20)\n",
      "('일하', 20)\n",
      "('관리', 20)\n",
      "('화', 20)\n",
      "('하트', 20)\n",
      "('작은', 20)\n",
      "('크', 20)\n",
      "('착', 20)\n",
      "('다해', 20)\n",
      "('초', 20)\n",
      "('밥', 20)\n",
      "('쉬는', 20)\n",
      "('발음', 20)\n",
      "('고음', 20)\n",
      "('형태', 19)\n",
      "('기간', 19)\n",
      "('가방', 19)\n",
      "('비통', 19)\n",
      "('뮤즈', 19)\n",
      "('검색', 19)\n",
      "('출신', 19)\n",
      "('화제', 19)\n",
      "('발', 19)\n",
      "('조명', 19)\n",
      "('힐', 19)\n",
      "('북', 19)\n",
      "('열리', 19)\n",
      "('언급', 19)\n",
      "('문', 19)\n",
      "('동시', 19)\n",
      "('이용', 19)\n",
      "('남성복', 19)\n",
      "('비교', 19)\n",
      "('명', 19)\n",
      "('소개', 19)\n",
      "('차이', 19)\n",
      "('휘파람', 19)\n",
      "('거나', 19)\n",
      "('갑자기', 19)\n",
      "('안무', 19)\n",
      "('컴백', 19)\n",
      "('주변', 19)\n",
      "('샤인', 19)\n",
      "('공감', 19)\n",
      "('어울림', 19)\n",
      "('우아', 19)\n",
      "('악플', 19)\n",
      "('손', 18)\n",
      "('귀', 18)\n",
      "('찍', 18)\n",
      "('상황', 18)\n",
      "('경우', 18)\n",
      "('상징', 18)\n",
      "('건강', 18)\n",
      "('톤', 18)\n",
      "('수록', 18)\n",
      "('프린트', 18)\n",
      "('스토리', 18)\n",
      "('파티', 18)\n",
      "('영향', 18)\n",
      "('설명', 18)\n",
      "('특유', 18)\n",
      "('비율', 18)\n",
      "('고양이', 18)\n",
      "('현', 18)\n",
      "('사기', 18)\n",
      "('팩', 18)\n",
      "('질문', 18)\n",
      "('SNS', 18)\n",
      "('축하', 18)\n",
      "('굉장히', 18)\n",
      "('좋아해요', 18)\n",
      "('쓰는', 18)\n",
      "('용', 18)\n",
      "('전혀', 18)\n",
      "('리', 18)\n",
      "('있죠', 18)\n",
      "('해결', 18)\n",
      "('매일', 18)\n",
      "('댓', 18)\n",
      "('볼수록', 18)\n",
      "('먹는', 18)\n",
      "('되지', 18)\n",
      "('그것', 18)\n",
      "('갈수록', 18)\n",
      "('높은', 18)\n",
      "('짜', 18)\n",
      "('장미', 18)\n",
      "('넘나', 18)\n",
      "('독보', 18)\n",
      "('가서', 18)\n",
      "('구독', 18)\n",
      "('했네', 18)\n",
      "('사이', 18)\n",
      "('캠', 18)\n",
      "('없는데', 18)\n",
      "('이상민', 18)\n",
      "('쿠키런', 18)\n",
      "('하이', 17)\n",
      "('법', 17)\n",
      "('오렌지', 17)\n",
      "('공연', 17)\n",
      "('토', 17)\n",
      "('빅', 17)\n",
      "('블', 17)\n",
      "('볼륨', 17)\n",
      "('느끼', 17)\n",
      "('협업', 17)\n",
      "('바지', 17)\n",
      "('반', 17)\n",
      "('개인', 17)\n",
      "('과거', 17)\n",
      "('도시', 17)\n",
      "('조', 17)\n",
      "('덜', 17)\n",
      "('은근', 17)\n",
      "('대체', 17)\n",
      "('헤어스타일', 17)\n",
      "('청순', 17)\n",
      "('중독', 17)\n",
      "('캐릭터', 17)\n",
      "('작', 17)\n",
      "('대부분', 17)\n",
      "('믹스', 17)\n",
      "('유명', 17)\n",
      "('필요', 17)\n",
      "('매장', 17)\n",
      "('체스', 17)\n",
      "('재미', 17)\n",
      "('요정', 17)\n",
      "('끼', 17)\n",
      "('상처', 17)\n",
      "('페이스', 17)\n",
      "('먼저', 17)\n",
      "('아마', 17)\n",
      "('크게', 17)\n",
      "('빼고', 17)\n",
      "('눈물', 17)\n",
      "('나온', 17)\n",
      "('있다고', 17)\n",
      "('되고', 17)\n",
      "('지난', 17)\n",
      "('완벽한', 17)\n",
      "('건지', 17)\n",
      "('색깔', 17)\n",
      "('만드는', 17)\n",
      "('먹을', 17)\n",
      "('부어', 17)\n",
      "('설강화', 17)\n",
      "('했으면', 17)\n",
      "('챙', 17)\n",
      "('최근', 17)\n",
      "('별명', 17)\n",
      "('김영철', 17)\n",
      "('유전자', 16)\n",
      "('다르', 16)\n",
      "('패션계', 16)\n",
      "('가치', 16)\n",
      "('색', 16)\n",
      "('선글라스', 16)\n",
      "('CALVIN', 16)\n",
      "('KLEIN', 16)\n",
      "('네온', 16)\n",
      "('보통', 16)\n",
      "('결혼', 16)\n",
      "('버버리', 16)\n"
     ]
    }
   ],
   "source": [
    "word_list = count.most_common(500)\n",
    "for v in word_list:\n",
    "    print(v)"
   ]
  },
  {
   "cell_type": "code",
   "execution_count": 90,
   "metadata": {},
   "outputs": [],
   "source": [
    "top500 = pd.DataFrame(word_list)"
   ]
  },
  {
   "cell_type": "code",
   "execution_count": 91,
   "metadata": {},
   "outputs": [],
   "source": [
    "top500.columns = ['word', 'count']"
   ]
  },
  {
   "cell_type": "code",
   "execution_count": 93,
   "metadata": {},
   "outputs": [],
   "source": [
    "top500.to_csv('./S6JI_top500.csv', sep='|', encoding = 'utf-8', index = False)"
   ]
  },
  {
   "cell_type": "markdown",
   "metadata": {},
   "source": [
    "## 워드클라우드 만들기"
   ]
  },
  {
   "cell_type": "code",
   "execution_count": 94,
   "metadata": {},
   "outputs": [],
   "source": [
    "import matplotlib.pyplot as plt"
   ]
  },
  {
   "cell_type": "code",
   "execution_count": 95,
   "metadata": {},
   "outputs": [
    {
     "name": "stdout",
     "output_type": "stream",
     "text": [
      "Malgun Gothic C:\\WINDOWS\\Fonts\\malgun.ttf\n",
      "Yu Gothic C:\\WINDOWS\\Fonts\\YuGothB.ttc\n",
      "HYGothic-Extra C:\\WINDOWS\\Fonts\\H2GTRE.TTF\n",
      "Franklin Gothic Medium C:\\WINDOWS\\Fonts\\framdit.ttf\n",
      "Malgun Gothic C:\\Windows\\Fonts\\malgunbd.ttf\n",
      "Yu Gothic C:\\Windows\\Fonts\\YuGothL.ttc\n",
      "Century Gothic C:\\Windows\\Fonts\\GOTHIC.TTF\n",
      "Yu Gothic C:\\Windows\\Fonts\\YuGothM.ttc\n",
      "Yu Gothic C:\\WINDOWS\\Fonts\\YuGothR.ttc\n",
      "MS Gothic C:\\WINDOWS\\Fonts\\msgothic.ttc\n",
      "HYGothic-Medium C:\\WINDOWS\\Fonts\\H2GTRM.TTF\n",
      "Malgun Gothic C:\\WINDOWS\\Fonts\\malgunsl.ttf\n",
      "Century Gothic C:\\Windows\\Fonts\\GOTHICI.TTF\n",
      "Century Gothic C:\\WINDOWS\\Fonts\\GOTHICBI.TTF\n",
      "Century Gothic C:\\Windows\\Fonts\\GOTHICB.TTF\n",
      "Franklin Gothic Medium C:\\WINDOWS\\Fonts\\framd.ttf\n"
     ]
    }
   ],
   "source": [
    "import matplotlib.font_manager as fm\n",
    "\n",
    "# 이용 가능한 폰트 중 '고딕'만 선별\n",
    "for font in fm.fontManager.ttflist:\n",
    "    if 'Gothic' in font.name:\n",
    "        print(font.name, font.fname)"
   ]
  },
  {
   "cell_type": "code",
   "execution_count": 96,
   "metadata": {},
   "outputs": [],
   "source": [
    "font_path = 'C:\\WINDOWS\\Fonts\\malgun.ttf'"
   ]
  },
  {
   "cell_type": "markdown",
   "metadata": {},
   "source": [
    "### 워드클라우드 그리기"
   ]
  },
  {
   "cell_type": "code",
   "execution_count": 97,
   "metadata": {},
   "outputs": [],
   "source": [
    "from wordcloud import WordCloud"
   ]
  },
  {
   "cell_type": "code",
   "execution_count": 98,
   "metadata": {},
   "outputs": [],
   "source": [
    "wc = WordCloud(font_path=font_path, background_color=\"white\", width=600, height=400)"
   ]
  },
  {
   "cell_type": "code",
   "execution_count": 99,
   "metadata": {},
   "outputs": [
    {
     "data": {
      "image/png": "[encoded data removed]",
      "text/plain": [
       "<Figure size 432x288 with 1 Axes>"
      ]
     },
     "metadata": {
      "needs_background": "light"
     },
     "output_type": "display_data"
    },
    {
     "data": {
      "text/plain": [
       "<wordcloud.wordcloud.WordCloud at 0x25bfadc45c8>"
      ]
     },
     "execution_count": 99,
     "metadata": {},
     "output_type": "execute_result"
    }
   ],
   "source": [
    "wc.generate_from_frequencies(dict(word_list))\n",
    "\n",
    "plt.imshow(wc) \n",
    "plt.axis('off') \n",
    "plt.show()\n",
    "\n",
    "\n",
    "wc.to_file('wc_S6JI_top500.png')"
   ]
  },
  {
   "cell_type": "code",
   "execution_count": 100,
   "metadata": {},
   "outputs": [],
   "source": [
    "S6JI.to_csv('./magazine/final/S6JI_adfn_2.csv', sep='|', encoding = 'utf-8', index = False)"
   ]
  },
  {
   "cell_type": "code",
   "execution_count": null,
   "metadata": {},
   "outputs": [],
   "source": []
  },
  {
   "cell_type": "code",
   "execution_count": null,
   "metadata": {},
   "outputs": [],
   "source": []
  },
  {
   "cell_type": "code",
   "execution_count": null,
   "metadata": {},
   "outputs": [],
   "source": []
  }
 ],
 "metadata": {
  "kernelspec": {
   "display_name": "Python 3",
   "language": "python",
   "name": "python3"
  },
  "language_info": {
   "codemirror_mode": {
    "name": "ipython",
    "version": 3
   },
   "file_extension": ".py",
   "mimetype": "text/x-python",
   "name": "python",
   "nbconvert_exporter": "python",
   "pygments_lexer": "ipython3",
   "version": "3.7.6"
  }
 },
 "nbformat": 4,
 "nbformat_minor": 4
}
