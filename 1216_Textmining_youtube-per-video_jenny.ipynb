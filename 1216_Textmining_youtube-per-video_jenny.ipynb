{
 "cells": [
  {
   "cell_type": "code",
   "execution_count": 1,
   "metadata": {},
   "outputs": [],
   "source": [
    "import pandas as pd\n",
    "import numpy as np"
   ]
  },
  {
   "cell_type": "code",
   "execution_count": 2,
   "metadata": {},
   "outputs": [],
   "source": [
    "from collections import Counter"
   ]
  },
  {
   "cell_type": "code",
   "execution_count": 4,
   "metadata": {},
   "outputs": [],
   "source": [
    "video_je = pd.read_csv('./blackpink/video_je.csv', sep='|', encoding = 'utf-8')\n",
    "mag_je = pd.read_csv('./magazine/final/mag_jenny_adfn_2.csv', encoding = 'utf-8', sep = '|')"
   ]
  },
  {
   "cell_type": "code",
   "execution_count": 5,
   "metadata": {},
   "outputs": [],
   "source": [
    "video_je['magazine'] = 'YOUTUBE'\n",
    "video_je['brand'] = 'YOUTUBE'\n",
    "video_je['word_jenny'] = video_je['contents']"
   ]
  },
  {
   "cell_type": "code",
   "execution_count": 8,
   "metadata": {},
   "outputs": [],
   "source": [
    "mag_je = mag_je[['magazine', 'brand', 'title', 'word_jenny']]"
   ]
  },
  {
   "cell_type": "code",
   "execution_count": 9,
   "metadata": {},
   "outputs": [],
   "source": [
    "video_je = video_je[['magazine', 'brand', 'title', 'word_jenny']]"
   ]
  },
  {
   "cell_type": "code",
   "execution_count": 11,
   "metadata": {},
   "outputs": [],
   "source": [
    "tot_je = pd.concat([video_je, mag_je])"
   ]
  },
  {
   "cell_type": "code",
   "execution_count": 12,
   "metadata": {},
   "outputs": [],
   "source": [
    "tot_je.reset_index(drop=True, inplace = True)"
   ]
  },
  {
   "cell_type": "code",
   "execution_count": 13,
   "metadata": {},
   "outputs": [],
   "source": [
    "tot_je.to_csv('./magazine/final/mag-video_je.csv', sep='|', encoding = 'utf-8', index = False)"
   ]
  },
  {
   "cell_type": "code",
   "execution_count": 14,
   "metadata": {},
   "outputs": [
    {
     "data": {
      "text/html": [
       "<div>\n",
       "<style scoped>\n",
       "    .dataframe tbody tr th:only-of-type {\n",
       "        vertical-align: middle;\n",
       "    }\n",
       "\n",
       "    .dataframe tbody tr th {\n",
       "        vertical-align: top;\n",
       "    }\n",
       "\n",
       "    .dataframe thead th {\n",
       "        text-align: right;\n",
       "    }\n",
       "</style>\n",
       "<table border=\"1\" class=\"dataframe\">\n",
       "  <thead>\n",
       "    <tr style=\"text-align: right;\">\n",
       "      <th></th>\n",
       "      <th>magazine</th>\n",
       "      <th>brand</th>\n",
       "      <th>title</th>\n",
       "      <th>word_jenny</th>\n",
       "    </tr>\n",
       "  </thead>\n",
       "  <tbody>\n",
       "    <tr>\n",
       "      <th>225</th>\n",
       "      <td>fashionn</td>\n",
       "      <td>Je</td>\n",
       "      <td>로제, 생로랑 홍보대사!블랙핑크 멤버 모두 럭셔리 브랜드 싹쓸이</td>\n",
       "      <td>NaN</td>\n",
       "    </tr>\n",
       "    <tr>\n",
       "      <th>287</th>\n",
       "      <td>M</td>\n",
       "      <td>Je</td>\n",
       "      <td>제니의 젠틀홈 투어</td>\n",
       "      <td>NaN</td>\n",
       "    </tr>\n",
       "    <tr>\n",
       "      <th>288</th>\n",
       "      <td>M</td>\n",
       "      <td>Je</td>\n",
       "      <td>제니와 젠틀몬스터가 함께 꾸민 공간</td>\n",
       "      <td>NaN</td>\n",
       "    </tr>\n",
       "    <tr>\n",
       "      <th>289</th>\n",
       "      <td>M</td>\n",
       "      <td>Je</td>\n",
       "      <td>CHANEL</td>\n",
       "      <td>NaN</td>\n",
       "    </tr>\n",
       "    <tr>\n",
       "      <th>295</th>\n",
       "      <td>M</td>\n",
       "      <td>Je</td>\n",
       "      <td>마리끌레르 X 샤넬</td>\n",
       "      <td>NaN</td>\n",
       "    </tr>\n",
       "    <tr>\n",
       "      <th>296</th>\n",
       "      <td>M</td>\n",
       "      <td>Je</td>\n",
       "      <td>Who Am I</td>\n",
       "      <td>NaN</td>\n",
       "    </tr>\n",
       "  </tbody>\n",
       "</table>\n",
       "</div>"
      ],
      "text/plain": [
       "     magazine brand                                title word_jenny\n",
       "225  fashionn    Je  로제, 생로랑 홍보대사!블랙핑크 멤버 모두 럭셔리 브랜드 싹쓸이        NaN\n",
       "287         M    Je                           제니의 젠틀홈 투어        NaN\n",
       "288         M    Je                  제니와 젠틀몬스터가 함께 꾸민 공간        NaN\n",
       "289         M    Je                               CHANEL        NaN\n",
       "295         M    Je                           마리끌레르 X 샤넬        NaN\n",
       "296         M    Je                             Who Am I        NaN"
      ]
     },
     "execution_count": 14,
     "metadata": {},
     "output_type": "execute_result"
    }
   ],
   "source": [
    "tot_je[tot_je['word_jenny'].isnull()]"
   ]
  },
  {
   "cell_type": "code",
   "execution_count": 15,
   "metadata": {},
   "outputs": [],
   "source": [
    "tot_je.drop([225, 287, 288, 289, 295, 296], inplace = True)"
   ]
  },
  {
   "cell_type": "code",
   "execution_count": 16,
   "metadata": {},
   "outputs": [],
   "source": [
    "tot_je.reset_index(drop=True, inplace = True)"
   ]
  },
  {
   "cell_type": "code",
   "execution_count": null,
   "metadata": {},
   "outputs": [],
   "source": []
  },
  {
   "cell_type": "code",
   "execution_count": 53,
   "metadata": {},
   "outputs": [
    {
     "name": "stdout",
     "output_type": "stream",
     "text": [
      "This dog 😂\n",
      "This dog \n"
     ]
    }
   ],
   "source": [
    "import re\n",
    " \n",
    "text = u'This dog \\U0001f602'\n",
    "print(text) # with emoji\n",
    " \n",
    "emoji_pattern = re.compile(\"[\"\n",
    "        u\"\\U0001F600-\\U0001F64F\"  # emoticons\n",
    "        u\"\\U0001F300-\\U0001F5FF\"  # symbols & pictographs\n",
    "        u\"\\U0001F680-\\U0001F6FF\"  # transport & map symbols\n",
    "        u\"\\U0001F1E0-\\U0001F1FF\"  # flags (iOS)\n",
    "                           \"]+\", flags=re.UNICODE)\n",
    "print(emoji_pattern.sub(r'', text)) # no emoji"
   ]
  },
  {
   "cell_type": "code",
   "execution_count": 54,
   "metadata": {},
   "outputs": [],
   "source": [
    "tot_je['word_jenny'] = tot_je['word_jenny'].str.replace(emoji_pattern, '').str.replace('♥', '').str.replace('❤️', '').str.replace('❤', '')"
   ]
  },
  {
   "cell_type": "code",
   "execution_count": 55,
   "metadata": {},
   "outputs": [
    {
     "data": {
      "text/plain": [
       "0      ['좋은 신에게 제니 ', '제니언니 금발머리 하니깐 외국인 같아요....존나 예쁘...\n",
       "1      ['저 애매한 길이의 생머리와 샤네루 상의랑 하얀색 옷인거 거기에 이노래까지 진짜 ...\n",
       "2      ['2년이 지난 지금 봐도 여전히 바지는 이해할 수가 없다..BLACKPINK..얼...\n",
       "3      ['제니 저런 스타일링 진짜 잘 어울리고 멋있다..스타일링이 대박♡', '진짜 미친...\n",
       "4      ['Something about this whole solo debut remind...\n",
       "                             ...                        \n",
       "346    서로의 팬임을 인증한 두 스타, 8월 28일 BLACKPINK와 세레나 고메즈가 함...\n",
       "347    내셔널 아이스크림 데이’를 기념한 BLACKPINK의 귀여운 포스팅., 제니와 리사...\n",
       "348    한국 신진 디자이너부터 하이 패션 브랜드까지 섭렵한 블핑, 6월 26일 드디어 BL...\n",
       "349    BLACKPINK 로제, 리사, 지수의 솔로곡이 발매된다., , 오는 9월 첫 정규...\n",
       "350    K팝 그룹 최초! BLACKPINK <뚜두뚜두(DDU-DU DDU-DU)> 뮤직비디...\n",
       "Name: word_jenny, Length: 351, dtype: object"
      ]
     },
     "execution_count": 55,
     "metadata": {},
     "output_type": "execute_result"
    }
   ],
   "source": [
    "tot_je['word_jenny']"
   ]
  },
  {
   "cell_type": "markdown",
   "metadata": {},
   "source": [
    "## list(article_list) 생성 후 append"
   ]
  },
  {
   "cell_type": "code",
   "execution_count": 56,
   "metadata": {},
   "outputs": [],
   "source": [
    "\n",
    "article_list = []\n",
    "for word in tot_je['word_jenny']:\n",
    "    article_list.append(word)"
   ]
  },
  {
   "cell_type": "code",
   "execution_count": 57,
   "metadata": {
    "scrolled": true
   },
   "outputs": [
    {
     "data": {
      "text/plain": [
       "351"
      ]
     },
     "execution_count": 57,
     "metadata": {},
     "output_type": "execute_result"
    }
   ],
   "source": [
    "len(article_list)"
   ]
  },
  {
   "cell_type": "code",
   "execution_count": 58,
   "metadata": {},
   "outputs": [
    {
     "data": {
      "text/plain": [
       "\"['어떻게 예쁘다 춤 잘 추고 날씬하고 키 크고 성격 좋고 목소리 예쁘다 유학파에 셀럽이기까지 하냐', '추운데 촬영하느라 수고했어요~영상 너무 멋있다 요월래 멋있다 ,예뻤는데 더 멋있다  예쁘다 졌어♡♡', '너무 예쁘다 귀엽다  사랑스럽다 매력쩐다 진짜', '미쳤다 ㅜㅜㅜㅜ너무 예쁘다 ', '언니 완전귀엽다 요ㅜㅜㅜㅜㅠ', 'ㅜㅎ마마 혇 뭐ㅑ ㄱ 자자자자', '추운데 고생했어요~!', 'JENNIE...LOVE YOU.......SO CUTE제니...사랑해요...귀엽다 ㅠㅠ', '헤이 제니 ... 나는 너를 정말로 우상 숭배한다.', '제니 사랑해!!!!!!!!!!!!!!!!ㅠㅠㅠㅠ', '예쁘다♡♡♡', '0:35 아 제니 존나 귀엽다 여웤ㅎㅋㅎㅋㅎㅋㅎㅎㅋㅎㅋㅎㅋㅎㅋㅋㅋㅋ', '세니', '2:11 심정지각', '네, 한 보이는데. ', '우리 제니 머리 다 상하겠다ㅠ', 'Great work queen 제니  수고했어요 ', '옷 예쀼땅', '보면서 런던같다 쇼디치 같다 생각했었는데 진짜 런던이였다니ㅠㅠ 진짜 보고싶었다', '제니 사랑해요', '너 내꺼가 되라!', '제니님 너무 좋아요.', '나는 너를  사랑해.블븍핀 크.', '안녕하세요 제니 나는 당신의 모든 상품과 BLACKPINK 상품입니다. 저는 당신과 Rose, Jisso, 리사를 정말로 사랑합니다.너를 사랑해 ', '편집이 느어무 잔잔혀..', '왜 한국 댓글은 없는거야 !', '제니 인사성 진짜 밝다..', '아메리카노 마셔서 잠 안오는데 재밌는거 많이 나왔으면 좋겠다.너튜뷰에~~', '제니야ㅠㅠㅠㅠ너무 귀엽다 ㅠㅠㅠ와이지제발 이런영상 자주좀 올려줘 ㅠㅠㅠㅠㅠㅠㅠㅠ', '으악 ㅠㅠㅠㅠㅠㅠㅜㅠㅠ 너무너무너어어어므 예쁘다  ㅠㅠㅠㅠㅠㅠ', '젼잼~~~ 제니 존나 귀엽다 ~~~', '나는 그 노래가 좋아하는 것을 좋아했다.  너와 다른 멤버들도 사랑해. ✌️❣️', '좋아합니다', '한국 인인 분 소오오오온❣️구걸 죄송하지만 한번 해보구 싶었어욤!!제니는 역시 예뻥🥰', '젠 살앙해', '제니언니 봐. 넘나 귀엽다 보여 .', '넘넘이쁘댜언니 힘들텐데 홧팅!!!!BLACKPINK홧팅 블링크홧팅', '으아아아아앙 언니 너무 귀엽다 용', '아 제니 너무 귀엽다  멋있어 너무 좋아ㅠㅠㅠㅠㅠㅠㅠㅠㅠㅠ고생했어요ㅠㅠㅠㅠㅠㅠㅠㅠ', '3:36 두아리파 노래나온다......', '2:36 순간 욱일긴줄', '때빡!!', '제니 언니, 수고했어요', '젠 여신 ', '여정 언니 ~~ !̆̈ !̆̈  !̆̈ !̆̈ !', '사랑해 젠니 언니', '왜 때문에 죄다 외국인인거임..', '이  추운 날씨에ㅠㅠ 여름 옷 입으시고...야회 찰영 하신하고 고생하셨어요ㅠ❣', '2:30 이때 지붕뚫고 하이킥에 나오는 신세경 떠오름...', '앚아!', '제니 언니 사랑해요!! 너무너무 예쁘다 요 앞으로 이렇게 노래많이 내주세요', '넘나 예쁘다 것', 'ㅠ 울 젠득 춥겠다', '제니 언니 추운데 고생햇어ㅠㅜ 사랑해♡♡']\""
      ]
     },
     "execution_count": 58,
     "metadata": {},
     "output_type": "execute_result"
    }
   ],
   "source": [
    "article_list[6]"
   ]
  },
  {
   "cell_type": "code",
   "execution_count": null,
   "metadata": {},
   "outputs": [],
   "source": []
  },
  {
   "cell_type": "markdown",
   "metadata": {},
   "source": [
    "## 트위터 패키지 안에 konlpy 모듈 호출"
   ]
  },
  {
   "cell_type": "code",
   "execution_count": 21,
   "metadata": {},
   "outputs": [],
   "source": [
    "from konlpy.tag import Twitter"
   ]
  },
  {
   "cell_type": "code",
   "execution_count": 22,
   "metadata": {},
   "outputs": [
    {
     "name": "stderr",
     "output_type": "stream",
     "text": [
      "C:\\Users\\wnsgo\\anaconda3\\lib\\site-packages\\konlpy\\tag\\_okt.py:16: UserWarning: \"Twitter\" has changed to \"Okt\" since KoNLPy v0.4.5.\n",
      "  warn('\"Twitter\" has changed to \"Okt\" since KoNLPy v0.4.5.')\n"
     ]
    }
   ],
   "source": [
    "twitter = Twitter()"
   ]
  },
  {
   "cell_type": "markdown",
   "metadata": {},
   "source": [
    "### 각 문장별로 형태소 구분하기"
   ]
  },
  {
   "cell_type": "code",
   "execution_count": 59,
   "metadata": {},
   "outputs": [
    {
     "name": "stdout",
     "output_type": "stream",
     "text": [
      "351\n"
     ]
    }
   ],
   "source": [
    "sentences_tag = []\n",
    "\n",
    "for sentence in article_list:\n",
    "    morph = twitter.pos(sentence)\n",
    "    sentences_tag.append(morph)\n",
    "    \n",
    "    \n",
    "\n",
    "print(len(sentences_tag))\n"
   ]
  },
  {
   "cell_type": "code",
   "execution_count": 60,
   "metadata": {},
   "outputs": [
    {
     "data": {
      "text/plain": [
       "[(\"['\", 'Punctuation'),\n",
       " ('좋은', 'Adjective'),\n",
       " ('신', 'Noun'),\n",
       " ('에게', 'Josa'),\n",
       " ('제니', 'Noun'),\n",
       " (\"',\", 'Punctuation'),\n",
       " (\"'\", 'Punctuation'),\n",
       " ('제니', 'Noun'),\n",
       " ('언니', 'Suffix'),\n",
       " ('금발머리', 'Noun'),\n",
       " ('하', 'Noun'),\n",
       " ('니깐', 'Josa'),\n",
       " ('외국인', 'Noun'),\n",
       " ('같아요', 'Adjective'),\n",
       " ('....', 'Punctuation'),\n",
       " ('존나', 'Noun'),\n",
       " ('예쁘다', 'Adjective'),\n",
       " (\"',\", 'Punctuation'),\n",
       " (\"'\", 'Punctuation'),\n",
       " ('왠지', 'Adverb'),\n",
       " ('모르겠지만', 'Verb'),\n",
       " ('분위기', 'Noun'),\n",
       " ('가', 'Josa'),\n",
       " ('이번', 'Noun'),\n",
       " ('엑소', 'Noun'),\n",
       " ('컴백', 'Noun'),\n",
       " ('티저', 'Noun'),\n",
       " ('랑', 'Josa'),\n",
       " ('비슷한거', 'Adjective'),\n",
       " ('같아여', 'Adjective'),\n",
       " ('결론', 'Noun'),\n",
       " ('은', 'Josa'),\n",
       " ('좋음', 'Adjective'),\n",
       " (\"',\", 'Punctuation'),\n",
       " (\"'\", 'Punctuation'),\n",
       " ('터키', 'Noun'),\n",
       " ('에', 'Josa'),\n",
       " ('와주세요', 'Verb'),\n",
       " ('BLACKP', 'Alpha'),\n",
       " ('İ', 'Foreign'),\n",
       " ('NK', 'Alpha'),\n",
       " (\"',\", 'Punctuation'),\n",
       " (\"'\", 'Punctuation'),\n",
       " ('아름다운', 'Adjective'),\n",
       " ('금발', 'Noun'),\n",
       " ('머리', 'Noun'),\n",
       " ('를', 'Josa'),\n",
       " ('가진', 'Verb'),\n",
       " ('제니', 'Noun'),\n",
       " (\"',\", 'Punctuation'),\n",
       " (\"'\", 'Punctuation'),\n",
       " ('효린', 'Noun'),\n",
       " ('인줄', 'Verb'),\n",
       " (\"',\", 'Punctuation'),\n",
       " (\"'#제니\", 'Hashtag'),\n",
       " ('#BLACKPINK', 'Hashtag'),\n",
       " (\"!!',\", 'Punctuation'),\n",
       " (\"'\", 'Punctuation'),\n",
       " ('와우', 'Noun'),\n",
       " (',', 'Punctuation'),\n",
       " ('커널', 'Noun'),\n",
       " ('머리', 'Noun'),\n",
       " ('제니', 'Noun'),\n",
       " ('...', 'Punctuation'),\n",
       " ('당신', 'Noun'),\n",
       " ('은', 'Josa'),\n",
       " ('놀랍니다', 'Verb'),\n",
       " (\"!',\", 'Punctuation'),\n",
       " (\"'\", 'Punctuation'),\n",
       " ('처음', 'Noun'),\n",
       " ('에', 'Josa'),\n",
       " ('1초', 'Number'),\n",
       " ('효린인줄', 'Foreign'),\n",
       " (\"..',\", 'Punctuation'),\n",
       " (\"'\", 'Punctuation'),\n",
       " ('완전', 'Noun'),\n",
       " ('기대', 'Noun'),\n",
       " (\"',\", 'Punctuation'),\n",
       " (\"'\", 'Punctuation'),\n",
       " ('제니', 'Noun'),\n",
       " (\"',\", 'Punctuation'),\n",
       " (\"'\", 'Punctuation'),\n",
       " ('금발', 'Noun'),\n",
       " (\"?!?!??!',\", 'Punctuation'),\n",
       " (\"'\", 'Punctuation'),\n",
       " ('흐에', 'Exclamation'),\n",
       " ('으아', 'Exclamation'),\n",
       " ('으아', 'Exclamation'),\n",
       " ('앍', 'Verb'),\n",
       " ('제니', 'Noun'),\n",
       " ('금발', 'Noun'),\n",
       " ('이라니', 'Josa'),\n",
       " ('미쳤어', 'Adjective'),\n",
       " ('내', 'Determiner'),\n",
       " ('심장', 'Noun'),\n",
       " ('터뜨려주거', 'Verb'),\n",
       " ('ㅠㅠ', 'KoreanParticle'),\n",
       " ('제니', 'Noun'),\n",
       " ('얼굴', 'Noun'),\n",
       " ('어쩌면', 'Noun'),\n",
       " ('좋아', 'Adjective'),\n",
       " ('흐어어', 'Exclamation'),\n",
       " ('엏', 'Noun'),\n",
       " ('ㅠㅠ', 'KoreanParticle'),\n",
       " ('세상', 'Noun'),\n",
       " ('제일', 'Noun'),\n",
       " ('존나', 'Noun'),\n",
       " ('예쁘다', 'Adjective'),\n",
       " ('탱', 'Adverb'),\n",
       " ('..,', 'Punctuation'),\n",
       " ('♡', 'Foreign'),\n",
       " ('분위기', 'Noun'),\n",
       " ('미쳐', 'Adjective'),\n",
       " ('써', 'Verb'),\n",
       " ('존나', 'Noun'),\n",
       " ('예쁘다', 'Adjective'),\n",
       " ('그냥', 'Noun'),\n",
       " ('이쁘단', 'Adjective'),\n",
       " ('말로', 'Noun'),\n",
       " ('모자람', 'Verb'),\n",
       " ('우리', 'Noun'),\n",
       " ('제니', 'Noun'),\n",
       " ('그냥', 'Noun'),\n",
       " ('여신', 'Noun'),\n",
       " ('님', 'Suffix'),\n",
       " ('이었어', 'Verb'),\n",
       " ('젠', 'Noun'),\n",
       " ('여신', 'Noun'),\n",
       " ('님', 'Suffix'),\n",
       " ('펑생', 'Noun'),\n",
       " ('떠받', 'Verb'),\n",
       " ('들고', 'Verb'),\n",
       " ('살게요', 'Verb'),\n",
       " ('김젠젠', 'Noun'),\n",
       " ('사랑', 'Noun'),\n",
       " ('해', 'Noun'),\n",
       " ('ㅠㅜㅜㅜㅠㅜ', 'KoreanParticle'),\n",
       " ('♡♡♡♡♡♡', 'Foreign'),\n",
       " (\"']\", 'Punctuation')]"
      ]
     },
     "execution_count": 60,
     "metadata": {},
     "output_type": "execute_result"
    }
   ],
   "source": [
    "sentences_tag[0]"
   ]
  },
  {
   "cell_type": "code",
   "execution_count": 61,
   "metadata": {},
   "outputs": [
    {
     "data": {
      "text/plain": [
       "{'Adjective': '형용사',\n",
       " 'Adverb': '부사',\n",
       " 'Alpha': '알파벳',\n",
       " 'Conjunction': '접속사',\n",
       " 'Determiner': '관형사',\n",
       " 'Eomi': '어미',\n",
       " 'Exclamation': '감탄사',\n",
       " 'Foreign': '외국어, 한자 및 기타기호',\n",
       " 'Hashtag': '트위터 해쉬태그',\n",
       " 'Josa': '조사',\n",
       " 'KoreanParticle': '(ex: ㅋㅋ)',\n",
       " 'Noun': '명사',\n",
       " 'Number': '숫자',\n",
       " 'PreEomi': '선어말어미',\n",
       " 'Punctuation': '구두점',\n",
       " 'ScreenName': '트위터 아이디',\n",
       " 'Suffix': '접미사',\n",
       " 'Unknown': '미등록어',\n",
       " 'Verb': '동사'}"
      ]
     },
     "execution_count": 61,
     "metadata": {},
     "output_type": "execute_result"
    }
   ],
   "source": [
    "twitter.tagset"
   ]
  },
  {
   "cell_type": "markdown",
   "metadata": {},
   "source": [
    "### stopword 추가"
   ]
  },
  {
   "cell_type": "code",
   "execution_count": 62,
   "metadata": {},
   "outputs": [],
   "source": [
    "sw_df = pd.read_csv('stopwords.csv', header=None)"
   ]
  },
  {
   "cell_type": "code",
   "execution_count": 63,
   "metadata": {},
   "outputs": [],
   "source": [
    "sw_df.columns = ['stopword']"
   ]
  },
  {
   "cell_type": "code",
   "execution_count": 64,
   "metadata": {},
   "outputs": [],
   "source": [
    "stop_words = []\n",
    "for sw in sw_df['stopword']:\n",
    "    stop_words.append(sw)"
   ]
  },
  {
   "cell_type": "code",
   "execution_count": 65,
   "metadata": {},
   "outputs": [
    {
     "name": "stdout",
     "output_type": "stream",
     "text": [
      "675\n",
      "<class 'list'>\n"
     ]
    }
   ],
   "source": [
    "print(len(stop_words))\n",
    "print(type(stop_words))"
   ]
  },
  {
   "cell_type": "code",
   "execution_count": 66,
   "metadata": {},
   "outputs": [
    {
     "data": {
      "text/plain": [
       "['둘', '셋', '넷', '다섯', '여섯', '일곱', '여덟', '아홉', '령', '영']"
      ]
     },
     "execution_count": 66,
     "metadata": {},
     "output_type": "execute_result"
    }
   ],
   "source": [
    "stop_words[-10:]"
   ]
  },
  {
   "cell_type": "code",
   "execution_count": 67,
   "metadata": {},
   "outputs": [],
   "source": [
    "add_0 = []\n",
    "for w in add_0:\n",
    "    stop_words.append(w)"
   ]
  },
  {
   "cell_type": "code",
   "execution_count": 68,
   "metadata": {},
   "outputs": [
    {
     "data": {
      "text/plain": [
       "675"
      ]
     },
     "execution_count": 68,
     "metadata": {},
     "output_type": "execute_result"
    }
   ],
   "source": [
    "len(stop_words)"
   ]
  },
  {
   "cell_type": "code",
   "execution_count": 69,
   "metadata": {},
   "outputs": [
    {
     "data": {
      "text/plain": [
       "['진짜',\n",
       " '존나',\n",
       " '보고',\n",
       " '그냥',\n",
       " '카이',\n",
       " '이광수',\n",
       " '광수',\n",
       " '런닝맨',\n",
       " '❤️',\n",
       " '없는',\n",
       " '유재석',\n",
       " '❤',\n",
       " '♥',\n",
       " '있고']"
      ]
     },
     "execution_count": 69,
     "metadata": {},
     "output_type": "execute_result"
    }
   ],
   "source": [
    "['진짜', '존나', '보고', '그냥', '카이', '이광수', '광수', '런닝맨', '❤️', '없는', '유재석', '❤', '♥', '있고']"
   ]
  },
  {
   "cell_type": "markdown",
   "metadata": {},
   "source": [
    "### 1. 명사 혹은 형용사인 품사만 선별해 리스트에 담기"
   ]
  },
  {
   "cell_type": "code",
   "execution_count": 70,
   "metadata": {},
   "outputs": [],
   "source": [
    "noun_adj_list= []\n",
    "for sentence1 in sentences_tag:\n",
    "    for word, tag in sentence1:\n",
    "        if tag in ['Noun', 'Adjective', 'Alpha', 'Determiner', 'Foreign', 'Verb']:\n",
    "            if not word in stop_words:\n",
    "                noun_adj_list.append(word)"
   ]
  },
  {
   "cell_type": "code",
   "execution_count": 71,
   "metadata": {},
   "outputs": [
    {
     "data": {
      "text/plain": [
       "154977"
      ]
     },
     "execution_count": 71,
     "metadata": {},
     "output_type": "execute_result"
    }
   ],
   "source": [
    "len(noun_adj_list)"
   ]
  },
  {
   "cell_type": "code",
   "execution_count": 72,
   "metadata": {},
   "outputs": [
    {
     "data": {
      "text/plain": [
       "['좋은',\n",
       " '신',\n",
       " '제니',\n",
       " '제니',\n",
       " '금발머리',\n",
       " '외국인',\n",
       " '같아요',\n",
       " '존나',\n",
       " '예쁘다',\n",
       " '모르겠지만',\n",
       " '분위기',\n",
       " '엑소',\n",
       " '컴백',\n",
       " '티저',\n",
       " '비슷한거',\n",
       " '같아여',\n",
       " '결론',\n",
       " '좋음',\n",
       " '터키',\n",
       " '와주세요']"
      ]
     },
     "execution_count": 72,
     "metadata": {},
     "output_type": "execute_result"
    }
   ],
   "source": [
    "noun_adj_list[:20]"
   ]
  },
  {
   "cell_type": "code",
   "execution_count": 73,
   "metadata": {},
   "outputs": [
    {
     "data": {
      "text/plain": [
       "['좋은', '신', '제니', '제니', '금발머리', '외국인', '같아요', '존나', '예쁘다', '모르겠지만']"
      ]
     },
     "execution_count": 73,
     "metadata": {},
     "output_type": "execute_result"
    }
   ],
   "source": [
    "noun_adj_list[:10]"
   ]
  },
  {
   "cell_type": "code",
   "execution_count": 74,
   "metadata": {},
   "outputs": [],
   "source": [
    "ADFN_list= []\n",
    "for sentence1 in sentences_tag:\n",
    "    words = []\n",
    "    for word, tag in sentence1:\n",
    "        if tag in ['Adjective', 'Determiner','Foreign','Noun', 'Alpha', 'Verb']:\n",
    "            if word not in stop_words:\n",
    "                words.append(word)\n",
    "    ADFN_list.append(words)"
   ]
  },
  {
   "cell_type": "code",
   "execution_count": 75,
   "metadata": {},
   "outputs": [
    {
     "data": {
      "text/plain": [
       "351"
      ]
     },
     "execution_count": 75,
     "metadata": {},
     "output_type": "execute_result"
    }
   ],
   "source": [
    "len(ADFN_list)"
   ]
  },
  {
   "cell_type": "code",
   "execution_count": 76,
   "metadata": {},
   "outputs": [
    {
     "data": {
      "text/plain": [
       "['좋은',\n",
       " '신',\n",
       " '제니',\n",
       " '제니',\n",
       " '금발머리',\n",
       " '외국인',\n",
       " '같아요',\n",
       " '존나',\n",
       " '예쁘다',\n",
       " '모르겠지만',\n",
       " '분위기',\n",
       " '엑소',\n",
       " '컴백',\n",
       " '티저',\n",
       " '비슷한거',\n",
       " '같아여',\n",
       " '결론',\n",
       " '좋음',\n",
       " '터키',\n",
       " '와주세요',\n",
       " 'BLACKP',\n",
       " 'İ',\n",
       " 'NK',\n",
       " '아름다운',\n",
       " '금발',\n",
       " '머리',\n",
       " '가진',\n",
       " '제니',\n",
       " '효린',\n",
       " '인줄',\n",
       " '와우',\n",
       " '커널',\n",
       " '머리',\n",
       " '제니',\n",
       " '놀랍니다',\n",
       " '처음',\n",
       " '효린인줄',\n",
       " '완전',\n",
       " '기대',\n",
       " '제니',\n",
       " '금발',\n",
       " '앍',\n",
       " '제니',\n",
       " '금발',\n",
       " '미쳤어',\n",
       " '내',\n",
       " '심장',\n",
       " '터뜨려주거',\n",
       " '제니',\n",
       " '얼굴',\n",
       " '어쩌면',\n",
       " '엏',\n",
       " '세상',\n",
       " '제일',\n",
       " '존나',\n",
       " '예쁘다',\n",
       " '♡',\n",
       " '분위기',\n",
       " '미쳐',\n",
       " '써',\n",
       " '존나',\n",
       " '예쁘다',\n",
       " '그냥',\n",
       " '이쁘단',\n",
       " '말로',\n",
       " '모자람',\n",
       " '제니',\n",
       " '그냥',\n",
       " '여신',\n",
       " '이었어',\n",
       " '젠',\n",
       " '여신',\n",
       " '펑생',\n",
       " '떠받',\n",
       " '들고',\n",
       " '살게요',\n",
       " '김젠젠',\n",
       " '사랑',\n",
       " '해',\n",
       " '♡♡♡♡♡♡']"
      ]
     },
     "execution_count": 76,
     "metadata": {},
     "output_type": "execute_result"
    }
   ],
   "source": [
    "ADFN_list[0]"
   ]
  },
  {
   "cell_type": "code",
   "execution_count": 77,
   "metadata": {},
   "outputs": [],
   "source": [
    "tot_je['ADFN'] = ADFN_list"
   ]
  },
  {
   "cell_type": "code",
   "execution_count": null,
   "metadata": {},
   "outputs": [],
   "source": []
  },
  {
   "cell_type": "markdown",
   "metadata": {},
   "source": [
    "### 선별된 품사별 빈도수 계산 & 상위 빈도 10위까지 출력"
   ]
  },
  {
   "cell_type": "code",
   "execution_count": 78,
   "metadata": {
    "scrolled": true
   },
   "outputs": [
    {
     "name": "stdout",
     "output_type": "stream",
     "text": [
      "[('제니', 9276), ('진짜', 2984), ('BLACKPINK', 2640), ('귀엽다', 2144), ('예쁘다', 1817), ('해', 924), ('사람', 849), ('사랑', 805), ('거', 803), ('얼굴', 671), ('내', 629), ('존나', 626), ('하는', 609), ('영상', 590), ('더', 533), ('광고', 532), ('개', 511), ('언니', 508), ('말', 498), ('노래', 483), ('무대', 459), ('할', 452), ('보고', 451), ('넘', 434), ('매력', 423), ('한', 410), ('잘', 408), ('그냥', 404), ('수', 397), ('뭐', 391), ('아이돌', 381), ('옷', 367), ('생각', 337), ('젠득', 321), ('여자', 297), ('팬', 292), ('CHANEL', 288), ('실력', 283), ('걸', 282), ('있는', 281), ('안', 281), ('정말', 276), ('요', 275), ('데', 274), ('스타일', 273), ('영어', 270), ('느낌', 265), ('했다', 264), ('같은', 257), ('보면', 257), ('패션', 255), ('하고', 244), ('움', 243), ('임', 243), ('애', 239), ('앞머리', 238), ('눈', 229), ('난', 226), ('머리', 216), ('같음', 215), ('하면', 213), ('게', 212), ('듯', 211), ('스타', 209), ('예능', 209), ('지수', 206), ('카이', 204), ('리사', 202), ('랩', 202), ('처음', 199), ('♡', 199), ('모습', 198), ('춤', 193), ('완전', 192), ('헤어', 191), ('컬러', 191), ('해서', 188), ('같아', 187), ('중', 184), ('최고', 183), ('는', 182), ('정도', 179), ('표정', 178), ('목소리', 178), ('멤버', 175), ('지금', 174), ('좋은', 173), ('이광수', 173), ('공주', 172), ('발음', 172), ('연예인', 171), ('함', 168), ('사진', 168), ('봐도', 167), ('역시', 167), ('고급', 164), ('한다', 161), ('라이브', 161), ('광수', 161), ('치마', 160), ('자체', 158), ('댓글', 154), ('룩', 154), ('서', 151), ('오늘', 151), ('분위기', 150), ('항상', 150), ('로제', 150), ('도', 150), ('뭔가', 149), ('입덕', 149), ('입니다', 147), ('때문', 147), ('줄', 145), ('계속', 144), ('위', 143), ('아니라', 143), ('하는거', 143), ('런닝맨', 143), ('은', 142), ('세상', 139), ('알', 139), ('전', 138), ('제일', 137), ('분', 137), ('한국', 137), ('좋다', 137), ('인간', 135), ('썸네일', 133), ('의상', 131), ('번', 131), ('애기', 130), ('같은데', 130), ('연출', 128), ('레전드', 127), ('해도', 127), ('포인트', 127), ('부분', 126), ('없는', 125), ('두', 124), ('진심', 124), ('그녀', 123), ('블랙', 123), ('된', 123), ('건', 122), ('쿠마', 122), ('보', 121), ('보는', 121), ('외모', 121), ('티', 120), ('매치', 119), ('솔로', 116), ('날', 115), ('겁나', 114), ('멋있다', 114), ('나도', 114), ('요즘', 113), ('이제', 112), ('했는데', 112), ('일링', 111), ('앞', 111), ('하이', 111), ('마음', 110), ('그룹', 110), ('하는데', 108), ('다시', 108), ('가수', 107), ('웃기', 106), ('원래', 105), ('대', 105), ('메이크업', 104), ('레드', 104), ('소화', 103), ('하는게', 103), ('유재석', 103), ('코디', 102), ('YG', 102), ('워', 102), ('뭘', 102), ('좋겠다', 101), ('같아요', 100), ('합니다', 100), ('제발', 100), ('이유', 99), ('못', 99), ('솔직히', 99), ('많은', 98), ('하지', 98), ('고양이', 97), ('남자', 97), ('한번', 96), ('가장', 95), ('대박', 95), ('이름', 95), ('하게', 95), ('후', 94), ('미쳤다', 94), ('블링크', 94), ('누가', 94), ('이건', 93)]\n"
     ]
    }
   ],
   "source": [
    "word = Counter(noun_adj_list)\n",
    "print(word.most_common(200))"
   ]
  },
  {
   "cell_type": "code",
   "execution_count": 79,
   "metadata": {},
   "outputs": [],
   "source": [
    "# # 한 글자인 단어는 제외\n",
    "\n",
    "# for i, v in enumerate(noun_adj_list):\n",
    "#     if len(v)<2:\n",
    "#         noun_adj_list.pop(i)"
   ]
  },
  {
   "cell_type": "code",
   "execution_count": 80,
   "metadata": {},
   "outputs": [],
   "source": [
    "count = Counter(noun_adj_list)"
   ]
  },
  {
   "cell_type": "code",
   "execution_count": 81,
   "metadata": {},
   "outputs": [
    {
     "name": "stdout",
     "output_type": "stream",
     "text": [
      "('제니', 9276)\n",
      "('진짜', 2984)\n",
      "('BLACKPINK', 2640)\n",
      "('귀엽다', 2144)\n",
      "('예쁘다', 1817)\n",
      "('해', 924)\n",
      "('사람', 849)\n",
      "('사랑', 805)\n",
      "('거', 803)\n",
      "('얼굴', 671)\n",
      "('내', 629)\n",
      "('존나', 626)\n",
      "('하는', 609)\n",
      "('영상', 590)\n",
      "('더', 533)\n",
      "('광고', 532)\n",
      "('개', 511)\n",
      "('언니', 508)\n",
      "('말', 498)\n",
      "('노래', 483)\n",
      "('무대', 459)\n",
      "('할', 452)\n",
      "('보고', 451)\n",
      "('넘', 434)\n",
      "('매력', 423)\n",
      "('한', 410)\n",
      "('잘', 408)\n",
      "('그냥', 404)\n",
      "('수', 397)\n",
      "('뭐', 391)\n",
      "('아이돌', 381)\n",
      "('옷', 367)\n",
      "('생각', 337)\n",
      "('젠득', 321)\n",
      "('여자', 297)\n",
      "('팬', 292)\n",
      "('CHANEL', 288)\n",
      "('실력', 283)\n",
      "('걸', 282)\n",
      "('있는', 281)\n",
      "('안', 281)\n",
      "('정말', 276)\n",
      "('요', 275)\n",
      "('데', 274)\n",
      "('스타일', 273)\n",
      "('영어', 270)\n",
      "('느낌', 265)\n",
      "('했다', 264)\n",
      "('같은', 257)\n",
      "('보면', 257)\n",
      "('패션', 255)\n",
      "('하고', 244)\n",
      "('움', 243)\n",
      "('임', 243)\n",
      "('애', 239)\n",
      "('앞머리', 238)\n",
      "('눈', 229)\n",
      "('난', 226)\n",
      "('머리', 216)\n",
      "('같음', 215)\n",
      "('하면', 213)\n",
      "('게', 212)\n",
      "('듯', 211)\n",
      "('스타', 209)\n",
      "('예능', 209)\n",
      "('지수', 206)\n",
      "('카이', 204)\n",
      "('리사', 202)\n",
      "('랩', 202)\n",
      "('처음', 199)\n",
      "('♡', 199)\n",
      "('모습', 198)\n",
      "('춤', 193)\n",
      "('완전', 192)\n",
      "('헤어', 191)\n",
      "('컬러', 191)\n",
      "('해서', 188)\n",
      "('같아', 187)\n",
      "('중', 184)\n",
      "('최고', 183)\n",
      "('는', 182)\n",
      "('정도', 179)\n",
      "('표정', 178)\n",
      "('목소리', 178)\n",
      "('멤버', 175)\n",
      "('지금', 174)\n",
      "('좋은', 173)\n",
      "('이광수', 173)\n",
      "('공주', 172)\n",
      "('발음', 172)\n",
      "('연예인', 171)\n",
      "('함', 168)\n",
      "('사진', 168)\n",
      "('봐도', 167)\n",
      "('역시', 167)\n",
      "('고급', 164)\n",
      "('한다', 161)\n",
      "('라이브', 161)\n",
      "('광수', 161)\n",
      "('치마', 160)\n",
      "('자체', 158)\n",
      "('댓글', 154)\n",
      "('룩', 154)\n",
      "('서', 151)\n",
      "('오늘', 151)\n",
      "('분위기', 150)\n",
      "('항상', 150)\n",
      "('로제', 150)\n",
      "('도', 150)\n",
      "('뭔가', 149)\n",
      "('입덕', 149)\n",
      "('입니다', 147)\n",
      "('때문', 147)\n",
      "('줄', 145)\n",
      "('계속', 144)\n",
      "('위', 143)\n",
      "('아니라', 143)\n",
      "('하는거', 143)\n",
      "('런닝맨', 143)\n",
      "('은', 142)\n",
      "('세상', 139)\n",
      "('알', 139)\n",
      "('전', 138)\n",
      "('제일', 137)\n",
      "('분', 137)\n",
      "('한국', 137)\n",
      "('좋다', 137)\n",
      "('인간', 135)\n",
      "('썸네일', 133)\n",
      "('의상', 131)\n",
      "('번', 131)\n",
      "('애기', 130)\n",
      "('같은데', 130)\n",
      "('연출', 128)\n",
      "('레전드', 127)\n",
      "('해도', 127)\n",
      "('포인트', 127)\n",
      "('부분', 126)\n",
      "('없는', 125)\n",
      "('두', 124)\n",
      "('진심', 124)\n",
      "('그녀', 123)\n",
      "('블랙', 123)\n",
      "('된', 123)\n",
      "('건', 122)\n",
      "('쿠마', 122)\n",
      "('보', 121)\n",
      "('보는', 121)\n",
      "('외모', 121)\n",
      "('티', 120)\n",
      "('매치', 119)\n",
      "('솔로', 116)\n",
      "('날', 115)\n",
      "('겁나', 114)\n",
      "('멋있다', 114)\n",
      "('나도', 114)\n",
      "('요즘', 113)\n",
      "('이제', 112)\n",
      "('했는데', 112)\n",
      "('일링', 111)\n",
      "('앞', 111)\n",
      "('하이', 111)\n",
      "('마음', 110)\n",
      "('그룹', 110)\n",
      "('하는데', 108)\n",
      "('다시', 108)\n",
      "('가수', 107)\n",
      "('웃기', 106)\n",
      "('원래', 105)\n",
      "('대', 105)\n",
      "('메이크업', 104)\n",
      "('레드', 104)\n",
      "('소화', 103)\n",
      "('하는게', 103)\n",
      "('유재석', 103)\n",
      "('코디', 102)\n",
      "('YG', 102)\n",
      "('워', 102)\n",
      "('뭘', 102)\n",
      "('좋겠다', 101)\n",
      "('같아요', 100)\n",
      "('합니다', 100)\n",
      "('제발', 100)\n",
      "('이유', 99)\n",
      "('못', 99)\n",
      "('솔직히', 99)\n",
      "('많은', 98)\n",
      "('하지', 98)\n",
      "('고양이', 97)\n",
      "('남자', 97)\n",
      "('한번', 96)\n",
      "('가장', 95)\n",
      "('대박', 95)\n",
      "('이름', 95)\n",
      "('하게', 95)\n",
      "('후', 94)\n",
      "('미쳤다', 94)\n",
      "('블링크', 94)\n",
      "('누가', 94)\n",
      "('이건', 93)\n"
     ]
    }
   ],
   "source": [
    "word_list = count.most_common(200)\n",
    "for v in word_list:\n",
    "    print(v)"
   ]
  },
  {
   "cell_type": "code",
   "execution_count": null,
   "metadata": {},
   "outputs": [],
   "source": []
  },
  {
   "cell_type": "markdown",
   "metadata": {},
   "source": [
    "## 워드클라우드 만들기"
   ]
  },
  {
   "cell_type": "code",
   "execution_count": 82,
   "metadata": {},
   "outputs": [],
   "source": [
    "\n",
    "import matplotlib.pyplot as plt"
   ]
  },
  {
   "cell_type": "markdown",
   "metadata": {},
   "source": [
    "### 패키지 설치 및 폰트 어쩌구"
   ]
  },
  {
   "cell_type": "code",
   "execution_count": 83,
   "metadata": {},
   "outputs": [
    {
     "name": "stdout",
     "output_type": "stream",
     "text": [
      "Malgun Gothic C:\\WINDOWS\\Fonts\\malgun.ttf\n",
      "Yu Gothic C:\\WINDOWS\\Fonts\\YuGothB.ttc\n",
      "HYGothic-Extra C:\\WINDOWS\\Fonts\\H2GTRE.TTF\n",
      "Franklin Gothic Medium C:\\WINDOWS\\Fonts\\framdit.ttf\n",
      "Malgun Gothic C:\\Windows\\Fonts\\malgunbd.ttf\n",
      "Yu Gothic C:\\Windows\\Fonts\\YuGothL.ttc\n",
      "Century Gothic C:\\Windows\\Fonts\\GOTHIC.TTF\n",
      "Yu Gothic C:\\Windows\\Fonts\\YuGothM.ttc\n",
      "Yu Gothic C:\\WINDOWS\\Fonts\\YuGothR.ttc\n",
      "MS Gothic C:\\WINDOWS\\Fonts\\msgothic.ttc\n",
      "HYGothic-Medium C:\\WINDOWS\\Fonts\\H2GTRM.TTF\n",
      "Malgun Gothic C:\\WINDOWS\\Fonts\\malgunsl.ttf\n",
      "Century Gothic C:\\Windows\\Fonts\\GOTHICI.TTF\n",
      "Century Gothic C:\\WINDOWS\\Fonts\\GOTHICBI.TTF\n",
      "Century Gothic C:\\Windows\\Fonts\\GOTHICB.TTF\n",
      "Franklin Gothic Medium C:\\WINDOWS\\Fonts\\framd.ttf\n"
     ]
    }
   ],
   "source": [
    "import matplotlib.font_manager as fm\n",
    "\n",
    "# 이용 가능한 폰트 중 '고딕'만 선별\n",
    "for font in fm.fontManager.ttflist:\n",
    "    if 'Gothic' in font.name:\n",
    "        print(font.name, font.fname)"
   ]
  },
  {
   "cell_type": "code",
   "execution_count": 84,
   "metadata": {},
   "outputs": [],
   "source": [
    "font_path = 'C:\\WINDOWS\\Fonts\\malgun.ttf'"
   ]
  },
  {
   "cell_type": "markdown",
   "metadata": {},
   "source": [
    "### wordcloud 그리기"
   ]
  },
  {
   "cell_type": "code",
   "execution_count": 85,
   "metadata": {},
   "outputs": [],
   "source": [
    "from wordcloud import WordCloud"
   ]
  },
  {
   "cell_type": "code",
   "execution_count": 86,
   "metadata": {},
   "outputs": [],
   "source": [
    "wc = WordCloud(font_path=font_path, background_color=\"white\", width=600, height=400)"
   ]
  },
  {
   "cell_type": "code",
   "execution_count": 87,
   "metadata": {},
   "outputs": [
    {
     "data": {
      "image/png": "[encoded data removed]",
      "text/plain": [
       "<Figure size 432x288 with 1 Axes>"
      ]
     },
     "metadata": {
      "needs_background": "light"
     },
     "output_type": "display_data"
    },
    {
     "data": {
      "text/plain": [
       "<wordcloud.wordcloud.WordCloud at 0x210a5145688>"
      ]
     },
     "execution_count": 87,
     "metadata": {},
     "output_type": "execute_result"
    }
   ],
   "source": [
    "wc.generate_from_frequencies(dict(word_list))\n",
    "\n",
    "plt.imshow(wc) \n",
    "plt.axis('off') \n",
    "plt.show()\n",
    "\n",
    "\n",
    "wc.to_file('tot_jenny_adj_twitter.png')"
   ]
  },
  {
   "cell_type": "code",
   "execution_count": null,
   "metadata": {},
   "outputs": [],
   "source": []
  },
  {
   "cell_type": "code",
   "execution_count": 40,
   "metadata": {},
   "outputs": [],
   "source": [
    "# you_je.to_csv('./magazine/final/you_je_adfn.csv', sep='|', index = False, encoding = 'utf-8')"
   ]
  },
  {
   "cell_type": "code",
   "execution_count": 88,
   "metadata": {},
   "outputs": [],
   "source": [
    "tot_je.to_csv('./magazine/final/video_je_adfn.csv', sep='|', index = False, encoding = 'utf-8')"
   ]
  },
  {
   "cell_type": "code",
   "execution_count": null,
   "metadata": {},
   "outputs": [],
   "source": []
  },
  {
   "cell_type": "code",
   "execution_count": 46,
   "metadata": {},
   "outputs": [],
   "source": [
    "jennytop200 = pd.DataFrame(word_list)"
   ]
  },
  {
   "cell_type": "code",
   "execution_count": 48,
   "metadata": {},
   "outputs": [],
   "source": [
    "jennytop200.columns = ['word', 'count']"
   ]
  },
  {
   "cell_type": "code",
   "execution_count": 49,
   "metadata": {},
   "outputs": [
    {
     "data": {
      "text/html": [
       "<div>\n",
       "<style scoped>\n",
       "    .dataframe tbody tr th:only-of-type {\n",
       "        vertical-align: middle;\n",
       "    }\n",
       "\n",
       "    .dataframe tbody tr th {\n",
       "        vertical-align: top;\n",
       "    }\n",
       "\n",
       "    .dataframe thead th {\n",
       "        text-align: right;\n",
       "    }\n",
       "</style>\n",
       "<table border=\"1\" class=\"dataframe\">\n",
       "  <thead>\n",
       "    <tr style=\"text-align: right;\">\n",
       "      <th></th>\n",
       "      <th>word</th>\n",
       "      <th>count</th>\n",
       "    </tr>\n",
       "  </thead>\n",
       "  <tbody>\n",
       "    <tr>\n",
       "      <th>0</th>\n",
       "      <td>제니</td>\n",
       "      <td>748</td>\n",
       "    </tr>\n",
       "    <tr>\n",
       "      <th>1</th>\n",
       "      <td>BLACKPINK</td>\n",
       "      <td>327</td>\n",
       "    </tr>\n",
       "    <tr>\n",
       "      <th>2</th>\n",
       "      <td>스타일</td>\n",
       "      <td>197</td>\n",
       "    </tr>\n",
       "    <tr>\n",
       "      <th>3</th>\n",
       "      <td>패션</td>\n",
       "      <td>192</td>\n",
       "    </tr>\n",
       "    <tr>\n",
       "      <th>4</th>\n",
       "      <td>컬러</td>\n",
       "      <td>187</td>\n",
       "    </tr>\n",
       "    <tr>\n",
       "      <th>...</th>\n",
       "      <td>...</td>\n",
       "      <td>...</td>\n",
       "    </tr>\n",
       "    <tr>\n",
       "      <th>195</th>\n",
       "      <td>지난</td>\n",
       "      <td>22</td>\n",
       "    </tr>\n",
       "    <tr>\n",
       "      <th>196</th>\n",
       "      <td>국제공항</td>\n",
       "      <td>22</td>\n",
       "    </tr>\n",
       "    <tr>\n",
       "      <th>197</th>\n",
       "      <td>뒤</td>\n",
       "      <td>21</td>\n",
       "    </tr>\n",
       "    <tr>\n",
       "      <th>198</th>\n",
       "      <td>준</td>\n",
       "      <td>21</td>\n",
       "    </tr>\n",
       "    <tr>\n",
       "      <th>199</th>\n",
       "      <td>사용</td>\n",
       "      <td>21</td>\n",
       "    </tr>\n",
       "  </tbody>\n",
       "</table>\n",
       "<p>200 rows × 2 columns</p>\n",
       "</div>"
      ],
      "text/plain": [
       "          word  count\n",
       "0           제니    748\n",
       "1    BLACKPINK    327\n",
       "2          스타일    197\n",
       "3           패션    192\n",
       "4           컬러    187\n",
       "..         ...    ...\n",
       "195         지난     22\n",
       "196       국제공항     22\n",
       "197          뒤     21\n",
       "198          준     21\n",
       "199         사용     21\n",
       "\n",
       "[200 rows x 2 columns]"
      ]
     },
     "execution_count": 49,
     "metadata": {},
     "output_type": "execute_result"
    }
   ],
   "source": [
    "jennytop200"
   ]
  },
  {
   "cell_type": "code",
   "execution_count": 51,
   "metadata": {},
   "outputs": [],
   "source": [
    "jennytop200.to_csv('./magazine/final/jennytop200.csv', sep='|', encoding = 'utf-8', index = False)"
   ]
  },
  {
   "cell_type": "code",
   "execution_count": null,
   "metadata": {},
   "outputs": [],
   "source": []
  },
  {
   "cell_type": "code",
   "execution_count": null,
   "metadata": {},
   "outputs": [],
   "source": []
  },
  {
   "cell_type": "code",
   "execution_count": null,
   "metadata": {},
   "outputs": [],
   "source": []
  },
  {
   "cell_type": "code",
   "execution_count": null,
   "metadata": {},
   "outputs": [],
   "source": []
  },
  {
   "cell_type": "code",
   "execution_count": null,
   "metadata": {},
   "outputs": [],
   "source": []
  }
 ],
 "metadata": {
  "kernelspec": {
   "display_name": "Python 3",
   "language": "python",
   "name": "python3"
  },
  "language_info": {
   "codemirror_mode": {
    "name": "ipython",
    "version": 3
   },
   "file_extension": ".py",
   "mimetype": "text/x-python",
   "name": "python",
   "nbconvert_exporter": "python",
   "pygments_lexer": "ipython3",
   "version": "3.7.6"
  }
 },
 "nbformat": 4,
 "nbformat_minor": 2
}
