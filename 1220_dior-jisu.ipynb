{
 "cells": [
  {
   "cell_type": "code",
   "execution_count": 15,
   "metadata": {},
   "outputs": [],
   "source": [
    "import pandas as pd\n",
    "import numpy as np\n",
    "import re\n",
    "import networkx as nx\n",
    "import matplotlib.pyplot as plt"
   ]
  },
  {
   "cell_type": "code",
   "execution_count": 16,
   "metadata": {},
   "outputs": [],
   "source": [
    "from collections import Counter"
   ]
  },
  {
   "cell_type": "markdown",
   "metadata": {},
   "source": [
    "## 디올"
   ]
  },
  {
   "cell_type": "code",
   "execution_count": 17,
   "metadata": {},
   "outputs": [],
   "source": [
    "mag_d = pd.read_csv('./magazine/final/magazine_d_stickword.csv', sep ='|', encoding = 'utf-8')"
   ]
  },
  {
   "cell_type": "code",
   "execution_count": 18,
   "metadata": {},
   "outputs": [
    {
     "data": {
      "text/html": [
       "<div>\n",
       "<style scoped>\n",
       "    .dataframe tbody tr th:only-of-type {\n",
       "        vertical-align: middle;\n",
       "    }\n",
       "\n",
       "    .dataframe tbody tr th {\n",
       "        vertical-align: top;\n",
       "    }\n",
       "\n",
       "    .dataframe thead th {\n",
       "        text-align: right;\n",
       "    }\n",
       "</style>\n",
       "<table border=\"1\" class=\"dataframe\">\n",
       "  <thead>\n",
       "    <tr style=\"text-align: right;\">\n",
       "      <th></th>\n",
       "      <th>magazine</th>\n",
       "      <th>brand</th>\n",
       "      <th>title</th>\n",
       "      <th>link</th>\n",
       "      <th>date</th>\n",
       "      <th>word_dior</th>\n",
       "      <th>ADFN</th>\n",
       "      <th>ADFN_2</th>\n",
       "    </tr>\n",
       "  </thead>\n",
       "  <tbody>\n",
       "    <tr>\n",
       "      <th>0</th>\n",
       "      <td>A</td>\n",
       "      <td>D</td>\n",
       "      <td>빈티지 쇼핑의 시대</td>\n",
       "      <td>http://www.allurekorea.com/2020/10/27/%eb%b9%8...</td>\n",
       "      <td>2020-10-27</td>\n",
       "      <td>['그러니 빈티지 패션은, 어쩌면 나도 좋고 너도 좋은 일이다. 당시 사랑했던, 지...</td>\n",
       "      <td>['빈티지', '패션', '좋', '느', '좋', '당시', '사랑', '사랑',...</td>\n",
       "      <td>['빈티지', '패션', '좋', '느', '좋', '당시', '사랑', '사랑',...</td>\n",
       "    </tr>\n",
       "    <tr>\n",
       "      <th>1</th>\n",
       "      <td>A</td>\n",
       "      <td>D</td>\n",
       "      <td>주식을 시작한 패션 에디터의 이야기, 나는 주주다</td>\n",
       "      <td>http://www.allurekorea.com/2020/10/16/%ec%a3%b...</td>\n",
       "      <td>2020-10-16</td>\n",
       "      <td>['  요즘 들어 주식은 친구들과의 대화에서 빼놓을 수 없는 주제가 되었다. 코로나...</td>\n",
       "      <td>['요즘', '주식', '친구', '과의', '대화', '빼놓', '주제', '코로...</td>\n",
       "      <td>['요즘', '주식', '친구', '과의', '대화', '빼놓', '주제', '코로...</td>\n",
       "    </tr>\n",
       "    <tr>\n",
       "      <th>2</th>\n",
       "      <td>A</td>\n",
       "      <td>D</td>\n",
       "      <td>거리로 나온 하이패션 슈즈들 4</td>\n",
       "      <td>http://www.allurekorea.com/2020/09/16/%eb%a6%a...</td>\n",
       "      <td>2020-09-16</td>\n",
       "      <td>[\"['나이키의 조던 시리즈들 중에서도 역대급으로 평가받는 ‘에어 디올’은 부르는 ...</td>\n",
       "      <td>['나이', '조', '덜', '시리즈', '역대', '급', '평가', '에어',...</td>\n",
       "      <td>['나이', '조', '덜', '시리즈', '역대', '급', '평가', '에어',...</td>\n",
       "    </tr>\n",
       "    <tr>\n",
       "      <th>3</th>\n",
       "      <td>A</td>\n",
       "      <td>D</td>\n",
       "      <td>차정원부터 아이린까지. 옷 잘입는 셀럽들의 사복 패션에 등장한 뉴 백은 무엇?</td>\n",
       "      <td>http://www.allurekorea.com/2020/08/13/%ec%b0%a...</td>\n",
       "      <td>2020-08-13</td>\n",
       "      <td>['디올 레이디 디올 디올아무르 미니백 5백만원대']</td>\n",
       "      <td>['DIOR', 'LADY', 'DIOR', 'DIOR', '아무르', '미니']</td>\n",
       "      <td>['DIOR', 'LADY', 'DIOR', 'DIOR', '아무르', '미니']</td>\n",
       "    </tr>\n",
       "    <tr>\n",
       "      <th>4</th>\n",
       "      <td>A</td>\n",
       "      <td>D</td>\n",
       "      <td>DON’T CATEGORIZE ME / 유태오</td>\n",
       "      <td>http://www.allurekorea.com/2020/05/28/dont-cat...</td>\n",
       "      <td>2020-05-28</td>\n",
       "      <td>['실크 슬리브리스와 블랙 와이드 팬츠는 김서룡 옴므. 블랙 부츠는 보테가 베네타....</td>\n",
       "      <td>['실크', '슬리브리스', '블랙', '와이드', '팬츠', '김', '룡', '...</td>\n",
       "      <td>['실크', '슬리브리스', '블랙', '와이드', '팬츠', '김', '룡', '...</td>\n",
       "    </tr>\n",
       "    <tr>\n",
       "      <th>...</th>\n",
       "      <td>...</td>\n",
       "      <td>...</td>\n",
       "      <td>...</td>\n",
       "      <td>...</td>\n",
       "      <td>...</td>\n",
       "      <td>...</td>\n",
       "      <td>...</td>\n",
       "      <td>...</td>\n",
       "    </tr>\n",
       "    <tr>\n",
       "      <th>1754</th>\n",
       "      <td>W</td>\n",
       "      <td>D</td>\n",
       "      <td>가을의 하이킹</td>\n",
       "      <td>http://www.wkorea.com/2016/09/05/%ea%b0%80%ec%...</td>\n",
       "      <td>2016-09-05</td>\n",
       "      <td>['6. 주얼 장식과 앙증맞은 리본이 반전의 매력을 더하는 부츠는 디올 제품. 1백...</td>\n",
       "      <td>['얼', '장식', '앙증맞', '리본', '반전', '매력', '부츠', 'DI...</td>\n",
       "      <td>['얼', '장식', '앙증맞', '리본', '반전', '매력', '부츠', 'DI...</td>\n",
       "    </tr>\n",
       "    <tr>\n",
       "      <th>1755</th>\n",
       "      <td>W</td>\n",
       "      <td>D</td>\n",
       "      <td>W해시태그</td>\n",
       "      <td>http://www.wkorea.com/2016/09/02/w%ed%95%b4%ec...</td>\n",
       "      <td>2016-09-02</td>\n",
       "      <td>['#W뷰티콕  (뷰티 디렉터 송시은)\\\\n조회 2,023회\\\\n너무나 뜨거운 여름...</td>\n",
       "      <td>['W', '뷰티', '콕', '뷰티', '디렉터', '송', '시은', '조회',...</td>\n",
       "      <td>['W', '뷰티', '콕', '뷰티', '디렉터', '송', '시은', '조회',...</td>\n",
       "    </tr>\n",
       "    <tr>\n",
       "      <th>1756</th>\n",
       "      <td>W</td>\n",
       "      <td>D</td>\n",
       "      <td>마법의 색</td>\n",
       "      <td>http://www.wkorea.com/2016/09/02/%eb%a7%88%eb%...</td>\n",
       "      <td>2016-09-02</td>\n",
       "      <td>[\"'크리스찬 디올에게 초록은 곧 ‘자연’을, 빨강은 ‘생명’을, 분홍은 ‘감미로움...</td>\n",
       "      <td>['CHRISTIAN', 'DIOR', '초록', '자연', '빨강', '생명', ...</td>\n",
       "      <td>['CHRISTIAN', 'DIOR', '초록', '자연', '빨강', '생명', ...</td>\n",
       "    </tr>\n",
       "    <tr>\n",
       "      <th>1757</th>\n",
       "      <td>W</td>\n",
       "      <td>D</td>\n",
       "      <td>따로 또 같이</td>\n",
       "      <td>http://www.wkorea.com/2016/09/02/%eb%94%b0%eb%...</td>\n",
       "      <td>2016-09-02</td>\n",
       "      <td>['자수 장식 슈트, 실크 셔츠에 리본 타이를 연출한 구찌, 남성다운 검정 테일러드...</td>\n",
       "      <td>['자수', '장식', '슈트', '실크', '셔츠', '리본', '타이', '남성...</td>\n",
       "      <td>['자수', '장식', '슈트', '실크', '셔츠', '리본', '타이', '남성...</td>\n",
       "    </tr>\n",
       "    <tr>\n",
       "      <th>1758</th>\n",
       "      <td>W</td>\n",
       "      <td>D</td>\n",
       "      <td>너도 나도 베트멍</td>\n",
       "      <td>http://www.wkorea.com/2016/09/01/%eb%84%88%eb%...</td>\n",
       "      <td>2016-09-01</td>\n",
       "      <td>['리하나\\\\n나이 만28세\\\\n직업 가수, 디자이너, 패셔니스타, 배드 걸\\\\n평...</td>\n",
       "      <td>['나이', '직업', '가수', '디자이너', '패', '니스', '배드', '걸...</td>\n",
       "      <td>['나이', '직업', '가수', '디자이너', '패', '니스', '배드', '걸...</td>\n",
       "    </tr>\n",
       "  </tbody>\n",
       "</table>\n",
       "<p>1759 rows × 8 columns</p>\n",
       "</div>"
      ],
      "text/plain": [
       "     magazine brand                                        title  \\\n",
       "0           A     D                                   빈티지 쇼핑의 시대   \n",
       "1           A     D                  주식을 시작한 패션 에디터의 이야기, 나는 주주다   \n",
       "2           A     D                            거리로 나온 하이패션 슈즈들 4   \n",
       "3           A     D  차정원부터 아이린까지. 옷 잘입는 셀럽들의 사복 패션에 등장한 뉴 백은 무엇?   \n",
       "4           A     D                    DON’T CATEGORIZE ME / 유태오   \n",
       "...       ...   ...                                          ...   \n",
       "1754        W     D                                      가을의 하이킹   \n",
       "1755        W     D                                        W해시태그   \n",
       "1756        W     D                                        마법의 색   \n",
       "1757        W     D                                      따로 또 같이   \n",
       "1758        W     D                                    너도 나도 베트멍   \n",
       "\n",
       "                                                   link        date  \\\n",
       "0     http://www.allurekorea.com/2020/10/27/%eb%b9%8...  2020-10-27   \n",
       "1     http://www.allurekorea.com/2020/10/16/%ec%a3%b...  2020-10-16   \n",
       "2     http://www.allurekorea.com/2020/09/16/%eb%a6%a...  2020-09-16   \n",
       "3     http://www.allurekorea.com/2020/08/13/%ec%b0%a...  2020-08-13   \n",
       "4     http://www.allurekorea.com/2020/05/28/dont-cat...  2020-05-28   \n",
       "...                                                 ...         ...   \n",
       "1754  http://www.wkorea.com/2016/09/05/%ea%b0%80%ec%...  2016-09-05   \n",
       "1755  http://www.wkorea.com/2016/09/02/w%ed%95%b4%ec...  2016-09-02   \n",
       "1756  http://www.wkorea.com/2016/09/02/%eb%a7%88%eb%...  2016-09-02   \n",
       "1757  http://www.wkorea.com/2016/09/02/%eb%94%b0%eb%...  2016-09-02   \n",
       "1758  http://www.wkorea.com/2016/09/01/%eb%84%88%eb%...  2016-09-01   \n",
       "\n",
       "                                              word_dior  \\\n",
       "0     ['그러니 빈티지 패션은, 어쩌면 나도 좋고 너도 좋은 일이다. 당시 사랑했던, 지...   \n",
       "1     ['  요즘 들어 주식은 친구들과의 대화에서 빼놓을 수 없는 주제가 되었다. 코로나...   \n",
       "2     [\"['나이키의 조던 시리즈들 중에서도 역대급으로 평가받는 ‘에어 디올’은 부르는 ...   \n",
       "3                         ['디올 레이디 디올 디올아무르 미니백 5백만원대']   \n",
       "4     ['실크 슬리브리스와 블랙 와이드 팬츠는 김서룡 옴므. 블랙 부츠는 보테가 베네타....   \n",
       "...                                                 ...   \n",
       "1754  ['6. 주얼 장식과 앙증맞은 리본이 반전의 매력을 더하는 부츠는 디올 제품. 1백...   \n",
       "1755  ['#W뷰티콕  (뷰티 디렉터 송시은)\\\\n조회 2,023회\\\\n너무나 뜨거운 여름...   \n",
       "1756  [\"'크리스찬 디올에게 초록은 곧 ‘자연’을, 빨강은 ‘생명’을, 분홍은 ‘감미로움...   \n",
       "1757  ['자수 장식 슈트, 실크 셔츠에 리본 타이를 연출한 구찌, 남성다운 검정 테일러드...   \n",
       "1758  ['리하나\\\\n나이 만28세\\\\n직업 가수, 디자이너, 패셔니스타, 배드 걸\\\\n평...   \n",
       "\n",
       "                                                   ADFN  \\\n",
       "0     ['빈티지', '패션', '좋', '느', '좋', '당시', '사랑', '사랑',...   \n",
       "1     ['요즘', '주식', '친구', '과의', '대화', '빼놓', '주제', '코로...   \n",
       "2     ['나이', '조', '덜', '시리즈', '역대', '급', '평가', '에어',...   \n",
       "3         ['DIOR', 'LADY', 'DIOR', 'DIOR', '아무르', '미니']   \n",
       "4     ['실크', '슬리브리스', '블랙', '와이드', '팬츠', '김', '룡', '...   \n",
       "...                                                 ...   \n",
       "1754  ['얼', '장식', '앙증맞', '리본', '반전', '매력', '부츠', 'DI...   \n",
       "1755  ['W', '뷰티', '콕', '뷰티', '디렉터', '송', '시은', '조회',...   \n",
       "1756  ['CHRISTIAN', 'DIOR', '초록', '자연', '빨강', '생명', ...   \n",
       "1757  ['자수', '장식', '슈트', '실크', '셔츠', '리본', '타이', '남성...   \n",
       "1758  ['나이', '직업', '가수', '디자이너', '패', '니스', '배드', '걸...   \n",
       "\n",
       "                                                 ADFN_2  \n",
       "0     ['빈티지', '패션', '좋', '느', '좋', '당시', '사랑', '사랑',...  \n",
       "1     ['요즘', '주식', '친구', '과의', '대화', '빼놓', '주제', '코로...  \n",
       "2     ['나이', '조', '덜', '시리즈', '역대', '급', '평가', '에어',...  \n",
       "3         ['DIOR', 'LADY', 'DIOR', 'DIOR', '아무르', '미니']  \n",
       "4     ['실크', '슬리브리스', '블랙', '와이드', '팬츠', '김', '룡', '...  \n",
       "...                                                 ...  \n",
       "1754  ['얼', '장식', '앙증맞', '리본', '반전', '매력', '부츠', 'DI...  \n",
       "1755  ['W', '뷰티', '콕', '뷰티', '디렉터', '송', '시은', '조회',...  \n",
       "1756  ['CHRISTIAN', 'DIOR', '초록', '자연', '빨강', '생명', ...  \n",
       "1757  ['자수', '장식', '슈트', '실크', '셔츠', '리본', '타이', '남성...  \n",
       "1758  ['나이', '직업', '가수', '디자이너', '패', '니스', '배드', '걸...  \n",
       "\n",
       "[1759 rows x 8 columns]"
      ]
     },
     "execution_count": 18,
     "metadata": {},
     "output_type": "execute_result"
    }
   ],
   "source": [
    "mag_d"
   ]
  },
  {
   "cell_type": "code",
   "execution_count": 19,
   "metadata": {},
   "outputs": [],
   "source": [
    "mag_d['word'] = mag_d['word_dior']"
   ]
  },
  {
   "cell_type": "code",
   "execution_count": 20,
   "metadata": {},
   "outputs": [],
   "source": [
    "mag_D = mag_d[['magazine', 'brand', 'title', 'word', 'ADFN', 'ADFN_2']]"
   ]
  },
  {
   "cell_type": "code",
   "execution_count": 21,
   "metadata": {},
   "outputs": [
    {
     "data": {
      "text/plain": [
       "1759"
      ]
     },
     "execution_count": 21,
     "metadata": {},
     "output_type": "execute_result"
    }
   ],
   "source": [
    "len(mag_D)"
   ]
  },
  {
   "cell_type": "markdown",
   "metadata": {},
   "source": [
    "### 5"
   ]
  },
  {
   "cell_type": "code",
   "execution_count": 18,
   "metadata": {},
   "outputs": [],
   "source": [
    "idx5 = []\n",
    "for i in range(len(mag_D)):\n",
    "    if i % 5 == 0 :\n",
    "        idx5.append(i)"
   ]
  },
  {
   "cell_type": "code",
   "execution_count": 19,
   "metadata": {},
   "outputs": [],
   "source": [
    "mag_D5 = mag_D.loc[idx5]"
   ]
  },
  {
   "cell_type": "code",
   "execution_count": 21,
   "metadata": {},
   "outputs": [
    {
     "data": {
      "text/plain": [
       "352"
      ]
     },
     "execution_count": 21,
     "metadata": {},
     "output_type": "execute_result"
    }
   ],
   "source": [
    "len(mag_D5)"
   ]
  },
  {
   "cell_type": "code",
   "execution_count": 20,
   "metadata": {},
   "outputs": [],
   "source": [
    "mag_D5.reset_index(drop = True, inplace = True)"
   ]
  },
  {
   "cell_type": "markdown",
   "metadata": {},
   "source": [
    "### 9"
   ]
  },
  {
   "cell_type": "code",
   "execution_count": 22,
   "metadata": {},
   "outputs": [],
   "source": [
    "idx9 = []\n",
    "for i in range(len(mag_D)):\n",
    "    if i % 9 == 0 :\n",
    "        idx9.append(i)"
   ]
  },
  {
   "cell_type": "code",
   "execution_count": 23,
   "metadata": {},
   "outputs": [],
   "source": [
    "mag_D9 = mag_D.loc[idx9]"
   ]
  },
  {
   "cell_type": "code",
   "execution_count": 24,
   "metadata": {},
   "outputs": [
    {
     "data": {
      "text/plain": [
       "196"
      ]
     },
     "execution_count": 24,
     "metadata": {},
     "output_type": "execute_result"
    }
   ],
   "source": [
    "len(mag_D9)"
   ]
  },
  {
   "cell_type": "code",
   "execution_count": 25,
   "metadata": {},
   "outputs": [],
   "source": [
    "mag_D9.reset_index(drop = True, inplace = True)"
   ]
  },
  {
   "cell_type": "code",
   "execution_count": null,
   "metadata": {},
   "outputs": [],
   "source": []
  },
  {
   "cell_type": "markdown",
   "metadata": {},
   "source": [
    "## 지수"
   ]
  },
  {
   "cell_type": "markdown",
   "metadata": {},
   "source": [
    "### 지수 (유튜브 + 매거진)"
   ]
  },
  {
   "cell_type": "code",
   "execution_count": 10,
   "metadata": {},
   "outputs": [],
   "source": [
    "tot_ji = pd.read_csv('./magazine/final/video_jisu_adfn_2.csv', encoding = 'utf-8', sep = '|')"
   ]
  },
  {
   "cell_type": "code",
   "execution_count": 11,
   "metadata": {},
   "outputs": [],
   "source": [
    "tot_ji['word'] = tot_ji['word_jisu']"
   ]
  },
  {
   "cell_type": "code",
   "execution_count": 12,
   "metadata": {},
   "outputs": [],
   "source": [
    "tot_JI = tot_ji[['magazine', 'brand', 'title', 'word', 'ADFN', 'ADFN_2']]"
   ]
  },
  {
   "cell_type": "code",
   "execution_count": 13,
   "metadata": {},
   "outputs": [
    {
     "data": {
      "text/plain": [
       "158"
      ]
     },
     "execution_count": 13,
     "metadata": {},
     "output_type": "execute_result"
    }
   ],
   "source": [
    "len(tot_JI)"
   ]
  },
  {
   "cell_type": "markdown",
   "metadata": {},
   "source": [
    "### 디올 + 지수"
   ]
  },
  {
   "cell_type": "code",
   "execution_count": 26,
   "metadata": {},
   "outputs": [],
   "source": [
    "D9JI = pd.concat([mag_D9, tot_JI])"
   ]
  },
  {
   "cell_type": "code",
   "execution_count": 27,
   "metadata": {},
   "outputs": [],
   "source": [
    "D9JI.reset_index(drop = True, inplace = True)"
   ]
  },
  {
   "cell_type": "code",
   "execution_count": 28,
   "metadata": {},
   "outputs": [],
   "source": [
    "D9JI.to_csv('./magazine/final/D9JI.csv', sep = '|', encoding = 'utf-8', index = False)"
   ]
  },
  {
   "cell_type": "code",
   "execution_count": 29,
   "metadata": {},
   "outputs": [
    {
     "data": {
      "text/plain": [
       "354"
      ]
     },
     "execution_count": 29,
     "metadata": {},
     "output_type": "execute_result"
    }
   ],
   "source": [
    "len(D9JI)"
   ]
  },
  {
   "cell_type": "code",
   "execution_count": 96,
   "metadata": {},
   "outputs": [],
   "source": [
    "# D4JE = pd.concat([mag_D4, tot_JE])"
   ]
  },
  {
   "cell_type": "code",
   "execution_count": 97,
   "metadata": {},
   "outputs": [],
   "source": [
    "# D4JE.reset_index(drop = True, inplace = True)"
   ]
  },
  {
   "cell_type": "code",
   "execution_count": 98,
   "metadata": {},
   "outputs": [],
   "source": [
    "# D4JE.to_csv('./magazine/final/D4JE.csv', sep = '|', encoding = 'utf-8', index = False)"
   ]
  },
  {
   "cell_type": "code",
   "execution_count": 99,
   "metadata": {},
   "outputs": [
    {
     "data": {
      "text/plain": [
       "791"
      ]
     },
     "execution_count": 99,
     "metadata": {},
     "output_type": "execute_result"
    }
   ],
   "source": [
    "# len(D4JE)"
   ]
  },
  {
   "cell_type": "code",
   "execution_count": null,
   "metadata": {},
   "outputs": [],
   "source": []
  },
  {
   "cell_type": "markdown",
   "metadata": {},
   "source": [
    "## stopword 추가"
   ]
  },
  {
   "cell_type": "code",
   "execution_count": 76,
   "metadata": {},
   "outputs": [],
   "source": [
    "sw_df = pd.read_csv('stopwords.csv', header=None)"
   ]
  },
  {
   "cell_type": "code",
   "execution_count": 77,
   "metadata": {},
   "outputs": [],
   "source": [
    "sw_df.columns = ['stopword']"
   ]
  },
  {
   "cell_type": "code",
   "execution_count": 78,
   "metadata": {},
   "outputs": [],
   "source": [
    "stop_words = []\n",
    "for sw in sw_df['stopword']:\n",
    "    stop_words.append(sw)"
   ]
  },
  {
   "cell_type": "code",
   "execution_count": 79,
   "metadata": {},
   "outputs": [
    {
     "name": "stdout",
     "output_type": "stream",
     "text": [
      "675\n",
      "<class 'list'>\n"
     ]
    }
   ],
   "source": [
    "print(len(stop_words))\n",
    "print(type(stop_words))"
   ]
  },
  {
   "cell_type": "code",
   "execution_count": 80,
   "metadata": {},
   "outputs": [
    {
     "data": {
      "text/plain": [
       "['둘', '셋', '넷', '다섯', '여섯', '일곱', '여덟', '아홉', '령', '영']"
      ]
     },
     "execution_count": 80,
     "metadata": {},
     "output_type": "execute_result"
    }
   ],
   "source": [
    "stop_words[-10:]"
   ]
  },
  {
   "cell_type": "code",
   "execution_count": 81,
   "metadata": {},
   "outputs": [],
   "source": [
    "add_0 = ['진짜', '존나', '보고', '그냥', '카이', '이광수', '광수', '런닝맨', '❤️', '없는', '유재석', '❤', '♥', '있고', '거', \n",
    "         '내', '더', '개', '사람', '영상', '광고', '언니', '말', '뭐', '수', '생각',\n",
    "        '있는', '정말', '같은', '같음', '듯', '♡', '완전', '같아', '정도', '지금', '역시', '뭔가', '입니다', '때문', '아니라',\n",
    "         '함', '같은데', '해', '하는', '할', '넘', '한', '안', '했다', '보면', '데', '하고', '하면', '게', '해서', '봐도', \n",
    "         '한다', '된', '건', '요', '움', '임', '애', '하는거', '해도', '보는', '이제', '했는데', '하는데', '하는게', '같아요', \n",
    "         '합니다', '하지', '하게', '되는', 'I', '는', '난', '서', '도', '줄', '위', '분', '알', '은', '두', '번', '뒤',\n",
    "         '이건', '없다', '있어요', '아니고', '있어',\n",
    "        '계속', '원래', '뭘', '못', '후', '이름', '속', '욕', '옆', '하네', '아님', '그런', '된다', '있음',\n",
    "        '같', '돼', 'you', '제품', '표현', 'n', '봤는데', '건가', '나오는', '가지', '저런', '보이', '고',\n",
    "        '중', '사진', '댓글', '부분', '진심', '그녀', '보', '날', '겁나', '요즘', '앞', '워', '이유', '솔직히', '하며', '통해',\n",
    "        '모든', '항상', '전', '기자', '다시', '오늘', '↑', '이자', '대해', '걸', '처음', '머리', '헤어', '고민', '뿐']\n",
    "for w in add_0:\n",
    "    stop_words.append(w)"
   ]
  },
  {
   "cell_type": "code",
   "execution_count": 82,
   "metadata": {},
   "outputs": [],
   "source": [
    "add_1 = ['BLACKPINK', '제니', '리사', '로제']\n",
    "for w in add_1:\n",
    "    stop_words.append(w)"
   ]
  },
  {
   "cell_type": "code",
   "execution_count": 83,
   "metadata": {},
   "outputs": [],
   "source": [
    "add_2 = []\n",
    "for w in add_1:\n",
    "    stop_words.append(w)"
   ]
  },
  {
   "cell_type": "code",
   "execution_count": 84,
   "metadata": {},
   "outputs": [
    {
     "data": {
      "text/plain": [
       "835"
      ]
     },
     "execution_count": 84,
     "metadata": {},
     "output_type": "execute_result"
    }
   ],
   "source": [
    "len(stop_words)"
   ]
  },
  {
   "cell_type": "code",
   "execution_count": null,
   "metadata": {},
   "outputs": [],
   "source": []
  },
  {
   "cell_type": "code",
   "execution_count": 85,
   "metadata": {},
   "outputs": [
    {
     "ename": "AttributeError",
     "evalue": "Can only use .str accessor with string values!",
     "output_type": "error",
     "traceback": [
      "\u001b[1;31m---------------------------------------------------------------------------\u001b[0m",
      "\u001b[1;31mAttributeError\u001b[0m                            Traceback (most recent call last)",
      "\u001b[1;32m<ipython-input-85-f9cb7c3850e8>\u001b[0m in \u001b[0;36m<module>\u001b[1;34m\u001b[0m\n\u001b[1;32m----> 1\u001b[1;33m \u001b[0mD9JI\u001b[0m\u001b[1;33m[\u001b[0m\u001b[1;34m'ADFN_2'\u001b[0m\u001b[1;33m]\u001b[0m \u001b[1;33m=\u001b[0m \u001b[0mD9JI\u001b[0m\u001b[1;33m[\u001b[0m\u001b[1;34m'ADFN_2'\u001b[0m\u001b[1;33m]\u001b[0m\u001b[1;33m.\u001b[0m\u001b[0mstr\u001b[0m\u001b[1;33m.\u001b[0m\u001b[0mreplace\u001b[0m\u001b[1;33m(\u001b[0m\u001b[1;34m'['\u001b[0m\u001b[1;33m,\u001b[0m \u001b[1;34m''\u001b[0m\u001b[1;33m)\u001b[0m\u001b[1;33m.\u001b[0m\u001b[0mstr\u001b[0m\u001b[1;33m.\u001b[0m\u001b[0mreplace\u001b[0m\u001b[1;33m(\u001b[0m\u001b[1;34m']'\u001b[0m\u001b[1;33m,\u001b[0m \u001b[1;34m''\u001b[0m\u001b[1;33m)\u001b[0m\u001b[1;33m.\u001b[0m\u001b[0mstr\u001b[0m\u001b[1;33m.\u001b[0m\u001b[0mreplace\u001b[0m\u001b[1;33m(\u001b[0m\u001b[1;34m'\"'\u001b[0m\u001b[1;33m,\u001b[0m \u001b[1;34m''\u001b[0m\u001b[1;33m)\u001b[0m\u001b[1;33m.\u001b[0m\u001b[0mstr\u001b[0m\u001b[1;33m.\u001b[0m\u001b[0mreplace\u001b[0m\u001b[1;33m(\u001b[0m\u001b[1;34m\"'\"\u001b[0m\u001b[1;33m,\u001b[0m \u001b[1;34m\"\"\u001b[0m\u001b[1;33m)\u001b[0m\u001b[1;33m.\u001b[0m\u001b[0mstr\u001b[0m\u001b[1;33m.\u001b[0m\u001b[0msplit\u001b[0m\u001b[1;33m(\u001b[0m\u001b[1;34m', '\u001b[0m\u001b[1;33m)\u001b[0m\u001b[1;33m\u001b[0m\u001b[1;33m\u001b[0m\u001b[0m\n\u001b[0m",
      "\u001b[1;32m~\\anaconda3\\lib\\site-packages\\pandas\\core\\generic.py\u001b[0m in \u001b[0;36m__getattr__\u001b[1;34m(self, name)\u001b[0m\n\u001b[0;32m   5268\u001b[0m             \u001b[1;32mor\u001b[0m \u001b[0mname\u001b[0m \u001b[1;32min\u001b[0m \u001b[0mself\u001b[0m\u001b[1;33m.\u001b[0m\u001b[0m_accessors\u001b[0m\u001b[1;33m\u001b[0m\u001b[1;33m\u001b[0m\u001b[0m\n\u001b[0;32m   5269\u001b[0m         ):\n\u001b[1;32m-> 5270\u001b[1;33m             \u001b[1;32mreturn\u001b[0m \u001b[0mobject\u001b[0m\u001b[1;33m.\u001b[0m\u001b[0m__getattribute__\u001b[0m\u001b[1;33m(\u001b[0m\u001b[0mself\u001b[0m\u001b[1;33m,\u001b[0m \u001b[0mname\u001b[0m\u001b[1;33m)\u001b[0m\u001b[1;33m\u001b[0m\u001b[1;33m\u001b[0m\u001b[0m\n\u001b[0m\u001b[0;32m   5271\u001b[0m         \u001b[1;32melse\u001b[0m\u001b[1;33m:\u001b[0m\u001b[1;33m\u001b[0m\u001b[1;33m\u001b[0m\u001b[0m\n\u001b[0;32m   5272\u001b[0m             \u001b[1;32mif\u001b[0m \u001b[0mself\u001b[0m\u001b[1;33m.\u001b[0m\u001b[0m_info_axis\u001b[0m\u001b[1;33m.\u001b[0m\u001b[0m_can_hold_identifiers_and_holds_name\u001b[0m\u001b[1;33m(\u001b[0m\u001b[0mname\u001b[0m\u001b[1;33m)\u001b[0m\u001b[1;33m:\u001b[0m\u001b[1;33m\u001b[0m\u001b[1;33m\u001b[0m\u001b[0m\n",
      "\u001b[1;32m~\\anaconda3\\lib\\site-packages\\pandas\\core\\accessor.py\u001b[0m in \u001b[0;36m__get__\u001b[1;34m(self, obj, cls)\u001b[0m\n\u001b[0;32m    185\u001b[0m             \u001b[1;31m# we're accessing the attribute of the class, i.e., Dataset.geo\u001b[0m\u001b[1;33m\u001b[0m\u001b[1;33m\u001b[0m\u001b[1;33m\u001b[0m\u001b[0m\n\u001b[0;32m    186\u001b[0m             \u001b[1;32mreturn\u001b[0m \u001b[0mself\u001b[0m\u001b[1;33m.\u001b[0m\u001b[0m_accessor\u001b[0m\u001b[1;33m\u001b[0m\u001b[1;33m\u001b[0m\u001b[0m\n\u001b[1;32m--> 187\u001b[1;33m         \u001b[0maccessor_obj\u001b[0m \u001b[1;33m=\u001b[0m \u001b[0mself\u001b[0m\u001b[1;33m.\u001b[0m\u001b[0m_accessor\u001b[0m\u001b[1;33m(\u001b[0m\u001b[0mobj\u001b[0m\u001b[1;33m)\u001b[0m\u001b[1;33m\u001b[0m\u001b[1;33m\u001b[0m\u001b[0m\n\u001b[0m\u001b[0;32m    188\u001b[0m         \u001b[1;31m# Replace the property with the accessor object. Inspired by:\u001b[0m\u001b[1;33m\u001b[0m\u001b[1;33m\u001b[0m\u001b[1;33m\u001b[0m\u001b[0m\n\u001b[0;32m    189\u001b[0m         \u001b[1;31m# http://www.pydanny.com/cached-property.html\u001b[0m\u001b[1;33m\u001b[0m\u001b[1;33m\u001b[0m\u001b[1;33m\u001b[0m\u001b[0m\n",
      "\u001b[1;32m~\\anaconda3\\lib\\site-packages\\pandas\\core\\strings.py\u001b[0m in \u001b[0;36m__init__\u001b[1;34m(self, data)\u001b[0m\n\u001b[0;32m   2037\u001b[0m \u001b[1;33m\u001b[0m\u001b[0m\n\u001b[0;32m   2038\u001b[0m     \u001b[1;32mdef\u001b[0m \u001b[0m__init__\u001b[0m\u001b[1;33m(\u001b[0m\u001b[0mself\u001b[0m\u001b[1;33m,\u001b[0m \u001b[0mdata\u001b[0m\u001b[1;33m)\u001b[0m\u001b[1;33m:\u001b[0m\u001b[1;33m\u001b[0m\u001b[1;33m\u001b[0m\u001b[0m\n\u001b[1;32m-> 2039\u001b[1;33m         \u001b[0mself\u001b[0m\u001b[1;33m.\u001b[0m\u001b[0m_inferred_dtype\u001b[0m \u001b[1;33m=\u001b[0m \u001b[0mself\u001b[0m\u001b[1;33m.\u001b[0m\u001b[0m_validate\u001b[0m\u001b[1;33m(\u001b[0m\u001b[0mdata\u001b[0m\u001b[1;33m)\u001b[0m\u001b[1;33m\u001b[0m\u001b[1;33m\u001b[0m\u001b[0m\n\u001b[0m\u001b[0;32m   2040\u001b[0m         \u001b[0mself\u001b[0m\u001b[1;33m.\u001b[0m\u001b[0m_is_categorical\u001b[0m \u001b[1;33m=\u001b[0m \u001b[0mis_categorical_dtype\u001b[0m\u001b[1;33m(\u001b[0m\u001b[0mdata\u001b[0m\u001b[1;33m)\u001b[0m\u001b[1;33m\u001b[0m\u001b[1;33m\u001b[0m\u001b[0m\n\u001b[0;32m   2041\u001b[0m         \u001b[0mself\u001b[0m\u001b[1;33m.\u001b[0m\u001b[0m_is_string\u001b[0m \u001b[1;33m=\u001b[0m \u001b[0mdata\u001b[0m\u001b[1;33m.\u001b[0m\u001b[0mdtype\u001b[0m\u001b[1;33m.\u001b[0m\u001b[0mname\u001b[0m \u001b[1;33m==\u001b[0m \u001b[1;34m\"string\"\u001b[0m\u001b[1;33m\u001b[0m\u001b[1;33m\u001b[0m\u001b[0m\n",
      "\u001b[1;32m~\\anaconda3\\lib\\site-packages\\pandas\\core\\strings.py\u001b[0m in \u001b[0;36m_validate\u001b[1;34m(data)\u001b[0m\n\u001b[0;32m   2094\u001b[0m \u001b[1;33m\u001b[0m\u001b[0m\n\u001b[0;32m   2095\u001b[0m         \u001b[1;32mif\u001b[0m \u001b[0minferred_dtype\u001b[0m \u001b[1;32mnot\u001b[0m \u001b[1;32min\u001b[0m \u001b[0mallowed_types\u001b[0m\u001b[1;33m:\u001b[0m\u001b[1;33m\u001b[0m\u001b[1;33m\u001b[0m\u001b[0m\n\u001b[1;32m-> 2096\u001b[1;33m             \u001b[1;32mraise\u001b[0m \u001b[0mAttributeError\u001b[0m\u001b[1;33m(\u001b[0m\u001b[1;34m\"Can only use .str accessor with string values!\"\u001b[0m\u001b[1;33m)\u001b[0m\u001b[1;33m\u001b[0m\u001b[1;33m\u001b[0m\u001b[0m\n\u001b[0m\u001b[0;32m   2097\u001b[0m         \u001b[1;32mreturn\u001b[0m \u001b[0minferred_dtype\u001b[0m\u001b[1;33m\u001b[0m\u001b[1;33m\u001b[0m\u001b[0m\n\u001b[0;32m   2098\u001b[0m \u001b[1;33m\u001b[0m\u001b[0m\n",
      "\u001b[1;31mAttributeError\u001b[0m: Can only use .str accessor with string values!"
     ]
    }
   ],
   "source": [
    "D9JI['ADFN_2'] = D9JI['ADFN_2'].str.replace('[', '').str.replace(']', '').str.replace('\"', '').str.replace(\"'\", \"\").str.split(', ')"
   ]
  },
  {
   "cell_type": "code",
   "execution_count": 86,
   "metadata": {},
   "outputs": [],
   "source": [
    "noun_adj_list = []\n",
    "for i in range(len(D9JI)):\n",
    "    for word in D9JI.loc[i, 'ADFN_2']:\n",
    "        if word not in stop_words:\n",
    "            noun_adj_list.append(word)"
   ]
  },
  {
   "cell_type": "code",
   "execution_count": 87,
   "metadata": {},
   "outputs": [
    {
     "name": "stdout",
     "output_type": "stream",
     "text": [
      "[('지수', 4231), ('예쁘다', 1889), ('DIOR', 776), ('귀엽다', 740), ('얼굴', 524), ('사랑', 471), ('노래', 393), ('매력', 263), ('음악', 243), ('패션', 242), ('목소리', 238), ('스타일', 187), ('춤', 171), ('배우', 169), ('아이돌', 162), ('실력', 148), ('컬렉션', 143), ('드레스', 141), ('라이브', 133), ('성격', 130), ('쇼', 129), ('브랜드', 126), ('음색', 124), ('최고', 122), ('여성', 119), ('누나', 119), ('영화', 116), ('여자', 115), ('연기', 110), ('블랙', 107), ('모델', 106), ('메이크업', 106), ('여신', 105), ('외모', 103), ('세계', 102), ('무대', 96), ('비주얼', 95), ('하우스', 93), ('재킷', 92), ('팬츠', 92), ('백', 92), ('패턴', 91), ('디자이너', 91), ('분위기', 89), ('라인', 83), ('완성', 83), ('장식', 83), ('봄', 82), ('웃음', 80), ('아름다운', 80), ('작품', 78), ('핑크', 78), ('드라마', 78), ('마음', 77), ('룩', 76), ('티', 73), ('노력', 72), ('느낌', 71), ('', 71), ('자연', 70), ('솔로', 68), ('컬러', 67), ('이미지', 66), ('셔츠', 66), ('레전드', 66), ('팬', 65), ('걸그룹', 64), ('눈', 63), ('MARIA', 63), ('화이트', 62), ('친구', 61), ('사랑스럽다', 61), ('가족', 59), ('시작', 59), ('매치', 59), ('시즌', 58), ('레드', 58), ('스타', 58), ('데님', 57), ('영감', 57), ('인기', 57), ('DESIGN', 56), ('가수', 56), ('입덕', 56), ('뷰티', 55), ('존재', 55), ('톱', 54), ('아티스트', 54), ('디자인', 54), ('좋', 53), ('티셔츠', 53), ('카디건', 53), ('보컬', 53), ('이야기', 52), ('스커트', 52), ('촬영', 51), ('아이템', 51), ('천재', 51), ('반전', 51), ('옷', 50), ('여름', 49), ('한국', 49), ('연예인', 49), ('BLINK', 49), ('감독', 48), ('클래식', 47), ('달곰', 47), ('힘들', 46), ('코트', 46), ('소녀', 46), ('빛', 46), ('인형', 46), ('찰떡', 46), ('도전', 45), ('립', 45), ('작업', 44), ('힘', 44), ('디렉터', 44), ('천사', 44), ('입술', 44), ('LAURENT', 43), ('벨트', 43), ('부츠', 43), ('파리', 43), ('앨범', 43), ('화보', 43), ('꽃', 42), ('취향', 42), ('새로운', 42), ('시크', 41), ('멋있다', 41), ('식', 40), ('소재', 40), ('대표', 40), ('새', 39), ('점', 39), ('체크', 39), ('사이즈', 39), ('트', 39), ('장면', 39), ('해외', 39), ('의상', 39), ('미소', 39), ('코디', 39), ('COUTURE', 38), ('역할', 38), ('사이', 38), ('세', 38), ('평소', 38), ('니트', 38), ('말투', 38), ('관심', 37), ('출연', 37), ('실루엣', 37), ('커', 37), ('CHRISTIAN', 37), ('실물', 37), ('만큼', 36), ('생기', 36), ('경험', 36), ('파', 36), ('활동', 36), ('앤', 36), ('장', 36), ('골드', 36), ('미국', 36), ('선', 36), ('선택', 35), ('캐릭터', 35), ('인터뷰', 35), ('착용', 35), ('세대', 35), ('고급', 35), ('프로', 35), ('개성', 35), ('당시', 34), ('링', 34), ('건강', 34), ('쓰', 34), ('돈', 34), ('LADY', 34), ('프린트', 34), ('로고', 34), ('인지', 34), ('원', 34), ('목걸이', 34), ('성', 34), ('벨벳', 34), ('게임', 34), ('기도', 33), ('행복', 33), ('주인공', 33), ('몸매', 33), ('팝', 33), ('달', 33), ('볼', 33), ('볼살', 33), ('길', 32), ('무드', 32), ('추', 32)]\n"
     ]
    }
   ],
   "source": [
    "word = Counter(noun_adj_list)\n",
    "print(word.most_common(200))"
   ]
  },
  {
   "cell_type": "code",
   "execution_count": 88,
   "metadata": {},
   "outputs": [],
   "source": [
    "count = Counter(noun_adj_list)"
   ]
  },
  {
   "cell_type": "code",
   "execution_count": 89,
   "metadata": {},
   "outputs": [
    {
     "name": "stdout",
     "output_type": "stream",
     "text": [
      "('지수', 4231)\n",
      "('예쁘다', 1889)\n",
      "('DIOR', 776)\n",
      "('귀엽다', 740)\n",
      "('얼굴', 524)\n",
      "('사랑', 471)\n",
      "('노래', 393)\n",
      "('매력', 263)\n",
      "('음악', 243)\n",
      "('패션', 242)\n",
      "('목소리', 238)\n",
      "('스타일', 187)\n",
      "('춤', 171)\n",
      "('배우', 169)\n",
      "('아이돌', 162)\n",
      "('실력', 148)\n",
      "('컬렉션', 143)\n",
      "('드레스', 141)\n",
      "('라이브', 133)\n",
      "('성격', 130)\n",
      "('쇼', 129)\n",
      "('브랜드', 126)\n",
      "('음색', 124)\n",
      "('최고', 122)\n",
      "('여성', 119)\n",
      "('누나', 119)\n",
      "('영화', 116)\n",
      "('여자', 115)\n",
      "('연기', 110)\n",
      "('블랙', 107)\n",
      "('모델', 106)\n",
      "('메이크업', 106)\n",
      "('여신', 105)\n",
      "('외모', 103)\n",
      "('세계', 102)\n",
      "('무대', 96)\n",
      "('비주얼', 95)\n",
      "('하우스', 93)\n",
      "('재킷', 92)\n",
      "('팬츠', 92)\n",
      "('백', 92)\n",
      "('패턴', 91)\n",
      "('디자이너', 91)\n",
      "('분위기', 89)\n",
      "('라인', 83)\n",
      "('완성', 83)\n",
      "('장식', 83)\n",
      "('봄', 82)\n",
      "('웃음', 80)\n",
      "('아름다운', 80)\n",
      "('작품', 78)\n",
      "('핑크', 78)\n",
      "('드라마', 78)\n",
      "('마음', 77)\n",
      "('룩', 76)\n",
      "('티', 73)\n",
      "('노력', 72)\n",
      "('느낌', 71)\n",
      "('', 71)\n",
      "('자연', 70)\n",
      "('솔로', 68)\n",
      "('컬러', 67)\n",
      "('이미지', 66)\n",
      "('셔츠', 66)\n",
      "('레전드', 66)\n",
      "('팬', 65)\n",
      "('걸그룹', 64)\n",
      "('눈', 63)\n",
      "('MARIA', 63)\n",
      "('화이트', 62)\n",
      "('친구', 61)\n",
      "('사랑스럽다', 61)\n",
      "('가족', 59)\n",
      "('시작', 59)\n",
      "('매치', 59)\n",
      "('시즌', 58)\n",
      "('레드', 58)\n",
      "('스타', 58)\n",
      "('데님', 57)\n",
      "('영감', 57)\n",
      "('인기', 57)\n",
      "('DESIGN', 56)\n",
      "('가수', 56)\n",
      "('입덕', 56)\n",
      "('뷰티', 55)\n",
      "('존재', 55)\n",
      "('톱', 54)\n",
      "('아티스트', 54)\n",
      "('디자인', 54)\n",
      "('좋', 53)\n",
      "('티셔츠', 53)\n",
      "('카디건', 53)\n",
      "('보컬', 53)\n",
      "('이야기', 52)\n",
      "('스커트', 52)\n",
      "('촬영', 51)\n",
      "('아이템', 51)\n",
      "('천재', 51)\n",
      "('반전', 51)\n",
      "('옷', 50)\n",
      "('여름', 49)\n",
      "('한국', 49)\n",
      "('연예인', 49)\n",
      "('BLINK', 49)\n",
      "('감독', 48)\n",
      "('클래식', 47)\n",
      "('달곰', 47)\n",
      "('힘들', 46)\n",
      "('코트', 46)\n",
      "('소녀', 46)\n",
      "('빛', 46)\n",
      "('인형', 46)\n",
      "('찰떡', 46)\n",
      "('도전', 45)\n",
      "('립', 45)\n",
      "('작업', 44)\n",
      "('힘', 44)\n",
      "('디렉터', 44)\n",
      "('천사', 44)\n",
      "('입술', 44)\n",
      "('LAURENT', 43)\n",
      "('벨트', 43)\n",
      "('부츠', 43)\n",
      "('파리', 43)\n",
      "('앨범', 43)\n",
      "('화보', 43)\n",
      "('꽃', 42)\n",
      "('취향', 42)\n",
      "('새로운', 42)\n",
      "('시크', 41)\n",
      "('멋있다', 41)\n",
      "('식', 40)\n",
      "('소재', 40)\n",
      "('대표', 40)\n",
      "('새', 39)\n",
      "('점', 39)\n",
      "('체크', 39)\n",
      "('사이즈', 39)\n",
      "('트', 39)\n",
      "('장면', 39)\n",
      "('해외', 39)\n",
      "('의상', 39)\n",
      "('미소', 39)\n",
      "('코디', 39)\n",
      "('COUTURE', 38)\n",
      "('역할', 38)\n",
      "('사이', 38)\n",
      "('세', 38)\n",
      "('평소', 38)\n",
      "('니트', 38)\n",
      "('말투', 38)\n",
      "('관심', 37)\n",
      "('출연', 37)\n",
      "('실루엣', 37)\n",
      "('커', 37)\n",
      "('CHRISTIAN', 37)\n",
      "('실물', 37)\n",
      "('만큼', 36)\n",
      "('생기', 36)\n",
      "('경험', 36)\n",
      "('파', 36)\n",
      "('활동', 36)\n",
      "('앤', 36)\n",
      "('장', 36)\n",
      "('골드', 36)\n",
      "('미국', 36)\n",
      "('선', 36)\n",
      "('선택', 35)\n",
      "('캐릭터', 35)\n",
      "('인터뷰', 35)\n",
      "('착용', 35)\n",
      "('세대', 35)\n",
      "('고급', 35)\n",
      "('프로', 35)\n",
      "('개성', 35)\n",
      "('당시', 34)\n",
      "('링', 34)\n",
      "('건강', 34)\n",
      "('쓰', 34)\n",
      "('돈', 34)\n",
      "('LADY', 34)\n",
      "('프린트', 34)\n",
      "('로고', 34)\n",
      "('인지', 34)\n",
      "('원', 34)\n",
      "('목걸이', 34)\n",
      "('성', 34)\n",
      "('벨벳', 34)\n",
      "('게임', 34)\n",
      "('기도', 33)\n",
      "('행복', 33)\n",
      "('주인공', 33)\n",
      "('몸매', 33)\n",
      "('팝', 33)\n",
      "('달', 33)\n",
      "('볼', 33)\n",
      "('볼살', 33)\n",
      "('길', 32)\n",
      "('무드', 32)\n",
      "('추', 32)\n",
      "('집중', 32)\n",
      "('시대', 32)\n",
      "('완벽', 32)\n",
      "('열', 32)\n",
      "('찍', 32)\n",
      "('글', 32)\n",
      "('기억', 32)\n",
      "('블루', 32)\n",
      "('패션쇼', 32)\n",
      "('비즈', 32)\n",
      "('공주', 32)\n",
      "('않는', 32)\n",
      "('늘', 32)\n",
      "('그대로', 32)\n",
      "('찾', 31)\n",
      "('살', 31)\n",
      "('나이', 31)\n",
      "('CREATIVE', 31)\n",
      "('이후', 31)\n",
      "('가을', 31)\n",
      "('꿈', 31)\n",
      "('사랑스러운', 31)\n",
      "('피부', 31)\n",
      "('화장', 31)\n",
      "('가방', 30)\n",
      "('치', 30)\n",
      "('풀', 30)\n",
      "('런웨이', 30)\n",
      "('진행', 30)\n",
      "('포인트', 30)\n",
      "('어깨', 30)\n",
      "('양', 30)\n",
      "('담당', 30)\n",
      "('긴', 30)\n",
      "('최애', 30)\n",
      "('오빠', 30)\n",
      "('스킨', 29)\n",
      "('캡', 29)\n",
      "('기분', 29)\n",
      "('운동', 29)\n",
      "('의미', 29)\n",
      "('반응', 29)\n",
      "('덕분', 29)\n",
      "('스카프', 29)\n",
      "('변신', 29)\n",
      "('집', 29)\n",
      "('겨울', 29)\n",
      "('코로나', 29)\n",
      "('액세서리', 29)\n",
      "('버전', 29)\n",
      "('자막', 29)\n",
      "('해야', 29)\n",
      "('필요', 28)\n",
      "('몸', 28)\n",
      "('감성', 28)\n",
      "('시선', 28)\n",
      "('재능', 28)\n",
      "('평가', 28)\n",
      "('직접', 28)\n",
      "('유', 28)\n",
      "('엄마', 28)\n",
      "('연극', 28)\n",
      "('했습니다', 28)\n",
      "('유튜브', 28)\n",
      "('좋겠다', 28)\n",
      "('시절', 27)\n",
      "('순간', 27)\n",
      "('올해', 27)\n",
      "('패', 27)\n",
      "('가요', 27)\n",
      "('힐', 27)\n",
      "('슈즈', 27)\n",
      "('소화', 27)\n",
      "('댄스', 27)\n",
      "('목', 27)\n",
      "('수도', 27)\n",
      "('밤', 27)\n",
      "('입고', 27)\n",
      "('카리스마', 27)\n",
      "('손흥민', 27)\n",
      "('애교', 27)\n",
      "('저음', 27)\n",
      "('새롭', 26)\n",
      "('유지', 26)\n",
      "('제작', 26)\n",
      "('변화', 26)\n",
      "('삶', 26)\n",
      "('담', 26)\n",
      "('자체', 26)\n",
      "('얼', 26)\n",
      "('조합', 26)\n",
      "('기대', 26)\n",
      "('대신', 26)\n",
      "('널', 26)\n",
      "('투', 26)\n",
      "('골프', 26)\n",
      "('강조', 26)\n",
      "('일상', 26)\n",
      "('스트랩', 26)\n",
      "('협업', 26)\n",
      "('ELLE', 26)\n",
      "('남성', 26)\n",
      "('마지막', 26)\n",
      "('인상', 26)\n",
      "('그림', 26)\n",
      "('답', 26)\n",
      "('가진', 26)\n",
      "('주얼리', 26)\n",
      "('글로벌', 25)\n",
      "('사실', 25)\n",
      "('하다', 25)\n",
      "('단', 25)\n",
      "('보라색', 25)\n",
      "('패션계', 25)\n",
      "('한편', 25)\n",
      "('특징', 25)\n",
      "('다르', 25)\n",
      "('진주', 25)\n",
      "('우아', 25)\n",
      "('미래', 25)\n",
      "('숄더', 25)\n",
      "('필름', 25)\n",
      "('인물', 25)\n",
      "('우', 25)\n",
      "('이태', 25)\n",
      "('수지', 25)\n",
      "('땐', 25)\n",
      "('상큼', 25)\n",
      "('다양한', 25)\n",
      "('포니테일', 25)\n",
      "('인성', 25)\n",
      "('헬륨가스', 25)\n",
      "('착하다', 25)\n",
      "('유행', 24)\n",
      "('걱정', 24)\n",
      "('가능', 24)\n",
      "('갈', 24)\n",
      "('인간', 24)\n",
      "('리스트', 24)\n",
      "('웨어', 24)\n",
      "('프랑스', 24)\n",
      "('화제', 24)\n",
      "('가죽', 24)\n",
      "('블', 24)\n",
      "('수트', 24)\n",
      "('에스', 24)\n",
      "('별', 24)\n",
      "('예전', 24)\n",
      "('관객', 24)\n",
      "('아래', 24)\n",
      "('결혼', 24)\n",
      "('차이', 24)\n",
      "('아빠', 24)\n",
      "('했던', 24)\n",
      "('있어서', 24)\n",
      "('채널', 24)\n",
      "('비', 24)\n",
      "('부럽다', 24)\n",
      "('맞', 23)\n",
      "('푸', 23)\n",
      "('현장', 23)\n",
      "('관리', 23)\n",
      "('심플', 23)\n",
      "('자리', 23)\n",
      "('특유', 23)\n",
      "('스스로', 23)\n",
      "('해석', 23)\n",
      "('절대', 23)\n",
      "('레더', 23)\n",
      "('발', 23)\n",
      "('김', 23)\n",
      "('파워', 23)\n",
      "('민', 23)\n",
      "('소개', 23)\n",
      "('다이', 23)\n",
      "('디테일', 23)\n",
      "('차', 23)\n",
      "('기록', 23)\n",
      "('메인', 23)\n",
      "('들어가', 23)\n",
      "('브라운', 23)\n",
      "('대중', 23)\n",
      "('호', 23)\n",
      "('워치', 23)\n",
      "('네일', 23)\n",
      "('포에버', 23)\n",
      "('인스타그램', 23)\n",
      "('빈티지', 22)\n",
      "('사용', 22)\n",
      "('아름다움', 22)\n",
      "('내면', 22)\n",
      "('방식', 22)\n",
      "('끼', 22)\n",
      "('열리', 22)\n",
      "('럭셔리', 22)\n",
      "('자수', 22)\n",
      "('마무리', 22)\n",
      "('방법', 22)\n",
      "('추천', 22)\n",
      "('아이콘', 22)\n",
      "('명품', 22)\n",
      "('주목', 22)\n",
      "('캐주얼', 22)\n",
      "('스트라이프', 22)\n",
      "('뉴욕', 22)\n",
      "('크리스', 22)\n",
      "('캐', 22)\n",
      "('공연', 22)\n",
      "('예술', 22)\n",
      "('공식', 22)\n",
      "('뷰', 22)\n",
      "('초', 22)\n",
      "('하트', 22)\n",
      "('팩', 22)\n",
      "('CHANEL', 22)\n",
      "('모르', 22)\n",
      "('악', 22)\n",
      "('선배', 22)\n",
      "('있게', 22)\n",
      "('주는', 22)\n",
      "('바', 22)\n",
      "('로서', 22)\n",
      "('까르띠', 22)\n",
      "('하세요', 22)\n",
      "('백은', 21)\n",
      "('비통', 21)\n",
      "('토탈', 21)\n",
      "('중요', 21)\n",
      "('좋아하', 21)\n",
      "('순', 21)\n",
      "('터', 21)\n",
      "('뜻', 21)\n",
      "('개인', 21)\n",
      "('질문', 21)\n",
      "('이용', 21)\n",
      "('신경', 21)\n",
      "('중심', 21)\n",
      "('뉴', 21)\n",
      "('허리', 21)\n",
      "('캐스팅', 21)\n",
      "('스웨터', 21)\n",
      "('참석', 21)\n",
      "('투어', 21)\n",
      "('스', 21)\n",
      "('오프', 21)\n",
      "('SNS', 21)\n",
      "('문', 21)\n",
      "('문화', 21)\n",
      "('북', 21)\n",
      "('회사', 21)\n",
      "('원피스', 21)\n",
      "('모양', 21)\n",
      "('서커스', 21)\n",
      "('않은', 21)\n",
      "('했을', 21)\n",
      "('강아지', 21)\n",
      "('코', 21)\n",
      "('슬기', 21)\n",
      "('넘치는', 21)\n",
      "('웃는', 21)\n",
      "('초딩', 21)\n",
      "('웃겨', 21)\n",
      "('에너지', 20)\n",
      "('징', 20)\n",
      "('그렇', 20)\n",
      "('강', 20)\n",
      "('정신', 20)\n",
      "('거리', 20)\n",
      "('의지', 20)\n",
      "('HOMME', 20)\n",
      "('감각', 20)\n",
      "('루', 20)\n",
      "('약', 20)\n",
      "('축하', 20)\n",
      "('트렌드', 20)\n",
      "('참고', 20)\n",
      "('포함', 20)\n",
      "('작', 20)\n",
      "('F', 20)\n",
      "('오트', 20)\n",
      "('블라우스', 20)\n",
      "('파티', 20)\n",
      "('색깔', 20)\n",
      "('출시', 20)\n",
      "('장인', 20)\n",
      "('명', 20)\n",
      "('예정', 20)\n",
      "('남', 20)\n",
      "('안무', 20)\n",
      "('발표', 20)\n",
      "('정보', 20)\n",
      "('리본', 20)\n",
      "('공감', 20)\n",
      "('재미', 20)\n",
      "('다리', 20)\n",
      "('화', 20)\n",
      "('상상', 20)\n",
      "('장미', 20)\n",
      "('작은', 20)\n",
      "('있나요', 20)\n"
     ]
    }
   ],
   "source": [
    "word_list = count.most_common(500)\n",
    "for v in word_list:\n",
    "    print(v)"
   ]
  },
  {
   "cell_type": "code",
   "execution_count": 90,
   "metadata": {},
   "outputs": [],
   "source": [
    "top500 = pd.DataFrame(word_list)"
   ]
  },
  {
   "cell_type": "code",
   "execution_count": 91,
   "metadata": {},
   "outputs": [],
   "source": [
    "top500.columns = ['word', 'count']"
   ]
  },
  {
   "cell_type": "code",
   "execution_count": 92,
   "metadata": {},
   "outputs": [],
   "source": [
    "top500.to_csv('./D9JI_top500.csv', sep='|', encoding = 'utf-8', index = False)"
   ]
  },
  {
   "cell_type": "markdown",
   "metadata": {},
   "source": [
    "## 워드클라우드 만들기"
   ]
  },
  {
   "cell_type": "code",
   "execution_count": 93,
   "metadata": {},
   "outputs": [],
   "source": [
    "import matplotlib.pyplot as plt"
   ]
  },
  {
   "cell_type": "code",
   "execution_count": 94,
   "metadata": {},
   "outputs": [
    {
     "name": "stdout",
     "output_type": "stream",
     "text": [
      "Malgun Gothic C:\\WINDOWS\\Fonts\\malgun.ttf\n",
      "Yu Gothic C:\\WINDOWS\\Fonts\\YuGothB.ttc\n",
      "HYGothic-Extra C:\\WINDOWS\\Fonts\\H2GTRE.TTF\n",
      "Franklin Gothic Medium C:\\WINDOWS\\Fonts\\framdit.ttf\n",
      "Malgun Gothic C:\\Windows\\Fonts\\malgunbd.ttf\n",
      "Yu Gothic C:\\Windows\\Fonts\\YuGothL.ttc\n",
      "Century Gothic C:\\Windows\\Fonts\\GOTHIC.TTF\n",
      "Yu Gothic C:\\Windows\\Fonts\\YuGothM.ttc\n",
      "Yu Gothic C:\\WINDOWS\\Fonts\\YuGothR.ttc\n",
      "MS Gothic C:\\WINDOWS\\Fonts\\msgothic.ttc\n",
      "HYGothic-Medium C:\\WINDOWS\\Fonts\\H2GTRM.TTF\n",
      "Malgun Gothic C:\\WINDOWS\\Fonts\\malgunsl.ttf\n",
      "Century Gothic C:\\Windows\\Fonts\\GOTHICI.TTF\n",
      "Century Gothic C:\\WINDOWS\\Fonts\\GOTHICBI.TTF\n",
      "Century Gothic C:\\Windows\\Fonts\\GOTHICB.TTF\n",
      "Franklin Gothic Medium C:\\WINDOWS\\Fonts\\framd.ttf\n"
     ]
    }
   ],
   "source": [
    "import matplotlib.font_manager as fm\n",
    "\n",
    "# 이용 가능한 폰트 중 '고딕'만 선별\n",
    "for font in fm.fontManager.ttflist:\n",
    "    if 'Gothic' in font.name:\n",
    "        print(font.name, font.fname)"
   ]
  },
  {
   "cell_type": "code",
   "execution_count": 95,
   "metadata": {},
   "outputs": [],
   "source": [
    "font_path = 'C:\\WINDOWS\\Fonts\\malgun.ttf'"
   ]
  },
  {
   "cell_type": "markdown",
   "metadata": {},
   "source": [
    "### 워드클라우드 그리기"
   ]
  },
  {
   "cell_type": "code",
   "execution_count": 96,
   "metadata": {},
   "outputs": [],
   "source": [
    "from wordcloud import WordCloud"
   ]
  },
  {
   "cell_type": "code",
   "execution_count": 97,
   "metadata": {},
   "outputs": [],
   "source": [
    "wc = WordCloud(font_path=font_path, background_color=\"white\", width=600, height=400)"
   ]
  },
  {
   "cell_type": "code",
   "execution_count": 98,
   "metadata": {},
   "outputs": [
    {
     "data": {
      "image/png": "[encoded data removed]",
      "text/plain": [
       "<Figure size 432x288 with 1 Axes>"
      ]
     },
     "metadata": {
      "needs_background": "light"
     },
     "output_type": "display_data"
    },
    {
     "data": {
      "text/plain": [
       "<wordcloud.wordcloud.WordCloud at 0x1f2b80c0048>"
      ]
     },
     "execution_count": 98,
     "metadata": {},
     "output_type": "execute_result"
    }
   ],
   "source": [
    "wc.generate_from_frequencies(dict(word_list))\n",
    "\n",
    "plt.imshow(wc) \n",
    "plt.axis('off') \n",
    "plt.show()\n",
    "\n",
    "\n",
    "wc.to_file('wc_D9JI_top500.png')"
   ]
  },
  {
   "cell_type": "code",
   "execution_count": 99,
   "metadata": {},
   "outputs": [],
   "source": [
    "D9JI.to_csv('./magazine/final/D9JI_adfn_2.csv', sep='|', encoding = 'utf-8', index = False)"
   ]
  },
  {
   "cell_type": "code",
   "execution_count": null,
   "metadata": {},
   "outputs": [],
   "source": []
  },
  {
   "cell_type": "code",
   "execution_count": null,
   "metadata": {},
   "outputs": [],
   "source": []
  },
  {
   "cell_type": "code",
   "execution_count": null,
   "metadata": {},
   "outputs": [],
   "source": []
  }
 ],
 "metadata": {
  "kernelspec": {
   "display_name": "Python 3",
   "language": "python",
   "name": "python3"
  },
  "language_info": {
   "codemirror_mode": {
    "name": "ipython",
    "version": 3
   },
   "file_extension": ".py",
   "mimetype": "text/x-python",
   "name": "python",
   "nbconvert_exporter": "python",
   "pygments_lexer": "ipython3",
   "version": "3.7.6"
  }
 },
 "nbformat": 4,
 "nbformat_minor": 4
}
