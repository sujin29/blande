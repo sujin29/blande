{
 "cells": [
  {
   "cell_type": "code",
   "execution_count": 2,
   "metadata": {},
   "outputs": [],
   "source": [
    "import pandas as pd\n",
    "import numpy as np"
   ]
  },
  {
   "cell_type": "code",
   "execution_count": 3,
   "metadata": {},
   "outputs": [],
   "source": [
    "from collections import Counter"
   ]
  },
  {
   "cell_type": "code",
   "execution_count": 100,
   "metadata": {},
   "outputs": [],
   "source": [
    "e_lisa = pd.read_csv('./blackpink/elle_L.csv', sep='|', encoding = 'utf-8')\n",
    "c_lisa = pd.read_csv('./blackpink/cosmo_L.csv', sep='|', encoding = 'utf-8')\n",
    "m_lisa = pd.read_csv('./blackpink/marie_L.csv', sep='|', encoding = 'utf-8')"
   ]
  },
  {
   "cell_type": "code",
   "execution_count": 101,
   "metadata": {},
   "outputs": [],
   "source": [
    "mag_lisa = pd.concat([e_lisa, c_lisa, m_lisa])"
   ]
  },
  {
   "cell_type": "code",
   "execution_count": 102,
   "metadata": {},
   "outputs": [],
   "source": [
    "mag_lisa.reset_index(drop=True, inplace = True)"
   ]
  },
  {
   "cell_type": "code",
   "execution_count": null,
   "metadata": {},
   "outputs": [],
   "source": []
  },
  {
   "cell_type": "markdown",
   "metadata": {},
   "source": [
    "## 전처리"
   ]
  },
  {
   "cell_type": "markdown",
   "metadata": {},
   "source": [
    "### 기호 삭제"
   ]
  },
  {
   "cell_type": "code",
   "execution_count": 159,
   "metadata": {},
   "outputs": [],
   "source": [
    "mag_lisa['word_lisa'] = mag_lisa['word_lisa'].str.replace('[', '').str.replace(']', '').str.replace('\\\\', '').str.replace('\"', '').str.replace(\"'\", \"\").str.replace('「', '').str.replace('」', '').str.replace('”', '').str.replace('‘', '').str.replace('“', '')"
   ]
  },
  {
   "cell_type": "code",
   "execution_count": 160,
   "metadata": {},
   "outputs": [
    {
     "data": {
      "text/plain": [
       "'시어한 소재의 아가일 패턴 블라우스에 레터링 장식 톱과 펑키한 무드의 액세서리를 레이어드해 개성을 더한 리사.'"
      ]
     },
     "execution_count": 160,
     "metadata": {},
     "output_type": "execute_result"
    }
   ],
   "source": [
    "mag_lisa['word_lisa'][0]"
   ]
  },
  {
   "cell_type": "markdown",
   "metadata": {},
   "source": [
    "## 디자이너나 브랜드명 replace"
   ]
  },
  {
   "cell_type": "markdown",
   "metadata": {},
   "source": [
    "### 블랙핑크 BLACKPINK"
   ]
  },
  {
   "cell_type": "code",
   "execution_count": 218,
   "metadata": {
    "scrolled": true
   },
   "outputs": [
    {
     "name": "stdout",
     "output_type": "stream",
     "text": [
      ", , 주름 장식과 상반된 소재 매치, 독특한 커팅 등 볼거리가 풍성한 블랙 룩을 선보인 리사. 트렌디한 청키 체인 네크리스와 스퀘어 토 부츠까지 더한 빈틈없는 연출이 눈에 띕니다., , 치명미 한도 초과! 한예슬은 과감하게 파인 네크 라인과 파워 숄더를 장착한 마이크로 미니드레스를 선택했어요. 길게 늘어뜨린 스트레이트 뱅 헤어도 관능적인 분위기에 잘 어울립니다., , 평범한 아이템도 블랙으로 통일하면 색다른 분위기를 연출합니다. 기분 좋은 레터링 티셔츠와 블랙 팬츠, 컨버스 슈즈로꾸안꾸 데일리 룩의 정석을 보여준 슬기처럼 말이에요., , 목선과 어깨, 허리와 허벅지 등 스킨을 적당히 드러낸 스타일을 선보인 로제. 이번 시즌 핫’ 아이템인 롱 글러브와 체인 네크리스까지 섭렵했어요., , 컴뱃 부츠는 선미의 시그너처 아이템이죠. 그는 스터드 장식의 원피스와 투박한 부츠, 인더스트리얼 요소를 더한 백으로 락시크 분위기 완성했어요., , 블랙 컬러를 페미닌하게 소화하고 싶다면 단순한 캐미솔과 넓게 퍼지는 튤 스커트로 발레리나 같은 블랙 룩을 선보인 황승언의 스타일을 참고하세요. 와이드 벨트나 컴뱃 부츠를 믹스매치해 현실감 있게 소화했어요., , 퍼프 숄더의 크롭트 블라우스와 잘록한 허리 라인을 연출할 수 있는 벨티드 하이웨이스트 팬츠로 실루엣의 미학을 보여준 효민. 미니멀한 디자인의 핸드백으로 통일감 있게 마무리했어요.\n",
      "--------------------------------------------------\n",
      ", , , , , , , , , , , , , , , , , , , , , , , , , , , , , , , , , , , 인비테이션은 새롭게 선보이는 컬렉션을 짐작하게 하는 힌트와 같다. 쇼 시작 전 호텔로 도착한 프라다 인비테이션은 사각 박스로, 케이스를 열자 블랙과 레드가 컬러 매치된 하드 카피가 들어 있었다. 쇼장에 들어서는 순간, 인비테이션이 무대의 축소판이라는 걸 알 수 있었다. 2020 F/W 프라다 컬렉션이 열린 폰다지오네 프라다’가 렘 쿨하스가 이끄는 OMA’에 의해 블랙과 레드의 강렬한 컬러 대비 공간으로 탈바꿈한 것. 내부는 이탈리아의 작은 광장을 옮겨놓은 것처럼 무대 안의 무대가 자리했고, 벽을 따라 빈 분리파’에서 파생된 플라워 아트가 장식되어 있었다. 이곳에 초대받은 관객들은 눈앞의 작은 프라다 광장을 지켜보는 관찰자의 시선으로 자리에 앉아 쇼를 기다렸다. 프라다 레이디로 초대받은 리사 역시 기대 속에 무대를 바라봤다. 리사가 도착하기 전부터 폰다지오네 프라다 앞을 지키던 팬들은 콘서트 현장처럼 엄청난 함성과 떼창’으로 쇼의 열기를 고조시켰고, 리사는 골드 재킷과 골드 미디스커트, 골드 체인 백으로 연출한 바비 인형의 모습으로 등장해 패션계의 이목을 집중시켰다. 리사를 향해 쏟아지던 카메라 세례는 쇼를 앞두고서야 겨우 잠재워졌다. 창공을 떠받치고 있는 아틀라스’를 형상화한 조각상이 설치된 무대를 중심으로 프라다 모델들이 하나둘씩 등장했다. 미우치아 프라다는 비현실적 글래머’라는 컨셉트 아래 여성의 힘과 여성 내면에 본질적으로 자리한 권위를 시각적으로 표현하고자 했다. 우리는 동시에 강하고 여성스러울 수 있습니다. 디자이너의 말대로 강인함과 여성미를 갖춘 레이디들의 행렬이 이어졌다. 상반된 대립 속에서 미학을 발견하는 디자이너는 남성성과 여성성, 클래식과 트렌드, 견고함과 유연함 사이의 아름다움을 찾아냈다. 그중 남성적인 테일러드 재킷에 피부가 드러나도록 물결치는 프린지 스커트, 여기에 벨트로 허리를 바짝 조여 완성한 모래시계 실루엣의 오프닝 룩이 대표적인 집약체다. 섬세함 속에 강렬함이 내재돼 있다고 믿는 디자이너의 철학처럼 프라다를 관통한 프린지는 리드미컬한 움직임 속에 쇼에 힘찬 에너지를 부여하는 요소로 작용했다. 모래시계 실루엣을 입은 테일러링의 변주, 실크 타이를 멘 여인들, 아이코닉한 리네아 로사의 진화, 역동적인 프린지, 찰랑찰랑 춤을 추는 비즈 장식, 투박한 부츠를 활용한 믹스매치 등 남성미와 여성미가 균형을 이룬 미우치아 프라다의 진보적인 페미닌 룩이 런웨이를 통해 다시 탄생했다. 그리고 며칠 뒤, 프라다는 놀랄 만한 뉴스를 발표했다. 라프 시몬스가 공동 크리에이티브 디렉터로 합류해 다음 시즌부터 프라다를 함께 전개하기로 한 것. 기념비적인 만남에 전 세계의 이목과 기대가 집중돼 있다. 지금까지 프라다는 시대상을 반영한 여성성을 재정의하며 여자들에게 태도’와 스타일’을 부여한 패션 문화이자 상징적인 브랜드로 자리했다. 여기에 프라다를 사랑하는 라프 시몬스가 합류한 것이다. 변화의 물결이 가져올 긍정적인 파장으로 프라다가 다시 패션 월드를 들썩일 날이 머지 않았다., , , , , , , , \n",
      "--------------------------------------------------\n",
      " BLACKPINK 리사 ,  BLACKPINK 리사 , 시크함이 물씬 풍기는 리사의 초이스는 CELINE의 트리옴프 백. 블랙 셔츠와 극명한 대비를 이루는 레드 컬러를 선택해 룩에 활기를 불어넣었군요.\n",
      "--------------------------------------------------\n",
      "K팝 그룹 최초로 유튜브 10억 뷰 돌파’ ’빌보드 200에서 24위’ 핫 100에서 41위’. K팝 걸 그룹 중 최고 성적을 거두고 있는 주인공은 다름아닌 BLACKPINK다. 한류의 초창기 아이돌, 소녀시대의 인형 눈망울은 10여 년 전 K팝의 성장을 함께한 K뷰티의 상징이었다. 그리고 여전히 K뷰티에 대한 관심이 뜨거운 지금. 우선 이명선 원장의 메이크업은 BLACKPINK의 걸 크러시 매력을 북돋우는 데 한몫한다. 과감한 컬러도 웨어러블하게! 사실 예쁘다’와 과하다’는 한 끗 차이거든요. 눈썹도, 눈도, 코도, 입도 다 예뻐 보이려면 끝이 없어요. 욕심을 덜어내는 용기가 필요하죠. 블랙 아이라인과 화이트 아이라인을 겹쳐 바른 제니의 라인 포인트 메이크업과 블루, 그린 섀도를 활용한 콘서트 메이크업, 패션 매거진 〈잘루즈〉 차이나의 화보 속 리사의 블랙 립 등 손 닿는 것마다 화제가 되는 그녀는 지금 가장 강력한 K-메이크업 아티스트다.\n",
      "--------------------------------------------------\n",
      ", , , JYP의 콘서트장을 찾은 선미. 오늘 그녀의 드레스 코드는 별이 빛나는 밤입니다. 레드, 푸시아, 골드 스타가 영롱하게 빛나는 스팽글 미니 드레스를 입고 화려함을 마음껏 뽐내고 있어요. 평소 즐겨 신는 투박한 플랫폼 부츠를 매치해 트렌디하게 마무리!, , , , , , 스쿨걸 같은 귀여운 스커트 수트와 별 패턴의 만남, 로맨틱, 성공적. 절로 쏟아지는 유성우가 떠오르는 커다란 은색 별 무늬가 이 구역의 주인공은 리사라고 외치는 것 같네요. 리사와 비슷한 룩을 선보인 로제도 크롭트 재킷에 깜찍한 별단추를 포인트로 달고 멋진 무대를 선보일 준비를 마쳤습니다., , , , , , 현아 는 알록달록한 별들이 가득한 스커트를 선택했어요. 언밸런스한 헴 라인(Hem Line)이 걸을 때마다 나풀거리며 드라마틱한 순간을 연출합니다. 심플한 블랙 톱을 매치해 스커트에 포커스를 맞추고 양갈래 머리로 그녀의 통통 튀는 개성을 담은 스타 룩에 좋아요 꾹!, , , , , , 팬톤에서 선정한 올해의 컬러는 클래식 블루. 전소미의 니트를 수놓은 큼지막한 푸른 별과 같은 컬러가 바로 클래식 블루죠. 부스스한 헤어스타일과 화장기 없는 얼굴이 클래식 블루 스타를 더욱 반짝반짝 빛나게 하네요., , , , , , 얼마 전 수영의 인스타그램에 굿나잇’ 메시지와 함께 포스팅된 사진을 한장. 터틀넥 톱 위에 시어한 소재의 슬립 드레스를 매치한, 얼핏 평범해 보일 수 있는 룩에 스팽글이 촘촘하게 장식된 별 모양 패치워크로 포인트를 주었어요. 우주의 기운을 품은 스타 패턴의 특별함이 느껴지시나요?, , , , , , , \n",
      "--------------------------------------------------\n",
      "마냥 예쁘고 착하기만 한 건 더 이상 매력 없다. 대중의 관심이 온통 힙’으로 쏠린 지금. BLACKPINK 리사, <쇼미더머니8> 윤훼이, 한예슬은 블랙 립을 완벽하게 소화해 화제가 됐다. 걸 크러시 매력이 뿜뿜’ 터지는 환불 메이크업의 포인트는 바로 입술. 블랙이 부담스럽다면 초콜릿 브라운이나 버건디, 퍼플 컬러를 먼저 시도해 보세요. 파운데이션과 파우더, 립 컬러를 바른 뒤, 티슈로 가볍게 눌러주고 다시 립 컬러를 레이어드하면 화장이 오래 유지될 거예요. 한예슬의 뱀파이어 메이크업을 담당한 에이바이봄 박선미 원장의 조언이다. 베이스는 한 톤 밝게, 아이섀도는 컬러플한 색조보다 그레이나 브라운 컬러로 음영을 줘 입술과 밸런스를 맞춘다. 같은 계열의 컬러 렌즈로 묘한 무드를 고조시켜도 굿. 셀러브리티들의 룩을 참고해서 블랙 아이라이너로 눈가에 매력 점을 찍어보는 건 어떨는지. 자, 이제 무뚝뚝한 표정의 셀피를 찍어 올리는 일만 남았다!\n",
      "--------------------------------------------------\n",
      "촉촉한 텍스처의 립글로스는 정교함이 생명인 매트한 립스틱보다 바르기 쉬워요. 그래서 금손이 아니라도 쉽게 따라 할 수 있어요. 리사의 셀카 속 입술을 관찰해봅시다! 은은한 광택이 도는 촉촉한 텍스처로 도톰한 입술을 표현했어요. 블랙 컬러라 작고 답답해 보일 수 있는 입술을 보완하기 위해 실제 입술보다 살짝 크게 라인을 잡아 오버립으로 채워줍니다. 입술이 포인트니까 다른 색조는 과감히 생략! 아이라인에만 힘을 주세요. 점막을 꼼꼼하게 채우고, 눈꼬리를 날렵하게 빼주면 리사처럼 힙’한 블랙 립 메이크업이 완성됩니다.\n",
      "--------------------------------------------------\n",
      "BLACKPINK가 공항 패션에서 보여준 비즈 목걸이는 일상에서도 쭉 함께하고 있어요. 알록달록한 비즈 사이에 위치한 스마일 펜던트가 위트있죠? 리사의 블랙 재킷 룩에도 지수의 캐주얼한 레드 티셔츠에도 찰떡궁합! 어디에나 잘 어울리는 비즈 목걸이의 스펙트럼, 대단해~!, <BLACKPINK 리사와 지수></BLACKPINK>\n",
      "--------------------------------------------------\n",
      "BLACKPINK 리사와 제니의 룩에서 알 수 있듯 봄날의 화이트는 그야말로 만능 컬러! 리사처럼 화이트 크롭톱을 데님과 매치하거나 제니처럼 블랙 로고 플레이의 화이트 드레스를 선택해보시길. 여기에 큼지막한 빅 사이즈 블랙 선글라스는 룩을 시크하게 마무리해주는 키 액세서리다.\n",
      "--------------------------------------------------\n",
      "<엘르> 뮤즈가 되어 꽃과 함께 촬영했어요. 누군가에게 꽃 선물을 한다면 지수 가장 좋아하는 은방울꽃을 다른 이들에게도 선물하고 싶어요. 제니 노란 히아신스. 제 탄생화예요. 로제 하얀 장미는 화이트 초콜릿을 연상케 해요. 가까이 두고 기분이 좋아지라며 선물할래요. 리사 순수하면서도 러블리한 느낌의 핑크색 장미., BLACKPINK 소개란에 꼭 넣고 싶은 수식어는 지수 항상 색다른’. 제니 영감을 주는’. 리사 다양한 매력의’. 로제 실력파’., 나란 사람을 가장 잘 표현할 수 있는 단어는 지수 미소. 로제 솔직함, 음악, 긍정심. 리사 댄스, BLACKPINK, 남동생. 제니 Shiny, New, Black., <블핑하우스>에서 우리 이거 해볼까라고 시작해 착착 해나가는 모습이 보기 좋아요. 함께해서 좋은 점은 지수 무엇을 하든 든든해요. 그래서 새로운 도전도 마음 편하게 시도할 수 있어요. 무엇보다 넷이서 무대에 있을 때 가장 즐거워요. 제니 서로 믿고 의지해서 실패에 대한 두려움이 없어요. 음악적으로 많은 걸 해보고 싶어요. 로제 하루도 심심할 겨를이 없어요. 각자 성격은 다르지만 오랜 시간 함께해서 말하지 않아도 통해요. 리사 가족 같아요. 가장 가까운 사람들과 하고 싶은 것을 함께 한다는 게 너무 기뻐요., 멤버만 아는 서로의 재능은 로제 일단 지수 언니는 게임을 굉장히 잘해요. 게임을 시작하면 걸 크러시’ 모드가 돼요. 제니 언니는 촉이 남달라요. 언니가 그건 이렇게 될 것 같아라고 하면 정말 비슷한 일이 일어나요. 그리고 리사는 진정한 흥부자’예요. 원래 춤을 잘 추지만 특이한 춤도 잘 춰요. 지수 리사는 사진도 잘 찍어요. 사진에 관심을 갖더니 요즘 전문가처럼 찍어요. 리사 만화를 많이 보는 지수 언니는 만화 캐릭터 목소리로 말을 할 수 있어요., BLACKPINK로서 무엇을 더 잘하고 싶나요 제니 사람들과 음악 신에 좋은 영향을 주고 싶어요. 리사 랩과 춤을 잘하고 싶어요. 더 멋있게. 로제 항상 힘이 돼주는 블링크’ 팬들에게 더 좋은 음악을 들려주기. 지수 무대에서 가장 빛나는 아티스트가 되길 꿈꿔요., (왼쪽부터) 리사가 입은 볼륨감을 강조한 슬리브리스드레스, 펜던트 네크리스, 블랙 아이코닉 샌들, 오른손에 쥔 플라워 장식의 트위스트 백은 가격 미정, 모두 Louis Vuitton. 지수가 입은 플라워 포인트의 블랙 페이턴트 톱, 골드 뱅글들은 가격 미정, Louis Vuitton. 브리프와 블랙 힐은 스타일리스트 소장품. 제니가 입은 러플 장식이 인상적인 플라워 패턴의 크롭트 톱, 블랙 미니스커트는 가격 미정, 모두 Louis Vuitton. 블랙 힐은 스타일리스트 소장품. 로제가 입은 러플 디테일의 플라워 프린트 톱, 골드 이어링은 가격 미정, 모두 Louis Vuitton. 블랙 스키니 팬츠와 블랙 힐은 가격 미정, 모두 스타일리스트 소장품.\n",
      "--------------------------------------------------\n",
      "지수가 입은 파워 숄더 톱과 페이턴트 스커트, 리사가 입은 원 숄더 벨벳 드레스와 사이하이 부츠, 제니가 입은 오프숄더 실크 톱과 페이턴트 팬츠, 로제가 입은 슬리브리스 톱과 드레이핑 스커트, 레더 부츠는 모두 Saint Laurent by Anthony Vaccarello., 로제가 입은 풍성한 프린지 디테일의 원 숄더 드레스와 레더 부츠, 지수가 입은 오버사이즈 후디드 톱과 블랙 셔츠, 도트 패턴의 티어드 스커트, 드레이핑 부츠, 리사가 입은 퍼 트리밍 블루종과 드레이핑 스커트는 모두 Saint Laurent by Anthony Vaccarello., 제니가 입은 과장된 벨 슬리브 톱과 레더 쇼츠, 앵클 스트랩 펌프스, 크리스털 이어링, 리사가 입은 샤이니한 무통 재킷과 레더 스커트, 터틀넥 스웨터, 드레이핑 부츠는 모두 Saint Laurent by Anthony Vaccarello., 지수가 입은 자카르 재킷과 블랙 톱, 레더 스커트, 제니가 입은 비즈 재킷과 블랙 톱, 로제가 입은 플리츠 셔츠와 비즈 장식의 트윌, 레더 쇼츠, 리사가 입은 화이트 면 티셔츠와 베스트는 모두 Saint Laurent by Anthony Vaccarello., 리사가 입은 화이트 티셔츠와 비즈 장식 베스트, 데님 팬츠, 로고 힐 펌프스, 지수가 입은 자카르 재킷과 블랙 톱, 레더 스커트와 부츠, 제니가 입은 비즈 재킷과 블랙 톱, 스키니 벨트, 데님 스커트, 레더 부츠, 로제가 입은 블랙 셔츠와 비딩 장식 베스트, 레더 쇼츠, 앵클부츠는 모두 Saint Laurent by Anthony Vaccarello., 리사가 입은 원 숄더 레더 롱 드레스와 블랙 부츠, 제니가 입은 오버사이즈 블루종과 슬로건 장식의 티셔츠, 레이어드한 풀오버, 플리츠스커트, 레더 부츠, 뉴스보이 캡, 로제가 입은 볼드한 드레이핑 레더 드레스와 블랙 부츠는 모두 Saint Laurent by Anthony Vaccarello., 머릿속에 선명히 대조되는 두 단어를 붙인 이름을 스마트폰 검색창에 넣어봤다. 최근 싱글 마지막처럼’ 뮤직비디오가 유튜브에서 K팝 그룹 노래 중 역대 최단 기간 6000만 뷰를 돌파했다는 뉴스가 뜬다. 지난해 8월에 데뷔한 BLACKPINK는 이미 휘파람’ 붐바야’ 불장난’까지 1억 뷰 뮤직비디오를 세 편이나 보유하고 있다. 글로벌한 팬덤을 거느린 YG엔터테인먼트가 오랫동안 공들여 선보인 신인 걸 그룹. 매력적인 비주얼과 트렌디한 음악, 빈틈없이 화려한 퍼포먼스는 뭐가 새로울 수 있을까?’라는 질문을 단숨에 무색하게 만들었다. 그리고 오늘 <엘르> 코리아 최초로 K팝 그룹 단체 커버의 주인공이 됐다. 치열한 경쟁 속에서 수 년 동안 트레이닝받은 네 명의 정예 멤버 지수, 제니, 로제, 리사. 신비주의를 벗고 각종 음악 방송과 예능 프로그램에 얼굴을 내비치느라 바쁜 그녀들이 애써 피곤한 기색을 털고 스튜디오에 들어섰다., 로제와 스물한 살 동갑내기인 태국 출신의 리사 또한 YG 해외 오디션을 통해 발탁된 멤버. 빅뱅과 2NE1의 음악을 들으며 K팝 가수에 대한 꿈을 품었기에 합격의 기쁨은 더욱 컸다. 정말 하고 싶은 일이라 전혀 고민하지 않았어요. 외동딸이라 엄마 아빠는 걱정이 많으셨지만요. 4년간 매일 2시간씩 한국어를 공부했고 감자탕을 즐겨 먹는 리사에게 대한민국은 낯선 타국이 아니다. 한국에 온 지 얼마 안 됐을 때부터 그냥 제 집 같았어요. 지하철도 잘 타고 길도 잘 찾아 다녀요. 데뷔 후 오랜만에 가족을 만나러 방콕에 다녀온 리사는 고국에서 벌써 자신의 얼굴을 알아보는 팬이 생긴 데 놀랐다. 일본 진출을 앞두고 있는 요즘, 국경을 넘나들며 사는 경험이 새삼 경이롭게 느껴지는 듯하다. 신기해요. 제가 어떻게 여기까지 왔을까 하는 생각이 들어요.\n",
      "--------------------------------------------------\n",
      " BLACKPINK 리사 ,  BLACKPINK 리사 , 무게감 있는 풀 뱅 헤어로 인스타를 찢어버린 BLACKPINK 리사. 가까이서 찍어도 굴욕 없는 얼굴은 어디서 사죠? 블랙 헤어와 이국적인 컬러의 렌즈, 펄감이 빛나는 립스틱의 삼위일체!\n",
      "--------------------------------------------------\n",
      " BRILLIANT WONDERLAND n불가리의 뉴 아이코닉 워치, 세르펜티 세두토리의 론칭 파티는 콘서트장을 방불케 했다. 가수 크러쉬와 지코의 열정적인 공연이 펼쳐졌기 때문. 고막 남친으로 불리는 크러쉬의 감미로운 목소리에 에디터 또한 감탄! 주얼리 하우스가 주최하는 포멀한 파티엔 어떤 룩을 연출하면 좋을까? BLACKPINK 리사의 룩처럼 LBD가 안전한 선택이 될 수 있다. 그렇다면, 남성들은? 모던하게 변주된 블랙 턱시도 슈트를 추천! 여기에 티셔츠를 매치하면, 편하고도 격식 있는 슈트 룩을 완성할 수 있다.\n",
      "--------------------------------------------------\n",
      "데뷔 전부터 YG 식구들과 호흡을 맞춰왔던 터라 낯이 익은 멤버들이 있다. 제니는 GD의 그XX’ 뮤직비디오 속 여주인공 역할과 블랙’의 피처링을 도우며 지드래곤의 그녀’라고 불렸으며, 리사는 태국 출신으로 YG의 20년 역사상 최초 외국인 멤버로 알려졌다. 지수는 에픽하이의 스포일러’, 헤픈엔딩’, 하이&수현의 나는달라’ 뮤직비디오와 아이콘과 함께한 CF에서 얼굴을 알렸다. 가장 베일에 쌓인 로제는 팀의 막내이자 메인 보컬로 YG의 야심작이라고 전해진다. 벌써부터 음원 차트와 소셜 피드를 뜨겁게 달구고 있는 소녀들의 이름은 이제 모두 외웠고, 무대 위 그녀들의 모습이 기다려진다.\n",
      "--------------------------------------------------\n"
     ]
    }
   ],
   "source": [
    "for word in mag_lisa['word_lisa']:\n",
    "    if '블랙' in word:\n",
    "        print(word)\n",
    "        print('-'*50)"
   ]
  },
  {
   "cell_type": "code",
   "execution_count": 190,
   "metadata": {},
   "outputs": [],
   "source": [
    "mag_lisa['word_lisa'] = mag_lisa['word_lisa'].str.replace('블랙핑크', 'BLACKPINK')"
   ]
  },
  {
   "cell_type": "markdown",
   "metadata": {},
   "source": [
    "### 샤넬"
   ]
  },
  {
   "cell_type": "code",
   "execution_count": 163,
   "metadata": {},
   "outputs": [],
   "source": [
    "for word in mag_lisa['word_lisa']:\n",
    "    if '셀린' in word:\n",
    "        print(word)\n",
    "        print('-'*50)"
   ]
  },
  {
   "cell_type": "code",
   "execution_count": 164,
   "metadata": {},
   "outputs": [],
   "source": [
    "mag_lisa['word_lisa'] = mag_lisa['word_lisa'].str.replace('샤넬', 'CHANEL')"
   ]
  },
  {
   "cell_type": "code",
   "execution_count": 165,
   "metadata": {},
   "outputs": [],
   "source": [
    "# 디올\n",
    "mag_lisa['word_lisa'] = mag_lisa['word_lisa'].str.replace('디올', 'DIOR')"
   ]
  },
  {
   "cell_type": "code",
   "execution_count": 166,
   "metadata": {},
   "outputs": [],
   "source": [
    "# 셀린느\n",
    "mag_lisa['word_lisa'] = mag_lisa['word_lisa'].str.replace('셀린느', 'CELINE')\n"
   ]
  },
  {
   "cell_type": "code",
   "execution_count": 167,
   "metadata": {},
   "outputs": [],
   "source": [
    "# 셀린\n",
    "mag_lisa['word_lisa'] = mag_lisa['word_lisa'].str.replace('셀린', 'CELINE')"
   ]
  },
  {
   "cell_type": "code",
   "execution_count": 168,
   "metadata": {},
   "outputs": [],
   "source": [
    "# 생로랑\n",
    "mag_lisa['word_lisa'] = mag_lisa['word_lisa'].str.replace('생 로랑', 'SAINTLAURENT')\n",
    "mag_lisa['word_lisa'] = mag_lisa['word_lisa'].str.replace('생로랑', 'SAINTLAURENT')"
   ]
  },
  {
   "cell_type": "code",
   "execution_count": null,
   "metadata": {},
   "outputs": [],
   "source": []
  },
  {
   "cell_type": "code",
   "execution_count": null,
   "metadata": {},
   "outputs": [],
   "source": []
  },
  {
   "cell_type": "code",
   "execution_count": null,
   "metadata": {},
   "outputs": [],
   "source": []
  },
  {
   "cell_type": "markdown",
   "metadata": {},
   "source": [
    "## list(article_list) 생성 후 append"
   ]
  },
  {
   "cell_type": "code",
   "execution_count": 169,
   "metadata": {},
   "outputs": [],
   "source": [
    "contents_list = []"
   ]
  },
  {
   "cell_type": "code",
   "execution_count": 191,
   "metadata": {},
   "outputs": [],
   "source": [
    "article_list = []\n",
    "for word in mag_lisa['word_lisa']:\n",
    "    article_list.append(word)"
   ]
  },
  {
   "cell_type": "code",
   "execution_count": 192,
   "metadata": {},
   "outputs": [
    {
     "data": {
      "text/plain": [
       "71"
      ]
     },
     "execution_count": 192,
     "metadata": {},
     "output_type": "execute_result"
    }
   ],
   "source": [
    "len(article_list)"
   ]
  },
  {
   "cell_type": "markdown",
   "metadata": {},
   "source": [
    "## 트위터 패키지 안에 konlpy 모듈 호출"
   ]
  },
  {
   "cell_type": "code",
   "execution_count": 193,
   "metadata": {},
   "outputs": [],
   "source": [
    "from konlpy.tag import Twitter"
   ]
  },
  {
   "cell_type": "code",
   "execution_count": 194,
   "metadata": {},
   "outputs": [],
   "source": [
    "twitter = Twitter()"
   ]
  },
  {
   "cell_type": "markdown",
   "metadata": {},
   "source": [
    "### 각 문장별로 형태소 구분하기"
   ]
  },
  {
   "cell_type": "code",
   "execution_count": 195,
   "metadata": {},
   "outputs": [
    {
     "name": "stdout",
     "output_type": "stream",
     "text": [
      "71\n"
     ]
    }
   ],
   "source": [
    "sentences_tag = []\n",
    "\n",
    "for sentence in article_list:\n",
    "    morph = twitter.pos(sentence)\n",
    "    sentences_tag.append(morph)\n",
    "    \n",
    "    \n",
    "\n",
    "print(len(sentences_tag))\n"
   ]
  },
  {
   "cell_type": "code",
   "execution_count": 196,
   "metadata": {},
   "outputs": [
    {
     "data": {
      "text/plain": [
       "[('시어', 'Noun'),\n",
       " ('한', 'Josa'),\n",
       " ('소재', 'Noun'),\n",
       " ('의', 'Josa'),\n",
       " ('아가', 'Noun'),\n",
       " ('일', 'Noun'),\n",
       " ('패턴', 'Noun'),\n",
       " ('블라우스', 'Noun'),\n",
       " ('에', 'Josa'),\n",
       " ('레터', 'Noun'),\n",
       " ('링', 'Noun'),\n",
       " ('장식', 'Noun'),\n",
       " ('톱', 'Noun'),\n",
       " ('과', 'Josa'),\n",
       " ('펑키', 'Noun'),\n",
       " ('한', 'Josa'),\n",
       " ('무드', 'Noun'),\n",
       " ('의', 'Josa'),\n",
       " ('액세서리', 'Noun'),\n",
       " ('를', 'Josa'),\n",
       " ('레이어', 'Noun'),\n",
       " ('드해', 'Noun'),\n",
       " ('개성', 'Noun'),\n",
       " ('을', 'Josa'),\n",
       " ('더한', 'Adjective'),\n",
       " ('리사', 'Noun'),\n",
       " ('.', 'Punctuation')]"
      ]
     },
     "execution_count": 196,
     "metadata": {},
     "output_type": "execute_result"
    }
   ],
   "source": [
    "sentences_tag[0]"
   ]
  },
  {
   "cell_type": "code",
   "execution_count": 197,
   "metadata": {},
   "outputs": [
    {
     "data": {
      "text/plain": [
       "{'Adjective': '형용사',\n",
       " 'Adverb': '부사',\n",
       " 'Alpha': '알파벳',\n",
       " 'Conjunction': '접속사',\n",
       " 'Determiner': '관형사',\n",
       " 'Eomi': '어미',\n",
       " 'Exclamation': '감탄사',\n",
       " 'Foreign': '외국어, 한자 및 기타기호',\n",
       " 'Hashtag': '트위터 해쉬태그',\n",
       " 'Josa': '조사',\n",
       " 'KoreanParticle': '(ex: ㅋㅋ)',\n",
       " 'Noun': '명사',\n",
       " 'Number': '숫자',\n",
       " 'PreEomi': '선어말어미',\n",
       " 'Punctuation': '구두점',\n",
       " 'ScreenName': '트위터 아이디',\n",
       " 'Suffix': '접미사',\n",
       " 'Unknown': '미등록어',\n",
       " 'Verb': '동사'}"
      ]
     },
     "execution_count": 197,
     "metadata": {},
     "output_type": "execute_result"
    }
   ],
   "source": [
    "twitter.tagset"
   ]
  },
  {
   "cell_type": "markdown",
   "metadata": {},
   "source": [
    "### stopword 추가"
   ]
  },
  {
   "cell_type": "code",
   "execution_count": 249,
   "metadata": {},
   "outputs": [],
   "source": [
    "sw_df = pd.read_csv('stopwords.csv', header=None)"
   ]
  },
  {
   "cell_type": "code",
   "execution_count": 250,
   "metadata": {},
   "outputs": [],
   "source": [
    "sw_df.columns = ['stopword']"
   ]
  },
  {
   "cell_type": "code",
   "execution_count": 251,
   "metadata": {},
   "outputs": [],
   "source": [
    "stop_words = []\n",
    "for sw in sw_df['stopword']:\n",
    "    stop_words.append(sw)"
   ]
  },
  {
   "cell_type": "code",
   "execution_count": 252,
   "metadata": {},
   "outputs": [
    {
     "name": "stdout",
     "output_type": "stream",
     "text": [
      "675\n",
      "<class 'list'>\n"
     ]
    }
   ],
   "source": [
    "print(len(stop_words))\n",
    "print(type(stop_words))"
   ]
  },
  {
   "cell_type": "code",
   "execution_count": 253,
   "metadata": {},
   "outputs": [
    {
     "data": {
      "text/plain": [
       "['둘', '셋', '넷', '다섯', '여섯', '일곱', '여덟', '아홉', '령', '영']"
      ]
     },
     "execution_count": 253,
     "metadata": {},
     "output_type": "execute_result"
    }
   ],
   "source": [
    "stop_words[-10:]"
   ]
  },
  {
   "cell_type": "code",
   "execution_count": 254,
   "metadata": {},
   "outputs": [],
   "source": [
    "add_0 = ['것', '수', '때', '의', '있는', '더', '그', 'I', '위', '전', \n",
    "         '이', '같은', '제', '〉', 'a', 'to', '〈', '것']\n",
    "for w in add_0:\n",
    "    stop_words.append(w)"
   ]
  },
  {
   "cell_type": "code",
   "execution_count": null,
   "metadata": {},
   "outputs": [],
   "source": []
  },
  {
   "cell_type": "markdown",
   "metadata": {},
   "source": [
    "### 1. 명사, 형용사, 관형사, 알파벳, 외국어 품사만 선별해 리스트에 담기"
   ]
  },
  {
   "cell_type": "code",
   "execution_count": 262,
   "metadata": {},
   "outputs": [],
   "source": [
    "noun_adj_list= []\n",
    "for sentence1 in sentences_tag:\n",
    "    for word, tag in sentence1:\n",
    "        if tag in ['Noun', 'Adjective', 'Alpha', 'Determiner', 'Foreign']:\n",
    "            if not word in stop_words:\n",
    "                noun_adj_list.append(word)"
   ]
  },
  {
   "cell_type": "code",
   "execution_count": 263,
   "metadata": {},
   "outputs": [
    {
     "data": {
      "text/plain": [
       "5105"
      ]
     },
     "execution_count": 263,
     "metadata": {},
     "output_type": "execute_result"
    }
   ],
   "source": [
    "len(noun_adj_list)"
   ]
  },
  {
   "cell_type": "code",
   "execution_count": 264,
   "metadata": {},
   "outputs": [
    {
     "data": {
      "text/plain": [
       "['시어',\n",
       " '소재',\n",
       " '아가',\n",
       " '패턴',\n",
       " '블라우스',\n",
       " '레터',\n",
       " '링',\n",
       " '장식',\n",
       " '톱',\n",
       " '펑키',\n",
       " '무드',\n",
       " '액세서리',\n",
       " '레이어',\n",
       " '드해',\n",
       " '개성',\n",
       " '더한',\n",
       " '리사',\n",
       " 'MAC',\n",
       " '브랜드',\n",
       " '앰배서더']"
      ]
     },
     "execution_count": 264,
     "metadata": {},
     "output_type": "execute_result"
    }
   ],
   "source": [
    "noun_adj_list[:20]"
   ]
  },
  {
   "cell_type": "code",
   "execution_count": 265,
   "metadata": {},
   "outputs": [
    {
     "data": {
      "text/plain": [
       "['시어', '소재', '아가', '패턴', '블라우스', '레터', '링', '장식', '톱', '펑키']"
      ]
     },
     "execution_count": 265,
     "metadata": {},
     "output_type": "execute_result"
    }
   ],
   "source": [
    "noun_adj_list[:10]"
   ]
  },
  {
   "cell_type": "markdown",
   "metadata": {},
   "source": [
    "### 선별된 품사별 빈도수 계산 & 상위 빈도 10위까지 출력"
   ]
  },
  {
   "cell_type": "code",
   "execution_count": 266,
   "metadata": {
    "scrolled": true
   },
   "outputs": [
    {
     "name": "stdout",
     "output_type": "stream",
     "text": [
      "[('리사', 158), ('BLACKPINK', 60), ('제니', 41), ('블랙', 37), ('룩', 35), ('로제', 35), ('지수', 35), ('컬러', 33), ('걸', 27), ('부츠', 24), ('톱', 22), ('메이크업', 21), ('멤버', 20), ('모습', 20), ('프라다', 20), ('매치', 18), ('레드', 18), ('and', 17), ('스타', 17), ('백', 17), ('있어요', 17), ('장식', 16), ('패션', 16), ('포인트', 16), ('재킷', 16), ('말', 16), ('스커트', 16), ('선택', 15), ('무대', 15), ('비즈', 14), ('MAC', 13), ('해', 13), ('the', 13), ('같아요', 13), ('사진', 13), ('지금', 13), ('그녀', 13), ('매력', 13), ('레더', 13), ('라인', 12), ('스타일', 12), ('요', 12), ('you', 11), ('of', 11), ('입술', 11), ('엘르', 11), ('속', 11), ('K', 11), ('사람', 11), ('in', 10), ('립스틱', 10), ('거', 10), ('CELINE', 10), ('완성', 10), ('음악', 10), ('드레스', 10), ('쇼', 10), ('화이트', 10), ('가장', 10), ('생각', 10), ('소재', 9), ('패턴', 9), ('that', 9), ('시도', 9), ('by', 9), ('크롭트', 9), ('분위기', 9), ('팬츠', 9), ('미니', 9), ('골드', 9), ('연출', 9), ('커버', 9), ('중', 9), ('데뷔', 9), ('게', 9), ('언니', 9), ('꿈', 8), ('시작', 8), ('촬영', 8), ('다양한', 8), ('립', 8), ('필름', 8), ('체인', 8), ('목걸이', 8), ('눈', 8), ('아이템', 8), ('좋은', 8), ('티셔츠', 8), ('듯', 8), ('니트', 8), ('데님', 8), ('안', 8), ('정말', 8), ('요즘', 8), ('무드', 7), ('my', 7), ('항상', 7), ('숄더', 7), ('헤어', 7), ('시즌', 7), ('하이', 7), ('뮤직비디오', 7), ('차트', 7), ('입니다', 7), ('오버', 7), ('자리', 7), ('힘', 7), ('활용', 7), ('꽃', 7), ('팝', 7), ('느낌', 7), ('얼굴', 7), ('이제', 7), ('S', 7), ('가격', 7), ('운동', 7), ('액세서리', 6), ('브랜드', 6), ('팬', 6), ('참석', 6), ('like', 6), ('아름다', 6), ('움', 6), ('보고', 6), ('늘', 6), ('on', 6), ('your', 6), ('카메라', 6), ('있을', 6), ('강렬한', 6), ('트리', 6), ('대한', 6), ('없는', 6), ('유튜브', 6), ('여성', 6), ('클래식', 6), ('세계', 6), ('그룹', 6), ('블루', 6), ('웃음', 6), ('연습', 6), ('별', 6), ('모양', 6), ('많은', 6), ('앨범', 6), ('마음', 6), ('가지', 6), ('미정', 6), ('Saint', 6), ('Laurent', 6), ('Anthony', 6), ('Vaccarello', 6), ('공개', 6), ('스스로', 6), ('펑키', 5), ('it', 5), ('an', 5), ('makeup', 5), ('is', 5), ('일링', 5), ('노력', 5), ('lip', 5), ('아이라인', 5), ('연습생', 5), ('모델', 5), ('끝', 5), ('로고', 5), ('한', 5), ('트렌디', 5), ('사이즈', 5), ('순간', 5), ('데', 5), ('디자인', 5), ('주얼', 5), ('알', 5), ('플라워', 5), ('콘서트', 5), ('디자이너', 5), ('주인공', 5), ('점', 5), ('셔츠', 5), ('사실', 5), ('없어요', 5), ('화보', 5), ('음식', 5), ('위해', 5), ('기도', 5), ('오늘', 5), ('머리', 5), ('활동', 5), ('건', 5), ('대', 5), ('뮤직', 5), ('LEE', 5), ('옆', 5), ('좋아하는', 5), ('드레이핑', 5), ('편이', 5), ('YG', 5), ('때문', 5)]\n"
     ]
    }
   ],
   "source": [
    "word = Counter(noun_adj_list)\n",
    "print(word.most_common(200))"
   ]
  },
  {
   "cell_type": "code",
   "execution_count": 267,
   "metadata": {},
   "outputs": [],
   "source": [
    "# # 한 글자인 단어는 제외\n",
    "\n",
    "# for i, v in enumerate(noun_adj_list):\n",
    "#     if len(v)<2:\n",
    "#         noun_adj_list.pop(i)"
   ]
  },
  {
   "cell_type": "code",
   "execution_count": 268,
   "metadata": {},
   "outputs": [],
   "source": [
    "count = Counter(noun_adj_list)"
   ]
  },
  {
   "cell_type": "code",
   "execution_count": 269,
   "metadata": {},
   "outputs": [
    {
     "name": "stdout",
     "output_type": "stream",
     "text": [
      "('리사', 158)\n",
      "('BLACKPINK', 60)\n",
      "('제니', 41)\n",
      "('블랙', 37)\n",
      "('룩', 35)\n",
      "('로제', 35)\n",
      "('지수', 35)\n",
      "('컬러', 33)\n",
      "('걸', 27)\n",
      "('부츠', 24)\n",
      "('톱', 22)\n",
      "('메이크업', 21)\n",
      "('멤버', 20)\n",
      "('모습', 20)\n",
      "('프라다', 20)\n",
      "('매치', 18)\n",
      "('레드', 18)\n",
      "('and', 17)\n",
      "('스타', 17)\n",
      "('백', 17)\n",
      "('있어요', 17)\n",
      "('장식', 16)\n",
      "('패션', 16)\n",
      "('포인트', 16)\n",
      "('재킷', 16)\n",
      "('말', 16)\n",
      "('스커트', 16)\n",
      "('선택', 15)\n",
      "('무대', 15)\n",
      "('비즈', 14)\n",
      "('MAC', 13)\n",
      "('해', 13)\n",
      "('the', 13)\n",
      "('같아요', 13)\n",
      "('사진', 13)\n",
      "('지금', 13)\n",
      "('그녀', 13)\n",
      "('매력', 13)\n",
      "('레더', 13)\n",
      "('라인', 12)\n",
      "('스타일', 12)\n",
      "('요', 12)\n",
      "('you', 11)\n",
      "('of', 11)\n",
      "('입술', 11)\n",
      "('엘르', 11)\n",
      "('속', 11)\n",
      "('K', 11)\n",
      "('사람', 11)\n",
      "('in', 10)\n",
      "('립스틱', 10)\n",
      "('거', 10)\n",
      "('CELINE', 10)\n",
      "('완성', 10)\n",
      "('음악', 10)\n",
      "('드레스', 10)\n",
      "('쇼', 10)\n",
      "('화이트', 10)\n",
      "('가장', 10)\n",
      "('생각', 10)\n",
      "('소재', 9)\n",
      "('패턴', 9)\n",
      "('that', 9)\n",
      "('시도', 9)\n",
      "('by', 9)\n",
      "('크롭트', 9)\n",
      "('분위기', 9)\n",
      "('팬츠', 9)\n",
      "('미니', 9)\n",
      "('골드', 9)\n",
      "('연출', 9)\n",
      "('커버', 9)\n",
      "('중', 9)\n",
      "('데뷔', 9)\n",
      "('게', 9)\n",
      "('언니', 9)\n",
      "('꿈', 8)\n",
      "('시작', 8)\n",
      "('촬영', 8)\n",
      "('다양한', 8)\n",
      "('립', 8)\n",
      "('필름', 8)\n",
      "('체인', 8)\n",
      "('목걸이', 8)\n",
      "('눈', 8)\n",
      "('아이템', 8)\n",
      "('좋은', 8)\n",
      "('티셔츠', 8)\n",
      "('듯', 8)\n",
      "('니트', 8)\n",
      "('데님', 8)\n",
      "('안', 8)\n",
      "('정말', 8)\n",
      "('요즘', 8)\n",
      "('무드', 7)\n",
      "('my', 7)\n",
      "('항상', 7)\n",
      "('숄더', 7)\n",
      "('헤어', 7)\n",
      "('시즌', 7)\n",
      "('하이', 7)\n",
      "('뮤직비디오', 7)\n",
      "('차트', 7)\n",
      "('입니다', 7)\n",
      "('오버', 7)\n",
      "('자리', 7)\n",
      "('힘', 7)\n",
      "('활용', 7)\n",
      "('꽃', 7)\n",
      "('팝', 7)\n",
      "('느낌', 7)\n",
      "('얼굴', 7)\n",
      "('이제', 7)\n",
      "('S', 7)\n",
      "('가격', 7)\n",
      "('운동', 7)\n",
      "('액세서리', 6)\n",
      "('브랜드', 6)\n",
      "('팬', 6)\n",
      "('참석', 6)\n",
      "('like', 6)\n",
      "('아름다', 6)\n",
      "('움', 6)\n",
      "('보고', 6)\n",
      "('늘', 6)\n",
      "('on', 6)\n",
      "('your', 6)\n",
      "('카메라', 6)\n",
      "('있을', 6)\n",
      "('강렬한', 6)\n",
      "('트리', 6)\n",
      "('대한', 6)\n",
      "('없는', 6)\n",
      "('유튜브', 6)\n",
      "('여성', 6)\n",
      "('클래식', 6)\n",
      "('세계', 6)\n",
      "('그룹', 6)\n",
      "('블루', 6)\n",
      "('웃음', 6)\n",
      "('연습', 6)\n",
      "('별', 6)\n",
      "('모양', 6)\n",
      "('많은', 6)\n",
      "('앨범', 6)\n",
      "('마음', 6)\n",
      "('가지', 6)\n",
      "('미정', 6)\n",
      "('Saint', 6)\n",
      "('Laurent', 6)\n",
      "('Anthony', 6)\n",
      "('Vaccarello', 6)\n",
      "('공개', 6)\n",
      "('스스로', 6)\n",
      "('펑키', 5)\n",
      "('it', 5)\n",
      "('an', 5)\n",
      "('makeup', 5)\n",
      "('is', 5)\n",
      "('일링', 5)\n",
      "('노력', 5)\n",
      "('lip', 5)\n",
      "('아이라인', 5)\n",
      "('연습생', 5)\n",
      "('모델', 5)\n",
      "('끝', 5)\n",
      "('로고', 5)\n",
      "('한', 5)\n",
      "('트렌디', 5)\n",
      "('사이즈', 5)\n",
      "('순간', 5)\n",
      "('데', 5)\n",
      "('디자인', 5)\n",
      "('주얼', 5)\n",
      "('알', 5)\n",
      "('플라워', 5)\n",
      "('콘서트', 5)\n",
      "('디자이너', 5)\n",
      "('주인공', 5)\n",
      "('점', 5)\n",
      "('셔츠', 5)\n",
      "('사실', 5)\n",
      "('없어요', 5)\n",
      "('화보', 5)\n",
      "('음식', 5)\n",
      "('위해', 5)\n",
      "('기도', 5)\n",
      "('오늘', 5)\n",
      "('머리', 5)\n",
      "('활동', 5)\n",
      "('건', 5)\n",
      "('대', 5)\n",
      "('뮤직', 5)\n",
      "('LEE', 5)\n",
      "('옆', 5)\n",
      "('좋아하는', 5)\n",
      "('드레이핑', 5)\n",
      "('편이', 5)\n",
      "('YG', 5)\n",
      "('때문', 5)\n"
     ]
    }
   ],
   "source": [
    "word_list = count.most_common(200)\n",
    "for v in word_list:\n",
    "    print(v)"
   ]
  },
  {
   "cell_type": "markdown",
   "metadata": {},
   "source": [
    "## 워드클라우드 만들기"
   ]
  },
  {
   "cell_type": "code",
   "execution_count": 243,
   "metadata": {},
   "outputs": [],
   "source": [
    "\n",
    "import matplotlib.pyplot as plt"
   ]
  },
  {
   "cell_type": "markdown",
   "metadata": {},
   "source": [
    "### 패키지 설치 및 폰트 어쩌구"
   ]
  },
  {
   "cell_type": "code",
   "execution_count": 244,
   "metadata": {},
   "outputs": [
    {
     "name": "stdout",
     "output_type": "stream",
     "text": [
      "Malgun Gothic C:\\WINDOWS\\Fonts\\malgun.ttf\n",
      "Yu Gothic C:\\WINDOWS\\Fonts\\YuGothB.ttc\n",
      "HYGothic-Extra C:\\WINDOWS\\Fonts\\H2GTRE.TTF\n",
      "Franklin Gothic Medium C:\\WINDOWS\\Fonts\\framdit.ttf\n",
      "Malgun Gothic C:\\Windows\\Fonts\\malgunbd.ttf\n",
      "Yu Gothic C:\\Windows\\Fonts\\YuGothL.ttc\n",
      "Century Gothic C:\\Windows\\Fonts\\GOTHIC.TTF\n",
      "Yu Gothic C:\\Windows\\Fonts\\YuGothM.ttc\n",
      "Yu Gothic C:\\WINDOWS\\Fonts\\YuGothR.ttc\n",
      "MS Gothic C:\\WINDOWS\\Fonts\\msgothic.ttc\n",
      "HYGothic-Medium C:\\WINDOWS\\Fonts\\H2GTRM.TTF\n",
      "Malgun Gothic C:\\WINDOWS\\Fonts\\malgunsl.ttf\n",
      "Century Gothic C:\\Windows\\Fonts\\GOTHICI.TTF\n",
      "Century Gothic C:\\WINDOWS\\Fonts\\GOTHICBI.TTF\n",
      "Century Gothic C:\\Windows\\Fonts\\GOTHICB.TTF\n",
      "Franklin Gothic Medium C:\\WINDOWS\\Fonts\\framd.ttf\n"
     ]
    }
   ],
   "source": [
    "import matplotlib.font_manager as fm\n",
    "\n",
    "# 이용 가능한 폰트 중 '고딕'만 선별\n",
    "for font in fm.fontManager.ttflist:\n",
    "    if 'Gothic' in font.name:\n",
    "        print(font.name, font.fname)"
   ]
  },
  {
   "cell_type": "code",
   "execution_count": 245,
   "metadata": {},
   "outputs": [],
   "source": [
    "font_path = 'C:\\WINDOWS\\Fonts\\malgun.ttf'"
   ]
  },
  {
   "cell_type": "markdown",
   "metadata": {},
   "source": [
    "### wordcloud 그리기"
   ]
  },
  {
   "cell_type": "code",
   "execution_count": 246,
   "metadata": {},
   "outputs": [],
   "source": [
    "from wordcloud import WordCloud"
   ]
  },
  {
   "cell_type": "code",
   "execution_count": 247,
   "metadata": {},
   "outputs": [],
   "source": [
    "wc = WordCloud(font_path=font_path, background_color=\"white\", width=600, height=400)"
   ]
  },
  {
   "cell_type": "code",
   "execution_count": 248,
   "metadata": {},
   "outputs": [
    {
     "data": {
      "image/png": "[encoded data removed]",
      "text/plain": [
       "<Figure size 432x288 with 1 Axes>"
      ]
     },
     "metadata": {
      "needs_background": "light"
     },
     "output_type": "display_data"
    },
    {
     "data": {
      "text/plain": [
       "<wordcloud.wordcloud.WordCloud at 0x239af2ba248>"
      ]
     },
     "execution_count": 248,
     "metadata": {},
     "output_type": "execute_result"
    }
   ],
   "source": [
    "wc.generate_from_frequencies(dict(word_list))\n",
    "\n",
    "plt.imshow(wc) \n",
    "plt.axis('off') \n",
    "plt.show()\n",
    "\n",
    "\n",
    "wc.to_file('lisa_adj_twitter.png')"
   ]
  },
  {
   "cell_type": "code",
   "execution_count": null,
   "metadata": {},
   "outputs": [],
   "source": []
  },
  {
   "cell_type": "code",
   "execution_count": null,
   "metadata": {},
   "outputs": [],
   "source": []
  },
  {
   "cell_type": "code",
   "execution_count": null,
   "metadata": {},
   "outputs": [],
   "source": []
  },
  {
   "cell_type": "code",
   "execution_count": null,
   "metadata": {},
   "outputs": [],
   "source": []
  },
  {
   "cell_type": "code",
   "execution_count": null,
   "metadata": {},
   "outputs": [],
   "source": []
  },
  {
   "cell_type": "code",
   "execution_count": null,
   "metadata": {},
   "outputs": [],
   "source": []
  },
  {
   "cell_type": "code",
   "execution_count": null,
   "metadata": {},
   "outputs": [],
   "source": []
  },
  {
   "cell_type": "code",
   "execution_count": null,
   "metadata": {},
   "outputs": [],
   "source": []
  },
  {
   "cell_type": "code",
   "execution_count": null,
   "metadata": {},
   "outputs": [],
   "source": []
  },
  {
   "cell_type": "code",
   "execution_count": null,
   "metadata": {},
   "outputs": [],
   "source": []
  },
  {
   "cell_type": "code",
   "execution_count": null,
   "metadata": {},
   "outputs": [],
   "source": []
  }
 ],
 "metadata": {
  "kernelspec": {
   "display_name": "Python 3",
   "language": "python",
   "name": "python3"
  },
  "language_info": {
   "codemirror_mode": {
    "name": "ipython",
    "version": 3
   },
   "file_extension": ".py",
   "mimetype": "text/x-python",
   "name": "python",
   "nbconvert_exporter": "python",
   "pygments_lexer": "ipython3",
   "version": "3.7.6"
  }
 },
 "nbformat": 4,
 "nbformat_minor": 2
}
