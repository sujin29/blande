{
 "cells": [
  {
   "cell_type": "code",
   "execution_count": 3,
   "metadata": {},
   "outputs": [],
   "source": [
    "import pandas as pd\n",
    "import numpy as np\n",
    "import re\n",
    "import networkx as nx\n",
    "import matplotlib.pyplot as plt"
   ]
  },
  {
   "cell_type": "code",
   "execution_count": 4,
   "metadata": {},
   "outputs": [],
   "source": [
    "from collections import Counter"
   ]
  },
  {
   "cell_type": "markdown",
   "metadata": {},
   "source": [
    "## 디올"
   ]
  },
  {
   "cell_type": "code",
   "execution_count": 10,
   "metadata": {},
   "outputs": [],
   "source": [
    "mag_d = pd.read_csv('./magazine/final/magazine_d_stickword.csv', sep ='|', encoding = 'utf-8')"
   ]
  },
  {
   "cell_type": "code",
   "execution_count": 11,
   "metadata": {},
   "outputs": [
    {
     "data": {
      "text/html": [
       "<div>\n",
       "<style scoped>\n",
       "    .dataframe tbody tr th:only-of-type {\n",
       "        vertical-align: middle;\n",
       "    }\n",
       "\n",
       "    .dataframe tbody tr th {\n",
       "        vertical-align: top;\n",
       "    }\n",
       "\n",
       "    .dataframe thead th {\n",
       "        text-align: right;\n",
       "    }\n",
       "</style>\n",
       "<table border=\"1\" class=\"dataframe\">\n",
       "  <thead>\n",
       "    <tr style=\"text-align: right;\">\n",
       "      <th></th>\n",
       "      <th>magazine</th>\n",
       "      <th>brand</th>\n",
       "      <th>title</th>\n",
       "      <th>link</th>\n",
       "      <th>date</th>\n",
       "      <th>word_dior</th>\n",
       "      <th>ADFN</th>\n",
       "      <th>ADFN_2</th>\n",
       "    </tr>\n",
       "  </thead>\n",
       "  <tbody>\n",
       "    <tr>\n",
       "      <th>0</th>\n",
       "      <td>A</td>\n",
       "      <td>D</td>\n",
       "      <td>빈티지 쇼핑의 시대</td>\n",
       "      <td>http://www.allurekorea.com/2020/10/27/%eb%b9%8...</td>\n",
       "      <td>2020-10-27</td>\n",
       "      <td>['그러니 빈티지 패션은, 어쩌면 나도 좋고 너도 좋은 일이다. 당시 사랑했던, 지...</td>\n",
       "      <td>['빈티지', '패션', '좋', '느', '좋', '당시', '사랑', '사랑',...</td>\n",
       "      <td>['빈티지', '패션', '좋', '느', '좋', '당시', '사랑', '사랑',...</td>\n",
       "    </tr>\n",
       "    <tr>\n",
       "      <th>1</th>\n",
       "      <td>A</td>\n",
       "      <td>D</td>\n",
       "      <td>주식을 시작한 패션 에디터의 이야기, 나는 주주다</td>\n",
       "      <td>http://www.allurekorea.com/2020/10/16/%ec%a3%b...</td>\n",
       "      <td>2020-10-16</td>\n",
       "      <td>['  요즘 들어 주식은 친구들과의 대화에서 빼놓을 수 없는 주제가 되었다. 코로나...</td>\n",
       "      <td>['요즘', '주식', '친구', '과의', '대화', '빼놓', '주제', '코로...</td>\n",
       "      <td>['요즘', '주식', '친구', '과의', '대화', '빼놓', '주제', '코로...</td>\n",
       "    </tr>\n",
       "    <tr>\n",
       "      <th>2</th>\n",
       "      <td>A</td>\n",
       "      <td>D</td>\n",
       "      <td>거리로 나온 하이패션 슈즈들 4</td>\n",
       "      <td>http://www.allurekorea.com/2020/09/16/%eb%a6%a...</td>\n",
       "      <td>2020-09-16</td>\n",
       "      <td>[\"['나이키의 조던 시리즈들 중에서도 역대급으로 평가받는 ‘에어 디올’은 부르는 ...</td>\n",
       "      <td>['나이', '조', '덜', '시리즈', '역대', '급', '평가', '에어',...</td>\n",
       "      <td>['나이', '조', '덜', '시리즈', '역대', '급', '평가', '에어',...</td>\n",
       "    </tr>\n",
       "    <tr>\n",
       "      <th>3</th>\n",
       "      <td>A</td>\n",
       "      <td>D</td>\n",
       "      <td>차정원부터 아이린까지. 옷 잘입는 셀럽들의 사복 패션에 등장한 뉴 백은 무엇?</td>\n",
       "      <td>http://www.allurekorea.com/2020/08/13/%ec%b0%a...</td>\n",
       "      <td>2020-08-13</td>\n",
       "      <td>['디올 레이디 디올 디올아무르 미니백 5백만원대']</td>\n",
       "      <td>['DIOR', 'LADY', 'DIOR', 'DIOR', '아무르', '미니']</td>\n",
       "      <td>['DIOR', 'LADY', 'DIOR', 'DIOR', '아무르', '미니']</td>\n",
       "    </tr>\n",
       "    <tr>\n",
       "      <th>4</th>\n",
       "      <td>A</td>\n",
       "      <td>D</td>\n",
       "      <td>DON’T CATEGORIZE ME / 유태오</td>\n",
       "      <td>http://www.allurekorea.com/2020/05/28/dont-cat...</td>\n",
       "      <td>2020-05-28</td>\n",
       "      <td>['실크 슬리브리스와 블랙 와이드 팬츠는 김서룡 옴므. 블랙 부츠는 보테가 베네타....</td>\n",
       "      <td>['실크', '슬리브리스', '블랙', '와이드', '팬츠', '김', '룡', '...</td>\n",
       "      <td>['실크', '슬리브리스', '블랙', '와이드', '팬츠', '김', '룡', '...</td>\n",
       "    </tr>\n",
       "    <tr>\n",
       "      <th>...</th>\n",
       "      <td>...</td>\n",
       "      <td>...</td>\n",
       "      <td>...</td>\n",
       "      <td>...</td>\n",
       "      <td>...</td>\n",
       "      <td>...</td>\n",
       "      <td>...</td>\n",
       "      <td>...</td>\n",
       "    </tr>\n",
       "    <tr>\n",
       "      <th>1754</th>\n",
       "      <td>W</td>\n",
       "      <td>D</td>\n",
       "      <td>가을의 하이킹</td>\n",
       "      <td>http://www.wkorea.com/2016/09/05/%ea%b0%80%ec%...</td>\n",
       "      <td>2016-09-05</td>\n",
       "      <td>['6. 주얼 장식과 앙증맞은 리본이 반전의 매력을 더하는 부츠는 디올 제품. 1백...</td>\n",
       "      <td>['얼', '장식', '앙증맞', '리본', '반전', '매력', '부츠', 'DI...</td>\n",
       "      <td>['얼', '장식', '앙증맞', '리본', '반전', '매력', '부츠', 'DI...</td>\n",
       "    </tr>\n",
       "    <tr>\n",
       "      <th>1755</th>\n",
       "      <td>W</td>\n",
       "      <td>D</td>\n",
       "      <td>W해시태그</td>\n",
       "      <td>http://www.wkorea.com/2016/09/02/w%ed%95%b4%ec...</td>\n",
       "      <td>2016-09-02</td>\n",
       "      <td>['#W뷰티콕  (뷰티 디렉터 송시은)\\\\n조회 2,023회\\\\n너무나 뜨거운 여름...</td>\n",
       "      <td>['W', '뷰티', '콕', '뷰티', '디렉터', '송', '시은', '조회',...</td>\n",
       "      <td>['W', '뷰티', '콕', '뷰티', '디렉터', '송', '시은', '조회',...</td>\n",
       "    </tr>\n",
       "    <tr>\n",
       "      <th>1756</th>\n",
       "      <td>W</td>\n",
       "      <td>D</td>\n",
       "      <td>마법의 색</td>\n",
       "      <td>http://www.wkorea.com/2016/09/02/%eb%a7%88%eb%...</td>\n",
       "      <td>2016-09-02</td>\n",
       "      <td>[\"'크리스찬 디올에게 초록은 곧 ‘자연’을, 빨강은 ‘생명’을, 분홍은 ‘감미로움...</td>\n",
       "      <td>['CHRISTIAN', 'DIOR', '초록', '자연', '빨강', '생명', ...</td>\n",
       "      <td>['CHRISTIAN', 'DIOR', '초록', '자연', '빨강', '생명', ...</td>\n",
       "    </tr>\n",
       "    <tr>\n",
       "      <th>1757</th>\n",
       "      <td>W</td>\n",
       "      <td>D</td>\n",
       "      <td>따로 또 같이</td>\n",
       "      <td>http://www.wkorea.com/2016/09/02/%eb%94%b0%eb%...</td>\n",
       "      <td>2016-09-02</td>\n",
       "      <td>['자수 장식 슈트, 실크 셔츠에 리본 타이를 연출한 구찌, 남성다운 검정 테일러드...</td>\n",
       "      <td>['자수', '장식', '슈트', '실크', '셔츠', '리본', '타이', '남성...</td>\n",
       "      <td>['자수', '장식', '슈트', '실크', '셔츠', '리본', '타이', '남성...</td>\n",
       "    </tr>\n",
       "    <tr>\n",
       "      <th>1758</th>\n",
       "      <td>W</td>\n",
       "      <td>D</td>\n",
       "      <td>너도 나도 베트멍</td>\n",
       "      <td>http://www.wkorea.com/2016/09/01/%eb%84%88%eb%...</td>\n",
       "      <td>2016-09-01</td>\n",
       "      <td>['리하나\\\\n나이 만28세\\\\n직업 가수, 디자이너, 패셔니스타, 배드 걸\\\\n평...</td>\n",
       "      <td>['나이', '직업', '가수', '디자이너', '패', '니스', '배드', '걸...</td>\n",
       "      <td>['나이', '직업', '가수', '디자이너', '패', '니스', '배드', '걸...</td>\n",
       "    </tr>\n",
       "  </tbody>\n",
       "</table>\n",
       "<p>1759 rows × 8 columns</p>\n",
       "</div>"
      ],
      "text/plain": [
       "     magazine brand                                        title  \\\n",
       "0           A     D                                   빈티지 쇼핑의 시대   \n",
       "1           A     D                  주식을 시작한 패션 에디터의 이야기, 나는 주주다   \n",
       "2           A     D                            거리로 나온 하이패션 슈즈들 4   \n",
       "3           A     D  차정원부터 아이린까지. 옷 잘입는 셀럽들의 사복 패션에 등장한 뉴 백은 무엇?   \n",
       "4           A     D                    DON’T CATEGORIZE ME / 유태오   \n",
       "...       ...   ...                                          ...   \n",
       "1754        W     D                                      가을의 하이킹   \n",
       "1755        W     D                                        W해시태그   \n",
       "1756        W     D                                        마법의 색   \n",
       "1757        W     D                                      따로 또 같이   \n",
       "1758        W     D                                    너도 나도 베트멍   \n",
       "\n",
       "                                                   link        date  \\\n",
       "0     http://www.allurekorea.com/2020/10/27/%eb%b9%8...  2020-10-27   \n",
       "1     http://www.allurekorea.com/2020/10/16/%ec%a3%b...  2020-10-16   \n",
       "2     http://www.allurekorea.com/2020/09/16/%eb%a6%a...  2020-09-16   \n",
       "3     http://www.allurekorea.com/2020/08/13/%ec%b0%a...  2020-08-13   \n",
       "4     http://www.allurekorea.com/2020/05/28/dont-cat...  2020-05-28   \n",
       "...                                                 ...         ...   \n",
       "1754  http://www.wkorea.com/2016/09/05/%ea%b0%80%ec%...  2016-09-05   \n",
       "1755  http://www.wkorea.com/2016/09/02/w%ed%95%b4%ec...  2016-09-02   \n",
       "1756  http://www.wkorea.com/2016/09/02/%eb%a7%88%eb%...  2016-09-02   \n",
       "1757  http://www.wkorea.com/2016/09/02/%eb%94%b0%eb%...  2016-09-02   \n",
       "1758  http://www.wkorea.com/2016/09/01/%eb%84%88%eb%...  2016-09-01   \n",
       "\n",
       "                                              word_dior  \\\n",
       "0     ['그러니 빈티지 패션은, 어쩌면 나도 좋고 너도 좋은 일이다. 당시 사랑했던, 지...   \n",
       "1     ['  요즘 들어 주식은 친구들과의 대화에서 빼놓을 수 없는 주제가 되었다. 코로나...   \n",
       "2     [\"['나이키의 조던 시리즈들 중에서도 역대급으로 평가받는 ‘에어 디올’은 부르는 ...   \n",
       "3                         ['디올 레이디 디올 디올아무르 미니백 5백만원대']   \n",
       "4     ['실크 슬리브리스와 블랙 와이드 팬츠는 김서룡 옴므. 블랙 부츠는 보테가 베네타....   \n",
       "...                                                 ...   \n",
       "1754  ['6. 주얼 장식과 앙증맞은 리본이 반전의 매력을 더하는 부츠는 디올 제품. 1백...   \n",
       "1755  ['#W뷰티콕  (뷰티 디렉터 송시은)\\\\n조회 2,023회\\\\n너무나 뜨거운 여름...   \n",
       "1756  [\"'크리스찬 디올에게 초록은 곧 ‘자연’을, 빨강은 ‘생명’을, 분홍은 ‘감미로움...   \n",
       "1757  ['자수 장식 슈트, 실크 셔츠에 리본 타이를 연출한 구찌, 남성다운 검정 테일러드...   \n",
       "1758  ['리하나\\\\n나이 만28세\\\\n직업 가수, 디자이너, 패셔니스타, 배드 걸\\\\n평...   \n",
       "\n",
       "                                                   ADFN  \\\n",
       "0     ['빈티지', '패션', '좋', '느', '좋', '당시', '사랑', '사랑',...   \n",
       "1     ['요즘', '주식', '친구', '과의', '대화', '빼놓', '주제', '코로...   \n",
       "2     ['나이', '조', '덜', '시리즈', '역대', '급', '평가', '에어',...   \n",
       "3         ['DIOR', 'LADY', 'DIOR', 'DIOR', '아무르', '미니']   \n",
       "4     ['실크', '슬리브리스', '블랙', '와이드', '팬츠', '김', '룡', '...   \n",
       "...                                                 ...   \n",
       "1754  ['얼', '장식', '앙증맞', '리본', '반전', '매력', '부츠', 'DI...   \n",
       "1755  ['W', '뷰티', '콕', '뷰티', '디렉터', '송', '시은', '조회',...   \n",
       "1756  ['CHRISTIAN', 'DIOR', '초록', '자연', '빨강', '생명', ...   \n",
       "1757  ['자수', '장식', '슈트', '실크', '셔츠', '리본', '타이', '남성...   \n",
       "1758  ['나이', '직업', '가수', '디자이너', '패', '니스', '배드', '걸...   \n",
       "\n",
       "                                                 ADFN_2  \n",
       "0     ['빈티지', '패션', '좋', '느', '좋', '당시', '사랑', '사랑',...  \n",
       "1     ['요즘', '주식', '친구', '과의', '대화', '빼놓', '주제', '코로...  \n",
       "2     ['나이', '조', '덜', '시리즈', '역대', '급', '평가', '에어',...  \n",
       "3         ['DIOR', 'LADY', 'DIOR', 'DIOR', '아무르', '미니']  \n",
       "4     ['실크', '슬리브리스', '블랙', '와이드', '팬츠', '김', '룡', '...  \n",
       "...                                                 ...  \n",
       "1754  ['얼', '장식', '앙증맞', '리본', '반전', '매력', '부츠', 'DI...  \n",
       "1755  ['W', '뷰티', '콕', '뷰티', '디렉터', '송', '시은', '조회',...  \n",
       "1756  ['CHRISTIAN', 'DIOR', '초록', '자연', '빨강', '생명', ...  \n",
       "1757  ['자수', '장식', '슈트', '실크', '셔츠', '리본', '타이', '남성...  \n",
       "1758  ['나이', '직업', '가수', '디자이너', '패', '니스', '배드', '걸...  \n",
       "\n",
       "[1759 rows x 8 columns]"
      ]
     },
     "execution_count": 11,
     "metadata": {},
     "output_type": "execute_result"
    }
   ],
   "source": [
    "mag_d"
   ]
  },
  {
   "cell_type": "code",
   "execution_count": 12,
   "metadata": {},
   "outputs": [],
   "source": [
    "mag_d['word'] = mag_d['word_dior']"
   ]
  },
  {
   "cell_type": "code",
   "execution_count": 13,
   "metadata": {},
   "outputs": [],
   "source": [
    "mag_D = mag_d[['magazine', 'brand', 'title', 'word', 'ADFN', 'ADFN_2']]"
   ]
  },
  {
   "cell_type": "code",
   "execution_count": 14,
   "metadata": {},
   "outputs": [
    {
     "data": {
      "text/plain": [
       "1759"
      ]
     },
     "execution_count": 14,
     "metadata": {},
     "output_type": "execute_result"
    }
   ],
   "source": [
    "len(mag_D)"
   ]
  },
  {
   "cell_type": "markdown",
   "metadata": {},
   "source": [
    "### 5"
   ]
  },
  {
   "cell_type": "code",
   "execution_count": 18,
   "metadata": {},
   "outputs": [],
   "source": [
    "idx5 = []\n",
    "for i in range(len(mag_D)):\n",
    "    if i % 5 == 0 :\n",
    "        idx5.append(i)"
   ]
  },
  {
   "cell_type": "code",
   "execution_count": 19,
   "metadata": {},
   "outputs": [],
   "source": [
    "mag_D5 = mag_D.loc[idx5]"
   ]
  },
  {
   "cell_type": "code",
   "execution_count": 21,
   "metadata": {},
   "outputs": [
    {
     "data": {
      "text/plain": [
       "352"
      ]
     },
     "execution_count": 21,
     "metadata": {},
     "output_type": "execute_result"
    }
   ],
   "source": [
    "len(mag_D5)"
   ]
  },
  {
   "cell_type": "code",
   "execution_count": 20,
   "metadata": {},
   "outputs": [],
   "source": [
    "mag_D5.reset_index(drop = True, inplace = True)"
   ]
  },
  {
   "cell_type": "markdown",
   "metadata": {},
   "source": [
    "### 4"
   ]
  },
  {
   "cell_type": "code",
   "execution_count": 15,
   "metadata": {},
   "outputs": [],
   "source": [
    "idx4 = []\n",
    "for i in range(len(mag_D)):\n",
    "    if i % 4 == 0 :\n",
    "        idx4.append(i)"
   ]
  },
  {
   "cell_type": "code",
   "execution_count": 16,
   "metadata": {},
   "outputs": [],
   "source": [
    "mag_D4 = mag_D.loc[idx4]"
   ]
  },
  {
   "cell_type": "code",
   "execution_count": 17,
   "metadata": {},
   "outputs": [
    {
     "data": {
      "text/plain": [
       "440"
      ]
     },
     "execution_count": 17,
     "metadata": {},
     "output_type": "execute_result"
    }
   ],
   "source": [
    "len(mag_D4)"
   ]
  },
  {
   "cell_type": "code",
   "execution_count": 95,
   "metadata": {},
   "outputs": [],
   "source": [
    "mag_D4.reset_index(drop = True, inplace = True)"
   ]
  },
  {
   "cell_type": "code",
   "execution_count": null,
   "metadata": {},
   "outputs": [],
   "source": []
  },
  {
   "cell_type": "markdown",
   "metadata": {},
   "source": [
    "## 리사"
   ]
  },
  {
   "cell_type": "markdown",
   "metadata": {},
   "source": [
    "### 리사 (유튜브 + 매거진)"
   ]
  },
  {
   "cell_type": "code",
   "execution_count": 5,
   "metadata": {},
   "outputs": [],
   "source": [
    "tot_l = pd.read_csv('./magazine/final/video_lisa_adfn_2.csv', encoding = 'utf-8', sep = '|')"
   ]
  },
  {
   "cell_type": "code",
   "execution_count": 6,
   "metadata": {},
   "outputs": [],
   "source": [
    "tot_l['word'] = tot_l['word_lisa']"
   ]
  },
  {
   "cell_type": "code",
   "execution_count": 7,
   "metadata": {},
   "outputs": [],
   "source": [
    "tot_L = tot_l[['magazine', 'brand', 'title', 'word', 'ADFN', 'ADFN_2']]"
   ]
  },
  {
   "cell_type": "code",
   "execution_count": 8,
   "metadata": {},
   "outputs": [
    {
     "data": {
      "text/plain": [
       "197"
      ]
     },
     "execution_count": 8,
     "metadata": {},
     "output_type": "execute_result"
    }
   ],
   "source": [
    "len(tot_L)"
   ]
  },
  {
   "cell_type": "markdown",
   "metadata": {},
   "source": [
    "### 디올 + 리사"
   ]
  },
  {
   "cell_type": "code",
   "execution_count": 22,
   "metadata": {},
   "outputs": [],
   "source": [
    "D5L = pd.concat([mag_D5, tot_L])"
   ]
  },
  {
   "cell_type": "code",
   "execution_count": 23,
   "metadata": {},
   "outputs": [],
   "source": [
    "D5L.reset_index(drop = True, inplace = True)"
   ]
  },
  {
   "cell_type": "code",
   "execution_count": 24,
   "metadata": {},
   "outputs": [],
   "source": [
    "D5L.to_csv('./magazine/final/D5L.csv', sep = '|', encoding = 'utf-8', index = False)"
   ]
  },
  {
   "cell_type": "code",
   "execution_count": 25,
   "metadata": {},
   "outputs": [
    {
     "data": {
      "text/plain": [
       "549"
      ]
     },
     "execution_count": 25,
     "metadata": {},
     "output_type": "execute_result"
    }
   ],
   "source": [
    "len(D5L)"
   ]
  },
  {
   "cell_type": "code",
   "execution_count": 96,
   "metadata": {},
   "outputs": [],
   "source": [
    "# D4JE = pd.concat([mag_D4, tot_JE])"
   ]
  },
  {
   "cell_type": "code",
   "execution_count": 97,
   "metadata": {},
   "outputs": [],
   "source": [
    "# D4JE.reset_index(drop = True, inplace = True)"
   ]
  },
  {
   "cell_type": "code",
   "execution_count": 98,
   "metadata": {},
   "outputs": [],
   "source": [
    "# D4JE.to_csv('./magazine/final/D4JE.csv', sep = '|', encoding = 'utf-8', index = False)"
   ]
  },
  {
   "cell_type": "code",
   "execution_count": 99,
   "metadata": {},
   "outputs": [
    {
     "data": {
      "text/plain": [
       "791"
      ]
     },
     "execution_count": 99,
     "metadata": {},
     "output_type": "execute_result"
    }
   ],
   "source": [
    "# len(D4JE)"
   ]
  },
  {
   "cell_type": "code",
   "execution_count": null,
   "metadata": {},
   "outputs": [],
   "source": []
  },
  {
   "cell_type": "markdown",
   "metadata": {},
   "source": [
    "## stopword 추가"
   ]
  },
  {
   "cell_type": "code",
   "execution_count": 53,
   "metadata": {},
   "outputs": [],
   "source": [
    "sw_df = pd.read_csv('stopwords.csv', header=None)"
   ]
  },
  {
   "cell_type": "code",
   "execution_count": 54,
   "metadata": {},
   "outputs": [],
   "source": [
    "sw_df.columns = ['stopword']"
   ]
  },
  {
   "cell_type": "code",
   "execution_count": 55,
   "metadata": {},
   "outputs": [],
   "source": [
    "stop_words = []\n",
    "for sw in sw_df['stopword']:\n",
    "    stop_words.append(sw)"
   ]
  },
  {
   "cell_type": "code",
   "execution_count": 56,
   "metadata": {},
   "outputs": [
    {
     "name": "stdout",
     "output_type": "stream",
     "text": [
      "675\n",
      "<class 'list'>\n"
     ]
    }
   ],
   "source": [
    "print(len(stop_words))\n",
    "print(type(stop_words))"
   ]
  },
  {
   "cell_type": "code",
   "execution_count": 57,
   "metadata": {},
   "outputs": [
    {
     "data": {
      "text/plain": [
       "['둘', '셋', '넷', '다섯', '여섯', '일곱', '여덟', '아홉', '령', '영']"
      ]
     },
     "execution_count": 57,
     "metadata": {},
     "output_type": "execute_result"
    }
   ],
   "source": [
    "stop_words[-10:]"
   ]
  },
  {
   "cell_type": "code",
   "execution_count": 58,
   "metadata": {},
   "outputs": [],
   "source": [
    "add_0 = ['진짜', '존나', '보고', '그냥', '카이', '이광수', '광수', '런닝맨', '❤️', '없는', '유재석', '❤', '♥', '있고', '거', \n",
    "         '내', '더', '개', '사람', '영상', '광고', '언니', '말', '뭐', '수', '생각',\n",
    "        '있는', '정말', '같은', '같음', '듯', '♡', '완전', '같아', '정도', '지금', '역시', '뭔가', '입니다', '때문', '아니라',\n",
    "         '함', '같은데', '해', '하는', '할', '넘', '한', '안', '했다', '보면', '데', '하고', '하면', '게', '해서', '봐도', \n",
    "         '한다', '된', '건', '요', '움', '임', '애', '하는거', '해도', '보는', '이제', '했는데', '하는데', '하는게', '같아요', \n",
    "         '합니다', '하지', '하게', '되는', 'I', '는', '난', '서', '도', '줄', '위', '분', '알', '은', '두', '번', '뒤',\n",
    "         '이건', '없다', '있어요', '아니고', '있어',\n",
    "        '계속', '원래', '뭘', '못', '후', '이름', '속', '욕', '옆', '하네', '아님', '그런', '된다', '있음',\n",
    "        '같', '돼', 'you', '제품', '표현', 'n', '봤는데', '건가', '나오는', '가지', '저런', '보이', '고',\n",
    "        '중', '사진', '댓글', '부분', '진심', '그녀', '보', '날', '겁나', '요즘', '앞', '워', '이유', '솔직히', '하며', '통해',\n",
    "        '모든', '항상', '전', '기자', '다시', '오늘', '↑', '이자', '대해']\n",
    "for w in add_0:\n",
    "    stop_words.append(w)"
   ]
  },
  {
   "cell_type": "code",
   "execution_count": 59,
   "metadata": {},
   "outputs": [],
   "source": [
    "add_1 = ['BLACKPINK', '제니', '지수', '로제']\n",
    "for w in add_1:\n",
    "    stop_words.append(w)"
   ]
  },
  {
   "cell_type": "code",
   "execution_count": 60,
   "metadata": {},
   "outputs": [],
   "source": [
    "add_2 = []\n",
    "for w in add_1:\n",
    "    stop_words.append(w)"
   ]
  },
  {
   "cell_type": "code",
   "execution_count": 61,
   "metadata": {},
   "outputs": [
    {
     "data": {
      "text/plain": [
       "829"
      ]
     },
     "execution_count": 61,
     "metadata": {},
     "output_type": "execute_result"
    }
   ],
   "source": [
    "len(stop_words)"
   ]
  },
  {
   "cell_type": "code",
   "execution_count": null,
   "metadata": {},
   "outputs": [],
   "source": []
  },
  {
   "cell_type": "code",
   "execution_count": 62,
   "metadata": {},
   "outputs": [
    {
     "ename": "AttributeError",
     "evalue": "Can only use .str accessor with string values!",
     "output_type": "error",
     "traceback": [
      "\u001b[1;31m---------------------------------------------------------------------------\u001b[0m",
      "\u001b[1;31mAttributeError\u001b[0m                            Traceback (most recent call last)",
      "\u001b[1;32m<ipython-input-62-af6baf8e8247>\u001b[0m in \u001b[0;36m<module>\u001b[1;34m\u001b[0m\n\u001b[1;32m----> 1\u001b[1;33m \u001b[0mD5L\u001b[0m\u001b[1;33m[\u001b[0m\u001b[1;34m'ADFN_2'\u001b[0m\u001b[1;33m]\u001b[0m \u001b[1;33m=\u001b[0m \u001b[0mD5L\u001b[0m\u001b[1;33m[\u001b[0m\u001b[1;34m'ADFN_2'\u001b[0m\u001b[1;33m]\u001b[0m\u001b[1;33m.\u001b[0m\u001b[0mstr\u001b[0m\u001b[1;33m.\u001b[0m\u001b[0mreplace\u001b[0m\u001b[1;33m(\u001b[0m\u001b[1;34m'['\u001b[0m\u001b[1;33m,\u001b[0m \u001b[1;34m''\u001b[0m\u001b[1;33m)\u001b[0m\u001b[1;33m.\u001b[0m\u001b[0mstr\u001b[0m\u001b[1;33m.\u001b[0m\u001b[0mreplace\u001b[0m\u001b[1;33m(\u001b[0m\u001b[1;34m']'\u001b[0m\u001b[1;33m,\u001b[0m \u001b[1;34m''\u001b[0m\u001b[1;33m)\u001b[0m\u001b[1;33m.\u001b[0m\u001b[0mstr\u001b[0m\u001b[1;33m.\u001b[0m\u001b[0mreplace\u001b[0m\u001b[1;33m(\u001b[0m\u001b[1;34m'\"'\u001b[0m\u001b[1;33m,\u001b[0m \u001b[1;34m''\u001b[0m\u001b[1;33m)\u001b[0m\u001b[1;33m.\u001b[0m\u001b[0mstr\u001b[0m\u001b[1;33m.\u001b[0m\u001b[0mreplace\u001b[0m\u001b[1;33m(\u001b[0m\u001b[1;34m\"'\"\u001b[0m\u001b[1;33m,\u001b[0m \u001b[1;34m\"\"\u001b[0m\u001b[1;33m)\u001b[0m\u001b[1;33m.\u001b[0m\u001b[0mstr\u001b[0m\u001b[1;33m.\u001b[0m\u001b[0msplit\u001b[0m\u001b[1;33m(\u001b[0m\u001b[1;34m', '\u001b[0m\u001b[1;33m)\u001b[0m\u001b[1;33m\u001b[0m\u001b[1;33m\u001b[0m\u001b[0m\n\u001b[0m",
      "\u001b[1;32m~\\anaconda3\\lib\\site-packages\\pandas\\core\\generic.py\u001b[0m in \u001b[0;36m__getattr__\u001b[1;34m(self, name)\u001b[0m\n\u001b[0;32m   5268\u001b[0m             \u001b[1;32mor\u001b[0m \u001b[0mname\u001b[0m \u001b[1;32min\u001b[0m \u001b[0mself\u001b[0m\u001b[1;33m.\u001b[0m\u001b[0m_accessors\u001b[0m\u001b[1;33m\u001b[0m\u001b[1;33m\u001b[0m\u001b[0m\n\u001b[0;32m   5269\u001b[0m         ):\n\u001b[1;32m-> 5270\u001b[1;33m             \u001b[1;32mreturn\u001b[0m \u001b[0mobject\u001b[0m\u001b[1;33m.\u001b[0m\u001b[0m__getattribute__\u001b[0m\u001b[1;33m(\u001b[0m\u001b[0mself\u001b[0m\u001b[1;33m,\u001b[0m \u001b[0mname\u001b[0m\u001b[1;33m)\u001b[0m\u001b[1;33m\u001b[0m\u001b[1;33m\u001b[0m\u001b[0m\n\u001b[0m\u001b[0;32m   5271\u001b[0m         \u001b[1;32melse\u001b[0m\u001b[1;33m:\u001b[0m\u001b[1;33m\u001b[0m\u001b[1;33m\u001b[0m\u001b[0m\n\u001b[0;32m   5272\u001b[0m             \u001b[1;32mif\u001b[0m \u001b[0mself\u001b[0m\u001b[1;33m.\u001b[0m\u001b[0m_info_axis\u001b[0m\u001b[1;33m.\u001b[0m\u001b[0m_can_hold_identifiers_and_holds_name\u001b[0m\u001b[1;33m(\u001b[0m\u001b[0mname\u001b[0m\u001b[1;33m)\u001b[0m\u001b[1;33m:\u001b[0m\u001b[1;33m\u001b[0m\u001b[1;33m\u001b[0m\u001b[0m\n",
      "\u001b[1;32m~\\anaconda3\\lib\\site-packages\\pandas\\core\\accessor.py\u001b[0m in \u001b[0;36m__get__\u001b[1;34m(self, obj, cls)\u001b[0m\n\u001b[0;32m    185\u001b[0m             \u001b[1;31m# we're accessing the attribute of the class, i.e., Dataset.geo\u001b[0m\u001b[1;33m\u001b[0m\u001b[1;33m\u001b[0m\u001b[1;33m\u001b[0m\u001b[0m\n\u001b[0;32m    186\u001b[0m             \u001b[1;32mreturn\u001b[0m \u001b[0mself\u001b[0m\u001b[1;33m.\u001b[0m\u001b[0m_accessor\u001b[0m\u001b[1;33m\u001b[0m\u001b[1;33m\u001b[0m\u001b[0m\n\u001b[1;32m--> 187\u001b[1;33m         \u001b[0maccessor_obj\u001b[0m \u001b[1;33m=\u001b[0m \u001b[0mself\u001b[0m\u001b[1;33m.\u001b[0m\u001b[0m_accessor\u001b[0m\u001b[1;33m(\u001b[0m\u001b[0mobj\u001b[0m\u001b[1;33m)\u001b[0m\u001b[1;33m\u001b[0m\u001b[1;33m\u001b[0m\u001b[0m\n\u001b[0m\u001b[0;32m    188\u001b[0m         \u001b[1;31m# Replace the property with the accessor object. Inspired by:\u001b[0m\u001b[1;33m\u001b[0m\u001b[1;33m\u001b[0m\u001b[1;33m\u001b[0m\u001b[0m\n\u001b[0;32m    189\u001b[0m         \u001b[1;31m# http://www.pydanny.com/cached-property.html\u001b[0m\u001b[1;33m\u001b[0m\u001b[1;33m\u001b[0m\u001b[1;33m\u001b[0m\u001b[0m\n",
      "\u001b[1;32m~\\anaconda3\\lib\\site-packages\\pandas\\core\\strings.py\u001b[0m in \u001b[0;36m__init__\u001b[1;34m(self, data)\u001b[0m\n\u001b[0;32m   2037\u001b[0m \u001b[1;33m\u001b[0m\u001b[0m\n\u001b[0;32m   2038\u001b[0m     \u001b[1;32mdef\u001b[0m \u001b[0m__init__\u001b[0m\u001b[1;33m(\u001b[0m\u001b[0mself\u001b[0m\u001b[1;33m,\u001b[0m \u001b[0mdata\u001b[0m\u001b[1;33m)\u001b[0m\u001b[1;33m:\u001b[0m\u001b[1;33m\u001b[0m\u001b[1;33m\u001b[0m\u001b[0m\n\u001b[1;32m-> 2039\u001b[1;33m         \u001b[0mself\u001b[0m\u001b[1;33m.\u001b[0m\u001b[0m_inferred_dtype\u001b[0m \u001b[1;33m=\u001b[0m \u001b[0mself\u001b[0m\u001b[1;33m.\u001b[0m\u001b[0m_validate\u001b[0m\u001b[1;33m(\u001b[0m\u001b[0mdata\u001b[0m\u001b[1;33m)\u001b[0m\u001b[1;33m\u001b[0m\u001b[1;33m\u001b[0m\u001b[0m\n\u001b[0m\u001b[0;32m   2040\u001b[0m         \u001b[0mself\u001b[0m\u001b[1;33m.\u001b[0m\u001b[0m_is_categorical\u001b[0m \u001b[1;33m=\u001b[0m \u001b[0mis_categorical_dtype\u001b[0m\u001b[1;33m(\u001b[0m\u001b[0mdata\u001b[0m\u001b[1;33m)\u001b[0m\u001b[1;33m\u001b[0m\u001b[1;33m\u001b[0m\u001b[0m\n\u001b[0;32m   2041\u001b[0m         \u001b[0mself\u001b[0m\u001b[1;33m.\u001b[0m\u001b[0m_is_string\u001b[0m \u001b[1;33m=\u001b[0m \u001b[0mdata\u001b[0m\u001b[1;33m.\u001b[0m\u001b[0mdtype\u001b[0m\u001b[1;33m.\u001b[0m\u001b[0mname\u001b[0m \u001b[1;33m==\u001b[0m \u001b[1;34m\"string\"\u001b[0m\u001b[1;33m\u001b[0m\u001b[1;33m\u001b[0m\u001b[0m\n",
      "\u001b[1;32m~\\anaconda3\\lib\\site-packages\\pandas\\core\\strings.py\u001b[0m in \u001b[0;36m_validate\u001b[1;34m(data)\u001b[0m\n\u001b[0;32m   2094\u001b[0m \u001b[1;33m\u001b[0m\u001b[0m\n\u001b[0;32m   2095\u001b[0m         \u001b[1;32mif\u001b[0m \u001b[0minferred_dtype\u001b[0m \u001b[1;32mnot\u001b[0m \u001b[1;32min\u001b[0m \u001b[0mallowed_types\u001b[0m\u001b[1;33m:\u001b[0m\u001b[1;33m\u001b[0m\u001b[1;33m\u001b[0m\u001b[0m\n\u001b[1;32m-> 2096\u001b[1;33m             \u001b[1;32mraise\u001b[0m \u001b[0mAttributeError\u001b[0m\u001b[1;33m(\u001b[0m\u001b[1;34m\"Can only use .str accessor with string values!\"\u001b[0m\u001b[1;33m)\u001b[0m\u001b[1;33m\u001b[0m\u001b[1;33m\u001b[0m\u001b[0m\n\u001b[0m\u001b[0;32m   2097\u001b[0m         \u001b[1;32mreturn\u001b[0m \u001b[0minferred_dtype\u001b[0m\u001b[1;33m\u001b[0m\u001b[1;33m\u001b[0m\u001b[0m\n\u001b[0;32m   2098\u001b[0m \u001b[1;33m\u001b[0m\u001b[0m\n",
      "\u001b[1;31mAttributeError\u001b[0m: Can only use .str accessor with string values!"
     ]
    }
   ],
   "source": [
    "D5L['ADFN_2'] = D5L['ADFN_2'].str.replace('[', '').str.replace(']', '').str.replace('\"', '').str.replace(\"'\", \"\").str.split(', ')"
   ]
  },
  {
   "cell_type": "code",
   "execution_count": 63,
   "metadata": {},
   "outputs": [],
   "source": [
    "noun_adj_list = []\n",
    "for i in range(len(D5L)):\n",
    "    for word in D5L.loc[i, 'ADFN_2']:\n",
    "        if word not in stop_words:\n",
    "            noun_adj_list.append(word)"
   ]
  },
  {
   "cell_type": "code",
   "execution_count": 64,
   "metadata": {},
   "outputs": [
    {
     "name": "stdout",
     "output_type": "stream",
     "text": [
      "[('리사', 3570), ('DIOR', 952), ('예쁘다', 676), ('귀엽다', 543), ('춤', 483), ('패션', 380), ('사랑', 354), ('컬렉션', 295), ('랩', 279), ('한국', 271), ('영어', 248), ('노래', 227), ('무대', 226), ('멤버', 218), ('얼굴', 211), ('브랜드', 210), ('잘', 206), ('매력', 191), ('룩', 186), ('아이돌', 178), ('중국', 175), ('스타일', 174), ('컬러', 173), ('태국', 170), ('드레스', 163), ('쇼', 163), ('느낌', 159), ('한국어', 155), ('모델', 150), ('블랙', 147), ('한국인', 146), ('표정', 134), ('비율', 133), ('여성', 130), ('백', 129), ('멋있다', 129), ('전소민', 129), ('시즌', 126), ('공유', 126), ('실력', 124), ('눈', 122), ('디자이너', 120), ('재킷', 119), ('티', 118), ('외국인', 117), ('여자', 116), ('팬', 116), ('모습', 113), ('파리', 112), ('하우스', 109), ('디렉터', 109), ('장식', 108), ('인기', 107), ('머리', 106), ('세계', 104), ('최고', 103), ('봄', 102), ('MARIA', 101), ('아이템', 101), ('발음', 101), ('걸', 98), ('SADDLE', 97), ('데님', 96), ('양세찬', 96), ('팬츠', 95), ('스타', 93), ('처음', 89), ('연습생', 88), ('DESIGN', 87), ('데뷔', 86), ('호랑이', 86), ('스커트', 85), ('그룹', 83), ('한편', 82), ('참석', 81), ('제일', 81), ('선택', 80), ('예능', 80), ('영감', 79), ('여름', 79), ('완성', 77), ('옷', 76), ('화이트', 76), ('미국', 75), ('프로', 74), ('가장', 74), ('라인', 73), ('포인트', 73), ('다리', 73), ('소재', 71), ('CELINE', 71), ('분위기', 71), ('레드', 70), ('활동', 69), ('앞머리', 69), ('공개', 68), ('인형', 68), ('좋은', 68), ('단발', 67), ('걸그룹', 67), ('태국인', 67), ('외국', 66), ('노력', 65), ('코트', 63), ('카리스마', 63), ('좋', 62), ('반', 62), ('CREATIVE', 62), ('CHRISTIAN', 62), ('YG', 62), ('핑크', 61), ('COUTURE', 61), ('대박', 61), ('좋다', 61), ('아티스트', 60), ('짱', 60), ('톱', 59), ('화보', 59), ('아는', 59), ('쌤', 59), ('메이크업', 58), ('일본', 58), ('한국말', 58), ('택시', 58), ('티셔츠', 57), ('자체', 56), ('스타일링', 56), ('사실', 56), ('해외', 56), ('간지', 56), ('선생님', 56), ('나도', 55), ('HOMME', 55), ('촬영', 55), ('우리나라', 55), ('럭셔리', 54), ('JONES', 54), ('프랑스', 54), ('컴백', 54), ('목소리', 53), ('착용', 53), ('배', 53), ('명', 53), ('썸네일', 53), ('가을', 52), ('로고', 52), ('프라다', 52), ('협업', 51), ('점', 51), ('형', 51), ('탑', 51), ('음악', 51), ('좋아요', 51), ('매치', 51), ('이미지', 50), ('작업', 50), ('마지막', 50), ('민', 50), ('클래식', 50), ('KIM', 50), ('성격', 50), ('남자', 50), ('미쳤다', 50), ('가사', 50), ('연습', 50), ('작품', 49), ('시크', 49), ('의상', 49), ('세상', 49), ('자리', 49), ('새롭', 48), ('문화', 48), ('슈트', 48), ('젤', 48), ('a', 48), ('콘서트', 48), ('부츠', 47), ('셔츠', 47), ('패턴', 47), ('댄스', 47), ('메인', 47), ('춤선', 47), ('대표', 46), ('마음', 46), ('하다', 46), ('아트', 46), ('캠페인', 46), ('한번', 46), ('가수', 46), ('언어', 46), ('화장', 45), ('관심', 45), ('나라', 45), ('방송', 45), ('개멋', 45), ('멋있어', 45), ('유행', 44), ('모자', 44), ('차', 44), ('뉴욕', 44)]\n"
     ]
    }
   ],
   "source": [
    "word = Counter(noun_adj_list)\n",
    "print(word.most_common(200))"
   ]
  },
  {
   "cell_type": "code",
   "execution_count": 65,
   "metadata": {},
   "outputs": [],
   "source": [
    "count = Counter(noun_adj_list)"
   ]
  },
  {
   "cell_type": "code",
   "execution_count": 66,
   "metadata": {},
   "outputs": [
    {
     "name": "stdout",
     "output_type": "stream",
     "text": [
      "('리사', 3570)\n",
      "('DIOR', 952)\n",
      "('예쁘다', 676)\n",
      "('귀엽다', 543)\n",
      "('춤', 483)\n",
      "('패션', 380)\n",
      "('사랑', 354)\n",
      "('컬렉션', 295)\n",
      "('랩', 279)\n",
      "('한국', 271)\n",
      "('영어', 248)\n",
      "('노래', 227)\n",
      "('무대', 226)\n",
      "('멤버', 218)\n",
      "('얼굴', 211)\n",
      "('브랜드', 210)\n",
      "('잘', 206)\n",
      "('매력', 191)\n",
      "('룩', 186)\n",
      "('아이돌', 178)\n",
      "('중국', 175)\n",
      "('스타일', 174)\n",
      "('컬러', 173)\n",
      "('태국', 170)\n",
      "('드레스', 163)\n",
      "('쇼', 163)\n",
      "('느낌', 159)\n",
      "('한국어', 155)\n",
      "('모델', 150)\n",
      "('블랙', 147)\n",
      "('한국인', 146)\n",
      "('표정', 134)\n",
      "('비율', 133)\n",
      "('여성', 130)\n",
      "('백', 129)\n",
      "('멋있다', 129)\n",
      "('전소민', 129)\n",
      "('시즌', 126)\n",
      "('공유', 126)\n",
      "('실력', 124)\n",
      "('눈', 122)\n",
      "('디자이너', 120)\n",
      "('재킷', 119)\n",
      "('티', 118)\n",
      "('외국인', 117)\n",
      "('여자', 116)\n",
      "('팬', 116)\n",
      "('모습', 113)\n",
      "('파리', 112)\n",
      "('하우스', 109)\n",
      "('디렉터', 109)\n",
      "('장식', 108)\n",
      "('인기', 107)\n",
      "('머리', 106)\n",
      "('세계', 104)\n",
      "('최고', 103)\n",
      "('봄', 102)\n",
      "('MARIA', 101)\n",
      "('아이템', 101)\n",
      "('발음', 101)\n",
      "('걸', 98)\n",
      "('SADDLE', 97)\n",
      "('데님', 96)\n",
      "('양세찬', 96)\n",
      "('팬츠', 95)\n",
      "('스타', 93)\n",
      "('처음', 89)\n",
      "('연습생', 88)\n",
      "('DESIGN', 87)\n",
      "('데뷔', 86)\n",
      "('호랑이', 86)\n",
      "('스커트', 85)\n",
      "('그룹', 83)\n",
      "('한편', 82)\n",
      "('참석', 81)\n",
      "('제일', 81)\n",
      "('선택', 80)\n",
      "('예능', 80)\n",
      "('영감', 79)\n",
      "('여름', 79)\n",
      "('완성', 77)\n",
      "('옷', 76)\n",
      "('화이트', 76)\n",
      "('미국', 75)\n",
      "('프로', 74)\n",
      "('가장', 74)\n",
      "('라인', 73)\n",
      "('포인트', 73)\n",
      "('다리', 73)\n",
      "('소재', 71)\n",
      "('CELINE', 71)\n",
      "('분위기', 71)\n",
      "('레드', 70)\n",
      "('활동', 69)\n",
      "('앞머리', 69)\n",
      "('공개', 68)\n",
      "('인형', 68)\n",
      "('좋은', 68)\n",
      "('단발', 67)\n",
      "('걸그룹', 67)\n",
      "('태국인', 67)\n",
      "('외국', 66)\n",
      "('노력', 65)\n",
      "('코트', 63)\n",
      "('카리스마', 63)\n",
      "('좋', 62)\n",
      "('반', 62)\n",
      "('CREATIVE', 62)\n",
      "('CHRISTIAN', 62)\n",
      "('YG', 62)\n",
      "('핑크', 61)\n",
      "('COUTURE', 61)\n",
      "('대박', 61)\n",
      "('좋다', 61)\n",
      "('아티스트', 60)\n",
      "('짱', 60)\n",
      "('톱', 59)\n",
      "('화보', 59)\n",
      "('아는', 59)\n",
      "('쌤', 59)\n",
      "('메이크업', 58)\n",
      "('일본', 58)\n",
      "('한국말', 58)\n",
      "('택시', 58)\n",
      "('티셔츠', 57)\n",
      "('자체', 56)\n",
      "('스타일링', 56)\n",
      "('사실', 56)\n",
      "('해외', 56)\n",
      "('간지', 56)\n",
      "('선생님', 56)\n",
      "('나도', 55)\n",
      "('HOMME', 55)\n",
      "('촬영', 55)\n",
      "('우리나라', 55)\n",
      "('럭셔리', 54)\n",
      "('JONES', 54)\n",
      "('프랑스', 54)\n",
      "('컴백', 54)\n",
      "('목소리', 53)\n",
      "('착용', 53)\n",
      "('배', 53)\n",
      "('명', 53)\n",
      "('썸네일', 53)\n",
      "('가을', 52)\n",
      "('로고', 52)\n",
      "('프라다', 52)\n",
      "('협업', 51)\n",
      "('점', 51)\n",
      "('형', 51)\n",
      "('탑', 51)\n",
      "('음악', 51)\n",
      "('좋아요', 51)\n",
      "('매치', 51)\n",
      "('이미지', 50)\n",
      "('작업', 50)\n",
      "('마지막', 50)\n",
      "('민', 50)\n",
      "('클래식', 50)\n",
      "('KIM', 50)\n",
      "('성격', 50)\n",
      "('남자', 50)\n",
      "('미쳤다', 50)\n",
      "('가사', 50)\n",
      "('연습', 50)\n",
      "('작품', 49)\n",
      "('시크', 49)\n",
      "('의상', 49)\n",
      "('세상', 49)\n",
      "('자리', 49)\n",
      "('새롭', 48)\n",
      "('문화', 48)\n",
      "('슈트', 48)\n",
      "('젤', 48)\n",
      "('a', 48)\n",
      "('콘서트', 48)\n",
      "('부츠', 47)\n",
      "('셔츠', 47)\n",
      "('패턴', 47)\n",
      "('댄스', 47)\n",
      "('메인', 47)\n",
      "('춤선', 47)\n",
      "('대표', 46)\n",
      "('마음', 46)\n",
      "('하다', 46)\n",
      "('아트', 46)\n",
      "('캠페인', 46)\n",
      "('한번', 46)\n",
      "('가수', 46)\n",
      "('언어', 46)\n",
      "('화장', 45)\n",
      "('관심', 45)\n",
      "('나라', 45)\n",
      "('방송', 45)\n",
      "('개멋', 45)\n",
      "('멋있어', 45)\n",
      "('유행', 44)\n",
      "('모자', 44)\n",
      "('차', 44)\n",
      "('뉴욕', 44)\n",
      "('영국', 44)\n",
      "('배우', 44)\n",
      "('LAURENT', 44)\n",
      "('전시', 44)\n",
      "('손', 44)\n",
      "('남성복', 44)\n",
      "('태국어', 44)\n",
      "('예정', 43)\n",
      "('원피스', 43)\n",
      "('지', 43)\n",
      "('런웨이', 43)\n",
      "('장', 43)\n",
      "('사기', 43)\n",
      "('the', 43)\n",
      "('사용', 42)\n",
      "('가방', 42)\n",
      "('실루엣', 42)\n",
      "('유명', 42)\n",
      "('LADY', 42)\n",
      "('커', 42)\n",
      "('버전', 42)\n",
      "('부', 42)\n",
      "('중국어', 42)\n",
      "('통', 41)\n",
      "('SPORTY', 41)\n",
      "('순간', 41)\n",
      "('패션쇼', 41)\n",
      "('제목', 41)\n",
      "('별', 41)\n",
      "('확실히', 41)\n",
      "('와중', 41)\n",
      "('많은', 41)\n",
      "('사이', 40)\n",
      "('꽃', 40)\n",
      "('A', 40)\n",
      "('라이브', 40)\n",
      "('축하', 40)\n",
      "('미친', 40)\n",
      "('회수', 40)\n",
      "('영화', 39)\n",
      "('기억', 39)\n",
      "('가죽', 39)\n",
      "('프린트', 39)\n",
      "('발', 39)\n",
      "('달', 39)\n",
      "('크리스', 39)\n",
      "('수준', 39)\n",
      "('댄서', 39)\n",
      "('제발', 39)\n",
      "('곡', 39)\n",
      "('형님', 39)\n",
      "('하이', 38)\n",
      "('트렌드', 38)\n",
      "('형태', 38)\n",
      "('리스트', 38)\n",
      "('INSTAGRAM', 38)\n",
      "('골드', 38)\n",
      "('프로그램', 38)\n",
      "('웃기', 38)\n",
      "('살', 37)\n",
      "('예술', 37)\n",
      "('트', 37)\n",
      "('캐', 37)\n",
      "('시선', 37)\n",
      "('젠', 37)\n",
      "('니트', 37)\n",
      "('겨울', 37)\n",
      "('헤어', 37)\n",
      "('힘', 37)\n",
      "('친구', 37)\n",
      "('열리', 37)\n",
      "('매우', 37)\n",
      "('찰떡', 37)\n",
      "('레전드', 37)\n",
      "('따르', 36)\n",
      "('미니', 36)\n",
      "('액세서리', 36)\n",
      "('롱', 36)\n",
      "('뷰티', 36)\n",
      "('INFLUENCER', 36)\n",
      "('카메라', 36)\n",
      "('유닛', 36)\n",
      "('개인', 36)\n",
      "('솔로', 36)\n",
      "('새', 35)\n",
      "('지난해', 35)\n",
      "('세', 35)\n",
      "('엘', 35)\n",
      "('캐주얼', 35)\n",
      "('스트리트', 35)\n",
      "('남', 35)\n",
      "('출국', 35)\n",
      "('있습니다', 35)\n",
      "('보니', 35)\n",
      "('나나', 35)\n",
      "('좋겠다', 35)\n",
      "('좋음', 35)\n",
      "('입덕', 35)\n",
      "('연예인', 35)\n",
      "('보임', 35)\n",
      "('개국', 35)\n",
      "('무드', 34)\n",
      "('블', 34)\n",
      "('거리', 34)\n",
      "('루', 34)\n",
      "('얘기', 34)\n",
      "('마무리', 34)\n",
      "('차이', 34)\n",
      "('집중', 34)\n",
      "('외모', 34)\n",
      "('좋아하는', 34)\n",
      "('to', 34)\n",
      "('리', 34)\n",
      "('입', 34)\n",
      "('고마츠', 34)\n",
      "('당시', 33)\n",
      "('길', 33)\n",
      "('스니커즈', 33)\n",
      "('해석', 33)\n",
      "('진', 33)\n",
      "('W', 33)\n",
      "('톤', 33)\n",
      "('곳', 33)\n",
      "('주목', 33)\n",
      "('', 33)\n",
      "('검색', 33)\n",
      "('공연', 33)\n",
      "('글', 33)\n",
      "('래퍼', 33)\n",
      "('and', 33)\n",
      "('아닌데', 33)\n",
      "('말투', 33)\n",
      "('연출', 33)\n",
      "('올해', 32)\n",
      "('얼', 32)\n",
      "('파', 32)\n",
      "('평소', 32)\n",
      "('누', 32)\n",
      "('매장', 32)\n",
      "('화', 32)\n",
      "('패', 32)\n",
      "('활용', 32)\n",
      "('천재', 32)\n",
      "('월드', 32)\n",
      "('글로벌', 32)\n",
      "('앨범', 32)\n",
      "('소리', 32)\n",
      "('노', 32)\n",
      "('있는데', 32)\n",
      "('좋고', 32)\n",
      "('웃겨', 32)\n",
      "('화제', 31)\n",
      "('마르', 31)\n",
      "('힐', 31)\n",
      "('터', 31)\n",
      "('남성', 31)\n",
      "('본', 31)\n",
      "('특징', 31)\n",
      "('존재', 31)\n",
      "('끝', 31)\n",
      "('아이콘', 31)\n",
      "('돈', 31)\n",
      "('선', 31)\n",
      "('진행', 31)\n",
      "('크루즈', 31)\n",
      "('소화', 31)\n",
      "('와이지', 31)\n",
      "('들어', 31)\n",
      "('보기', 31)\n",
      "('얘', 31)\n",
      "('입은', 31)\n",
      "('곤', 31)\n",
      "('피스', 30)\n",
      "('런', 30)\n",
      "('MAISON', 30)\n",
      "('소녀', 30)\n",
      "('웨어', 30)\n",
      "('시대', 30)\n",
      "('완벽', 30)\n",
      "('출신', 30)\n",
      "('탄생', 30)\n",
      "('이비', 30)\n",
      "('현지', 30)\n",
      "('공식', 30)\n",
      "('HEDI', 30)\n",
      "('SLIMANE', 30)\n",
      "('패션계', 30)\n",
      "('몸매', 30)\n",
      "('공항', 30)\n",
      "('첫', 30)\n",
      "('큰', 30)\n",
      "('누가', 30)\n",
      "('키', 30)\n",
      "('미모', 30)\n",
      "('동남아', 30)\n",
      "('FW', 30)\n",
      "('강조', 29)\n",
      "('의미', 29)\n",
      "('앤', 29)\n",
      "('립', 29)\n",
      "('모양', 29)\n",
      "('라프', 29)\n",
      "('시몬스', 29)\n",
      "('뉴', 29)\n",
      "('역사', 29)\n",
      "('메', 29)\n",
      "('투어', 29)\n",
      "('자랑', 29)\n",
      "('기분', 29)\n",
      "('센스', 29)\n",
      "('천사', 29)\n",
      "('so', 29)\n",
      "('is', 29)\n",
      "('아주', 29)\n",
      "('시작', 29)\n",
      "('인', 29)\n",
      "('대', 29)\n",
      "('백은', 28)\n",
      "('현재', 28)\n",
      "('이후', 28)\n",
      "('스키', 28)\n",
      "('즘', 28)\n",
      "('아래', 28)\n",
      "('적인', 28)\n",
      "('이탈리아', 28)\n",
      "('스', 28)\n",
      "('스틱', 28)\n",
      "('고급', 28)\n",
      "('링', 28)\n",
      "('감', 28)\n",
      "('사이즈', 28)\n",
      "('COM', 28)\n",
      "('컨셉', 28)\n",
      "('매니저', 28)\n",
      "('별로', 28)\n",
      "('웃음', 28)\n",
      "('김영철', 28)\n",
      "('빈티지', 27)\n",
      "('시절', 27)\n",
      "('자수', 27)\n",
      "('VALENTINO', 27)\n",
      "('얻', 27)\n",
      "('발표', 27)\n",
      "('파트', 27)\n",
      "('즐기', 27)\n",
      "('푸', 27)\n",
      "('색', 27)\n",
      "('어깨', 27)\n",
      "('자연', 27)\n",
      "('JEWERLY', 27)\n",
      "('비주얼', 27)\n",
      "('힙', 27)\n",
      "('최초', 27)\n",
      "('F', 27)\n",
      "('기', 27)\n",
      "('꿈', 27)\n",
      "('K', 27)\n",
      "('몸', 27)\n",
      "('귀엽', 27)\n",
      "('서로', 27)\n",
      "('한글', 27)\n",
      "('아시', 27)\n",
      "('없어', 27)\n",
      "('다양한', 27)\n",
      "('높', 26)\n",
      "('비통', 26)\n",
      "('제작', 26)\n",
      "('출시', 26)\n",
      "('런던', 26)\n",
      "('오르', 26)\n",
      "('경우', 26)\n",
      "('장인', 26)\n",
      "('약', 26)\n",
      "('수가', 26)\n",
      "('구성', 26)\n",
      "('플', 26)\n",
      "('까', 26)\n",
      "('덕분', 26)\n",
      "('동시', 26)\n",
      "('있을', 26)\n",
      "('커버', 26)\n",
      "('이야기', 26)\n",
      "('핫', 26)\n",
      "('마이클', 26)\n",
      "('끌', 26)\n",
      "('단어', 26)\n",
      "('세대', 26)\n",
      "('치루이', 26)\n",
      "('볼', 26)\n",
      "('끼', 26)\n",
      "('대한', 26)\n",
      "('최애', 26)\n",
      "('썸넬', 26)\n",
      "('싶다', 26)\n",
      "('쩐다', 26)\n",
      "('꿍꿍', 26)\n",
      "('지난', 26)\n",
      "('기도', 25)\n",
      "('쓰', 25)\n",
      "('셀', 25)\n"
     ]
    }
   ],
   "source": [
    "word_list = count.most_common(500)\n",
    "for v in word_list:\n",
    "    print(v)"
   ]
  },
  {
   "cell_type": "code",
   "execution_count": 67,
   "metadata": {},
   "outputs": [],
   "source": [
    "top500 = pd.DataFrame(word_list)"
   ]
  },
  {
   "cell_type": "code",
   "execution_count": 68,
   "metadata": {},
   "outputs": [],
   "source": [
    "top500.columns = ['word', 'count']"
   ]
  },
  {
   "cell_type": "code",
   "execution_count": 69,
   "metadata": {},
   "outputs": [],
   "source": [
    "top500.to_csv('./D5L_top500.csv', sep='|', encoding = 'utf-8', index = False)"
   ]
  },
  {
   "cell_type": "markdown",
   "metadata": {},
   "source": [
    "## 워드클라우드 만들기"
   ]
  },
  {
   "cell_type": "code",
   "execution_count": 70,
   "metadata": {},
   "outputs": [],
   "source": [
    "import matplotlib.pyplot as plt"
   ]
  },
  {
   "cell_type": "code",
   "execution_count": 71,
   "metadata": {},
   "outputs": [
    {
     "name": "stdout",
     "output_type": "stream",
     "text": [
      "Malgun Gothic C:\\WINDOWS\\Fonts\\malgun.ttf\n",
      "Yu Gothic C:\\WINDOWS\\Fonts\\YuGothB.ttc\n",
      "HYGothic-Extra C:\\WINDOWS\\Fonts\\H2GTRE.TTF\n",
      "Franklin Gothic Medium C:\\WINDOWS\\Fonts\\framdit.ttf\n",
      "Malgun Gothic C:\\Windows\\Fonts\\malgunbd.ttf\n",
      "Yu Gothic C:\\Windows\\Fonts\\YuGothL.ttc\n",
      "Century Gothic C:\\Windows\\Fonts\\GOTHIC.TTF\n",
      "Yu Gothic C:\\Windows\\Fonts\\YuGothM.ttc\n",
      "Yu Gothic C:\\WINDOWS\\Fonts\\YuGothR.ttc\n",
      "MS Gothic C:\\WINDOWS\\Fonts\\msgothic.ttc\n",
      "HYGothic-Medium C:\\WINDOWS\\Fonts\\H2GTRM.TTF\n",
      "Malgun Gothic C:\\WINDOWS\\Fonts\\malgunsl.ttf\n",
      "Century Gothic C:\\Windows\\Fonts\\GOTHICI.TTF\n",
      "Century Gothic C:\\WINDOWS\\Fonts\\GOTHICBI.TTF\n",
      "Century Gothic C:\\Windows\\Fonts\\GOTHICB.TTF\n",
      "Franklin Gothic Medium C:\\WINDOWS\\Fonts\\framd.ttf\n"
     ]
    }
   ],
   "source": [
    "import matplotlib.font_manager as fm\n",
    "\n",
    "# 이용 가능한 폰트 중 '고딕'만 선별\n",
    "for font in fm.fontManager.ttflist:\n",
    "    if 'Gothic' in font.name:\n",
    "        print(font.name, font.fname)"
   ]
  },
  {
   "cell_type": "code",
   "execution_count": 72,
   "metadata": {},
   "outputs": [],
   "source": [
    "font_path = 'C:\\WINDOWS\\Fonts\\malgun.ttf'"
   ]
  },
  {
   "cell_type": "markdown",
   "metadata": {},
   "source": [
    "### 워드클라우드 그리기"
   ]
  },
  {
   "cell_type": "code",
   "execution_count": 73,
   "metadata": {},
   "outputs": [],
   "source": [
    "from wordcloud import WordCloud"
   ]
  },
  {
   "cell_type": "code",
   "execution_count": 74,
   "metadata": {},
   "outputs": [],
   "source": [
    "wc = WordCloud(font_path=font_path, background_color=\"white\", width=600, height=400)"
   ]
  },
  {
   "cell_type": "code",
   "execution_count": 75,
   "metadata": {},
   "outputs": [
    {
     "data": {
      "image/png": "[encoded data removed]",
      "text/plain": [
       "<Figure size 432x288 with 1 Axes>"
      ]
     },
     "metadata": {
      "needs_background": "light"
     },
     "output_type": "display_data"
    },
    {
     "data": {
      "text/plain": [
       "<wordcloud.wordcloud.WordCloud at 0x1eff5b459c8>"
      ]
     },
     "execution_count": 75,
     "metadata": {},
     "output_type": "execute_result"
    }
   ],
   "source": [
    "wc.generate_from_frequencies(dict(word_list))\n",
    "\n",
    "plt.imshow(wc) \n",
    "plt.axis('off') \n",
    "plt.show()\n",
    "\n",
    "\n",
    "wc.to_file('wc_D5L_top500.png')"
   ]
  },
  {
   "cell_type": "code",
   "execution_count": 76,
   "metadata": {},
   "outputs": [],
   "source": [
    "D5L.to_csv('./magazine/final/D5L_adfn_2.csv', sep='|', encoding = 'utf-8', index = False)"
   ]
  },
  {
   "cell_type": "code",
   "execution_count": null,
   "metadata": {},
   "outputs": [],
   "source": []
  },
  {
   "cell_type": "code",
   "execution_count": null,
   "metadata": {},
   "outputs": [],
   "source": []
  },
  {
   "cell_type": "code",
   "execution_count": null,
   "metadata": {},
   "outputs": [],
   "source": []
  }
 ],
 "metadata": {
  "kernelspec": {
   "display_name": "Python 3",
   "language": "python",
   "name": "python3"
  },
  "language_info": {
   "codemirror_mode": {
    "name": "ipython",
    "version": 3
   },
   "file_extension": ".py",
   "mimetype": "text/x-python",
   "name": "python",
   "nbconvert_exporter": "python",
   "pygments_lexer": "ipython3",
   "version": "3.7.6"
  }
 },
 "nbformat": 4,
 "nbformat_minor": 4
}
